{
 "cells": [
  {
   "cell_type": "markdown",
   "metadata": {},
   "source": [
    "# Author: Стурейко Игорь\n",
    "## Project: Geekbrains.Linalg\n",
    "## Lesson 03 - Линейные преобразования\n",
    "## Date: 2020-08-09"
   ]
  },
  {
   "cell_type": "markdown",
   "metadata": {},
   "source": [
    "__1.__ Найти собственные векторы и собственные значения для линейного оператора, заданного матрицей\n",
    "\n",
    "$$A=\\begin{pmatrix}\n",
    "-1 & -6\\\\ \n",
    "2 & 6\n",
    "\\end{pmatrix}.$$\n"
   ]
  },
  {
   "cell_type": "markdown",
   "metadata": {},
   "source": [
    "$\\begin{vmatrix}\n",
    "-1-\\lambda & -6 \\\\\n",
    "2 & 6 - \\lambda\n",
    "\\end{vmatrix} = (-1-\\lambda)\\cdot(6-\\lambda) + 12 = -6+\\lambda - 6\\lambda + \\lambda^2 + 12 = \\lambda^2 - 5\\lambda + 6 = 0$"
   ]
  },
  {
   "cell_type": "markdown",
   "metadata": {},
   "source": [
    "Собственные значения: $\\lambda_1 = 3, \\lambda_2 = 2$"
   ]
  },
  {
   "cell_type": "markdown",
   "metadata": {},
   "source": [
    "$\\begin{pmatrix}\n",
    "-1 & -6\\\\ \n",
    "2 & 6\n",
    "\\end{pmatrix}\n",
    "\\begin{pmatrix}\n",
    "x_{1}\\\\ \n",
    "x_{2}\n",
    "\\end{pmatrix}=\n",
    "\\lambda_{12}\n",
    "\\begin{pmatrix}\n",
    "x_{1}\\\\ \n",
    "x_{2}\n",
    "\\end{pmatrix}$"
   ]
  },
  {
   "cell_type": "markdown",
   "metadata": {},
   "source": [
    "$\\begin{cases}\n",
    "-x_{1}-6x_{2} = 3x_1, \\\\\n",
    "2 x_{1} + 6 x_{2} = 3 x_2;\n",
    "\\end{cases} \\Rightarrow \\begin{cases}\n",
    "4x_1+6x_2=0,\\\\\n",
    "2x_1+3x_2=0;\n",
    "\\end{cases} \\Rightarrow \\begin{pmatrix}\n",
    "2x_1\\\\\n",
    "3x_2\n",
    "\\end{pmatrix}$"
   ]
  },
  {
   "cell_type": "markdown",
   "metadata": {},
   "source": [
    "$\\begin{cases}\n",
    "-x_{1}-6x_{2} = 2x_1, \\\\\n",
    "2 x_{1} + 6 x_{2} = 2 x_2;\n",
    "\\end{cases} \\Rightarrow \\begin{cases}\n",
    "3x_1+6x_2=0,\\\\\n",
    "2x_1+4x_2=0;\n",
    "\\end{cases} \\Rightarrow \\begin{pmatrix}\n",
    "x_1\\\\\n",
    "2x_2\n",
    "\\end{pmatrix}$"
   ]
  },
  {
   "cell_type": "markdown",
   "metadata": {},
   "source": [
    "Собственные векторы: $\\begin{pmatrix}\n",
    "2x_1\\\\\n",
    "3x_2\n",
    "\\end{pmatrix}$ и $\\begin{pmatrix}\n",
    "x_1\\\\\n",
    "2x_2\n",
    "\\end{pmatrix}$"
   ]
  },
  {
   "cell_type": "markdown",
   "metadata": {},
   "source": [
    "__2.__ Дан оператор поворота на 180 градусов, задаваемый матрицей \n",
    "\n",
    "$$A=\\begin{pmatrix}\n",
    "-1 & 0\\\\ \n",
    "0 & -1\n",
    "\\end{pmatrix}.$$\n",
    "\n",
    "Показать, что __любой__ вектор является для него собственным."
   ]
  },
  {
   "cell_type": "markdown",
   "metadata": {},
   "source": [
    "$ \\begin{vmatrix}\n",
    "-1-\\lambda & 0 \\\\\n",
    "0 & -1 - \\lambda\n",
    "\\end{vmatrix} = (-1-\\lambda)^2 = 1 - 2\\lambda + \\lambda^2 = 0 \\Rightarrow \\lambda_{12} = 1$"
   ]
  },
  {
   "cell_type": "markdown",
   "metadata": {},
   "source": [
    "$\\begin{pmatrix}\n",
    "-1 & 0\\\\ \n",
    "0 & -1\n",
    "\\end{pmatrix}\n",
    "\\begin{pmatrix}\n",
    "x_{1}\\\\ \n",
    "x_{2}\n",
    "\\end{pmatrix}=\n",
    "\\lambda_{12}\n",
    "\\begin{pmatrix}\n",
    "x_{1}\\\\ \n",
    "x_{2}\n",
    "\\end{pmatrix} \\Rightarrow -x_1 = x_1, -x_2 = x_2$"
   ]
  },
  {
   "cell_type": "markdown",
   "metadata": {},
   "source": [
    "С учетом изменения направления под это подходит любой вектор"
   ]
  },
  {
   "cell_type": "markdown",
   "metadata": {},
   "source": [
    "__3.__ Пусть линейный оператор задан матрицей\n",
    "\n",
    "$$A=\\begin{pmatrix}\n",
    "1 & 1\\\\ \n",
    "-1 & 3\n",
    "\\end{pmatrix}.$$\n",
    "\n",
    "Установить, является ли вектор $x=(1,1)$ собственным вектором этого линейного оператора."
   ]
  },
  {
   "cell_type": "markdown",
   "metadata": {},
   "source": [
    "$\\begin{pmatrix}\n",
    "1 & 1\\\\ \n",
    "-1 & 3\n",
    "\\end{pmatrix} \\cdot \\begin{pmatrix}\n",
    "1 \\\\ \n",
    "1\n",
    "\\end{pmatrix} = \\lambda \\begin{pmatrix}\n",
    "1 \\\\ \n",
    "1\n",
    "\\end{pmatrix} \\Rightarrow \\begin{cases}\n",
    "1 + 1 = \\lambda 1, \\\\\n",
    "-1 + 3 = \\lambda 1\n",
    "\\end{cases} \\Rightarrow \\lambda=2$"
   ]
  },
  {
   "cell_type": "markdown",
   "metadata": {},
   "source": [
    "Вектор $\\begin{pmatrix}\n",
    "1 \\\\ \n",
    "1\n",
    "\\end{pmatrix}$ является собственным вектором оператора $A=\\begin{pmatrix}\n",
    "1 & 1\\\\ \n",
    "-1 & 3\n",
    "\\end{pmatrix}$ с собственным значением $\\lambda = 2$"
   ]
  },
  {
   "cell_type": "markdown",
   "metadata": {},
   "source": [
    "__4.__ Пусть линейный оператор задан матрицей\n",
    "\n",
    "$$A=\\begin{pmatrix}\n",
    "0 & 3 & 0\\\\ \n",
    "3 & 0 & 0\\\\\n",
    "0 & 0 & 3\n",
    "\\end{pmatrix}.$$\n",
    "\n",
    "Установить, является ли вектор $x=(3, -3, -4)$ собственным вектором этого линейного оператора."
   ]
  },
  {
   "cell_type": "markdown",
   "metadata": {},
   "source": [
    "$\\begin{pmatrix}\n",
    "0 & 3 & 0\\\\ \n",
    "3 & 0 & 0\\\\\n",
    "0 & 0 & 3\n",
    "\\end{pmatrix} \\cdot \\begin{pmatrix}\n",
    "3\\\\ \n",
    "-3\\\\\n",
    "-4\n",
    "\\end{pmatrix} = \\lambda \\cdot \\begin{pmatrix}\n",
    "3\\\\ \n",
    "-3\\\\\n",
    "-4\n",
    "\\end{pmatrix} \\Rightarrow \\begin{cases}\n",
    "9 = \\lambda 3, \\\\\n",
    "-9 = \\lambda \\cdot -3, \\\\\n",
    "-12 = \\lambda \\cdot -4;\n",
    "\\end{cases} \\Rightarrow \\lambda = 3$"
   ]
  },
  {
   "cell_type": "markdown",
   "metadata": {},
   "source": [
    "Вектор $x=(3, -3, -4)$ является собственным вектором этого линейного оператора с собственным значением $\\lambda=3$"
   ]
  }
 ],
 "metadata": {
  "kernelspec": {
   "display_name": "Python 3",
   "language": "python",
   "name": "python3"
  },
  "language_info": {
   "codemirror_mode": {
    "name": "ipython",
    "version": 3
   },
   "file_extension": ".py",
   "mimetype": "text/x-python",
   "name": "python",
   "nbconvert_exporter": "python",
   "pygments_lexer": "ipython3",
   "version": "3.7.7"
  }
 },
 "nbformat": 4,
 "nbformat_minor": 4
}
