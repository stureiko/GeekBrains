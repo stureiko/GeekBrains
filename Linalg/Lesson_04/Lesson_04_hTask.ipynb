{
 "cells": [
  {
   "cell_type": "markdown",
   "metadata": {},
   "source": [
    "# Author: Стурейко Игорь\n",
    "## Project: Geekbrains.Linalg\n",
    "## Lesson 03 - Системы линейных уравнений\n",
    "## Date: 2020-08-11"
   ]
  },
  {
   "cell_type": "markdown",
   "metadata": {},
   "source": [
    "## 1.1.Решить систему уравнений методом Гаусса:\n",
    "\n",
    "$$\\begin{cases}\n",
    "x_{1}+x_{2}-x_{3}-2x_{4}=0, \\\\\n",
    "2x_{1}+x_{2}-x_{3}+x_{4}=-2, \\\\\n",
    "x_{1}+x_{2}-3x_{3}+x_{4}=4.\n",
    "\\end{cases}$$"
   ]
  },
  {
   "cell_type": "markdown",
   "metadata": {},
   "source": [
    "### Решение:"
   ]
  },
  {
   "cell_type": "markdown",
   "metadata": {},
   "source": [
    "Расширенная матрица системы: $ \\begin{pmatrix}\n",
    "\\left.\\begin{matrix}\n",
    "1 & 1 & -1 & -2\\\\ \n",
    "2 & 1 & -1 & 1\\\\ \n",
    "1 & 1 & -3 & 1\n",
    "\\end{matrix}\\right|\n",
    "\\begin{matrix}\n",
    "0\\\\ \n",
    "-2\\\\\n",
    "4\n",
    "\\end{matrix}\n",
    "\\end{pmatrix}$"
   ]
  },
  {
   "cell_type": "markdown",
   "metadata": {},
   "source": [
    "Умножим первую стороку на 2:\n",
    "$\\begin{pmatrix}\n",
    "\\left.\\begin{matrix}\n",
    "2 & 2 & -2 & -4\\\\ \n",
    "2 & 1 & -1 & 1\\\\ \n",
    "1 & 1 & -3 & 1\n",
    "\\end{matrix}\\right|\n",
    "\\begin{matrix}\n",
    "0\\\\ \n",
    "-2\\\\\n",
    "4\n",
    "\\end{matrix}\n",
    "\\end{pmatrix}$"
   ]
  },
  {
   "cell_type": "markdown",
   "metadata": {},
   "source": [
    "Вычтем из второй строки первую:\n",
    "$\\begin{pmatrix}\n",
    "\\left.\\begin{matrix}\n",
    "1 & 1 & -1 & -2\\\\ \n",
    "0 & 1 & 3 & 5\\\\ \n",
    "1 & 1 & -3 & 1\n",
    "\\end{matrix}\\right|\n",
    "\\begin{matrix}\n",
    "0\\\\ \n",
    "2\\\\\n",
    "4\n",
    "\\end{matrix}\n",
    "\\end{pmatrix}$"
   ]
  },
  {
   "cell_type": "markdown",
   "metadata": {},
   "source": [
    "Вычтем из третьей строки первую: $\\begin{pmatrix}\n",
    "\\left.\\begin{matrix}\n",
    "1 & 1 & -1 & -2\\\\ \n",
    "0 & 1 & 3 & 5\\\\ \n",
    "0 & 0 & -2 & 3\n",
    "\\end{matrix}\\right|\n",
    "\\begin{matrix}\n",
    "0\\\\ \n",
    "2\\\\\n",
    "4\n",
    "\\end{matrix}\n",
    "\\end{pmatrix}$"
   ]
  },
  {
   "cell_type": "markdown",
   "metadata": {},
   "source": [
    "$\\begin{cases} \n",
    "\\displaystyle x_3 = \\frac{3x_4-4}{2},\\\\\n",
    "\\displaystyle x_2 = 2 - 5x_4 - \\frac{3}{2}(3x_4-4), \\\\\n",
    "\\displaystyle x_1 = 2x_4 + \\frac{3x_4-4}{2} - 2 + 5x_4 + \\frac{3}{2}(3x_4-4)\n",
    "\\end{cases},$ где $x_4$ - любое "
   ]
  },
  {
   "cell_type": "markdown",
   "metadata": {},
   "source": [
    "## 1.2. Проверить на совместность и выяснить, сколько решений будет иметь система линейных уравнений:\n",
    "\n",
    "   а) $\\begin{cases}\n",
    "3x_{1}-x_{2}+x_{3}=4, \\\\\n",
    "2x_{1}-5x_{2}-3x_{3}=-17, \\\\\n",
    "x_{1}+x_{2}-x_{3}=0;\n",
    "\\end{cases}$\n",
    "    \n",
    "   б) $\\begin{cases}\n",
    "2x_{1}-4x_{2}+6x_{3}=1, \\\\\n",
    "x_{1}-2x_{2}+3x_{3}=-2, \\\\\n",
    "3x_{1}-6x_{2}+9x_{3}=5;\n",
    "\\end{cases}$\n",
    "    \n",
    "   в) $\\begin{cases}\n",
    "x_{1}+2x_{2}+5x_{3}=4, \\\\\n",
    "3x_{1}+x_{2}-8x_{3}=-2. \n",
    "\\end{cases}$"
   ]
  },
  {
   "cell_type": "markdown",
   "metadata": {},
   "source": [
    "### Решение:"
   ]
  },
  {
   "cell_type": "markdown",
   "metadata": {},
   "source": [
    "Согласоно теореме Кронекера-Капелли Необходимым и достаточным условием совместности системы из $m$ уравнений с $n$ неизвестными является равенство между собой рангов матрицы коэффициентов $A$ и расширенной матрицы $\\tilde A$<br>\n",
    "Причем:\n",
    "- если $rankA=rank \\tilde A=n$, где $n$ — число неизвестных, то система определена, т. е. имеет единственное решение;<br>\n",
    "- если $rankA=rank \\tilde A<n$, то система имеет бесконечное количество решений;<br>\n",
    "- если $rankA<rank \\tilde A$, то система несовместна."
   ]
  },
  {
   "cell_type": "code",
   "execution_count": 1,
   "metadata": {},
   "outputs": [],
   "source": [
    "import numpy as np\n",
    "from numpy import linalg"
   ]
  },
  {
   "cell_type": "code",
   "execution_count": 140,
   "metadata": {},
   "outputs": [],
   "source": [
    "def sovmest(A, A_w):\n",
    "    if linalg.matrix_rank(A) == linalg.matrix_rank(A_w):\n",
    "        if linalg.matrix_rank(A) == A.shape[1]:\n",
    "            print(f'Система совместна и имеет единственное решение')\n",
    "        elif linalg.matrix_rank(A) < A.shape[1]:\n",
    "            print(f'Система совместна и имеет бесконечное число решений') \n",
    "    elif linalg.matrix_rank(A) < linalg.matrix_rank(A_w):\n",
    "        print(f'Система несовместна, решений нет')"
   ]
  },
  {
   "cell_type": "markdown",
   "metadata": {},
   "source": [
    "#### Вариант а)"
   ]
  },
  {
   "cell_type": "code",
   "execution_count": 141,
   "metadata": {},
   "outputs": [
    {
     "name": "stdout",
     "output_type": "stream",
     "text": [
      "Система совместна и имеет единственное решение\n"
     ]
    }
   ],
   "source": [
    "A = np.array([[3, -1, 1],[2, -5, -3], [1, 1, -1]])\n",
    "A_w = np.append(A, np.array([[4],[-17], [0]]), axis=1)\n",
    "sovmest(A, A_w)"
   ]
  },
  {
   "cell_type": "markdown",
   "metadata": {},
   "source": [
    "#### Вариант б)"
   ]
  },
  {
   "cell_type": "code",
   "execution_count": 142,
   "metadata": {},
   "outputs": [
    {
     "name": "stdout",
     "output_type": "stream",
     "text": [
      "Система несовместна, решений нет\n"
     ]
    }
   ],
   "source": [
    "A = np.array([[2, -4, 6],[1, -2, 3], [3, -6, 9]])\n",
    "A_w = np.append(A, np.array([[1],[-2], [5]]), axis=1)\n",
    "sovmest(A, A_w)"
   ]
  },
  {
   "cell_type": "markdown",
   "metadata": {},
   "source": [
    "#### Вариант в)"
   ]
  },
  {
   "cell_type": "code",
   "execution_count": 143,
   "metadata": {},
   "outputs": [
    {
     "name": "stdout",
     "output_type": "stream",
     "text": [
      "Система совместна и имеет бесконечное число решений\n"
     ]
    }
   ],
   "source": [
    "A = np.array([[1, 2, 5],[3, 1, -8]])\n",
    "A_w = np.append(A, np.array([[4],[-2]]), axis=1)\n",
    "sovmest(A, A_w)"
   ]
  },
  {
   "cell_type": "markdown",
   "metadata": {},
   "source": [
    "## 1.3. Проверить на совместность и выяснить, сколько решений будет иметь система линейных уравнений, заданная расширенной матрицей\n",
    "\n",
    "$$\\tilde{A}=\\begin{pmatrix}\n",
    "\\left.\\begin{matrix}\n",
    "1 & 3 & -2 & 4\\\\ \n",
    "0 & 5 & 0 & 1\\\\ \n",
    "0 & 0 & 3 & 0\\\\ \n",
    "0 & 0 & 0 & 2\n",
    "\\end{matrix}\\right|\n",
    "\\begin{matrix}\n",
    "3\\\\ \n",
    "2\\\\\n",
    "4\\\\\n",
    "1\n",
    "\\end{matrix}\n",
    "\\end{pmatrix}.$$"
   ]
  },
  {
   "cell_type": "markdown",
   "metadata": {},
   "source": [
    "### Решение:"
   ]
  },
  {
   "cell_type": "code",
   "execution_count": 144,
   "metadata": {
    "scrolled": true
   },
   "outputs": [
    {
     "name": "stdout",
     "output_type": "stream",
     "text": [
      "Система совместна и имеет единственное решение\n"
     ]
    }
   ],
   "source": [
    "A = np.array([[1, 3, -2, 4],[0, 5, 0, 1], [0, 0, 3, 0], [0, 0, 0, 2]])\n",
    "A_w = np.append(A, np.array([[3],[2],[4],[1]]), axis=1)\n",
    "sovmest(A, A_w)"
   ]
  },
  {
   "cell_type": "markdown",
   "metadata": {},
   "source": [
    "## 1.4. Дана система линейных уравнений, заданная расширенной матрицей\n",
    "\n",
    "$$\\tilde{A}=\\begin{pmatrix}\n",
    "\\left.\\begin{matrix}\n",
    "1 & 2 & 3\\\\ \n",
    "4 & 5 & 6\\\\ \n",
    "7 & 8 & 9\n",
    "\\end{matrix}\\right|\n",
    "\\begin{matrix}\n",
    "a\\\\ \n",
    "b\\\\\n",
    "c\n",
    "\\end{matrix}\n",
    "\\end{pmatrix}.$$\n",
    "\n",
    "Найти соотношение между параметрами $a$, $b$ и $c$, при которых система является несовместной."
   ]
  },
  {
   "cell_type": "markdown",
   "metadata": {},
   "source": [
    "### Решение:"
   ]
  },
  {
   "cell_type": "markdown",
   "metadata": {},
   "source": [
    "Для матрицы А: $a_2-a_1 = \\begin{pmatrix}\n",
    "3 & 3 & 3\n",
    "\\end{pmatrix}$ и $a_3-a_2 = \\begin{pmatrix}\n",
    "3 & 3 & 3\n",
    "\\end{pmatrix}$, следовательно достаточно, что бы $c- b \\neq 3$ и $b-a \\neq 3$, тогда ранг расширенной матрицы будет больше матрицы коэффицентов, что является условием несовместности по теореме Кронекера-Капелли."
   ]
  },
  {
   "cell_type": "markdown",
   "metadata": {},
   "source": [
    "## 2.1. Решить систему уравнений методом Крамера:\n",
    "\n",
    "   а) $\\begin{cases}\n",
    "x_{1}-2x_{2}=1 \\\\\n",
    "3x_{1}-4x_{2}=7\n",
    "\\end{cases}$\n",
    "    \n",
    "   б) $\\begin{cases}\n",
    "2x_{1}-x_{2}+5x_{3}=10 \\\\\n",
    "x_{1}+x_{2}-3x_{3}=-2 \\\\\n",
    "2x_{1}+4x_{2}+x_{3}=1\n",
    "\\end{cases}$"
   ]
  },
  {
   "cell_type": "markdown",
   "metadata": {},
   "source": [
    "### Решение:"
   ]
  },
  {
   "cell_type": "markdown",
   "metadata": {},
   "source": [
    "#### Вариант а)"
   ]
  },
  {
   "cell_type": "code",
   "execution_count": 136,
   "metadata": {},
   "outputs": [
    {
     "name": "stdout",
     "output_type": "stream",
     "text": [
      "Решение системы: \n",
      "x1 = 5.0, \n",
      "x2 = 2.0\n"
     ]
    }
   ],
   "source": [
    "A = np.array([[1, -2,],[3, -4]])\n",
    "s = np.array([[1, 7]])\n",
    "\n",
    "A_1 = np.copy(A)\n",
    "A_1[::,0] = s\n",
    "\n",
    "A_2 = np.copy(A)\n",
    "A_2[::,1] = s\n",
    "\n",
    "x1 = round(linalg.det(A_1)/linalg.det(A), 4)\n",
    "x2 = round(linalg.det(A_2)/linalg.det(A), 4)\n",
    "print(f'Решение системы: \\nx1 = {x1}, \\nx2 = {x2}')"
   ]
  },
  {
   "cell_type": "markdown",
   "metadata": {},
   "source": [
    "#### Вариант б)"
   ]
  },
  {
   "cell_type": "code",
   "execution_count": 135,
   "metadata": {},
   "outputs": [
    {
     "name": "stdout",
     "output_type": "stream",
     "text": [
      "Решение системы: \n",
      "x1 = 2.0, \n",
      "x2 = -1.0, \n",
      "x3 = 1.0\n"
     ]
    }
   ],
   "source": [
    "A = np.array([[2, -1, 5],[1, 1, -3], [2, 4, 1]])\n",
    "s = np.array([[10, -2, 1]])\n",
    "\n",
    "A_1 = np.copy(A)\n",
    "A_1[::,0] = s\n",
    "\n",
    "A_2 = np.copy(A)\n",
    "A_2[::,1] = s\n",
    "\n",
    "A_3 = np.copy(A)\n",
    "A_3[::,2] = s\n",
    "\n",
    "x1 = round(linalg.det(A_1)/linalg.det(A), 4)\n",
    "x2 = round(linalg.det(A_2)/linalg.det(A), 4)\n",
    "x3 = round(linalg.det(A_3)/linalg.det(A), 4)\n",
    "print(f'Решение системы: \\nx1 = {x1}, \\nx2 = {x2}, \\nx3 = {x3}')"
   ]
  },
  {
   "cell_type": "markdown",
   "metadata": {},
   "source": [
    "## 2.2*. Найти $L$-матрицу $LU$-разложения для матрицы коэффициентов:\n",
    "\n",
    "   а)$$\\begin{pmatrix}\n",
    "1 & 2 & 4 \\\\ \n",
    "2 & 9 & 12 \\\\ \n",
    "3 & 26 & 30\n",
    "\\end{pmatrix}$$\n",
    "    \n",
    "   б)$$\\begin{pmatrix}\n",
    "1 & 1 & 2 & 4\\\\ \n",
    "2 & 5 & 8 & 9\\\\ \n",
    "3 & 18 & 29 & 18\\\\\n",
    "4 & 22 & 53 & 33\n",
    "\\end{pmatrix}$$"
   ]
  },
  {
   "cell_type": "markdown",
   "metadata": {},
   "source": [
    "### Решение:"
   ]
  },
  {
   "cell_type": "code",
   "execution_count": 66,
   "metadata": {},
   "outputs": [],
   "source": [
    "import scipy.linalg as la"
   ]
  },
  {
   "cell_type": "code",
   "execution_count": 101,
   "metadata": {},
   "outputs": [],
   "source": [
    "def printMatrix ( matrix ): \n",
    "    for i in range ( len(matrix) ): \n",
    "        print('[', end='')\n",
    "        for j in range ( len(matrix[i]) ): \n",
    "            print (\"\"\"{:7.2f}\"\"\".format(matrix[i][j]), end = \"\" ) \n",
    "        print(']\\n')\n",
    "    print ()"
   ]
  },
  {
   "cell_type": "markdown",
   "metadata": {},
   "source": [
    "#### Вариант а)"
   ]
  },
  {
   "cell_type": "code",
   "execution_count": 132,
   "metadata": {},
   "outputs": [
    {
     "name": "stdout",
     "output_type": "stream",
     "text": [
      "LU разложение:\n",
      "\n",
      "Матрица L:\n",
      "[   1.00   0.00   0.00]\n",
      "\n",
      "[   0.67   1.00   0.00]\n",
      "\n",
      "[   0.33   0.80   1.00]\n",
      "\n",
      "\n",
      "Матрица U:\n",
      "[   3.00  26.00  30.00]\n",
      "\n",
      "[   0.00  -8.33  -8.00]\n",
      "\n",
      "[   0.00   0.00   0.40]\n",
      "\n",
      "\n"
     ]
    }
   ],
   "source": [
    "a = np.array([[1, 2, 4], [2, 9, 12], [3, 26, 30]])\n",
    "(P, L, U) = la.lu(a)\n",
    "print('LU разложение:\\n')\n",
    "print('Матрица L:')\n",
    "printMatrix(L)\n",
    "print('Матрица U:')\n",
    "printMatrix(U)"
   ]
  },
  {
   "cell_type": "markdown",
   "metadata": {},
   "source": [
    "#### Вариант б)"
   ]
  },
  {
   "cell_type": "code",
   "execution_count": 131,
   "metadata": {},
   "outputs": [
    {
     "name": "stdout",
     "output_type": "stream",
     "text": [
      "LU разложение:\n",
      "\n",
      "Матрица L:\n",
      "[   1.00   0.00   0.00   0.00]\n",
      "\n",
      "[   0.50   1.00   0.00   0.00]\n",
      "\n",
      "[   0.75  -0.25   1.00   0.00]\n",
      "\n",
      "[   0.25   0.75  -0.17   1.00]\n",
      "\n",
      "\n",
      "Матрица U:\n",
      "[   4.00  22.00  53.00  33.00]\n",
      "\n",
      "[   0.00  -6.00 -18.50  -7.50]\n",
      "\n",
      "[   0.00   0.00 -15.38  -8.62]\n",
      "\n",
      "[   0.00   0.00   0.00  -0.10]\n",
      "\n",
      "\n"
     ]
    }
   ],
   "source": [
    "a = np.array([[1, 1, 2, 4], [2, 5, 8, 9], [3, 18, 29, 18], [4, 22, 53, 33]])\n",
    "(P, L, U) = la.lu(a)\n",
    "print('LU разложение:\\n')\n",
    "print('Матрица L:')\n",
    "printMatrix(L)\n",
    "print('Матрица U:')\n",
    "printMatrix(U)"
   ]
  },
  {
   "cell_type": "markdown",
   "metadata": {},
   "source": [
    "## 2.3*. Решить систему линейных уравнений методом $LU$-разложения\n",
    "\n",
    "$$\\begin{cases}\n",
    "2x_{1}+x_{2}+3x_{3}=1 \\\\\n",
    "11x_{1}+7x_{2}+5x_{3}=-6 \\\\\n",
    "9x_{1}+8x_{2}+4x_{3}=-5\n",
    "\\end{cases}$$"
   ]
  },
  {
   "cell_type": "code",
   "execution_count": 118,
   "metadata": {},
   "outputs": [
    {
     "name": "stdout",
     "output_type": "stream",
     "text": [
      "LU разложение:\n",
      "\n",
      "Матрица L:\n",
      "[   1.00   0.00   0.00]\n",
      "\n",
      "[   0.82   1.00   0.00]\n",
      "\n",
      "[   0.18  -0.12   1.00]\n",
      "\n",
      "\n",
      "Матрица U:\n",
      "[  11.00   7.00   5.00]\n",
      "\n",
      "[   0.00   2.27  -0.09]\n",
      "\n",
      "[   0.00   0.00   2.08]\n",
      "\n",
      "\n"
     ]
    }
   ],
   "source": [
    "a = np.array([[2, 1, 3], [11, 7, 5], [9, 8, 4]])\n",
    "b = np.array([1, -6, -5])\n",
    "(P, L, U) = la.lu(a)\n",
    "print('LU разложение:\\n')\n",
    "print('Матрица L:')\n",
    "printMatrix(L)\n",
    "print('Матрица U:')\n",
    "printMatrix(U)"
   ]
  },
  {
   "cell_type": "markdown",
   "metadata": {},
   "source": [
    "$Ly=b$, тогда: $\\begin{cases}\n",
    "y_1 = 1,\\\\ \n",
    "0.82y_1+y_2=-6,\\\\\n",
    "0.18y_1 - 0.12y_2 + y_3 = -5\n",
    "\\end{cases} \\Rightarrow \\begin{cases}\n",
    "y_1 = 1,\\\\\n",
    "y_2 = -6.82, \\\\\n",
    "y_3 = -5.9984\n",
    "\\end{cases}$"
   ]
  },
  {
   "cell_type": "markdown",
   "metadata": {},
   "source": [
    "$Ux=y$, тогда $\\begin{cases}\n",
    "11x_1 + 7x_2 + 5x_3 = 1,\\\\\n",
    "2.27x_2 - 0.09x_3=-6.82,\\\\\n",
    "2.08x_3=-5,9984\n",
    "\\end{cases} \\Rightarrow \\begin{cases}\n",
    "x_1 = 3.38,\\\\\n",
    "x_2 = -3.12,\\\\\n",
    "x_3 = -2.88\n",
    "\\end{cases}$"
   ]
  },
  {
   "cell_type": "markdown",
   "metadata": {},
   "source": [
    "Переменные вычислены относительно (с учетом погрешности) правильно. Проверим:"
   ]
  },
  {
   "cell_type": "code",
   "execution_count": 121,
   "metadata": {},
   "outputs": [
    {
     "data": {
      "text/plain": [
       "array([ 1.        , -6.81818182, -6.        ])"
      ]
     },
     "execution_count": 121,
     "metadata": {},
     "output_type": "execute_result"
    }
   ],
   "source": [
    "y = linalg.solve(L, b)\n",
    "y"
   ]
  },
  {
   "cell_type": "code",
   "execution_count": 123,
   "metadata": {},
   "outputs": [
    {
     "data": {
      "text/plain": [
       "array([ 3.38461538, -3.11538462, -2.88461538])"
      ]
     },
     "execution_count": 123,
     "metadata": {},
     "output_type": "execute_result"
    }
   ],
   "source": [
    "x = linalg.solve(U, y)\n",
    "x"
   ]
  },
  {
   "cell_type": "markdown",
   "metadata": {},
   "source": [
    "Вместе с тем, когда запускаем решение через библиотеку получаем совершенно иные решения:"
   ]
  },
  {
   "cell_type": "code",
   "execution_count": 124,
   "metadata": {},
   "outputs": [
    {
     "data": {
      "text/plain": [
       "array([-1.00000000e+00,  2.44249065e-16,  1.00000000e+00])"
      ]
     },
     "execution_count": 124,
     "metadata": {},
     "output_type": "execute_result"
    }
   ],
   "source": [
    "linalg.solve(a, b)"
   ]
  },
  {
   "cell_type": "markdown",
   "metadata": {},
   "source": [
    "### <span style=\"color:red\">Прошу подсказать в чем здесь ошибка</span>"
   ]
  },
  {
   "cell_type": "markdown",
   "metadata": {},
   "source": [
    "## 2.4*. Решить систему линейных уравнений методом Холецкого\n",
    "\n",
    "$$\\begin{cases}\n",
    "81x_{1}-45x_{2}+45x_{3}=531 \\\\\n",
    "-45x_{1}+50x_{2}-15x_{3}=-460 \\\\\n",
    "45x_{1}-15x_{2}+38x_{3}=193\n",
    "\\end{cases}$$"
   ]
  },
  {
   "cell_type": "markdown",
   "metadata": {},
   "source": [
    "### Решение:"
   ]
  },
  {
   "cell_type": "markdown",
   "metadata": {},
   "source": [
    "$l_{11}=\\sqrt{a_{11}} = \\sqrt{81} = 9, \\\\\n",
    "\\displaystyle l_{21}=\\frac{a_{21}}{l_{11}}=\\frac{-45}{9} = -5, \\\\\n",
    "\\displaystyle l_{31}=\\frac{a_{31}}{l_{11}}=\\frac{45}{9} = 5$"
   ]
  },
  {
   "cell_type": "markdown",
   "metadata": {},
   "source": [
    "$l_{22}=\\sqrt{a_{22}-l_{21}^{2}}=\\sqrt{50 - 25}=5,\\\\\n",
    "l_{32}=\\frac{1}{l_{22}}\\left ( a_{32}-l_{21}l_{31} \\right)=\\frac{1}{5}\\left ( -15 - (-5)\\cdot 5 \\right )=2,\\\\\n",
    "l_{33}=\\sqrt{a_{33}-l_{31}^{2}-l_{32}^{2}}=\\sqrt{38-25-4}=3$"
   ]
  },
  {
   "cell_type": "markdown",
   "metadata": {},
   "source": [
    "$L = \\begin{pmatrix}\n",
    "9 & 0 & 0\\\\\n",
    "-5 & 5 & 0\\\\\n",
    "5 & 2 & 3\n",
    "\\end{pmatrix}, L^T = \\begin{pmatrix}\n",
    "9 & -5 & 5\\\\\n",
    "0 & 5 & 2\\\\\n",
    "0 & 0 & 3\n",
    "\\end{pmatrix}$"
   ]
  },
  {
   "cell_type": "markdown",
   "metadata": {},
   "source": [
    "$Ly=b, \\Rightarrow \\begin{cases}\n",
    "9y_1 = 531,\\\\\n",
    "-5y_1+5y_2=-460,\\\\\n",
    "5y_3 +2y_2+3y_3=193\n",
    "\\end{cases}, \\Rightarrow \\begin{cases}\n",
    "y_1=59,\\\\\n",
    "y_2=-33,\\\\\n",
    "y_3=-12\n",
    "\\end{cases}$"
   ]
  },
  {
   "cell_type": "markdown",
   "metadata": {},
   "source": [
    "$L^Tx=y, \\Rightarrow \\begin{cases}\n",
    "9x_1 - 5x_2 + 5x_3 = 59,\\\\\n",
    "5x_2 + 2x_3 = -33,\\\\\n",
    "3x_3 = -12\n",
    "\\end{cases}, \\Rightarrow \\begin{cases}\n",
    "x_1 = 6,\\\\\n",
    "x_2 = -5,\\\\\n",
    "x_3 = -4\n",
    "\\end{cases}$"
   ]
  },
  {
   "cell_type": "markdown",
   "metadata": {},
   "source": [
    "Проверяем:"
   ]
  },
  {
   "cell_type": "code",
   "execution_count": 130,
   "metadata": {},
   "outputs": [
    {
     "data": {
      "text/plain": [
       "array([ 6., -5., -4.])"
      ]
     },
     "execution_count": 130,
     "metadata": {},
     "output_type": "execute_result"
    }
   ],
   "source": [
    "A = np.array([[81, -45, 45],[-45, 50, -15],[45, -15, 38]])\n",
    "b = np.array([531, -460, 193])\n",
    "linalg.solve(A, b)"
   ]
  },
  {
   "cell_type": "markdown",
   "metadata": {},
   "source": [
    "## 2.5*. Написать на Python программу с реализацией одного из изученных алгоритмов решения СЛАУ."
   ]
  },
  {
   "cell_type": "code",
   "execution_count": null,
   "metadata": {},
   "outputs": [],
   "source": []
  }
 ],
 "metadata": {
  "kernelspec": {
   "display_name": "Python 3",
   "language": "python",
   "name": "python3"
  },
  "language_info": {
   "codemirror_mode": {
    "name": "ipython",
    "version": 3
   },
   "file_extension": ".py",
   "mimetype": "text/x-python",
   "name": "python",
   "nbconvert_exporter": "python",
   "pygments_lexer": "ipython3",
   "version": "3.7.7"
  }
 },
 "nbformat": 4,
 "nbformat_minor": 4
}
