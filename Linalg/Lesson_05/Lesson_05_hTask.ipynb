{
 "cells": [
  {
   "cell_type": "markdown",
   "metadata": {},
   "source": [
    "# Author: Стурейко Игорь\n",
    "## Project: Geekbrains.Linalg\n",
    "## Lesson 05 - Сингулярное разложение\n",
    "## Date: 2020-08-18"
   ]
  },
  {
   "cell_type": "markdown",
   "metadata": {
    "colab_type": "text",
    "id": "aoo5c_Q0Czsp"
   },
   "source": [
    "## 1. Найти с помощью NumPy SVD для матрицы\n",
    "\n",
    "$$\\begin{pmatrix}\n",
    "1 & 2 & 0\\\\ \n",
    "0 & 0 & 5\\\\ \n",
    "3 & -4 & 2\\\\ \n",
    "1 & 6 & 5\\\\ \n",
    "0 & 1 & 0\n",
    "\\end{pmatrix}.$$"
   ]
  },
  {
   "cell_type": "markdown",
   "metadata": {},
   "source": [
    "### Решение:"
   ]
  },
  {
   "cell_type": "code",
   "execution_count": 21,
   "metadata": {},
   "outputs": [],
   "source": [
    "import numpy as np\n",
    "np.set_printoptions(precision=2, suppress=True)"
   ]
  },
  {
   "cell_type": "code",
   "execution_count": 20,
   "metadata": {},
   "outputs": [
    {
     "data": {
      "text/plain": [
       "array([[ 1,  2,  0],\n",
       "       [ 0,  0,  5],\n",
       "       [ 3, -4,  2],\n",
       "       [ 1,  6,  5],\n",
       "       [ 0,  1,  0]])"
      ]
     },
     "execution_count": 20,
     "metadata": {},
     "output_type": "execute_result"
    }
   ],
   "source": [
    "A = np.array([[1, 2, 0], [0, 0, 5], [3, -4, 2], [1, 6, 5], [0, 1, 0]])\n",
    "A"
   ]
  },
  {
   "cell_type": "code",
   "execution_count": 22,
   "metadata": {},
   "outputs": [],
   "source": [
    "U, s, W = np.linalg.svd(A)\n",
    "\n",
    "# Транспонируем матрицу W\n",
    "V = W.T\n",
    "\n",
    "# s - список диагональных элементов, привести к виду диагональной матрицы\n",
    "D = np.zeros_like(A, dtype=float)\n",
    "D[np.diag_indices(min(A.shape))] = s"
   ]
  },
  {
   "cell_type": "code",
   "execution_count": 23,
   "metadata": {},
   "outputs": [
    {
     "data": {
      "text/plain": [
       "array([[8.82, 0.  , 0.  ],\n",
       "       [0.  , 6.14, 0.  ],\n",
       "       [0.  , 0.  , 2.53],\n",
       "       [0.  , 0.  , 0.  ],\n",
       "       [0.  , 0.  , 0.  ]])"
      ]
     },
     "execution_count": 23,
     "metadata": {},
     "output_type": "execute_result"
    }
   ],
   "source": [
    "D"
   ]
  },
  {
   "cell_type": "code",
   "execution_count": 24,
   "metadata": {},
   "outputs": [
    {
     "data": {
      "text/plain": [
       "array([[ 0.17,  0.16, -0.53, -0.8 , -0.16],\n",
       "       [ 0.39, -0.53,  0.61, -0.43,  0.03],\n",
       "       [-0.14, -0.82, -0.52,  0.14,  0.07],\n",
       "       [ 0.89,  0.06, -0.25,  0.38, -0.06],\n",
       "       [ 0.08,  0.11, -0.08, -0.11,  0.98]])"
      ]
     },
     "execution_count": 24,
     "metadata": {},
     "output_type": "execute_result"
    }
   ],
   "source": [
    "U"
   ]
  },
  {
   "cell_type": "code",
   "execution_count": 25,
   "metadata": {},
   "outputs": [
    {
     "data": {
      "text/plain": [
       "array([[ 0.07, -0.37, -0.93],\n",
       "       [ 0.72,  0.67, -0.21],\n",
       "       [ 0.69, -0.65,  0.31]])"
      ]
     },
     "execution_count": 25,
     "metadata": {},
     "output_type": "execute_result"
    }
   ],
   "source": [
    "V"
   ]
  },
  {
   "cell_type": "markdown",
   "metadata": {},
   "source": [
    "## 2. Для матрицы из предыдущего задания найти:\n",
    "\n",
    "    а) евклидову норму;\n",
    "    \n",
    "    б) норму Фробениуса."
   ]
  },
  {
   "cell_type": "markdown",
   "metadata": {},
   "source": [
    "### Решение:"
   ]
  },
  {
   "cell_type": "code",
   "execution_count": 26,
   "metadata": {},
   "outputs": [
    {
     "data": {
      "text/plain": [
       "8.824868854820442"
      ]
     },
     "execution_count": 26,
     "metadata": {},
     "output_type": "execute_result"
    }
   ],
   "source": [
    "# Евклидова норма\n",
    "AE = D[0][0]\n",
    "AE"
   ]
  },
  {
   "cell_type": "markdown",
   "metadata": {},
   "source": [
    "а) $\\left \\|A\\right \\|_E = D_{0,0} = 8.82$"
   ]
  },
  {
   "cell_type": "code",
   "execution_count": 27,
   "metadata": {},
   "outputs": [
    {
     "data": {
      "text/plain": [
       "11.045361017187261"
      ]
     },
     "execution_count": 27,
     "metadata": {},
     "output_type": "execute_result"
    }
   ],
   "source": [
    "# Норма Фробениуса\n",
    "AF = np.linalg.norm(A, ord='fro')\n",
    "AF"
   ]
  },
  {
   "cell_type": "markdown",
   "metadata": {},
   "source": [
    "б) $\\left \\| A \\right \\|_{F}=\\sqrt{\\sum_{k=1}^{r}\\mu_{k}^{2}} = 11.05$"
   ]
  },
  {
   "cell_type": "code",
   "execution_count": null,
   "metadata": {},
   "outputs": [],
   "source": []
  }
 ],
 "metadata": {
  "kernelspec": {
   "display_name": "Python 3",
   "language": "python",
   "name": "python3"
  },
  "language_info": {
   "codemirror_mode": {
    "name": "ipython",
    "version": 3
   },
   "file_extension": ".py",
   "mimetype": "text/x-python",
   "name": "python",
   "nbconvert_exporter": "python",
   "pygments_lexer": "ipython3",
   "version": "3.7.7"
  }
 },
 "nbformat": 4,
 "nbformat_minor": 4
}
