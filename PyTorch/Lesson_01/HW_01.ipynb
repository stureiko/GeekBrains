{
 "cells": [
  {
   "cell_type": "code",
   "execution_count": 1,
   "metadata": {
    "ExecuteTime": {
     "end_time": "2022-01-25T14:22:03.320730Z",
     "start_time": "2022-01-25T14:21:59.844623Z"
    },
    "scrolled": true
   },
   "outputs": [],
   "source": [
    "import torch\n",
    "import numpy as np"
   ]
  },
  {
   "cell_type": "code",
   "execution_count": 2,
   "metadata": {
    "ExecuteTime": {
     "end_time": "2022-01-25T14:22:03.335662Z",
     "start_time": "2022-01-25T14:22:03.322632Z"
    }
   },
   "outputs": [],
   "source": [
    "# Создайте случайный FloatTensor размера 3x4x5\n",
    "x = torch.Tensor(3, 4, 5)\n",
    "y = torch.rand(3, 4, 5)"
   ]
  },
  {
   "cell_type": "code",
   "execution_count": 3,
   "metadata": {
    "ExecuteTime": {
     "end_time": "2022-01-25T14:22:03.383718Z",
     "start_time": "2022-01-25T14:22:03.337649Z"
    }
   },
   "outputs": [
    {
     "data": {
      "text/plain": [
       "torch.Size([3, 4, 5])"
      ]
     },
     "execution_count": 3,
     "metadata": {},
     "output_type": "execute_result"
    }
   ],
   "source": [
    "# Выведите его форму (shape)\n",
    "x.shape"
   ]
  },
  {
   "cell_type": "code",
   "execution_count": 4,
   "metadata": {
    "ExecuteTime": {
     "end_time": "2022-01-25T14:22:03.399631Z",
     "start_time": "2022-01-25T14:22:03.385632Z"
    }
   },
   "outputs": [
    {
     "data": {
      "text/plain": [
       "torch.Size([3, 4, 5])"
      ]
     },
     "execution_count": 4,
     "metadata": {},
     "output_type": "execute_result"
    }
   ],
   "source": [
    "y.shape"
   ]
  },
  {
   "cell_type": "code",
   "execution_count": 5,
   "metadata": {
    "ExecuteTime": {
     "end_time": "2022-01-25T14:22:03.415711Z",
     "start_time": "2022-01-25T14:22:03.400687Z"
    }
   },
   "outputs": [
    {
     "data": {
      "text/plain": [
       "torch.Size([6, 10])"
      ]
     },
     "execution_count": 5,
     "metadata": {},
     "output_type": "execute_result"
    }
   ],
   "source": [
    "# Приведите его к форме 6 X 10\n",
    "x = x.view(6, 10)\n",
    "x.size()"
   ]
  },
  {
   "cell_type": "code",
   "execution_count": 13,
   "metadata": {
    "ExecuteTime": {
     "end_time": "2022-01-25T14:24:23.373019Z",
     "start_time": "2022-01-25T14:24:23.361028Z"
    }
   },
   "outputs": [
    {
     "data": {
      "text/plain": [
       "tensor([[-1.2725e-18,  3.4080e-42,  3.2579e-06,  9.1821e-41,  0.0000e+00,\n",
       "          0.0000e+00,  8.4078e-44,  0.0000e+00, -1.4456e-18,  8.5199e-43],\n",
       "        [ 1.6290e-06,  1.8364e-40,  0.0000e+00,  0.0000e+00,  2.1019e-44,\n",
       "          0.0000e+00, -5.6823e-18,  1.7040e-42,  3.2579e-06,  4.5911e-41],\n",
       "        [ 0.0000e+00,  0.0000e+00,  4.2039e-44,  0.0000e+00, -1.2631e-18,\n",
       "          8.5199e-43,  6.5159e-06,  9.1821e-41,  0.0000e+00,  0.0000e+00],\n",
       "        [ 2.1019e-44,  0.0000e+00, -2.8047e-18,  1.7040e-42,  1.6290e-06,\n",
       "          4.5911e-41,  0.0000e+00,  0.0000e+00,  4.2039e-44,  0.0000e+00],\n",
       "        [-1.2951e-18,  3.4080e-42,  3.2579e-06,  9.1821e-41,  0.0000e+00,\n",
       "          0.0000e+00,  8.4078e-44,  0.0000e+00, -2.5068e-18,  8.5199e-43],\n",
       "        [ 6.3206e+02,  1.3004e-42,  0.0000e+00,  0.0000e+00,  2.1019e-44,\n",
       "          0.0000e+00, -2.8371e-18,  1.7040e-42,  3.2579e-06,  4.5911e-41]])"
      ]
     },
     "execution_count": 13,
     "metadata": {},
     "output_type": "execute_result"
    }
   ],
   "source": [
    "# Умножьте его на вектор [1, 4, 2, 2, 1] поэлементно\n",
    "a = [1, 4, 2, 2, 1]\n",
    "a = a + a\n",
    "x * torch.Tensor(a)"
   ]
  },
  {
   "cell_type": "code",
   "execution_count": 20,
   "metadata": {
    "ExecuteTime": {
     "end_time": "2022-01-24T14:07:29.850069Z",
     "start_time": "2022-01-24T14:07:29.833083Z"
    }
   },
   "outputs": [
    {
     "data": {
      "text/plain": [
       "torch.Size([6, 6])"
      ]
     },
     "execution_count": 20,
     "metadata": {},
     "output_type": "execute_result"
    }
   ],
   "source": [
    "# Умножьте тензор матрично на себя, чтобы результат был размерности 6x6\n",
    "x1 = torch.mm(x, x.T)\n",
    "x1.size()"
   ]
  },
  {
   "cell_type": "code",
   "execution_count": 10,
   "metadata": {
    "ExecuteTime": {
     "end_time": "2022-01-24T18:34:04.414043Z",
     "start_time": "2022-01-24T18:34:04.397016Z"
    },
    "scrolled": true
   },
   "outputs": [],
   "source": [
    "# Посчитайте производную функции y = x**3 + z - 75t в точке (1, 0.5, 2)\n",
    "from torch.autograd import Variable\n",
    "s = Variable(torch.tensor([1, 0.5, 2]), requires_grad = True)\n"
   ]
  },
  {
   "cell_type": "markdown",
   "metadata": {},
   "source": [
    "__не понял как это сделать. В лекции разбиралось только с функцией одной переменной и по этой переменной бралась производная, а здесь не понял по какой переменной дифференциируем?__"
   ]
  },
  {
   "cell_type": "code",
   "execution_count": 12,
   "metadata": {
    "ExecuteTime": {
     "end_time": "2022-01-24T13:59:08.287231Z",
     "start_time": "2022-01-24T13:59:08.273230Z"
    }
   },
   "outputs": [
    {
     "data": {
      "text/plain": [
       "tensor([[1., 1., 1., 1., 1., 1.],\n",
       "        [1., 1., 1., 1., 1., 1.],\n",
       "        [1., 1., 1., 1., 1., 1.],\n",
       "        [1., 1., 1., 1., 1., 1.],\n",
       "        [1., 1., 1., 1., 1., 1.]])"
      ]
     },
     "execution_count": 12,
     "metadata": {},
     "output_type": "execute_result"
    }
   ],
   "source": [
    "# Создайте единичный тензор размера 5x6\n",
    "x = torch.ones(5, 6)\n",
    "x"
   ]
  },
  {
   "cell_type": "code",
   "execution_count": 13,
   "metadata": {
    "ExecuteTime": {
     "end_time": "2022-01-24T13:59:10.499138Z",
     "start_time": "2022-01-24T13:59:10.481149Z"
    }
   },
   "outputs": [
    {
     "data": {
      "text/plain": [
       "numpy.ndarray"
      ]
     },
     "execution_count": 13,
     "metadata": {},
     "output_type": "execute_result"
    }
   ],
   "source": [
    "# Переведите его в формат numpy\n",
    "x = x.numpy()\n",
    "type(x)"
   ]
  },
  {
   "cell_type": "code",
   "execution_count": null,
   "metadata": {},
   "outputs": [],
   "source": [
    "# Давайте теперь пооптимизируем: возьмите функцию y = x**w1 - 2 * x**2 + 5\n",
    "# Посчитайте "
   ]
  },
  {
   "cell_type": "code",
   "execution_count": null,
   "metadata": {},
   "outputs": [],
   "source": []
  }
 ],
 "metadata": {
  "kernelspec": {
   "display_name": "Python 3 (ipykernel)",
   "language": "python",
   "name": "python3"
  },
  "language_info": {
   "codemirror_mode": {
    "name": "ipython",
    "version": 3
   },
   "file_extension": ".py",
   "mimetype": "text/x-python",
   "name": "python",
   "nbconvert_exporter": "python",
   "pygments_lexer": "ipython3",
   "version": "3.9.7"
  },
  "toc": {
   "base_numbering": 1,
   "nav_menu": {},
   "number_sections": true,
   "sideBar": true,
   "skip_h1_title": false,
   "title_cell": "Table of Contents",
   "title_sidebar": "Contents",
   "toc_cell": false,
   "toc_position": {},
   "toc_section_display": true,
   "toc_window_display": false
  }
 },
 "nbformat": 4,
 "nbformat_minor": 2
}
