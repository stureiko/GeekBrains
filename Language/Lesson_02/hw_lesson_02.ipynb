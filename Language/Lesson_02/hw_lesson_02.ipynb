{
 "cells": [
  {
   "cell_type": "markdown",
   "id": "859018e4",
   "metadata": {},
   "source": [
    "## Домашнее задание"
   ]
  },
  {
   "cell_type": "markdown",
   "id": "f137a0dd",
   "metadata": {},
   "source": [
    "___Не успел закончить (был в коммандировке неделю), оставляю зашлушку за выходные до 25.04 закончу.___"
   ]
  },
  {
   "cell_type": "markdown",
   "id": "23b785e1",
   "metadata": {},
   "source": [
    "### Задание 1.\n",
    "\n",
    "**Задание**: обучите три классификатора: \n",
    "\n",
    "1) на токенах с высокой частотой \n",
    "\n",
    "2) на токенах со средней частотой \n",
    "\n",
    "3) на токенах с низкой частотой\n",
    "\n",
    "\n",
    "Сравните полученные результаты, оцените какие токены наиболее важные для классификации.\n",
    "\n",
    "\n",
    "### Задание 2.\n",
    "\n",
    "найти фичи с наибольшей значимостью, и вывести их\n",
    "\n",
    "\n",
    "### Задание 3.\n",
    "\n",
    "1) сравнить count/tf-idf/hashing векторайзеры/полносвязанную сетку (построить classification_report)\n",
    "\n",
    "2) подобрать оптимальный размер для hashing векторайзера \n",
    "\n",
    "3) убедиться что для сетки нет переобучения"
   ]
  },
  {
   "cell_type": "markdown",
   "id": "fd48e145",
   "metadata": {},
   "source": [
    "## Импорты"
   ]
  },
  {
   "cell_type": "code",
   "execution_count": 206,
   "id": "f6509966",
   "metadata": {
    "ExecuteTime": {
     "end_time": "2022-04-23T06:56:44.349653Z",
     "start_time": "2022-04-23T06:56:44.338968Z"
    }
   },
   "outputs": [],
   "source": [
    "import warnings\n",
    "warnings.filterwarnings(\"ignore\")\n",
    "\n",
    "import pandas as pd\n",
    "import numpy as np\n",
    "import re\n",
    "import nltk\n",
    "from nltk.corpus import stopwords\n",
    "from nltk.stem import PorterStemmer, WordNetLemmatizer\n",
    "import os\n",
    "from tqdm import tqdm\n",
    "from sklearn.feature_extraction.text import CountVectorizer, TfidfVectorizer, HashingVectorizer\n",
    "\n",
    "from collections import Counter\n",
    "from sklearn.model_selection import train_test_split\n",
    "from sklearn.linear_model import LogisticRegression\n",
    "from sklearn.metrics import classification_report, f1_score"
   ]
  },
  {
   "cell_type": "code",
   "execution_count": 22,
   "id": "e84b9a8f",
   "metadata": {
    "ExecuteTime": {
     "end_time": "2022-04-21T10:30:09.313858Z",
     "start_time": "2022-04-21T10:30:08.189443Z"
    }
   },
   "outputs": [
    {
     "data": {
      "text/html": [
       "<div>\n",
       "<style scoped>\n",
       "    .dataframe tbody tr th:only-of-type {\n",
       "        vertical-align: middle;\n",
       "    }\n",
       "\n",
       "    .dataframe tbody tr th {\n",
       "        vertical-align: top;\n",
       "    }\n",
       "\n",
       "    .dataframe thead th {\n",
       "        text-align: right;\n",
       "    }\n",
       "</style>\n",
       "<table border=\"1\" class=\"dataframe\">\n",
       "  <thead>\n",
       "    <tr style=\"text-align: right;\">\n",
       "      <th></th>\n",
       "      <th>id</th>\n",
       "      <th>label</th>\n",
       "      <th>tweet</th>\n",
       "      <th>clear_tweet</th>\n",
       "      <th>tweet_token</th>\n",
       "      <th>tweet_token_filtered</th>\n",
       "      <th>tweet_stemmed</th>\n",
       "      <th>tweet_lemmatized</th>\n",
       "    </tr>\n",
       "  </thead>\n",
       "  <tbody>\n",
       "    <tr>\n",
       "      <th>0</th>\n",
       "      <td>1</td>\n",
       "      <td>0.0</td>\n",
       "      <td>@user when a father is dysfunctional and is s...</td>\n",
       "      <td>user when father is dysfunctional and is so se...</td>\n",
       "      <td>[user, when, father, is, dysfunctional, and, i...</td>\n",
       "      <td>[user, father, dysfunctional, selfish, drags, ...</td>\n",
       "      <td>[user, father, dysfunct, selfish, drag, kid, d...</td>\n",
       "      <td>[user, father, dysfunct, selfish, drag, kid, d...</td>\n",
       "    </tr>\n",
       "    <tr>\n",
       "      <th>1</th>\n",
       "      <td>2</td>\n",
       "      <td>0.0</td>\n",
       "      <td>@user @user thanks for #lyft credit i can't us...</td>\n",
       "      <td>user user thanks for lyft credit can use cause...</td>\n",
       "      <td>[user, user, thanks, for, lyft, credit, can, u...</td>\n",
       "      <td>[user, user, thanks, lyft, credit, use, cause,...</td>\n",
       "      <td>[user, user, thank, lyft, credit, use, caus, o...</td>\n",
       "      <td>[user, user, thank, lyft, credit, use, caus, o...</td>\n",
       "    </tr>\n",
       "    <tr>\n",
       "      <th>2</th>\n",
       "      <td>3</td>\n",
       "      <td>0.0</td>\n",
       "      <td>bihday your majesty</td>\n",
       "      <td>bihday your majesty</td>\n",
       "      <td>[bihday, your, majesty]</td>\n",
       "      <td>[bihday, majesty]</td>\n",
       "      <td>[bihday, majesti]</td>\n",
       "      <td>[bihday, majesti]</td>\n",
       "    </tr>\n",
       "    <tr>\n",
       "      <th>3</th>\n",
       "      <td>4</td>\n",
       "      <td>0.0</td>\n",
       "      <td>#model   i love u take with u all the time in ...</td>\n",
       "      <td>model love take with all the time in ur</td>\n",
       "      <td>[model, love, take, with, all, the, time, in, ur]</td>\n",
       "      <td>[model, love, take, time, ur]</td>\n",
       "      <td>[model, love, take, time, ur]</td>\n",
       "      <td>[model, love, take, time, ur]</td>\n",
       "    </tr>\n",
       "    <tr>\n",
       "      <th>4</th>\n",
       "      <td>5</td>\n",
       "      <td>0.0</td>\n",
       "      <td>factsguide: society now    #motivation</td>\n",
       "      <td>factsguide society now motivation</td>\n",
       "      <td>[factsguide, society, now, motivation]</td>\n",
       "      <td>[factsguide, society, motivation]</td>\n",
       "      <td>[factsguid, societi, motiv]</td>\n",
       "      <td>[factsguid, societi, motiv]</td>\n",
       "    </tr>\n",
       "  </tbody>\n",
       "</table>\n",
       "</div>"
      ],
      "text/plain": [
       "   id  label                                              tweet  \\\n",
       "0   1    0.0   @user when a father is dysfunctional and is s...   \n",
       "1   2    0.0  @user @user thanks for #lyft credit i can't us...   \n",
       "2   3    0.0                                bihday your majesty   \n",
       "3   4    0.0  #model   i love u take with u all the time in ...   \n",
       "4   5    0.0             factsguide: society now    #motivation   \n",
       "\n",
       "                                         clear_tweet  \\\n",
       "0  user when father is dysfunctional and is so se...   \n",
       "1  user user thanks for lyft credit can use cause...   \n",
       "2                                bihday your majesty   \n",
       "3            model love take with all the time in ur   \n",
       "4                  factsguide society now motivation   \n",
       "\n",
       "                                         tweet_token  \\\n",
       "0  [user, when, father, is, dysfunctional, and, i...   \n",
       "1  [user, user, thanks, for, lyft, credit, can, u...   \n",
       "2                            [bihday, your, majesty]   \n",
       "3  [model, love, take, with, all, the, time, in, ur]   \n",
       "4             [factsguide, society, now, motivation]   \n",
       "\n",
       "                                tweet_token_filtered  \\\n",
       "0  [user, father, dysfunctional, selfish, drags, ...   \n",
       "1  [user, user, thanks, lyft, credit, use, cause,...   \n",
       "2                                  [bihday, majesty]   \n",
       "3                      [model, love, take, time, ur]   \n",
       "4                  [factsguide, society, motivation]   \n",
       "\n",
       "                                       tweet_stemmed  \\\n",
       "0  [user, father, dysfunct, selfish, drag, kid, d...   \n",
       "1  [user, user, thank, lyft, credit, use, caus, o...   \n",
       "2                                  [bihday, majesti]   \n",
       "3                      [model, love, take, time, ur]   \n",
       "4                        [factsguid, societi, motiv]   \n",
       "\n",
       "                                    tweet_lemmatized  \n",
       "0  [user, father, dysfunct, selfish, drag, kid, d...  \n",
       "1  [user, user, thank, lyft, credit, use, caus, o...  \n",
       "2                                  [bihday, majesti]  \n",
       "3                      [model, love, take, time, ur]  \n",
       "4                        [factsguid, societi, motiv]  "
      ]
     },
     "execution_count": 22,
     "metadata": {},
     "output_type": "execute_result"
    }
   ],
   "source": [
    "df = pd.read_pickle('../Lesson_01/lesson_01_preprocessing.pkl')\n",
    "df.head()"
   ]
  },
  {
   "cell_type": "markdown",
   "id": "8bebf5f9",
   "metadata": {},
   "source": [
    "Проверим на пропуски столбец ``'label'`` и отсутствующие заполним ``0`` (на этой итерации)\n",
    "\n",
    "\n",
    "Затем построим классификатор и на его основании предскажем метки твитов с пропущенными метками"
   ]
  },
  {
   "cell_type": "code",
   "execution_count": 23,
   "id": "82e2ad61",
   "metadata": {
    "ExecuteTime": {
     "end_time": "2022-04-21T10:30:12.088620Z",
     "start_time": "2022-04-21T10:30:12.076731Z"
    }
   },
   "outputs": [
    {
     "data": {
      "text/plain": [
       "array([ 0.,  1., nan])"
      ]
     },
     "execution_count": 23,
     "metadata": {},
     "output_type": "execute_result"
    }
   ],
   "source": [
    "df['label'].unique()"
   ]
  },
  {
   "cell_type": "code",
   "execution_count": 24,
   "id": "4ffcd410",
   "metadata": {
    "ExecuteTime": {
     "end_time": "2022-04-21T10:30:14.788988Z",
     "start_time": "2022-04-21T10:30:14.778061Z"
    }
   },
   "outputs": [
    {
     "data": {
      "text/plain": [
       "0.0    29720\n",
       "1.0     2242\n",
       "Name: label, dtype: int64"
      ]
     },
     "execution_count": 24,
     "metadata": {},
     "output_type": "execute_result"
    }
   ],
   "source": [
    "df['label'].value_counts()"
   ]
  },
  {
   "cell_type": "code",
   "execution_count": 25,
   "id": "61805b58",
   "metadata": {
    "ExecuteTime": {
     "end_time": "2022-04-21T10:30:15.814313Z",
     "start_time": "2022-04-21T10:30:15.804882Z"
    }
   },
   "outputs": [],
   "source": [
    "df['label'].fillna(0, inplace=True)"
   ]
  },
  {
   "cell_type": "code",
   "execution_count": 26,
   "id": "6912926b",
   "metadata": {
    "ExecuteTime": {
     "end_time": "2022-04-21T10:30:17.208888Z",
     "start_time": "2022-04-21T10:30:17.191550Z"
    }
   },
   "outputs": [
    {
     "data": {
      "text/plain": [
       "0    46917\n",
       "1     2242\n",
       "Name: label, dtype: int64"
      ]
     },
     "execution_count": 26,
     "metadata": {},
     "output_type": "execute_result"
    }
   ],
   "source": [
    "df['label'].astype(int).value_counts()"
   ]
  },
  {
   "cell_type": "markdown",
   "id": "11e9e352",
   "metadata": {},
   "source": [
    "### Выделим метки и разделим на train и test"
   ]
  },
  {
   "cell_type": "code",
   "execution_count": 93,
   "id": "214a4fcb",
   "metadata": {
    "ExecuteTime": {
     "end_time": "2022-04-22T02:27:03.829952Z",
     "start_time": "2022-04-22T02:27:03.739086Z"
    }
   },
   "outputs": [],
   "source": [
    "X, y = df['tweet_stemmed'], df['label']\n",
    "X_train, X_test, y_train, y_test = train_test_split(\n",
    "    X, y, test_size=0.33, random_state=42)\n",
    "\n",
    "X_train = [\" \".join(x) for x in X_train]\n",
    "X_test = [\" \".join(x) for x in X_test]"
   ]
  },
  {
   "cell_type": "markdown",
   "id": "d523b6ea",
   "metadata": {},
   "source": [
    "## Задание 1.\n",
    "\n",
    "**Задание**: обучите три классификатора: \n",
    "\n",
    "1) на токенах с высокой частотой \n",
    "\n",
    "2) на токенах со средней частотой \n",
    "\n",
    "3) на токенах с низкой частотой\n",
    "\n",
    "\n",
    "Сравните полученные результаты, оцените какие токены наиболее важные для классификации."
   ]
  },
  {
   "cell_type": "code",
   "execution_count": 217,
   "id": "05824362",
   "metadata": {
    "ExecuteTime": {
     "end_time": "2022-04-23T08:02:44.839193Z",
     "start_time": "2022-04-23T08:02:44.832431Z"
    }
   },
   "outputs": [],
   "source": [
    "compare_freq = pd.DataFrame(columns=['Token_frequency', 'f1_score'])"
   ]
  },
  {
   "cell_type": "code",
   "execution_count": 218,
   "id": "24f677d1",
   "metadata": {
    "ExecuteTime": {
     "end_time": "2022-04-23T08:02:48.488216Z",
     "start_time": "2022-04-23T08:02:45.654671Z"
    }
   },
   "outputs": [
    {
     "name": "stdout",
     "output_type": "stream",
     "text": [
      "              precision    recall  f1-score   support\n",
      "\n",
      "         0.0       0.99      0.97      0.98     15793\n",
      "         1.0       0.33      0.58      0.42       430\n",
      "\n",
      "    accuracy                           0.96     16223\n",
      "   macro avg       0.66      0.77      0.70     16223\n",
      "weighted avg       0.97      0.96      0.96     16223\n",
      "\n"
     ]
    }
   ],
   "source": [
    "# Обучим на всех токенах\n",
    "vec = CountVectorizer(ngram_range=(1, 1), \n",
    "                      binary=False, \n",
    "                      max_df=1.0, \n",
    "                      min_df=1,)\n",
    "bow = vec.fit_transform(X_train)\n",
    "\n",
    "clf = LogisticRegression(random_state=42)\n",
    "clf.fit(bow, y_train)\n",
    "\n",
    "pred = clf.predict(vec.transform(X_test))\n",
    "print(classification_report(pred, y_test))\n",
    "\n",
    "compare_freq.loc[compare_freq.shape[0]] = ['All tokens', f1_score(y_true=y_test, y_pred=pred)]"
   ]
  },
  {
   "cell_type": "code",
   "execution_count": 219,
   "id": "1dadf041",
   "metadata": {
    "ExecuteTime": {
     "end_time": "2022-04-23T08:02:50.480054Z",
     "start_time": "2022-04-23T08:02:48.492913Z"
    }
   },
   "outputs": [
    {
     "name": "stdout",
     "output_type": "stream",
     "text": [
      "              precision    recall  f1-score   support\n",
      "\n",
      "         0.0       0.99      0.97      0.98     15783\n",
      "         1.0       0.34      0.59      0.43       440\n",
      "\n",
      "    accuracy                           0.96     16223\n",
      "   macro avg       0.66      0.78      0.70     16223\n",
      "weighted avg       0.97      0.96      0.96     16223\n",
      "\n"
     ]
    }
   ],
   "source": [
    "# Обучим на токенах с низкой частотой (максимум в 30% документов)\n",
    "vec = CountVectorizer(ngram_range=(1, 1), \n",
    "                      binary=False, \n",
    "                      max_df=0.3, \n",
    "                      min_df=1,)\n",
    "bow = vec.fit_transform(X_train)\n",
    "\n",
    "clf = LogisticRegression(random_state=42)\n",
    "clf.fit(bow, y_train)\n",
    "\n",
    "pred = clf.predict(vec.transform(X_test))\n",
    "print(classification_report(pred, y_test))\n",
    "compare_freq.loc[compare_freq.shape[0]] = ['Low frequency tokens', f1_score(y_true=y_test, y_pred=pred)]"
   ]
  },
  {
   "cell_type": "code",
   "execution_count": 220,
   "id": "4ec0d4f5",
   "metadata": {
    "ExecuteTime": {
     "end_time": "2022-04-23T08:02:51.731821Z",
     "start_time": "2022-04-23T08:02:50.483403Z"
    }
   },
   "outputs": [
    {
     "name": "stdout",
     "output_type": "stream",
     "text": [
      "              precision    recall  f1-score   support\n",
      "\n",
      "         0.0       0.99      0.96      0.98     16043\n",
      "         1.0       0.12      0.52      0.20       180\n",
      "\n",
      "    accuracy                           0.95     16223\n",
      "   macro avg       0.56      0.74      0.59     16223\n",
      "weighted avg       0.98      0.95      0.97     16223\n",
      "\n"
     ]
    }
   ],
   "source": [
    "# Обучим на токенах с высокой частотой (минимум в 100 документах)\n",
    "vec = CountVectorizer(ngram_range=(1, 1), \n",
    "                      binary=False, \n",
    "                      max_df=1.0, \n",
    "                      min_df=100,)\n",
    "bow = vec.fit_transform(X_train)\n",
    "\n",
    "clf = LogisticRegression(random_state=42)\n",
    "clf.fit(bow, y_train)\n",
    "\n",
    "pred = clf.predict(vec.transform(X_test))\n",
    "print(classification_report(pred, y_test))\n",
    "compare_freq.loc[compare_freq.shape[0]] = ['High frequency tokens', f1_score(y_true=y_test, y_pred=pred)]"
   ]
  },
  {
   "cell_type": "code",
   "execution_count": 221,
   "id": "1fe7b0ad",
   "metadata": {
    "ExecuteTime": {
     "end_time": "2022-04-23T08:02:53.206499Z",
     "start_time": "2022-04-23T08:02:51.737987Z"
    }
   },
   "outputs": [
    {
     "name": "stdout",
     "output_type": "stream",
     "text": [
      "              precision    recall  f1-score   support\n",
      "\n",
      "         0.0       0.99      0.96      0.98     16043\n",
      "         1.0       0.12      0.52      0.20       180\n",
      "\n",
      "    accuracy                           0.95     16223\n",
      "   macro avg       0.56      0.74      0.59     16223\n",
      "weighted avg       0.98      0.95      0.97     16223\n",
      "\n"
     ]
    }
   ],
   "source": [
    "# Обучим на токенах средней частоты\n",
    "vec = CountVectorizer(ngram_range=(1, 1), \n",
    "                      binary=False, \n",
    "                      max_df=0.7, \n",
    "                      min_df=100,)\n",
    "bow = vec.fit_transform(X_train)\n",
    "\n",
    "clf = LogisticRegression(random_state=42)\n",
    "clf.fit(bow, y_train)\n",
    "\n",
    "pred = clf.predict(vec.transform(X_test))\n",
    "print(classification_report(pred, y_test))\n",
    "compare_freq.loc[compare_freq.shape[0]] = ['Middle frequency tokens', f1_score(y_true=y_test, y_pred=pred)]"
   ]
  },
  {
   "cell_type": "code",
   "execution_count": 222,
   "id": "1d088f1a",
   "metadata": {
    "ExecuteTime": {
     "end_time": "2022-04-23T08:02:53.217321Z",
     "start_time": "2022-04-23T08:02:53.209727Z"
    }
   },
   "outputs": [],
   "source": [
    "compare_freq['TFIDF_f1_score'] = 0"
   ]
  },
  {
   "cell_type": "code",
   "execution_count": 223,
   "id": "bc854fef",
   "metadata": {
    "ExecuteTime": {
     "end_time": "2022-04-23T08:02:54.337874Z",
     "start_time": "2022-04-23T08:02:53.222812Z"
    }
   },
   "outputs": [
    {
     "name": "stdout",
     "output_type": "stream",
     "text": [
      "              precision    recall  f1-score   support\n",
      "\n",
      "         0.0       0.99      0.96      0.98     16048\n",
      "         1.0       0.12      0.54      0.20       175\n",
      "\n",
      "    accuracy                           0.95     16223\n",
      "   macro avg       0.56      0.75      0.59     16223\n",
      "weighted avg       0.99      0.95      0.97     16223\n",
      "\n"
     ]
    }
   ],
   "source": [
    "# Обучим на токенах средней частоты\n",
    "vec = TfidfVectorizer(ngram_range=(1, 1), \n",
    "                      binary=False, \n",
    "                      max_df=0.7, \n",
    "                      min_df=100,)\n",
    "bow = vec.fit_transform(X_train)\n",
    "\n",
    "clf = LogisticRegression(random_state=42)\n",
    "clf.fit(bow, y_train)\n",
    "\n",
    "pred = clf.predict(vec.transform(X_test))\n",
    "print(classification_report(pred, y_test))\n",
    "compare_freq.loc[3, 'TFIDF_f1_score'] = f1_score(y_true=y_test, y_pred=pred)"
   ]
  },
  {
   "cell_type": "code",
   "execution_count": 224,
   "id": "b44d01cc",
   "metadata": {
    "ExecuteTime": {
     "end_time": "2022-04-23T08:02:55.977473Z",
     "start_time": "2022-04-23T08:02:54.341923Z"
    }
   },
   "outputs": [
    {
     "name": "stdout",
     "output_type": "stream",
     "text": [
      "              precision    recall  f1-score   support\n",
      "\n",
      "         0.0       0.99      0.96      0.98     16027\n",
      "         1.0       0.16      0.60      0.25       196\n",
      "\n",
      "    accuracy                           0.96     16223\n",
      "   macro avg       0.58      0.78      0.61     16223\n",
      "weighted avg       0.98      0.96      0.97     16223\n",
      "\n"
     ]
    }
   ],
   "source": [
    "# Обучим на всех токенах\n",
    "vec = TfidfVectorizer(ngram_range=(1, 1), \n",
    "                      binary=False, \n",
    "                      max_df=1.0, \n",
    "                      min_df=1)\n",
    "bow = vec.fit_transform(X_train)\n",
    "\n",
    "clf = LogisticRegression(random_state=42)\n",
    "clf.fit(bow, y_train)\n",
    "\n",
    "pred = clf.predict(vec.transform(X_test))\n",
    "print(classification_report(pred, y_test))\n",
    "compare_freq.loc[0, 'TFIDF_f1_score'] = f1_score(y_true=y_test, y_pred=pred)"
   ]
  },
  {
   "cell_type": "code",
   "execution_count": 225,
   "id": "9545c9e4",
   "metadata": {
    "ExecuteTime": {
     "end_time": "2022-04-23T08:02:57.585935Z",
     "start_time": "2022-04-23T08:02:55.980410Z"
    }
   },
   "outputs": [
    {
     "name": "stdout",
     "output_type": "stream",
     "text": [
      "              precision    recall  f1-score   support\n",
      "\n",
      "         0.0       0.99      0.96      0.98     16027\n",
      "         1.0       0.15      0.60      0.25       196\n",
      "\n",
      "    accuracy                           0.96     16223\n",
      "   macro avg       0.57      0.78      0.61     16223\n",
      "weighted avg       0.98      0.96      0.97     16223\n",
      "\n"
     ]
    }
   ],
   "source": [
    "# Обучим на токенах низкой частоты\n",
    "vec = TfidfVectorizer(ngram_range=(1, 1), \n",
    "                      binary=False, \n",
    "                      max_df=0.3, \n",
    "                      min_df=1,)\n",
    "bow = vec.fit_transform(X_train)\n",
    "\n",
    "clf = LogisticRegression(random_state=42)\n",
    "clf.fit(bow, y_train)\n",
    "\n",
    "pred = clf.predict(vec.transform(X_test))\n",
    "print(classification_report(pred, y_test))\n",
    "compare_freq.loc[1, 'TFIDF_f1_score'] = f1_score(y_true=y_test, y_pred=pred)"
   ]
  },
  {
   "cell_type": "code",
   "execution_count": 226,
   "id": "e27abb20",
   "metadata": {
    "ExecuteTime": {
     "end_time": "2022-04-23T08:02:59.420798Z",
     "start_time": "2022-04-23T08:02:57.597687Z"
    }
   },
   "outputs": [
    {
     "name": "stdout",
     "output_type": "stream",
     "text": [
      "              precision    recall  f1-score   support\n",
      "\n",
      "         0.0       0.99      0.96      0.98     16048\n",
      "         1.0       0.12      0.54      0.20       175\n",
      "\n",
      "    accuracy                           0.95     16223\n",
      "   macro avg       0.56      0.75      0.59     16223\n",
      "weighted avg       0.99      0.95      0.97     16223\n",
      "\n"
     ]
    }
   ],
   "source": [
    "# Обучим на токенах высокой частоты\n",
    "vec = TfidfVectorizer(ngram_range=(1, 1), \n",
    "                      binary=False, \n",
    "                      max_df=1.0, \n",
    "                      min_df=100)\n",
    "bow = vec.fit_transform(X_train)\n",
    "\n",
    "clf = LogisticRegression(random_state=42)\n",
    "clf.fit(bow, y_train)\n",
    "\n",
    "pred = clf.predict(vec.transform(X_test))\n",
    "print(classification_report(pred, y_test))\n",
    "compare_freq.loc[2, 'TFIDF_f1_score'] = f1_score(y_true=y_test, y_pred=pred)"
   ]
  },
  {
   "cell_type": "code",
   "execution_count": 227,
   "id": "30f4c2a6",
   "metadata": {
    "ExecuteTime": {
     "end_time": "2022-04-23T08:02:59.439677Z",
     "start_time": "2022-04-23T08:02:59.424314Z"
    },
    "scrolled": true
   },
   "outputs": [
    {
     "data": {
      "text/html": [
       "<div>\n",
       "<style scoped>\n",
       "    .dataframe tbody tr th:only-of-type {\n",
       "        vertical-align: middle;\n",
       "    }\n",
       "\n",
       "    .dataframe tbody tr th {\n",
       "        vertical-align: top;\n",
       "    }\n",
       "\n",
       "    .dataframe thead th {\n",
       "        text-align: right;\n",
       "    }\n",
       "</style>\n",
       "<table border=\"1\" class=\"dataframe\">\n",
       "  <thead>\n",
       "    <tr style=\"text-align: right;\">\n",
       "      <th></th>\n",
       "      <th>Token_frequency</th>\n",
       "      <th>f1_score</th>\n",
       "      <th>TFIDF_f1_score</th>\n",
       "    </tr>\n",
       "  </thead>\n",
       "  <tbody>\n",
       "    <tr>\n",
       "      <th>0</th>\n",
       "      <td>All tokens</td>\n",
       "      <td>0.420521</td>\n",
       "      <td>0.247120</td>\n",
       "    </tr>\n",
       "    <tr>\n",
       "      <th>1</th>\n",
       "      <td>Low frequency tokens</td>\n",
       "      <td>0.430359</td>\n",
       "      <td>0.245026</td>\n",
       "    </tr>\n",
       "    <tr>\n",
       "      <th>2</th>\n",
       "      <td>High frequency tokens</td>\n",
       "      <td>0.198083</td>\n",
       "      <td>0.201285</td>\n",
       "    </tr>\n",
       "    <tr>\n",
       "      <th>3</th>\n",
       "      <td>Middle frequency tokens</td>\n",
       "      <td>0.198083</td>\n",
       "      <td>0.201285</td>\n",
       "    </tr>\n",
       "  </tbody>\n",
       "</table>\n",
       "</div>"
      ],
      "text/plain": [
       "           Token_frequency  f1_score  TFIDF_f1_score\n",
       "0               All tokens  0.420521        0.247120\n",
       "1     Low frequency tokens  0.430359        0.245026\n",
       "2    High frequency tokens  0.198083        0.201285\n",
       "3  Middle frequency tokens  0.198083        0.201285"
      ]
     },
     "execution_count": 227,
     "metadata": {},
     "output_type": "execute_result"
    }
   ],
   "source": [
    "compare_freq"
   ]
  },
  {
   "cell_type": "code",
   "execution_count": 241,
   "id": "1b6ac295",
   "metadata": {
    "ExecuteTime": {
     "end_time": "2022-04-23T08:06:56.802194Z",
     "start_time": "2022-04-23T08:06:56.781333Z"
    }
   },
   "outputs": [
    {
     "data": {
      "text/plain": [
       "'Low frequency tokens'"
      ]
     },
     "execution_count": 241,
     "metadata": {},
     "output_type": "execute_result"
    }
   ],
   "source": [
    "compare_freq.loc[compare_freq['f1_score']==compare_freq['f1_score'].max(), \n",
    "                 'Token_frequency'].values[0]"
   ]
  },
  {
   "cell_type": "markdown",
   "id": "f316904d",
   "metadata": {},
   "source": [
    "__Задание 1 - наиболее выжными оказались токены встречающиеся редко - для них наибольшее значение f1 score по классу 1, и примерно постоянное значение по классу 0.__\n",
    "\n",
    "TFIDF учитывает частоту вхождения поэтому здесь лучше для всех токенов"
   ]
  },
  {
   "cell_type": "markdown",
   "id": "00f40db6",
   "metadata": {},
   "source": [
    "## Задание 2. \n",
    "Получить наиболее значимые фичи"
   ]
  },
  {
   "cell_type": "code",
   "execution_count": 242,
   "id": "23d1b1f1",
   "metadata": {
    "ExecuteTime": {
     "end_time": "2022-04-23T08:08:25.246787Z",
     "start_time": "2022-04-23T08:08:23.536309Z"
    }
   },
   "outputs": [
    {
     "name": "stdout",
     "output_type": "stream",
     "text": [
      "              precision    recall  f1-score   support\n",
      "\n",
      "         0.0       0.99      0.97      0.98     15783\n",
      "         1.0       0.34      0.59      0.43       440\n",
      "\n",
      "    accuracy                           0.96     16223\n",
      "   macro avg       0.66      0.78      0.70     16223\n",
      "weighted avg       0.97      0.96      0.96     16223\n",
      "\n"
     ]
    }
   ],
   "source": [
    "vec = CountVectorizer(ngram_range=(1, 1), \n",
    "                      binary=False, \n",
    "                      max_df=0.3, \n",
    "                      min_df=1,)\n",
    "bow = vec.fit_transform(X_train)\n",
    "\n",
    "clf = LogisticRegression(random_state=42)\n",
    "clf.fit(bow, y_train)\n",
    "\n",
    "pred = clf.predict(vec.transform(X_test))\n",
    "print(classification_report(pred, y_test))"
   ]
  },
  {
   "cell_type": "code",
   "execution_count": 272,
   "id": "c04fcb1e",
   "metadata": {
    "ExecuteTime": {
     "end_time": "2022-04-23T08:23:24.732655Z",
     "start_time": "2022-04-23T08:23:24.666826Z"
    }
   },
   "outputs": [
    {
     "data": {
      "text/html": [
       "<div>\n",
       "<style scoped>\n",
       "    .dataframe tbody tr th:only-of-type {\n",
       "        vertical-align: middle;\n",
       "    }\n",
       "\n",
       "    .dataframe tbody tr th {\n",
       "        vertical-align: top;\n",
       "    }\n",
       "\n",
       "    .dataframe thead th {\n",
       "        text-align: right;\n",
       "    }\n",
       "</style>\n",
       "<table border=\"1\" class=\"dataframe\">\n",
       "  <thead>\n",
       "    <tr style=\"text-align: right;\">\n",
       "      <th></th>\n",
       "      <th>features</th>\n",
       "      <th>coef</th>\n",
       "    </tr>\n",
       "  </thead>\n",
       "  <tbody>\n",
       "    <tr>\n",
       "      <th>2799</th>\n",
       "      <td>bihday</td>\n",
       "      <td>-2.042485</td>\n",
       "    </tr>\n",
       "    <tr>\n",
       "      <th>20496</th>\n",
       "      <td>orlando</td>\n",
       "      <td>-1.959245</td>\n",
       "    </tr>\n",
       "    <tr>\n",
       "      <th>12164</th>\n",
       "      <td>healthi</td>\n",
       "      <td>-1.804823</td>\n",
       "    </tr>\n",
       "    <tr>\n",
       "      <th>28562</th>\n",
       "      <td>tomorrow</td>\n",
       "      <td>-1.554046</td>\n",
       "    </tr>\n",
       "    <tr>\n",
       "      <th>6630</th>\n",
       "      <td>day</td>\n",
       "      <td>-1.523865</td>\n",
       "    </tr>\n",
       "    <tr>\n",
       "      <th>11662</th>\n",
       "      <td>gun</td>\n",
       "      <td>-1.504463</td>\n",
       "    </tr>\n",
       "    <tr>\n",
       "      <th>21970</th>\n",
       "      <td>posit</td>\n",
       "      <td>-1.428776</td>\n",
       "    </tr>\n",
       "    <tr>\n",
       "      <th>25152</th>\n",
       "      <td>shoot</td>\n",
       "      <td>-1.415368</td>\n",
       "    </tr>\n",
       "    <tr>\n",
       "      <th>15925</th>\n",
       "      <td>life</td>\n",
       "      <td>-1.409495</td>\n",
       "    </tr>\n",
       "    <tr>\n",
       "      <th>30539</th>\n",
       "      <td>weekend</td>\n",
       "      <td>-1.375034</td>\n",
       "    </tr>\n",
       "  </tbody>\n",
       "</table>\n",
       "</div>"
      ],
      "text/plain": [
       "       features      coef\n",
       "2799     bihday -2.042485\n",
       "20496   orlando -1.959245\n",
       "12164   healthi -1.804823\n",
       "28562  tomorrow -1.554046\n",
       "6630        day -1.523865\n",
       "11662       gun -1.504463\n",
       "21970     posit -1.428776\n",
       "25152     shoot -1.415368\n",
       "15925      life -1.409495\n",
       "30539   weekend -1.375034"
      ]
     },
     "execution_count": 272,
     "metadata": {},
     "output_type": "execute_result"
    }
   ],
   "source": [
    "ft = pd.DataFrame({'features': vec.get_feature_names(), 'coef': clf.coef_[0]})\n",
    "ft.sort_values(by='coef').head(10)\n"
   ]
  },
  {
   "cell_type": "markdown",
   "id": "a24fa836",
   "metadata": {},
   "source": [
    "## Задание 3.\n",
    "\n",
    "1) сравнить count/tf-idf/hashing векторайзеры/полносвязанную сетку (построить classification_report)\n",
    "\n",
    "2) подобрать оптимальный размер для hashing векторайзера \n",
    "\n",
    "3) убедиться что для сетки нет переобучения"
   ]
  },
  {
   "cell_type": "markdown",
   "id": "8597aeff",
   "metadata": {},
   "source": [
    "### Cравнить count/tf-idf/hashing векторайзеры/полносвязанную сетку (построить classification_report)"
   ]
  },
  {
   "cell_type": "code",
   "execution_count": 215,
   "id": "d1e6acb1",
   "metadata": {
    "ExecuteTime": {
     "end_time": "2022-04-23T07:07:18.589995Z",
     "start_time": "2022-04-23T07:07:02.138377Z"
    }
   },
   "outputs": [
    {
     "name": "stderr",
     "output_type": "stream",
     "text": [
      "100%|█████████████████████████████████████████████| 9/9 [00:16<00:00,  1.82s/it]\n"
     ]
    },
    {
     "data": {
      "text/html": [
       "<div>\n",
       "<style scoped>\n",
       "    .dataframe tbody tr th:only-of-type {\n",
       "        vertical-align: middle;\n",
       "    }\n",
       "\n",
       "    .dataframe tbody tr th {\n",
       "        vertical-align: top;\n",
       "    }\n",
       "\n",
       "    .dataframe thead th {\n",
       "        text-align: right;\n",
       "    }\n",
       "</style>\n",
       "<table border=\"1\" class=\"dataframe\">\n",
       "  <thead>\n",
       "    <tr style=\"text-align: right;\">\n",
       "      <th></th>\n",
       "      <th>Vectorizer</th>\n",
       "      <th>f1_score</th>\n",
       "    </tr>\n",
       "  </thead>\n",
       "  <tbody>\n",
       "    <tr>\n",
       "      <th>0</th>\n",
       "      <td>TfidfVectorizer()</td>\n",
       "      <td>0.247120</td>\n",
       "    </tr>\n",
       "    <tr>\n",
       "      <th>1</th>\n",
       "      <td>TfidfVectorizer(min_df=100)</td>\n",
       "      <td>0.201285</td>\n",
       "    </tr>\n",
       "    <tr>\n",
       "      <th>2</th>\n",
       "      <td>TfidfVectorizer(max_df=0.7, min_df=100)</td>\n",
       "      <td>0.201285</td>\n",
       "    </tr>\n",
       "    <tr>\n",
       "      <th>3</th>\n",
       "      <td>TfidfVectorizer(max_df=0.3)</td>\n",
       "      <td>0.245026</td>\n",
       "    </tr>\n",
       "    <tr>\n",
       "      <th>4</th>\n",
       "      <td>CountVectorizer()</td>\n",
       "      <td>0.420521</td>\n",
       "    </tr>\n",
       "    <tr>\n",
       "      <th>5</th>\n",
       "      <td>CountVectorizer(min_df=100)</td>\n",
       "      <td>0.198083</td>\n",
       "    </tr>\n",
       "    <tr>\n",
       "      <th>6</th>\n",
       "      <td>CountVectorizer(max_df=0.7, min_df=100)</td>\n",
       "      <td>0.198083</td>\n",
       "    </tr>\n",
       "    <tr>\n",
       "      <th>7</th>\n",
       "      <td>CountVectorizer(max_df=0.3)</td>\n",
       "      <td>0.430359</td>\n",
       "    </tr>\n",
       "    <tr>\n",
       "      <th>8</th>\n",
       "      <td>HashingVectorizer(n_features=9900)</td>\n",
       "      <td>0.234542</td>\n",
       "    </tr>\n",
       "  </tbody>\n",
       "</table>\n",
       "</div>"
      ],
      "text/plain": [
       "                                Vectorizer  f1_score\n",
       "0                        TfidfVectorizer()  0.247120\n",
       "1              TfidfVectorizer(min_df=100)  0.201285\n",
       "2  TfidfVectorizer(max_df=0.7, min_df=100)  0.201285\n",
       "3              TfidfVectorizer(max_df=0.3)  0.245026\n",
       "4                        CountVectorizer()  0.420521\n",
       "5              CountVectorizer(min_df=100)  0.198083\n",
       "6  CountVectorizer(max_df=0.7, min_df=100)  0.198083\n",
       "7              CountVectorizer(max_df=0.3)  0.430359\n",
       "8       HashingVectorizer(n_features=9900)  0.234542"
      ]
     },
     "execution_count": 215,
     "metadata": {},
     "output_type": "execute_result"
    }
   ],
   "source": [
    "vectorizers = []\n",
    "\n",
    "vec_TFIDF_all = TfidfVectorizer(ngram_range=(1, 1), \n",
    "                      binary=False, \n",
    "                      max_df=1.0, \n",
    "                      min_df=1)\n",
    "vectorizers.append(vec_TFIDF_all)\n",
    "\n",
    "vec_TFIDF_high = TfidfVectorizer(ngram_range=(1, 1), \n",
    "                      binary=False, \n",
    "                      max_df=1.0, \n",
    "                      min_df=100)\n",
    "vectorizers.append(vec_TFIDF_high)\n",
    "\n",
    "vec_TFIDF_middle = TfidfVectorizer(ngram_range=(1, 1), \n",
    "                      binary=False, \n",
    "                      max_df=0.7, \n",
    "                      min_df=100)\n",
    "vectorizers.append(vec_TFIDF_middle)\n",
    "\n",
    "vec_TFIDF_low = TfidfVectorizer(ngram_range=(1, 1), \n",
    "                      binary=False, \n",
    "                      max_df=0.3, \n",
    "                      min_df=1)\n",
    "vectorizers.append(vec_TFIDF_low)\n",
    "\n",
    "vec_count_all = CountVectorizer(ngram_range=(1, 1), \n",
    "                      binary=False, \n",
    "                      max_df=1.0, \n",
    "                      min_df=1)\n",
    "vectorizers.append(vec_count_all)\n",
    "\n",
    "vec_count_high = CountVectorizer(ngram_range=(1, 1), \n",
    "                      binary=False, \n",
    "                      max_df=1.0, \n",
    "                      min_df=100)\n",
    "vectorizers.append(vec_count_high)\n",
    "\n",
    "vec_count_middle = CountVectorizer(ngram_range=(1, 1), \n",
    "                      binary=False, \n",
    "                      max_df=0.7, \n",
    "                      min_df=100)\n",
    "vectorizers.append(vec_count_middle)\n",
    "\n",
    "vec_count_low = CountVectorizer(ngram_range=(1, 1), \n",
    "                      binary=False, \n",
    "                      max_df=0.3, \n",
    "                      min_df=1)\n",
    "vectorizers.append(vec_count_low)\n",
    "\n",
    "vec_hash = HashingVectorizer(n_features=9900)\n",
    "vectorizers.append(vec_hash)\n",
    "\n",
    "compare = pd.DataFrame(columns=['Vectorizer', 'f1_score'])\n",
    "\n",
    "for vec in tqdm(vectorizers):\n",
    "    bow = vec.fit_transform(X_train)\n",
    "\n",
    "    clf = LogisticRegression(random_state=42)\n",
    "    clf.fit(bow, y_train)\n",
    "\n",
    "    pred = clf.predict(vec.transform(X_test))\n",
    "#     print(classification_report(pred, y_test))\n",
    "    compare.loc[compare.shape[0]] = [str(vec), f1_score(y_true=y_test, y_pred=pred)]\n",
    "\n",
    "compare"
   ]
  },
  {
   "cell_type": "code",
   "execution_count": 216,
   "id": "b702e999",
   "metadata": {
    "ExecuteTime": {
     "end_time": "2022-04-23T07:07:34.374495Z",
     "start_time": "2022-04-23T07:07:34.362805Z"
    }
   },
   "outputs": [
    {
     "data": {
      "text/plain": [
       "Vectorizer    TfidfVectorizer(min_df=100)\n",
       "f1_score                         0.430359\n",
       "dtype: object"
      ]
     },
     "execution_count": 216,
     "metadata": {},
     "output_type": "execute_result"
    }
   ],
   "source": [
    "compare.max()"
   ]
  },
  {
   "cell_type": "markdown",
   "id": "eab23dc9",
   "metadata": {},
   "source": [
    "### Подобрать оптимальный размер для hashing векторайзера"
   ]
  },
  {
   "cell_type": "code",
   "execution_count": 214,
   "id": "b6f2c106",
   "metadata": {
    "ExecuteTime": {
     "end_time": "2022-04-23T07:06:15.747452Z",
     "start_time": "2022-04-23T07:02:29.794593Z"
    },
    "scrolled": true
   },
   "outputs": [
    {
     "name": "stderr",
     "output_type": "stream",
     "text": [
      "100%|█████████████████████████████████████████| 199/199 [03:45<00:00,  1.14s/it]\n"
     ]
    },
    {
     "data": {
      "text/plain": [
       "Vectorizer    HashingVectorizer(n_features=9900)\n",
       "f1_score                                0.251055\n",
       "dtype: object"
      ]
     },
     "execution_count": 214,
     "metadata": {},
     "output_type": "execute_result"
    }
   ],
   "source": [
    "# подбор для HashingVectorizer\n",
    "vectorizers = []\n",
    "compare = pd.DataFrame(columns=['Vectorizer', 'f1_score'])\n",
    "\n",
    "for n in np.arange(100, 20000, 100):\n",
    "    vec_hash = HashingVectorizer(n_features=n)\n",
    "    vectorizers.append(vec_hash)\n",
    "\n",
    "for vec in tqdm(vectorizers):\n",
    "    bow = vec.fit_transform(X_train)\n",
    "\n",
    "    clf = LogisticRegression(random_state=42)\n",
    "    clf.fit(bow, y_train)\n",
    "\n",
    "    pred = clf.predict(vec.transform(X_test))\n",
    "#     print(classification_report(pred, y_test))\n",
    "    compare.loc[compare.shape[0]] = [str(vec), f1_score(y_true=y_test, y_pred=pred)]\n",
    "\n",
    "compare.max()"
   ]
  },
  {
   "cell_type": "markdown",
   "id": "7e22a625",
   "metadata": {},
   "source": [
    "### Убедиться что для сетки нет переобучения"
   ]
  },
  {
   "cell_type": "markdown",
   "id": "6edffa14",
   "metadata": {},
   "source": [
    "#### Построим сетку"
   ]
  },
  {
   "cell_type": "code",
   "execution_count": 122,
   "id": "08053fa7",
   "metadata": {
    "ExecuteTime": {
     "end_time": "2022-04-22T03:52:24.794505Z",
     "start_time": "2022-04-22T03:52:24.786106Z"
    }
   },
   "outputs": [],
   "source": [
    "import tensorflow as tf\n",
    "from tensorflow.keras import Sequential\n",
    "from tensorflow.keras.layers import Dense, Embedding, GlobalAveragePooling1D, Conv1D, GRU, LSTM, Dropout"
   ]
  },
  {
   "cell_type": "code",
   "execution_count": 125,
   "id": "3a7a3f3c",
   "metadata": {
    "ExecuteTime": {
     "end_time": "2022-04-22T03:54:59.416126Z",
     "start_time": "2022-04-22T03:54:59.210795Z"
    }
   },
   "outputs": [],
   "source": [
    "train_data = tf.data.Dataset.from_tensor_slices((X_train, y_train))\n",
    "test_data = tf.data.Dataset.from_tensor_slices((X_test, y_test))"
   ]
  },
  {
   "cell_type": "code",
   "execution_count": 126,
   "id": "62268479",
   "metadata": {
    "ExecuteTime": {
     "end_time": "2022-04-22T03:55:40.023077Z",
     "start_time": "2022-04-22T03:55:40.014282Z"
    }
   },
   "outputs": [],
   "source": [
    "train_data = train_data.batch(10)\n",
    "test_data = test_data.batch(10)"
   ]
  },
  {
   "cell_type": "code",
   "execution_count": 129,
   "id": "ff9f565e",
   "metadata": {
    "ExecuteTime": {
     "end_time": "2022-04-22T03:58:25.800171Z",
     "start_time": "2022-04-22T03:58:25.796398Z"
    }
   },
   "outputs": [],
   "source": [
    "# AUTOTUNE = tf.data.AUTOTUNE\n",
    "# train_data = train_data.cache().prefetch(buffer_size=AUTOTUNE)\n",
    "# test_data = test_data.cache().prefetch(buffer_size=AUTOTUNE)"
   ]
  },
  {
   "cell_type": "code",
   "execution_count": 130,
   "id": "2250eb5a",
   "metadata": {
    "ExecuteTime": {
     "end_time": "2022-04-22T03:59:25.028688Z",
     "start_time": "2022-04-22T03:59:25.022758Z"
    }
   },
   "outputs": [],
   "source": [
    "def custom_standartization(input_data):\n",
    "    return input_data"
   ]
  },
  {
   "cell_type": "code",
   "execution_count": null,
   "id": "333d22ec",
   "metadata": {},
   "outputs": [],
   "source": [
    "vocab_size = 10000\n",
    "seq_len = 100\n",
    "\n",
    "vectorize_layer = TextVectorization(\n",
    "                    )"
   ]
  }
 ],
 "metadata": {
  "kernelspec": {
   "display_name": "Python 3 (ipykernel)",
   "language": "python",
   "name": "python3"
  },
  "language_info": {
   "codemirror_mode": {
    "name": "ipython",
    "version": 3
   },
   "file_extension": ".py",
   "mimetype": "text/x-python",
   "name": "python",
   "nbconvert_exporter": "python",
   "pygments_lexer": "ipython3",
   "version": "3.8.11"
  },
  "toc": {
   "base_numbering": 1,
   "nav_menu": {},
   "number_sections": true,
   "sideBar": true,
   "skip_h1_title": false,
   "title_cell": "Table of Contents",
   "title_sidebar": "Contents",
   "toc_cell": false,
   "toc_position": {},
   "toc_section_display": true,
   "toc_window_display": false
  }
 },
 "nbformat": 4,
 "nbformat_minor": 5
}
