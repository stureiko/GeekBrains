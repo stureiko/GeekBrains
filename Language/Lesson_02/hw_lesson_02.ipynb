{
 "cells": [
  {
   "cell_type": "markdown",
   "id": "859018e4",
   "metadata": {},
   "source": [
    "## Домашнее задание"
   ]
  },
  {
   "cell_type": "markdown",
   "id": "23b785e1",
   "metadata": {},
   "source": [
    "### Задание 1.\n",
    "\n",
    "**Задание**: обучите три классификатора: \n",
    "\n",
    "1) на токенах с высокой частотой \n",
    "\n",
    "2) на токенах со средней частотой \n",
    "\n",
    "3) на токенах с низкой частотой\n",
    "\n",
    "\n",
    "Сравните полученные результаты, оцените какие токены наиболее важные для классификации.\n",
    "\n",
    "\n",
    "### Задание 2.\n",
    "\n",
    "найти фичи с наибольшей значимостью, и вывести их\n",
    "\n",
    "\n",
    "### Задание 3.\n",
    "\n",
    "1) сравнить count/tf-idf/hashing векторайзеры/полносвязанную сетку (построить classification_report)\n",
    "\n",
    "2) подобрать оптимальный размер для hashing векторайзера \n",
    "\n",
    "3) убедиться что для сетки нет переобучения"
   ]
  },
  {
   "cell_type": "markdown",
   "id": "fd48e145",
   "metadata": {},
   "source": [
    "## Импорты"
   ]
  },
  {
   "cell_type": "code",
   "execution_count": 1,
   "id": "f6509966",
   "metadata": {
    "ExecuteTime": {
     "end_time": "2022-04-24T06:53:45.922224Z",
     "start_time": "2022-04-24T06:53:41.250101Z"
    }
   },
   "outputs": [],
   "source": [
    "import warnings\n",
    "warnings.filterwarnings(\"ignore\")\n",
    "\n",
    "import pandas as pd\n",
    "import numpy as np\n",
    "import re\n",
    "import nltk\n",
    "from nltk.corpus import stopwords\n",
    "from nltk.stem import PorterStemmer, WordNetLemmatizer\n",
    "import os\n",
    "from tqdm import tqdm\n",
    "from sklearn.feature_extraction.text import CountVectorizer, TfidfVectorizer, HashingVectorizer\n",
    "\n",
    "from collections import Counter\n",
    "from sklearn.model_selection import train_test_split\n",
    "from sklearn.linear_model import LogisticRegression\n",
    "from sklearn.metrics import classification_report, f1_score\n"
   ]
  },
  {
   "cell_type": "code",
   "execution_count": 2,
   "id": "e84b9a8f",
   "metadata": {
    "ExecuteTime": {
     "end_time": "2022-04-24T06:53:46.284321Z",
     "start_time": "2022-04-24T06:53:45.924122Z"
    }
   },
   "outputs": [
    {
     "data": {
      "text/html": [
       "<div>\n",
       "<style scoped>\n",
       "    .dataframe tbody tr th:only-of-type {\n",
       "        vertical-align: middle;\n",
       "    }\n",
       "\n",
       "    .dataframe tbody tr th {\n",
       "        vertical-align: top;\n",
       "    }\n",
       "\n",
       "    .dataframe thead th {\n",
       "        text-align: right;\n",
       "    }\n",
       "</style>\n",
       "<table border=\"1\" class=\"dataframe\">\n",
       "  <thead>\n",
       "    <tr style=\"text-align: right;\">\n",
       "      <th></th>\n",
       "      <th>id</th>\n",
       "      <th>label</th>\n",
       "      <th>tweet</th>\n",
       "      <th>clear_tweet</th>\n",
       "      <th>tweet_token</th>\n",
       "      <th>tweet_token_filtered</th>\n",
       "      <th>tweet_stemmed</th>\n",
       "      <th>tweet_lemmatized</th>\n",
       "    </tr>\n",
       "  </thead>\n",
       "  <tbody>\n",
       "    <tr>\n",
       "      <th>0</th>\n",
       "      <td>1</td>\n",
       "      <td>0.0</td>\n",
       "      <td>@user when a father is dysfunctional and is s...</td>\n",
       "      <td>user when father is dysfunctional and is so se...</td>\n",
       "      <td>[user, when, father, is, dysfunctional, and, i...</td>\n",
       "      <td>[user, father, dysfunctional, selfish, drags, ...</td>\n",
       "      <td>[user, father, dysfunct, selfish, drag, kid, d...</td>\n",
       "      <td>[user, father, dysfunct, selfish, drag, kid, d...</td>\n",
       "    </tr>\n",
       "    <tr>\n",
       "      <th>1</th>\n",
       "      <td>2</td>\n",
       "      <td>0.0</td>\n",
       "      <td>@user @user thanks for #lyft credit i can't us...</td>\n",
       "      <td>user user thanks for lyft credit can use cause...</td>\n",
       "      <td>[user, user, thanks, for, lyft, credit, can, u...</td>\n",
       "      <td>[user, user, thanks, lyft, credit, use, cause,...</td>\n",
       "      <td>[user, user, thank, lyft, credit, use, caus, o...</td>\n",
       "      <td>[user, user, thank, lyft, credit, use, caus, o...</td>\n",
       "    </tr>\n",
       "    <tr>\n",
       "      <th>2</th>\n",
       "      <td>3</td>\n",
       "      <td>0.0</td>\n",
       "      <td>bihday your majesty</td>\n",
       "      <td>bihday your majesty</td>\n",
       "      <td>[bihday, your, majesty]</td>\n",
       "      <td>[bihday, majesty]</td>\n",
       "      <td>[bihday, majesti]</td>\n",
       "      <td>[bihday, majesti]</td>\n",
       "    </tr>\n",
       "    <tr>\n",
       "      <th>3</th>\n",
       "      <td>4</td>\n",
       "      <td>0.0</td>\n",
       "      <td>#model   i love u take with u all the time in ...</td>\n",
       "      <td>model love take with all the time in ur</td>\n",
       "      <td>[model, love, take, with, all, the, time, in, ur]</td>\n",
       "      <td>[model, love, take, time, ur]</td>\n",
       "      <td>[model, love, take, time, ur]</td>\n",
       "      <td>[model, love, take, time, ur]</td>\n",
       "    </tr>\n",
       "    <tr>\n",
       "      <th>4</th>\n",
       "      <td>5</td>\n",
       "      <td>0.0</td>\n",
       "      <td>factsguide: society now    #motivation</td>\n",
       "      <td>factsguide society now motivation</td>\n",
       "      <td>[factsguide, society, now, motivation]</td>\n",
       "      <td>[factsguide, society, motivation]</td>\n",
       "      <td>[factsguid, societi, motiv]</td>\n",
       "      <td>[factsguid, societi, motiv]</td>\n",
       "    </tr>\n",
       "  </tbody>\n",
       "</table>\n",
       "</div>"
      ],
      "text/plain": [
       "   id  label                                              tweet  \\\n",
       "0   1    0.0   @user when a father is dysfunctional and is s...   \n",
       "1   2    0.0  @user @user thanks for #lyft credit i can't us...   \n",
       "2   3    0.0                                bihday your majesty   \n",
       "3   4    0.0  #model   i love u take with u all the time in ...   \n",
       "4   5    0.0             factsguide: society now    #motivation   \n",
       "\n",
       "                                         clear_tweet  \\\n",
       "0  user when father is dysfunctional and is so se...   \n",
       "1  user user thanks for lyft credit can use cause...   \n",
       "2                                bihday your majesty   \n",
       "3            model love take with all the time in ur   \n",
       "4                  factsguide society now motivation   \n",
       "\n",
       "                                         tweet_token  \\\n",
       "0  [user, when, father, is, dysfunctional, and, i...   \n",
       "1  [user, user, thanks, for, lyft, credit, can, u...   \n",
       "2                            [bihday, your, majesty]   \n",
       "3  [model, love, take, with, all, the, time, in, ur]   \n",
       "4             [factsguide, society, now, motivation]   \n",
       "\n",
       "                                tweet_token_filtered  \\\n",
       "0  [user, father, dysfunctional, selfish, drags, ...   \n",
       "1  [user, user, thanks, lyft, credit, use, cause,...   \n",
       "2                                  [bihday, majesty]   \n",
       "3                      [model, love, take, time, ur]   \n",
       "4                  [factsguide, society, motivation]   \n",
       "\n",
       "                                       tweet_stemmed  \\\n",
       "0  [user, father, dysfunct, selfish, drag, kid, d...   \n",
       "1  [user, user, thank, lyft, credit, use, caus, o...   \n",
       "2                                  [bihday, majesti]   \n",
       "3                      [model, love, take, time, ur]   \n",
       "4                        [factsguid, societi, motiv]   \n",
       "\n",
       "                                    tweet_lemmatized  \n",
       "0  [user, father, dysfunct, selfish, drag, kid, d...  \n",
       "1  [user, user, thank, lyft, credit, use, caus, o...  \n",
       "2                                  [bihday, majesti]  \n",
       "3                      [model, love, take, time, ur]  \n",
       "4                        [factsguid, societi, motiv]  "
      ]
     },
     "execution_count": 2,
     "metadata": {},
     "output_type": "execute_result"
    }
   ],
   "source": [
    "df = pd.read_pickle('../Lesson_01/lesson_01_preprocessing.pkl')\n",
    "df.head()"
   ]
  },
  {
   "cell_type": "markdown",
   "id": "8bebf5f9",
   "metadata": {},
   "source": [
    "Проверим на пропуски столбец ``'label'`` и отсутствующие заполним ``0`` (на этой итерации)\n",
    "\n",
    "\n",
    "Затем построим классификатор и на его основании предскажем метки твитов с пропущенными метками"
   ]
  },
  {
   "cell_type": "code",
   "execution_count": 3,
   "id": "82e2ad61",
   "metadata": {
    "ExecuteTime": {
     "end_time": "2022-04-24T06:53:46.300321Z",
     "start_time": "2022-04-24T06:53:46.286316Z"
    }
   },
   "outputs": [
    {
     "data": {
      "text/plain": [
       "array([ 0.,  1., nan])"
      ]
     },
     "execution_count": 3,
     "metadata": {},
     "output_type": "execute_result"
    }
   ],
   "source": [
    "df['label'].unique()"
   ]
  },
  {
   "cell_type": "code",
   "execution_count": 4,
   "id": "4ffcd410",
   "metadata": {
    "ExecuteTime": {
     "end_time": "2022-04-24T06:53:46.315297Z",
     "start_time": "2022-04-24T06:53:46.302293Z"
    }
   },
   "outputs": [
    {
     "data": {
      "text/plain": [
       "0.0    29720\n",
       "1.0     2242\n",
       "Name: label, dtype: int64"
      ]
     },
     "execution_count": 4,
     "metadata": {},
     "output_type": "execute_result"
    }
   ],
   "source": [
    "df['label'].value_counts()"
   ]
  },
  {
   "cell_type": "code",
   "execution_count": 5,
   "id": "61805b58",
   "metadata": {
    "ExecuteTime": {
     "end_time": "2022-04-24T06:53:46.331306Z",
     "start_time": "2022-04-24T06:53:46.317296Z"
    }
   },
   "outputs": [],
   "source": [
    "df['label'].fillna(0, inplace=True)"
   ]
  },
  {
   "cell_type": "code",
   "execution_count": 6,
   "id": "6912926b",
   "metadata": {
    "ExecuteTime": {
     "end_time": "2022-04-24T06:53:46.347301Z",
     "start_time": "2022-04-24T06:53:46.333297Z"
    }
   },
   "outputs": [
    {
     "data": {
      "text/plain": [
       "0    46917\n",
       "1     2242\n",
       "Name: label, dtype: int64"
      ]
     },
     "execution_count": 6,
     "metadata": {},
     "output_type": "execute_result"
    }
   ],
   "source": [
    "df['label'].astype(int).value_counts()"
   ]
  },
  {
   "cell_type": "markdown",
   "id": "11e9e352",
   "metadata": {},
   "source": [
    "### Выделим метки и разделим на train и test"
   ]
  },
  {
   "cell_type": "code",
   "execution_count": 7,
   "id": "214a4fcb",
   "metadata": {
    "ExecuteTime": {
     "end_time": "2022-04-24T06:53:46.394340Z",
     "start_time": "2022-04-24T06:53:46.349294Z"
    }
   },
   "outputs": [],
   "source": [
    "X, y = df['tweet_stemmed'], df['label']\n",
    "X_train, X_test, y_train, y_test = train_test_split(\n",
    "    X, y, test_size=0.33, random_state=42)\n",
    "\n",
    "X_train = [\" \".join(x) for x in X_train]\n",
    "X_test = [\" \".join(x) for x in X_test]"
   ]
  },
  {
   "cell_type": "markdown",
   "id": "d523b6ea",
   "metadata": {},
   "source": [
    "## Задание 1.\n",
    "\n",
    "**Задание**: обучите три классификатора: \n",
    "\n",
    "1) на токенах с высокой частотой \n",
    "\n",
    "2) на токенах со средней частотой \n",
    "\n",
    "3) на токенах с низкой частотой\n",
    "\n",
    "\n",
    "Сравните полученные результаты, оцените какие токены наиболее важные для классификации."
   ]
  },
  {
   "cell_type": "code",
   "execution_count": 8,
   "id": "05824362",
   "metadata": {
    "ExecuteTime": {
     "end_time": "2022-04-24T06:53:46.410292Z",
     "start_time": "2022-04-24T06:53:46.396293Z"
    }
   },
   "outputs": [],
   "source": [
    "compare_freq = pd.DataFrame(columns=['Token_frequency', 'f1_score'])"
   ]
  },
  {
   "cell_type": "code",
   "execution_count": 9,
   "id": "24f677d1",
   "metadata": {
    "ExecuteTime": {
     "end_time": "2022-04-24T06:53:47.692290Z",
     "start_time": "2022-04-24T06:53:46.414294Z"
    }
   },
   "outputs": [
    {
     "name": "stdout",
     "output_type": "stream",
     "text": [
      "              precision    recall  f1-score   support\n",
      "\n",
      "         0.0       0.99      0.97      0.98     15793\n",
      "         1.0       0.33      0.58      0.42       430\n",
      "\n",
      "    accuracy                           0.96     16223\n",
      "   macro avg       0.66      0.77      0.70     16223\n",
      "weighted avg       0.97      0.96      0.96     16223\n",
      "\n"
     ]
    }
   ],
   "source": [
    "# Обучим на всех токенах\n",
    "vec = CountVectorizer(ngram_range=(1, 1), \n",
    "                      binary=False, \n",
    "                      max_df=1.0, \n",
    "                      min_df=1,)\n",
    "bow = vec.fit_transform(X_train)\n",
    "\n",
    "clf = LogisticRegression(random_state=42)\n",
    "clf.fit(bow, y_train)\n",
    "\n",
    "pred = clf.predict(vec.transform(X_test))\n",
    "print(classification_report(pred, y_test))\n",
    "\n",
    "compare_freq.loc[compare_freq.shape[0]] = ['All tokens', f1_score(y_true=y_test, y_pred=pred)]"
   ]
  },
  {
   "cell_type": "code",
   "execution_count": 10,
   "id": "1dadf041",
   "metadata": {
    "ExecuteTime": {
     "end_time": "2022-04-24T06:53:48.827293Z",
     "start_time": "2022-04-24T06:53:47.694293Z"
    }
   },
   "outputs": [
    {
     "name": "stdout",
     "output_type": "stream",
     "text": [
      "              precision    recall  f1-score   support\n",
      "\n",
      "         0.0       0.99      0.97      0.98     15783\n",
      "         1.0       0.34      0.59      0.43       440\n",
      "\n",
      "    accuracy                           0.96     16223\n",
      "   macro avg       0.66      0.78      0.70     16223\n",
      "weighted avg       0.97      0.96      0.96     16223\n",
      "\n"
     ]
    }
   ],
   "source": [
    "# Обучим на токенах с низкой частотой (максимум в 30% документов)\n",
    "vec = CountVectorizer(ngram_range=(1, 1), \n",
    "                      binary=False, \n",
    "                      max_df=0.3, \n",
    "                      min_df=1,)\n",
    "bow = vec.fit_transform(X_train)\n",
    "\n",
    "clf = LogisticRegression(random_state=42)\n",
    "clf.fit(bow, y_train)\n",
    "\n",
    "pred = clf.predict(vec.transform(X_test))\n",
    "print(classification_report(pred, y_test))\n",
    "compare_freq.loc[compare_freq.shape[0]] = ['Low frequency tokens', f1_score(y_true=y_test, y_pred=pred)]"
   ]
  },
  {
   "cell_type": "code",
   "execution_count": 11,
   "id": "4ec0d4f5",
   "metadata": {
    "ExecuteTime": {
     "end_time": "2022-04-24T06:53:49.501293Z",
     "start_time": "2022-04-24T06:53:48.829292Z"
    }
   },
   "outputs": [
    {
     "name": "stdout",
     "output_type": "stream",
     "text": [
      "              precision    recall  f1-score   support\n",
      "\n",
      "         0.0       0.99      0.96      0.98     16043\n",
      "         1.0       0.12      0.52      0.20       180\n",
      "\n",
      "    accuracy                           0.95     16223\n",
      "   macro avg       0.56      0.74      0.59     16223\n",
      "weighted avg       0.98      0.95      0.97     16223\n",
      "\n"
     ]
    }
   ],
   "source": [
    "# Обучим на токенах с высокой частотой (минимум в 100 документах)\n",
    "vec = CountVectorizer(ngram_range=(1, 1), \n",
    "                      binary=False, \n",
    "                      max_df=1.0, \n",
    "                      min_df=100,)\n",
    "bow = vec.fit_transform(X_train)\n",
    "\n",
    "clf = LogisticRegression(random_state=42)\n",
    "clf.fit(bow, y_train)\n",
    "\n",
    "pred = clf.predict(vec.transform(X_test))\n",
    "print(classification_report(pred, y_test))\n",
    "compare_freq.loc[compare_freq.shape[0]] = ['High frequency tokens', f1_score(y_true=y_test, y_pred=pred)]"
   ]
  },
  {
   "cell_type": "code",
   "execution_count": 12,
   "id": "1fe7b0ad",
   "metadata": {
    "ExecuteTime": {
     "end_time": "2022-04-24T06:53:50.164291Z",
     "start_time": "2022-04-24T06:53:49.503292Z"
    }
   },
   "outputs": [
    {
     "name": "stdout",
     "output_type": "stream",
     "text": [
      "              precision    recall  f1-score   support\n",
      "\n",
      "         0.0       0.99      0.96      0.98     16043\n",
      "         1.0       0.12      0.52      0.20       180\n",
      "\n",
      "    accuracy                           0.95     16223\n",
      "   macro avg       0.56      0.74      0.59     16223\n",
      "weighted avg       0.98      0.95      0.97     16223\n",
      "\n"
     ]
    }
   ],
   "source": [
    "# Обучим на токенах средней частоты\n",
    "vec = CountVectorizer(ngram_range=(1, 1), \n",
    "                      binary=False, \n",
    "                      max_df=0.7, \n",
    "                      min_df=100,)\n",
    "bow = vec.fit_transform(X_train)\n",
    "\n",
    "clf = LogisticRegression(random_state=42)\n",
    "clf.fit(bow, y_train)\n",
    "\n",
    "pred = clf.predict(vec.transform(X_test))\n",
    "print(classification_report(pred, y_test))\n",
    "compare_freq.loc[compare_freq.shape[0]] = ['Middle frequency tokens', f1_score(y_true=y_test, y_pred=pred)]"
   ]
  },
  {
   "cell_type": "code",
   "execution_count": 13,
   "id": "1d088f1a",
   "metadata": {
    "ExecuteTime": {
     "end_time": "2022-04-24T06:53:50.180384Z",
     "start_time": "2022-04-24T06:53:50.167291Z"
    }
   },
   "outputs": [],
   "source": [
    "compare_freq['TFIDF_f1_score'] = 0"
   ]
  },
  {
   "cell_type": "code",
   "execution_count": 14,
   "id": "bc854fef",
   "metadata": {
    "ExecuteTime": {
     "end_time": "2022-04-24T06:53:50.766293Z",
     "start_time": "2022-04-24T06:53:50.182295Z"
    }
   },
   "outputs": [
    {
     "name": "stdout",
     "output_type": "stream",
     "text": [
      "              precision    recall  f1-score   support\n",
      "\n",
      "         0.0       0.99      0.96      0.98     16048\n",
      "         1.0       0.12      0.54      0.20       175\n",
      "\n",
      "    accuracy                           0.95     16223\n",
      "   macro avg       0.56      0.75      0.59     16223\n",
      "weighted avg       0.99      0.95      0.97     16223\n",
      "\n"
     ]
    }
   ],
   "source": [
    "# Обучим на токенах средней частоты\n",
    "vec = TfidfVectorizer(ngram_range=(1, 1), \n",
    "                      binary=False, \n",
    "                      max_df=0.7, \n",
    "                      min_df=100,)\n",
    "bow = vec.fit_transform(X_train)\n",
    "\n",
    "clf = LogisticRegression(random_state=42)\n",
    "clf.fit(bow, y_train)\n",
    "\n",
    "pred = clf.predict(vec.transform(X_test))\n",
    "print(classification_report(pred, y_test))\n",
    "compare_freq.loc[3, 'TFIDF_f1_score'] = f1_score(y_true=y_test, y_pred=pred)"
   ]
  },
  {
   "cell_type": "code",
   "execution_count": 15,
   "id": "b44d01cc",
   "metadata": {
    "ExecuteTime": {
     "end_time": "2022-04-24T06:53:51.586300Z",
     "start_time": "2022-04-24T06:53:50.768297Z"
    }
   },
   "outputs": [
    {
     "name": "stdout",
     "output_type": "stream",
     "text": [
      "              precision    recall  f1-score   support\n",
      "\n",
      "         0.0       0.99      0.96      0.98     16027\n",
      "         1.0       0.16      0.60      0.25       196\n",
      "\n",
      "    accuracy                           0.96     16223\n",
      "   macro avg       0.58      0.78      0.61     16223\n",
      "weighted avg       0.98      0.96      0.97     16223\n",
      "\n"
     ]
    }
   ],
   "source": [
    "# Обучим на всех токенах\n",
    "vec = TfidfVectorizer(ngram_range=(1, 1), \n",
    "                      binary=False, \n",
    "                      max_df=1.0, \n",
    "                      min_df=1)\n",
    "bow = vec.fit_transform(X_train)\n",
    "\n",
    "clf = LogisticRegression(random_state=42)\n",
    "clf.fit(bow, y_train)\n",
    "\n",
    "pred = clf.predict(vec.transform(X_test))\n",
    "print(classification_report(pred, y_test))\n",
    "compare_freq.loc[0, 'TFIDF_f1_score'] = f1_score(y_true=y_test, y_pred=pred)"
   ]
  },
  {
   "cell_type": "code",
   "execution_count": 16,
   "id": "9545c9e4",
   "metadata": {
    "ExecuteTime": {
     "end_time": "2022-04-24T06:53:52.534293Z",
     "start_time": "2022-04-24T06:53:51.588293Z"
    }
   },
   "outputs": [
    {
     "name": "stdout",
     "output_type": "stream",
     "text": [
      "              precision    recall  f1-score   support\n",
      "\n",
      "         0.0       0.99      0.96      0.98     16027\n",
      "         1.0       0.15      0.60      0.25       196\n",
      "\n",
      "    accuracy                           0.96     16223\n",
      "   macro avg       0.57      0.78      0.61     16223\n",
      "weighted avg       0.98      0.96      0.97     16223\n",
      "\n"
     ]
    }
   ],
   "source": [
    "# Обучим на токенах низкой частоты\n",
    "vec = TfidfVectorizer(ngram_range=(1, 1), \n",
    "                      binary=False, \n",
    "                      max_df=0.3, \n",
    "                      min_df=1,)\n",
    "bow = vec.fit_transform(X_train)\n",
    "\n",
    "clf = LogisticRegression(random_state=42)\n",
    "clf.fit(bow, y_train)\n",
    "\n",
    "pred = clf.predict(vec.transform(X_test))\n",
    "print(classification_report(pred, y_test))\n",
    "compare_freq.loc[1, 'TFIDF_f1_score'] = f1_score(y_true=y_test, y_pred=pred)"
   ]
  },
  {
   "cell_type": "code",
   "execution_count": 17,
   "id": "e27abb20",
   "metadata": {
    "ExecuteTime": {
     "end_time": "2022-04-24T06:53:53.134321Z",
     "start_time": "2022-04-24T06:53:52.536293Z"
    }
   },
   "outputs": [
    {
     "name": "stdout",
     "output_type": "stream",
     "text": [
      "              precision    recall  f1-score   support\n",
      "\n",
      "         0.0       0.99      0.96      0.98     16048\n",
      "         1.0       0.12      0.54      0.20       175\n",
      "\n",
      "    accuracy                           0.95     16223\n",
      "   macro avg       0.56      0.75      0.59     16223\n",
      "weighted avg       0.99      0.95      0.97     16223\n",
      "\n"
     ]
    }
   ],
   "source": [
    "# Обучим на токенах высокой частоты\n",
    "vec = TfidfVectorizer(ngram_range=(1, 1), \n",
    "                      binary=False, \n",
    "                      max_df=1.0, \n",
    "                      min_df=100)\n",
    "bow = vec.fit_transform(X_train)\n",
    "\n",
    "clf = LogisticRegression(random_state=42)\n",
    "clf.fit(bow, y_train)\n",
    "\n",
    "pred = clf.predict(vec.transform(X_test))\n",
    "print(classification_report(pred, y_test))\n",
    "compare_freq.loc[2, 'TFIDF_f1_score'] = f1_score(y_true=y_test, y_pred=pred)"
   ]
  },
  {
   "cell_type": "code",
   "execution_count": 18,
   "id": "30f4c2a6",
   "metadata": {
    "ExecuteTime": {
     "end_time": "2022-04-24T06:53:53.150321Z",
     "start_time": "2022-04-24T06:53:53.136292Z"
    },
    "scrolled": true
   },
   "outputs": [
    {
     "data": {
      "text/html": [
       "<div>\n",
       "<style scoped>\n",
       "    .dataframe tbody tr th:only-of-type {\n",
       "        vertical-align: middle;\n",
       "    }\n",
       "\n",
       "    .dataframe tbody tr th {\n",
       "        vertical-align: top;\n",
       "    }\n",
       "\n",
       "    .dataframe thead th {\n",
       "        text-align: right;\n",
       "    }\n",
       "</style>\n",
       "<table border=\"1\" class=\"dataframe\">\n",
       "  <thead>\n",
       "    <tr style=\"text-align: right;\">\n",
       "      <th></th>\n",
       "      <th>Token_frequency</th>\n",
       "      <th>f1_score</th>\n",
       "      <th>TFIDF_f1_score</th>\n",
       "    </tr>\n",
       "  </thead>\n",
       "  <tbody>\n",
       "    <tr>\n",
       "      <th>0</th>\n",
       "      <td>All tokens</td>\n",
       "      <td>0.420521</td>\n",
       "      <td>0.247120</td>\n",
       "    </tr>\n",
       "    <tr>\n",
       "      <th>1</th>\n",
       "      <td>Low frequency tokens</td>\n",
       "      <td>0.430359</td>\n",
       "      <td>0.245026</td>\n",
       "    </tr>\n",
       "    <tr>\n",
       "      <th>2</th>\n",
       "      <td>High frequency tokens</td>\n",
       "      <td>0.198083</td>\n",
       "      <td>0.201285</td>\n",
       "    </tr>\n",
       "    <tr>\n",
       "      <th>3</th>\n",
       "      <td>Middle frequency tokens</td>\n",
       "      <td>0.198083</td>\n",
       "      <td>0.201285</td>\n",
       "    </tr>\n",
       "  </tbody>\n",
       "</table>\n",
       "</div>"
      ],
      "text/plain": [
       "           Token_frequency  f1_score  TFIDF_f1_score\n",
       "0               All tokens  0.420521        0.247120\n",
       "1     Low frequency tokens  0.430359        0.245026\n",
       "2    High frequency tokens  0.198083        0.201285\n",
       "3  Middle frequency tokens  0.198083        0.201285"
      ]
     },
     "execution_count": 18,
     "metadata": {},
     "output_type": "execute_result"
    }
   ],
   "source": [
    "compare_freq"
   ]
  },
  {
   "cell_type": "code",
   "execution_count": 19,
   "id": "1b6ac295",
   "metadata": {
    "ExecuteTime": {
     "end_time": "2022-04-24T06:53:53.165292Z",
     "start_time": "2022-04-24T06:53:53.152296Z"
    }
   },
   "outputs": [
    {
     "data": {
      "text/plain": [
       "'Low frequency tokens'"
      ]
     },
     "execution_count": 19,
     "metadata": {},
     "output_type": "execute_result"
    }
   ],
   "source": [
    "compare_freq.loc[compare_freq['f1_score']==compare_freq['f1_score'].max(), \n",
    "                 'Token_frequency'].values[0]"
   ]
  },
  {
   "cell_type": "markdown",
   "id": "f316904d",
   "metadata": {},
   "source": [
    "__Задание 1 - наиболее выжными оказались токены встречающиеся редко - для них наибольшее значение f1 score по классу 1, и примерно постоянное значение по классу 0.__\n",
    "\n",
    "TFIDF учитывает частоту вхождения поэтому здесь лучше для всех токенов"
   ]
  },
  {
   "cell_type": "markdown",
   "id": "00f40db6",
   "metadata": {},
   "source": [
    "## Задание 2. \n",
    "Получить наиболее значимые фичи"
   ]
  },
  {
   "cell_type": "code",
   "execution_count": 20,
   "id": "23d1b1f1",
   "metadata": {
    "ExecuteTime": {
     "end_time": "2022-04-24T06:53:54.129325Z",
     "start_time": "2022-04-24T06:53:53.167294Z"
    }
   },
   "outputs": [
    {
     "name": "stdout",
     "output_type": "stream",
     "text": [
      "              precision    recall  f1-score   support\n",
      "\n",
      "         0.0       0.99      0.97      0.98     15783\n",
      "         1.0       0.34      0.59      0.43       440\n",
      "\n",
      "    accuracy                           0.96     16223\n",
      "   macro avg       0.66      0.78      0.70     16223\n",
      "weighted avg       0.97      0.96      0.96     16223\n",
      "\n"
     ]
    }
   ],
   "source": [
    "vec = CountVectorizer(ngram_range=(1, 1), \n",
    "                      binary=False, \n",
    "                      max_df=0.3, \n",
    "                      min_df=1,)\n",
    "bow = vec.fit_transform(X_train)\n",
    "\n",
    "clf = LogisticRegression(random_state=42)\n",
    "clf.fit(bow, y_train)\n",
    "\n",
    "pred = clf.predict(vec.transform(X_test))\n",
    "print(classification_report(pred, y_test))"
   ]
  },
  {
   "cell_type": "code",
   "execution_count": 21,
   "id": "c04fcb1e",
   "metadata": {
    "ExecuteTime": {
     "end_time": "2022-04-24T06:53:54.176394Z",
     "start_time": "2022-04-24T06:53:54.131291Z"
    }
   },
   "outputs": [
    {
     "data": {
      "text/html": [
       "<div>\n",
       "<style scoped>\n",
       "    .dataframe tbody tr th:only-of-type {\n",
       "        vertical-align: middle;\n",
       "    }\n",
       "\n",
       "    .dataframe tbody tr th {\n",
       "        vertical-align: top;\n",
       "    }\n",
       "\n",
       "    .dataframe thead th {\n",
       "        text-align: right;\n",
       "    }\n",
       "</style>\n",
       "<table border=\"1\" class=\"dataframe\">\n",
       "  <thead>\n",
       "    <tr style=\"text-align: right;\">\n",
       "      <th></th>\n",
       "      <th>tokens</th>\n",
       "      <th>coef</th>\n",
       "    </tr>\n",
       "  </thead>\n",
       "  <tbody>\n",
       "    <tr>\n",
       "      <th>2799</th>\n",
       "      <td>bihday</td>\n",
       "      <td>-2.042485</td>\n",
       "    </tr>\n",
       "    <tr>\n",
       "      <th>20496</th>\n",
       "      <td>orlando</td>\n",
       "      <td>-1.959245</td>\n",
       "    </tr>\n",
       "    <tr>\n",
       "      <th>12164</th>\n",
       "      <td>healthi</td>\n",
       "      <td>-1.804823</td>\n",
       "    </tr>\n",
       "    <tr>\n",
       "      <th>28562</th>\n",
       "      <td>tomorrow</td>\n",
       "      <td>-1.554046</td>\n",
       "    </tr>\n",
       "    <tr>\n",
       "      <th>6630</th>\n",
       "      <td>day</td>\n",
       "      <td>-1.523865</td>\n",
       "    </tr>\n",
       "    <tr>\n",
       "      <th>11662</th>\n",
       "      <td>gun</td>\n",
       "      <td>-1.504463</td>\n",
       "    </tr>\n",
       "    <tr>\n",
       "      <th>21970</th>\n",
       "      <td>posit</td>\n",
       "      <td>-1.428776</td>\n",
       "    </tr>\n",
       "    <tr>\n",
       "      <th>25152</th>\n",
       "      <td>shoot</td>\n",
       "      <td>-1.415368</td>\n",
       "    </tr>\n",
       "    <tr>\n",
       "      <th>15925</th>\n",
       "      <td>life</td>\n",
       "      <td>-1.409495</td>\n",
       "    </tr>\n",
       "    <tr>\n",
       "      <th>30539</th>\n",
       "      <td>weekend</td>\n",
       "      <td>-1.375034</td>\n",
       "    </tr>\n",
       "  </tbody>\n",
       "</table>\n",
       "</div>"
      ],
      "text/plain": [
       "         tokens      coef\n",
       "2799     bihday -2.042485\n",
       "20496   orlando -1.959245\n",
       "12164   healthi -1.804823\n",
       "28562  tomorrow -1.554046\n",
       "6630        day -1.523865\n",
       "11662       gun -1.504463\n",
       "21970     posit -1.428776\n",
       "25152     shoot -1.415368\n",
       "15925      life -1.409495\n",
       "30539   weekend -1.375034"
      ]
     },
     "execution_count": 21,
     "metadata": {},
     "output_type": "execute_result"
    }
   ],
   "source": [
    "ft = pd.DataFrame({'tokens': vec.get_feature_names(), 'coef': clf.coef_[0]})\n",
    "ft.sort_values(by='coef').head(10)\n"
   ]
  },
  {
   "cell_type": "markdown",
   "id": "a24fa836",
   "metadata": {},
   "source": [
    "## Задание 3.\n",
    "\n",
    "1) сравнить count/tf-idf/hashing векторайзеры/полносвязанную сетку (построить classification_report)\n",
    "\n",
    "2) подобрать оптимальный размер для hashing векторайзера \n",
    "\n",
    "3) убедиться что для сетки нет переобучения"
   ]
  },
  {
   "cell_type": "markdown",
   "id": "8597aeff",
   "metadata": {},
   "source": [
    "### Cравнить count/tf-idf/hashing векторайзеры/полносвязанную сетку (построить classification_report)"
   ]
  },
  {
   "cell_type": "code",
   "execution_count": 22,
   "id": "d1e6acb1",
   "metadata": {
    "ExecuteTime": {
     "end_time": "2022-04-24T06:54:00.811295Z",
     "start_time": "2022-04-24T06:53:54.178292Z"
    }
   },
   "outputs": [
    {
     "name": "stderr",
     "output_type": "stream",
     "text": [
      "100%|██████████| 9/9 [00:06<00:00,  1.36it/s]\n"
     ]
    },
    {
     "data": {
      "text/html": [
       "<div>\n",
       "<style scoped>\n",
       "    .dataframe tbody tr th:only-of-type {\n",
       "        vertical-align: middle;\n",
       "    }\n",
       "\n",
       "    .dataframe tbody tr th {\n",
       "        vertical-align: top;\n",
       "    }\n",
       "\n",
       "    .dataframe thead th {\n",
       "        text-align: right;\n",
       "    }\n",
       "</style>\n",
       "<table border=\"1\" class=\"dataframe\">\n",
       "  <thead>\n",
       "    <tr style=\"text-align: right;\">\n",
       "      <th></th>\n",
       "      <th>Vectorizer</th>\n",
       "      <th>f1_score</th>\n",
       "    </tr>\n",
       "  </thead>\n",
       "  <tbody>\n",
       "    <tr>\n",
       "      <th>0</th>\n",
       "      <td>TfidfVectorizer()</td>\n",
       "      <td>0.247120</td>\n",
       "    </tr>\n",
       "    <tr>\n",
       "      <th>1</th>\n",
       "      <td>TfidfVectorizer(min_df=100)</td>\n",
       "      <td>0.201285</td>\n",
       "    </tr>\n",
       "    <tr>\n",
       "      <th>2</th>\n",
       "      <td>TfidfVectorizer(max_df=0.7, min_df=100)</td>\n",
       "      <td>0.201285</td>\n",
       "    </tr>\n",
       "    <tr>\n",
       "      <th>3</th>\n",
       "      <td>TfidfVectorizer(max_df=0.3)</td>\n",
       "      <td>0.245026</td>\n",
       "    </tr>\n",
       "    <tr>\n",
       "      <th>4</th>\n",
       "      <td>CountVectorizer()</td>\n",
       "      <td>0.420521</td>\n",
       "    </tr>\n",
       "    <tr>\n",
       "      <th>5</th>\n",
       "      <td>CountVectorizer(min_df=100)</td>\n",
       "      <td>0.198083</td>\n",
       "    </tr>\n",
       "    <tr>\n",
       "      <th>6</th>\n",
       "      <td>CountVectorizer(max_df=0.7, min_df=100)</td>\n",
       "      <td>0.198083</td>\n",
       "    </tr>\n",
       "    <tr>\n",
       "      <th>7</th>\n",
       "      <td>CountVectorizer(max_df=0.3)</td>\n",
       "      <td>0.430359</td>\n",
       "    </tr>\n",
       "    <tr>\n",
       "      <th>8</th>\n",
       "      <td>HashingVectorizer(n_features=9900)</td>\n",
       "      <td>0.234542</td>\n",
       "    </tr>\n",
       "  </tbody>\n",
       "</table>\n",
       "</div>"
      ],
      "text/plain": [
       "                                Vectorizer  f1_score\n",
       "0                        TfidfVectorizer()  0.247120\n",
       "1              TfidfVectorizer(min_df=100)  0.201285\n",
       "2  TfidfVectorizer(max_df=0.7, min_df=100)  0.201285\n",
       "3              TfidfVectorizer(max_df=0.3)  0.245026\n",
       "4                        CountVectorizer()  0.420521\n",
       "5              CountVectorizer(min_df=100)  0.198083\n",
       "6  CountVectorizer(max_df=0.7, min_df=100)  0.198083\n",
       "7              CountVectorizer(max_df=0.3)  0.430359\n",
       "8       HashingVectorizer(n_features=9900)  0.234542"
      ]
     },
     "execution_count": 22,
     "metadata": {},
     "output_type": "execute_result"
    }
   ],
   "source": [
    "vectorizers = []\n",
    "\n",
    "vec_TFIDF_all = TfidfVectorizer(ngram_range=(1, 1), \n",
    "                      binary=False, \n",
    "                      max_df=1.0, \n",
    "                      min_df=1)\n",
    "vectorizers.append(vec_TFIDF_all)\n",
    "\n",
    "vec_TFIDF_high = TfidfVectorizer(ngram_range=(1, 1), \n",
    "                      binary=False, \n",
    "                      max_df=1.0, \n",
    "                      min_df=100)\n",
    "vectorizers.append(vec_TFIDF_high)\n",
    "\n",
    "vec_TFIDF_middle = TfidfVectorizer(ngram_range=(1, 1), \n",
    "                      binary=False, \n",
    "                      max_df=0.7, \n",
    "                      min_df=100)\n",
    "vectorizers.append(vec_TFIDF_middle)\n",
    "\n",
    "vec_TFIDF_low = TfidfVectorizer(ngram_range=(1, 1), \n",
    "                      binary=False, \n",
    "                      max_df=0.3, \n",
    "                      min_df=1)\n",
    "vectorizers.append(vec_TFIDF_low)\n",
    "\n",
    "vec_count_all = CountVectorizer(ngram_range=(1, 1), \n",
    "                      binary=False, \n",
    "                      max_df=1.0, \n",
    "                      min_df=1)\n",
    "vectorizers.append(vec_count_all)\n",
    "\n",
    "vec_count_high = CountVectorizer(ngram_range=(1, 1), \n",
    "                      binary=False, \n",
    "                      max_df=1.0, \n",
    "                      min_df=100)\n",
    "vectorizers.append(vec_count_high)\n",
    "\n",
    "vec_count_middle = CountVectorizer(ngram_range=(1, 1), \n",
    "                      binary=False, \n",
    "                      max_df=0.7, \n",
    "                      min_df=100)\n",
    "vectorizers.append(vec_count_middle)\n",
    "\n",
    "vec_count_low = CountVectorizer(ngram_range=(1, 1), \n",
    "                      binary=False, \n",
    "                      max_df=0.3, \n",
    "                      min_df=1)\n",
    "vectorizers.append(vec_count_low)\n",
    "\n",
    "vec_hash = HashingVectorizer(n_features=9900)\n",
    "vectorizers.append(vec_hash)\n",
    "\n",
    "compare = pd.DataFrame(columns=['Vectorizer', 'f1_score'])\n",
    "\n",
    "for vec in tqdm(vectorizers):\n",
    "    bow = vec.fit_transform(X_train)\n",
    "\n",
    "    clf = LogisticRegression(random_state=42)\n",
    "    clf.fit(bow, y_train)\n",
    "\n",
    "    pred = clf.predict(vec.transform(X_test))\n",
    "#     print(classification_report(pred, y_test))\n",
    "    compare.loc[compare.shape[0]] = [str(vec), f1_score(y_true=y_test, y_pred=pred)]\n",
    "\n",
    "compare"
   ]
  },
  {
   "cell_type": "code",
   "execution_count": 23,
   "id": "b702e999",
   "metadata": {
    "ExecuteTime": {
     "end_time": "2022-04-24T06:54:00.827294Z",
     "start_time": "2022-04-24T06:54:00.813295Z"
    }
   },
   "outputs": [
    {
     "data": {
      "text/plain": [
       "Vectorizer    TfidfVectorizer(min_df=100)\n",
       "f1_score                         0.430359\n",
       "dtype: object"
      ]
     },
     "execution_count": 23,
     "metadata": {},
     "output_type": "execute_result"
    }
   ],
   "source": [
    "compare.max()"
   ]
  },
  {
   "cell_type": "markdown",
   "id": "eab23dc9",
   "metadata": {},
   "source": [
    "### Подобрать оптимальный размер для hashing векторайзера"
   ]
  },
  {
   "cell_type": "code",
   "execution_count": 24,
   "id": "b6f2c106",
   "metadata": {
    "ExecuteTime": {
     "end_time": "2022-04-24T06:56:14.885144Z",
     "start_time": "2022-04-24T06:54:00.829294Z"
    },
    "scrolled": true
   },
   "outputs": [
    {
     "name": "stderr",
     "output_type": "stream",
     "text": [
      "100%|██████████| 199/199 [02:14<00:00,  1.48it/s]\n"
     ]
    },
    {
     "data": {
      "text/plain": [
       "Vectorizer    HashingVectorizer(n_features=9900)\n",
       "f1_score                                0.251055\n",
       "dtype: object"
      ]
     },
     "execution_count": 24,
     "metadata": {},
     "output_type": "execute_result"
    }
   ],
   "source": [
    "# подбор для HashingVectorizer\n",
    "vectorizers = []\n",
    "compare = pd.DataFrame(columns=['Vectorizer', 'f1_score'])\n",
    "\n",
    "for n in np.arange(100, 20000, 100):\n",
    "    vec_hash = HashingVectorizer(n_features=n)\n",
    "    vectorizers.append(vec_hash)\n",
    "\n",
    "for vec in tqdm(vectorizers):\n",
    "    bow = vec.fit_transform(X_train)\n",
    "\n",
    "    clf = LogisticRegression(random_state=42)\n",
    "    clf.fit(bow, y_train)\n",
    "\n",
    "    pred = clf.predict(vec.transform(X_test))\n",
    "#     print(classification_report(pred, y_test))\n",
    "    compare.loc[compare.shape[0]] = [str(vec), f1_score(y_true=y_test, y_pred=pred)]\n",
    "\n",
    "compare.max()"
   ]
  },
  {
   "cell_type": "markdown",
   "id": "7e22a625",
   "metadata": {},
   "source": [
    "### Убедиться что для сетки нет переобучения"
   ]
  },
  {
   "cell_type": "markdown",
   "id": "6edffa14",
   "metadata": {},
   "source": [
    "#### Построим сетку"
   ]
  },
  {
   "cell_type": "code",
   "execution_count": 25,
   "id": "08053fa7",
   "metadata": {
    "ExecuteTime": {
     "end_time": "2022-04-24T06:56:25.462189Z",
     "start_time": "2022-04-24T06:56:14.887146Z"
    }
   },
   "outputs": [],
   "source": [
    "import tensorflow as tf\n",
    "from tensorflow.keras import Sequential\n",
    "from tensorflow.keras.layers import Dense, Embedding, GlobalAveragePooling1D, Conv1D, GRU, LSTM, Dropout\n",
    "from tensorflow.keras.layers.experimental.preprocessing import TextVectorization\n",
    "from tensorflow.keras.callbacks import EarlyStopping"
   ]
  },
  {
   "cell_type": "code",
   "execution_count": 26,
   "id": "3a7a3f3c",
   "metadata": {
    "ExecuteTime": {
     "end_time": "2022-04-24T06:56:25.555000Z",
     "start_time": "2022-04-24T06:56:25.464089Z"
    }
   },
   "outputs": [],
   "source": [
    "train_data = tf.data.Dataset.from_tensor_slices((pd.Series(X_train), y_train))\n",
    "test_data = tf.data.Dataset.from_tensor_slices((pd.Series(X_test), y_test))\n",
    "\n",
    "train_data = train_data.batch(16)\n",
    "test_data = test_data.batch(16)\n",
    "\n",
    "AUTOTUNE = tf.data.AUTOTUNE\n",
    "train_data = train_data.cache().prefetch(buffer_size=AUTOTUNE)\n",
    "test_data = test_data.cache().prefetch(buffer_size=AUTOTUNE)\n",
    "\n",
    "def custom_standartization(input_data):\n",
    "    return input_data"
   ]
  },
  {
   "cell_type": "markdown",
   "id": "a5eb03d1",
   "metadata": {},
   "source": [
    "Оценим seq_len на основании распределения длин твитов"
   ]
  },
  {
   "cell_type": "code",
   "execution_count": 27,
   "id": "ea1e1339",
   "metadata": {
    "ExecuteTime": {
     "end_time": "2022-04-24T06:56:25.586901Z",
     "start_time": "2022-04-24T06:56:25.558903Z"
    }
   },
   "outputs": [
    {
     "data": {
      "text/plain": [
       "9     5546\n",
       "8     5486\n",
       "10    5388\n",
       "7     5077\n",
       "11    4649\n",
       "6     4247\n",
       "5     4018\n",
       "12    3246\n",
       "4     3053\n",
       "3     2672\n",
       "13    2047\n",
       "2     1113\n",
       "14    1097\n",
       "15     649\n",
       "16     362\n",
       "1      267\n",
       "17     129\n",
       "18      52\n",
       "0       22\n",
       "19      20\n",
       "20      10\n",
       "21       7\n",
       "37       1\n",
       "22       1\n",
       "Name: tweet_stemmed, dtype: int64"
      ]
     },
     "execution_count": 27,
     "metadata": {},
     "output_type": "execute_result"
    }
   ],
   "source": [
    "df['tweet_stemmed'].map(lambda x: len(x)).value_counts()"
   ]
  },
  {
   "cell_type": "code",
   "execution_count": 28,
   "id": "333d22ec",
   "metadata": {
    "ExecuteTime": {
     "end_time": "2022-04-24T06:56:26.755331Z",
     "start_time": "2022-04-24T06:56:25.587904Z"
    }
   },
   "outputs": [],
   "source": [
    "vocab_size = 10000\n",
    "# Исходя из распределения длин твитов (в словах) \n",
    "seq_len = 16\n",
    "\n",
    "vectorize_layer = TextVectorization(\n",
    "    standardize=custom_standartization,\n",
    "    max_tokens=vocab_size,\n",
    "    output_mode='int',\n",
    "    output_sequence_length=seq_len)\n",
    "\n",
    "# Make a text only dataset (no labels) and call adapt to build the vocabulary\n",
    "text_data = train_data.map(lambda x, y: x)\n",
    "vectorize_layer.adapt(text_data)"
   ]
  },
  {
   "cell_type": "code",
   "execution_count": 29,
   "id": "5c19d92b",
   "metadata": {
    "ExecuteTime": {
     "end_time": "2022-04-24T06:56:26.787355Z",
     "start_time": "2022-04-24T06:56:26.757329Z"
    }
   },
   "outputs": [],
   "source": [
    "embedding_dim = 200\n",
    "model = Sequential([\n",
    "    vectorize_layer,\n",
    "    Embedding(vocab_size, embedding_dim),\n",
    "    Conv1D(200, (3)),\n",
    "    Conv1D(200, (2)),\n",
    "    GRU(300),\n",
    "#     GlobalAveragePooling1D(),\n",
    "    Dense(100, activation='relu'),\n",
    "    Dense(1, activation='sigmoid')\n",
    "])"
   ]
  },
  {
   "cell_type": "code",
   "execution_count": 30,
   "id": "0f06a5d3",
   "metadata": {
    "ExecuteTime": {
     "end_time": "2022-04-24T06:56:26.818389Z",
     "start_time": "2022-04-24T06:56:26.789330Z"
    }
   },
   "outputs": [],
   "source": [
    "model.compile(optimizer='adam', \n",
    "              loss=tf.keras.losses.BinaryCrossentropy(from_logits=True), \n",
    "              metrics=['accuracy'])"
   ]
  },
  {
   "cell_type": "code",
   "execution_count": 31,
   "id": "91489f4c",
   "metadata": {
    "ExecuteTime": {
     "end_time": "2022-04-24T07:03:23.062493Z",
     "start_time": "2022-04-24T06:56:26.820330Z"
    }
   },
   "outputs": [
    {
     "name": "stdout",
     "output_type": "stream",
     "text": [
      "Epoch 1/25\n",
      "2059/2059 [==============================] - 67s 31ms/step - loss: 0.1360 - accuracy: 0.9553 - val_loss: 0.1210 - val_accuracy: 0.9570\n",
      "Epoch 2/25\n",
      "2059/2059 [==============================] - 78s 38ms/step - loss: 0.0809 - accuracy: 0.9678 - val_loss: 0.1617 - val_accuracy: 0.9571\n",
      "Epoch 3/25\n",
      "2059/2059 [==============================] - 79s 38ms/step - loss: 0.0584 - accuracy: 0.9776 - val_loss: 0.1637 - val_accuracy: 0.9551\n",
      "Epoch 4/25\n",
      "2059/2059 [==============================] - 77s 38ms/step - loss: 0.0471 - accuracy: 0.9821 - val_loss: 0.1862 - val_accuracy: 0.9520\n",
      "Epoch 5/25\n",
      "2059/2059 [==============================] - 59s 28ms/step - loss: 0.0428 - accuracy: 0.9846 - val_loss: 0.2296 - val_accuracy: 0.9559\n",
      "Epoch 6/25\n",
      "2059/2059 [==============================] - 57s 27ms/step - loss: 0.0466 - accuracy: 0.9826 - val_loss: 0.2000 - val_accuracy: 0.9521\n"
     ]
    }
   ],
   "source": [
    "callback = EarlyStopping(monitor='val_loss', patience=5) # остановим обучение если на пяти эпохах нет улучшения метрики\n",
    "history = model.fit(train_data, validation_data=test_data, epochs=25, callbacks=[callback])"
   ]
  },
  {
   "cell_type": "code",
   "execution_count": 32,
   "id": "e1316cc7",
   "metadata": {
    "ExecuteTime": {
     "end_time": "2022-04-24T07:03:27.528037Z",
     "start_time": "2022-04-24T07:03:23.064494Z"
    }
   },
   "outputs": [
    {
     "data": {
      "text/plain": [
       "0.429096252755327"
      ]
     },
     "execution_count": 32,
     "metadata": {},
     "output_type": "execute_result"
    }
   ],
   "source": [
    "pred = model.predict(X_test)\n",
    "\n",
    "pr = pd.Series(list(pred)).map(lambda x: 1 if x > 0.5 else 0)\n",
    "\n",
    "f1_score(y_true=y_test, y_pred=pr)"
   ]
  },
  {
   "cell_type": "code",
   "execution_count": 33,
   "id": "e8eb0bfc",
   "metadata": {
    "ExecuteTime": {
     "end_time": "2022-04-24T07:03:29.089020Z",
     "start_time": "2022-04-24T07:03:27.530036Z"
    }
   },
   "outputs": [
    {
     "data": {
      "image/png": "[encoded data removed]",
      "text/plain": [
       "<Figure size 432x288 with 1 Axes>"
      ]
     },
     "metadata": {
      "needs_background": "light"
     },
     "output_type": "display_data"
    },
    {
     "data": {
      "image/png": "[encoded data removed]",
      "text/plain": [
       "<Figure size 432x288 with 1 Axes>"
      ]
     },
     "metadata": {
      "needs_background": "light"
     },
     "output_type": "display_data"
    }
   ],
   "source": [
    "import matplotlib.pyplot as plt\n",
    "\n",
    "acc = history.history['accuracy']\n",
    "acc_v = history.history['val_accuracy']\n",
    "loss = history.history['loss']\n",
    "loss_v = history.history['val_loss']\n",
    "\n",
    "epochs = range(len(acc))\n",
    "\n",
    "plt.plot(epochs, acc, 'b', label='Train')\n",
    "plt.plot(epochs, acc_v, 'r', label='Test')\n",
    "plt.legend()\n",
    "plt.title('accuracy')\n",
    "\n",
    "plt.figure()\n",
    "\n",
    "plt.plot(epochs, loss, 'b', label='Train')\n",
    "plt.plot(epochs, loss_v, 'r', label='Test')\n",
    "plt.title('loss')\n",
    "plt.legend()\n",
    "\n",
    "plt.show()"
   ]
  },
  {
   "cell_type": "markdown",
   "id": "ca4d0a86",
   "metadata": {},
   "source": [
    "Результаты сети лучше чем логистической регрессии"
   ]
  }
 ],
 "metadata": {
  "kernelspec": {
   "display_name": "Python 3 (ipykernel)",
   "language": "python",
   "name": "python3"
  },
  "language_info": {
   "codemirror_mode": {
    "name": "ipython",
    "version": 3
   },
   "file_extension": ".py",
   "mimetype": "text/x-python",
   "name": "python",
   "nbconvert_exporter": "python",
   "pygments_lexer": "ipython3",
   "version": "3.9.12"
  },
  "toc": {
   "base_numbering": 1,
   "nav_menu": {},
   "number_sections": true,
   "sideBar": true,
   "skip_h1_title": false,
   "title_cell": "Table of Contents",
   "title_sidebar": "Contents",
   "toc_cell": false,
   "toc_position": {},
   "toc_section_display": true,
   "toc_window_display": false
  }
 },
 "nbformat": 4,
 "nbformat_minor": 5
}
