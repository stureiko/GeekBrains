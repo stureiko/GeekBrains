{
  "nbformat": 4,
  "nbformat_minor": 0,
  "metadata": {
    "kernelspec": {
      "display_name": "Python 3",
      "language": "python",
      "name": "python3"
    },
    "language_info": {
      "codemirror_mode": {
        "name": "ipython",
        "version": 3
      },
      "file_extension": ".py",
      "mimetype": "text/x-python",
      "name": "python",
      "nbconvert_exporter": "python",
      "pygments_lexer": "ipython3",
      "version": "3.8.3"
    },
    "colab": {
      "name": "lesson_1_v01.ipynb",
      "provenance": [],
      "collapsed_sections": [
        "qhiYbOONbyBj",
        "qVHm5UWjbyBl",
        "b_eV6J93byBl",
        "ManLnYVRbyBm",
        "ySoevt7lbyBp"
      ]
    },
    "accelerator": "GPU"
  },
  "cells": [
    {
      "cell_type": "markdown",
      "metadata": {
        "id": "iz5YfB4RbyBa"
      },
      "source": [
        "## Предобработка текста с помощью Python "
      ]
    },
    {
      "cell_type": "markdown",
      "metadata": {
        "id": "2G8vHLRDbyBf"
      },
      "source": [
        "### 1.Введение в библиотеку re"
      ]
    },
    {
      "cell_type": "markdown",
      "metadata": {
        "id": "oumywwE7byBf"
      },
      "source": [
        "Регулярное выражение — это последовательность символов, используемая для поиска и замены текста в строке или файле.\n",
        "\n",
        "Регулярные выражения используют два типа символов:\n",
        "\n",
        "- специальные символы: как следует из названия, у этих символов есть специальные значения. \n",
        "- литералы (например: a, b, 1, 2 и т. д.).\n",
        "\n",
        "Примеры регулярных выражений:\n",
        "\n",
        "- . – любой символ, кроме перевода строки;\n",
        "- \\w – одно слово;\n",
        "- \\d – одна цифра;\n",
        "- \\s – один пробел;\n",
        "- \\W – одно НЕслово;\n",
        "- \\D – одна НЕцифра;\n",
        "- \\S – один НЕпробел;\n",
        "- [abc] – находит любой из указанных символов match any of a, b, or c;\n",
        "- [^abc] – находит любой символ, кроме указанных;\n",
        "- [a-g] – находит символ в промежутке от a до g.\n",
        "\n",
        "\n",
        "В Python для работы с регулярными выражениями есть модуль re. Для использования его нужно импортировать:"
      ]
    },
    {
      "cell_type": "code",
      "metadata": {
        "id": "4AS_HGQObyBg",
        "colab": {
          "base_uri": "https://localhost:8080/"
        },
        "outputId": "921f2847-bc69-49a1-db5f-0b2e0758353d"
      },
      "source": [
        "import re\n",
        "help(re)"
      ],
      "execution_count": null,
      "outputs": [
        {
          "output_type": "stream",
          "text": [
            "Help on module re:\n",
            "\n",
            "NAME\n",
            "    re - Support for regular expressions (RE).\n",
            "\n",
            "MODULE REFERENCE\n",
            "    https://docs.python.org/3.7/library/re\n",
            "    \n",
            "    The following documentation is automatically generated from the Python\n",
            "    source files.  It may be incomplete, incorrect or include features that\n",
            "    are considered implementation detail and may vary between Python\n",
            "    implementations.  When in doubt, consult the module reference at the\n",
            "    location listed above.\n",
            "\n",
            "DESCRIPTION\n",
            "    This module provides regular expression matching operations similar to\n",
            "    those found in Perl.  It supports both 8-bit and Unicode strings; both\n",
            "    the pattern and the strings being processed can contain null bytes and\n",
            "    characters outside the US ASCII range.\n",
            "    \n",
            "    Regular expressions can contain both special and ordinary characters.\n",
            "    Most ordinary characters, like \"A\", \"a\", or \"0\", are the simplest\n",
            "    regular expressions; they simply match themselves.  You can\n",
            "    concatenate ordinary characters, so last matches the string 'last'.\n",
            "    \n",
            "    The special characters are:\n",
            "        \".\"      Matches any character except a newline.\n",
            "        \"^\"      Matches the start of the string.\n",
            "        \"$\"      Matches the end of the string or just before the newline at\n",
            "                 the end of the string.\n",
            "        \"*\"      Matches 0 or more (greedy) repetitions of the preceding RE.\n",
            "                 Greedy means that it will match as many repetitions as possible.\n",
            "        \"+\"      Matches 1 or more (greedy) repetitions of the preceding RE.\n",
            "        \"?\"      Matches 0 or 1 (greedy) of the preceding RE.\n",
            "        *?,+?,?? Non-greedy versions of the previous three special characters.\n",
            "        {m,n}    Matches from m to n repetitions of the preceding RE.\n",
            "        {m,n}?   Non-greedy version of the above.\n",
            "        \"\\\\\"     Either escapes special characters or signals a special sequence.\n",
            "        []       Indicates a set of characters.\n",
            "                 A \"^\" as the first character indicates a complementing set.\n",
            "        \"|\"      A|B, creates an RE that will match either A or B.\n",
            "        (...)    Matches the RE inside the parentheses.\n",
            "                 The contents can be retrieved or matched later in the string.\n",
            "        (?aiLmsux) The letters set the corresponding flags defined below.\n",
            "        (?:...)  Non-grouping version of regular parentheses.\n",
            "        (?P<name>...) The substring matched by the group is accessible by name.\n",
            "        (?P=name)     Matches the text matched earlier by the group named name.\n",
            "        (?#...)  A comment; ignored.\n",
            "        (?=...)  Matches if ... matches next, but doesn't consume the string.\n",
            "        (?!...)  Matches if ... doesn't match next.\n",
            "        (?<=...) Matches if preceded by ... (must be fixed length).\n",
            "        (?<!...) Matches if not preceded by ... (must be fixed length).\n",
            "        (?(id/name)yes|no) Matches yes pattern if the group with id/name matched,\n",
            "                           the (optional) no pattern otherwise.\n",
            "    \n",
            "    The special sequences consist of \"\\\\\" and a character from the list\n",
            "    below.  If the ordinary character is not on the list, then the\n",
            "    resulting RE will match the second character.\n",
            "        \\number  Matches the contents of the group of the same number.\n",
            "        \\A       Matches only at the start of the string.\n",
            "        \\Z       Matches only at the end of the string.\n",
            "        \\b       Matches the empty string, but only at the start or end of a word.\n",
            "        \\B       Matches the empty string, but not at the start or end of a word.\n",
            "        \\d       Matches any decimal digit; equivalent to the set [0-9] in\n",
            "                 bytes patterns or string patterns with the ASCII flag.\n",
            "                 In string patterns without the ASCII flag, it will match the whole\n",
            "                 range of Unicode digits.\n",
            "        \\D       Matches any non-digit character; equivalent to [^\\d].\n",
            "        \\s       Matches any whitespace character; equivalent to [ \\t\\n\\r\\f\\v] in\n",
            "                 bytes patterns or string patterns with the ASCII flag.\n",
            "                 In string patterns without the ASCII flag, it will match the whole\n",
            "                 range of Unicode whitespace characters.\n",
            "        \\S       Matches any non-whitespace character; equivalent to [^\\s].\n",
            "        \\w       Matches any alphanumeric character; equivalent to [a-zA-Z0-9_]\n",
            "                 in bytes patterns or string patterns with the ASCII flag.\n",
            "                 In string patterns without the ASCII flag, it will match the\n",
            "                 range of Unicode alphanumeric characters (letters plus digits\n",
            "                 plus underscore).\n",
            "                 With LOCALE, it will match the set [0-9_] plus characters defined\n",
            "                 as letters for the current locale.\n",
            "        \\W       Matches the complement of \\w.\n",
            "        \\\\       Matches a literal backslash.\n",
            "    \n",
            "    This module exports the following functions:\n",
            "        match     Match a regular expression pattern to the beginning of a string.\n",
            "        fullmatch Match a regular expression pattern to all of a string.\n",
            "        search    Search a string for the presence of a pattern.\n",
            "        sub       Substitute occurrences of a pattern found in a string.\n",
            "        subn      Same as sub, but also return the number of substitutions made.\n",
            "        split     Split a string by the occurrences of a pattern.\n",
            "        findall   Find all occurrences of a pattern in a string.\n",
            "        finditer  Return an iterator yielding a Match object for each match.\n",
            "        compile   Compile a pattern into a Pattern object.\n",
            "        purge     Clear the regular expression cache.\n",
            "        escape    Backslash all non-alphanumerics in a string.\n",
            "    \n",
            "    Each function other than purge and escape can take an optional 'flags' argument\n",
            "    consisting of one or more of the following module constants, joined by \"|\".\n",
            "    A, L, and U are mutually exclusive.\n",
            "        A  ASCII       For string patterns, make \\w, \\W, \\b, \\B, \\d, \\D\n",
            "                       match the corresponding ASCII character categories\n",
            "                       (rather than the whole Unicode categories, which is the\n",
            "                       default).\n",
            "                       For bytes patterns, this flag is the only available\n",
            "                       behaviour and needn't be specified.\n",
            "        I  IGNORECASE  Perform case-insensitive matching.\n",
            "        L  LOCALE      Make \\w, \\W, \\b, \\B, dependent on the current locale.\n",
            "        M  MULTILINE   \"^\" matches the beginning of lines (after a newline)\n",
            "                       as well as the string.\n",
            "                       \"$\" matches the end of lines (before a newline) as well\n",
            "                       as the end of the string.\n",
            "        S  DOTALL      \".\" matches any character at all, including the newline.\n",
            "        X  VERBOSE     Ignore whitespace and comments for nicer looking RE's.\n",
            "        U  UNICODE     For compatibility only. Ignored for string patterns (it\n",
            "                       is the default), and forbidden for bytes patterns.\n",
            "    \n",
            "    This module also defines an exception 'error'.\n",
            "\n",
            "CLASSES\n",
            "    builtins.Exception(builtins.BaseException)\n",
            "        error\n",
            "    builtins.object\n",
            "        Match\n",
            "        Pattern\n",
            "    \n",
            "    class Match(builtins.object)\n",
            "     |  The result of re.match() and re.search().\n",
            "     |  Match objects always have a boolean value of True.\n",
            "     |  \n",
            "     |  Methods defined here:\n",
            "     |  \n",
            "     |  __copy__(self, /)\n",
            "     |  \n",
            "     |  __deepcopy__(self, memo, /)\n",
            "     |  \n",
            "     |  __getitem__(self, key, /)\n",
            "     |      Return self[key].\n",
            "     |  \n",
            "     |  __repr__(self, /)\n",
            "     |      Return repr(self).\n",
            "     |  \n",
            "     |  end(self, group=0, /)\n",
            "     |      Return index of the end of the substring matched by group.\n",
            "     |  \n",
            "     |  expand(self, /, template)\n",
            "     |      Return the string obtained by doing backslash substitution on the string template, as done by the sub() method.\n",
            "     |  \n",
            "     |  group(...)\n",
            "     |      group([group1, ...]) -> str or tuple.\n",
            "     |      Return subgroup(s) of the match by indices or names.\n",
            "     |      For 0 returns the entire match.\n",
            "     |  \n",
            "     |  groupdict(self, /, default=None)\n",
            "     |      Return a dictionary containing all the named subgroups of the match, keyed by the subgroup name.\n",
            "     |      \n",
            "     |      default\n",
            "     |        Is used for groups that did not participate in the match.\n",
            "     |  \n",
            "     |  groups(self, /, default=None)\n",
            "     |      Return a tuple containing all the subgroups of the match, from 1.\n",
            "     |      \n",
            "     |      default\n",
            "     |        Is used for groups that did not participate in the match.\n",
            "     |  \n",
            "     |  span(self, group=0, /)\n",
            "     |      For match object m, return the 2-tuple (m.start(group), m.end(group)).\n",
            "     |  \n",
            "     |  start(self, group=0, /)\n",
            "     |      Return index of the start of the substring matched by group.\n",
            "     |  \n",
            "     |  ----------------------------------------------------------------------\n",
            "     |  Data descriptors defined here:\n",
            "     |  \n",
            "     |  endpos\n",
            "     |      The index into the string beyond which the RE engine will not go.\n",
            "     |  \n",
            "     |  lastgroup\n",
            "     |      The name of the last matched capturing group.\n",
            "     |  \n",
            "     |  lastindex\n",
            "     |      The integer index of the last matched capturing group.\n",
            "     |  \n",
            "     |  pos\n",
            "     |      The index into the string at which the RE engine started looking for a match.\n",
            "     |  \n",
            "     |  re\n",
            "     |      The regular expression object.\n",
            "     |  \n",
            "     |  regs\n",
            "     |  \n",
            "     |  string\n",
            "     |      The string passed to match() or search().\n",
            "    \n",
            "    class Pattern(builtins.object)\n",
            "     |  Compiled regular expression object.\n",
            "     |  \n",
            "     |  Methods defined here:\n",
            "     |  \n",
            "     |  __copy__(self, /)\n",
            "     |  \n",
            "     |  __deepcopy__(self, memo, /)\n",
            "     |  \n",
            "     |  __eq__(self, value, /)\n",
            "     |      Return self==value.\n",
            "     |  \n",
            "     |  __ge__(self, value, /)\n",
            "     |      Return self>=value.\n",
            "     |  \n",
            "     |  __gt__(self, value, /)\n",
            "     |      Return self>value.\n",
            "     |  \n",
            "     |  __hash__(self, /)\n",
            "     |      Return hash(self).\n",
            "     |  \n",
            "     |  __le__(self, value, /)\n",
            "     |      Return self<=value.\n",
            "     |  \n",
            "     |  __lt__(self, value, /)\n",
            "     |      Return self<value.\n",
            "     |  \n",
            "     |  __ne__(self, value, /)\n",
            "     |      Return self!=value.\n",
            "     |  \n",
            "     |  __repr__(self, /)\n",
            "     |      Return repr(self).\n",
            "     |  \n",
            "     |  findall(self, /, string, pos=0, endpos=9223372036854775807)\n",
            "     |      Return a list of all non-overlapping matches of pattern in string.\n",
            "     |  \n",
            "     |  finditer(self, /, string, pos=0, endpos=9223372036854775807)\n",
            "     |      Return an iterator over all non-overlapping matches for the RE pattern in string.\n",
            "     |      \n",
            "     |      For each match, the iterator returns a match object.\n",
            "     |  \n",
            "     |  fullmatch(self, /, string, pos=0, endpos=9223372036854775807)\n",
            "     |      Matches against all of the string.\n",
            "     |  \n",
            "     |  match(self, /, string, pos=0, endpos=9223372036854775807)\n",
            "     |      Matches zero or more characters at the beginning of the string.\n",
            "     |  \n",
            "     |  scanner(self, /, string, pos=0, endpos=9223372036854775807)\n",
            "     |  \n",
            "     |  search(self, /, string, pos=0, endpos=9223372036854775807)\n",
            "     |      Scan through string looking for a match, and return a corresponding match object instance.\n",
            "     |      \n",
            "     |      Return None if no position in the string matches.\n",
            "     |  \n",
            "     |  split(self, /, string, maxsplit=0)\n",
            "     |      Split string by the occurrences of pattern.\n",
            "     |  \n",
            "     |  sub(self, /, repl, string, count=0)\n",
            "     |      Return the string obtained by replacing the leftmost non-overlapping occurrences of pattern in string by the replacement repl.\n",
            "     |  \n",
            "     |  subn(self, /, repl, string, count=0)\n",
            "     |      Return the tuple (new_string, number_of_subs_made) found by replacing the leftmost non-overlapping occurrences of pattern with the replacement repl.\n",
            "     |  \n",
            "     |  ----------------------------------------------------------------------\n",
            "     |  Data descriptors defined here:\n",
            "     |  \n",
            "     |  flags\n",
            "     |      The regex matching flags.\n",
            "     |  \n",
            "     |  groupindex\n",
            "     |      A dictionary mapping group names to group numbers.\n",
            "     |  \n",
            "     |  groups\n",
            "     |      The number of capturing groups in the pattern.\n",
            "     |  \n",
            "     |  pattern\n",
            "     |      The pattern string from which the RE object was compiled.\n",
            "    \n",
            "    class error(builtins.Exception)\n",
            "     |  error(msg, pattern=None, pos=None)\n",
            "     |  \n",
            "     |  Exception raised for invalid regular expressions.\n",
            "     |  \n",
            "     |  Attributes:\n",
            "     |  \n",
            "     |      msg: The unformatted error message\n",
            "     |      pattern: The regular expression pattern\n",
            "     |      pos: The index in the pattern where compilation failed (may be None)\n",
            "     |      lineno: The line corresponding to pos (may be None)\n",
            "     |      colno: The column corresponding to pos (may be None)\n",
            "     |  \n",
            "     |  Method resolution order:\n",
            "     |      error\n",
            "     |      builtins.Exception\n",
            "     |      builtins.BaseException\n",
            "     |      builtins.object\n",
            "     |  \n",
            "     |  Methods defined here:\n",
            "     |  \n",
            "     |  __init__(self, msg, pattern=None, pos=None)\n",
            "     |      Initialize self.  See help(type(self)) for accurate signature.\n",
            "     |  \n",
            "     |  ----------------------------------------------------------------------\n",
            "     |  Data descriptors defined here:\n",
            "     |  \n",
            "     |  __weakref__\n",
            "     |      list of weak references to the object (if defined)\n",
            "     |  \n",
            "     |  ----------------------------------------------------------------------\n",
            "     |  Static methods inherited from builtins.Exception:\n",
            "     |  \n",
            "     |  __new__(*args, **kwargs) from builtins.type\n",
            "     |      Create and return a new object.  See help(type) for accurate signature.\n",
            "     |  \n",
            "     |  ----------------------------------------------------------------------\n",
            "     |  Methods inherited from builtins.BaseException:\n",
            "     |  \n",
            "     |  __delattr__(self, name, /)\n",
            "     |      Implement delattr(self, name).\n",
            "     |  \n",
            "     |  __getattribute__(self, name, /)\n",
            "     |      Return getattr(self, name).\n",
            "     |  \n",
            "     |  __reduce__(...)\n",
            "     |      Helper for pickle.\n",
            "     |  \n",
            "     |  __repr__(self, /)\n",
            "     |      Return repr(self).\n",
            "     |  \n",
            "     |  __setattr__(self, name, value, /)\n",
            "     |      Implement setattr(self, name, value).\n",
            "     |  \n",
            "     |  __setstate__(...)\n",
            "     |  \n",
            "     |  __str__(self, /)\n",
            "     |      Return str(self).\n",
            "     |  \n",
            "     |  with_traceback(...)\n",
            "     |      Exception.with_traceback(tb) --\n",
            "     |      set self.__traceback__ to tb and return self.\n",
            "     |  \n",
            "     |  ----------------------------------------------------------------------\n",
            "     |  Data descriptors inherited from builtins.BaseException:\n",
            "     |  \n",
            "     |  __cause__\n",
            "     |      exception cause\n",
            "     |  \n",
            "     |  __context__\n",
            "     |      exception context\n",
            "     |  \n",
            "     |  __dict__\n",
            "     |  \n",
            "     |  __suppress_context__\n",
            "     |  \n",
            "     |  __traceback__\n",
            "     |  \n",
            "     |  args\n",
            "\n",
            "FUNCTIONS\n",
            "    compile(pattern, flags=0)\n",
            "        Compile a regular expression pattern, returning a Pattern object.\n",
            "    \n",
            "    escape(pattern)\n",
            "        Escape special characters in a string.\n",
            "    \n",
            "    findall(pattern, string, flags=0)\n",
            "        Return a list of all non-overlapping matches in the string.\n",
            "        \n",
            "        If one or more capturing groups are present in the pattern, return\n",
            "        a list of groups; this will be a list of tuples if the pattern\n",
            "        has more than one group.\n",
            "        \n",
            "        Empty matches are included in the result.\n",
            "    \n",
            "    finditer(pattern, string, flags=0)\n",
            "        Return an iterator over all non-overlapping matches in the\n",
            "        string.  For each match, the iterator returns a Match object.\n",
            "        \n",
            "        Empty matches are included in the result.\n",
            "    \n",
            "    fullmatch(pattern, string, flags=0)\n",
            "        Try to apply the pattern to all of the string, returning\n",
            "        a Match object, or None if no match was found.\n",
            "    \n",
            "    match(pattern, string, flags=0)\n",
            "        Try to apply the pattern at the start of the string, returning\n",
            "        a Match object, or None if no match was found.\n",
            "    \n",
            "    purge()\n",
            "        Clear the regular expression caches\n",
            "    \n",
            "    search(pattern, string, flags=0)\n",
            "        Scan through string looking for a match to the pattern, returning\n",
            "        a Match object, or None if no match was found.\n",
            "    \n",
            "    split(pattern, string, maxsplit=0, flags=0)\n",
            "        Split the source string by the occurrences of the pattern,\n",
            "        returning a list containing the resulting substrings.  If\n",
            "        capturing parentheses are used in pattern, then the text of all\n",
            "        groups in the pattern are also returned as part of the resulting\n",
            "        list.  If maxsplit is nonzero, at most maxsplit splits occur,\n",
            "        and the remainder of the string is returned as the final element\n",
            "        of the list.\n",
            "    \n",
            "    sub(pattern, repl, string, count=0, flags=0)\n",
            "        Return the string obtained by replacing the leftmost\n",
            "        non-overlapping occurrences of the pattern in string by the\n",
            "        replacement repl.  repl can be either a string or a callable;\n",
            "        if a string, backslash escapes in it are processed.  If it is\n",
            "        a callable, it's passed the Match object and must return\n",
            "        a replacement string to be used.\n",
            "    \n",
            "    subn(pattern, repl, string, count=0, flags=0)\n",
            "        Return a 2-tuple containing (new_string, number).\n",
            "        new_string is the string obtained by replacing the leftmost\n",
            "        non-overlapping occurrences of the pattern in the source\n",
            "        string by the replacement repl.  number is the number of\n",
            "        substitutions that were made. repl can be either a string or a\n",
            "        callable; if a string, backslash escapes in it are processed.\n",
            "        If it is a callable, it's passed the Match object and must\n",
            "        return a replacement string to be used.\n",
            "    \n",
            "    template(pattern, flags=0)\n",
            "        Compile a template pattern, returning a Pattern object\n",
            "\n",
            "DATA\n",
            "    A = <RegexFlag.ASCII: 256>\n",
            "    ASCII = <RegexFlag.ASCII: 256>\n",
            "    DOTALL = <RegexFlag.DOTALL: 16>\n",
            "    I = <RegexFlag.IGNORECASE: 2>\n",
            "    IGNORECASE = <RegexFlag.IGNORECASE: 2>\n",
            "    L = <RegexFlag.LOCALE: 4>\n",
            "    LOCALE = <RegexFlag.LOCALE: 4>\n",
            "    M = <RegexFlag.MULTILINE: 8>\n",
            "    MULTILINE = <RegexFlag.MULTILINE: 8>\n",
            "    S = <RegexFlag.DOTALL: 16>\n",
            "    U = <RegexFlag.UNICODE: 32>\n",
            "    UNICODE = <RegexFlag.UNICODE: 32>\n",
            "    VERBOSE = <RegexFlag.VERBOSE: 64>\n",
            "    X = <RegexFlag.VERBOSE: 64>\n",
            "    __all__ = ['match', 'fullmatch', 'search', 'sub', 'subn', 'split', 'fi...\n",
            "\n",
            "VERSION\n",
            "    2.2.1\n",
            "\n",
            "FILE\n",
            "    /usr/lib/python3.7/re.py\n",
            "\n",
            "\n"
          ],
          "name": "stdout"
        }
      ]
    },
    {
      "cell_type": "markdown",
      "metadata": {
        "id": "IsRtMyCqbyBh"
      },
      "source": [
        "Чаще всего регулярные выражения используются для:\n",
        "- поиска в строке;\n",
        "- разбиения строки на подстроки;\n",
        "- замены части строки.\n",
        "\n",
        "Давайте посмотрим на методы, которые предоставляет библиотека re для этих задач."
      ]
    },
    {
      "cell_type": "markdown",
      "metadata": {
        "id": "Tkc8Y-KCbyBh"
      },
      "source": [
        "#### re.match(pattern, string):"
      ]
    },
    {
      "cell_type": "markdown",
      "metadata": {
        "id": "1iEqfeYEbyBh"
      },
      "source": [
        "Этот метод ищет по заданному шаблону в начале строки. Например, если мы вызовем метод match() на строке «find matched pattern» с шаблоном «find», то он завершится успешно. Однако если мы будем искать «matched», то результат будет отрицательный."
      ]
    },
    {
      "cell_type": "code",
      "metadata": {
        "id": "K7G2valAh5IP"
      },
      "source": [
        ""
      ],
      "execution_count": null,
      "outputs": []
    },
    {
      "cell_type": "code",
      "metadata": {
        "id": "-F9m33H0byBh",
        "colab": {
          "base_uri": "https://localhost:8080/"
        },
        "outputId": "69b08619-0c53-4246-8e44-a4d172e697b5"
      },
      "source": [
        "re.match(r'find', 'find matched pattern')"
      ],
      "execution_count": null,
      "outputs": [
        {
          "output_type": "execute_result",
          "data": {
            "text/plain": [
              "<re.Match object; span=(0, 4), match='find'>"
            ]
          },
          "metadata": {
            "tags": []
          },
          "execution_count": 2
        }
      ]
    },
    {
      "cell_type": "code",
      "metadata": {
        "id": "1Og-IbEibyBi",
        "outputId": "4ec57af7-fcdd-4e73-b2f6-bc0b420d22d1"
      },
      "source": [
        "print(re.match(r'matched', 'find matched pattern'))"
      ],
      "execution_count": null,
      "outputs": [
        {
          "output_type": "stream",
          "text": [
            "None\n"
          ],
          "name": "stdout"
        }
      ]
    },
    {
      "cell_type": "code",
      "metadata": {
        "id": "e-volSXHbyBi",
        "outputId": "6d822f1c-0914-4b80-fdce-72093affcd73"
      },
      "source": [
        "re.match(r'[a-z]', 'find matched pattern')"
      ],
      "execution_count": null,
      "outputs": [
        {
          "output_type": "execute_result",
          "data": {
            "text/plain": [
              "<re.Match object; span=(0, 1), match='f'>"
            ]
          },
          "metadata": {
            "tags": []
          },
          "execution_count": 4
        }
      ]
    },
    {
      "cell_type": "code",
      "metadata": {
        "id": "J5E4rwZbbyBi",
        "outputId": "097c06ad-c8db-46e4-8672-5dbd41d469b5"
      },
      "source": [
        "re.match(r'[a-z]+', 'find matched pattern')"
      ],
      "execution_count": null,
      "outputs": [
        {
          "output_type": "execute_result",
          "data": {
            "text/plain": [
              "<re.Match object; span=(0, 4), match='find'>"
            ]
          },
          "metadata": {
            "tags": []
          },
          "execution_count": 5
        }
      ]
    },
    {
      "cell_type": "markdown",
      "metadata": {
        "id": "SffLwdXibyBj"
      },
      "source": [
        "#### re.search(pattern, string)"
      ]
    },
    {
      "cell_type": "markdown",
      "metadata": {
        "id": "O1I4flDCbyBj"
      },
      "source": [
        "Этот метод похож на match(), но он ищет не только в начале строки. В отличие от предыдущего, search() вернет объект, если мы попытаемся найти «matched»."
      ]
    },
    {
      "cell_type": "code",
      "metadata": {
        "id": "wEH0udhubyBj",
        "outputId": "32a965a2-4ab6-4246-aea2-0f0e115f6293"
      },
      "source": [
        "result = re.search(r'matched', 'find matched pattern')\n",
        "print(result.group())"
      ],
      "execution_count": null,
      "outputs": [
        {
          "output_type": "stream",
          "text": [
            "matched\n"
          ],
          "name": "stdout"
        }
      ]
    },
    {
      "cell_type": "code",
      "metadata": {
        "id": "XjiHMYRobyBj",
        "outputId": "d15efd96-4a00-4813-cefa-0022ef93fea5"
      },
      "source": [
        "re.search(r'\\w+', 'find matched pattern')"
      ],
      "execution_count": null,
      "outputs": [
        {
          "output_type": "execute_result",
          "data": {
            "text/plain": [
              "<re.Match object; span=(0, 4), match='find'>"
            ]
          },
          "metadata": {
            "tags": []
          },
          "execution_count": 7
        }
      ]
    },
    {
      "cell_type": "markdown",
      "metadata": {
        "id": "qhiYbOONbyBj"
      },
      "source": [
        "#### re.findall(pattern, string)"
      ]
    },
    {
      "cell_type": "markdown",
      "metadata": {
        "id": "TwqHOmMZbyBk"
      },
      "source": [
        "Этот метод возвращает список всех найденных совпадений. У метода findall() нет ограничений на поиск в начале или конце строки. Для поиска рекомендуется использовать именно findall(), так как он может работать и как re.search(), и как re.match()."
      ]
    },
    {
      "cell_type": "code",
      "metadata": {
        "id": "LYqywqFbbyBk",
        "outputId": "7988509b-d098-4087-d541-c341110cf5ce"
      },
      "source": [
        "result = re.findall(r're', 'we want re to find all re in this text re')\n",
        "print(result)"
      ],
      "execution_count": null,
      "outputs": [
        {
          "output_type": "stream",
          "text": [
            "['re', 're', 're']\n"
          ],
          "name": "stdout"
        }
      ]
    },
    {
      "cell_type": "markdown",
      "metadata": {
        "id": "pS2M6aXabyBk"
      },
      "source": [
        "Вернуть список доменов из списка адресов электронной почты.\n",
        "Online regex tester and debugger: https://regex101.com/"
      ]
    },
    {
      "cell_type": "code",
      "metadata": {
        "id": "ejAW07kzbyBk",
        "outputId": "6233b1bd-a6d4-4607-bc5f-975b0270a6f6"
      },
      "source": [
        "result = re.findall(r'@\\w+\\.\\w+', 'dsdf, abc.test@gmail.com, xyz@test.in, test.first@mail.ru, dhjsd@hjk*fhjd')\n",
        "print(result)\n"
      ],
      "execution_count": null,
      "outputs": [
        {
          "output_type": "stream",
          "text": [
            "['@gmail.com', '@test.in', '@mail.ru']\n"
          ],
          "name": "stdout"
        }
      ]
    },
    {
      "cell_type": "markdown",
      "metadata": {
        "id": "KeMOg-RDbyBk"
      },
      "source": [
        "Извлечь дату из строки."
      ]
    },
    {
      "cell_type": "code",
      "metadata": {
        "id": "qIgkW38QbyBk",
        "outputId": "7722cea3-91e5-4844-b29d-31cd889a5582"
      },
      "source": [
        "result = re.findall(r'\\d{2}-\\d{2}-\\d{4}', 'Name 34-3456 12-05-2007, XYZ 56-4532 11-11-2011, ABC 67-8945 12-01-2009')\n",
        "print(result)"
      ],
      "execution_count": null,
      "outputs": [
        {
          "output_type": "stream",
          "text": [
            "['12-05-2007', '11-11-2011', '12-01-2009']\n"
          ],
          "name": "stdout"
        }
      ]
    },
    {
      "cell_type": "markdown",
      "metadata": {
        "id": "qVHm5UWjbyBl"
      },
      "source": [
        "#### re.split(pattern, string, [maxsplit=0])"
      ]
    },
    {
      "cell_type": "markdown",
      "metadata": {
        "id": "VpSoSmegbyBl"
      },
      "source": [
        "Этот метод разделяет строку по заданному шаблону."
      ]
    },
    {
      "cell_type": "code",
      "metadata": {
        "id": "B3zhWaLLbyBl",
        "outputId": "5fc56a57-f982-4d31-f13a-255757187976"
      },
      "source": [
        "result = re.split(r' ', 'we want to devide')\n",
        "print(result)"
      ],
      "execution_count": null,
      "outputs": [
        {
          "output_type": "stream",
          "text": [
            "['we', 'want', 'to', 'devide']\n"
          ],
          "name": "stdout"
        }
      ]
    },
    {
      "cell_type": "markdown",
      "metadata": {
        "id": "b_eV6J93byBl"
      },
      "source": [
        "#### re.sub(pattern, repl, string)"
      ]
    },
    {
      "cell_type": "markdown",
      "metadata": {
        "id": "yGURtYmSbyBl"
      },
      "source": [
        "Этот метод ищет шаблон в строке и заменяет его на указанную подстроку. Если шаблон не найден, строка остается неизменной.\n"
      ]
    },
    {
      "cell_type": "code",
      "metadata": {
        "id": "A5GaYz_GbyBl",
        "outputId": "e137286b-66c3-4db5-ad3d-da421ad6e4d0"
      },
      "source": [
        "result = re.sub(r'Russia', 'the World', 'I want to be the best nlp specialist in Russia')\n",
        "print(result)\n"
      ],
      "execution_count": null,
      "outputs": [
        {
          "output_type": "stream",
          "text": [
            "I want to be the best nlp specialist in the World\n"
          ],
          "name": "stdout"
        }
      ]
    },
    {
      "cell_type": "markdown",
      "metadata": {
        "id": "ManLnYVRbyBm"
      },
      "source": [
        "#### Удаление пунктуации\n",
        "\n",
        "Мы можем использовать регулярные выражения для дополнительного фильтрова"
      ]
    },
    {
      "cell_type": "code",
      "metadata": {
        "id": "IlyiniuBbyBm",
        "outputId": "c042927a-9319-4834-f83d-b5e3d1ac7eda"
      },
      "source": [
        "text = 'Russian is an East Slavic language, which is an official language in Russia, Belarus, Kazakhstan, Kyrgyzstan, as well as being widely used throughout Eastern Europe, the Baltic states, the Caucasus and Central Asia.'\n",
        "no_punctuation_text = re.sub(r'[^\\w\\s]', '', text)\n",
        "no_punctuation_text"
      ],
      "execution_count": null,
      "outputs": [
        {
          "output_type": "execute_result",
          "data": {
            "text/plain": [
              "'Russian is an East Slavic language which is an official language in Russia Belarus Kazakhstan Kyrgyzstan as well as being widely used throughout Eastern Europe the Baltic states the Caucasus and Central Asia'"
            ]
          },
          "metadata": {
            "tags": []
          },
          "execution_count": 13
        }
      ]
    },
    {
      "cell_type": "code",
      "metadata": {
        "id": "YdOAFBySbyBm"
      },
      "source": [
        "import string"
      ],
      "execution_count": null,
      "outputs": []
    },
    {
      "cell_type": "code",
      "metadata": {
        "id": "zobe1Y-EbyBm",
        "outputId": "3f521f65-309a-40ad-faea-23aee83b176b"
      },
      "source": [
        "string.punctuation"
      ],
      "execution_count": null,
      "outputs": [
        {
          "output_type": "execute_result",
          "data": {
            "text/plain": [
              "'!\"#$%&\\'()*+,-./:;<=>?@[\\\\]^_`{|}~'"
            ]
          },
          "metadata": {
            "tags": []
          },
          "execution_count": 15
        }
      ]
    },
    {
      "cell_type": "code",
      "metadata": {
        "id": "T8IXpKmdbyBm",
        "outputId": "d8ce4b82-2132-4ab7-b64d-b017b7ce54ba"
      },
      "source": [
        "string.whitespace"
      ],
      "execution_count": null,
      "outputs": [
        {
          "output_type": "execute_result",
          "data": {
            "text/plain": [
              "' \\t\\n\\r\\x0b\\x0c'"
            ]
          },
          "metadata": {
            "tags": []
          },
          "execution_count": 100
        }
      ]
    },
    {
      "cell_type": "code",
      "metadata": {
        "id": "3ophtudrbyBm",
        "outputId": "b737515a-9404-4c02-8b78-fb1c0ac0d3db"
      },
      "source": [
        "''.join([ch for ch in list(text) if ch not in string.punctuation])"
      ],
      "execution_count": null,
      "outputs": [
        {
          "output_type": "execute_result",
          "data": {
            "text/plain": [
              "'Russian is an East Slavic language which is an official language in Russia Belarus Kazakhstan Kyrgyzstan as well as being widely used throughout Eastern Europe the Baltic states the Caucasus and Central Asia'"
            ]
          },
          "metadata": {
            "tags": []
          },
          "execution_count": 16
        }
      ]
    },
    {
      "cell_type": "markdown",
      "metadata": {
        "id": "BQQYV3phbyBn"
      },
      "source": [
        "### 2.Токенизация"
      ]
    },
    {
      "cell_type": "markdown",
      "metadata": {
        "id": "KPaFp0Y2byBn"
      },
      "source": [
        "Привести к нижнему регистру  .lower()"
      ]
    },
    {
      "cell_type": "code",
      "metadata": {
        "id": "gsqy16RMbyBn"
      },
      "source": [
        "text = 'This is, a ... Demo. Text, 1.3.4 for NLP using NLTK????!!!!!! Full form of NLTK is Natural Language Toolkit'"
      ],
      "execution_count": null,
      "outputs": []
    },
    {
      "cell_type": "code",
      "metadata": {
        "id": "6BYbcfR1byBn",
        "outputId": "ab268e1b-b10e-4460-dfeb-dd24ef60d296"
      },
      "source": [
        "text"
      ],
      "execution_count": null,
      "outputs": [
        {
          "output_type": "execute_result",
          "data": {
            "text/plain": [
              "'This is, a ... Demo. Text, 1.3.4 for NLP using NLTK????!!!!!! Full form of NLTK is Natural Language Toolkit'"
            ]
          },
          "metadata": {
            "tags": []
          },
          "execution_count": 112
        }
      ]
    },
    {
      "cell_type": "code",
      "metadata": {
        "id": "CMmJtTgPbyBn",
        "outputId": "e9e86486-66cf-418a-8243-af87a1984021"
      },
      "source": [
        "text.split()"
      ],
      "execution_count": null,
      "outputs": [
        {
          "output_type": "execute_result",
          "data": {
            "text/plain": [
              "['This',\n",
              " 'is,',\n",
              " 'a',\n",
              " '...',\n",
              " 'Demo.',\n",
              " 'Text,',\n",
              " '1.3.4',\n",
              " 'for',\n",
              " 'NLP',\n",
              " 'using',\n",
              " 'NLTK????!!!!!!',\n",
              " 'Full',\n",
              " 'form',\n",
              " 'of',\n",
              " 'NLTK',\n",
              " 'is',\n",
              " 'Natural',\n",
              " 'Language',\n",
              " 'Toolkit']"
            ]
          },
          "metadata": {
            "tags": []
          },
          "execution_count": 113
        }
      ]
    },
    {
      "cell_type": "code",
      "metadata": {
        "id": "pjhSP2rnbyBn"
      },
      "source": [
        ""
      ],
      "execution_count": null,
      "outputs": []
    },
    {
      "cell_type": "code",
      "metadata": {
        "id": "LwppeWgSbyBo",
        "outputId": "3444c341-f780-46a1-8d56-aa9c2f2b32a4"
      },
      "source": [
        "text = 'This is a Demo Text for NLP using NLTK. Full form of NLTK is Natural Language Toolkit'\n",
        "lower_text = text.lower()\n",
        "print(lower_text)"
      ],
      "execution_count": null,
      "outputs": [
        {
          "output_type": "stream",
          "text": [
            "this is a demo text for nlp using nltk. full form of nltk is natural language toolkit\n"
          ],
          "name": "stdout"
        }
      ]
    },
    {
      "cell_type": "markdown",
      "metadata": {
        "id": "n1v3Q1DKbyBo"
      },
      "source": [
        "Разделить строку на отдельные слова  re.split()"
      ]
    },
    {
      "cell_type": "code",
      "metadata": {
        "id": "AX5QL9FNbyBo",
        "outputId": "ba348950-83ca-47d6-a6a0-9a4d5a62cf82"
      },
      "source": [
        "bag_of_words = re.split(r' ', lower_text)\n",
        "bag_of_words"
      ],
      "execution_count": null,
      "outputs": [
        {
          "output_type": "execute_result",
          "data": {
            "text/plain": [
              "['this',\n",
              " 'is',\n",
              " 'a',\n",
              " 'demo',\n",
              " 'text',\n",
              " 'for',\n",
              " 'nlp',\n",
              " 'using',\n",
              " 'nltk.',\n",
              " 'full',\n",
              " 'form',\n",
              " 'of',\n",
              " 'nltk',\n",
              " 'is',\n",
              " 'natural',\n",
              " 'language',\n",
              " 'toolkit']"
            ]
          },
          "metadata": {
            "tags": []
          },
          "execution_count": 18
        }
      ]
    },
    {
      "cell_type": "code",
      "metadata": {
        "id": "90DMXLoUbyBo"
      },
      "source": [
        "text = 'This is a Demo 20.20.10 Text for NLP using NLTK. Full form of NLTK is Natural Language Toolkit'"
      ],
      "execution_count": null,
      "outputs": []
    },
    {
      "cell_type": "code",
      "metadata": {
        "id": "qnRPgiTmbyBo",
        "outputId": "879d9e7a-623a-445a-bd1f-54d0095f15d5"
      },
      "source": [
        "text.split(sep='!')"
      ],
      "execution_count": null,
      "outputs": [
        {
          "output_type": "execute_result",
          "data": {
            "text/plain": [
              "['This is a Demo 20',\n",
              " '20',\n",
              " '10 Text for NLP using NLTK',\n",
              " ' Full form of NLTK is Natural Language Toolkit']"
            ]
          },
          "metadata": {
            "tags": []
          },
          "execution_count": 117
        }
      ]
    },
    {
      "cell_type": "code",
      "metadata": {
        "id": "PCyMQ4rebyBo"
      },
      "source": [
        ""
      ],
      "execution_count": null,
      "outputs": []
    },
    {
      "cell_type": "markdown",
      "metadata": {
        "id": "K-0N0seqbyBo"
      },
      "source": [
        "### 4.Введение в библиотеку NLTK"
      ]
    },
    {
      "cell_type": "markdown",
      "metadata": {
        "id": "ySoevt7lbyBp"
      },
      "source": [
        "#### NLTK (Natural Language Toolkit)\n",
        "Ведущая платформа для создания NLP-программ на Python. У нее есть легкие в использовании интерфейсы для многих языковых корпусов, а также библиотеки для обработки текстов для классификации, токенизации, стемминга, разметки и фильтрации."
      ]
    },
    {
      "cell_type": "code",
      "metadata": {
        "id": "0Wgk1xEvbyBp",
        "outputId": "f99c63c3-a5c8-4ac1-d7aa-207644ed6280"
      },
      "source": [
        "import nltk\n",
        "help(nltk)"
      ],
      "execution_count": null,
      "outputs": [
        {
          "output_type": "stream",
          "text": [
            "/home/rzaharov@mvs.local/.local/share/virtualenvs/nlp-course-A3nIyBIP/lib/python3.8/site-packages/sklearn/datasets/lfw.py:178: SyntaxWarning: \"is\" with a literal. Did you mean \"==\"?\n",
            "  if img.ndim is 0:\n"
          ],
          "name": "stderr"
        },
        {
          "output_type": "stream",
          "text": [
            "Help on package nltk:\n",
            "\n",
            "NAME\n",
            "    nltk\n",
            "\n",
            "DESCRIPTION\n",
            "    The Natural Language Toolkit (NLTK) is an open source Python library\n",
            "    for Natural Language Processing.  A free online book is available.\n",
            "    (If you use the library for academic research, please cite the book.)\n",
            "    \n",
            "    Steven Bird, Ewan Klein, and Edward Loper (2009).\n",
            "    Natural Language Processing with Python.  O'Reilly Media Inc.\n",
            "    http://nltk.org/book\n",
            "    \n",
            "    @version: 3.4.5\n",
            "\n",
            "PACKAGE CONTENTS\n",
            "    app (package)\n",
            "    book\n",
            "    ccg (package)\n",
            "    chat (package)\n",
            "    chunk (package)\n",
            "    classify (package)\n",
            "    cluster (package)\n",
            "    collections\n",
            "    collocations\n",
            "    compat\n",
            "    corpus (package)\n",
            "    data\n",
            "    decorators\n",
            "    downloader\n",
            "    draw (package)\n",
            "    featstruct\n",
            "    grammar\n",
            "    help\n",
            "    inference (package)\n",
            "    internals\n",
            "    jsontags\n",
            "    lazyimport\n",
            "    lm (package)\n",
            "    metrics (package)\n",
            "    misc (package)\n",
            "    parse (package)\n",
            "    probability\n",
            "    sem (package)\n",
            "    sentiment (package)\n",
            "    stem (package)\n",
            "    tag (package)\n",
            "    tbl (package)\n",
            "    test (package)\n",
            "    text\n",
            "    tgrep\n",
            "    tokenize (package)\n",
            "    toolbox\n",
            "    translate (package)\n",
            "    tree\n",
            "    treeprettyprinter\n",
            "    treetransforms\n",
            "    twitter (package)\n",
            "    util\n",
            "    wsd\n",
            "\n",
            "SUBMODULES\n",
            "    agreement\n",
            "    aline\n",
            "    api\n",
            "    association\n",
            "    bleu_score\n",
            "    bllip\n",
            "    boxer\n",
            "    brill\n",
            "    brill_trainer\n",
            "    casual\n",
            "    chart\n",
            "    cistem\n",
            "    confusionmatrix\n",
            "    corenlp\n",
            "    crf\n",
            "    decisiontree\n",
            "    dependencygraph\n",
            "    discourse\n",
            "    distance\n",
            "    drt\n",
            "    earleychart\n",
            "    evaluate\n",
            "    featurechart\n",
            "    glue\n",
            "    hmm\n",
            "    hunpos\n",
            "    ibm1\n",
            "    ibm2\n",
            "    ibm3\n",
            "    ibm4\n",
            "    ibm5\n",
            "    ibm_model\n",
            "    isri\n",
            "    lancaster\n",
            "    lfg\n",
            "    linearlogic\n",
            "    logic\n",
            "    mace\n",
            "    malt\n",
            "    mapping\n",
            "    maxent\n",
            "    megam\n",
            "    meteor_score\n",
            "    mwe\n",
            "    naivebayes\n",
            "    nonprojectivedependencyparser\n",
            "    paice\n",
            "    pchart\n",
            "    perceptron\n",
            "    porter\n",
            "    positivenaivebayes\n",
            "    projectivedependencyparser\n",
            "    prover9\n",
            "    punkt\n",
            "    recursivedescent\n",
            "    regexp\n",
            "    relextract\n",
            "    repp\n",
            "    resolution\n",
            "    ribes_score\n",
            "    rslp\n",
            "    rte_classify\n",
            "    scikitlearn\n",
            "    scores\n",
            "    segmentation\n",
            "    senna\n",
            "    sequential\n",
            "    sexpr\n",
            "    shiftreduce\n",
            "    simple\n",
            "    snowball\n",
            "    sonority_sequencing\n",
            "    spearman\n",
            "    stack_decoder\n",
            "    stanford\n",
            "    stanford_segmenter\n",
            "    tableau\n",
            "    tadm\n",
            "    textcat\n",
            "    texttiling\n",
            "    tnt\n",
            "    toktok\n",
            "    transitionparser\n",
            "    treebank\n",
            "    viterbi\n",
            "    weka\n",
            "    wordnet\n",
            "\n",
            "FUNCTIONS\n",
            "    demo()\n",
            "        # FIXME:  override any accidentally imported demo, see https://github.com/nltk/nltk/issues/2116\n",
            "\n",
            "DATA\n",
            "    RUS_PICKLE = 'taggers/averaged_perceptron_tagger_ru/averaged_perceptro...\n",
            "    SLASH = *slash*\n",
            "    TYPE = *type*\n",
            "    __author_email__ = 'stevenbird1@gmail.com'\n",
            "    __classifiers__ = ['Development Status :: 5 - Production/Stable', 'Int...\n",
            "    __copyright__ = 'Copyright (C) 2001-2019 NLTK Project.\\n\\nDistribut......\n",
            "    __keywords__ = ['NLP', 'CL', 'natural language processing', 'computati...\n",
            "    __license__ = 'Apache License, Version 2.0'\n",
            "    __longdescr__ = 'The Natural Language Toolkit (NLTK) is a Python ... p...\n",
            "    __maintainer__ = 'Steven Bird, Edward Loper, Ewan Klein'\n",
            "    __maintainer_email__ = 'stevenbird1@gmail.com'\n",
            "    __url__ = 'http://nltk.org/'\n",
            "    absolute_import = _Feature((2, 5, 0, 'alpha', 1), (3, 0, 0, 'alpha', 0...\n",
            "    app = <LazyModule 'nltk.nltk.app'>\n",
            "    chat = <LazyModule 'nltk.nltk.chat'>\n",
            "    class_types = (<class 'type'>,)\n",
            "    corpus = <LazyModule 'nltk.nltk.corpus'>\n",
            "    improved_close_quote_regex = re.compile('([»”’])')\n",
            "    improved_open_quote_regex = re.compile('([«“‘„]|[`]+)')\n",
            "    improved_open_single_quote_regex = re.compile(\"(?i)(\\\\')(?!re|ve|ll|m|...\n",
            "    improved_punct_regex = re.compile('([^\\\\.])(\\\\.)([\\\\]\\\\)}>\"\\\\\\'»”’ ]*)...\n",
            "    infile = <_io.TextIOWrapper name='/home/rzaharov@mvs.loca...packages/n...\n",
            "    json_tags = {'!nltk.tag.BrillTagger': <class 'nltk.tag.brill.BrillTagg...\n",
            "    print_function = _Feature((2, 6, 0, 'alpha', 2), (3, 0, 0, 'alpha', 0)...\n",
            "    string_types = (<class 'str'>,)\n",
            "    toolbox = <LazyModule 'nltk.nltk.toolbox'>\n",
            "    version_file = '/home/rzaharov@mvs.local/.local/share/virtualenv...A3n...\n",
            "    version_info = sys.version_info(major=3, minor=8, micro=3, releaseleve...\n",
            "\n",
            "VERSION\n",
            "    3.4.5\n",
            "\n",
            "AUTHOR\n",
            "    Steven Bird, Edward Loper, Ewan Klein\n",
            "\n",
            "FILE\n",
            "    /home/rzaharov@mvs.local/.local/share/virtualenvs/nlp-course-A3nIyBIP/lib/python3.8/site-packages/nltk/__init__.py\n",
            "\n",
            "\n"
          ],
          "name": "stdout"
        }
      ]
    },
    {
      "cell_type": "markdown",
      "metadata": {
        "id": "CVC6LksdbyBp"
      },
      "source": [
        "##### Токенизация по предложениям \n",
        "– это процесс разделения письменного языка на предложения-компоненты. В английском и некоторых других языках мы можем вычленять предложение каждый раз, когда находим определенный знак пунктуации – точку.\n",
        "\n",
        "Но даже в английском эта задача нетривиальна, так как точка используется и в сокращениях. Таблица сокращений может сильно помочь во время обработки текста, чтобы избежать неверной расстановки границ предложений. В большинстве случаев для этого используются библиотеки, так что можете особо не переживать о деталях реализации."
      ]
    },
    {
      "cell_type": "code",
      "metadata": {
        "id": "bns1UxpabyBp",
        "outputId": "65d1a0da-ff64-4f3a-ef35-fef922afc008"
      },
      "source": [
        "text = \"Russian is an East'sa Slavic language, which is an official language in Russia, Belarus, Kazakhstan, Kyrgyzstan, as well as being widely used throughout Eastern Europe, the Baltic states, the Caucasus and Central Asia. Russian belongs to the family of Indo-European languages, one of the four living members of the East Slavic languages alongside, and part of the larger Balto-Slavic branch. There is a high degree of mutual intelligibility between Russian, Belarusian and Ukrainian.\"\n",
        "text"
      ],
      "execution_count": null,
      "outputs": [
        {
          "output_type": "execute_result",
          "data": {
            "text/plain": [
              "\"Russian is an East'sa Slavic language, which is an official language in Russia, Belarus, Kazakhstan, Kyrgyzstan, as well as being widely used throughout Eastern Europe, the Baltic states, the Caucasus and Central Asia. Russian belongs to the family of Indo-European languages, one of the four living members of the East Slavic languages alongside, and part of the larger Balto-Slavic branch. There is a high degree of mutual intelligibility between Russian, Belarusian and Ukrainian.\""
            ]
          },
          "metadata": {
            "tags": []
          },
          "execution_count": 1
        }
      ]
    },
    {
      "cell_type": "code",
      "metadata": {
        "scrolled": true,
        "id": "tfgeSBvtbyBp",
        "outputId": "ce12be68-bfe6-4bd1-9159-82bebe2035d4"
      },
      "source": [
        "text.split()"
      ],
      "execution_count": null,
      "outputs": [
        {
          "output_type": "execute_result",
          "data": {
            "text/plain": [
              "['Russian',\n",
              " 'is',\n",
              " 'an',\n",
              " \"East'sa\",\n",
              " 'Slavic',\n",
              " 'language,',\n",
              " 'which',\n",
              " 'is',\n",
              " 'an',\n",
              " 'official',\n",
              " 'language',\n",
              " 'in',\n",
              " 'Russia,',\n",
              " 'Belarus,',\n",
              " 'Kazakhstan,',\n",
              " 'Kyrgyzstan,',\n",
              " 'as',\n",
              " 'well',\n",
              " 'as',\n",
              " 'being',\n",
              " 'widely',\n",
              " 'used',\n",
              " 'throughout',\n",
              " 'Eastern',\n",
              " 'Europe,',\n",
              " 'the',\n",
              " 'Baltic',\n",
              " 'states,',\n",
              " 'the',\n",
              " 'Caucasus',\n",
              " 'and',\n",
              " 'Central',\n",
              " 'Asia.',\n",
              " 'Russian',\n",
              " 'belongs',\n",
              " 'to',\n",
              " 'the',\n",
              " 'family',\n",
              " 'of',\n",
              " 'Indo-European',\n",
              " 'languages,',\n",
              " 'one',\n",
              " 'of',\n",
              " 'the',\n",
              " 'four',\n",
              " 'living',\n",
              " 'members',\n",
              " 'of',\n",
              " 'the',\n",
              " 'East',\n",
              " 'Slavic',\n",
              " 'languages',\n",
              " 'alongside,',\n",
              " 'and',\n",
              " 'part',\n",
              " 'of',\n",
              " 'the',\n",
              " 'larger',\n",
              " 'Balto-Slavic',\n",
              " 'branch.',\n",
              " 'There',\n",
              " 'is',\n",
              " 'a',\n",
              " 'high',\n",
              " 'degree',\n",
              " 'of',\n",
              " 'mutual',\n",
              " 'intelligibility',\n",
              " 'between',\n",
              " 'Russian,',\n",
              " 'Belarusian',\n",
              " 'and',\n",
              " 'Ukrainian.']"
            ]
          },
          "metadata": {
            "tags": []
          },
          "execution_count": 2
        }
      ]
    },
    {
      "cell_type": "code",
      "metadata": {
        "id": "J1IcnbwgbyBq",
        "outputId": "cdda6266-2ef1-46d2-d8fe-90ad6064af3c"
      },
      "source": [
        "text.split('.')"
      ],
      "execution_count": null,
      "outputs": [
        {
          "output_type": "execute_result",
          "data": {
            "text/plain": [
              "[\"Russian is an East'sa Slavic language, which is an official language in Russia, Belarus, Kazakhstan, Kyrgyzstan, as well as being widely used throughout Eastern Europe, the Baltic states, the Caucasus and Central Asia\",\n",
              " ' Russian belongs to the family of Indo-European languages, one of the four living members of the East Slavic languages alongside, and part of the larger Balto-Slavic branch',\n",
              " ' There is a high degree of mutual intelligibility between Russian, Belarusian and Ukrainian',\n",
              " '']"
            ]
          },
          "metadata": {
            "tags": []
          },
          "execution_count": 7
        }
      ]
    },
    {
      "cell_type": "code",
      "metadata": {
        "id": "8NcKx-kcbyBq"
      },
      "source": [
        "from nltk.tokenize import word_tokenize, wordpunct_tokenize"
      ],
      "execution_count": null,
      "outputs": []
    },
    {
      "cell_type": "code",
      "metadata": {
        "id": "pwQJQJsibyBq"
      },
      "source": [
        "from nltk import tokenize as tknz"
      ],
      "execution_count": null,
      "outputs": []
    },
    {
      "cell_type": "code",
      "metadata": {
        "scrolled": true,
        "id": "Vd2OjLA3byBq",
        "outputId": "bcedecca-5ec7-4f31-e78d-846b40e29520"
      },
      "source": [
        "tknz.word_tokenize(text)"
      ],
      "execution_count": null,
      "outputs": [
        {
          "output_type": "execute_result",
          "data": {
            "text/plain": [
              "['Russian',\n",
              " 'is',\n",
              " 'an',\n",
              " \"East'sa\",\n",
              " 'Slavic',\n",
              " 'language',\n",
              " ',',\n",
              " 'which',\n",
              " 'is',\n",
              " 'an',\n",
              " 'official',\n",
              " 'language',\n",
              " 'in',\n",
              " 'Russia',\n",
              " ',',\n",
              " 'Belarus',\n",
              " ',',\n",
              " 'Kazakhstan',\n",
              " ',',\n",
              " 'Kyrgyzstan',\n",
              " ',',\n",
              " 'as',\n",
              " 'well',\n",
              " 'as',\n",
              " 'being',\n",
              " 'widely',\n",
              " 'used',\n",
              " 'throughout',\n",
              " 'Eastern',\n",
              " 'Europe',\n",
              " ',',\n",
              " 'the',\n",
              " 'Baltic',\n",
              " 'states',\n",
              " ',',\n",
              " 'the',\n",
              " 'Caucasus',\n",
              " 'and',\n",
              " 'Central',\n",
              " 'Asia',\n",
              " '.',\n",
              " 'Russian',\n",
              " 'belongs',\n",
              " 'to',\n",
              " 'the',\n",
              " 'family',\n",
              " 'of',\n",
              " 'Indo-European',\n",
              " 'languages',\n",
              " ',',\n",
              " 'one',\n",
              " 'of',\n",
              " 'the',\n",
              " 'four',\n",
              " 'living',\n",
              " 'members',\n",
              " 'of',\n",
              " 'the',\n",
              " 'East',\n",
              " 'Slavic',\n",
              " 'languages',\n",
              " 'alongside',\n",
              " ',',\n",
              " 'and',\n",
              " 'part',\n",
              " 'of',\n",
              " 'the',\n",
              " 'larger',\n",
              " 'Balto-Slavic',\n",
              " 'branch',\n",
              " '.',\n",
              " 'There',\n",
              " 'is',\n",
              " 'a',\n",
              " 'high',\n",
              " 'degree',\n",
              " 'of',\n",
              " 'mutual',\n",
              " 'intelligibility',\n",
              " 'between',\n",
              " 'Russian',\n",
              " ',',\n",
              " 'Belarusian',\n",
              " 'and',\n",
              " 'Ukrainian',\n",
              " '.']"
            ]
          },
          "metadata": {
            "tags": []
          },
          "execution_count": 9
        }
      ]
    },
    {
      "cell_type": "code",
      "metadata": {
        "scrolled": true,
        "id": "sNqADvfmbyBq",
        "outputId": "282431dc-016c-4d92-9781-b06a080a64dd"
      },
      "source": [
        "tknz.wordpunct_tokenize(text)"
      ],
      "execution_count": null,
      "outputs": [
        {
          "output_type": "execute_result",
          "data": {
            "text/plain": [
              "['Russian',\n",
              " 'is',\n",
              " 'an',\n",
              " 'East',\n",
              " \"'\",\n",
              " 'sa',\n",
              " 'Slavic',\n",
              " 'language',\n",
              " ',',\n",
              " 'which',\n",
              " 'is',\n",
              " 'an',\n",
              " 'official',\n",
              " 'language',\n",
              " 'in',\n",
              " 'Russia',\n",
              " ',',\n",
              " 'Belarus',\n",
              " ',',\n",
              " 'Kazakhstan',\n",
              " ',',\n",
              " 'Kyrgyzstan',\n",
              " ',',\n",
              " 'as',\n",
              " 'well',\n",
              " 'as',\n",
              " 'being',\n",
              " 'widely',\n",
              " 'used',\n",
              " 'throughout',\n",
              " 'Eastern',\n",
              " 'Europe',\n",
              " ',',\n",
              " 'the',\n",
              " 'Baltic',\n",
              " 'states',\n",
              " ',',\n",
              " 'the',\n",
              " 'Caucasus',\n",
              " 'and',\n",
              " 'Central',\n",
              " 'Asia',\n",
              " '.',\n",
              " 'Russian',\n",
              " 'belongs',\n",
              " 'to',\n",
              " 'the',\n",
              " 'family',\n",
              " 'of',\n",
              " 'Indo',\n",
              " '-',\n",
              " 'European',\n",
              " 'languages',\n",
              " ',',\n",
              " 'one',\n",
              " 'of',\n",
              " 'the',\n",
              " 'four',\n",
              " 'living',\n",
              " 'members',\n",
              " 'of',\n",
              " 'the',\n",
              " 'East',\n",
              " 'Slavic',\n",
              " 'languages',\n",
              " 'alongside',\n",
              " ',',\n",
              " 'and',\n",
              " 'part',\n",
              " 'of',\n",
              " 'the',\n",
              " 'larger',\n",
              " 'Balto',\n",
              " '-',\n",
              " 'Slavic',\n",
              " 'branch',\n",
              " '.',\n",
              " 'There',\n",
              " 'is',\n",
              " 'a',\n",
              " 'high',\n",
              " 'degree',\n",
              " 'of',\n",
              " 'mutual',\n",
              " 'intelligibility',\n",
              " 'between',\n",
              " 'Russian',\n",
              " ',',\n",
              " 'Belarusian',\n",
              " 'and',\n",
              " 'Ukrainian',\n",
              " '.']"
            ]
          },
          "metadata": {
            "tags": []
          },
          "execution_count": 8
        }
      ]
    },
    {
      "cell_type": "code",
      "metadata": {
        "scrolled": true,
        "id": "NlcQCbUVbyBq",
        "outputId": "c813db5e-0dbf-476d-c57f-98295f6f3d4b"
      },
      "source": [
        "tknz.ToktokTokenizer().tokenize(text)"
      ],
      "execution_count": null,
      "outputs": [
        {
          "output_type": "execute_result",
          "data": {
            "text/plain": [
              "['Russian',\n",
              " 'is',\n",
              " 'an',\n",
              " 'East',\n",
              " \"'\",\n",
              " 'sa',\n",
              " 'Slavic',\n",
              " 'language',\n",
              " ',',\n",
              " 'which',\n",
              " 'is',\n",
              " 'an',\n",
              " 'official',\n",
              " 'language',\n",
              " 'in',\n",
              " 'Russia',\n",
              " ',',\n",
              " 'Belarus',\n",
              " ',',\n",
              " 'Kazakhstan',\n",
              " ',',\n",
              " 'Kyrgyzstan',\n",
              " ',',\n",
              " 'as',\n",
              " 'well',\n",
              " 'as',\n",
              " 'being',\n",
              " 'widely',\n",
              " 'used',\n",
              " 'throughout',\n",
              " 'Eastern',\n",
              " 'Europe',\n",
              " ',',\n",
              " 'the',\n",
              " 'Baltic',\n",
              " 'states',\n",
              " ',',\n",
              " 'the',\n",
              " 'Caucasus',\n",
              " 'and',\n",
              " 'Central',\n",
              " 'Asia.',\n",
              " 'Russian',\n",
              " 'belongs',\n",
              " 'to',\n",
              " 'the',\n",
              " 'family',\n",
              " 'of',\n",
              " 'Indo-European',\n",
              " 'languages',\n",
              " ',',\n",
              " 'one',\n",
              " 'of',\n",
              " 'the',\n",
              " 'four',\n",
              " 'living',\n",
              " 'members',\n",
              " 'of',\n",
              " 'the',\n",
              " 'East',\n",
              " 'Slavic',\n",
              " 'languages',\n",
              " 'alongside',\n",
              " ',',\n",
              " 'and',\n",
              " 'part',\n",
              " 'of',\n",
              " 'the',\n",
              " 'larger',\n",
              " 'Balto-Slavic',\n",
              " 'branch.',\n",
              " 'There',\n",
              " 'is',\n",
              " 'a',\n",
              " 'high',\n",
              " 'degree',\n",
              " 'of',\n",
              " 'mutual',\n",
              " 'intelligibility',\n",
              " 'between',\n",
              " 'Russian',\n",
              " ',',\n",
              " 'Belarusian',\n",
              " 'and',\n",
              " 'Ukrainian',\n",
              " '.']"
            ]
          },
          "metadata": {
            "tags": []
          },
          "execution_count": 10
        }
      ]
    },
    {
      "cell_type": "code",
      "metadata": {
        "scrolled": true,
        "id": "iWAn70TubyBr",
        "outputId": "d8c980aa-17ff-4c3f-fb03-187f71f1cfdc"
      },
      "source": [
        "tknz.TweetTokenizer().tokenize(text)"
      ],
      "execution_count": null,
      "outputs": [
        {
          "output_type": "execute_result",
          "data": {
            "text/plain": [
              "['Russian',\n",
              " 'is',\n",
              " 'an',\n",
              " \"East'sa\",\n",
              " 'Slavic',\n",
              " 'language',\n",
              " ',',\n",
              " 'which',\n",
              " 'is',\n",
              " 'an',\n",
              " 'official',\n",
              " 'language',\n",
              " 'in',\n",
              " 'Russia',\n",
              " ',',\n",
              " 'Belarus',\n",
              " ',',\n",
              " 'Kazakhstan',\n",
              " ',',\n",
              " 'Kyrgyzstan',\n",
              " ',',\n",
              " 'as',\n",
              " 'well',\n",
              " 'as',\n",
              " 'being',\n",
              " 'widely',\n",
              " 'used',\n",
              " 'throughout',\n",
              " 'Eastern',\n",
              " 'Europe',\n",
              " ',',\n",
              " 'the',\n",
              " 'Baltic',\n",
              " 'states',\n",
              " ',',\n",
              " 'the',\n",
              " 'Caucasus',\n",
              " 'and',\n",
              " 'Central',\n",
              " 'Asia',\n",
              " '.',\n",
              " 'Russian',\n",
              " 'belongs',\n",
              " 'to',\n",
              " 'the',\n",
              " 'family',\n",
              " 'of',\n",
              " 'Indo-European',\n",
              " 'languages',\n",
              " ',',\n",
              " 'one',\n",
              " 'of',\n",
              " 'the',\n",
              " 'four',\n",
              " 'living',\n",
              " 'members',\n",
              " 'of',\n",
              " 'the',\n",
              " 'East',\n",
              " 'Slavic',\n",
              " 'languages',\n",
              " 'alongside',\n",
              " ',',\n",
              " 'and',\n",
              " 'part',\n",
              " 'of',\n",
              " 'the',\n",
              " 'larger',\n",
              " 'Balto-Slavic',\n",
              " 'branch',\n",
              " '.',\n",
              " 'There',\n",
              " 'is',\n",
              " 'a',\n",
              " 'high',\n",
              " 'degree',\n",
              " 'of',\n",
              " 'mutual',\n",
              " 'intelligibility',\n",
              " 'between',\n",
              " 'Russian',\n",
              " ',',\n",
              " 'Belarusian',\n",
              " 'and',\n",
              " 'Ukrainian',\n",
              " '.']"
            ]
          },
          "metadata": {
            "tags": []
          },
          "execution_count": 11
        }
      ]
    },
    {
      "cell_type": "code",
      "metadata": {
        "id": "tE94B4Z1byBr"
      },
      "source": [
        "tknz.RegexpTokenizer?"
      ],
      "execution_count": null,
      "outputs": []
    },
    {
      "cell_type": "code",
      "metadata": {
        "scrolled": true,
        "id": "_zN55TkybyBr",
        "outputId": "c7c30d15-518b-4fb6-805f-7a72f3053723"
      },
      "source": [
        "tknz.RegexpTokenizer(\"\\w+\").tokenize(text)"
      ],
      "execution_count": null,
      "outputs": [
        {
          "output_type": "execute_result",
          "data": {
            "text/plain": [
              "['Russian',\n",
              " 'is',\n",
              " 'an',\n",
              " 'East',\n",
              " 'sa',\n",
              " 'Slavic',\n",
              " 'language',\n",
              " 'which',\n",
              " 'is',\n",
              " 'an',\n",
              " 'official',\n",
              " 'language',\n",
              " 'in',\n",
              " 'Russia',\n",
              " 'Belarus',\n",
              " 'Kazakhstan',\n",
              " 'Kyrgyzstan',\n",
              " 'as',\n",
              " 'well',\n",
              " 'as',\n",
              " 'being',\n",
              " 'widely',\n",
              " 'used',\n",
              " 'throughout',\n",
              " 'Eastern',\n",
              " 'Europe',\n",
              " 'the',\n",
              " 'Baltic',\n",
              " 'states',\n",
              " 'the',\n",
              " 'Caucasus',\n",
              " 'and',\n",
              " 'Central',\n",
              " 'Asia',\n",
              " 'Russian',\n",
              " 'belongs',\n",
              " 'to',\n",
              " 'the',\n",
              " 'family',\n",
              " 'of',\n",
              " 'Indo',\n",
              " 'European',\n",
              " 'languages',\n",
              " 'one',\n",
              " 'of',\n",
              " 'the',\n",
              " 'four',\n",
              " 'living',\n",
              " 'members',\n",
              " 'of',\n",
              " 'the',\n",
              " 'East',\n",
              " 'Slavic',\n",
              " 'languages',\n",
              " 'alongside',\n",
              " 'and',\n",
              " 'part',\n",
              " 'of',\n",
              " 'the',\n",
              " 'larger',\n",
              " 'Balto',\n",
              " 'Slavic',\n",
              " 'branch',\n",
              " 'There',\n",
              " 'is',\n",
              " 'a',\n",
              " 'high',\n",
              " 'degree',\n",
              " 'of',\n",
              " 'mutual',\n",
              " 'intelligibility',\n",
              " 'between',\n",
              " 'Russian',\n",
              " 'Belarusian',\n",
              " 'and',\n",
              " 'Ukrainian']"
            ]
          },
          "metadata": {
            "tags": []
          },
          "execution_count": 16
        }
      ]
    },
    {
      "cell_type": "code",
      "metadata": {
        "id": "0NbqWWm4byBr"
      },
      "source": [
        "text = 'Russian is an East 12.12.2020 Slavic language, which is an official language in Russia, Belarus, Kazakhstan, Kyrgyzstan, as well as being widely used throughout Eastern Europe, the Baltic states, the Caucasus and Central Asia. Russian belongs to the family of Indo-European languages, one of the four living members of the East Slavic languages alongside, and part of the larger Balto-Slavic branch. There is a high degree of mutual intelligibility between Russian, Belarusian and Ukrainian.'"
      ],
      "execution_count": null,
      "outputs": []
    },
    {
      "cell_type": "code",
      "metadata": {
        "id": "kCkK51gZbyBt",
        "outputId": "be30d622-0ebc-4c72-c8c1-43249549c956"
      },
      "source": [
        "sentences = nltk.sent_tokenize(text)\n",
        "for sentence in sentences:\n",
        "    print(sentence)\n",
        "    print()"
      ],
      "execution_count": null,
      "outputs": [
        {
          "output_type": "stream",
          "text": [
            "Russian is an East 12.12.2020 Slavic language, which is an official language in Russia, Belarus, Kazakhstan, Kyrgyzstan, as well as being widely used throughout Eastern Europe, the Baltic states, the Caucasus and Central Asia.\n",
            "\n",
            "Russian belongs to the family of Indo-European languages, one of the four living members of the East Slavic languages alongside, and part of the larger Balto-Slavic branch.\n",
            "\n",
            "There is a high degree of mutual intelligibility between Russian, Belarusian and Ukrainian.\n",
            "\n"
          ],
          "name": "stdout"
        }
      ]
    },
    {
      "cell_type": "markdown",
      "metadata": {
        "id": "CSlN14rgbyBt"
      },
      "source": [
        "##### Токенизация по словам \n",
        "– это процесс разделения предложений на слова-компоненты. В английском и многих других языках, использующих ту или иную версию латинского алфавита, пробел – это неплохой разделитель слов.\n",
        "\n",
        "Тем не менее, могут возникнуть проблемы, если мы будем использовать только пробел – в английском составные существительные пишутся по-разному и иногда через пробел. И тут вновь нам помогают библиотеки.\n",
        "\n",
        "Давайте возьмем предложения из предыдущего примера и применим к ним метод nltk.word_tokenize."
      ]
    },
    {
      "cell_type": "code",
      "metadata": {
        "id": "qdo6eaiCbyBt",
        "outputId": "3bb0e692-a4ed-485d-df0d-b6dac3f107fe"
      },
      "source": [
        "sentences"
      ],
      "execution_count": null,
      "outputs": [
        {
          "output_type": "execute_result",
          "data": {
            "text/plain": [
              "['Russian is an East Slavic language, which is an official language in Russia, Belarus, Kazakhstan, Kyrgyzstan, as well as being widely used throughout Eastern Europe, the Baltic states, the Caucasus and Central Asia.',\n",
              " 'Russian belongs to the family of Indo-European languages, one of the four living members of the East Slavic languages alongside, and part of the larger Balto-Slavic branch.',\n",
              " 'There is a high degree of mutual intelligibility between Russian, Belarusian and Ukrainian.']"
            ]
          },
          "metadata": {
            "tags": []
          },
          "execution_count": 36
        }
      ]
    },
    {
      "cell_type": "code",
      "metadata": {
        "id": "rA6_SYvxbyBu"
      },
      "source": [
        "tt = 'Russian is an East Slavic language. Ehich is 1.4.6 an official language in Russia. Belarus, Kazakhstan, Kyrgyzstan, as well as 10.22.2020 being widely used. throughout Eastern Europe, the Baltic states! The Caucasus and Central Asia.'"
      ],
      "execution_count": null,
      "outputs": []
    },
    {
      "cell_type": "code",
      "metadata": {
        "id": "u0ZN2KWcbyBu"
      },
      "source": [
        "nltk.sent_tokenize?"
      ],
      "execution_count": null,
      "outputs": []
    },
    {
      "cell_type": "code",
      "metadata": {
        "id": "zEtgEgbnbyBu",
        "outputId": "2495710d-cd64-43bc-e1aa-9ae071fbd313"
      },
      "source": [
        "nltk.sent_tokenize(tt)"
      ],
      "execution_count": null,
      "outputs": [
        {
          "output_type": "execute_result",
          "data": {
            "text/plain": [
              "['Russian is an East Slavic language.',\n",
              " 'Ehich is 1.4.6 an official language in Russia.',\n",
              " 'Belarus, Kazakhstan, Kyrgyzstan, as well as 10.22.2020 being widely used.',\n",
              " 'throughout Eastern Europe, the Baltic states!',\n",
              " 'The Caucasus and Central Asia.']"
            ]
          },
          "metadata": {
            "tags": []
          },
          "execution_count": 51
        }
      ]
    },
    {
      "cell_type": "code",
      "metadata": {
        "id": "fjM7j1Z4byBu"
      },
      "source": [
        "s = \"Выва аовлд 10.05.2020 аволдв. Иыты лдва олы!\""
      ],
      "execution_count": null,
      "outputs": []
    },
    {
      "cell_type": "code",
      "metadata": {
        "id": "-6XKeM6pbyBu",
        "outputId": "de321170-bd20-4e54-d6d5-f0982c8c628f"
      },
      "source": [
        "print(nltk.sent_tokenize(s))"
      ],
      "execution_count": null,
      "outputs": [
        {
          "output_type": "stream",
          "text": [
            "['Выва аовлд 10.05.2020 аволдв.', 'Иыты лдва олы!']\n"
          ],
          "name": "stdout"
        }
      ]
    },
    {
      "cell_type": "code",
      "metadata": {
        "id": "Mp-DWfrabyBu",
        "outputId": "1759b8e3-f1ec-48bd-c61a-e666e05ce2c9"
      },
      "source": [
        "for sentence in sentences:\n",
        "    words = nltk.word_tokenize(sentence)\n",
        "    print(words)\n",
        "    print()"
      ],
      "execution_count": null,
      "outputs": [
        {
          "output_type": "stream",
          "text": [
            "['Russian', 'is', 'an', 'East', '12.12.2020', 'Slavic', 'language', ',', 'which', 'is', 'an', 'official', 'language', 'in', 'Russia', ',', 'Belarus', ',', 'Kazakhstan', ',', 'Kyrgyzstan', ',', 'as', 'well', 'as', 'being', 'widely', 'used', 'throughout', 'Eastern', 'Europe', ',', 'the', 'Baltic', 'states', ',', 'the', 'Caucasus', 'and', 'Central', 'Asia', '.']\n",
            "\n",
            "['Russian', 'belongs', 'to', 'the', 'family', 'of', 'Indo-European', 'languages', ',', 'one', 'of', 'the', 'four', 'living', 'members', 'of', 'the', 'East', 'Slavic', 'languages', 'alongside', ',', 'and', 'part', 'of', 'the', 'larger', 'Balto-Slavic', 'branch', '.']\n",
            "\n",
            "['There', 'is', 'a', 'high', 'degree', 'of', 'mutual', 'intelligibility', 'between', 'Russian', ',', 'Belarusian', 'and', 'Ukrainian', '.']\n",
            "\n"
          ],
          "name": "stdout"
        }
      ]
    },
    {
      "cell_type": "markdown",
      "metadata": {
        "id": "eQq-MY-cbyBv"
      },
      "source": [
        "##### Лемматизация и стемминг текста\n",
        "\n",
        "Обычно тексты содержат разные грамматические формы одного и того же слова, а также могут встречаться однокоренные слова. Лемматизация и стемминг преследуют цель привести все встречающиеся словоформы к одной, нормальной словарной форме.\n",
        "\n",
        "##### Примеры:\n",
        "\n",
        "- Приведение разных словоформ к одной: dog, dogs, dog’s, dogs’ => dog\n",
        "- То же самое, но уже применительно к целому предложению: the boy’s dogs are different sizes => the boy dog be differ size\n",
        "\n",
        "\n",
        "Лемматизация и стемминг – это частные случаи нормализации и они отличаются.\n",
        "\n",
        "##### Стемминг\n",
        "– это грубый эвристический процесс, который отрезает «лишнее» от корня слов, часто это приводит к потере словообразовательных суффиксов.\n",
        "\n",
        "##### Лемматизация\n",
        "– это более тонкий процесс, который использует словарь и морфологический анализ, чтобы в итоге привести слово к его канонической форме – лемме.\n",
        "\n",
        "Отличие в том, что стеммер (конкретная реализация алгоритма стемминга – прим.переводчика) действует без знания контекста и, соответственно, не понимает разницу между словами, которые имеют разный смысл в зависимости от части речи. Однако у стеммеров есть и свои преимущества: их проще внедрить и они работают быстрее. Плюс, более низкая «аккуратность» может не иметь значения в некоторых случаях.\n",
        "\n",
        "##### Примеры:\n",
        "\n",
        "- Слово good – это лемма для слова better. Стеммер не увидит эту связь, так как здесь нужно сверяться со словарем.\n",
        "- Слово play – это базовая форма слова playing. Тут справятся и стемминг, и лемматизация.\n",
        "- Слово meeting может быть как нормальной формой существительного, так и формой глагола to meet, в зависимости от контекста. В - отличие от стемминга, лемматизация попробует выбрать правильную лемму, опираясь на контекст."
      ]
    },
    {
      "cell_type": "code",
      "metadata": {
        "id": "eVFzKMvfbyBv"
      },
      "source": [
        "from nltk.stem.snowball import SnowballStemmer"
      ],
      "execution_count": null,
      "outputs": []
    },
    {
      "cell_type": "code",
      "metadata": {
        "id": "2ZHSZcKxbyBv",
        "outputId": "e17e0f5e-b09a-4068-f297-3f72b614052a"
      },
      "source": [
        "SnowballStemmer.languages"
      ],
      "execution_count": null,
      "outputs": [
        {
          "output_type": "execute_result",
          "data": {
            "text/plain": [
              "('arabic',\n",
              " 'danish',\n",
              " 'dutch',\n",
              " 'english',\n",
              " 'finnish',\n",
              " 'french',\n",
              " 'german',\n",
              " 'hungarian',\n",
              " 'italian',\n",
              " 'norwegian',\n",
              " 'porter',\n",
              " 'portuguese',\n",
              " 'romanian',\n",
              " 'russian',\n",
              " 'spanish',\n",
              " 'swedish')"
            ]
          },
          "metadata": {
            "tags": []
          },
          "execution_count": 33
        }
      ]
    },
    {
      "cell_type": "code",
      "metadata": {
        "id": "A7KD-8mHbyBv",
        "outputId": "7e293d97-d21e-4783-9273-88e0d9a85354"
      },
      "source": [
        "text_test = \"Практический опыт показывает, что реализация намеченного плана развития обеспечивает широкому кругу специалистов участие в формировании позиций, занимаемых участниками в отношении поставленных задач. Повседневная практика показывает, что новая модель организационной деятельности обеспечивает широкому кругу специалистов участие в формировании экономической целесообразности принимаемых решений. С другой стороны курс на социально-ориентированный национальный проект способствует подготовке и реализации модели развития!\"\n",
        "text_test"
      ],
      "execution_count": null,
      "outputs": [
        {
          "output_type": "execute_result",
          "data": {
            "text/plain": [
              "'Практический опыт показывает, что реализация намеченного плана развития обеспечивает широкому кругу специалистов участие в формировании позиций, занимаемых участниками в отношении поставленных задач. Повседневная практика показывает, что новая модель организационной деятельности обеспечивает широкому кругу специалистов участие в формировании экономической целесообразности принимаемых решений. С другой стороны курс на социально-ориентированный национальный проект способствует подготовке и реализации модели развития!'"
            ]
          },
          "metadata": {
            "tags": []
          },
          "execution_count": 34
        }
      ]
    },
    {
      "cell_type": "code",
      "metadata": {
        "id": "CbEqrQCfbyBv"
      },
      "source": [
        "snowball = SnowballStemmer('russian')"
      ],
      "execution_count": null,
      "outputs": []
    },
    {
      "cell_type": "code",
      "metadata": {
        "id": "3L_5oKOebyBv"
      },
      "source": [
        "words = word_tokenize(text_test)"
      ],
      "execution_count": null,
      "outputs": []
    },
    {
      "cell_type": "code",
      "metadata": {
        "scrolled": true,
        "id": "d-Pn7Q1cbyBw",
        "outputId": "b985b1a2-1854-4ac0-f1c5-4658bca9458b"
      },
      "source": [
        "words"
      ],
      "execution_count": null,
      "outputs": [
        {
          "output_type": "execute_result",
          "data": {
            "text/plain": [
              "['Практический',\n",
              " 'опыт',\n",
              " 'показывает',\n",
              " ',',\n",
              " 'что',\n",
              " 'реализация',\n",
              " 'намеченного',\n",
              " 'плана',\n",
              " 'развития',\n",
              " 'обеспечивает',\n",
              " 'широкому',\n",
              " 'кругу',\n",
              " 'специалистов',\n",
              " 'участие',\n",
              " 'в',\n",
              " 'формировании',\n",
              " 'позиций',\n",
              " ',',\n",
              " 'занимаемых',\n",
              " 'участниками',\n",
              " 'в',\n",
              " 'отношении',\n",
              " 'поставленных',\n",
              " 'задач',\n",
              " '.',\n",
              " 'Повседневная',\n",
              " 'практика',\n",
              " 'показывает',\n",
              " ',',\n",
              " 'что',\n",
              " 'новая',\n",
              " 'модель',\n",
              " 'организационной',\n",
              " 'деятельности',\n",
              " 'обеспечивает',\n",
              " 'широкому',\n",
              " 'кругу',\n",
              " 'специалистов',\n",
              " 'участие',\n",
              " 'в',\n",
              " 'формировании',\n",
              " 'экономической',\n",
              " 'целесообразности',\n",
              " 'принимаемых',\n",
              " 'решений',\n",
              " '.',\n",
              " 'С',\n",
              " 'другой',\n",
              " 'стороны',\n",
              " 'курс',\n",
              " 'на',\n",
              " 'социально-ориентированный',\n",
              " 'национальный',\n",
              " 'проект',\n",
              " 'способствует',\n",
              " 'подготовке',\n",
              " 'и',\n",
              " 'реализации',\n",
              " 'модели',\n",
              " 'развития',\n",
              " '!']"
            ]
          },
          "metadata": {
            "tags": []
          },
          "execution_count": 37
        }
      ]
    },
    {
      "cell_type": "code",
      "metadata": {
        "id": "rfOx6Ga0byBw"
      },
      "source": [
        ""
      ],
      "execution_count": null,
      "outputs": []
    },
    {
      "cell_type": "code",
      "metadata": {
        "id": "sGvvNQn6byBw"
      },
      "source": [
        ""
      ],
      "execution_count": null,
      "outputs": []
    },
    {
      "cell_type": "code",
      "metadata": {
        "scrolled": true,
        "id": "kRDC37dYbyBw",
        "outputId": "642382c8-464b-47c1-cd9b-14edb010ebb9"
      },
      "source": [
        "for w in words:\n",
        "    print('{} - {}'.format(w, snowball.stem(w)))"
      ],
      "execution_count": null,
      "outputs": [
        {
          "output_type": "stream",
          "text": [
            "Практический - практическ\n",
            "опыт - оп\n",
            "показывает - показыва\n",
            ", - ,\n",
            "что - что\n",
            "реализация - реализац\n",
            "намеченного - намечен\n",
            "плана - план\n",
            "развития - развит\n",
            "обеспечивает - обеспечива\n",
            "широкому - широк\n",
            "кругу - круг\n",
            "специалистов - специалист\n",
            "участие - участ\n",
            "в - в\n",
            "формировании - формирован\n",
            "позиций - позиц\n",
            ", - ,\n",
            "занимаемых - занима\n",
            "участниками - участник\n",
            "в - в\n",
            "отношении - отношен\n",
            "поставленных - поставлен\n",
            "задач - задач\n",
            ". - .\n",
            "Повседневная - повседневн\n",
            "практика - практик\n",
            "показывает - показыва\n",
            ", - ,\n",
            "что - что\n",
            "новая - нов\n",
            "модель - модел\n",
            "организационной - организацион\n",
            "деятельности - деятельн\n",
            "обеспечивает - обеспечива\n",
            "широкому - широк\n",
            "кругу - круг\n",
            "специалистов - специалист\n",
            "участие - участ\n",
            "в - в\n",
            "формировании - формирован\n",
            "экономической - экономическ\n",
            "целесообразности - целесообразн\n",
            "принимаемых - принима\n",
            "решений - решен\n",
            ". - .\n",
            "С - с\n",
            "другой - друг\n",
            "стороны - сторон\n",
            "курс - курс\n",
            "на - на\n",
            "социально-ориентированный - социально-ориентирова\n",
            "национальный - национальн\n",
            "проект - проект\n",
            "способствует - способств\n",
            "подготовке - подготовк\n",
            "и - и\n",
            "реализации - реализац\n",
            "модели - модел\n",
            "развития - развит\n",
            "! - !\n"
          ],
          "name": "stdout"
        }
      ]
    },
    {
      "cell_type": "code",
      "metadata": {
        "id": "Rf1WcCgRbyBw",
        "outputId": "b263b9f7-beca-4d6b-b114-e79372023256"
      },
      "source": [
        "from nltk.stem import PorterStemmer, WordNetLemmatizer\n",
        "from nltk.corpus import wordnet\n",
        "\n",
        "def compare_stemmer_and_lemmatizer(stemmer, lemmatizer, word, pos):\n",
        "    \"\"\"\n",
        "    Print the results of stemmind and lemmitization using the passed stemmer, lemmatizer, word and pos (part of speech)\n",
        "    \"\"\"\n",
        "    print(\"Stemmer:\", stemmer.stem(word))\n",
        "    print(\"Lemmatizer:\", lemmatizer.lemmatize(word, pos))\n",
        "    print()\n",
        "\n",
        "lemmatizer = WordNetLemmatizer()\n",
        "stemmer = PorterStemmer()\n",
        "compare_stemmer_and_lemmatizer(stemmer, lemmatizer, word = \"seen\", pos = wordnet.VERB)\n",
        "compare_stemmer_and_lemmatizer(stemmer, lemmatizer, word = \"drove\", pos = wordnet.VERB)"
      ],
      "execution_count": null,
      "outputs": [
        {
          "output_type": "stream",
          "text": [
            "Stemmer: seen\n",
            "Lemmatizer: see\n",
            "\n",
            "Stemmer: drove\n",
            "Lemmatizer: drive\n",
            "\n"
          ],
          "name": "stdout"
        }
      ]
    },
    {
      "cell_type": "code",
      "metadata": {
        "id": "EVVS-Xc8byBw"
      },
      "source": [
        "# !pip install pymystem3"
      ],
      "execution_count": null,
      "outputs": []
    },
    {
      "cell_type": "code",
      "metadata": {
        "id": "ptqr57abbyBw",
        "outputId": "eba6c52a-b535-4c10-ca26-1644c688638d"
      },
      "source": [
        "from pymystem3 import Mystem\n",
        "\n",
        "m = Mystem()\n",
        "lemmas = m.lemmatize(' '.join(words))\n",
        "print(lemmas)"
      ],
      "execution_count": null,
      "outputs": [
        {
          "output_type": "stream",
          "text": [
            "['практический', ' ', 'опыт', ' ', 'показывать', ' , ', 'что', ' ', 'реализация', ' ', 'намечать', ' ', 'план', ' ', 'развитие', ' ', 'обеспечивать', ' ', 'широкий', ' ', 'круг', ' ', 'специалист', ' ', 'участие', ' ', 'в', ' ', 'формирование', ' ', 'позиция', ' , ', 'занимать', ' ', 'участник', ' ', 'в', ' ', 'отношение', ' ', 'поставлять', ' ', 'задача', ' ', '. ', 'повседневный', ' ', 'практика', ' ', 'показывать', ' , ', 'что', ' ', 'новый', ' ', 'модель', ' ', 'организационный', ' ', 'деятельность', ' ', 'обеспечивать', ' ', 'широкий', ' ', 'круг', ' ', 'специалист', ' ', 'участие', ' ', 'в', ' ', 'формирование', ' ', 'экономический', ' ', 'целесообразность', ' ', 'принимать', ' ', 'решение', ' ', '. ', 'с', ' ', 'другой', ' ', 'сторона', ' ', 'курс', ' ', 'на', ' ', 'социально', '-', 'ориентированный', ' ', 'национальный', ' ', 'проект', ' ', 'способствовать', ' ', 'подготовка', ' ', 'и', ' ', 'реализация', ' ', 'модель', ' ', 'развитие', ' ', '!', '\\n']\n"
          ],
          "name": "stdout"
        }
      ]
    },
    {
      "cell_type": "code",
      "metadata": {
        "id": "GhQsuta_byBx",
        "outputId": "84f1cce1-48a8-4710-9460-34864fcdd8ea"
      },
      "source": [
        "for wrd, lemm in zip(words, lemmas[::2]):\n",
        "    print('{} - {}'.format(wrd, lemm))"
      ],
      "execution_count": null,
      "outputs": [
        {
          "output_type": "stream",
          "text": [
            "Практический - практический\n",
            "опыт - опыт\n",
            "показывает - показывать\n",
            ", - что\n",
            "что - реализация\n",
            "реализация - намечать\n",
            "намеченного - план\n",
            "плана - развитие\n",
            "развития - обеспечивать\n",
            "обеспечивает - широкий\n",
            "широкому - круг\n",
            "кругу - специалист\n",
            "специалистов - участие\n",
            "участие - в\n",
            "в - формирование\n",
            "формировании - позиция\n",
            "позиций - занимать\n",
            ", - участник\n",
            "занимаемых - в\n",
            "участниками - отношение\n",
            "в - поставлять\n",
            "отношении - задача\n",
            "поставленных - . \n",
            "задач -  \n",
            ". -  \n",
            "Повседневная -  , \n",
            "практика -  \n",
            "показывает -  \n",
            ", -  \n",
            "что -  \n",
            "новая -  \n",
            "модель -  \n",
            "организационной -  \n",
            "деятельности -  \n",
            "обеспечивает -  \n",
            "широкому -  \n",
            "кругу -  \n",
            "специалистов -  \n",
            "участие -  \n",
            "в -  \n",
            "формировании -  \n",
            "экономической -  \n",
            "целесообразности - с\n",
            "принимаемых - другой\n",
            "решений - сторона\n",
            ". - курс\n",
            "С - на\n",
            "другой - социально\n",
            "стороны - ориентированный\n",
            "курс - национальный\n",
            "на - проект\n",
            "социально-ориентированный - способствовать\n",
            "национальный - подготовка\n",
            "проект - и\n",
            "способствует - реализация\n",
            "подготовке - модель\n",
            "и - развитие\n",
            "реализации - !\n"
          ],
          "name": "stdout"
        }
      ]
    },
    {
      "cell_type": "code",
      "metadata": {
        "id": "rPCo5XP2byBx",
        "outputId": "71707a87-7549-493e-c10d-8ca12103907b"
      },
      "source": [
        "from pymorphy2 import MorphAnalyzer\n",
        "\n",
        "morph = MorphAnalyzer()\n",
        "morph.parse('стали')"
      ],
      "execution_count": null,
      "outputs": [
        {
          "output_type": "execute_result",
          "data": {
            "text/plain": [
              "[Parse(word='стали', tag=OpencorporaTag('VERB,perf,intr plur,past,indc'), normal_form='стать', score=0.984662, methods_stack=((<DictionaryAnalyzer>, 'стали', 904, 4),)),\n",
              " Parse(word='стали', tag=OpencorporaTag('NOUN,inan,femn sing,gent'), normal_form='сталь', score=0.003067, methods_stack=((<DictionaryAnalyzer>, 'стали', 13, 1),)),\n",
              " Parse(word='стали', tag=OpencorporaTag('NOUN,inan,femn sing,datv'), normal_form='сталь', score=0.003067, methods_stack=((<DictionaryAnalyzer>, 'стали', 13, 2),)),\n",
              " Parse(word='стали', tag=OpencorporaTag('NOUN,inan,femn sing,loct'), normal_form='сталь', score=0.003067, methods_stack=((<DictionaryAnalyzer>, 'стали', 13, 5),)),\n",
              " Parse(word='стали', tag=OpencorporaTag('NOUN,inan,femn plur,nomn'), normal_form='сталь', score=0.003067, methods_stack=((<DictionaryAnalyzer>, 'стали', 13, 6),)),\n",
              " Parse(word='стали', tag=OpencorporaTag('NOUN,inan,femn plur,accs'), normal_form='сталь', score=0.003067, methods_stack=((<DictionaryAnalyzer>, 'стали', 13, 9),))]"
            ]
          },
          "metadata": {
            "tags": []
          },
          "execution_count": 48
        }
      ]
    },
    {
      "cell_type": "code",
      "metadata": {
        "id": "4jFk68z7byBx",
        "outputId": "f9b29a67-80c4-434c-a5f4-0d11fe5657c9"
      },
      "source": [
        "morph.normal_forms('стали')"
      ],
      "execution_count": null,
      "outputs": [
        {
          "output_type": "execute_result",
          "data": {
            "text/plain": [
              "['стать', 'сталь']"
            ]
          },
          "metadata": {
            "tags": []
          },
          "execution_count": 49
        }
      ]
    },
    {
      "cell_type": "code",
      "metadata": {
        "id": "Wr062kqGbyBx",
        "outputId": "a00bca40-8be8-4766-ecd0-c46bd49f8e0c"
      },
      "source": [
        "morph.parse('стали')[0].normal_form"
      ],
      "execution_count": null,
      "outputs": [
        {
          "output_type": "execute_result",
          "data": {
            "text/plain": [
              "'стать'"
            ]
          },
          "metadata": {
            "tags": []
          },
          "execution_count": 51
        }
      ]
    },
    {
      "cell_type": "code",
      "metadata": {
        "id": "Wxtw4XeHbyBx",
        "outputId": "0de4294d-2834-49db-d238-e3d11e1cee3e"
      },
      "source": [
        "for wrd in words:\n",
        "    print('{} - {}'.format(wrd, morph.parse(wrd)[0].normal_form))"
      ],
      "execution_count": null,
      "outputs": [
        {
          "output_type": "stream",
          "text": [
            "Практический - практический\n",
            "опыт - опыт\n",
            "показывает - показывать\n",
            ", - ,\n",
            "что - что\n",
            "реализация - реализация\n",
            "намеченного - наметить\n",
            "плана - план\n",
            "развития - развитие\n",
            "обеспечивает - обеспечивать\n",
            "широкому - широкий\n",
            "кругу - круг\n",
            "специалистов - специалист\n",
            "участие - участие\n",
            "в - в\n",
            "формировании - формирование\n",
            "позиций - позиция\n",
            ", - ,\n",
            "занимаемых - занимать\n",
            "участниками - участник\n",
            "в - в\n",
            "отношении - отношение\n",
            "поставленных - поставить\n",
            "задач - задача\n",
            ". - .\n",
            "Повседневная - повседневный\n",
            "практика - практика\n",
            "показывает - показывать\n",
            ", - ,\n",
            "что - что\n",
            "новая - новый\n",
            "модель - модель\n",
            "организационной - организационный\n",
            "деятельности - деятельность\n",
            "обеспечивает - обеспечивать\n",
            "широкому - широкий\n",
            "кругу - круг\n",
            "специалистов - специалист\n",
            "участие - участие\n",
            "в - в\n",
            "формировании - формирование\n",
            "экономической - экономический\n",
            "целесообразности - целесообразность\n",
            "принимаемых - принимать\n",
            "решений - решение\n",
            ". - .\n",
            "С - с\n",
            "другой - другой\n",
            "стороны - сторона\n",
            "курс - курс\n",
            "на - на\n",
            "социально-ориентированный - социально-ориентировать\n",
            "национальный - национальный\n",
            "проект - проект\n",
            "способствует - способствовать\n",
            "подготовке - подготовка\n",
            "и - и\n",
            "реализации - реализация\n",
            "модели - модель\n",
            "развития - развитие\n",
            "! - !\n"
          ],
          "name": "stdout"
        }
      ]
    },
    {
      "cell_type": "markdown",
      "metadata": {
        "id": "lUZa5Y7-byBx"
      },
      "source": [
        "##### Стоп-слова"
      ]
    },
    {
      "cell_type": "markdown",
      "metadata": {
        "id": "wJTNczNobyBy"
      },
      "source": [
        "Стоп-слова – это слова, которые выкидываются из текста до/после обработки текста. Когда мы применяем машинное обучение к текстам, такие слова могут добавить много шума, поэтому необходимо избавляться от нерелевантных слов.\n",
        "\n",
        "Стоп-слова это обычно понимают артикли, междометия, союзы и т.д., которые не несут смысловой нагрузки. При этом надо понимать, что не существует универсального списка стоп-слов, все зависит от конкретного случая.\n",
        "\n",
        "В NLTK есть предустановленный список стоп-слов. Перед первым использованием вам понадобится его скачать: nltk.download(“stopwords”). После скачивания можно импортировать пакет stopwords и посмотреть на сами слова:"
      ]
    },
    {
      "cell_type": "code",
      "metadata": {
        "id": "J3Ddx5mcbyBy",
        "outputId": "3afd1a43-b2ea-4548-a13a-cf7eeded91c7"
      },
      "source": [
        "from nltk.corpus import stopwords\n",
        "print(stopwords.words(\"english\"))"
      ],
      "execution_count": null,
      "outputs": [
        {
          "output_type": "stream",
          "text": [
            "['i', 'me', 'my', 'myself', 'we', 'our', 'ours', 'ourselves', 'you', \"you're\", \"you've\", \"you'll\", \"you'd\", 'your', 'yours', 'yourself', 'yourselves', 'he', 'him', 'his', 'himself', 'she', \"she's\", 'her', 'hers', 'herself', 'it', \"it's\", 'its', 'itself', 'they', 'them', 'their', 'theirs', 'themselves', 'what', 'which', 'who', 'whom', 'this', 'that', \"that'll\", 'these', 'those', 'am', 'is', 'are', 'was', 'were', 'be', 'been', 'being', 'have', 'has', 'had', 'having', 'do', 'does', 'did', 'doing', 'a', 'an', 'the', 'and', 'but', 'if', 'or', 'because', 'as', 'until', 'while', 'of', 'at', 'by', 'for', 'with', 'about', 'against', 'between', 'into', 'through', 'during', 'before', 'after', 'above', 'below', 'to', 'from', 'up', 'down', 'in', 'out', 'on', 'off', 'over', 'under', 'again', 'further', 'then', 'once', 'here', 'there', 'when', 'where', 'why', 'how', 'all', 'any', 'both', 'each', 'few', 'more', 'most', 'other', 'some', 'such', 'no', 'nor', 'not', 'only', 'own', 'same', 'so', 'than', 'too', 'very', 's', 't', 'can', 'will', 'just', 'don', \"don't\", 'should', \"should've\", 'now', 'd', 'll', 'm', 'o', 're', 've', 'y', 'ain', 'aren', \"aren't\", 'couldn', \"couldn't\", 'didn', \"didn't\", 'doesn', \"doesn't\", 'hadn', \"hadn't\", 'hasn', \"hasn't\", 'haven', \"haven't\", 'isn', \"isn't\", 'ma', 'mightn', \"mightn't\", 'mustn', \"mustn't\", 'needn', \"needn't\", 'shan', \"shan't\", 'shouldn', \"shouldn't\", 'wasn', \"wasn't\", 'weren', \"weren't\", 'won', \"won't\", 'wouldn', \"wouldn't\"]\n"
          ],
          "name": "stdout"
        }
      ]
    },
    {
      "cell_type": "code",
      "metadata": {
        "id": "i-Y9UYYmbyBy",
        "outputId": "b0d02f25-fe8c-4a92-ccc6-9a76bf995025"
      },
      "source": [
        "stopwords.fileids()"
      ],
      "execution_count": null,
      "outputs": [
        {
          "output_type": "execute_result",
          "data": {
            "text/plain": [
              "['arabic',\n",
              " 'azerbaijani',\n",
              " 'danish',\n",
              " 'dutch',\n",
              " 'english',\n",
              " 'finnish',\n",
              " 'french',\n",
              " 'german',\n",
              " 'greek',\n",
              " 'hungarian',\n",
              " 'indonesian',\n",
              " 'italian',\n",
              " 'kazakh',\n",
              " 'nepali',\n",
              " 'norwegian',\n",
              " 'portuguese',\n",
              " 'romanian',\n",
              " 'russian',\n",
              " 'slovene',\n",
              " 'spanish',\n",
              " 'swedish',\n",
              " 'tajik',\n",
              " 'turkish']"
            ]
          },
          "metadata": {
            "tags": []
          },
          "execution_count": 61
        }
      ]
    },
    {
      "cell_type": "code",
      "metadata": {
        "id": "wYIE-PAPbyBy",
        "outputId": "f022b69d-94ed-4a2f-a0bb-78e555d6dd5f"
      },
      "source": [
        "print(stopwords.words(\"russian\"))"
      ],
      "execution_count": null,
      "outputs": [
        {
          "output_type": "stream",
          "text": [
            "['и', 'в', 'во', 'не', 'что', 'он', 'на', 'я', 'с', 'со', 'как', 'а', 'то', 'все', 'она', 'так', 'его', 'но', 'да', 'ты', 'к', 'у', 'же', 'вы', 'за', 'бы', 'по', 'только', 'ее', 'мне', 'было', 'вот', 'от', 'меня', 'еще', 'нет', 'о', 'из', 'ему', 'теперь', 'когда', 'даже', 'ну', 'вдруг', 'ли', 'если', 'уже', 'или', 'ни', 'быть', 'был', 'него', 'до', 'вас', 'нибудь', 'опять', 'уж', 'вам', 'ведь', 'там', 'потом', 'себя', 'ничего', 'ей', 'может', 'они', 'тут', 'где', 'есть', 'надо', 'ней', 'для', 'мы', 'тебя', 'их', 'чем', 'была', 'сам', 'чтоб', 'без', 'будто', 'чего', 'раз', 'тоже', 'себе', 'под', 'будет', 'ж', 'тогда', 'кто', 'этот', 'того', 'потому', 'этого', 'какой', 'совсем', 'ним', 'здесь', 'этом', 'один', 'почти', 'мой', 'тем', 'чтобы', 'нее', 'сейчас', 'были', 'куда', 'зачем', 'всех', 'никогда', 'можно', 'при', 'наконец', 'два', 'об', 'другой', 'хоть', 'после', 'над', 'больше', 'тот', 'через', 'эти', 'нас', 'про', 'всего', 'них', 'какая', 'много', 'разве', 'три', 'эту', 'моя', 'впрочем', 'хорошо', 'свою', 'этой', 'перед', 'иногда', 'лучше', 'чуть', 'том', 'нельзя', 'такой', 'им', 'более', 'всегда', 'конечно', 'всю', 'между']\n"
          ],
          "name": "stdout"
        }
      ]
    },
    {
      "cell_type": "markdown",
      "metadata": {
        "id": "LLCUHFBkbyBy"
      },
      "source": [
        "Рассмотрим, как можно убрать стоп-слова из предложения:"
      ]
    },
    {
      "cell_type": "code",
      "metadata": {
        "id": "hO49MGhTbyBy",
        "outputId": "b16aa338-75f4-43c4-d4db-ccb828a78803"
      },
      "source": [
        "stop_words = set(stopwords.words(\"english\"))\n",
        "sentence = \"Backgammon is one of the oldest known board games.\"\n",
        "\n",
        "words = nltk.word_tokenize(sentence)\n",
        "without_stop_words = [word for word in words if not word in stop_words]\n",
        "print(without_stop_words)"
      ],
      "execution_count": null,
      "outputs": [
        {
          "output_type": "stream",
          "text": [
            "['Backgammon', 'one', 'oldest', 'known', 'board', 'games', '.']\n"
          ],
          "name": "stdout"
        }
      ]
    },
    {
      "cell_type": "code",
      "metadata": {
        "id": "ODHZ9UYvbyBz"
      },
      "source": [
        "from stop_words import get_stop_words"
      ],
      "execution_count": null,
      "outputs": []
    },
    {
      "cell_type": "code",
      "metadata": {
        "id": "X70dxDgFbyBz"
      },
      "source": [
        "stop_words = get_stop_words('ru')"
      ],
      "execution_count": null,
      "outputs": []
    },
    {
      "cell_type": "code",
      "metadata": {
        "id": "_9fNIQ2ZbyBz",
        "outputId": "7b57e8d5-b81f-4f31-8579-eb6911768be5"
      },
      "source": [
        "stop_words"
      ],
      "execution_count": null,
      "outputs": [
        {
          "output_type": "execute_result",
          "data": {
            "text/plain": [
              "['а',\n",
              " 'в',\n",
              " 'г',\n",
              " 'е',\n",
              " 'ж',\n",
              " 'и',\n",
              " 'к',\n",
              " 'м',\n",
              " 'о',\n",
              " 'с',\n",
              " 'т',\n",
              " 'у',\n",
              " 'я',\n",
              " 'бы',\n",
              " 'во',\n",
              " 'вы',\n",
              " 'да',\n",
              " 'до',\n",
              " 'ее',\n",
              " 'ей',\n",
              " 'ею',\n",
              " 'её',\n",
              " 'же',\n",
              " 'за',\n",
              " 'из',\n",
              " 'им',\n",
              " 'их',\n",
              " 'ли',\n",
              " 'мы',\n",
              " 'на',\n",
              " 'не',\n",
              " 'ни',\n",
              " 'но',\n",
              " 'ну',\n",
              " 'нх',\n",
              " 'об',\n",
              " 'он',\n",
              " 'от',\n",
              " 'по',\n",
              " 'со',\n",
              " 'та',\n",
              " 'те',\n",
              " 'то',\n",
              " 'ту',\n",
              " 'ты',\n",
              " 'уж',\n",
              " 'без',\n",
              " 'был',\n",
              " 'вам',\n",
              " 'вас',\n",
              " 'ваш',\n",
              " 'вон',\n",
              " 'вот',\n",
              " 'все',\n",
              " 'всю',\n",
              " 'вся',\n",
              " 'всё',\n",
              " 'где',\n",
              " 'год',\n",
              " 'два',\n",
              " 'две',\n",
              " 'дел',\n",
              " 'для',\n",
              " 'его',\n",
              " 'ему',\n",
              " 'еще',\n",
              " 'ещё',\n",
              " 'или',\n",
              " 'ими',\n",
              " 'имя',\n",
              " 'как',\n",
              " 'кем',\n",
              " 'ком',\n",
              " 'кто',\n",
              " 'лет',\n",
              " 'мне',\n",
              " 'мог',\n",
              " 'мож',\n",
              " 'мои',\n",
              " 'мой',\n",
              " 'мор',\n",
              " 'моя',\n",
              " 'моё',\n",
              " 'над',\n",
              " 'нам',\n",
              " 'нас',\n",
              " 'наш',\n",
              " 'нее',\n",
              " 'ней',\n",
              " 'нем',\n",
              " 'нет',\n",
              " 'нею',\n",
              " 'неё',\n",
              " 'них',\n",
              " 'оба',\n",
              " 'она',\n",
              " 'они',\n",
              " 'оно',\n",
              " 'под',\n",
              " 'пор',\n",
              " 'при',\n",
              " 'про',\n",
              " 'раз',\n",
              " 'сам',\n",
              " 'сих',\n",
              " 'так',\n",
              " 'там',\n",
              " 'тем',\n",
              " 'тех',\n",
              " 'том',\n",
              " 'тот',\n",
              " 'тою',\n",
              " 'три',\n",
              " 'тут',\n",
              " 'уже',\n",
              " 'чем',\n",
              " 'что',\n",
              " 'эта',\n",
              " 'эти',\n",
              " 'это',\n",
              " 'эту',\n",
              " 'алло',\n",
              " 'буду',\n",
              " 'будь',\n",
              " 'бывь',\n",
              " 'была',\n",
              " 'были',\n",
              " 'было',\n",
              " 'быть',\n",
              " 'вами',\n",
              " 'ваша',\n",
              " 'ваше',\n",
              " 'ваши',\n",
              " 'ведь',\n",
              " 'весь',\n",
              " 'вниз',\n",
              " 'всем',\n",
              " 'всех',\n",
              " 'всею',\n",
              " 'года',\n",
              " 'году',\n",
              " 'даже',\n",
              " 'двух',\n",
              " 'день',\n",
              " 'если',\n",
              " 'есть',\n",
              " 'зато',\n",
              " 'кого',\n",
              " 'кому',\n",
              " 'куда',\n",
              " 'лишь',\n",
              " 'люди',\n",
              " 'мало',\n",
              " 'меля',\n",
              " 'меня',\n",
              " 'мимо',\n",
              " 'мира',\n",
              " 'мной',\n",
              " 'мною',\n",
              " 'мочь',\n",
              " 'надо',\n",
              " 'нами',\n",
              " 'наша',\n",
              " 'наше',\n",
              " 'наши',\n",
              " 'него',\n",
              " 'нему',\n",
              " 'ниже',\n",
              " 'ними',\n",
              " 'один',\n",
              " 'пока',\n",
              " 'пора',\n",
              " 'пять',\n",
              " 'рано',\n",
              " 'сама',\n",
              " 'сами',\n",
              " 'само',\n",
              " 'саму',\n",
              " 'свое',\n",
              " 'свои',\n",
              " 'свою',\n",
              " 'себе',\n",
              " 'себя',\n",
              " 'семь',\n",
              " 'стал',\n",
              " 'суть',\n",
              " 'твой',\n",
              " 'твоя',\n",
              " 'твоё',\n",
              " 'тебе',\n",
              " 'тебя',\n",
              " 'теми',\n",
              " 'того',\n",
              " 'тоже',\n",
              " 'тому',\n",
              " 'туда',\n",
              " 'хоть',\n",
              " 'хотя',\n",
              " 'чаще',\n",
              " 'чего',\n",
              " 'чему',\n",
              " 'чтоб',\n",
              " 'чуть',\n",
              " 'этим',\n",
              " 'этих',\n",
              " 'этой',\n",
              " 'этом',\n",
              " 'этот',\n",
              " 'более',\n",
              " 'будем',\n",
              " 'будет',\n",
              " 'будто',\n",
              " 'будут',\n",
              " 'вверх',\n",
              " 'вдали',\n",
              " 'вдруг',\n",
              " 'везде',\n",
              " 'внизу',\n",
              " 'время',\n",
              " 'всего',\n",
              " 'всеми',\n",
              " 'всему',\n",
              " 'всюду',\n",
              " 'давно',\n",
              " 'даром',\n",
              " 'долго',\n",
              " 'друго',\n",
              " 'жизнь',\n",
              " 'занят',\n",
              " 'затем',\n",
              " 'зачем',\n",
              " 'здесь',\n",
              " 'иметь',\n",
              " 'какая',\n",
              " 'какой',\n",
              " 'когда',\n",
              " 'кроме',\n",
              " 'лучше',\n",
              " 'между',\n",
              " 'менее',\n",
              " 'много',\n",
              " 'могут',\n",
              " 'может',\n",
              " 'можно',\n",
              " 'можхо',\n",
              " 'назад',\n",
              " 'низко',\n",
              " 'нужно',\n",
              " 'одной',\n",
              " 'около',\n",
              " 'опять',\n",
              " 'очень',\n",
              " 'перед',\n",
              " 'позже',\n",
              " 'после',\n",
              " 'потом',\n",
              " 'почти',\n",
              " 'пятый',\n",
              " 'разве',\n",
              " 'рядом',\n",
              " 'самим',\n",
              " 'самих',\n",
              " 'самой',\n",
              " 'самом',\n",
              " 'своей',\n",
              " 'своих',\n",
              " 'сеаой',\n",
              " 'снова',\n",
              " 'собой',\n",
              " 'собою',\n",
              " 'такая',\n",
              " 'также',\n",
              " 'такие',\n",
              " 'такое',\n",
              " 'такой',\n",
              " 'тобой',\n",
              " 'тобою',\n",
              " 'тогда',\n",
              " 'тысяч',\n",
              " 'уметь',\n",
              " 'часто',\n",
              " 'через',\n",
              " 'чтобы',\n",
              " 'шесть',\n",
              " 'этими',\n",
              " 'этого',\n",
              " 'этому',\n",
              " 'близко',\n",
              " 'больше',\n",
              " 'будете',\n",
              " 'будешь',\n",
              " 'бывает',\n",
              " 'важная',\n",
              " 'важное',\n",
              " 'важные',\n",
              " 'важный',\n",
              " 'вокруг',\n",
              " 'восемь',\n",
              " 'всегда',\n",
              " 'второй',\n",
              " 'далеко',\n",
              " 'дальше',\n",
              " 'девять',\n",
              " 'десять',\n",
              " 'должно',\n",
              " 'другая',\n",
              " 'другие',\n",
              " 'других',\n",
              " 'другое',\n",
              " 'другой',\n",
              " 'занята',\n",
              " 'занято',\n",
              " 'заняты',\n",
              " 'значит',\n",
              " 'именно',\n",
              " 'иногда',\n",
              " 'каждая',\n",
              " 'каждое',\n",
              " 'каждые',\n",
              " 'каждый',\n",
              " 'кругом',\n",
              " 'меньше',\n",
              " 'начала',\n",
              " 'нельзя',\n",
              " 'нибудь',\n",
              " 'никуда',\n",
              " 'ничего',\n",
              " 'обычно',\n",
              " 'однако',\n",
              " 'одного',\n",
              " 'отсюда',\n",
              " 'первый',\n",
              " 'потому',\n",
              " 'почему',\n",
              " 'просто',\n",
              " 'против',\n",
              " 'раньше',\n",
              " 'самими',\n",
              " 'самого',\n",
              " 'самому',\n",
              " 'своего',\n",
              " 'сейчас',\n",
              " 'сказал',\n",
              " 'совсем',\n",
              " 'теперь',\n",
              " 'только',\n",
              " 'третий',\n",
              " 'хорошо',\n",
              " 'хотеть',\n",
              " 'хочешь',\n",
              " 'четыре',\n",
              " 'шестой',\n",
              " 'восьмой',\n",
              " 'впрочем',\n",
              " 'времени',\n",
              " 'говорил',\n",
              " 'говорит',\n",
              " 'девятый',\n",
              " 'десятый',\n",
              " 'кажется',\n",
              " 'конечно',\n",
              " 'которая',\n",
              " 'которой',\n",
              " 'которые',\n",
              " 'который',\n",
              " 'которых',\n",
              " 'наверху',\n",
              " 'наконец',\n",
              " 'недавно',\n",
              " 'немного',\n",
              " 'нередко',\n",
              " 'никогда',\n",
              " 'однажды',\n",
              " 'посреди',\n",
              " 'сегодня',\n",
              " 'седьмой',\n",
              " 'сказала',\n",
              " 'сказать',\n",
              " 'сколько',\n",
              " 'слишком',\n",
              " 'сначала',\n",
              " 'спасибо',\n",
              " 'человек',\n",
              " 'двадцать',\n",
              " 'довольно',\n",
              " 'которого',\n",
              " 'наиболее',\n",
              " 'недалеко',\n",
              " 'особенно',\n",
              " 'отовсюду',\n",
              " 'двадцатый',\n",
              " 'миллионов',\n",
              " 'несколько',\n",
              " 'прекрасно',\n",
              " 'процентов',\n",
              " 'четвертый',\n",
              " 'двенадцать',\n",
              " 'непрерывно',\n",
              " 'пожалуйста',\n",
              " 'пятнадцать',\n",
              " 'семнадцать',\n",
              " 'тринадцать',\n",
              " 'двенадцатый',\n",
              " 'одиннадцать',\n",
              " 'пятнадцатый',\n",
              " 'семнадцатый',\n",
              " 'тринадцатый',\n",
              " 'шестнадцать',\n",
              " 'восемнадцать',\n",
              " 'девятнадцать',\n",
              " 'одиннадцатый',\n",
              " 'четырнадцать',\n",
              " 'шестнадцатый',\n",
              " 'восемнадцатый',\n",
              " 'девятнадцатый',\n",
              " 'действительно',\n",
              " 'четырнадцатый',\n",
              " 'многочисленная',\n",
              " 'многочисленное',\n",
              " 'многочисленные',\n",
              " 'многочисленный']"
            ]
          },
          "metadata": {
            "tags": []
          },
          "execution_count": 80
        }
      ]
    },
    {
      "cell_type": "code",
      "metadata": {
        "id": "en9oYdTpbyBz"
      },
      "source": [
        ""
      ],
      "execution_count": null,
      "outputs": []
    },
    {
      "cell_type": "markdown",
      "metadata": {
        "id": "uVccDjnmbyBz"
      },
      "source": [
        "## Сделаем стандартную предобработку данных с сайта Lenta.ru"
      ]
    },
    {
      "cell_type": "code",
      "metadata": {
        "id": "O5UYvlr3byBz",
        "outputId": "b01fa840-2c81-47c9-e3a9-1933c8b3ab6b"
      },
      "source": [
        "import pandas as pd\n",
        "pd.set_option('display.max_columns', None)  \n",
        "pd.set_option('display.expand_frame_repr', False)\n",
        "pd.set_option('max_colwidth', 800)\n",
        "\n",
        "data = pd.read_csv('lenta-ru-partial.csv')\n",
        "data.sample(5)"
      ],
      "execution_count": null,
      "outputs": [
        {
          "output_type": "execute_result",
          "data": {
            "text/html": [
              "<div>\n",
              "<style scoped>\n",
              "    .dataframe tbody tr th:only-of-type {\n",
              "        vertical-align: middle;\n",
              "    }\n",
              "\n",
              "    .dataframe tbody tr th {\n",
              "        vertical-align: top;\n",
              "    }\n",
              "\n",
              "    .dataframe thead th {\n",
              "        text-align: right;\n",
              "    }\n",
              "</style>\n",
              "<table border=\"1\" class=\"dataframe\">\n",
              "  <thead>\n",
              "    <tr style=\"text-align: right;\">\n",
              "      <th></th>\n",
              "      <th>title</th>\n",
              "      <th>text</th>\n",
              "    </tr>\n",
              "  </thead>\n",
              "  <tbody>\n",
              "    <tr>\n",
              "      <th>12005</th>\n",
              "      <td>ЦБ лишил лицензии тверской банк</td>\n",
              "      <td>ЦБ отозвал лицензию у тверского Международного торгово-промышленного банка за нарушение законов о минимальном размере собственных средств, сказано в пресс-релизе ЦБ. Распоряжением ЦБ в МТПБ назначена временная администрация. Как сообщает ЦБ, тверской банк отражал в своей отчетности ценные бумаги, которых фактически не было в его активах. Таким образом, собственные средства банка оказались ниже допустимого законодательством значения. Международный торгово-промышленный банк занимает 907 место по объему активов (около  300 миллионов рублей) на апрель 2011 года согласно информации портала Банки.ру. Чистый убыток на 1 апреля составлял 21,4 миллиона рублей. До мая 2008 года МТПБ назывался Приупсбанк и располагался в Туле. Банк является участником Системы страхования вкладов, поэтому клиенты ...</td>\n",
              "    </tr>\n",
              "    <tr>\n",
              "      <th>36118</th>\n",
              "      <td>ВВС США ограничили высоту полета истребителей F-22</td>\n",
              "      <td>ВВС США ввели ограничение на предельную высоту полета истребителей F-22 в ходе выполнения обычных тренировочных полетов, сообщает Defense News. Согласно новому распоряжению Авиационного боевого командования (ACC) ВВС США, предельная высота полета F-22 не должна превышать 7,6 тысячи метров. Причиной для такого решения стало расследование, целью которого является проверка бортовых систем генерации кислорода (OBOGS), установленных на многие истребители ВВС США. Ограничения по высоте полета, аналогичные F-22, были введены и для всех других боевых самолетов ВВС США, оборудованных OBOGS. По данным ACC, используемая военными OBOGS может быть дефектной. В частности, предполагается, что причиной потери F-22 17 ноября 2010 года на Аляске могли стать неполадки OBOGS. Эта система отвечает за генер...</td>\n",
              "    </tr>\n",
              "    <tr>\n",
              "      <th>11312</th>\n",
              "      <td>Британцы недооценили стоимость новых ядерных ракет и авианосцев</td>\n",
              "      <td>Стоимость замены комплексов с баллистическими ракетами морского базирования Trident, а также строительства и оснащения двух новых авианосцев для ВМС Великобритании составит 130 миллиардов фунтов стерлингов (210 миллиардов долларов). Как пишет 18 сентября газета The Guardian, это значительно больше, чем утверждает британское правительство. К такому выводу , как подчеркивает издание, пришли эксперты международной экологической организации Greenpeace. В частности, по данным аналитиков, официальная оценка стоимости вооружения не учитывает затраты, которые предстоят британскому бюджету на протяжении тридцатилетнего периода эксплуатации вооружения. А это еще примерно 79 миллиардов фунтов. Ориентировочная цена авианосцев, которые должны быть построены для ВМС Великобритании, за последние деся...</td>\n",
              "    </tr>\n",
              "    <tr>\n",
              "      <th>1761</th>\n",
              "      <td>Структура ВТБ попытается выкупить \"Булгартабак\" у Софии</td>\n",
              "      <td>\"ВТБ Капитал\", инвестподразделение госбанка ВТБ, намерен приобрести 80 процентов акций болгарского табачного холдинга \"Булгартабак\", сообщает \"Интерфакс\". Австрийская компания BT Invest, представляющая интересы \"ВТБ Капитала\", предложила за контрольный пакет акций \"Булгартабака\" более 100 миллионов евро. BT Invest является единственным кандидатом на покупку \"Булгартабака\". Ранее интерес к 79,8 процентам акций \"Булгартабака\" проявляла British American Tobacco, но отказалась от участия в конкурсе по причинам \"коммерческого и стратегического характера\". Теперь оценить предложение BT Invest предстоит Агентству по приватизации Болгарии. За последние 10 лет правительство Болгарии уже в четвертый раз пыталось продать крупнейшего в стране производителя табачных изделий, который контролирует 30...</td>\n",
              "    </tr>\n",
              "    <tr>\n",
              "      <th>31503</th>\n",
              "      <td>Тренера сборной Мадагаскара уволили после первого матча</td>\n",
              "      <td>Главный тренер футбольной сборной Мадагаскара Жан-Поль Россиньоль был уволен после первого же матча на посту наставника команды. 25 марта Мадагаскар в рамках отборочного турнира Кубка Африки - 2008 потерпел крупное домашнее поражение от Кот д'Ивуара (0:3) и потерял все шансы пробиться в финальную часть соревнований. Как сообщает Reuters, инициатива увольнения французского специалиста исходила от правительства Мадагаскара. Сборная этого островного государства выступает в отборочной группе А вместе с командами Габона и Кот д'Ивуара. Четвертым участником должна была быть команды Джибути, но она снялась с турнира. Мадагаскар не сумел набрать ни одного очка в двух первых матчах: до неудачи в матче с Кот д'Ивуаром было поражение от Габона (0:4). Финальный турнир Кубка Африки пройдет в 2008 г...</td>\n",
              "    </tr>\n",
              "  </tbody>\n",
              "</table>\n",
              "</div>"
            ],
            "text/plain": [
              "                                                                 title                                                                                                                                                                                                                                                                                                                                                                                                                                                                                                                                                                                                                                                                                                                                                                                                                             text\n",
              "12005                                  ЦБ лишил лицензии тверской банк  ЦБ отозвал лицензию у тверского Международного торгово-промышленного банка за нарушение законов о минимальном размере собственных средств, сказано в пресс-релизе ЦБ. Распоряжением ЦБ в МТПБ назначена временная администрация. Как сообщает ЦБ, тверской банк отражал в своей отчетности ценные бумаги, которых фактически не было в его активах. Таким образом, собственные средства банка оказались ниже допустимого законодательством значения. Международный торгово-промышленный банк занимает 907 место по объему активов (около  300 миллионов рублей) на апрель 2011 года согласно информации портала Банки.ру. Чистый убыток на 1 апреля составлял 21,4 миллиона рублей. До мая 2008 года МТПБ назывался Приупсбанк и располагался в Туле. Банк является участником Системы страхования вкладов, поэтому клиенты ...\n",
              "36118               ВВС США ограничили высоту полета истребителей F-22  ВВС США ввели ограничение на предельную высоту полета истребителей F-22 в ходе выполнения обычных тренировочных полетов, сообщает Defense News. Согласно новому распоряжению Авиационного боевого командования (ACC) ВВС США, предельная высота полета F-22 не должна превышать 7,6 тысячи метров. Причиной для такого решения стало расследование, целью которого является проверка бортовых систем генерации кислорода (OBOGS), установленных на многие истребители ВВС США. Ограничения по высоте полета, аналогичные F-22, были введены и для всех других боевых самолетов ВВС США, оборудованных OBOGS. По данным ACC, используемая военными OBOGS может быть дефектной. В частности, предполагается, что причиной потери F-22 17 ноября 2010 года на Аляске могли стать неполадки OBOGS. Эта система отвечает за генер...\n",
              "11312  Британцы недооценили стоимость новых ядерных ракет и авианосцев  Стоимость замены комплексов с баллистическими ракетами морского базирования Trident, а также строительства и оснащения двух новых авианосцев для ВМС Великобритании составит 130 миллиардов фунтов стерлингов (210 миллиардов долларов). Как пишет 18 сентября газета The Guardian, это значительно больше, чем утверждает британское правительство. К такому выводу , как подчеркивает издание, пришли эксперты международной экологической организации Greenpeace. В частности, по данным аналитиков, официальная оценка стоимости вооружения не учитывает затраты, которые предстоят британскому бюджету на протяжении тридцатилетнего периода эксплуатации вооружения. А это еще примерно 79 миллиардов фунтов. Ориентировочная цена авианосцев, которые должны быть построены для ВМС Великобритании, за последние деся...\n",
              "1761           Структура ВТБ попытается выкупить \"Булгартабак\" у Софии  \"ВТБ Капитал\", инвестподразделение госбанка ВТБ, намерен приобрести 80 процентов акций болгарского табачного холдинга \"Булгартабак\", сообщает \"Интерфакс\". Австрийская компания BT Invest, представляющая интересы \"ВТБ Капитала\", предложила за контрольный пакет акций \"Булгартабака\" более 100 миллионов евро. BT Invest является единственным кандидатом на покупку \"Булгартабака\". Ранее интерес к 79,8 процентам акций \"Булгартабака\" проявляла British American Tobacco, но отказалась от участия в конкурсе по причинам \"коммерческого и стратегического характера\". Теперь оценить предложение BT Invest предстоит Агентству по приватизации Болгарии. За последние 10 лет правительство Болгарии уже в четвертый раз пыталось продать крупнейшего в стране производителя табачных изделий, который контролирует 30...\n",
              "31503          Тренера сборной Мадагаскара уволили после первого матча  Главный тренер футбольной сборной Мадагаскара Жан-Поль Россиньоль был уволен после первого же матча на посту наставника команды. 25 марта Мадагаскар в рамках отборочного турнира Кубка Африки - 2008 потерпел крупное домашнее поражение от Кот д'Ивуара (0:3) и потерял все шансы пробиться в финальную часть соревнований. Как сообщает Reuters, инициатива увольнения французского специалиста исходила от правительства Мадагаскара. Сборная этого островного государства выступает в отборочной группе А вместе с командами Габона и Кот д'Ивуара. Четвертым участником должна была быть команды Джибути, но она снялась с турнира. Мадагаскар не сумел набрать ни одного очка в двух первых матчах: до неудачи в матче с Кот д'Ивуаром было поражение от Габона (0:4). Финальный турнир Кубка Африки пройдет в 2008 г..."
            ]
          },
          "metadata": {
            "tags": []
          },
          "execution_count": 55
        }
      ]
    },
    {
      "cell_type": "code",
      "metadata": {
        "id": "4jVBAHFvbyBz"
      },
      "source": [
        "m = MorphAnalyzer()\n",
        "\n",
        "# убираем все небуквенные символы\n",
        "regex = re.compile(\"[А-Яа-яA-z]+\")\n",
        "\n",
        "def words_only(text, regex=regex):\n",
        "    try:\n",
        "        return regex.findall(text.lower())\n",
        "    except:\n",
        "        return []"
      ],
      "execution_count": null,
      "outputs": []
    },
    {
      "cell_type": "code",
      "metadata": {
        "id": "gOLgK-LYbyB0",
        "outputId": "d0dd6d3c-201c-471a-c52f-5e2ff90c64b0"
      },
      "source": [
        "print(data.text[0])"
      ],
      "execution_count": null,
      "outputs": [
        {
          "output_type": "stream",
          "text": [
            "В южноафриканском Кейптауне победой сборной России завершился чемпионат мира среди бездомных. В финальном матче российские футболисты, впервые в своей истории ставшие чемпионами мира, обыграли команду Казахстана со счетом 1:0, передает BBC News. В первенстве принимали участие почти 500 человек, которые представляли 48 стран мира. Все матчи, каждый из которых продолжался 15 минут, проходили на асфальтовых полях, причем в одной команде могли играть как мужчины, так и женщины. Сборная России провела на турнире 13 матчей, во всех из которых добилась победы. На предыдущих чемпионатах мира достижения российской команды были скромнее: в 2003-м году – 13-е место, в 2004-м году – 5-е место, в 2005-м году – 12-е место.\n"
          ],
          "name": "stdout"
        }
      ]
    },
    {
      "cell_type": "code",
      "metadata": {
        "id": "0RIu-PZJbyB0",
        "outputId": "73380f00-e798-4ff1-8304-63996283f081"
      },
      "source": [
        "print(*words_only(data.text[0]))"
      ],
      "execution_count": null,
      "outputs": [
        {
          "output_type": "stream",
          "text": [
            "в южноафриканском кейптауне победой сборной россии завершился чемпионат мира среди бездомных в финальном матче российские футболисты впервые в своей истории ставшие чемпионами мира обыграли команду казахстана со счетом передает bbc news в первенстве принимали участие почти человек которые представляли стран мира все матчи каждый из которых продолжался минут проходили на асфальтовых полях причем в одной команде могли играть как мужчины так и женщины сборная россии провела на турнире матчей во всех из которых добилась победы на предыдущих чемпионатах мира достижения российской команды были скромнее в м году е место в м году е место в м году е место\n"
          ],
          "name": "stdout"
        }
      ]
    },
    {
      "cell_type": "markdown",
      "metadata": {
        "id": "UTCLLhJPbyB0"
      },
      "source": [
        "Метод @lru_cashe создает для функции lemmatize кэш указанного размера, что позволяет в целом ускорить лемматизацию текста (что очень полезно, так как лемматизация - ресурсоемкий процесс)."
      ]
    },
    {
      "cell_type": "code",
      "metadata": {
        "id": "-KcbYACdbyB0"
      },
      "source": [
        "from functools import lru_cache"
      ],
      "execution_count": null,
      "outputs": []
    },
    {
      "cell_type": "code",
      "metadata": {
        "id": "foQKerLIbyB0"
      },
      "source": [
        "@lru_cache(maxsize=128)\n",
        "def lemmatize_word(token, pymorphy=m):\n",
        "    return pymorphy.parse(token)[0].normal_form\n",
        "\n",
        "def lemmatize_text(text):\n",
        "    return [lemmatize_word(w) for w in text]"
      ],
      "execution_count": null,
      "outputs": []
    },
    {
      "cell_type": "code",
      "metadata": {
        "id": "pidSVw3bbyB0",
        "outputId": "9ad4a311-e6de-4d3f-fb82-5234c12270ea"
      },
      "source": [
        "tokens = words_only(data.text[0])\n",
        "\n",
        "print(lemmatize_text(tokens))"
      ],
      "execution_count": null,
      "outputs": [
        {
          "output_type": "stream",
          "text": [
            "['в', 'южноафриканский', 'кейптаун', 'победа', 'сборный', 'россия', 'завершиться', 'чемпионат', 'мир', 'среди', 'бездомный', 'в', 'финальный', 'матч', 'российский', 'футболист', 'впервые', 'в', 'свой', 'история', 'стать', 'чемпион', 'мир', 'обыграть', 'команда', 'казахстан', 'с', 'счёт', 'передавать', 'bbc', 'news', 'в', 'первенство', 'принимать', 'участие', 'почти', 'человек', 'который', 'представлять', 'страна', 'мир', 'весь', 'матч', 'каждый', 'из', 'который', 'продолжаться', 'минута', 'проходить', 'на', 'асфальтовый', 'поле', 'причём', 'в', 'один', 'команда', 'мочь', 'играть', 'как', 'мужчина', 'так', 'и', 'женщина', 'сборная', 'россия', 'провести', 'на', 'турнир', 'матч', 'в', 'весь', 'из', 'который', 'добиться', 'победа', 'на', 'предыдущий', 'чемпионат', 'мир', 'достижение', 'российский', 'команда', 'быть', 'скромный', 'в', 'метр', 'год', 'е', 'место', 'в', 'метр', 'год', 'е', 'место', 'в', 'метр', 'год', 'е', 'место']\n"
          ],
          "name": "stdout"
        }
      ]
    },
    {
      "cell_type": "code",
      "metadata": {
        "id": "0EaoggdBbyB1"
      },
      "source": [
        "mystopwords = stopwords.words('russian')\n",
        "def remove_stopwords(lemmas, stop_words = mystopwords):\n",
        "    return [w for w in lemmas if w not in stop_words]"
      ],
      "execution_count": null,
      "outputs": []
    },
    {
      "cell_type": "code",
      "metadata": {
        "id": "83x7RBChbyB1",
        "outputId": "fee9f678-c128-4afc-e94e-0daca0aba736"
      },
      "source": [
        "lemmas = lemmatize_text(tokens)\n",
        "\n",
        "print(*remove_stopwords(lemmas))"
      ],
      "execution_count": null,
      "outputs": [
        {
          "output_type": "stream",
          "text": [
            "южноафриканский кейптаун победа сборный россия завершиться чемпионат мир среди бездомный финальный матч российский футболист впервые свой история стать чемпион мир обыграть команда казахстан счёт передавать bbc news первенство принимать участие человек который представлять страна мир весь матч каждый который продолжаться минута проходить асфальтовый поле причём команда мочь играть мужчина женщина сборная россия провести турнир матч весь который добиться победа предыдущий чемпионат мир достижение российский команда скромный метр год е место метр год е место метр год е место\n"
          ],
          "name": "stdout"
        }
      ]
    },
    {
      "cell_type": "code",
      "metadata": {
        "id": "BknUDA-LbyB1"
      },
      "source": [
        "def remove_stopwords(lemmas, stopwords = mystopwords):\n",
        "    return [w for w in lemmas if not w in stopwords and len(w) > 3]"
      ],
      "execution_count": null,
      "outputs": []
    },
    {
      "cell_type": "code",
      "metadata": {
        "id": "DSx3oQwRbyB1",
        "outputId": "99411779-47a6-4c42-ab6b-033c20214b2a"
      },
      "source": [
        "print(*remove_stopwords(lemmas))"
      ],
      "execution_count": null,
      "outputs": [
        {
          "output_type": "stream",
          "text": [
            "южноафриканский кейптаун победа сборный россия завершиться чемпионат среди бездомный финальный матч российский футболист впервые свой история стать чемпион обыграть команда казахстан счёт передавать news первенство принимать участие человек который представлять страна весь матч каждый который продолжаться минута проходить асфальтовый поле причём команда мочь играть мужчина женщина сборная россия провести турнир матч весь который добиться победа предыдущий чемпионат достижение российский команда скромный метр место метр место метр место\n"
          ],
          "name": "stdout"
        }
      ]
    },
    {
      "cell_type": "markdown",
      "metadata": {
        "id": "hyDfX6_KbyB1"
      },
      "source": [
        "Если собрать все в одну функцию:"
      ]
    },
    {
      "cell_type": "code",
      "metadata": {
        "id": "sxQjm_EMbyB2"
      },
      "source": [
        "def clean_text(text):\n",
        "    tokens = words_only(text)\n",
        "    lemmas = lemmatize_text(tokens)\n",
        "    \n",
        "    return remove_stopwords(lemmas)"
      ],
      "execution_count": null,
      "outputs": []
    },
    {
      "cell_type": "code",
      "metadata": {
        "id": "UDWXoJY_byB2",
        "outputId": "a868e226-59fb-4f94-b8de-4379e3e7cab3"
      },
      "source": [
        "print(*clean_text(data.text[3]))"
      ],
      "execution_count": null,
      "outputs": [
        {
          "output_type": "stream",
          "text": [
            "известный голливудский актёр майкл дуглас совершить неожиданный визит сообщать издание cubadebate цель поездка дуглас уточняться утверждаться лишь актёр посетить несколько памятный место число закусочный floridita который некогда любить бывать эрнест хемингуэй майкл дуглас также осмотреть достопримечательность исторический центр гавана понаблюдать процесс изготовление кубинский сигара табачный фабрика стоить отметить свободный посещение куба американский гражданин иметь родственник остров запретить американец поездка требоваться специальный разрешение государственный департамент получать дуглас разрешение сообщаться напомнить дуглас единственный знаменитый голливудский актёр посетить последний время ранее страна качество корреспондент журнал vanity fair прибыть визит пенна двукратный обладатель премия оскар намереваться взять интервью фидель кастро поездка пенный сопровождать известный филантроп дайана дженкинс\n"
          ],
          "name": "stdout"
        }
      ]
    },
    {
      "cell_type": "markdown",
      "metadata": {
        "id": "5nYNerR5byB2"
      },
      "source": [
        "Если нужно предобработать большой объем текста, помимо кэширования может помочь распараллеливание, например, методом Pool библиотеки multiprocessing:"
      ]
    },
    {
      "cell_type": "code",
      "metadata": {
        "id": "BMC80FbhbyB2"
      },
      "source": [
        "from multiprocessing import Pool\n",
        "from tqdm import tqdm_notebook as tqdm"
      ],
      "execution_count": null,
      "outputs": []
    },
    {
      "cell_type": "code",
      "metadata": {
        "scrolled": true,
        "id": "9IHVYs6kbyB2",
        "outputId": "209e3160-a591-4fd6-ef8e-1455ae487ce4"
      },
      "source": [
        "%%time\n",
        "N = 1000\n",
        "data['text'][:N].apply(clean_text)"
      ],
      "execution_count": null,
      "outputs": [
        {
          "output_type": "stream",
          "text": [
            "CPU times: user 31.3 s, sys: 55.5 ms, total: 31.4 s\n",
            "Wall time: 31.4 s\n"
          ],
          "name": "stdout"
        },
        {
          "output_type": "execute_result",
          "data": {
            "text/plain": [
              "0                                                                                                                                                                                                    [южноафриканский, кейптаун, победа, сборный, россия, завершиться, чемпионат, среди, бездомный, финальный, матч, российский, футболист, впервые, свой, история, стать, чемпион, обыграть, команда, казахстан, счёт, передавать, news, первенство, принимать, участие, человек, который, представлять, страна, весь, матч, каждый, который, продолжаться, минута, проходить, асфальтовый, поле, причём, команда, мочь, играть, мужчина, женщина, сборная, россия, провести, турнир, матч, весь, который, добиться, победа, предыдущий, чемпионат, достижение, российский, команда, скромный, метр, место, метр, место, метр, место]\n",
              "1      [анна, курников, проиграть, испанка, кончить, мартинес, conchita, martinez, первое, круг, выбыть, борьба, победа, турнир, family, circle, сообщать, российский, теннисистка, уступить, стартовый, матч, четыре, подряд, турнир, поединок, мартинес, совершить, семь, двойной, невынужденный, ошибка, сказать, расстроить, значит, сказать, ничто, прокомментировать, свой, игра, летний, курников, который, прошлое, рейтинг, занимать, восемь, строчка, закончить, сезон, мартинес, который, день, матч, исполниться, остаться, довольный, результат, сказать, курников, просто, проявлять, достаточный, терпение, корт, долгий, провести, игра, трудный, обрести, былой, форма, этап, пропустить, восемь, месяц, работать, сутки, снова, выйти, достойный, уровень, добавить, испанка, представительница, россия, елена, б...\n",
              "2      [новый, главное, тренер, московский, футбольный, клуб, спартак, назначить, бывший, вратарь, команда, станислав, черчёс, последний, время, занимать, должность, спортивный, директор, черчёс, прийти, место, владимир, федотов, который, отправить, отставка, вторник, июнь, встреча, владелец, клуб, леонид, федун, сообщать, спорт, экспресс, подробность, назначение, черчесова, пока, неизвестный, касаться, федотов, инфморация, издание, спорт, сегодня, занять, должность, спортивный, директор, московский, клуб, отметить, назначение, пост, главный, тренер, спартак, апрель, федот, клуб, именно, спортивный, директор, касаться, черчесова, возвращение, спартак, работать, главное, тренер, австрийский, тироль, который, завершать, карьер, футболист, занять, пост, спортивный, директор, спартак, подписать, ...\n",
              "3      [известный, голливудский, актёр, майкл, дуглас, совершить, неожиданный, визит, сообщать, издание, cubadebate, цель, поездка, дуглас, уточняться, утверждаться, лишь, актёр, посетить, несколько, памятный, место, число, закусочный, floridita, который, некогда, любить, бывать, эрнест, хемингуэй, майкл, дуглас, также, осмотреть, достопримечательность, исторический, центр, гавана, понаблюдать, процесс, изготовление, кубинский, сигара, табачный, фабрика, стоить, отметить, свободный, посещение, куба, американский, гражданин, иметь, родственник, остров, запретить, американец, поездка, требоваться, специальный, разрешение, государственный, департамент, получать, дуглас, разрешение, сообщаться, напомнить, дуглас, единственный, знаменитый, голливудский, актёр, посетить, последний, время, ранее, ст...\n",
              "4      [глава, чеченский, республика, рамзан, кадыров, сняться, игровой, короткометражный, фильм, волшебный, гребень, написать, свой, блог, instagram, автор, великое, актёр, народный, заслужить, артист, россия, дагун, омаев, зулай, багалов, абдулмутелип, давлетмирзаев, хамид, азай, мовсара, атаев, зубайраев, доверить, главный, роль, огромный, честь, ответственность, находиться, съёмочный, площадка, легендарный, человек, который, сниматься, десятка, советский, российский, картина, подчеркнуть, кадыров, слово, глава, республика, картина, тепло, встретить, говорят, масса, положительный, отклик, мнение, возможно, ругать, спасибо, значит, вызвать, интерес, добавить, кадыров, несколько, слово, описать, сюжет, произведение, герой, фильм, узнать, шлем, способный, перенести, старый, эпоха, находить, о...\n",
              "                                                                                                                                                                                                                                                                                                                                                                                                                    ...                                                                                                                                                                                                                                                                                                                                                                                                               \n",
              "995    [астроном, удаться, взглянуть, внутренний, часть, протопланетный, диск, регион, который, идти, процесс, формирование, каменный, планета, аналогичный, меркурий, марс, венера, земля, солнечный, система, статья, учёный, появиться, журнал, astrophysical, journal, краткий, изложение, приводиться, сайт, nasa, рамка, исследование, учёный, использовать, телескоп, keck, изучить, звезда, который, располагаться, расстояние, светов, земля, созвездие, кассиопея, возраст, миллион, сравнение, возраст, солнце, составлять, миллиард, поэтому, окрестность, идти, интенсивный, процесс, формирование, планета, весь, наблюдение, проводиться, инфракрасный, диапазон, электромагнитный, излучение, именно, часть, спектр, наиболее, проникать, сквозь, толща, пыль, слово, исследователь, собранный, дать, являться, уни...\n",
              "996    [шотландский, группа, travis, анонсировать, новый, альбом, семь, студийный, пластинка, коллектив, поступить, продажа, август, называться, where, stand, сообщать, альбом, выпустить, smith, where, stand, продюсировать, майкл, либерт, hives, cardigans, материал, новый, пластинка, записать, берлинский, студия, hansa, сотрудничать, число, дэвид, боуя, depeche, mode, сообщаться, альбом, войти, песнь, screen, mother, moving, также, трек, дать, альбом, название, where, stand, вопрос, долг, перерыв, сделать, travis, альбом, басистый, группа, дуга, пейн, ответить, воздерживаться, написание, музыка, полезно, пока, вновь, появиться, чувство, творческий, голод, желание, сопоставимый, сила, который, артист, испытывать, самый, начало, карьера, travis, выпустить, свой, релиз, good, feeling, альбом, во...\n",
              "997    [астроном, разработать, модель, раскрывать, новое, подробность, процесс, формирование, суперземеля, планета, свой, масса, превышать, планет, уступать, газовый, гигант, нептун, уран, результат, объяснять, парадокс, согласно, который, небесный, тело, данный, класс, встречаться, чаща, следовать, теоретический, расчёт, статья, учёный, опубликовать, astrophysical, journal, сообщаться, пресс, релиз, опубликовать, сайт, phys, считаться, физический, условие, диск, плотный, газа, вокруг, молодая, звезда, способствовать, появление, многочисленный, газовый, гигант, равный, превосходящий, юпитер, однако, дать, получить, космический, телескоп, кеплер, демонстрировать, большинство, экзопланета, являться, суперземля, объяснить, противоречие, исследователь, смоделировать, процесс, происходить, протопл...\n",
              "998                                                                   [октябрь, декабрь, государственный, музей, искусство, народ, восток, работать, выставка, самурай, проходить, рамка, российско, японский, проект, сохранение, мировой, наследие, экспозиция, включить, предмет, японский, аристократия, произведение, декоративный, прикладной, искусство, оружейный, мастерство, зрелый, средневековье, также, золотой, японский, искусство, правление, клан, токугава, выставка, использовать, мультимедийный, технология, время, работа, проект, музей, пройти, встреча, семинар, мастер, класс, владение, исторический, оружие, японский, чайный, церемония, каллиграфия, икебана, проект, поддержать, общество, японский, культура, фумото, фонд, наследие, восток, фестиваль, мировой, культура, этнолайф, компания, marka]\n",
              "999    [раскопка, немецкий, стоунхенджа, обнаружить, человеческий, переломать, череп, рёберный, костя, мочь, свидетельствовать, древние, жертвоприношение, сообщать, издание, live, science, археолог, обнаружить, костя, человек, животное, сосуд, питие, каменный, мельница, погрести, место, раскопка, около, деревня, пеммелить, mmelte, расположить, германия, примерно, километр, запасть, берлин, человеческий, останки, относиться, последний, минута, жизнь, жертва, ужасный, судить, весь, выбросить, вытолкнуть, подросток, рука, связать, сказать, исследователь, государственный, управление, сохранение, исторический, памятник, баден, вюртемберг, андре, спацьер, andr, spatzier, добавить, древний, народ, также, использовать, памятник, место, проведение, ритуал, немецкий, стоунхендж, доисторический, кругово...\n",
              "Name: text, Length: 1000, dtype: object"
            ]
          },
          "metadata": {
            "tags": []
          },
          "execution_count": 119
        }
      ]
    },
    {
      "cell_type": "code",
      "metadata": {
        "id": "97nQksGfbyB2",
        "colab": {
          "referenced_widgets": [
            "d2711cb90ca14120896e056961f413b7"
          ]
        },
        "outputId": "43d868bb-376f-47a7-b50b-654b0cc55167"
      },
      "source": [
        "%%time\n",
        "N = 1000\n",
        "\n",
        "with Pool(8) as p:\n",
        "    lemmas = list(tqdm(p.imap(clean_text, data['text'][:N]), total=N))"
      ],
      "execution_count": null,
      "outputs": [
        {
          "output_type": "stream",
          "text": [
            "<timed exec>:4: TqdmDeprecationWarning: This function will be removed in tqdm==5.0.0\n",
            "Please use `tqdm.notebook.tqdm` instead of `tqdm.tqdm_notebook`\n"
          ],
          "name": "stderr"
        },
        {
          "output_type": "display_data",
          "data": {
            "application/vnd.jupyter.widget-view+json": {
              "model_id": "d2711cb90ca14120896e056961f413b7",
              "version_major": 2,
              "version_minor": 0
            },
            "text/plain": [
              "HBox(children=(FloatProgress(value=0.0, max=1000.0), HTML(value='')))"
            ]
          },
          "metadata": {
            "tags": []
          }
        },
        {
          "output_type": "stream",
          "text": [
            "\n",
            "CPU times: user 586 ms, sys: 341 ms, total: 928 ms\n",
            "Wall time: 4.32 s\n"
          ],
          "name": "stdout"
        }
      ]
    },
    {
      "cell_type": "code",
      "metadata": {
        "id": "P4N4TibMbyB3",
        "outputId": "7dbe5ee8-701a-4bab-ffd9-6008c8b5bff7"
      },
      "source": [
        "data = data.head(N)\n",
        "data['lemmas'] = lemmas\n",
        "data.sample(3)"
      ],
      "execution_count": null,
      "outputs": [
        {
          "output_type": "stream",
          "text": [
            "<ipython-input-124-b7076c30f6c4>:2: SettingWithCopyWarning: \n",
            "A value is trying to be set on a copy of a slice from a DataFrame.\n",
            "Try using .loc[row_indexer,col_indexer] = value instead\n",
            "\n",
            "See the caveats in the documentation: http://pandas.pydata.org/pandas-docs/stable/user_guide/indexing.html#returning-a-view-versus-a-copy\n",
            "  data['lemmas'] = lemmas\n"
          ],
          "name": "stderr"
        },
        {
          "output_type": "execute_result",
          "data": {
            "text/html": [
              "<div>\n",
              "<style scoped>\n",
              "    .dataframe tbody tr th:only-of-type {\n",
              "        vertical-align: middle;\n",
              "    }\n",
              "\n",
              "    .dataframe tbody tr th {\n",
              "        vertical-align: top;\n",
              "    }\n",
              "\n",
              "    .dataframe thead th {\n",
              "        text-align: right;\n",
              "    }\n",
              "</style>\n",
              "<table border=\"1\" class=\"dataframe\">\n",
              "  <thead>\n",
              "    <tr style=\"text-align: right;\">\n",
              "      <th></th>\n",
              "      <th>title</th>\n",
              "      <th>text</th>\n",
              "      <th>lemmas</th>\n",
              "    </tr>\n",
              "  </thead>\n",
              "  <tbody>\n",
              "    <tr>\n",
              "      <th>378</th>\n",
              "      <td>СМИ назвали срок выхода PC-версии GTA V</td>\n",
              "      <td>СМИ выяснили срок выхода PC-версии экшна GTA V. Как передает Eurogamer со ссылкой на свои источники в игровой индустрии, на этой платформе игра станет доступна в начале 2014 года. Издательство Rockstar пока не анонсировало версию GTA V для PC официально. Представители компании отказались подтвердить новую информацию о выходе игры на персональных компьютерах. Ранее в Сеть неоднократно попадали косвенные подтверждения того, что разработчики планируют выпустить новую часть криминального сериала на PC. Так, версия для этой платформы упоминалась на встрече с инвесторами, которую проводила компания Nvidia. После того, как сведения об этом стали известны СМИ, представители компании заявили, что им неизвестно о готовящемся релизе. По их словам, на встрече с инвесторами игра упоминалась лишь по...</td>\n",
              "      <td>[выяснить, срок, выход, версия, экшный, передавать, eurogamer, ссылка, свой, источник, игровой, индустрия, платформа, игра, стать, доступный, начало, издательство, rockstar, пока, анонсировать, версия, официально, представитель, компания, отказаться, подтвердить, новый, информация, выход, игра, персональный, компьютер, ранее, сеть, неоднократно, попадать, косвенный, подтверждение, разработчик, планировать, выпустить, новый, часть, криминальный, сериал, версия, платформа, упоминаться, встреча, инвестор, который, проводить, компания, nvidia, сведение, стать, известный, представитель, компания, заявить, неизвестно, готовиться, релиз, слово, встреча, инвестор, игра, упоминаться, лишь, ждать, выход, геймер, также, неоднократно, требовать, rockstar, выпустить, персональный, компьютер, создат...</td>\n",
              "    </tr>\n",
              "    <tr>\n",
              "      <th>294</th>\n",
              "      <td>Лучшим комиксом-манга оказалось \"Искусство войны\"</td>\n",
              "      <td>Министерство иностранных дел Японии назвало имя победителя первого конкурса среди неяпонских художников, работающих в стиле манга. Им стал 43-летний выходец из Гонконга Ли Чицзин, автор манги по мотивам \"Искусства войны\" китайского полководца и теоретика военной стратегии Сунь-Цзы, сообщается в пресс-релизе ведомства. Официальная церемония награждения состоится в Токио 2 июля 2007 года. Кроме Ли Чицзина награды получат 28-летний уроженец Гонконга по имени Гай, 30 летний малаец Бенни Вон Тон Хоу и 26-летняя австралийка Маделейн Роска. На конкурс поступило 146 работ из 25 стран. Денежные призы условиями конкурса не предусмотрены, но всех победителей ожидает десятидневная поездка в Японию. Проект, направленный на популяризацию японской культуры в мире, курирует министр иностранных дел Тар...</td>\n",
              "      <td>[министерство, иностранный, дело, япония, назвать, победитель, первое, конкурс, среди, неяпонский, художник, работать, стиль, манга, стать, летний, выходец, гонконг, чицзина, автор, манга, мотив, искусство, война, китайский, полководец, теоретик, военный, стратегия, сунуть, сообщаться, пресс, релиз, ведомство, официальный, церемония, награждение, состояться, токио, июль, кроме, чицзина, награда, получить, летний, уроженец, гонконг, летний, малаец, бенний, летний, австралийка, маделейн, роска, конкурс, поступить, работа, страна, денежный, приз, условие, конкурс, предусмотреть, весь, победитель, ожидать, десятидневный, поездка, япония, проект, направить, популяризация, японский, культура, курировать, министр, иностранный, дело, таро, объявлять, открытие, конкурс, сравнить, важность, жанр...</td>\n",
              "    </tr>\n",
              "    <tr>\n",
              "      <th>723</th>\n",
              "      <td>\"Лукойл\" в 2012 году увеличил инвестиции на 40 процентов</td>\n",
              "      <td>Объем инвестиций \"Лукойла\" по итогам 2012 года окажется на уровне 13,7 миллиарда долларов, что на 40 процентов больше уровня предыдущего года. Об этом сообщается в пресс-релизе корпорации. Цифры были озвучены на заседании совета директоров \"Лукойла\". Добыча нефти компании сократилась за год на 0,9 процента до 89,9 миллиона тонн. В то же время добыча газа увеличилась на 1,2 процента до 24,5 миллиарда кубометров. В целом производство углеводородного сырья выросло на 1,4 миллиона тонн условного топлива до 114,4 миллиона тонн. В 2012 году прирост запасов углеводородного сырья по российской классификации может составить 137,6 миллиона тонн условного топлива. \"Лукойлу\" удалось открыть пять месторождений в Пермском крае, Татарстане, Волгоградской области и Узбекистане. Кроме этого было открыт...</td>\n",
              "      <td>[объесть, инвестиция, лукойл, итог, оказаться, уровень, миллиард, доллар, процент, большой, уровень, предыдущий, сообщаться, пресс, релиз, корпорация, цифра, озвучить, заседание, совет, директор, лукойл, добыча, нефть, компания, сократиться, процент, миллион, тонна, время, добыча, газа, увеличиться, процент, миллиард, кубометр, целое, производство, углеводородный, сырьё, вырасти, миллион, тонна, условный, топливо, миллион, тонна, прирост, запас, углеводородный, сырьё, российский, классификация, мочь, составить, миллион, тонна, условный, топливо, лукойл, удаться, открыть, пять, месторождение, пермский, край, татарстан, волгоградский, область, узбекистан, кроме, открыто, новый, залежь, ранее, открытый, месторождение, переработка, нефтяной, сырьё, завод, компания, должный, составить, милл...</td>\n",
              "    </tr>\n",
              "  </tbody>\n",
              "</table>\n",
              "</div>"
            ],
            "text/plain": [
              "                                                        title                                                                                                                                                                                                                                                                                                                                                                                                                                                                                                                                                                                                                                                                                                                                                                                                                             text                                                                                                                                                                                                                                                                                                                                                                                                                                                                                                                                                                                                                                                                                                                                                                                                                           lemmas\n",
              "378                   СМИ назвали срок выхода PC-версии GTA V  СМИ выяснили срок выхода PC-версии экшна GTA V. Как передает Eurogamer со ссылкой на свои источники в игровой индустрии, на этой платформе игра станет доступна в начале 2014 года. Издательство Rockstar пока не анонсировало версию GTA V для PC официально. Представители компании отказались подтвердить новую информацию о выходе игры на персональных компьютерах. Ранее в Сеть неоднократно попадали косвенные подтверждения того, что разработчики планируют выпустить новую часть криминального сериала на PC. Так, версия для этой платформы упоминалась на встрече с инвесторами, которую проводила компания Nvidia. После того, как сведения об этом стали известны СМИ, представители компании заявили, что им неизвестно о готовящемся релизе. По их словам, на встрече с инвесторами игра упоминалась лишь по...  [выяснить, срок, выход, версия, экшный, передавать, eurogamer, ссылка, свой, источник, игровой, индустрия, платформа, игра, стать, доступный, начало, издательство, rockstar, пока, анонсировать, версия, официально, представитель, компания, отказаться, подтвердить, новый, информация, выход, игра, персональный, компьютер, ранее, сеть, неоднократно, попадать, косвенный, подтверждение, разработчик, планировать, выпустить, новый, часть, криминальный, сериал, версия, платформа, упоминаться, встреча, инвестор, который, проводить, компания, nvidia, сведение, стать, известный, представитель, компания, заявить, неизвестно, готовиться, релиз, слово, встреча, инвестор, игра, упоминаться, лишь, ждать, выход, геймер, также, неоднократно, требовать, rockstar, выпустить, персональный, компьютер, создат...\n",
              "294         Лучшим комиксом-манга оказалось \"Искусство войны\"  Министерство иностранных дел Японии назвало имя победителя первого конкурса среди неяпонских художников, работающих в стиле манга. Им стал 43-летний выходец из Гонконга Ли Чицзин, автор манги по мотивам \"Искусства войны\" китайского полководца и теоретика военной стратегии Сунь-Цзы, сообщается в пресс-релизе ведомства. Официальная церемония награждения состоится в Токио 2 июля 2007 года. Кроме Ли Чицзина награды получат 28-летний уроженец Гонконга по имени Гай, 30 летний малаец Бенни Вон Тон Хоу и 26-летняя австралийка Маделейн Роска. На конкурс поступило 146 работ из 25 стран. Денежные призы условиями конкурса не предусмотрены, но всех победителей ожидает десятидневная поездка в Японию. Проект, направленный на популяризацию японской культуры в мире, курирует министр иностранных дел Тар...  [министерство, иностранный, дело, япония, назвать, победитель, первое, конкурс, среди, неяпонский, художник, работать, стиль, манга, стать, летний, выходец, гонконг, чицзина, автор, манга, мотив, искусство, война, китайский, полководец, теоретик, военный, стратегия, сунуть, сообщаться, пресс, релиз, ведомство, официальный, церемония, награждение, состояться, токио, июль, кроме, чицзина, награда, получить, летний, уроженец, гонконг, летний, малаец, бенний, летний, австралийка, маделейн, роска, конкурс, поступить, работа, страна, денежный, приз, условие, конкурс, предусмотреть, весь, победитель, ожидать, десятидневный, поездка, япония, проект, направить, популяризация, японский, культура, курировать, министр, иностранный, дело, таро, объявлять, открытие, конкурс, сравнить, важность, жанр...\n",
              "723  \"Лукойл\" в 2012 году увеличил инвестиции на 40 процентов  Объем инвестиций \"Лукойла\" по итогам 2012 года окажется на уровне 13,7 миллиарда долларов, что на 40 процентов больше уровня предыдущего года. Об этом сообщается в пресс-релизе корпорации. Цифры были озвучены на заседании совета директоров \"Лукойла\". Добыча нефти компании сократилась за год на 0,9 процента до 89,9 миллиона тонн. В то же время добыча газа увеличилась на 1,2 процента до 24,5 миллиарда кубометров. В целом производство углеводородного сырья выросло на 1,4 миллиона тонн условного топлива до 114,4 миллиона тонн. В 2012 году прирост запасов углеводородного сырья по российской классификации может составить 137,6 миллиона тонн условного топлива. \"Лукойлу\" удалось открыть пять месторождений в Пермском крае, Татарстане, Волгоградской области и Узбекистане. Кроме этого было открыт...  [объесть, инвестиция, лукойл, итог, оказаться, уровень, миллиард, доллар, процент, большой, уровень, предыдущий, сообщаться, пресс, релиз, корпорация, цифра, озвучить, заседание, совет, директор, лукойл, добыча, нефть, компания, сократиться, процент, миллион, тонна, время, добыча, газа, увеличиться, процент, миллиард, кубометр, целое, производство, углеводородный, сырьё, вырасти, миллион, тонна, условный, топливо, миллион, тонна, прирост, запас, углеводородный, сырьё, российский, классификация, мочь, составить, миллион, тонна, условный, топливо, лукойл, удаться, открыть, пять, месторождение, пермский, край, татарстан, волгоградский, область, узбекистан, кроме, открыто, новый, залежь, ранее, открытый, месторождение, переработка, нефтяной, сырьё, завод, компания, должный, составить, милл..."
            ]
          },
          "metadata": {
            "tags": []
          },
          "execution_count": 124
        }
      ]
    },
    {
      "cell_type": "markdown",
      "metadata": {
        "id": "MagRYsQGbyB3"
      },
      "source": [
        "### Итого:\n",
        "\n",
        "- посмотрели, как делать все стандартные этапы предобработки текста\n",
        "- научились работать с морфологоческими парсерами"
      ]
    },
    {
      "cell_type": "code",
      "metadata": {
        "id": "w1ssB1UtbyB3"
      },
      "source": [
        ""
      ],
      "execution_count": null,
      "outputs": []
    }
  ]
}