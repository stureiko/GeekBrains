{
 "cells": [
  {
   "cell_type": "markdown",
   "metadata": {},
   "source": [
    "* [Постановка задачи](#task)\n",
    "    * [Загрузка данных](#load_data)\n",
    "    * [Приведение типов](#cast)\n",
    "    * [Обзор данных](#review)    \n",
    "    * [Обработка пропусков](#gaps)\n",
    "    * [Обработка выбросов](#outliers)\n",
    "    * [Построение новых признаков](#new_features)\n",
    "    * [Сохранение обучающего датасета](#saving)\n",
    "* [Статистическая обработка](#stat_processing)\n",
    "    * [Анализ целевой переменной](#target_analysis)"
   ]
  },
  {
   "cell_type": "markdown",
   "metadata": {},
   "source": [
    "### Постановка задачи<a class=\"anchor\" id=\"task\"></a>"
   ]
  },
  {
   "cell_type": "markdown",
   "metadata": {},
   "source": [
    "Требуется на основании демографических данных о клиентах банка, истории их платежей и состоянии счета, предсказать невыполнение их обязательств по кредитной карте в следующем месяце."
   ]
  },
  {
   "cell_type": "markdown",
   "metadata": {},
   "source": [
    "**Описание датасета**\n",
    "\n",
    "* **LIMIT_BAL** - Сумма предоставленного кредита\n",
    "* **SEX** - Пол (1=мужчина, 2=женщина)\n",
    "* **EDUCATION** - Образование (1=аспирантура, 2=университет, 3=старшая школа, 4=прочее, 5=неизвестно, 6=неизвестно)\n",
    "* **MARRIAGE** - Семейное положение (1=женат/замужен, 2=не женат/не замуженм, 3=прочее)\n",
    "* **AGE** - Возраст (в годах)\n",
    "* **PAY_1** - Статус погашения в Сентябре (-1=погашен полностью, 0=погашен частично, 1=отсрочка платежа на один месяц, .., 3=отсрочка платежа на три месяца и более)\n",
    "* **PAY_2** - Статус погашения в Августе\n",
    "* **PAY_3** - Статус погашения в Июле\n",
    "* **PAY_4** - Статус погашения в Июне\n",
    "* **PAY_5** - Статус погашения в Мае\n",
    "* **PAY_6** - Статус погашения в Апреле\n",
    "* **BILL_AMT1** - Сумма выписки по счету в Сентябре\n",
    "* **BILL_AMT2** - Сумма выписки по счету в Августе\n",
    "* **BILL_AMT3** - Сумма выписки по счету в Июле\n",
    "* **BILL_AMT4** - Сумма выписки по счету в Июне\n",
    "* **BILL_AMT5** - Сумма выписки по счету в Мае\n",
    "* **BILL_AMT6** - Сумма выписки по счету в Апреле\n",
    "* **PAY_AMT1** - Сумма предыдущего платежа в Сентябре\n",
    "* **PAY_AMT2** - Сумма предыдущего платежа в Августе\n",
    "* **PAY_AMT3** - Сумма предыдущего платежа в Июле\n",
    "* **PAY_AMT4** - Сумма предыдущего платежа в Июне\n",
    "* **PAY_AMT5** - Сумма предыдущего платежа в Мае\n",
    "* **PAY_AMT6** - Сумма предыдущего платежа в Апреле\n",
    "* **NEXT_MONTH_DEFAULT** - Просрочка платежа в следующем месяце (1=да, 0=нет)"
   ]
  },
  {
   "cell_type": "markdown",
   "metadata": {},
   "source": [
    "- - - "
   ]
  },
  {
   "cell_type": "markdown",
   "metadata": {},
   "source": [
    "#### Подключение библиотек"
   ]
  },
  {
   "cell_type": "code",
   "execution_count": 1,
   "metadata": {},
   "outputs": [],
   "source": [
    "import numpy as np\n",
    "import pandas as pd\n",
    "from scipy.stats import shapiro\n",
    "from scipy.stats import probplot\n",
    "from scipy.stats import ttest_ind, mannwhitneyu\n",
    "from scipy.stats import chi2_contingency\n",
    "from statsmodels.stats.weightstats import zconfint\n",
    "\n",
    "import seaborn as sns\n",
    "from matplotlib import pyplot as plt\n",
    "%matplotlib inline"
   ]
  },
  {
   "cell_type": "code",
   "execution_count": 2,
   "metadata": {},
   "outputs": [],
   "source": [
    "import warnings\n",
    "warnings.simplefilter('ignore')"
   ]
  },
  {
   "cell_type": "markdown",
   "metadata": {},
   "source": [
    "#### Пути к данным"
   ]
  },
  {
   "cell_type": "code",
   "execution_count": 3,
   "metadata": {},
   "outputs": [],
   "source": [
    "# input\n",
    "DATASET_PATH = 'training_project_data.csv'\n",
    "\n",
    "# output\n",
    "PREP_DATASET_PATH = 'training_project_data_prep.csv'"
   ]
  },
  {
   "cell_type": "markdown",
   "metadata": {},
   "source": [
    "### Загрузка данных<a class=\"anchor\" id=\"load_data\"></a>"
   ]
  },
  {
   "cell_type": "code",
   "execution_count": 4,
   "metadata": {},
   "outputs": [
    {
     "data": {
      "text/html": [
       "<div>\n",
       "<style scoped>\n",
       "    .dataframe tbody tr th:only-of-type {\n",
       "        vertical-align: middle;\n",
       "    }\n",
       "\n",
       "    .dataframe tbody tr th {\n",
       "        vertical-align: top;\n",
       "    }\n",
       "\n",
       "    .dataframe thead th {\n",
       "        text-align: right;\n",
       "    }\n",
       "</style>\n",
       "<table border=\"1\" class=\"dataframe\">\n",
       "  <thead>\n",
       "    <tr style=\"text-align: right;\">\n",
       "      <th></th>\n",
       "      <th>LIMIT_BAL</th>\n",
       "      <th>SEX</th>\n",
       "      <th>EDUCATION</th>\n",
       "      <th>MARRIAGE</th>\n",
       "      <th>AGE</th>\n",
       "      <th>PAY_1</th>\n",
       "      <th>PAY_2</th>\n",
       "      <th>PAY_3</th>\n",
       "      <th>PAY_4</th>\n",
       "      <th>PAY_5</th>\n",
       "      <th>...</th>\n",
       "      <th>BILL_AMT4</th>\n",
       "      <th>BILL_AMT5</th>\n",
       "      <th>BILL_AMT6</th>\n",
       "      <th>PAY_AMT1</th>\n",
       "      <th>PAY_AMT2</th>\n",
       "      <th>PAY_AMT3</th>\n",
       "      <th>PAY_AMT4</th>\n",
       "      <th>PAY_AMT5</th>\n",
       "      <th>PAY_AMT6</th>\n",
       "      <th>NEXT_MONTH_DEFAULT</th>\n",
       "    </tr>\n",
       "  </thead>\n",
       "  <tbody>\n",
       "    <tr>\n",
       "      <th>0</th>\n",
       "      <td>150000.0</td>\n",
       "      <td>2</td>\n",
       "      <td>2</td>\n",
       "      <td>2</td>\n",
       "      <td>24</td>\n",
       "      <td>1</td>\n",
       "      <td>2</td>\n",
       "      <td>0</td>\n",
       "      <td>0</td>\n",
       "      <td>0</td>\n",
       "      <td>...</td>\n",
       "      <td>17853.0</td>\n",
       "      <td>34527.0</td>\n",
       "      <td>28277.0</td>\n",
       "      <td>0.0</td>\n",
       "      <td>2145.0</td>\n",
       "      <td>10000.0</td>\n",
       "      <td>22000.0</td>\n",
       "      <td>3000.0</td>\n",
       "      <td>5093.0</td>\n",
       "      <td>0</td>\n",
       "    </tr>\n",
       "    <tr>\n",
       "      <th>1</th>\n",
       "      <td>50000.0</td>\n",
       "      <td>2</td>\n",
       "      <td>3</td>\n",
       "      <td>1</td>\n",
       "      <td>46</td>\n",
       "      <td>3</td>\n",
       "      <td>3</td>\n",
       "      <td>3</td>\n",
       "      <td>3</td>\n",
       "      <td>2</td>\n",
       "      <td>...</td>\n",
       "      <td>30748.0</td>\n",
       "      <td>30162.0</td>\n",
       "      <td>30016.0</td>\n",
       "      <td>0.0</td>\n",
       "      <td>0.0</td>\n",
       "      <td>0.0</td>\n",
       "      <td>0.0</td>\n",
       "      <td>3100.0</td>\n",
       "      <td>798.0</td>\n",
       "      <td>1</td>\n",
       "    </tr>\n",
       "    <tr>\n",
       "      <th>2</th>\n",
       "      <td>150000.0</td>\n",
       "      <td>2</td>\n",
       "      <td>2</td>\n",
       "      <td>1</td>\n",
       "      <td>41</td>\n",
       "      <td>-1</td>\n",
       "      <td>-1</td>\n",
       "      <td>-1</td>\n",
       "      <td>-1</td>\n",
       "      <td>0</td>\n",
       "      <td>...</td>\n",
       "      <td>6784.0</td>\n",
       "      <td>6923.0</td>\n",
       "      <td>14116.0</td>\n",
       "      <td>0.0</td>\n",
       "      <td>0.0</td>\n",
       "      <td>6784.0</td>\n",
       "      <td>159.0</td>\n",
       "      <td>167.0</td>\n",
       "      <td>760.0</td>\n",
       "      <td>0</td>\n",
       "    </tr>\n",
       "    <tr>\n",
       "      <th>3</th>\n",
       "      <td>150000.0</td>\n",
       "      <td>2</td>\n",
       "      <td>2</td>\n",
       "      <td>2</td>\n",
       "      <td>35</td>\n",
       "      <td>0</td>\n",
       "      <td>0</td>\n",
       "      <td>0</td>\n",
       "      <td>0</td>\n",
       "      <td>0</td>\n",
       "      <td>...</td>\n",
       "      <td>55182.0</td>\n",
       "      <td>48983.0</td>\n",
       "      <td>50136.0</td>\n",
       "      <td>3500.0</td>\n",
       "      <td>2000.0</td>\n",
       "      <td>20000.0</td>\n",
       "      <td>2000.0</td>\n",
       "      <td>2000.0</td>\n",
       "      <td>2000.0</td>\n",
       "      <td>0</td>\n",
       "    </tr>\n",
       "    <tr>\n",
       "      <th>4</th>\n",
       "      <td>70000.0</td>\n",
       "      <td>2</td>\n",
       "      <td>1</td>\n",
       "      <td>1</td>\n",
       "      <td>35</td>\n",
       "      <td>1</td>\n",
       "      <td>2</td>\n",
       "      <td>2</td>\n",
       "      <td>2</td>\n",
       "      <td>2</td>\n",
       "      <td>...</td>\n",
       "      <td>47026.0</td>\n",
       "      <td>45971.0</td>\n",
       "      <td>47573.0</td>\n",
       "      <td>0.0</td>\n",
       "      <td>6500.0</td>\n",
       "      <td>1800.0</td>\n",
       "      <td>0.0</td>\n",
       "      <td>2500.0</td>\n",
       "      <td>2000.0</td>\n",
       "      <td>0</td>\n",
       "    </tr>\n",
       "  </tbody>\n",
       "</table>\n",
       "<p>5 rows × 24 columns</p>\n",
       "</div>"
      ],
      "text/plain": [
       "   LIMIT_BAL  SEX  EDUCATION  MARRIAGE  AGE  PAY_1  PAY_2  PAY_3  PAY_4  \\\n",
       "0   150000.0    2          2         2   24      1      2      0      0   \n",
       "1    50000.0    2          3         1   46      3      3      3      3   \n",
       "2   150000.0    2          2         1   41     -1     -1     -1     -1   \n",
       "3   150000.0    2          2         2   35      0      0      0      0   \n",
       "4    70000.0    2          1         1   35      1      2      2      2   \n",
       "\n",
       "   PAY_5  ...  BILL_AMT4  BILL_AMT5  BILL_AMT6  PAY_AMT1  PAY_AMT2  PAY_AMT3  \\\n",
       "0      0  ...    17853.0    34527.0    28277.0       0.0    2145.0   10000.0   \n",
       "1      2  ...    30748.0    30162.0    30016.0       0.0       0.0       0.0   \n",
       "2      0  ...     6784.0     6923.0    14116.0       0.0       0.0    6784.0   \n",
       "3      0  ...    55182.0    48983.0    50136.0    3500.0    2000.0   20000.0   \n",
       "4      2  ...    47026.0    45971.0    47573.0       0.0    6500.0    1800.0   \n",
       "\n",
       "   PAY_AMT4  PAY_AMT5  PAY_AMT6  NEXT_MONTH_DEFAULT  \n",
       "0   22000.0    3000.0    5093.0                   0  \n",
       "1       0.0    3100.0     798.0                   1  \n",
       "2     159.0     167.0     760.0                   0  \n",
       "3    2000.0    2000.0    2000.0                   0  \n",
       "4       0.0    2500.0    2000.0                   0  \n",
       "\n",
       "[5 rows x 24 columns]"
      ]
     },
     "execution_count": 4,
     "metadata": {},
     "output_type": "execute_result"
    }
   ],
   "source": [
    "df = pd.read_csv(DATASET_PATH)\n",
    "df.head()"
   ]
  },
  {
   "cell_type": "code",
   "execution_count": 5,
   "metadata": {},
   "outputs": [
    {
     "name": "stdout",
     "output_type": "stream",
     "text": [
      "<class 'pandas.core.frame.DataFrame'>\n",
      "RangeIndex: 10000 entries, 0 to 9999\n",
      "Data columns (total 24 columns):\n",
      " #   Column              Non-Null Count  Dtype  \n",
      "---  ------              --------------  -----  \n",
      " 0   LIMIT_BAL           10000 non-null  float64\n",
      " 1   SEX                 10000 non-null  int64  \n",
      " 2   EDUCATION           10000 non-null  int64  \n",
      " 3   MARRIAGE            10000 non-null  int64  \n",
      " 4   AGE                 10000 non-null  int64  \n",
      " 5   PAY_1               10000 non-null  int64  \n",
      " 6   PAY_2               10000 non-null  int64  \n",
      " 7   PAY_3               10000 non-null  int64  \n",
      " 8   PAY_4               10000 non-null  int64  \n",
      " 9   PAY_5               10000 non-null  int64  \n",
      " 10  PAY_6               10000 non-null  int64  \n",
      " 11  BILL_AMT1           10000 non-null  float64\n",
      " 12  BILL_AMT2           10000 non-null  float64\n",
      " 13  BILL_AMT3           10000 non-null  float64\n",
      " 14  BILL_AMT4           10000 non-null  float64\n",
      " 15  BILL_AMT5           10000 non-null  float64\n",
      " 16  BILL_AMT6           10000 non-null  float64\n",
      " 17  PAY_AMT1            10000 non-null  float64\n",
      " 18  PAY_AMT2            10000 non-null  float64\n",
      " 19  PAY_AMT3            10000 non-null  float64\n",
      " 20  PAY_AMT4            10000 non-null  float64\n",
      " 21  PAY_AMT5            10000 non-null  float64\n",
      " 22  PAY_AMT6            10000 non-null  float64\n",
      " 23  NEXT_MONTH_DEFAULT  10000 non-null  int64  \n",
      "dtypes: float64(13), int64(11)\n",
      "memory usage: 1.8 MB\n"
     ]
    }
   ],
   "source": [
    "df.info()"
   ]
  },
  {
   "cell_type": "markdown",
   "metadata": {},
   "source": [
    "### Приведение типов<a class=\"anchor\" id=\"cast\"></a>"
   ]
  },
  {
   "cell_type": "code",
   "execution_count": 6,
   "metadata": {},
   "outputs": [],
   "source": [
    "for colname in ['SEX', 'EDUCATION', 'MARRIAGE', 'PAY_1', 'PAY_2', 'PAY_3', 'PAY_4', 'PAY_5', 'PAY_6']:\n",
    "    df[colname] = df[colname].astype(str)"
   ]
  },
  {
   "cell_type": "code",
   "execution_count": 7,
   "metadata": {},
   "outputs": [
    {
     "data": {
      "text/plain": [
       "LIMIT_BAL             float64\n",
       "SEX                    object\n",
       "EDUCATION              object\n",
       "MARRIAGE               object\n",
       "AGE                     int64\n",
       "PAY_1                  object\n",
       "PAY_2                  object\n",
       "PAY_3                  object\n",
       "PAY_4                  object\n",
       "PAY_5                  object\n",
       "PAY_6                  object\n",
       "BILL_AMT1             float64\n",
       "BILL_AMT2             float64\n",
       "BILL_AMT3             float64\n",
       "BILL_AMT4             float64\n",
       "BILL_AMT5             float64\n",
       "BILL_AMT6             float64\n",
       "PAY_AMT1              float64\n",
       "PAY_AMT2              float64\n",
       "PAY_AMT3              float64\n",
       "PAY_AMT4              float64\n",
       "PAY_AMT5              float64\n",
       "PAY_AMT6              float64\n",
       "NEXT_MONTH_DEFAULT      int64\n",
       "dtype: object"
      ]
     },
     "execution_count": 7,
     "metadata": {},
     "output_type": "execute_result"
    }
   ],
   "source": [
    "df.dtypes"
   ]
  },
  {
   "cell_type": "markdown",
   "metadata": {},
   "source": [
    "### Обзор данных<a class=\"anchor\" id=\"review\"></a>"
   ]
  },
  {
   "cell_type": "markdown",
   "metadata": {},
   "source": [
    "**Обзор целевой переменной**"
   ]
  },
  {
   "cell_type": "code",
   "execution_count": 8,
   "metadata": {},
   "outputs": [
    {
     "data": {
      "text/plain": [
       "0    7805\n",
       "1    2195\n",
       "Name: NEXT_MONTH_DEFAULT, dtype: int64"
      ]
     },
     "execution_count": 8,
     "metadata": {},
     "output_type": "execute_result"
    }
   ],
   "source": [
    "df['NEXT_MONTH_DEFAULT'].value_counts()"
   ]
  },
  {
   "cell_type": "markdown",
   "metadata": {},
   "source": [
    "**Обзор количественных признаков**"
   ]
  },
  {
   "cell_type": "code",
   "execution_count": 9,
   "metadata": {},
   "outputs": [
    {
     "data": {
      "text/html": [
       "<div>\n",
       "<style scoped>\n",
       "    .dataframe tbody tr th:only-of-type {\n",
       "        vertical-align: middle;\n",
       "    }\n",
       "\n",
       "    .dataframe tbody tr th {\n",
       "        vertical-align: top;\n",
       "    }\n",
       "\n",
       "    .dataframe thead th {\n",
       "        text-align: right;\n",
       "    }\n",
       "</style>\n",
       "<table border=\"1\" class=\"dataframe\">\n",
       "  <thead>\n",
       "    <tr style=\"text-align: right;\">\n",
       "      <th></th>\n",
       "      <th>LIMIT_BAL</th>\n",
       "      <th>AGE</th>\n",
       "      <th>BILL_AMT1</th>\n",
       "      <th>BILL_AMT2</th>\n",
       "      <th>BILL_AMT3</th>\n",
       "      <th>BILL_AMT4</th>\n",
       "      <th>BILL_AMT5</th>\n",
       "      <th>BILL_AMT6</th>\n",
       "      <th>PAY_AMT1</th>\n",
       "      <th>PAY_AMT2</th>\n",
       "      <th>PAY_AMT3</th>\n",
       "      <th>PAY_AMT4</th>\n",
       "      <th>PAY_AMT5</th>\n",
       "      <th>PAY_AMT6</th>\n",
       "      <th>NEXT_MONTH_DEFAULT</th>\n",
       "    </tr>\n",
       "  </thead>\n",
       "  <tbody>\n",
       "    <tr>\n",
       "      <th>count</th>\n",
       "      <td>10000.000000</td>\n",
       "      <td>10000.00000</td>\n",
       "      <td>10000.000000</td>\n",
       "      <td>10000.000000</td>\n",
       "      <td>10000.00000</td>\n",
       "      <td>10000.000000</td>\n",
       "      <td>10000.000000</td>\n",
       "      <td>10000.000000</td>\n",
       "      <td>10000.00000</td>\n",
       "      <td>1.000000e+04</td>\n",
       "      <td>10000.000000</td>\n",
       "      <td>10000.000000</td>\n",
       "      <td>10000.000000</td>\n",
       "      <td>10000.000000</td>\n",
       "      <td>10000.000000</td>\n",
       "    </tr>\n",
       "    <tr>\n",
       "      <th>mean</th>\n",
       "      <td>168182.000000</td>\n",
       "      <td>35.39600</td>\n",
       "      <td>51490.560500</td>\n",
       "      <td>49298.972000</td>\n",
       "      <td>47292.40850</td>\n",
       "      <td>43605.665800</td>\n",
       "      <td>40347.829700</td>\n",
       "      <td>38996.784300</td>\n",
       "      <td>5511.82970</td>\n",
       "      <td>5.931217e+03</td>\n",
       "      <td>5385.050600</td>\n",
       "      <td>4585.585700</td>\n",
       "      <td>4712.134300</td>\n",
       "      <td>5055.019400</td>\n",
       "      <td>0.219500</td>\n",
       "    </tr>\n",
       "    <tr>\n",
       "      <th>std</th>\n",
       "      <td>130118.668771</td>\n",
       "      <td>9.19536</td>\n",
       "      <td>74906.094564</td>\n",
       "      <td>71808.952137</td>\n",
       "      <td>69398.13263</td>\n",
       "      <td>65062.788893</td>\n",
       "      <td>61044.676044</td>\n",
       "      <td>59682.999879</td>\n",
       "      <td>14748.85889</td>\n",
       "      <td>2.204220e+04</td>\n",
       "      <td>18527.041096</td>\n",
       "      <td>14066.147593</td>\n",
       "      <td>14080.847065</td>\n",
       "      <td>17359.210922</td>\n",
       "      <td>0.413929</td>\n",
       "    </tr>\n",
       "    <tr>\n",
       "      <th>min</th>\n",
       "      <td>10000.000000</td>\n",
       "      <td>21.00000</td>\n",
       "      <td>-11545.000000</td>\n",
       "      <td>-24704.000000</td>\n",
       "      <td>-157264.00000</td>\n",
       "      <td>-65167.000000</td>\n",
       "      <td>-23003.000000</td>\n",
       "      <td>-339603.000000</td>\n",
       "      <td>0.00000</td>\n",
       "      <td>0.000000e+00</td>\n",
       "      <td>0.000000</td>\n",
       "      <td>0.000000</td>\n",
       "      <td>0.000000</td>\n",
       "      <td>0.000000</td>\n",
       "      <td>0.000000</td>\n",
       "    </tr>\n",
       "    <tr>\n",
       "      <th>25%</th>\n",
       "      <td>50000.000000</td>\n",
       "      <td>28.00000</td>\n",
       "      <td>3388.000000</td>\n",
       "      <td>3016.500000</td>\n",
       "      <td>2561.75000</td>\n",
       "      <td>2400.000000</td>\n",
       "      <td>1703.250000</td>\n",
       "      <td>1300.750000</td>\n",
       "      <td>1000.00000</td>\n",
       "      <td>7.492500e+02</td>\n",
       "      <td>390.000000</td>\n",
       "      <td>277.250000</td>\n",
       "      <td>300.000000</td>\n",
       "      <td>150.750000</td>\n",
       "      <td>0.000000</td>\n",
       "    </tr>\n",
       "    <tr>\n",
       "      <th>50%</th>\n",
       "      <td>140000.000000</td>\n",
       "      <td>34.00000</td>\n",
       "      <td>22896.500000</td>\n",
       "      <td>21576.000000</td>\n",
       "      <td>20370.50000</td>\n",
       "      <td>19194.000000</td>\n",
       "      <td>18261.000000</td>\n",
       "      <td>17338.000000</td>\n",
       "      <td>2163.50000</td>\n",
       "      <td>2.001000e+03</td>\n",
       "      <td>1800.000000</td>\n",
       "      <td>1500.000000</td>\n",
       "      <td>1543.000000</td>\n",
       "      <td>1500.000000</td>\n",
       "      <td>0.000000</td>\n",
       "    </tr>\n",
       "    <tr>\n",
       "      <th>75%</th>\n",
       "      <td>240000.000000</td>\n",
       "      <td>41.00000</td>\n",
       "      <td>67834.750000</td>\n",
       "      <td>64243.500000</td>\n",
       "      <td>60783.25000</td>\n",
       "      <td>55731.250000</td>\n",
       "      <td>50491.000000</td>\n",
       "      <td>49696.000000</td>\n",
       "      <td>5001.00000</td>\n",
       "      <td>5.000000e+03</td>\n",
       "      <td>4651.500000</td>\n",
       "      <td>4014.250000</td>\n",
       "      <td>4100.000000</td>\n",
       "      <td>4000.000000</td>\n",
       "      <td>0.000000</td>\n",
       "    </tr>\n",
       "    <tr>\n",
       "      <th>max</th>\n",
       "      <td>1000000.000000</td>\n",
       "      <td>75.00000</td>\n",
       "      <td>964511.000000</td>\n",
       "      <td>983931.000000</td>\n",
       "      <td>689643.00000</td>\n",
       "      <td>891586.000000</td>\n",
       "      <td>927171.000000</td>\n",
       "      <td>961664.000000</td>\n",
       "      <td>493358.00000</td>\n",
       "      <td>1.227082e+06</td>\n",
       "      <td>896040.000000</td>\n",
       "      <td>432130.000000</td>\n",
       "      <td>417990.000000</td>\n",
       "      <td>422000.000000</td>\n",
       "      <td>1.000000</td>\n",
       "    </tr>\n",
       "  </tbody>\n",
       "</table>\n",
       "</div>"
      ],
      "text/plain": [
       "            LIMIT_BAL          AGE      BILL_AMT1      BILL_AMT2  \\\n",
       "count    10000.000000  10000.00000   10000.000000   10000.000000   \n",
       "mean    168182.000000     35.39600   51490.560500   49298.972000   \n",
       "std     130118.668771      9.19536   74906.094564   71808.952137   \n",
       "min      10000.000000     21.00000  -11545.000000  -24704.000000   \n",
       "25%      50000.000000     28.00000    3388.000000    3016.500000   \n",
       "50%     140000.000000     34.00000   22896.500000   21576.000000   \n",
       "75%     240000.000000     41.00000   67834.750000   64243.500000   \n",
       "max    1000000.000000     75.00000  964511.000000  983931.000000   \n",
       "\n",
       "          BILL_AMT3      BILL_AMT4      BILL_AMT5      BILL_AMT6  \\\n",
       "count   10000.00000   10000.000000   10000.000000   10000.000000   \n",
       "mean    47292.40850   43605.665800   40347.829700   38996.784300   \n",
       "std     69398.13263   65062.788893   61044.676044   59682.999879   \n",
       "min   -157264.00000  -65167.000000  -23003.000000 -339603.000000   \n",
       "25%      2561.75000    2400.000000    1703.250000    1300.750000   \n",
       "50%     20370.50000   19194.000000   18261.000000   17338.000000   \n",
       "75%     60783.25000   55731.250000   50491.000000   49696.000000   \n",
       "max    689643.00000  891586.000000  927171.000000  961664.000000   \n",
       "\n",
       "           PAY_AMT1      PAY_AMT2       PAY_AMT3       PAY_AMT4  \\\n",
       "count   10000.00000  1.000000e+04   10000.000000   10000.000000   \n",
       "mean     5511.82970  5.931217e+03    5385.050600    4585.585700   \n",
       "std     14748.85889  2.204220e+04   18527.041096   14066.147593   \n",
       "min         0.00000  0.000000e+00       0.000000       0.000000   \n",
       "25%      1000.00000  7.492500e+02     390.000000     277.250000   \n",
       "50%      2163.50000  2.001000e+03    1800.000000    1500.000000   \n",
       "75%      5001.00000  5.000000e+03    4651.500000    4014.250000   \n",
       "max    493358.00000  1.227082e+06  896040.000000  432130.000000   \n",
       "\n",
       "            PAY_AMT5       PAY_AMT6  NEXT_MONTH_DEFAULT  \n",
       "count   10000.000000   10000.000000        10000.000000  \n",
       "mean     4712.134300    5055.019400            0.219500  \n",
       "std     14080.847065   17359.210922            0.413929  \n",
       "min         0.000000       0.000000            0.000000  \n",
       "25%       300.000000     150.750000            0.000000  \n",
       "50%      1543.000000    1500.000000            0.000000  \n",
       "75%      4100.000000    4000.000000            0.000000  \n",
       "max    417990.000000  422000.000000            1.000000  "
      ]
     },
     "execution_count": 9,
     "metadata": {},
     "output_type": "execute_result"
    }
   ],
   "source": [
    "df.describe()"
   ]
  },
  {
   "cell_type": "markdown",
   "metadata": {},
   "source": [
    "**Обзор номинативных признаков**"
   ]
  },
  {
   "cell_type": "code",
   "execution_count": 10,
   "metadata": {},
   "outputs": [
    {
     "name": "stdout",
     "output_type": "stream",
     "text": [
      "SEX\n",
      "\n",
      "2    6068\n",
      "1    3932\n",
      "Name: SEX, dtype: int64\n",
      "****************************************************************************************************\n",
      "\n",
      "EDUCATION\n",
      "\n",
      "2    4678\n",
      "1    3496\n",
      "3    1674\n",
      "5      90\n",
      "4      42\n",
      "6      18\n",
      "0       2\n",
      "Name: EDUCATION, dtype: int64\n",
      "****************************************************************************************************\n",
      "\n",
      "MARRIAGE\n",
      "\n",
      "2    5332\n",
      "1    4547\n",
      "3     108\n",
      "0      13\n",
      "Name: MARRIAGE, dtype: int64\n",
      "****************************************************************************************************\n",
      "\n",
      "PAY_1\n",
      "\n",
      "0     4895\n",
      "-1    2852\n",
      "1     1217\n",
      "2      881\n",
      "3      155\n",
      "Name: PAY_1, dtype: int64\n",
      "****************************************************************************************************\n",
      "\n",
      "PAY_2\n",
      "\n",
      "0     5178\n",
      "-1    3318\n",
      "2     1318\n",
      "3      175\n",
      "1       11\n",
      "Name: PAY_2, dtype: int64\n",
      "****************************************************************************************************\n",
      "\n",
      "PAY_3\n",
      "\n",
      "0     5200\n",
      "-1    3379\n",
      "2     1288\n",
      "3      131\n",
      "1        2\n",
      "Name: PAY_3, dtype: int64\n",
      "****************************************************************************************************\n",
      "\n",
      "PAY_4\n",
      "\n",
      "0     5459\n",
      "-1    3360\n",
      "2     1064\n",
      "3      117\n",
      "Name: PAY_4, dtype: int64\n",
      "****************************************************************************************************\n",
      "\n",
      "PAY_5\n",
      "\n",
      "0     5601\n",
      "-1    3398\n",
      "2      894\n",
      "3      107\n",
      "Name: PAY_5, dtype: int64\n",
      "****************************************************************************************************\n",
      "\n",
      "PAY_6\n",
      "\n",
      "0     5394\n",
      "-1    3585\n",
      "2      927\n",
      "3       94\n",
      "Name: PAY_6, dtype: int64\n",
      "****************************************************************************************************\n",
      "\n"
     ]
    }
   ],
   "source": [
    "for cat_colname in df.select_dtypes(include='object').columns:\n",
    "    print(str(cat_colname) + '\\n\\n' + str(df[cat_colname].value_counts()) + '\\n' + '*' * 100 + '\\n')"
   ]
  },
  {
   "cell_type": "markdown",
   "metadata": {},
   "source": [
    "### Обработка пропусков<a class=\"anchor\" id=\"gaps\"></a>"
   ]
  },
  {
   "cell_type": "code",
   "execution_count": 11,
   "metadata": {},
   "outputs": [
    {
     "data": {
      "text/plain": [
       "LIMIT_BAL             0\n",
       "SEX                   0\n",
       "EDUCATION             0\n",
       "MARRIAGE              0\n",
       "AGE                   0\n",
       "PAY_1                 0\n",
       "PAY_2                 0\n",
       "PAY_3                 0\n",
       "PAY_4                 0\n",
       "PAY_5                 0\n",
       "PAY_6                 0\n",
       "BILL_AMT1             0\n",
       "BILL_AMT2             0\n",
       "BILL_AMT3             0\n",
       "BILL_AMT4             0\n",
       "BILL_AMT5             0\n",
       "BILL_AMT6             0\n",
       "PAY_AMT1              0\n",
       "PAY_AMT2              0\n",
       "PAY_AMT3              0\n",
       "PAY_AMT4              0\n",
       "PAY_AMT5              0\n",
       "PAY_AMT6              0\n",
       "NEXT_MONTH_DEFAULT    0\n",
       "dtype: int64"
      ]
     },
     "execution_count": 11,
     "metadata": {},
     "output_type": "execute_result"
    }
   ],
   "source": [
    "len(df) - df.count()"
   ]
  },
  {
   "cell_type": "markdown",
   "metadata": {},
   "source": [
    "### Обработка выбросов<a class=\"anchor\" id=\"outliers\"></a>"
   ]
  },
  {
   "cell_type": "markdown",
   "metadata": {},
   "source": [
    "**EDUCATION**"
   ]
  },
  {
   "cell_type": "code",
   "execution_count": 12,
   "metadata": {},
   "outputs": [
    {
     "data": {
      "text/plain": [
       "2    4678\n",
       "1    3496\n",
       "3    1674\n",
       "5      90\n",
       "4      42\n",
       "6      18\n",
       "0       2\n",
       "Name: EDUCATION, dtype: int64"
      ]
     },
     "execution_count": 12,
     "metadata": {},
     "output_type": "execute_result"
    }
   ],
   "source": [
    "df['EDUCATION'].value_counts()"
   ]
  },
  {
   "cell_type": "markdown",
   "metadata": {},
   "source": [
    "На основании описания считаем '0' за значение 'не известно' - соотвественно заполняем позицией '5'"
   ]
  },
  {
   "cell_type": "code",
   "execution_count": 13,
   "metadata": {},
   "outputs": [],
   "source": [
    "df.loc[df['EDUCATION'] == '0', 'EDUCATION'] = '5'"
   ]
  },
  {
   "cell_type": "code",
   "execution_count": 14,
   "metadata": {},
   "outputs": [
    {
     "data": {
      "text/plain": [
       "2    4678\n",
       "1    3496\n",
       "3    1674\n",
       "5      92\n",
       "4      42\n",
       "6      18\n",
       "Name: EDUCATION, dtype: int64"
      ]
     },
     "execution_count": 14,
     "metadata": {},
     "output_type": "execute_result"
    }
   ],
   "source": [
    "df['EDUCATION'].value_counts()"
   ]
  },
  {
   "cell_type": "markdown",
   "metadata": {},
   "source": [
    "**MARRIAGE**"
   ]
  },
  {
   "cell_type": "code",
   "execution_count": 15,
   "metadata": {},
   "outputs": [
    {
     "data": {
      "text/plain": [
       "2    5332\n",
       "1    4547\n",
       "3     108\n",
       "0      13\n",
       "Name: MARRIAGE, dtype: int64"
      ]
     },
     "execution_count": 15,
     "metadata": {},
     "output_type": "execute_result"
    }
   ],
   "source": [
    "df['MARRIAGE'].value_counts()"
   ]
  },
  {
   "cell_type": "markdown",
   "metadata": {},
   "source": [
    "Значение '0' не определено, заполняем модой"
   ]
  },
  {
   "cell_type": "code",
   "execution_count": 16,
   "metadata": {},
   "outputs": [],
   "source": [
    "df.loc[df['MARRIAGE'] == '0', 'MARRIAGE'] = df['MARRIAGE'].mode()[0]"
   ]
  },
  {
   "cell_type": "code",
   "execution_count": 17,
   "metadata": {},
   "outputs": [
    {
     "data": {
      "text/plain": [
       "2    5345\n",
       "1    4547\n",
       "3     108\n",
       "Name: MARRIAGE, dtype: int64"
      ]
     },
     "execution_count": 17,
     "metadata": {},
     "output_type": "execute_result"
    }
   ],
   "source": [
    "df['MARRIAGE'].value_counts()"
   ]
  },
  {
   "cell_type": "markdown",
   "metadata": {},
   "source": [
    "### Построение новых признаков<a class=\"anchor\" id=\"new_features\"></a>"
   ]
  },
  {
   "cell_type": "markdown",
   "metadata": {},
   "source": [
    "**Id**"
   ]
  },
  {
   "cell_type": "code",
   "execution_count": 18,
   "metadata": {},
   "outputs": [],
   "source": [
    "df['ID'] = df.index.tolist()"
   ]
  },
  {
   "cell_type": "markdown",
   "metadata": {},
   "source": [
    "**Dummies**"
   ]
  },
  {
   "cell_type": "code",
   "execution_count": 19,
   "metadata": {},
   "outputs": [],
   "source": [
    "df['IS_MALE'] = df['SEX'].map({'1':'1', '2':'0'}).astype(int)"
   ]
  },
  {
   "cell_type": "code",
   "execution_count": 20,
   "metadata": {},
   "outputs": [],
   "source": [
    "for cat_colname in df.select_dtypes(include='object').columns[1:]:\n",
    "    df = pd.concat([df, pd.get_dummies(df[cat_colname], prefix=cat_colname)], axis=1)"
   ]
  },
  {
   "cell_type": "code",
   "execution_count": 21,
   "metadata": {},
   "outputs": [
    {
     "name": "stdout",
     "output_type": "stream",
     "text": [
      "<class 'pandas.core.frame.DataFrame'>\n",
      "RangeIndex: 10000 entries, 0 to 9999\n",
      "Data columns (total 62 columns):\n",
      " #   Column              Non-Null Count  Dtype  \n",
      "---  ------              --------------  -----  \n",
      " 0   LIMIT_BAL           10000 non-null  float64\n",
      " 1   SEX                 10000 non-null  object \n",
      " 2   EDUCATION           10000 non-null  object \n",
      " 3   MARRIAGE            10000 non-null  object \n",
      " 4   AGE                 10000 non-null  int64  \n",
      " 5   PAY_1               10000 non-null  object \n",
      " 6   PAY_2               10000 non-null  object \n",
      " 7   PAY_3               10000 non-null  object \n",
      " 8   PAY_4               10000 non-null  object \n",
      " 9   PAY_5               10000 non-null  object \n",
      " 10  PAY_6               10000 non-null  object \n",
      " 11  BILL_AMT1           10000 non-null  float64\n",
      " 12  BILL_AMT2           10000 non-null  float64\n",
      " 13  BILL_AMT3           10000 non-null  float64\n",
      " 14  BILL_AMT4           10000 non-null  float64\n",
      " 15  BILL_AMT5           10000 non-null  float64\n",
      " 16  BILL_AMT6           10000 non-null  float64\n",
      " 17  PAY_AMT1            10000 non-null  float64\n",
      " 18  PAY_AMT2            10000 non-null  float64\n",
      " 19  PAY_AMT3            10000 non-null  float64\n",
      " 20  PAY_AMT4            10000 non-null  float64\n",
      " 21  PAY_AMT5            10000 non-null  float64\n",
      " 22  PAY_AMT6            10000 non-null  float64\n",
      " 23  NEXT_MONTH_DEFAULT  10000 non-null  int64  \n",
      " 24  ID                  10000 non-null  int64  \n",
      " 25  IS_MALE             10000 non-null  int64  \n",
      " 26  EDUCATION_1         10000 non-null  uint8  \n",
      " 27  EDUCATION_2         10000 non-null  uint8  \n",
      " 28  EDUCATION_3         10000 non-null  uint8  \n",
      " 29  EDUCATION_4         10000 non-null  uint8  \n",
      " 30  EDUCATION_5         10000 non-null  uint8  \n",
      " 31  EDUCATION_6         10000 non-null  uint8  \n",
      " 32  MARRIAGE_1          10000 non-null  uint8  \n",
      " 33  MARRIAGE_2          10000 non-null  uint8  \n",
      " 34  MARRIAGE_3          10000 non-null  uint8  \n",
      " 35  PAY_1_-1            10000 non-null  uint8  \n",
      " 36  PAY_1_0             10000 non-null  uint8  \n",
      " 37  PAY_1_1             10000 non-null  uint8  \n",
      " 38  PAY_1_2             10000 non-null  uint8  \n",
      " 39  PAY_1_3             10000 non-null  uint8  \n",
      " 40  PAY_2_-1            10000 non-null  uint8  \n",
      " 41  PAY_2_0             10000 non-null  uint8  \n",
      " 42  PAY_2_1             10000 non-null  uint8  \n",
      " 43  PAY_2_2             10000 non-null  uint8  \n",
      " 44  PAY_2_3             10000 non-null  uint8  \n",
      " 45  PAY_3_-1            10000 non-null  uint8  \n",
      " 46  PAY_3_0             10000 non-null  uint8  \n",
      " 47  PAY_3_1             10000 non-null  uint8  \n",
      " 48  PAY_3_2             10000 non-null  uint8  \n",
      " 49  PAY_3_3             10000 non-null  uint8  \n",
      " 50  PAY_4_-1            10000 non-null  uint8  \n",
      " 51  PAY_4_0             10000 non-null  uint8  \n",
      " 52  PAY_4_2             10000 non-null  uint8  \n",
      " 53  PAY_4_3             10000 non-null  uint8  \n",
      " 54  PAY_5_-1            10000 non-null  uint8  \n",
      " 55  PAY_5_0             10000 non-null  uint8  \n",
      " 56  PAY_5_2             10000 non-null  uint8  \n",
      " 57  PAY_5_3             10000 non-null  uint8  \n",
      " 58  PAY_6_-1            10000 non-null  uint8  \n",
      " 59  PAY_6_0             10000 non-null  uint8  \n",
      " 60  PAY_6_2             10000 non-null  uint8  \n",
      " 61  PAY_6_3             10000 non-null  uint8  \n",
      "dtypes: float64(13), int64(4), object(9), uint8(36)\n",
      "memory usage: 2.3+ MB\n"
     ]
    }
   ],
   "source": [
    "df.info()"
   ]
  },
  {
   "cell_type": "markdown",
   "metadata": {},
   "source": [
    "### Сохранение обучающего датасета<a class=\"anchor\" id=\"saving\"></a>"
   ]
  },
  {
   "cell_type": "code",
   "execution_count": 22,
   "metadata": {},
   "outputs": [],
   "source": [
    "df.to_csv(PREP_DATASET_PATH, index=False, encoding='utf-8')"
   ]
  },
  {
   "cell_type": "markdown",
   "metadata": {},
   "source": [
    "## Статистическая обработка<a class=\"anchor\" id=\"stat_processing\"></a>"
   ]
  },
  {
   "cell_type": "code",
   "execution_count": 23,
   "metadata": {},
   "outputs": [],
   "source": [
    "df_base = pd.read_csv(DATASET_PATH)\n",
    "df = pd.read_csv(PREP_DATASET_PATH)"
   ]
  },
  {
   "cell_type": "markdown",
   "metadata": {},
   "source": [
    "**Выделение целевой переменной и групп признаков**"
   ]
  },
  {
   "cell_type": "code",
   "execution_count": 24,
   "metadata": {},
   "outputs": [],
   "source": [
    "TARGET_NAME = 'NEXT_MONTH_DEFAULT'\n",
    "BASE_FEATURE_NAMES = df_base.columns.drop(TARGET_NAME).tolist()\n",
    "NEW_FEATURE_NAMES = df.columns.drop([TARGET_NAME] + BASE_FEATURE_NAMES)"
   ]
  },
  {
   "cell_type": "markdown",
   "metadata": {},
   "source": [
    "### Анализ целевой переменной<a class=\"anchor\" id=\"target_analysis\"></a>"
   ]
  },
  {
   "cell_type": "markdown",
   "metadata": {},
   "source": [
    "**Обзор распределения**"
   ]
  },
  {
   "cell_type": "code",
   "execution_count": 25,
   "metadata": {},
   "outputs": [
    {
     "data": {
      "text/plain": [
       "0    7805\n",
       "1    2195\n",
       "Name: NEXT_MONTH_DEFAULT, dtype: int64"
      ]
     },
     "execution_count": 25,
     "metadata": {},
     "output_type": "execute_result"
    }
   ],
   "source": [
    "df[TARGET_NAME].value_counts()"
   ]
  },
  {
   "cell_type": "code",
   "execution_count": 26,
   "metadata": {},
   "outputs": [
    {
     "data": {
      "image/png": "[encoded data removed]",
      "text/plain": [
       "<Figure size 432x360 with 1 Axes>"
      ]
     },
     "metadata": {
      "needs_background": "light"
     },
     "output_type": "display_data"
    }
   ],
   "source": [
    "plt.figure(figsize=(6, 5))\n",
    "\n",
    "sns.countplot(x=TARGET_NAME, data=df)\n",
    "\n",
    "plt.title('Target variable distribution')\n",
    "plt.show()"
   ]
  },
  {
   "cell_type": "markdown",
   "metadata": {},
   "source": [
    "**Корреляция с базовыми признаками**"
   ]
  },
  {
   "cell_type": "code",
   "execution_count": 27,
   "metadata": {},
   "outputs": [
    {
     "data": {
      "image/png": "[encoded data removed]",
      "text/plain": [
       "<Figure size 720x576 with 1 Axes>"
      ]
     },
     "metadata": {
      "needs_background": "light"
     },
     "output_type": "display_data"
    }
   ],
   "source": [
    "corr_with_target = df[BASE_FEATURE_NAMES + [TARGET_NAME]].corr().iloc[:-1, -1].sort_values(ascending=False)\n",
    "\n",
    "plt.figure(figsize=(10, 8))\n",
    "\n",
    "sns.barplot(x=corr_with_target.values, y=corr_with_target.index)\n",
    "\n",
    "plt.title('Correlation with target variable')\n",
    "plt.show()"
   ]
  },
  {
   "cell_type": "markdown",
   "metadata": {},
   "source": [
    "**Оценка признака \"PAY_1\" в разрезе целевой переменной**"
   ]
  },
  {
   "cell_type": "code",
   "execution_count": 30,
   "metadata": {},
   "outputs": [
    {
     "data": {
      "image/png": "[encoded data removed]",
      "text/plain": [
       "<Figure size 720x576 with 1 Axes>"
      ]
     },
     "metadata": {
      "needs_background": "light"
     },
     "output_type": "display_data"
    }
   ],
   "source": [
    "plt.figure(figsize=(10, 8))\n",
    "\n",
    "sns.countplot(x='PAY_1', hue=TARGET_NAME, data=df)\n",
    "plt.title('PAY_1 grouped by target variable')\n",
    "plt.legend(title='Target', loc='upper right')\n",
    "\n",
    "plt.show()"
   ]
  },
  {
   "cell_type": "markdown",
   "metadata": {},
   "source": [
    "**Наблюдение**\n",
    "\n",
    "Изучив получившийся график, видно, что значения -1 (погашен полностью) и 0 (погашен частично) признака PAY_1 имеют схожие доли в разрезе целевой переменной. Если это действительно так, то можно будет, например, объединить их в одну категорию.\n",
    "\n",
    "**Гипотеза** \n",
    "\n",
    "* Нулевая гипотеза: ожидаемые и наблюдаемые частоты согласованы\n",
    "* Альтернативная гипотеза: отклонения в частотах выходят за рамки случайных колебаний, расхождения статистически значимы\n",
    "* Критерий: Хи-квадрат Пирсона\n",
    "* Уровень значимости $\\normalsize \\alpha$: 0.05\n",
    "* Критическая область: двухсторонняя\n",
    "\n",
    "Для проверки данной гипотезы необходимо подать наблюдаемые частоты пары категорий, например первая пара \\[-1, 0\\] признака PAY_1 в выбранный критерий, после чего оценить значение достигаемого уровня значимости p-value и сравнить с его с выбранным порогом альфа, если p-value получится больше выбранного порога, то гипотезу о согласованности частот можно не отбрасывать.\n",
    "\n",
    "Проверим нашу гипотезу используя критерий Хи-квадрат Пирсона\n",
    "\n",
    "Если p-value получилось больше выбранного уровня значимости = 0.05, соответственно у нас нет оснований для отвержения нулевой гипотезы и можно допустить, что пара категорий одинаково влияет на целевую переменную и их можно объединить в одну категорию."
   ]
  },
  {
   "cell_type": "code",
   "execution_count": 107,
   "metadata": {},
   "outputs": [
    {
     "data": {
      "image/png": "[encoded data removed]",
      "text/plain": [
       "<Figure size 432x2592 with 6 Axes>"
      ]
     },
     "metadata": {
      "needs_background": "light"
     },
     "output_type": "display_data"
    }
   ],
   "source": [
    "pays = ['PAY_1', 'PAY_2', 'PAY_3', 'PAY_4', 'PAY_5', 'PAY_6']\n",
    "fig, axs = plt.subplots(nrows=len(pays))\n",
    "s_x = 6\n",
    "fig.set_figheight(s_x*len(pays))\n",
    "fig.set_figwidth(s_x)\n",
    "for n, feature in enumerate(pays):\n",
    "    sns.countplot(x=feature, hue=TARGET_NAME, data=df, ax=axs[n])\n",
    "plt.show()"
   ]
  },
  {
   "cell_type": "code",
   "execution_count": 108,
   "metadata": {},
   "outputs": [
    {
     "name": "stdout",
     "output_type": "stream",
     "text": [
      "\u001b[1mPAY_1\u001b[0m\n",
      "Пара [-1  0], \tp-value: 0.2836, concate: True\n",
      "Пара [0 1], \tp-value: 0.0000, concate: False\n",
      "Пара [1 2], \tp-value: 0.0000, concate: False\n",
      "Пара [2 3], \tp-value: 0.4894, concate: True\n",
      "\u001b[1mPAY_2\u001b[0m\n",
      "Пара [-1  0], \tp-value: 0.8069, concate: True\n",
      "Пара [0 1], \tp-value: nan, concate: False\n",
      "Пара [1 2], \tp-value: 0.0186, concate: False\n",
      "Пара [2 3], \tp-value: 0.6772, concate: True\n",
      "\u001b[1mPAY_3\u001b[0m\n",
      "Пара [-1  0], \tp-value: 0.7826, concate: True\n",
      "Пара [0 1], \tp-value: nan, concate: False\n",
      "Пара [1 2], \tp-value: nan, concate: False\n",
      "Пара [2 3], \tp-value: 0.0106, concate: False\n",
      "\u001b[1mPAY_4\u001b[0m\n",
      "Пара [-1  0], \tp-value: 0.4341, concate: True\n",
      "Пара [0 2], \tp-value: 0.0000, concate: False\n",
      "Пара [2 3], \tp-value: 0.0084, concate: False\n",
      "\u001b[1mPAY_5\u001b[0m\n",
      "Пара [-1  0], \tp-value: 0.8669, concate: True\n",
      "Пара [0 2], \tp-value: 0.0000, concate: False\n",
      "Пара [2 3], \tp-value: 0.0584, concate: True\n",
      "\u001b[1mPAY_6\u001b[0m\n",
      "Пара [-1  0], \tp-value: 0.9443, concate: True\n",
      "Пара [0 2], \tp-value: 0.0000, concate: False\n",
      "Пара [2 3], \tp-value: 0.0047, concate: False\n"
     ]
    }
   ],
   "source": [
    "pays = ['PAY_1', 'PAY_2', 'PAY_3', 'PAY_4', 'PAY_5', 'PAY_6']\n",
    "for feature in pays:\n",
    "    print('\\033[1m' + feature + '\\033[0m')\n",
    "    for i in np.arange(0, len(df[feature].unique())-1):\n",
    "        pair = np.sort(df[feature].unique())[i:i+2]\n",
    "        pay1_i_and_target_s = df.loc[df[feature].isin(pair), ['ID', feature, 'NEXT_MONTH_DEFAULT']].sample(1000)\n",
    "        table = pay1_i_and_target_s.pivot_table(values='ID', index=feature, columns='NEXT_MONTH_DEFAULT', aggfunc='count')\n",
    "        chi2, p, dof, expected = chi2_contingency(table, correction=False)\n",
    "        print(f'Пара {pair}, \\tp-value: {p:2.4f}, concate: {p>0.05}')"
   ]
  },
  {
   "cell_type": "markdown",
   "metadata": {},
   "source": [
    "**Оценка признака \"LIMIT_BAL\" в разрезе целевой переменной**"
   ]
  },
  {
   "cell_type": "code",
   "execution_count": 110,
   "metadata": {},
   "outputs": [
    {
     "data": {
      "image/png": "[encoded data removed]",
      "text/plain": [
       "<Figure size 720x360 with 1 Axes>"
      ]
     },
     "metadata": {
      "needs_background": "light"
     },
     "output_type": "display_data"
    }
   ],
   "source": [
    "limit_bal_with_target_s = df[['LIMIT_BAL', TARGET_NAME]].sample(1000)\n",
    "limit_bal_s = limit_bal_with_target_s['LIMIT_BAL']\n",
    "limit_bal_target_0 = limit_bal_s[limit_bal_with_target_s[TARGET_NAME] == 0]\n",
    "limit_bal_target_1 = limit_bal_s[limit_bal_with_target_s[TARGET_NAME] == 1]\n",
    "\n",
    "plt.figure(figsize=(10, 5))\n",
    "\n",
    "sns.kdeplot(limit_bal_target_0, shade=True, label='No default', color='g')\n",
    "sns.kdeplot(limit_bal_target_1, shade=True, label='Default', color='r')\n",
    "\n",
    "plt.xlabel('LIMIT_BAL')\n",
    "plt.title('LIMIT_BAL grouped by target variable')\n",
    "plt.show()"
   ]
  },
  {
   "cell_type": "markdown",
   "metadata": {},
   "source": [
    "**Наблюдение**\n",
    "\n",
    "Похоже что две группы, полученные в результате разбиения признака \"LIMIT_BAL\" по целевой переменной, имеют различные распределения, что может помочь при построение модели, т.к. это будет означать, что между признаком \"LIMIT_BAL\" и целевой переменной, возможно, существует некоторая функциональная зависимость.\n",
    "\n",
    "**Гипотеза** \n",
    "* Нулевая гипотеза: средние значения в двух независимых выборках равны\n",
    "* Альтернативная гипотеза: средние значения в двух независимых выборках различаются\n",
    "* Критерий: критерий Стьюдента (t-тест) и его аналоги\n",
    "* Уровень значимости $\\normalsize \\alpha$: 0.05\n",
    "* Критическая область: двухсторонняя\n",
    "\n",
    "Что бы проверить данную гипотезу сравним две выборки из рассматриваемых групп на предмет равенства средних значений.\n",
    "Если вероятность того, что мат. ожидания в исходных группах равны, при данных выборках, буде менее 5%, то можно будет говорить о том, что скорее всего выборки имеют различные распределения."
   ]
  },
  {
   "cell_type": "markdown",
   "metadata": {},
   "source": [
    "**Проверка распределения признака на \"нормальность\" с помощью критерия Шапиро-Уилка**"
   ]
  },
  {
   "cell_type": "code",
   "execution_count": 116,
   "metadata": {},
   "outputs": [
    {
     "name": "stdout",
     "output_type": "stream",
     "text": [
      "p-value: 0.0000 \n",
      "распределение нормальное: False\n"
     ]
    }
   ],
   "source": [
    "p_val = shapiro(limit_bal_s)[1]\n",
    "print(f'p-value: {p_val:3.4f} \\nраспределение нормальное: {p_val > 0.05}')"
   ]
  },
  {
   "cell_type": "markdown",
   "metadata": {},
   "source": [
    "Ввиду того, что закон распределения отличный от \"нормального\", в связи с чем, мы не сможем воспользоваться критерием Стьюдента для проверки гипотезы о равности мат. ожиданий признака LIMIT_BAL в группах с просроченным и непросроченным платежом в следующем месяце, но мы сможем воспользоваться его непараметрическим аналогом - критерием Манна-Уитни, который не требователен к закону распределения."
   ]
  },
  {
   "cell_type": "code",
   "execution_count": 117,
   "metadata": {},
   "outputs": [
    {
     "data": {
      "text/plain": [
       "MannwhitneyuResult(statistic=68854.0, pvalue=2.6632817507569007e-06)"
      ]
     },
     "execution_count": 117,
     "metadata": {},
     "output_type": "execute_result"
    }
   ],
   "source": [
    "mannwhitneyu(limit_bal_target_0, limit_bal_target_1)"
   ]
  },
  {
   "cell_type": "markdown",
   "metadata": {},
   "source": [
    "Согласно значению p-value, гипотеза о равности мат. ожиданий отвергается, но стоит ради дополнительной проверки обратиться к доверительным интервалам."
   ]
  },
  {
   "cell_type": "code",
   "execution_count": 118,
   "metadata": {},
   "outputs": [
    {
     "data": {
      "image/png": "[encoded data removed]",
      "text/plain": [
       "<Figure size 576x360 with 1 Axes>"
      ]
     },
     "metadata": {
      "needs_background": "light"
     },
     "output_type": "display_data"
    }
   ],
   "source": [
    "plt.figure(figsize=(8, 5))\n",
    "\n",
    "sns.pointplot(x=TARGET_NAME, y='LIMIT_BAL', data=limit_bal_with_target_s, capsize=.1)\n",
    "\n",
    "plt.title('Confidence intervals (95 %) for LIMIT_BAL')\n",
    "plt.show()"
   ]
  },
  {
   "cell_type": "markdown",
   "metadata": {},
   "source": [
    "**Оценка признака \"PAY_AMT1\" в разрезе целевой переменной**"
   ]
  },
  {
   "cell_type": "code",
   "execution_count": 211,
   "metadata": {},
   "outputs": [
    {
     "data": {
      "image/png": "[encoded data removed]",
      "text/plain": [
       "<Figure size 720x360 with 1 Axes>"
      ]
     },
     "metadata": {
      "needs_background": "light"
     },
     "output_type": "display_data"
    }
   ],
   "source": [
    "PAY_AMT='PAY_AMT1'\n",
    "\n",
    "# PAY_AMT_with_target_s = df[[PAY_AMT, TARGET_NAME]].sample(1000)\n",
    "PAY_AMT_with_target_s = df[[PAY_AMT, TARGET_NAME]]\n",
    "PAY_AMT_s = PAY_AMT_with_target_s[PAY_AMT]\n",
    "PAY_AMT_0 = PAY_AMT_s[PAY_AMT_with_target_s[TARGET_NAME] == 0]\n",
    "PAY_AMT_1 = PAY_AMT_s[PAY_AMT_with_target_s[TARGET_NAME] == 1]\n",
    "plt.figure(figsize=(10, 5))\n",
    "\n",
    "sns.kdeplot(PAY_AMT_0, shade=True, label='No default', color='g')\n",
    "sns.kdeplot(PAY_AMT_1, shade=True, label='Default', color='r')\n",
    "\n",
    "plt.xlabel('PAY_AMT1')\n",
    "plt.title('PAY_AMT1 grouped by target variable')\n",
    "plt.xlim(-3e3, 2e4)\n",
    "plt.show()"
   ]
  },
  {
   "cell_type": "code",
   "execution_count": 213,
   "metadata": {},
   "outputs": [
    {
     "data": {
      "image/png": "[encoded data removed]",
      "text/plain": [
       "<Figure size 576x360 with 1 Axes>"
      ]
     },
     "metadata": {
      "needs_background": "light"
     },
     "output_type": "display_data"
    }
   ],
   "source": [
    "plt.figure(figsize=(8, 5))\n",
    "\n",
    "sns.pointplot(x=TARGET_NAME, y='PAY_AMT1', data=PAY_AMT_with_target_s, capsize=.1)\n",
    "\n",
    "plt.title('Confidence intervals (95 %) for PAY_AMT1')\n",
    "plt.show()"
   ]
  },
  {
   "cell_type": "code",
   "execution_count": 200,
   "metadata": {},
   "outputs": [
    {
     "data": {
      "text/plain": [
       "MannwhitneyuResult(statistic=6601793.0, pvalue=2.3900778322520622e-61)"
      ]
     },
     "execution_count": 200,
     "metadata": {},
     "output_type": "execute_result"
    }
   ],
   "source": [
    "mannwhitneyu(PAY_AMT_0, PAY_AMT_1)"
   ]
  },
  {
   "cell_type": "markdown",
   "metadata": {},
   "source": [
    "**Оценка признака \"PAY_AMT2\" в разрезе целевой переменной**"
   ]
  },
  {
   "cell_type": "code",
   "execution_count": 217,
   "metadata": {
    "scrolled": true
   },
   "outputs": [
    {
     "data": {
      "image/png": "[encoded data removed]",
      "text/plain": [
       "<Figure size 720x360 with 1 Axes>"
      ]
     },
     "metadata": {
      "needs_background": "light"
     },
     "output_type": "display_data"
    }
   ],
   "source": [
    "PAY_AMT='PAY_AMT2'\n",
    "\n",
    "# PAY_AMT_with_target_s = df[[PAY_AMT, TARGET_NAME]].sample(1000)\n",
    "PAY_AMT_with_target_s = df[[PAY_AMT, TARGET_NAME]]\n",
    "PAY_AMT_s = PAY_AMT_with_target_s[PAY_AMT]\n",
    "PAY_AMT_0 = PAY_AMT_s[PAY_AMT_with_target_s[TARGET_NAME] == 0]\n",
    "PAY_AMT_1 = PAY_AMT_s[PAY_AMT_with_target_s[TARGET_NAME] == 1]\n",
    "plt.figure(figsize=(10, 5))\n",
    "\n",
    "sns.kdeplot(PAY_AMT_0, shade=True, label='No default')\n",
    "sns.kdeplot(PAY_AMT_1, shade=True, label='Default')\n",
    "\n",
    "plt.xlabel(PAY_AMT)\n",
    "plt.title(PAY_AMT + ' grouped by target variable')\n",
    "plt.xlim(-3e3, 5e4)\n",
    "plt.show()"
   ]
  },
  {
   "cell_type": "code",
   "execution_count": 215,
   "metadata": {},
   "outputs": [
    {
     "data": {
      "image/png": "[encoded data removed]",
      "text/plain": [
       "<Figure size 576x360 with 1 Axes>"
      ]
     },
     "metadata": {
      "needs_background": "light"
     },
     "output_type": "display_data"
    }
   ],
   "source": [
    "plt.figure(figsize=(8, 5))\n",
    "\n",
    "sns.pointplot(x=TARGET_NAME, y=PAY_AMT, data=PAY_AMT_with_target_s, capsize=.1)\n",
    "\n",
    "plt.title('Confidence intervals (95 %) for ' + PAY_AMT)\n",
    "plt.show()"
   ]
  },
  {
   "cell_type": "code",
   "execution_count": 218,
   "metadata": {},
   "outputs": [
    {
     "data": {
      "text/plain": [
       "MannwhitneyuResult(statistic=6676723.5, pvalue=5.74838811250637e-57)"
      ]
     },
     "execution_count": 218,
     "metadata": {},
     "output_type": "execute_result"
    }
   ],
   "source": [
    "mannwhitneyu(PAY_AMT_0, PAY_AMT_1)"
   ]
  },
  {
   "cell_type": "markdown",
   "metadata": {},
   "source": [
    "**Оценка признака \"PAY_AMT3\" в разрезе целевой переменной**"
   ]
  },
  {
   "cell_type": "code",
   "execution_count": 219,
   "metadata": {},
   "outputs": [
    {
     "data": {
      "image/png": "[encoded data removed]",
      "text/plain": [
       "<Figure size 720x360 with 1 Axes>"
      ]
     },
     "metadata": {
      "needs_background": "light"
     },
     "output_type": "display_data"
    }
   ],
   "source": [
    "PAY_AMT='PAY_AMT3'\n",
    "\n",
    "PAY_AMT_with_target_s = df[[PAY_AMT, TARGET_NAME]]\n",
    "PAY_AMT_s = PAY_AMT_with_target_s[PAY_AMT]\n",
    "PAY_AMT_0 = PAY_AMT_s[PAY_AMT_with_target_s[TARGET_NAME] == 0]\n",
    "PAY_AMT_1 = PAY_AMT_s[PAY_AMT_with_target_s[TARGET_NAME] == 1]\n",
    "plt.figure(figsize=(10, 5))\n",
    "\n",
    "sns.kdeplot(PAY_AMT_0, shade=True, label='No default')\n",
    "sns.kdeplot(PAY_AMT_1, shade=True, label='Default')\n",
    "\n",
    "plt.xlabel(PAY_AMT)\n",
    "plt.title(PAY_AMT + ' grouped by target variable')\n",
    "plt.xlim(-3e3, 2e4)\n",
    "plt.show()"
   ]
  },
  {
   "cell_type": "code",
   "execution_count": 220,
   "metadata": {},
   "outputs": [
    {
     "data": {
      "image/png": "[encoded data removed]",
      "text/plain": [
       "<Figure size 576x360 with 1 Axes>"
      ]
     },
     "metadata": {
      "needs_background": "light"
     },
     "output_type": "display_data"
    }
   ],
   "source": [
    "plt.figure(figsize=(8, 5))\n",
    "\n",
    "sns.pointplot(x=TARGET_NAME, y=PAY_AMT, data=PAY_AMT_with_target_s, capsize=.1)\n",
    "\n",
    "plt.title('Confidence intervals (95 %) for ' + PAY_AMT)\n",
    "plt.show()"
   ]
  },
  {
   "cell_type": "code",
   "execution_count": 221,
   "metadata": {},
   "outputs": [
    {
     "data": {
      "text/plain": [
       "MannwhitneyuResult(statistic=6851777.0, pvalue=2.3377123868780393e-47)"
      ]
     },
     "execution_count": 221,
     "metadata": {},
     "output_type": "execute_result"
    }
   ],
   "source": [
    "mannwhitneyu(PAY_AMT_0, PAY_AMT_1)"
   ]
  },
  {
   "cell_type": "code",
   "execution_count": null,
   "metadata": {},
   "outputs": [],
   "source": []
  }
 ],
 "metadata": {
  "kernelspec": {
   "display_name": "Python 3",
   "language": "python",
   "name": "python3"
  },
  "language_info": {
   "codemirror_mode": {
    "name": "ipython",
    "version": 3
   },
   "file_extension": ".py",
   "mimetype": "text/x-python",
   "name": "python",
   "nbconvert_exporter": "python",
   "pygments_lexer": "ipython3",
   "version": "3.7.7"
  }
 },
 "nbformat": 4,
 "nbformat_minor": 4
}
