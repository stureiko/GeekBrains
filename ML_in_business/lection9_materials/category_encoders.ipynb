{
  "nbformat": 4,
  "nbformat_minor": 0,
  "metadata": {
    "colab": {
      "name": "category_encoders.ipynb",
      "provenance": [],
      "collapsed_sections": []
    },
    "kernelspec": {
      "name": "python3",
      "display_name": "Python 3"
    },
    "language_info": {
      "name": "python"
    }
  },
  "cells": [
    {
      "cell_type": "code",
      "metadata": {
        "colab": {
          "base_uri": "https://localhost:8080/"
        },
        "id": "XL6H78koIOqb",
        "outputId": "8c7da8aa-8d89-4835-95dc-352e0d00b5b8"
      },
      "source": [
        "!pip install category_encoders"
      ],
      "execution_count": null,
      "outputs": [
        {
          "output_type": "stream",
          "name": "stdout",
          "text": [
            "Collecting category_encoders\n",
            "  Downloading category_encoders-2.2.2-py2.py3-none-any.whl (80 kB)\n",
            "\u001b[?25l\r\u001b[K     |████                            | 10 kB 28.3 MB/s eta 0:00:01\r\u001b[K     |████████▏                       | 20 kB 34.4 MB/s eta 0:00:01\r\u001b[K     |████████████▏                   | 30 kB 30.5 MB/s eta 0:00:01\r\u001b[K     |████████████████▎               | 40 kB 19.7 MB/s eta 0:00:01\r\u001b[K     |████████████████████▎           | 51 kB 15.3 MB/s eta 0:00:01\r\u001b[K     |████████████████████████▍       | 61 kB 12.5 MB/s eta 0:00:01\r\u001b[K     |████████████████████████████▍   | 71 kB 13.8 MB/s eta 0:00:01\r\u001b[K     |████████████████████████████████| 80 kB 5.4 MB/s \n",
            "\u001b[?25hRequirement already satisfied: scipy>=1.0.0 in /usr/local/lib/python3.7/dist-packages (from category_encoders) (1.4.1)\n",
            "Requirement already satisfied: numpy>=1.14.0 in /usr/local/lib/python3.7/dist-packages (from category_encoders) (1.19.5)\n",
            "Requirement already satisfied: pandas>=0.21.1 in /usr/local/lib/python3.7/dist-packages (from category_encoders) (1.1.5)\n",
            "Requirement already satisfied: statsmodels>=0.9.0 in /usr/local/lib/python3.7/dist-packages (from category_encoders) (0.10.2)\n",
            "Requirement already satisfied: patsy>=0.5.1 in /usr/local/lib/python3.7/dist-packages (from category_encoders) (0.5.1)\n",
            "Requirement already satisfied: scikit-learn>=0.20.0 in /usr/local/lib/python3.7/dist-packages (from category_encoders) (0.22.2.post1)\n",
            "Requirement already satisfied: pytz>=2017.2 in /usr/local/lib/python3.7/dist-packages (from pandas>=0.21.1->category_encoders) (2018.9)\n",
            "Requirement already satisfied: python-dateutil>=2.7.3 in /usr/local/lib/python3.7/dist-packages (from pandas>=0.21.1->category_encoders) (2.8.2)\n",
            "Requirement already satisfied: six in /usr/local/lib/python3.7/dist-packages (from patsy>=0.5.1->category_encoders) (1.15.0)\n",
            "Requirement already satisfied: joblib>=0.11 in /usr/local/lib/python3.7/dist-packages (from scikit-learn>=0.20.0->category_encoders) (1.0.1)\n",
            "Installing collected packages: category-encoders\n",
            "Successfully installed category-encoders-2.2.2\n"
          ]
        }
      ]
    },
    {
      "cell_type": "markdown",
      "metadata": {
        "id": "Ya28rYEpSJ2U"
      },
      "source": [
        "Есть категориальная фича `Gender` посчитаем для каждого значения фичи их новые значени"
      ]
    },
    {
      "cell_type": "markdown",
      "metadata": {
        "id": "RJBeX5QDR1So"
      },
      "source": [
        "![9166757c2a8852ea944c694907028091.png](data:image/png;base64,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)"
      ]
    },
    {
      "cell_type": "markdown",
      "metadata": {
        "id": "4vl7qP3aS8aC"
      },
      "source": [
        "Какова вероятность того, что целевая переменная примет значение 1, если значение признака пол «Мужской» (Male) ?\n",
        "\n",
        "Посчитаем: 1/2 = 0,5\n",
        "\n",
        "Аналогичным образом, какова вероятность того, что Target будет 1, если пол «Женский» (Female) ?\n",
        "\n",
        "Посчитаем: 1/4 = 0,25.\n",
        "\n",
        "Аналогично считаем для (Other)\n",
        "\n",
        "Посчитаем: 2/3 = 0,67.\n"
      ]
    },
    {
      "cell_type": "markdown",
      "metadata": {
        "id": "pI9-GpZzUUM1"
      },
      "source": [
        "Теперь, если вы замените все значения «Female» на 0,25, вы рискуете так называемым переобучением. Это происходит потому, что общая вероятность единицы равна 4/9 = 0,4.\n",
        "\n",
        "Чтобы учесть этот факт, мы добавляем вес к этой «предварительной» информации, используя формулу\n",
        "\n",
        "![e7cbe3ab6edefb040ee9d712ab9f93cd.png](data:image/png;base64,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)\n",
        "\n",
        "k - это параметр min_sample_leaf, а f - параметр сглаживания.\n",
        "\n",
        "Установка min_sample_leaf, k = 1 и сглаживание, f = 1,\n",
        "\n",
        "У нас есть две строки со значением «Male», поэтому n = 2;\n",
        "\n"
      ]
    },
    {
      "cell_type": "code",
      "metadata": {
        "colab": {
          "base_uri": "https://localhost:8080/"
        },
        "id": "gus6487jIZcI",
        "outputId": "c45cbd8d-8b2d-4307-8016-7041108c5fce"
      },
      "source": [
        "import category_encoders as ce \n",
        "\n",
        "x=['Male','Male','Female','Female','Female','Female','Other','Other','Other']\n",
        "\n",
        "y=[1,0,0,0,0,1,1,1,0]\n",
        "\n",
        "print(ce.TargetEncoder().fit_transform(x, y))\n"
      ],
      "execution_count": null,
      "outputs": [
        {
          "output_type": "stream",
          "name": "stderr",
          "text": [
            "/usr/local/lib/python3.7/dist-packages/statsmodels/tools/_testing.py:19: FutureWarning: pandas.util.testing is deprecated. Use the functions in the public API at pandas.testing instead.\n",
            "  import pandas.util.testing as tm\n"
          ]
        },
        {
          "output_type": "stream",
          "name": "stdout",
          "text": [
            "          0\n",
            "0  0.485059\n",
            "1  0.485059\n",
            "2  0.259222\n",
            "3  0.259222\n",
            "4  0.259222\n",
            "5  0.259222\n",
            "6  0.640177\n",
            "7  0.640177\n",
            "8  0.640177\n"
          ]
        },
        {
          "output_type": "stream",
          "name": "stderr",
          "text": [
            "/usr/local/lib/python3.7/dist-packages/category_encoders/utils.py:21: FutureWarning: is_categorical is deprecated and will be removed in a future version.  Use is_categorical_dtype instead\n",
            "  elif pd.api.types.is_categorical(cols):\n"
          ]
        }
      ]
    },
    {
      "cell_type": "code",
      "metadata": {
        "id": "d8Sm-lLTXn68"
      },
      "source": [
        ""
      ],
      "execution_count": null,
      "outputs": []
    }
  ]
}