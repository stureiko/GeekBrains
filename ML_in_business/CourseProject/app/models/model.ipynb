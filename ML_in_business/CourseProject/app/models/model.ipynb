{
 "cells": [
  {
   "cell_type": "code",
   "execution_count": 1,
   "id": "d5f540d4",
   "metadata": {},
   "outputs": [
    {
     "name": "stderr",
     "output_type": "stream",
     "text": [
      "C:\\Users\\Admin\\anaconda3\\lib\\site-packages\\numpy\\_distributor_init.py:30: UserWarning: loaded more than 1 DLL from .libs:\n",
      "C:\\Users\\Admin\\anaconda3\\lib\\site-packages\\numpy\\.libs\\libopenblas.NOIJJG62EMASZI6NYURL6JBKM4EVBGM7.gfortran-win_amd64.dll\n",
      "C:\\Users\\Admin\\anaconda3\\lib\\site-packages\\numpy\\.libs\\libopenblas.WCDJNK7YVMPZQ2ME2ZZHJJRJ3JIKNDB7.gfortran-win_amd64.dll\n",
      "  warnings.warn(\"loaded more than 1 DLL from .libs:\"\n"
     ]
    }
   ],
   "source": [
    "# imports\n",
    "import warnings\n",
    "\n",
    "import pandas as pd\n",
    "import numpy as np\n",
    "import matplotlib.pyplot as plt\n",
    "import seaborn as sns\n",
    "from wordcloud import WordCloud, STOPWORDS\n",
    "\n",
    "# Специальные библиотеки\n",
    "from sklearn import ensemble\n",
    "from sklearn.model_selection import train_test_split, cross_val_score, \\\n",
    "    GridSearchCV, RandomizedSearchCV\n",
    "\n",
    "# Метрики\n",
    "from sklearn.metrics import precision_score, \\\n",
    "    accuracy_score, \\\n",
    "    f1_score, \\\n",
    "    roc_auc_score, \\\n",
    "    roc_curve, \\\n",
    "    auc, \\\n",
    "    confusion_matrix, \\\n",
    "    mean_squared_error, \\\n",
    "    r2_score\n",
    "\n",
    "import dill\n",
    "\n",
    "from sklearn.feature_extraction.text import TfidfVectorizer\n",
    "from sklearn.pipeline import Pipeline, make_pipeline\n",
    "from sklearn.base import BaseEstimator, TransformerMixin"
   ]
  },
  {
   "cell_type": "code",
   "execution_count": 2,
   "id": "4a1f0b1f",
   "metadata": {},
   "outputs": [
    {
     "name": "stdout",
     "output_type": "stream",
     "text": [
      "Dataset loaded\n",
      "Feature engineering complete\n"
     ]
    }
   ],
   "source": [
    "path = '../../dataset/'\n",
    "wine_150k = pd.read_csv(path + 'winemag-data_first150k.csv', index_col=0)\n",
    "wine_130k = pd.read_csv(path + 'winemag-data-130k-v2.csv', index_col=0)\n",
    "wine = pd.concat([wine_150k, wine_130k], axis=0)\n",
    "wine_full = pd.concat([wine_150k, wine_130k], axis=0)\n",
    "print('Dataset loaded')\n",
    "\n",
    "# feature engineering\n",
    "features = ['country', 'description', 'designation', 'points', 'price', 'province', 'region_1',\n",
    "            'variety', 'winery']\n",
    "\n",
    "wine = wine[features]\n",
    "\n",
    "cnt_idx = wine['country'].value_counts().to_frame()[:12].index\n",
    "wine = wine.loc[wine['country'].isin(list(cnt_idx))]\n",
    "\n",
    "wine = pd.concat([wine.drop('country', axis=1),\n",
    "                  pd.get_dummies(wine['country'], prefix='country')], axis=1)\n",
    "\n",
    "pr_idx = wine['province'].value_counts().to_frame()[:50].index\n",
    "wine = wine.loc[wine['province'].isin(list(pr_idx))]\n",
    "\n",
    "wine = pd.concat([wine.drop('province', axis=1),\n",
    "                  pd.get_dummies(wine['province'], prefix='province')], axis=1)\n",
    "\n",
    "print('Feature engineering complete')\n",
    "# model\n",
    "# Можно сделать 100 000, но на обучение уходит примерно 1 час\n",
    "wine_short = wine.head(10000)\n",
    "X_train, X_test, y_train, y_test = train_test_split(wine_short.drop('points', axis=1),\n",
    "                                                    wine_short['points'], test_size=0.33, random_state=42)\n"
   ]
  },
  {
   "cell_type": "code",
   "execution_count": 3,
   "id": "486f246b",
   "metadata": {},
   "outputs": [],
   "source": [
    "# load model\n",
    "with open('../../model_rand_for_reg.dill', 'rb') as in_strm:\n",
    "    classifier_load = dill.load(in_strm)\n",
    "    \n"
   ]
  },
  {
   "cell_type": "code",
   "execution_count": 4,
   "id": "2a123ca8",
   "metadata": {},
   "outputs": [
    {
     "name": "stdout",
     "output_type": "stream",
     "text": [
      "Start prediction\n",
      "[91.92 88.59 88.61 ... 85.9  86.92 91.24]\n"
     ]
    }
   ],
   "source": [
    "print('Start prediction')\n",
    "y_score = classifier_load.predict(X_test)\n",
    "print(y_score)"
   ]
  },
  {
   "cell_type": "code",
   "execution_count": 5,
   "id": "9a36e690",
   "metadata": {},
   "outputs": [],
   "source": [
    "request_line = {'description': 'This tremendous 100% varietal wine hails from Oakville and was aged over three years in oak. Juicy red-cherry fruit and a compelling hint of caramel greet the palate, framed by elegant, fine tannins and a subtle minty tone in the background. Balanced and rewarding from start to finish, it has years ahead of it to develop further nuance. Enjoy 2022–2030.',\n",
    "                 'designation': 'Carodorum Selección Especial Reserva',\n",
    "                 'price': 155, \n",
    "                 'region_1': 'Colchagua Valley', \n",
    "                 'variety': 'Nerello Mascalese', \n",
    "                 'winery': 'Bodega Carmen Rodríguez', \n",
    "                 'country': 'Italy', \n",
    "                 'province': 'Burgundy'}"
   ]
  },
  {
   "cell_type": "code",
   "execution_count": 6,
   "id": "baa9fb9b",
   "metadata": {
    "scrolled": true
   },
   "outputs": [],
   "source": [
    "# countries = wine_full['country'].value_counts().to_frame()[:12].index\n",
    "# pd.Series(countries.values).to_csv('countries.csv', index=False)\n",
    "\n",
    "countries = pd.read_csv('countries.csv')['0']\n",
    "\n",
    "# provinces = wine_full['province'].value_counts().to_frame()[:50].index\n",
    "# pd.Series(provinces.values).to_csv('provinces.csv', index=False)\n",
    "\n",
    "provinces = pd.read_csv('provinces.csv')['0']"
   ]
  },
  {
   "cell_type": "code",
   "execution_count": 7,
   "id": "682cd803",
   "metadata": {},
   "outputs": [],
   "source": [
    "def get_request(r_l):\n",
    "\n",
    "    r_df = pd.DataFrame(columns=['description', 'designation', 'price', 'region_1', 'variety', 'winery'])\n",
    "    r_df.loc[len(r_df)] = [r_l['description'], r_l['designation'], r_l['price'], r_l['region_1'], r_l['variety'], r_l['winery']]\n",
    "    for c_name in countries:\n",
    "        s = 'country_' + c_name\n",
    "        if r_l['country'] == c_name: r_df[s] = 1\n",
    "        else: r_df[s] = 0\n",
    "    \n",
    "    for p_name in provinces:\n",
    "        p = 'province_' + p_name\n",
    "        if r_l['province'] == p_name: r_df[p] = 1\n",
    "        else: r_df[p] = 0\n",
    "    \n",
    "    return r_df"
   ]
  },
  {
   "cell_type": "code",
   "execution_count": 8,
   "id": "1e9a63d4",
   "metadata": {},
   "outputs": [
    {
     "data": {
      "text/plain": [
       "array([91.75])"
      ]
     },
     "execution_count": 8,
     "metadata": {},
     "output_type": "execute_result"
    }
   ],
   "source": [
    "reqest_predict = classifier_load.predict(get_request(request_line))\n",
    "reqest_predict"
   ]
  },
  {
   "cell_type": "code",
   "execution_count": null,
   "id": "39b9b582",
   "metadata": {},
   "outputs": [],
   "source": []
  }
 ],
 "metadata": {
  "kernelspec": {
   "display_name": "Python 3 (ipykernel)",
   "language": "python",
   "name": "python3"
  },
  "language_info": {
   "codemirror_mode": {
    "name": "ipython",
    "version": 3
   },
   "file_extension": ".py",
   "mimetype": "text/x-python",
   "name": "python",
   "nbconvert_exporter": "python",
   "pygments_lexer": "ipython3",
   "version": "3.8.11"
  }
 },
 "nbformat": 4,
 "nbformat_minor": 5
}
