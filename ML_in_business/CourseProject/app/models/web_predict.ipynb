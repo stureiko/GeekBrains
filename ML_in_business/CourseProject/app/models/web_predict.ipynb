{
 "cells": [
  {
   "cell_type": "code",
   "execution_count": 1,
   "id": "71312fc0",
   "metadata": {},
   "outputs": [],
   "source": [
    "import urllib.request\n",
    "import json      "
   ]
  },
  {
   "cell_type": "code",
   "execution_count": 2,
   "id": "d6362ce8",
   "metadata": {},
   "outputs": [],
   "source": [
    "# def get_prediction(description, company_profile, benefits):\n",
    "#     body = {'description': description, \n",
    "#                             'company_profile': company_profile,\n",
    "#                             'benefits': benefits} \n",
    "\n",
    "#     myurl = \"http://127.0.0.1:5000/course_predict\"\n",
    "# #     myurl = \"http://127.0.0.1:8180/predict\"\n",
    "#     req = urllib.request.Request(myurl)\n",
    "#     req.add_header('Content-Type', 'application/json; charset=utf-8')\n",
    "#     jsondata = json.dumps(body)\n",
    "#     jsondataasbytes = jsondata.encode('utf-8')   # needs to be bytes\n",
    "#     req.add_header('Content-Length', len(jsondataasbytes))\n",
    "#     #print (jsondataasbytes)\n",
    "#     response = urllib.request.urlopen(req, jsondataasbytes)\n",
    "#     return json.loads(response.read())['predictions']"
   ]
  },
  {
   "cell_type": "code",
   "execution_count": 9,
   "id": "010c8876",
   "metadata": {},
   "outputs": [],
   "source": [
    "def get_prediction():\n",
    "    body = {'description': 'description', \n",
    "                            'company_profile': 'company_profile',\n",
    "                            'benefits': 'benefits'} \n",
    "\n",
    "    myurl = \"http://127.0.0.1:5000/course_predict\"\n",
    "    req = urllib.request.Request(myurl)\n",
    "    req.add_header('Content-Type', 'application/json; charset=utf-8')\n",
    "    jsondata = json.dumps(body)\n",
    "    jsondataasbytes = jsondata.encode('utf-8')   # needs to be bytes\n",
    "    req.add_header('Content-Length', len(jsondataasbytes))\n",
    "    #print (jsondataasbytes)\n",
    "    response = urllib.request.urlopen(req, jsondataasbytes)\n",
    "    return json.loads(response.read())['predictions']"
   ]
  },
  {
   "cell_type": "code",
   "execution_count": 13,
   "id": "2196127c",
   "metadata": {
    "scrolled": true
   },
   "outputs": [
    {
     "data": {
      "text/plain": [
       "91.75"
      ]
     },
     "execution_count": 13,
     "metadata": {},
     "output_type": "execute_result"
    }
   ],
   "source": [
    "get_prediction()"
   ]
  },
  {
   "cell_type": "code",
   "execution_count": null,
   "id": "75f08113",
   "metadata": {},
   "outputs": [],
   "source": []
  }
 ],
 "metadata": {
  "kernelspec": {
   "display_name": "Python 3 (ipykernel)",
   "language": "python",
   "name": "python3"
  },
  "language_info": {
   "codemirror_mode": {
    "name": "ipython",
    "version": 3
   },
   "file_extension": ".py",
   "mimetype": "text/x-python",
   "name": "python",
   "nbconvert_exporter": "python",
   "pygments_lexer": "ipython3",
   "version": "3.8.11"
  }
 },
 "nbformat": 4,
 "nbformat_minor": 5
}
