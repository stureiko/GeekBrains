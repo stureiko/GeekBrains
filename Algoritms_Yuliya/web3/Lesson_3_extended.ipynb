{
 "cells": [
  {
   "cell_type": "markdown",
   "metadata": {
    "id": "jVKnqZEmWjr0"
   },
   "source": [
    "# Урок 3. Классификация. Логистическая регрессия."
   ]
  },
  {
   "cell_type": "markdown",
   "metadata": {},
   "source": [
    "**План занятия**\n",
    "\n",
    "* [Теоретическая часть](#theory)\n",
    "    * [Линейная классификация](#lin)\n",
    "        * [Функционал ошибки в линейной классификации](#error)\n",
    "    * [Логистическая регрессия](#logreg)\n",
    "        * [Метод максимального правдоподобия](#mle)\n",
    "        * [Реализация логистической регрессии](#implement_logreg)\n",
    "    * [Оценка качества классификации](#metrics)\n",
    "* [Практическая часть](#practice)\n",
    "    * [Домашнее задание](#hw)"
   ]
  },
  {
   "cell_type": "markdown",
   "metadata": {},
   "source": [
    "## <center>Теоретическая часть<a class=\"anchor\" id=\"theory\"></a><center>"
   ]
  },
  {
   "cell_type": "markdown",
   "metadata": {
    "id": "QxTQ6b1GWjr2"
   },
   "source": [
    "## Линейная классификация<a class='anchor' id='lin'>"
   ]
  },
  {
   "cell_type": "markdown",
   "metadata": {
    "id": "o0zTMhamWjr3"
   },
   "source": [
    "До этого мы разговаривали о задачах регрессии, то есть о восстановлении непрерывной зависимости по имеющимся данным. Однако, это не единственный тип задач в машинном обучении. В этом уроке речь пойдет о задачах _классификации_. Это такие задачи, в которых объекты делятся на конечное количество классов, и целью обучения является получение модели, способной соотносить объекты к тому или иному классу. \n",
    "\n",
    "Простейшим случаем является *бинарная классификация*, то есть случай, когда у нас имеется два класса. Единственное отличие от линейной регресси здесь в том, что пространство ответов состоит из двух элементов, в нашем случае возьмем $\\mathbb{Y} = \\{-1,1\\}$, где -1 и 1 означают принадлежность к первому или второму классу, соответственно. Пример такой задачи упоминался на первом уроке, когда говорилось о распознавании спам-писем. В этом случае, -1 означало, что письмо не является спамом, а 1 - что является."
   ]
  },
  {
   "cell_type": "markdown",
   "metadata": {},
   "source": [
    "<img src=\"images/log_reg.png\">"
   ]
  },
  {
   "cell_type": "markdown",
   "metadata": {
    "id": "dwXb9QzEWjr4"
   },
   "source": [
    "Как и в случае регрессии, в классификации можно использовать линейные модели. Это называется _линейной классификацией._ Линейные классификаторы устроены похожим на линейную регрессию образом, за одним лишь различием - для получения бинарных значений берется только знак от значения $a(x)$:\n",
    "\n",
    "$$a(x) = \\text{sign}\\left (w_{0}+\\sum^{d}_{i=1}w_{i}x^{i} \\right ).$$\n",
    "\n",
    "Аналогично линейной регрессии, после добавления константного признака формула имеет вид\n",
    "\n",
    "$$\\text{sign} \\left ( \\sum^{d+1}_{i=1}w_{i}x^{i} \\right ) = \\text{sign} \\left ( \\left \\langle w,x \\right \\rangle \\right ).$$\n",
    "\n",
    "Множество точек $\\left \\langle w,x \\right \\rangle = 0$ образует _гиперплоскость_ в пространстве признаков и делит его на две части. Объекты, расположенние по разные стороны от нее, относятся к разным классам.\n"
   ]
  },
  {
   "cell_type": "markdown",
   "metadata": {
    "colab_type": "text",
    "id": "lGzattLTZ5k_"
   },
   "source": [
    "<img src=\"images/log_reg_m.png\">"
   ]
  },
  {
   "cell_type": "code",
   "execution_count": null,
   "metadata": {},
   "outputs": [],
   "source": [
    "+ + = +\n",
    "- - = +\n",
    "- + = -\n",
    "+ - = -"
   ]
  },
  {
   "cell_type": "markdown",
   "metadata": {},
   "source": [
    "$$M_i = y_i(\\langle w,x \\rangle)$$"
   ]
  },
  {
   "cell_type": "markdown",
   "metadata": {},
   "source": [
    "$M_i > 0$ - классификатор дает верный ответ<br>\n",
    "$M_i < 0$ - классификатор ошибается<br>\n",
    "Чем дальше отступ от нуля, тем классификатор больше уверен в своём ответе"
   ]
  },
  {
   "cell_type": "markdown",
   "metadata": {
    "id": "BinRsFPdWjr4"
   },
   "source": [
    "Стоит отметить, что для некоторого объекта $x$ расстояние до этой гиперплоскости будет равняться $\\frac{| \\left \\langle w,x \\right \\rangle |}{||w||}$, соответственно, при классификации нам важен не только знак скалярного произведения $\\left \\langle w,x \\right \\rangle$, но и его значение: чем выше оно, тем больше будет расстояние от объекта до разделяющей гиперплоскости, что будет означать, что алгоритм более уверен в отнесении объекта к данному классу. Это приводит нас к значению *отступа*, который равен скалярному произведению вектора весов $w$ на вектор признаков $x$, умноженному на истинное значение ответа $y$, которое, как мы помним, принимает значения -1 и 1:\n",
    "\n",
    "$$M_{i}=y_{i}\\left \\langle w,x_{i} \\right \\rangle.$$\n",
    "\n",
    "Таким образом, если скалярное произведение отрицательно, и истинный ответ равен -1, отступ будет больше нуля. Если скалярное произведение положительно, и истинный ответ равен 1, отступ также будет положителен. То есть $M_{i}>0$, когда классификатор дает верный ответ, и $M_{i}<0$, когда классификатор ошибается. Отступ характеризует корректность ответа, а его абсолютное значение свидетельствует о расстоянии от разделяющей гиперплоскости, то есть о мере уверенности в ответе."
   ]
  },
  {
   "cell_type": "markdown",
   "metadata": {
    "id": "hqXJRE2bWjr5"
   },
   "source": [
    "### Функционал ошибки в линейной классификации<a class='anchor' id='error'>"
   ]
  },
  {
   "cell_type": "markdown",
   "metadata": {
    "id": "PZE9IJfpWjr6"
   },
   "source": [
    "Как и в случае линейно регрессии, для обучения алгоритма линейной классификации требуется измерять ошибку. По аналогии с средней абсолютной ошибкой и среднеквадратичной ошибкой в случае линейной классификации можно использовать естественный подход: так как возможных ответов конечное число, можно требовать полного совпадения предсказанного класса $a(x_{i})$ и истинного $y_{i}$. Тогда в качестве функционала ошибки можно использовать долю неправильных ответов:\n",
    "\n",
    "$$Q(a, X) = \\frac{1}{l}\\sum^{l}_{i=1}[a(x_{i}) \\neq y_{i}]$$\n",
    "\n",
    "или, используя понятие отступа,\n",
    "\n",
    "$$Q(a, X) = \\frac{1}{l}\\sum^{l}_{i=1}[M_{i}<0] = \\frac{1}{l}\\sum^{l}_{i=1}[y_{i}\\left \\langle w,x_{i} \\right \\rangle < 0].$$"
   ]
  },
  {
   "cell_type": "markdown",
   "metadata": {
    "id": "X33NjwGXWjr6"
   },
   "source": [
    "Функция, стоящая под знаком суммы, называется _функцией потерь_. График ее в зависимости от отступа будет иметь пороговый вид:"
   ]
  },
  {
   "cell_type": "code",
   "execution_count": 1,
   "metadata": {
    "id": "sg7z9JsRWjr7"
   },
   "outputs": [],
   "source": [
    "import matplotlib.pyplot as plt\n",
    "import numpy as np\n",
    "\n",
    "%matplotlib inline"
   ]
  },
  {
   "cell_type": "code",
   "execution_count": 2,
   "metadata": {
    "id": "52JJBg6lWjr-"
   },
   "outputs": [],
   "source": [
    "def loss_function(x):\n",
    "    return 0 if x > 0 else 1"
   ]
  },
  {
   "cell_type": "code",
   "execution_count": 3,
   "metadata": {
    "id": "GTNFAk4pWjsB",
    "outputId": "f692f383-c883-4f73-b66f-94a95b3e9b73"
   },
   "outputs": [
    {
     "data": {
      "image/png": "[encoded data removed]",
      "text/plain": [
       "<Figure size 432x288 with 1 Axes>"
      ]
     },
     "metadata": {
      "needs_background": "light"
     },
     "output_type": "display_data"
    }
   ],
   "source": [
    "dots = np.linspace(-3, 3, 1000)\n",
    "q_zero_one_loss = [loss_function(x) for x in dots]\n",
    "\n",
    "plt.xlabel('M')\n",
    "plt.xlim(-3, 3)\n",
    "plt.plot(dots, q_zero_one_loss);"
   ]
  },
  {
   "cell_type": "markdown",
   "metadata": {
    "id": "rxOij1O9WjsE"
   },
   "source": [
    "Она называется _пороговой функцией потерь_ или 1/0 функцией потерь. Как мы видим, она негладкая, поэтому градиентные методы оптимизации к ней неприменимы. Для упрощения оптимизации используют гладкие оценки сверху этой функции, то есть такие функции, что \n",
    "\n",
    "$$[M_{i}<0] \\leq \\tilde{L}(M_{i}).$$\n",
    "\n",
    "Тогда минимизировать уже нужно эту новую функцию:\n",
    "\n",
    "$$Q(a, X) \\leq \\tilde Q(a, X) = \\frac{1}{l}\\sum^{l}_{i=1}\\tilde{L}(M_{i}) \\rightarrow \\underset{w}{\\text{min}}.$$\n",
    "\n",
    "Примерами могут быть:\n",
    "\n",
    "- _экспоненциальная функция потерь_ $\\tilde{L}(M_{i}) = \\text{exp}(- M_{i})$\n",
    "\n",
    "\n",
    "- _логистическая функция потерь_ $\\tilde{L}(M_{i}) = \\text{log}(1 + \\text{exp}(- M_{i}))$\n",
    "\n",
    "\n",
    "- и др. (см. доп. материалы)\n",
    "\n",
    "Реализуем их и построим соответствующие графики."
   ]
  },
  {
   "cell_type": "code",
   "execution_count": 4,
   "metadata": {
    "id": "v3tpAnEQWjsF"
   },
   "outputs": [],
   "source": [
    "def exp_loss_func(x):\n",
    "    return np.exp(-x)"
   ]
  },
  {
   "cell_type": "code",
   "execution_count": 5,
   "metadata": {
    "id": "jQQp4gx6WjsK"
   },
   "outputs": [],
   "source": [
    "def logistic_loss(x):\n",
    "    return np.log2(1 + np.exp(-x))"
   ]
  },
  {
   "cell_type": "code",
   "execution_count": 6,
   "metadata": {
    "id": "4XE8E9QqWjsM",
    "outputId": "07ad0628-87eb-430d-fe05-3e7fe572537e"
   },
   "outputs": [
    {
     "data": {
      "image/png": "[encoded data removed]",
      "text/plain": [
       "<Figure size 432x288 with 1 Axes>"
      ]
     },
     "metadata": {
      "needs_background": "light"
     },
     "output_type": "display_data"
    }
   ],
   "source": [
    "q_exp_loss = [exp_loss_func(x) for x in dots]\n",
    "q_logistic_loss = [logistic_loss(x) for x in dots]\n",
    "\n",
    "plt.xlabel('M')\n",
    "plt.xlim(-3, 3)\n",
    "plt.ylim(0, 3)\n",
    "plt.plot(dots, q_zero_one_loss)\n",
    "plt.plot(dots, q_exp_loss)\n",
    "plt.plot(dots, q_logistic_loss)\n",
    "plt.legend(['zero-one loss', 'exponential loss', 'logistic loss']);"
   ]
  },
  {
   "cell_type": "markdown",
   "metadata": {
    "id": "tv0zYuyqWjsQ"
   },
   "source": [
    "Все они оценивают функцию потерь сверху и при этом хорошо оптимизируются."
   ]
  },
  {
   "cell_type": "markdown",
   "metadata": {
    "id": "h5MlNOS7WjsR"
   },
   "source": [
    "## Логистическая регрессия<a class='anchor' id='logreg'>"
   ]
  },
  {
   "cell_type": "markdown",
   "metadata": {
    "id": "Urh_FsvlWjsS"
   },
   "source": [
    "_Логистическая регрессия_ - частный случай линейного классификатора, обладающий одной полезной особенностью - помимо отнесения объекта к определенному классу она умеет прогнозировать вероятность $P$ того, что объект относится к этому классу."
   ]
  },
  {
   "cell_type": "markdown",
   "metadata": {
    "id": "2IZd3LR9WjsT"
   },
   "source": [
    "Во многих задачах такая особенность является очень важной. Например, в задачах кредитного скоринга (предсказание, вернет клиент кредит или нет) прогнозируют вероятность невозврата кредита и на основании нее принимают решение о выдаче или невыдаче."
   ]
  },
  {
   "cell_type": "markdown",
   "metadata": {
    "id": "AhYaDtqMWjsT"
   },
   "source": [
    "Пусть в каждой точке пространства объектов $\\mathbb{X}$ задана вероятность того, что объект $x$ будет принадлежать к классу \"+1\" $P(y=1|x)$ (условная вероятность $y = 1$ при условии $x$). Она будет принимать значения от 0 до 1, и нам нужно каким-то образом ее предсказывать, но пока мы умеем только строить прогноз методами линейной регрессии с помощью некоего алгоритма $b(x)=\\left \\langle w,x_{i} \\right \\rangle$. У него есть проблема, связанная с тем, что скалярное произведение $\\left \\langle w,x_{i} \\right \\rangle$ не всегда возвращает значения в отрезке [0, 1]. Чтобы достичь такого условия, можно использовать некую функцию $\\sigma:\\mathbb{R} \\rightarrow [0,1]$, которая будет переводить полученное в скалярном произведении значение в вероятность, пределы которой будут лежать в промежутке от 0 до 1. В модели логистической регрессии в качестве такой функции берется сигмоида, которая имеет вид:\n",
    "\n",
    "$$\\sigma(z) = \\frac{1}{1 + exp(-z)}.$$"
   ]
  },
  {
   "cell_type": "markdown",
   "metadata": {
    "id": "TqjAuOdgWjsU"
   },
   "source": [
    "Изобразим ее типичный график."
   ]
  },
  {
   "cell_type": "code",
   "execution_count": 7,
   "metadata": {
    "id": "MojlVOSyWjsV"
   },
   "outputs": [],
   "source": [
    "def sigmoid(x):\n",
    "    return 1 / (1 + np.exp(-x))"
   ]
  },
  {
   "cell_type": "code",
   "execution_count": 8,
   "metadata": {
    "id": "uCAPY32dWjsX",
    "outputId": "6e6c58cf-a5fe-4845-cceb-6abd78cfb36c"
   },
   "outputs": [
    {
     "data": {
      "image/png": "[encoded data removed]",
      "text/plain": [
       "<Figure size 432x288 with 1 Axes>"
      ]
     },
     "metadata": {
      "needs_background": "light"
     },
     "output_type": "display_data"
    }
   ],
   "source": [
    "dots = np.linspace(-10, 10, 100)\n",
    "sigmoid_value = list(map(sigmoid, dots))\n",
    "\n",
    "plt.xlabel('x')\n",
    "plt.ylabel('sigmoid(x)')\n",
    "plt.grid()\n",
    "plt.plot(dots, sigmoid_value);"
   ]
  },
  {
   "cell_type": "markdown",
   "metadata": {},
   "source": [
    "$$\\sigma(z) = \\frac{1}{(1 + exp(-z))^{-1}} = \\frac{1}{1 + \\frac{1}{exp(z)}} = \\frac{exp(z)}{exp(z) + 1}$$"
   ]
  },
  {
   "cell_type": "markdown",
   "metadata": {},
   "source": [
    "$$\\sigma(z) = \\frac{exp(z)}{1 + exp(z)}.$$"
   ]
  },
  {
   "cell_type": "code",
   "execution_count": 9,
   "metadata": {},
   "outputs": [],
   "source": [
    "def sigmoid_2(x):\n",
    "    return np.exp(x) / (1 + np.exp(x))"
   ]
  },
  {
   "cell_type": "code",
   "execution_count": 10,
   "metadata": {},
   "outputs": [
    {
     "data": {
      "image/png": "[encoded data removed]",
      "text/plain": [
       "<Figure size 432x288 with 1 Axes>"
      ]
     },
     "metadata": {
      "needs_background": "light"
     },
     "output_type": "display_data"
    }
   ],
   "source": [
    "dots = np.linspace(-10, 10, 100)\n",
    "sigmoid_value_2 = list(map(sigmoid_2, dots))\n",
    "\n",
    "plt.xlabel('x')\n",
    "plt.ylabel('sigmoid(x)')\n",
    "plt.grid()\n",
    "plt.plot(dots, sigmoid_value_2);"
   ]
  },
  {
   "cell_type": "markdown",
   "metadata": {
    "id": "GmmM4TpFWjsZ"
   },
   "source": [
    "При использовании такой функции $\\tilde{b}(x_{i}) = \\sigma(\\left \\langle w,x_{i} \\right \\rangle)$ получаем, что вероятность отнесения объекта к классу \"+1\" $P(y=1|x)$, которую для краткости обозначим $p_{+}$, будет равняться\n",
    "\n",
    "$$p_{+} = \\sigma(\\left \\langle w,x_{i} \\right \\rangle) = \\frac{1}{1 + exp(-\\left \\langle w,x_{i} \\right \\rangle)},$$\n",
    "\n",
    "Чем больше будет скалярное произведение $\\left \\langle w,x_{i} \\right \\rangle$, тем выше будет предсказанная вероятность."
   ]
  },
  {
   "cell_type": "code",
   "execution_count": 11,
   "metadata": {},
   "outputs": [
    {
     "data": {
      "image/png": "[encoded data removed]",
      "text/plain": [
       "<Figure size 432x288 with 1 Axes>"
      ]
     },
     "metadata": {
      "needs_background": "light"
     },
     "output_type": "display_data"
    }
   ],
   "source": [
    "dots = np.linspace(-10, 10, 100)\n",
    "exp_value = list(map(lambda x: np.exp(-x), dots))\n",
    "\n",
    "plt.xlabel('x')\n",
    "plt.ylabel('exp(-x)')\n",
    "plt.grid()\n",
    "plt.plot(dots, exp_value);"
   ]
  },
  {
   "cell_type": "markdown",
   "metadata": {},
   "source": [
    "Чтобы понять, как его интерпретировать, выведем его из формулы выше:\n",
    "\n",
    "$$p = \\frac{exp(\\left \\langle w,x \\right \\rangle)}{exp(\\left \\langle w,x \\right \\rangle) + 1}$$\n",
    "\n",
    "$$p(exp(\\langle w,x \\rangle) + 1) = exp(\\langle w,x \\rangle)$$\n",
    "\n",
    "$$p*exp(\\langle w,x \\rangle) + p = exp(\\langle w,x \\rangle)$$\n",
    "\n",
    "$$p = exp(\\langle w,x \\rangle) - p*exp(\\langle w,x \\rangle)$$\n",
    "\n",
    "$$p = exp(\\langle w,x \\rangle)(1 - p)$$\n",
    "\n",
    "$$\\frac{p}{1 - p} = exp(\\langle w,x \\rangle)$$\n",
    "\n",
    "$$ln\\frac{p}{1 - p} = \\ln{exp(\\langle w,x \\rangle)}$$"
   ]
  },
  {
   "cell_type": "markdown",
   "metadata": {
    "id": "1BxRP1WYWjsa"
   },
   "source": [
    "$$\\left \\langle w,x \\right \\rangle = \\text{ln} \\frac{p_{+}}{1 - p_{+}}.$$\n",
    "\n",
    "Таким образом, скалярное произведение вектора весов на вектор признаков представляет собой логарифм отношения вероятностей того, что y = 1 к вероятности того, что y = -1. Выражение под логарифмом называется *риском*, а вместе с логарифмом это выражение называется *логитом*. Поэтому метод и называется логистической регрессией: мы приближаем логит линейной комбинацией признаков и весов."
   ]
  },
  {
   "cell_type": "code",
   "execution_count": 12,
   "metadata": {},
   "outputs": [
    {
     "name": "stderr",
     "output_type": "stream",
     "text": [
      "/home/julia/PycharmProjects/Study/SocketLab/venv/lib/python3.6/site-packages/ipykernel_launcher.py:2: RuntimeWarning: divide by zero encountered in double_scalars\n",
      "  \n"
     ]
    },
    {
     "data": {
      "image/png": "[encoded data removed]",
      "text/plain": [
       "<Figure size 432x288 with 1 Axes>"
      ]
     },
     "metadata": {
      "needs_background": "light"
     },
     "output_type": "display_data"
    }
   ],
   "source": [
    "dots = np.linspace(0, 1, 100)\n",
    "exp_value = list(map(lambda x: x / (1 - x), dots))\n",
    "\n",
    "plt.xlabel('x')\n",
    "plt.ylabel('odds')\n",
    "plt.grid()\n",
    "plt.plot(dots, exp_value);"
   ]
  },
  {
   "cell_type": "code",
   "execution_count": 13,
   "metadata": {},
   "outputs": [
    {
     "name": "stderr",
     "output_type": "stream",
     "text": [
      "/home/julia/PycharmProjects/Study/SocketLab/venv/lib/python3.6/site-packages/ipykernel_launcher.py:2: RuntimeWarning: divide by zero encountered in log\n",
      "  \n",
      "/home/julia/PycharmProjects/Study/SocketLab/venv/lib/python3.6/site-packages/ipykernel_launcher.py:2: RuntimeWarning: divide by zero encountered in double_scalars\n",
      "  \n"
     ]
    },
    {
     "data": {
      "image/png": "[encoded data removed]",
      "text/plain": [
       "<Figure size 432x288 with 1 Axes>"
      ]
     },
     "metadata": {
      "needs_background": "light"
     },
     "output_type": "display_data"
    }
   ],
   "source": [
    "dots = np.linspace(0, 1, 100)\n",
    "exp_value = list(map(lambda x: np.log(x / (1 - x)), dots))\n",
    "\n",
    "plt.xlabel('x')\n",
    "plt.ylabel('logit')\n",
    "plt.grid()\n",
    "plt.plot(dots, exp_value);"
   ]
  },
  {
   "cell_type": "markdown",
   "metadata": {},
   "source": [
    "### Метод максимального правдоподобия <a class='anchor' id='mle'>"
   ]
  },
  {
   "cell_type": "markdown",
   "metadata": {},
   "source": [
    "<img src='images/maximum_likelihood.png'>"
   ]
  },
  {
   "cell_type": "markdown",
   "metadata": {
    "id": "OR_0UT1sWjsb"
   },
   "source": [
    "Далее для обучения этой модели нам потребуется использовать _метод максимального правдоподобия_ (см. доп. материалы). Его сущность заключается в выборе гипотезы, при которой вероятность получить имеющееся наблюдение максимальна.\n",
    "\n",
    "С точки зрения реализуемого алгоритма вероятность того, что в выборке встретится объект $x_{i}$ c классом $y_{i}$, равна\n",
    "\n",
    "$$P(y=y_{i}|x_{i}) = p_{+}^{[y_{i}=+1]}(1-p_{+})^{[y_{i}=-1]}.$$\n",
    "\n",
    "Исходя из этого, правдоподобие выборки (т.е. вероятность получить такую выборку с точки зрения алгоритма) будет равняться произведению вероятностей получения каждого имеющегося ответа:\n",
    "\n",
    "$$P(y|X) = L(X) = \\prod^{l}_{i=1} p_{+}^{[y_{i}=+1]}(1-p_{+})^{[y_{i}=-1]}.$$\n",
    "\n",
    "Правдоподобие можно использовать как функционал для обучения алгоритма, однако, удобнее взять от него логарифм, так как в этом случае произведение превратится в сумму, а сумму гораздо проще оптимизировать. Также, в отличие от рассмотренных ранее функций потерь, правдоподобие требуется максимизировать для обучения алгоритма, а не минимизировать. Поэтому для большего удобства перед правдоподобием ставят минус, поскольку функции потери в задачах регрессии принято минимизировать. В итоге получим:\n",
    "\n",
    "$$\\text{ln}\\prod^{l}_{i=1} p_{+}^{[y_{i}=+1]}(1-p_{+})^{[y_{i}=-1]} = $$\n",
    "$$ = - \\sum^{l}_{i=1} \\text{ln}(p_{+}^{[y_{i}=+1]}(1-p_{+})^{[y_{i}=-1]})$$\n",
    "\n",
    "$$-\\text{ln}L(X) = -\\sum^{l}_{i=1}([y_{i} = +1] \\text{ln}p_{+}) + [y_{i} = -1]\\text{ln}(1 - p_{+}))).$$\n",
    "\n",
    "\n",
    "Данная функция потерь называется _логарифмической функцией потерь (log loss)_ или _кросс-энтропией_."
   ]
  },
  {
   "cell_type": "markdown",
   "metadata": {},
   "source": [
    "В случае, когда имеются классы 1 и -1:\n",
    "\n",
    "$$ p_{+} = \\sigma({\\langle w,x \\rangle})$$\n",
    "$$ p_{-} = \\sigma(- {\\langle w,x \\rangle})$$\n",
    "\n",
    "$$ p = \\sigma(y{\\langle w,x \\rangle})$$"
   ]
  },
  {
   "cell_type": "markdown",
   "metadata": {},
   "source": [
    "$$ \\text{ln}L = - \\sum^{l}_{i=1} \\text{ln}(p_{+}^{[y_{i}=+1]}(1-p_{+})^{[y_{i}=-1]}) = $$\n",
    "$$ = - \\sum^{l}_{i=1} \\text{ln}(\\sigma(y{\\langle w,x \\rangle})) = - \\sum^{l}_{i=1} \\text{ln}(\\frac{1}{1 + exp(-y{\\langle w,x \\rangle}})$$\n",
    "$$ = \\sum^{l}_{i=1} \\text{ln}(1 + exp(-y{\\langle w,x \\rangle})$$"
   ]
  },
  {
   "cell_type": "markdown",
   "metadata": {
    "id": "Y2rGHbQkWjsd"
   },
   "source": [
    "То есть в случае логистической регрессии обучение сводится к минимизации этого функционала."
   ]
  },
  {
   "cell_type": "code",
   "execution_count": 25,
   "metadata": {},
   "outputs": [
    {
     "data": {
      "image/png": "[encoded data removed]",
      "text/plain": [
       "<Figure size 432x288 with 1 Axes>"
      ]
     },
     "metadata": {
      "needs_background": "light"
     },
     "output_type": "display_data"
    }
   ],
   "source": [
    "dots = np.linspace(-10, 10, 100)\n",
    "log_loss_value = list(map(lambda x: - np.log(1 / (1 + np.exp(-x))), dots))\n",
    "log_loss_value = list(map(lambda x: np.log(1 + np.exp(-x)), dots))\n",
    "\n",
    "plt.xlabel('M')\n",
    "plt.ylabel('Log Loss')\n",
    "plt.grid()\n",
    "plt.plot(dots, log_loss_value);"
   ]
  },
  {
   "cell_type": "markdown",
   "metadata": {
    "id": "jiILjPR9Wjse"
   },
   "source": [
    "В общем виде log loss запишется как\n",
    "\n",
    "$$-\\text{ln}L(X) = -\\sum^{l}_{i=1} (y_{i} \\text{ln}\\frac{1}{1 + exp(-\\left \\langle w,x_{i} \\right \\rangle)} + (1 - y_{i})\\text{ln} (1-\\frac{1}{1 + exp(-\\left \\langle w,x_{i} \\right \\rangle)})).$$\n",
    "\n",
    "$$-\\text{ln}L(X) = -\\sum^{l}_{i=1} (y_{i} \\text{ln}(\\sigma) + (1 - y_{i})\\text{ln} (1-\\sigma)).$$\n",
    "\n"
   ]
  },
  {
   "cell_type": "markdown",
   "metadata": {},
   "source": [
    "### Производные"
   ]
  },
  {
   "cell_type": "markdown",
   "metadata": {},
   "source": [
    "<center><i>Сигмоида</i></center>\n",
    "\n",
    "$$\\sigma(z) = \\frac{1}{1 + exp(-z)}$$\n",
    "\n",
    "$$\\frac{d\\sigma(z)}{dz} = -\\frac{1}{(1 + exp(-z))^2}(-exp(-z)) = \\frac{exp(-z)}{(1 + exp(-z))^2} \\text{(*)} = \\frac{1}{1 + exp(-z)}(1-\\frac{1}{1 + exp(-z)}) = \\sigma(1-\\sigma)$$"
   ]
  },
  {
   "cell_type": "markdown",
   "metadata": {},
   "source": [
    "$ (*)\\frac{exp(-z) +1-1}{(1 + exp(-z))^2} = \\frac{1 + exp(-z) -1}{(1 + exp(-z))^2}= \\frac{1 + exp(-z)}{(1 + exp(-z))^2} - \\frac{1}{(1 + exp(-z))^2}=$\n",
    "\n",
    "$ = \\frac{1}{(1 + exp(-z))} - \\frac{1}{(1 + exp(-z))}\\frac{1}{(1 + exp(-z))} = \\frac{1}{(1 + exp(-z))}(1- \\frac{1}{(1 + exp(-z))}) $"
   ]
  },
  {
   "cell_type": "markdown",
   "metadata": {},
   "source": [
    "<center><i>Логлосс</i></center>\n",
    "\n",
    "$$\\frac{dL}{dw} = -\\sum^{l}_{i=1} (\\frac{y_{i}} {\\sigma} - \\frac{1 - y_{i}} {1 - \\sigma})\\frac{d\\sigma(z)}{dz} = -\\sum^{l}_{i=1} \\frac{(1 - \\sigma)y_{i} - \\sigma(1 - y_{i})} {\\sigma(1 - \\sigma)}\\frac{d\\sigma(z)}{dz} = -\\sum^{l}_{i=1} \\frac{(y_{i} - \\sigma y_{i} - \\sigma + \\sigma y_{i})} {\\sigma(1 - \\sigma)}\\frac{d\\sigma(z)}{dz}$$\n",
    "\n",
    "$$ = -\\sum^{l}_{i=1} \\frac{y_{i} - \\sigma} {\\sigma(1 - \\sigma)}\\frac{d\\sigma(z)}{dz} = -\\sum^{l}_{i=1} \\frac{y_{i} - \\sigma} {\\sigma(1 - \\sigma)}\\sigma(1 - \\sigma) = \\sum^{l}_{i=1} \\sigma - y_{i} = \\frac{1}{1 + exp(-\\langle w,x\\rangle)} - Y = X^{T}(\\sigma-Y)$$\n",
    "\n",
    "\n",
    "$\\frac{d\\langle w,x\\rangle}{dw} = \\frac{d Xw}{dw} = X^T$\n"
   ]
  },
  {
   "cell_type": "markdown",
   "metadata": {
    "id": "rx8q4AbEWjsf"
   },
   "source": [
    "### Реализация логистической регрессии<a class='anchor' id='implement_logreg'>"
   ]
  },
  {
   "cell_type": "markdown",
   "metadata": {
    "id": "lRslRTEAWjsg"
   },
   "source": [
    "Напишем алгоритм логистической регрессии."
   ]
  },
  {
   "cell_type": "code",
   "execution_count": 15,
   "metadata": {
    "id": "K6sxbQYJWjsh",
    "outputId": "fefee5f1-a278-4257-fb4b-03138e12c74a",
    "scrolled": true
   },
   "outputs": [
    {
     "data": {
      "text/plain": [
       "(array([[ 1.30022717, -0.7856539 ],\n",
       "        [ 1.44184425, -0.56008554],\n",
       "        [-0.84792445, -1.36621324],\n",
       "        [-0.72215015, -1.41129414],\n",
       "        [-1.27221465,  0.25945106],\n",
       "        [ 0.78694271,  0.94294879],\n",
       "        [ 0.81695766, -1.12478707],\n",
       "        [ 1.6822707 , -0.67596877],\n",
       "        [-1.07223343, -0.7701513 ],\n",
       "        [-0.06539297,  1.11257376],\n",
       "        [-1.33232952,  0.60245671],\n",
       "        [-0.6963714 ,  0.96382716],\n",
       "        [ 0.82340614,  0.7561926 ],\n",
       "        [-1.5155534 , -0.15804853],\n",
       "        [-0.78971776,  1.70347973],\n",
       "        [ 0.85887841,  1.04457966],\n",
       "        [-0.45001335,  0.27345841],\n",
       "        [ 0.7099324 ,  0.69020919],\n",
       "        [-0.79095935,  1.60495551],\n",
       "        [-1.08077536, -1.15530746],\n",
       "        [-1.5691733 , -0.54054806],\n",
       "        [-0.52568843,  1.52568161],\n",
       "        [-1.27406042, -0.1434304 ],\n",
       "        [ 0.89621114, -1.11509679],\n",
       "        [-0.85259895, -1.42554982],\n",
       "        [-0.63262806,  1.2217558 ],\n",
       "        [-0.86447712, -1.40921978],\n",
       "        [-0.47819102,  3.17462483],\n",
       "        [-1.25230004, -0.57685918],\n",
       "        [-0.84475639, -1.44303438],\n",
       "        [ 1.07510938, -1.00137091],\n",
       "        [-0.95126327,  0.9659913 ],\n",
       "        [-1.09530458,  1.23965215],\n",
       "        [ 0.48229726,  1.62411168],\n",
       "        [-0.502186  ,  2.05132133],\n",
       "        [-1.54398637,  0.01188478],\n",
       "        [-1.08864222, -0.85261295],\n",
       "        [-0.90131654, -0.96654311],\n",
       "        [ 1.69606253,  0.2914725 ],\n",
       "        [ 1.12018826, -1.24017985],\n",
       "        [ 1.06080576,  0.58530898],\n",
       "        [-1.4424493 ,  0.2768457 ],\n",
       "        [-0.70726877, -1.75151751],\n",
       "        [ 1.04984745,  0.18471318],\n",
       "        [ 1.33139049, -0.66176572],\n",
       "        [ 0.651448  , -1.21037691],\n",
       "        [-0.95710526, -1.01412185],\n",
       "        [ 1.50284911,  0.18387793],\n",
       "        [-1.01103813,  1.66092093],\n",
       "        [ 0.24305711, -1.56629795],\n",
       "        [-0.40394191,  1.94981005],\n",
       "        [-1.51594823, -0.02488133],\n",
       "        [ 0.75221692, -1.09094359],\n",
       "        [-1.10325445, -0.70158632],\n",
       "        [-1.02489651,  1.25959039],\n",
       "        [-0.76070629, -1.49363676],\n",
       "        [-0.67325919, -1.78962393],\n",
       "        [ 0.56574606, -1.25127924],\n",
       "        [ 1.11298159, -0.90801871],\n",
       "        [ 1.16188579,  0.50520809],\n",
       "        [ 0.68064537, -1.20440239],\n",
       "        [-1.47955308,  0.04255402],\n",
       "        [ 0.48134584, -0.44632785],\n",
       "        [ 0.92116205, -1.07020755],\n",
       "        [-1.1068686 ,  1.71718559],\n",
       "        [ 0.32953519,  1.34104147],\n",
       "        [ 0.94913223,  1.11955768],\n",
       "        [ 0.8756767 ,  0.76529832],\n",
       "        [-1.18951588,  0.38360693],\n",
       "        [-1.36910947, -0.17113665],\n",
       "        [-1.01015351,  0.85809225],\n",
       "        [-1.66153635,  0.46339315],\n",
       "        [ 0.98173251, -0.91625701],\n",
       "        [ 0.82300836, -1.06633261],\n",
       "        [ 0.51027603, -1.3812928 ],\n",
       "        [ 1.04541272, -0.92751156],\n",
       "        [-0.85436664,  1.92296129],\n",
       "        [-0.71572893, -1.63971434],\n",
       "        [ 0.6486895 ,  1.2600083 ],\n",
       "        [ 0.7185152 , -1.31918161],\n",
       "        [ 0.85565037, -0.99134803],\n",
       "        [ 1.01737804, -1.06220957],\n",
       "        [-0.78702113,  0.89352558],\n",
       "        [ 1.63147164,  1.10755772],\n",
       "        [ 0.62577573, -1.24174887],\n",
       "        [-0.62679113, -1.73440213],\n",
       "        [ 0.63378314,  0.28733318],\n",
       "        [ 0.91533271,  0.85370495],\n",
       "        [ 1.37320248,  1.6689382 ],\n",
       "        [-1.31610584, -0.63788135],\n",
       "        [-0.95543218, -1.18054667],\n",
       "        [ 0.67697979, -1.0689833 ],\n",
       "        [ 1.38216805, -0.49634539],\n",
       "        [-0.30121926,  1.71834622],\n",
       "        [ 2.14957042, -0.3114632 ],\n",
       "        [ 0.94046067, -1.10029918],\n",
       "        [-0.84521171,  1.66086437],\n",
       "        [-1.42368943,  0.39184587],\n",
       "        [ 0.9825172 ,  0.33847597],\n",
       "        [-1.29401108, -0.54922692]]),\n",
       " array([1, 1, 0, 0, 0, 1, 1, 1, 0, 1, 0, 0, 1, 0, 0, 1, 1, 1, 0, 0, 0, 0,\n",
       "        0, 1, 0, 0, 0, 0, 0, 0, 1, 0, 0, 1, 0, 0, 0, 0, 1, 1, 1, 0, 0, 1,\n",
       "        1, 1, 0, 1, 0, 1, 1, 0, 1, 0, 0, 0, 0, 1, 1, 1, 1, 0, 1, 1, 0, 1,\n",
       "        1, 1, 0, 0, 0, 0, 1, 1, 1, 1, 0, 0, 1, 1, 1, 1, 0, 1, 1, 0, 1, 1,\n",
       "        1, 0, 0, 1, 1, 0, 1, 1, 0, 0, 1, 0]))"
      ]
     },
     "execution_count": 15,
     "metadata": {},
     "output_type": "execute_result"
    }
   ],
   "source": [
    "from sklearn import datasets\n",
    "from matplotlib.colors import ListedColormap\n",
    "\n",
    "# сгеренируем данные с помощью sklearn.datasets\n",
    "X, y = datasets.make_classification(n_samples=100, n_features=2, n_informative=2,\n",
    "                                    n_redundant=0, n_classes=2, random_state=1)\n",
    "# X, y = datasets.make_blobs(centers=2, cluster_std=2.5, random_state=12)\n",
    "X, y"
   ]
  },
  {
   "cell_type": "code",
   "execution_count": 16,
   "metadata": {},
   "outputs": [
    {
     "data": {
      "image/png": "[encoded data removed]",
      "text/plain": [
       "<Figure size 576x576 with 1 Axes>"
      ]
     },
     "metadata": {
      "needs_background": "light"
     },
     "output_type": "display_data"
    }
   ],
   "source": [
    "# и изобразим их на графике\n",
    "colors = ListedColormap(['blue', 'red'])\n",
    "\n",
    "plt.figure(figsize=(8, 8))\n",
    "plt.scatter(X[:, 0], X[:, 1], c=y, cmap=colors);"
   ]
  },
  {
   "cell_type": "markdown",
   "metadata": {
    "id": "I0wmCApKWjsj"
   },
   "source": [
    "Далее разделим выборку на обучающую и тестовую. При реальной работе, если нет специфических требований по сохранению порядка выборки, ее полезно перемешивать, так как данные в ней могут быть каким-либо образом отсортированы. Это может негативно сказаться на процессе обучения."
   ]
  },
  {
   "cell_type": "code",
   "execution_count": 26,
   "metadata": {},
   "outputs": [
    {
     "data": {
      "text/plain": [
       "array([55, 11, 87, 29, 21, 88, 98, 23,  7, 63, 27, 53, 47, 51, 31, 13, 73,\n",
       "       70, 65,  9, 60, 94, 32, 93,  2, 86, 25, 92, 67, 18, 58, 81, 89,  1,\n",
       "        5, 69, 41, 57, 14, 82, 12, 96, 90, 24,  8, 40, 74, 61, 45, 97, 33,\n",
       "        0, 15,  3, 80,  6, 62, 91, 59, 39, 42, 66, 17, 16, 50, 34, 75, 37,\n",
       "       38, 79, 64, 43, 19, 77, 85, 20, 28,  4, 95, 78, 56, 22, 84, 26, 72,\n",
       "       83, 76, 10, 46, 36, 49, 30, 54, 71, 35, 99, 52, 44, 48, 68])"
      ]
     },
     "execution_count": 26,
     "metadata": {},
     "output_type": "execute_result"
    }
   ],
   "source": [
    "np.random.permutation(X.shape[0])"
   ]
  },
  {
   "cell_type": "code",
   "execution_count": 27,
   "metadata": {
    "id": "3Grk26bHWjsk",
    "outputId": "f002dc93-3214-444e-a921-0f73b27d8f70"
   },
   "outputs": [
    {
     "name": "stdout",
     "output_type": "stream",
     "text": [
      "Размер массива признаков обучающей выборки (70, 2)\n",
      "Размер массива признаков тестовой выборки (30, 2)\n",
      "Размер массива ответов для обучающей выборки (70,)\n",
      "Размер массива ответов для тестовой выборки (30,)\n"
     ]
    }
   ],
   "source": [
    "# перемешивание датасета\n",
    "np.random.seed(12)\n",
    "shuffle_index = np.random.permutation(X.shape[0])\n",
    "X_shuffled, y_shuffled = X[shuffle_index], y[shuffle_index]\n",
    "\n",
    "# разбивка на обучающую и тестовую выборки\n",
    "train_proportion = 0.7\n",
    "train_test_cut = int(len(X) * train_proportion)\n",
    "\n",
    "X_train, X_test, y_train, y_test = \\\n",
    "    X_shuffled[:train_test_cut], \\\n",
    "    X_shuffled[train_test_cut:], \\\n",
    "    y_shuffled[:train_test_cut], \\\n",
    "    y_shuffled[train_test_cut:]\n",
    "    \n",
    "print(\"Размер массива признаков обучающей выборки\", X_train.shape)\n",
    "print(\"Размер массива признаков тестовой выборки\", X_test.shape)\n",
    "print(\"Размер массива ответов для обучающей выборки\", y_train.shape)\n",
    "print(\"Размер массива ответов для тестовой выборки\", y_test.shape)"
   ]
  },
  {
   "cell_type": "markdown",
   "metadata": {
    "id": "AWeymQIWWjsq"
   },
   "source": [
    "Реализуем функцию потерь log loss с одновременным расчетом градиента."
   ]
  },
  {
   "cell_type": "markdown",
   "metadata": {
    "id": "Xw1hB380Wjsr"
   },
   "source": [
    "Оптимизировать функционал ошибки будем с помощью градиентного спуска, его вид в случае использования такой функции потерь будет:\n",
    "\n",
    "$$w_{n+1} = w_{n} - \\eta \\frac{1}{l}X^{T}(A-Y),$$\n",
    "\n",
    "где $A=\\frac{1}{1 + exp(-\\left \\langle w,x_{i} \\right \\rangle)}.$"
   ]
  },
  {
   "cell_type": "markdown",
   "metadata": {},
   "source": [
    "$$L(X) = -\\sum^{l}_{i=1} (y_{i} \\text{ln}(\\sigma) + (1 - y_{i})\\text{ln} (1-\\sigma)).$$\n",
    "$$L(X) = \\sum^{l}_{i=1} \\text{ln}(1 + exp(-y{\\langle w,x \\rangle})$$"
   ]
  },
  {
   "cell_type": "code",
   "execution_count": 31,
   "metadata": {},
   "outputs": [],
   "source": [
    "def log_loss(w, X, y):\n",
    "    m = X.shape[0]\n",
    "    # используем функцию сигмоиды, написанную ранее\n",
    "    A = sigmoid(np.dot(X, w))\n",
    "        \n",
    "    # labels 0, 1\n",
    "#     loss = -1.0 / m * np.sum(y * np.log(A) + (1 - y) * np.log(1 - A))\n",
    "    \n",
    "    # labels -1, 1\n",
    "#     temp_y = np.where(y == 1, 1, -1)\n",
    "#     loss = 1.0 / m * np.sum(np.log(1 + np.exp(-temp_y * np.dot(X, w))))\n",
    "\n",
    "    grad = 1.0 / m * X.T @ (A - y)\n",
    "\n",
    "    return loss, grad"
   ]
  },
  {
   "cell_type": "markdown",
   "metadata": {
    "id": "zChpWQBVWjsx"
   },
   "source": [
    "Реализуем градиентный спуск"
   ]
  },
  {
   "cell_type": "code",
   "execution_count": 19,
   "metadata": {},
   "outputs": [],
   "source": [
    "def optimize(w, X, y, n_iterations, eta):\n",
    "    # потери будем записывать в список для отображения в виде графика\n",
    "    losses = []\n",
    "    \n",
    "    for i in range(n_iterations):        \n",
    "        loss, grad = log_loss(w, X, y)\n",
    "        w = w - eta * grad\n",
    "\n",
    "        losses.append(loss)\n",
    "        \n",
    "    return w, losses"
   ]
  },
  {
   "cell_type": "markdown",
   "metadata": {
    "id": "aYXIC_XoWjs0"
   },
   "source": [
    "и функцию для выполнения предсказаний"
   ]
  },
  {
   "cell_type": "code",
   "execution_count": 20,
   "metadata": {},
   "outputs": [],
   "source": [
    "def predict(w, X):\n",
    "    \n",
    "    m = X.shape[0]\n",
    "    \n",
    "    y_predicted = np.zeros(m)\n",
    "\n",
    "    A = np.squeeze(sigmoid(np.dot(X, w)))\n",
    "\n",
    "    # За порог отнесения к тому или иному классу примем вероятность 0.5\n",
    "    for i in range(A.shape[0]):\n",
    "        if (A[i] > 0.5): \n",
    "            y_predicted[i] = 1\n",
    "        elif (A[i] <= 0.5):\n",
    "            y_predicted[i] = 0\n",
    "\n",
    "    return y_predicted"
   ]
  },
  {
   "cell_type": "code",
   "execution_count": 32,
   "metadata": {},
   "outputs": [
    {
     "name": "stdout",
     "output_type": "stream",
     "text": [
      "Итоговый вектор весов w: [3.72659902 0.22383415]\n",
      "Точность на обучающей выборке: 98.571\n",
      "Точность на тестовой выборке: 96.667\n"
     ]
    }
   ],
   "source": [
    "# иницилизируем начальный вектор весов\n",
    "w0 = np.zeros(X_train.shape[1])\n",
    "\n",
    "n_iterations = 1000\n",
    "eta = 0.05\n",
    "\n",
    "w, losses = optimize(w0, X_train, y_train, n_iterations, eta)\n",
    "\n",
    "y_predicted_test = predict(w, X_test)\n",
    "y_predicted_train = predict(w, X_train)\n",
    "\n",
    "# В качестве меры точности возьмем долю правильных ответов\n",
    "train_accuracy = np.mean(y_predicted_train == y_train) * 100.0\n",
    "test_accuracy = np.mean(y_predicted_test == y_test) * 100.0\n",
    "\n",
    "print(f\"Итоговый вектор весов w: {w}\")\n",
    "print(f\"Точность на обучающей выборке: {train_accuracy:.3f}\")\n",
    "print(f\"Точность на тестовой выборке: {test_accuracy:.3f}\")"
   ]
  },
  {
   "cell_type": "markdown",
   "metadata": {
    "id": "tVAOczz8Wjs5"
   },
   "source": [
    "Покажем, как менялась при этом функция потерь."
   ]
  },
  {
   "cell_type": "code",
   "execution_count": 33,
   "metadata": {
    "id": "DibJKnsfWjs6",
    "outputId": "e751ba3d-df6e-4727-ba16-b3ae3b39fbd3",
    "scrolled": true
   },
   "outputs": [
    {
     "data": {
      "image/png": "[encoded data removed]",
      "text/plain": [
       "<Figure size 432x288 with 1 Axes>"
      ]
     },
     "metadata": {
      "needs_background": "light"
     },
     "output_type": "display_data"
    }
   ],
   "source": [
    "plt.title('Log loss')\n",
    "plt.xlabel('iterations')\n",
    "plt.ylabel('loss')\n",
    "plt.plot(range(len(losses)), losses);"
   ]
  },
  {
   "cell_type": "markdown",
   "metadata": {},
   "source": [
    "[Визуализация](https://scikit-learn.org/stable/auto_examples/linear_model/plot_iris_logistic.html#sphx-glr-auto-examples-linear-model-plot-iris-logistic-py) логистической регрессии"
   ]
  },
  {
   "cell_type": "code",
   "execution_count": 30,
   "metadata": {},
   "outputs": [
    {
     "name": "stderr",
     "output_type": "stream",
     "text": [
      "/home/julia/PycharmProjects/Study/SocketLab/venv/lib/python3.6/site-packages/ipykernel_launcher.py:11: MatplotlibDeprecationWarning: shading='flat' when X and Y have the same dimensions as C is deprecated since 3.3.  Either specify the corners of the quadrilaterals with X and Y, or pass shading='auto', 'nearest' or 'gouraud', or set rcParams['pcolor.shading'].  This will become an error two minor releases later.\n",
      "  # This is added back by InteractiveShellApp.init_path()\n"
     ]
    },
    {
     "data": {
      "image/png": "[encoded data removed]",
      "text/plain": [
       "<Figure size 576x576 with 1 Axes>"
      ]
     },
     "metadata": {
      "needs_background": "light"
     },
     "output_type": "display_data"
    }
   ],
   "source": [
    "plt.figure(figsize=(8, 8))\n",
    "\n",
    "x_min, x_max = X[:, 0].min() - .5, X[:, 0].max() + .5\n",
    "y_min, y_max = X[:, 1].min() - .5, X[:, 1].max() + .5\n",
    "h = .02  # step size in the mesh\n",
    "xx, yy = np.meshgrid(np.arange(x_min, x_max, h), np.arange(y_min, y_max, h))\n",
    "Z = predict(w, np.c_[xx.ravel(), yy.ravel()])\n",
    "\n",
    "# Put the result into a color plot\n",
    "Z = Z.reshape(xx.shape)\n",
    "plt.pcolormesh(xx, yy, Z, cmap=plt.cm.Paired)\n",
    "\n",
    "plt.scatter(X[:, 0], X[:, 1], c=y, cmap=colors);"
   ]
  },
  {
   "cell_type": "markdown",
   "metadata": {
    "id": "_EqYZ35XWjs8"
   },
   "source": [
    "## Оценка качества классификации <a class='anchor' id='metrics'>"
   ]
  },
  {
   "cell_type": "markdown",
   "metadata": {
    "id": "A53yI7qKWjs8"
   },
   "source": [
    "Как и в случае линейной регрессии, в задачах классификации требуется оценивать качество обученной модели. Для этого существует большое количество подходов."
   ]
  },
  {
   "cell_type": "markdown",
   "metadata": {
    "id": "gx0akNl1Wjs9"
   },
   "source": [
    "Наиболее очевидным и простым способом является расчет *доли правильных ответов*:\n",
    "\n",
    "$$accuracy(a,x) = \\frac{1}{l} \\sum^{l}_{i=1}[a(x_{i})=y_{i}].$$\n",
    "\n",
    "**Проблемы accuracy:**<br>\n",
    "    \n",
    "    1) Дисбаланс классов\n",
    "    \n",
    "    кот - 950 наблюдений\n",
    "    голубь - 50 наблюдений\n",
    "    a(x) = кот\n",
    "\n",
    "    accuracy?\n",
    "\n",
    "    2) Ошибки могут иметь разную цену\n",
    "<img src='images/scoring.png' width=400px>"
   ]
  },
  {
   "cell_type": "markdown",
   "metadata": {
    "id": "Rz2yM298Wjs9"
   },
   "source": [
    "### Матрица ошибок"
   ]
  },
  {
   "cell_type": "markdown",
   "metadata": {
    "id": "08n8s3-UWjs-"
   },
   "source": [
    "Удобно представлять ответы в виде комбинации истинного ответа и ответа алгоритма. При этом получается так называемая _матрица ошибок_."
   ]
  },
  {
   "cell_type": "markdown",
   "metadata": {
    "id": "UO9WvB2RWjs_"
   },
   "source": [
    "|  <empty>   | $$y = +1$$ | $$y = -1$$ |\n",
    "--- | --- | ---\n",
    "| __$$a(x) = +1$$__  |  True Positive TP    |  False Positive  FP   |\n",
    "| __$$a(x) = -1$$__ |   False Negative FN    |   True Negative TN   |"
   ]
  },
  {
   "cell_type": "markdown",
   "metadata": {
    "id": "Q-TJ-Dy2WjtA"
   },
   "source": [
    "В матрице сверху отложены истинные ответы, слева - ответы алгоритма. Когда алгоритм относит объект к классу \"+1\", говорят, что он *срабатывает*, а когда к \"-1\", - *пропускает*. Если алгоритм сработал (дал положительный ответ) и объект действительно относится к классу \"+1\", говорят, что имеет место верное срабатывание/верный положительный ответ (True Positive, TP), а если объект не относится к классу \"+1\", это ложное срабатывание (False Positive, FP). Если алгоритм пропускает объект, а его истинный класс \"+1\", это ложный пропуск/ложный негативные ответ (False Negative, FN), а если истинный класс объекта \"-1\", имеет место истинный пропуск (True Negative, TN). При такой классификации уже есть два вида ошибок - ложные срабатывания и ложные пропуски. По главной диагонали в матрице ошибок располагаются верные ответы, по побочной - неверные."
   ]
  },
  {
   "cell_type": "markdown",
   "metadata": {
    "id": "FoL4ZQJFWjtA"
   },
   "source": [
    "### Точность и полнота"
   ]
  },
  {
   "cell_type": "markdown",
   "metadata": {
    "id": "nqEe7wphWjtB"
   },
   "source": [
    "В классификации часто используются две метрики - _точность_ и _полнота_.\n",
    "\n",
    "Точность (precision) представляет из себя долю истинных срабатываний от общего количества срабатываний. Она показывает, насколько можно доверять алгоритму классификации в случае срабатывания\n",
    "\n",
    "$$precision(a, X) = \\frac{TP}{TP+FP}.$$\n",
    "\n",
    "Полнота (recall) считается как доля объектов, истинно относящихся к классу \"+1\", которые алгоритм отнес к этому классу\n",
    "\n",
    "$$recall(a, X) = \\frac{TP}{TP+FN},$$\n",
    "\n",
    "здесь $TP+FN$ как раз будут вместе составлять весь список объектов класса \"+1\"."
   ]
  },
  {
   "cell_type": "markdown",
   "metadata": {},
   "source": [
    "<img src='images/prec_vs_recall.png'>"
   ]
  },
  {
   "cell_type": "markdown",
   "metadata": {
    "id": "DYnpf8r-WjtB"
   },
   "source": [
    "__Пример__\n",
    "\n",
    "Пусть у нас есть выборка из 100 объектов, из которых 50 относится к классу \"+1\" и 50 к классу \"-1\" и для этой работы с этой выборкой мы рассматриваем две модели: $a_{1}(x)$ с матрицей ошибок\n",
    "\n",
    "|  <empty>   | $$y = +1$$ | $$y = -1$$ |\n",
    "--- | --- | ---\n",
    "| __$$a_{1}(x) = +1$$__  |   40    |   10   |\n",
    "| __$$a_{1}(x) = -1$$__ |   10    |   40   |\n",
    "    \n",
    "\n",
    "и $a_{2}(x)$ с матрицей ошибок:\n",
    " \n",
    " \n",
    "|  <empty>   | $$y = +1$$ | $$y = -1$$ |\n",
    "--- | --- | ---\n",
    "| __$$a_{2}(x) = +1$$__  |   22    |   2   |\n",
    "| __$$a_{2}(x) = -1$$__ |   28    |   48   |"
   ]
  },
  {
   "cell_type": "markdown",
   "metadata": {
    "id": "mzCiUj65WjtC"
   },
   "source": [
    "Для первого алгоритма \n",
    "\n",
    "$$preсision(a_{1}, X)=0.8$$\n",
    "$$recall(a_{1}, X)=0.8$$\n",
    "\n",
    "Для второго алгоритма\n",
    "\n",
    "$$preсision(a_{2}, X)=0.92$$\n",
    "$$recall(a_{2}, X)=0.44$$\n",
    "\n",
    "Как мы видим, точность второй модели очень высока, но при этом сильно снижена полнота. Поэтому нужно правильно формировать бизнес-требования к модели, какой именно показатель должен быть определяющим. Например, если в задаче кредитного скоринга банк ставит цель возврата 90% кредитов, задачей ставится максимизация полноты при условии точности не ниже 0.9. А если при распознавании спама стоит требование, например, распознавать 95% спам-писем, задача состоит в максимизации точности при условии полноты не ниже 0.95."
   ]
  },
  {
   "cell_type": "markdown",
   "metadata": {
    "id": "FBf11-4WWjtD"
   },
   "source": [
    "Однако, такое ограничение есть не всегда, и в остальных случаях требуется максимизировать и полноту и точность. Есть различные варианты объединения их в одну метрику, одним из наиболее удобных из них является *F-мера*, которая представляет собой среднее гармоническое между точностью и полнотой\n",
    "\n",
    "$$F = \\frac{2 \\cdot precision \\cdot recall }{ presision + recall}.$$\n",
    "\n",
    "В отличие от, например, среднего арифметического, если хотя бы один из аргументов близок к нулю, то и среднее гармоническое будет близко к нулю. По сути, F-мера является сглаженной версией минимума из точности и полноты (см. графики)."
   ]
  },
  {
   "cell_type": "code",
   "execution_count": 205,
   "metadata": {},
   "outputs": [
    {
     "data": {
      "image/png": "[encoded data removed]",
      "text/plain": [
       "<Figure size 432x432 with 1 Axes>"
      ]
     },
     "metadata": {
      "needs_background": "light"
     },
     "output_type": "display_data"
    }
   ],
   "source": [
    "precisions, recalls = np.meshgrid(np.linspace(0.01, 1, 100), np.linspace(0.01, 1, 100))\n",
    "\n",
    "mean_levels = np.empty_like(precisions)\n",
    "for i in range(precisions.shape[0]):\n",
    "    for j in range(precisions.shape[1]):\n",
    "        mean_levels[i, j] = 1/2 * (precisions[i, j] + recalls[i, j])\n",
    "        \n",
    "plt.figure(figsize=(6, 6))\n",
    "plt.title('Mean')\n",
    "plt.xlabel('precision')\n",
    "plt.ylabel('recall')\n",
    "plt.grid()\n",
    "plt.contour(precisions, recalls, mean_levels, levels=20)\n",
    "plt.plot(0.1, 1, 'ro', ms=12)\n",
    "plt.plot(0.55, 0.55, 'bo', ms=12);"
   ]
  },
  {
   "cell_type": "markdown",
   "metadata": {},
   "source": [
    "|  <empty>   | red | blue |\n",
    "--- | --- | ---\n",
    "| precision  |   0.1    |   0.55   |\n",
    "| recall |   1    |   0.55   |\n",
    "| mean |   0.55    |   0.55   |"
   ]
  },
  {
   "cell_type": "code",
   "execution_count": 208,
   "metadata": {
    "id": "4kgiOPsYWjtE",
    "outputId": "dd914767-38e0-4d63-fbab-e8c85de3fae9"
   },
   "outputs": [
    {
     "data": {
      "image/png": "[encoded data removed]",
      "text/plain": [
       "<Figure size 432x432 with 1 Axes>"
      ]
     },
     "metadata": {
      "needs_background": "light"
     },
     "output_type": "display_data"
    }
   ],
   "source": [
    "precisions, recalls = np.meshgrid(np.linspace(0.01, 1, 100), np.linspace(0.01, 1, 100))\n",
    "\n",
    "min_levels = np.empty_like(precisions)\n",
    "for i in range(precisions.shape[0]):\n",
    "    for j in range(precisions.shape[1]):\n",
    "        min_levels[i, j] = min([precisions[i, j], recalls[i, j]])\n",
    "        \n",
    "plt.figure(figsize=(6, 6))\n",
    "plt.title('Minimum')\n",
    "plt.xlabel('precision')\n",
    "plt.ylabel('recall')\n",
    "plt.grid()\n",
    "plt.contour(precisions, recalls, min_levels, levels=20)\n",
    "plt.plot(0.1, 1, 'ro', ms=12)\n",
    "plt.plot(0.4, 0.4, 'bo', ms=12)\n",
    "plt.plot(0.4, 0.9, 'go', ms=12);"
   ]
  },
  {
   "cell_type": "markdown",
   "metadata": {},
   "source": [
    "|  <empty>   | red | blue | green|\n",
    "--- | --- | --- |---\n",
    "| precision  |   0.1    |   0.4   | 0.4|\n",
    "| recall |   1    |   0.4   | 0.9 |\n",
    "| min |   0.1   |   0.4   | 0.4|"
   ]
  },
  {
   "cell_type": "code",
   "execution_count": 209,
   "metadata": {
    "id": "9__Kd-LIWjtG",
    "outputId": "cca420b5-7583-422f-ff20-bc30a9589593"
   },
   "outputs": [
    {
     "data": {
      "image/png": "[encoded data removed]",
      "text/plain": [
       "<Figure size 432x432 with 1 Axes>"
      ]
     },
     "metadata": {
      "needs_background": "light"
     },
     "output_type": "display_data"
    }
   ],
   "source": [
    "f_levels = np.empty_like(precisions)\n",
    "for i in range(precisions.shape[0]):\n",
    "    for j in range(precisions.shape[1]):\n",
    "        f_levels[i, j] = 2 * precisions[i, j] * recalls[i, j] / (precisions[i, j] + recalls[i, j])\n",
    "\n",
    "plt.figure(figsize=(6, 6))        \n",
    "plt.title('F-score')\n",
    "plt.xlabel('precision')\n",
    "plt.ylabel('recall')\n",
    "plt.grid()\n",
    "plt.contour(precisions, recalls, f_levels, levels=20)\n",
    "plt.plot(0.1, 1, 'ro', ms=12)\n",
    "plt.plot(0.4, 0.4, 'bo', ms=12)\n",
    "plt.plot(0.4, 0.9, 'go', ms=12);"
   ]
  },
  {
   "cell_type": "markdown",
   "metadata": {},
   "source": [
    "|  <empty>   | red | blue | green|\n",
    "--- | --- | --- |---\n",
    "| precision  |   0.1    |   0.4   | 0.4|\n",
    "| recall |   1    |   0.4   | 0.9 |\n",
    "| f-score |   0.1818   |   0.4   | 0.55|"
   ]
  },
  {
   "cell_type": "markdown",
   "metadata": {
    "id": "Fm_bFr4RWjtI"
   },
   "source": [
    "Существует также усовершенствованная версия F-меры $F_{\\beta}$:\n",
    "\n",
    "$$F_{\\beta} = (1 + \\beta^{2}) \\frac{precision \\cdot recall}{\\beta^{2} \\cdot precision + recall}.$$\n",
    "\n",
    "Параметр $\\beta$ здесь определяет вес точности в метрике. При $\\beta = 1$ это среднее гармоническое, умноженное на 2 (чтобы в случае $precision = 1$ и $recall = 1$ $F_{1} = 1$). Его изменение требуется, когда необходимо отдать приоритет точности или полноте, как это было показано в примерах ранее. Чтобы важнее была полнота, $\\beta$ должно быть меньше 1, чтобы важнее была точность - больше."
   ]
  },
  {
   "cell_type": "markdown",
   "metadata": {
    "id": "FoL4ZQJFWjtA"
   },
   "source": [
    "### ROC-кривая"
   ]
  },
  {
   "cell_type": "markdown",
   "metadata": {
    "id": "dzt177cAWjtI"
   },
   "source": [
    "Итак, мы научились определять вероятность отнесения объекта к тому или иному классу и метрики, которые характеризуют качество работы алгоритма $a(x)=[b(x)>t]$, и теперь, чтобы конвертировать ее в бинарную метку (сделать выводы о принадлежности к классу), нужно определить значение порога вероятности $t$, при котором объект нужно относить к соответствующему классу. Естественным кажется вариант, при котором порог равен 0.5, но он не всегда оказывается оптимальным. Зачастую интерес представляет сам вещественнозначный алгоритм $b(x)$, а порог будет выбираться позже в зависимости от требований к точности и полноте. В таком случае появляется потребность в измерении качества семейства алгоритмов $a(x)=[b(x)>t]$ с различными $t$.\n",
    "\n",
    "<img src='images/roc-curve.png' width=400>\n",
    "\n",
    "Есть способы оценки модели в целом, не привязываясь к конкретному порогу. Первый из них основанна использовании _ROC-кривой_. Такая кривая строится в следующих координатах:\n",
    "\n",
    "по оси $x$ откладывается доля ложных срабатываний (False Positive Rate) - отношение числа ложных срабатываний к общему размеру отрицательного класса:\n",
    "\n",
    "$$FPR = \\frac{FP}{FP+TN}$$\n",
    "\n",
    "по оси $y$ откладывается доля верных срабатываний (True Positive Rate) - отношение числа верных срабатываний к размеру положительного класса:\n",
    "\n",
    "$$TPR = \\frac{TP}{TP+FN},$$\n",
    "\n",
    "то есть TPR по сути представляет из себя полноту, о которой мы говорили ранее.\n",
    "\n",
    "Точка на графике будет соответствовать конкретному классификатору с некоторым значением порога."
   ]
  },
  {
   "cell_type": "markdown",
   "metadata": {
    "id": "l9QFBNdNWjtJ"
   },
   "source": [
    "В качестве примера возьмем выборку из шести объектов, которым алгоритм $b(x)$ присвоил оценки принадлежности к классу 1:\n",
    "\n",
    "| $$b(x)$$ | 0 | 0.1 | 0.2 | 0.3 | 0.5 | 0.6 |\n",
    "| -------- | - | --- | --- | --- | --- | --- |\n",
    "|  $$y$$   | 0 |  0  |  1  |  1  |  0  |  1  |\n"
   ]
  },
  {
   "cell_type": "markdown",
   "metadata": {},
   "source": [
    "| $$$$ | 0 | 0.1 | 0.2 | 0.3 | 0.5 | 0.6 | 0.9 |\n",
    "| -------- | - | --- | --- | --- | --- | --- | --- |\n",
    "|  $$TPR$$   | 1 |  1  |  1  |  0,66  | 0,33   | 0,33  |  0  |\n",
    "|  $$FPR$$   | 1 |  0,66  |  0,33  |  0,33  |  0,33  |  0 |  0  |\n",
    "\n",
    "____________"
   ]
  },
  {
   "cell_type": "markdown",
   "metadata": {
    "id": "Lj9Dpt69WjtL"
   },
   "source": [
    "Теперь пойдем по порядку справа налево:\n",
    "\n",
    "1. Сначала выбираем самый большой порог, при котором ни один объект не будет отнесен к первому классу. При этом доля верных срабатываний и доля ложных срабатываний равны нулю. Получаем точку (0, 0).\n",
    "2. Далее снижая порог до 0,6, один объект будет отнесен к первому классу. Доля ложных срабатываний останется нулевой, доля верных срабатываний станет 1/3.\n",
    "3. При дальнейшем уменьшении порога до 0,5 второй справа один объект будет отнесен к первому классу. TPR останется 1/3, FPR также станет равна 1/3.\n",
    "4. Далее при снижении порога до 0.3 TPR станет 2/3, FPR останется 1/3.\n",
    "5. При пороге 0.2 TPR станет равна 1, FPR останется 1/3.\n",
    "6. При пороге 0.2 5 объектов будут отнесены алгоритмом к классу 1, TPR останется 1, FPR станет 2/3.\n",
    "7. При дальнейшем уменьшении порога все объекты будут отнесены к первому классу, и TPR и FPR станут равны 1."
   ]
  },
  {
   "cell_type": "markdown",
   "metadata": {
    "id": "2HIG6RE7WjtM"
   },
   "source": [
    "Построим соответствующий график"
   ]
  },
  {
   "cell_type": "code",
   "execution_count": 51,
   "metadata": {
    "id": "msxJ90-UWjtN",
    "outputId": "a7d41da5-e2ab-4b6b-9937-1cfa12a62af5"
   },
   "outputs": [
    {
     "data": {
      "image/png": "[encoded data removed]",
      "text/plain": [
       "<Figure size 432x288 with 1 Axes>"
      ]
     },
     "metadata": {
      "needs_background": "light"
     },
     "output_type": "display_data"
    }
   ],
   "source": [
    "from numpy import trapz  # используем эту функцию для расчета площади под кривой\n",
    "\n",
    "TPR = [0, 0.33, 0.33, 0.66, 1, 1, 1]\n",
    "FPR = [0, 0, 0.33, 0.33, 0.33, 0.66, 1]\n",
    "\n",
    "AUC_ROC = trapz(TPR, x = FPR, dx=0.1)\n",
    "\n",
    "plt.title('ROC curve')\n",
    "plt.ylim(0, 1.05)\n",
    "plt.xlabel('FPR')\n",
    "plt.ylabel('TPR')\n",
    "plt.grid()\n",
    "plt.legend(' ', title=f'AUC-ROC={AUC_ROC:.3f}', loc='lower right')\n",
    "plt.plot(FPR, TPR);"
   ]
  },
  {
   "cell_type": "markdown",
   "metadata": {
    "id": "XyESKowjWjtP"
   },
   "source": [
    "ROC кривая всегда идет из точки (0,0) в точку (1,1). При этом в случае наличия идеального классификатора с определенным порогом доля его верных ответов будет равна 1, а доля ложных срабатываний - 0, то есть график будет проходить через точку (0,1). Таким образом, чем ближе к этой точке проходит ROC-кривая, тем лучше наши оценки и лучше используемое семейство алгоритмов. Таким образом мерой качества оценок принадлежности к классу 1 может служить площадь под ROC-кривой. Такая метрика называется AUC-ROC (Area Under Curve - площадь под кривой ROC). В случае идеального алгоритма $AUC-ROC = 1$, а в случае худшего приближается к $\\frac{1}{2}$.\n",
    "\n",
    "Критерий AUC-ROC можно интерпретировать как вероятность того, что если выбрать случайные положительный и отрицательный объект выборки, положительный объект получит оценку принадлежности выше, чем отрицательный."
   ]
  },
  {
   "cell_type": "markdown",
   "metadata": {
    "id": "SsKR7UVvWjtP"
   },
   "source": [
    "Обычно объектов гораздо больше, чем в нашем примере, поэтому кривая в реальных задачах выглядит несколько иначе - в ней больше точек."
   ]
  },
  {
   "cell_type": "markdown",
   "metadata": {
    "id": "TcpsbtjDWjtQ"
   },
   "source": [
    "AUC-ROC не очень устойчив к несбалансированным выборкам. Допустим, нам нужно выбрать 100 релевантных документов из выборки в 1000000 документов. И у нас есть алгоритм, который дает выборку из 5000 документов, 90 из которых релевантны. В этом случае \n",
    "\n",
    "$$TPR=\\frac{TP}{TP+FN} = \\frac{90}{90+10}=0.9$$\n",
    "\n",
    "$$FPR=\\frac{FP}{FP+TN} = \\frac{4910}{4910+994990}=0.00491$$,\n",
    "\n",
    "Что является показателями очень хорошего алгоритма - AUC-ROC будет близка к 1, хотя на самом деле 4910 из 5000 выданных документов являются нерелевантными.\n",
    "\n",
    "Чтобы посмотреть реальное положение дел, рассчитаем точность и полноту:\n",
    "\n",
    "$$precision = \\frac{TP}{TP+FP}=\\frac{90}{90+4910} = 0.018$$\n",
    "\n",
    "$$recall = TPR = 0.9.$$\n",
    "\n",
    "Здесь уже видно, что алгоритм является недостаточно точным.\n",
    "\n",
    "Таким образом, если размер положительного класс значительно меньше отрицательного, AUC-ROC может давать неадекватную оценку качества алгоритма, так как измеряет долю ложных срабатываний относительно общего числа отрицательных объектов, и если оно большое, доля будет мала, хотя в абсолютном значении количество ложных срабатываний может заметно превышать количество верных срабатываний."
   ]
  },
  {
   "cell_type": "markdown",
   "metadata": {
    "id": "4r8uwAqDWjtR"
   },
   "source": [
    "<img src='images/pr-curve.png' width=400>\n",
    "Избавиться от такой проблемы можно используя другой метод - _кривую точности-полноты (PR-кривую)_. По оси $x$ откладывается полнота, по оси $y$ - точность, а точка на графике, аналогично ROC-кривой, будет соответствовать конкретному классификатору с некоторым значением порога. \n",
    "\n",
    "Возьмем использованный нами для постройки ROC-кривой набор данных и аналогичным образом построим PR-кривую.\n",
    "\n",
    "\n",
    "| $$b(x)$$ | 0 | 0.1 | 0.2 | 0.3 | 0.5 | 0.6 |\n",
    "| -------- | - | --- | --- | --- | --- | --- |\n",
    "|  $$y$$   | 0 |  0  |  1  |  1  |  0  |  1  |"
   ]
  },
  {
   "cell_type": "markdown",
   "metadata": {},
   "source": [
    "| $$$$ | 0 | 0.1 | 0.2 | 0.3 | 0.5 | 0.6 | 0.9 |\n",
    "| -------- | - | --- | --- | --- | --- | --- | --- |\n",
    "|  $$Precision$$   | 0,5 | 0,6  | 0,75  |  0,66 | 0,5  | 1  | 0  |\n",
    "|  $$Recall$$      | 1 | 1  |  1 |  0,66 |  0,33 |  0,33 | 0  |\n",
    "\n",
    "___________"
   ]
  },
  {
   "cell_type": "markdown",
   "metadata": {
    "id": "waknResiWjtV"
   },
   "source": [
    "Она всегда стартует в точке (0,0) и заканчивается в точке (1, r), где r - доля положительных объектов в выборке. В случае наличия идеального классификатора, у которого точность и полнота 100%, кривая пройдет через точку (1,1). Таким образом, чем ближе к этой точке кривая проходит, тем лучше оценки. Так что, как и в случае ROC-кривой, можно ввести метрику качества в виде площади под PR-кривой AUC-PR."
   ]
  },
  {
   "cell_type": "code",
   "execution_count": 52,
   "metadata": {
    "id": "8VcA_V-6WjtS",
    "outputId": "cd7e6ef6-9c96-4e71-e224-d7d5be406569"
   },
   "outputs": [
    {
     "data": {
      "image/png": "[encoded data removed]",
      "text/plain": [
       "<Figure size 432x288 with 1 Axes>"
      ]
     },
     "metadata": {
      "needs_background": "light"
     },
     "output_type": "display_data"
    }
   ],
   "source": [
    "precision = [0, 1, 0.5, 0.66, 0.75, 0.6, 0.5]\n",
    "recall = [0, 0.33, 0.33, 0.66, 1, 1, 1]\n",
    "\n",
    "AUC_PR = trapz(precision, x = recall, dx=0.1)\n",
    "\n",
    "plt.title('PR curve')\n",
    "plt.ylim(0, 1.05)\n",
    "plt.xlabel('recall')\n",
    "plt.ylabel('presision')\n",
    "plt.grid()\n",
    "plt.legend(' ', title=f'AUC-PR={AUC_PR:.3f}', loc='lower right')\n",
    "plt.plot(recall, precision);"
   ]
  },
  {
   "cell_type": "markdown",
   "metadata": {},
   "source": [
    "## <center>Практическая часть<a class=\"anchor\" id=\"practice\"></a><center>"
   ]
  },
  {
   "cell_type": "code",
   "execution_count": 34,
   "metadata": {
    "colab": {},
    "colab_type": "code",
    "id": "zhwkeWtb1O0w"
   },
   "outputs": [],
   "source": [
    "import numpy as np\n",
    "import matplotlib.pyplot as plt"
   ]
  },
  {
   "cell_type": "code",
   "execution_count": 35,
   "metadata": {
    "colab": {},
    "colab_type": "code",
    "id": "FeKFn2yb1To4"
   },
   "outputs": [],
   "source": [
    "X = np.array([ [   1,    1,  500,    1],\n",
    "               [   1,    1,  700,    1],\n",
    "               [   1,    2,  750,    2],\n",
    "               [   1,    5,  600,    1],\n",
    "               [   1,    3, 1450,    2],\n",
    "               [   1,    0,  800,    1],\n",
    "               [   1,    5, 1500,    3],\n",
    "               [   1,   10, 2000,    3],\n",
    "               [   1,    1,  450,    1],\n",
    "               [   1,    2, 1000,    2]], dtype = np.float64)\n",
    "\n",
    "y = np.array([0, 0, 1, 0, 1, 0, 1, 0, 1, 1], dtype = np.float64)"
   ]
  },
  {
   "cell_type": "code",
   "execution_count": 36,
   "metadata": {
    "colab": {
     "base_uri": "https://localhost:8080/",
     "height": 155
    },
    "colab_type": "code",
    "id": "yXSj4nbxHsFd",
    "outputId": "8d102d54-94bf-4acc-d5b8-d60da152b953",
    "scrolled": true
   },
   "outputs": [
    {
     "data": {
      "text/plain": [
       "array([[1.00e+00, 1.00e+00, 5.00e+02, 1.00e+00],\n",
       "       [1.00e+00, 1.00e+00, 7.00e+02, 1.00e+00],\n",
       "       [1.00e+00, 2.00e+00, 7.50e+02, 2.00e+00],\n",
       "       [1.00e+00, 5.00e+00, 6.00e+02, 1.00e+00],\n",
       "       [1.00e+00, 3.00e+00, 1.45e+03, 2.00e+00],\n",
       "       [1.00e+00, 0.00e+00, 8.00e+02, 1.00e+00],\n",
       "       [1.00e+00, 5.00e+00, 1.50e+03, 3.00e+00],\n",
       "       [1.00e+00, 1.00e+01, 2.00e+03, 3.00e+00],\n",
       "       [1.00e+00, 1.00e+00, 4.50e+02, 1.00e+00],\n",
       "       [1.00e+00, 2.00e+00, 1.00e+03, 2.00e+00]])"
      ]
     },
     "execution_count": 36,
     "metadata": {},
     "output_type": "execute_result"
    }
   ],
   "source": [
    "X"
   ]
  },
  {
   "cell_type": "code",
   "execution_count": 37,
   "metadata": {
    "colab": {
     "base_uri": "https://localhost:8080/",
     "height": 34
    },
    "colab_type": "code",
    "id": "QU0A16vZHugZ",
    "outputId": "71d74b95-77f4-41a7-e339-c9e7b2004e4b"
   },
   "outputs": [
    {
     "data": {
      "text/plain": [
       "array([0., 0., 1., 0., 1., 0., 1., 0., 1., 1.])"
      ]
     },
     "execution_count": 37,
     "metadata": {},
     "output_type": "execute_result"
    }
   ],
   "source": [
    "y"
   ]
  },
  {
   "cell_type": "code",
   "execution_count": 38,
   "metadata": {
    "colab": {},
    "colab_type": "code",
    "id": "M-aO1NTxOUfo"
   },
   "outputs": [],
   "source": [
    "def standard_scale(x):\n",
    "    res = (x - x.mean()) / x.std()\n",
    "    return res"
   ]
  },
  {
   "cell_type": "code",
   "execution_count": 39,
   "metadata": {
    "colab": {},
    "colab_type": "code",
    "id": "D8EL0iGJOVpe"
   },
   "outputs": [],
   "source": [
    "X_st = X.copy()\n",
    "X_st[:, 2] = standard_scale(X[:, 2])"
   ]
  },
  {
   "cell_type": "code",
   "execution_count": 40,
   "metadata": {
    "colab": {
     "base_uri": "https://localhost:8080/",
     "height": 155
    },
    "colab_type": "code",
    "id": "gviMxz7EOuI3",
    "outputId": "af9a2576-f4d7-41d7-e216-46e0a068cfad"
   },
   "outputs": [
    {
     "data": {
      "text/plain": [
       "array([[ 1.        ,  1.        , -0.97958969,  1.        ],\n",
       "       [ 1.        ,  1.        , -0.56713087,  1.        ],\n",
       "       [ 1.        ,  2.        , -0.46401617,  2.        ],\n",
       "       [ 1.        ,  5.        , -0.77336028,  1.        ],\n",
       "       [ 1.        ,  3.        ,  0.97958969,  2.        ],\n",
       "       [ 1.        ,  0.        , -0.36090146,  1.        ],\n",
       "       [ 1.        ,  5.        ,  1.08270439,  3.        ],\n",
       "       [ 1.        , 10.        ,  2.11385144,  3.        ],\n",
       "       [ 1.        ,  1.        , -1.08270439,  1.        ],\n",
       "       [ 1.        ,  2.        ,  0.05155735,  2.        ]])"
      ]
     },
     "execution_count": 40,
     "metadata": {},
     "output_type": "execute_result"
    }
   ],
   "source": [
    "X_st"
   ]
  },
  {
   "cell_type": "code",
   "execution_count": 41,
   "metadata": {
    "colab": {},
    "colab_type": "code",
    "id": "qMR5pOA38dDw"
   },
   "outputs": [],
   "source": [
    "def calc_logloss(y, y_pred):\n",
    "    err = - np.mean(y * np.log(y_pred) + (1.0 - y) * np.log(1.0 - y_pred))\n",
    "    return err"
   ]
  },
  {
   "cell_type": "code",
   "execution_count": 43,
   "metadata": {
    "colab": {
     "base_uri": "https://localhost:8080/",
     "height": 34
    },
    "colab_type": "code",
    "id": "R6zfOHMrBvnX",
    "outputId": "46df0625-963f-4401-da30-b5b42bcf1be7"
   },
   "outputs": [
    {
     "data": {
      "text/plain": [
       "0.164252033486018"
      ]
     },
     "execution_count": 43,
     "metadata": {},
     "output_type": "execute_result"
    }
   ],
   "source": [
    "# Пример применения\n",
    "y1 = np.array([1, 0])\n",
    "y_pred1 = np.array([0.8, 0.1])\n",
    "calc_logloss(y1, y_pred1)"
   ]
  },
  {
   "cell_type": "code",
   "execution_count": 45,
   "metadata": {},
   "outputs": [
    {
     "name": "stderr",
     "output_type": "stream",
     "text": [
      "/home/julia/PycharmProjects/Study/SocketLab/venv/lib/python3.6/site-packages/ipykernel_launcher.py:2: RuntimeWarning: divide by zero encountered in log\n",
      "  \n",
      "/home/julia/PycharmProjects/Study/SocketLab/venv/lib/python3.6/site-packages/ipykernel_launcher.py:2: RuntimeWarning: invalid value encountered in multiply\n",
      "  \n"
     ]
    },
    {
     "data": {
      "text/plain": [
       "nan"
      ]
     },
     "execution_count": 45,
     "metadata": {},
     "output_type": "execute_result"
    }
   ],
   "source": [
    "# Плохой пример применения\n",
    "y1 = np.array([1, 0])\n",
    "y_pred1 = np.array([1, 0.1])\n",
    "calc_logloss(y1, y_pred1)"
   ]
  },
  {
   "cell_type": "code",
   "execution_count": 46,
   "metadata": {
    "colab": {},
    "colab_type": "code",
    "id": "EEF9rWPNDnss"
   },
   "outputs": [],
   "source": [
    "def sigmoid(z):\n",
    "    res = 1 / (1 + np.exp(-z))\n",
    "    return res"
   ]
  },
  {
   "cell_type": "code",
   "execution_count": 47,
   "metadata": {
    "colab": {},
    "colab_type": "code",
    "id": "_9tN8lBEEeXU"
   },
   "outputs": [],
   "source": [
    "z = np.linspace(-10, 10, 101)"
   ]
  },
  {
   "cell_type": "code",
   "execution_count": 48,
   "metadata": {
    "colab": {},
    "colab_type": "code",
    "id": "nvIe3RpbEp4l"
   },
   "outputs": [],
   "source": [
    "probabilities = sigmoid(z)"
   ]
  },
  {
   "cell_type": "code",
   "execution_count": 49,
   "metadata": {
    "colab": {
     "base_uri": "https://localhost:8080/",
     "height": 283
    },
    "colab_type": "code",
    "id": "jQsCfht0Et1V",
    "outputId": "0c11fcdd-1cf9-49db-aaa7-4fa520ff840a"
   },
   "outputs": [
    {
     "data": {
      "image/png": "[encoded data removed]",
      "text/plain": [
       "<Figure size 432x288 with 1 Axes>"
      ]
     },
     "metadata": {
      "needs_background": "light"
     },
     "output_type": "display_data"
    }
   ],
   "source": [
    "plt.plot(z, probabilities)\n",
    "plt.show()"
   ]
  },
  {
   "cell_type": "markdown",
   "metadata": {
    "colab": {},
    "colab_type": "code",
    "id": "e6TH-mkPItb6"
   },
   "source": [
    "Logistic Regression"
   ]
  },
  {
   "cell_type": "code",
   "execution_count": 50,
   "metadata": {
    "colab": {},
    "colab_type": "code",
    "id": "qtgUN3LW-UIq"
   },
   "outputs": [],
   "source": [
    "def eval_model(X, y, iterations, eta=1e-4):\n",
    "    np.random.seed(42)\n",
    "    W = np.random.randn(X.shape[1])\n",
    "    n = X.shape[0]\n",
    "    \n",
    "    for i in range(iterations):\n",
    "        z = np.dot(X, W)\n",
    "        y_pred = sigmoid(z)\n",
    "        err = calc_logloss(y, y_pred)\n",
    "        \n",
    "        dQ = 1/n * X.T @ (y_pred - y)\n",
    "        W -= eta * dQ\n",
    "        if i % (iterations / 10) == 0:\n",
    "            print(i, W, err)\n",
    "    return W"
   ]
  },
  {
   "cell_type": "code",
   "execution_count": 51,
   "metadata": {
    "colab": {
     "base_uri": "https://localhost:8080/",
     "height": 190
    },
    "colab_type": "code",
    "id": "oqX7loklBmYZ",
    "outputId": "f4849295-1f14-40d8-c8f2-d1b002e130c5"
   },
   "outputs": [
    {
     "name": "stdout",
     "output_type": "stream",
     "text": [
      "0 [ 0.49667621 -0.13840939  0.6476858   1.52297324] 1.1785958344356262\n",
      "50 [ 0.494784   -0.14564801  0.6475462   1.52014828] 1.1657985749255426\n",
      "100 [ 0.49290109 -0.15285535  0.64740132  1.51733474] 1.1531112685708473\n",
      "150 [ 0.49102761 -0.16003088  0.64725118  1.51453281] 1.140535275330502\n",
      "200 [ 0.48916364 -0.16717404  0.64709581  1.51174267] 1.1280719326917483\n",
      "250 [ 0.48730929 -0.17428428  0.64693524  1.50896452] 1.1157225565960736\n",
      "300 [ 0.48546465 -0.18136107  0.64676951  1.50619853] 1.1034884426224387\n",
      "350 [ 0.48362982 -0.18840385  0.64659868  1.5034449 ] 1.0913708674192037\n",
      "400 [ 0.48180488 -0.19541206  0.64642281  1.50070383] 1.0793710903721336\n",
      "450 [ 0.47998993 -0.20238516  0.64624195  1.49797551] 1.0674903554915993\n"
     ]
    }
   ],
   "source": [
    "W = eval_model(X_st, y, iterations=500, eta=1e-4)"
   ]
  },
  {
   "cell_type": "markdown",
   "metadata": {},
   "source": [
    "## Домашнее задание <a class='anchor' id='hw'>"
   ]
  },
  {
   "cell_type": "markdown",
   "metadata": {},
   "source": [
    "1. *Измените функцию calc_logloss так, чтобы нули по возможности не попадали в np.log."
   ]
  },
  {
   "cell_type": "markdown",
   "metadata": {},
   "source": [
    "2. Подберите аргументы функции eval_model для логистической регрессии таким образом, чтобы log loss был минимальным.\n"
   ]
  },
  {
   "cell_type": "markdown",
   "metadata": {},
   "source": [
    "3. Создайте функцию calc_pred_proba, возвращающую предсказанную вероятность класса 1 (на вход подаются W, который уже посчитан функцией eval_model и X, на выходе - массив y_pred_proba).\n"
   ]
  },
  {
   "cell_type": "markdown",
   "metadata": {},
   "source": [
    "4. Создайте функцию calc_pred, возвращающую предсказанный класс (на вход подаются W, который уже посчитан функцией eval_model и X, на выходе - массив y_pred)."
   ]
  },
  {
   "cell_type": "markdown",
   "metadata": {},
   "source": [
    "5. *Реализуйте функции для подсчета Accuracy, матрицы ошибок, точности и полноты, а также F1 score."
   ]
  },
  {
   "cell_type": "markdown",
   "metadata": {},
   "source": [
    "6. Могла ли модель переобучиться? Почему?"
   ]
  },
  {
   "cell_type": "markdown",
   "metadata": {},
   "source": [
    "Проект: \n",
    "1. https://www.kaggle.com/c/regression-tutors-expected-math-exam-results регрессия\n",
    "1. https://www.kaggle.com/c/classification-choose-tutors классификация"
   ]
  },
  {
   "cell_type": "markdown",
   "metadata": {
    "id": "TBQTgdl2WjtW"
   },
   "source": [
    "## Дополнительные материалы"
   ]
  },
  {
   "cell_type": "markdown",
   "metadata": {
    "id": "c4eqL1suWjtW"
   },
   "source": [
    "1. [Функции потерь для классификации](https://en.wikipedia.org/wiki/Loss_functions_for_classification)\n",
    "\n",
    "2. Метод максимального правдоподобия: [Сложное описание](https://habr.com/ru/company/ods/blog/323890/#metod-maksimalnogo-pravdopodobiya) / [Простое описание](https://www.youtube.com/watch?v=2iRIqkm1mug)\n",
    "\n",
    "3. [Встроенные датасеты Sklearn](https://scikit-learn.org/stable/modules/classes.html#module-sklearn.datasets)\n",
    "\n",
    "4. Площаль под кривой [numpy.trapz](https://docs.scipy.org/doc/numpy-1.13.0/reference/generated/numpy.trapz.html)\n"
   ]
  },
  {
   "cell_type": "markdown",
   "metadata": {
    "colab_type": "text",
    "id": "v5wUbEYBWjtX"
   },
   "source": [
    "##  Summary"
   ]
  },
  {
   "cell_type": "markdown",
   "metadata": {},
   "source": [
    "* Логистическая регрессия - частный случай линейной классификации - предсказывает вероятность отнесения объекта к основному классу, что зачастую очень важно при интерпретации\n",
    "* Для \"отображения\" действительных предсказаний линейной модели в \"вероятностный\" интервал [0,1] применяют сигмоиду\n",
    "* Для обучения логистической регрессии используют логарифмическую функцию потерь (log-loss), полученную методом максимального правдоподобия (maximum likelihood estimation)\n",
    "* Оптимизируем log-loss классическим градиентным спуском, в котором берем градиент log-loss'а\n",
    "* Основными метриками качества классификатора являются Accuracy, Precision, Recall, ROC-AUC, PR-AUC, F-мера\n",
    "* Нужно быть внимательным при работе с этими метриками и хорошо понимать, как они работают и как между собой связаны, иначе выводы могут получиться неверными"
   ]
  },
  {
   "cell_type": "markdown",
   "metadata": {},
   "source": [
    "### Опеределения\n",
    "*Масштабирование данных*\n",
    "\n",
    "**Классификация** — задача, в которой имеется множество объектов, разделённых некоторым образом на классы.\n",
    "\n",
    "**Линейный классификатор** — алгоритм классификации, основанный на построении линейной разделяющей поверхности.\n",
    "\n",
    "**Отступ (для классификатора)** — эвристика, оценивающая то, насколько объект принадлежит классу, насколько эталонным представителем он является.\n",
    "____________\n",
    "_Логистическая регрессия_\n",
    "\n",
    "**Логистическая регрессия** — метод построения линейного классификатора, позволяющий оценивать апостериорные вероятности принадлежности объектов классам.\n",
    "\n",
    "**Риск** – отношение вероятности «положительный эффект» к вероятности «отрицательный эффект».\n",
    "\n",
    "**Логит** – натуральный логарифм отношения вероятности «положительный эффект» к вероятности «отрицательный эффект».\n",
    "____________\n",
    "_Метрики качества классификации_\n",
    "\n",
    "**Accuracy** – доля правильных ответов.\n",
    "\n",
    "$$accuracy(a,x) = \\frac{1}{l} \\sum^{l}_{i=1}[a(x_{i})=y_{i}].$$\n",
    "\n",
    "**Точность (precision)** – долю истинных срабатываний от общего количества срабатываний.\n",
    "\n",
    "$$precision(a, X) = \\frac{TP}{TP+FP}.$$\n",
    "\n",
    "**Полнота (recall)** – доля объектов, истинно относящихся к выбранному классу, которые алгоритм отнес к этому классу.\n",
    "\n",
    "$$recall(a, X) = \\frac{TP}{TP+FN},$$\n",
    "\n",
    "**F-мера** – среднее гармоническое между точностью и полнотой.\n",
    "\n",
    "$$F_{\\beta} = (1 + \\beta^{2}) \\frac{precision \\cdot recall}{\\beta^{2} \\cdot precision + recall}.$$\n",
    "\n",
    "**ROC-кривая** (receiver operating characteristic) — график, позволяющий оценить качество бинарной классификации, отображает соотношение между долей объектов от общего количества носителей признака, верно классифицированных как несущие признак (TPR), и долей объектов от общего количества объектов, не несущих признака, ошибочно классифицированных как несущие признак (FPR) при варьировании порога решающего правила.\n",
    "\n",
    "**PR-кривая** — график, позволяющий оценить качество бинарной классификации, отображает соотношение между Precision и Recall."
   ]
  }
 ],
 "metadata": {
  "colab": {
   "collapsed_sections": [],
   "name": "Lesson_3.ipynb",
   "provenance": []
  },
  "kernelspec": {
   "display_name": "Python 3",
   "language": "python",
   "name": "python3"
  },
  "language_info": {
   "codemirror_mode": {
    "name": "ipython",
    "version": 3
   },
   "file_extension": ".py",
   "mimetype": "text/x-python",
   "name": "python",
   "nbconvert_exporter": "python",
   "pygments_lexer": "ipython3",
   "version": "3.6.8"
  }
 },
 "nbformat": 4,
 "nbformat_minor": 1
}
