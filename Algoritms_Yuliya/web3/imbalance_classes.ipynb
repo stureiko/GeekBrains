{
 "cells": [
  {
   "cell_type": "code",
   "execution_count": 1,
   "metadata": {},
   "outputs": [],
   "source": [
    "from sklearn.linear_model import LogisticRegressionCV\n",
    "from sklearn.metrics import classification_report, f1_score\n",
    "from sklearn.model_selection import train_test_split\n",
    "from sklearn.datasets import make_classification\n",
    "\n",
    "import matplotlib.pyplot as plt\n",
    "import seaborn as sns\n",
    "\n",
    "import pandas as pd\n",
    "import numpy as np\n",
    "\n",
    "import warnings\n",
    "warnings.filterwarnings('ignore')"
   ]
  },
  {
   "cell_type": "code",
   "execution_count": 2,
   "metadata": {},
   "outputs": [
    {
     "data": {
      "text/plain": [
       "0    6982\n",
       "1    3018\n",
       "Name: target, dtype: int64"
      ]
     },
     "execution_count": 2,
     "metadata": {},
     "output_type": "execute_result"
    }
   ],
   "source": [
    "X, y = make_classification(n_samples=10000, weights=[0.7, 0.3], n_informative=5, n_features=10,\n",
    "                           n_redundant=5, random_state=1)\n",
    "X = pd.DataFrame(X)\n",
    "y = pd.Series(y, name='target')\n",
    "y.value_counts()"
   ]
  },
  {
   "cell_type": "code",
   "execution_count": 3,
   "metadata": {},
   "outputs": [],
   "source": [
    "df = pd.concat([X, y], axis=1)\n",
    "target = 'target'"
   ]
  },
  {
   "cell_type": "markdown",
   "metadata": {},
   "source": [
    "## Балансировка данных\n",
    "\n",
    "**Способы борьбы с дисбалансом классов**\n",
    "\n",
    "1. Собрать больше данных\n",
    "2. Выбрать подходящую метрику качества\n",
    "3. Попробовать разные модели, одни модели более устойчивы к несбалансированным данным, чем другие\n",
    "4. Штраф за ошибки при прогнозе меньшего класса\n",
    "5. Undersampling и Oversampling\n",
    "\n",
    "https://habr.com/ru/post/461285/\n",
    "<img src=\"images/balancing.png\">\n",
    "Undersampling с использованием Tomek Links:\n",
    "<img src=\"images/tomek.png\">\n",
    "Oversampling со SMOTE:\n",
    "<img src=\"images/smote.png\">"
   ]
  },
  {
   "cell_type": "code",
   "execution_count": 4,
   "metadata": {},
   "outputs": [
    {
     "data": {
      "text/plain": [
       "0    6982\n",
       "1    3018\n",
       "Name: target, dtype: int64"
      ]
     },
     "execution_count": 4,
     "metadata": {},
     "output_type": "execute_result"
    }
   ],
   "source": [
    "df[target].value_counts()"
   ]
  },
  {
   "cell_type": "code",
   "execution_count": 5,
   "metadata": {},
   "outputs": [
    {
     "data": {
      "text/plain": [
       "0    0.69825\n",
       "1    0.30175\n",
       "Name: target, dtype: float64"
      ]
     },
     "metadata": {},
     "output_type": "display_data"
    },
    {
     "data": {
      "text/plain": [
       "0    0.698\n",
       "1    0.302\n",
       "Name: target, dtype: float64"
      ]
     },
     "metadata": {},
     "output_type": "display_data"
    }
   ],
   "source": [
    "X_train, X_test, y_train, y_test = train_test_split(X, y, test_size=0.2, random_state=2, stratify=y)\n",
    "\n",
    "display(y_train.value_counts(normalize=True), y_test.value_counts(normalize=True))"
   ]
  },
  {
   "cell_type": "code",
   "execution_count": 6,
   "metadata": {},
   "outputs": [
    {
     "data": {
      "text/plain": [
       "2.3140016570008286"
      ]
     },
     "execution_count": 6,
     "metadata": {},
     "output_type": "execute_result"
    }
   ],
   "source": [
    "disbalance = y_train.value_counts()[0] / y_train.value_counts()[1]\n",
    "disbalance"
   ]
  },
  {
   "cell_type": "code",
   "execution_count": 7,
   "metadata": {},
   "outputs": [
    {
     "name": "stdout",
     "output_type": "stream",
     "text": [
      "F1-мера на первом классе на трейне 0.68\n",
      "F1-мера на первом классе на тесте 0.69\n"
     ]
    }
   ],
   "source": [
    "lr = LogisticRegressionCV()\n",
    "lr.fit(X_train, y_train)\n",
    "\n",
    "pred_train = lr.predict(X_train)\n",
    "pred_test = lr.predict(X_test)\n",
    "\n",
    "print(f'F1-мера на первом классе на трейне {round(f1_score(y_train, pred_train), 2)}')\n",
    "print(f'F1-мера на первом классе на тесте {round(f1_score(y_test, pred_test), 2)}')"
   ]
  },
  {
   "cell_type": "code",
   "execution_count": 8,
   "metadata": {},
   "outputs": [],
   "source": [
    "def balance_df_by_target(df, target_name, method='over'):\n",
    "\n",
    "    assert method in ['over', 'under', 'tomek', 'smote'], 'Неверный метод сэмплирования'\n",
    "    \n",
    "    target_counts = df[target_name].value_counts()\n",
    "\n",
    "    major_class_name = target_counts.argmax()\n",
    "    minor_class_name = target_counts.argmin()\n",
    "\n",
    "    disbalance_coeff = int(target_counts[major_class_name] / target_counts[minor_class_name]) - 1\n",
    "    if method == 'over':\n",
    "        for i in range(disbalance_coeff):\n",
    "            sample = df[df[target_name] == minor_class_name].sample(target_counts[minor_class_name])\n",
    "            df = df.append(sample, ignore_index=True)\n",
    "            \n",
    "    elif method == 'under':\n",
    "        df_ = df.copy()\n",
    "        df = df_[df_[target_name] == minor_class_name]\n",
    "        tmp = df_[df_[target_name] == major_class_name]\n",
    "        df = df.append(tmp.iloc[\n",
    "            np.random.randint(0, tmp.shape[0], target_counts[minor_class_name])\n",
    "        ], ignore_index=True)\n",
    "\n",
    "    elif method == 'tomek':\n",
    "        from imblearn.under_sampling import TomekLinks\n",
    "        tl = TomekLinks()\n",
    "        X_tomek, y_tomek = tl.fit_sample(df.drop(columns=target_name), df[target_name])\n",
    "        df = pd.concat([X_tomek, y_tomek], axis=1)\n",
    "    \n",
    "    elif method == 'smote':\n",
    "        from imblearn.over_sampling import SMOTE\n",
    "        smote = SMOTE()\n",
    "        X_smote, y_smote = smote.fit_sample(df.drop(columns=target_name), df[target_name])\n",
    "        df = pd.concat([X_smote, y_smote], axis=1)\n",
    "\n",
    "    return df.sample(frac=1) "
   ]
  },
  {
   "cell_type": "markdown",
   "metadata": {},
   "source": [
    "_Oversampling_"
   ]
  },
  {
   "cell_type": "code",
   "execution_count": 9,
   "metadata": {},
   "outputs": [
    {
     "name": "stdout",
     "output_type": "stream",
     "text": [
      "До oversampling:\n",
      "0    5586\n",
      "1    2414\n",
      "Name: target, dtype: int64\n",
      "\n",
      "После oversampling:\n",
      "0    5586\n",
      "1    4828\n",
      "Name: target, dtype: int64\n"
     ]
    }
   ],
   "source": [
    "train_df = pd.concat([pd.DataFrame(X_train), y_train], axis=1)\n",
    "print(f'До oversampling:\\n{y_train.value_counts()}')\n",
    "over_df = balance_df_by_target(train_df, target_name=target, method='over')\n",
    "print(f'\\nПосле oversampling:\\n{over_df[target].value_counts()}')"
   ]
  },
  {
   "cell_type": "code",
   "execution_count": 10,
   "metadata": {},
   "outputs": [
    {
     "name": "stdout",
     "output_type": "stream",
     "text": [
      "F1-мера на первом классе на трейне 0.85\n",
      "F1-мера на первом классе на тесте 0.77\n"
     ]
    }
   ],
   "source": [
    "lr = LogisticRegressionCV()\n",
    "lr.fit(over_df.drop(columns=target), over_df[target])\n",
    "\n",
    "pred_train = lr.predict(over_df.drop(columns=target))\n",
    "pred_test = lr.predict(X_test)\n",
    "\n",
    "print(f'F1-мера на первом классе на трейне {round(f1_score(over_df[target], pred_train), 2)}')\n",
    "print(f'F1-мера на первом классе на тесте {round(f1_score(y_test, pred_test), 2)}')"
   ]
  },
  {
   "cell_type": "markdown",
   "metadata": {},
   "source": [
    "_Undersampling_"
   ]
  },
  {
   "cell_type": "code",
   "execution_count": 11,
   "metadata": {},
   "outputs": [
    {
     "name": "stdout",
     "output_type": "stream",
     "text": [
      "До undersampling:\n",
      "0    5586\n",
      "1    2414\n",
      "Name: target, dtype: int64\n",
      "\n",
      "После undersampling:\n",
      "1    2414\n",
      "0    2414\n",
      "Name: target, dtype: int64\n"
     ]
    }
   ],
   "source": [
    "print(f'До undersampling:\\n{train_df[target].value_counts()}')\n",
    "under_df = balance_df_by_target(train_df, target_name=target, method='under')\n",
    "print(f'\\nПосле undersampling:\\n{under_df[target].value_counts()}')"
   ]
  },
  {
   "cell_type": "code",
   "execution_count": 12,
   "metadata": {},
   "outputs": [
    {
     "name": "stdout",
     "output_type": "stream",
     "text": [
      "F1-мера на первом классе на трейне 0.88\n",
      "F1-мера на первом классе на тесте 0.78\n"
     ]
    }
   ],
   "source": [
    "lr = LogisticRegressionCV()\n",
    "lr.fit(under_df.drop(columns=target), under_df[target])\n",
    "\n",
    "pred_train = lr.predict(under_df.drop(columns=target))\n",
    "pred_test = lr.predict(X_test)\n",
    "\n",
    "print(f'F1-мера на первом классе на трейне {round(f1_score(under_df[target], pred_train), 2)}')\n",
    "print(f'F1-мера на первом классе на тесте {round(f1_score(y_test, pred_test), 2)}')"
   ]
  },
  {
   "cell_type": "markdown",
   "metadata": {},
   "source": [
    "_Undersampling (TomekLinks)_ "
   ]
  },
  {
   "cell_type": "code",
   "execution_count": 13,
   "metadata": {},
   "outputs": [
    {
     "name": "stdout",
     "output_type": "stream",
     "text": [
      "До undersampling:\n",
      "0    5586\n",
      "1    2414\n",
      "Name: target, dtype: int64\n",
      "\n",
      "После undersampling:\n",
      "0    5462\n",
      "1    2414\n",
      "Name: target, dtype: int64\n"
     ]
    }
   ],
   "source": [
    "print(f'До undersampling:\\n{train_df[target].value_counts()}')\n",
    "under_df = balance_df_by_target(train_df, target_name=target, method='tomek')\n",
    "print(f'\\nПосле undersampling:\\n{under_df[target].value_counts()}')"
   ]
  },
  {
   "cell_type": "code",
   "execution_count": 14,
   "metadata": {},
   "outputs": [
    {
     "name": "stdout",
     "output_type": "stream",
     "text": [
      "F1-мера на первом классе на трейне 0.71\n",
      "F1-мера на первом классе на тесте 0.7\n"
     ]
    }
   ],
   "source": [
    "lr = LogisticRegressionCV()\n",
    "lr.fit(under_df.drop(columns=target), under_df[target])\n",
    "\n",
    "pred_train = lr.predict(under_df.drop(columns=target))\n",
    "pred_test = lr.predict(X_test)\n",
    "\n",
    "print(f'F1-мера на первом классе на трейне {round(f1_score(under_df[target], pred_train), 2)}')\n",
    "print(f'F1-мера на первом классе на тесте {round(f1_score(y_test, pred_test), 2)}')"
   ]
  },
  {
   "cell_type": "markdown",
   "metadata": {},
   "source": [
    "_Oversampling (SMOTE)_"
   ]
  },
  {
   "cell_type": "code",
   "execution_count": 15,
   "metadata": {},
   "outputs": [
    {
     "name": "stdout",
     "output_type": "stream",
     "text": [
      "До undersampling:\n",
      "0    5586\n",
      "1    2414\n",
      "Name: target, dtype: int64\n",
      "\n",
      "После oversampling:\n",
      "1    5586\n",
      "0    5586\n",
      "Name: target, dtype: int64\n"
     ]
    }
   ],
   "source": [
    "print(f'До undersampling:\\n{train_df[target].value_counts()}')\n",
    "over_df = balance_df_by_target(train_df, target_name=target, method='smote')\n",
    "print(f'\\nПосле oversampling:\\n{over_df[target].value_counts()}')"
   ]
  },
  {
   "cell_type": "code",
   "execution_count": 16,
   "metadata": {},
   "outputs": [
    {
     "name": "stdout",
     "output_type": "stream",
     "text": [
      "F1-мера на первом классе на трейне 0.87\n",
      "F1-мера на первом классе на тесте 0.78\n"
     ]
    }
   ],
   "source": [
    "lr = LogisticRegressionCV()\n",
    "lr.fit(over_df.drop(columns=target), over_df[target])\n",
    "\n",
    "pred_train = lr.predict(over_df.drop(columns=target))\n",
    "pred_test = lr.predict(X_test)\n",
    "\n",
    "print(f'F1-мера на первом классе на трейне {round(f1_score(over_df[target], pred_train), 2)}')\n",
    "print(f'F1-мера на первом классе на тесте {round(f1_score(y_test, pred_test), 2)}')"
   ]
  },
  {
   "cell_type": "markdown",
   "metadata": {},
   "source": [
    "_Балансировка через атрибуты моделей (веса классов)_"
   ]
  },
  {
   "cell_type": "code",
   "execution_count": 17,
   "metadata": {},
   "outputs": [
    {
     "data": {
      "text/plain": [
       "2.3140016570008286"
      ]
     },
     "execution_count": 17,
     "metadata": {},
     "output_type": "execute_result"
    }
   ],
   "source": [
    "disbalance"
   ]
  },
  {
   "cell_type": "code",
   "execution_count": 18,
   "metadata": {},
   "outputs": [
    {
     "name": "stdout",
     "output_type": "stream",
     "text": [
      "F1-мера на первом классе на трейне 0.77\n",
      "F1-мера на первом классе на тесте 0.78\n"
     ]
    }
   ],
   "source": [
    "lr = LogisticRegressionCV(\n",
    "#                             class_weight={0: 1, 1: disbalance},\n",
    "                            class_weight=\"balanced\"\n",
    "                            )\n",
    "lr.fit(X_train, y_train)\n",
    "\n",
    "pred_train = lr.predict(X_train)\n",
    "pred_test = lr.predict(X_test)\n",
    "\n",
    "print(f'F1-мера на первом классе на трейне {round(f1_score(y_train, pred_train), 2)}')\n",
    "print(f'F1-мера на первом классе на тесте {round(f1_score(y_test, pred_test), 2)}')"
   ]
  }
 ],
 "metadata": {
  "kernelspec": {
   "display_name": "Python 3",
   "language": "python",
   "name": "python3"
  },
  "language_info": {
   "codemirror_mode": {
    "name": "ipython",
    "version": 3
   },
   "file_extension": ".py",
   "mimetype": "text/x-python",
   "name": "python",
   "nbconvert_exporter": "python",
   "pygments_lexer": "ipython3",
   "version": "3.6.8"
  }
 },
 "nbformat": 4,
 "nbformat_minor": 2
}
