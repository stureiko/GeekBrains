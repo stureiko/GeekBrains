{
 "cells": [
  {
   "cell_type": "code",
   "execution_count": 141,
   "metadata": {},
   "outputs": [],
   "source": [
    "import time\n",
    "import numpy as np\n",
    "import pandas as pd\n",
    "import seaborn as sns\n",
    "import xgboost as xgb\n",
    "import lightgbm as lgb\n",
    "import matplotlib.pyplot as plt\n",
    "\n",
    "from tqdm import tqdm\n",
    "from scipy.stats import gmean, rankdata\n",
    "from sklearn.metrics import roc_auc_score\n",
    "from sklearn.model_selection import train_test_split, KFold"
   ]
  },
  {
   "cell_type": "markdown",
   "metadata": {},
   "source": [
    "## Ансамблирование моделей\n",
    "\n",
    "Ансамбль методов в статистике и машинном обучении использует несколько обучающих алгоритмов с целью получения лучшей эффективности прогнозирования, чем могли бы получить от каждого обучающего алгоритма по отдельности. Так что же такое ансамблирование? Под эти термином мы подразумеваем объединение множества различных моделей машинного обучения для получения более точного прогноза. Существуют различные ансамблевые методы, многие их которых регулярно используются в соревнованиях по машинному обучению, и как правило, оказываются достаточно конкурентноспособными. Мы начнем с простых методов усреднения, затем перейдем к методам взвешенного усреднения. А затем мы перейдем к более типичным методам, таким как бэггинг или очень популярная технология, стэкинга.\n",
    "\n",
    "__Основная идея__ - использовать модели, близкие по качеству, но отличающиеся по природе / выборке, на которой обучались / степени регуляризации / подходу к созданию признаков / подходу к обработке категорий / ..., для взаимной компенсации ошибок друг друга и улучшения качества итоговой композиции.\n",
    "\n",
    "* __Бэггинг__ - мы хотим подобрать несколько независимых моделей и усреднить их прогнозы, чтобы получить модель с меньшей дисперсией. На практике, мы не можем подобрать полностью независимые модели, потому что для этого требуется слишком много данных, а нащ датасет является ограниченным. Таким образом, мы должны снизить корреляции между моделями, в надежде снизить общую дисперсию. Можем использовать бутстрап выборки для создания независимых моделей, после чего \"усреднить\" прогнозы всех моделей.\n",
    "\n",
    "* __Арифмитическое среднее__ - усреднее прогнозов моделей, похожих по значению метрики качества, не коррелированных друг с другом. Выделяют также взвешенное усреднее - веса подбираются вручную или с использованием scipy.optimize.\n",
    "\n",
    "* __Стэкинг__ - использование прогнозов базовых моделей в качестве признаков или в дополнении к основным признакам, и обучение модели второго уровня на такой матрице признаков. Корреляция = 0.98, качество отдельных моделей - близко, модели / признаки / гиперпараметры как можно более разные."
   ]
  },
  {
   "cell_type": "code",
   "execution_count": 96,
   "metadata": {},
   "outputs": [
    {
     "name": "stdout",
     "output_type": "stream",
     "text": [
      "data.shape = 249988 rows, 59 cols\n"
     ]
    }
   ],
   "source": [
    "data = pd.read_csv(\"data/porto_train.csv\")\n",
    "test = pd.read_csv(\"data/porto_lb.csv\")\n",
    "print(\"data.shape = {} rows, {} cols\".format(*data.shape))"
   ]
  },
  {
   "cell_type": "code",
   "execution_count": 128,
   "metadata": {},
   "outputs": [],
   "source": [
    "def lightgbm_cross_validation(params, X, y, cv, categorical = None):\n",
    "    \"\"\"\n",
    "    Кросс-валидация для модели catbooost.\n",
    "\n",
    "    Parameters\n",
    "    ----------\n",
    "    params: dict\n",
    "        Словарь гиперпараметров модели.\n",
    "\n",
    "    X: pandas.core.frame.DataFrame\n",
    "        Матрица признако для обучения модели.\n",
    "\n",
    "    y: pandas.core.frame.Series\n",
    "        Вектор целевой переменной для обучения модели.\n",
    "\n",
    "    cv: KFold or StratifiedKFold generator.\n",
    "        Объект KFold / StratifiedKFold для определения\n",
    "        стратегии кросс-валидации модели.\n",
    "\n",
    "    categorical: str, optional, default = None\n",
    "        Список категориальных признаков.\n",
    "        Опциональный параметр, по умолчанию, не используется.\n",
    "\n",
    "    Returns\n",
    "    -------\n",
    "    estimators: list\n",
    "        Список с объектами обученной модели.\n",
    "\n",
    "    oof_preds: np.array\n",
    "        Вектор OOF-прогнозов.\n",
    "\n",
    "    \"\"\"\n",
    "    if not categorical:\n",
    "        categorical = \"auto\"\n",
    "\n",
    "    estimators, folds_scores = [], []\n",
    "    oof_preds = np.zeros(X.shape[0])\n",
    "    print(f\"{time.ctime()}, Cross-Validation, {X.shape[0]} rows, {X.shape[1]} cols\")\n",
    "\n",
    "    for fold, (train_idx, valid_idx) in enumerate(cv.split(X, y)):\n",
    "        x_train, x_valid = X.loc[train_idx], X.loc[valid_idx]\n",
    "        y_train, y_valid = y[train_idx], y[valid_idx]\n",
    "\n",
    "        model = lgb.LGBMClassifier(**params)\n",
    "        model.fit(\n",
    "            x_train, y_train,\n",
    "            eval_set=[(x_valid, y_valid)],\n",
    "            eval_metric=\"auc\", verbose=50, early_stopping_rounds=5000,\n",
    "            categorical_feature=categorical\n",
    "        )\n",
    "        oof_preds[valid_idx] = model.predict_proba(x_valid)[:, 1]\n",
    "        score = roc_auc_score(y_valid, oof_preds[valid_idx])\n",
    "        print(f\"Fold {fold+1}, Valid score = {round(score, 5)}\")\n",
    "        folds_scores.append(round(score, 5))\n",
    "        estimators.append(model)\n",
    "\n",
    "    print(f\"Score by each fold: {folds_scores}\")\n",
    "    print(\"=\"*65)\n",
    "    return estimators, oof_preds\n",
    "\n",
    "\n",
    "def xgboost_cross_validation(params, X, y, cv, categorical = None):\n",
    "    \"\"\"\n",
    "    Кросс-валидация для модели catbooost.\n",
    "\n",
    "    Parameters\n",
    "    ----------\n",
    "    params: dict\n",
    "        Словарь гиперпараметров модели.\n",
    "\n",
    "    X: pandas.core.frame.DataFrame\n",
    "        Матрица признако для обучения модели.\n",
    "\n",
    "    y: pandas.core.frame.Series\n",
    "        Вектор целевой переменной для обучения модели.\n",
    "\n",
    "    cv: KFold or StratifiedKFold generator.\n",
    "        Объект KFold / StratifiedKFold для определения\n",
    "        стратегии кросс-валидации модели.\n",
    "\n",
    "    categorical: str, optional, default = None\n",
    "        Список категориальных признаков.\n",
    "        Опциональный параметр, по умолчанию, не используется.\n",
    "\n",
    "    Returns\n",
    "    -------\n",
    "    estimators: list\n",
    "        Список с объектами обученной модели.\n",
    "\n",
    "    encoders: dict\n",
    "        Список с объектами LabelEncoders.\n",
    "\n",
    "    oof_preds: np.array\n",
    "        Вектор OOF-прогнозов.\n",
    "\n",
    "    \"\"\"\n",
    "    estimators, encoders = [], {}\n",
    "    oof_preds = np.zeros(X.shape[0])\n",
    "\n",
    "    if categorical:\n",
    "        for feature in categorical:\n",
    "            encoder = LabelEncoder()\n",
    "            X[feature] = encoder.fit_transform(X[feature].astype(\"str\").fillna(\"NA\"))\n",
    "            encoders[feature] = encoder\n",
    "\n",
    "    print(f\"{time.ctime()}, Cross-Validation, {X.shape[0]} rows, {X.shape[1]} cols\")\n",
    "\n",
    "    for fold, (train_idx, valid_idx) in enumerate(cv.split(X, y)):\n",
    "\n",
    "        x_train, x_valid = X.loc[train_idx], X.loc[valid_idx]\n",
    "        y_train, y_valid = y[train_idx], y[valid_idx]\n",
    "        dtrain = xgb.DMatrix(x_train, y_train)\n",
    "        dvalid = xgb.DMatrix(x_valid, y_valid)\n",
    "\n",
    "        model = xgb.train(\n",
    "            params=params,\n",
    "            dtrain=dtrain,\n",
    "            maximize=True,\n",
    "            num_boost_round=10000,\n",
    "            early_stopping_rounds=25,\n",
    "            evals=[(dtrain, \"train\"), (dvalid, \"valid\")],\n",
    "            verbose_eval=10,\n",
    "        )\n",
    "        oof_preds[valid_idx] = model.predict(dvalid)\n",
    "        score = roc_auc_score(y_valid, oof_preds[valid_idx])\n",
    "        print(f\"Fold {fold+1}, Valid score = {round(score, 5)}\")\n",
    "        estimators.append(model)\n",
    "\n",
    "    return estimators, encoders, oof_preds"
   ]
  },
  {
   "cell_type": "code",
   "execution_count": 98,
   "metadata": {},
   "outputs": [],
   "source": [
    "lgbm_params = {\n",
    "    'boosting_type': 'gbdt',\n",
    "    'n_estimators': 750,\n",
    "    'learning_rate': 0.005134,\n",
    "    'num_leaves': 54,\n",
    "    'max_depth': 10,\n",
    "    'subsample_for_bin': 240000,\n",
    "    'reg_alpha': 0.436193,\n",
    "    'reg_lambda': 0.479169,\n",
    "    'colsample_bytree': 0.508716,\n",
    "    'min_split_gain': 0.024766,\n",
    "    'subsample': 0.7,\n",
    "    'is_unbalance': False,\n",
    "    'random_state': 42,\n",
    "    'silent': -1,\n",
    "    'verbose': -1\n",
    "}\n",
    "\n",
    "cv = KFold(n_splits=7, random_state=435, shuffle=True)\n",
    "target, data = data[\"target\"], data.drop([\"id\", \"target\"], axis=1)"
   ]
  },
  {
   "cell_type": "markdown",
   "metadata": {},
   "source": [
    "## BaseModel"
   ]
  },
  {
   "cell_type": "code",
   "execution_count": 27,
   "metadata": {},
   "outputs": [
    {
     "name": "stdout",
     "output_type": "stream",
     "text": [
      "Wed Dec  9 17:55:22 2020, Cross-Validation, 249988 rows, 57 cols\n",
      "Training until validation scores don't improve for 5000 rounds\n",
      "[50]\tvalid_0's auc: 0.634365\tvalid_0's binary_logloss: 0.156993\n",
      "[100]\tvalid_0's auc: 0.636966\tvalid_0's binary_logloss: 0.156098\n",
      "[150]\tvalid_0's auc: 0.638626\tvalid_0's binary_logloss: 0.15546\n",
      "[200]\tvalid_0's auc: 0.640291\tvalid_0's binary_logloss: 0.155\n",
      "[250]\tvalid_0's auc: 0.64068\tvalid_0's binary_logloss: 0.154674\n",
      "[300]\tvalid_0's auc: 0.641156\tvalid_0's binary_logloss: 0.154429\n",
      "[350]\tvalid_0's auc: 0.64175\tvalid_0's binary_logloss: 0.154229\n",
      "[400]\tvalid_0's auc: 0.642155\tvalid_0's binary_logloss: 0.154079\n",
      "[450]\tvalid_0's auc: 0.642472\tvalid_0's binary_logloss: 0.153958\n",
      "[500]\tvalid_0's auc: 0.642892\tvalid_0's binary_logloss: 0.153857\n",
      "[550]\tvalid_0's auc: 0.643239\tvalid_0's binary_logloss: 0.153777\n",
      "[600]\tvalid_0's auc: 0.643623\tvalid_0's binary_logloss: 0.153714\n",
      "[650]\tvalid_0's auc: 0.643896\tvalid_0's binary_logloss: 0.153675\n",
      "[700]\tvalid_0's auc: 0.644307\tvalid_0's binary_logloss: 0.15363\n",
      "[750]\tvalid_0's auc: 0.644427\tvalid_0's binary_logloss: 0.153602\n",
      "Did not meet early stopping. Best iteration is:\n",
      "[746]\tvalid_0's auc: 0.644428\tvalid_0's binary_logloss: 0.153602\n",
      "Fold 1, Valid score = 0.64443\n",
      "Training until validation scores don't improve for 5000 rounds\n",
      "[50]\tvalid_0's auc: 0.62694\tvalid_0's binary_logloss: 0.148957\n",
      "[100]\tvalid_0's auc: 0.627679\tvalid_0's binary_logloss: 0.148166\n",
      "[150]\tvalid_0's auc: 0.62831\tvalid_0's binary_logloss: 0.147649\n",
      "[200]\tvalid_0's auc: 0.628328\tvalid_0's binary_logloss: 0.147289\n",
      "[250]\tvalid_0's auc: 0.628568\tvalid_0's binary_logloss: 0.147023\n",
      "[300]\tvalid_0's auc: 0.629412\tvalid_0's binary_logloss: 0.146801\n",
      "[350]\tvalid_0's auc: 0.629963\tvalid_0's binary_logloss: 0.146635\n",
      "[400]\tvalid_0's auc: 0.630313\tvalid_0's binary_logloss: 0.146522\n",
      "[450]\tvalid_0's auc: 0.630202\tvalid_0's binary_logloss: 0.146453\n",
      "[500]\tvalid_0's auc: 0.63047\tvalid_0's binary_logloss: 0.146384\n",
      "[550]\tvalid_0's auc: 0.630883\tvalid_0's binary_logloss: 0.146326\n",
      "[600]\tvalid_0's auc: 0.631398\tvalid_0's binary_logloss: 0.146273\n",
      "[650]\tvalid_0's auc: 0.631606\tvalid_0's binary_logloss: 0.146239\n",
      "[700]\tvalid_0's auc: 0.631775\tvalid_0's binary_logloss: 0.146213\n",
      "[750]\tvalid_0's auc: 0.632459\tvalid_0's binary_logloss: 0.14617\n",
      "Did not meet early stopping. Best iteration is:\n",
      "[748]\tvalid_0's auc: 0.632476\tvalid_0's binary_logloss: 0.146171\n",
      "Fold 2, Valid score = 0.63248\n",
      "Training until validation scores don't improve for 5000 rounds\n",
      "[50]\tvalid_0's auc: 0.628535\tvalid_0's binary_logloss: 0.159412\n",
      "[100]\tvalid_0's auc: 0.629232\tvalid_0's binary_logloss: 0.158559\n",
      "[150]\tvalid_0's auc: 0.63086\tvalid_0's binary_logloss: 0.157954\n",
      "[200]\tvalid_0's auc: 0.632245\tvalid_0's binary_logloss: 0.157528\n",
      "[250]\tvalid_0's auc: 0.633605\tvalid_0's binary_logloss: 0.157194\n",
      "[300]\tvalid_0's auc: 0.634202\tvalid_0's binary_logloss: 0.156957\n",
      "[350]\tvalid_0's auc: 0.634649\tvalid_0's binary_logloss: 0.156773\n",
      "[400]\tvalid_0's auc: 0.63532\tvalid_0's binary_logloss: 0.156627\n",
      "[450]\tvalid_0's auc: 0.635839\tvalid_0's binary_logloss: 0.156519\n",
      "[500]\tvalid_0's auc: 0.636372\tvalid_0's binary_logloss: 0.156431\n",
      "[550]\tvalid_0's auc: 0.636605\tvalid_0's binary_logloss: 0.156367\n",
      "[600]\tvalid_0's auc: 0.637211\tvalid_0's binary_logloss: 0.156302\n",
      "[650]\tvalid_0's auc: 0.637519\tvalid_0's binary_logloss: 0.156256\n",
      "[700]\tvalid_0's auc: 0.638144\tvalid_0's binary_logloss: 0.156213\n",
      "[750]\tvalid_0's auc: 0.638828\tvalid_0's binary_logloss: 0.156163\n",
      "Did not meet early stopping. Best iteration is:\n",
      "[750]\tvalid_0's auc: 0.638828\tvalid_0's binary_logloss: 0.156163\n",
      "Fold 3, Valid score = 0.63883\n",
      "Training until validation scores don't improve for 5000 rounds\n",
      "[50]\tvalid_0's auc: 0.625467\tvalid_0's binary_logloss: 0.154162\n",
      "[100]\tvalid_0's auc: 0.62552\tvalid_0's binary_logloss: 0.153373\n",
      "[150]\tvalid_0's auc: 0.62607\tvalid_0's binary_logloss: 0.152845\n",
      "[200]\tvalid_0's auc: 0.626611\tvalid_0's binary_logloss: 0.152483\n",
      "[250]\tvalid_0's auc: 0.62712\tvalid_0's binary_logloss: 0.152225\n",
      "[300]\tvalid_0's auc: 0.628093\tvalid_0's binary_logloss: 0.152021\n",
      "[350]\tvalid_0's auc: 0.628832\tvalid_0's binary_logloss: 0.151861\n",
      "[400]\tvalid_0's auc: 0.629516\tvalid_0's binary_logloss: 0.151741\n",
      "[450]\tvalid_0's auc: 0.629661\tvalid_0's binary_logloss: 0.15167\n",
      "[500]\tvalid_0's auc: 0.630336\tvalid_0's binary_logloss: 0.151598\n",
      "[550]\tvalid_0's auc: 0.631108\tvalid_0's binary_logloss: 0.151529\n",
      "[600]\tvalid_0's auc: 0.63159\tvalid_0's binary_logloss: 0.151487\n",
      "[650]\tvalid_0's auc: 0.632024\tvalid_0's binary_logloss: 0.151454\n",
      "[700]\tvalid_0's auc: 0.632231\tvalid_0's binary_logloss: 0.151436\n",
      "[750]\tvalid_0's auc: 0.63227\tvalid_0's binary_logloss: 0.151428\n",
      "Did not meet early stopping. Best iteration is:\n",
      "[729]\tvalid_0's auc: 0.632406\tvalid_0's binary_logloss: 0.151424\n",
      "Fold 4, Valid score = 0.63241\n",
      "Training until validation scores don't improve for 5000 rounds\n",
      "[50]\tvalid_0's auc: 0.629001\tvalid_0's binary_logloss: 0.162016\n",
      "[100]\tvalid_0's auc: 0.630257\tvalid_0's binary_logloss: 0.161116\n",
      "[150]\tvalid_0's auc: 0.630781\tvalid_0's binary_logloss: 0.160502\n",
      "[200]\tvalid_0's auc: 0.631728\tvalid_0's binary_logloss: 0.160059\n",
      "[250]\tvalid_0's auc: 0.631895\tvalid_0's binary_logloss: 0.159737\n",
      "[300]\tvalid_0's auc: 0.632823\tvalid_0's binary_logloss: 0.159482\n",
      "[350]\tvalid_0's auc: 0.633415\tvalid_0's binary_logloss: 0.159283\n",
      "[400]\tvalid_0's auc: 0.63381\tvalid_0's binary_logloss: 0.15915\n",
      "[450]\tvalid_0's auc: 0.634278\tvalid_0's binary_logloss: 0.159037\n",
      "[500]\tvalid_0's auc: 0.634549\tvalid_0's binary_logloss: 0.158953\n",
      "[550]\tvalid_0's auc: 0.634451\tvalid_0's binary_logloss: 0.158911\n",
      "[600]\tvalid_0's auc: 0.634371\tvalid_0's binary_logloss: 0.158875\n",
      "[650]\tvalid_0's auc: 0.634857\tvalid_0's binary_logloss: 0.158825\n",
      "[700]\tvalid_0's auc: 0.63529\tvalid_0's binary_logloss: 0.158774\n",
      "[750]\tvalid_0's auc: 0.6357\tvalid_0's binary_logloss: 0.158733\n",
      "Did not meet early stopping. Best iteration is:\n",
      "[740]\tvalid_0's auc: 0.635718\tvalid_0's binary_logloss: 0.158736\n",
      "Fold 5, Valid score = 0.63572\n",
      "Training until validation scores don't improve for 5000 rounds\n",
      "[50]\tvalid_0's auc: 0.631593\tvalid_0's binary_logloss: 0.151257\n",
      "[100]\tvalid_0's auc: 0.631217\tvalid_0's binary_logloss: 0.150401\n",
      "[150]\tvalid_0's auc: 0.63202\tvalid_0's binary_logloss: 0.149826\n",
      "[200]\tvalid_0's auc: 0.632659\tvalid_0's binary_logloss: 0.149409\n",
      "[250]\tvalid_0's auc: 0.633314\tvalid_0's binary_logloss: 0.149106\n",
      "[300]\tvalid_0's auc: 0.634296\tvalid_0's binary_logloss: 0.148854\n",
      "[350]\tvalid_0's auc: 0.635421\tvalid_0's binary_logloss: 0.148649\n",
      "[400]\tvalid_0's auc: 0.636149\tvalid_0's binary_logloss: 0.148495\n",
      "[450]\tvalid_0's auc: 0.636712\tvalid_0's binary_logloss: 0.148384\n",
      "[500]\tvalid_0's auc: 0.63699\tvalid_0's binary_logloss: 0.148299\n",
      "[550]\tvalid_0's auc: 0.637117\tvalid_0's binary_logloss: 0.148234\n",
      "[600]\tvalid_0's auc: 0.637127\tvalid_0's binary_logloss: 0.148186\n",
      "[650]\tvalid_0's auc: 0.63725\tvalid_0's binary_logloss: 0.148148\n",
      "[700]\tvalid_0's auc: 0.637256\tvalid_0's binary_logloss: 0.148114\n",
      "[750]\tvalid_0's auc: 0.637336\tvalid_0's binary_logloss: 0.148076\n",
      "Did not meet early stopping. Best iteration is:\n",
      "[746]\tvalid_0's auc: 0.637471\tvalid_0's binary_logloss: 0.148072\n",
      "Fold 6, Valid score = 0.63747\n",
      "Training until validation scores don't improve for 5000 rounds\n",
      "[50]\tvalid_0's auc: 0.626491\tvalid_0's binary_logloss: 0.15264\n",
      "[100]\tvalid_0's auc: 0.625773\tvalid_0's binary_logloss: 0.151883\n",
      "[150]\tvalid_0's auc: 0.626965\tvalid_0's binary_logloss: 0.151342\n",
      "[200]\tvalid_0's auc: 0.627714\tvalid_0's binary_logloss: 0.150972\n",
      "[250]\tvalid_0's auc: 0.628485\tvalid_0's binary_logloss: 0.150701\n",
      "[300]\tvalid_0's auc: 0.629238\tvalid_0's binary_logloss: 0.150492\n",
      "[350]\tvalid_0's auc: 0.62949\tvalid_0's binary_logloss: 0.150353\n",
      "[400]\tvalid_0's auc: 0.629937\tvalid_0's binary_logloss: 0.150234\n",
      "[450]\tvalid_0's auc: 0.63046\tvalid_0's binary_logloss: 0.150139\n",
      "[500]\tvalid_0's auc: 0.630491\tvalid_0's binary_logloss: 0.150075\n",
      "[550]\tvalid_0's auc: 0.630909\tvalid_0's binary_logloss: 0.15001\n",
      "[600]\tvalid_0's auc: 0.63122\tvalid_0's binary_logloss: 0.149967\n",
      "[650]\tvalid_0's auc: 0.63172\tvalid_0's binary_logloss: 0.149923\n",
      "[700]\tvalid_0's auc: 0.631901\tvalid_0's binary_logloss: 0.149894\n",
      "[750]\tvalid_0's auc: 0.632074\tvalid_0's binary_logloss: 0.149873\n",
      "Did not meet early stopping. Best iteration is:\n",
      "[750]\tvalid_0's auc: 0.632074\tvalid_0's binary_logloss: 0.149873\n"
     ]
    },
    {
     "name": "stdout",
     "output_type": "stream",
     "text": [
      "Fold 7, Valid score = 0.63207\n",
      "Score by each fold: [0.64443, 0.63248, 0.63883, 0.63241, 0.63572, 0.63747, 0.63207]\n",
      "=================================================================\n"
     ]
    }
   ],
   "source": [
    "estimators, oof_preds = lightgbm_cross_validation(\n",
    "    lgbm_params, data, target, cv\n",
    ")"
   ]
  },
  {
   "cell_type": "code",
   "execution_count": 28,
   "metadata": {},
   "outputs": [
    {
     "name": "stdout",
     "output_type": "stream",
     "text": [
      "Score = 0.6361\n"
     ]
    }
   ],
   "source": [
    "score = roc_auc_score(target, oof_preds)\n",
    "print(f\"Score = {round(score, 4)}\")"
   ]
  },
  {
   "cell_type": "markdown",
   "metadata": {},
   "source": [
    "## BaseModel + OneHotEncoding"
   ]
  },
  {
   "cell_type": "code",
   "execution_count": 99,
   "metadata": {},
   "outputs": [
    {
     "name": "stderr",
     "output_type": "stream",
     "text": [
      "/Users/a17582007/anaconda3/lib/python3.7/site-packages/ipykernel_launcher.py:3: FutureWarning: Sorting because non-concatenation axis is not aligned. A future version\n",
      "of pandas will change to not sort by default.\n",
      "\n",
      "To accept the future behavior, pass 'sort=False'.\n",
      "\n",
      "To retain the current behavior and silence the warning, pass 'sort=True'.\n",
      "\n",
      "  This is separate from the ipykernel package so we can avoid doing imports until\n"
     ]
    }
   ],
   "source": [
    "categorical = [col for col in data.columns if col.endswith(\"_cat\")]\n",
    "\n",
    "train = pd.concat([data, test], axis=0).reset_index(drop=True)\n",
    "train = pd.get_dummies(train, columns=categorical)\n",
    "\n",
    "data_ohe = train.loc[:data.shape[0]-1]\n",
    "test_ohe = train.loc[data.shape[0]:]"
   ]
  },
  {
   "cell_type": "code",
   "execution_count": 37,
   "metadata": {},
   "outputs": [
    {
     "name": "stdout",
     "output_type": "stream",
     "text": [
      "Wed Dec  9 17:59:22 2020, Cross-Validation, 249988 rows, 227 cols\n",
      "Training until validation scores don't improve for 5000 rounds\n",
      "[50]\tvalid_0's auc: 0.639106\tvalid_0's binary_logloss: 0.156909\n",
      "[100]\tvalid_0's auc: 0.640132\tvalid_0's binary_logloss: 0.156028\n",
      "[150]\tvalid_0's auc: 0.639905\tvalid_0's binary_logloss: 0.155421\n",
      "[200]\tvalid_0's auc: 0.640499\tvalid_0's binary_logloss: 0.154948\n",
      "[250]\tvalid_0's auc: 0.641392\tvalid_0's binary_logloss: 0.154618\n",
      "[300]\tvalid_0's auc: 0.641504\tvalid_0's binary_logloss: 0.154385\n",
      "[350]\tvalid_0's auc: 0.641806\tvalid_0's binary_logloss: 0.154198\n",
      "[400]\tvalid_0's auc: 0.641926\tvalid_0's binary_logloss: 0.154065\n",
      "[450]\tvalid_0's auc: 0.642098\tvalid_0's binary_logloss: 0.153969\n",
      "[500]\tvalid_0's auc: 0.642033\tvalid_0's binary_logloss: 0.153892\n",
      "[550]\tvalid_0's auc: 0.642306\tvalid_0's binary_logloss: 0.153826\n",
      "[600]\tvalid_0's auc: 0.642395\tvalid_0's binary_logloss: 0.153773\n",
      "[650]\tvalid_0's auc: 0.642599\tvalid_0's binary_logloss: 0.153727\n",
      "[700]\tvalid_0's auc: 0.642796\tvalid_0's binary_logloss: 0.153692\n",
      "[750]\tvalid_0's auc: 0.64322\tvalid_0's binary_logloss: 0.153646\n",
      "Did not meet early stopping. Best iteration is:\n",
      "[750]\tvalid_0's auc: 0.64322\tvalid_0's binary_logloss: 0.153646\n",
      "Fold 1, Valid score = 0.64322\n",
      "Training until validation scores don't improve for 5000 rounds\n",
      "[50]\tvalid_0's auc: 0.625841\tvalid_0's binary_logloss: 0.14888\n",
      "[100]\tvalid_0's auc: 0.626571\tvalid_0's binary_logloss: 0.148107\n",
      "[150]\tvalid_0's auc: 0.627428\tvalid_0's binary_logloss: 0.147583\n",
      "[200]\tvalid_0's auc: 0.627974\tvalid_0's binary_logloss: 0.147203\n",
      "[250]\tvalid_0's auc: 0.628312\tvalid_0's binary_logloss: 0.146946\n",
      "[300]\tvalid_0's auc: 0.629537\tvalid_0's binary_logloss: 0.146733\n",
      "[350]\tvalid_0's auc: 0.629734\tvalid_0's binary_logloss: 0.146591\n",
      "[400]\tvalid_0's auc: 0.630003\tvalid_0's binary_logloss: 0.146488\n",
      "[450]\tvalid_0's auc: 0.630547\tvalid_0's binary_logloss: 0.14639\n",
      "[500]\tvalid_0's auc: 0.630926\tvalid_0's binary_logloss: 0.146321\n",
      "[550]\tvalid_0's auc: 0.630955\tvalid_0's binary_logloss: 0.14628\n",
      "[600]\tvalid_0's auc: 0.631604\tvalid_0's binary_logloss: 0.146225\n",
      "[650]\tvalid_0's auc: 0.631995\tvalid_0's binary_logloss: 0.146187\n",
      "[700]\tvalid_0's auc: 0.632293\tvalid_0's binary_logloss: 0.146157\n",
      "[750]\tvalid_0's auc: 0.632456\tvalid_0's binary_logloss: 0.146139\n",
      "Did not meet early stopping. Best iteration is:\n",
      "[729]\tvalid_0's auc: 0.632593\tvalid_0's binary_logloss: 0.146135\n",
      "Fold 2, Valid score = 0.63259\n",
      "Training until validation scores don't improve for 5000 rounds\n",
      "[50]\tvalid_0's auc: 0.631159\tvalid_0's binary_logloss: 0.159291\n",
      "[100]\tvalid_0's auc: 0.632752\tvalid_0's binary_logloss: 0.15842\n",
      "[150]\tvalid_0's auc: 0.634509\tvalid_0's binary_logloss: 0.157808\n",
      "[200]\tvalid_0's auc: 0.635099\tvalid_0's binary_logloss: 0.157353\n",
      "[250]\tvalid_0's auc: 0.635994\tvalid_0's binary_logloss: 0.157031\n",
      "[300]\tvalid_0's auc: 0.63607\tvalid_0's binary_logloss: 0.156812\n",
      "[350]\tvalid_0's auc: 0.637376\tvalid_0's binary_logloss: 0.156611\n",
      "[400]\tvalid_0's auc: 0.638041\tvalid_0's binary_logloss: 0.156455\n",
      "[450]\tvalid_0's auc: 0.63875\tvalid_0's binary_logloss: 0.156336\n",
      "[500]\tvalid_0's auc: 0.639239\tvalid_0's binary_logloss: 0.156251\n",
      "[550]\tvalid_0's auc: 0.640098\tvalid_0's binary_logloss: 0.15616\n",
      "[600]\tvalid_0's auc: 0.641211\tvalid_0's binary_logloss: 0.156069\n",
      "[650]\tvalid_0's auc: 0.641734\tvalid_0's binary_logloss: 0.156013\n",
      "[700]\tvalid_0's auc: 0.642155\tvalid_0's binary_logloss: 0.155967\n",
      "[750]\tvalid_0's auc: 0.642745\tvalid_0's binary_logloss: 0.155922\n",
      "Did not meet early stopping. Best iteration is:\n",
      "[750]\tvalid_0's auc: 0.642745\tvalid_0's binary_logloss: 0.155922\n",
      "Fold 3, Valid score = 0.64274\n",
      "Training until validation scores don't improve for 5000 rounds\n",
      "[50]\tvalid_0's auc: 0.623381\tvalid_0's binary_logloss: 0.154083\n",
      "[100]\tvalid_0's auc: 0.625508\tvalid_0's binary_logloss: 0.153276\n",
      "[150]\tvalid_0's auc: 0.626816\tvalid_0's binary_logloss: 0.152745\n",
      "[200]\tvalid_0's auc: 0.627004\tvalid_0's binary_logloss: 0.152369\n",
      "[250]\tvalid_0's auc: 0.628075\tvalid_0's binary_logloss: 0.152096\n",
      "[300]\tvalid_0's auc: 0.628937\tvalid_0's binary_logloss: 0.1519\n",
      "[350]\tvalid_0's auc: 0.629782\tvalid_0's binary_logloss: 0.15175\n",
      "[400]\tvalid_0's auc: 0.630568\tvalid_0's binary_logloss: 0.151629\n",
      "[450]\tvalid_0's auc: 0.631243\tvalid_0's binary_logloss: 0.151539\n",
      "[500]\tvalid_0's auc: 0.631593\tvalid_0's binary_logloss: 0.151476\n",
      "[550]\tvalid_0's auc: 0.631861\tvalid_0's binary_logloss: 0.15144\n",
      "[600]\tvalid_0's auc: 0.632616\tvalid_0's binary_logloss: 0.151383\n",
      "[650]\tvalid_0's auc: 0.633039\tvalid_0's binary_logloss: 0.151345\n",
      "[700]\tvalid_0's auc: 0.633826\tvalid_0's binary_logloss: 0.151295\n",
      "[750]\tvalid_0's auc: 0.634173\tvalid_0's binary_logloss: 0.151267\n",
      "Did not meet early stopping. Best iteration is:\n",
      "[750]\tvalid_0's auc: 0.634173\tvalid_0's binary_logloss: 0.151267\n",
      "Fold 4, Valid score = 0.63417\n",
      "Training until validation scores don't improve for 5000 rounds\n",
      "[50]\tvalid_0's auc: 0.62917\tvalid_0's binary_logloss: 0.161929\n",
      "[100]\tvalid_0's auc: 0.631816\tvalid_0's binary_logloss: 0.161028\n",
      "[150]\tvalid_0's auc: 0.632314\tvalid_0's binary_logloss: 0.160401\n",
      "[200]\tvalid_0's auc: 0.632222\tvalid_0's binary_logloss: 0.159959\n",
      "[250]\tvalid_0's auc: 0.632735\tvalid_0's binary_logloss: 0.159655\n",
      "[300]\tvalid_0's auc: 0.633131\tvalid_0's binary_logloss: 0.159414\n",
      "[350]\tvalid_0's auc: 0.63333\tvalid_0's binary_logloss: 0.159244\n",
      "[400]\tvalid_0's auc: 0.633391\tvalid_0's binary_logloss: 0.159123\n",
      "[450]\tvalid_0's auc: 0.634177\tvalid_0's binary_logloss: 0.159008\n",
      "[500]\tvalid_0's auc: 0.634807\tvalid_0's binary_logloss: 0.158913\n",
      "[550]\tvalid_0's auc: 0.635164\tvalid_0's binary_logloss: 0.158845\n",
      "[600]\tvalid_0's auc: 0.635869\tvalid_0's binary_logloss: 0.158776\n",
      "[650]\tvalid_0's auc: 0.636807\tvalid_0's binary_logloss: 0.158701\n",
      "[700]\tvalid_0's auc: 0.637234\tvalid_0's binary_logloss: 0.158657\n",
      "[750]\tvalid_0's auc: 0.637711\tvalid_0's binary_logloss: 0.158613\n",
      "Did not meet early stopping. Best iteration is:\n",
      "[747]\tvalid_0's auc: 0.637722\tvalid_0's binary_logloss: 0.158613\n",
      "Fold 5, Valid score = 0.63772\n",
      "Training until validation scores don't improve for 5000 rounds\n",
      "[50]\tvalid_0's auc: 0.630012\tvalid_0's binary_logloss: 0.151144\n",
      "[100]\tvalid_0's auc: 0.631716\tvalid_0's binary_logloss: 0.150295\n",
      "[150]\tvalid_0's auc: 0.63252\tvalid_0's binary_logloss: 0.149721\n",
      "[200]\tvalid_0's auc: 0.632661\tvalid_0's binary_logloss: 0.149302\n",
      "[250]\tvalid_0's auc: 0.633532\tvalid_0's binary_logloss: 0.149002\n",
      "[300]\tvalid_0's auc: 0.634349\tvalid_0's binary_logloss: 0.148774\n",
      "[350]\tvalid_0's auc: 0.63468\tvalid_0's binary_logloss: 0.148608\n",
      "[400]\tvalid_0's auc: 0.635306\tvalid_0's binary_logloss: 0.14846\n",
      "[450]\tvalid_0's auc: 0.635666\tvalid_0's binary_logloss: 0.14836\n",
      "[500]\tvalid_0's auc: 0.635969\tvalid_0's binary_logloss: 0.148278\n",
      "[550]\tvalid_0's auc: 0.636064\tvalid_0's binary_logloss: 0.148222\n",
      "[600]\tvalid_0's auc: 0.636306\tvalid_0's binary_logloss: 0.148169\n",
      "[650]\tvalid_0's auc: 0.636357\tvalid_0's binary_logloss: 0.148136\n",
      "[700]\tvalid_0's auc: 0.636628\tvalid_0's binary_logloss: 0.148098\n",
      "[750]\tvalid_0's auc: 0.636486\tvalid_0's binary_logloss: 0.148086\n",
      "Did not meet early stopping. Best iteration is:\n",
      "[696]\tvalid_0's auc: 0.63665\tvalid_0's binary_logloss: 0.148098\n",
      "Fold 6, Valid score = 0.63665\n",
      "Training until validation scores don't improve for 5000 rounds\n",
      "[50]\tvalid_0's auc: 0.624004\tvalid_0's binary_logloss: 0.152585\n",
      "[100]\tvalid_0's auc: 0.625724\tvalid_0's binary_logloss: 0.151844\n",
      "[150]\tvalid_0's auc: 0.626853\tvalid_0's binary_logloss: 0.151326\n",
      "[200]\tvalid_0's auc: 0.627995\tvalid_0's binary_logloss: 0.150939\n",
      "[250]\tvalid_0's auc: 0.628312\tvalid_0's binary_logloss: 0.150688\n",
      "[300]\tvalid_0's auc: 0.62885\tvalid_0's binary_logloss: 0.150498\n",
      "[350]\tvalid_0's auc: 0.629128\tvalid_0's binary_logloss: 0.150361\n",
      "[400]\tvalid_0's auc: 0.629411\tvalid_0's binary_logloss: 0.150259\n",
      "[450]\tvalid_0's auc: 0.62992\tvalid_0's binary_logloss: 0.150171\n",
      "[500]\tvalid_0's auc: 0.63004\tvalid_0's binary_logloss: 0.15011\n",
      "[550]\tvalid_0's auc: 0.630467\tvalid_0's binary_logloss: 0.15006\n",
      "[600]\tvalid_0's auc: 0.630776\tvalid_0's binary_logloss: 0.15002\n",
      "[650]\tvalid_0's auc: 0.630924\tvalid_0's binary_logloss: 0.149994\n",
      "[700]\tvalid_0's auc: 0.630995\tvalid_0's binary_logloss: 0.149974\n",
      "[750]\tvalid_0's auc: 0.63106\tvalid_0's binary_logloss: 0.149953\n",
      "Did not meet early stopping. Best iteration is:\n",
      "[740]\tvalid_0's auc: 0.631102\tvalid_0's binary_logloss: 0.149953\n"
     ]
    },
    {
     "name": "stdout",
     "output_type": "stream",
     "text": [
      "Fold 7, Valid score = 0.6311\n",
      "Score by each fold: [0.64322, 0.63259, 0.64274, 0.63417, 0.63772, 0.63665, 0.6311]\n",
      "=================================================================\n"
     ]
    }
   ],
   "source": [
    "estimators_with_ohe, oof_preds_with_ohe = lightgbm_cross_validation(\n",
    "    lgbm_params, data_ohe, target, cv\n",
    ")"
   ]
  },
  {
   "cell_type": "code",
   "execution_count": 38,
   "metadata": {},
   "outputs": [
    {
     "name": "stdout",
     "output_type": "stream",
     "text": [
      "Score = 0.6368\n"
     ]
    }
   ],
   "source": [
    "score = roc_auc_score(target, oof_preds_with_ohe)\n",
    "print(f\"Score = {round(score, 4)}\")"
   ]
  },
  {
   "cell_type": "markdown",
   "metadata": {},
   "source": [
    "## BaseModel + LightGBM-encoder"
   ]
  },
  {
   "cell_type": "code",
   "execution_count": 54,
   "metadata": {},
   "outputs": [
    {
     "name": "stdout",
     "output_type": "stream",
     "text": [
      "Wed Dec  9 18:06:18 2020, Cross-Validation, 249988 rows, 57 cols\n"
     ]
    },
    {
     "name": "stderr",
     "output_type": "stream",
     "text": [
      "/Users/a17582007/anaconda3/lib/python3.7/site-packages/lightgbm/basic.py:1247: UserWarning: categorical_feature in Dataset is overridden.\n",
      "New categorical_feature is ['ps_car_01_cat', 'ps_car_02_cat', 'ps_car_03_cat', 'ps_car_04_cat', 'ps_car_05_cat', 'ps_car_06_cat', 'ps_car_07_cat', 'ps_car_08_cat', 'ps_car_09_cat', 'ps_car_10_cat', 'ps_car_11_cat', 'ps_ind_02_cat', 'ps_ind_04_cat', 'ps_ind_05_cat']\n",
      "  'New categorical_feature is {}'.format(sorted(list(categorical_feature))))\n",
      "/Users/a17582007/anaconda3/lib/python3.7/site-packages/lightgbm/basic.py:1247: UserWarning: categorical_feature in Dataset is overridden.\n",
      "New categorical_feature is ['ps_car_01_cat', 'ps_car_02_cat', 'ps_car_03_cat', 'ps_car_04_cat', 'ps_car_05_cat', 'ps_car_06_cat', 'ps_car_07_cat', 'ps_car_08_cat', 'ps_car_09_cat', 'ps_car_10_cat', 'ps_car_11_cat', 'ps_ind_02_cat', 'ps_ind_04_cat', 'ps_ind_05_cat']\n",
      "  'New categorical_feature is {}'.format(sorted(list(categorical_feature))))\n"
     ]
    },
    {
     "name": "stdout",
     "output_type": "stream",
     "text": [
      "Training until validation scores don't improve for 5000 rounds\n",
      "[50]\tvalid_0's auc: 0.63492\tvalid_0's binary_logloss: 0.156991\n",
      "[100]\tvalid_0's auc: 0.636692\tvalid_0's binary_logloss: 0.156087\n",
      "[150]\tvalid_0's auc: 0.63792\tvalid_0's binary_logloss: 0.155481\n",
      "[200]\tvalid_0's auc: 0.638059\tvalid_0's binary_logloss: 0.155077\n",
      "[250]\tvalid_0's auc: 0.638099\tvalid_0's binary_logloss: 0.154785\n",
      "[300]\tvalid_0's auc: 0.638624\tvalid_0's binary_logloss: 0.154544\n",
      "[350]\tvalid_0's auc: 0.638779\tvalid_0's binary_logloss: 0.154365\n",
      "[400]\tvalid_0's auc: 0.639127\tvalid_0's binary_logloss: 0.154229\n",
      "[450]\tvalid_0's auc: 0.639046\tvalid_0's binary_logloss: 0.154143\n",
      "[500]\tvalid_0's auc: 0.639272\tvalid_0's binary_logloss: 0.154065\n",
      "[550]\tvalid_0's auc: 0.639236\tvalid_0's binary_logloss: 0.15401\n",
      "[600]\tvalid_0's auc: 0.63927\tvalid_0's binary_logloss: 0.153977\n",
      "[650]\tvalid_0's auc: 0.639509\tvalid_0's binary_logloss: 0.153934\n",
      "[700]\tvalid_0's auc: 0.63992\tvalid_0's binary_logloss: 0.153885\n",
      "[750]\tvalid_0's auc: 0.63977\tvalid_0's binary_logloss: 0.153869\n",
      "Did not meet early stopping. Best iteration is:\n",
      "[706]\tvalid_0's auc: 0.639935\tvalid_0's binary_logloss: 0.153879\n",
      "Fold 1, Valid score = 0.63993\n"
     ]
    },
    {
     "name": "stderr",
     "output_type": "stream",
     "text": [
      "/Users/a17582007/anaconda3/lib/python3.7/site-packages/lightgbm/basic.py:1247: UserWarning: categorical_feature in Dataset is overridden.\n",
      "New categorical_feature is ['ps_car_01_cat', 'ps_car_02_cat', 'ps_car_03_cat', 'ps_car_04_cat', 'ps_car_05_cat', 'ps_car_06_cat', 'ps_car_07_cat', 'ps_car_08_cat', 'ps_car_09_cat', 'ps_car_10_cat', 'ps_car_11_cat', 'ps_ind_02_cat', 'ps_ind_04_cat', 'ps_ind_05_cat']\n",
      "  'New categorical_feature is {}'.format(sorted(list(categorical_feature))))\n",
      "/Users/a17582007/anaconda3/lib/python3.7/site-packages/lightgbm/basic.py:1247: UserWarning: categorical_feature in Dataset is overridden.\n",
      "New categorical_feature is ['ps_car_01_cat', 'ps_car_02_cat', 'ps_car_03_cat', 'ps_car_04_cat', 'ps_car_05_cat', 'ps_car_06_cat', 'ps_car_07_cat', 'ps_car_08_cat', 'ps_car_09_cat', 'ps_car_10_cat', 'ps_car_11_cat', 'ps_ind_02_cat', 'ps_ind_04_cat', 'ps_ind_05_cat']\n",
      "  'New categorical_feature is {}'.format(sorted(list(categorical_feature))))\n"
     ]
    },
    {
     "name": "stdout",
     "output_type": "stream",
     "text": [
      "Training until validation scores don't improve for 5000 rounds\n",
      "[50]\tvalid_0's auc: 0.621173\tvalid_0's binary_logloss: 0.148998\n",
      "[100]\tvalid_0's auc: 0.622781\tvalid_0's binary_logloss: 0.148219\n",
      "[150]\tvalid_0's auc: 0.623561\tvalid_0's binary_logloss: 0.14771\n",
      "[200]\tvalid_0's auc: 0.623811\tvalid_0's binary_logloss: 0.147352\n",
      "[250]\tvalid_0's auc: 0.623635\tvalid_0's binary_logloss: 0.14711\n",
      "[300]\tvalid_0's auc: 0.62353\tvalid_0's binary_logloss: 0.14694\n",
      "[350]\tvalid_0's auc: 0.624079\tvalid_0's binary_logloss: 0.146771\n",
      "[400]\tvalid_0's auc: 0.624421\tvalid_0's binary_logloss: 0.146651\n",
      "[450]\tvalid_0's auc: 0.624465\tvalid_0's binary_logloss: 0.146578\n",
      "[500]\tvalid_0's auc: 0.625214\tvalid_0's binary_logloss: 0.146491\n",
      "[550]\tvalid_0's auc: 0.625465\tvalid_0's binary_logloss: 0.14644\n",
      "[600]\tvalid_0's auc: 0.625682\tvalid_0's binary_logloss: 0.146404\n",
      "[650]\tvalid_0's auc: 0.626017\tvalid_0's binary_logloss: 0.146367\n",
      "[700]\tvalid_0's auc: 0.626278\tvalid_0's binary_logloss: 0.146344\n",
      "[750]\tvalid_0's auc: 0.626322\tvalid_0's binary_logloss: 0.146326\n",
      "Did not meet early stopping. Best iteration is:\n",
      "[708]\tvalid_0's auc: 0.626327\tvalid_0's binary_logloss: 0.14634\n",
      "Fold 2, Valid score = 0.62633\n"
     ]
    },
    {
     "name": "stderr",
     "output_type": "stream",
     "text": [
      "/Users/a17582007/anaconda3/lib/python3.7/site-packages/lightgbm/basic.py:1247: UserWarning: categorical_feature in Dataset is overridden.\n",
      "New categorical_feature is ['ps_car_01_cat', 'ps_car_02_cat', 'ps_car_03_cat', 'ps_car_04_cat', 'ps_car_05_cat', 'ps_car_06_cat', 'ps_car_07_cat', 'ps_car_08_cat', 'ps_car_09_cat', 'ps_car_10_cat', 'ps_car_11_cat', 'ps_ind_02_cat', 'ps_ind_04_cat', 'ps_ind_05_cat']\n",
      "  'New categorical_feature is {}'.format(sorted(list(categorical_feature))))\n",
      "/Users/a17582007/anaconda3/lib/python3.7/site-packages/lightgbm/basic.py:1247: UserWarning: categorical_feature in Dataset is overridden.\n",
      "New categorical_feature is ['ps_car_01_cat', 'ps_car_02_cat', 'ps_car_03_cat', 'ps_car_04_cat', 'ps_car_05_cat', 'ps_car_06_cat', 'ps_car_07_cat', 'ps_car_08_cat', 'ps_car_09_cat', 'ps_car_10_cat', 'ps_car_11_cat', 'ps_ind_02_cat', 'ps_ind_04_cat', 'ps_ind_05_cat']\n",
      "  'New categorical_feature is {}'.format(sorted(list(categorical_feature))))\n"
     ]
    },
    {
     "name": "stdout",
     "output_type": "stream",
     "text": [
      "Training until validation scores don't improve for 5000 rounds\n",
      "[50]\tvalid_0's auc: 0.627829\tvalid_0's binary_logloss: 0.1594\n",
      "[100]\tvalid_0's auc: 0.629251\tvalid_0's binary_logloss: 0.158505\n",
      "[150]\tvalid_0's auc: 0.630946\tvalid_0's binary_logloss: 0.157891\n",
      "[200]\tvalid_0's auc: 0.631373\tvalid_0's binary_logloss: 0.157488\n",
      "[250]\tvalid_0's auc: 0.631638\tvalid_0's binary_logloss: 0.157188\n",
      "[300]\tvalid_0's auc: 0.631762\tvalid_0's binary_logloss: 0.156964\n",
      "[350]\tvalid_0's auc: 0.632224\tvalid_0's binary_logloss: 0.156796\n",
      "[400]\tvalid_0's auc: 0.63294\tvalid_0's binary_logloss: 0.156658\n",
      "[450]\tvalid_0's auc: 0.633286\tvalid_0's binary_logloss: 0.156565\n",
      "[500]\tvalid_0's auc: 0.633915\tvalid_0's binary_logloss: 0.156479\n",
      "[550]\tvalid_0's auc: 0.634432\tvalid_0's binary_logloss: 0.156414\n",
      "[600]\tvalid_0's auc: 0.63479\tvalid_0's binary_logloss: 0.156371\n",
      "[650]\tvalid_0's auc: 0.635251\tvalid_0's binary_logloss: 0.156331\n",
      "[700]\tvalid_0's auc: 0.635563\tvalid_0's binary_logloss: 0.156307\n",
      "[750]\tvalid_0's auc: 0.635631\tvalid_0's binary_logloss: 0.156302\n",
      "Did not meet early stopping. Best iteration is:\n",
      "[733]\tvalid_0's auc: 0.635641\tvalid_0's binary_logloss: 0.156301\n",
      "Fold 3, Valid score = 0.63564\n"
     ]
    },
    {
     "name": "stderr",
     "output_type": "stream",
     "text": [
      "/Users/a17582007/anaconda3/lib/python3.7/site-packages/lightgbm/basic.py:1247: UserWarning: categorical_feature in Dataset is overridden.\n",
      "New categorical_feature is ['ps_car_01_cat', 'ps_car_02_cat', 'ps_car_03_cat', 'ps_car_04_cat', 'ps_car_05_cat', 'ps_car_06_cat', 'ps_car_07_cat', 'ps_car_08_cat', 'ps_car_09_cat', 'ps_car_10_cat', 'ps_car_11_cat', 'ps_ind_02_cat', 'ps_ind_04_cat', 'ps_ind_05_cat']\n",
      "  'New categorical_feature is {}'.format(sorted(list(categorical_feature))))\n",
      "/Users/a17582007/anaconda3/lib/python3.7/site-packages/lightgbm/basic.py:1247: UserWarning: categorical_feature in Dataset is overridden.\n",
      "New categorical_feature is ['ps_car_01_cat', 'ps_car_02_cat', 'ps_car_03_cat', 'ps_car_04_cat', 'ps_car_05_cat', 'ps_car_06_cat', 'ps_car_07_cat', 'ps_car_08_cat', 'ps_car_09_cat', 'ps_car_10_cat', 'ps_car_11_cat', 'ps_ind_02_cat', 'ps_ind_04_cat', 'ps_ind_05_cat']\n",
      "  'New categorical_feature is {}'.format(sorted(list(categorical_feature))))\n"
     ]
    },
    {
     "name": "stdout",
     "output_type": "stream",
     "text": [
      "Training until validation scores don't improve for 5000 rounds\n",
      "[50]\tvalid_0's auc: 0.625698\tvalid_0's binary_logloss: 0.154138\n",
      "[100]\tvalid_0's auc: 0.627746\tvalid_0's binary_logloss: 0.153288\n",
      "[150]\tvalid_0's auc: 0.628704\tvalid_0's binary_logloss: 0.152733\n",
      "[200]\tvalid_0's auc: 0.629538\tvalid_0's binary_logloss: 0.152331\n",
      "[250]\tvalid_0's auc: 0.629712\tvalid_0's binary_logloss: 0.152056\n",
      "[300]\tvalid_0's auc: 0.629584\tvalid_0's binary_logloss: 0.151877\n",
      "[350]\tvalid_0's auc: 0.630046\tvalid_0's binary_logloss: 0.151722\n",
      "[400]\tvalid_0's auc: 0.63132\tvalid_0's binary_logloss: 0.151573\n",
      "[450]\tvalid_0's auc: 0.631516\tvalid_0's binary_logloss: 0.151494\n",
      "[500]\tvalid_0's auc: 0.631853\tvalid_0's binary_logloss: 0.15144\n",
      "[550]\tvalid_0's auc: 0.632574\tvalid_0's binary_logloss: 0.151375\n",
      "[600]\tvalid_0's auc: 0.632377\tvalid_0's binary_logloss: 0.151364\n",
      "[650]\tvalid_0's auc: 0.632934\tvalid_0's binary_logloss: 0.151317\n",
      "[700]\tvalid_0's auc: 0.632915\tvalid_0's binary_logloss: 0.151308\n",
      "[750]\tvalid_0's auc: 0.632627\tvalid_0's binary_logloss: 0.151321\n",
      "Did not meet early stopping. Best iteration is:\n",
      "[656]\tvalid_0's auc: 0.633042\tvalid_0's binary_logloss: 0.151309\n",
      "Fold 4, Valid score = 0.63304\n"
     ]
    },
    {
     "name": "stderr",
     "output_type": "stream",
     "text": [
      "/Users/a17582007/anaconda3/lib/python3.7/site-packages/lightgbm/basic.py:1247: UserWarning: categorical_feature in Dataset is overridden.\n",
      "New categorical_feature is ['ps_car_01_cat', 'ps_car_02_cat', 'ps_car_03_cat', 'ps_car_04_cat', 'ps_car_05_cat', 'ps_car_06_cat', 'ps_car_07_cat', 'ps_car_08_cat', 'ps_car_09_cat', 'ps_car_10_cat', 'ps_car_11_cat', 'ps_ind_02_cat', 'ps_ind_04_cat', 'ps_ind_05_cat']\n",
      "  'New categorical_feature is {}'.format(sorted(list(categorical_feature))))\n",
      "/Users/a17582007/anaconda3/lib/python3.7/site-packages/lightgbm/basic.py:1247: UserWarning: categorical_feature in Dataset is overridden.\n",
      "New categorical_feature is ['ps_car_01_cat', 'ps_car_02_cat', 'ps_car_03_cat', 'ps_car_04_cat', 'ps_car_05_cat', 'ps_car_06_cat', 'ps_car_07_cat', 'ps_car_08_cat', 'ps_car_09_cat', 'ps_car_10_cat', 'ps_car_11_cat', 'ps_ind_02_cat', 'ps_ind_04_cat', 'ps_ind_05_cat']\n",
      "  'New categorical_feature is {}'.format(sorted(list(categorical_feature))))\n"
     ]
    },
    {
     "name": "stdout",
     "output_type": "stream",
     "text": [
      "Training until validation scores don't improve for 5000 rounds\n",
      "[50]\tvalid_0's auc: 0.631445\tvalid_0's binary_logloss: 0.161985\n",
      "[100]\tvalid_0's auc: 0.632263\tvalid_0's binary_logloss: 0.161035\n",
      "[150]\tvalid_0's auc: 0.633499\tvalid_0's binary_logloss: 0.160375\n",
      "[200]\tvalid_0's auc: 0.6346\tvalid_0's binary_logloss: 0.159893\n",
      "[250]\tvalid_0's auc: 0.634905\tvalid_0's binary_logloss: 0.159558\n",
      "[300]\tvalid_0's auc: 0.635325\tvalid_0's binary_logloss: 0.15931\n",
      "[350]\tvalid_0's auc: 0.635373\tvalid_0's binary_logloss: 0.159137\n",
      "[400]\tvalid_0's auc: 0.635993\tvalid_0's binary_logloss: 0.158985\n",
      "[450]\tvalid_0's auc: 0.63587\tvalid_0's binary_logloss: 0.158897\n",
      "[500]\tvalid_0's auc: 0.636242\tvalid_0's binary_logloss: 0.158816\n",
      "[550]\tvalid_0's auc: 0.636533\tvalid_0's binary_logloss: 0.158758\n",
      "[600]\tvalid_0's auc: 0.636518\tvalid_0's binary_logloss: 0.158731\n",
      "[650]\tvalid_0's auc: 0.63678\tvalid_0's binary_logloss: 0.158691\n",
      "[700]\tvalid_0's auc: 0.637135\tvalid_0's binary_logloss: 0.158649\n",
      "[750]\tvalid_0's auc: 0.637367\tvalid_0's binary_logloss: 0.158628\n",
      "Did not meet early stopping. Best iteration is:\n",
      "[747]\tvalid_0's auc: 0.637404\tvalid_0's binary_logloss: 0.158627\n",
      "Fold 5, Valid score = 0.6374\n"
     ]
    },
    {
     "name": "stderr",
     "output_type": "stream",
     "text": [
      "/Users/a17582007/anaconda3/lib/python3.7/site-packages/lightgbm/basic.py:1247: UserWarning: categorical_feature in Dataset is overridden.\n",
      "New categorical_feature is ['ps_car_01_cat', 'ps_car_02_cat', 'ps_car_03_cat', 'ps_car_04_cat', 'ps_car_05_cat', 'ps_car_06_cat', 'ps_car_07_cat', 'ps_car_08_cat', 'ps_car_09_cat', 'ps_car_10_cat', 'ps_car_11_cat', 'ps_ind_02_cat', 'ps_ind_04_cat', 'ps_ind_05_cat']\n",
      "  'New categorical_feature is {}'.format(sorted(list(categorical_feature))))\n",
      "/Users/a17582007/anaconda3/lib/python3.7/site-packages/lightgbm/basic.py:1247: UserWarning: categorical_feature in Dataset is overridden.\n",
      "New categorical_feature is ['ps_car_01_cat', 'ps_car_02_cat', 'ps_car_03_cat', 'ps_car_04_cat', 'ps_car_05_cat', 'ps_car_06_cat', 'ps_car_07_cat', 'ps_car_08_cat', 'ps_car_09_cat', 'ps_car_10_cat', 'ps_car_11_cat', 'ps_ind_02_cat', 'ps_ind_04_cat', 'ps_ind_05_cat']\n",
      "  'New categorical_feature is {}'.format(sorted(list(categorical_feature))))\n"
     ]
    },
    {
     "name": "stdout",
     "output_type": "stream",
     "text": [
      "Training until validation scores don't improve for 5000 rounds\n",
      "[50]\tvalid_0's auc: 0.629009\tvalid_0's binary_logloss: 0.15124\n",
      "[100]\tvalid_0's auc: 0.627257\tvalid_0's binary_logloss: 0.150405\n",
      "[150]\tvalid_0's auc: 0.628232\tvalid_0's binary_logloss: 0.149827\n",
      "[200]\tvalid_0's auc: 0.628763\tvalid_0's binary_logloss: 0.149417\n",
      "[250]\tvalid_0's auc: 0.629149\tvalid_0's binary_logloss: 0.14913\n",
      "[300]\tvalid_0's auc: 0.629381\tvalid_0's binary_logloss: 0.148921\n",
      "[350]\tvalid_0's auc: 0.629729\tvalid_0's binary_logloss: 0.148766\n",
      "[400]\tvalid_0's auc: 0.630156\tvalid_0's binary_logloss: 0.148642\n",
      "[450]\tvalid_0's auc: 0.629898\tvalid_0's binary_logloss: 0.148575\n",
      "[500]\tvalid_0's auc: 0.629929\tvalid_0's binary_logloss: 0.148508\n",
      "[550]\tvalid_0's auc: 0.630343\tvalid_0's binary_logloss: 0.148445\n",
      "[600]\tvalid_0's auc: 0.63035\tvalid_0's binary_logloss: 0.14841\n",
      "[650]\tvalid_0's auc: 0.630343\tvalid_0's binary_logloss: 0.148386\n",
      "[700]\tvalid_0's auc: 0.630515\tvalid_0's binary_logloss: 0.148355\n",
      "[750]\tvalid_0's auc: 0.630371\tvalid_0's binary_logloss: 0.148344\n",
      "Did not meet early stopping. Best iteration is:\n",
      "[675]\tvalid_0's auc: 0.630619\tvalid_0's binary_logloss: 0.14836\n",
      "Fold 6, Valid score = 0.63062\n"
     ]
    },
    {
     "name": "stderr",
     "output_type": "stream",
     "text": [
      "/Users/a17582007/anaconda3/lib/python3.7/site-packages/lightgbm/basic.py:1247: UserWarning: categorical_feature in Dataset is overridden.\n",
      "New categorical_feature is ['ps_car_01_cat', 'ps_car_02_cat', 'ps_car_03_cat', 'ps_car_04_cat', 'ps_car_05_cat', 'ps_car_06_cat', 'ps_car_07_cat', 'ps_car_08_cat', 'ps_car_09_cat', 'ps_car_10_cat', 'ps_car_11_cat', 'ps_ind_02_cat', 'ps_ind_04_cat', 'ps_ind_05_cat']\n",
      "  'New categorical_feature is {}'.format(sorted(list(categorical_feature))))\n",
      "/Users/a17582007/anaconda3/lib/python3.7/site-packages/lightgbm/basic.py:1247: UserWarning: categorical_feature in Dataset is overridden.\n",
      "New categorical_feature is ['ps_car_01_cat', 'ps_car_02_cat', 'ps_car_03_cat', 'ps_car_04_cat', 'ps_car_05_cat', 'ps_car_06_cat', 'ps_car_07_cat', 'ps_car_08_cat', 'ps_car_09_cat', 'ps_car_10_cat', 'ps_car_11_cat', 'ps_ind_02_cat', 'ps_ind_04_cat', 'ps_ind_05_cat']\n",
      "  'New categorical_feature is {}'.format(sorted(list(categorical_feature))))\n"
     ]
    },
    {
     "name": "stdout",
     "output_type": "stream",
     "text": [
      "Training until validation scores don't improve for 5000 rounds\n",
      "[50]\tvalid_0's auc: 0.620985\tvalid_0's binary_logloss: 0.152677\n",
      "[100]\tvalid_0's auc: 0.621309\tvalid_0's binary_logloss: 0.151936\n",
      "[150]\tvalid_0's auc: 0.622807\tvalid_0's binary_logloss: 0.15143\n",
      "[200]\tvalid_0's auc: 0.623426\tvalid_0's binary_logloss: 0.151077\n",
      "[250]\tvalid_0's auc: 0.623584\tvalid_0's binary_logloss: 0.150852\n",
      "[300]\tvalid_0's auc: 0.624011\tvalid_0's binary_logloss: 0.150675\n",
      "[350]\tvalid_0's auc: 0.624321\tvalid_0's binary_logloss: 0.150554\n",
      "[400]\tvalid_0's auc: 0.624793\tvalid_0's binary_logloss: 0.15047\n",
      "[450]\tvalid_0's auc: 0.624771\tvalid_0's binary_logloss: 0.15042\n",
      "[500]\tvalid_0's auc: 0.625273\tvalid_0's binary_logloss: 0.150371\n",
      "[550]\tvalid_0's auc: 0.625733\tvalid_0's binary_logloss: 0.150332\n",
      "[600]\tvalid_0's auc: 0.625832\tvalid_0's binary_logloss: 0.150319\n",
      "[650]\tvalid_0's auc: 0.625902\tvalid_0's binary_logloss: 0.150309\n",
      "[700]\tvalid_0's auc: 0.625888\tvalid_0's binary_logloss: 0.150307\n",
      "[750]\tvalid_0's auc: 0.625722\tvalid_0's binary_logloss: 0.150326\n",
      "Did not meet early stopping. Best iteration is:\n",
      "[640]\tvalid_0's auc: 0.626027\tvalid_0's binary_logloss: 0.150304\n",
      "Fold 7, Valid score = 0.62603\n",
      "Score by each fold: [0.63993, 0.62633, 0.63564, 0.63304, 0.6374, 0.63062, 0.62603]\n",
      "=================================================================\n"
     ]
    }
   ],
   "source": [
    "estimators_cat, oof_preds_cat = lightgbm_cross_validation(\n",
    "    lgbm_params, data, target, cv, categorical=categorical\n",
    ")"
   ]
  },
  {
   "cell_type": "code",
   "execution_count": 55,
   "metadata": {},
   "outputs": [
    {
     "name": "stdout",
     "output_type": "stream",
     "text": [
      "Score = 0.6327\n"
     ]
    }
   ],
   "source": [
    "score = roc_auc_score(target, oof_preds_cat)\n",
    "print(f\"Score = {round(score, 4)}\")"
   ]
  },
  {
   "cell_type": "markdown",
   "metadata": {},
   "source": [
    "## LightGBM with permutation"
   ]
  },
  {
   "cell_type": "code",
   "execution_count": 79,
   "metadata": {},
   "outputs": [],
   "source": [
    "to_drop = [\n",
    "    'ps_calc_16_bin',\n",
    "    'ps_calc_15_bin',\n",
    "    'ps_ind_10_bin',\n",
    "    'ps_ind_11_bin',\n",
    "    'ps_calc_01',\n",
    "    'ps_calc_11',\n",
    "    'ps_ind_13_bin',\n",
    "    'ps_ind_18_bin',\n",
    "    'ps_ind_14',\n",
    "    'ps_car_10_cat',\n",
    "    'ps_calc_19_bin',\n",
    "    'ps_calc_20_bin',\n",
    "    'ps_calc_06',\n",
    "    'ps_calc_09',\n",
    "    'ps_car_05_cat',\n",
    "    'ps_calc_12',\n",
    "    'ps_car_06_cat',\n",
    "    'ps_calc_08'\n",
    "]"
   ]
  },
  {
   "cell_type": "code",
   "execution_count": 80,
   "metadata": {},
   "outputs": [
    {
     "name": "stdout",
     "output_type": "stream",
     "text": [
      "Wed Dec  9 18:15:19 2020, Cross-Validation, 249988 rows, 39 cols\n",
      "Training until validation scores don't improve for 5000 rounds\n",
      "[50]\tvalid_0's auc: 0.638517\tvalid_0's binary_logloss: 0.156958\n",
      "[100]\tvalid_0's auc: 0.63959\tvalid_0's binary_logloss: 0.15605\n",
      "[150]\tvalid_0's auc: 0.640105\tvalid_0's binary_logloss: 0.155408\n",
      "[200]\tvalid_0's auc: 0.640827\tvalid_0's binary_logloss: 0.154937\n",
      "[250]\tvalid_0's auc: 0.641112\tvalid_0's binary_logloss: 0.15461\n",
      "[300]\tvalid_0's auc: 0.642307\tvalid_0's binary_logloss: 0.154336\n",
      "[350]\tvalid_0's auc: 0.642986\tvalid_0's binary_logloss: 0.154132\n",
      "[400]\tvalid_0's auc: 0.643381\tvalid_0's binary_logloss: 0.15398\n",
      "[450]\tvalid_0's auc: 0.643189\tvalid_0's binary_logloss: 0.153887\n",
      "[500]\tvalid_0's auc: 0.643439\tvalid_0's binary_logloss: 0.153796\n",
      "[550]\tvalid_0's auc: 0.643806\tvalid_0's binary_logloss: 0.153717\n",
      "[600]\tvalid_0's auc: 0.644339\tvalid_0's binary_logloss: 0.153645\n",
      "[650]\tvalid_0's auc: 0.644821\tvalid_0's binary_logloss: 0.15358\n",
      "[700]\tvalid_0's auc: 0.64505\tvalid_0's binary_logloss: 0.153529\n",
      "[750]\tvalid_0's auc: 0.645369\tvalid_0's binary_logloss: 0.153486\n",
      "Did not meet early stopping. Best iteration is:\n",
      "[750]\tvalid_0's auc: 0.645369\tvalid_0's binary_logloss: 0.153486\n",
      "Fold 1, Valid score = 0.64537\n",
      "Training until validation scores don't improve for 5000 rounds\n",
      "[50]\tvalid_0's auc: 0.625424\tvalid_0's binary_logloss: 0.148951\n",
      "[100]\tvalid_0's auc: 0.626446\tvalid_0's binary_logloss: 0.148192\n",
      "[150]\tvalid_0's auc: 0.627751\tvalid_0's binary_logloss: 0.147654\n",
      "[200]\tvalid_0's auc: 0.629002\tvalid_0's binary_logloss: 0.147264\n",
      "[250]\tvalid_0's auc: 0.630056\tvalid_0's binary_logloss: 0.146991\n",
      "[300]\tvalid_0's auc: 0.630533\tvalid_0's binary_logloss: 0.146785\n",
      "[350]\tvalid_0's auc: 0.630988\tvalid_0's binary_logloss: 0.14663\n",
      "[400]\tvalid_0's auc: 0.631627\tvalid_0's binary_logloss: 0.146496\n",
      "[450]\tvalid_0's auc: 0.631654\tvalid_0's binary_logloss: 0.146414\n",
      "[500]\tvalid_0's auc: 0.631829\tvalid_0's binary_logloss: 0.146345\n",
      "[550]\tvalid_0's auc: 0.632516\tvalid_0's binary_logloss: 0.146276\n",
      "[600]\tvalid_0's auc: 0.632797\tvalid_0's binary_logloss: 0.146233\n",
      "[650]\tvalid_0's auc: 0.633225\tvalid_0's binary_logloss: 0.146187\n",
      "[700]\tvalid_0's auc: 0.633751\tvalid_0's binary_logloss: 0.14614\n",
      "[750]\tvalid_0's auc: 0.634144\tvalid_0's binary_logloss: 0.146107\n",
      "Did not meet early stopping. Best iteration is:\n",
      "[750]\tvalid_0's auc: 0.634144\tvalid_0's binary_logloss: 0.146107\n",
      "Fold 2, Valid score = 0.63414\n",
      "Training until validation scores don't improve for 5000 rounds\n",
      "[50]\tvalid_0's auc: 0.629062\tvalid_0's binary_logloss: 0.15939\n",
      "[100]\tvalid_0's auc: 0.630533\tvalid_0's binary_logloss: 0.158522\n",
      "[150]\tvalid_0's auc: 0.631611\tvalid_0's binary_logloss: 0.157906\n",
      "[200]\tvalid_0's auc: 0.632611\tvalid_0's binary_logloss: 0.157472\n",
      "[250]\tvalid_0's auc: 0.633269\tvalid_0's binary_logloss: 0.157166\n",
      "[300]\tvalid_0's auc: 0.635107\tvalid_0's binary_logloss: 0.156892\n",
      "[350]\tvalid_0's auc: 0.636014\tvalid_0's binary_logloss: 0.156701\n",
      "[400]\tvalid_0's auc: 0.636882\tvalid_0's binary_logloss: 0.156539\n",
      "[450]\tvalid_0's auc: 0.637417\tvalid_0's binary_logloss: 0.15643\n",
      "[500]\tvalid_0's auc: 0.63792\tvalid_0's binary_logloss: 0.156343\n",
      "[550]\tvalid_0's auc: 0.63832\tvalid_0's binary_logloss: 0.15627\n",
      "[600]\tvalid_0's auc: 0.63838\tvalid_0's binary_logloss: 0.156228\n",
      "[650]\tvalid_0's auc: 0.639008\tvalid_0's binary_logloss: 0.156164\n",
      "[700]\tvalid_0's auc: 0.639275\tvalid_0's binary_logloss: 0.156131\n",
      "[750]\tvalid_0's auc: 0.640081\tvalid_0's binary_logloss: 0.156074\n",
      "Did not meet early stopping. Best iteration is:\n",
      "[750]\tvalid_0's auc: 0.640081\tvalid_0's binary_logloss: 0.156074\n",
      "Fold 3, Valid score = 0.64008\n",
      "Training until validation scores don't improve for 5000 rounds\n",
      "[50]\tvalid_0's auc: 0.623969\tvalid_0's binary_logloss: 0.154163\n",
      "[100]\tvalid_0's auc: 0.626578\tvalid_0's binary_logloss: 0.153345\n",
      "[150]\tvalid_0's auc: 0.626989\tvalid_0's binary_logloss: 0.1528\n",
      "[200]\tvalid_0's auc: 0.628024\tvalid_0's binary_logloss: 0.152407\n",
      "[250]\tvalid_0's auc: 0.628684\tvalid_0's binary_logloss: 0.152141\n",
      "[300]\tvalid_0's auc: 0.629621\tvalid_0's binary_logloss: 0.151932\n",
      "[350]\tvalid_0's auc: 0.630128\tvalid_0's binary_logloss: 0.151786\n",
      "[400]\tvalid_0's auc: 0.631092\tvalid_0's binary_logloss: 0.151644\n",
      "[450]\tvalid_0's auc: 0.631853\tvalid_0's binary_logloss: 0.151543\n",
      "[500]\tvalid_0's auc: 0.632273\tvalid_0's binary_logloss: 0.151465\n",
      "[550]\tvalid_0's auc: 0.633075\tvalid_0's binary_logloss: 0.151394\n",
      "[600]\tvalid_0's auc: 0.633457\tvalid_0's binary_logloss: 0.151351\n",
      "[650]\tvalid_0's auc: 0.633767\tvalid_0's binary_logloss: 0.151319\n",
      "[700]\tvalid_0's auc: 0.634122\tvalid_0's binary_logloss: 0.151287\n",
      "[750]\tvalid_0's auc: 0.634463\tvalid_0's binary_logloss: 0.15126\n",
      "Did not meet early stopping. Best iteration is:\n",
      "[748]\tvalid_0's auc: 0.634477\tvalid_0's binary_logloss: 0.151261\n",
      "Fold 4, Valid score = 0.63448\n",
      "Training until validation scores don't improve for 5000 rounds\n",
      "[50]\tvalid_0's auc: 0.630967\tvalid_0's binary_logloss: 0.161986\n",
      "[100]\tvalid_0's auc: 0.631\tvalid_0's binary_logloss: 0.161087\n",
      "[150]\tvalid_0's auc: 0.632186\tvalid_0's binary_logloss: 0.160443\n",
      "[200]\tvalid_0's auc: 0.633187\tvalid_0's binary_logloss: 0.159973\n",
      "[250]\tvalid_0's auc: 0.633224\tvalid_0's binary_logloss: 0.159664\n",
      "[300]\tvalid_0's auc: 0.633648\tvalid_0's binary_logloss: 0.159418\n",
      "[350]\tvalid_0's auc: 0.633653\tvalid_0's binary_logloss: 0.159247\n",
      "[400]\tvalid_0's auc: 0.634018\tvalid_0's binary_logloss: 0.159098\n",
      "[450]\tvalid_0's auc: 0.63448\tvalid_0's binary_logloss: 0.158988\n",
      "[500]\tvalid_0's auc: 0.63519\tvalid_0's binary_logloss: 0.158887\n",
      "[550]\tvalid_0's auc: 0.635658\tvalid_0's binary_logloss: 0.158804\n",
      "[600]\tvalid_0's auc: 0.635981\tvalid_0's binary_logloss: 0.158753\n",
      "[650]\tvalid_0's auc: 0.636319\tvalid_0's binary_logloss: 0.1587\n",
      "[700]\tvalid_0's auc: 0.636637\tvalid_0's binary_logloss: 0.158661\n",
      "[750]\tvalid_0's auc: 0.637128\tvalid_0's binary_logloss: 0.158618\n",
      "Did not meet early stopping. Best iteration is:\n",
      "[750]\tvalid_0's auc: 0.637128\tvalid_0's binary_logloss: 0.158618\n",
      "Fold 5, Valid score = 0.63713\n",
      "Training until validation scores don't improve for 5000 rounds\n",
      "[50]\tvalid_0's auc: 0.627995\tvalid_0's binary_logloss: 0.151246\n",
      "[100]\tvalid_0's auc: 0.630344\tvalid_0's binary_logloss: 0.150391\n",
      "[150]\tvalid_0's auc: 0.631686\tvalid_0's binary_logloss: 0.149796\n",
      "[200]\tvalid_0's auc: 0.632072\tvalid_0's binary_logloss: 0.149392\n",
      "[250]\tvalid_0's auc: 0.63283\tvalid_0's binary_logloss: 0.149093\n",
      "[300]\tvalid_0's auc: 0.634177\tvalid_0's binary_logloss: 0.148828\n",
      "[350]\tvalid_0's auc: 0.635036\tvalid_0's binary_logloss: 0.148633\n",
      "[400]\tvalid_0's auc: 0.63601\tvalid_0's binary_logloss: 0.148474\n",
      "[450]\tvalid_0's auc: 0.636333\tvalid_0's binary_logloss: 0.148362\n",
      "[500]\tvalid_0's auc: 0.636621\tvalid_0's binary_logloss: 0.148272\n",
      "[550]\tvalid_0's auc: 0.637\tvalid_0's binary_logloss: 0.148201\n",
      "[600]\tvalid_0's auc: 0.637075\tvalid_0's binary_logloss: 0.148154\n",
      "[650]\tvalid_0's auc: 0.637281\tvalid_0's binary_logloss: 0.148101\n",
      "[700]\tvalid_0's auc: 0.63718\tvalid_0's binary_logloss: 0.148081\n",
      "[750]\tvalid_0's auc: 0.637253\tvalid_0's binary_logloss: 0.148057\n",
      "Did not meet early stopping. Best iteration is:\n",
      "[727]\tvalid_0's auc: 0.637312\tvalid_0's binary_logloss: 0.148061\n",
      "Fold 6, Valid score = 0.63731\n",
      "Training until validation scores don't improve for 5000 rounds\n",
      "[50]\tvalid_0's auc: 0.625117\tvalid_0's binary_logloss: 0.152646\n",
      "[100]\tvalid_0's auc: 0.627016\tvalid_0's binary_logloss: 0.151865\n",
      "[150]\tvalid_0's auc: 0.627812\tvalid_0's binary_logloss: 0.151319\n",
      "[200]\tvalid_0's auc: 0.628386\tvalid_0's binary_logloss: 0.150944\n",
      "[250]\tvalid_0's auc: 0.629299\tvalid_0's binary_logloss: 0.15067\n",
      "[300]\tvalid_0's auc: 0.630346\tvalid_0's binary_logloss: 0.150459\n",
      "[350]\tvalid_0's auc: 0.630396\tvalid_0's binary_logloss: 0.150328\n",
      "[400]\tvalid_0's auc: 0.63088\tvalid_0's binary_logloss: 0.150211\n",
      "[450]\tvalid_0's auc: 0.631398\tvalid_0's binary_logloss: 0.150117\n",
      "[500]\tvalid_0's auc: 0.631801\tvalid_0's binary_logloss: 0.150043\n",
      "[550]\tvalid_0's auc: 0.631925\tvalid_0's binary_logloss: 0.149997\n",
      "[600]\tvalid_0's auc: 0.632111\tvalid_0's binary_logloss: 0.149959\n",
      "[650]\tvalid_0's auc: 0.632485\tvalid_0's binary_logloss: 0.149918\n",
      "[700]\tvalid_0's auc: 0.632506\tvalid_0's binary_logloss: 0.149897\n",
      "[750]\tvalid_0's auc: 0.63235\tvalid_0's binary_logloss: 0.14989\n",
      "Did not meet early stopping. Best iteration is:\n",
      "[694]\tvalid_0's auc: 0.632566\tvalid_0's binary_logloss: 0.149896\n"
     ]
    },
    {
     "name": "stdout",
     "output_type": "stream",
     "text": [
      "Fold 7, Valid score = 0.63257\n",
      "Score by each fold: [0.64537, 0.63414, 0.64008, 0.63448, 0.63713, 0.63731, 0.63257]\n",
      "=================================================================\n"
     ]
    }
   ],
   "source": [
    "estimators_perm, oof_preds_perm = lightgbm_cross_validation(\n",
    "    lgbm_params, data.drop(to_drop, axis=1), target, cv\n",
    ")"
   ]
  },
  {
   "cell_type": "code",
   "execution_count": 81,
   "metadata": {},
   "outputs": [
    {
     "name": "stdout",
     "output_type": "stream",
     "text": [
      "Score = 0.6372\n"
     ]
    }
   ],
   "source": [
    "score = roc_auc_score(target, oof_preds_perm)\n",
    "print(f\"Score = {round(score, 4)}\")"
   ]
  },
  {
   "cell_type": "markdown",
   "metadata": {},
   "source": [
    "## LightGBM with different hyperparams"
   ]
  },
  {
   "cell_type": "code",
   "execution_count": 121,
   "metadata": {},
   "outputs": [],
   "source": [
    "params = {\n",
    "    'boosting_type': 'goss',\n",
    "    'n_estimators': 750,\n",
    "    'learning_rate': 0.005134,\n",
    "    'num_leaves': 54,\n",
    "    'max_depth': 10,\n",
    "    'subsample_for_bin': 240000,\n",
    "    'reg_alpha': 0.436193,\n",
    "    'reg_lambda': 0.479169,\n",
    "    'colsample_bytree': 0.508716,\n",
    "    'min_split_gain': 0.024766,\n",
    "    'subsample': 0.7,\n",
    "    'is_unbalance': False,\n",
    "    'random_state': 42,\n",
    "    'silent': -1,\n",
    "    'verbose': -1\n",
    "}"
   ]
  },
  {
   "cell_type": "code",
   "execution_count": 123,
   "metadata": {},
   "outputs": [
    {
     "name": "stdout",
     "output_type": "stream",
     "text": [
      "Wed Dec  9 18:44:38 2020, Cross-Validation, 249988 rows, 57 cols\n",
      "Training until validation scores don't improve for 5000 rounds\n",
      "[50]\tvalid_0's auc: 0.634365\tvalid_0's binary_logloss: 0.156993\n",
      "[100]\tvalid_0's auc: 0.636966\tvalid_0's binary_logloss: 0.156098\n",
      "[150]\tvalid_0's auc: 0.638626\tvalid_0's binary_logloss: 0.15546\n",
      "[200]\tvalid_0's auc: 0.640071\tvalid_0's binary_logloss: 0.155008\n",
      "[250]\tvalid_0's auc: 0.64096\tvalid_0's binary_logloss: 0.154666\n",
      "[300]\tvalid_0's auc: 0.641773\tvalid_0's binary_logloss: 0.154402\n",
      "[350]\tvalid_0's auc: 0.642189\tvalid_0's binary_logloss: 0.154206\n",
      "[400]\tvalid_0's auc: 0.64289\tvalid_0's binary_logloss: 0.154034\n",
      "[450]\tvalid_0's auc: 0.643298\tvalid_0's binary_logloss: 0.153908\n",
      "[500]\tvalid_0's auc: 0.643482\tvalid_0's binary_logloss: 0.153817\n",
      "[550]\tvalid_0's auc: 0.643855\tvalid_0's binary_logloss: 0.153738\n",
      "[600]\tvalid_0's auc: 0.644195\tvalid_0's binary_logloss: 0.153669\n",
      "[650]\tvalid_0's auc: 0.644352\tvalid_0's binary_logloss: 0.153629\n",
      "[700]\tvalid_0's auc: 0.644794\tvalid_0's binary_logloss: 0.153584\n",
      "[750]\tvalid_0's auc: 0.644636\tvalid_0's binary_logloss: 0.153567\n",
      "Did not meet early stopping. Best iteration is:\n",
      "[719]\tvalid_0's auc: 0.644841\tvalid_0's binary_logloss: 0.153576\n",
      "Fold 1, Valid score = 0.64484\n",
      "Training until validation scores don't improve for 5000 rounds\n",
      "[50]\tvalid_0's auc: 0.62694\tvalid_0's binary_logloss: 0.148957\n",
      "[100]\tvalid_0's auc: 0.627679\tvalid_0's binary_logloss: 0.148166\n",
      "[150]\tvalid_0's auc: 0.62831\tvalid_0's binary_logloss: 0.147649\n",
      "[200]\tvalid_0's auc: 0.628165\tvalid_0's binary_logloss: 0.147294\n",
      "[250]\tvalid_0's auc: 0.62872\tvalid_0's binary_logloss: 0.147018\n",
      "[300]\tvalid_0's auc: 0.629139\tvalid_0's binary_logloss: 0.146805\n",
      "[350]\tvalid_0's auc: 0.629717\tvalid_0's binary_logloss: 0.146648\n",
      "[400]\tvalid_0's auc: 0.630114\tvalid_0's binary_logloss: 0.146531\n",
      "[450]\tvalid_0's auc: 0.630495\tvalid_0's binary_logloss: 0.146444\n",
      "[500]\tvalid_0's auc: 0.630778\tvalid_0's binary_logloss: 0.146373\n",
      "[550]\tvalid_0's auc: 0.631428\tvalid_0's binary_logloss: 0.146308\n",
      "[600]\tvalid_0's auc: 0.631714\tvalid_0's binary_logloss: 0.146259\n",
      "[650]\tvalid_0's auc: 0.63258\tvalid_0's binary_logloss: 0.14619\n",
      "[700]\tvalid_0's auc: 0.632918\tvalid_0's binary_logloss: 0.146159\n",
      "[750]\tvalid_0's auc: 0.632943\tvalid_0's binary_logloss: 0.146142\n",
      "Did not meet early stopping. Best iteration is:\n",
      "[746]\tvalid_0's auc: 0.63298\tvalid_0's binary_logloss: 0.146139\n",
      "Fold 2, Valid score = 0.63298\n",
      "Training until validation scores don't improve for 5000 rounds\n",
      "[50]\tvalid_0's auc: 0.628535\tvalid_0's binary_logloss: 0.159412\n",
      "[100]\tvalid_0's auc: 0.629232\tvalid_0's binary_logloss: 0.158559\n",
      "[150]\tvalid_0's auc: 0.63086\tvalid_0's binary_logloss: 0.157954\n",
      "[200]\tvalid_0's auc: 0.632224\tvalid_0's binary_logloss: 0.157532\n",
      "[250]\tvalid_0's auc: 0.633573\tvalid_0's binary_logloss: 0.157213\n",
      "[300]\tvalid_0's auc: 0.63436\tvalid_0's binary_logloss: 0.156965\n",
      "[350]\tvalid_0's auc: 0.634674\tvalid_0's binary_logloss: 0.15679\n",
      "[400]\tvalid_0's auc: 0.635205\tvalid_0's binary_logloss: 0.156652\n",
      "[450]\tvalid_0's auc: 0.635788\tvalid_0's binary_logloss: 0.156533\n",
      "[500]\tvalid_0's auc: 0.636921\tvalid_0's binary_logloss: 0.156414\n",
      "[550]\tvalid_0's auc: 0.637418\tvalid_0's binary_logloss: 0.15634\n",
      "[600]\tvalid_0's auc: 0.637842\tvalid_0's binary_logloss: 0.156285\n",
      "[650]\tvalid_0's auc: 0.638154\tvalid_0's binary_logloss: 0.156236\n",
      "[700]\tvalid_0's auc: 0.638705\tvalid_0's binary_logloss: 0.156187\n",
      "[750]\tvalid_0's auc: 0.639363\tvalid_0's binary_logloss: 0.15614\n",
      "Did not meet early stopping. Best iteration is:\n",
      "[750]\tvalid_0's auc: 0.639363\tvalid_0's binary_logloss: 0.15614\n",
      "Fold 3, Valid score = 0.63936\n",
      "Training until validation scores don't improve for 5000 rounds\n",
      "[50]\tvalid_0's auc: 0.625467\tvalid_0's binary_logloss: 0.154162\n",
      "[100]\tvalid_0's auc: 0.62552\tvalid_0's binary_logloss: 0.153373\n",
      "[150]\tvalid_0's auc: 0.62607\tvalid_0's binary_logloss: 0.152845\n",
      "[200]\tvalid_0's auc: 0.626566\tvalid_0's binary_logloss: 0.152482\n",
      "[250]\tvalid_0's auc: 0.627699\tvalid_0's binary_logloss: 0.152198\n",
      "[300]\tvalid_0's auc: 0.628046\tvalid_0's binary_logloss: 0.15201\n",
      "[350]\tvalid_0's auc: 0.629228\tvalid_0's binary_logloss: 0.151839\n",
      "[400]\tvalid_0's auc: 0.629657\tvalid_0's binary_logloss: 0.15174\n",
      "[450]\tvalid_0's auc: 0.630335\tvalid_0's binary_logloss: 0.151646\n",
      "[500]\tvalid_0's auc: 0.630879\tvalid_0's binary_logloss: 0.151578\n",
      "[550]\tvalid_0's auc: 0.631112\tvalid_0's binary_logloss: 0.151533\n",
      "[600]\tvalid_0's auc: 0.63152\tvalid_0's binary_logloss: 0.151492\n",
      "[650]\tvalid_0's auc: 0.63204\tvalid_0's binary_logloss: 0.15145\n",
      "[700]\tvalid_0's auc: 0.632188\tvalid_0's binary_logloss: 0.15142\n",
      "[750]\tvalid_0's auc: 0.632322\tvalid_0's binary_logloss: 0.151399\n",
      "Did not meet early stopping. Best iteration is:\n",
      "[707]\tvalid_0's auc: 0.632396\tvalid_0's binary_logloss: 0.151409\n",
      "Fold 4, Valid score = 0.6324\n",
      "Training until validation scores don't improve for 5000 rounds\n",
      "[50]\tvalid_0's auc: 0.629001\tvalid_0's binary_logloss: 0.162016\n",
      "[100]\tvalid_0's auc: 0.630257\tvalid_0's binary_logloss: 0.161116\n",
      "[150]\tvalid_0's auc: 0.630781\tvalid_0's binary_logloss: 0.160502\n",
      "[200]\tvalid_0's auc: 0.631819\tvalid_0's binary_logloss: 0.160054\n",
      "[250]\tvalid_0's auc: 0.632342\tvalid_0's binary_logloss: 0.159722\n",
      "[300]\tvalid_0's auc: 0.632986\tvalid_0's binary_logloss: 0.159468\n",
      "[350]\tvalid_0's auc: 0.632924\tvalid_0's binary_logloss: 0.159296\n",
      "[400]\tvalid_0's auc: 0.633726\tvalid_0's binary_logloss: 0.159137\n",
      "[450]\tvalid_0's auc: 0.634064\tvalid_0's binary_logloss: 0.159033\n",
      "[500]\tvalid_0's auc: 0.634145\tvalid_0's binary_logloss: 0.158951\n",
      "[550]\tvalid_0's auc: 0.634502\tvalid_0's binary_logloss: 0.15888\n",
      "[600]\tvalid_0's auc: 0.635035\tvalid_0's binary_logloss: 0.158817\n",
      "[650]\tvalid_0's auc: 0.635475\tvalid_0's binary_logloss: 0.158765\n",
      "[700]\tvalid_0's auc: 0.635552\tvalid_0's binary_logloss: 0.158738\n",
      "[750]\tvalid_0's auc: 0.63594\tvalid_0's binary_logloss: 0.158699\n",
      "Did not meet early stopping. Best iteration is:\n",
      "[735]\tvalid_0's auc: 0.635977\tvalid_0's binary_logloss: 0.158707\n",
      "Fold 5, Valid score = 0.63598\n",
      "Training until validation scores don't improve for 5000 rounds\n",
      "[50]\tvalid_0's auc: 0.631593\tvalid_0's binary_logloss: 0.151257\n",
      "[100]\tvalid_0's auc: 0.631217\tvalid_0's binary_logloss: 0.150401\n",
      "[150]\tvalid_0's auc: 0.63202\tvalid_0's binary_logloss: 0.149826\n",
      "[200]\tvalid_0's auc: 0.632795\tvalid_0's binary_logloss: 0.149409\n",
      "[250]\tvalid_0's auc: 0.63385\tvalid_0's binary_logloss: 0.14909\n",
      "[300]\tvalid_0's auc: 0.635203\tvalid_0's binary_logloss: 0.148834\n",
      "[350]\tvalid_0's auc: 0.6352\tvalid_0's binary_logloss: 0.148669\n",
      "[400]\tvalid_0's auc: 0.635561\tvalid_0's binary_logloss: 0.148538\n",
      "[450]\tvalid_0's auc: 0.635759\tvalid_0's binary_logloss: 0.148432\n",
      "[500]\tvalid_0's auc: 0.636292\tvalid_0's binary_logloss: 0.148333\n",
      "[550]\tvalid_0's auc: 0.636199\tvalid_0's binary_logloss: 0.148283\n",
      "[600]\tvalid_0's auc: 0.636097\tvalid_0's binary_logloss: 0.14824\n",
      "[650]\tvalid_0's auc: 0.636318\tvalid_0's binary_logloss: 0.148199\n",
      "[700]\tvalid_0's auc: 0.636482\tvalid_0's binary_logloss: 0.148168\n",
      "[750]\tvalid_0's auc: 0.636584\tvalid_0's binary_logloss: 0.148141\n",
      "Did not meet early stopping. Best iteration is:\n",
      "[739]\tvalid_0's auc: 0.636649\tvalid_0's binary_logloss: 0.148144\n",
      "Fold 6, Valid score = 0.63665\n",
      "Training until validation scores don't improve for 5000 rounds\n",
      "[50]\tvalid_0's auc: 0.626491\tvalid_0's binary_logloss: 0.15264\n",
      "[100]\tvalid_0's auc: 0.625773\tvalid_0's binary_logloss: 0.151883\n",
      "[150]\tvalid_0's auc: 0.626965\tvalid_0's binary_logloss: 0.151342\n",
      "[200]\tvalid_0's auc: 0.628075\tvalid_0's binary_logloss: 0.150961\n",
      "[250]\tvalid_0's auc: 0.628499\tvalid_0's binary_logloss: 0.150695\n",
      "[300]\tvalid_0's auc: 0.629165\tvalid_0's binary_logloss: 0.150494\n",
      "[350]\tvalid_0's auc: 0.629514\tvalid_0's binary_logloss: 0.150351\n",
      "[400]\tvalid_0's auc: 0.630146\tvalid_0's binary_logloss: 0.150227\n",
      "[450]\tvalid_0's auc: 0.630593\tvalid_0's binary_logloss: 0.150141\n",
      "[500]\tvalid_0's auc: 0.630427\tvalid_0's binary_logloss: 0.150091\n",
      "[550]\tvalid_0's auc: 0.630409\tvalid_0's binary_logloss: 0.150046\n",
      "[600]\tvalid_0's auc: 0.63044\tvalid_0's binary_logloss: 0.15002\n",
      "[650]\tvalid_0's auc: 0.630582\tvalid_0's binary_logloss: 0.149986\n",
      "[700]\tvalid_0's auc: 0.630348\tvalid_0's binary_logloss: 0.149979\n",
      "[750]\tvalid_0's auc: 0.630516\tvalid_0's binary_logloss: 0.149954\n",
      "Did not meet early stopping. Best iteration is:\n",
      "[453]\tvalid_0's auc: 0.630631\tvalid_0's binary_logloss: 0.150135\n"
     ]
    },
    {
     "name": "stdout",
     "output_type": "stream",
     "text": [
      "Fold 7, Valid score = 0.63063\n",
      "Score by each fold: [0.64484, 0.63298, 0.63936, 0.6324, 0.63598, 0.63665, 0.63063]\n",
      "=================================================================\n"
     ]
    }
   ],
   "source": [
    "estimators_goss, oof_preds_goss = lightgbm_cross_validation(\n",
    "    params, data, target, cv\n",
    ")"
   ]
  },
  {
   "cell_type": "code",
   "execution_count": 125,
   "metadata": {},
   "outputs": [
    {
     "name": "stdout",
     "output_type": "stream",
     "text": [
      "Score = 0.6359\n"
     ]
    }
   ],
   "source": [
    "score = roc_auc_score(target, oof_preds_goss)\n",
    "print(f\"Score = {round(score, 4)}\")"
   ]
  },
  {
   "cell_type": "markdown",
   "metadata": {},
   "source": [
    "## XGBoost"
   ]
  },
  {
   "cell_type": "code",
   "execution_count": 137,
   "metadata": {},
   "outputs": [],
   "source": [
    "xgb_params = {\n",
    "    \"objective\": \"binary:logistic\",\n",
    "    \"booster\": \"gbtree\",\n",
    "    \"eval_metric\": \"auc\",\n",
    "    \"eta\": \"0.05\",\n",
    "    \"max_depth\": 6,\n",
    "    \"gamma\": 10,\n",
    "    \"subsample\": 0.85,\n",
    "    \"colsample_bytree\": 0.7,\n",
    "    \"colsample_bylevel\": 0.632,\n",
    "    \"min_child_weight\": 30,\n",
    "    \"alpha\": 0,\n",
    "    \"lambda\": 0,\n",
    "    \"nthread\": 6,\n",
    "    \"random_seed\": 42\n",
    "}\n",
    "\n",
    "xgb_cv = KFold(n_splits=10, random_state=42, shuffle=True)"
   ]
  },
  {
   "cell_type": "code",
   "execution_count": 138,
   "metadata": {},
   "outputs": [
    {
     "name": "stdout",
     "output_type": "stream",
     "text": [
      "Wed Dec  9 21:09:16 2020, Cross-Validation, 249988 rows, 57 cols\n"
     ]
    },
    {
     "name": "stderr",
     "output_type": "stream",
     "text": [
      "/Users/a17582007/anaconda3/lib/python3.7/site-packages/xgboost/core.py:587: FutureWarning: Series.base is deprecated and will be removed in a future version\n",
      "  if getattr(data, 'base', None) is not None and \\\n"
     ]
    },
    {
     "name": "stdout",
     "output_type": "stream",
     "text": [
      "[0]\ttrain-auc:0.587197\tvalid-auc:0.575258\n",
      "Multiple eval metrics have been passed: 'valid-auc' will be used for early stopping.\n",
      "\n",
      "Will train until valid-auc hasn't improved in 25 rounds.\n",
      "[10]\ttrain-auc:0.61583\tvalid-auc:0.601419\n",
      "[20]\ttrain-auc:0.620423\tvalid-auc:0.607197\n",
      "[30]\ttrain-auc:0.623124\tvalid-auc:0.60973\n",
      "[40]\ttrain-auc:0.626986\tvalid-auc:0.612121\n",
      "[50]\ttrain-auc:0.632583\tvalid-auc:0.615119\n",
      "[60]\ttrain-auc:0.637558\tvalid-auc:0.620324\n",
      "[70]\ttrain-auc:0.642669\tvalid-auc:0.623182\n",
      "[80]\ttrain-auc:0.645558\tvalid-auc:0.625111\n",
      "[90]\ttrain-auc:0.649073\tvalid-auc:0.627375\n",
      "[100]\ttrain-auc:0.651409\tvalid-auc:0.628736\n",
      "[110]\ttrain-auc:0.653259\tvalid-auc:0.629615\n",
      "[120]\ttrain-auc:0.655039\tvalid-auc:0.630382\n",
      "[130]\ttrain-auc:0.65679\tvalid-auc:0.630537\n",
      "[140]\ttrain-auc:0.658509\tvalid-auc:0.630859\n",
      "[150]\ttrain-auc:0.660582\tvalid-auc:0.631355\n",
      "[160]\ttrain-auc:0.661681\tvalid-auc:0.631956\n",
      "[170]\ttrain-auc:0.662309\tvalid-auc:0.632213\n",
      "[180]\ttrain-auc:0.663489\tvalid-auc:0.631999\n",
      "[190]\ttrain-auc:0.664384\tvalid-auc:0.631825\n",
      "Stopping. Best iteration:\n",
      "[170]\ttrain-auc:0.662309\tvalid-auc:0.632213\n",
      "\n",
      "Fold 1, Valid score = 0.63197\n"
     ]
    },
    {
     "name": "stderr",
     "output_type": "stream",
     "text": [
      "/Users/a17582007/anaconda3/lib/python3.7/site-packages/xgboost/core.py:587: FutureWarning: Series.base is deprecated and will be removed in a future version\n",
      "  if getattr(data, 'base', None) is not None and \\\n"
     ]
    },
    {
     "name": "stdout",
     "output_type": "stream",
     "text": [
      "[0]\ttrain-auc:0.584204\tvalid-auc:0.575628\n",
      "Multiple eval metrics have been passed: 'valid-auc' will be used for early stopping.\n",
      "\n",
      "Will train until valid-auc hasn't improved in 25 rounds.\n",
      "[10]\ttrain-auc:0.6186\tvalid-auc:0.604766\n",
      "[20]\ttrain-auc:0.622638\tvalid-auc:0.603455\n",
      "[30]\ttrain-auc:0.625474\tvalid-auc:0.606841\n",
      "[40]\ttrain-auc:0.628745\tvalid-auc:0.606563\n",
      "[50]\ttrain-auc:0.633002\tvalid-auc:0.609721\n",
      "[60]\ttrain-auc:0.636841\tvalid-auc:0.612613\n",
      "[70]\ttrain-auc:0.642713\tvalid-auc:0.616435\n",
      "[80]\ttrain-auc:0.64583\tvalid-auc:0.618092\n",
      "[90]\ttrain-auc:0.649488\tvalid-auc:0.621528\n",
      "[100]\ttrain-auc:0.651796\tvalid-auc:0.622842\n",
      "[110]\ttrain-auc:0.65328\tvalid-auc:0.62363\n",
      "[120]\ttrain-auc:0.655359\tvalid-auc:0.624279\n",
      "[130]\ttrain-auc:0.656989\tvalid-auc:0.625221\n",
      "[140]\ttrain-auc:0.658854\tvalid-auc:0.625489\n",
      "[150]\ttrain-auc:0.66036\tvalid-auc:0.626192\n",
      "[160]\ttrain-auc:0.661691\tvalid-auc:0.626834\n",
      "[170]\ttrain-auc:0.662888\tvalid-auc:0.626707\n",
      "[180]\ttrain-auc:0.664484\tvalid-auc:0.626288\n",
      "Stopping. Best iteration:\n",
      "[161]\ttrain-auc:0.661748\tvalid-auc:0.626901\n",
      "\n",
      "Fold 2, Valid score = 0.62683\n"
     ]
    },
    {
     "name": "stderr",
     "output_type": "stream",
     "text": [
      "/Users/a17582007/anaconda3/lib/python3.7/site-packages/xgboost/core.py:587: FutureWarning: Series.base is deprecated and will be removed in a future version\n",
      "  if getattr(data, 'base', None) is not None and \\\n"
     ]
    },
    {
     "name": "stdout",
     "output_type": "stream",
     "text": [
      "[0]\ttrain-auc:0.583011\tvalid-auc:0.586038\n",
      "Multiple eval metrics have been passed: 'valid-auc' will be used for early stopping.\n",
      "\n",
      "Will train until valid-auc hasn't improved in 25 rounds.\n",
      "[10]\ttrain-auc:0.612934\tvalid-auc:0.614104\n",
      "[20]\ttrain-auc:0.619998\tvalid-auc:0.617962\n",
      "[30]\ttrain-auc:0.623778\tvalid-auc:0.619746\n",
      "[40]\ttrain-auc:0.626126\tvalid-auc:0.622788\n",
      "[50]\ttrain-auc:0.630426\tvalid-auc:0.625297\n",
      "[60]\ttrain-auc:0.636175\tvalid-auc:0.630331\n",
      "[70]\ttrain-auc:0.64068\tvalid-auc:0.633929\n",
      "[80]\ttrain-auc:0.644421\tvalid-auc:0.63545\n",
      "[90]\ttrain-auc:0.647979\tvalid-auc:0.637674\n",
      "[100]\ttrain-auc:0.650533\tvalid-auc:0.638271\n",
      "[110]\ttrain-auc:0.652566\tvalid-auc:0.638794\n",
      "[120]\ttrain-auc:0.654079\tvalid-auc:0.639773\n",
      "[130]\ttrain-auc:0.656012\tvalid-auc:0.640161\n",
      "[140]\ttrain-auc:0.657999\tvalid-auc:0.641359\n",
      "[150]\ttrain-auc:0.659451\tvalid-auc:0.641413\n",
      "[160]\ttrain-auc:0.660685\tvalid-auc:0.641506\n",
      "[170]\ttrain-auc:0.662322\tvalid-auc:0.641959\n",
      "[180]\ttrain-auc:0.663087\tvalid-auc:0.642419\n",
      "[190]\ttrain-auc:0.664449\tvalid-auc:0.642119\n",
      "[200]\ttrain-auc:0.665229\tvalid-auc:0.642521\n",
      "[210]\ttrain-auc:0.666296\tvalid-auc:0.643316\n",
      "[220]\ttrain-auc:0.667227\tvalid-auc:0.643605\n",
      "[230]\ttrain-auc:0.668491\tvalid-auc:0.643464\n",
      "[240]\ttrain-auc:0.669264\tvalid-auc:0.643554\n",
      "Stopping. Best iteration:\n",
      "[222]\ttrain-auc:0.667606\tvalid-auc:0.643759\n",
      "\n",
      "Fold 3, Valid score = 0.64353\n"
     ]
    },
    {
     "name": "stderr",
     "output_type": "stream",
     "text": [
      "/Users/a17582007/anaconda3/lib/python3.7/site-packages/xgboost/core.py:587: FutureWarning: Series.base is deprecated and will be removed in a future version\n",
      "  if getattr(data, 'base', None) is not None and \\\n"
     ]
    },
    {
     "name": "stdout",
     "output_type": "stream",
     "text": [
      "[0]\ttrain-auc:0.585364\tvalid-auc:0.567328\n",
      "Multiple eval metrics have been passed: 'valid-auc' will be used for early stopping.\n",
      "\n",
      "Will train until valid-auc hasn't improved in 25 rounds.\n",
      "[10]\ttrain-auc:0.615434\tvalid-auc:0.600044\n",
      "[20]\ttrain-auc:0.620676\tvalid-auc:0.603059\n",
      "[30]\ttrain-auc:0.626288\tvalid-auc:0.60638\n",
      "[40]\ttrain-auc:0.629618\tvalid-auc:0.608013\n"
     ]
    },
    {
     "ename": "KeyboardInterrupt",
     "evalue": "",
     "output_type": "error",
     "traceback": [
      "\u001b[0;31m---------------------------------------------------------------------------\u001b[0m",
      "\u001b[0;31mKeyboardInterrupt\u001b[0m                         Traceback (most recent call last)",
      "\u001b[0;32m<ipython-input-138-7d1c60ec7098>\u001b[0m in \u001b[0;36m<module>\u001b[0;34m\u001b[0m\n\u001b[1;32m      1\u001b[0m xgb_estimators, _, xgb_oof = xgboost_cross_validation(\n\u001b[0;32m----> 2\u001b[0;31m     \u001b[0mxgb_params\u001b[0m\u001b[0;34m,\u001b[0m \u001b[0mdata\u001b[0m\u001b[0;34m,\u001b[0m \u001b[0mtarget\u001b[0m\u001b[0;34m,\u001b[0m \u001b[0mxgb_cv\u001b[0m\u001b[0;34m\u001b[0m\u001b[0;34m\u001b[0m\u001b[0m\n\u001b[0m\u001b[1;32m      3\u001b[0m )\n",
      "\u001b[0;32m<ipython-input-128-0fe4564975b7>\u001b[0m in \u001b[0;36mxgboost_cross_validation\u001b[0;34m(params, X, y, cv, categorical)\u001b[0m\n\u001b[1;32m    120\u001b[0m             \u001b[0mearly_stopping_rounds\u001b[0m\u001b[0;34m=\u001b[0m\u001b[0;36m25\u001b[0m\u001b[0;34m,\u001b[0m\u001b[0;34m\u001b[0m\u001b[0;34m\u001b[0m\u001b[0m\n\u001b[1;32m    121\u001b[0m             \u001b[0mevals\u001b[0m\u001b[0;34m=\u001b[0m\u001b[0;34m[\u001b[0m\u001b[0;34m(\u001b[0m\u001b[0mdtrain\u001b[0m\u001b[0;34m,\u001b[0m \u001b[0;34m\"train\"\u001b[0m\u001b[0;34m)\u001b[0m\u001b[0;34m,\u001b[0m \u001b[0;34m(\u001b[0m\u001b[0mdvalid\u001b[0m\u001b[0;34m,\u001b[0m \u001b[0;34m\"valid\"\u001b[0m\u001b[0;34m)\u001b[0m\u001b[0;34m]\u001b[0m\u001b[0;34m,\u001b[0m\u001b[0;34m\u001b[0m\u001b[0;34m\u001b[0m\u001b[0m\n\u001b[0;32m--> 122\u001b[0;31m             \u001b[0mverbose_eval\u001b[0m\u001b[0;34m=\u001b[0m\u001b[0;36m10\u001b[0m\u001b[0;34m,\u001b[0m\u001b[0;34m\u001b[0m\u001b[0;34m\u001b[0m\u001b[0m\n\u001b[0m\u001b[1;32m    123\u001b[0m         )\n\u001b[1;32m    124\u001b[0m         \u001b[0moof_preds\u001b[0m\u001b[0;34m[\u001b[0m\u001b[0mvalid_idx\u001b[0m\u001b[0;34m]\u001b[0m \u001b[0;34m=\u001b[0m \u001b[0mmodel\u001b[0m\u001b[0;34m.\u001b[0m\u001b[0mpredict\u001b[0m\u001b[0;34m(\u001b[0m\u001b[0mdvalid\u001b[0m\u001b[0;34m)\u001b[0m\u001b[0;34m\u001b[0m\u001b[0;34m\u001b[0m\u001b[0m\n",
      "\u001b[0;32m~/anaconda3/lib/python3.7/site-packages/xgboost/training.py\u001b[0m in \u001b[0;36mtrain\u001b[0;34m(params, dtrain, num_boost_round, evals, obj, feval, maximize, early_stopping_rounds, evals_result, verbose_eval, xgb_model, callbacks, learning_rates)\u001b[0m\n\u001b[1;32m    214\u001b[0m                            \u001b[0mevals\u001b[0m\u001b[0;34m=\u001b[0m\u001b[0mevals\u001b[0m\u001b[0;34m,\u001b[0m\u001b[0;34m\u001b[0m\u001b[0;34m\u001b[0m\u001b[0m\n\u001b[1;32m    215\u001b[0m                            \u001b[0mobj\u001b[0m\u001b[0;34m=\u001b[0m\u001b[0mobj\u001b[0m\u001b[0;34m,\u001b[0m \u001b[0mfeval\u001b[0m\u001b[0;34m=\u001b[0m\u001b[0mfeval\u001b[0m\u001b[0;34m,\u001b[0m\u001b[0;34m\u001b[0m\u001b[0;34m\u001b[0m\u001b[0m\n\u001b[0;32m--> 216\u001b[0;31m                            xgb_model=xgb_model, callbacks=callbacks)\n\u001b[0m\u001b[1;32m    217\u001b[0m \u001b[0;34m\u001b[0m\u001b[0m\n\u001b[1;32m    218\u001b[0m \u001b[0;34m\u001b[0m\u001b[0m\n",
      "\u001b[0;32m~/anaconda3/lib/python3.7/site-packages/xgboost/training.py\u001b[0m in \u001b[0;36m_train_internal\u001b[0;34m(params, dtrain, num_boost_round, evals, obj, feval, xgb_model, callbacks)\u001b[0m\n\u001b[1;32m     72\u001b[0m         \u001b[0;31m# Skip the first update if it is a recovery step.\u001b[0m\u001b[0;34m\u001b[0m\u001b[0;34m\u001b[0m\u001b[0;34m\u001b[0m\u001b[0m\n\u001b[1;32m     73\u001b[0m         \u001b[0;32mif\u001b[0m \u001b[0mversion\u001b[0m \u001b[0;34m%\u001b[0m \u001b[0;36m2\u001b[0m \u001b[0;34m==\u001b[0m \u001b[0;36m0\u001b[0m\u001b[0;34m:\u001b[0m\u001b[0;34m\u001b[0m\u001b[0;34m\u001b[0m\u001b[0m\n\u001b[0;32m---> 74\u001b[0;31m             \u001b[0mbst\u001b[0m\u001b[0;34m.\u001b[0m\u001b[0mupdate\u001b[0m\u001b[0;34m(\u001b[0m\u001b[0mdtrain\u001b[0m\u001b[0;34m,\u001b[0m \u001b[0mi\u001b[0m\u001b[0;34m,\u001b[0m \u001b[0mobj\u001b[0m\u001b[0;34m)\u001b[0m\u001b[0;34m\u001b[0m\u001b[0;34m\u001b[0m\u001b[0m\n\u001b[0m\u001b[1;32m     75\u001b[0m             \u001b[0mbst\u001b[0m\u001b[0;34m.\u001b[0m\u001b[0msave_rabit_checkpoint\u001b[0m\u001b[0;34m(\u001b[0m\u001b[0;34m)\u001b[0m\u001b[0;34m\u001b[0m\u001b[0;34m\u001b[0m\u001b[0m\n\u001b[1;32m     76\u001b[0m             \u001b[0mversion\u001b[0m \u001b[0;34m+=\u001b[0m \u001b[0;36m1\u001b[0m\u001b[0;34m\u001b[0m\u001b[0;34m\u001b[0m\u001b[0m\n",
      "\u001b[0;32m~/anaconda3/lib/python3.7/site-packages/xgboost/core.py\u001b[0m in \u001b[0;36mupdate\u001b[0;34m(self, dtrain, iteration, fobj)\u001b[0m\n\u001b[1;32m   1107\u001b[0m         \u001b[0;32mif\u001b[0m \u001b[0mfobj\u001b[0m \u001b[0;32mis\u001b[0m \u001b[0;32mNone\u001b[0m\u001b[0;34m:\u001b[0m\u001b[0;34m\u001b[0m\u001b[0;34m\u001b[0m\u001b[0m\n\u001b[1;32m   1108\u001b[0m             _check_call(_LIB.XGBoosterUpdateOneIter(self.handle, ctypes.c_int(iteration),\n\u001b[0;32m-> 1109\u001b[0;31m                                                     dtrain.handle))\n\u001b[0m\u001b[1;32m   1110\u001b[0m         \u001b[0;32melse\u001b[0m\u001b[0;34m:\u001b[0m\u001b[0;34m\u001b[0m\u001b[0;34m\u001b[0m\u001b[0m\n\u001b[1;32m   1111\u001b[0m             \u001b[0mpred\u001b[0m \u001b[0;34m=\u001b[0m \u001b[0mself\u001b[0m\u001b[0;34m.\u001b[0m\u001b[0mpredict\u001b[0m\u001b[0;34m(\u001b[0m\u001b[0mdtrain\u001b[0m\u001b[0;34m)\u001b[0m\u001b[0;34m\u001b[0m\u001b[0;34m\u001b[0m\u001b[0m\n",
      "\u001b[0;31mKeyboardInterrupt\u001b[0m: "
     ]
    }
   ],
   "source": [
    "xgb_estimators, _, xgb_oof = xgboost_cross_validation(\n",
    "    xgb_params, data, target, xgb_cv\n",
    ")"
   ]
  },
  {
   "cell_type": "code",
   "execution_count": 139,
   "metadata": {},
   "outputs": [
    {
     "name": "stdout",
     "output_type": "stream",
     "text": [
      "Score = 0.5975\n"
     ]
    }
   ],
   "source": [
    "score = roc_auc_score(target, xgb_oof)\n",
    "print(f\"Score = {round(score, 4)}\")"
   ]
  },
  {
   "cell_type": "markdown",
   "metadata": {},
   "source": [
    "## Prediction Correlation"
   ]
  },
  {
   "cell_type": "code",
   "execution_count": 126,
   "metadata": {},
   "outputs": [],
   "source": [
    "scores = pd.DataFrame({\n",
    "    \"lgbm_numerical\": oof_preds,\n",
    "    \"lgbm_categorical\": oof_preds_cat,\n",
    "    \"lgbm_with_ohe\": oof_preds_with_ohe,\n",
    "    \"lgbm_numerical_with_permutation\": oof_preds_perm,\n",
    "    \"lgbm_goss_numerical\": oof_preds_goss,\n",
    "    \"xgb_numerical\": xgb_oof,\n",
    "    \n",
    "})\n",
    "\n",
    "corr = scores.corr()\n",
    "mask = np.zeros_like(corr, dtype=np.bool)\n",
    "mask[np.triu_indices_from(mask)] = True"
   ]
  },
  {
   "cell_type": "code",
   "execution_count": 127,
   "metadata": {},
   "outputs": [
    {
     "data": {
      "text/plain": [
       "<matplotlib.axes._subplots.AxesSubplot at 0x7fba86487990>"
      ]
     },
     "execution_count": 127,
     "metadata": {},
     "output_type": "execute_result"
    },
    {
     "data": {
      "image/png": "[encoded data removed]",
      "text/plain": [
       "<Figure size 720x720 with 2 Axes>"
      ]
     },
     "metadata": {
      "needs_background": "light"
     },
     "output_type": "display_data"
    }
   ],
   "source": [
    "fig, axes = plt.subplots(1, 1, figsize=(10, 10))\n",
    "sns.heatmap(corr, mask=mask, annot=True, fmt=\".4g\", square=True, cmap=\"viridis\", ax=axes)"
   ]
  },
  {
   "cell_type": "markdown",
   "metadata": {},
   "source": [
    "## AMean"
   ]
  },
  {
   "cell_type": "code",
   "execution_count": 115,
   "metadata": {},
   "outputs": [
    {
     "name": "stdout",
     "output_type": "stream",
     "text": [
      "Score = 0.6371\n"
     ]
    }
   ],
   "source": [
    "scores_mean = scores.mean(axis=1)\n",
    "score = roc_auc_score(target, scores_mean)\n",
    "print(f\"Score = {round(score, 4)}\")\n",
    "\n",
    "# 0.6*best + 0.4*(best-1)\n",
    "# scipy.optimize"
   ]
  },
  {
   "cell_type": "markdown",
   "metadata": {},
   "source": [
    "## GMean"
   ]
  },
  {
   "cell_type": "code",
   "execution_count": 140,
   "metadata": {},
   "outputs": [
    {
     "name": "stdout",
     "output_type": "stream",
     "text": [
      "Score = 0.6374\n"
     ]
    }
   ],
   "source": [
    "scores_mean = gmean(scores, axis=1)\n",
    "score = roc_auc_score(target, scores_mean)\n",
    "print(f\"Score = {round(score, 4)}\")"
   ]
  },
  {
   "cell_type": "markdown",
   "metadata": {},
   "source": [
    "## Rankdata"
   ]
  },
  {
   "cell_type": "code",
   "execution_count": 149,
   "metadata": {},
   "outputs": [
    {
     "name": "stdout",
     "output_type": "stream",
     "text": [
      "Score = 0.6375\n"
     ]
    }
   ],
   "source": [
    "# ROC-AUC / GINI\n",
    "scores_mean = scores.rank().mean(axis=1)\n",
    "score = roc_auc_score(target, scores_mean)\n",
    "print(f\"Score = {round(score, 4)}\")"
   ]
  },
  {
   "cell_type": "code",
   "execution_count": 150,
   "metadata": {},
   "outputs": [
    {
     "name": "stdout",
     "output_type": "stream",
     "text": [
      "Score = 0.6374\n"
     ]
    }
   ],
   "source": [
    "scores_mean = gmean(scores.rank(), axis=1)\n",
    "score = roc_auc_score(target, scores_mean)\n",
    "print(f\"Score = {round(score, 4)}\")"
   ]
  },
  {
   "cell_type": "markdown",
   "metadata": {},
   "source": [
    "## Модель 2-го уровня: blending & stacking"
   ]
  },
  {
   "cell_type": "code",
   "execution_count": null,
   "metadata": {},
   "outputs": [],
   "source": [
    "train -> x_train, x_valid"
   ]
  },
  {
   "cell_type": "code",
   "execution_count": null,
   "metadata": {},
   "outputs": [],
   "source": [
    "1. x_train(feature_1, feature_2, ..., feature_m) -> fit model -> y_pred\n",
    "2. x_train_oof_preds(y_pred_model1, y_pred_model2, ...) -> fit second level model\n",
    "\n",
    "x_train-OOF\n",
    "x_test-SUB\n",
    "\n",
    "# LogisticRegression\n",
    "# XGBoost / LightGBM <= 10-15\n",
    "# Sequential Backward Selection"
   ]
  },
  {
   "cell_type": "code",
   "execution_count": null,
   "metadata": {},
   "outputs": [],
   "source": [
    "OOF-predictions.csv\n",
    "submit-predictions.csv\n",
    "\n",
    "imbalanced-learning"
   ]
  }
 ],
 "metadata": {
  "kernelspec": {
   "display_name": "Python 3",
   "language": "python",
   "name": "python3"
  },
  "language_info": {
   "codemirror_mode": {
    "name": "ipython",
    "version": 3
   },
   "file_extension": ".py",
   "mimetype": "text/x-python",
   "name": "python",
   "nbconvert_exporter": "python",
   "pygments_lexer": "ipython3",
   "version": "3.7.4"
  }
 },
 "nbformat": 4,
 "nbformat_minor": 4
}
