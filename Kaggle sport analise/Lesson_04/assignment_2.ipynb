{
 "cells": [
  {
   "cell_type": "code",
   "execution_count": 1,
   "metadata": {},
   "outputs": [],
   "source": [
    "import os\n",
    "from copy import deepcopy\n",
    "from inspect import signature\n",
    "from typing import List, Optional, Union\n",
    "\n",
    "import numpy as np\n",
    "import pandas as pd\n",
    "import xgboost as xgb\n",
    "import catboost as cb\n",
    "import matplotlib.pyplot as plt\n",
    "\n",
    "from sklearn.metrics import roc_auc_score, roc_curve\n",
    "from sklearn.model_selection import train_test_split\n",
    "from sklearn.preprocessing import LabelEncoder, OneHotEncoder\n",
    "from sklearn.base import BaseEstimator, TransformerMixin\n",
    "from category_encoders.cat_boost import CatBoostEncoder"
   ]
  },
  {
   "cell_type": "markdown",
   "metadata": {},
   "source": [
    "## Загрузка данных"
   ]
  },
  {
   "cell_type": "code",
   "execution_count": 2,
   "metadata": {},
   "outputs": [
    {
     "name": "stdout",
     "output_type": "stream",
     "text": [
      "data.shape = 180000 rows, 394 cols\n"
     ]
    },
    {
     "data": {
      "text/html": [
       "<div>\n",
       "<style scoped>\n",
       "    .dataframe tbody tr th:only-of-type {\n",
       "        vertical-align: middle;\n",
       "    }\n",
       "\n",
       "    .dataframe tbody tr th {\n",
       "        vertical-align: top;\n",
       "    }\n",
       "\n",
       "    .dataframe thead th {\n",
       "        text-align: right;\n",
       "    }\n",
       "</style>\n",
       "<table border=\"1\" class=\"dataframe\">\n",
       "  <thead>\n",
       "    <tr style=\"text-align: right;\">\n",
       "      <th></th>\n",
       "      <th>TransactionID</th>\n",
       "      <th>isFraud</th>\n",
       "      <th>TransactionDT</th>\n",
       "      <th>TransactionAmt</th>\n",
       "      <th>ProductCD</th>\n",
       "      <th>card1</th>\n",
       "      <th>card2</th>\n",
       "      <th>card3</th>\n",
       "      <th>card4</th>\n",
       "      <th>card5</th>\n",
       "      <th>...</th>\n",
       "      <th>V330</th>\n",
       "      <th>V331</th>\n",
       "      <th>V332</th>\n",
       "      <th>V333</th>\n",
       "      <th>V334</th>\n",
       "      <th>V335</th>\n",
       "      <th>V336</th>\n",
       "      <th>V337</th>\n",
       "      <th>V338</th>\n",
       "      <th>V339</th>\n",
       "    </tr>\n",
       "  </thead>\n",
       "  <tbody>\n",
       "    <tr>\n",
       "      <td>0</td>\n",
       "      <td>2987000</td>\n",
       "      <td>0</td>\n",
       "      <td>86400</td>\n",
       "      <td>68.5</td>\n",
       "      <td>W</td>\n",
       "      <td>13926</td>\n",
       "      <td>NaN</td>\n",
       "      <td>150.0</td>\n",
       "      <td>discover</td>\n",
       "      <td>142.0</td>\n",
       "      <td>...</td>\n",
       "      <td>NaN</td>\n",
       "      <td>NaN</td>\n",
       "      <td>NaN</td>\n",
       "      <td>NaN</td>\n",
       "      <td>NaN</td>\n",
       "      <td>NaN</td>\n",
       "      <td>NaN</td>\n",
       "      <td>NaN</td>\n",
       "      <td>NaN</td>\n",
       "      <td>NaN</td>\n",
       "    </tr>\n",
       "    <tr>\n",
       "      <td>1</td>\n",
       "      <td>2987001</td>\n",
       "      <td>0</td>\n",
       "      <td>86401</td>\n",
       "      <td>29.0</td>\n",
       "      <td>W</td>\n",
       "      <td>2755</td>\n",
       "      <td>404.0</td>\n",
       "      <td>150.0</td>\n",
       "      <td>mastercard</td>\n",
       "      <td>102.0</td>\n",
       "      <td>...</td>\n",
       "      <td>NaN</td>\n",
       "      <td>NaN</td>\n",
       "      <td>NaN</td>\n",
       "      <td>NaN</td>\n",
       "      <td>NaN</td>\n",
       "      <td>NaN</td>\n",
       "      <td>NaN</td>\n",
       "      <td>NaN</td>\n",
       "      <td>NaN</td>\n",
       "      <td>NaN</td>\n",
       "    </tr>\n",
       "  </tbody>\n",
       "</table>\n",
       "<p>2 rows × 394 columns</p>\n",
       "</div>"
      ],
      "text/plain": [
       "   TransactionID  isFraud  TransactionDT  TransactionAmt ProductCD  card1  \\\n",
       "0        2987000        0          86400            68.5         W  13926   \n",
       "1        2987001        0          86401            29.0         W   2755   \n",
       "\n",
       "   card2  card3       card4  card5  ... V330  V331  V332  V333  V334 V335  \\\n",
       "0    NaN  150.0    discover  142.0  ...  NaN   NaN   NaN   NaN   NaN  NaN   \n",
       "1  404.0  150.0  mastercard  102.0  ...  NaN   NaN   NaN   NaN   NaN  NaN   \n",
       "\n",
       "  V336  V337  V338  V339  \n",
       "0  NaN   NaN   NaN   NaN  \n",
       "1  NaN   NaN   NaN   NaN  \n",
       "\n",
       "[2 rows x 394 columns]"
      ]
     },
     "execution_count": 2,
     "metadata": {},
     "output_type": "execute_result"
    }
   ],
   "source": [
    "data = pd.read_csv(\"../data/assignment2_data/assignment_2_train.csv\")\n",
    "test = pd.read_csv(\"../data/assignment2_data/assignment_2_test.csv\")\n",
    "print(\"data.shape = {} rows, {} cols\".format(*data.shape))\n",
    "data.head(n=2)"
   ]
  },
  {
   "cell_type": "markdown",
   "metadata": {},
   "source": [
    "## Отбор данных"
   ]
  },
  {
   "cell_type": "code",
   "execution_count": 18,
   "metadata": {},
   "outputs": [],
   "source": [
    "target = data[\"isFraud\"]\n",
    "data = data.drop([\"TransactionID\", \"TransactionDT\", \"isFraud\"], axis=1)\n",
    "\n",
    "numerical_features = data.select_dtypes(include=np.number).columns\n",
    "categorical_featuers = data.select_dtypes(include=[\"object\"]).columns\n",
    "data[categorical_featuers] = data[categorical_featuers].astype(str)"
   ]
  },
  {
   "cell_type": "code",
   "execution_count": 19,
   "metadata": {},
   "outputs": [
    {
     "name": "stdout",
     "output_type": "stream",
     "text": [
      "x_train.shape = 135000 rows, 391 cols\n",
      "x_valid.shape = 45000 rows, 391 cols\n"
     ]
    }
   ],
   "source": [
    "x_train, x_valid = train_test_split(\n",
    "    data, train_size=0.75, random_state=27\n",
    ")\n",
    "y_train, y_valid = train_test_split(\n",
    "    target, train_size=0.75, random_state=27\n",
    ")\n",
    "print(\"x_train.shape = {} rows, {} cols\".format(*x_train.shape))\n",
    "print(\"x_valid.shape = {} rows, {} cols\".format(*x_valid.shape))\n",
    "\n",
    "models = {}\n",
    "train_scores = pd.DataFrame({\"target\": y_train}) \n",
    "valid_scores = pd.DataFrame({\"target\": y_valid})"
   ]
  },
  {
   "cell_type": "markdown",
   "metadata": {},
   "source": [
    "## Постановка задачи\n",
    "\n",
    "В домашнем задании, будем обучать разные алгоритмы машинного обучения. Для этого, нужно предварительно зафиксировать схему валидации решения (можете выбрать любую, которую знаете). Выбранную схему валидации нужно использовать во всех задачах этого домашнего задания. Метрика качества - __ROC AUC__, целевая переменная - __isFraud__.\n",
    "\n",
    "__Задание 1:__ отобрать только числовые признаки и обучить модель `XGBoost` с параметром `booster = gbtree`.  Обучать алгоритм до тех пор, пока метрика качества не перестанет улучшаться на валидационной выборке в течение определенного числа итераций (выбрать значение самостоятельно).\n",
    "\n",
    "__Задание 2:__ выполнить задание 1, но с параметром `booster = gblinear`. Как изменилось качество, при использовании градиетного бустинга над решающими деревьями и при использовании бустинга над линейными моделями?\n",
    "\n",
    "__Задание 3:__ обработать категориальные признаки любым способом (который вы знаете) и добавить их к данным. Выполнить задание 1.\n",
    "\n",
    "__Задание 4:__ обработать категориальные признаки любым способом (который вы знаете) и добавить их к данным. Выполнить задание 2. \n",
    "\n",
    "__Задание 5:__ для числовых признаков обучить модель `LightGBM`. Обучать алгоритм до тех пор, пока метрика качества не перестанет улучшаться на валидационной выборке в течение определенного числа итераций (выбрать значение самостоятельно).\n",
    "\n",
    "__Задание 6:__ обработать категориальные признаки любым способом (который вы знаете) и добавить их к данным. Выполнить задание 1. Выполнить задание 5.\n",
    "\n",
    "__Задание 7:__ обработать категориальные признаки встроенным методом в `LightGBM`. Выполнить задание 5. Сделать выводы о качестве работы алгоритма, по сравнению с пунктом 6.\n",
    "\n",
    "__Задание 8:__ для числовых признаков обучить модель `CatBoost`. Обучать алгоритм до тех пор, пока метрика качества не перестанет улучшаться на валидационной выборке в течение определенного числа итераций (выбрать значение самостоятельно).\n",
    "\n",
    "__Задание 9:__ обработать категориальные признаки любым способом (который вы знаете) и добавить их к данным. Выполнить задание 1. Выполнить задание 8.\n",
    "\n",
    "__Задание 10:__ обработать категориальные признаки встроенным методом в `CatBoost`. Выполнить задание 5. Сделать выводы о качестве работы алгоритма, по сравнению с пунктом 9.\n",
    "\n",
    "__Задание 11:__ построить ROC-кривую для всех построенных алгоритмов на обучающей и тестовой выборке. Сделать выводы о работе алгоритмов с точки зрения качества на тестовой выборке и с точки зрения переобучения."
   ]
  },
  {
   "cell_type": "markdown",
   "metadata": {},
   "source": [
    "## 1. XGBoost на числовых признаках"
   ]
  },
  {
   "cell_type": "code",
   "execution_count": 19,
   "metadata": {},
   "outputs": [],
   "source": [
    "xgb_params = {\n",
    "    \"booster\": \"gbtree\",\n",
    "    \"objective\": \"binary:logistic\",\n",
    "    \"eval_metric\": \"auc\",\n",
    "    \"n_estimators\": 1000,\n",
    "    \"learning_rate\": 0.1,\n",
    "    \"reg_lambda\": 10,\n",
    "    \"max_depth\": 4,\n",
    "    \"gamma\": 10,\n",
    "    \"nthread\": 6,\n",
    "    \"seed\": 27\n",
    "}\n",
    "\n",
    "\n",
    "eval_sets = [\n",
    "    (x_train[numerical_features], y_train),\n",
    "    (x_valid[numerical_features], y_valid)\n",
    "]\n",
    "xgb_model = xgb.XGBClassifier(**xgb_params)"
   ]
  },
  {
   "cell_type": "code",
   "execution_count": 21,
   "metadata": {},
   "outputs": [
    {
     "name": "stdout",
     "output_type": "stream",
     "text": [
      "[0]\tvalidation_0-auc:0.706509\tvalidation_1-auc:0.697254\n",
      "Multiple eval metrics have been passed: 'validation_1-auc' will be used for early stopping.\n",
      "\n",
      "Will train until validation_1-auc hasn't improved in 50 rounds.\n",
      "[10]\tvalidation_0-auc:0.804072\tvalidation_1-auc:0.797071\n",
      "[20]\tvalidation_0-auc:0.844029\tvalidation_1-auc:0.836457\n",
      "[30]\tvalidation_0-auc:0.873514\tvalidation_1-auc:0.865142\n",
      "[40]\tvalidation_0-auc:0.887063\tvalidation_1-auc:0.878523\n",
      "[50]\tvalidation_0-auc:0.897561\tvalidation_1-auc:0.886404\n",
      "[60]\tvalidation_0-auc:0.903828\tvalidation_1-auc:0.891578\n",
      "[70]\tvalidation_0-auc:0.908573\tvalidation_1-auc:0.895276\n",
      "[80]\tvalidation_0-auc:0.912478\tvalidation_1-auc:0.898128\n",
      "[90]\tvalidation_0-auc:0.915343\tvalidation_1-auc:0.90099\n",
      "[100]\tvalidation_0-auc:0.917832\tvalidation_1-auc:0.90317\n",
      "[110]\tvalidation_0-auc:0.919105\tvalidation_1-auc:0.904491\n",
      "[120]\tvalidation_0-auc:0.920508\tvalidation_1-auc:0.905493\n",
      "[130]\tvalidation_0-auc:0.920715\tvalidation_1-auc:0.905675\n",
      "[140]\tvalidation_0-auc:0.920715\tvalidation_1-auc:0.905675\n",
      "[150]\tvalidation_0-auc:0.920715\tvalidation_1-auc:0.905675\n",
      "[160]\tvalidation_0-auc:0.920715\tvalidation_1-auc:0.905675\n",
      "[170]\tvalidation_0-auc:0.920715\tvalidation_1-auc:0.905675\n",
      "Stopping. Best iteration:\n",
      "[121]\tvalidation_0-auc:0.920715\tvalidation_1-auc:0.905675\n",
      "\n"
     ]
    }
   ],
   "source": [
    "xgb_model.fit(\n",
    "    y=y_train,\n",
    "    X=x_train[numerical_features],\n",
    "    early_stopping_rounds=50,\n",
    "    eval_set=eval_sets,\n",
    "    eval_metric=\"auc\",\n",
    "    verbose=10\n",
    ")\n",
    "models[\"XGBoost_gbtree_num_features\"] = xgb_model"
   ]
  },
  {
   "cell_type": "code",
   "execution_count": 12,
   "metadata": {},
   "outputs": [],
   "source": [
    "train_scores[\"XGBoost_gbtree_num_features\"] = xgb_model.predict_proba(x_train[numerical_features])[:,1]\n",
    "valid_scores[\"XGBoost_gbtree_num_features\"] = xgb_model.predict_proba(x_valid[numerical_features])[:,1]"
   ]
  },
  {
   "cell_type": "markdown",
   "metadata": {},
   "source": [
    "## 2. XGBoost с категориальными признаками"
   ]
  },
  {
   "cell_type": "code",
   "execution_count": 20,
   "metadata": {},
   "outputs": [],
   "source": [
    "class CategoricalEncoder(BaseEstimator, TransformerMixin):\n",
    "    \"\"\"\n",
    "    Обработка категориальных признаков и подготовка матрицы\n",
    "    признаков для передачи в любой алгоритм машинного обучения.\n",
    "\n",
    "    Parameters\n",
    "    ----------\n",
    "    encoder: callable\n",
    "        Объект для обработки категориальных признаков;\n",
    "        объект должен поддерживать sklearn-API.\n",
    "\n",
    "    categorical_features: List[str]\n",
    "        Список с названием категориальных признаков.\n",
    "\n",
    "    na_value: float or str, optional, default = None\n",
    "        Значение для заполнения пропусков.\n",
    "        Опциональный параметр, по умолчанию, не используется.\n",
    "\n",
    "    \"\"\"\n",
    "    def __init__(self,\n",
    "                 encoder: callable,\n",
    "                 categorical_features: List[str],\n",
    "                 na_value: Union[int, float, str] = None) -> None:\n",
    "        self.encoder = encoder\n",
    "        self.categorical_features = categorical_features\n",
    "        self.na_value = na_value\n",
    "\n",
    "        sig = signature(encoder.fit)\n",
    "        self.nparams = len(sig.parameters)\n",
    "        self.encoders = None\n",
    "\n",
    "    def _prepare_data(self, X: pd.DataFrame) -> pd.DataFrame:\n",
    "        \"\"\"\n",
    "        Подготовка данных для передачи в модель.\n",
    "\n",
    "        \"\"\"\n",
    "        if self.na_value:\n",
    "            return X[self.categorical_features].fillna(self.na_value)\n",
    "\n",
    "        return X\n",
    "\n",
    "    def _check_unique_values(self, y: pd.Series) -> pd.Series:\n",
    "        \"\"\"\n",
    "        Проверка на ранее не встречающиеся значения признака.\n",
    "        Если значения встречаются - заменяем на self.na_value,\n",
    "        если self.na_value - не задан, то заменяем на моду.\n",
    "\n",
    "        \"\"\"\n",
    "        encoder = self.encoders[y.name]\n",
    "        missed_values = list(\n",
    "            set(y.unique()) - set(encoder.classes_)\n",
    "        )\n",
    "\n",
    "        if missed_values:\n",
    "            mask = y.isin(missed_values)\n",
    "            if self.na_value:\n",
    "                y[mask] = self.na_value\n",
    "            else:\n",
    "                mode = y.value_counts()[0].index\n",
    "                y[mask] = mode\n",
    "\n",
    "        return y\n",
    "\n",
    "    def _fit_label_encoder(self, X: pd.DataFrame) -> None:\n",
    "        \"\"\"\n",
    "        Обучение LabelEncoder'ов для всех признаков;\n",
    "\n",
    "        \"\"\"\n",
    "        self.encoders = {}\n",
    "        for feature in self.categorical_features:\n",
    "            x = X[feature].astype(str)\n",
    "            encoder = deepcopy(self.encoder)\n",
    "            self.encoders[feature] = encoder.fit(x)\n",
    "\n",
    "        return self\n",
    "\n",
    "    def _transform_label_encoder(self, X: pd.DataFrame) -> pd.DataFrame:\n",
    "        \"\"\"\n",
    "        Применение LabelEncoder'ов для всех признаков;\n",
    "\n",
    "        \"\"\"\n",
    "        for feature in self.categorical_features:\n",
    "            x = X[feature].astype(str)\n",
    "            x = self._check_unique_values(x)\n",
    "            encoder = self.encoders.get(feature)\n",
    "            X[feature] = encoder.transform(x)\n",
    "\n",
    "        return X\n",
    "\n",
    "    def fit(self, X, y=None):\n",
    "        \"\"\"\n",
    "        Обучение encoder'а категориальных признаков.\n",
    "\n",
    "        Parameters\n",
    "        ----------\n",
    "        X: pandas.core.frame.DataFrame\n",
    "            Матрица признаков.\n",
    "\n",
    "        y: pandas.core.frame.Series\n",
    "            Вектор целевой переменной.\n",
    "            Опциональный параметр, по умолчанию, не требуется.\n",
    "\n",
    "        Returns\n",
    "        -------\n",
    "        self\n",
    "        \"\"\"\n",
    "        X = self._prepare_data(X)\n",
    "        if self.nparams == 1:\n",
    "            self._fit_label_encoder(X=X)\n",
    "        else:\n",
    "            self.encoder.fit(\n",
    "                X[self.categorical_features].astype(str), y\n",
    "            )\n",
    "        return self\n",
    "\n",
    "    def transform(self, X, y=None):\n",
    "        \"\"\"\n",
    "        Преобразование категориальных признаков.\n",
    "\n",
    "        Parameters\n",
    "        ----------\n",
    "        X: pandas.core.frame.DataFrame\n",
    "            Матрица признаков.\n",
    "\n",
    "        Returns\n",
    "        -------\n",
    "        X_transformed: pandas.core.frame.DataFrame\n",
    "            Преобразованная матрица признаков с\n",
    "            обработанными категориальными признаками.\n",
    "\n",
    "        \"\"\"\n",
    "        X = self._prepare_data(X)\n",
    "        if self.encoders:\n",
    "            categorical = self._transform_label_encoder(X)\n",
    "        else:\n",
    "            categorical = self.encoder.transform(\n",
    "                X[self.categorical_features].astype(str)\n",
    "            )\n",
    "\n",
    "        X = X.drop(self.categorical_features, axis=1)\n",
    "        X = pd.concat([X, categorical], axis=1)\n",
    "\n",
    "        return X"
   ]
  },
  {
   "cell_type": "markdown",
   "metadata": {},
   "source": [
    "## 2.1. XGBoost + CatBoostCategoricalEncoder"
   ]
  },
  {
   "cell_type": "code",
   "execution_count": 6,
   "metadata": {},
   "outputs": [],
   "source": [
    "encoder = CategoricalEncoder(\n",
    "    encoder=CatBoostEncoder(random_state=27),\n",
    "    categorical_features=categorical_featuers,\n",
    ")\n",
    "\n",
    "x_train_catboost_encoder = encoder.fit_transform(x_train, y_train)\n",
    "x_valid_catboost_encoder = encoder.transform(x_valid)"
   ]
  },
  {
   "cell_type": "code",
   "execution_count": 7,
   "metadata": {
    "collapsed": true
   },
   "outputs": [
    {
     "ename": "NameError",
     "evalue": "name 'xgb_model' is not defined",
     "output_type": "error",
     "traceback": [
      "\u001b[0;31m---------------------------------------------------------------------------\u001b[0m",
      "\u001b[0;31mNameError\u001b[0m                                 Traceback (most recent call last)",
      "\u001b[0;32m<ipython-input-7-643a7db2d39d>\u001b[0m in \u001b[0;36m<module>\u001b[0;34m\u001b[0m\n\u001b[1;32m      4\u001b[0m ]\n\u001b[1;32m      5\u001b[0m \u001b[0;34m\u001b[0m\u001b[0m\n\u001b[0;32m----> 6\u001b[0;31m xgb_model.fit(\n\u001b[0m\u001b[1;32m      7\u001b[0m     \u001b[0my\u001b[0m\u001b[0;34m=\u001b[0m\u001b[0my_train\u001b[0m\u001b[0;34m,\u001b[0m\u001b[0;34m\u001b[0m\u001b[0;34m\u001b[0m\u001b[0m\n\u001b[1;32m      8\u001b[0m     \u001b[0mX\u001b[0m\u001b[0;34m=\u001b[0m\u001b[0mx_train_catboost_encoder\u001b[0m\u001b[0;34m,\u001b[0m\u001b[0;34m\u001b[0m\u001b[0;34m\u001b[0m\u001b[0m\n",
      "\u001b[0;31mNameError\u001b[0m: name 'xgb_model' is not defined"
     ]
    }
   ],
   "source": [
    "eval_sets = [\n",
    "    (x_train_catboost_encoder, y_train),\n",
    "    (x_valid_catboost_encoder, y_valid)\n",
    "]\n",
    "\n",
    "xgb_model.fit(\n",
    "    y=y_train,\n",
    "    X=x_train_catboost_encoder,\n",
    "    early_stopping_rounds=50,\n",
    "    eval_set=eval_sets,\n",
    "    eval_metric=\"auc\",\n",
    "    verbose=10\n",
    ")\n",
    "models[\"XGBoost_gbtree_catboost_encoder\"] = xgb_model"
   ]
  },
  {
   "cell_type": "code",
   "execution_count": 36,
   "metadata": {},
   "outputs": [],
   "source": [
    "train_scores[\"XGBoost_gbtree_catboost_encoder\"] = xgb_model.predict_proba(\n",
    "    x_train_catboost_encoder)[:,1]\n",
    "valid_scores[\"XGBoost_gbtree_catboost_encoder\"] = xgb_model.predict_proba(\n",
    "    x_valid_catboost_encoder)[:,1]"
   ]
  },
  {
   "cell_type": "markdown",
   "metadata": {},
   "source": [
    "## 2.2. XGBoost + OneHotEncoder"
   ]
  },
  {
   "cell_type": "code",
   "execution_count": 107,
   "metadata": {},
   "outputs": [],
   "source": [
    "x_train_ohe = pd.get_dummies(\n",
    "    x_train[categorical_featuers], columns=categorical_featuers\n",
    ")\n",
    "x_valid_ohe = pd.get_dummies(\n",
    "    x_valid[categorical_featuers], columns=categorical_featuers\n",
    ")\n",
    "x_valid_ohe = x_valid_ohe.reindex(columns=x_train_ohe.columns)\n",
    "\n",
    "x_train_ohe_encoder = pd.concat([\n",
    "    x_train[numerical_features], x_train_ohe], axis=1\n",
    ")\n",
    "x_valid_ohe_encoder = pd.concat([\n",
    "    x_valid[numerical_features], x_valid_ohe], axis=1\n",
    ")"
   ]
  },
  {
   "cell_type": "code",
   "execution_count": 108,
   "metadata": {},
   "outputs": [
    {
     "name": "stdout",
     "output_type": "stream",
     "text": [
      "[0]\tvalidation_0-auc:0.706509\tvalidation_1-auc:0.697254\n",
      "Multiple eval metrics have been passed: 'validation_1-auc' will be used for early stopping.\n",
      "\n",
      "Will train until validation_1-auc hasn't improved in 50 rounds.\n",
      "[10]\tvalidation_0-auc:0.807886\tvalidation_1-auc:0.800477\n",
      "[20]\tvalidation_0-auc:0.843041\tvalidation_1-auc:0.835527\n",
      "[30]\tvalidation_0-auc:0.870595\tvalidation_1-auc:0.862247\n",
      "[40]\tvalidation_0-auc:0.884633\tvalidation_1-auc:0.876194\n",
      "[50]\tvalidation_0-auc:0.894683\tvalidation_1-auc:0.884799\n",
      "[60]\tvalidation_0-auc:0.901864\tvalidation_1-auc:0.890458\n",
      "[70]\tvalidation_0-auc:0.906359\tvalidation_1-auc:0.893893\n",
      "[80]\tvalidation_0-auc:0.910546\tvalidation_1-auc:0.89762\n",
      "[90]\tvalidation_0-auc:0.912418\tvalidation_1-auc:0.899283\n",
      "[100]\tvalidation_0-auc:0.914827\tvalidation_1-auc:0.901427\n",
      "[110]\tvalidation_0-auc:0.917371\tvalidation_1-auc:0.903978\n",
      "[120]\tvalidation_0-auc:0.918866\tvalidation_1-auc:0.905011\n",
      "[130]\tvalidation_0-auc:0.920156\tvalidation_1-auc:0.906217\n",
      "[140]\tvalidation_0-auc:0.920809\tvalidation_1-auc:0.906582\n",
      "[150]\tvalidation_0-auc:0.920809\tvalidation_1-auc:0.906582\n",
      "[160]\tvalidation_0-auc:0.920809\tvalidation_1-auc:0.906582\n",
      "[170]\tvalidation_0-auc:0.920809\tvalidation_1-auc:0.906582\n",
      "[180]\tvalidation_0-auc:0.920809\tvalidation_1-auc:0.906582\n",
      "Stopping. Best iteration:\n",
      "[137]\tvalidation_0-auc:0.920809\tvalidation_1-auc:0.906582\n",
      "\n"
     ]
    },
    {
     "data": {
      "text/plain": [
       "XGBClassifier(base_score=0.5, booster='gbtree', colsample_bylevel=1,\n",
       "              colsample_bynode=1, colsample_bytree=1, eval_metric='auc',\n",
       "              gamma=10, learning_rate=0.1, max_delta_step=0, max_depth=4,\n",
       "              min_child_weight=1, missing=None, n_estimators=1000, n_jobs=1,\n",
       "              nthread=6, objective='binary:logistic', random_state=0,\n",
       "              reg_alpha=0, reg_lambda=10, scale_pos_weight=1, seed=27,\n",
       "              silent=None, subsample=1, verbosity=1)"
      ]
     },
     "execution_count": 108,
     "metadata": {},
     "output_type": "execute_result"
    }
   ],
   "source": [
    "eval_sets = [\n",
    "    (x_train_ohe_encoder, y_train),\n",
    "    (x_valid_ohe_encoder, y_valid)\n",
    "]\n",
    "\n",
    "xgb_model.fit(\n",
    "    y=y_train,\n",
    "    X=x_train_ohe_encoder,\n",
    "    early_stopping_rounds=50,\n",
    "    eval_set=eval_sets,\n",
    "    eval_metric=\"auc\",\n",
    "    verbose=10\n",
    ")"
   ]
  },
  {
   "cell_type": "code",
   "execution_count": 109,
   "metadata": {},
   "outputs": [],
   "source": [
    "train_scores[\"XGBoost_gbtree_ohe\"] = xgb_model.predict_proba(\n",
    "    x_train_ohe_encoder)[:,1]\n",
    "valid_scores[\"XGBoost_gbtree_ohe\"] = xgb_model.predict_proba(\n",
    "    x_valid_ohe_encoder)[:,1]"
   ]
  },
  {
   "cell_type": "markdown",
   "metadata": {},
   "source": [
    "## 2.3. XGBoost + LabelEncoder"
   ]
  },
  {
   "cell_type": "code",
   "execution_count": 79,
   "metadata": {},
   "outputs": [],
   "source": [
    "encoder = CategoricalEncoder(\n",
    "    encoder=LabelEncoder(),\n",
    "    categorical_features=categorical_featuers,\n",
    "    na_value=-99999\n",
    ")\n",
    "\n",
    "x_train_label_encoder = encoder.fit_transform(x_train)\n",
    "x_valid_label_encoder = encoder.transform(x_valid)"
   ]
  },
  {
   "cell_type": "code",
   "execution_count": 80,
   "metadata": {},
   "outputs": [],
   "source": [
    "x_train_label_encoder = pd.concat([\n",
    "    x_train[numerical_features], x_train_label_encoder], axis=1\n",
    ")\n",
    "x_valid_label_encoder = pd.concat([\n",
    "    x_valid[numerical_features], x_valid_label_encoder], axis=1\n",
    ")"
   ]
  },
  {
   "cell_type": "code",
   "execution_count": 81,
   "metadata": {},
   "outputs": [
    {
     "name": "stdout",
     "output_type": "stream",
     "text": [
      "[0]\tvalidation_0-auc:0.706509\tvalidation_1-auc:0.697254\n",
      "Multiple eval metrics have been passed: 'validation_1-auc' will be used for early stopping.\n",
      "\n",
      "Will train until validation_1-auc hasn't improved in 50 rounds.\n",
      "[10]\tvalidation_0-auc:0.807815\tvalidation_1-auc:0.800377\n",
      "[20]\tvalidation_0-auc:0.843981\tvalidation_1-auc:0.83624\n",
      "[30]\tvalidation_0-auc:0.868316\tvalidation_1-auc:0.860621\n",
      "[40]\tvalidation_0-auc:0.881995\tvalidation_1-auc:0.872685\n",
      "[50]\tvalidation_0-auc:0.891156\tvalidation_1-auc:0.88066\n",
      "[60]\tvalidation_0-auc:0.897506\tvalidation_1-auc:0.887122\n",
      "[70]\tvalidation_0-auc:0.901831\tvalidation_1-auc:0.890314\n",
      "[80]\tvalidation_0-auc:0.906171\tvalidation_1-auc:0.893881\n",
      "[90]\tvalidation_0-auc:0.908198\tvalidation_1-auc:0.895461\n",
      "[100]\tvalidation_0-auc:0.910215\tvalidation_1-auc:0.897\n",
      "[110]\tvalidation_0-auc:0.912808\tvalidation_1-auc:0.898514\n",
      "[120]\tvalidation_0-auc:0.914139\tvalidation_1-auc:0.899898\n",
      "[130]\tvalidation_0-auc:0.915745\tvalidation_1-auc:0.901312\n",
      "[140]\tvalidation_0-auc:0.917622\tvalidation_1-auc:0.902373\n",
      "[150]\tvalidation_0-auc:0.918598\tvalidation_1-auc:0.903184\n",
      "[160]\tvalidation_0-auc:0.920223\tvalidation_1-auc:0.904625\n",
      "[170]\tvalidation_0-auc:0.920223\tvalidation_1-auc:0.904625\n",
      "[180]\tvalidation_0-auc:0.920223\tvalidation_1-auc:0.904625\n",
      "[190]\tvalidation_0-auc:0.920223\tvalidation_1-auc:0.904625\n",
      "[200]\tvalidation_0-auc:0.920223\tvalidation_1-auc:0.904625\n",
      "Stopping. Best iteration:\n",
      "[157]\tvalidation_0-auc:0.920223\tvalidation_1-auc:0.904625\n",
      "\n"
     ]
    },
    {
     "data": {
      "text/plain": [
       "XGBClassifier(base_score=0.5, booster='gbtree', colsample_bylevel=1,\n",
       "              colsample_bynode=1, colsample_bytree=1, eval_metric='auc',\n",
       "              gamma=10, learning_rate=0.1, max_delta_step=0, max_depth=4,\n",
       "              min_child_weight=1, missing=None, n_estimators=1000, n_jobs=1,\n",
       "              nthread=6, objective='binary:logistic', random_state=0,\n",
       "              reg_alpha=0, reg_lambda=10, scale_pos_weight=1, seed=27,\n",
       "              silent=None, subsample=1, verbosity=1)"
      ]
     },
     "execution_count": 81,
     "metadata": {},
     "output_type": "execute_result"
    }
   ],
   "source": [
    "eval_sets = [\n",
    "    (x_train_label_encoder, y_train),\n",
    "    (x_valid_label_encoder, y_valid)\n",
    "]\n",
    "\n",
    "xgb_model.fit(\n",
    "    y=y_train,\n",
    "    X=x_train_label_encoder,\n",
    "    early_stopping_rounds=50,\n",
    "    eval_set=eval_sets,\n",
    "    eval_metric=\"auc\",\n",
    "    verbose=10\n",
    ")"
   ]
  },
  {
   "cell_type": "code",
   "execution_count": 82,
   "metadata": {},
   "outputs": [],
   "source": [
    "train_scores[\"XGBoost_gbtree_label_encoder\"] = xgb_model.predict_proba(\n",
    "    x_train_label_encoder)[:,1]\n",
    "valid_scores[\"XGBoost_gbtree_label_encoder\"] = xgb_model.predict_proba(\n",
    "    x_valid_label_encoder)[:,1]"
   ]
  },
  {
   "cell_type": "markdown",
   "metadata": {},
   "source": [
    "## 3. CatBoost на числовых признаках"
   ]
  },
  {
   "cell_type": "code",
   "execution_count": 8,
   "metadata": {},
   "outputs": [],
   "source": [
    "cb_params = {\n",
    "    \"n_estimators\": 2000,\n",
    "    \"loss_function\": \"Logloss\",\n",
    "    \"eval_metric\": \"AUC\",\n",
    "    \"task_type\": \"CPU\",\n",
    "    #\"max_bin\": 20,\n",
    "    \"verbose\": 10,\n",
    "    \"max_depth\": 6,\n",
    "    \"l2_leaf_reg\": 100,\n",
    "    \"early_stopping_rounds\": 50,\n",
    "    \"thread_count\": 6,\n",
    "    \"random_seed\": 42\n",
    "}\n",
    "\n",
    "eval_sets = [\n",
    "    (x_train[numerical_features], y_train),\n",
    "    (x_valid[numerical_features], y_valid)\n",
    "]"
   ]
  },
  {
   "cell_type": "code",
   "execution_count": 9,
   "metadata": {},
   "outputs": [
    {
     "name": "stdout",
     "output_type": "stream",
     "text": [
      "0:\ttest: 0.6837546\ttest1: 0.6815317\tbest: 0.6815317 (0)\ttotal: 151ms\tremaining: 5m 1s\n",
      "10:\ttest: 0.7899894\ttest1: 0.7813562\tbest: 0.7813562 (10)\ttotal: 711ms\tremaining: 2m 8s\n",
      "20:\ttest: 0.8178704\ttest1: 0.8075417\tbest: 0.8075417 (20)\ttotal: 1.33s\tremaining: 2m 5s\n",
      "30:\ttest: 0.8440305\ttest1: 0.8389085\tbest: 0.8389085 (30)\ttotal: 1.9s\tremaining: 2m\n",
      "40:\ttest: 0.8513049\ttest1: 0.8452713\tbest: 0.8452713 (40)\ttotal: 2.45s\tremaining: 1m 57s\n",
      "50:\ttest: 0.8547116\ttest1: 0.8484729\tbest: 0.8484729 (50)\ttotal: 3.06s\tremaining: 1m 56s\n",
      "60:\ttest: 0.8556007\ttest1: 0.8483709\tbest: 0.8490016 (52)\ttotal: 3.63s\tremaining: 1m 55s\n",
      "70:\ttest: 0.8576740\ttest1: 0.8502392\tbest: 0.8502460 (69)\ttotal: 4.21s\tremaining: 1m 54s\n",
      "80:\ttest: 0.8595789\ttest1: 0.8517025\tbest: 0.8517909 (79)\ttotal: 4.83s\tremaining: 1m 54s\n",
      "90:\ttest: 0.8608686\ttest1: 0.8528300\tbest: 0.8528300 (90)\ttotal: 5.48s\tremaining: 1m 55s\n",
      "100:\ttest: 0.8624706\ttest1: 0.8542412\tbest: 0.8543252 (99)\ttotal: 6.11s\tremaining: 1m 54s\n",
      "110:\ttest: 0.8638362\ttest1: 0.8557109\tbest: 0.8557796 (109)\ttotal: 6.69s\tremaining: 1m 53s\n",
      "120:\ttest: 0.8650303\ttest1: 0.8573726\tbest: 0.8573726 (120)\ttotal: 7.32s\tremaining: 1m 53s\n",
      "130:\ttest: 0.8657889\ttest1: 0.8578319\tbest: 0.8579295 (129)\ttotal: 8.01s\tremaining: 1m 54s\n",
      "140:\ttest: 0.8664660\ttest1: 0.8581757\tbest: 0.8581757 (140)\ttotal: 8.64s\tremaining: 1m 53s\n",
      "150:\ttest: 0.8677851\ttest1: 0.8591486\tbest: 0.8591486 (150)\ttotal: 9.32s\tremaining: 1m 54s\n",
      "160:\ttest: 0.8682898\ttest1: 0.8594032\tbest: 0.8594032 (160)\ttotal: 9.95s\tremaining: 1m 53s\n",
      "170:\ttest: 0.8706942\ttest1: 0.8625635\tbest: 0.8625635 (170)\ttotal: 10.6s\tremaining: 1m 53s\n",
      "180:\ttest: 0.8715439\ttest1: 0.8631671\tbest: 0.8631671 (180)\ttotal: 11.3s\tremaining: 1m 53s\n",
      "190:\ttest: 0.8725908\ttest1: 0.8640218\tbest: 0.8640218 (190)\ttotal: 11.9s\tremaining: 1m 52s\n",
      "200:\ttest: 0.8739153\ttest1: 0.8654587\tbest: 0.8654587 (200)\ttotal: 12.5s\tremaining: 1m 52s\n",
      "210:\ttest: 0.8749574\ttest1: 0.8664028\tbest: 0.8664028 (210)\ttotal: 13.1s\tremaining: 1m 51s\n",
      "220:\ttest: 0.8756659\ttest1: 0.8668947\tbest: 0.8668947 (220)\ttotal: 13.7s\tremaining: 1m 50s\n",
      "230:\ttest: 0.8761681\ttest1: 0.8674655\tbest: 0.8674804 (229)\ttotal: 14.4s\tremaining: 1m 49s\n",
      "240:\ttest: 0.8769493\ttest1: 0.8682676\tbest: 0.8682676 (240)\ttotal: 15s\tremaining: 1m 49s\n",
      "250:\ttest: 0.8775659\ttest1: 0.8688182\tbest: 0.8688182 (250)\ttotal: 15.7s\tremaining: 1m 49s\n",
      "260:\ttest: 0.8783136\ttest1: 0.8695608\tbest: 0.8695608 (260)\ttotal: 16.2s\tremaining: 1m 48s\n",
      "270:\ttest: 0.8791680\ttest1: 0.8705717\tbest: 0.8705717 (270)\ttotal: 16.9s\tremaining: 1m 47s\n",
      "280:\ttest: 0.8797245\ttest1: 0.8710851\tbest: 0.8710851 (280)\ttotal: 17.6s\tremaining: 1m 47s\n",
      "290:\ttest: 0.8800886\ttest1: 0.8715044\tbest: 0.8715044 (290)\ttotal: 18.2s\tremaining: 1m 46s\n",
      "300:\ttest: 0.8803930\ttest1: 0.8717664\tbest: 0.8717712 (298)\ttotal: 18.8s\tremaining: 1m 46s\n",
      "310:\ttest: 0.8810062\ttest1: 0.8721480\tbest: 0.8721480 (310)\ttotal: 19.4s\tremaining: 1m 45s\n",
      "320:\ttest: 0.8815911\ttest1: 0.8726002\tbest: 0.8726002 (320)\ttotal: 20s\tremaining: 1m 44s\n",
      "330:\ttest: 0.8821693\ttest1: 0.8732146\tbest: 0.8732146 (330)\ttotal: 20.7s\tremaining: 1m 44s\n",
      "340:\ttest: 0.8827285\ttest1: 0.8737057\tbest: 0.8737057 (340)\ttotal: 21.3s\tremaining: 1m 43s\n",
      "350:\ttest: 0.8832990\ttest1: 0.8742246\tbest: 0.8742246 (350)\ttotal: 21.9s\tremaining: 1m 43s\n",
      "360:\ttest: 0.8839434\ttest1: 0.8749612\tbest: 0.8749700 (359)\ttotal: 22.6s\tremaining: 1m 42s\n",
      "370:\ttest: 0.8845227\ttest1: 0.8755376\tbest: 0.8755376 (370)\ttotal: 23.4s\tremaining: 1m 42s\n",
      "380:\ttest: 0.8848623\ttest1: 0.8757897\tbest: 0.8757897 (380)\ttotal: 24.2s\tremaining: 1m 42s\n",
      "390:\ttest: 0.8852342\ttest1: 0.8761741\tbest: 0.8761756 (389)\ttotal: 24.8s\tremaining: 1m 42s\n",
      "400:\ttest: 0.8855531\ttest1: 0.8764494\tbest: 0.8764494 (400)\ttotal: 25.5s\tremaining: 1m 41s\n",
      "410:\ttest: 0.8857091\ttest1: 0.8765819\tbest: 0.8765822 (407)\ttotal: 26.1s\tremaining: 1m 40s\n",
      "420:\ttest: 0.8863597\ttest1: 0.8770340\tbest: 0.8770459 (419)\ttotal: 26.7s\tremaining: 1m 40s\n",
      "430:\ttest: 0.8866889\ttest1: 0.8773953\tbest: 0.8773953 (430)\ttotal: 27.3s\tremaining: 1m 39s\n",
      "440:\ttest: 0.8869090\ttest1: 0.8775252\tbest: 0.8775262 (437)\ttotal: 27.9s\tremaining: 1m 38s\n",
      "450:\ttest: 0.8869602\ttest1: 0.8775672\tbest: 0.8775702 (445)\ttotal: 28.5s\tremaining: 1m 37s\n",
      "460:\ttest: 0.8872189\ttest1: 0.8777906\tbest: 0.8777931 (459)\ttotal: 29.2s\tremaining: 1m 37s\n",
      "470:\ttest: 0.8872284\ttest1: 0.8777895\tbest: 0.8777931 (459)\ttotal: 29.8s\tremaining: 1m 36s\n",
      "480:\ttest: 0.8872390\ttest1: 0.8777882\tbest: 0.8777931 (459)\ttotal: 30.4s\tremaining: 1m 35s\n",
      "490:\ttest: 0.8872460\ttest1: 0.8777873\tbest: 0.8777931 (459)\ttotal: 30.9s\tremaining: 1m 35s\n",
      "500:\ttest: 0.8872543\ttest1: 0.8777894\tbest: 0.8777931 (459)\ttotal: 31.5s\tremaining: 1m 34s\n",
      "Stopped by overfitting detector  (50 iterations wait)\n",
      "\n",
      "bestTest = 0.8777931158\n",
      "bestIteration = 459\n",
      "\n",
      "Shrink model to first 460 iterations.\n"
     ]
    },
    {
     "data": {
      "text/plain": [
       "<catboost.core.CatBoostClassifier at 0x12eed1d10>"
      ]
     },
     "execution_count": 9,
     "metadata": {},
     "output_type": "execute_result"
    }
   ],
   "source": [
    "cb_model = cb.CatBoostClassifier(**cb_params)\n",
    "cb_model.fit(x_train[numerical_features], y_train, eval_set=eval_sets)"
   ]
  },
  {
   "cell_type": "code",
   "execution_count": 10,
   "metadata": {},
   "outputs": [],
   "source": [
    "train_scores[\"CatBoost_num_features\"] = cb_model.predict_proba(x_train[numerical_features])[:,1]\n",
    "valid_scores[\"CatBoost_num_features\"] = cb_model.predict_proba(x_valid[numerical_features])[:,1]"
   ]
  },
  {
   "cell_type": "code",
   "execution_count": 14,
   "metadata": {},
   "outputs": [
    {
     "data": {
      "text/plain": [
       "0.860027494949436"
      ]
     },
     "execution_count": 14,
     "metadata": {},
     "output_type": "execute_result"
    }
   ],
   "source": [
    "y_pred = cb_model.predict_proba(test[numerical_features])[:, 1]\n",
    "score = roc_auc_score(test[\"isFraud\"], y_pred)\n",
    "score"
   ]
  },
  {
   "cell_type": "markdown",
   "metadata": {},
   "source": [
    "## 3.1. CatBoost с категориальными признаками"
   ]
  },
  {
   "cell_type": "code",
   "execution_count": 21,
   "metadata": {},
   "outputs": [
    {
     "name": "stdout",
     "output_type": "stream",
     "text": [
      "0:\ttest: 0.6837526\ttest1: 0.6744405\tbest: 0.6744405 (0)\ttotal: 327ms\tremaining: 10m 53s\n",
      "10:\ttest: 0.8045297\ttest1: 0.8027523\tbest: 0.8027523 (10)\ttotal: 2.84s\tremaining: 8m 33s\n",
      "20:\ttest: 0.8255879\ttest1: 0.8205697\tbest: 0.8205697 (20)\ttotal: 5.06s\tremaining: 7m 56s\n",
      "30:\ttest: 0.8376844\ttest1: 0.8313245\tbest: 0.8313245 (30)\ttotal: 7.01s\tremaining: 7m 25s\n",
      "40:\ttest: 0.8462773\ttest1: 0.8393527\tbest: 0.8393527 (40)\ttotal: 9.08s\tremaining: 7m 13s\n",
      "50:\ttest: 0.8502781\ttest1: 0.8437651\tbest: 0.8437651 (50)\ttotal: 11.1s\tremaining: 7m 3s\n",
      "60:\ttest: 0.8549872\ttest1: 0.8482681\tbest: 0.8483503 (58)\ttotal: 13.1s\tremaining: 6m 56s\n",
      "70:\ttest: 0.8599434\ttest1: 0.8525536\tbest: 0.8525536 (70)\ttotal: 15.1s\tremaining: 6m 51s\n",
      "80:\ttest: 0.8629483\ttest1: 0.8553567\tbest: 0.8553567 (80)\ttotal: 17.2s\tremaining: 6m 47s\n",
      "90:\ttest: 0.8639178\ttest1: 0.8557337\tbest: 0.8558256 (88)\ttotal: 19.2s\tremaining: 6m 42s\n",
      "100:\ttest: 0.8662895\ttest1: 0.8579360\tbest: 0.8579360 (100)\ttotal: 21.2s\tremaining: 6m 39s\n",
      "110:\ttest: 0.8681544\ttest1: 0.8589689\tbest: 0.8589689 (110)\ttotal: 23.2s\tremaining: 6m 35s\n",
      "120:\ttest: 0.8697170\ttest1: 0.8604792\tbest: 0.8604792 (120)\ttotal: 25.2s\tremaining: 6m 31s\n",
      "130:\ttest: 0.8712001\ttest1: 0.8615042\tbest: 0.8615042 (130)\ttotal: 27.3s\tremaining: 6m 29s\n",
      "140:\ttest: 0.8727356\ttest1: 0.8628812\tbest: 0.8628812 (140)\ttotal: 29.3s\tremaining: 6m 26s\n",
      "150:\ttest: 0.8738862\ttest1: 0.8636656\tbest: 0.8636656 (150)\ttotal: 31.4s\tremaining: 6m 23s\n",
      "160:\ttest: 0.8755342\ttest1: 0.8646262\tbest: 0.8646262 (160)\ttotal: 33.4s\tremaining: 6m 21s\n",
      "170:\ttest: 0.8767987\ttest1: 0.8661692\tbest: 0.8661692 (170)\ttotal: 35.4s\tremaining: 6m 19s\n",
      "180:\ttest: 0.8780904\ttest1: 0.8670132\tbest: 0.8670132 (180)\ttotal: 37.6s\tremaining: 6m 17s\n",
      "190:\ttest: 0.8813191\ttest1: 0.8701052\tbest: 0.8701052 (190)\ttotal: 39.8s\tremaining: 6m 16s\n",
      "200:\ttest: 0.8823789\ttest1: 0.8709508\tbest: 0.8709508 (200)\ttotal: 41.8s\tremaining: 6m 14s\n",
      "210:\ttest: 0.8835421\ttest1: 0.8720928\tbest: 0.8720928 (210)\ttotal: 44s\tremaining: 6m 12s\n",
      "220:\ttest: 0.8841130\ttest1: 0.8725481\tbest: 0.8725847 (219)\ttotal: 46s\tremaining: 6m 10s\n",
      "230:\ttest: 0.8845794\ttest1: 0.8729070\tbest: 0.8729070 (230)\ttotal: 48.2s\tremaining: 6m 8s\n",
      "240:\ttest: 0.8856194\ttest1: 0.8739604\tbest: 0.8739604 (240)\ttotal: 50.4s\tremaining: 6m 7s\n",
      "250:\ttest: 0.8863011\ttest1: 0.8746455\tbest: 0.8746455 (250)\ttotal: 52.5s\tremaining: 6m 5s\n",
      "260:\ttest: 0.8872243\ttest1: 0.8752967\tbest: 0.8752993 (259)\ttotal: 54.6s\tremaining: 6m 3s\n",
      "270:\ttest: 0.8877864\ttest1: 0.8757379\tbest: 0.8757596 (266)\ttotal: 56.6s\tremaining: 6m 1s\n",
      "280:\ttest: 0.8882983\ttest1: 0.8760719\tbest: 0.8760815 (278)\ttotal: 58.7s\tremaining: 5m 59s\n",
      "290:\ttest: 0.8886080\ttest1: 0.8762632\tbest: 0.8762722 (288)\ttotal: 1m\tremaining: 5m 56s\n",
      "300:\ttest: 0.8890057\ttest1: 0.8765789\tbest: 0.8765929 (298)\ttotal: 1m 2s\tremaining: 5m 54s\n",
      "310:\ttest: 0.8892407\ttest1: 0.8766833\tbest: 0.8766946 (308)\ttotal: 1m 4s\tremaining: 5m 51s\n",
      "320:\ttest: 0.8900580\ttest1: 0.8775518\tbest: 0.8775518 (320)\ttotal: 1m 6s\tremaining: 5m 49s\n",
      "330:\ttest: 0.8906937\ttest1: 0.8782443\tbest: 0.8782483 (329)\ttotal: 1m 8s\tremaining: 5m 47s\n",
      "340:\ttest: 0.8912131\ttest1: 0.8788076\tbest: 0.8788076 (340)\ttotal: 1m 11s\tremaining: 5m 45s\n",
      "350:\ttest: 0.8917615\ttest1: 0.8793896\tbest: 0.8793896 (350)\ttotal: 1m 13s\tremaining: 5m 43s\n",
      "360:\ttest: 0.8921677\ttest1: 0.8798770\tbest: 0.8798770 (360)\ttotal: 1m 15s\tremaining: 5m 41s\n",
      "370:\ttest: 0.8926502\ttest1: 0.8803581\tbest: 0.8803581 (370)\ttotal: 1m 17s\tremaining: 5m 41s\n",
      "380:\ttest: 0.8928079\ttest1: 0.8804744\tbest: 0.8804744 (380)\ttotal: 1m 19s\tremaining: 5m 39s\n",
      "390:\ttest: 0.8929871\ttest1: 0.8806466\tbest: 0.8806493 (389)\ttotal: 1m 21s\tremaining: 5m 37s\n",
      "400:\ttest: 0.8932768\ttest1: 0.8810326\tbest: 0.8810326 (400)\ttotal: 1m 24s\tremaining: 5m 35s\n",
      "410:\ttest: 0.8933541\ttest1: 0.8810436\tbest: 0.8810519 (406)\ttotal: 1m 26s\tremaining: 5m 33s\n",
      "420:\ttest: 0.8935055\ttest1: 0.8810901\tbest: 0.8810926 (416)\ttotal: 1m 28s\tremaining: 5m 31s\n",
      "430:\ttest: 0.8936354\ttest1: 0.8811203\tbest: 0.8811399 (425)\ttotal: 1m 30s\tremaining: 5m 28s\n",
      "440:\ttest: 0.8936605\ttest1: 0.8811281\tbest: 0.8811399 (425)\ttotal: 1m 32s\tremaining: 5m 26s\n",
      "450:\ttest: 0.8936649\ttest1: 0.8811254\tbest: 0.8811399 (425)\ttotal: 1m 34s\tremaining: 5m 24s\n",
      "460:\ttest: 0.8936675\ttest1: 0.8811217\tbest: 0.8811399 (425)\ttotal: 1m 36s\tremaining: 5m 22s\n",
      "470:\ttest: 0.8936655\ttest1: 0.8811137\tbest: 0.8811399 (425)\ttotal: 1m 38s\tremaining: 5m 20s\n",
      "Stopped by overfitting detector  (50 iterations wait)\n",
      "\n",
      "bestTest = 0.881139919\n",
      "bestIteration = 425\n",
      "\n",
      "Shrink model to first 426 iterations.\n"
     ]
    },
    {
     "data": {
      "text/plain": [
       "<catboost.core.CatBoostClassifier at 0x12eed1d10>"
      ]
     },
     "execution_count": 21,
     "metadata": {},
     "output_type": "execute_result"
    }
   ],
   "source": [
    "eval_sets = [\n",
    "    (x_train, y_train),\n",
    "    (x_valid, y_valid)\n",
    "]\n",
    "\n",
    "cb_model.fit(\n",
    "    x_train,\n",
    "    y_train,\n",
    "    cat_features=categorical_featuers,\n",
    "    eval_set=eval_sets)"
   ]
  },
  {
   "cell_type": "code",
   "execution_count": 22,
   "metadata": {},
   "outputs": [],
   "source": [
    "train_scores[\"CatBoost_all_features\"] = cb_model.predict_proba(x_train)[:,1]\n",
    "valid_scores[\"CatBoost_all_features\"] = cb_model.predict_proba(x_valid)[:,1]"
   ]
  },
  {
   "cell_type": "markdown",
   "metadata": {},
   "source": [
    "## 3.2. CatBoost с OneHotEncoding"
   ]
  },
  {
   "cell_type": "code",
   "execution_count": 113,
   "metadata": {},
   "outputs": [
    {
     "name": "stdout",
     "output_type": "stream",
     "text": [
      "0:\ttest: 0.6812681\ttest1: 0.6638260\tbest: 0.6638260 (0)\ttotal: 61.9ms\tremaining: 2m 3s\n",
      "10:\ttest: 0.7881231\ttest1: 0.7757121\tbest: 0.7757121 (10)\ttotal: 717ms\tremaining: 2m 9s\n",
      "20:\ttest: 0.8084659\ttest1: 0.8006340\tbest: 0.8006340 (20)\ttotal: 1.43s\tremaining: 2m 14s\n",
      "30:\ttest: 0.8379107\ttest1: 0.8330601\tbest: 0.8330601 (30)\ttotal: 2.1s\tremaining: 2m 13s\n",
      "40:\ttest: 0.8483623\ttest1: 0.8416517\tbest: 0.8416517 (40)\ttotal: 2.87s\tremaining: 2m 16s\n",
      "50:\ttest: 0.8524868\ttest1: 0.8448139\tbest: 0.8448139 (50)\ttotal: 3.61s\tremaining: 2m 17s\n",
      "60:\ttest: 0.8559900\ttest1: 0.8471063\tbest: 0.8474593 (59)\ttotal: 4.44s\tremaining: 2m 21s\n",
      "70:\ttest: 0.8582070\ttest1: 0.8495153\tbest: 0.8495153 (70)\ttotal: 5.2s\tremaining: 2m 21s\n",
      "80:\ttest: 0.8627946\ttest1: 0.8549197\tbest: 0.8549197 (80)\ttotal: 5.9s\tremaining: 2m 19s\n",
      "90:\ttest: 0.8651825\ttest1: 0.8567384\tbest: 0.8567384 (90)\ttotal: 6.63s\tremaining: 2m 19s\n",
      "100:\ttest: 0.8670299\ttest1: 0.8592582\tbest: 0.8592582 (100)\ttotal: 7.29s\tremaining: 2m 17s\n",
      "110:\ttest: 0.8684870\ttest1: 0.8599456\tbest: 0.8599456 (110)\ttotal: 7.94s\tremaining: 2m 15s\n",
      "120:\ttest: 0.8709136\ttest1: 0.8621503\tbest: 0.8621503 (120)\ttotal: 8.63s\tremaining: 2m 14s\n",
      "130:\ttest: 0.8727010\ttest1: 0.8633255\tbest: 0.8633255 (130)\ttotal: 9.28s\tremaining: 2m 12s\n",
      "140:\ttest: 0.8736419\ttest1: 0.8640203\tbest: 0.8640203 (140)\ttotal: 9.88s\tremaining: 2m 10s\n",
      "150:\ttest: 0.8754712\ttest1: 0.8653138\tbest: 0.8653138 (150)\ttotal: 10.5s\tremaining: 2m 8s\n",
      "160:\ttest: 0.8770931\ttest1: 0.8668523\tbest: 0.8668523 (160)\ttotal: 11.2s\tremaining: 2m 7s\n",
      "170:\ttest: 0.8784493\ttest1: 0.8681856\tbest: 0.8681856 (170)\ttotal: 11.9s\tremaining: 2m 7s\n",
      "180:\ttest: 0.8794874\ttest1: 0.8689497\tbest: 0.8689694 (179)\ttotal: 12.7s\tremaining: 2m 7s\n",
      "190:\ttest: 0.8806656\ttest1: 0.8699415\tbest: 0.8699415 (190)\ttotal: 13.3s\tremaining: 2m 6s\n",
      "200:\ttest: 0.8815113\ttest1: 0.8706963\tbest: 0.8706963 (200)\ttotal: 14s\tremaining: 2m 5s\n",
      "210:\ttest: 0.8828751\ttest1: 0.8716778\tbest: 0.8716778 (210)\ttotal: 14.7s\tremaining: 2m 4s\n",
      "220:\ttest: 0.8839179\ttest1: 0.8724707\tbest: 0.8724707 (220)\ttotal: 15.4s\tremaining: 2m 3s\n",
      "230:\ttest: 0.8848705\ttest1: 0.8731846\tbest: 0.8731846 (230)\ttotal: 16s\tremaining: 2m 2s\n",
      "240:\ttest: 0.8864664\ttest1: 0.8750305\tbest: 0.8750305 (240)\ttotal: 16.7s\tremaining: 2m 1s\n",
      "250:\ttest: 0.8869456\ttest1: 0.8755933\tbest: 0.8755933 (250)\ttotal: 17.4s\tremaining: 2m 1s\n",
      "260:\ttest: 0.8873782\ttest1: 0.8759512\tbest: 0.8759512 (260)\ttotal: 18s\tremaining: 2m\n",
      "270:\ttest: 0.8877909\ttest1: 0.8762050\tbest: 0.8762050 (270)\ttotal: 18.7s\tremaining: 1m 59s\n",
      "280:\ttest: 0.8893633\ttest1: 0.8779486\tbest: 0.8779516 (279)\ttotal: 19.4s\tremaining: 1m 58s\n",
      "290:\ttest: 0.8899615\ttest1: 0.8783932\tbest: 0.8784025 (289)\ttotal: 20.1s\tremaining: 1m 58s\n",
      "300:\ttest: 0.8905718\ttest1: 0.8789357\tbest: 0.8789363 (299)\ttotal: 20.8s\tremaining: 1m 57s\n",
      "310:\ttest: 0.8911288\ttest1: 0.8794645\tbest: 0.8794645 (310)\ttotal: 21.5s\tremaining: 1m 56s\n",
      "320:\ttest: 0.8919430\ttest1: 0.8802339\tbest: 0.8802339 (320)\ttotal: 22.2s\tremaining: 1m 56s\n",
      "330:\ttest: 0.8921665\ttest1: 0.8803564\tbest: 0.8803564 (330)\ttotal: 22.8s\tremaining: 1m 55s\n",
      "340:\ttest: 0.8924961\ttest1: 0.8806384\tbest: 0.8806384 (340)\ttotal: 23.5s\tremaining: 1m 54s\n",
      "350:\ttest: 0.8928804\ttest1: 0.8807846\tbest: 0.8808373 (345)\ttotal: 24.1s\tremaining: 1m 53s\n",
      "360:\ttest: 0.8931222\ttest1: 0.8811166\tbest: 0.8811166 (360)\ttotal: 24.8s\tremaining: 1m 52s\n",
      "370:\ttest: 0.8933756\ttest1: 0.8814112\tbest: 0.8814112 (370)\ttotal: 25.4s\tremaining: 1m 51s\n",
      "380:\ttest: 0.8937178\ttest1: 0.8819030\tbest: 0.8819030 (380)\ttotal: 26.1s\tremaining: 1m 51s\n",
      "390:\ttest: 0.8938020\ttest1: 0.8819476\tbest: 0.8819476 (390)\ttotal: 26.8s\tremaining: 1m 50s\n",
      "400:\ttest: 0.8940779\ttest1: 0.8820945\tbest: 0.8820945 (400)\ttotal: 27.4s\tremaining: 1m 49s\n",
      "410:\ttest: 0.8947400\ttest1: 0.8826993\tbest: 0.8826993 (410)\ttotal: 28.1s\tremaining: 1m 48s\n",
      "420:\ttest: 0.8947960\ttest1: 0.8827128\tbest: 0.8827144 (415)\ttotal: 28.8s\tremaining: 1m 48s\n",
      "430:\ttest: 0.8949297\ttest1: 0.8827829\tbest: 0.8827829 (430)\ttotal: 29.4s\tremaining: 1m 47s\n",
      "440:\ttest: 0.8954187\ttest1: 0.8832820\tbest: 0.8832820 (440)\ttotal: 30s\tremaining: 1m 46s\n",
      "450:\ttest: 0.8957904\ttest1: 0.8836377\tbest: 0.8836377 (450)\ttotal: 30.7s\tremaining: 1m 45s\n",
      "460:\ttest: 0.8958875\ttest1: 0.8836724\tbest: 0.8836730 (455)\ttotal: 31.3s\tremaining: 1m 44s\n",
      "470:\ttest: 0.8960763\ttest1: 0.8838946\tbest: 0.8838946 (470)\ttotal: 31.9s\tremaining: 1m 43s\n",
      "480:\ttest: 0.8964215\ttest1: 0.8842678\tbest: 0.8842721 (475)\ttotal: 32.5s\tremaining: 1m 42s\n",
      "490:\ttest: 0.8966477\ttest1: 0.8844684\tbest: 0.8844684 (490)\ttotal: 33.1s\tremaining: 1m 41s\n",
      "500:\ttest: 0.8968185\ttest1: 0.8846661\tbest: 0.8846661 (500)\ttotal: 33.9s\tremaining: 1m 41s\n",
      "510:\ttest: 0.8968372\ttest1: 0.8846700\tbest: 0.8846705 (507)\ttotal: 34.6s\tremaining: 1m 40s\n",
      "520:\ttest: 0.8968560\ttest1: 0.8846600\tbest: 0.8846705 (507)\ttotal: 35.2s\tremaining: 1m 39s\n",
      "530:\ttest: 0.8974827\ttest1: 0.8852196\tbest: 0.8852196 (530)\ttotal: 35.9s\tremaining: 1m 39s\n",
      "540:\ttest: 0.8975012\ttest1: 0.8852073\tbest: 0.8852196 (530)\ttotal: 36.7s\tremaining: 1m 39s\n",
      "550:\ttest: 0.8978287\ttest1: 0.8855471\tbest: 0.8855575 (547)\ttotal: 37.5s\tremaining: 1m 38s\n",
      "560:\ttest: 0.8979010\ttest1: 0.8855736\tbest: 0.8855763 (554)\ttotal: 38.2s\tremaining: 1m 37s\n",
      "570:\ttest: 0.8980855\ttest1: 0.8856942\tbest: 0.8856974 (564)\ttotal: 38.9s\tremaining: 1m 37s\n",
      "580:\ttest: 0.8981130\ttest1: 0.8857019\tbest: 0.8857019 (578)\ttotal: 39.5s\tremaining: 1m 36s\n",
      "590:\ttest: 0.8982144\ttest1: 0.8858071\tbest: 0.8858082 (586)\ttotal: 40.2s\tremaining: 1m 35s\n",
      "600:\ttest: 0.8982244\ttest1: 0.8858062\tbest: 0.8858082 (586)\ttotal: 40.8s\tremaining: 1m 34s\n",
      "610:\ttest: 0.8982411\ttest1: 0.8858217\tbest: 0.8858217 (609)\ttotal: 41.4s\tremaining: 1m 34s\n",
      "620:\ttest: 0.8982607\ttest1: 0.8858313\tbest: 0.8858313 (620)\ttotal: 42s\tremaining: 1m 33s\n",
      "630:\ttest: 0.8982727\ttest1: 0.8858343\tbest: 0.8858346 (626)\ttotal: 42.6s\tremaining: 1m 32s\n",
      "640:\ttest: 0.8982803\ttest1: 0.8858345\tbest: 0.8858346 (626)\ttotal: 43.2s\tremaining: 1m 31s\n",
      "650:\ttest: 0.8982900\ttest1: 0.8858337\tbest: 0.8858346 (626)\ttotal: 43.7s\tremaining: 1m 30s\n",
      "660:\ttest: 0.8982941\ttest1: 0.8858333\tbest: 0.8858346 (626)\ttotal: 44.3s\tremaining: 1m 29s\n",
      "670:\ttest: 0.8982978\ttest1: 0.8858341\tbest: 0.8858346 (626)\ttotal: 44.8s\tremaining: 1m 28s\n",
      "680:\ttest: 0.8983022\ttest1: 0.8858356\tbest: 0.8858357 (678)\ttotal: 45.3s\tremaining: 1m 27s\n",
      "690:\ttest: 0.8983055\ttest1: 0.8858353\tbest: 0.8858357 (678)\ttotal: 45.9s\tremaining: 1m 26s\n",
      "700:\ttest: 0.8983121\ttest1: 0.8858397\tbest: 0.8858398 (699)\ttotal: 46.4s\tremaining: 1m 25s\n",
      "710:\ttest: 0.8983207\ttest1: 0.8858428\tbest: 0.8858428 (710)\ttotal: 46.9s\tremaining: 1m 24s\n",
      "720:\ttest: 0.8983261\ttest1: 0.8858442\tbest: 0.8858444 (713)\ttotal: 47.4s\tremaining: 1m 24s\n",
      "730:\ttest: 0.8983311\ttest1: 0.8858454\tbest: 0.8858459 (724)\ttotal: 47.9s\tremaining: 1m 23s\n",
      "740:\ttest: 0.8983368\ttest1: 0.8858459\tbest: 0.8858464 (735)\ttotal: 48.4s\tremaining: 1m 22s\n",
      "750:\ttest: 0.8983405\ttest1: 0.8858472\tbest: 0.8858474 (748)\ttotal: 48.9s\tremaining: 1m 21s\n",
      "760:\ttest: 0.8983526\ttest1: 0.8858566\tbest: 0.8858566 (760)\ttotal: 49.5s\tremaining: 1m 20s\n",
      "770:\ttest: 0.8983548\ttest1: 0.8858556\tbest: 0.8858566 (760)\ttotal: 50s\tremaining: 1m 19s\n",
      "780:\ttest: 0.8983580\ttest1: 0.8858572\tbest: 0.8858572 (776)\ttotal: 50.5s\tremaining: 1m 18s\n",
      "790:\ttest: 0.8983648\ttest1: 0.8858579\tbest: 0.8858583 (788)\ttotal: 51.1s\tremaining: 1m 18s\n",
      "800:\ttest: 0.8983754\ttest1: 0.8858684\tbest: 0.8858685 (797)\ttotal: 51.6s\tremaining: 1m 17s\n",
      "810:\ttest: 0.8983762\ttest1: 0.8858681\tbest: 0.8858685 (797)\ttotal: 52.2s\tremaining: 1m 16s\n",
      "820:\ttest: 0.8983785\ttest1: 0.8858689\tbest: 0.8858689 (820)\ttotal: 52.7s\tremaining: 1m 15s\n",
      "830:\ttest: 0.8983800\ttest1: 0.8858685\tbest: 0.8858689 (820)\ttotal: 53.2s\tremaining: 1m 14s\n",
      "840:\ttest: 0.8983809\ttest1: 0.8858677\tbest: 0.8858689 (820)\ttotal: 53.8s\tremaining: 1m 14s\n",
      "850:\ttest: 0.8983820\ttest1: 0.8858674\tbest: 0.8858689 (820)\ttotal: 54.3s\tremaining: 1m 13s\n",
      "860:\ttest: 0.8983836\ttest1: 0.8858665\tbest: 0.8858689 (820)\ttotal: 54.9s\tremaining: 1m 12s\n",
      "870:\ttest: 0.8983844\ttest1: 0.8858666\tbest: 0.8858689 (820)\ttotal: 55.5s\tremaining: 1m 11s\n",
      "Stopped by overfitting detector  (50 iterations wait)\n",
      "\n",
      "bestTest = 0.8858688509\n",
      "bestIteration = 820\n",
      "\n",
      "Shrink model to first 821 iterations.\n"
     ]
    },
    {
     "data": {
      "text/plain": [
       "<catboost.core.CatBoostClassifier at 0x17a32a990>"
      ]
     },
     "execution_count": 113,
     "metadata": {},
     "output_type": "execute_result"
    }
   ],
   "source": [
    "eval_sets = [\n",
    "    (x_train_ohe_encoder, y_train),\n",
    "    (x_valid_ohe_encoder, y_valid)\n",
    "]\n",
    "\n",
    "cb_model.fit(\n",
    "    x_train_ohe_encoder,\n",
    "    y_train,\n",
    "    eval_set=eval_sets)"
   ]
  },
  {
   "cell_type": "code",
   "execution_count": 114,
   "metadata": {},
   "outputs": [],
   "source": [
    "train_scores[\"CatBoost_ohe_features\"] = cb_model.predict_proba(x_train_ohe_encoder)[:,1]\n",
    "valid_scores[\"CatBoost_ohe_features\"] = cb_model.predict_proba(x_valid_ohe_encoder)[:,1]"
   ]
  },
  {
   "cell_type": "markdown",
   "metadata": {},
   "source": [
    "## 3.3. CatBoost с LabelEncoder"
   ]
  },
  {
   "cell_type": "code",
   "execution_count": 117,
   "metadata": {},
   "outputs": [
    {
     "name": "stdout",
     "output_type": "stream",
     "text": [
      "0:\ttest: 0.6673582\ttest1: 0.6563277\tbest: 0.6563277 (0)\ttotal: 75.3ms\tremaining: 2m 30s\n",
      "10:\ttest: 0.8063883\ttest1: 0.8029175\tbest: 0.8029175 (10)\ttotal: 811ms\tremaining: 2m 26s\n",
      "20:\ttest: 0.8198217\ttest1: 0.8155367\tbest: 0.8155367 (20)\ttotal: 1.47s\tremaining: 2m 18s\n",
      "30:\ttest: 0.8405115\ttest1: 0.8366261\tbest: 0.8366261 (30)\ttotal: 2.17s\tremaining: 2m 18s\n",
      "40:\ttest: 0.8516091\ttest1: 0.8481680\tbest: 0.8481680 (40)\ttotal: 2.86s\tremaining: 2m 16s\n",
      "50:\ttest: 0.8546849\ttest1: 0.8498500\tbest: 0.8498500 (50)\ttotal: 3.53s\tremaining: 2m 14s\n",
      "60:\ttest: 0.8551866\ttest1: 0.8499683\tbest: 0.8499683 (60)\ttotal: 4.2s\tremaining: 2m 13s\n",
      "70:\ttest: 0.8578106\ttest1: 0.8528226\tbest: 0.8528226 (70)\ttotal: 4.83s\tremaining: 2m 11s\n",
      "80:\ttest: 0.8620128\ttest1: 0.8555441\tbest: 0.8555441 (80)\ttotal: 5.54s\tremaining: 2m 11s\n",
      "90:\ttest: 0.8638829\ttest1: 0.8573399\tbest: 0.8574580 (88)\ttotal: 6.2s\tremaining: 2m 9s\n",
      "100:\ttest: 0.8665930\ttest1: 0.8598790\tbest: 0.8598790 (100)\ttotal: 6.87s\tremaining: 2m 9s\n",
      "110:\ttest: 0.8675527\ttest1: 0.8604069\tbest: 0.8604069 (110)\ttotal: 7.51s\tremaining: 2m 7s\n",
      "120:\ttest: 0.8688745\ttest1: 0.8615187\tbest: 0.8615187 (120)\ttotal: 8.14s\tremaining: 2m 6s\n",
      "130:\ttest: 0.8703300\ttest1: 0.8625484\tbest: 0.8625484 (130)\ttotal: 8.8s\tremaining: 2m 5s\n",
      "140:\ttest: 0.8720766\ttest1: 0.8641409\tbest: 0.8641409 (140)\ttotal: 9.79s\tremaining: 2m 9s\n",
      "150:\ttest: 0.8738679\ttest1: 0.8656663\tbest: 0.8656663 (150)\ttotal: 10.5s\tremaining: 2m 8s\n",
      "160:\ttest: 0.8753331\ttest1: 0.8665126\tbest: 0.8665456 (159)\ttotal: 11.2s\tremaining: 2m 7s\n",
      "170:\ttest: 0.8775732\ttest1: 0.8683437\tbest: 0.8683437 (170)\ttotal: 11.9s\tremaining: 2m 7s\n",
      "180:\ttest: 0.8789252\ttest1: 0.8699583\tbest: 0.8699583 (180)\ttotal: 12.6s\tremaining: 2m 6s\n",
      "190:\ttest: 0.8799703\ttest1: 0.8709801\tbest: 0.8709801 (190)\ttotal: 13.2s\tremaining: 2m 5s\n",
      "200:\ttest: 0.8808497\ttest1: 0.8722606\tbest: 0.8722606 (200)\ttotal: 13.9s\tremaining: 2m 4s\n",
      "210:\ttest: 0.8820323\ttest1: 0.8734868\tbest: 0.8734868 (210)\ttotal: 14.6s\tremaining: 2m 3s\n",
      "220:\ttest: 0.8832855\ttest1: 0.8746982\tbest: 0.8746982 (220)\ttotal: 15.3s\tremaining: 2m 3s\n",
      "230:\ttest: 0.8841067\ttest1: 0.8756469\tbest: 0.8756469 (230)\ttotal: 15.9s\tremaining: 2m 1s\n",
      "240:\ttest: 0.8849693\ttest1: 0.8764112\tbest: 0.8764112 (240)\ttotal: 16.6s\tremaining: 2m\n",
      "250:\ttest: 0.8853089\ttest1: 0.8765907\tbest: 0.8766009 (248)\ttotal: 17.3s\tremaining: 2m\n",
      "260:\ttest: 0.8861770\ttest1: 0.8773632\tbest: 0.8773743 (259)\ttotal: 17.9s\tremaining: 1m 59s\n",
      "270:\ttest: 0.8870659\ttest1: 0.8783195\tbest: 0.8783195 (270)\ttotal: 18.6s\tremaining: 1m 58s\n",
      "280:\ttest: 0.8875330\ttest1: 0.8788046\tbest: 0.8788046 (280)\ttotal: 19.2s\tremaining: 1m 57s\n",
      "290:\ttest: 0.8882941\ttest1: 0.8796188\tbest: 0.8796188 (290)\ttotal: 19.9s\tremaining: 1m 56s\n",
      "300:\ttest: 0.8888138\ttest1: 0.8801299\tbest: 0.8801301 (299)\ttotal: 20.5s\tremaining: 1m 55s\n",
      "310:\ttest: 0.8895890\ttest1: 0.8809064\tbest: 0.8809064 (310)\ttotal: 21.1s\tremaining: 1m 54s\n",
      "320:\ttest: 0.8900216\ttest1: 0.8811730\tbest: 0.8811730 (320)\ttotal: 21.8s\tremaining: 1m 53s\n",
      "330:\ttest: 0.8902405\ttest1: 0.8813429\tbest: 0.8813429 (330)\ttotal: 22.4s\tremaining: 1m 52s\n",
      "340:\ttest: 0.8906865\ttest1: 0.8817393\tbest: 0.8817520 (339)\ttotal: 23s\tremaining: 1m 52s\n",
      "350:\ttest: 0.8908682\ttest1: 0.8818594\tbest: 0.8818605 (349)\ttotal: 23.6s\tremaining: 1m 51s\n",
      "360:\ttest: 0.8910730\ttest1: 0.8819997\tbest: 0.8819997 (360)\ttotal: 24.2s\tremaining: 1m 49s\n",
      "370:\ttest: 0.8912899\ttest1: 0.8822049\tbest: 0.8822049 (370)\ttotal: 24.9s\tremaining: 1m 49s\n",
      "380:\ttest: 0.8921426\ttest1: 0.8830360\tbest: 0.8830360 (380)\ttotal: 25.6s\tremaining: 1m 48s\n",
      "390:\ttest: 0.8925077\ttest1: 0.8833664\tbest: 0.8833674 (389)\ttotal: 26.2s\tremaining: 1m 47s\n",
      "400:\ttest: 0.8929730\ttest1: 0.8836707\tbest: 0.8836707 (400)\ttotal: 26.9s\tremaining: 1m 47s\n",
      "410:\ttest: 0.8934329\ttest1: 0.8840212\tbest: 0.8840212 (410)\ttotal: 27.6s\tremaining: 1m 46s\n",
      "420:\ttest: 0.8940157\ttest1: 0.8843459\tbest: 0.8843459 (420)\ttotal: 28.3s\tremaining: 1m 46s\n",
      "430:\ttest: 0.8941889\ttest1: 0.8844787\tbest: 0.8844824 (429)\ttotal: 28.9s\tremaining: 1m 45s\n",
      "440:\ttest: 0.8945213\ttest1: 0.8847608\tbest: 0.8847740 (439)\ttotal: 29.5s\tremaining: 1m 44s\n",
      "450:\ttest: 0.8945797\ttest1: 0.8847529\tbest: 0.8847740 (439)\ttotal: 30.1s\tremaining: 1m 43s\n",
      "460:\ttest: 0.8946398\ttest1: 0.8847975\tbest: 0.8847995 (456)\ttotal: 30.7s\tremaining: 1m 42s\n",
      "470:\ttest: 0.8946868\ttest1: 0.8848212\tbest: 0.8848220 (466)\ttotal: 31.3s\tremaining: 1m 41s\n",
      "480:\ttest: 0.8947168\ttest1: 0.8848379\tbest: 0.8848447 (472)\ttotal: 31.9s\tremaining: 1m 40s\n",
      "490:\ttest: 0.8947262\ttest1: 0.8848385\tbest: 0.8848447 (472)\ttotal: 32.5s\tremaining: 1m 40s\n",
      "500:\ttest: 0.8947322\ttest1: 0.8848348\tbest: 0.8848447 (472)\ttotal: 33.1s\tremaining: 1m 39s\n",
      "510:\ttest: 0.8947397\ttest1: 0.8848342\tbest: 0.8848447 (472)\ttotal: 33.7s\tremaining: 1m 38s\n",
      "520:\ttest: 0.8947475\ttest1: 0.8848344\tbest: 0.8848447 (472)\ttotal: 34.3s\tremaining: 1m 37s\n",
      "Stopped by overfitting detector  (50 iterations wait)\n",
      "\n",
      "bestTest = 0.8848446982\n",
      "bestIteration = 472\n",
      "\n",
      "Shrink model to first 473 iterations.\n"
     ]
    },
    {
     "data": {
      "text/plain": [
       "<catboost.core.CatBoostClassifier at 0x17a32a990>"
      ]
     },
     "execution_count": 117,
     "metadata": {},
     "output_type": "execute_result"
    }
   ],
   "source": [
    "eval_sets = [\n",
    "    (x_train_label_encoder, y_train),\n",
    "    (x_valid_label_encoder, y_valid)\n",
    "]\n",
    "\n",
    "cb_model.fit(\n",
    "    x_train_label_encoder,\n",
    "    y_train,\n",
    "    eval_set=eval_sets)"
   ]
  },
  {
   "cell_type": "code",
   "execution_count": 118,
   "metadata": {},
   "outputs": [],
   "source": [
    "train_scores[\"CatBoost_label_features\"] = cb_model.predict_proba(x_train_label_encoder)[:,1]\n",
    "valid_scores[\"CatBoost_label_features\"] = cb_model.predict_proba(x_valid_label_encoder)[:,1]"
   ]
  },
  {
   "cell_type": "markdown",
   "metadata": {},
   "source": [
    "## Визуализация полученных результатов"
   ]
  },
  {
   "cell_type": "code",
   "execution_count": 119,
   "metadata": {},
   "outputs": [],
   "source": [
    "def plot_curves(valid_score: pd.DataFrame, train_scores: pd.DataFrame) -> None:\n",
    "    \"\"\"\n",
    "    Построение ROC-Curve для множества построенных моделей.\n",
    "\n",
    "    Parameters\n",
    "    ----------\n",
    "    valid_scores: pandas.core.frame.DataFrame\n",
    "        Датафрем с прогнозами модели на валидационной выборке.\n",
    "\n",
    "    train_scores: pandas.core.frame.DataFrame\n",
    "        Датафрейм с прогнозами модели на обучающей выборке.\n",
    "\n",
    "    \"\"\"\n",
    "    fig = plt.figure(figsize=(15, 5))\n",
    "    columns = set(valid_scores.columns) - set([\"target\"])\n",
    "\n",
    "    plt.subplot(121)\n",
    "    plt.xlabel(\"FPR\", size=14)\n",
    "    plt.ylabel(\"TPR\", size=14)\n",
    "    plt.xlim(0, 1)\n",
    "    plt.ylim(0, 1)\n",
    "\n",
    "    for feature in columns:\n",
    "        fpr, tpr, _ = roc_curve(\n",
    "            train_scores[\"target\"], train_scores[feature]\n",
    "        )\n",
    "        plt.plot(fpr, tpr, linewidth=2, label=feature)\n",
    "\n",
    "    plt.legend(loc=\"best\")\n",
    "\n",
    "    plt.subplot(122)\n",
    "    plt.xlabel(\"FPR\", size=14)\n",
    "    plt.ylabel(\"TPR\", size=14)\n",
    "    plt.xlim(0, 1)\n",
    "    plt.ylim(0, 1)\n",
    "\n",
    "    for feature in columns:\n",
    "        fpr, tpr, _ = roc_curve(\n",
    "            valid_scores[\"target\"], valid_scores[feature]\n",
    "        )\n",
    "        plt.plot(fpr, tpr, linewidth=2, label=feature)\n",
    "    plt.legend(loc=\"best\")"
   ]
  },
  {
   "cell_type": "code",
   "execution_count": 120,
   "metadata": {},
   "outputs": [
    {
     "data": {
      "image/png": "[encoded data removed]",
      "text/plain": [
       "<Figure size 1080x360 with 2 Axes>"
      ]
     },
     "metadata": {
      "needs_background": "light"
     },
     "output_type": "display_data"
    }
   ],
   "source": [
    "plot_curves(valid_scores, train_scores)"
   ]
  },
  {
   "cell_type": "code",
   "execution_count": null,
   "metadata": {},
   "outputs": [],
   "source": []
  }
 ],
 "metadata": {
  "kernelspec": {
   "display_name": "Python 3",
   "language": "python",
   "name": "python3"
  },
  "language_info": {
   "codemirror_mode": {
    "name": "ipython",
    "version": 3
   },
   "file_extension": ".py",
   "mimetype": "text/x-python",
   "name": "python",
   "nbconvert_exporter": "python",
   "pygments_lexer": "ipython3",
   "version": "3.7.4"
  }
 },
 "nbformat": 4,
 "nbformat_minor": 4
}
