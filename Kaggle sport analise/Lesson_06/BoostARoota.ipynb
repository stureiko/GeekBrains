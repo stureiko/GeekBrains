{
 "cells": [
  {
   "cell_type": "code",
   "execution_count": 16,
   "metadata": {},
   "outputs": [],
   "source": [
    "import numpy as np\n",
    "import pandas as pd\n",
    "import xgboost as xgb\n",
    "\n",
    "from boostaroota import BoostARoota\n",
    "from sklearn.metrics import roc_auc_score\n",
    "from sklearn.model_selection import train_test_split"
   ]
  },
  {
   "cell_type": "code",
   "execution_count": 12,
   "metadata": {},
   "outputs": [],
   "source": [
    "def prepare_data(X: pd.DataFrame) -> pd.DataFrame:\n",
    "    \"\"\"\n",
    "    Подготовка набора данных для моделирования.\n",
    "    Категориальные признаки преобразуются с помощью\n",
    "    OneHotEnconding.\n",
    "\n",
    "    Parameters\n",
    "    ----------\n",
    "    X: pandas.core.frame.DataFrame\n",
    "        Матрица признаков.\n",
    "\n",
    "    Returns\n",
    "    -------\n",
    "    X_transformed: pandas.core.frame.DataFrame\n",
    "        Преобразованная матрица признаков.\n",
    "\n",
    "    \"\"\"\n",
    "    categorical = X.dtypes[X.dtypes==\"object\"].index.tolist()\n",
    "\n",
    "    X = pd.get_dummies(X, columns=categorical)\n",
    "    X.columns = [col.lower() for col in X.columns]\n",
    "    \n",
    "    return X"
   ]
  },
  {
   "cell_type": "code",
   "execution_count": 15,
   "metadata": {},
   "outputs": [],
   "source": [
    "data = pd.read_csv(\n",
    "    \"../data/competition_data/train.csv\"\n",
    ")\n",
    "features = pd.read_csv(\n",
    "    \"../data/competition_data/client_profile.csv\"\n",
    ")\n",
    "data = data.merge(\n",
    "    features, how=\"inner\", on=\"APPLICATION_NUMBER\"\n",
    ")\n",
    "data = prepare_data(data)"
   ]
  },
  {
   "cell_type": "code",
   "execution_count": 18,
   "metadata": {},
   "outputs": [],
   "source": [
    "x_train, x_valid = train_test_split(\n",
    "    data.drop([\"target\", \"application_number\"], axis=1), train_size=0.7, random_state=27\n",
    ")\n",
    "y_train, y_valid = train_test_split(\n",
    "    data[\"target\"], train_size=0.7, random_state=27\n",
    ")"
   ]
  },
  {
   "cell_type": "markdown",
   "metadata": {},
   "source": [
    "## Base XGBoost"
   ]
  },
  {
   "cell_type": "code",
   "execution_count": 19,
   "metadata": {},
   "outputs": [
    {
     "name": "stderr",
     "output_type": "stream",
     "text": [
      "/opt/anaconda3/lib/python3.7/site-packages/xgboost/core.py:587: FutureWarning: Series.base is deprecated and will be removed in a future version\n",
      "  if getattr(data, 'base', None) is not None and \\\n"
     ]
    }
   ],
   "source": [
    "params = {\n",
    "    \"eta\": 0.01,\n",
    "    \"objective\": \"binary:logistic\",\n",
    "    \"subsample\": 0.5,\n",
    "    \"base_score\": np.mean(y_train),\n",
    "    \"eval_metric\": \"auc\"\n",
    "}\n",
    "\n",
    "dtrain = xgb.DMatrix(x_train, label=y_train)\n",
    "dvalid = xgb.DMatrix(x_valid, label=y_valid)"
   ]
  },
  {
   "cell_type": "code",
   "execution_count": 20,
   "metadata": {},
   "outputs": [
    {
     "name": "stdout",
     "output_type": "stream",
     "text": [
      "[0]\ttrain-auc:0.722133\tvalid-auc:0.690937\n",
      "Multiple eval metrics have been passed: 'valid-auc' will be used for early stopping.\n",
      "\n",
      "Will train until valid-auc hasn't improved in 50 rounds.\n",
      "[100]\ttrain-auc:0.772349\tvalid-auc:0.735562\n",
      "[200]\ttrain-auc:0.787935\tvalid-auc:0.740267\n",
      "[300]\ttrain-auc:0.801033\tvalid-auc:0.74283\n",
      "[400]\ttrain-auc:0.811698\tvalid-auc:0.744505\n",
      "[500]\ttrain-auc:0.819985\tvalid-auc:0.744964\n",
      "Stopping. Best iteration:\n",
      "[546]\ttrain-auc:0.824612\tvalid-auc:0.745207\n",
      "\n"
     ]
    }
   ],
   "source": [
    "model = xgb.train(\n",
    "    params,\n",
    "    dtrain,\n",
    "    num_boost_round=5000,\n",
    "    evals=[(dtrain, \"train\"), (dvalid, \"valid\")],\n",
    "    early_stopping_rounds=50,\n",
    "    verbose_eval=100\n",
    ")"
   ]
  },
  {
   "cell_type": "markdown",
   "metadata": {},
   "source": [
    "## Base BoostARoota\n",
    "\n",
    "__Fast XGBoost Feature Selection Algorithm, как это работает?__\n",
    "\n",
    "How it works\n",
    "\n",
    "Similar in spirit to Boruta, BoostARoota creates shadow features, but modifies the removal step.\n",
    "\n",
    "* `One-Hot-Encode` признаки;\n",
    "\n",
    "* Дублировать каждый признак в исходном наборе данных => признаков в 2 раза больше;\n",
    "\n",
    "* Случайным образом перемешать новые признаки, созданные в п.2. Эти продублированные и перемешанные признаки называются «теневыми признаками» (`shadow features`);\n",
    "\n",
    "* Запустить классификатор `XGBoost` для всего набора данных десять раз. Запуск его десять раз позволяет сгладить случайный шум, что приводит к более надежным оценкам важности. Количество повторов - это гиперпараметр, который можно изменить.\n",
    "\n",
    "* Получить значения важности для каждого призанка. Это простой показатель важности, который суммирует количество сплитов, в которых участвовал данный признак.\n",
    "\n",
    "* Вычислитm «отсечку»: среднее значение важности для всех теневых признаков и разделить на четыре. Значения теневой важности делятся на четыре (параметр можно изменить), чтобы было сложнее удалить признаки. При значениях ниже этого значения, признаки удаляются.\n",
    "\n",
    "* Удалить признаки со средней важностью за десять итераций, которая меньше порогового значения, указанного в п.6ю\n",
    "\n",
    "* Вернуться к п.2, пока количество удаленных признаков не станет менее десяти процентов от общего числа."
   ]
  },
  {
   "cell_type": "code",
   "execution_count": 61,
   "metadata": {},
   "outputs": [
    {
     "name": "stdout",
     "output_type": "stream",
     "text": [
      "Round:  1  iteration:  1\n",
      "Round:  1  iteration:  2\n",
      "Round:  1  iteration:  3\n",
      "Round:  1  iteration:  4\n",
      "Round:  1  iteration:  5\n",
      "Round:  1  iteration:  6\n",
      "Round:  1  iteration:  7\n",
      "Round:  1  iteration:  8\n",
      "Round:  1  iteration:  9\n",
      "Round:  1  iteration:  10\n",
      "Round:  2  iteration:  1\n",
      "Round:  2  iteration:  2\n",
      "Round:  2  iteration:  3\n",
      "Round:  2  iteration:  4\n",
      "Round:  2  iteration:  5\n",
      "Round:  2  iteration:  6\n",
      "Round:  2  iteration:  7\n",
      "Round:  2  iteration:  8\n",
      "Round:  2  iteration:  9\n",
      "Round:  2  iteration:  10\n",
      "Round:  3  iteration:  1\n",
      "Round:  3  iteration:  2\n",
      "Round:  3  iteration:  3\n",
      "Round:  3  iteration:  4\n",
      "Round:  3  iteration:  5\n",
      "Round:  3  iteration:  6\n",
      "Round:  3  iteration:  7\n",
      "Round:  3  iteration:  8\n",
      "Round:  3  iteration:  9\n",
      "Round:  3  iteration:  10\n",
      "BoostARoota ran successfully! Algorithm went through  3  rounds.\n"
     ]
    },
    {
     "data": {
      "text/plain": [
       "<boostaroota.boostaroota.BoostARoota at 0x14908c110>"
      ]
     },
     "execution_count": 61,
     "metadata": {},
     "output_type": "execute_result"
    }
   ],
   "source": [
    "br = BoostARoota(metric='auc')\n",
    "br.fit(x_train, y_train)"
   ]
  },
  {
   "cell_type": "code",
   "execution_count": 62,
   "metadata": {},
   "outputs": [
    {
     "data": {
      "text/plain": [
       "0                                         childrens\n",
       "1                                      total_salary\n",
       "2                                     amount_credit\n",
       "3                                    amount_annuity\n",
       "4                                 region_population\n",
       "5                                               age\n",
       "6                                  days_on_last_job\n",
       "7                                       own_car_age\n",
       "8                                       family_size\n",
       "9                         external_scoring_rating_1\n",
       "10                        external_scoring_rating_2\n",
       "11                        external_scoring_rating_3\n",
       "12                       amt_req_credit_bureau_hour\n",
       "14                        amt_req_credit_bureau_mon\n",
       "15                        amt_req_credit_bureau_qrt\n",
       "16                       amt_req_credit_bureau_year\n",
       "17                          name_contract_type_cash\n",
       "18                                         gender_f\n",
       "19                                         gender_m\n",
       "20                 education_level_higher education\n",
       "21    education_level_secondary / secondary special\n",
       "22                            family_status_married\n",
       "Name: feature, dtype: object"
      ]
     },
     "execution_count": 62,
     "metadata": {},
     "output_type": "execute_result"
    }
   ],
   "source": [
    "br.keep_vars_"
   ]
  },
  {
   "cell_type": "code",
   "execution_count": 23,
   "metadata": {},
   "outputs": [],
   "source": [
    "x_train_br = br.transform(x_train)\n",
    "x_valid_br = br.transform(x_valid)\n",
    "\n",
    "dtrain_br = xgb.DMatrix(x_train_br, label=y_train)\n",
    "dvalid_br = xgb.DMatrix(x_valid_br, label=y_valid)"
   ]
  },
  {
   "cell_type": "code",
   "execution_count": 24,
   "metadata": {},
   "outputs": [
    {
     "name": "stdout",
     "output_type": "stream",
     "text": [
      "[0]\ttrain-auc:0.722133\tvalid-auc:0.690937\n",
      "Multiple eval metrics have been passed: 'valid-auc' will be used for early stopping.\n",
      "\n",
      "Will train until valid-auc hasn't improved in 50 rounds.\n",
      "[100]\ttrain-auc:0.772295\tvalid-auc:0.735525\n",
      "[200]\ttrain-auc:0.787503\tvalid-auc:0.740233\n",
      "[300]\ttrain-auc:0.800326\tvalid-auc:0.742654\n",
      "[400]\ttrain-auc:0.811072\tvalid-auc:0.744297\n",
      "[500]\ttrain-auc:0.819349\tvalid-auc:0.74509\n",
      "Stopping. Best iteration:\n",
      "[546]\ttrain-auc:0.823974\tvalid-auc:0.745396\n",
      "\n"
     ]
    }
   ],
   "source": [
    "model_br = xgb.train(\n",
    "    params,\n",
    "    dtrain_br,\n",
    "    num_boost_round=5000,\n",
    "    evals=[(dtrain_br, \"train\"), (dvalid_br, \"valid\")],\n",
    "    early_stopping_rounds=50,\n",
    "    verbose_eval=100\n",
    ")"
   ]
  },
  {
   "cell_type": "code",
   "execution_count": 25,
   "metadata": {},
   "outputs": [
    {
     "name": "stdout",
     "output_type": "stream",
     "text": [
      "Base XGBoost score = 0.74509\n",
      "Base BoostARoota score = 0.74532\n"
     ]
    }
   ],
   "source": [
    "old_preds = model.predict(dvalid)\n",
    "new_preds = model_br.predict(dvalid_br)\n",
    "\n",
    "old_score = roc_auc_score(y_valid, old_preds)\n",
    "new_score = roc_auc_score(y_valid, new_preds)\n",
    "print(f\"Base XGBoost score = {round(old_score, 5)}\")\n",
    "print(f\"Base BoostARoota score = {round(new_score, 5)}\")"
   ]
  },
  {
   "cell_type": "markdown",
   "metadata": {},
   "source": [
    "## Optimize BoostARoota\n",
    "\n",
    "* __`clf [default = None]`__ - опциональный параметр, рекомендуется оставить пустым;\n",
    "\n",
    "    * По умолчанию будет `xgboost`, если оставить пустым\n",
    "    * Можно использовать любую древовидную модель из `sklearn`\n",
    "\n",
    "* __`cutoff [default = 4]`__ - порог отсечки\n",
    "\n",
    "    * Отсечка для отбора признаков\n",
    "    * Большие значения работают более консервативно - итоговый набор признаков будет достаточно большим, удаляется мало признаков. Маленькие значения работают более агрессивно;\n",
    "\n",
    "* __`iters [default = 10]`__ - количество итераций для оценки важности признаков;\n",
    "\n",
    "    * Маленькие значения позволяет получить результат быстрее, потому что `XGBoost` обучается меньшее число раз.\n",
    "    * Масштабируется линейно: `iters` = 4 требует в 2 раза больше времени чем `iters` = 2 и в 4 раза больше, чем `iters` = 1.\n",
    "    \n",
    "* __`max_rounds [default = 100]`__ - количество итераций алгоритма `BoostARoota`. Каждый запуск исключает все больше и больше признаков. "
   ]
  },
  {
   "cell_type": "code",
   "execution_count": 28,
   "metadata": {},
   "outputs": [
    {
     "name": "stderr",
     "output_type": "stream",
     "text": [
      "/opt/anaconda3/lib/python3.7/site-packages/xgboost/core.py:587: FutureWarning: Series.base is deprecated and will be removed in a future version\n",
      "  if getattr(data, 'base', None) is not None and \\\n"
     ]
    },
    {
     "name": "stdout",
     "output_type": "stream",
     "text": [
      "Round:  1  iteration:  1\n",
      "Round:  1  iteration:  2\n",
      "Round:  1  iteration:  3\n",
      "Round:  1  iteration:  4\n",
      "Round:  1  iteration:  5\n",
      "Round:  1  iteration:  6\n",
      "Round:  1  iteration:  7\n",
      "Round:  1  iteration:  8\n",
      "Round:  1  iteration:  9\n",
      "Round:  1  iteration:  10\n",
      "Round:  1  iteration:  11\n",
      "Round:  1  iteration:  12\n",
      "Round:  1  iteration:  13\n",
      "Round:  1  iteration:  14\n",
      "Round:  1  iteration:  15\n",
      "Round:  1  iteration:  16\n",
      "Round:  1  iteration:  17\n",
      "Round:  1  iteration:  18\n",
      "Round:  1  iteration:  19\n",
      "Round:  1  iteration:  20\n",
      "Round:  1  iteration:  21\n",
      "Round:  1  iteration:  22\n",
      "Round:  1  iteration:  23\n",
      "Round:  1  iteration:  24\n",
      "Round:  1  iteration:  25\n",
      "Round:  1  iteration:  26\n",
      "Round:  1  iteration:  27\n",
      "Round:  1  iteration:  28\n",
      "Round:  1  iteration:  29\n",
      "Round:  1  iteration:  30\n",
      "Round:  1  iteration:  31\n",
      "Round:  1  iteration:  32\n",
      "Round:  1  iteration:  33\n",
      "Round:  1  iteration:  34\n",
      "Round:  1  iteration:  35\n",
      "Round:  1  iteration:  36\n",
      "Round:  1  iteration:  37\n",
      "Round:  1  iteration:  38\n",
      "Round:  1  iteration:  39\n",
      "Round:  1  iteration:  40\n",
      "Round:  1  iteration:  41\n",
      "Round:  1  iteration:  42\n",
      "Round:  1  iteration:  43\n",
      "Round:  1  iteration:  44\n",
      "Round:  1  iteration:  45\n",
      "Round:  1  iteration:  46\n",
      "Round:  1  iteration:  47\n",
      "Round:  1  iteration:  48\n",
      "Round:  1  iteration:  49\n",
      "Round:  1  iteration:  50\n",
      "Round:  2  iteration:  1\n",
      "Round:  2  iteration:  2\n",
      "Round:  2  iteration:  3\n",
      "Round:  2  iteration:  4\n",
      "Round:  2  iteration:  5\n",
      "Round:  2  iteration:  6\n",
      "Round:  2  iteration:  7\n",
      "Round:  2  iteration:  8\n",
      "Round:  2  iteration:  9\n",
      "Round:  2  iteration:  10\n",
      "Round:  2  iteration:  11\n",
      "Round:  2  iteration:  12\n",
      "Round:  2  iteration:  13\n",
      "Round:  2  iteration:  14\n",
      "Round:  2  iteration:  15\n",
      "Round:  2  iteration:  16\n",
      "Round:  2  iteration:  17\n",
      "Round:  2  iteration:  18\n",
      "Round:  2  iteration:  19\n",
      "Round:  2  iteration:  20\n",
      "Round:  2  iteration:  21\n",
      "Round:  2  iteration:  22\n",
      "Round:  2  iteration:  23\n",
      "Round:  2  iteration:  24\n",
      "Round:  2  iteration:  25\n",
      "Round:  2  iteration:  26\n",
      "Round:  2  iteration:  27\n",
      "Round:  2  iteration:  28\n",
      "Round:  2  iteration:  29\n",
      "Round:  2  iteration:  30\n",
      "Round:  2  iteration:  31\n",
      "Round:  2  iteration:  32\n",
      "Round:  2  iteration:  33\n",
      "Round:  2  iteration:  34\n",
      "Round:  2  iteration:  35\n",
      "Round:  2  iteration:  36\n",
      "Round:  2  iteration:  37\n",
      "Round:  2  iteration:  38\n",
      "Round:  2  iteration:  39\n",
      "Round:  2  iteration:  40\n",
      "Round:  2  iteration:  41\n",
      "Round:  2  iteration:  42\n",
      "Round:  2  iteration:  43\n",
      "Round:  2  iteration:  44\n",
      "Round:  2  iteration:  45\n",
      "Round:  2  iteration:  46\n",
      "Round:  2  iteration:  47\n",
      "Round:  2  iteration:  48\n",
      "Round:  2  iteration:  49\n",
      "Round:  2  iteration:  50\n",
      "Round:  3  iteration:  1\n",
      "Round:  3  iteration:  2\n",
      "Round:  3  iteration:  3\n",
      "Round:  3  iteration:  4\n",
      "Round:  3  iteration:  5\n",
      "Round:  3  iteration:  6\n",
      "Round:  3  iteration:  7\n",
      "Round:  3  iteration:  8\n",
      "Round:  3  iteration:  9\n",
      "Round:  3  iteration:  10\n",
      "Round:  3  iteration:  11\n",
      "Round:  3  iteration:  12\n",
      "Round:  3  iteration:  13\n",
      "Round:  3  iteration:  14\n",
      "Round:  3  iteration:  15\n",
      "Round:  3  iteration:  16\n",
      "Round:  3  iteration:  17\n",
      "Round:  3  iteration:  18\n",
      "Round:  3  iteration:  19\n",
      "Round:  3  iteration:  20\n",
      "Round:  3  iteration:  21\n",
      "Round:  3  iteration:  22\n",
      "Round:  3  iteration:  23\n",
      "Round:  3  iteration:  24\n",
      "Round:  3  iteration:  25\n",
      "Round:  3  iteration:  26\n",
      "Round:  3  iteration:  27\n",
      "Round:  3  iteration:  28\n",
      "Round:  3  iteration:  29\n",
      "Round:  3  iteration:  30\n",
      "Round:  3  iteration:  31\n",
      "Round:  3  iteration:  32\n",
      "Round:  3  iteration:  33\n",
      "Round:  3  iteration:  34\n",
      "Round:  3  iteration:  35\n",
      "Round:  3  iteration:  36\n",
      "Round:  3  iteration:  37\n",
      "Round:  3  iteration:  38\n",
      "Round:  3  iteration:  39\n",
      "Round:  3  iteration:  40\n",
      "Round:  3  iteration:  41\n",
      "Round:  3  iteration:  42\n",
      "Round:  3  iteration:  43\n",
      "Round:  3  iteration:  44\n",
      "Round:  3  iteration:  45\n",
      "Round:  3  iteration:  46\n",
      "Round:  3  iteration:  47\n",
      "Round:  3  iteration:  48\n",
      "Round:  3  iteration:  49\n",
      "Round:  3  iteration:  50\n",
      "BoostARoota ran successfully! Algorithm went through  3  rounds.\n"
     ]
    },
    {
     "data": {
      "text/plain": [
       "<boostaroota.boostaroota.BoostARoota at 0x138aa7b10>"
      ]
     },
     "execution_count": 28,
     "metadata": {},
     "output_type": "execute_result"
    }
   ],
   "source": [
    "br = BoostARoota(metric='auc', iters=50)\n",
    "br.fit(x_train, y_train)"
   ]
  },
  {
   "cell_type": "code",
   "execution_count": 29,
   "metadata": {},
   "outputs": [],
   "source": [
    "x_train_br = br.transform(x_train)\n",
    "x_valid_br = br.transform(x_valid)\n",
    "\n",
    "dtrain_br = xgb.DMatrix(x_train_br, label=y_train)\n",
    "dvalid_br = xgb.DMatrix(x_valid_br, label=y_valid)"
   ]
  },
  {
   "cell_type": "code",
   "execution_count": 30,
   "metadata": {},
   "outputs": [
    {
     "name": "stdout",
     "output_type": "stream",
     "text": [
      "[0]\ttrain-auc:0.722133\tvalid-auc:0.690937\n",
      "Multiple eval metrics have been passed: 'valid-auc' will be used for early stopping.\n",
      "\n",
      "Will train until valid-auc hasn't improved in 50 rounds.\n",
      "[100]\ttrain-auc:0.772088\tvalid-auc:0.73577\n",
      "[200]\ttrain-auc:0.787172\tvalid-auc:0.740577\n",
      "[300]\ttrain-auc:0.799878\tvalid-auc:0.743006\n",
      "[400]\ttrain-auc:0.81069\tvalid-auc:0.744628\n",
      "[500]\ttrain-auc:0.818963\tvalid-auc:0.745408\n",
      "[600]\ttrain-auc:0.828223\tvalid-auc:0.745712\n",
      "[700]\ttrain-auc:0.836154\tvalid-auc:0.745864\n",
      "Stopping. Best iteration:\n",
      "[673]\ttrain-auc:0.833884\tvalid-auc:0.745982\n",
      "\n"
     ]
    }
   ],
   "source": [
    "model_br = xgb.train(\n",
    "    params,\n",
    "    dtrain_br,\n",
    "    num_boost_round=5000,\n",
    "    evals=[(dtrain_br, \"train\"), (dvalid_br, \"valid\")],\n",
    "    early_stopping_rounds=50,\n",
    "    verbose_eval=100\n",
    ")"
   ]
  },
  {
   "cell_type": "code",
   "execution_count": 31,
   "metadata": {},
   "outputs": [
    {
     "name": "stdout",
     "output_type": "stream",
     "text": [
      "Base XGBoost score = 0.74509\n",
      "Base BoostARoota score = 0.74587\n"
     ]
    }
   ],
   "source": [
    "old_preds = model.predict(dvalid)\n",
    "new_preds = model_br.predict(dvalid_br)\n",
    "\n",
    "old_score = roc_auc_score(y_valid, old_preds)\n",
    "new_score = roc_auc_score(y_valid, new_preds)\n",
    "print(f\"Base XGBoost score = {round(old_score, 5)}\")\n",
    "print(f\"Base BoostARoota score = {round(new_score, 5)}\")"
   ]
  },
  {
   "cell_type": "code",
   "execution_count": null,
   "metadata": {},
   "outputs": [],
   "source": []
  }
 ],
 "metadata": {
  "kernelspec": {
   "display_name": "Python 3",
   "language": "python",
   "name": "python3"
  },
  "language_info": {
   "codemirror_mode": {
    "name": "ipython",
    "version": 3
   },
   "file_extension": ".py",
   "mimetype": "text/x-python",
   "name": "python",
   "nbconvert_exporter": "python",
   "pygments_lexer": "ipython3",
   "version": "3.7.4"
  }
 },
 "nbformat": 4,
 "nbformat_minor": 4
}
