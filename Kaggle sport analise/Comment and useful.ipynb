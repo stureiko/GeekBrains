{
 "cells": [
  {
   "cell_type": "markdown",
   "metadata": {},
   "source": [
    "Посмотри подробнее библиотеки, которые упоминались на вебинаре:\n",
    "* pandas profiling\n",
    "* MLFlow\n",
    "* sacred\n",
    "* metaflow\n",
    "* kedro\n",
    "* PyCaret\n",
    "* from __typing__ import __List, Optional__\n",
    "* from __tqdm__ import __tqdm__\n",
    "* import __missingno__ as __msno__ - _библиотека для визуализации пропусков в данных_"
   ]
  },
  {
   "cell_type": "markdown",
   "metadata": {},
   "source": [
    "### Вебинары:\n",
    "* <a class=\"anchor\" id=\"automation_ml\" href=\"https://geekbrains.ru/events/2117\">Автоматизация и версионирование ML-экспериментов</a>\n",
    "_Посмотри подробнее про sacred\n",
    "* <a class=\"anchor\" id=\"visual_python\" href=\"https://geekbrains.ru/events/2664\">Введение в визуализацию данных на Python</a>\n",
    "* <a class=\"anchor\" id=\"Testing_ML\" href=\"https://geekbrains.ru/events/2502\">Машинное обучение и тестирование</a>\n",
    "* <a class=\"anchor\" id=\"Remote_team\" href=\"https://geekbrains.ru/events/2422\">Как организовать работу команды на удаленке</a>"
   ]
  },
  {
   "cell_type": "markdown",
   "metadata": {},
   "source": [
    "Книга \"Как врать с помощью статитситики\""
   ]
  },
  {
   "cell_type": "markdown",
   "metadata": {},
   "source": [
    "### Общее обучение"
   ]
  },
  {
   "cell_type": "markdown",
   "metadata": {},
   "source": [
    "<a class=\"anchor\" id=\"Remote_team\" href=\"https://lms.matemarketing.ru/matemarketing/conferences\">Math маркетинг - материалы по А/Б тестированию и пр.</a>"
   ]
  },
  {
   "cell_type": "code",
   "execution_count": null,
   "metadata": {},
   "outputs": [],
   "source": []
  }
 ],
 "metadata": {
  "kernelspec": {
   "display_name": "Python 3",
   "language": "python",
   "name": "python3"
  },
  "language_info": {
   "codemirror_mode": {
    "name": "ipython",
    "version": 3
   },
   "file_extension": ".py",
   "mimetype": "text/x-python",
   "name": "python",
   "nbconvert_exporter": "python",
   "pygments_lexer": "ipython3",
   "version": "3.7.7"
  }
 },
 "nbformat": 4,
 "nbformat_minor": 4
}
