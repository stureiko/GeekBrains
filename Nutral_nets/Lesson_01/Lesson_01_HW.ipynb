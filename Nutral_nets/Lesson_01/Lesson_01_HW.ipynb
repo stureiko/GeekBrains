{
 "cells": [
  {
   "cell_type": "markdown",
   "id": "160e278a",
   "metadata": {},
   "source": [
    "__Author: Стурейко Игорь__\n",
    "\n",
    "__Project: Geekbrains.NeutralNets__\n",
    "\n",
    "__Lesson 1 - Основы__\n",
    "\n",
    "__Date: 2021-12-01__"
   ]
  },
  {
   "cell_type": "markdown",
   "id": "2a6c9c77",
   "metadata": {},
   "source": [
    "# Импорты"
   ]
  },
  {
   "cell_type": "code",
   "execution_count": 11,
   "id": "30233719",
   "metadata": {
    "ExecuteTime": {
     "end_time": "2021-12-02T15:35:38.181985Z",
     "start_time": "2021-12-02T15:35:38.166983Z"
    }
   },
   "outputs": [],
   "source": [
    "import numpy as np\n",
    "import pandas as pd\n",
    "from sklearn.model_selection import train_test_split\n",
    "from matplotlib import cm\n",
    "import matplotlib.pyplot as plt\n",
    "\n",
    "import seaborn as sns"
   ]
  },
  {
   "cell_type": "markdown",
   "id": "82abdbd2",
   "metadata": {},
   "source": [
    "# Вспомогательные функции"
   ]
  },
  {
   "cell_type": "code",
   "execution_count": 2,
   "id": "085b5257",
   "metadata": {
    "ExecuteTime": {
     "end_time": "2021-12-02T15:32:08.642054Z",
     "start_time": "2021-12-02T15:32:08.625051Z"
    }
   },
   "outputs": [],
   "source": [
    "# нормализация массива\n",
    "def normalize(X, axis=-1, order=2):\n",
    "    l2 = np.atleast_1d(np.linalg.norm(X, order, axis))\n",
    "    l2[l2 == 0] = 1\n",
    "    return X / np.expand_dims(l2, axis)\n",
    "\n",
    "\n",
    "def to_one_hot(Y):\n",
    "    n_col = np.amax(Y) + 1\n",
    "    binarized = np.zeros((len(Y), n_col))\n",
    "    for i in range(len(Y)):\n",
    "        binarized[i, Y[i]] = 1.\n",
    "    return binarized\n",
    "\n",
    "\n",
    "# преобразование массива в необходимый вид\n",
    "def from_one_hot(Y):\n",
    "    arr = np.zeros((len(Y), 1))\n",
    "\n",
    "    for i in range(len(Y)):\n",
    "        hot = Y[i]\n",
    "        for j in range(len(hot)):\n",
    "            if hot[j] == 1:\n",
    "                arr[i] = j + 1\n",
    "    return arr\n",
    "\n",
    "\n",
    "def sigmoid(var):\n",
    "    return 1 / (1 + np.exp(-var))"
   ]
  },
  {
   "cell_type": "markdown",
   "id": "534c58d0",
   "metadata": {},
   "source": [
    "# Классы сети"
   ]
  },
  {
   "cell_type": "markdown",
   "id": "a4bee003",
   "metadata": {},
   "source": [
    "## Сеть с двумя слоями"
   ]
  },
  {
   "cell_type": "code",
   "execution_count": 3,
   "id": "c84ed03c",
   "metadata": {
    "ExecuteTime": {
     "end_time": "2021-12-02T15:32:08.658015Z",
     "start_time": "2021-12-02T15:32:08.645014Z"
    },
    "code_folding": [
     0
    ]
   },
   "outputs": [],
   "source": [
    "class TwoLayerNet:\n",
    "    \"\"\"\n",
    "    Class for neutral net with two layers\n",
    "    \"\"\"\n",
    "\n",
    "    def __init__(self, neuron_numb, steps, learning_rate):\n",
    "        self.learning_rate = learning_rate\n",
    "        self.steps = steps\n",
    "        self.neuron_numb = neuron_numb\n",
    "        self.w0 = (1, 1)\n",
    "        self.w1 = (1, 1)\n",
    "        self.fit_flag = False\n",
    "\n",
    "    # сигмоида и ее производная\n",
    "    @staticmethod\n",
    "    def act_func(var):\n",
    "        return 1 / (1 + np.exp(-var))\n",
    "\n",
    "    @staticmethod\n",
    "    def act_func_deriv(var):\n",
    "        return var * (1 - var)\n",
    "\n",
    "    def fit(self, X_train, y_train):\n",
    "        self.fit_flag = True\n",
    "        # присваевание случайных весов\n",
    "        self.w0 = 2 * np.random.random((X_train.shape[1], self.neuron_numb)) - 1  # для входного слоя\n",
    "        self.w1 = 2 * np.random.random((self.neuron_numb, y_train.shape[1])) - 1  # для внутреннего слоя\n",
    "\n",
    "        # процесс обучения\n",
    "        accuracy = 0\n",
    "        for i in range(self.steps):\n",
    "            # прямое распространение(feed forward)\n",
    "            layer0 = X_train\n",
    "            layer1 = self.act_func(np.dot(layer0, self.w0))\n",
    "            layer2 = self.act_func(np.dot(layer1, self.w1))\n",
    "\n",
    "            # обратное распространение(back propagation) с использованием градиентного спуска\n",
    "            layer2_error = y_train - layer2  # производная функции потерь = производная квадратичных потерь\n",
    "            layer2_delta = layer2_error * self.act_func_deriv(layer2)\n",
    "\n",
    "            layer1_error = layer2_delta.dot(self.w1.T)\n",
    "            layer1_delta = layer1_error * self.act_func_deriv(layer1)\n",
    "            # коррекция\n",
    "            self.w1 += layer1.T.dot(layer2_delta) * self.learning_rate\n",
    "            self.w0 += layer0.T.dot(layer1_delta) * self.learning_rate\n",
    "            # метрика модели\n",
    "            error = np.mean(np.abs(layer2_error))\n",
    "            accuracy = (1 - error) * 100\n",
    "\n",
    "        return accuracy\n",
    "\n",
    "    def predict(self, X_test, y_test):\n",
    "        if self.fit_flag:\n",
    "            # прямое распространение(feed forward)\n",
    "            layer0_t = X_test\n",
    "            layer1_t = self.act_func(np.dot(layer0_t, self.w0))\n",
    "            layer2_t = self.act_func(np.dot(layer1_t, self.w1))\n",
    "            layer2_error_t = y_test - layer2_t\n",
    "\n",
    "            # метрика модели\n",
    "            error_t = np.mean(np.abs(layer2_error_t))\n",
    "            accuracy_t = (1 - error_t) * 100\n",
    "        else:\n",
    "            accuracy_t = None\n",
    "\n",
    "        return accuracy_t"
   ]
  },
  {
   "cell_type": "markdown",
   "id": "c1891520",
   "metadata": {},
   "source": [
    "## Сеть с тремя слоями"
   ]
  },
  {
   "cell_type": "code",
   "execution_count": 40,
   "id": "5028de74",
   "metadata": {
    "ExecuteTime": {
     "end_time": "2021-12-02T16:03:35.636570Z",
     "start_time": "2021-12-02T16:03:35.616544Z"
    },
    "code_folding": [
     0
    ]
   },
   "outputs": [],
   "source": [
    "class ThreeLayerNet:\n",
    "    \"\"\"\n",
    "    Class for neutral net with three layers\n",
    "    \"\"\"\n",
    "\n",
    "    def __init__(self, neuron_numb, steps, learning_rate):\n",
    "        self.learning_rate = learning_rate\n",
    "        self.steps = steps\n",
    "        self.neuron_numb = neuron_numb\n",
    "        self.w0 = (1, 1)\n",
    "        self.w1 = (1, 1)\n",
    "        self.w2 = (1, 1)\n",
    "        self.fit_flag = False\n",
    "\n",
    "    # сигмоида и ее производная\n",
    "    @staticmethod\n",
    "    def act_func(var):\n",
    "        return 1 / (1 + np.exp(-var))\n",
    "\n",
    "    @staticmethod\n",
    "    def act_func_deriv(var):\n",
    "        return var * (1 - var)\n",
    "\n",
    "    def fit(self, X_train, y_train):\n",
    "        self.fit_flag = True\n",
    "        # присваевание случайных весов\n",
    "        self.w0 = 2 * np.random.random((X_train.shape[1], self.neuron_numb)) - 1  # для входного слоя\n",
    "        self.w1 = 2 * np.random.random((self.neuron_numb, self.neuron_numb)) - 1  # для внутреннего слоя\n",
    "        self.w2 = 2 * np.random.random((self.neuron_numb, y_train.shape[1])) - 1  # для крайнего слоя\n",
    "\n",
    "        # процесс обучения\n",
    "        accuracy = 0\n",
    "        for i in range(self.steps):\n",
    "            # прямое распространение(feed forward)\n",
    "            layer0 = X_train\n",
    "            layer1 = self.act_func(np.dot(layer0, self.w0))\n",
    "            layer2 = self.act_func(np.dot(layer1, self.w1))\n",
    "            layer3 = self.act_func(np.dot(layer2, self.w2))\n",
    "\n",
    "            # обратное распространение(back propagation) с использованием градиентного спуска\n",
    "            layer3_error = y_train - layer3  # производная функции потерь = производная квадратичных потерь\n",
    "            layer3_delta = layer3_error * self.act_func_deriv(layer3)\n",
    "            \n",
    "            layer2_error = layer3_delta.dot(self.w2.T)\n",
    "            layer2_delta = layer2_error * self.act_func_deriv(layer2)\n",
    "\n",
    "            layer1_error = layer2_delta.dot(self.w1.T)\n",
    "            layer1_delta = layer1_error * self.act_func_deriv(layer1)\n",
    "            \n",
    "            # коррекция\n",
    "            self.w2 += layer2.T.dot(layer3_delta) * self.learning_rate\n",
    "            self.w1 += layer1.T.dot(layer2_delta) * self.learning_rate\n",
    "            self.w0 += layer0.T.dot(layer1_delta) * self.learning_rate\n",
    "            \n",
    "            # метрика модели\n",
    "            error = np.mean(np.abs(layer3_error))\n",
    "            accuracy = (1 - error) * 100\n",
    "\n",
    "        return accuracy\n",
    "\n",
    "    def predict(self, X_test, y_test):\n",
    "        if self.fit_flag:\n",
    "            # прямое распространение(feed forward)\n",
    "            layer0_t = X_test\n",
    "            layer1_t = self.act_func(np.dot(layer0_t, self.w0))\n",
    "            layer2_t = self.act_func(np.dot(layer1_t, self.w1))\n",
    "            layer3_t = self.act_func(np.dot(layer2_t, self.w2))\n",
    "            layer3_error_t = y_test - layer3_t\n",
    "\n",
    "            # метрика модели\n",
    "            error_t = np.mean(np.abs(layer3_error_t))\n",
    "            accuracy_t = (1 - error_t) * 100\n",
    "        else:\n",
    "            accuracy_t = None\n",
    "\n",
    "        return accuracy_t"
   ]
  },
  {
   "cell_type": "markdown",
   "id": "8590db71",
   "metadata": {
    "ExecuteTime": {
     "end_time": "2021-12-02T16:03:45.564000Z",
     "start_time": "2021-12-02T16:03:45.559000Z"
    }
   },
   "source": [
    "# Подготовка тренировочных данных"
   ]
  },
  {
   "cell_type": "code",
   "execution_count": 43,
   "id": "5a583591",
   "metadata": {
    "ExecuteTime": {
     "end_time": "2021-12-02T16:04:04.750293Z",
     "start_time": "2021-12-02T16:04:04.735317Z"
    }
   },
   "outputs": [],
   "source": [
    "\n",
    "# получения данных из csv файла. укажите здесь путь к файлу Iris.csv\n",
    "iris_data = pd.read_csv(\"Iris.csv\")\n",
    "\n",
    "# замена текстовых значений на цифровые\n",
    "iris_data['Species'].replace(['Iris-setosa', 'Iris-virginica', 'Iris-versicolor'], [0, 1, 2], inplace=True)\n",
    "\n",
    "# формирование входных данных\n",
    "columns = ['SepalLengthCm', 'SepalWidthCm', 'PetalLengthCm', 'PetalWidthCm']\n",
    "x = pd.DataFrame(iris_data, columns=columns)\n",
    "x = normalize(x.values)\n",
    "\n",
    "# формирование выходных данных(результатов)\n",
    "columns = ['Species']\n",
    "y = pd.DataFrame(iris_data, columns=columns)\n",
    "y = y.values\n",
    "y = y.flatten()\n",
    "y = to_one_hot(y)\n",
    "\n",
    "# Разделение данных на тренировочные и тестовые\n",
    "X_train, X_test, y_train, y_test = train_test_split(x, y, test_size=0.33)"
   ]
  },
  {
   "cell_type": "markdown",
   "id": "6cd31ede",
   "metadata": {},
   "source": [
    "# Расчет сети"
   ]
  },
  {
   "cell_type": "markdown",
   "id": "3f74ad0c",
   "metadata": {},
   "source": [
    "## Расчет сети на 2 слоя"
   ]
  },
  {
   "cell_type": "code",
   "execution_count": 44,
   "id": "ae220428",
   "metadata": {
    "ExecuteTime": {
     "end_time": "2021-12-02T16:04:11.851661Z",
     "start_time": "2021-12-02T16:04:11.791659Z"
    }
   },
   "outputs": [
    {
     "name": "stdout",
     "output_type": "stream",
     "text": [
      "Точность сети на трейне 90.23332880285507\n"
     ]
    }
   ],
   "source": [
    "net = TwoLayerNet(5, 1000, 0.05)\n",
    "acc_train = net.fit(X_train, y_train)\n",
    "print(f\"Точность сети на трейне {acc_train}\")"
   ]
  },
  {
   "cell_type": "markdown",
   "id": "c6577ea5",
   "metadata": {},
   "source": [
    "## Расчет сети на 3 слоя"
   ]
  },
  {
   "cell_type": "code",
   "execution_count": 45,
   "id": "6168222b",
   "metadata": {
    "ExecuteTime": {
     "end_time": "2021-12-02T16:05:12.977827Z",
     "start_time": "2021-12-02T16:05:12.886832Z"
    }
   },
   "outputs": [
    {
     "name": "stdout",
     "output_type": "stream",
     "text": [
      "Точность сети на трейне 92.9075088631859\n"
     ]
    }
   ],
   "source": [
    "net = ThreeLayerNet(5, 1000, 0.05)\n",
    "acc_train = net.fit(X_train, y_train)\n",
    "print(f\"Точность сети на трейне {acc_train}\")"
   ]
  },
  {
   "cell_type": "markdown",
   "id": "1f608839",
   "metadata": {},
   "source": [
    "# Влияние параметров на точность сети"
   ]
  },
  {
   "cell_type": "markdown",
   "id": "f6a8b0ef",
   "metadata": {},
   "source": [
    "## Влияние числа эпох и скорости обучения"
   ]
  },
  {
   "cell_type": "markdown",
   "id": "c35ecf2b",
   "metadata": {},
   "source": [
    "### Сеть на два слоя"
   ]
  },
  {
   "cell_type": "code",
   "execution_count": 37,
   "id": "0e4fe70d",
   "metadata": {
    "ExecuteTime": {
     "end_time": "2021-12-02T15:53:28.899858Z",
     "start_time": "2021-12-02T15:52:51.798899Z"
    },
    "scrolled": false
   },
   "outputs": [
    {
     "data": {
      "image/png": "[encoded data removed]",
      "text/plain": [
       "<Figure size 432x288 with 2 Axes>"
      ]
     },
     "metadata": {
      "needs_background": "light"
     },
     "output_type": "display_data"
    }
   ],
   "source": [
    "res = pd.DataFrame(columns=['steps', 'learning_rate', 'accurancy'])\n",
    "num_neurons = 10\n",
    "for learning_rate in np.arange(0.1, 0.5, 0.01):\n",
    "    for steps in np.arange(1000, 2000, 100):\n",
    "        net = TwoLayerNet(num_neurons, steps, learning_rate)\n",
    "        acc_train = net.fit(X_train, y_train)\n",
    "        res.loc[len(res)] = [steps, learning_rate, acc_train]\n",
    "\n",
    "to_heat = res.pivot('steps', 'learning_rate', 'accurancy')\n",
    "ax = sns.heatmap(to_heat)"
   ]
  },
  {
   "cell_type": "markdown",
   "id": "64b5832c",
   "metadata": {},
   "source": [
    "### Сеть на 3 слоя"
   ]
  },
  {
   "cell_type": "code",
   "execution_count": 46,
   "id": "9dde85b2",
   "metadata": {
    "ExecuteTime": {
     "end_time": "2021-12-02T16:07:31.517265Z",
     "start_time": "2021-12-02T16:06:38.448253Z"
    }
   },
   "outputs": [
    {
     "data": {
      "image/png": "[encoded data removed]",
      "text/plain": [
       "<Figure size 432x288 with 2 Axes>"
      ]
     },
     "metadata": {
      "needs_background": "light"
     },
     "output_type": "display_data"
    }
   ],
   "source": [
    "res = pd.DataFrame(columns=['steps', 'learning_rate', 'accurancy'])\n",
    "num_neurons = 10\n",
    "for learning_rate in np.arange(0.1, 0.5, 0.01):\n",
    "    for steps in np.arange(1000, 2000, 100):\n",
    "        net = ThreeLayerNet(num_neurons, steps, learning_rate)\n",
    "        acc_train = net.fit(X_train, y_train)\n",
    "        res.loc[len(res)] = [steps, learning_rate, acc_train]\n",
    "\n",
    "to_heat = res.pivot('steps', 'learning_rate', 'accurancy')\n",
    "ax = sns.heatmap(to_heat)"
   ]
  },
  {
   "cell_type": "markdown",
   "id": "7c34860a",
   "metadata": {},
   "source": [
    "## Влияние числа нейронов в слое и скорости обучения"
   ]
  },
  {
   "cell_type": "markdown",
   "id": "f4becb23",
   "metadata": {},
   "source": [
    "### Сеть на два слоя"
   ]
  },
  {
   "cell_type": "code",
   "execution_count": 49,
   "id": "87bc284d",
   "metadata": {
    "ExecuteTime": {
     "end_time": "2021-12-02T16:15:53.727535Z",
     "start_time": "2021-12-02T16:15:13.414371Z"
    }
   },
   "outputs": [
    {
     "data": {
      "image/png": "[encoded data removed]",
      "text/plain": [
       "<Figure size 432x288 with 2 Axes>"
      ]
     },
     "metadata": {
      "needs_background": "light"
     },
     "output_type": "display_data"
    }
   ],
   "source": [
    "res = pd.DataFrame(columns=['num_neurons', 'learning_rate', 'accurancy'])\n",
    "steps = 1000\n",
    "for learning_rate in np.arange(0.1, 0.5, 0.01):\n",
    "    for num_neurons in np.arange(5, 20, 1):\n",
    "        net = TwoLayerNet(num_neurons, steps, learning_rate)\n",
    "        acc_train = net.fit(X_train, y_train)\n",
    "        res.loc[len(res)] = [num_neurons, learning_rate, acc_train]\n",
    "\n",
    "to_heat = res.pivot('num_neurons', 'learning_rate', 'accurancy')\n",
    "ax = sns.heatmap(to_heat)"
   ]
  },
  {
   "cell_type": "markdown",
   "id": "bf10f492",
   "metadata": {},
   "source": [
    "### Сеть на 3 слоя"
   ]
  },
  {
   "cell_type": "code",
   "execution_count": 48,
   "id": "f28d6d24",
   "metadata": {
    "ExecuteTime": {
     "end_time": "2021-12-02T16:15:13.412473Z",
     "start_time": "2021-12-02T16:14:32.674371Z"
    }
   },
   "outputs": [
    {
     "data": {
      "image/png": "[encoded data removed]",
      "text/plain": [
       "<Figure size 432x288 with 2 Axes>"
      ]
     },
     "metadata": {
      "needs_background": "light"
     },
     "output_type": "display_data"
    }
   ],
   "source": [
    "res = pd.DataFrame(columns=['num_neurons', 'learning_rate', 'accurancy'])\n",
    "steps = 1000\n",
    "for learning_rate in np.arange(0.1, 0.5, 0.01):\n",
    "    for num_neurons in np.arange(5, 20, 1):\n",
    "        net = TwoLayerNet(num_neurons, steps, learning_rate)\n",
    "        acc_train = net.fit(X_train, y_train)\n",
    "        res.loc[len(res)] = [num_neurons, learning_rate, acc_train]\n",
    "\n",
    "to_heat = res.pivot('num_neurons', 'learning_rate', 'accurancy')\n",
    "ax = sns.heatmap(to_heat)"
   ]
  },
  {
   "cell_type": "code",
   "execution_count": null,
   "id": "c4b080cc",
   "metadata": {},
   "outputs": [],
   "source": []
  }
 ],
 "metadata": {
  "kernelspec": {
   "display_name": "Python 3 (ipykernel)",
   "language": "python",
   "name": "python3"
  },
  "language_info": {
   "codemirror_mode": {
    "name": "ipython",
    "version": 3
   },
   "file_extension": ".py",
   "mimetype": "text/x-python",
   "name": "python",
   "nbconvert_exporter": "python",
   "pygments_lexer": "ipython3",
   "version": "3.8.11"
  },
  "toc": {
   "base_numbering": 1,
   "nav_menu": {},
   "number_sections": true,
   "sideBar": true,
   "skip_h1_title": false,
   "title_cell": "Table of Contents",
   "title_sidebar": "Contents",
   "toc_cell": false,
   "toc_position": {},
   "toc_section_display": true,
   "toc_window_display": false
  }
 },
 "nbformat": 4,
 "nbformat_minor": 5
}
