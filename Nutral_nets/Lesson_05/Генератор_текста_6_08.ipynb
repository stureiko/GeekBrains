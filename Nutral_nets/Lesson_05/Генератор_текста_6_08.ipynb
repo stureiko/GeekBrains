{
  "nbformat": 4,
  "nbformat_minor": 0,
  "metadata": {
    "colab": {
      "name": "Генератор_текста.ipynb",
      "provenance": [],
      "collapsed_sections": []
    },
    "kernelspec": {
      "name": "python3",
      "display_name": "Python 3"
    }
  },
  "cells": [
    {
      "cell_type": "markdown",
      "metadata": {
        "id": "glKIcvbYlUUE"
      },
      "source": [
        "Читаем библиотеки"
      ]
    },
    {
      "cell_type": "code",
      "metadata": {
        "id": "BOwsuGQQY9OL"
      },
      "source": [
        "from tensorflow.keras.preprocessing.sequence import pad_sequences\n",
        "from tensorflow.keras.layers import Embedding, LSTM, Dense, Dropout, Bidirectional\n",
        "from tensorflow.keras.preprocessing.text import Tokenizer\n",
        "from tensorflow.keras.models import Sequential\n",
        "from tensorflow.keras.optimizers import Adam\n",
        "from tensorflow.keras import regularizers\n",
        "import tensorflow.keras.utils as ku \n",
        "import numpy as np "
      ],
      "execution_count": 1,
      "outputs": []
    },
    {
      "cell_type": "code",
      "metadata": {
        "id": "o_-o-ECeV__M"
      },
      "source": [
        "from tensorflow.keras.callbacks import EarlyStopping"
      ],
      "execution_count": 2,
      "outputs": []
    },
    {
      "cell_type": "markdown",
      "metadata": {
        "id": "xx65KF8YiubY"
      },
      "source": [
        "Разбор текста - Токенизация"
      ]
    },
    {
      "cell_type": "code",
      "metadata": {
        "id": "-6b4_D1DUPQV",
        "colab": {
          "base_uri": "https://localhost:8080/"
        },
        "outputId": "58049054-7eda-4af9-8ca7-2c37b2cb3224"
      },
      "source": [
        "# Создаем объект для токенизапции\n",
        "tokenizer = Tokenizer(    num_words=10000)\n",
        "!wget --no-check-certificate \\\n",
        "    https://storage.googleapis.com/laurencemoroney-blog.appspot.com/sonnets.txt \\\n",
        "    -O /tmp/sonnets.txt\n",
        "data = open('/tmp/sonnets.txt').read()\n",
        "#Читаем текст\n",
        "corpus = data.lower().split(\"\\n\")"
      ],
      "execution_count": 3,
      "outputs": [
        {
          "output_type": "stream",
          "text": [
            "--2021-08-06 15:41:10--  https://storage.googleapis.com/laurencemoroney-blog.appspot.com/sonnets.txt\n",
            "Resolving storage.googleapis.com (storage.googleapis.com)... 74.125.142.128, 74.125.195.128, 2607:f8b0:400e:c09::80, ...\n",
            "Connecting to storage.googleapis.com (storage.googleapis.com)|74.125.142.128|:443... connected.\n",
            "HTTP request sent, awaiting response... 200 OK\n",
            "Length: 93578 (91K) [text/plain]\n",
            "Saving to: ‘/tmp/sonnets.txt’\n",
            "\n",
            "\r/tmp/sonnets.txt      0%[                    ]       0  --.-KB/s               \r/tmp/sonnets.txt    100%[===================>]  91.38K  --.-KB/s    in 0.001s  \n",
            "\n",
            "2021-08-06 15:41:10 (108 MB/s) - ‘/tmp/sonnets.txt’ saved [93578/93578]\n",
            "\n"
          ],
          "name": "stdout"
        }
      ]
    },
    {
      "cell_type": "code",
      "metadata": {
        "id": "h8AtaI3FUUXf",
        "colab": {
          "base_uri": "https://localhost:8080/"
        },
        "outputId": "f8af4934-0699-4284-ffa2-629557658c9e"
      },
      "source": [
        "corpus[:10]"
      ],
      "execution_count": 4,
      "outputs": [
        {
          "output_type": "execute_result",
          "data": {
            "text/plain": [
              "['from fairest creatures we desire increase,',\n",
              " \"that thereby beauty's rose might never die,\",\n",
              " 'but as the riper should by time decease,',\n",
              " 'his tender heir might bear his memory:',\n",
              " 'but thou, contracted to thine own bright eyes,',\n",
              " \"feed'st thy light'st flame with self-substantial fuel,\",\n",
              " 'making a famine where abundance lies,',\n",
              " 'thyself thy foe, to thy sweet self too cruel.',\n",
              " \"thou that art now the world's fresh ornament\",\n",
              " 'and only herald to the gaudy spring,']"
            ]
          },
          "metadata": {
            "tags": []
          },
          "execution_count": 4
        }
      ]
    },
    {
      "cell_type": "markdown",
      "metadata": {
        "id": "kvj2zIe-jF2D"
      },
      "source": [
        "Исполним токенизацию и кодирование"
      ]
    },
    {
      "cell_type": "code",
      "metadata": {
        "id": "PRnDnCW-Z7qv"
      },
      "source": [
        "tokenizer.fit_on_texts( corpus)\n",
        "total_words = len(tokenizer.word_index) + 1\n",
        "\n",
        "# create input sequences using list of tokens\n",
        "input_sequences = []\n",
        "for line in corpus:\n",
        "\ttoken_list = tokenizer.texts_to_sequences([line])[0]\n",
        "\tfor i in range(1, len(token_list)):\n",
        "\t\tn_gram_sequence = token_list[:i+1]\n",
        "\t\tinput_sequences.append(n_gram_sequence)\n",
        "\n",
        "\n",
        "# pad sequences \n",
        "max_sequence_len = max([len(x) for x in input_sequences])\n",
        "input_sequences = np.array(pad_sequences(input_sequences, maxlen=max_sequence_len, padding='pre'))\n",
        "\n",
        "# create predictors and label\n",
        "predictors, label = input_sequences[:,:-1],input_sequences[:,-1]\n",
        "\n",
        "label = ku.to_categorical(label, num_classes=total_words)"
      ],
      "execution_count": 5,
      "outputs": []
    },
    {
      "cell_type": "code",
      "metadata": {
        "colab": {
          "base_uri": "https://localhost:8080/"
        },
        "id": "LSGhbRqt8tim",
        "outputId": "e61a7304-5ce1-4a06-ff49-2911441f7596"
      },
      "source": [
        "token_list"
      ],
      "execution_count": 6,
      "outputs": [
        {
          "output_type": "execute_result",
          "data": {
            "text/plain": [
              "[]"
            ]
          },
          "metadata": {
            "tags": []
          },
          "execution_count": 6
        }
      ]
    },
    {
      "cell_type": "code",
      "metadata": {
        "id": "zMuJEMRCiA_0",
        "colab": {
          "base_uri": "https://localhost:8080/",
          "height": 35
        },
        "outputId": "a6a68d50-21b8-488c-a078-c93667ba1c52"
      },
      "source": [
        "tokenizer.index_word[10]"
      ],
      "execution_count": 7,
      "outputs": [
        {
          "output_type": "execute_result",
          "data": {
            "application/vnd.google.colaboratory.intrinsic+json": {
              "type": "string"
            },
            "text/plain": [
              "'thou'"
            ]
          },
          "metadata": {
            "tags": []
          },
          "execution_count": 7
        }
      ]
    },
    {
      "cell_type": "code",
      "metadata": {
        "id": "GBEiqyoQhlEd",
        "colab": {
          "base_uri": "https://localhost:8080/"
        },
        "outputId": "9f5d9ca9-8bdc-4548-831b-4685c38d8cba"
      },
      "source": [
        "tokenizer.word_index['love']"
      ],
      "execution_count": 8,
      "outputs": [
        {
          "output_type": "execute_result",
          "data": {
            "text/plain": [
              "14"
            ]
          },
          "metadata": {
            "tags": []
          },
          "execution_count": 8
        }
      ]
    },
    {
      "cell_type": "code",
      "metadata": {
        "id": "KRj9wFSMhdWQ",
        "colab": {
          "base_uri": "https://localhost:8080/"
        },
        "outputId": "1c65196f-7f00-48a0-939b-1c95d5725188"
      },
      "source": [
        "input_sequences[11:15,:]"
      ],
      "execution_count": 9,
      "outputs": [
        {
          "output_type": "execute_result",
          "data": {
            "text/plain": [
              "array([[  0,   0,   0,   0,   0,   0,   0,   0,   0,  16,  22],\n",
              "       [  0,   0,   0,   0,   0,   0,   0,   0,  16,  22,   2],\n",
              "       [  0,   0,   0,   0,   0,   0,   0,  16,  22,   2, 879],\n",
              "       [  0,   0,   0,   0,   0,   0,  16,  22,   2, 879,  61]],\n",
              "      dtype=int32)"
            ]
          },
          "metadata": {
            "tags": []
          },
          "execution_count": 9
        }
      ]
    },
    {
      "cell_type": "code",
      "metadata": {
        "id": "oEBa1IEtghmP",
        "colab": {
          "base_uri": "https://localhost:8080/"
        },
        "outputId": "cf140f0f-ef04-4a68-919b-68ef904dae12"
      },
      "source": [
        "label.shape"
      ],
      "execution_count": 10,
      "outputs": [
        {
          "output_type": "execute_result",
          "data": {
            "text/plain": [
              "(15462, 3211)"
            ]
          },
          "metadata": {
            "tags": []
          },
          "execution_count": 10
        }
      ]
    },
    {
      "cell_type": "markdown",
      "metadata": {
        "id": "0ZMOORKCjpUU"
      },
      "source": [
        "Создаем сеть"
      ]
    },
    {
      "cell_type": "code",
      "metadata": {
        "id": "_UgOcPDkVlV8"
      },
      "source": [
        "callback = EarlyStopping(monitor='val_loss', patience=10) # создаем обратный вызов - calback - тут \"Ранний останов\""
      ],
      "execution_count": 11,
      "outputs": []
    },
    {
      "cell_type": "code",
      "metadata": {
        "id": "w9vH8Y59ajYL",
        "colab": {
          "base_uri": "https://localhost:8080/"
        },
        "outputId": "53257b0e-5753-465c-d450-c17bfd0ff832"
      },
      "source": [
        "model = Sequential()\n",
        "model.add(Embedding(total_words, 256, input_length=max_sequence_len-1))  # вложение тренируемое для перехода от слова к его векторному коду \n",
        "# на вход вложения (эмбединга) передаем вектор словарь (длина равна словарю, вектор разреженный)), на выход строим вектор из n (тут 256) координат - он плотный\n",
        "#model.add(Bidirectional(LSTM(50, return_sequences = True)))\n",
        "\n",
        "model.add(LSTM(128))\n",
        "model.add(Dropout( 0.2))\n",
        "model.add(Dense(total_words/2, activation='relu', kernel_regularizer=regularizers.l2(0.01)))\n",
        "model.add(Dense(total_words, activation='softmax'))\n",
        "model.compile(loss='categorical_crossentropy', optimizer='adam', metrics=['accuracy'])\n",
        "print(model.summary())\n"
      ],
      "execution_count": 41,
      "outputs": [
        {
          "output_type": "stream",
          "text": [
            "Model: \"sequential_3\"\n",
            "_________________________________________________________________\n",
            "Layer (type)                 Output Shape              Param #   \n",
            "=================================================================\n",
            "embedding_3 (Embedding)      (None, 10, 256)           822016    \n",
            "_________________________________________________________________\n",
            "lstm_3 (LSTM)                (None, 128)               197120    \n",
            "_________________________________________________________________\n",
            "dropout_3 (Dropout)          (None, 128)               0         \n",
            "_________________________________________________________________\n",
            "dense_6 (Dense)              (None, 1605)              207045    \n",
            "_________________________________________________________________\n",
            "dense_7 (Dense)              (None, 3211)              5156866   \n",
            "=================================================================\n",
            "Total params: 6,383,047\n",
            "Trainable params: 6,383,047\n",
            "Non-trainable params: 0\n",
            "_________________________________________________________________\n",
            "None\n"
          ],
          "name": "stdout"
        }
      ]
    },
    {
      "cell_type": "code",
      "metadata": {
        "id": "AIg2f1HBxqof",
        "colab": {
          "base_uri": "https://localhost:8080/"
        },
        "outputId": "1382fdba-0404-4d5a-80c8-4a91d6eca4a4"
      },
      "source": [
        " history = model.fit(predictors, label, epochs=100, validation_split=0.2, callbacks=[callback],verbose=1)"
      ],
      "execution_count": 54,
      "outputs": [
        {
          "output_type": "stream",
          "text": [
            "Epoch 1/100\n",
            "387/387 [==============================] - 36s 94ms/step - loss: 5.2642 - accuracy: 0.0843 - val_loss: 8.5030 - val_accuracy: 0.0346\n",
            "Epoch 2/100\n",
            "387/387 [==============================] - 37s 95ms/step - loss: 5.1428 - accuracy: 0.0937 - val_loss: 8.7755 - val_accuracy: 0.0365\n",
            "Epoch 3/100\n",
            "387/387 [==============================] - 37s 95ms/step - loss: 5.0292 - accuracy: 0.1055 - val_loss: 8.9461 - val_accuracy: 0.0352\n",
            "Epoch 4/100\n",
            "387/387 [==============================] - 36s 94ms/step - loss: 4.9117 - accuracy: 0.1144 - val_loss: 9.1646 - val_accuracy: 0.0401\n",
            "Epoch 5/100\n",
            "387/387 [==============================] - 37s 94ms/step - loss: 4.7895 - accuracy: 0.1282 - val_loss: 9.5370 - val_accuracy: 0.0352\n",
            "Epoch 6/100\n",
            "387/387 [==============================] - 36s 93ms/step - loss: 4.6701 - accuracy: 0.1360 - val_loss: 9.6711 - val_accuracy: 0.0385\n",
            "Epoch 7/100\n",
            "387/387 [==============================] - 36s 93ms/step - loss: 4.5447 - accuracy: 0.1556 - val_loss: 10.2329 - val_accuracy: 0.0317\n",
            "Epoch 8/100\n",
            "387/387 [==============================] - 36s 93ms/step - loss: 4.4268 - accuracy: 0.1654 - val_loss: 10.4019 - val_accuracy: 0.0301\n",
            "Epoch 9/100\n",
            "387/387 [==============================] - 39s 101ms/step - loss: 4.3033 - accuracy: 0.1796 - val_loss: 10.7665 - val_accuracy: 0.0317\n",
            "Epoch 10/100\n",
            "387/387 [==============================] - 41s 105ms/step - loss: 4.1827 - accuracy: 0.1964 - val_loss: 11.2171 - val_accuracy: 0.0336\n",
            "Epoch 11/100\n",
            "387/387 [==============================] - 40s 105ms/step - loss: 4.0568 - accuracy: 0.2132 - val_loss: 11.5652 - val_accuracy: 0.0343\n"
          ],
          "name": "stdout"
        }
      ]
    },
    {
      "cell_type": "markdown",
      "metadata": {
        "id": "qdhjEfBElNMC"
      },
      "source": [
        "Тест\n"
      ]
    },
    {
      "cell_type": "code",
      "metadata": {
        "id": "1fXTEO3GJ282",
        "colab": {
          "base_uri": "https://localhost:8080/",
          "height": 545
        },
        "outputId": "eba82c13-55ee-4cab-afd4-a2f8a3d8bdfe"
      },
      "source": [
        "import matplotlib.pyplot as plt\n",
        "acc = history.history['accuracy']\n",
        "acc_v = history.history['val_accuracy']\n",
        "loss = history.history['loss']\n",
        "loss_v = history.history['val_loss']\n",
        "\n",
        "epochs = range(len(acc))\n",
        "\n",
        "plt.plot(epochs, acc, 'b', label='Train')\n",
        "plt.plot(epochs, acc_v, 'r', label='Test')\n",
        "plt.legend()\n",
        "plt.title('accuracy')\n",
        "\n",
        "plt.figure()\n",
        "\n",
        "plt.plot(epochs, loss, 'b', label='Train')\n",
        "plt.plot(epochs, loss_v, 'r', label='Test')\n",
        "plt.title('loss')\n",
        "plt.legend()\n",
        "\n",
        "plt.show()"
      ],
      "execution_count": 43,
      "outputs": [
        {
          "output_type": "display_data",
          "data": {
            "image/png": "[encoded data removed]",
            "text/plain": [
              "<Figure size 432x288 with 1 Axes>"
            ]
          },
          "metadata": {
            "tags": [],
            "needs_background": "light"
          }
        },
        {
          "output_type": "display_data",
          "data": {
            "image/png": "[encoded data removed]",
            "text/plain": [
              "<Figure size 432x288 with 1 Axes>"
            ]
          },
          "metadata": {
            "tags": [],
            "needs_background": "light"
          }
        }
      ]
    },
    {
      "cell_type": "markdown",
      "metadata": {
        "id": "RxYwdExpNgLW"
      },
      "source": [
        "Строим тест генератора"
      ]
    },
    {
      "cell_type": "code",
      "metadata": {
        "id": "6Vc6PHgxa6Hm",
        "colab": {
          "base_uri": "https://localhost:8080/"
        },
        "outputId": "825da67b-46d8-44b3-8c3b-a4cdd4add1c7"
      },
      "source": [
        "# начальная строка\n",
        "seed_text = \"Help me Obi Wan Kenobi, you're my only hope\"\n",
        "#seed_text = \"She is my girl, I see in\"\n",
        "next_words = 15\n",
        "# строим последовательность + новое предсказание  \n",
        "for _ in range(next_words):\n",
        "  # текущая последовательность (токенизация и дополнение)\n",
        "\ttoken_list = tokenizer.texts_to_sequences([seed_text])[0]\n",
        "\tprint(token_list)\n",
        "\ttoken_list = pad_sequences([token_list], maxlen=max_sequence_len-1, padding='pre')\n",
        "  # делаем предсказание (сразу как индекс класса - у нас 1 из 3211)\n",
        "\tpredicted = model.predict_classes(token_list, verbose=0)\n",
        "  # \n",
        "\toutput_word = \"\"\n",
        "\t# добавим новое слово в последовательность\n",
        "\tfor word, index in tokenizer.word_index.items():\n",
        "\t\tif index == predicted:\n",
        "\t\t\toutput_word = word\n",
        "\t\t\tbreak\n",
        "\tseed_text += \" \" + output_word\n",
        "print(seed_text)"
      ],
      "execution_count": 55,
      "outputs": [
        {
          "output_type": "stream",
          "text": [
            "[591, 18, 5, 352, 393]\n",
            "[591, 18, 5, 352, 393, 32]\n",
            "[591, 18, 5, 352, 393, 32, 170]\n",
            "[591, 18, 5, 352, 393, 32, 170, 3]\n",
            "[591, 18, 5, 352, 393, 32, 170, 3, 212]\n"
          ],
          "name": "stdout"
        },
        {
          "output_type": "stream",
          "text": [
            "/usr/local/lib/python3.7/dist-packages/tensorflow/python/keras/engine/sequential.py:455: UserWarning: `model.predict_classes()` is deprecated and will be removed after 2021-01-01. Please use instead:* `np.argmax(model.predict(x), axis=-1)`,   if your model does multi-class classification   (e.g. if it uses a `softmax` last-layer activation).* `(model.predict(x) > 0.5).astype(\"int32\")`,   if your model does binary classification   (e.g. if it uses a `sigmoid` last-layer activation).\n",
            "  warnings.warn('`model.predict_classes()` is deprecated and '\n"
          ],
          "name": "stderr"
        },
        {
          "output_type": "stream",
          "text": [
            "[591, 18, 5, 352, 393, 32, 170, 3, 212, 145]\n",
            "[591, 18, 5, 352, 393, 32, 170, 3, 212, 145, 386]\n",
            "[591, 18, 5, 352, 393, 32, 170, 3, 212, 145, 386, 165]\n",
            "[591, 18, 5, 352, 393, 32, 170, 3, 212, 145, 386, 165, 196]\n",
            "[591, 18, 5, 352, 393, 32, 170, 3, 212, 145, 386, 165, 196, 206]\n",
            "[591, 18, 5, 352, 393, 32, 170, 3, 212, 145, 386, 165, 196, 206, 736]\n",
            "[591, 18, 5, 352, 393, 32, 170, 3, 212, 145, 386, 165, 196, 206, 736, 411]\n",
            "[591, 18, 5, 352, 393, 32, 170, 3, 212, 145, 386, 165, 196, 206, 736, 411, 411]\n",
            "[591, 18, 5, 352, 393, 32, 170, 3, 212, 145, 386, 165, 196, 206, 736, 411, 411, 736]\n",
            "[591, 18, 5, 352, 393, 32, 170, 3, 212, 145, 386, 165, 196, 206, 736, 411, 411, 736, 736]\n",
            "Help me Obi Wan Kenobi, you're my only hope doth youth to woe days wrong dead lie kind survey spent spent survey survey survey\n"
          ],
          "name": "stdout"
        }
      ]
    },
    {
      "cell_type": "markdown",
      "metadata": {
        "id": "Z3frltcvNEKh"
      },
      "source": [
        "То что видим = зацикливание после 3-го добавленного слова (survey)\n",
        "\n",
        "\n",
        "Посмотрим на предсказание через вероятные ответы (не олно слово имеет большую вероятность)"
      ]
    },
    {
      "cell_type": "code",
      "metadata": {
        "id": "sblwgu02M4OA"
      },
      "source": [
        "y_p=model.predict(token_list)"
      ],
      "execution_count": 56,
      "outputs": []
    },
    {
      "cell_type": "code",
      "metadata": {
        "id": "nG0XtgeLgkie",
        "colab": {
          "base_uri": "https://localhost:8080/",
          "height": 295
        },
        "outputId": "c255ce49-08fd-4908-a15a-0095af99793c"
      },
      "source": [
        "plt.figure(figsize=(16,4))\n",
        "plt.plot(y_p[0,:])\n",
        "plt.xlabel('номер слова')\n",
        "plt.ylabel('вероятность слова')\n",
        "plt.title('вероятности по словам')\n",
        "plt.grid('on')\n",
        "plt.show()"
      ],
      "execution_count": 57,
      "outputs": [
        {
          "output_type": "display_data",
          "data": {
            "image/png": "[encoded data removed]",
            "text/plain": [
              "<Figure size 1152x288 with 1 Axes>"
            ]
          },
          "metadata": {
            "tags": [],
            "needs_background": "light"
          }
        }
      ]
    },
    {
      "cell_type": "code",
      "metadata": {
        "id": "ZBaCLMR-mWVg",
        "colab": {
          "base_uri": "https://localhost:8080/"
        },
        "outputId": "1f807411-e3d9-487f-f202-51a68a5ced14"
      },
      "source": [
        "ind_prob=np.where(y_p[0,:]>0.0410)[0]\n",
        "ind_prob"
      ],
      "execution_count": 60,
      "outputs": [
        {
          "output_type": "execute_result",
          "data": {
            "text/plain": [
              "array([361, 411, 736])"
            ]
          },
          "metadata": {
            "tags": []
          },
          "execution_count": 60
        }
      ]
    },
    {
      "cell_type": "code",
      "metadata": {
        "id": "rUVav3Pf0kqn",
        "colab": {
          "base_uri": "https://localhost:8080/"
        },
        "outputId": "62627d6f-7049-4b58-c939-ef544a4b3ec5"
      },
      "source": [
        "for i,ind in enumerate(ind_prob.tolist()):\n",
        "  print(tokenizer.index_word[ind], ' : ', y_p[0,ind])"
      ],
      "execution_count": 61,
      "outputs": [
        {
          "output_type": "stream",
          "text": [
            "light  :  0.0571222\n",
            "spent  :  0.043461457\n",
            "survey  :  0.0635275\n"
          ],
          "name": "stdout"
        }
      ]
    },
    {
      "cell_type": "code",
      "metadata": {
        "id": "q8alxdYvQtCr",
        "colab": {
          "base_uri": "https://localhost:8080/"
        },
        "outputId": "caa5eb2a-de19-4708-dcf3-df68b2fc53cd"
      },
      "source": [
        "seed_text = \"Help me Obi Wan Kenobi, you're my only hope\"\n",
        "#seed_text = \"She is my girl, I see in\"\n",
        "next_words = 15\n",
        "  \n",
        "for _ in range(next_words):\n",
        "  token_list = tokenizer.texts_to_sequences([seed_text])[0]\n",
        "  print(token_list)\n",
        "  token_list = pad_sequences([token_list], maxlen=max_sequence_len-1, padding='pre')\n",
        "  #predicted = model.predict_classes(token_list, verbose=0)\n",
        "  output_word = \"\"\n",
        "  y_p=model.predict(token_list)\n",
        "  y_predict = y_p * np.random.random(  size = (1,y_p.shape[1]))\n",
        "  predicted_ind = np.argmax(y_predict,axis = 1)\n",
        "  for word, index in tokenizer.word_index.items():\n",
        "    if index == predicted_ind:\n",
        "      output_word = word\n",
        "      break\n",
        "  seed_text += \" \" + output_word\n",
        "print(seed_text)"
      ],
      "execution_count": 63,
      "outputs": [
        {
          "output_type": "stream",
          "text": [
            "[591, 18, 5, 352, 393]\n",
            "[591, 18, 5, 352, 393, 32]\n",
            "[591, 18, 5, 352, 393, 32, 110]\n",
            "[591, 18, 5, 352, 393, 32, 110, 18]\n",
            "[591, 18, 5, 352, 393, 32, 110, 18, 165]\n",
            "[591, 18, 5, 352, 393, 32, 110, 18, 165, 123]\n",
            "[591, 18, 5, 352, 393, 32, 110, 18, 165, 123, 251]\n",
            "[591, 18, 5, 352, 393, 32, 110, 18, 165, 123, 251, 98]\n",
            "[591, 18, 5, 352, 393, 32, 110, 18, 165, 123, 251, 98, 97]\n",
            "[591, 18, 5, 352, 393, 32, 110, 18, 165, 123, 251, 98, 97, 98]\n",
            "[591, 18, 5, 352, 393, 32, 110, 18, 165, 123, 251, 98, 97, 98, 119]\n",
            "[591, 18, 5, 352, 393, 32, 110, 18, 165, 123, 251, 98, 97, 98, 119, 33]\n",
            "[591, 18, 5, 352, 393, 32, 110, 18, 165, 123, 251, 98, 97, 98, 119, 33, 21]\n",
            "[591, 18, 5, 352, 393, 32, 110, 18, 165, 123, 251, 98, 97, 98, 119, 33, 21, 261]\n",
            "[591, 18, 5, 352, 393, 32, 110, 18, 165, 123, 251, 98, 97, 98, 119, 33, 21, 261, 23]\n",
            "Help me Obi Wan Kenobi, you're my only hope doth show me dead ill deeds new day new must do be gone all me\n"
          ],
          "name": "stdout"
        }
      ]
    },
    {
      "cell_type": "markdown",
      "metadata": {
        "id": "EpIvOvSQLsKF"
      },
      "source": [
        "\"Помогите мне, Оби Ван Кеноби, ты моя единственная надежда, покажи мне смертельные злые дела, новый день, новый день должен уйти, все я\""
      ]
    },
    {
      "cell_type": "code",
      "metadata": {
        "id": "n-M6K9YfLusE"
      },
      "source": [
        ""
      ],
      "execution_count": null,
      "outputs": []
    }
  ]
}