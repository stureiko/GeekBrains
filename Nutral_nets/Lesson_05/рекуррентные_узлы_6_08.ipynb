{
  "nbformat": 4,
  "nbformat_minor": 0,
  "metadata": {
    "accelerator": "GPU",
    "colab": {
      "name": "рекуррентные_узлы.ipynb",
      "provenance": [],
      "collapsed_sections": []
    },
    "kernelspec": {
      "display_name": "Python 3",
      "language": "python",
      "name": "python3"
    },
    "language_info": {
      "codemirror_mode": {
        "name": "ipython",
        "version": 3
      },
      "file_extension": ".py",
      "mimetype": "text/x-python",
      "name": "python",
      "nbconvert_exporter": "python",
      "pygments_lexer": "ipython3",
      "version": "3.7.3"
    }
  },
  "cells": [
    {
      "cell_type": "code",
      "metadata": {
        "id": "-VYOt8nS5OKO"
      },
      "source": [
        "import numpy as np\n",
        "import matplotlib.pyplot as plt\n",
        "%matplotlib inline"
      ],
      "execution_count": null,
      "outputs": []
    },
    {
      "cell_type": "markdown",
      "metadata": {
        "id": "1RbBDnqE0aHW"
      },
      "source": [
        "\n",
        "## LSTM\n",
        "\n",
        "Long short term memory, LSTM -  представляет собой систему глубинного обучения, при реализации которой удалось обойти проблему исчезновения или взрыва градиентов в процессе обучения методом обратного распространения ошибки. \n",
        "\n",
        "Сеть LSTM обычно модерируется с помощью рекуррентных вентилей, которые называются вентили (gates) «забывания».\n",
        "\n",
        "Ошибки распространяются назад по времени через потенциально неограниченное количество виртуальных слоёв. \n",
        "\n",
        "Таким образом происходит обучение в LSTM, при этом сохраняя память о временных интервалах в прошлого\n",
        "\n"
      ]
    },
    {
      "cell_type": "markdown",
      "metadata": {
        "id": "ebwItGJ8y6UA"
      },
      "source": [
        "https://github.com/nicodjimenez/lstm"
      ]
    },
    {
      "cell_type": "markdown",
      "metadata": {
        "id": "kvCE3k1Ty6UP"
      },
      "source": [
        "Визуализация работы LSTM http://datareview.info/article/issleduem-lstm-seti-chast-2/"
      ]
    },
    {
      "cell_type": "code",
      "metadata": {
        "id": "3Lk1YyWGax0d"
      },
      "source": [
        "from tensorflow.keras.models import Model\n",
        "from tensorflow.keras.datasets import mnist\n",
        "from tensorflow.keras.layers import Input, LSTM, concatenate, Activation, MaxPooling2D, Conv2D, BatchNormalization, Dense\n",
        "from tensorflow.keras import backend as K\n",
        "from tensorflow.keras.optimizers import Adam\n",
        "from tensorflow.keras import utils\n",
        "from google.colab import files\n",
        "import matplotlib.pyplot as plt\n",
        "from tensorflow.keras.preprocessing import image\n",
        "\n",
        "import numpy as np\n",
        "from PIL import Image\n",
        "import tensorflow as tf"
      ],
      "execution_count": null,
      "outputs": []
    },
    {
      "cell_type": "code",
      "metadata": {
        "id": "R_hm6OuZuRPe"
      },
      "source": [
        "xLen=10 ## длина истории\n",
        "n=5   ## длина вектора данных"
      ],
      "execution_count": null,
      "outputs": []
    },
    {
      "cell_type": "code",
      "metadata": {
        "id": "1T0ynzuQt0RM"
      },
      "source": [
        "x = Input(shape=(xLen,n,))\n",
        "y= LSTM(   32,return_sequences=False )(x)\n",
        "\n",
        "\n",
        "model = Model(x,y)\n",
        "model.compile(loss='mse',optimizer='Adam',metrics=['mse'])"
      ],
      "execution_count": null,
      "outputs": []
    },
    {
      "cell_type": "code",
      "metadata": {
        "id": "EOvYVBVCB0qH",
        "colab": {
          "base_uri": "https://localhost:8080/"
        },
        "outputId": "283cfc25-4b61-4041-98ff-eb518a262070"
      },
      "source": [
        "y"
      ],
      "execution_count": null,
      "outputs": [
        {
          "output_type": "execute_result",
          "data": {
            "text/plain": [
              "<KerasTensor: shape=(None, 32) dtype=float32 (created by layer 'lstm')>"
            ]
          },
          "metadata": {
            "tags": []
          },
          "execution_count": 5
        }
      ]
    },
    {
      "cell_type": "code",
      "metadata": {
        "id": "mxAcRqXCBv9j",
        "colab": {
          "base_uri": "https://localhost:8080/"
        },
        "outputId": "38dc70e7-2b12-48c9-8819-e71c99239d21"
      },
      "source": [
        "x"
      ],
      "execution_count": null,
      "outputs": [
        {
          "output_type": "execute_result",
          "data": {
            "text/plain": [
              "<KerasTensor: shape=(None, 10, 5) dtype=float32 (created by layer 'input_1')>"
            ]
          },
          "metadata": {
            "tags": []
          },
          "execution_count": 6
        }
      ]
    },
    {
      "cell_type": "code",
      "metadata": {
        "id": "NfpPa1A-uP9g",
        "colab": {
          "base_uri": "https://localhost:8080/"
        },
        "outputId": "a76f3985-ff1d-485e-df1e-085d33a0d0ee"
      },
      "source": [
        "xx = np.random.randn(1,xLen,n)\n",
        "\n",
        "y.shape,xx.shape \n"
      ],
      "execution_count": null,
      "outputs": [
        {
          "output_type": "execute_result",
          "data": {
            "text/plain": [
              "(TensorShape([None, 32]), (1, 10, 5))"
            ]
          },
          "metadata": {
            "tags": []
          },
          "execution_count": 7
        }
      ]
    },
    {
      "cell_type": "code",
      "metadata": {
        "id": "c8f8hMnQfPfK"
      },
      "source": [
        "yy = model.predict(xx)"
      ],
      "execution_count": null,
      "outputs": []
    },
    {
      "cell_type": "code",
      "metadata": {
        "colab": {
          "base_uri": "https://localhost:8080/"
        },
        "id": "97jrES0OfY7A",
        "outputId": "afc52a66-04bf-44dc-b93b-fd06412f145d"
      },
      "source": [
        "yy.shape"
      ],
      "execution_count": null,
      "outputs": [
        {
          "output_type": "execute_result",
          "data": {
            "text/plain": [
              "(1, 10, 32)"
            ]
          },
          "metadata": {
            "tags": []
          },
          "execution_count": 12
        }
      ]
    },
    {
      "cell_type": "code",
      "metadata": {
        "colab": {
          "base_uri": "https://localhost:8080/",
          "height": 282
        },
        "id": "PC3DFizifJSb",
        "outputId": "117bdfd0-16d4-4ad7-ec44-a98bbaec0b99"
      },
      "source": [
        "N=300\n",
        "t= np.linspace(0,30,N).reshape((N,1))\n",
        "x = np.sin(t) + t*0.2\n",
        "n=2\n",
        "xLen=15\n",
        "\n",
        "\n",
        "plt.plot(t[0:xLen],x[0:xLen],'.-b')\n",
        "\n",
        "\n",
        "h=1  # горизонт прогноза\n",
        "xx=[]\n",
        "y=[]\n",
        "for i in range(N-xLen - h):\n",
        "  xx.append(np.concatenate( (t[i:xLen+i],x[i:xLen+i])).reshape((xLen,2)))\n",
        "  y.append(x[i+h+xLen-1])\n",
        "xx = np.array(xx)  \n",
        "y = np.array(y)\n",
        "\n",
        "plt.plot(t[xLen+h-1],y[0],'.r')\n",
        "plt.show()\n",
        "y.shape,xx.shape "
      ],
      "execution_count": null,
      "outputs": [
        {
          "output_type": "display_data",
          "data": {
            "image/png": "[encoded data removed]",
            "text/plain": [
              "<Figure size 432x288 with 1 Axes>"
            ]
          },
          "metadata": {
            "tags": [],
            "needs_background": "light"
          }
        },
        {
          "output_type": "execute_result",
          "data": {
            "text/plain": [
              "((284, 1), (284, 15, 2))"
            ]
          },
          "metadata": {
            "tags": []
          },
          "execution_count": 14
        }
      ]
    },
    {
      "cell_type": "code",
      "metadata": {
        "id": "iWzGIQ9I2MhG"
      },
      "source": [
        "x_in = Input(shape=(xLen,n,))\n",
        "y_out= LSTM(128,return_sequences=False)(x_in)\n",
        "y_out = Dense(1,activation='linear')(y_out)\n",
        "\n",
        "\n",
        "model = Model(x_in,y_out)\n",
        "model.compile(loss='mse',optimizer='Adam',metrics=['mse'])"
      ],
      "execution_count": null,
      "outputs": []
    },
    {
      "cell_type": "code",
      "metadata": {
        "colab": {
          "base_uri": "https://localhost:8080/"
        },
        "id": "XOFCe7uP22Xb",
        "outputId": "b1626385-59e2-448c-e672-9e32a2a7ef7d"
      },
      "source": [
        "test_n = 200\n",
        "model.fit(xx[:test_n,:,:],y[:test_n], epochs=20)"
      ],
      "execution_count": null,
      "outputs": [
        {
          "output_type": "stream",
          "text": [
            "Epoch 1/20\n",
            "7/7 [==============================] - 5s 4ms/step - loss: 3.9178 - mse: 3.9178\n",
            "Epoch 2/20\n",
            "7/7 [==============================] - 0s 4ms/step - loss: 1.1468 - mse: 1.1468\n",
            "Epoch 3/20\n",
            "7/7 [==============================] - 0s 4ms/step - loss: 0.4959 - mse: 0.4959\n",
            "Epoch 4/20\n",
            "7/7 [==============================] - 0s 4ms/step - loss: 0.3900 - mse: 0.3900\n",
            "Epoch 5/20\n",
            "7/7 [==============================] - 0s 4ms/step - loss: 0.2536 - mse: 0.2536\n",
            "Epoch 6/20\n",
            "7/7 [==============================] - 0s 4ms/step - loss: 0.2095 - mse: 0.2095\n",
            "Epoch 7/20\n",
            "7/7 [==============================] - 0s 4ms/step - loss: 0.1832 - mse: 0.1832\n",
            "Epoch 8/20\n",
            "7/7 [==============================] - 0s 5ms/step - loss: 0.1675 - mse: 0.1675\n",
            "Epoch 9/20\n",
            "7/7 [==============================] - 0s 4ms/step - loss: 0.1454 - mse: 0.1454\n",
            "Epoch 10/20\n",
            "7/7 [==============================] - 0s 4ms/step - loss: 0.1342 - mse: 0.1342\n",
            "Epoch 11/20\n",
            "7/7 [==============================] - 0s 4ms/step - loss: 0.1244 - mse: 0.1244\n",
            "Epoch 12/20\n",
            "7/7 [==============================] - 0s 4ms/step - loss: 0.1222 - mse: 0.1222\n",
            "Epoch 13/20\n",
            "7/7 [==============================] - 0s 4ms/step - loss: 0.1101 - mse: 0.1101\n",
            "Epoch 14/20\n",
            "7/7 [==============================] - 0s 4ms/step - loss: 0.1043 - mse: 0.1043\n",
            "Epoch 15/20\n",
            "7/7 [==============================] - 0s 4ms/step - loss: 0.0982 - mse: 0.0982\n",
            "Epoch 16/20\n",
            "7/7 [==============================] - 0s 4ms/step - loss: 0.0930 - mse: 0.0930\n",
            "Epoch 17/20\n",
            "7/7 [==============================] - 0s 5ms/step - loss: 0.0871 - mse: 0.0871\n",
            "Epoch 18/20\n",
            "7/7 [==============================] - 0s 4ms/step - loss: 0.0858 - mse: 0.0858\n",
            "Epoch 19/20\n",
            "7/7 [==============================] - 0s 4ms/step - loss: 0.0819 - mse: 0.0819\n",
            "Epoch 20/20\n",
            "7/7 [==============================] - 0s 4ms/step - loss: 0.0729 - mse: 0.0729\n"
          ],
          "name": "stdout"
        },
        {
          "output_type": "execute_result",
          "data": {
            "text/plain": [
              "<tensorflow.python.keras.callbacks.History at 0x7f733e34a210>"
            ]
          },
          "metadata": {
            "tags": []
          },
          "execution_count": 16
        }
      ]
    },
    {
      "cell_type": "code",
      "metadata": {
        "id": "OHVzoGoPuqBY"
      },
      "source": [
        "ypred = model.predict(xx[test_n:,:,:])\n"
      ],
      "execution_count": null,
      "outputs": []
    },
    {
      "cell_type": "code",
      "metadata": {
        "id": "MKwHe_lxuwVE",
        "colab": {
          "base_uri": "https://localhost:8080/",
          "height": 265
        },
        "outputId": "a03dbc8f-ce8c-4d3c-a282-35d90c3301b9"
      },
      "source": [
        "plt.plot(ypred,'.r')\n",
        "plt.plot(y[test_n:],'g')\n",
        "plt.show()"
      ],
      "execution_count": null,
      "outputs": [
        {
          "output_type": "display_data",
          "data": {
            "image/png": "[encoded data removed]",
            "text/plain": [
              "<Figure size 432x288 with 1 Axes>"
            ]
          },
          "metadata": {
            "tags": [],
            "needs_background": "light"
          }
        }
      ]
    },
    {
      "cell_type": "code",
      "metadata": {
        "id": "CAWyqSSBuzlv",
        "colab": {
          "base_uri": "https://localhost:8080/"
        },
        "outputId": "8d1400a5-9b1e-410d-e535-319e49144f87"
      },
      "source": [
        "yy"
      ],
      "execution_count": null,
      "outputs": [
        {
          "output_type": "execute_result",
          "data": {
            "text/plain": [
              "array([[[-3.79546620e-02, -9.58049372e-02, -1.61804538e-02,\n",
              "          1.25211090e-01, -3.80744934e-02, -7.29169473e-02,\n",
              "         -3.48699093e-02, -1.30776554e-01,  1.45580336e-01,\n",
              "         -3.14375199e-02,  8.41212943e-02, -1.54122561e-02,\n",
              "         -1.35296732e-01,  4.46918234e-02,  1.22015297e-01,\n",
              "         -1.11163668e-02,  6.91670999e-02,  7.46657103e-02,\n",
              "          6.13197684e-02, -6.37085661e-02, -1.42072781e-03,\n",
              "         -6.36840537e-02,  2.53512226e-02,  8.26883987e-02,\n",
              "         -3.42666134e-02, -7.82267377e-02,  2.10471600e-02,\n",
              "         -3.38145830e-02, -8.12876448e-02,  9.75956842e-02,\n",
              "          9.44698006e-02, -1.22838184e-01],\n",
              "        [-3.57982740e-02, -5.24647646e-02, -7.47956289e-03,\n",
              "          6.11059964e-02, -6.11946806e-02,  7.08255768e-02,\n",
              "         -1.12720340e-01, -1.46334961e-01,  9.01646763e-02,\n",
              "         -3.61206867e-02,  1.81913450e-01, -1.56502977e-01,\n",
              "         -3.70675139e-02, -1.63722027e-03,  7.64371380e-02,\n",
              "         -3.67433168e-02,  6.70852885e-02,  1.44032672e-01,\n",
              "          8.94516781e-02, -2.37135147e-03, -2.19444800e-02,\n",
              "         -1.25360027e-01,  1.85238682e-02,  1.17101878e-01,\n",
              "         -8.65358263e-02, -1.48126826e-01,  1.25846177e-01,\n",
              "         -7.40323961e-03, -4.40172069e-02,  2.61084326e-02,\n",
              "          6.76179752e-02, -3.65182459e-02],\n",
              "        [-6.63209036e-02, -8.69017269e-04, -1.81055740e-01,\n",
              "          6.48378208e-02,  1.35606274e-01, -3.59008536e-02,\n",
              "         -2.56189294e-02, -3.09909880e-02,  1.08156636e-01,\n",
              "         -5.68762757e-02,  1.83626190e-01, -1.53532559e-02,\n",
              "          5.37807010e-02,  7.62593225e-02, -6.80663511e-02,\n",
              "          5.86791635e-02,  1.91046838e-02,  1.42178744e-01,\n",
              "          3.32559720e-02, -9.24256817e-02, -2.04169214e-01,\n",
              "         -1.66613176e-01,  1.09835438e-01,  1.08947586e-02,\n",
              "         -1.05309054e-01, -1.17555678e-01,  2.47191012e-01,\n",
              "         -5.17761745e-02,  3.11882980e-02,  1.24045415e-02,\n",
              "          3.50281745e-02, -5.06226420e-02],\n",
              "        [-6.14599586e-02,  2.85032894e-02, -1.68075860e-01,\n",
              "          3.37320790e-02,  1.44018263e-01, -4.22644950e-02,\n",
              "          4.19553689e-04, -1.34319337e-02,  1.33577272e-01,\n",
              "         -8.59100297e-02,  1.94277272e-01, -9.75229498e-03,\n",
              "          9.58729461e-02,  5.22746220e-02, -8.96342695e-02,\n",
              "          6.13111779e-02, -4.45606885e-03,  1.94272473e-01,\n",
              "          6.29483834e-02, -7.53113329e-02, -2.14891553e-01,\n",
              "         -1.90383211e-01,  1.32924542e-01, -2.85814051e-03,\n",
              "         -1.29379660e-01, -9.88380909e-02,  2.40967825e-01,\n",
              "         -6.21708445e-02,  4.73402068e-02, -4.35402058e-02,\n",
              "          1.84739884e-02,  3.62224411e-03],\n",
              "        [-5.13297394e-02, -3.29302400e-02, -1.26304552e-01,\n",
              "          8.49838406e-02,  1.27157778e-01, -1.31075636e-01,\n",
              "         -5.78632429e-02, -5.55126704e-02,  1.64561108e-01,\n",
              "         -7.52874464e-02,  2.06274375e-01, -2.66554281e-02,\n",
              "          4.08039205e-02,  8.68810788e-02, -7.09130615e-02,\n",
              "          5.47941066e-02,  5.76353930e-02,  2.01782778e-01,\n",
              "          9.65174809e-02, -1.15869612e-01, -2.38495484e-01,\n",
              "         -1.74079627e-01,  1.23015173e-01, -7.38020055e-03,\n",
              "         -1.11103505e-01, -9.61134136e-02,  2.29427800e-01,\n",
              "         -4.86796871e-02,  1.65467113e-02,  4.31741886e-02,\n",
              "          5.88515028e-02, -8.18991512e-02],\n",
              "        [ 9.54412967e-02, -4.24989089e-02,  1.83927128e-03,\n",
              "          5.85494563e-02,  6.54805899e-02, -1.24299098e-02,\n",
              "         -1.61175594e-01, -1.30165011e-01,  7.33063444e-02,\n",
              "          1.00419424e-01,  4.86265540e-01, -9.57471728e-02,\n",
              "          1.04891630e-02,  7.50194788e-02, -7.93574452e-02,\n",
              "          3.07491452e-01,  4.27283235e-02,  2.82086283e-01,\n",
              "         -8.01863596e-02, -1.99269518e-01, -3.38219583e-01,\n",
              "         -7.98119754e-02,  6.60459790e-03,  1.40730329e-02,\n",
              "          1.15763198e-03, -1.23616129e-01,  2.60450006e-01,\n",
              "         -1.35711432e-01, -1.45039156e-01, -9.31400582e-02,\n",
              "          1.43258618e-02, -2.03114480e-01],\n",
              "        [ 5.67897689e-03, -9.84981582e-02, -1.23331137e-02,\n",
              "          1.47269860e-01,  2.48010382e-02, -1.33568615e-01,\n",
              "         -1.45096526e-01, -2.05737948e-01,  2.39118382e-01,\n",
              "         -1.28562481e-03,  2.69299179e-01, -1.08872645e-01,\n",
              "         -8.10641125e-02,  9.12864804e-02,  3.82802519e-03,\n",
              "          7.31812641e-02,  1.79770648e-01,  3.13600481e-01,\n",
              "          1.16808213e-01, -1.66098222e-01, -2.03956664e-01,\n",
              "         -1.12897821e-01,  7.68873021e-02,  6.08251542e-02,\n",
              "         -1.26297679e-02, -1.76082984e-01,  1.20321833e-01,\n",
              "         -8.11881125e-02, -1.18139051e-01,  5.58952168e-02,\n",
              "          1.25396580e-01, -2.15400904e-01],\n",
              "        [ 2.85905153e-02, -1.38617784e-01,  5.14721051e-02,\n",
              "          1.25545844e-01, -4.11720686e-02, -1.25253707e-01,\n",
              "         -2.07981527e-01, -1.83195323e-01,  1.49098635e-01,\n",
              "          1.04866810e-02,  3.15853775e-01, -1.55700460e-01,\n",
              "         -1.02228254e-01,  6.72126561e-02,  2.32882407e-02,\n",
              "          8.92126709e-02,  1.54250249e-01,  2.92232990e-01,\n",
              "          8.06183815e-02, -1.70975253e-01, -1.43524826e-01,\n",
              "         -5.99894337e-02,  1.33276209e-02,  9.45117101e-02,\n",
              "          4.55616452e-02, -1.49256349e-01,  7.06462115e-02,\n",
              "         -7.12535232e-02, -1.28462762e-01,  8.25385153e-02,\n",
              "          1.53178141e-01, -2.22090676e-01],\n",
              "        [-1.81280728e-02, -1.77611545e-01,  5.55118062e-02,\n",
              "          1.84242606e-01, -1.24448672e-01, -1.71809852e-01,\n",
              "         -2.29198709e-01, -2.35394657e-01,  2.20586240e-01,\n",
              "         -3.49925496e-02,  2.66922653e-01, -2.14362010e-01,\n",
              "         -1.81037292e-01,  8.05540159e-02,  1.00757107e-01,\n",
              "          2.05054060e-02,  2.22267583e-01,  2.77417034e-01,\n",
              "          1.67981997e-01, -1.59581393e-01, -9.69319046e-02,\n",
              "         -7.49723092e-02,  1.16626080e-02,  1.70785487e-01,\n",
              "          2.43704319e-02, -1.47842556e-01,  4.92413417e-02,\n",
              "         -3.95857878e-02, -1.38545096e-01,  1.52008489e-01,\n",
              "          1.85768247e-01, -2.63165981e-01],\n",
              "        [ 4.69343774e-02, -1.59697160e-01,  1.06254935e-01,\n",
              "          1.57150462e-01,  2.38943808e-02, -1.23302981e-01,\n",
              "         -2.14362308e-01, -1.45928517e-01,  1.00057714e-01,\n",
              "          7.74134025e-02,  3.66391659e-01, -6.44464195e-02,\n",
              "         -1.85605571e-01,  1.14113577e-01, -5.55256642e-02,\n",
              "          2.77064055e-01,  1.26174241e-01,  2.41411313e-01,\n",
              "         -4.23974320e-02, -3.32586974e-01, -2.45871603e-01,\n",
              "          2.85169971e-03, -2.12451611e-02,  5.21682873e-02,\n",
              "          5.02227470e-02, -9.21917185e-02,  6.35255575e-02,\n",
              "         -1.37855127e-01, -1.11563139e-01,  9.35011730e-02,\n",
              "          1.37083694e-01, -4.05571401e-01]]], dtype=float32)"
            ]
          },
          "metadata": {
            "tags": []
          },
          "execution_count": 19
        }
      ]
    },
    {
      "cell_type": "code",
      "metadata": {
        "id": "Y61Dni7vCG1r"
      },
      "source": [
        ""
      ],
      "execution_count": null,
      "outputs": []
    }
  ]
}