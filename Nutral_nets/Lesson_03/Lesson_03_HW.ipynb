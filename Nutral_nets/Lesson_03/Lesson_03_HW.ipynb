{
 "cells": [
  {
   "cell_type": "markdown",
   "metadata": {
    "id": "CNCgNy2ukRM2"
   },
   "source": [
    "__Author: Стурейко Игорь__\n",
    "\n",
    "__Project: Geekbrains.NeutralNets__\n",
    "\n",
    "__Lesson 3 - Основы Keras__\n",
    "\n",
    "__Date: 2021-12-09__"
   ]
  },
  {
   "cell_type": "markdown",
   "metadata": {
    "id": "IjqRIopOky1C"
   },
   "source": [
    "## Практическое задание\n",
    "\n",
    "  1. Постройте нейронную сеть(берем простую линейную сеть, которую разбирали на уроке: меняем число слоев, число нейронов , типы активации, тип оптимизатора)  на датасет from sklearn.datasets import load_boston. \n",
    "  2. Измените функцию потерь и метрику для этой задачи. Постройте 10-15 вариантов и сведите результаты их работы в таблицу  Опишите, какого результата вы добились от нейросети? Что помогло вам улучшить ее точность?\n",
    "\n",
    "  3. Поработайте с документацией TensorFlow 2. Найти 2-3 полезные команды TensorFlow, не разобранные на уроке (полезные для Вас).\n",
    "\n",
    "  1-2. (*)  Попробуйте обучить нейронную сеть на TensorFlow 2 на датасете imdb_reviews .Опишите, какого результата вы добились от нейросети? Что помогло вам улучшить ее точность?\n",
    "    "
   ]
  },
  {
   "cell_type": "code",
   "execution_count": 1,
   "metadata": {
    "ExecuteTime": {
     "end_time": "2021-12-11T10:50:28.088835Z",
     "start_time": "2021-12-11T10:50:08.150852Z"
    },
    "id": "33fW3QTZkGu1"
   },
   "outputs": [],
   "source": [
    "import numpy as np\n",
    "import pandas as pd\n",
    "import matplotlib.pyplot as plt\n",
    "import seaborn as sns\n",
    "\n",
    "import tensorflow as tf\n",
    "from tensorflow.keras.models import Sequential\n",
    "from tensorflow.keras.layers import Dense, Normalization\n",
    "from tensorflow.keras.utils import to_categorical\n",
    "\n",
    "from tensorflow.keras.datasets import boston_housing"
   ]
  },
  {
   "cell_type": "code",
   "execution_count": 3,
   "metadata": {
    "ExecuteTime": {
     "end_time": "2021-12-11T10:50:35.223967Z",
     "start_time": "2021-12-11T10:50:35.217967Z"
    },
    "colab": {
     "base_uri": "https://localhost:8080/"
    },
    "id": "nA_4loY1lOjO",
    "outputId": "bb896402-23f0-46df-c691-64cad1fd8f27"
   },
   "outputs": [
    {
     "name": "stdout",
     "output_type": "stream",
     "text": [
      "есть ли доступные GPU: \n",
      "[]\n"
     ]
    }
   ],
   "source": [
    "print(\"есть ли доступные GPU: \"),\n",
    "print(tf.config.experimental.list_physical_devices(\"GPU\"))"
   ]
  },
  {
   "cell_type": "code",
   "execution_count": 4,
   "metadata": {
    "ExecuteTime": {
     "end_time": "2021-12-11T10:50:45.781521Z",
     "start_time": "2021-12-11T10:50:45.322499Z"
    },
    "colab": {
     "base_uri": "https://localhost:8080/"
    },
    "id": "u4PlX4JLn9uu",
    "outputId": "d5226f50-8095-4776-adb4-903aa28c26e9"
   },
   "outputs": [
    {
     "name": "stdout",
     "output_type": "stream",
     "text": [
      "Downloading data from https://storage.googleapis.com/tensorflow/tf-keras-datasets/boston_housing.npz\n",
      "57344/57026 [==============================] - 0s 1us/step\n",
      "65536/57026 [==================================] - 0s 1us/step\n"
     ]
    }
   ],
   "source": [
    "(x_train, y_train), (x_test, y_test) = boston_housing.load_data()"
   ]
  },
  {
   "cell_type": "code",
   "execution_count": 5,
   "metadata": {
    "ExecuteTime": {
     "end_time": "2021-12-11T10:50:46.530686Z",
     "start_time": "2021-12-11T10:50:46.514685Z"
    },
    "colab": {
     "base_uri": "https://localhost:8080/"
    },
    "id": "UPvfXB9ZuvoE",
    "outputId": "7935eb42-3aec-47a2-f602-f8b3239c50d2"
   },
   "outputs": [
    {
     "data": {
      "text/plain": [
       "(404, 13)"
      ]
     },
     "execution_count": 5,
     "metadata": {},
     "output_type": "execute_result"
    }
   ],
   "source": [
    "x_train.shape"
   ]
  },
  {
   "cell_type": "code",
   "execution_count": 6,
   "metadata": {
    "ExecuteTime": {
     "end_time": "2021-12-11T10:50:48.213132Z",
     "start_time": "2021-12-11T10:50:46.954927Z"
    },
    "colab": {
     "base_uri": "https://localhost:8080/"
    },
    "id": "hsn39kbrqOYV",
    "outputId": "500d87db-cf7b-4b0a-c1eb-3651231f53f4"
   },
   "outputs": [
    {
     "data": {
      "text/plain": [
       "48.305625915527344"
      ]
     },
     "execution_count": 6,
     "metadata": {},
     "output_type": "execute_result"
    }
   ],
   "source": [
    "# Define model\n",
    "model_housing = Sequential()\n",
    "model_housing.add(Normalization(axis=-1))\n",
    "model_housing.add(Dense(500, input_dim=13, kernel_initializer='normal', activation='relu'))\n",
    "model_housing.add(Dense(100, kernel_initializer='normal', activation='relu'))\n",
    "model_housing.add(Dense(50, kernel_initializer='normal', activation='relu'))\n",
    "model_housing.add(Dense(1, kernel_initializer='normal'))\n",
    "\n",
    "# Compile model\n",
    "model_housing.compile(loss='mean_squared_error', optimizer='adam', metrics=[\"mean_squared_error\"])\n",
    "\n",
    "hh1 = model_housing.fit(x_train, y_train, epochs=20, verbose=False)\n",
    "\n",
    "test_loss, test_acc = model_housing.evaluate(x_test,  y_test, verbose=0)\n",
    "\n",
    "test_acc"
   ]
  },
  {
   "cell_type": "code",
   "execution_count": 7,
   "metadata": {
    "ExecuteTime": {
     "end_time": "2021-12-11T10:50:49.506568Z",
     "start_time": "2021-12-11T10:50:49.194663Z"
    },
    "colab": {
     "base_uri": "https://localhost:8080/",
     "height": 295
    },
    "id": "Sh5rhVjQ2PwC",
    "outputId": "8e307a60-19de-4c10-a5f2-0ea7dd608c8d"
   },
   "outputs": [
    {
     "data": {
      "image/png": "[encoded data removed]",
      "text/plain": [
       "<Figure size 432x288 with 1 Axes>"
      ]
     },
     "metadata": {
      "needs_background": "light"
     },
     "output_type": "display_data"
    }
   ],
   "source": [
    "plt.plot(hh1.history['mean_squared_error'])\n",
    "plt.title('model mse')\n",
    "plt.ylabel('mse')\n",
    "plt.xlabel('epoch')\n",
    "plt.show()"
   ]
  },
  {
   "cell_type": "code",
   "execution_count": 8,
   "metadata": {
    "ExecuteTime": {
     "end_time": "2021-12-11T10:50:53.690059Z",
     "start_time": "2021-12-11T10:50:50.458646Z"
    },
    "colab": {
     "base_uri": "https://localhost:8080/"
    },
    "id": "NbMMX45Qmjj_",
    "outputId": "16dee947-8b97-4117-e925-137865de6981"
   },
   "outputs": [
    {
     "data": {
      "text/plain": [
       "26.761991500854492"
      ]
     },
     "execution_count": 8,
     "metadata": {},
     "output_type": "execute_result"
    }
   ],
   "source": [
    "# Define model\n",
    "model_housing_2 = Sequential()\n",
    "model_housing_2.add(Normalization(axis=-1))\n",
    "model_housing_2.add(Dense(300, input_dim=13, kernel_initializer='normal', activation='relu'))\n",
    "model_housing_2.add(Dense(50, kernel_initializer='normal', activation='relu'))\n",
    "model_housing_2.add(Dense(1, kernel_initializer='normal'))\n",
    "\n",
    "# Compile model\n",
    "model_housing_2.compile(loss='mean_squared_error', optimizer='adam', metrics=[\"mean_squared_error\"])\n",
    "\n",
    "hh = model_housing_2.fit(x_train, y_train, epochs=200, verbose=False)\n",
    "\n",
    "test_loss, test_acc = model_housing_2.evaluate(x_test,  y_test, verbose=0)\n",
    "\n",
    "test_acc"
   ]
  },
  {
   "cell_type": "code",
   "execution_count": 9,
   "metadata": {
    "ExecuteTime": {
     "end_time": "2021-12-11T10:50:53.816068Z",
     "start_time": "2021-12-11T10:50:53.692969Z"
    },
    "colab": {
     "base_uri": "https://localhost:8080/",
     "height": 295
    },
    "id": "bg-SeAjg0wkh",
    "outputId": "31cf093b-2015-4391-b0df-b960590f0978"
   },
   "outputs": [
    {
     "data": {
      "image/png": "[encoded data removed]",
      "text/plain": [
       "<Figure size 432x288 with 1 Axes>"
      ]
     },
     "metadata": {
      "needs_background": "light"
     },
     "output_type": "display_data"
    }
   ],
   "source": [
    "plt.plot(hh.history['mean_squared_error'])\n",
    "plt.title('model mse')\n",
    "plt.ylabel('mse')\n",
    "plt.xlabel('epoch')\n",
    "plt.show()"
   ]
  },
  {
   "cell_type": "code",
   "execution_count": 10,
   "metadata": {
    "ExecuteTime": {
     "end_time": "2021-12-11T10:51:00.775764Z",
     "start_time": "2021-12-11T10:50:55.427555Z"
    },
    "colab": {
     "base_uri": "https://localhost:8080/",
     "height": 312
    },
    "id": "fxM9djAS2glF",
    "outputId": "ecaa7bdf-a6b3-4fd4-cbe8-62ae95996d91"
   },
   "outputs": [
    {
     "name": "stdout",
     "output_type": "stream",
     "text": [
      "mse: 29.892332077026367\n"
     ]
    },
    {
     "data": {
      "image/png": "[encoded data removed]",
      "text/plain": [
       "<Figure size 432x288 with 1 Axes>"
      ]
     },
     "metadata": {
      "needs_background": "light"
     },
     "output_type": "display_data"
    }
   ],
   "source": [
    "# Define model\n",
    "model_housing_3 = Sequential()\n",
    "model_housing_3.add(Normalization(axis=-1))\n",
    "model_housing_3.add(Dense(300, input_dim=13, kernel_initializer='normal', activation='relu'))\n",
    "model_housing_3.add(Dense(50, kernel_initializer='normal', activation='relu'))\n",
    "model_housing_3.add(Dense(1, kernel_initializer='normal'))\n",
    "\n",
    "# Compile model\n",
    "model_housing_3.compile(loss='mean_squared_error', optimizer='Nadam', metrics=[\"mean_squared_error\"])\n",
    "\n",
    "hh_3 = model_housing_3.fit(x_train, y_train, epochs=350, verbose=False)\n",
    "\n",
    "test_loss, test_acc = model_housing_3.evaluate(x_test,  y_test, verbose=0)\n",
    "\n",
    "print(f\"mse: {test_acc}\")\n",
    "\n",
    "plt.plot(hh_3.history['mean_squared_error'])\n",
    "plt.title('model mse')\n",
    "plt.ylabel('mse')\n",
    "plt.xlabel('epoch')\n",
    "plt.show()"
   ]
  },
  {
   "cell_type": "code",
   "execution_count": 11,
   "metadata": {
    "ExecuteTime": {
     "end_time": "2021-12-11T10:51:00.791844Z",
     "start_time": "2021-12-11T10:51:00.778751Z"
    },
    "id": "aeodDKm14Sgq"
   },
   "outputs": [],
   "source": [
    "class HousingModel:\n",
    "\n",
    "  def __init__(self, n_neurons, n_layers, act_func, epochs):\n",
    "    self.n_neurons = n_neurons\n",
    "    self.n_layers = n_layers\n",
    "    self.act_func = act_func\n",
    "    self.epochs = epochs\n",
    "    \n",
    "  def calc(self, x_train, y_train, x_test, y_test):\n",
    "    # Define model\n",
    "    model_housing = Sequential()\n",
    "    model_housing.add(Normalization(axis=-1))\n",
    "    model_housing.add(Dense(self.n_neurons, input_dim=13, kernel_initializer='normal', activation=self.act_func))\n",
    "    for n in np.arange(self.n_layers):\n",
    "      model_housing.add(Dense(int(self.n_neurons/2), kernel_initializer='normal', activation=self.act_func))\n",
    "    model_housing.add(Dense(1, kernel_initializer='normal'))\n",
    "\n",
    "    # Compile model\n",
    "    model_housing.compile(loss='mean_squared_error', optimizer='adam', metrics=[\"mean_squared_error\"])\n",
    "\n",
    "    hh = model_housing.fit(x_train, y_train, epochs=self.epochs, verbose=False)\n",
    "\n",
    "    test_loss, test_acc = model_housing.evaluate(x_test,  y_test, verbose=0)\n",
    "\n",
    "    return [hh, test_acc]"
   ]
  },
  {
   "cell_type": "code",
   "execution_count": 12,
   "metadata": {
    "ExecuteTime": {
     "end_time": "2021-12-11T10:51:04.819605Z",
     "start_time": "2021-12-11T10:51:00.793749Z"
    },
    "colab": {
     "base_uri": "https://localhost:8080/",
     "height": 312
    },
    "id": "hWUNQrRl6WTL",
    "outputId": "6381025c-6ab4-467b-f86f-33e3a396a9f5"
   },
   "outputs": [
    {
     "name": "stdout",
     "output_type": "stream",
     "text": [
      "26.261259078979492\n"
     ]
    },
    {
     "data": {
      "image/png": "[encoded data removed]",
      "text/plain": [
       "<Figure size 432x288 with 1 Axes>"
      ]
     },
     "metadata": {
      "needs_background": "light"
     },
     "output_type": "display_data"
    }
   ],
   "source": [
    "hm = HousingModel(300, 2, 'relu', 200).calc(x_train, y_train, x_test, y_test)\n",
    "print(hm[1])\n",
    "plt.plot(hm[0].history['mean_squared_error'])\n",
    "plt.title('model mse')\n",
    "plt.ylabel('mse')\n",
    "plt.xlabel('epoch')\n",
    "plt.show()"
   ]
  },
  {
   "cell_type": "code",
   "execution_count": 13,
   "metadata": {
    "ExecuteTime": {
     "end_time": "2021-12-11T12:55:44.198621Z",
     "start_time": "2021-12-11T10:51:29.499995Z"
    },
    "id": "euTvued185zU"
   },
   "outputs": [],
   "source": [
    "res = pd.DataFrame(columns=['num_neutrons', 'num_layers', 'epochs', 'test_mse'])\n",
    "for n_neutrons in np.arange(100, 500, 50):\n",
    "  for n_layers in np.arange(2, 10):\n",
    "    for epochs in np.arange(100, 300, 10):\n",
    "      hm = HousingModel(n_neutrons, n_layers, 'relu', epochs).calc(x_train, y_train, x_test, y_test)\n",
    "      res.loc[len(res)] = [n_neutrons, n_layers, epochs, hm[1]]\n",
    "res.to_csv('res.csv', encoding='utf-8')\n"
   ]
  },
  {
   "cell_type": "code",
   "execution_count": 14,
   "metadata": {
    "ExecuteTime": {
     "end_time": "2021-12-11T13:04:28.474923Z",
     "start_time": "2021-12-11T13:04:28.467923Z"
    }
   },
   "outputs": [
    {
     "data": {
      "text/plain": [
       "(1280, 4)"
      ]
     },
     "execution_count": 14,
     "metadata": {},
     "output_type": "execute_result"
    }
   ],
   "source": [
    "res.shape"
   ]
  },
  {
   "cell_type": "code",
   "execution_count": 30,
   "metadata": {
    "ExecuteTime": {
     "end_time": "2021-12-11T15:55:48.388434Z",
     "start_time": "2021-12-11T15:55:47.756861Z"
    }
   },
   "outputs": [
    {
     "data": {
      "image/png": "[encoded data removed]",
      "text/plain": [
       "<Figure size 1080x360 with 6 Axes>"
      ]
     },
     "metadata": {
      "needs_background": "light"
     },
     "output_type": "display_data"
    }
   ],
   "source": [
    "fig, axes = plt.subplots(1, 3, figsize=(15, 5), sharey=True)\n",
    "fig.suptitle('Влияние параметров на качество модели')\n",
    "to_heat = res.loc[res['num_neutrons']==100].pivot('num_layers', 'epochs', 'test_mse')\n",
    "sns.heatmap(ax=axes[0], data=to_heat)\n",
    "axes[0].set_title('Количество нейронов в слое: 100')\n",
    "to_heat = res.loc[res['num_neutrons']==300].pivot('num_layers', 'epochs', 'test_mse')\n",
    "sns.heatmap(ax=axes[1], data=to_heat)\n",
    "axes[1].set_title('Количество нейронов в слое: 300')\n",
    "to_heat = res.loc[res['num_neutrons']==450].pivot('num_layers', 'epochs', 'test_mse')\n",
    "sns.heatmap(ax=axes[2], data=to_heat)\n",
    "axes[2].set_title('Количество нейронов в слое: 450')\n",
    "plt.show()"
   ]
  },
  {
   "cell_type": "markdown",
   "metadata": {},
   "source": [
    "## Выводы:\n",
    "1. Увеличение количества эпох ведет к повышению качества (что ожидаемо)\n",
    "1. Увеличение числа нейронов с слое не приводит к существенному увеличению качества, а во много приводит к ухудшению (что неожиданно)\n",
    "1. Увеличение числа стоев не оказывает существенного влияния на результат"
   ]
  }
 ],
 "metadata": {
  "accelerator": "GPU",
  "colab": {
   "collapsed_sections": [],
   "name": "Lesson_03_HW.ipynb",
   "provenance": []
  },
  "kernelspec": {
   "display_name": "Python 3 (ipykernel)",
   "language": "python",
   "name": "python3"
  },
  "language_info": {
   "codemirror_mode": {
    "name": "ipython",
    "version": 3
   },
   "file_extension": ".py",
   "mimetype": "text/x-python",
   "name": "python",
   "nbconvert_exporter": "python",
   "pygments_lexer": "ipython3",
   "version": "3.8.11"
  },
  "toc": {
   "base_numbering": 1,
   "nav_menu": {},
   "number_sections": true,
   "sideBar": true,
   "skip_h1_title": false,
   "title_cell": "Table of Contents",
   "title_sidebar": "Contents",
   "toc_cell": false,
   "toc_position": {},
   "toc_section_display": true,
   "toc_window_display": false
  }
 },
 "nbformat": 4,
 "nbformat_minor": 1
}
