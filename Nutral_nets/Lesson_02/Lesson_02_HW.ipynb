{
 "cells": [
  {
   "cell_type": "markdown",
   "metadata": {
    "id": "gPld1g-HY3o0"
   },
   "source": [
    "__Author: Стурейко Игорь__\n",
    "\n",
    "__Project: Geekbrains.NeutralNets__\n",
    "\n",
    "__Lesson 1 - Основы Keras__\n",
    "\n",
    "__Date: 2021-12-07__"
   ]
  },
  {
   "cell_type": "markdown",
   "metadata": {
    "id": "ZKdj9suaY1bM"
   },
   "source": [
    "# Импорты"
   ]
  },
  {
   "cell_type": "code",
   "execution_count": 1,
   "metadata": {
    "ExecuteTime": {
     "end_time": "2021-12-07T18:21:43.462170Z",
     "start_time": "2021-12-07T18:21:35.513397Z"
    },
    "id": "giYqavmWf20w"
   },
   "outputs": [],
   "source": [
    "import numpy as np\n",
    "import pandas as pd\n",
    "import matplotlib.pyplot as plt\n",
    "\n",
    "import keras\n",
    "from keras.models import Sequential\n",
    "from keras.layers import Dense\n",
    "from keras.datasets import mnist\n",
    "from tensorflow.keras.utils import to_categorical\n",
    "from keras.datasets import fashion_mnist  # набор данных\n"
   ]
  },
  {
   "cell_type": "code",
   "execution_count": 2,
   "metadata": {
    "ExecuteTime": {
     "end_time": "2021-12-07T18:21:51.058510Z",
     "start_time": "2021-12-07T18:21:48.400320Z"
    },
    "colab": {
     "base_uri": "https://localhost:8080/"
    },
    "id": "pziInDQxgA_7",
    "outputId": "5434ae0c-0f6f-4ee4-eee1-3b36124a03ff"
   },
   "outputs": [
    {
     "name": "stdout",
     "output_type": "stream",
     "text": [
      "Downloading data from https://storage.googleapis.com/tensorflow/tf-keras-datasets/train-labels-idx1-ubyte.gz\n",
      "32768/29515 [=================================] - 0s 1us/step\n",
      "40960/29515 [=========================================] - 0s 1us/step\n",
      "Downloading data from https://storage.googleapis.com/tensorflow/tf-keras-datasets/train-images-idx3-ubyte.gz\n",
      "26427392/26421880 [==============================] - 1s 0us/step\n",
      "26435584/26421880 [==============================] - 1s 0us/step\n",
      "Downloading data from https://storage.googleapis.com/tensorflow/tf-keras-datasets/t10k-labels-idx1-ubyte.gz\n",
      "16384/5148 [===============================================================================================] - 0s 0s/step\n",
      "Downloading data from https://storage.googleapis.com/tensorflow/tf-keras-datasets/t10k-images-idx3-ubyte.gz\n",
      "4423680/4422102 [==============================] - 0s 0us/step\n",
      "4431872/4422102 [==============================] - 0s 0us/step\n"
     ]
    }
   ],
   "source": [
    "(train_imagef,train_labelf),(test_imagef,test_labelf)=fashion_mnist.load_data()"
   ]
  },
  {
   "cell_type": "code",
   "execution_count": 3,
   "metadata": {
    "ExecuteTime": {
     "end_time": "2021-12-07T18:21:51.415507Z",
     "start_time": "2021-12-07T18:21:51.060509Z"
    },
    "colab": {
     "base_uri": "https://localhost:8080/"
    },
    "id": "8b9W1_ongfNG",
    "outputId": "128b7e1d-5a20-47f6-ef26-926c47766cbe"
   },
   "outputs": [
    {
     "name": "stdout",
     "output_type": "stream",
     "text": [
      "(60000, 784)\n",
      "(10000, 784)\n"
     ]
    }
   ],
   "source": [
    "# Normalize the images.\n",
    "train_imagef = (train_imagef / 127) - 1\n",
    "test_imagef = (test_imagef / 127) - 1\n",
    "\n",
    "# Flatten the images.\n",
    "train_images = train_imagef.reshape((-1, 784))\n",
    "test_images = test_imagef.reshape((-1, 784))\n",
    "\n",
    "print(train_images.shape) # (60000, 784)\n",
    "print(test_images.shape)  # (10000, 784)"
   ]
  },
  {
   "cell_type": "code",
   "execution_count": 4,
   "metadata": {
    "ExecuteTime": {
     "end_time": "2021-12-07T18:21:54.362779Z",
     "start_time": "2021-12-07T18:21:54.344778Z"
    },
    "colab": {
     "base_uri": "https://localhost:8080/"
    },
    "id": "fZT78BeChWTW",
    "outputId": "8ce0922f-8998-4e15-f091-e1a6395bf6c9"
   },
   "outputs": [
    {
     "data": {
      "text/plain": [
       "array([0, 1, 2, 3, 4, 5, 6, 7, 8, 9], dtype=uint8)"
      ]
     },
     "execution_count": 4,
     "metadata": {},
     "output_type": "execute_result"
    }
   ],
   "source": [
    "# посмотрим сколько итоговых категорий\n",
    "np.unique(train_labelf)"
   ]
  },
  {
   "cell_type": "code",
   "execution_count": 5,
   "metadata": {
    "ExecuteTime": {
     "end_time": "2021-12-07T18:21:54.610369Z",
     "start_time": "2021-12-07T18:21:54.599369Z"
    },
    "id": "S6GgpVe1i0Qx"
   },
   "outputs": [],
   "source": [
    "# гиперпараметры модели\n",
    "n_cat: int # number of output categories\n",
    "n_layers: int # number of hidden layers\n",
    "n_neurons: int # number of neurons in hidden layer\n",
    "act_func: str # activation function\n",
    "optimizer: str # optimizer\n",
    "loss: str # loss function\n",
    "metrics: str # metrics"
   ]
  },
  {
   "cell_type": "code",
   "execution_count": 6,
   "metadata": {
    "ExecuteTime": {
     "end_time": "2021-12-07T18:21:55.987882Z",
     "start_time": "2021-12-07T18:21:55.976878Z"
    },
    "id": "ePKWHdoqo7in"
   },
   "outputs": [],
   "source": [
    "class OptimizedModel:\n",
    "  \"\"\"\n",
    "  Class for tests and optimisation model hyperparameters\n",
    "  parameters:\n",
    "  n_layers: int - number of hidden layers\n",
    "  n_neurons: int - number of neurons in one hidden layer\n",
    "  act_func: str - activation function on hidden layer\n",
    "  optimizer: str - optimizer\n",
    "  loss: str - loss function\n",
    "  metrics: str - result metric\n",
    "  epochs: int - number of epochs\n",
    "  verbose: bool - verbose mode\n",
    "  \"\"\"\n",
    "  def __init__(self, n_layers: int, n_neurons: int, act_func: str, optimizer: str, loss: str, metrics: str, epochs: int, verbose: bool):\n",
    "    self.n_layers = n_layers\n",
    "    self.n_neurons = n_neurons\n",
    "    self.act_func = act_func\n",
    "    self.optimizer = optimizer\n",
    "    self.loss = loss\n",
    "    self.metrics = metrics\n",
    "    self.epochs = epochs\n",
    "    self.verbose = verbose\n",
    "\n",
    "  def calculate(self, train_images, test_images, train_labels, test_labels):\n",
    "    n_cat = len(np.unique(train_labels)) # число выходных классов\n",
    "    model1 = Sequential(name='fashon_model')\n",
    "    model1.add(Dense( 128, activation='relu', input_shape=(784,)))  \n",
    "    # входной слой + поносвязный слой из 128 нейронов с активацией ReLU\n",
    "\n",
    "    for k in range(self.n_layers+1):\n",
    "      model1.add(Dense(self.n_neurons, activation=self.act_func)) \n",
    "      # Скрытый слой k из 10+(10-k)*10 нейронов с активацией tanh\n",
    "\n",
    "    model1.add(Dense(n_cat, activation='softmax')) \n",
    "    # выходной слой из 10 нейронов (сколько классов, столько нейронов) + активация softmax\n",
    "\n",
    "    model1.compile(\n",
    "      optimizer=self.optimizer, # оптимизатор\n",
    "      loss=self.loss, # функция потерь\n",
    "      metrics=[self.metrics], # метрика\n",
    "    ) \n",
    "\n",
    "    y_train = to_categorical(train_labels)\n",
    "    y_test = to_categorical(test_labels)\n",
    "\n",
    "    # Train the model.\n",
    "    model1.fit(  \n",
    "      train_images[:,:],\n",
    "      y_train[:,:],\n",
    "      epochs=self.epochs,\n",
    "      batch_size=1000, validation_split=0.2,\n",
    "      verbose=self.verbose\n",
    "    )\n",
    "\n",
    "    # Evaluate the model.\n",
    "\n",
    "    results = model1.evaluate(test_images, y_test, batch_size=128, verbose=False)\n",
    "    return results[1]"
   ]
  },
  {
   "cell_type": "code",
   "execution_count": 7,
   "metadata": {
    "ExecuteTime": {
     "end_time": "2021-12-07T18:22:57.793250Z",
     "start_time": "2021-12-07T18:21:57.832885Z"
    },
    "colab": {
     "base_uri": "https://localhost:8080/"
    },
    "id": "u7Cadvmfr9g-",
    "outputId": "1a49d225-1eef-4d46-de0f-a17342b1f0eb"
   },
   "outputs": [
    {
     "name": "stdout",
     "output_type": "stream",
     "text": [
      "[0.8748000264167786, 0.880299985408783, 0.8726000189781189, 0.8805000185966492, 0.8773999810218811, 0.8805999755859375, 0.8822000026702881, 0.8813999891281128, 0.8770999908447266, 0.8790000081062317]\n",
      "0.8786\n"
     ]
    }
   ],
   "source": [
    "res = []\n",
    "for n in np.arange(10):\n",
    "  mod = OptimizedModel(1, 120, 'tanh', 'adam', 'categorical_crossentropy', 'accuracy', 15, False)\n",
    "  res.append(mod.calculate(train_images, test_images, train_labelf, test_labelf))\n",
    "print(res)\n",
    "print(np.round(np.mean(res), 4))"
   ]
  },
  {
   "cell_type": "code",
   "execution_count": 8,
   "metadata": {
    "colab": {
     "base_uri": "https://localhost:8080/",
     "height": 363
    },
    "id": "y81sPY0QxXF1",
    "outputId": "92c2b114-feb0-4e6c-b42c-1e5271882387"
   },
   "outputs": [
    {
     "data": {
      "text/html": [
       "<div>\n",
       "<style scoped>\n",
       "    .dataframe tbody tr th:only-of-type {\n",
       "        vertical-align: middle;\n",
       "    }\n",
       "\n",
       "    .dataframe tbody tr th {\n",
       "        vertical-align: top;\n",
       "    }\n",
       "\n",
       "    .dataframe thead th {\n",
       "        text-align: right;\n",
       "    }\n",
       "</style>\n",
       "<table border=\"1\" class=\"dataframe\">\n",
       "  <thead>\n",
       "    <tr style=\"text-align: right;\">\n",
       "      <th></th>\n",
       "      <th>num_neutrons</th>\n",
       "      <th>accurancy</th>\n",
       "    </tr>\n",
       "  </thead>\n",
       "  <tbody>\n",
       "    <tr>\n",
       "      <th>0</th>\n",
       "      <td>100.0</td>\n",
       "      <td>0.87634</td>\n",
       "    </tr>\n",
       "    <tr>\n",
       "      <th>1</th>\n",
       "      <td>110.0</td>\n",
       "      <td>0.87820</td>\n",
       "    </tr>\n",
       "    <tr>\n",
       "      <th>2</th>\n",
       "      <td>120.0</td>\n",
       "      <td>0.87806</td>\n",
       "    </tr>\n",
       "    <tr>\n",
       "      <th>3</th>\n",
       "      <td>130.0</td>\n",
       "      <td>0.87936</td>\n",
       "    </tr>\n",
       "    <tr>\n",
       "      <th>4</th>\n",
       "      <td>140.0</td>\n",
       "      <td>0.87792</td>\n",
       "    </tr>\n",
       "    <tr>\n",
       "      <th>5</th>\n",
       "      <td>150.0</td>\n",
       "      <td>0.87815</td>\n",
       "    </tr>\n",
       "    <tr>\n",
       "      <th>6</th>\n",
       "      <td>160.0</td>\n",
       "      <td>0.87727</td>\n",
       "    </tr>\n",
       "    <tr>\n",
       "      <th>7</th>\n",
       "      <td>170.0</td>\n",
       "      <td>0.87950</td>\n",
       "    </tr>\n",
       "    <tr>\n",
       "      <th>8</th>\n",
       "      <td>180.0</td>\n",
       "      <td>0.87989</td>\n",
       "    </tr>\n",
       "    <tr>\n",
       "      <th>9</th>\n",
       "      <td>190.0</td>\n",
       "      <td>0.87807</td>\n",
       "    </tr>\n",
       "  </tbody>\n",
       "</table>\n",
       "</div>"
      ],
      "text/plain": [
       "   num_neutrons  accurancy\n",
       "0         100.0    0.87634\n",
       "1         110.0    0.87820\n",
       "2         120.0    0.87806\n",
       "3         130.0    0.87936\n",
       "4         140.0    0.87792\n",
       "5         150.0    0.87815\n",
       "6         160.0    0.87727\n",
       "7         170.0    0.87950\n",
       "8         180.0    0.87989\n",
       "9         190.0    0.87807"
      ]
     },
     "execution_count": 8,
     "metadata": {},
     "output_type": "execute_result"
    }
   ],
   "source": [
    "res_p = pd.DataFrame(columns=['num_neutrons', 'accurancy'])\n",
    "for n_neurons in np.arange(100, 200, 10):\n",
    "  res = []\n",
    "  for n in np.arange(10):\n",
    "    mod = OptimizedModel(1, n_neurons, 'tanh', 'adam', 'categorical_crossentropy', 'accuracy', 15, False)\n",
    "    res.append(mod.calculate(train_images, test_images, train_labelf, test_labelf))\n",
    "  res_p.loc[len(res_p)] = [n_neurons, np.mean(res)]\n",
    "res_p"
   ]
  },
  {
   "cell_type": "code",
   "execution_count": null,
   "metadata": {
    "id": "bDCDZP8e2dtA"
   },
   "outputs": [],
   "source": [
    "res_p.to_csv('number_neutrons', encoding='utf-8')"
   ]
  },
  {
   "cell_type": "markdown",
   "metadata": {
    "id": "YjLQJVa7wiGI"
   },
   "source": [
    "## Практическое задание\n",
    "\n",
    "Используем набор примеров fashion-MNIST\n",
    "\n",
    "1.  Опишите - какой результата получен в нейросети в зависимости от:\n",
    "  -  числа нейронов в слое(для 2-хслойной сети), \n",
    "  - числа слоев (2, 3, 5, 10) при близких размерах сети (близкое число тренируемых парметров).\n",
    "  - фиксируйте для тренировочного и тестового набора метрики accuracy.\n",
    "2.  Проверьте работу разных оптимизаторов (SGD, Adam, RMSProp) для одной из моделей п.1.Фиксируйте для тренировочного и тестового набора метрики accuracy.\n",
    "\n",
    "3. Сделайте вывод - что помогло вам улучшить качество классификации в нейросети на тестовом наборе? \n",
    "\n",
    "4. Для одного варианта сетей сформируйте матрицу ошибок по классам. Оцените качество модели по каждому классу отдельно (полнота , точность). Сделайте вывод."
   ]
  },
  {
   "cell_type": "code",
   "execution_count": null,
   "metadata": {
    "id": "y61j3TxQm8z0"
   },
   "outputs": [],
   "source": []
  }
 ],
 "metadata": {
  "accelerator": "GPU",
  "colab": {
   "collapsed_sections": [],
   "name": "Lesson_02_HW.ipynb",
   "provenance": []
  },
  "kernelspec": {
   "display_name": "Python 3 (ipykernel)",
   "language": "python",
   "name": "python3"
  },
  "language_info": {
   "codemirror_mode": {
    "name": "ipython",
    "version": 3
   },
   "file_extension": ".py",
   "mimetype": "text/x-python",
   "name": "python",
   "nbconvert_exporter": "python",
   "pygments_lexer": "ipython3",
   "version": "3.8.11"
  },
  "toc": {
   "base_numbering": 1,
   "nav_menu": {},
   "number_sections": true,
   "sideBar": true,
   "skip_h1_title": false,
   "title_cell": "Table of Contents",
   "title_sidebar": "Contents",
   "toc_cell": false,
   "toc_position": {},
   "toc_section_display": true,
   "toc_window_display": false
  }
 },
 "nbformat": 4,
 "nbformat_minor": 1
}
