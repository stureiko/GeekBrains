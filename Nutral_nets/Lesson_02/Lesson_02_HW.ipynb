{
  "nbformat": 4,
  "nbformat_minor": 0,
  "metadata": {
    "colab": {
      "name": "Lesson_02_HW.ipynb",
      "provenance": [],
      "collapsed_sections": []
    },
    "kernelspec": {
      "name": "python3",
      "display_name": "Python 3"
    },
    "language_info": {
      "name": "python"
    },
    "accelerator": "GPU"
  },
  "cells": [
    {
      "cell_type": "markdown",
      "metadata": {
        "id": "gPld1g-HY3o0"
      },
      "source": [
        "__Author: Стурейко Игорь__\n",
        "\n",
        "__Project: Geekbrains.NeutralNets__\n",
        "\n",
        "__Lesson 1 - Основы Keras__\n",
        "\n",
        "__Date: 2021-12-07__"
      ]
    },
    {
      "cell_type": "markdown",
      "metadata": {
        "id": "ZKdj9suaY1bM"
      },
      "source": [
        "# Импорты"
      ]
    },
    {
      "cell_type": "code",
      "metadata": {
        "id": "giYqavmWf20w"
      },
      "source": [
        "import numpy as np\n",
        "import pandas as pd\n",
        "import matplotlib.pyplot as plt\n",
        "import seaborn as sns\n",
        "\n",
        "import keras\n",
        "from keras.models import Sequential\n",
        "from keras.layers import Dense\n",
        "from keras.datasets import mnist\n",
        "from tensorflow.keras.utils import to_categorical\n",
        "from keras.datasets import fashion_mnist  # набор данных\n",
        "\n",
        "from google.colab import files"
      ],
      "execution_count": 17,
      "outputs": []
    },
    {
      "cell_type": "code",
      "metadata": {
        "id": "pziInDQxgA_7"
      },
      "source": [
        "(train_imagef,train_labelf),(test_imagef,test_labelf)=fashion_mnist.load_data()"
      ],
      "execution_count": 34,
      "outputs": []
    },
    {
      "cell_type": "code",
      "metadata": {
        "colab": {
          "base_uri": "https://localhost:8080/"
        },
        "id": "8b9W1_ongfNG",
        "outputId": "51826a09-3f8b-47ad-f058-9d5c8b0ac0a0"
      },
      "source": [
        "# Normalize the images.\n",
        "train_imagef = (train_imagef / 127) - 1\n",
        "test_imagef = (test_imagef / 127) - 1\n",
        "\n",
        "# Flatten the images.\n",
        "train_images = train_imagef.reshape((-1, 784))\n",
        "test_images = test_imagef.reshape((-1, 784))\n",
        "\n",
        "print(train_images.shape) # (60000, 784)\n",
        "print(test_images.shape)  # (10000, 784)"
      ],
      "execution_count": 35,
      "outputs": [
        {
          "output_type": "stream",
          "name": "stdout",
          "text": [
            "(60000, 784)\n",
            "(10000, 784)\n"
          ]
        }
      ]
    },
    {
      "cell_type": "code",
      "metadata": {
        "colab": {
          "base_uri": "https://localhost:8080/"
        },
        "id": "fZT78BeChWTW",
        "outputId": "a6726f10-2671-4fa7-b59e-3a06cd3808d4"
      },
      "source": [
        "# посмотрим сколько итоговых категорий\n",
        "np.unique(train_labelf)"
      ],
      "execution_count": 4,
      "outputs": [
        {
          "output_type": "execute_result",
          "data": {
            "text/plain": [
              "array([0, 1, 2, 3, 4, 5, 6, 7, 8, 9], dtype=uint8)"
            ]
          },
          "metadata": {},
          "execution_count": 4
        }
      ]
    },
    {
      "cell_type": "markdown",
      "source": [
        "# Сравним сети с различными параметрами (количество нейронов в слое и оптимизатор)"
      ],
      "metadata": {
        "id": "NhaI8yyxIaQd"
      }
    },
    {
      "cell_type": "code",
      "metadata": {
        "id": "S6GgpVe1i0Qx"
      },
      "source": [
        "# гиперпараметры модели\n",
        "n_cat: int # number of output categories\n",
        "n_layers: int # number of hidden layers\n",
        "n_neurons: int # number of neurons in hidden layer\n",
        "act_func: str # activation function\n",
        "optimizer: str # optimizer (SGD, RMSprop, Adam, Adadelta, Adagrad, Adamax, Nadam, Ftrl)\n",
        "loss: str # loss function\n",
        "metrics: str # metrics"
      ],
      "execution_count": 5,
      "outputs": []
    },
    {
      "cell_type": "code",
      "metadata": {
        "id": "ePKWHdoqo7in"
      },
      "source": [
        "class OptimizedModel:\n",
        "  \"\"\"\n",
        "  Class for tests and optimisation model hyperparameters\n",
        "  parameters:\n",
        "  n_layers: int - number of hidden layers\n",
        "  n_neurons: int - number of neurons in one hidden layer\n",
        "  act_func: str - activation function on hidden layer\n",
        "  optimizer: str - optimizer\n",
        "  loss: str - loss function\n",
        "  metrics: str - result metric\n",
        "  epochs: int - number of epochs\n",
        "  verbose: bool - verbose mode\n",
        "  \"\"\"\n",
        "  def __init__(self, n_layers: int, n_neurons: int, act_func: str, optimizer: str, loss: str, metrics: str, epochs: int, verbose: bool):\n",
        "    self.n_layers = n_layers\n",
        "    self.n_neurons = n_neurons\n",
        "    self.act_func = act_func\n",
        "    self.optimizer = optimizer\n",
        "    self.loss = loss\n",
        "    self.metrics = metrics\n",
        "    self.epochs = epochs\n",
        "    self.verbose = verbose\n",
        "\n",
        "  def calculate(self, train_images, test_images, train_labels, test_labels):\n",
        "    n_cat = len(np.unique(train_labels)) # число выходных классов\n",
        "    model1 = Sequential(name='fashon_model')\n",
        "    model1.add(Dense( 128, activation='relu', input_shape=(784,)))  \n",
        "    # входной слой + поносвязный слой из 128 нейронов с активацией ReLU\n",
        "\n",
        "    for k in range(self.n_layers+1):\n",
        "      model1.add(Dense(self.n_neurons, activation=self.act_func)) \n",
        "      # Скрытый слой k из 10+(10-k)*10 нейронов с активацией tanh\n",
        "\n",
        "    model1.add(Dense(n_cat, activation='softmax')) \n",
        "    # выходной слой из 10 нейронов (сколько классов, столько нейронов) + активация softmax\n",
        "\n",
        "    model1.compile(\n",
        "      optimizer=self.optimizer, # оптимизатор\n",
        "      loss=self.loss, # функция потерь\n",
        "      metrics=[self.metrics], # метрика\n",
        "    ) \n",
        "\n",
        "    y_train = to_categorical(train_labels)\n",
        "    y_test = to_categorical(test_labels)\n",
        "\n",
        "    # Train the model.\n",
        "    model1.fit(  \n",
        "      train_images[:,:],\n",
        "      y_train[:,:],\n",
        "      epochs=self.epochs,\n",
        "      batch_size=1000, validation_split=0.2,\n",
        "      verbose=self.verbose\n",
        "    )\n",
        "\n",
        "    # Evaluate the model.\n",
        "\n",
        "    results = model1.evaluate(test_images, y_test, batch_size=128, verbose=False)\n",
        "    return results[1]"
      ],
      "execution_count": 11,
      "outputs": []
    },
    {
      "cell_type": "code",
      "source": [
        "mod = OptimizedModel(1, 120, 'sigmoid', 'adam', 'categorical_crossentropy', 'accuracy', 15, False)\n",
        "mod.calculate(train_images, test_images, train_labelf, test_labelf)"
      ],
      "metadata": {
        "colab": {
          "base_uri": "https://localhost:8080/"
        },
        "id": "pQT2ExMom_Yu",
        "outputId": "88fa487c-9378-4891-ec65-320be2cbe782"
      },
      "execution_count": 12,
      "outputs": [
        {
          "output_type": "execute_result",
          "data": {
            "text/plain": [
              "0.8737999796867371"
            ]
          },
          "metadata": {},
          "execution_count": 12
        }
      ]
    },
    {
      "cell_type": "code",
      "metadata": {
        "colab": {
          "base_uri": "https://localhost:8080/"
        },
        "id": "u7Cadvmfr9g-",
        "outputId": "1a49d225-1eef-4d46-de0f-a17342b1f0eb"
      },
      "source": [
        "res = []\n",
        "for n in np.arange(10):\n",
        "  mod = OptimizedModel(1, 120, 'tanh', 'adam', 'categorical_crossentropy', 'accuracy', 15, False)\n",
        "  res.append(mod.calculate(train_images, test_images, train_labelf, test_labelf))\n",
        "print(res)\n",
        "print(np.round(np.mean(res), 4))"
      ],
      "execution_count": null,
      "outputs": [
        {
          "output_type": "stream",
          "name": "stdout",
          "text": [
            "[0.8741000294685364, 0.8744000196456909, 0.8801000118255615, 0.879800021648407, 0.8799999952316284, 0.8737000226974487, 0.8762999773025513, 0.8744999766349792, 0.8804000020027161, 0.881600022315979]\n",
            "0.8775\n"
          ]
        }
      ]
    },
    {
      "cell_type": "code",
      "metadata": {
        "colab": {
          "base_uri": "https://localhost:8080/",
          "height": 436
        },
        "id": "y81sPY0QxXF1",
        "outputId": "f160dc60-dc4b-4900-8b38-af7f1c2bb7c8"
      },
      "source": [
        "res_p = pd.DataFrame(columns=['optimizer', 'num_neutrons', 'accurancy'])\n",
        "for opt in ['SGD', 'RMSprop', 'Adam', 'Adadelta', 'Adagrad', 'Adamax', 'Nadam', 'Ftrl']:\n",
        "  for n_neurons in np.arange(100, 200, 10):\n",
        "    res = []\n",
        "    for n in np.arange(10):\n",
        "      mod = OptimizedModel(1, n_neurons, 'tanh', opt, 'categorical_crossentropy', 'accuracy', 15, False)\n",
        "      res.append(mod.calculate(train_images, test_images, train_labelf, test_labelf))\n",
        "    res_p.loc[len(res_p)] = [opt, n_neurons, np.mean(res)]\n",
        "\n",
        "res_p.to_csv('models.csv', encoding='utf-8')\n",
        "files.download('models.csv')\n",
        "res_p"
      ],
      "execution_count": 14,
      "outputs": [
        {
          "output_type": "display_data",
          "data": {
            "application/javascript": [
              "\n",
              "    async function download(id, filename, size) {\n",
              "      if (!google.colab.kernel.accessAllowed) {\n",
              "        return;\n",
              "      }\n",
              "      const div = document.createElement('div');\n",
              "      const label = document.createElement('label');\n",
              "      label.textContent = `Downloading \"${filename}\": `;\n",
              "      div.appendChild(label);\n",
              "      const progress = document.createElement('progress');\n",
              "      progress.max = size;\n",
              "      div.appendChild(progress);\n",
              "      document.body.appendChild(div);\n",
              "\n",
              "      const buffers = [];\n",
              "      let downloaded = 0;\n",
              "\n",
              "      const channel = await google.colab.kernel.comms.open(id);\n",
              "      // Send a message to notify the kernel that we're ready.\n",
              "      channel.send({})\n",
              "\n",
              "      for await (const message of channel.messages) {\n",
              "        // Send a message to notify the kernel that we're ready.\n",
              "        channel.send({})\n",
              "        if (message.buffers) {\n",
              "          for (const buffer of message.buffers) {\n",
              "            buffers.push(buffer);\n",
              "            downloaded += buffer.byteLength;\n",
              "            progress.value = downloaded;\n",
              "          }\n",
              "        }\n",
              "      }\n",
              "      const blob = new Blob(buffers, {type: 'application/binary'});\n",
              "      const a = document.createElement('a');\n",
              "      a.href = window.URL.createObjectURL(blob);\n",
              "      a.download = filename;\n",
              "      div.appendChild(a);\n",
              "      a.click();\n",
              "      div.remove();\n",
              "    }\n",
              "  "
            ],
            "text/plain": [
              "<IPython.core.display.Javascript object>"
            ]
          },
          "metadata": {}
        },
        {
          "output_type": "display_data",
          "data": {
            "application/javascript": [
              "download(\"download_f59aace8-37bf-4ff1-b9de-4f3e044a550d\", \"models.csv\", 2633)"
            ],
            "text/plain": [
              "<IPython.core.display.Javascript object>"
            ]
          },
          "metadata": {}
        },
        {
          "output_type": "execute_result",
          "data": {
            "text/html": [
              "<div>\n",
              "<style scoped>\n",
              "    .dataframe tbody tr th:only-of-type {\n",
              "        vertical-align: middle;\n",
              "    }\n",
              "\n",
              "    .dataframe tbody tr th {\n",
              "        vertical-align: top;\n",
              "    }\n",
              "\n",
              "    .dataframe thead th {\n",
              "        text-align: right;\n",
              "    }\n",
              "</style>\n",
              "<table border=\"1\" class=\"dataframe\">\n",
              "  <thead>\n",
              "    <tr style=\"text-align: right;\">\n",
              "      <th></th>\n",
              "      <th>optimizer</th>\n",
              "      <th>num_neutrons</th>\n",
              "      <th>accurancy</th>\n",
              "    </tr>\n",
              "  </thead>\n",
              "  <tbody>\n",
              "    <tr>\n",
              "      <th>0</th>\n",
              "      <td>SGD</td>\n",
              "      <td>100</td>\n",
              "      <td>0.80385</td>\n",
              "    </tr>\n",
              "    <tr>\n",
              "      <th>1</th>\n",
              "      <td>SGD</td>\n",
              "      <td>110</td>\n",
              "      <td>0.80410</td>\n",
              "    </tr>\n",
              "    <tr>\n",
              "      <th>2</th>\n",
              "      <td>SGD</td>\n",
              "      <td>120</td>\n",
              "      <td>0.80294</td>\n",
              "    </tr>\n",
              "    <tr>\n",
              "      <th>3</th>\n",
              "      <td>SGD</td>\n",
              "      <td>130</td>\n",
              "      <td>0.80472</td>\n",
              "    </tr>\n",
              "    <tr>\n",
              "      <th>4</th>\n",
              "      <td>SGD</td>\n",
              "      <td>140</td>\n",
              "      <td>0.80458</td>\n",
              "    </tr>\n",
              "    <tr>\n",
              "      <th>...</th>\n",
              "      <td>...</td>\n",
              "      <td>...</td>\n",
              "      <td>...</td>\n",
              "    </tr>\n",
              "    <tr>\n",
              "      <th>75</th>\n",
              "      <td>Ftrl</td>\n",
              "      <td>150</td>\n",
              "      <td>0.10000</td>\n",
              "    </tr>\n",
              "    <tr>\n",
              "      <th>76</th>\n",
              "      <td>Ftrl</td>\n",
              "      <td>160</td>\n",
              "      <td>0.10000</td>\n",
              "    </tr>\n",
              "    <tr>\n",
              "      <th>77</th>\n",
              "      <td>Ftrl</td>\n",
              "      <td>170</td>\n",
              "      <td>0.10000</td>\n",
              "    </tr>\n",
              "    <tr>\n",
              "      <th>78</th>\n",
              "      <td>Ftrl</td>\n",
              "      <td>180</td>\n",
              "      <td>0.10000</td>\n",
              "    </tr>\n",
              "    <tr>\n",
              "      <th>79</th>\n",
              "      <td>Ftrl</td>\n",
              "      <td>190</td>\n",
              "      <td>0.10000</td>\n",
              "    </tr>\n",
              "  </tbody>\n",
              "</table>\n",
              "<p>80 rows × 3 columns</p>\n",
              "</div>"
            ],
            "text/plain": [
              "   optimizer num_neutrons  accurancy\n",
              "0        SGD          100    0.80385\n",
              "1        SGD          110    0.80410\n",
              "2        SGD          120    0.80294\n",
              "3        SGD          130    0.80472\n",
              "4        SGD          140    0.80458\n",
              "..       ...          ...        ...\n",
              "75      Ftrl          150    0.10000\n",
              "76      Ftrl          160    0.10000\n",
              "77      Ftrl          170    0.10000\n",
              "78      Ftrl          180    0.10000\n",
              "79      Ftrl          190    0.10000\n",
              "\n",
              "[80 rows x 3 columns]"
            ]
          },
          "metadata": {},
          "execution_count": 14
        }
      ]
    },
    {
      "cell_type": "code",
      "source": [
        "model_pivot = res_p.pivot('optimizer', 'num_neutrons', 'accurancy')\n",
        "model_pivot"
      ],
      "metadata": {
        "colab": {
          "base_uri": "https://localhost:8080/",
          "height": 328
        },
        "id": "49XoSZ3tIlP-",
        "outputId": "d63340c7-d9ab-4a9a-a86e-2a30fc2f609e"
      },
      "execution_count": 18,
      "outputs": [
        {
          "output_type": "execute_result",
          "data": {
            "text/html": [
              "<div>\n",
              "<style scoped>\n",
              "    .dataframe tbody tr th:only-of-type {\n",
              "        vertical-align: middle;\n",
              "    }\n",
              "\n",
              "    .dataframe tbody tr th {\n",
              "        vertical-align: top;\n",
              "    }\n",
              "\n",
              "    .dataframe thead th {\n",
              "        text-align: right;\n",
              "    }\n",
              "</style>\n",
              "<table border=\"1\" class=\"dataframe\">\n",
              "  <thead>\n",
              "    <tr style=\"text-align: right;\">\n",
              "      <th>num_neutrons</th>\n",
              "      <th>100</th>\n",
              "      <th>110</th>\n",
              "      <th>120</th>\n",
              "      <th>130</th>\n",
              "      <th>140</th>\n",
              "      <th>150</th>\n",
              "      <th>160</th>\n",
              "      <th>170</th>\n",
              "      <th>180</th>\n",
              "      <th>190</th>\n",
              "    </tr>\n",
              "    <tr>\n",
              "      <th>optimizer</th>\n",
              "      <th></th>\n",
              "      <th></th>\n",
              "      <th></th>\n",
              "      <th></th>\n",
              "      <th></th>\n",
              "      <th></th>\n",
              "      <th></th>\n",
              "      <th></th>\n",
              "      <th></th>\n",
              "      <th></th>\n",
              "    </tr>\n",
              "  </thead>\n",
              "  <tbody>\n",
              "    <tr>\n",
              "      <th>Adadelta</th>\n",
              "      <td>0.41793</td>\n",
              "      <td>0.42232</td>\n",
              "      <td>0.44227</td>\n",
              "      <td>0.43236</td>\n",
              "      <td>0.45478</td>\n",
              "      <td>0.45614</td>\n",
              "      <td>0.48311</td>\n",
              "      <td>0.46369</td>\n",
              "      <td>0.48247</td>\n",
              "      <td>0.49534</td>\n",
              "    </tr>\n",
              "    <tr>\n",
              "      <th>Adagrad</th>\n",
              "      <td>0.74837</td>\n",
              "      <td>0.74718</td>\n",
              "      <td>0.74830</td>\n",
              "      <td>0.74921</td>\n",
              "      <td>0.75128</td>\n",
              "      <td>0.74859</td>\n",
              "      <td>0.75167</td>\n",
              "      <td>0.75291</td>\n",
              "      <td>0.75278</td>\n",
              "      <td>0.75533</td>\n",
              "    </tr>\n",
              "    <tr>\n",
              "      <th>Adam</th>\n",
              "      <td>0.87929</td>\n",
              "      <td>0.87741</td>\n",
              "      <td>0.87910</td>\n",
              "      <td>0.87945</td>\n",
              "      <td>0.87979</td>\n",
              "      <td>0.87688</td>\n",
              "      <td>0.87673</td>\n",
              "      <td>0.87713</td>\n",
              "      <td>0.87922</td>\n",
              "      <td>0.87716</td>\n",
              "    </tr>\n",
              "    <tr>\n",
              "      <th>Adamax</th>\n",
              "      <td>0.86891</td>\n",
              "      <td>0.86977</td>\n",
              "      <td>0.87008</td>\n",
              "      <td>0.87165</td>\n",
              "      <td>0.87148</td>\n",
              "      <td>0.87035</td>\n",
              "      <td>0.87102</td>\n",
              "      <td>0.87034</td>\n",
              "      <td>0.87158</td>\n",
              "      <td>0.87013</td>\n",
              "    </tr>\n",
              "    <tr>\n",
              "      <th>Ftrl</th>\n",
              "      <td>0.10000</td>\n",
              "      <td>0.10000</td>\n",
              "      <td>0.10000</td>\n",
              "      <td>0.10000</td>\n",
              "      <td>0.10000</td>\n",
              "      <td>0.10000</td>\n",
              "      <td>0.10000</td>\n",
              "      <td>0.10000</td>\n",
              "      <td>0.10000</td>\n",
              "      <td>0.10000</td>\n",
              "    </tr>\n",
              "    <tr>\n",
              "      <th>Nadam</th>\n",
              "      <td>0.87180</td>\n",
              "      <td>0.87470</td>\n",
              "      <td>0.87253</td>\n",
              "      <td>0.87645</td>\n",
              "      <td>0.87527</td>\n",
              "      <td>0.87110</td>\n",
              "      <td>0.87349</td>\n",
              "      <td>0.87278</td>\n",
              "      <td>0.87575</td>\n",
              "      <td>0.87445</td>\n",
              "    </tr>\n",
              "    <tr>\n",
              "      <th>RMSprop</th>\n",
              "      <td>0.86810</td>\n",
              "      <td>0.86414</td>\n",
              "      <td>0.86758</td>\n",
              "      <td>0.86336</td>\n",
              "      <td>0.86947</td>\n",
              "      <td>0.86091</td>\n",
              "      <td>0.86520</td>\n",
              "      <td>0.86261</td>\n",
              "      <td>0.86804</td>\n",
              "      <td>0.86834</td>\n",
              "    </tr>\n",
              "    <tr>\n",
              "      <th>SGD</th>\n",
              "      <td>0.80385</td>\n",
              "      <td>0.80410</td>\n",
              "      <td>0.80294</td>\n",
              "      <td>0.80472</td>\n",
              "      <td>0.80458</td>\n",
              "      <td>0.80518</td>\n",
              "      <td>0.80627</td>\n",
              "      <td>0.80702</td>\n",
              "      <td>0.80592</td>\n",
              "      <td>0.80824</td>\n",
              "    </tr>\n",
              "  </tbody>\n",
              "</table>\n",
              "</div>"
            ],
            "text/plain": [
              "num_neutrons      100      110      120  ...      170      180      190\n",
              "optimizer                                ...                           \n",
              "Adadelta      0.41793  0.42232  0.44227  ...  0.46369  0.48247  0.49534\n",
              "Adagrad       0.74837  0.74718  0.74830  ...  0.75291  0.75278  0.75533\n",
              "Adam          0.87929  0.87741  0.87910  ...  0.87713  0.87922  0.87716\n",
              "Adamax        0.86891  0.86977  0.87008  ...  0.87034  0.87158  0.87013\n",
              "Ftrl          0.10000  0.10000  0.10000  ...  0.10000  0.10000  0.10000\n",
              "Nadam         0.87180  0.87470  0.87253  ...  0.87278  0.87575  0.87445\n",
              "RMSprop       0.86810  0.86414  0.86758  ...  0.86261  0.86804  0.86834\n",
              "SGD           0.80385  0.80410  0.80294  ...  0.80702  0.80592  0.80824\n",
              "\n",
              "[8 rows x 10 columns]"
            ]
          },
          "metadata": {},
          "execution_count": 18
        }
      ]
    },
    {
      "cell_type": "code",
      "source": [
        "sns.lineplot(data=model_pivot.T)\n",
        "plt.show()"
      ],
      "metadata": {
        "colab": {
          "base_uri": "https://localhost:8080/",
          "height": 280
        },
        "id": "DXif_zElJm4Z",
        "outputId": "7ce38619-e510-4e9b-a987-04a6cfc8908d"
      },
      "execution_count": 22,
      "outputs": [
        {
          "output_type": "display_data",
          "data": {
            "image/png": "[encoded data removed]",
            "text/plain": [
              "<Figure size 432x288 with 1 Axes>"
            ]
          },
          "metadata": {
            "needs_background": "light"
          }
        }
      ]
    },
    {
      "cell_type": "markdown",
      "source": [
        "## Наилучшие результаты показывает __Nadam__ практически не зависимо от количества нейронов в слое"
      ],
      "metadata": {
        "id": "PocozbmsJ16I"
      }
    },
    {
      "cell_type": "markdown",
      "source": [
        "# Сравним сети с различным количеством слоев "
      ],
      "metadata": {
        "id": "taP53KDAIRDa"
      }
    },
    {
      "cell_type": "code",
      "metadata": {
        "id": "bDCDZP8e2dtA",
        "colab": {
          "base_uri": "https://localhost:8080/"
        },
        "outputId": "79ce060a-5eb0-46cf-8038-a797dc1f3ba8"
      },
      "source": [
        "# # Normalize the images.\n",
        "# train_imagef = (train_imagef / 127) - 1\n",
        "# test_imagef = (test_imagef / 127) - 1\n",
        "\n",
        "# # Flatten the images.\n",
        "# train_images = train_imagef.reshape((-1, 784))\n",
        "# test_images = test_imagef.reshape((-1, 784))\n",
        "\n",
        "y_train = to_categorical(train_labelf)\n",
        "y_test = to_categorical(test_labelf)\n",
        "\n",
        "model1 = Sequential(name='fashon_model')\n",
        "model1.add(Dense( 128, activation='relu', input_shape=(784,)))  \n",
        "# входной слой + поносвязный слой из 128 нейронов с активацией ReLU\n",
        "n_cat = 10\n",
        "n_layers = 1\n",
        "n_neurons = 500\n",
        "act_func = 'tanh'\n",
        "optimizer = 'adam'\n",
        "loss = 'categorical_crossentropy'\n",
        "metrics = 'accuracy'\n",
        "epochs = 15\n",
        "\n",
        "for k in range(n_layers+1):\n",
        "  model1.add(Dense(n_neurons, activation=act_func)) \n",
        "  # Скрытый слой k из 10+(10-k)*10 нейронов с активацией tanh\n",
        "\n",
        "model1.add(Dense(n_cat, activation='softmax')) \n",
        "# выходной слой из 10 нейронов (сколько классов, столько нейронов) + активация softmax\n",
        "\n",
        "model1.compile(\n",
        "  optimizer=optimizer, # оптимизатор\n",
        "  loss=loss, # функция потерь\n",
        "  metrics=[metrics], # метрика\n",
        ")\n",
        "\n",
        "model1.summary()\n",
        "\n",
        "# Train the model.\n",
        "model1.fit(  \n",
        "  train_images[:,:],\n",
        "  y_train[:,:],\n",
        "  epochs=epochs,\n",
        "  batch_size=1000, validation_split=0.2,\n",
        "  verbose=False\n",
        ")\n",
        "\n",
        "# Evaluate the model.\n",
        "\n",
        "results = model1.evaluate(test_images, y_test, batch_size=128, verbose=False)\n",
        "print(f'Num layers: {n_layers}, accuracy: {results[1]}')"
      ],
      "execution_count": 37,
      "outputs": [
        {
          "output_type": "stream",
          "name": "stdout",
          "text": [
            "Model: \"fashon_model\"\n",
            "_________________________________________________________________\n",
            " Layer (type)                Output Shape              Param #   \n",
            "=================================================================\n",
            " dense_3269 (Dense)          (None, 128)               100480    \n",
            "                                                                 \n",
            " dense_3270 (Dense)          (None, 500)               64500     \n",
            "                                                                 \n",
            " dense_3271 (Dense)          (None, 500)               250500    \n",
            "                                                                 \n",
            " dense_3272 (Dense)          (None, 10)                5010      \n",
            "                                                                 \n",
            "=================================================================\n",
            "Total params: 420,490\n",
            "Trainable params: 420,490\n",
            "Non-trainable params: 0\n",
            "_________________________________________________________________\n",
            "Num layers: 1, accuracy: 0.8730000257492065\n"
          ]
        }
      ]
    },
    {
      "cell_type": "code",
      "source": [
        "model1 = Sequential(name='fashon_model')\n",
        "model1.add(Dense( 128, activation='relu', input_shape=(784,)))  \n",
        "# входной слой + поносвязный слой из 128 нейронов с активацией ReLU\n",
        "n_cat = 10\n",
        "n_layers = 2\n",
        "n_neurons = 370\n",
        "act_func = 'tanh'\n",
        "optimizer = 'adam'\n",
        "loss = 'categorical_crossentropy'\n",
        "metrics = 'accuracy'\n",
        "epochs = 15\n",
        "\n",
        "for k in range(n_layers+1):\n",
        "  model1.add(Dense(n_neurons, activation=act_func)) \n",
        "  # Скрытый слой k из 10+(10-k)*10 нейронов с активацией tanh\n",
        "\n",
        "model1.add(Dense(n_cat, activation='softmax')) \n",
        "# выходной слой из 10 нейронов (сколько классов, столько нейронов) + активация softmax\n",
        "\n",
        "model1.compile(\n",
        "  optimizer=optimizer, # оптимизатор\n",
        "  loss=loss, # функция потерь\n",
        "  metrics=[metrics], # метрика\n",
        ")\n",
        "\n",
        "model1.summary()\n",
        "\n",
        "# Train the model.\n",
        "model1.fit(  \n",
        "  train_images[:,:],\n",
        "  y_train[:,:],\n",
        "  epochs=epochs,\n",
        "  batch_size=1000, validation_split=0.2,\n",
        "  verbose=False\n",
        ")\n",
        "\n",
        "# Evaluate the model.\n",
        "\n",
        "results = model1.evaluate(test_images, y_test, batch_size=128, verbose=False)\n",
        "print(f'Num layers: {n_layers}, accuracy: {results[1]}')"
      ],
      "metadata": {
        "colab": {
          "base_uri": "https://localhost:8080/"
        },
        "id": "moYms86CNaGb",
        "outputId": "f86e8b88-daad-4758-e924-e6150a11ad6c"
      },
      "execution_count": 43,
      "outputs": [
        {
          "output_type": "stream",
          "name": "stdout",
          "text": [
            "Model: \"fashon_model\"\n",
            "_________________________________________________________________\n",
            " Layer (type)                Output Shape              Param #   \n",
            "=================================================================\n",
            " dense_3298 (Dense)          (None, 128)               100480    \n",
            "                                                                 \n",
            " dense_3299 (Dense)          (None, 370)               47730     \n",
            "                                                                 \n",
            " dense_3300 (Dense)          (None, 370)               137270    \n",
            "                                                                 \n",
            " dense_3301 (Dense)          (None, 370)               137270    \n",
            "                                                                 \n",
            " dense_3302 (Dense)          (None, 10)                3710      \n",
            "                                                                 \n",
            "=================================================================\n",
            "Total params: 426,460\n",
            "Trainable params: 426,460\n",
            "Non-trainable params: 0\n",
            "_________________________________________________________________\n",
            "Num layers: 2, accuracy: 0.8791999816894531\n"
          ]
        }
      ]
    },
    {
      "cell_type": "code",
      "source": [
        "model1 = Sequential(name='fashon_model')\n",
        "model1.add(Dense( 128, activation='relu', input_shape=(784,)))  \n",
        "# входной слой + поносвязный слой из 128 нейронов с активацией ReLU\n",
        "n_cat = 10\n",
        "n_layers = 4\n",
        "n_neurons = 270\n",
        "act_func = 'tanh'\n",
        "optimizer = 'adam'\n",
        "loss = 'categorical_crossentropy'\n",
        "metrics = 'accuracy'\n",
        "epochs = 15\n",
        "\n",
        "for k in range(n_layers+1):\n",
        "  model1.add(Dense(n_neurons, activation=act_func)) \n",
        "  # Скрытый слой k из 10+(10-k)*10 нейронов с активацией tanh\n",
        "\n",
        "model1.add(Dense(n_cat, activation='softmax')) \n",
        "# выходной слой из 10 нейронов (сколько классов, столько нейронов) + активация softmax\n",
        "\n",
        "model1.compile(\n",
        "  optimizer=optimizer, # оптимизатор\n",
        "  loss=loss, # функция потерь\n",
        "  metrics=[metrics], # метрика\n",
        ")\n",
        "\n",
        "model1.summary()\n",
        "\n",
        "# Train the model.\n",
        "model1.fit(  \n",
        "  train_images[:,:],\n",
        "  y_train[:,:],\n",
        "  epochs=epochs,\n",
        "  batch_size=1000, validation_split=0.2,\n",
        "  verbose=False\n",
        ")\n",
        "\n",
        "# Evaluate the model.\n",
        "\n",
        "results = model1.evaluate(test_images, y_test, batch_size=128, verbose=False)\n",
        "print(f'Num layers: {n_layers}, accuracy: {results[1]}')"
      ],
      "metadata": {
        "colab": {
          "base_uri": "https://localhost:8080/"
        },
        "id": "bgEmdGUbNx5Q",
        "outputId": "ef86215b-23ea-4a23-98ef-4cd392009f0f"
      },
      "execution_count": 45,
      "outputs": [
        {
          "output_type": "stream",
          "name": "stdout",
          "text": [
            "Model: \"fashon_model\"\n",
            "_________________________________________________________________\n",
            " Layer (type)                Output Shape              Param #   \n",
            "=================================================================\n",
            " dense_3310 (Dense)          (None, 128)               100480    \n",
            "                                                                 \n",
            " dense_3311 (Dense)          (None, 270)               34830     \n",
            "                                                                 \n",
            " dense_3312 (Dense)          (None, 270)               73170     \n",
            "                                                                 \n",
            " dense_3313 (Dense)          (None, 270)               73170     \n",
            "                                                                 \n",
            " dense_3314 (Dense)          (None, 270)               73170     \n",
            "                                                                 \n",
            " dense_3315 (Dense)          (None, 270)               73170     \n",
            "                                                                 \n",
            " dense_3316 (Dense)          (None, 10)                2710      \n",
            "                                                                 \n",
            "=================================================================\n",
            "Total params: 430,700\n",
            "Trainable params: 430,700\n",
            "Non-trainable params: 0\n",
            "_________________________________________________________________\n",
            "Num layers: 4, accuracy: 0.8762999773025513\n"
          ]
        }
      ]
    },
    {
      "cell_type": "code",
      "source": [
        "model1 = Sequential(name='fashon_model')\n",
        "model1.add(Dense( 128, activation='relu', input_shape=(784,)))  \n",
        "# входной слой + поносвязный слой из 128 нейронов с активацией ReLU\n",
        "n_cat = 10\n",
        "n_layers = 9\n",
        "n_neurons = 200\n",
        "act_func = 'tanh'\n",
        "optimizer = 'adam'\n",
        "loss = 'categorical_crossentropy'\n",
        "metrics = 'accuracy'\n",
        "epochs = 15\n",
        "\n",
        "for k in range(n_layers+1):\n",
        "  model1.add(Dense(n_neurons, activation=act_func)) \n",
        "  # Скрытый слой k из 10+(10-k)*10 нейронов с активацией tanh\n",
        "\n",
        "model1.add(Dense(n_cat, activation='softmax')) \n",
        "# выходной слой из 10 нейронов (сколько классов, столько нейронов) + активация softmax\n",
        "\n",
        "model1.compile(\n",
        "  optimizer=optimizer, # оптимизатор\n",
        "  loss=loss, # функция потерь\n",
        "  metrics=[metrics], # метрика\n",
        ")\n",
        "\n",
        "model1.summary()\n",
        "\n",
        "# Train the model.\n",
        "model1.fit(  \n",
        "  train_images[:,:],\n",
        "  y_train[:,:],\n",
        "  epochs=epochs,\n",
        "  batch_size=1000, validation_split=0.2,\n",
        "  verbose=False\n",
        ")\n",
        "\n",
        "# Evaluate the model.\n",
        "\n",
        "results = model1.evaluate(test_images, y_test, batch_size=128, verbose=False)\n",
        "print(f'Num layers: {n_layers}, accuracy: {results[1]}')"
      ],
      "metadata": {
        "colab": {
          "base_uri": "https://localhost:8080/"
        },
        "id": "F3hAmN9gOFS3",
        "outputId": "35258a84-ea74-4656-a512-dccdeb4f752e"
      },
      "execution_count": 48,
      "outputs": [
        {
          "output_type": "stream",
          "name": "stdout",
          "text": [
            "Model: \"fashon_model\"\n",
            "_________________________________________________________________\n",
            " Layer (type)                Output Shape              Param #   \n",
            "=================================================================\n",
            " dense_3341 (Dense)          (None, 128)               100480    \n",
            "                                                                 \n",
            " dense_3342 (Dense)          (None, 200)               25800     \n",
            "                                                                 \n",
            " dense_3343 (Dense)          (None, 200)               40200     \n",
            "                                                                 \n",
            " dense_3344 (Dense)          (None, 200)               40200     \n",
            "                                                                 \n",
            " dense_3345 (Dense)          (None, 200)               40200     \n",
            "                                                                 \n",
            " dense_3346 (Dense)          (None, 200)               40200     \n",
            "                                                                 \n",
            " dense_3347 (Dense)          (None, 200)               40200     \n",
            "                                                                 \n",
            " dense_3348 (Dense)          (None, 200)               40200     \n",
            "                                                                 \n",
            " dense_3349 (Dense)          (None, 200)               40200     \n",
            "                                                                 \n",
            " dense_3350 (Dense)          (None, 200)               40200     \n",
            "                                                                 \n",
            " dense_3351 (Dense)          (None, 200)               40200     \n",
            "                                                                 \n",
            " dense_3352 (Dense)          (None, 10)                2010      \n",
            "                                                                 \n",
            "=================================================================\n",
            "Total params: 490,090\n",
            "Trainable params: 490,090\n",
            "Non-trainable params: 0\n",
            "_________________________________________________________________\n",
            "Num layers: 9, accuracy: 0.8730999827384949\n"
          ]
        }
      ]
    },
    {
      "cell_type": "markdown",
      "source": [
        "## Оптимальным оказалось 2-3 слоя"
      ],
      "metadata": {
        "id": "SNswHECmObAz"
      }
    },
    {
      "cell_type": "markdown",
      "metadata": {
        "id": "YjLQJVa7wiGI"
      },
      "source": [
        "## Практическое задание\n",
        "\n",
        "Используем набор примеров fashion-MNIST\n",
        "\n",
        "1.  Опишите - какой результата получен в нейросети в зависимости от:\n",
        "  -  числа нейронов в слое(для 2-хслойной сети), \n",
        "  - числа слоев (2, 3, 5, 10) при близких размерах сети (близкое число тренируемых парметров).\n",
        "  - фиксируйте для тренировочного и тестового набора метрики accuracy.\n",
        "2.  Проверьте работу разных оптимизаторов (SGD, Adam, RMSProp) для одной из моделей п.1.Фиксируйте для тренировочного и тестового набора метрики accuracy.\n",
        "\n",
        "3. Сделайте вывод - что помогло вам улучшить качество классификации в нейросети на тестовом наборе? \n",
        "\n",
        "4. Для одного варианта сетей сформируйте матрицу ошибок по классам. Оцените качество модели по каждому классу отдельно (полнота , точность). Сделайте вывод."
      ]
    },
    {
      "cell_type": "code",
      "metadata": {
        "id": "y61j3TxQm8z0"
      },
      "source": [
        ""
      ],
      "execution_count": null,
      "outputs": []
    }
  ]
}