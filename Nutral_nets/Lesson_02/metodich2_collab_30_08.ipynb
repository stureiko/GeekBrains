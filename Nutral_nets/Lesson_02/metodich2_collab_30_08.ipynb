{
 "cells": [
  {
   "cell_type": "markdown",
   "metadata": {
    "id": "XvhEhpGm9U8z"
   },
   "source": [
    "# Введение в искусственные нейронные сети\n",
    "# Урок 2. Keras"
   ]
  },
  {
   "cell_type": "markdown",
   "metadata": {
    "id": "LmKjkEH-9U84"
   },
   "source": [
    "## Содержание методического пособия:\n",
    "\n",
    "\n",
    "<ol>\n",
    "<li>Способы создания нейросетей</li>\n",
    "<li>Что такое Keras</li>\n",
    "<li>Основы синтаксиса</li>\n",
    "<li>Простая нейросеть на Keras</li>\n",
    "</ol>"
   ]
  },
  {
   "cell_type": "markdown",
   "metadata": {
    "id": "9gV6aaON9U86"
   },
   "source": [
    "## Способы создания нейросетей\n",
    "\n",
    "Нейросети это математические модели. Программирую на любом языке можно решать задачи связанные с математикой. Однако встает вопрос какой язык подойдет для этого больше? Не считая учебных нейросетей, нейросети как правило работают с большим количеством данных. Поэтому, чтобы обучение нейросетей происходило с приемлимой скоростью нужно использовать быстрый язык. Например Си. Но так как язык Си это язык с низким уровнем абстракции то программировать и модифицировать на нем нейросети было бы крайне затруднительно. \n",
    "\n",
    "Хорошо может подойти для этих целей язык Python. Так как он с одной стороны имеет высокий уровень абстракции с другой стороны операции с массивами данных могут сделать его библиотеки написанные на Си. Таким способом мы пользовались на первых 2 уроках. Однако если писать нейросети таким образом то будет много повторяющегося кода поскольку архитектуры нейросетей остаются одинаковыми и зачастую у них только меняются параметры. Кроме этого нам может понадобиться хорошо знать архитектуры самых разных нейронных сетей чтобы реализовать их вручную. Работа таким образом затруднительна для людей не имеющих достаточной подготовки, а для имеющих может быть нааборот рутиной.\n",
    "\n",
    "Существуют фреймворки для созданий нейронных сетей. Они являются, пожалуй основным рабочим способом создания нейронных сетей. Вот их неполный перечень:\n",
    "\n",
    "1. TensorFlow\n",
    "2. PyTorch\n",
    "3. Keras\n",
    "4. Microsoft Cognitive Toolkit (CNTK)\n",
    "5. Caffe\n",
    "6. Apache MXNet\n",
    "\n",
    "Упрощение создания нейронных сетей не заканчивается на этих фрейворках. Существуют инструменты которые позволяют создавать нейронные сети без навыков программирования, строя нейросети графически. Примеры: Neural Designer, Deep Learning Studio.\n",
    "\n",
    "Но и на этом не заканчиваются способы создания нейросетей. Существуют инструменты самостоятельно создающие нейронные сети. Это так называемые AutoML инструменты. Вот примеры популярных из них:\n",
    "1. MLBox\n",
    "2. TPOT\n",
    "3. Autokeras\n",
    "\n",
    "Как вы возможно заметили что все эти инструменты отранжированы походы изложения в порядке возрастания уровня абстракции. Соответсвенно говоря о плюсах минусах того или иного инструмента мы должны понимать в принципе плюсы минусы повышения уровня абстракции. Чем он выше тем меньше производительность и тем меньше его гибкость и набоорот.\n",
    "\n",
    "Как уже было сказано наиболее востребованных в рабочих целях является тот уровень абстракции, который дают фреймворки. Будем изучать дальше и пользовать ими. Остается сделать выбор среди них. Самый популярный фреймворк для создания нейросетей TensorFlow. Самый популярный для обучения - Keras. На этом уроке мы изучим с вами Keras, а на следующим TensorFlow. Также стоит отметить, что эти фреймворки взаимосвязаны - Keras как правило работает поверх TensorFlow, а сам TensorFlow позволяет пользовать средствами Keras при необходимости.\n"
   ]
  },
  {
   "cell_type": "markdown",
   "metadata": {
    "id": "b1uUklH29U88"
   },
   "source": [
    "## Что такое Keras\n",
    "\n",
    "Keras появился относительно недавно - в 2015 г. Но за это время стал одним из самых популярных фреймоворков для создания нейросетей и фактически стандартом для использования его начинающими.\n",
    "\n",
    "В чем причина его популярности? Keras позволяет создовать на высоком уровне абстракции. Т.е. на не нужно вручную реализовать с помощью математикаподобного кода те или иные элементы нейронной сети. Мы можем оперировать слоями, количеством нейронов в них, выбором функции активации и т.д. В тоже время keras содержит инструментарий для всего того, что может понадобиться для работы - например ряд встроенных датасетов, возможность обрабатывать изображения.\n",
    "\n",
    "В техническом плане Keras это оболочка над инструментами меньшей степени абстракции. На выбор он может работать поверх TensorFlow, Microsoft Cognitive Toolkit, R, Theano, PlaidML.\n",
    "\n",
    "Keras пользуется также на соревнованиях Kaggle.\n",
    "\n",
    "Однако стоит отметить, что в реальных проектах чаще используется TensorFlow, который мы будем изучать в след. уроках.\n",
    "\n",
    "Keras как и любой высокобастрактный инструмент имеет изъяны в качестве меньшей гибкостью и производительснотью чем тот же tensorflow.\n",
    "\n",
    "Стоит также отметить, что Google официально поддерживает Keras, его автор François Chollet, является сотрудником Google. TensorFlow сам в свою очередь позволяет использовать возможности Keras, т.е. в нем заложена возможность переходить на более высокой уровень абстракции.\n",
    "\n",
    "В данном уроке мы с вами рассмотрим пример обучения нейронной сети с помощью Keras. Но прежде давайте посмотрим на основы синтаксиса Keras и стандартные задачи, которые нужно выполнить при обучении нейронной сети."
   ]
  },
  {
   "cell_type": "markdown",
   "metadata": {
    "id": "iRJ_I6hu9U8-"
   },
   "source": [
    "## Основы синтаксиса"
   ]
  },
  {
   "cell_type": "markdown",
   "metadata": {
    "id": "Sars-tTz9U9A"
   },
   "source": [
    "**Установка и работа с данными**"
   ]
  },
  {
   "cell_type": "markdown",
   "metadata": {
    "id": "8w3sHXOV9U9B"
   },
   "source": [
    "Для начала необходимо установить keras. Надо полагать вы хорошо знакомы с командой pip."
   ]
  },
  {
   "cell_type": "markdown",
   "metadata": {
    "id": "05hfRCv09U9D"
   },
   "source": [
    "sudo python3 pip install keras"
   ]
  },
  {
   "cell_type": "markdown",
   "metadata": {
    "id": "EAwWzAS29U9F"
   },
   "source": [
    "Давайте попробуем получить датасет mnist и проанализировать его содержимое.\n",
    "Это еще не будет синтаксис Keras, но это часто встречающаяся задача. Не обращайте внимание на предупреждения от TensorFlow. Их часто бывает много и их можно подавить при необходимости."
   ]
  },
  {
   "cell_type": "markdown",
   "metadata": {
    "id": "iKgNxL4G9U9H"
   },
   "source": [
    "    import numpy as np\n",
    "    import mnist\n",
    "    import keras\n",
    "\n",
    "    # The first time you run this might be a bit slow, since the\n",
    "    # mnist package has to download and cache the data.\n",
    "    train_images = mnist.train_images()\n",
    "    train_labels = mnist.train_labels()\n",
    "\n",
    "    print(train_images.shape) # (60000, 28, 28)\n",
    "    print(train_labels.shape) # (60000,)"
   ]
  },
  {
   "cell_type": "markdown",
   "metadata": {
    "id": "F_3tRtvg9U9J"
   },
   "source": [
    "Что в данном случае мы смогли с вами узнать? Что тренировочный датасет mnist состоит из 60000 изображений 28 на 28 пикселей. Такие небольшие датасеты с маленькими изображениями встретятся вам и в других учебных датасетах."
   ]
  },
  {
   "cell_type": "markdown",
   "metadata": {
    "id": "DZiKILQd9U9L"
   },
   "source": [
    "Что нам нужно делать теперь? Если датасет не имеет разделения на тренировочный и тестовый то поделить их. В нашем случае наш тренировочный датасет состоит из 60 000 изображений и тестовый из 10 000 и они поделены по умолчанию.\n",
    "\n",
    "Нам теперь нужно конверитировать значения пикселей из вида от 1 до 255 в набор значений от -0.5 до 0.5.\n",
    "\n"
   ]
  },
  {
   "cell_type": "code",
   "execution_count": 3,
   "metadata": {
    "ExecuteTime": {
     "end_time": "2021-12-03T17:54:52.162905Z",
     "start_time": "2021-12-03T17:54:47.439540Z"
    }
   },
   "outputs": [
    {
     "name": "stdout",
     "output_type": "stream",
     "text": [
      "Requirement already satisfied: keras in c:\\users\\admin\\anaconda3\\lib\\site-packages (2.6.0)\n"
     ]
    }
   ],
   "source": [
    "# !pip install keras"
   ]
  },
  {
   "cell_type": "code",
   "execution_count": 1,
   "metadata": {
    "ExecuteTime": {
     "end_time": "2021-12-07T17:58:21.811349Z",
     "start_time": "2021-12-07T17:58:00.218899Z"
    },
    "colab": {
     "base_uri": "https://localhost:8080/"
    },
    "id": "TQMMZ_jw9U9N",
    "outputId": "65d2efe1-021c-4e33-8500-eba693446a91"
   },
   "outputs": [
    {
     "name": "stdout",
     "output_type": "stream",
     "text": [
      "(60000, 784)\n",
      "(10000, 784)\n"
     ]
    }
   ],
   "source": [
    "import numpy as np\n",
    "#import mnist\n",
    "#import tensorflow as tf\n",
    "#import tf.kears as keras\n",
    "import keras\n",
    "from keras.datasets import mnist, boston_housing, fashion_mnist  # наборы для работы\n",
    "\n",
    "#train_images = mnist.train_images()\n",
    "#train_labels = mnist.train_labels()\n",
    "#test_images = mnist.test_images()\n",
    "#test_labels = mnist.test_labels()\n",
    "\n",
    "(train_imagesi,train_labels),(test_imagesi,testn_labels)=mnist.load_data()\n",
    "\n",
    "# Normalize the images.\n",
    "train_imagesi = (train_imagesi / 127) - 1\n",
    "test_imagesi = (test_imagesi / 127) - 1\n",
    "\n",
    "# Flatten the images.\n",
    "train_images = train_imagesi.reshape((-1, 784))\n",
    "test_images = test_imagesi.reshape((-1, 784))\n",
    "\n",
    "print(train_images.shape) # (60000, 784)\n",
    "print(test_images.shape)  # (10000, 784)"
   ]
  },
  {
   "cell_type": "code",
   "execution_count": 2,
   "metadata": {
    "ExecuteTime": {
     "end_time": "2021-12-07T17:58:21.843350Z",
     "start_time": "2021-12-07T17:58:21.814351Z"
    },
    "colab": {
     "base_uri": "https://localhost:8080/",
     "height": 35
    },
    "id": "3fwDFMMPJDFE",
    "outputId": "b86560e8-a173-4160-8950-0bcca1c2da6e"
   },
   "outputs": [
    {
     "data": {
      "text/plain": [
       "'tensorflow'"
      ]
     },
     "execution_count": 2,
     "metadata": {},
     "output_type": "execute_result"
    }
   ],
   "source": [
    "keras.backend.backend()"
   ]
  },
  {
   "cell_type": "code",
   "execution_count": 3,
   "metadata": {
    "ExecuteTime": {
     "end_time": "2021-12-07T17:58:25.977342Z",
     "start_time": "2021-12-07T17:58:21.848351Z"
    },
    "id": "Jp0WM1sS1DFX"
   },
   "outputs": [],
   "source": [
    "import matplotlib.pyplot as plt"
   ]
  },
  {
   "cell_type": "code",
   "execution_count": 4,
   "metadata": {
    "ExecuteTime": {
     "end_time": "2021-12-07T17:58:26.626340Z",
     "start_time": "2021-12-07T17:58:25.982342Z"
    },
    "colab": {
     "base_uri": "https://localhost:8080/",
     "height": 282
    },
    "id": "1GG9Z5HDEEWW",
    "outputId": "fbd45edb-8754-4a5b-fb08-51d119a051cc"
   },
   "outputs": [
    {
     "data": {
      "image/png": "[encoded data removed]",
      "text/plain": [
       "<Figure size 432x288 with 1 Axes>"
      ]
     },
     "metadata": {
      "needs_background": "light"
     },
     "output_type": "display_data"
    },
    {
     "name": "stdout",
     "output_type": "stream",
     "text": [
      "4\n"
     ]
    }
   ],
   "source": [
    "plt.imshow(train_imagesi[2,:,:])\n",
    "plt.show()\n",
    "print(train_labels[2])"
   ]
  },
  {
   "cell_type": "code",
   "execution_count": 5,
   "metadata": {
    "ExecuteTime": {
     "end_time": "2021-12-07T17:58:36.141105Z",
     "start_time": "2021-12-07T17:58:36.126108Z"
    },
    "colab": {
     "base_uri": "https://localhost:8080/"
    },
    "id": "t58_YKCl38rz",
    "outputId": "a571b021-faf9-438e-8ed7-41b9a4e1f6f6"
   },
   "outputs": [
    {
     "data": {
      "text/plain": [
       "array([5, 0, 4, 1, 9, 2, 1, 3, 1, 4, 3, 5], dtype=uint8)"
      ]
     },
     "execution_count": 5,
     "metadata": {},
     "output_type": "execute_result"
    }
   ],
   "source": [
    "train_labels[:12]"
   ]
  },
  {
   "cell_type": "code",
   "execution_count": 6,
   "metadata": {
    "ExecuteTime": {
     "end_time": "2021-12-07T17:58:36.360105Z",
     "start_time": "2021-12-07T17:58:36.346110Z"
    },
    "colab": {
     "base_uri": "https://localhost:8080/"
    },
    "id": "1_Ae7niGnjb6",
    "outputId": "69cd5161-aee2-486f-cba1-81aff0830436"
   },
   "outputs": [
    {
     "data": {
      "text/plain": [
       "array([-1.        , -1.        , -1.        , -1.        , -1.        ,\n",
       "       -0.90551181, -0.80314961, -0.80314961, -0.80314961, -0.80314961])"
      ]
     },
     "execution_count": 6,
     "metadata": {},
     "output_type": "execute_result"
    }
   ],
   "source": [
    "train_images[202,150:160]"
   ]
  },
  {
   "cell_type": "markdown",
   "metadata": {
    "id": "Y6btW5Oz9U9W"
   },
   "source": [
    "**Создание модели**"
   ]
  },
  {
   "cell_type": "markdown",
   "metadata": {
    "id": "jgVdsO619U9Y"
   },
   "source": [
    "После первичной подготовки данных дальше как правило следует создание модели нейронной сети, которая будет учиться на этих данных.\n",
    "\n",
    "Ниже типичный код учебной нейросети - "
   ]
  },
  {
   "cell_type": "markdown",
   "metadata": {
    "id": "rfu5k2FX9U9a"
   },
   "source": [
    "    # define the keras model\n",
    "    model = Sequential()\n",
    "    model.add(Dense(12, input_dim=8, activation='relu'))\n",
    "    model.add(Dense(8, activation='relu'))\n",
    "    model.add(Dense(1, activation='sigmoid'))"
   ]
  },
  {
   "cell_type": "markdown",
   "metadata": {
    "id": "lb6IkKpN9U9c"
   },
   "source": [
    "Давайте разберемся с теми командами, которые нам встетились в этом коде.\n",
    "\n",
    "Sequential - позволяет создать нейросети где слои имеют форму стека. Сигнал в них передается от одного слоя к другому. В противовес этой разновидности есть нейросети где сигнал может не сразу передаваться в следующий слой а попадать в цикл. Такие нейросети мы разберем в следующих уроках.\n",
    "\n",
    "Dense - позволяет каждому нейронну быть связанному с другим нейронном. В противовес этом может быть необходимость не делать так много связей. Неполносвязнные архитектуры мы также разберем на этом курсе, они основа компьютерного зрения.\n",
    "\n",
    "Цифры 12, 8, 1 обозначают количество нейронов в каждом конкретном слое\n",
    "\n",
    "Activation - позволяет определить формулу по которой будет активироваться нейрон."
   ]
  },
  {
   "cell_type": "markdown",
   "metadata": {
    "id": "iVWaIK2l9U9e"
   },
   "source": [
    "**Компиляция модели**\n",
    "\n",
    "На этапе компиляции модель с заданными параметрами ранее создается. Вот типичный учебный пример:"
   ]
  },
  {
   "cell_type": "markdown",
   "metadata": {
    "id": "B6m5CF1l9U9g"
   },
   "source": [
    "    \n",
    "    # создание keras модели\n",
    "    model.compile(loss='binary_crossentropy', optimizer='adam', metrics=['accuracy'])"
   ]
  },
  {
   "cell_type": "markdown",
   "metadata": {
    "id": "IDbetrHA9U9i"
   },
   "source": [
    "Однако на этой стадии мы должны сделать еще некоторые настройки нейронной сети. Разберем команды из кода выше.\n",
    "\n",
    "loss - позволяет задать формулы по которой будет определяться степень ошибки нейронной сети.\n",
    "\n",
    "optimizer - позволяет задать алгоритм, который будет осуществлять изменения весов по всей нейронной сети (backpropagation)\n",
    "\n",
    "metrics - позволяет опредилить кретирии по которым будет оцениваться степень обученности нейросети.\n",
    "    \n",
    "    "
   ]
  },
  {
   "cell_type": "markdown",
   "metadata": {
    "id": "KH-Cy6Iy9U9l"
   },
   "source": [
    "**Передача данных для обучения нейросети**\n",
    "\n",
    "После того как нейросеть создана можно передавать ей данные для обучения. Ниже типичный пример кода для этого.\n"
   ]
  },
  {
   "cell_type": "markdown",
   "metadata": {
    "id": "TweWbzvu9U9o"
   },
   "source": [
    "    # передача обучающего датасета keras модели\n",
    "    model.fit(X, y, epochs=150, batch_size=10, verbose=0)"
   ]
  },
  {
   "cell_type": "markdown",
   "metadata": {
    "id": "tFt0A6m59U9q"
   },
   "source": [
    "Разберем команды из этого примера.\n",
    "X, y - содержат все обучающие данные\n",
    "epochs - определяет сколько раз через нейросеть должен пройти весь набор данных\n",
    "bath_size - определяет количество обучающих примеров передающихся нейросети на каждой итерации обучения.\n",
    "verbose - позволяет определять информацию, котору вы видете во время обучения нейронной сети."
   ]
  },
  {
   "cell_type": "markdown",
   "metadata": {
    "id": "P7ERG-o79U9s"
   },
   "source": [
    "**Оценка обученности нейронной сети**\n",
    "\n",
    "Следующей стадией может быть проверка обученности нейронной сети. Команда Keras для этих целей - \n",
    "\n",
    "    results = model.evaluate(x_test, y_test, batch_size=128)\n",
    "    \n",
    "В данном случае мы просто указываем какую модель на каких данных мы хотим проверить"
   ]
  },
  {
   "cell_type": "markdown",
   "metadata": {
    "id": "UHT1j0AX9U9t"
   },
   "source": [
    "**Запуск нейронной сети для выполнения работы**\n",
    "\n",
    "На этой стадии мы можем попробовать запустить нейронную сеть на данных которые мы хотели бы чтобы она оценила. Осуществить распознования объекта на фотографии например.\n",
    "Вот код для этих целей - \n",
    "\n",
    "    predictions = model.predict(x_test[:3])\n",
    "    \n",
    "В качестве аргумента здесь указывается массив даныхх содержащих, например фотографию в виде массива чисел.    \n",
    "    "
   ]
  },
  {
   "cell_type": "markdown",
   "metadata": {
    "id": "LoL6FC9I9U9v"
   },
   "source": [
    "Мы с вами рассмотрели основные стадии процесса обучения нейросети и команды Keras, для этого. Безусловно здесь приведен далеко неполный перечень возможностей Keras. У Keras есть также возможность сохранять созданную нейросеть, запускать уже имеющиюся, различные средства для создания нейросетей разных архитектур и другое. С чем то из арсенала Keras мы с вами познакомимся по ходу курса, а с остальным вы можете познакомиться на сайте Keras в разделе документация."
   ]
  },
  {
   "cell_type": "markdown",
   "metadata": {
    "id": "jnUt9U3_9U9x"
   },
   "source": [
    "## Простая нейросеть на Keras"
   ]
  },
  {
   "cell_type": "markdown",
   "metadata": {
    "id": "SAa_Lfn89U9y"
   },
   "source": [
    "Давайте попрубуем сделать нейросеть на Keras использую полученные выше знания. Попробуем обучить нейросеть различать рукописные цифры."
   ]
  },
  {
   "cell_type": "code",
   "execution_count": 7,
   "metadata": {
    "ExecuteTime": {
     "end_time": "2021-12-07T17:58:45.857522Z",
     "start_time": "2021-12-07T17:58:45.205870Z"
    },
    "id": "hf6f_oe7EH7A"
   },
   "outputs": [],
   "source": [
    "# Код нейронной сети в Keras!\n",
    "###############################\n",
    "import numpy as np\n",
    "#import mnist\n",
    "from keras.models import Sequential\n",
    "from keras.layers import Dense\n",
    "from keras.datasets import mnist\n",
    "from tensorflow.keras.utils import to_categorical\n",
    "\n"
   ]
  },
  {
   "cell_type": "code",
   "execution_count": 8,
   "metadata": {
    "ExecuteTime": {
     "end_time": "2021-12-07T17:58:50.578354Z",
     "start_time": "2021-12-07T17:58:49.068202Z"
    },
    "id": "hFo1_J0eEQ9k"
   },
   "outputs": [],
   "source": [
    "\n",
    "(train_imagesi,train_labels),(test_imagesi,test_labels)=mnist.load_data()\n",
    "\n",
    "# можно брать mnist из специальной библиотеки\n",
    "#train_images = mnist.train_images()\n",
    "#train_labels = mnist.train_labels()\n",
    "#test_images = mnist.test_images()\n",
    "#test_labels = mnist.test_labels()\n",
    "\n",
    "# приведем изображение к диапазону (-1,1).\n",
    "train_images = (train_imagesi / 127) - 1\n",
    "test_images = (test_imagesi / 127) - 1\n",
    "\n",
    "# делаем векторизацию, т.к. наши слои полносвязные и хотят на вход вектор.\n",
    "train_images = train_images.reshape((-1, 784))\n",
    "test_images = test_images.reshape((-1, 784))"
   ]
  },
  {
   "cell_type": "markdown",
   "metadata": {
    "id": "rlO6abtO0oFX"
   },
   "source": [
    "Размер набора входных данных для обучения "
   ]
  },
  {
   "cell_type": "code",
   "execution_count": 9,
   "metadata": {
    "ExecuteTime": {
     "end_time": "2021-12-07T17:58:51.937539Z",
     "start_time": "2021-12-07T17:58:51.925537Z"
    },
    "colab": {
     "base_uri": "https://localhost:8080/"
    },
    "id": "XLsN2KNiNHEf",
    "outputId": "f2cca32d-9194-4dca-898b-6c22fdcea346"
   },
   "outputs": [
    {
     "data": {
      "text/plain": [
       "(60000, 784)"
      ]
     },
     "execution_count": 9,
     "metadata": {},
     "output_type": "execute_result"
    }
   ],
   "source": [
    "train_images.shape"
   ]
  },
  {
   "cell_type": "markdown",
   "metadata": {
    "id": "eHplAiIbpDLE"
   },
   "source": [
    "Собираем сеть по слоям через .add()"
   ]
  },
  {
   "cell_type": "code",
   "execution_count": 10,
   "metadata": {
    "ExecuteTime": {
     "end_time": "2021-12-07T17:58:54.534208Z",
     "start_time": "2021-12-07T17:58:54.038292Z"
    },
    "id": "b0-xDKrNHNrv"
   },
   "outputs": [],
   "source": [
    "model1 = Sequential(name='my_model')\n",
    "model1.add(Dense( 128, activation='relu', input_shape=(784,)))  \n",
    "# входной слой + поносвязный слой из 128 нейронов с активацией ReLU\n",
    "for k in range(2):\n",
    "  model1.add(Dense(  10+(10-k)*10, activation='tanh')) \n",
    "  # Скрытый слой k из 10+(10-k)*10 нейронов с активацией tanh\n",
    "\n",
    "model1.add(Dense(10, activation='softmax')) \n",
    "# выходной слой из 10 нейронов (сколько классов, столько нейронов) + активация softmax"
   ]
  },
  {
   "cell_type": "code",
   "execution_count": 11,
   "metadata": {
    "ExecuteTime": {
     "end_time": "2021-12-07T17:58:58.719763Z",
     "start_time": "2021-12-07T17:58:58.710769Z"
    },
    "id": "WjoJONokxO70"
   },
   "outputs": [],
   "source": [
    "#keras.losses.SparseCategoricalCrossentropy().\n",
    "#keras.losses.categorical_crossentropy()\n",
    "# keras.metrics.accuracy"
   ]
  },
  {
   "cell_type": "markdown",
   "metadata": {
    "id": "oZG48jgOpNmT"
   },
   "source": [
    "Компилируем сеть с оптимизатором , функцией потерь и метрикой:"
   ]
  },
  {
   "cell_type": "code",
   "execution_count": 12,
   "metadata": {
    "ExecuteTime": {
     "end_time": "2021-12-07T17:58:59.822561Z",
     "start_time": "2021-12-07T17:58:59.800562Z"
    },
    "id": "6pZ5taUWHke6"
   },
   "outputs": [],
   "source": [
    "model1.compile(\n",
    "  optimizer='adam', # оптимизатор\n",
    "  loss=keras.losses.CategoricalCrossentropy(), # функция потерь\n",
    "  metrics=['accuracy'], # метрика\n",
    ") "
   ]
  },
  {
   "cell_type": "markdown",
   "metadata": {
    "id": "d9Gi-C5ddKKL"
   },
   "source": [
    "Оптимизаторы:\n",
    "* SGD() (с или без моментум)\n",
    "* RMSprop()\n",
    "* Adam()\n",
    "* Adagrad()\n",
    "…\n",
    "\n",
    "Функции потерь:\n",
    "* CategoricalCrossentropy()\n",
    "* SparseCategoricalCrossentropy()\n",
    "* BinaryCrossentropy()\n",
    "* MeanSquaredError()\n",
    "* KLDivergence()\n",
    "* CosineSimilarity()\n",
    "…\n",
    "\n",
    "Метрики:\n",
    "* CategoricalAccuracy()\n",
    "* SparseCategoricalAccuracy()\n",
    "* BinaryAccuracy()\n",
    "* AUC()\n",
    "* Precision()\n",
    "* Recall()\n",
    "…"
   ]
  },
  {
   "cell_type": "markdown",
   "metadata": {
    "id": "kaOhpafIpZ5l"
   },
   "source": [
    "ПОсмотрим из чего она состоит:"
   ]
  },
  {
   "cell_type": "code",
   "execution_count": 13,
   "metadata": {
    "ExecuteTime": {
     "end_time": "2021-12-07T17:59:04.571344Z",
     "start_time": "2021-12-07T17:59:04.557347Z"
    },
    "colab": {
     "base_uri": "https://localhost:8080/"
    },
    "id": "MdAHcWIoE8rf",
    "outputId": "2349280e-3dd4-440d-c26a-10c0ea20d8c3"
   },
   "outputs": [
    {
     "name": "stdout",
     "output_type": "stream",
     "text": [
      "Model: \"my_model\"\n",
      "_________________________________________________________________\n",
      " Layer (type)                Output Shape              Param #   \n",
      "=================================================================\n",
      " dense (Dense)               (None, 128)               100480    \n",
      "                                                                 \n",
      " dense_1 (Dense)             (None, 110)               14190     \n",
      "                                                                 \n",
      " dense_2 (Dense)             (None, 100)               11100     \n",
      "                                                                 \n",
      " dense_3 (Dense)             (None, 10)                1010      \n",
      "                                                                 \n",
      "=================================================================\n",
      "Total params: 126,780\n",
      "Trainable params: 126,780\n",
      "Non-trainable params: 0\n",
      "_________________________________________________________________\n"
     ]
    }
   ],
   "source": [
    "model1.summary()"
   ]
  },
  {
   "cell_type": "markdown",
   "metadata": {
    "id": "i2YcWu0upeWi"
   },
   "source": [
    "126 780 параметров в сети. Все будем обучать.\n",
    "\n",
    "Как считать параметры слоя: (число входов нейрона +1)*число нейронов\n",
    "\n",
    "\n",
    "Например, для 5 входов и 10 нейронов в слое - число настраиваемых параметров = (5+1)*10 = 60"
   ]
  },
  {
   "cell_type": "markdown",
   "metadata": {
    "id": "f-drP8y5USej"
   },
   "source": [
    "Еще один способ создать линейную модель"
   ]
  },
  {
   "cell_type": "code",
   "execution_count": 14,
   "metadata": {
    "id": "vT7VLh_SEcZS"
   },
   "outputs": [],
   "source": [
    "\n",
    "# Build the model.\n",
    "model = Sequential([\n",
    "  Dense(128, activation='tanh', input_shape=(784,)),\n",
    "  Dense(110, activation='tanh'), # Скрытый слой из 110 нейронов с активацией tanh\n",
    "  Dense(100, activation='tanh'), # Скрытый слой k из 100 нейронов с активацией tanh\n",
    "  Dense(10, activation='softmax'),# выходной слой из 10 нейронов (сколько классов, столько нейронов) + активация softmax\n",
    "])\n",
    "\n",
    "# Compile the model.\n",
    "model.compile(\n",
    "  optimizer='adam',\n",
    "  loss='categorical_crossentropy',\n",
    "  metrics=['accuracy'],\n",
    ")"
   ]
  },
  {
   "cell_type": "code",
   "execution_count": 15,
   "metadata": {
    "colab": {
     "base_uri": "https://localhost:8080/"
    },
    "id": "O5DOd_RAGZHQ",
    "outputId": "25304590-eeb6-49a5-8a4f-edb2a7fe5487"
   },
   "outputs": [
    {
     "name": "stdout",
     "output_type": "stream",
     "text": [
      "Model: \"sequential\"\n",
      "_________________________________________________________________\n",
      "Layer (type)                 Output Shape              Param #   \n",
      "=================================================================\n",
      "dense_4 (Dense)              (None, 128)               100480    \n",
      "_________________________________________________________________\n",
      "dense_5 (Dense)              (None, 110)               14190     \n",
      "_________________________________________________________________\n",
      "dense_6 (Dense)              (None, 100)               11100     \n",
      "_________________________________________________________________\n",
      "dense_7 (Dense)              (None, 10)                1010      \n",
      "=================================================================\n",
      "Total params: 126,780\n",
      "Trainable params: 126,780\n",
      "Non-trainable params: 0\n",
      "_________________________________________________________________\n"
     ]
    }
   ],
   "source": [
    "model.summary()"
   ]
  },
  {
   "cell_type": "markdown",
   "metadata": {
    "id": "D-ZKLY37Ulq7"
   },
   "source": [
    "Можно подсмотреть как наша модель описана после ее создания"
   ]
  },
  {
   "cell_type": "code",
   "execution_count": 16,
   "metadata": {
    "colab": {
     "base_uri": "https://localhost:8080/"
    },
    "id": "p8zwmaHKzVUH",
    "outputId": "b1883cf8-738d-49f7-bdf2-19c4ab577041"
   },
   "outputs": [
    {
     "data": {
      "text/plain": [
       "{'layers': [{'class_name': 'InputLayer',\n",
       "   'config': {'batch_input_shape': (None, 784),\n",
       "    'dtype': 'float32',\n",
       "    'name': 'dense_4_input',\n",
       "    'ragged': False,\n",
       "    'sparse': False}},\n",
       "  {'class_name': 'Dense',\n",
       "   'config': {'activation': 'tanh',\n",
       "    'activity_regularizer': None,\n",
       "    'batch_input_shape': (None, 784),\n",
       "    'bias_constraint': None,\n",
       "    'bias_initializer': {'class_name': 'Zeros', 'config': {}},\n",
       "    'bias_regularizer': None,\n",
       "    'dtype': 'float32',\n",
       "    'kernel_constraint': None,\n",
       "    'kernel_initializer': {'class_name': 'GlorotUniform',\n",
       "     'config': {'seed': None}},\n",
       "    'kernel_regularizer': None,\n",
       "    'name': 'dense_4',\n",
       "    'trainable': True,\n",
       "    'units': 128,\n",
       "    'use_bias': True}},\n",
       "  {'class_name': 'Dense',\n",
       "   'config': {'activation': 'tanh',\n",
       "    'activity_regularizer': None,\n",
       "    'bias_constraint': None,\n",
       "    'bias_initializer': {'class_name': 'Zeros', 'config': {}},\n",
       "    'bias_regularizer': None,\n",
       "    'dtype': 'float32',\n",
       "    'kernel_constraint': None,\n",
       "    'kernel_initializer': {'class_name': 'GlorotUniform',\n",
       "     'config': {'seed': None}},\n",
       "    'kernel_regularizer': None,\n",
       "    'name': 'dense_5',\n",
       "    'trainable': True,\n",
       "    'units': 110,\n",
       "    'use_bias': True}},\n",
       "  {'class_name': 'Dense',\n",
       "   'config': {'activation': 'tanh',\n",
       "    'activity_regularizer': None,\n",
       "    'bias_constraint': None,\n",
       "    'bias_initializer': {'class_name': 'Zeros', 'config': {}},\n",
       "    'bias_regularizer': None,\n",
       "    'dtype': 'float32',\n",
       "    'kernel_constraint': None,\n",
       "    'kernel_initializer': {'class_name': 'GlorotUniform',\n",
       "     'config': {'seed': None}},\n",
       "    'kernel_regularizer': None,\n",
       "    'name': 'dense_6',\n",
       "    'trainable': True,\n",
       "    'units': 100,\n",
       "    'use_bias': True}},\n",
       "  {'class_name': 'Dense',\n",
       "   'config': {'activation': 'softmax',\n",
       "    'activity_regularizer': None,\n",
       "    'bias_constraint': None,\n",
       "    'bias_initializer': {'class_name': 'Zeros', 'config': {}},\n",
       "    'bias_regularizer': None,\n",
       "    'dtype': 'float32',\n",
       "    'kernel_constraint': None,\n",
       "    'kernel_initializer': {'class_name': 'GlorotUniform',\n",
       "     'config': {'seed': None}},\n",
       "    'kernel_regularizer': None,\n",
       "    'name': 'dense_7',\n",
       "    'trainable': True,\n",
       "    'units': 10,\n",
       "    'use_bias': True}}],\n",
       " 'name': 'sequential'}"
      ]
     },
     "execution_count": 16,
     "metadata": {},
     "output_type": "execute_result"
    }
   ],
   "source": [
    "model.get_config()"
   ]
  },
  {
   "cell_type": "markdown",
   "metadata": {
    "id": "Og3zBOXKUt6Q"
   },
   "source": [
    "Превратим выходы в векторые (OHE в keras - from keras.utils import to_categorical)"
   ]
  },
  {
   "cell_type": "code",
   "execution_count": 14,
   "metadata": {
    "ExecuteTime": {
     "end_time": "2021-12-07T17:59:13.323617Z",
     "start_time": "2021-12-07T17:59:13.311619Z"
    },
    "colab": {
     "base_uri": "https://localhost:8080/"
    },
    "id": "r4vfB93ZMa7k",
    "outputId": "95bfc115-c27f-46bb-b181-ae9716a19a26"
   },
   "outputs": [
    {
     "data": {
      "text/plain": [
       "array([5, 0, 4, 1, 9], dtype=uint8)"
      ]
     },
     "execution_count": 14,
     "metadata": {},
     "output_type": "execute_result"
    }
   ],
   "source": [
    "train_labels[:5]"
   ]
  },
  {
   "cell_type": "code",
   "execution_count": 15,
   "metadata": {
    "ExecuteTime": {
     "end_time": "2021-12-07T17:59:14.093066Z",
     "start_time": "2021-12-07T17:59:14.085065Z"
    },
    "id": "fXgYOrUwGwzG"
   },
   "outputs": [],
   "source": [
    "y_t = to_categorical( train_labels)\n",
    "y_tt = to_categorical(test_labels)"
   ]
  },
  {
   "cell_type": "code",
   "execution_count": 16,
   "metadata": {
    "ExecuteTime": {
     "end_time": "2021-12-07T17:59:14.787590Z",
     "start_time": "2021-12-07T17:59:14.773589Z"
    },
    "colab": {
     "base_uri": "https://localhost:8080/"
    },
    "id": "HWKHT3kpG6yw",
    "outputId": "a598e525-543a-4c88-cc83-bdd433f0559e"
   },
   "outputs": [
    {
     "data": {
      "text/plain": [
       "array([[0., 0., 0., 0., 0., 1., 0., 0., 0., 0.],\n",
       "       [1., 0., 0., 0., 0., 0., 0., 0., 0., 0.],\n",
       "       [0., 0., 0., 0., 1., 0., 0., 0., 0., 0.]], dtype=float32)"
      ]
     },
     "execution_count": 16,
     "metadata": {},
     "output_type": "execute_result"
    }
   ],
   "source": [
    "y_t[:3,:]"
   ]
  },
  {
   "cell_type": "code",
   "execution_count": 17,
   "metadata": {
    "ExecuteTime": {
     "end_time": "2021-12-07T17:59:15.615557Z",
     "start_time": "2021-12-07T17:59:15.607561Z"
    },
    "colab": {
     "base_uri": "https://localhost:8080/"
    },
    "id": "13v9kMf5Ouq_",
    "outputId": "4e198d75-313f-4e15-82aa-355c342a471c"
   },
   "outputs": [
    {
     "data": {
      "text/plain": [
       "array([5, 0, 4, 1, 9], dtype=uint8)"
      ]
     },
     "execution_count": 17,
     "metadata": {},
     "output_type": "execute_result"
    }
   ],
   "source": [
    "train_labels[:5]"
   ]
  },
  {
   "cell_type": "markdown",
   "metadata": {
    "id": "Xk1EavOKVBqI"
   },
   "source": [
    "Посмотрим на реакции модели до обучения - уже можно:)"
   ]
  },
  {
   "cell_type": "code",
   "execution_count": 18,
   "metadata": {
    "ExecuteTime": {
     "end_time": "2021-12-07T17:59:20.404491Z",
     "start_time": "2021-12-07T17:59:16.447558Z"
    },
    "id": "x6q31tJQLuol"
   },
   "outputs": [
    {
     "ename": "NameError",
     "evalue": "name 'model' is not defined",
     "output_type": "error",
     "traceback": [
      "\u001b[1;31m---------------------------------------------------------------------------\u001b[0m",
      "\u001b[1;31mNameError\u001b[0m                                 Traceback (most recent call last)",
      "\u001b[1;32m~\\AppData\\Local\\Temp/ipykernel_28920/3248416801.py\u001b[0m in \u001b[0;36m<module>\u001b[1;34m\u001b[0m\n\u001b[1;32m----> 1\u001b[1;33m \u001b[0my_pred\u001b[0m \u001b[1;33m=\u001b[0m \u001b[0mmodel\u001b[0m\u001b[1;33m.\u001b[0m\u001b[0mpredict\u001b[0m\u001b[1;33m(\u001b[0m\u001b[0mtest_images\u001b[0m\u001b[1;33m[\u001b[0m\u001b[1;33m:\u001b[0m\u001b[1;36m5\u001b[0m\u001b[1;33m,\u001b[0m\u001b[1;33m:\u001b[0m\u001b[1;33m]\u001b[0m\u001b[1;33m)\u001b[0m\u001b[1;33m\u001b[0m\u001b[1;33m\u001b[0m\u001b[0m\n\u001b[0m",
      "\u001b[1;31mNameError\u001b[0m: name 'model' is not defined"
     ]
    }
   ],
   "source": [
    "y_pred = model.predict(test_images[:5,:])"
   ]
  },
  {
   "cell_type": "code",
   "execution_count": null,
   "metadata": {
    "ExecuteTime": {
     "end_time": "2021-12-07T17:59:20.406496Z",
     "start_time": "2021-12-07T17:59:20.406496Z"
    },
    "colab": {
     "base_uri": "https://localhost:8080/"
    },
    "id": "qM07Ce8IMKPh",
    "outputId": "6dd5d000-8e02-40fa-c7c4-fad1045d4731"
   },
   "outputs": [],
   "source": [
    "y_pred[0,:]"
   ]
  },
  {
   "cell_type": "code",
   "execution_count": 23,
   "metadata": {
    "colab": {
     "base_uri": "https://localhost:8080/"
    },
    "id": "iFZ8fTdWL-2x",
    "outputId": "82aa8a69-aa60-4b9b-d8bb-edcc15930233"
   },
   "outputs": [
    {
     "name": "stdout",
     "output_type": "stream",
     "text": [
      "[7 5 8 8 8]\n"
     ]
    }
   ],
   "source": [
    "y_class = np.argmax(y_pred, axis=1)\n",
    "print(y_class) # [7, 2, 1, 0, 4]"
   ]
  },
  {
   "cell_type": "code",
   "execution_count": 24,
   "metadata": {
    "colab": {
     "base_uri": "https://localhost:8080/",
     "height": 281
    },
    "id": "4XpTnd6bO2lt",
    "outputId": "5bb716ab-1b7f-4179-c179-d609778127d3"
   },
   "outputs": [
    {
     "data": {
      "image/png": "[encoded data removed]",
      "text/plain": [
       "<Figure size 432x288 with 1 Axes>"
      ]
     },
     "metadata": {
      "needs_background": "light"
     },
     "output_type": "display_data"
    }
   ],
   "source": [
    "n = 1\n",
    "plt.imshow(test_imagesi[n,:,:])\n",
    "plt.title('цифра - '+str(y_class[n]))\n",
    "plt.show()"
   ]
  },
  {
   "cell_type": "markdown",
   "metadata": {
    "id": "emVGoAdNVSK-"
   },
   "source": [
    "Сделаем цикл тренировки модели"
   ]
  },
  {
   "cell_type": "code",
   "execution_count": 19,
   "metadata": {
    "ExecuteTime": {
     "end_time": "2021-12-07T18:00:10.578358Z",
     "start_time": "2021-12-07T17:59:30.427458Z"
    },
    "colab": {
     "base_uri": "https://localhost:8080/"
    },
    "id": "9lCF4zXv9U90",
    "outputId": "09aaf07e-95f1-4683-a2a4-1e6be52ddc10"
   },
   "outputs": [
    {
     "name": "stdout",
     "output_type": "stream",
     "text": [
      "Epoch 1/15\n",
      "1500/1500 [==============================] - 3s 2ms/step - loss: 0.3184 - accuracy: 0.9023 - val_loss: 0.2086 - val_accuracy: 0.9361\n",
      "Epoch 2/15\n",
      "1500/1500 [==============================] - 3s 2ms/step - loss: 0.1639 - accuracy: 0.9496 - val_loss: 0.1634 - val_accuracy: 0.9504\n",
      "Epoch 3/15\n",
      "1500/1500 [==============================] - 3s 2ms/step - loss: 0.1326 - accuracy: 0.9582 - val_loss: 0.1271 - val_accuracy: 0.9615\n",
      "Epoch 4/15\n",
      "1500/1500 [==============================] - 2s 2ms/step - loss: 0.1113 - accuracy: 0.9656 - val_loss: 0.1147 - val_accuracy: 0.9657\n",
      "Epoch 5/15\n",
      "1500/1500 [==============================] - 3s 2ms/step - loss: 0.0981 - accuracy: 0.9691 - val_loss: 0.1108 - val_accuracy: 0.9657\n",
      "Epoch 6/15\n",
      "1500/1500 [==============================] - 3s 2ms/step - loss: 0.0910 - accuracy: 0.9710 - val_loss: 0.1167 - val_accuracy: 0.9667\n",
      "Epoch 7/15\n",
      "1500/1500 [==============================] - 2s 2ms/step - loss: 0.0792 - accuracy: 0.9746 - val_loss: 0.1265 - val_accuracy: 0.9639\n",
      "Epoch 8/15\n",
      "1500/1500 [==============================] - 3s 2ms/step - loss: 0.0748 - accuracy: 0.9772 - val_loss: 0.1154 - val_accuracy: 0.9664\n",
      "Epoch 9/15\n",
      "1500/1500 [==============================] - 3s 2ms/step - loss: 0.0712 - accuracy: 0.9769 - val_loss: 0.1098 - val_accuracy: 0.9669\n",
      "Epoch 10/15\n",
      "1500/1500 [==============================] - 3s 2ms/step - loss: 0.0672 - accuracy: 0.9786 - val_loss: 0.1265 - val_accuracy: 0.9648\n",
      "Epoch 11/15\n",
      "1500/1500 [==============================] - 3s 2ms/step - loss: 0.0614 - accuracy: 0.9809 - val_loss: 0.1192 - val_accuracy: 0.9665\n",
      "Epoch 12/15\n",
      "1500/1500 [==============================] - 3s 2ms/step - loss: 0.0592 - accuracy: 0.9806 - val_loss: 0.1042 - val_accuracy: 0.9707\n",
      "Epoch 13/15\n",
      "1500/1500 [==============================] - 3s 2ms/step - loss: 0.0531 - accuracy: 0.9824 - val_loss: 0.1179 - val_accuracy: 0.9679\n",
      "Epoch 14/15\n",
      "1500/1500 [==============================] - 3s 2ms/step - loss: 0.0516 - accuracy: 0.9825 - val_loss: 0.1098 - val_accuracy: 0.9686\n",
      "Epoch 15/15\n",
      "1500/1500 [==============================] - 3s 2ms/step - loss: 0.0526 - accuracy: 0.9834 - val_loss: 0.1192 - val_accuracy: 0.9684\n",
      "313/313 [==============================] - 1s 2ms/step - loss: 0.1177 - accuracy: 0.9685\n"
     ]
    },
    {
     "ename": "NameError",
     "evalue": "name 'model' is not defined",
     "output_type": "error",
     "traceback": [
      "\u001b[1;31m---------------------------------------------------------------------------\u001b[0m",
      "\u001b[1;31mNameError\u001b[0m                                 Traceback (most recent call last)",
      "\u001b[1;32m~\\AppData\\Local\\Temp/ipykernel_28920/3777186073.py\u001b[0m in \u001b[0;36m<module>\u001b[1;34m\u001b[0m\n\u001b[0;32m     15\u001b[0m \u001b[1;33m\u001b[0m\u001b[0m\n\u001b[0;32m     16\u001b[0m \u001b[1;31m# Predict on the first 5 test images.\u001b[0m\u001b[1;33m\u001b[0m\u001b[1;33m\u001b[0m\u001b[1;33m\u001b[0m\u001b[0m\n\u001b[1;32m---> 17\u001b[1;33m \u001b[0mpredictions\u001b[0m \u001b[1;33m=\u001b[0m \u001b[0mmodel\u001b[0m\u001b[1;33m.\u001b[0m\u001b[0mpredict\u001b[0m\u001b[1;33m(\u001b[0m\u001b[0mtest_images\u001b[0m\u001b[1;33m[\u001b[0m\u001b[1;33m:\u001b[0m\u001b[1;36m5\u001b[0m\u001b[1;33m]\u001b[0m\u001b[1;33m)\u001b[0m\u001b[1;33m\u001b[0m\u001b[1;33m\u001b[0m\u001b[0m\n\u001b[0m\u001b[0;32m     18\u001b[0m \u001b[1;33m\u001b[0m\u001b[0m\n\u001b[0;32m     19\u001b[0m \u001b[1;31m# Print our model's predictions.\u001b[0m\u001b[1;33m\u001b[0m\u001b[1;33m\u001b[0m\u001b[1;33m\u001b[0m\u001b[0m\n",
      "\u001b[1;31mNameError\u001b[0m: name 'model' is not defined"
     ]
    }
   ],
   "source": [
    "\n",
    "# Train the model.\n",
    "model1.fit(  \n",
    "  train_images[:,:],\n",
    "\n",
    "  y_t[:,:],\n",
    "  epochs=15,\n",
    "  batch_size=32, validation_split=0.2\n",
    ")\n",
    "\n",
    "# Evaluate the model.\n",
    "model1.evaluate( \n",
    "  test_images,\n",
    "  y_tt\n",
    ")\n"
   ]
  },
  {
   "cell_type": "markdown",
   "metadata": {
    "id": "CUndBqeOVY1_"
   },
   "source": [
    "И можем еще один добавить (продолжаем от предществующего состояния)"
   ]
  },
  {
   "cell_type": "markdown",
   "metadata": {
    "id": "EpxXh0NiVg8p"
   },
   "source": [
    "Сохраним модель на диск"
   ]
  },
  {
   "cell_type": "code",
   "execution_count": 20,
   "metadata": {
    "ExecuteTime": {
     "end_time": "2021-12-07T18:01:20.360493Z",
     "start_time": "2021-12-07T18:01:20.331489Z"
    },
    "id": "He1a5EemElpX"
   },
   "outputs": [],
   "source": [
    "# сохранить веса модели.\n",
    "model1.save_weights('model.h5')\n",
    "\n",
    "# загрузить веса модели:\n",
    "# model.load_weights('model.h5')\n"
   ]
  },
  {
   "cell_type": "markdown",
   "metadata": {
    "id": "P5MHvkloVkqj"
   },
   "source": [
    "И еще тренируем (вторую модель)"
   ]
  },
  {
   "cell_type": "code",
   "execution_count": 21,
   "metadata": {
    "ExecuteTime": {
     "end_time": "2021-12-07T18:02:09.514510Z",
     "start_time": "2021-12-07T18:01:28.883464Z"
    },
    "colab": {
     "base_uri": "https://localhost:8080/"
    },
    "id": "1koJ2ivjLOrO",
    "outputId": "820af20b-228d-42ec-f3c2-de218373d5a3"
   },
   "outputs": [
    {
     "name": "stdout",
     "output_type": "stream",
     "text": [
      "Epoch 1/15\n",
      "1500/1500 [==============================] - 3s 2ms/step - loss: 0.0499 - accuracy: 0.9837 - val_loss: 0.1150 - val_accuracy: 0.9698\n",
      "Epoch 2/15\n",
      "1500/1500 [==============================] - 3s 2ms/step - loss: 0.0422 - accuracy: 0.9859 - val_loss: 0.1174 - val_accuracy: 0.9693\n",
      "Epoch 3/15\n",
      "1500/1500 [==============================] - 3s 2ms/step - loss: 0.0430 - accuracy: 0.9857 - val_loss: 0.1194 - val_accuracy: 0.9684\n",
      "Epoch 4/15\n",
      "1500/1500 [==============================] - 3s 2ms/step - loss: 0.0454 - accuracy: 0.9850 - val_loss: 0.1208 - val_accuracy: 0.9674\n",
      "Epoch 5/15\n",
      "1500/1500 [==============================] - 3s 2ms/step - loss: 0.0425 - accuracy: 0.9861 - val_loss: 0.1142 - val_accuracy: 0.9698\n",
      "Epoch 6/15\n",
      "1500/1500 [==============================] - 3s 2ms/step - loss: 0.0410 - accuracy: 0.9858 - val_loss: 0.1046 - val_accuracy: 0.9723\n",
      "Epoch 7/15\n",
      "1500/1500 [==============================] - 3s 2ms/step - loss: 0.0378 - accuracy: 0.9874 - val_loss: 0.1177 - val_accuracy: 0.9699\n",
      "Epoch 8/15\n",
      "1500/1500 [==============================] - 3s 2ms/step - loss: 0.0424 - accuracy: 0.9860 - val_loss: 0.1163 - val_accuracy: 0.9711\n",
      "Epoch 9/15\n",
      "1500/1500 [==============================] - 3s 2ms/step - loss: 0.0408 - accuracy: 0.9868 - val_loss: 0.1202 - val_accuracy: 0.9690\n",
      "Epoch 10/15\n",
      "1500/1500 [==============================] - 3s 2ms/step - loss: 0.0373 - accuracy: 0.9877 - val_loss: 0.1187 - val_accuracy: 0.9683\n",
      "Epoch 11/15\n",
      "1500/1500 [==============================] - 3s 2ms/step - loss: 0.0389 - accuracy: 0.9872 - val_loss: 0.1188 - val_accuracy: 0.9694\n",
      "Epoch 12/15\n",
      "1500/1500 [==============================] - 3s 2ms/step - loss: 0.0394 - accuracy: 0.9872 - val_loss: 0.1211 - val_accuracy: 0.9693\n",
      "Epoch 13/15\n",
      "1500/1500 [==============================] - 3s 2ms/step - loss: 0.0410 - accuracy: 0.9861 - val_loss: 0.1369 - val_accuracy: 0.9653\n",
      "Epoch 14/15\n",
      "1500/1500 [==============================] - 3s 2ms/step - loss: 0.0337 - accuracy: 0.9885 - val_loss: 0.1029 - val_accuracy: 0.9732\n",
      "Epoch 15/15\n",
      "1500/1500 [==============================] - 3s 2ms/step - loss: 0.0361 - accuracy: 0.9883 - val_loss: 0.1097 - val_accuracy: 0.9728\n",
      "313/313 [==============================] - 0s 1ms/step - loss: 0.0983 - accuracy: 0.9757\n",
      "[7 2 1 0 4]\n",
      "[7 2 1 0 4]\n"
     ]
    }
   ],
   "source": [
    "\n",
    "# Train the model. Вернем результаты по потерям и метрикам для всех эпох в hh \n",
    "hh = model1.fit( \n",
    "  train_images,\n",
    "  to_categorical(train_labels),\n",
    "  epochs=15,\n",
    "  batch_size=32, validation_split=0.2\n",
    ")\n",
    "\n",
    "# Evaluate the model.\n",
    "model1.evaluate(\n",
    "  test_images,\n",
    "  to_categorical(test_labels)\n",
    ")\n",
    "\n",
    "# Predict on the first 5 test images.\n",
    "predictions = model1.predict(test_images[:5])\n",
    "\n",
    "# Print our model's predictions.\n",
    "print(np.argmax(predictions, axis=1)) # [7, 2, 1, 0, 4]\n",
    "\n",
    "# Check our predictions against the ground truths.\n",
    "print(test_labels[:5]) # [7, 2, 1, 0, 4]"
   ]
  },
  {
   "cell_type": "markdown",
   "metadata": {
    "id": "Ckh_q63TvAja"
   },
   "source": [
    "Посмотрим на возвращаемый словарь hh.history (там результаты по эпохам для потерь и метрик по обучению и тестам)"
   ]
  },
  {
   "cell_type": "code",
   "execution_count": 22,
   "metadata": {
    "ExecuteTime": {
     "end_time": "2021-12-07T18:04:47.487123Z",
     "start_time": "2021-12-07T18:04:47.475126Z"
    },
    "colab": {
     "base_uri": "https://localhost:8080/"
    },
    "id": "myewLXE4KTZ6",
    "outputId": "b8f48f59-15ff-4ccb-f8ad-8d1008408b95"
   },
   "outputs": [
    {
     "data": {
      "text/plain": [
       "{'loss': [0.04994433745741844,\n",
       "  0.042192280292510986,\n",
       "  0.04304909333586693,\n",
       "  0.04537629336118698,\n",
       "  0.04245217144489288,\n",
       "  0.04098301753401756,\n",
       "  0.03781871497631073,\n",
       "  0.0423923134803772,\n",
       "  0.040754176676273346,\n",
       "  0.03734901547431946,\n",
       "  0.03891824930906296,\n",
       "  0.03943013399839401,\n",
       "  0.04100761562585831,\n",
       "  0.033662810921669006,\n",
       "  0.03610767051577568],\n",
       " 'accuracy': [0.9836875200271606,\n",
       "  0.9859374761581421,\n",
       "  0.9857291579246521,\n",
       "  0.9850208163261414,\n",
       "  0.9860625267028809,\n",
       "  0.9858124852180481,\n",
       "  0.9873541593551636,\n",
       "  0.9860000014305115,\n",
       "  0.9868124723434448,\n",
       "  0.9876875281333923,\n",
       "  0.9872499704360962,\n",
       "  0.9872083067893982,\n",
       "  0.9860625267028809,\n",
       "  0.9884791374206543,\n",
       "  0.9882916808128357],\n",
       " 'val_loss': [0.11501769721508026,\n",
       "  0.11737385392189026,\n",
       "  0.11943396925926208,\n",
       "  0.12083020061254501,\n",
       "  0.11420878022909164,\n",
       "  0.10457023233175278,\n",
       "  0.11773320287466049,\n",
       "  0.11634384840726852,\n",
       "  0.12022527307271957,\n",
       "  0.11872576922178268,\n",
       "  0.11877603083848953,\n",
       "  0.12114214897155762,\n",
       "  0.13685064017772675,\n",
       "  0.10291574150323868,\n",
       "  0.10968966782093048],\n",
       " 'val_accuracy': [0.9698333144187927,\n",
       "  0.9693333506584167,\n",
       "  0.968416690826416,\n",
       "  0.9674166440963745,\n",
       "  0.9698333144187927,\n",
       "  0.9723333120346069,\n",
       "  0.9699166417121887,\n",
       "  0.9710833430290222,\n",
       "  0.968999981880188,\n",
       "  0.9683333039283752,\n",
       "  0.9694166779518127,\n",
       "  0.9692500233650208,\n",
       "  0.9653333425521851,\n",
       "  0.9731666445732117,\n",
       "  0.9728333353996277]}"
      ]
     },
     "execution_count": 22,
     "metadata": {},
     "output_type": "execute_result"
    }
   ],
   "source": [
    "hh.history"
   ]
  },
  {
   "cell_type": "markdown",
   "metadata": {
    "id": "lJpjFH7hVw8Q"
   },
   "source": [
    "Покажем как выглядит кривая обучения"
   ]
  },
  {
   "cell_type": "code",
   "execution_count": 23,
   "metadata": {
    "ExecuteTime": {
     "end_time": "2021-12-07T18:04:51.118062Z",
     "start_time": "2021-12-07T18:04:50.922065Z"
    },
    "colab": {
     "base_uri": "https://localhost:8080/",
     "height": 457
    },
    "id": "5fBO1Yh2PyIK",
    "outputId": "d0e1494e-9a4f-4f23-b4d5-0adda7aed9f4"
   },
   "outputs": [
    {
     "data": {
      "image/png": "[encoded data removed]",
      "text/plain": [
       "<Figure size 1080x504 with 1 Axes>"
      ]
     },
     "metadata": {
      "needs_background": "light"
     },
     "output_type": "display_data"
    }
   ],
   "source": [
    "plt.figure(figsize=(15,7))\n",
    "plt.plot(hh.history['loss'], label = 'потери для тренировки')\n",
    "plt.plot(hh.history['val_loss'], label = 'потери для валидации')\n",
    "plt.xlabel('эпох')\n",
    "plt.ylabel('loss')\n",
    "plt.legend()\n",
    "plt.grid('On')\n",
    "plt.title('потери от эпох')\n",
    "plt.show()\n"
   ]
  },
  {
   "cell_type": "code",
   "execution_count": 24,
   "metadata": {
    "ExecuteTime": {
     "end_time": "2021-12-07T18:04:53.926254Z",
     "start_time": "2021-12-07T18:04:53.914226Z"
    },
    "colab": {
     "base_uri": "https://localhost:8080/"
    },
    "id": "6qh30hSNwohn",
    "outputId": "b8db327e-8467-4d81-d441-cfb6b3de83fc"
   },
   "outputs": [
    {
     "data": {
      "text/plain": [
       "<keras.callbacks.History at 0x1a40e4a0550>"
      ]
     },
     "execution_count": 24,
     "metadata": {},
     "output_type": "execute_result"
    }
   ],
   "source": [
    "hh"
   ]
  },
  {
   "cell_type": "markdown",
   "metadata": {
    "id": "a8zh5g-GBQIp"
   },
   "source": [
    "Эксперимент с разными оптимизаторами для одной начальной модели:\n",
    "\n",
    "  - создаем модель model\n",
    "  - сохраняем ее веса (это начальная точка) model.save_weights('model.h5')\n",
    "  - создаем рабочую модель modeli куда будем загружать эти вес (она должна быть идентичной структуры) \n",
    "  - загружаем веса modeli.load_weights('model.h5')\n",
    "  - компилируем modeli с одним из оптимизаторов\n",
    "  - вычисляем ошибку для modeli без обучения (т.к. все модели начинают с одной точки, то все ошибки должны быть одинаковые, но будем контролировать это и считаем каждый раз заново)\n",
    "  - проводим обучение модели и пишем ошибки в истории hh\n",
    "  - выводим ошибки для 0-го момента и каждой эпохи обучения по тестовой и валидационной частям данных\n",
    "\n",
    "\n",
    "\n",
    "Оптимизаторы:\n",
    "* SGD() (с или без моментум)\n",
    "* RMSprop()\n",
    "* Adam()\n",
    "* Adagrad()\n",
    "…\n"
   ]
  },
  {
   "cell_type": "code",
   "execution_count": 25,
   "metadata": {
    "ExecuteTime": {
     "end_time": "2021-12-07T18:07:11.201315Z",
     "start_time": "2021-12-07T18:05:05.867177Z"
    },
    "colab": {
     "base_uri": "https://localhost:8080/",
     "height": 457
    },
    "id": "jaqCLGg3w_Nl",
    "outputId": "202befe2-2a15-4f53-aeb8-f20018073aee"
   },
   "outputs": [
    {
     "data": {
      "image/png": "[encoded data removed]",
      "text/plain": [
       "<Figure size 1152x504 with 1 Axes>"
      ]
     },
     "metadata": {
      "needs_background": "light"
     },
     "output_type": "display_data"
    }
   ],
   "source": [
    "# создаем модель model\n",
    "model = Sequential([\n",
    "                      Dense( 64, activation='relu', input_shape=(784,)),\n",
    "                      Dense(64, activation='tanh'),\n",
    "                      Dense(10, activation='softmax'),\n",
    "                      ])\n",
    "# сохраняем ее веса (это начальная точка) model.save_weights('model.h5')\n",
    "model.save_weights('model.h5')\n",
    "\n",
    "plt.figure(figsize=(16,7))\n",
    "\n",
    "# число рабочих эпох\n",
    "epochs = 15\n",
    "# вектор для выводв результатов\n",
    "epoch = np.arange(epochs+1)\n",
    "\n",
    "# будем изменять оптимизаторы\n",
    "\n",
    "#opt_list = [keras.optimizers.SGD( ),keras.optimizers.Adam( ),keras.optimizers.Nadam( )]\n",
    "for i_optim in ['SGD','RMSProp','adam','NAdam']:\n",
    "  # создаем рабочую модель modeli куда будем загружать эти вес (она должна быть идентичной структуры)\n",
    "  modeli = Sequential([\n",
    "                      Dense(64, activation='relu', input_shape=(784,)),\n",
    "                      Dense(64, activation='tanh'),\n",
    "                      Dense(10, activation='softmax'),\n",
    "                      ])\n",
    "  # загружаем веса modeli.load_weights('model.h5')\n",
    "  modeli.load_weights('model.h5')\n",
    "  # компилируем modeli с одним из оптимизаторов\n",
    "  modeli.compile(\n",
    "      optimizer=i_optim,\n",
    "      loss='categorical_crossentropy',\n",
    "      metrics=['accuracy'],\n",
    "      )\n",
    "  # вычисляем ошибку для modeli без обучения\n",
    "  hh0_tr = modeli.evaluate(  train_images[:48000,:], to_categorical(train_labels[:48000]),verbose = 0)\n",
    "  hh0_val = modeli.evaluate(  train_images[48000:,:], to_categorical(train_labels[48000:]),verbose = 0)\n",
    "  # проводим обучение модели \n",
    "  hh = modeli.fit(\n",
    "                  train_images,\n",
    "                  to_categorical(train_labels),\n",
    "                  epochs=epochs,\n",
    "                  batch_size=32, validation_split=0.2, verbose = 0\n",
    "                  )\n",
    "  # картинки\n",
    "  plt.plot(epoch,np.log([hh0_tr[0]]+hh.history['loss']),'-',label = modeli.optimizer.get_config()['name']+' train')\n",
    "  plt.plot(epoch,np.log([hh0_val[0]]+hh.history['val_loss']),'--',label = modeli.optimizer.get_config()['name']+' val')\n",
    "plt.legend()\n",
    "plt.grid('On')\n",
    "\n",
    "plt.title('нейросети от оптимизатора log(loss)')\n",
    "plt.xlabel('epoch')\n",
    "plt.ylabel('log(loss)')\n",
    "plt.show()\n"
   ]
  },
  {
   "cell_type": "code",
   "execution_count": 48,
   "metadata": {
    "colab": {
     "base_uri": "https://localhost:8080/"
    },
    "id": "viS_E5s6z2UU",
    "outputId": "6de819dd-d6e3-414d-c75e-c3c15b9f45b3"
   },
   "outputs": [
    {
     "data": {
      "text/plain": [
       "{'beta_1': 0.9,\n",
       " 'beta_2': 0.999,\n",
       " 'decay': 0.004,\n",
       " 'epsilon': 1e-07,\n",
       " 'learning_rate': 0.001,\n",
       " 'name': 'Nadam'}"
      ]
     },
     "execution_count": 48,
     "metadata": {},
     "output_type": "execute_result"
    }
   ],
   "source": [
    " modeli.optimizer.get_config()"
   ]
  },
  {
   "cell_type": "markdown",
   "metadata": {
    "id": "eUVhmimFvp-k"
   },
   "source": [
    "Посмотрим на результат предсказаний  (inference) для обученной модели (последняя в цикле)"
   ]
  },
  {
   "cell_type": "code",
   "execution_count": 50,
   "metadata": {
    "colab": {
     "base_uri": "https://localhost:8080/",
     "height": 175
    },
    "id": "wj7fhqd3FKFe",
    "outputId": "416600c7-a95e-412b-88d2-7c51ca1de4d2"
   },
   "outputs": [
    {
     "data": {
      "image/png": "[encoded data removed]",
      "text/plain": [
       "<Figure size 1944x360 with 9 Axes>"
      ]
     },
     "metadata": {
      "needs_background": "light"
     },
     "output_type": "display_data"
    }
   ],
   "source": [
    "N = 9\n",
    "y_pred = model1.predict(test_images[:N,:])\n",
    "y_pred_class = np.argmax(y_pred,axis=1)\n",
    "plt.figure(figsize =(3*N,5))\n",
    "for i in range(N):\n",
    "  plt.subplot(1,N,i+1)\n",
    "  plt.imshow(test_images[i,:].reshape(28,28))\n",
    "  plt.xlabel(str(y_pred_class[i]))\n",
    "plt.show()  "
   ]
  },
  {
   "cell_type": "code",
   "execution_count": 51,
   "metadata": {
    "colab": {
     "base_uri": "https://localhost:8080/"
    },
    "id": "Q561c6eaGxcB",
    "outputId": "c42f8b99-e93c-47d7-cbdb-76082d4e4d25"
   },
   "outputs": [
    {
     "data": {
      "text/plain": [
       "array([3, 3, 3, 7, 0, 3, 0, 3, 5])"
      ]
     },
     "execution_count": 51,
     "metadata": {},
     "output_type": "execute_result"
    }
   ],
   "source": [
    "y_pred_class"
   ]
  },
  {
   "cell_type": "markdown",
   "metadata": {
    "id": "ws3OtgYMfpXI"
   },
   "source": [
    "Вариант синтаксиса:"
   ]
  },
  {
   "cell_type": "code",
   "execution_count": 52,
   "metadata": {
    "colab": {
     "base_uri": "https://localhost:8080/"
    },
    "id": "IvO2kuDRerfX",
    "outputId": "6c7cffec-96b4-4c83-cfcc-96bfc3d72c45"
   },
   "outputs": [
    {
     "data": {
      "text/plain": [
       "array([3, 3, 3, ..., 3, 3, 7])"
      ]
     },
     "execution_count": 52,
     "metadata": {},
     "output_type": "execute_result"
    }
   ],
   "source": [
    "y_predi = model1(test_images[:,:])\n",
    "np.argmax(y_predi,axis=1)"
   ]
  },
  {
   "cell_type": "code",
   "execution_count": 53,
   "metadata": {
    "colab": {
     "base_uri": "https://localhost:8080/"
    },
    "id": "EREg7l6YUK7P",
    "outputId": "e6d67937-60a1-4305-f353-3d69c75a560c"
   },
   "outputs": [
    {
     "data": {
      "text/plain": [
       "array([   0,    1,    2, ..., 9997, 9998, 9999])"
      ]
     },
     "execution_count": 53,
     "metadata": {},
     "output_type": "execute_result"
    }
   ],
   "source": [
    "yy = np.argmax(y_predi,axis=1)\n",
    "np.where(test_labels != yy)[0]"
   ]
  },
  {
   "cell_type": "markdown",
   "metadata": {
    "id": "NRSQbmXD9U98"
   },
   "source": [
    "## Практическое задание\n",
    "\n",
    "Используем набор примеров fashion-MNIST\n",
    "\n",
    "1.  Опишите - какой результата получен в нейросети в зависимости от:\n",
    "  -  числа нейронов в слое(для 2-хслойной сети), \n",
    "  - числа слоев (2, 3, 5, 10) при близких размерах сети (близкое число тренируемых парметров).\n",
    "  - фиксируйте для тренировочного и тестового набора метрики accuracy.\n",
    "2.  Проверьте работу разных оптимизаторов (SGD, Adam, RMSProp) для одной из моделей п.1.Фиксируйте для тренировочного и тестового набора метрики accuracy.\n",
    "\n",
    "3. Сделайте вывод - что помогло вам улучшить качество классификации в нейросети на тестовом наборе? \n",
    "\n",
    "4. Для одного варианта сетей сформируйте матрицу ошибок по классам. Оцените качество модели по каждому классу отдельно (полнота , точность). Сделайте вывод."
   ]
  },
  {
   "cell_type": "markdown",
   "metadata": {
    "id": "HN8DNX38v4JC"
   },
   "source": [
    "Загрузка Fashion_MNIST"
   ]
  },
  {
   "cell_type": "code",
   "execution_count": 54,
   "metadata": {
    "id": "lzui-f-AMxXM"
   },
   "outputs": [],
   "source": [
    "from keras.datasets import fashion_mnist\n"
   ]
  },
  {
   "cell_type": "code",
   "execution_count": 55,
   "metadata": {
    "colab": {
     "base_uri": "https://localhost:8080/"
    },
    "id": "cnrrzpi6NBLV",
    "outputId": "e42f7955-cedc-4ec9-f1b0-caaa00ac4314"
   },
   "outputs": [
    {
     "name": "stdout",
     "output_type": "stream",
     "text": [
      "Downloading data from https://storage.googleapis.com/tensorflow/tf-keras-datasets/train-labels-idx1-ubyte.gz\n",
      "32768/29515 [=================================] - 0s 0us/step\n",
      "40960/29515 [=========================================] - 0s 0us/step\n",
      "Downloading data from https://storage.googleapis.com/tensorflow/tf-keras-datasets/train-images-idx3-ubyte.gz\n",
      "26427392/26421880 [==============================] - 0s 0us/step\n",
      "26435584/26421880 [==============================] - 0s 0us/step\n",
      "Downloading data from https://storage.googleapis.com/tensorflow/tf-keras-datasets/t10k-labels-idx1-ubyte.gz\n",
      "16384/5148 [===============================================================================================] - 0s 0us/step\n",
      "Downloading data from https://storage.googleapis.com/tensorflow/tf-keras-datasets/t10k-images-idx3-ubyte.gz\n",
      "4423680/4422102 [==============================] - 0s 0us/step\n",
      "4431872/4422102 [==============================] - 0s 0us/step\n"
     ]
    }
   ],
   "source": [
    "(train_imagef,train_labelf),(test_imagef,test_labelf)=fashion_mnist.load_data()"
   ]
  },
  {
   "cell_type": "code",
   "execution_count": 56,
   "metadata": {
    "colab": {
     "base_uri": "https://localhost:8080/",
     "height": 264
    },
    "id": "HgkWr0rjE47r",
    "outputId": "f8badcea-50ea-45cb-8de4-89987f6a2478"
   },
   "outputs": [
    {
     "data": {
      "image/png": "[encoded data removed]",
      "text/plain": [
       "<Figure size 432x288 with 1 Axes>"
      ]
     },
     "metadata": {
      "needs_background": "light"
     },
     "output_type": "display_data"
    }
   ],
   "source": [
    "plt.imshow(train_imagef[11,:,:])\n",
    "plt.show()"
   ]
  },
  {
   "cell_type": "markdown",
   "metadata": {
    "id": "m2wW13WB9U99"
   },
   "source": [
    "## Дополнительные материалы\n",
    "\n",
    "<ol>\n",
    "    <li> https://keras.io/</li>\n",
    "    <li> https://playground.tensorflow.org/ - визуализация сетей \n",
    "</ol>"
   ]
  },
  {
   "cell_type": "markdown",
   "metadata": {
    "id": "v6h1K5ET9U9_"
   },
   "source": [
    "## Используемая литература \n",
    "\n",
    "Для подготовки данного методического пособия были использованы следующие ресурсы:\n",
    "<ol>\n",
    "    <li>https://keras.io/</li>\n",
    "    <li>Шакла Н. — Машинное обучение и TensorFlow 2019</li>\n",
    "    <li>Саймон Хайкин — Нейронные сети: полный курс</li>\n",
    "    <li>Википедия</li>\n",
    "    \n",
    "</ol>"
   ]
  },
  {
   "cell_type": "code",
   "execution_count": null,
   "metadata": {
    "id": "TZa4ediT9U-B"
   },
   "outputs": [],
   "source": []
  }
 ],
 "metadata": {
  "accelerator": "GPU",
  "colab": {
   "collapsed_sections": [
    "NRSQbmXD9U98",
    "m2wW13WB9U99",
    "v6h1K5ET9U9_"
   ],
   "name": "metodich2_collab.ipynb",
   "provenance": []
  },
  "kernelspec": {
   "display_name": "Python 3 (ipykernel)",
   "language": "python",
   "name": "python3"
  },
  "language_info": {
   "codemirror_mode": {
    "name": "ipython",
    "version": 3
   },
   "file_extension": ".py",
   "mimetype": "text/x-python",
   "name": "python",
   "nbconvert_exporter": "python",
   "pygments_lexer": "ipython3",
   "version": "3.8.11"
  },
  "toc": {
   "base_numbering": 1,
   "nav_menu": {},
   "number_sections": true,
   "sideBar": true,
   "skip_h1_title": false,
   "title_cell": "Table of Contents",
   "title_sidebar": "Contents",
   "toc_cell": false,
   "toc_position": {},
   "toc_section_display": true,
   "toc_window_display": false
  }
 },
 "nbformat": 4,
 "nbformat_minor": 1
}
