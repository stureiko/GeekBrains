{
 "cells": [
  {
   "cell_type": "markdown",
   "metadata": {
    "id": "XvhEhpGm9U8z"
   },
   "source": [
    "# Введение в искусственные нейронные сети\n",
    "# Урок 2. Keras"
   ]
  },
  {
   "cell_type": "markdown",
   "metadata": {
    "id": "LmKjkEH-9U84"
   },
   "source": [
    "## Содержание методического пособия:\n",
    "\n",
    "\n",
    "<ol>\n",
    "<li>Способы создания нейросетей</li>\n",
    "<li>Что такое Keras</li>\n",
    "<li>Основы синтаксиса</li>\n",
    "<li>Простая нейросеть на Keras</li>\n",
    "</ol>"
   ]
  },
  {
   "cell_type": "markdown",
   "metadata": {
    "id": "9gV6aaON9U86"
   },
   "source": [
    "## Способы создания нейросетей\n",
    "\n",
    "Нейросети это математические модели. Программирую на любом языке можно решать задачи связанные с математикой. Однако встает вопрос какой язык подойдет для этого больше? Не считая учебных нейросетей, нейросети как правило работают с большим количеством данных. Поэтому, чтобы обучение нейросетей происходило с приемлимой скоростью нужно использовать быстрый язык. Например Си. Но так как язык Си это язык с низким уровнем абстракции то программировать и модифицировать на нем нейросети было бы крайне затруднительно. \n",
    "\n",
    "Хорошо может подойти для этих целей язык Python. Так как он с одной стороны имеет высокий уровень абстракции с другой стороны операции с массивами данных могут сделать его библиотеки написанные на Си. Таким способом мы пользовались на первых 2 уроках. Однако если писать нейросети таким образом то будет много повторяющегося кода поскольку архитектуры нейросетей остаются одинаковыми и зачастую у них только меняются параметры. Кроме этого нам может понадобиться хорошо знать архитектуры самых разных нейронных сетей чтобы реализовать их вручную. Работа таким образом затруднительна для людей не имеющих достаточной подготовки, а для имеющих может быть нааборот рутиной.\n",
    "\n",
    "Существуют фреймворки для созданий нейронных сетей. Они являются, пожалуй основным рабочим способом создания нейронных сетей. Вот их неполный перечень:\n",
    "\n",
    "1. TensorFlow\n",
    "2. PyTorch\n",
    "3. Keras\n",
    "4. Microsoft Cognitive Toolkit (CNTK)\n",
    "5. Caffe\n",
    "6. Apache MXNet\n",
    "\n",
    "Упрощение создания нейронных сетей не заканчивается на этих фрейворках. Существуют инструменты которые позволяют создавать нейронные сети без навыков программирования, строя нейросети графически. Примеры: Neural Designer, Deep Learning Studio.\n",
    "\n",
    "Но и на этом не заканчиваются способы создания нейросетей. Существуют инструменты самостоятельно создающие нейронные сети. Это так называемые AutoML инструменты. Вот примеры популярных из них:\n",
    "1. MLBox\n",
    "2. TPOT\n",
    "3. Autokeras\n",
    "\n",
    "Как вы возможно заметили что все эти инструменты отранжированы походы изложения в порядке возрастания уровня абстракции. Соответсвенно говоря о плюсах минусах того или иного инструмента мы должны понимать в принципе плюсы минусы повышения уровня абстракции. Чем он выше тем меньше производительность и тем меньше его гибкость и набоорот.\n",
    "\n",
    "Как уже было сказано наиболее востребованных в рабочих целях является тот уровень абстракции, который дают фреймворки. Будем изучать дальше и пользовать ими. Остается сделать выбор среди них. Самый популярный фреймворк для создания нейросетей TensorFlow. Самый популярный для обучения - Keras. На этом уроке мы изучим с вами Keras, а на следующим TensorFlow. Также стоит отметить, что эти фреймворки взаимосвязаны - Keras как правило работает поверх TensorFlow, а сам TensorFlow позволяет пользовать средствами Keras при необходимости.\n"
   ]
  },
  {
   "cell_type": "markdown",
   "metadata": {
    "id": "b1uUklH29U88"
   },
   "source": [
    "## Что такое Keras\n",
    "\n",
    "Keras появился относительно недавно - в 2015 г. Но за это время стал одним из самых популярных фреймоворков для создания нейросетей и фактически стандартом для использования его начинающими.\n",
    "\n",
    "В чем причина его популярности? Keras позволяет создовать на высоком уровне абстракции. Т.е. на не нужно вручную реализовать с помощью математикаподобного кода те или иные элементы нейронной сети. Мы можем оперировать слоями, количеством нейронов в них, выбором функции активации и т.д. В тоже время keras содержит инструментарий для всего того, что может понадобиться для работы - например ряд встроенных датасетов, возможность обрабатывать изображения.\n",
    "\n",
    "В техническом плане Keras это оболочка над инструментами меньшей степени абстракции. На выбор он может работать поверх TensorFlow, Microsoft Cognitive Toolkit, R, Theano, PlaidML.\n",
    "\n",
    "Keras пользуется также на соревнованиях Kaggle.\n",
    "\n",
    "Однако стоит отметить, что в реальных проектах чаще используется TensorFlow, который мы будем изучать в след. уроках.\n",
    "\n",
    "Keras как и любой высокобастрактный инструмент имеет изъяны в качестве меньшей гибкостью и производительснотью чем тот же tensorflow.\n",
    "\n",
    "Стоит также отметить, что Google официально поддерживает Keras, его автор François Chollet, является сотрудником Google. TensorFlow сам в свою очередь позволяет использовать возможности Keras, т.е. в нем заложена возможность переходить на более высокой уровень абстракции.\n",
    "\n",
    "В данном уроке мы с вами рассмотрим пример обучения нейронной сети с помощью Keras. Но прежде давайте посмотрим на основы синтаксиса Keras и стандартные задачи, которые нужно выполнить при обучении нейронной сети."
   ]
  },
  {
   "cell_type": "markdown",
   "metadata": {
    "id": "iRJ_I6hu9U8-"
   },
   "source": [
    "## Основы синтаксиса"
   ]
  },
  {
   "cell_type": "markdown",
   "metadata": {
    "id": "Sars-tTz9U9A"
   },
   "source": [
    "**Установка и работа с данными**"
   ]
  },
  {
   "cell_type": "markdown",
   "metadata": {
    "id": "8w3sHXOV9U9B"
   },
   "source": [
    "Для начала необходимо установить keras. Надо полагать вы хорошо знакомы с командой pip."
   ]
  },
  {
   "cell_type": "markdown",
   "metadata": {
    "id": "05hfRCv09U9D"
   },
   "source": [
    "sudo python3 pip install keras"
   ]
  },
  {
   "cell_type": "markdown",
   "metadata": {
    "id": "EAwWzAS29U9F"
   },
   "source": [
    "Давайте попробуем получить датасет mnist и проанализировать его содержимое.\n",
    "Это еще не будет синтаксис Keras, но это часто встречающаяся задача. Не обращайте внимание на предупреждения от TensorFlow. Их часто бывает много и их можно подавить при необходимости."
   ]
  },
  {
   "cell_type": "markdown",
   "metadata": {
    "id": "iKgNxL4G9U9H"
   },
   "source": [
    "    import numpy as np\n",
    "    import mnist\n",
    "    import keras\n",
    "\n",
    "    # The first time you run this might be a bit slow, since the\n",
    "    # mnist package has to download and cache the data.\n",
    "    train_images = mnist.train_images()\n",
    "    train_labels = mnist.train_labels()\n",
    "\n",
    "    print(train_images.shape) # (60000, 28, 28)\n",
    "    print(train_labels.shape) # (60000,)"
   ]
  },
  {
   "cell_type": "markdown",
   "metadata": {
    "id": "F_3tRtvg9U9J"
   },
   "source": [
    "Что в данном случае мы смогли с вами узнать? Что тренировочный датасет mnist состоит из 60000 изображений 28 на 28 пикселей. Такие небольшие датасеты с маленькими изображениями встретятся вам и в других учебных датасетах."
   ]
  },
  {
   "cell_type": "markdown",
   "metadata": {
    "id": "DZiKILQd9U9L"
   },
   "source": [
    "Что нам нужно делать теперь? Если датасет не имеет разделения на тренировочный и тестовый то поделить их. В нашем случае наш тренировочный датасет состоит из 60 000 изображений и тестовый из 10 000 и они поделены по умолчанию.\n",
    "\n",
    "Нам теперь нужно конверитировать значения пикселей из вида от 1 до 255 в набор значений от -0.5 до 0.5.\n",
    "\n"
   ]
  },
  {
   "cell_type": "code",
   "execution_count": 3,
   "metadata": {
    "ExecuteTime": {
     "end_time": "2021-12-04T16:50:16.906366Z",
     "start_time": "2021-12-04T16:50:16.866838Z"
    },
    "colab": {
     "base_uri": "https://localhost:8080/"
    },
    "id": "TQMMZ_jw9U9N",
    "outputId": "65d2efe1-021c-4e33-8500-eba693446a91"
   },
   "outputs": [
    {
     "ename": "ModuleNotFoundError",
     "evalue": "No module named 'tf'",
     "output_type": "error",
     "traceback": [
      "\u001b[0;31m---------------------------------------------------------------------------\u001b[0m",
      "\u001b[0;31mModuleNotFoundError\u001b[0m                       Traceback (most recent call last)",
      "\u001b[0;32m/var/folders/t8/rf5y38yd2pg3fw8v0rwbkqd80000gp/T/ipykernel_38916/1143143484.py\u001b[0m in \u001b[0;36m<module>\u001b[0;34m\u001b[0m\n\u001b[1;32m      2\u001b[0m \u001b[0;31m#import mnist\u001b[0m\u001b[0;34m\u001b[0m\u001b[0;34m\u001b[0m\u001b[0;34m\u001b[0m\u001b[0m\n\u001b[1;32m      3\u001b[0m \u001b[0;32mimport\u001b[0m \u001b[0mtensorflow\u001b[0m \u001b[0;32mas\u001b[0m \u001b[0mtf\u001b[0m\u001b[0;34m\u001b[0m\u001b[0;34m\u001b[0m\u001b[0m\n\u001b[0;32m----> 4\u001b[0;31m \u001b[0;32mimport\u001b[0m \u001b[0mtf\u001b[0m\u001b[0;34m.\u001b[0m\u001b[0mkears\u001b[0m \u001b[0;32mas\u001b[0m \u001b[0mkeras\u001b[0m\u001b[0;34m\u001b[0m\u001b[0;34m\u001b[0m\u001b[0m\n\u001b[0m\u001b[1;32m      5\u001b[0m \u001b[0;31m# import keras\u001b[0m\u001b[0;34m\u001b[0m\u001b[0;34m\u001b[0m\u001b[0;34m\u001b[0m\u001b[0m\n\u001b[1;32m      6\u001b[0m \u001b[0;32mfrom\u001b[0m \u001b[0mkeras\u001b[0m\u001b[0;34m.\u001b[0m\u001b[0mdatasets\u001b[0m \u001b[0;32mimport\u001b[0m \u001b[0mmnist\u001b[0m\u001b[0;34m,\u001b[0m \u001b[0mboston_housing\u001b[0m\u001b[0;34m,\u001b[0m \u001b[0mfashion_mnist\u001b[0m  \u001b[0;31m# наборы для работы\u001b[0m\u001b[0;34m\u001b[0m\u001b[0;34m\u001b[0m\u001b[0m\n",
      "\u001b[0;31mModuleNotFoundError\u001b[0m: No module named 'tf'"
     ]
    }
   ],
   "source": [
    "import numpy as np\n",
    "#import mnist\n",
    "# import tensorflow as tf\n",
    "# import tf.kears as keras\n",
    "import keras\n",
    "from keras.datasets import mnist, boston_housing, fashion_mnist  # наборы для работы\n",
    "\n",
    "#train_images = mnist.train_images()\n",
    "#train_labels = mnist.train_labels()\n",
    "#test_images = mnist.test_images()\n",
    "#test_labels = mnist.test_labels()\n",
    "\n",
    "(train_imagesi,train_labels),(test_imagesi,testn_labels)=mnist.load_data()\n",
    "\n",
    "# Normalize the images.\n",
    "train_imagesi = (train_imagesi / 127) - 1\n",
    "test_imagesi = (test_imagesi / 127) - 1\n",
    "\n",
    "# Flatten the images.\n",
    "train_images = train_imagesi.reshape((-1, 784))\n",
    "test_images = test_imagesi.reshape((-1, 784))\n",
    "\n",
    "print(train_images.shape) # (60000, 784)\n",
    "print(test_images.shape)  # (10000, 784)"
   ]
  },
  {
   "cell_type": "code",
   "execution_count": 2,
   "metadata": {
    "colab": {
     "base_uri": "https://localhost:8080/",
     "height": 35
    },
    "id": "3fwDFMMPJDFE",
    "outputId": "b86560e8-a173-4160-8950-0bcca1c2da6e"
   },
   "outputs": [
    {
     "data": {
      "application/vnd.google.colaboratory.intrinsic+json": {
       "type": "string"
      },
      "text/plain": [
       "'tensorflow'"
      ]
     },
     "execution_count": 2,
     "metadata": {},
     "output_type": "execute_result"
    }
   ],
   "source": [
    "keras.backend.backend()"
   ]
  },
  {
   "cell_type": "code",
   "execution_count": 3,
   "metadata": {
    "id": "Jp0WM1sS1DFX"
   },
   "outputs": [],
   "source": [
    "import matplotlib.pyplot as plt"
   ]
  },
  {
   "cell_type": "code",
   "execution_count": 4,
   "metadata": {
    "colab": {
     "base_uri": "https://localhost:8080/",
     "height": 282
    },
    "id": "1GG9Z5HDEEWW",
    "outputId": "fbd45edb-8754-4a5b-fb08-51d119a051cc"
   },
   "outputs": [
    {
     "data": {
      "image/png": "[encoded data removed]",
      "text/plain": [
       "<Figure size 432x288 with 1 Axes>"
      ]
     },
     "metadata": {
      "needs_background": "light"
     },
     "output_type": "display_data"
    },
    {
     "name": "stdout",
     "output_type": "stream",
     "text": [
      "4\n"
     ]
    }
   ],
   "source": [
    "plt.imshow(train_imagesi[2,:,:])\n",
    "plt.show()\n",
    "print(train_labels[2])"
   ]
  },
  {
   "cell_type": "code",
   "execution_count": 5,
   "metadata": {
    "colab": {
     "base_uri": "https://localhost:8080/"
    },
    "id": "t58_YKCl38rz",
    "outputId": "a571b021-faf9-438e-8ed7-41b9a4e1f6f6"
   },
   "outputs": [
    {
     "data": {
      "text/plain": [
       "array([5, 0, 4, 1, 9, 2, 1, 3, 1, 4, 3, 5], dtype=uint8)"
      ]
     },
     "execution_count": 5,
     "metadata": {},
     "output_type": "execute_result"
    }
   ],
   "source": [
    "train_labels[:12]"
   ]
  },
  {
   "cell_type": "code",
   "execution_count": 6,
   "metadata": {
    "colab": {
     "base_uri": "https://localhost:8080/"
    },
    "id": "1_Ae7niGnjb6",
    "outputId": "69cd5161-aee2-486f-cba1-81aff0830436"
   },
   "outputs": [
    {
     "data": {
      "text/plain": [
       "array([-1.        , -1.        , -1.        , -1.        , -1.        ,\n",
       "       -0.90551181, -0.80314961, -0.80314961, -0.80314961, -0.80314961])"
      ]
     },
     "execution_count": 6,
     "metadata": {},
     "output_type": "execute_result"
    }
   ],
   "source": [
    "train_images[202,150:160]"
   ]
  },
  {
   "cell_type": "markdown",
   "metadata": {
    "id": "Y6btW5Oz9U9W"
   },
   "source": [
    "**Создание модели**"
   ]
  },
  {
   "cell_type": "markdown",
   "metadata": {
    "id": "jgVdsO619U9Y"
   },
   "source": [
    "После первичной подготовки данных дальше как правило следует создание модели нейронной сети, которая будет учиться на этих данных.\n",
    "\n",
    "Ниже типичный код учебной нейросети - "
   ]
  },
  {
   "cell_type": "markdown",
   "metadata": {
    "id": "rfu5k2FX9U9a"
   },
   "source": [
    "    # define the keras model\n",
    "    model = Sequential()\n",
    "    model.add(Dense(12, input_dim=8, activation='relu'))\n",
    "    model.add(Dense(8, activation='relu'))\n",
    "    model.add(Dense(1, activation='sigmoid'))"
   ]
  },
  {
   "cell_type": "markdown",
   "metadata": {
    "id": "lb6IkKpN9U9c"
   },
   "source": [
    "Давайте разберемся с теми командами, которые нам встетились в этом коде.\n",
    "\n",
    "Sequential - позволяет создать нейросети где слои имеют форму стека. Сигнал в них передается от одного слоя к другому. В противовес этой разновидности есть нейросети где сигнал может не сразу передаваться в следующий слой а попадать в цикл. Такие нейросети мы разберем в следующих уроках.\n",
    "\n",
    "Dense - позволяет каждому нейронну быть связанному с другим нейронном. В противовес этом может быть необходимость не делать так много связей. Неполносвязнные архитектуры мы также разберем на этом курсе, они основа компьютерного зрения.\n",
    "\n",
    "Цифры 12, 8, 1 обозначают количество нейронов в каждом конкретном слое\n",
    "\n",
    "Activation - позволяет определить формулу по которой будет активироваться нейрон."
   ]
  },
  {
   "cell_type": "markdown",
   "metadata": {
    "id": "iVWaIK2l9U9e"
   },
   "source": [
    "**Компиляция модели**\n",
    "\n",
    "На этапе компиляции модель с заданными параметрами ранее создается. Вот типичный учебный пример:"
   ]
  },
  {
   "cell_type": "markdown",
   "metadata": {
    "id": "B6m5CF1l9U9g"
   },
   "source": [
    "    \n",
    "    # создание keras модели\n",
    "    model.compile(loss='binary_crossentropy', optimizer='adam', metrics=['accuracy'])"
   ]
  },
  {
   "cell_type": "markdown",
   "metadata": {
    "id": "IDbetrHA9U9i"
   },
   "source": [
    "Однако на этой стадии мы должны сделать еще некоторые настройки нейронной сети. Разберем команды из кода выше.\n",
    "\n",
    "loss - позволяет задать формулы по которой будет определяться степень ошибки нейронной сети.\n",
    "\n",
    "optimizer - позволяет задать алгоритм, который будет осуществлять изменения весов по всей нейронной сети (backpropagation)\n",
    "\n",
    "metrics - позволяет опредилить кретирии по которым будет оцениваться степень обученности нейросети.\n",
    "    \n",
    "    "
   ]
  },
  {
   "cell_type": "markdown",
   "metadata": {
    "id": "KH-Cy6Iy9U9l"
   },
   "source": [
    "**Передача данных для обучения нейросети**\n",
    "\n",
    "После того как нейросеть создана можно передавать ей данные для обучения. Ниже типичный пример кода для этого.\n"
   ]
  },
  {
   "cell_type": "markdown",
   "metadata": {
    "id": "TweWbzvu9U9o"
   },
   "source": [
    "    # передача обучающего датасета keras модели\n",
    "    model.fit(X, y, epochs=150, batch_size=10, verbose=0)"
   ]
  },
  {
   "cell_type": "markdown",
   "metadata": {
    "id": "tFt0A6m59U9q"
   },
   "source": [
    "Разберем команды из этого примера.\n",
    "X, y - содержат все обучающие данные\n",
    "epochs - определяет сколько раз через нейросеть должен пройти весь набор данных\n",
    "bath_size - определяет количество обучающих примеров передающихся нейросети на каждой итерации обучения.\n",
    "verbose - позволяет определять информацию, котору вы видете во время обучения нейронной сети."
   ]
  },
  {
   "cell_type": "markdown",
   "metadata": {
    "id": "P7ERG-o79U9s"
   },
   "source": [
    "**Оценка обученности нейронной сети**\n",
    "\n",
    "Следующей стадией может быть проверка обученности нейронной сети. Команда Keras для этих целей - \n",
    "\n",
    "    results = model.evaluate(x_test, y_test, batch_size=128)\n",
    "    \n",
    "В данном случае мы просто указываем какую модель на каких данных мы хотим проверить"
   ]
  },
  {
   "cell_type": "markdown",
   "metadata": {
    "id": "UHT1j0AX9U9t"
   },
   "source": [
    "**Запуск нейронной сети для выполнения работы**\n",
    "\n",
    "На этой стадии мы можем попробовать запустить нейронную сеть на данных которые мы хотели бы чтобы она оценила. Осуществить распознования объекта на фотографии например.\n",
    "Вот код для этих целей - \n",
    "\n",
    "    predictions = model.predict(x_test[:3])\n",
    "    \n",
    "В качестве аргумента здесь указывается массив даныхх содержащих, например фотографию в виде массива чисел.    \n",
    "    "
   ]
  },
  {
   "cell_type": "markdown",
   "metadata": {
    "id": "LoL6FC9I9U9v"
   },
   "source": [
    "Мы с вами рассмотрели основные стадии процесса обучения нейросети и команды Keras, для этого. Безусловно здесь приведен далеко неполный перечень возможностей Keras. У Keras есть также возможность сохранять созданную нейросеть, запускать уже имеющиюся, различные средства для создания нейросетей разных архитектур и другое. С чем то из арсенала Keras мы с вами познакомимся по ходу курса, а с остальным вы можете познакомиться на сайте Keras в разделе документация."
   ]
  },
  {
   "cell_type": "markdown",
   "metadata": {
    "id": "jnUt9U3_9U9x"
   },
   "source": [
    "## Простая нейросеть на Keras"
   ]
  },
  {
   "cell_type": "markdown",
   "metadata": {
    "id": "SAa_Lfn89U9y"
   },
   "source": [
    "Давайте попрубуем сделать нейросеть на Keras использую полученные выше знания. Попробуем обучить нейросеть различать рукописные цифры."
   ]
  },
  {
   "cell_type": "code",
   "execution_count": 40,
   "metadata": {
    "id": "hf6f_oe7EH7A"
   },
   "outputs": [],
   "source": [
    "# Код нейронной сети в Keras!\n",
    "###############################\n",
    "import numpy as np\n",
    "#import mnist\n",
    "from keras.models import Sequential\n",
    "from keras.layers import Dense\n",
    "from keras.datasets import mnist\n",
    "from tensorflow.keras.utils import to_categorical\n",
    "\n"
   ]
  },
  {
   "cell_type": "code",
   "execution_count": 41,
   "metadata": {
    "id": "hFo1_J0eEQ9k"
   },
   "outputs": [],
   "source": [
    "\n",
    "(train_imagesi,train_labels),(test_imagesi,test_labels)=mnist.load_data()\n",
    "\n",
    "# можно брать mnist из специальной библиотеки\n",
    "#train_images = mnist.train_images()\n",
    "#train_labels = mnist.train_labels()\n",
    "#test_images = mnist.test_images()\n",
    "#test_labels = mnist.test_labels()\n",
    "\n",
    "# приведем изображение к диапазону (-1,1).\n",
    "train_images = (train_imagesi / 127) - 1\n",
    "test_images = (test_imagesi / 127) - 1\n",
    "\n",
    "# делаем векторизацию, т.к. наши слои полносвязные и хотят на вход вектор.\n",
    "train_images = train_images.reshape((-1, 784))\n",
    "test_images = test_images.reshape((-1, 784))"
   ]
  },
  {
   "cell_type": "markdown",
   "metadata": {
    "id": "rlO6abtO0oFX"
   },
   "source": [
    "Размер набора входных данных для обучения "
   ]
  },
  {
   "cell_type": "code",
   "execution_count": 43,
   "metadata": {
    "colab": {
     "base_uri": "https://localhost:8080/"
    },
    "id": "XLsN2KNiNHEf",
    "outputId": "f2cca32d-9194-4dca-898b-6c22fdcea346"
   },
   "outputs": [
    {
     "data": {
      "text/plain": [
       "(60000, 784)"
      ]
     },
     "execution_count": 43,
     "metadata": {},
     "output_type": "execute_result"
    }
   ],
   "source": [
    "train_images.shape"
   ]
  },
  {
   "cell_type": "markdown",
   "metadata": {
    "id": "eHplAiIbpDLE"
   },
   "source": [
    "Собираем сеть по слоям через .add()"
   ]
  },
  {
   "cell_type": "code",
   "execution_count": 42,
   "metadata": {
    "id": "b0-xDKrNHNrv"
   },
   "outputs": [],
   "source": [
    "model1 = Sequential(name='my_model')\n",
    "model1.add(Dense( 128, activation='relu', input_shape=(784,)))  \n",
    "# входной слой + поносвязный слой из 128 нейронов с активацией ReLU\n",
    "for k in range(2):\n",
    "  model1.add(Dense(  10+(10-k)*10, activation='tanh')) \n",
    "  # Скрытый слой k из 10+(10-k)*10 нейронов с активацией tanh\n",
    "\n",
    "model1.add(Dense(10, activation='softmax')) \n",
    "# выходной слой из 10 нейронов (сколько классов, столько нейронов) + активация softmax"
   ]
  },
  {
   "cell_type": "code",
   "execution_count": 11,
   "metadata": {
    "id": "WjoJONokxO70"
   },
   "outputs": [],
   "source": [
    "#keras.losses.SparseCategoricalCrossentropy().\n",
    "#keras.losses.categorical_crossentropy()\n",
    "# keras.metrics.accuracy"
   ]
  },
  {
   "cell_type": "markdown",
   "metadata": {
    "id": "oZG48jgOpNmT"
   },
   "source": [
    "Компилируем сеть с оптимизатором , функцией потерь и метрикой:"
   ]
  },
  {
   "cell_type": "code",
   "execution_count": 12,
   "metadata": {
    "id": "6pZ5taUWHke6"
   },
   "outputs": [],
   "source": [
    "model1.compile(\n",
    "  optimizer='adam', # оптимизатор\n",
    "  loss=keras.losses.CategoricalCrossentropy(), # функция потерь\n",
    "  metrics=['accuracy'], # метрика\n",
    ") "
   ]
  },
  {
   "cell_type": "markdown",
   "metadata": {
    "id": "d9Gi-C5ddKKL"
   },
   "source": [
    "Оптимизаторы:\n",
    "* SGD() (с или без моментум)\n",
    "* RMSprop()\n",
    "* Adam()\n",
    "* Adagrad()\n",
    "…\n",
    "\n",
    "Функции потерь:\n",
    "* CategoricalCrossentropy()\n",
    "* SparseCategoricalCrossentropy()\n",
    "* BinaryCrossentropy()\n",
    "* MeanSquaredError()\n",
    "* KLDivergence()\n",
    "* CosineSimilarity()\n",
    "…\n",
    "\n",
    "Метрики:\n",
    "* CategoricalAccuracy()\n",
    "* SparseCategoricalAccuracy()\n",
    "* BinaryAccuracy()\n",
    "* AUC()\n",
    "* Precision()\n",
    "* Recall()\n",
    "…"
   ]
  },
  {
   "cell_type": "markdown",
   "metadata": {
    "id": "kaOhpafIpZ5l"
   },
   "source": [
    "ПОсмотрим из чего она состоит:"
   ]
  },
  {
   "cell_type": "code",
   "execution_count": 13,
   "metadata": {
    "colab": {
     "base_uri": "https://localhost:8080/"
    },
    "id": "MdAHcWIoE8rf",
    "outputId": "2349280e-3dd4-440d-c26a-10c0ea20d8c3"
   },
   "outputs": [
    {
     "name": "stdout",
     "output_type": "stream",
     "text": [
      "Model: \"my_model\"\n",
      "_________________________________________________________________\n",
      "Layer (type)                 Output Shape              Param #   \n",
      "=================================================================\n",
      "dense (Dense)                (None, 128)               100480    \n",
      "_________________________________________________________________\n",
      "dense_1 (Dense)              (None, 110)               14190     \n",
      "_________________________________________________________________\n",
      "dense_2 (Dense)              (None, 100)               11100     \n",
      "_________________________________________________________________\n",
      "dense_3 (Dense)              (None, 10)                1010      \n",
      "=================================================================\n",
      "Total params: 126,780\n",
      "Trainable params: 126,780\n",
      "Non-trainable params: 0\n",
      "_________________________________________________________________\n"
     ]
    }
   ],
   "source": [
    "model1.summary()"
   ]
  },
  {
   "cell_type": "markdown",
   "metadata": {
    "id": "i2YcWu0upeWi"
   },
   "source": [
    "126 780 параметров в сети. Все будем обучать.\n",
    "\n",
    "Как считать параметры слоя: (число входов нейрона +1)*число нейронов\n",
    "\n",
    "\n",
    "Например, для 5 входов и 10 нейронов в слое - число настраиваемых параметров = (5+1)*10 = 60"
   ]
  },
  {
   "cell_type": "markdown",
   "metadata": {
    "id": "f-drP8y5USej"
   },
   "source": [
    "Еще один способ создать линейную модель"
   ]
  },
  {
   "cell_type": "code",
   "execution_count": 14,
   "metadata": {
    "id": "vT7VLh_SEcZS"
   },
   "outputs": [],
   "source": [
    "\n",
    "# Build the model.\n",
    "model = Sequential([\n",
    "  Dense(128, activation='tanh', input_shape=(784,)),\n",
    "  Dense(110, activation='tanh'), # Скрытый слой из 110 нейронов с активацией tanh\n",
    "  Dense(100, activation='tanh'), # Скрытый слой k из 100 нейронов с активацией tanh\n",
    "  Dense(10, activation='softmax'),# выходной слой из 10 нейронов (сколько классов, столько нейронов) + активация softmax\n",
    "])\n",
    "\n",
    "# Compile the model.\n",
    "model.compile(\n",
    "  optimizer='adam',\n",
    "  loss='categorical_crossentropy',\n",
    "  metrics=['accuracy'],\n",
    ")"
   ]
  },
  {
   "cell_type": "code",
   "execution_count": 15,
   "metadata": {
    "colab": {
     "base_uri": "https://localhost:8080/"
    },
    "id": "O5DOd_RAGZHQ",
    "outputId": "25304590-eeb6-49a5-8a4f-edb2a7fe5487"
   },
   "outputs": [
    {
     "name": "stdout",
     "output_type": "stream",
     "text": [
      "Model: \"sequential\"\n",
      "_________________________________________________________________\n",
      "Layer (type)                 Output Shape              Param #   \n",
      "=================================================================\n",
      "dense_4 (Dense)              (None, 128)               100480    \n",
      "_________________________________________________________________\n",
      "dense_5 (Dense)              (None, 110)               14190     \n",
      "_________________________________________________________________\n",
      "dense_6 (Dense)              (None, 100)               11100     \n",
      "_________________________________________________________________\n",
      "dense_7 (Dense)              (None, 10)                1010      \n",
      "=================================================================\n",
      "Total params: 126,780\n",
      "Trainable params: 126,780\n",
      "Non-trainable params: 0\n",
      "_________________________________________________________________\n"
     ]
    }
   ],
   "source": [
    "model.summary()"
   ]
  },
  {
   "cell_type": "markdown",
   "metadata": {
    "id": "D-ZKLY37Ulq7"
   },
   "source": [
    "Можно подсмотреть как наша модель описана после ее создания"
   ]
  },
  {
   "cell_type": "code",
   "execution_count": 16,
   "metadata": {
    "colab": {
     "base_uri": "https://localhost:8080/"
    },
    "id": "p8zwmaHKzVUH",
    "outputId": "b1883cf8-738d-49f7-bdf2-19c4ab577041"
   },
   "outputs": [
    {
     "data": {
      "text/plain": [
       "{'layers': [{'class_name': 'InputLayer',\n",
       "   'config': {'batch_input_shape': (None, 784),\n",
       "    'dtype': 'float32',\n",
       "    'name': 'dense_4_input',\n",
       "    'ragged': False,\n",
       "    'sparse': False}},\n",
       "  {'class_name': 'Dense',\n",
       "   'config': {'activation': 'tanh',\n",
       "    'activity_regularizer': None,\n",
       "    'batch_input_shape': (None, 784),\n",
       "    'bias_constraint': None,\n",
       "    'bias_initializer': {'class_name': 'Zeros', 'config': {}},\n",
       "    'bias_regularizer': None,\n",
       "    'dtype': 'float32',\n",
       "    'kernel_constraint': None,\n",
       "    'kernel_initializer': {'class_name': 'GlorotUniform',\n",
       "     'config': {'seed': None}},\n",
       "    'kernel_regularizer': None,\n",
       "    'name': 'dense_4',\n",
       "    'trainable': True,\n",
       "    'units': 128,\n",
       "    'use_bias': True}},\n",
       "  {'class_name': 'Dense',\n",
       "   'config': {'activation': 'tanh',\n",
       "    'activity_regularizer': None,\n",
       "    'bias_constraint': None,\n",
       "    'bias_initializer': {'class_name': 'Zeros', 'config': {}},\n",
       "    'bias_regularizer': None,\n",
       "    'dtype': 'float32',\n",
       "    'kernel_constraint': None,\n",
       "    'kernel_initializer': {'class_name': 'GlorotUniform',\n",
       "     'config': {'seed': None}},\n",
       "    'kernel_regularizer': None,\n",
       "    'name': 'dense_5',\n",
       "    'trainable': True,\n",
       "    'units': 110,\n",
       "    'use_bias': True}},\n",
       "  {'class_name': 'Dense',\n",
       "   'config': {'activation': 'tanh',\n",
       "    'activity_regularizer': None,\n",
       "    'bias_constraint': None,\n",
       "    'bias_initializer': {'class_name': 'Zeros', 'config': {}},\n",
       "    'bias_regularizer': None,\n",
       "    'dtype': 'float32',\n",
       "    'kernel_constraint': None,\n",
       "    'kernel_initializer': {'class_name': 'GlorotUniform',\n",
       "     'config': {'seed': None}},\n",
       "    'kernel_regularizer': None,\n",
       "    'name': 'dense_6',\n",
       "    'trainable': True,\n",
       "    'units': 100,\n",
       "    'use_bias': True}},\n",
       "  {'class_name': 'Dense',\n",
       "   'config': {'activation': 'softmax',\n",
       "    'activity_regularizer': None,\n",
       "    'bias_constraint': None,\n",
       "    'bias_initializer': {'class_name': 'Zeros', 'config': {}},\n",
       "    'bias_regularizer': None,\n",
       "    'dtype': 'float32',\n",
       "    'kernel_constraint': None,\n",
       "    'kernel_initializer': {'class_name': 'GlorotUniform',\n",
       "     'config': {'seed': None}},\n",
       "    'kernel_regularizer': None,\n",
       "    'name': 'dense_7',\n",
       "    'trainable': True,\n",
       "    'units': 10,\n",
       "    'use_bias': True}}],\n",
       " 'name': 'sequential'}"
      ]
     },
     "execution_count": 16,
     "metadata": {},
     "output_type": "execute_result"
    }
   ],
   "source": [
    "model.get_config()"
   ]
  },
  {
   "cell_type": "markdown",
   "metadata": {
    "id": "Og3zBOXKUt6Q"
   },
   "source": [
    "Превратим выходы в векторые (OHE в keras - from keras.utils import to_categorical)"
   ]
  },
  {
   "cell_type": "code",
   "execution_count": 17,
   "metadata": {
    "colab": {
     "base_uri": "https://localhost:8080/"
    },
    "id": "r4vfB93ZMa7k",
    "outputId": "95bfc115-c27f-46bb-b181-ae9716a19a26"
   },
   "outputs": [
    {
     "data": {
      "text/plain": [
       "array([5, 0, 4, 1, 9], dtype=uint8)"
      ]
     },
     "execution_count": 17,
     "metadata": {},
     "output_type": "execute_result"
    }
   ],
   "source": [
    "train_labels[:5]"
   ]
  },
  {
   "cell_type": "code",
   "execution_count": 18,
   "metadata": {
    "id": "fXgYOrUwGwzG"
   },
   "outputs": [],
   "source": [
    "y_t = to_categorical( train_labels)\n",
    "y_tt = to_categorical(test_labels)"
   ]
  },
  {
   "cell_type": "code",
   "execution_count": 19,
   "metadata": {
    "colab": {
     "base_uri": "https://localhost:8080/"
    },
    "id": "HWKHT3kpG6yw",
    "outputId": "a598e525-543a-4c88-cc83-bdd433f0559e"
   },
   "outputs": [
    {
     "data": {
      "text/plain": [
       "array([[0., 0., 0., 0., 0., 1., 0., 0., 0., 0.],\n",
       "       [1., 0., 0., 0., 0., 0., 0., 0., 0., 0.],\n",
       "       [0., 0., 0., 0., 1., 0., 0., 0., 0., 0.]], dtype=float32)"
      ]
     },
     "execution_count": 19,
     "metadata": {},
     "output_type": "execute_result"
    }
   ],
   "source": [
    "y_t[:3,:]"
   ]
  },
  {
   "cell_type": "code",
   "execution_count": 20,
   "metadata": {
    "colab": {
     "base_uri": "https://localhost:8080/"
    },
    "id": "13v9kMf5Ouq_",
    "outputId": "4e198d75-313f-4e15-82aa-355c342a471c"
   },
   "outputs": [
    {
     "data": {
      "text/plain": [
       "array([5, 0, 4, 1, 9], dtype=uint8)"
      ]
     },
     "execution_count": 20,
     "metadata": {},
     "output_type": "execute_result"
    }
   ],
   "source": [
    "train_labels[:5]"
   ]
  },
  {
   "cell_type": "markdown",
   "metadata": {
    "id": "Xk1EavOKVBqI"
   },
   "source": [
    "Посмотрим на реакции модели до обучения - уже можно:)"
   ]
  },
  {
   "cell_type": "code",
   "execution_count": 21,
   "metadata": {
    "id": "x6q31tJQLuol"
   },
   "outputs": [],
   "source": [
    "y_pred = model.predict(test_images[:5,:])"
   ]
  },
  {
   "cell_type": "code",
   "execution_count": 22,
   "metadata": {
    "colab": {
     "base_uri": "https://localhost:8080/"
    },
    "id": "qM07Ce8IMKPh",
    "outputId": "6dd5d000-8e02-40fa-c7c4-fad1045d4731"
   },
   "outputs": [
    {
     "data": {
      "text/plain": [
       "array([0.02291401, 0.02206398, 0.11513671, 0.08579981, 0.0537666 ,\n",
       "       0.16320772, 0.08639722, 0.21154584, 0.20862597, 0.03054214],\n",
       "      dtype=float32)"
      ]
     },
     "execution_count": 22,
     "metadata": {},
     "output_type": "execute_result"
    }
   ],
   "source": [
    "y_pred[0,:]"
   ]
  },
  {
   "cell_type": "code",
   "execution_count": 23,
   "metadata": {
    "colab": {
     "base_uri": "https://localhost:8080/"
    },
    "id": "iFZ8fTdWL-2x",
    "outputId": "82aa8a69-aa60-4b9b-d8bb-edcc15930233"
   },
   "outputs": [
    {
     "name": "stdout",
     "output_type": "stream",
     "text": [
      "[7 5 8 8 8]\n"
     ]
    }
   ],
   "source": [
    "y_class = np.argmax(y_pred, axis=1)\n",
    "print(y_class) # [7, 2, 1, 0, 4]"
   ]
  },
  {
   "cell_type": "code",
   "execution_count": 24,
   "metadata": {
    "colab": {
     "base_uri": "https://localhost:8080/",
     "height": 281
    },
    "id": "4XpTnd6bO2lt",
    "outputId": "5bb716ab-1b7f-4179-c179-d609778127d3"
   },
   "outputs": [
    {
     "data": {
      "image/png": "[encoded data removed]",
      "text/plain": [
       "<Figure size 432x288 with 1 Axes>"
      ]
     },
     "metadata": {
      "needs_background": "light"
     },
     "output_type": "display_data"
    }
   ],
   "source": [
    "n = 1\n",
    "plt.imshow(test_imagesi[n,:,:])\n",
    "plt.title('цифра - '+str(y_class[n]))\n",
    "plt.show()"
   ]
  },
  {
   "cell_type": "markdown",
   "metadata": {
    "id": "emVGoAdNVSK-"
   },
   "source": [
    "Сделаем цикл тренировки модели"
   ]
  },
  {
   "cell_type": "code",
   "execution_count": 25,
   "metadata": {
    "colab": {
     "base_uri": "https://localhost:8080/"
    },
    "id": "9lCF4zXv9U90",
    "outputId": "09aaf07e-95f1-4683-a2a4-1e6be52ddc10"
   },
   "outputs": [
    {
     "name": "stdout",
     "output_type": "stream",
     "text": [
      "Epoch 1/15\n",
      "1500/1500 [==============================] - 6s 3ms/step - loss: 0.3139 - accuracy: 0.9037 - val_loss: 0.1693 - val_accuracy: 0.9498\n",
      "Epoch 2/15\n",
      "1500/1500 [==============================] - 5s 3ms/step - loss: 0.1627 - accuracy: 0.9502 - val_loss: 0.1939 - val_accuracy: 0.9392\n",
      "Epoch 3/15\n",
      "1500/1500 [==============================] - 5s 3ms/step - loss: 0.1303 - accuracy: 0.9590 - val_loss: 0.1519 - val_accuracy: 0.9551\n",
      "Epoch 4/15\n",
      "1500/1500 [==============================] - 5s 3ms/step - loss: 0.1107 - accuracy: 0.9651 - val_loss: 0.1669 - val_accuracy: 0.9480\n",
      "Epoch 5/15\n",
      "1500/1500 [==============================] - 5s 3ms/step - loss: 0.0997 - accuracy: 0.9681 - val_loss: 0.1142 - val_accuracy: 0.9658\n",
      "Epoch 6/15\n",
      "1500/1500 [==============================] - 5s 3ms/step - loss: 0.0867 - accuracy: 0.9731 - val_loss: 0.1069 - val_accuracy: 0.9693\n",
      "Epoch 7/15\n",
      "1500/1500 [==============================] - 5s 3ms/step - loss: 0.0827 - accuracy: 0.9735 - val_loss: 0.1234 - val_accuracy: 0.9637\n",
      "Epoch 8/15\n",
      "1500/1500 [==============================] - 5s 3ms/step - loss: 0.0743 - accuracy: 0.9763 - val_loss: 0.1017 - val_accuracy: 0.9691\n",
      "Epoch 9/15\n",
      "1500/1500 [==============================] - 5s 3ms/step - loss: 0.0701 - accuracy: 0.9772 - val_loss: 0.1245 - val_accuracy: 0.9632\n",
      "Epoch 10/15\n",
      "1500/1500 [==============================] - 5s 3ms/step - loss: 0.0650 - accuracy: 0.9786 - val_loss: 0.1047 - val_accuracy: 0.9685\n",
      "Epoch 11/15\n",
      "1500/1500 [==============================] - 5s 3ms/step - loss: 0.0591 - accuracy: 0.9800 - val_loss: 0.1111 - val_accuracy: 0.9687\n",
      "Epoch 12/15\n",
      "1500/1500 [==============================] - 5s 3ms/step - loss: 0.0582 - accuracy: 0.9810 - val_loss: 0.1425 - val_accuracy: 0.9599\n",
      "Epoch 13/15\n",
      "1500/1500 [==============================] - 5s 3ms/step - loss: 0.0558 - accuracy: 0.9815 - val_loss: 0.1154 - val_accuracy: 0.9689\n",
      "Epoch 14/15\n",
      "1500/1500 [==============================] - 5s 3ms/step - loss: 0.0506 - accuracy: 0.9843 - val_loss: 0.1091 - val_accuracy: 0.9703\n",
      "Epoch 15/15\n",
      "1500/1500 [==============================] - 5s 3ms/step - loss: 0.0516 - accuracy: 0.9823 - val_loss: 0.1092 - val_accuracy: 0.9698\n",
      "313/313 [==============================] - 1s 3ms/step - loss: 0.1008 - accuracy: 0.9695\n",
      "[7 5 8 8 8]\n",
      "[7 2 1 0 4]\n"
     ]
    }
   ],
   "source": [
    "\n",
    "# Train the model.\n",
    "model1.fit(  \n",
    "  train_images[:,:],\n",
    "\n",
    "  y_t[:,:],\n",
    "  epochs=15,\n",
    "  batch_size=32, validation_split=0.2\n",
    ")\n",
    "\n",
    "# Evaluate the model.\n",
    "model1.evaluate( \n",
    "  test_images,\n",
    "  y_tt\n",
    ")\n",
    "\n",
    "# Predict on the first 5 test images.\n",
    "predictions = model.predict(test_images[:5])\n",
    "\n",
    "# Print our model's predictions.\n",
    "print(np.argmax(predictions, axis=1)) # [7, 2, 1, 0, 4]\n",
    "\n",
    "# Check our predictions against the ground truths.\n",
    "print(test_labels[:5]) # [7, 2, 1, 0, 4]"
   ]
  },
  {
   "cell_type": "markdown",
   "metadata": {
    "id": "CUndBqeOVY1_"
   },
   "source": [
    "И можем еще один добавить (продолжаем от предществующего состояния)"
   ]
  },
  {
   "cell_type": "code",
   "execution_count": 26,
   "metadata": {
    "colab": {
     "base_uri": "https://localhost:8080/"
    },
    "id": "z3Qc2u0mHfBJ",
    "outputId": "fb851401-8619-4c15-9506-bfb036c5c942"
   },
   "outputs": [
    {
     "name": "stdout",
     "output_type": "stream",
     "text": [
      "Epoch 1/3\n",
      "47/47 [==============================] - 1s 11ms/step - loss: 0.8930 - accuracy: 0.7571 - val_loss: 0.3499 - val_accuracy: 0.9002\n",
      "Epoch 2/3\n",
      "47/47 [==============================] - 0s 7ms/step - loss: 0.3114 - accuracy: 0.9091 - val_loss: 0.2570 - val_accuracy: 0.9259\n",
      "Epoch 3/3\n",
      "47/47 [==============================] - 0s 7ms/step - loss: 0.2359 - accuracy: 0.9305 - val_loss: 0.2123 - val_accuracy: 0.9369\n"
     ]
    },
    {
     "data": {
      "text/plain": [
       "<keras.callbacks.History at 0x7f6f400c6890>"
      ]
     },
     "execution_count": 26,
     "metadata": {},
     "output_type": "execute_result"
    }
   ],
   "source": [
    "model.fit(\n",
    "  train_images,\n",
    "  y_t,\n",
    "  epochs=3,\n",
    "  batch_size=1024, validation_split=0.2\n",
    ")"
   ]
  },
  {
   "cell_type": "markdown",
   "metadata": {
    "id": "EpxXh0NiVg8p"
   },
   "source": [
    "Сохраним модель на диск"
   ]
  },
  {
   "cell_type": "code",
   "execution_count": 27,
   "metadata": {
    "id": "He1a5EemElpX"
   },
   "outputs": [],
   "source": [
    "# сохранить веса модели.\n",
    "model.save_weights('model.h5')\n",
    "\n",
    "# загрузить веса модели:\n",
    "# model.load_weights('model.h5')\n"
   ]
  },
  {
   "cell_type": "markdown",
   "metadata": {
    "id": "P5MHvkloVkqj"
   },
   "source": [
    "И еще тренируем (вторую модель)"
   ]
  },
  {
   "cell_type": "code",
   "execution_count": 28,
   "metadata": {
    "colab": {
     "base_uri": "https://localhost:8080/"
    },
    "id": "1koJ2ivjLOrO",
    "outputId": "820af20b-228d-42ec-f3c2-de218373d5a3"
   },
   "outputs": [
    {
     "name": "stdout",
     "output_type": "stream",
     "text": [
      "Epoch 1/15\n",
      "1500/1500 [==============================] - 5s 3ms/step - loss: 0.0512 - accuracy: 0.9832 - val_loss: 0.1151 - val_accuracy: 0.9695\n",
      "Epoch 2/15\n",
      "1500/1500 [==============================] - 5s 3ms/step - loss: 0.0452 - accuracy: 0.9845 - val_loss: 0.1447 - val_accuracy: 0.9592\n",
      "Epoch 3/15\n",
      "1500/1500 [==============================] - 5s 3ms/step - loss: 0.0467 - accuracy: 0.9847 - val_loss: 0.1060 - val_accuracy: 0.9718\n",
      "Epoch 4/15\n",
      "1500/1500 [==============================] - 5s 3ms/step - loss: 0.0452 - accuracy: 0.9848 - val_loss: 0.1180 - val_accuracy: 0.9680\n",
      "Epoch 5/15\n",
      "1500/1500 [==============================] - 5s 3ms/step - loss: 0.0432 - accuracy: 0.9855 - val_loss: 0.1173 - val_accuracy: 0.9706\n",
      "Epoch 6/15\n",
      "1500/1500 [==============================] - 5s 3ms/step - loss: 0.0402 - accuracy: 0.9866 - val_loss: 0.1274 - val_accuracy: 0.9657\n",
      "Epoch 7/15\n",
      "1500/1500 [==============================] - 5s 3ms/step - loss: 0.0408 - accuracy: 0.9869 - val_loss: 0.1039 - val_accuracy: 0.9747\n",
      "Epoch 8/15\n",
      "1500/1500 [==============================] - 5s 3ms/step - loss: 0.0418 - accuracy: 0.9859 - val_loss: 0.1082 - val_accuracy: 0.9712\n",
      "Epoch 9/15\n",
      "1500/1500 [==============================] - 5s 3ms/step - loss: 0.0392 - accuracy: 0.9868 - val_loss: 0.1293 - val_accuracy: 0.9662\n",
      "Epoch 10/15\n",
      "1500/1500 [==============================] - 5s 3ms/step - loss: 0.0377 - accuracy: 0.9880 - val_loss: 0.1058 - val_accuracy: 0.9743\n",
      "Epoch 11/15\n",
      "1500/1500 [==============================] - 5s 3ms/step - loss: 0.0370 - accuracy: 0.9879 - val_loss: 0.1173 - val_accuracy: 0.9696\n",
      "Epoch 12/15\n",
      "1500/1500 [==============================] - 5s 3ms/step - loss: 0.0384 - accuracy: 0.9870 - val_loss: 0.1154 - val_accuracy: 0.9696\n",
      "Epoch 13/15\n",
      "1500/1500 [==============================] - 5s 3ms/step - loss: 0.0364 - accuracy: 0.9882 - val_loss: 0.1189 - val_accuracy: 0.9702\n",
      "Epoch 14/15\n",
      "1500/1500 [==============================] - 5s 3ms/step - loss: 0.0349 - accuracy: 0.9887 - val_loss: 0.1181 - val_accuracy: 0.9697\n",
      "Epoch 15/15\n",
      "1500/1500 [==============================] - 5s 3ms/step - loss: 0.0363 - accuracy: 0.9884 - val_loss: 0.1063 - val_accuracy: 0.9720\n",
      "313/313 [==============================] - 1s 3ms/step - loss: 0.0947 - accuracy: 0.9743\n",
      "[7 2 1 0 4]\n",
      "[7 2 1 0 4]\n"
     ]
    }
   ],
   "source": [
    "\n",
    "# Train the model. Вернем результаты по потерям и метрикам для всех эпох в hh \n",
    "hh = model1.fit( \n",
    "  train_images,\n",
    "  to_categorical(train_labels),\n",
    "  epochs=15,\n",
    "  batch_size=32, validation_split=0.2\n",
    ")\n",
    "\n",
    "# Evaluate the model.\n",
    "model1.evaluate(\n",
    "  test_images,\n",
    "  to_categorical(test_labels)\n",
    ")\n",
    "\n",
    "# Predict on the first 5 test images.\n",
    "predictions = model1.predict(test_images[:5])\n",
    "\n",
    "# Print our model's predictions.\n",
    "print(np.argmax(predictions, axis=1)) # [7, 2, 1, 0, 4]\n",
    "\n",
    "# Check our predictions against the ground truths.\n",
    "print(test_labels[:5]) # [7, 2, 1, 0, 4]"
   ]
  },
  {
   "cell_type": "markdown",
   "metadata": {
    "id": "Ckh_q63TvAja"
   },
   "source": [
    "Посмотрим на возвращаемый словарь hh.history (там результаты по эпохам для потерь и метрик по обучению и тестам)"
   ]
  },
  {
   "cell_type": "code",
   "execution_count": 29,
   "metadata": {
    "colab": {
     "base_uri": "https://localhost:8080/"
    },
    "id": "myewLXE4KTZ6",
    "outputId": "b8f48f59-15ff-4ccb-f8ad-8d1008408b95"
   },
   "outputs": [
    {
     "data": {
      "text/plain": [
       "{'accuracy': [0.9831874966621399,\n",
       "  0.984499990940094,\n",
       "  0.984666645526886,\n",
       "  0.9847708344459534,\n",
       "  0.9854791760444641,\n",
       "  0.9865833520889282,\n",
       "  0.9868541955947876,\n",
       "  0.9858958125114441,\n",
       "  0.9868333339691162,\n",
       "  0.9880416393280029,\n",
       "  0.9879166483879089,\n",
       "  0.9869791865348816,\n",
       "  0.9881666898727417,\n",
       "  0.9887083172798157,\n",
       "  0.9883541464805603],\n",
       " 'loss': [0.05116109549999237,\n",
       "  0.045221734791994095,\n",
       "  0.04671388119459152,\n",
       "  0.04522876441478729,\n",
       "  0.043209873139858246,\n",
       "  0.040183547884225845,\n",
       "  0.040798429399728775,\n",
       "  0.041775595396757126,\n",
       "  0.03920777887105942,\n",
       "  0.03765399008989334,\n",
       "  0.03704991564154625,\n",
       "  0.03842076286673546,\n",
       "  0.03644929081201553,\n",
       "  0.03488641977310181,\n",
       "  0.03634487837553024],\n",
       " 'val_accuracy': [0.9695000052452087,\n",
       "  0.9592499732971191,\n",
       "  0.971750020980835,\n",
       "  0.9679999947547913,\n",
       "  0.9705833196640015,\n",
       "  0.965749979019165,\n",
       "  0.9747499823570251,\n",
       "  0.9711666703224182,\n",
       "  0.9661666750907898,\n",
       "  0.9743333458900452,\n",
       "  0.9695833325386047,\n",
       "  0.9695833325386047,\n",
       "  0.9701666831970215,\n",
       "  0.9697499871253967,\n",
       "  0.972000002861023],\n",
       " 'val_loss': [0.11505244672298431,\n",
       "  0.14468304812908173,\n",
       "  0.10599537193775177,\n",
       "  0.11795110255479813,\n",
       "  0.11727989464998245,\n",
       "  0.1274269074201584,\n",
       "  0.10385587811470032,\n",
       "  0.10816922783851624,\n",
       "  0.12928222119808197,\n",
       "  0.10579269379377365,\n",
       "  0.11725618690252304,\n",
       "  0.11535760760307312,\n",
       "  0.11892308294773102,\n",
       "  0.11805068701505661,\n",
       "  0.10629715025424957]}"
      ]
     },
     "execution_count": 29,
     "metadata": {},
     "output_type": "execute_result"
    }
   ],
   "source": [
    "hh.history"
   ]
  },
  {
   "cell_type": "markdown",
   "metadata": {
    "id": "lJpjFH7hVw8Q"
   },
   "source": [
    "Покажем как выглядит кривая обучения"
   ]
  },
  {
   "cell_type": "code",
   "execution_count": 30,
   "metadata": {
    "colab": {
     "base_uri": "https://localhost:8080/",
     "height": 457
    },
    "id": "5fBO1Yh2PyIK",
    "outputId": "d0e1494e-9a4f-4f23-b4d5-0adda7aed9f4"
   },
   "outputs": [
    {
     "data": {
      "image/png": "[encoded data removed]",
      "text/plain": [
       "<Figure size 1080x504 with 1 Axes>"
      ]
     },
     "metadata": {
      "needs_background": "light"
     },
     "output_type": "display_data"
    }
   ],
   "source": [
    "plt.figure(figsize=(15,7))\n",
    "plt.plot(hh.history['loss'], label = 'потери для тренировки')\n",
    "plt.plot(hh.history['val_loss'], label = 'потери для валидации')\n",
    "plt.xlabel('эпох')\n",
    "plt.ylabel('loss')\n",
    "plt.legend()\n",
    "plt.grid('On')\n",
    "plt.title('потери от эпох')\n",
    "plt.show()\n"
   ]
  },
  {
   "cell_type": "code",
   "execution_count": 31,
   "metadata": {
    "colab": {
     "base_uri": "https://localhost:8080/"
    },
    "id": "6qh30hSNwohn",
    "outputId": "b8db327e-8467-4d81-d441-cfb6b3de83fc"
   },
   "outputs": [
    {
     "data": {
      "text/plain": [
       "<keras.callbacks.History at 0x7f6f02139590>"
      ]
     },
     "execution_count": 31,
     "metadata": {},
     "output_type": "execute_result"
    }
   ],
   "source": [
    "hh"
   ]
  },
  {
   "cell_type": "markdown",
   "metadata": {
    "id": "a8zh5g-GBQIp"
   },
   "source": [
    "Эксперимент с разными оптимизаторами для одной начальной модели:\n",
    "\n",
    "  - создаем модель model\n",
    "  - сохраняем ее веса (это начальная точка) model.save_weights('model.h5')\n",
    "  - создаем рабочую модель modeli куда будем загружать эти вес (она должна быть идентичной структуры) \n",
    "  - загружаем веса modeli.load_weights('model.h5')\n",
    "  - компилируем modeli с одним из оптимизаторов\n",
    "  - вычисляем ошибку для modeli без обучения (т.к. все модели начинают с одной точки, то все ошибки должны быть одинаковые, но будем контролировать это и считаем каждый раз заново)\n",
    "  - проводим обучение модели и пишем ошибки в истории hh\n",
    "  - выводим ошибки для 0-го момента и каждой эпохи обучения по тестовой и валидационной частям данных\n",
    "\n",
    "\n",
    "\n",
    "Оптимизаторы:\n",
    "* SGD() (с или без моментум)\n",
    "* RMSprop()\n",
    "* Adam()\n",
    "* Adagrad()\n",
    "…\n"
   ]
  },
  {
   "cell_type": "code",
   "execution_count": 47,
   "metadata": {
    "colab": {
     "base_uri": "https://localhost:8080/",
     "height": 457
    },
    "id": "jaqCLGg3w_Nl",
    "outputId": "202befe2-2a15-4f53-aeb8-f20018073aee"
   },
   "outputs": [
    {
     "data": {
      "image/png": "[encoded data removed]",
      "text/plain": [
       "<Figure size 1152x504 with 1 Axes>"
      ]
     },
     "metadata": {
      "needs_background": "light"
     },
     "output_type": "display_data"
    }
   ],
   "source": [
    "# создаем модель model\n",
    "model = Sequential([\n",
    "                      Dense( 64, activation='relu', input_shape=(784,)),\n",
    "                      Dense(64, activation='tanh'),\n",
    "                      Dense(10, activation='softmax'),\n",
    "                      ])\n",
    "# сохраняем ее веса (это начальная точка) model.save_weights('model.h5')\n",
    "model.save_weights('model.h5')\n",
    "\n",
    "plt.figure(figsize=(16,7))\n",
    "\n",
    "# число рабочих эпох\n",
    "epochs = 15\n",
    "# вектор для выводв результатов\n",
    "epoch = np.arange(epochs+1)\n",
    "\n",
    "# будем изменять оптимизаторы\n",
    "\n",
    "#opt_list = [keras.optimizers.SGD( ),keras.optimizers.Adam( ),keras.optimizers.Nadam( )]\n",
    "for i_optim in ['SGD','RMSProp','adam','NAdam']:\n",
    "  # создаем рабочую модель modeli куда будем загружать эти вес (она должна быть идентичной структуры)\n",
    "  modeli = Sequential([\n",
    "                      Dense(64, activation='relu', input_shape=(784,)),\n",
    "                      Dense(64, activation='tanh'),\n",
    "                      Dense(10, activation='softmax'),\n",
    "                      ])\n",
    "  # загружаем веса modeli.load_weights('model.h5')\n",
    "  modeli.load_weights('model.h5')\n",
    "  # компилируем modeli с одним из оптимизаторов\n",
    "  modeli.compile(\n",
    "      optimizer=i_optim,\n",
    "      loss='categorical_crossentropy',\n",
    "      metrics=['accuracy'],\n",
    "      )\n",
    "  # вычисляем ошибку для modeli без обучения\n",
    "  hh0_tr = modeli.evaluate(  train_images[:48000,:], to_categorical(train_labels[:48000]),verbose = 0)\n",
    "  hh0_val = modeli.evaluate(  train_images[48000:,:], to_categorical(train_labels[48000:]),verbose = 0)\n",
    "  # проводим обучение модели \n",
    "  hh = modeli.fit(\n",
    "                  train_images,\n",
    "                  to_categorical(train_labels),\n",
    "                  epochs=epochs,\n",
    "                  batch_size=32, validation_split=0.2, verbose = 0\n",
    "                  )\n",
    "  # картинки\n",
    "  plt.plot(epoch,np.log([hh0_tr[0]]+hh.history['loss']),'-',label = modeli.optimizer.get_config()['name']+' train')\n",
    "  plt.plot(epoch,np.log([hh0_val[0]]+hh.history['val_loss']),'--',label = modeli.optimizer.get_config()['name']+' val')\n",
    "plt.legend()\n",
    "plt.grid('On')\n",
    "\n",
    "plt.title('нейросети от оптимизатора log(loss)')\n",
    "plt.xlabel('epoch')\n",
    "plt.ylabel('log(loss)')\n",
    "plt.show()\n"
   ]
  },
  {
   "cell_type": "code",
   "execution_count": 48,
   "metadata": {
    "colab": {
     "base_uri": "https://localhost:8080/"
    },
    "id": "viS_E5s6z2UU",
    "outputId": "6de819dd-d6e3-414d-c75e-c3c15b9f45b3"
   },
   "outputs": [
    {
     "data": {
      "text/plain": [
       "{'beta_1': 0.9,\n",
       " 'beta_2': 0.999,\n",
       " 'decay': 0.004,\n",
       " 'epsilon': 1e-07,\n",
       " 'learning_rate': 0.001,\n",
       " 'name': 'Nadam'}"
      ]
     },
     "execution_count": 48,
     "metadata": {},
     "output_type": "execute_result"
    }
   ],
   "source": [
    " modeli.optimizer.get_config()"
   ]
  },
  {
   "cell_type": "markdown",
   "metadata": {
    "id": "eUVhmimFvp-k"
   },
   "source": [
    "Посмотрим на результат предсказаний  (inference) для обученной модели (последняя в цикле)"
   ]
  },
  {
   "cell_type": "code",
   "execution_count": 50,
   "metadata": {
    "colab": {
     "base_uri": "https://localhost:8080/",
     "height": 175
    },
    "id": "wj7fhqd3FKFe",
    "outputId": "416600c7-a95e-412b-88d2-7c51ca1de4d2"
   },
   "outputs": [
    {
     "data": {
      "image/png": "[encoded data removed]",
      "text/plain": [
       "<Figure size 1944x360 with 9 Axes>"
      ]
     },
     "metadata": {
      "needs_background": "light"
     },
     "output_type": "display_data"
    }
   ],
   "source": [
    "N = 9\n",
    "y_pred = model1.predict(test_images[:N,:])\n",
    "y_pred_class = np.argmax(y_pred,axis=1)\n",
    "plt.figure(figsize =(3*N,5))\n",
    "for i in range(N):\n",
    "  plt.subplot(1,N,i+1)\n",
    "  plt.imshow(test_images[i,:].reshape(28,28))\n",
    "  plt.xlabel(str(y_pred_class[i]))\n",
    "plt.show()  "
   ]
  },
  {
   "cell_type": "code",
   "execution_count": 51,
   "metadata": {
    "colab": {
     "base_uri": "https://localhost:8080/"
    },
    "id": "Q561c6eaGxcB",
    "outputId": "c42f8b99-e93c-47d7-cbdb-76082d4e4d25"
   },
   "outputs": [
    {
     "data": {
      "text/plain": [
       "array([3, 3, 3, 7, 0, 3, 0, 3, 5])"
      ]
     },
     "execution_count": 51,
     "metadata": {},
     "output_type": "execute_result"
    }
   ],
   "source": [
    "y_pred_class"
   ]
  },
  {
   "cell_type": "markdown",
   "metadata": {
    "id": "ws3OtgYMfpXI"
   },
   "source": [
    "Вариант синтаксиса:"
   ]
  },
  {
   "cell_type": "code",
   "execution_count": 52,
   "metadata": {
    "colab": {
     "base_uri": "https://localhost:8080/"
    },
    "id": "IvO2kuDRerfX",
    "outputId": "6c7cffec-96b4-4c83-cfcc-96bfc3d72c45"
   },
   "outputs": [
    {
     "data": {
      "text/plain": [
       "array([3, 3, 3, ..., 3, 3, 7])"
      ]
     },
     "execution_count": 52,
     "metadata": {},
     "output_type": "execute_result"
    }
   ],
   "source": [
    "y_predi = model1(test_images[:,:])\n",
    "np.argmax(y_predi,axis=1)"
   ]
  },
  {
   "cell_type": "code",
   "execution_count": 53,
   "metadata": {
    "colab": {
     "base_uri": "https://localhost:8080/"
    },
    "id": "EREg7l6YUK7P",
    "outputId": "e6d67937-60a1-4305-f353-3d69c75a560c"
   },
   "outputs": [
    {
     "data": {
      "text/plain": [
       "array([   0,    1,    2, ..., 9997, 9998, 9999])"
      ]
     },
     "execution_count": 53,
     "metadata": {},
     "output_type": "execute_result"
    }
   ],
   "source": [
    "yy = np.argmax(y_predi,axis=1)\n",
    "np.where(test_labels != yy)[0]"
   ]
  },
  {
   "cell_type": "markdown",
   "metadata": {
    "id": "NRSQbmXD9U98"
   },
   "source": [
    "## Практическое задание\n",
    "\n",
    "Используем набор примеров fashion-MNIST\n",
    "\n",
    "1.  Опишите - какой результата получен в нейросети в зависимости от:\n",
    "  -  числа нейронов в слое(для 2-хслойной сети), \n",
    "  - числа слоев (2, 3, 5, 10) при близких размерах сети (близкое число тренируемых парметров).\n",
    "  - фиксируйте для тренировочного и тестового набора метрики accuracy.\n",
    "2.  Проверьте работу разных оптимизаторов (SGD, Adam, RMSProp) для одной из моделей п.1.Фиксируйте для тренировочного и тестового набора метрики accuracy.\n",
    "\n",
    "3. Сделайте вывод - что помогло вам улучшить качество классификации в нейросети на тестовом наборе? \n",
    "\n",
    "4. Для одного варианта сетей сформируйте матрицу ошибок по классам. Оцените качество модели по каждому классу отдельно (полнота , точность). Сделайте вывод."
   ]
  },
  {
   "cell_type": "markdown",
   "metadata": {
    "id": "HN8DNX38v4JC"
   },
   "source": [
    "Загрузка Fashion_MNIST"
   ]
  },
  {
   "cell_type": "code",
   "execution_count": 54,
   "metadata": {
    "id": "lzui-f-AMxXM"
   },
   "outputs": [],
   "source": [
    "from keras.datasets import fashion_mnist\n"
   ]
  },
  {
   "cell_type": "code",
   "execution_count": 55,
   "metadata": {
    "colab": {
     "base_uri": "https://localhost:8080/"
    },
    "id": "cnrrzpi6NBLV",
    "outputId": "e42f7955-cedc-4ec9-f1b0-caaa00ac4314"
   },
   "outputs": [
    {
     "name": "stdout",
     "output_type": "stream",
     "text": [
      "Downloading data from https://storage.googleapis.com/tensorflow/tf-keras-datasets/train-labels-idx1-ubyte.gz\n",
      "32768/29515 [=================================] - 0s 0us/step\n",
      "40960/29515 [=========================================] - 0s 0us/step\n",
      "Downloading data from https://storage.googleapis.com/tensorflow/tf-keras-datasets/train-images-idx3-ubyte.gz\n",
      "26427392/26421880 [==============================] - 0s 0us/step\n",
      "26435584/26421880 [==============================] - 0s 0us/step\n",
      "Downloading data from https://storage.googleapis.com/tensorflow/tf-keras-datasets/t10k-labels-idx1-ubyte.gz\n",
      "16384/5148 [===============================================================================================] - 0s 0us/step\n",
      "Downloading data from https://storage.googleapis.com/tensorflow/tf-keras-datasets/t10k-images-idx3-ubyte.gz\n",
      "4423680/4422102 [==============================] - 0s 0us/step\n",
      "4431872/4422102 [==============================] - 0s 0us/step\n"
     ]
    }
   ],
   "source": [
    "(train_imagef,train_labelf),(test_imagef,test_labelf)=fashion_mnist.load_data()"
   ]
  },
  {
   "cell_type": "code",
   "execution_count": 56,
   "metadata": {
    "colab": {
     "base_uri": "https://localhost:8080/",
     "height": 264
    },
    "id": "HgkWr0rjE47r",
    "outputId": "f8badcea-50ea-45cb-8de4-89987f6a2478"
   },
   "outputs": [
    {
     "data": {
      "image/png": "[encoded data removed]",
      "text/plain": [
       "<Figure size 432x288 with 1 Axes>"
      ]
     },
     "metadata": {
      "needs_background": "light"
     },
     "output_type": "display_data"
    }
   ],
   "source": [
    "plt.imshow(train_imagef[11,:,:])\n",
    "plt.show()"
   ]
  },
  {
   "cell_type": "markdown",
   "metadata": {
    "id": "m2wW13WB9U99"
   },
   "source": [
    "## Дополнительные материалы\n",
    "\n",
    "<ol>\n",
    "    <li> https://keras.io/</li>\n",
    "    <li> https://playground.tensorflow.org/ - визуализация сетей \n",
    "</ol>"
   ]
  },
  {
   "cell_type": "markdown",
   "metadata": {
    "id": "v6h1K5ET9U9_"
   },
   "source": [
    "## Используемая литература \n",
    "\n",
    "Для подготовки данного методического пособия были использованы следующие ресурсы:\n",
    "<ol>\n",
    "    <li>https://keras.io/</li>\n",
    "    <li>Шакла Н. — Машинное обучение и TensorFlow 2019</li>\n",
    "    <li>Саймон Хайкин — Нейронные сети: полный курс</li>\n",
    "    <li>Википедия</li>\n",
    "    \n",
    "</ol>"
   ]
  },
  {
   "cell_type": "code",
   "execution_count": null,
   "metadata": {
    "id": "TZa4ediT9U-B"
   },
   "outputs": [],
   "source": []
  }
 ],
 "metadata": {
  "accelerator": "GPU",
  "colab": {
   "collapsed_sections": [
    "NRSQbmXD9U98",
    "m2wW13WB9U99",
    "v6h1K5ET9U9_"
   ],
   "name": "metodich2_collab.ipynb",
   "provenance": []
  },
  "kernelspec": {
   "display_name": "Python 3 (ipykernel)",
   "language": "python",
   "name": "python3"
  },
  "language_info": {
   "codemirror_mode": {
    "name": "ipython",
    "version": 3
   },
   "file_extension": ".py",
   "mimetype": "text/x-python",
   "name": "python",
   "nbconvert_exporter": "python",
   "pygments_lexer": "ipython3",
   "version": "3.8.11"
  },
  "toc": {
   "base_numbering": 1,
   "nav_menu": {},
   "number_sections": true,
   "sideBar": true,
   "skip_h1_title": false,
   "title_cell": "Table of Contents",
   "title_sidebar": "Contents",
   "toc_cell": false,
   "toc_position": {},
   "toc_section_display": true,
   "toc_window_display": false
  }
 },
 "nbformat": 4,
 "nbformat_minor": 1
}
