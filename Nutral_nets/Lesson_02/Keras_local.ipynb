{
 "cells": [
  {
   "cell_type": "code",
   "execution_count": 1,
   "id": "184d41ac",
   "metadata": {
    "ExecuteTime": {
     "end_time": "2021-12-07T17:53:29.833472Z",
     "start_time": "2021-12-07T17:53:15.924824Z"
    }
   },
   "outputs": [],
   "source": [
    "import numpy as np\n",
    "from tensorflow import keras\n",
    "from tensorflow.keras import layers"
   ]
  },
  {
   "cell_type": "code",
   "execution_count": 2,
   "id": "0606981c",
   "metadata": {
    "ExecuteTime": {
     "end_time": "2021-12-07T17:55:20.735640Z",
     "start_time": "2021-12-07T17:55:19.505611Z"
    }
   },
   "outputs": [
    {
     "name": "stdout",
     "output_type": "stream",
     "text": [
      "Downloading data from https://storage.googleapis.com/tensorflow/tf-keras-datasets/mnist.npz\n",
      "11493376/11490434 [==============================] - 1s 0us/step\n",
      "11501568/11490434 [==============================] - 1s 0us/step\n",
      "x_train shape: (60000, 28, 28, 1)\n",
      "60000 train samples\n",
      "10000 test samples\n"
     ]
    }
   ],
   "source": [
    "# Model / data parameters\n",
    "num_classes = 10\n",
    "input_shape = (28, 28, 1)\n",
    "\n",
    "# the data, split between train and test sets\n",
    "(x_train, y_train), (x_test, y_test) = keras.datasets.mnist.load_data()\n",
    "\n",
    "# Scale images to the [0, 1] range\n",
    "x_train = x_train.astype(\"float32\") / 255\n",
    "x_test = x_test.astype(\"float32\") / 255\n",
    "# Make sure images have shape (28, 28, 1)\n",
    "x_train = np.expand_dims(x_train, -1)\n",
    "x_test = np.expand_dims(x_test, -1)\n",
    "print(\"x_train shape:\", x_train.shape)\n",
    "print(x_train.shape[0], \"train samples\")\n",
    "print(x_test.shape[0], \"test samples\")\n",
    "\n",
    "\n",
    "# convert class vectors to binary class matrices\n",
    "y_train = keras.utils.to_categorical(y_train, num_classes)\n",
    "y_test = keras.utils.to_categorical(y_test, num_classes)"
   ]
  },
  {
   "cell_type": "code",
   "execution_count": 3,
   "id": "387ed131",
   "metadata": {
    "ExecuteTime": {
     "end_time": "2021-12-07T17:55:32.406145Z",
     "start_time": "2021-12-07T17:55:32.297158Z"
    }
   },
   "outputs": [
    {
     "name": "stdout",
     "output_type": "stream",
     "text": [
      "Model: \"sequential\"\n",
      "_________________________________________________________________\n",
      " Layer (type)                Output Shape              Param #   \n",
      "=================================================================\n",
      " conv2d (Conv2D)             (None, 26, 26, 32)        320       \n",
      "                                                                 \n",
      " max_pooling2d (MaxPooling2D  (None, 13, 13, 32)       0         \n",
      " )                                                               \n",
      "                                                                 \n",
      " conv2d_1 (Conv2D)           (None, 11, 11, 64)        18496     \n",
      "                                                                 \n",
      " max_pooling2d_1 (MaxPooling  (None, 5, 5, 64)         0         \n",
      " 2D)                                                             \n",
      "                                                                 \n",
      " flatten (Flatten)           (None, 1600)              0         \n",
      "                                                                 \n",
      " dropout (Dropout)           (None, 1600)              0         \n",
      "                                                                 \n",
      " dense (Dense)               (None, 10)                16010     \n",
      "                                                                 \n",
      "=================================================================\n",
      "Total params: 34,826\n",
      "Trainable params: 34,826\n",
      "Non-trainable params: 0\n",
      "_________________________________________________________________\n"
     ]
    }
   ],
   "source": [
    "model = keras.Sequential(\n",
    "    [\n",
    "        keras.Input(shape=input_shape),\n",
    "        layers.Conv2D(32, kernel_size=(3, 3), activation=\"relu\"),\n",
    "        layers.MaxPooling2D(pool_size=(2, 2)),\n",
    "        layers.Conv2D(64, kernel_size=(3, 3), activation=\"relu\"),\n",
    "        layers.MaxPooling2D(pool_size=(2, 2)),\n",
    "        layers.Flatten(),\n",
    "        layers.Dropout(0.5),\n",
    "        layers.Dense(num_classes, activation=\"softmax\"),\n",
    "    ]\n",
    ")\n",
    "\n",
    "model.summary()"
   ]
  },
  {
   "cell_type": "code",
   "execution_count": 4,
   "id": "dca1436f",
   "metadata": {
    "ExecuteTime": {
     "end_time": "2021-12-07T17:59:18.995483Z",
     "start_time": "2021-12-07T17:55:47.730109Z"
    }
   },
   "outputs": [
    {
     "name": "stdout",
     "output_type": "stream",
     "text": [
      "Epoch 1/15\n",
      "422/422 [==============================] - 14s 33ms/step - loss: 0.3741 - accuracy: 0.8870 - val_loss: 0.0850 - val_accuracy: 0.9778\n",
      "Epoch 2/15\n",
      "422/422 [==============================] - 13s 32ms/step - loss: 0.1141 - accuracy: 0.9657 - val_loss: 0.0560 - val_accuracy: 0.9843\n",
      "Epoch 3/15\n",
      "422/422 [==============================] - 14s 34ms/step - loss: 0.0860 - accuracy: 0.9731 - val_loss: 0.0478 - val_accuracy: 0.9865\n",
      "Epoch 4/15\n",
      "422/422 [==============================] - 14s 34ms/step - loss: 0.0718 - accuracy: 0.9781 - val_loss: 0.0447 - val_accuracy: 0.9872\n",
      "Epoch 5/15\n",
      "422/422 [==============================] - 15s 35ms/step - loss: 0.0623 - accuracy: 0.9811 - val_loss: 0.0393 - val_accuracy: 0.9893\n",
      "Epoch 6/15\n",
      "422/422 [==============================] - 14s 34ms/step - loss: 0.0575 - accuracy: 0.9819 - val_loss: 0.0358 - val_accuracy: 0.9908\n",
      "Epoch 7/15\n",
      "422/422 [==============================] - 14s 33ms/step - loss: 0.0539 - accuracy: 0.9827 - val_loss: 0.0368 - val_accuracy: 0.9902\n",
      "Epoch 8/15\n",
      "422/422 [==============================] - 14s 32ms/step - loss: 0.0495 - accuracy: 0.9848 - val_loss: 0.0315 - val_accuracy: 0.9915\n",
      "Epoch 9/15\n",
      "422/422 [==============================] - 14s 32ms/step - loss: 0.0452 - accuracy: 0.9857 - val_loss: 0.0325 - val_accuracy: 0.9913\n",
      "Epoch 10/15\n",
      "422/422 [==============================] - 14s 33ms/step - loss: 0.0428 - accuracy: 0.9864 - val_loss: 0.0328 - val_accuracy: 0.9912\n",
      "Epoch 11/15\n",
      "422/422 [==============================] - 14s 34ms/step - loss: 0.0389 - accuracy: 0.9876 - val_loss: 0.0293 - val_accuracy: 0.9915\n",
      "Epoch 12/15\n",
      "422/422 [==============================] - 14s 34ms/step - loss: 0.0380 - accuracy: 0.9875 - val_loss: 0.0292 - val_accuracy: 0.9907\n",
      "Epoch 13/15\n",
      "422/422 [==============================] - 14s 34ms/step - loss: 0.0367 - accuracy: 0.9881 - val_loss: 0.0309 - val_accuracy: 0.9905\n",
      "Epoch 14/15\n",
      "422/422 [==============================] - 14s 33ms/step - loss: 0.0376 - accuracy: 0.9880 - val_loss: 0.0273 - val_accuracy: 0.9928\n",
      "Epoch 15/15\n",
      "422/422 [==============================] - 14s 33ms/step - loss: 0.0339 - accuracy: 0.9892 - val_loss: 0.0309 - val_accuracy: 0.9915\n"
     ]
    },
    {
     "data": {
      "text/plain": [
       "<keras.callbacks.History at 0x20450cee8b0>"
      ]
     },
     "execution_count": 4,
     "metadata": {},
     "output_type": "execute_result"
    }
   ],
   "source": [
    "batch_size = 128\n",
    "epochs = 15\n",
    "\n",
    "model.compile(loss=\"categorical_crossentropy\", optimizer=\"adam\", metrics=[\"accuracy\"])\n",
    "\n",
    "model.fit(x_train, y_train, batch_size=batch_size, epochs=epochs, validation_split=0.1)"
   ]
  },
  {
   "cell_type": "code",
   "execution_count": 5,
   "id": "0bde0f0c",
   "metadata": {
    "ExecuteTime": {
     "end_time": "2021-12-07T17:59:20.029474Z",
     "start_time": "2021-12-07T17:59:18.997485Z"
    }
   },
   "outputs": [
    {
     "name": "stdout",
     "output_type": "stream",
     "text": [
      "Test loss: 0.02698136307299137\n",
      "Test accuracy: 0.9915000200271606\n"
     ]
    }
   ],
   "source": [
    "score = model.evaluate(x_test, y_test, verbose=0)\n",
    "print(\"Test loss:\", score[0])\n",
    "print(\"Test accuracy:\", score[1])"
   ]
  },
  {
   "cell_type": "code",
   "execution_count": null,
   "id": "8dc43b11",
   "metadata": {},
   "outputs": [],
   "source": []
  }
 ],
 "metadata": {
  "kernelspec": {
   "display_name": "Python 3 (ipykernel)",
   "language": "python",
   "name": "python3"
  },
  "language_info": {
   "codemirror_mode": {
    "name": "ipython",
    "version": 3
   },
   "file_extension": ".py",
   "mimetype": "text/x-python",
   "name": "python",
   "nbconvert_exporter": "python",
   "pygments_lexer": "ipython3",
   "version": "3.8.11"
  },
  "toc": {
   "base_numbering": 1,
   "nav_menu": {},
   "number_sections": true,
   "sideBar": true,
   "skip_h1_title": false,
   "title_cell": "Table of Contents",
   "title_sidebar": "Contents",
   "toc_cell": false,
   "toc_position": {},
   "toc_section_display": true,
   "toc_window_display": false
  }
 },
 "nbformat": 4,
 "nbformat_minor": 5
}
