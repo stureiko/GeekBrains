{
 "cells": [
  {
   "cell_type": "markdown",
   "metadata": {
    "id": "X__omqXOmeOh"
   },
   "source": [
    "__Author: Стурейко Игорь__\n",
    "\n",
    "__Project: Geekbrains.NeutralNets__\n",
    "\n",
    "__Lesson 6 - Segmentation__\n",
    "\n",
    "__Date: 2021-12-23__"
   ]
  },
  {
   "cell_type": "markdown",
   "metadata": {
    "id": "y_FZm2XdooBd"
   },
   "source": [
    "# Задание\n",
    "\n",
    "1. обучить нейронную сеть U-Net на любом другом датасете.\n",
    "\n",
    "2. *Попробуйте свои силы в задаче Carvana на Kaggle - https://www.kaggle.com/c/carvana-image-masking-challenge/overview4."
   ]
  },
  {
   "cell_type": "markdown",
   "metadata": {
    "id": "QWaNsKaFwJaN"
   },
   "source": [
    "# Решение\n",
    "1. Фактически нужно описать статическую часть по загрузке и подготовке данных для обучения\n",
    "2. Добавить часть по сбору и компиляции сети \n",
    "3. Запуск обучения - смотрим на результат"
   ]
  },
  {
   "cell_type": "markdown",
   "metadata": {
    "id": "ZJ9WW2r8yuPt"
   },
   "source": [
    "## Imports"
   ]
  },
  {
   "cell_type": "code",
   "execution_count": 32,
   "metadata": {
    "id": "lBOiqDqY8RUm"
   },
   "outputs": [],
   "source": [
    "from tensorflow.keras.models import Model\n",
    "from tensorflow.keras.datasets import mnist\n",
    "from tensorflow.keras.layers import Input, Conv2DTranspose, concatenate, Activation, MaxPooling2D, Conv2D, BatchNormalization\n",
    "from tensorflow.keras import backend as K\n",
    "from tensorflow.keras.optimizers import Adam\n",
    "from tensorflow.keras import utils\n",
    "import matplotlib.pyplot as plt\n",
    "from tensorflow.keras.preprocessing import image\n",
    "from tensorflow.keras.applications import VGG16\n",
    "from tensorflow.keras.utils import plot_model\n",
    "import numpy as np\n",
    "from PIL import Image\n",
    "import tensorflow as tf\n",
    "import cv2\n",
    "import os, fnmatch"
   ]
  },
  {
   "cell_type": "code",
   "execution_count": 2,
   "metadata": {},
   "outputs": [],
   "source": [
    "# Это наша метрика на Tensorflow\n",
    "\n",
    "def dice_coef(y_true, y_pred):\n",
    "    return (2. * K.sum(y_true * y_pred) + 1.) / (K.sum(y_true) + K.sum(y_pred) + 1.)"
   ]
  },
  {
   "cell_type": "markdown",
   "metadata": {},
   "source": [
    "## Загрузка данных"
   ]
  },
  {
   "cell_type": "code",
   "execution_count": 3,
   "metadata": {},
   "outputs": [],
   "source": [
    "PAHT_label = 'Carvana/train_mask/'\n",
    "PAHT_image = 'Carvana/train/'"
   ]
  },
  {
   "cell_type": "code",
   "execution_count": 4,
   "metadata": {},
   "outputs": [],
   "source": [
    "imag_label = os.listdir(PAHT_label)\n",
    "imag = os.listdir(PAHT_image)"
   ]
  },
  {
   "cell_type": "code",
   "execution_count": 5,
   "metadata": {},
   "outputs": [
    {
     "data": {
      "text/plain": [
       "['00087a6bd4dc_01.jpg',\n",
       " '00087a6bd4dc_02.jpg',\n",
       " '00087a6bd4dc_03.jpg',\n",
       " '00087a6bd4dc_04.jpg',\n",
       " '00087a6bd4dc_05.jpg',\n",
       " '00087a6bd4dc_06.jpg',\n",
       " '00087a6bd4dc_07.jpg',\n",
       " '00087a6bd4dc_08.jpg',\n",
       " '00087a6bd4dc_09.jpg',\n",
       " '00087a6bd4dc_10.jpg']"
      ]
     },
     "execution_count": 5,
     "metadata": {},
     "output_type": "execute_result"
    }
   ],
   "source": [
    "imag.sort()\n",
    "imag[:10]"
   ]
  },
  {
   "cell_type": "code",
   "execution_count": 6,
   "metadata": {},
   "outputs": [
    {
     "data": {
      "text/plain": [
       "['00087a6bd4dc_01_mask.gif.jpg',\n",
       " '00087a6bd4dc_02_mask.gif.jpg',\n",
       " '00087a6bd4dc_03_mask.gif.jpg',\n",
       " '00087a6bd4dc_04_mask.gif.jpg',\n",
       " '00087a6bd4dc_05_mask.gif.jpg',\n",
       " '00087a6bd4dc_06_mask.gif.jpg',\n",
       " '00087a6bd4dc_07_mask.gif.jpg',\n",
       " '00087a6bd4dc_08_mask.gif.jpg',\n",
       " '00087a6bd4dc_09_mask.gif.jpg',\n",
       " '00087a6bd4dc_10_mask.gif.jpg']"
      ]
     },
     "execution_count": 6,
     "metadata": {},
     "output_type": "execute_result"
    }
   ],
   "source": [
    "imag_label.sort()\n",
    "imag_label[:10]"
   ]
  },
  {
   "cell_type": "code",
   "execution_count": 7,
   "metadata": {},
   "outputs": [
    {
     "data": {
      "text/plain": [
       "5088"
      ]
     },
     "execution_count": 7,
     "metadata": {},
     "output_type": "execute_result"
    }
   ],
   "source": [
    "len(imag)"
   ]
  },
  {
   "cell_type": "code",
   "execution_count": 22,
   "metadata": {},
   "outputs": [],
   "source": [
    "# convert gif to jpg\n",
    "\n",
    "# for i_name in os.listdir('Carvana/train_mask'):\n",
    "#     Image.open(str('Carvana/train_mask/' + i_name)).convert('RGB').save(str('Carvana/train_mask/' + i_name+'.jpg'))"
   ]
  },
  {
   "cell_type": "code",
   "execution_count": 14,
   "metadata": {},
   "outputs": [],
   "source": [
    "images = []\n",
    "segments = []\n",
    "image_size = (200,600)\n",
    "for i_name in imag[:100]:\n",
    "  images.append(image.load_img(PAHT_image+i_name ,target_size=image_size))\n",
    "\n",
    "for i_name in imag_label[:100]:\n",
    "  segments.append(image.load_img(PAHT_label+i_name, target_size=image_size))"
   ]
  },
  {
   "cell_type": "code",
   "execution_count": 23,
   "metadata": {},
   "outputs": [
    {
     "data": {
      "image/png": "[encoded data removed]",
      "text/plain": [
       "<Figure size 432x288 with 1 Axes>"
      ]
     },
     "metadata": {
      "needs_background": "light"
     },
     "output_type": "display_data"
    }
   ],
   "source": [
    "def Color2index(y):\n",
    "  arr_col=[[255,255,255],[0,0,0]]\n",
    "  y_ind = np.zeros((y.shape[0],y.shape[1]))\n",
    "  y_cat = np.zeros((y.shape[0],y.shape[1], len(arr_col)))\n",
    "  i = 1\n",
    "  for i_color in arr_col:\n",
    "    ind_i = np.where((y[:,:,0]==i_color[0])&(y[:,:,1]==i_color[1])&(y[:,:,2]==i_color[2]))\n",
    "    y_ind[ind_i[0],ind_i[1]] = i\n",
    "    y_cat[ind_i[0],ind_i[1], i-1] = 1 \n",
    "    i += 1\n",
    "  \n",
    "  return y_cat, y_ind, i-1\n",
    "# cat_yi,ind_yi,h = Color2index(image.img_to_array(segments[0]))\n",
    "# plt.imshow(ind_yi.astype(float)/h)\n",
    "# plt.show()"
   ]
  },
  {
   "cell_type": "code",
   "execution_count": 17,
   "metadata": {},
   "outputs": [],
   "source": [
    "# входные данные\n",
    "xTrain_Test = []\n",
    "\n",
    "for img in images:\n",
    "  x = image.img_to_array(img)\n",
    "  xTrain_Test.append(x)\n",
    "\n",
    "xTrain_Test = np.array(xTrain_Test)\n",
    "\n",
    "yTrain_Test = []\n",
    "\n",
    "for seg in segments:\n",
    "  y_cat,_,_ = Color2index(image.img_to_array(seg))\n",
    "  yTrain_Test.append(y_cat)\n",
    "\n",
    "yTrain_Test = np.array(yTrain_Test)\n",
    "\n",
    "# print(xTrain_Test.shape)\n",
    "\n",
    "# print(yTrain_Test.shape)\n",
    "\n",
    "N = int(xTrain_Test.shape[0]*.8)\n",
    "\n",
    "yTrain = yTrain_Test[:N,:,:,:]\n",
    "xTrain = xTrain_Test[:N,:,:,:]\n",
    "\n",
    "yTest = yTrain_Test[N:,:,:,:]\n",
    "xTest = xTrain_Test[N:,:,:,:]\n",
    "\n",
    "print(xTrain.shape)\n",
    "print(yTrain.shape)"
   ]
  },
  {
   "cell_type": "markdown",
   "metadata": {},
   "source": [
    "## Модель"
   ]
  },
  {
   "cell_type": "code",
   "execution_count": 33,
   "metadata": {},
   "outputs": [],
   "source": [
    "def Unet(num_classes = 14, input_shape= (200, 600, 3)):\n",
    "    img_input = Input(input_shape)\n",
    "\n",
    "    # Block 1\n",
    "    x = Conv2D(64, (3, 3), padding='same', name='block1_conv1')(img_input)\n",
    "    x = BatchNormalization()(x)\n",
    "    x = Activation('relu')(x)\n",
    "\n",
    "    x = Conv2D(64, (3, 3), padding='same', name='block1_conv2')(x)\n",
    "    x = BatchNormalization()(x)\n",
    "    # запомним тензор для переноса\n",
    "    block_1_out = Activation('relu')(x)\n",
    "\n",
    "    x = MaxPooling2D()(block_1_out) # 100x300\n",
    "\n",
    "    # Block 2\n",
    "    x = Conv2D(128, (3, 3), padding='same', name='block2_conv1')(x)\n",
    "    x = BatchNormalization()(x)\n",
    "    x = Activation('relu')(x)\n",
    "\n",
    "    x = Conv2D(128, (3, 3), padding='same', name='block2_conv2')(x)\n",
    "    x = BatchNormalization()(x)\n",
    "    # запомним тензор для переноса\n",
    "    block_2_out = Activation('relu')(x)\n",
    "\n",
    "    x = MaxPooling2D()(block_2_out) # 50x150\n",
    "\n",
    "    # Block 3\n",
    "    x = Conv2D(256, (3, 3), padding='same', name='block3_conv1')(x)\n",
    "    x = BatchNormalization()(x)\n",
    "    x = Activation('relu')(x)\n",
    "\n",
    "    x = Conv2D(256, (3, 3), padding='same', name='block3_conv2')(x)\n",
    "    x = BatchNormalization()(x)\n",
    "    x = Activation('relu')(x)\n",
    "\n",
    "    x = Conv2D(256, (3, 3), padding='same', name='block3_conv3')(x)\n",
    "    x = BatchNormalization()(x)\n",
    "    # запомним тензор для переноса\n",
    "    block_3_out = Activation('relu')(x)\n",
    "\n",
    "    x = MaxPooling2D()(block_3_out) #25x75\n",
    "\n",
    "    # Block 4\n",
    "    x = Conv2D(512, (3, 3), padding='same', name='block4_conv1')(x)\n",
    "    x = BatchNormalization()(x)\n",
    "    x = Activation('relu')(x)\n",
    "\n",
    "    x = Conv2D(512, (3, 3), padding='same', name='block4_conv2')(x)\n",
    "    x = BatchNormalization()(x)\n",
    "    x = Activation('relu')(x)\n",
    "\n",
    "    x = Conv2D(512, (3, 3), padding='same', name='block4_conv3')(x)\n",
    "    x = BatchNormalization()(x)\n",
    "    # запомним тензор для переноса\n",
    "    block_4_out = Activation('relu')(x)\n",
    "\n",
    "    #x = MaxPooling2D()(block_4_out)\n",
    "\n",
    "    # Block 5\n",
    "    #x = Conv2D(512, (3, 3), padding='same', name='block5_conv1')(x)\n",
    "    #x = BatchNormalization()(x)\n",
    "    #x = Activation('relu')(x)\n",
    "\n",
    "    #x = Conv2D(512, (3, 3), padding='same', name='block5_conv2')(x)\n",
    "    #x = BatchNormalization()(x)\n",
    "    #x = Activation('relu')(x)\n",
    "\n",
    "    #x = Conv2D(512, (3, 3), padding='same', name='block5_conv3')(x)\n",
    "    #x = BatchNormalization()(x)\n",
    "    #x = Activation('relu')(x)\n",
    "\n",
    "\n",
    "    # Load pretrained weights.\n",
    "    #for_pretrained_weight = MaxPooling2D()(x)\n",
    "    #vgg16 = Model(img_input, for_pretrained_weight)\n",
    "    #vgg16.load_weights('vgg16_weights_tf_dim_ordering_tf_kernels_notop.h5', by_name=True)\n",
    "\n",
    "    # UP 1\n",
    "    #x = Conv2DTranspose(512, (2, 2), strides=(2, 2), padding='same')(x)\n",
    "    #x = BatchNormalization()(x)\n",
    "    #x = Activation('relu')(x)\n",
    "\n",
    "    #x = concatenate([x, block_4_out])\n",
    "    #x = Conv2D(512, (3, 3), padding='same')(x)\n",
    "    #x = BatchNormalization()(x)\n",
    "    #x = Activation('relu')(x)\n",
    "\n",
    "    #x = Conv2D(512, (3, 3), padding='same')(x)\n",
    "    #x = BatchNormalization()(x)\n",
    "    #x = Activation('relu')(x)\n",
    "\n",
    "    # UP 2\n",
    "    x = Conv2DTranspose(256, (2, 2), strides=(2, 2), padding='same')(x) #50x150\n",
    "    x = BatchNormalization()(x)\n",
    "    x = Activation('relu')(x)\n",
    "\n",
    "    # добавили перенос из понижаюшего плеча\n",
    "    x = concatenate([x, block_3_out])\n",
    "    x = Conv2D(256, (3, 3), padding='same')(x)\n",
    "    x = BatchNormalization()(x)\n",
    "    x = Activation('relu')(x)\n",
    "\n",
    "    x = Conv2D(256, (3, 3), padding='same')(x)\n",
    "    x = BatchNormalization()(x)\n",
    "    x = Activation('relu')(x)\n",
    "\n",
    "    # UP 3\n",
    "    x = Conv2DTranspose(128, (2, 2), strides=(2, 2), padding='same')(x) # 100x300\n",
    "    x = BatchNormalization()(x)\n",
    "    x = Activation('relu')(x)\n",
    "\n",
    "    # добавили перенос из понижаюшего плеча\n",
    "    x = concatenate([x, block_2_out])\n",
    "    x = Conv2D(128, (3, 3), padding='same')(x)\n",
    "    x = BatchNormalization()(x)\n",
    "    x = Activation('relu')(x)\n",
    "\n",
    "    x = Conv2D(128, (3, 3), padding='same')(x)\n",
    "    x = BatchNormalization()(x)\n",
    "    x = Activation('relu')(x)\n",
    "\n",
    "    # UP 4\n",
    "    x = Conv2DTranspose(64, (2, 2), strides=(2, 2), padding='same')(x) # 200x600\n",
    "    x = BatchNormalization()(x)\n",
    "    x = Activation('relu')(x)\n",
    "\n",
    "    # добавили перенос из понижаюшего плеча\n",
    "    x = concatenate([x, block_1_out])\n",
    "    x = Conv2D(64, (3, 3), padding='same')(x)\n",
    "    x = BatchNormalization()(x)\n",
    "    x = Activation('relu')(x)\n",
    "\n",
    "    x = Conv2D(64, (3, 3), padding='same')(x)\n",
    "    x = BatchNormalization()(x)\n",
    "    x = Activation('relu')(x)\n",
    "\n",
    "    # слой классификатор\n",
    "    x = Conv2D(num_classes, (3, 3), activation='softmax', padding='same')(x)\n",
    "\n",
    "    model = Model(img_input, x)\n",
    "    model.compile(optimizer=Adam(),\n",
    "                  loss='categorical_crossentropy',\n",
    "                  metrics=[dice_coef])\n",
    "    model.summary()\n",
    "    return model"
   ]
  },
  {
   "cell_type": "code",
   "execution_count": 35,
   "metadata": {},
   "outputs": [
    {
     "name": "stdout",
     "output_type": "stream",
     "text": [
      "Model: \"model_1\"\n",
      "__________________________________________________________________________________________________\n",
      "Layer (type)                    Output Shape         Param #     Connected to                     \n",
      "==================================================================================================\n",
      "input_2 (InputLayer)            [(None, 200, 600, 3) 0                                            \n",
      "__________________________________________________________________________________________________\n",
      "block1_conv1 (Conv2D)           (None, 200, 600, 64) 1792        input_2[0][0]                    \n",
      "__________________________________________________________________________________________________\n",
      "batch_normalization_19 (BatchNo (None, 200, 600, 64) 256         block1_conv1[0][0]               \n",
      "__________________________________________________________________________________________________\n",
      "activation_19 (Activation)      (None, 200, 600, 64) 0           batch_normalization_19[0][0]     \n",
      "__________________________________________________________________________________________________\n",
      "block1_conv2 (Conv2D)           (None, 200, 600, 64) 36928       activation_19[0][0]              \n",
      "__________________________________________________________________________________________________\n",
      "batch_normalization_20 (BatchNo (None, 200, 600, 64) 256         block1_conv2[0][0]               \n",
      "__________________________________________________________________________________________________\n",
      "activation_20 (Activation)      (None, 200, 600, 64) 0           batch_normalization_20[0][0]     \n",
      "__________________________________________________________________________________________________\n",
      "max_pooling2d_3 (MaxPooling2D)  (None, 100, 300, 64) 0           activation_20[0][0]              \n",
      "__________________________________________________________________________________________________\n",
      "block2_conv1 (Conv2D)           (None, 100, 300, 128 73856       max_pooling2d_3[0][0]            \n",
      "__________________________________________________________________________________________________\n",
      "batch_normalization_21 (BatchNo (None, 100, 300, 128 512         block2_conv1[0][0]               \n",
      "__________________________________________________________________________________________________\n",
      "activation_21 (Activation)      (None, 100, 300, 128 0           batch_normalization_21[0][0]     \n",
      "__________________________________________________________________________________________________\n",
      "block2_conv2 (Conv2D)           (None, 100, 300, 128 147584      activation_21[0][0]              \n",
      "__________________________________________________________________________________________________\n",
      "batch_normalization_22 (BatchNo (None, 100, 300, 128 512         block2_conv2[0][0]               \n",
      "__________________________________________________________________________________________________\n",
      "activation_22 (Activation)      (None, 100, 300, 128 0           batch_normalization_22[0][0]     \n",
      "__________________________________________________________________________________________________\n",
      "max_pooling2d_4 (MaxPooling2D)  (None, 50, 150, 128) 0           activation_22[0][0]              \n",
      "__________________________________________________________________________________________________\n",
      "block3_conv1 (Conv2D)           (None, 50, 150, 256) 295168      max_pooling2d_4[0][0]            \n",
      "__________________________________________________________________________________________________\n",
      "batch_normalization_23 (BatchNo (None, 50, 150, 256) 1024        block3_conv1[0][0]               \n",
      "__________________________________________________________________________________________________\n",
      "activation_23 (Activation)      (None, 50, 150, 256) 0           batch_normalization_23[0][0]     \n",
      "__________________________________________________________________________________________________\n",
      "block3_conv2 (Conv2D)           (None, 50, 150, 256) 590080      activation_23[0][0]              \n",
      "__________________________________________________________________________________________________\n",
      "batch_normalization_24 (BatchNo (None, 50, 150, 256) 1024        block3_conv2[0][0]               \n",
      "__________________________________________________________________________________________________\n",
      "activation_24 (Activation)      (None, 50, 150, 256) 0           batch_normalization_24[0][0]     \n",
      "__________________________________________________________________________________________________\n",
      "block3_conv3 (Conv2D)           (None, 50, 150, 256) 590080      activation_24[0][0]              \n",
      "__________________________________________________________________________________________________\n",
      "batch_normalization_25 (BatchNo (None, 50, 150, 256) 1024        block3_conv3[0][0]               \n",
      "__________________________________________________________________________________________________\n",
      "activation_25 (Activation)      (None, 50, 150, 256) 0           batch_normalization_25[0][0]     \n",
      "__________________________________________________________________________________________________\n",
      "max_pooling2d_5 (MaxPooling2D)  (None, 25, 75, 256)  0           activation_25[0][0]              \n",
      "__________________________________________________________________________________________________\n",
      "block4_conv1 (Conv2D)           (None, 25, 75, 512)  1180160     max_pooling2d_5[0][0]            \n",
      "__________________________________________________________________________________________________\n",
      "batch_normalization_26 (BatchNo (None, 25, 75, 512)  2048        block4_conv1[0][0]               \n",
      "__________________________________________________________________________________________________\n",
      "activation_26 (Activation)      (None, 25, 75, 512)  0           batch_normalization_26[0][0]     \n",
      "__________________________________________________________________________________________________\n",
      "block4_conv2 (Conv2D)           (None, 25, 75, 512)  2359808     activation_26[0][0]              \n",
      "__________________________________________________________________________________________________\n",
      "batch_normalization_27 (BatchNo (None, 25, 75, 512)  2048        block4_conv2[0][0]               \n",
      "__________________________________________________________________________________________________\n",
      "activation_27 (Activation)      (None, 25, 75, 512)  0           batch_normalization_27[0][0]     \n",
      "__________________________________________________________________________________________________\n",
      "block4_conv3 (Conv2D)           (None, 25, 75, 512)  2359808     activation_27[0][0]              \n",
      "__________________________________________________________________________________________________\n",
      "batch_normalization_28 (BatchNo (None, 25, 75, 512)  2048        block4_conv3[0][0]               \n",
      "__________________________________________________________________________________________________\n",
      "conv2d_transpose_3 (Conv2DTrans (None, 50, 150, 256) 524544      batch_normalization_28[0][0]     \n",
      "__________________________________________________________________________________________________\n",
      "batch_normalization_29 (BatchNo (None, 50, 150, 256) 1024        conv2d_transpose_3[0][0]         \n",
      "__________________________________________________________________________________________________\n",
      "activation_29 (Activation)      (None, 50, 150, 256) 0           batch_normalization_29[0][0]     \n",
      "__________________________________________________________________________________________________\n",
      "concatenate_3 (Concatenate)     (None, 50, 150, 512) 0           activation_29[0][0]              \n",
      "                                                                 activation_25[0][0]              \n",
      "__________________________________________________________________________________________________\n",
      "conv2d_7 (Conv2D)               (None, 50, 150, 256) 1179904     concatenate_3[0][0]              \n",
      "__________________________________________________________________________________________________\n",
      "batch_normalization_30 (BatchNo (None, 50, 150, 256) 1024        conv2d_7[0][0]                   \n",
      "__________________________________________________________________________________________________\n",
      "activation_30 (Activation)      (None, 50, 150, 256) 0           batch_normalization_30[0][0]     \n",
      "__________________________________________________________________________________________________\n",
      "conv2d_8 (Conv2D)               (None, 50, 150, 256) 590080      activation_30[0][0]              \n",
      "__________________________________________________________________________________________________\n",
      "batch_normalization_31 (BatchNo (None, 50, 150, 256) 1024        conv2d_8[0][0]                   \n",
      "__________________________________________________________________________________________________\n",
      "activation_31 (Activation)      (None, 50, 150, 256) 0           batch_normalization_31[0][0]     \n",
      "__________________________________________________________________________________________________\n",
      "conv2d_transpose_4 (Conv2DTrans (None, 100, 300, 128 131200      activation_31[0][0]              \n",
      "__________________________________________________________________________________________________\n",
      "batch_normalization_32 (BatchNo (None, 100, 300, 128 512         conv2d_transpose_4[0][0]         \n",
      "__________________________________________________________________________________________________\n",
      "activation_32 (Activation)      (None, 100, 300, 128 0           batch_normalization_32[0][0]     \n",
      "__________________________________________________________________________________________________\n",
      "concatenate_4 (Concatenate)     (None, 100, 300, 256 0           activation_32[0][0]              \n",
      "                                                                 activation_22[0][0]              \n",
      "__________________________________________________________________________________________________\n",
      "conv2d_9 (Conv2D)               (None, 100, 300, 128 295040      concatenate_4[0][0]              \n",
      "__________________________________________________________________________________________________\n",
      "batch_normalization_33 (BatchNo (None, 100, 300, 128 512         conv2d_9[0][0]                   \n",
      "__________________________________________________________________________________________________\n",
      "activation_33 (Activation)      (None, 100, 300, 128 0           batch_normalization_33[0][0]     \n",
      "__________________________________________________________________________________________________\n",
      "conv2d_10 (Conv2D)              (None, 100, 300, 128 147584      activation_33[0][0]              \n",
      "__________________________________________________________________________________________________\n",
      "batch_normalization_34 (BatchNo (None, 100, 300, 128 512         conv2d_10[0][0]                  \n",
      "__________________________________________________________________________________________________\n",
      "activation_34 (Activation)      (None, 100, 300, 128 0           batch_normalization_34[0][0]     \n",
      "__________________________________________________________________________________________________\n",
      "conv2d_transpose_5 (Conv2DTrans (None, 200, 600, 64) 32832       activation_34[0][0]              \n",
      "__________________________________________________________________________________________________\n",
      "batch_normalization_35 (BatchNo (None, 200, 600, 64) 256         conv2d_transpose_5[0][0]         \n",
      "__________________________________________________________________________________________________\n",
      "activation_35 (Activation)      (None, 200, 600, 64) 0           batch_normalization_35[0][0]     \n",
      "__________________________________________________________________________________________________\n",
      "concatenate_5 (Concatenate)     (None, 200, 600, 128 0           activation_35[0][0]              \n",
      "                                                                 activation_20[0][0]              \n",
      "__________________________________________________________________________________________________\n",
      "conv2d_11 (Conv2D)              (None, 200, 600, 64) 73792       concatenate_5[0][0]              \n",
      "__________________________________________________________________________________________________\n",
      "batch_normalization_36 (BatchNo (None, 200, 600, 64) 256         conv2d_11[0][0]                  \n",
      "__________________________________________________________________________________________________\n",
      "activation_36 (Activation)      (None, 200, 600, 64) 0           batch_normalization_36[0][0]     \n",
      "__________________________________________________________________________________________________\n",
      "conv2d_12 (Conv2D)              (None, 200, 600, 64) 36928       activation_36[0][0]              \n",
      "__________________________________________________________________________________________________\n",
      "batch_normalization_37 (BatchNo (None, 200, 600, 64) 256         conv2d_12[0][0]                  \n",
      "__________________________________________________________________________________________________\n",
      "activation_37 (Activation)      (None, 200, 600, 64) 0           batch_normalization_37[0][0]     \n",
      "__________________________________________________________________________________________________\n",
      "conv2d_13 (Conv2D)              (None, 200, 600, 2)  1154        activation_37[0][0]              \n",
      "==================================================================================================\n",
      "Total params: 10,664,450\n",
      "Trainable params: 10,656,386\n",
      "Non-trainable params: 8,064\n",
      "__________________________________________________________________________________________________\n",
      "('Failed to import pydot. You must `pip install pydot` and install graphviz (https://graphviz.gitlab.io/download/), ', 'for `pydotprint` to work.')\n"
     ]
    }
   ],
   "source": [
    "modelC = Unet(2, (200, 600, 3))\n",
    "\n",
    "plot_model(modelC, to_file='modelC.png')"
   ]
  },
  {
   "cell_type": "code",
   "execution_count": 36,
   "metadata": {},
   "outputs": [
    {
     "name": "stdout",
     "output_type": "stream",
     "text": [
      "Epoch 1/30\n",
      "80/80 [==============================] - 41s 321ms/step - loss: 0.1904 - dice_coef: 0.8818 - val_loss: 19.4155 - val_dice_coef: 0.6994\n",
      "Epoch 2/30\n",
      "80/80 [==============================] - 17s 212ms/step - loss: 0.0446 - dice_coef: 0.9716 - val_loss: 2.6432 - val_dice_coef: 0.7483\n",
      "Epoch 3/30\n",
      "80/80 [==============================] - 17s 216ms/step - loss: 0.0330 - dice_coef: 0.9768 - val_loss: 7.8657 - val_dice_coef: 0.6745\n",
      "Epoch 4/30\n",
      "80/80 [==============================] - 17s 214ms/step - loss: 0.0410 - dice_coef: 0.9765 - val_loss: 2.0192 - val_dice_coef: 0.7530\n",
      "Epoch 5/30\n",
      "80/80 [==============================] - 17s 214ms/step - loss: 0.0327 - dice_coef: 0.9809 - val_loss: 1.1611 - val_dice_coef: 0.7918\n",
      "Epoch 6/30\n",
      "80/80 [==============================] - 17s 214ms/step - loss: 0.0300 - dice_coef: 0.9825 - val_loss: 0.2128 - val_dice_coef: 0.9531\n",
      "Epoch 7/30\n",
      "80/80 [==============================] - 17s 215ms/step - loss: 0.0225 - dice_coef: 0.9856 - val_loss: 0.1215 - val_dice_coef: 0.9640\n",
      "Epoch 8/30\n",
      "80/80 [==============================] - 17s 214ms/step - loss: 0.0208 - dice_coef: 0.9845 - val_loss: 1.0829 - val_dice_coef: 0.7626\n",
      "Epoch 9/30\n",
      "80/80 [==============================] - 17s 214ms/step - loss: 0.0271 - dice_coef: 0.9828 - val_loss: 0.2625 - val_dice_coef: 0.9570\n",
      "Epoch 10/30\n",
      "80/80 [==============================] - 17s 215ms/step - loss: 0.0149 - dice_coef: 0.9885 - val_loss: 0.6630 - val_dice_coef: 0.9072\n",
      "Epoch 11/30\n",
      "80/80 [==============================] - 17s 214ms/step - loss: 0.0130 - dice_coef: 0.9898 - val_loss: 0.1381 - val_dice_coef: 0.9687\n",
      "Epoch 12/30\n",
      "80/80 [==============================] - 17s 214ms/step - loss: 0.0141 - dice_coef: 0.9897 - val_loss: 2.7460 - val_dice_coef: 0.4372\n",
      "Epoch 13/30\n",
      "80/80 [==============================] - 17s 215ms/step - loss: 0.0160 - dice_coef: 0.9876 - val_loss: 1.5824 - val_dice_coef: 0.5997\n",
      "Epoch 14/30\n",
      "80/80 [==============================] - 17s 214ms/step - loss: 0.0158 - dice_coef: 0.9884 - val_loss: 0.1201 - val_dice_coef: 0.9648\n",
      "Epoch 15/30\n",
      "80/80 [==============================] - 17s 214ms/step - loss: 0.0144 - dice_coef: 0.9887 - val_loss: 0.2839 - val_dice_coef: 0.9369\n",
      "Epoch 16/30\n",
      "80/80 [==============================] - 17s 216ms/step - loss: 0.0125 - dice_coef: 0.9888 - val_loss: 3.4727 - val_dice_coef: 0.2411\n",
      "Epoch 17/30\n",
      "80/80 [==============================] - 17s 214ms/step - loss: 0.0145 - dice_coef: 0.9886 - val_loss: 0.1303 - val_dice_coef: 0.9621\n",
      "Epoch 18/30\n",
      "80/80 [==============================] - 17s 214ms/step - loss: 0.0106 - dice_coef: 0.9907 - val_loss: 0.3751 - val_dice_coef: 0.8939\n",
      "Epoch 19/30\n",
      "80/80 [==============================] - 17s 214ms/step - loss: 0.0167 - dice_coef: 0.9883 - val_loss: 0.9816 - val_dice_coef: 0.7157\n",
      "Epoch 20/30\n",
      "80/80 [==============================] - 17s 214ms/step - loss: 0.0110 - dice_coef: 0.9909 - val_loss: 0.4051 - val_dice_coef: 0.8939\n",
      "Epoch 21/30\n",
      "80/80 [==============================] - 17s 214ms/step - loss: 0.0111 - dice_coef: 0.9909 - val_loss: 0.4784 - val_dice_coef: 0.8803\n",
      "Epoch 22/30\n",
      "80/80 [==============================] - 17s 214ms/step - loss: 0.0121 - dice_coef: 0.9908 - val_loss: 0.0648 - val_dice_coef: 0.9774\n",
      "Epoch 23/30\n",
      "80/80 [==============================] - 17s 214ms/step - loss: 0.0112 - dice_coef: 0.9913 - val_loss: 0.0847 - val_dice_coef: 0.9799\n",
      "Epoch 24/30\n",
      "80/80 [==============================] - 17s 214ms/step - loss: 0.0194 - dice_coef: 0.9897 - val_loss: 0.2150 - val_dice_coef: 0.9548\n",
      "Epoch 25/30\n",
      "80/80 [==============================] - 17s 214ms/step - loss: 0.0117 - dice_coef: 0.9909 - val_loss: 0.2865 - val_dice_coef: 0.9112\n",
      "Epoch 26/30\n",
      "80/80 [==============================] - 17s 214ms/step - loss: 0.0091 - dice_coef: 0.9919 - val_loss: 0.7904 - val_dice_coef: 0.7720\n",
      "Epoch 27/30\n",
      "80/80 [==============================] - 17s 214ms/step - loss: 0.0102 - dice_coef: 0.9914 - val_loss: 0.4361 - val_dice_coef: 0.9183\n",
      "Epoch 28/30\n",
      "80/80 [==============================] - 17s 214ms/step - loss: 0.0097 - dice_coef: 0.9915 - val_loss: 0.3080 - val_dice_coef: 0.9154\n",
      "Epoch 29/30\n",
      "80/80 [==============================] - 17s 214ms/step - loss: 0.0090 - dice_coef: 0.9919 - val_loss: 0.0328 - val_dice_coef: 0.9843\n",
      "Epoch 30/30\n",
      "80/80 [==============================] - 17s 214ms/step - loss: 0.0079 - dice_coef: 0.9922 - val_loss: 0.1554 - val_dice_coef: 0.9560\n"
     ]
    }
   ],
   "source": [
    "history = modelC.fit(xTrain, yTrain, epochs=30, batch_size=1, validation_data=(xTest, yTest))"
   ]
  },
  {
   "cell_type": "code",
   "execution_count": 37,
   "metadata": {},
   "outputs": [
    {
     "data": {
      "image/png": "[encoded data removed]",
      "text/plain": [
       "<Figure size 432x288 with 1 Axes>"
      ]
     },
     "metadata": {
      "needs_background": "light"
     },
     "output_type": "display_data"
    }
   ],
   "source": [
    "plt.plot(history.history['val_dice_coef'],label = 'test')\n",
    "plt.plot(history.history['dice_coef'],label='train')\n",
    "plt.legend()\n",
    "plt.xlabel('epoch')\n",
    "plt.ylabel('dice_coef')\n",
    "plt.show()"
   ]
  },
  {
   "cell_type": "markdown",
   "metadata": {},
   "source": [
    "## Претренированная модель"
   ]
  },
  {
   "cell_type": "code",
   "execution_count": 38,
   "metadata": {},
   "outputs": [
    {
     "name": "stdout",
     "output_type": "stream",
     "text": [
      "Downloading data from https://storage.googleapis.com/tensorflow/keras-applications/vgg16/vgg16_weights_tf_dim_ordering_tf_kernels_notop.h5\n",
      "58892288/58889256 [==============================] - 14s 0us/step\n"
     ]
    }
   ],
   "source": [
    "pre_trained_model = VGG16(input_shape=xTest.shape[1:], include_top=False, weights=\"imagenet\")"
   ]
  },
  {
   "cell_type": "code",
   "execution_count": 39,
   "metadata": {},
   "outputs": [],
   "source": [
    "def bloc_transpose(x,block_out, numb_filter = [256,128]):\n",
    "  x = concatenate([x, block_out])\n",
    "  x = Conv2D(numb_filter[0], (3, 3), padding='same')(x)\n",
    "  x = BatchNormalization()(x)\n",
    "  x = Activation('relu')(x)\n",
    "\n",
    "  x = Conv2D(numb_filter[0], (3, 3), padding='same')(x)\n",
    "  x = BatchNormalization()(x)\n",
    "  x = Activation('relu')(x)\n",
    "\n",
    "  # UP \n",
    "  x = Conv2DTranspose(numb_filter[1], (2, 2), strides=(2, 2), padding='same')(x)\n",
    "  x = BatchNormalization()(x)\n",
    "  x = Activation('relu')(x)\n",
    "  return x"
   ]
  },
  {
   "cell_type": "code",
   "execution_count": 40,
   "metadata": {},
   "outputs": [],
   "source": [
    "def unet_pre_train(num_classes = 13, input_shape= (200, 600, 3)):    \n",
    "    pre_trained_model = VGG16(input_shape=input_shape, include_top=False, weights=\"imagenet\")\n",
    "\n",
    "    for layer in pre_trained_model.layers[:18]:\n",
    "      layer.trainable = False\n",
    "    x = pre_trained_model.layers[13].output # конец сверток\n",
    "    block_4_out = pre_trained_model.layers[10].output\n",
    "    block_3_out = pre_trained_model.layers[6].output\n",
    "    block_2_out = pre_trained_model.layers[3].output # первое уменьшение размера\n",
    "    img_input = pre_trained_model.inputs\n",
    "    print(block_4_out)\n",
    "    print(block_3_out)\n",
    "    print(block_2_out)\n",
    "    # UP 1\n",
    "\n",
    "    # добавили перенос из понижаюшего плеча VGG16\n",
    "    x = bloc_transpose(x, block_4_out, numb_filter = [256,128])\n",
    "    \n",
    "\n",
    "    # добавили перенос из понижаюшего плеча VGG16\n",
    "    x = bloc_transpose(x,block_3_out, numb_filter = [128,64])\n",
    "    \n",
    "\n",
    "    # UP 3\n",
    "  \n",
    "\n",
    "    # добавили перенос из понижаюшего плеча VGG16\n",
    "    x = bloc_transpose(x,block_2_out, numb_filter = [64,32])\n",
    "\n",
    "\n",
    "    # UP 4\n",
    "   \n",
    "    \n",
    "    #\n",
    "    x = Conv2D(64, (3, 3), padding='same')(x)\n",
    "    x = BatchNormalization()(x)\n",
    "    x = Activation('relu')(x)\n",
    "\n",
    "    x = Conv2D(num_classes, (3, 3), activation='softmax', padding='same')(x)\n",
    "\n",
    "    model = Model(img_input, x)\n",
    "    model.compile(optimizer=Adam(),\n",
    "                  loss='categorical_crossentropy',\n",
    "                  metrics=[dice_coef])\n",
    "    model.summary()\n",
    "    return model"
   ]
  },
  {
   "cell_type": "code",
   "execution_count": 41,
   "metadata": {},
   "outputs": [
    {
     "name": "stdout",
     "output_type": "stream",
     "text": [
      "KerasTensor(type_spec=TensorSpec(shape=(None, 25, 75, 256), dtype=tf.float32, name=None), name='block3_pool/MaxPool:0', description=\"created by layer 'block3_pool'\")\n",
      "KerasTensor(type_spec=TensorSpec(shape=(None, 50, 150, 128), dtype=tf.float32, name=None), name='block2_pool/MaxPool:0', description=\"created by layer 'block2_pool'\")\n",
      "KerasTensor(type_spec=TensorSpec(shape=(None, 100, 300, 64), dtype=tf.float32, name=None), name='block1_pool/MaxPool:0', description=\"created by layer 'block1_pool'\")\n",
      "Model: \"model_2\"\n",
      "__________________________________________________________________________________________________\n",
      "Layer (type)                    Output Shape         Param #     Connected to                     \n",
      "==================================================================================================\n",
      "input_4 (InputLayer)            [(None, 200, 600, 3) 0                                            \n",
      "__________________________________________________________________________________________________\n",
      "block1_conv1 (Conv2D)           (None, 200, 600, 64) 1792        input_4[0][0]                    \n",
      "__________________________________________________________________________________________________\n",
      "block1_conv2 (Conv2D)           (None, 200, 600, 64) 36928       block1_conv1[0][0]               \n",
      "__________________________________________________________________________________________________\n",
      "block1_pool (MaxPooling2D)      (None, 100, 300, 64) 0           block1_conv2[0][0]               \n",
      "__________________________________________________________________________________________________\n",
      "block2_conv1 (Conv2D)           (None, 100, 300, 128 73856       block1_pool[0][0]                \n",
      "__________________________________________________________________________________________________\n",
      "block2_conv2 (Conv2D)           (None, 100, 300, 128 147584      block2_conv1[0][0]               \n",
      "__________________________________________________________________________________________________\n",
      "block2_pool (MaxPooling2D)      (None, 50, 150, 128) 0           block2_conv2[0][0]               \n",
      "__________________________________________________________________________________________________\n",
      "block3_conv1 (Conv2D)           (None, 50, 150, 256) 295168      block2_pool[0][0]                \n",
      "__________________________________________________________________________________________________\n",
      "block3_conv2 (Conv2D)           (None, 50, 150, 256) 590080      block3_conv1[0][0]               \n",
      "__________________________________________________________________________________________________\n",
      "block3_conv3 (Conv2D)           (None, 50, 150, 256) 590080      block3_conv2[0][0]               \n",
      "__________________________________________________________________________________________________\n",
      "block3_pool (MaxPooling2D)      (None, 25, 75, 256)  0           block3_conv3[0][0]               \n",
      "__________________________________________________________________________________________________\n",
      "block4_conv1 (Conv2D)           (None, 25, 75, 512)  1180160     block3_pool[0][0]                \n",
      "__________________________________________________________________________________________________\n",
      "block4_conv2 (Conv2D)           (None, 25, 75, 512)  2359808     block4_conv1[0][0]               \n",
      "__________________________________________________________________________________________________\n",
      "block4_conv3 (Conv2D)           (None, 25, 75, 512)  2359808     block4_conv2[0][0]               \n",
      "__________________________________________________________________________________________________\n",
      "concatenate_6 (Concatenate)     (None, 25, 75, 768)  0           block4_conv3[0][0]               \n",
      "                                                                 block3_pool[0][0]                \n",
      "__________________________________________________________________________________________________\n",
      "conv2d_14 (Conv2D)              (None, 25, 75, 256)  1769728     concatenate_6[0][0]              \n",
      "__________________________________________________________________________________________________\n",
      "batch_normalization_38 (BatchNo (None, 25, 75, 256)  1024        conv2d_14[0][0]                  \n",
      "__________________________________________________________________________________________________\n",
      "activation_38 (Activation)      (None, 25, 75, 256)  0           batch_normalization_38[0][0]     \n",
      "__________________________________________________________________________________________________\n",
      "conv2d_15 (Conv2D)              (None, 25, 75, 256)  590080      activation_38[0][0]              \n",
      "__________________________________________________________________________________________________\n",
      "batch_normalization_39 (BatchNo (None, 25, 75, 256)  1024        conv2d_15[0][0]                  \n",
      "__________________________________________________________________________________________________\n",
      "activation_39 (Activation)      (None, 25, 75, 256)  0           batch_normalization_39[0][0]     \n",
      "__________________________________________________________________________________________________\n",
      "conv2d_transpose_6 (Conv2DTrans (None, 50, 150, 128) 131200      activation_39[0][0]              \n",
      "__________________________________________________________________________________________________\n",
      "batch_normalization_40 (BatchNo (None, 50, 150, 128) 512         conv2d_transpose_6[0][0]         \n",
      "__________________________________________________________________________________________________\n",
      "activation_40 (Activation)      (None, 50, 150, 128) 0           batch_normalization_40[0][0]     \n",
      "__________________________________________________________________________________________________\n",
      "concatenate_7 (Concatenate)     (None, 50, 150, 256) 0           activation_40[0][0]              \n",
      "                                                                 block2_pool[0][0]                \n",
      "__________________________________________________________________________________________________\n",
      "conv2d_16 (Conv2D)              (None, 50, 150, 128) 295040      concatenate_7[0][0]              \n",
      "__________________________________________________________________________________________________\n",
      "batch_normalization_41 (BatchNo (None, 50, 150, 128) 512         conv2d_16[0][0]                  \n",
      "__________________________________________________________________________________________________\n",
      "activation_41 (Activation)      (None, 50, 150, 128) 0           batch_normalization_41[0][0]     \n",
      "__________________________________________________________________________________________________\n",
      "conv2d_17 (Conv2D)              (None, 50, 150, 128) 147584      activation_41[0][0]              \n",
      "__________________________________________________________________________________________________\n",
      "batch_normalization_42 (BatchNo (None, 50, 150, 128) 512         conv2d_17[0][0]                  \n",
      "__________________________________________________________________________________________________\n",
      "activation_42 (Activation)      (None, 50, 150, 128) 0           batch_normalization_42[0][0]     \n",
      "__________________________________________________________________________________________________\n",
      "conv2d_transpose_7 (Conv2DTrans (None, 100, 300, 64) 32832       activation_42[0][0]              \n",
      "__________________________________________________________________________________________________\n",
      "batch_normalization_43 (BatchNo (None, 100, 300, 64) 256         conv2d_transpose_7[0][0]         \n",
      "__________________________________________________________________________________________________\n",
      "activation_43 (Activation)      (None, 100, 300, 64) 0           batch_normalization_43[0][0]     \n",
      "__________________________________________________________________________________________________\n",
      "concatenate_8 (Concatenate)     (None, 100, 300, 128 0           activation_43[0][0]              \n",
      "                                                                 block1_pool[0][0]                \n",
      "__________________________________________________________________________________________________\n",
      "conv2d_18 (Conv2D)              (None, 100, 300, 64) 73792       concatenate_8[0][0]              \n",
      "__________________________________________________________________________________________________\n",
      "batch_normalization_44 (BatchNo (None, 100, 300, 64) 256         conv2d_18[0][0]                  \n",
      "__________________________________________________________________________________________________\n",
      "activation_44 (Activation)      (None, 100, 300, 64) 0           batch_normalization_44[0][0]     \n",
      "__________________________________________________________________________________________________\n",
      "conv2d_19 (Conv2D)              (None, 100, 300, 64) 36928       activation_44[0][0]              \n",
      "__________________________________________________________________________________________________\n",
      "batch_normalization_45 (BatchNo (None, 100, 300, 64) 256         conv2d_19[0][0]                  \n",
      "__________________________________________________________________________________________________\n",
      "activation_45 (Activation)      (None, 100, 300, 64) 0           batch_normalization_45[0][0]     \n",
      "__________________________________________________________________________________________________\n",
      "conv2d_transpose_8 (Conv2DTrans (None, 200, 600, 32) 8224        activation_45[0][0]              \n",
      "__________________________________________________________________________________________________\n",
      "batch_normalization_46 (BatchNo (None, 200, 600, 32) 128         conv2d_transpose_8[0][0]         \n",
      "__________________________________________________________________________________________________\n",
      "activation_46 (Activation)      (None, 200, 600, 32) 0           batch_normalization_46[0][0]     \n",
      "__________________________________________________________________________________________________\n",
      "conv2d_20 (Conv2D)              (None, 200, 600, 64) 18496       activation_46[0][0]              \n",
      "__________________________________________________________________________________________________\n",
      "batch_normalization_47 (BatchNo (None, 200, 600, 64) 256         conv2d_20[0][0]                  \n",
      "__________________________________________________________________________________________________\n",
      "activation_47 (Activation)      (None, 200, 600, 64) 0           batch_normalization_47[0][0]     \n",
      "__________________________________________________________________________________________________\n",
      "conv2d_21 (Conv2D)              (None, 200, 600, 2)  1154        activation_47[0][0]              \n",
      "==================================================================================================\n",
      "Total params: 10,745,058\n",
      "Trainable params: 3,107,426\n",
      "Non-trainable params: 7,637,632\n",
      "__________________________________________________________________________________________________\n",
      "('Failed to import pydot. You must `pip install pydot` and install graphviz (https://graphviz.gitlab.io/download/), ', 'for `pydotprint` to work.')\n"
     ]
    }
   ],
   "source": [
    "modelU = unet_pre_train(num_classes = 2, input_shape= (200, 600, 3))\n",
    "\n",
    "plot_model(modelU, to_file='modelU.png')"
   ]
  },
  {
   "cell_type": "code",
   "execution_count": 43,
   "metadata": {},
   "outputs": [
    {
     "name": "stdout",
     "output_type": "stream",
     "text": [
      "Epoch 1/30\n",
      "27/27 [==============================] - 15s 406ms/step - loss: 0.3506 - dice_coef: 0.7826 - val_loss: 0.2671 - val_dice_coef: 0.8048\n",
      "Epoch 2/30\n",
      "27/27 [==============================] - 8s 300ms/step - loss: 0.0856 - dice_coef: 0.9428 - val_loss: 0.2028 - val_dice_coef: 0.8903\n",
      "Epoch 3/30\n",
      "27/27 [==============================] - 8s 288ms/step - loss: 0.0415 - dice_coef: 0.9716 - val_loss: 0.1799 - val_dice_coef: 0.9133\n",
      "Epoch 4/30\n",
      "27/27 [==============================] - 8s 292ms/step - loss: 0.0233 - dice_coef: 0.9823 - val_loss: 0.0713 - val_dice_coef: 0.9493\n",
      "Epoch 5/30\n",
      "27/27 [==============================] - 8s 290ms/step - loss: 0.0191 - dice_coef: 0.9847 - val_loss: 0.0414 - val_dice_coef: 0.9680\n",
      "Epoch 6/30\n",
      "27/27 [==============================] - 8s 293ms/step - loss: 0.0186 - dice_coef: 0.9851 - val_loss: 0.0214 - val_dice_coef: 0.9838\n",
      "Epoch 7/30\n",
      "27/27 [==============================] - 8s 290ms/step - loss: 0.0174 - dice_coef: 0.9855 - val_loss: 0.0769 - val_dice_coef: 0.9685\n",
      "Epoch 8/30\n",
      "27/27 [==============================] - 8s 290ms/step - loss: 0.0203 - dice_coef: 0.9845 - val_loss: 0.0520 - val_dice_coef: 0.9809\n",
      "Epoch 9/30\n",
      "27/27 [==============================] - 8s 291ms/step - loss: 0.0161 - dice_coef: 0.9873 - val_loss: 0.0439 - val_dice_coef: 0.9830\n",
      "Epoch 10/30\n",
      "27/27 [==============================] - 8s 290ms/step - loss: 0.0133 - dice_coef: 0.9893 - val_loss: 0.0435 - val_dice_coef: 0.9731\n",
      "Epoch 11/30\n",
      "27/27 [==============================] - 8s 291ms/step - loss: 0.0141 - dice_coef: 0.9883 - val_loss: 0.0788 - val_dice_coef: 0.9567\n"
     ]
    }
   ],
   "source": [
    "historyU = modelU.fit(xTrain, yTrain, epochs=30, batch_size=3, \n",
    "                      validation_data=(xTrain, yTrain), \n",
    "                      callbacks = [tf.keras.callbacks.EarlyStopping( patience=5 )])"
   ]
  },
  {
   "cell_type": "code",
   "execution_count": 44,
   "metadata": {},
   "outputs": [
    {
     "data": {
      "image/png": "[encoded data removed]",
      "text/plain": [
       "<Figure size 432x288 with 1 Axes>"
      ]
     },
     "metadata": {
      "needs_background": "light"
     },
     "output_type": "display_data"
    }
   ],
   "source": [
    "plt.plot(historyU.history['val_dice_coef'],label = 'test')\n",
    "plt.plot(historyU.history['dice_coef'],label='train')\n",
    "plt.legend()\n",
    "plt.xlabel('epoch')\n",
    "plt.ylabel('dice_coef')\n",
    "plt.show()"
   ]
  },
  {
   "cell_type": "markdown",
   "metadata": {},
   "source": [
    "## Вывод\n",
    "\n",
    "1. Претренированная модель показывает лучшие результаты (более гладкая кривая обучения) - попробовать прогнать обучение на всем датасете и на большем количестве эпох.\n",
    "2. Организовать поэтапную загрузку в память данных для тренировки - на полном датасете ядро падает по памяти."
   ]
  },
  {
   "cell_type": "code",
   "execution_count": null,
   "metadata": {},
   "outputs": [],
   "source": []
  }
 ],
 "metadata": {
  "accelerator": "GPU",
  "colab": {
   "name": "Lesson_06_HW_Segmentation.ipynb",
   "provenance": []
  },
  "kernelspec": {
   "display_name": "Python 3",
   "language": "python",
   "name": "python3"
  },
  "language_info": {
   "codemirror_mode": {
    "name": "ipython",
    "version": 3
   },
   "file_extension": ".py",
   "mimetype": "text/x-python",
   "name": "python",
   "nbconvert_exporter": "python",
   "pygments_lexer": "ipython3",
   "version": "3.9.7"
  }
 },
 "nbformat": 4,
 "nbformat_minor": 1
}
