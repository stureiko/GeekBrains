{
  "nbformat": 4,
  "nbformat_minor": 0,
  "metadata": {
    "colab": {
      "name": "Урок_6_Автокодировщики.ipynb",
      "provenance": [],
      "collapsed_sections": []
    },
    "kernelspec": {
      "name": "python3",
      "display_name": "Python 3"
    },
    "accelerator": "GPU"
  },
  "cells": [
    {
      "cell_type": "code",
      "metadata": {
        "id": "0hyWYiPqLdez"
      },
      "source": [
        "from tensorflow.keras.models import Model\n",
        "from tensorflow.keras.datasets import mnist, fashion_mnist, cifar10\n",
        "from tensorflow.keras.layers import Dense, Flatten, Reshape, Input, AveragePooling2D, Conv2DTranspose, concatenate, Activation, MaxPooling2D, Conv2D, BatchNormalization,RepeatVector, LSTM\n",
        "from tensorflow.keras import backend as K\n",
        "from tensorflow.keras.optimizers import Adam\n",
        "from tensorflow.keras import utils\n",
        "from google.colab import files\n",
        "import matplotlib.pyplot as plt\n",
        "from tensorflow.keras.preprocessing import image\n",
        "import numpy as np\n",
        "import pandas as pd\n",
        "from PIL import Image\n",
        "from sklearn.model_selection import train_test_split\n",
        "from sklearn.preprocessing import StandardScaler"
      ],
      "execution_count": 1,
      "outputs": []
    },
    {
      "cell_type": "markdown",
      "metadata": {
        "id": "qc7BJnQF8zam"
      },
      "source": [
        "#Автокодировщик"
      ]
    },
    {
      "cell_type": "markdown",
      "metadata": {
        "id": "_3kaX9TDuGaD"
      },
      "source": [
        "основная модель MNIST-MNIST"
      ]
    },
    {
      "cell_type": "code",
      "metadata": {
        "id": "NZAiEuYx899D"
      },
      "source": [
        "def base_model_Autoencoder(level = 2, input_size=(28,28,1), kernel_list=[32,64]):\n",
        "\n",
        "  img_input = Input(input_size)\n",
        "\n",
        "  x = Conv2D(kernel_list[0], (3, 3), padding='same', activation='relu')(img_input)\n",
        "  x = BatchNormalization()(x)\n",
        "  x = Conv2D(kernel_list[0], (3, 3), padding='same', activation='relu')(x)\n",
        "  x = BatchNormalization()(x)\n",
        "  x = MaxPooling2D()(x)\n",
        "  #14x14\n",
        "  for i in range(level-1):\n",
        "    x = Conv2D(64, (3, 3), padding='same', activation='relu')(x)\n",
        "    x = BatchNormalization()(x)\n",
        "    x = Conv2D(64, (3, 3), padding='same', activation='relu')(x)\n",
        "    x = BatchNormalization()(x)\n",
        "    x = MaxPooling2D()(x)\n",
        "  x1 = x\n",
        "  print(x1.shape)\n",
        "  # 7x7\n",
        "  for i in range(level-1) :\n",
        "    k = -(level-1)+i  \n",
        "\n",
        "    x = Conv2DTranspose(64, (2, 2), strides=(2, 2), padding='same', activation='relu')(x)\n",
        "    x = BatchNormalization()(x)\n",
        "     \n",
        "    x = Conv2D(kernel_list[k], (3, 3), padding='same', activation='relu')(x)\n",
        "    x = BatchNormalization()(x)\n",
        "    x = Conv2D(64, (3, 3), padding='same', activation='relu')(x)\n",
        "    x = BatchNormalization()(x)\n",
        "  # 14x14\n",
        "  x = Conv2DTranspose(kernel_list[0], (2, 2), strides=(2, 2), padding='same', activation='relu')(x)\n",
        "  x = BatchNormalization()(x)\n",
        "  x = Conv2D(kernel_list[0], (3, 3), padding='same', activation='relu')(x)\n",
        "  x = BatchNormalization()(x)\n",
        "  x = Conv2D(kernel_list[0], (3, 3), padding='same', activation='relu')(x)\n",
        "  x = BatchNormalization()(x)\n",
        "  # 28x28\n",
        "  x = Conv2D(1, (3, 3), activation='sigmoid', padding='same')(x)\n",
        "\n",
        "  model = Model(img_input, x)\n",
        "   \n",
        "  modelviz0=Model(img_input, x1)\n",
        "  model.compile(optimizer=Adam(),\n",
        "                  loss='mean_squared_error',\n",
        "                  metrics=['accuracy'])\n",
        "\n",
        "  return model, modelviz0"
      ],
      "execution_count": 2,
      "outputs": []
    },
    {
      "cell_type": "markdown",
      "metadata": {
        "id": "qz2RhdL6ufkj"
      },
      "source": [
        "Читаем MNIST"
      ]
    },
    {
      "cell_type": "code",
      "metadata": {
        "id": "2yK3P1eaCg4o"
      },
      "source": [
        "(xTrainMnist, yTrainMnist), (xTestMnist, yTestMnist) = mnist.load_data()\n",
        "\n",
        "noice =0.5\n",
        "\n",
        "xTrainMnist = xTrainMnist.astype('float32')/255\n",
        "\n",
        "xTrainMnist = xTrainMnist.reshape(xTrainMnist.shape[0], 28, 28, 1)\n",
        "\n",
        "yTrainMnist_pix = xTrainMnist.copy()\n",
        "xTrainMnist += np.random.randn(xTrainMnist.shape[0],xTrainMnist.shape[1],xTrainMnist.shape[2],xTrainMnist.shape[3]) * noice"
      ],
      "execution_count": 3,
      "outputs": []
    },
    {
      "cell_type": "code",
      "metadata": {
        "id": "8F7capzy31GM",
        "colab": {
          "base_uri": "https://localhost:8080/",
          "height": 513
        },
        "outputId": "ea276466-50e1-47ce-d7c2-fc09f8850e28"
      },
      "source": [
        "plt.imshow(xTrainMnist[0,:,:,0])\n",
        "plt.show()\n",
        "plt.imshow(yTrainMnist_pix[0,:,:,0])\n",
        "plt.show()"
      ],
      "execution_count": 4,
      "outputs": [
        {
          "output_type": "display_data",
          "data": {
            "image/png": "[encoded data removed]",
            "text/plain": [
              "<Figure size 432x288 with 1 Axes>"
            ]
          },
          "metadata": {
            "tags": [],
            "needs_background": "light"
          }
        },
        {
          "output_type": "display_data",
          "data": {
            "image/png": "[encoded data removed]",
            "text/plain": [
              "<Figure size 432x288 with 1 Axes>"
            ]
          },
          "metadata": {
            "tags": [],
            "needs_background": "light"
          }
        }
      ]
    },
    {
      "cell_type": "markdown",
      "metadata": {
        "id": "t5Kg01gGuWBb"
      },
      "source": [
        "Собираем модель\n"
      ]
    },
    {
      "cell_type": "code",
      "metadata": {
        "id": "Rb-XGLpo1XJt",
        "colab": {
          "base_uri": "https://localhost:8080/"
        },
        "outputId": "dfb882c8-3b09-474a-f74b-99311ad1d28d"
      },
      "source": [
        "modelAutoMnist, m0 = base_model_Autoencoder(level = 2, input_size=(28,28,1), kernel_list=[32,64])"
      ],
      "execution_count": 5,
      "outputs": [
        {
          "output_type": "stream",
          "text": [
            "(None, 7, 7, 64)\n"
          ],
          "name": "stdout"
        }
      ]
    },
    {
      "cell_type": "code",
      "metadata": {
        "id": "ixY4nVDUCyOU",
        "colab": {
          "base_uri": "https://localhost:8080/"
        },
        "outputId": "3ad11a9f-b39a-49a6-c3cf-911556b7841e"
      },
      "source": [
        "\n",
        "#modelAutoMnist = denoiseAutoencoder()\n",
        "hist=modelAutoMnist.fit(xTrainMnist[:10000], yTrainMnist_pix[:10000], epochs=10, batch_size=100, validation_split=0.2)"
      ],
      "execution_count": 6,
      "outputs": [
        {
          "output_type": "stream",
          "text": [
            "Epoch 1/10\n",
            "80/80 [==============================] - 5s 23ms/step - loss: 0.0570 - accuracy: 0.7770 - val_loss: 0.0937 - val_accuracy: 0.8074\n",
            "Epoch 2/10\n",
            "80/80 [==============================] - 2s 20ms/step - loss: 0.0168 - accuracy: 0.8121 - val_loss: 0.0645 - val_accuracy: 0.8082\n",
            "Epoch 3/10\n",
            "80/80 [==============================] - 2s 20ms/step - loss: 0.0135 - accuracy: 0.8128 - val_loss: 0.0335 - val_accuracy: 0.8105\n",
            "Epoch 4/10\n",
            "80/80 [==============================] - 2s 20ms/step - loss: 0.0119 - accuracy: 0.8130 - val_loss: 0.0212 - val_accuracy: 0.8121\n",
            "Epoch 5/10\n",
            "80/80 [==============================] - 2s 20ms/step - loss: 0.0113 - accuracy: 0.8131 - val_loss: 0.0164 - val_accuracy: 0.8126\n",
            "Epoch 6/10\n",
            "80/80 [==============================] - 2s 20ms/step - loss: 0.0108 - accuracy: 0.8133 - val_loss: 0.0125 - val_accuracy: 0.8127\n",
            "Epoch 7/10\n",
            "80/80 [==============================] - 2s 20ms/step - loss: 0.0103 - accuracy: 0.8134 - val_loss: 0.0112 - val_accuracy: 0.8127\n",
            "Epoch 8/10\n",
            "80/80 [==============================] - 2s 20ms/step - loss: 0.0100 - accuracy: 0.8134 - val_loss: 0.0107 - val_accuracy: 0.8127\n",
            "Epoch 9/10\n",
            "80/80 [==============================] - 2s 20ms/step - loss: 0.0097 - accuracy: 0.8135 - val_loss: 0.0107 - val_accuracy: 0.8127\n",
            "Epoch 10/10\n",
            "80/80 [==============================] - 2s 20ms/step - loss: 0.0096 - accuracy: 0.8135 - val_loss: 0.0117 - val_accuracy: 0.8131\n"
          ],
          "name": "stdout"
        }
      ]
    },
    {
      "cell_type": "code",
      "metadata": {
        "id": "6imJd1RM7q_v",
        "colab": {
          "base_uri": "https://localhost:8080/",
          "height": 265
        },
        "outputId": "4dacd3dc-fdd9-42c7-8e98-744557a79190"
      },
      "source": [
        "plt.plot(hist.history['val_loss'],'r',label='val_acc')\n",
        "plt.plot(hist.history['loss'],'g',label='train_acc')\n",
        "plt.legend()\n",
        "plt.show()"
      ],
      "execution_count": 7,
      "outputs": [
        {
          "output_type": "display_data",
          "data": {
            "image/png": "[encoded data removed]",
            "text/plain": [
              "<Figure size 432x288 with 1 Axes>"
            ]
          },
          "metadata": {
            "tags": [],
            "needs_background": "light"
          }
        }
      ]
    },
    {
      "cell_type": "code",
      "metadata": {
        "id": "yGWBX0eQwEmC",
        "colab": {
          "base_uri": "https://localhost:8080/"
        },
        "outputId": "68d36182-ad68-4367-f2b3-40926a660cf3"
      },
      "source": [
        "modelAutoMnist.summary()"
      ],
      "execution_count": 8,
      "outputs": [
        {
          "output_type": "stream",
          "text": [
            "Model: \"model\"\n",
            "_________________________________________________________________\n",
            "Layer (type)                 Output Shape              Param #   \n",
            "=================================================================\n",
            "input_1 (InputLayer)         [(None, 28, 28, 1)]       0         \n",
            "_________________________________________________________________\n",
            "conv2d (Conv2D)              (None, 28, 28, 32)        320       \n",
            "_________________________________________________________________\n",
            "batch_normalization (BatchNo (None, 28, 28, 32)        128       \n",
            "_________________________________________________________________\n",
            "conv2d_1 (Conv2D)            (None, 28, 28, 32)        9248      \n",
            "_________________________________________________________________\n",
            "batch_normalization_1 (Batch (None, 28, 28, 32)        128       \n",
            "_________________________________________________________________\n",
            "max_pooling2d (MaxPooling2D) (None, 14, 14, 32)        0         \n",
            "_________________________________________________________________\n",
            "conv2d_2 (Conv2D)            (None, 14, 14, 64)        18496     \n",
            "_________________________________________________________________\n",
            "batch_normalization_2 (Batch (None, 14, 14, 64)        256       \n",
            "_________________________________________________________________\n",
            "conv2d_3 (Conv2D)            (None, 14, 14, 64)        36928     \n",
            "_________________________________________________________________\n",
            "batch_normalization_3 (Batch (None, 14, 14, 64)        256       \n",
            "_________________________________________________________________\n",
            "max_pooling2d_1 (MaxPooling2 (None, 7, 7, 64)          0         \n",
            "_________________________________________________________________\n",
            "conv2d_transpose (Conv2DTran (None, 14, 14, 64)        16448     \n",
            "_________________________________________________________________\n",
            "batch_normalization_4 (Batch (None, 14, 14, 64)        256       \n",
            "_________________________________________________________________\n",
            "conv2d_4 (Conv2D)            (None, 14, 14, 64)        36928     \n",
            "_________________________________________________________________\n",
            "batch_normalization_5 (Batch (None, 14, 14, 64)        256       \n",
            "_________________________________________________________________\n",
            "conv2d_5 (Conv2D)            (None, 14, 14, 64)        36928     \n",
            "_________________________________________________________________\n",
            "batch_normalization_6 (Batch (None, 14, 14, 64)        256       \n",
            "_________________________________________________________________\n",
            "conv2d_transpose_1 (Conv2DTr (None, 28, 28, 32)        8224      \n",
            "_________________________________________________________________\n",
            "batch_normalization_7 (Batch (None, 28, 28, 32)        128       \n",
            "_________________________________________________________________\n",
            "conv2d_6 (Conv2D)            (None, 28, 28, 32)        9248      \n",
            "_________________________________________________________________\n",
            "batch_normalization_8 (Batch (None, 28, 28, 32)        128       \n",
            "_________________________________________________________________\n",
            "conv2d_7 (Conv2D)            (None, 28, 28, 32)        9248      \n",
            "_________________________________________________________________\n",
            "batch_normalization_9 (Batch (None, 28, 28, 32)        128       \n",
            "_________________________________________________________________\n",
            "conv2d_8 (Conv2D)            (None, 28, 28, 1)         289       \n",
            "=================================================================\n",
            "Total params: 184,225\n",
            "Trainable params: 183,265\n",
            "Non-trainable params: 960\n",
            "_________________________________________________________________\n"
          ],
          "name": "stdout"
        }
      ]
    },
    {
      "cell_type": "code",
      "metadata": {
        "id": "B3mBk9wNYack"
      },
      "source": [
        "noice =0.5\n",
        "\n",
        "xTestMnist = xTestMnist.astype('float32')/255\n",
        "\n",
        "xTestMnist = xTestMnist.reshape(xTestMnist.shape[0], 28, 28, 1)\n",
        "\n",
        "yTestMnist_pix = xTestMnist.copy()\n",
        "xTestMnist += np.random.randn(xTestMnist.shape[0],xTestMnist.shape[1],xTestMnist.shape[2],xTestMnist.shape[3]) * noice"
      ],
      "execution_count": 9,
      "outputs": []
    },
    {
      "cell_type": "code",
      "metadata": {
        "id": "2s0FDPruw4T-",
        "colab": {
          "base_uri": "https://localhost:8080/"
        },
        "outputId": "f8f14f08-b8ac-4ae3-86bb-f1d1892b4edb"
      },
      "source": [
        "mask = np.where(yTestMnist == 0)[0]\n",
        "\n",
        "y_pred=modelAutoMnist.predict(xTestMnist[mask])\n",
        "\n",
        "ff=m0.predict(xTestMnist[mask])\n",
        "print(ff.shape)\n",
        "\n",
        "ff = np.mean(ff, axis=0)\n",
        "print(ff.shape)\n",
        "\n"
      ],
      "execution_count": 10,
      "outputs": [
        {
          "output_type": "stream",
          "text": [
            "(980, 7, 7, 64)\n",
            "(7, 7, 64)\n"
          ],
          "name": "stdout"
        }
      ]
    },
    {
      "cell_type": "code",
      "metadata": {
        "colab": {
          "base_uri": "https://localhost:8080/"
        },
        "id": "75OgvUbyX07n",
        "outputId": "8804715e-00d5-4d27-ba25-7f01e099a083"
      },
      "source": [
        "mask[0]"
      ],
      "execution_count": 11,
      "outputs": [
        {
          "output_type": "execute_result",
          "data": {
            "text/plain": [
              "3"
            ]
          },
          "metadata": {
            "tags": []
          },
          "execution_count": 11
        }
      ]
    },
    {
      "cell_type": "code",
      "metadata": {
        "id": "7zWZA_vyyb8a",
        "colab": {
          "base_uri": "https://localhost:8080/",
          "height": 1000
        },
        "outputId": "4fa46438-8e0f-455e-bbdf-025aeb9e02b7"
      },
      "source": [
        "plt.imshow(xTestMnist[mask[0],:,:,0])\n",
        "plt.title('Input Image')\n",
        "plt.show()\n",
        "plt.imshow(y_pred[0,:,:,0])\n",
        "plt.title('Predict Image')\n",
        "plt.show()\n",
        "plt.imshow(yTestMnist_pix[ mask[0],:,:,0])\n",
        "plt.title('Target Image')\n",
        "plt.show()\n",
        "\n",
        "g1=ff[:,:,0]\n",
        "plt.subplot(311)\n",
        "plt.title('hiden layer out 0')\n",
        "plt.imshow(g1)\n",
        "g1=ff[:,:,1]\n",
        "plt.subplot(312)\n",
        "plt.title('hiden layer out 1')\n",
        "plt.imshow(g1)\n",
        "g1=ff[:,:,2]\n",
        "plt.subplot(313)\n",
        "plt.title('hiden layer out 2')\n",
        "plt.imshow(g1)\n",
        "plt.show()"
      ],
      "execution_count": 12,
      "outputs": [
        {
          "output_type": "display_data",
          "data": {
            "image/png": "[encoded data removed]",
            "text/plain": [
              "<Figure size 432x288 with 1 Axes>"
            ]
          },
          "metadata": {
            "tags": [],
            "needs_background": "light"
          }
        },
        {
          "output_type": "display_data",
          "data": {
            "image/png": "[encoded data removed]",
            "text/plain": [
              "<Figure size 432x288 with 1 Axes>"
            ]
          },
          "metadata": {
            "tags": [],
            "needs_background": "light"
          }
        },
        {
          "output_type": "display_data",
          "data": {
            "image/png": "[encoded data removed]",
            "text/plain": [
              "<Figure size 432x288 with 1 Axes>"
            ]
          },
          "metadata": {
            "tags": [],
            "needs_background": "light"
          }
        },
        {
          "output_type": "display_data",
          "data": {
            "image/png": "[encoded data removed]",
            "text/plain": [
              "<Figure size 432x288 with 3 Axes>"
            ]
          },
          "metadata": {
            "tags": [],
            "needs_background": "light"
          }
        }
      ]
    },
    {
      "cell_type": "markdown",
      "metadata": {
        "id": "NgiJ3v-erSnP"
      },
      "source": [
        "# Визуализация слоев\n",
        "\n",
        "средний объект - идеал??? "
      ]
    },
    {
      "cell_type": "code",
      "metadata": {
        "id": "C8TJAw-cnSVJ",
        "colab": {
          "base_uri": "https://localhost:8080/",
          "height": 335
        },
        "outputId": "1c9c017c-eb82-41f4-b414-f1c7978c3c5b"
      },
      "source": [
        "n = 10 # номер уровня, на который смотрим\n",
        "activ_model_layer = Model(inputs=modelAutoMnist.input, outputs = modelAutoMnist.layers[n].output)\n",
        "\n",
        "print(modelAutoMnist.layers[n].name)\n",
        "\n",
        "yf = activ_model_layer.predict(xTrainMnist[mask[:10]])\n",
        "\n",
        "\n",
        "print(yf.shape)\n",
        "\n",
        "\n",
        "#ff = np.mean(yf, axis=0) #средний выход слоя \n",
        "ff = yf[0,:,:,:] #средний выход слоя\n",
        "print(ff.shape)\n",
        "\n",
        "g1=ff[:,:,0]\n",
        "plt.subplot(311)\n",
        "plt.title('hiden layer out 0')\n",
        "plt.imshow(g1)\n",
        "g1=ff[:,:,2]\n",
        "plt.subplot(312)\n",
        "plt.title('hiden layer out 1')\n",
        "plt.imshow(g1)\n",
        "g1=ff[:,:,5]\n",
        "plt.subplot(313)\n",
        "plt.title('hiden layer out 2')\n",
        "plt.imshow(g1)\n",
        "plt.show()"
      ],
      "execution_count": 13,
      "outputs": [
        {
          "output_type": "stream",
          "text": [
            "max_pooling2d_1\n",
            "(10, 7, 7, 64)\n",
            "(7, 7, 64)\n"
          ],
          "name": "stdout"
        },
        {
          "output_type": "display_data",
          "data": {
            "image/png": "[encoded data removed]",
            "text/plain": [
              "<Figure size 432x288 with 3 Axes>"
            ]
          },
          "metadata": {
            "tags": [],
            "needs_background": "light"
          }
        }
      ]
    },
    {
      "cell_type": "markdown",
      "metadata": {
        "id": "Z5WAdefWkZ5m"
      },
      "source": [
        "Проверим фильтрацию для другого объекта FashionMNIST"
      ]
    },
    {
      "cell_type": "code",
      "metadata": {
        "id": "V8Y9oc7h9JjY"
      },
      "source": [
        "(xT_fash, yT_fash), (xTest_f, yTest_f) = fashion_mnist.load_data()\n",
        "\n",
        "noice =0.1\n",
        "\n",
        "xT_fash = xT_fash.astype('float32')/255\n",
        "\n",
        "xT_fash = xT_fash.reshape(xT_fash.shape[0], 28, 28, 1)\n",
        "\n",
        "xT_fash += np.random.randn(xT_fash.shape[0],xT_fash.shape[1],xT_fash.shape[2],xT_fash.shape[3]) * noice\n",
        "\n"
      ],
      "execution_count": 14,
      "outputs": []
    },
    {
      "cell_type": "code",
      "metadata": {
        "id": "Pjq9RNLe9pkZ",
        "colab": {
          "base_uri": "https://localhost:8080/",
          "height": 545
        },
        "outputId": "cd472506-40dd-46c3-8e52-449836d5696b"
      },
      "source": [
        "y_pred=modelAutoMnist.predict(xT_fash[:20])\n",
        "N=5\n",
        "plt.imshow(xT_fash[N,:,:,0])\n",
        "plt.title('Input Image')\n",
        "plt.show()\n",
        "plt.imshow(y_pred[N,:,:,0])\n",
        "plt.title('Predict Image')\n",
        "plt.show()\n"
      ],
      "execution_count": 15,
      "outputs": [
        {
          "output_type": "display_data",
          "data": {
            "image/png": "[encoded data removed]",
            "text/plain": [
              "<Figure size 432x288 with 1 Axes>"
            ]
          },
          "metadata": {
            "tags": [],
            "needs_background": "light"
          }
        },
        {
          "output_type": "display_data",
          "data": {
            "image/png": "[encoded data removed]",
            "text/plain": [
              "<Figure size 432x288 with 1 Axes>"
            ]
          },
          "metadata": {
            "tags": [],
            "needs_background": "light"
          }
        }
      ]
    },
    {
      "cell_type": "code",
      "metadata": {
        "id": "JavrHb_P-Hsk"
      },
      "source": [
        ""
      ],
      "execution_count": 15,
      "outputs": []
    }
  ]
}