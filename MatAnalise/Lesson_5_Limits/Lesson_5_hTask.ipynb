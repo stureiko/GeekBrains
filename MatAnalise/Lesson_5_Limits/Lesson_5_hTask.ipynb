{
 "cells": [
  {
   "cell_type": "markdown",
   "metadata": {},
   "source": [
    "# Author: Стурейко Игорь\n",
    "## Project: Geekbrains.MatAnalise\n",
    "## Lesson 5 - Предел\n",
    "## Date: 2020-05-28"
   ]
  },
  {
   "cell_type": "markdown",
   "metadata": {},
   "source": [
    "## 1. $\\displaystyle \\lim_{x \\to \\infty}\\frac{(23-2x^2)(3x^2+17)^2}{4x^6+x-1} \\sim \\frac{-18x^6}{4x^6} = -\\frac{9}{2}$"
   ]
  },
  {
   "cell_type": "markdown",
   "metadata": {},
   "source": [
    "## 2. $\\displaystyle \\lim_{x \\to \\infty}\\frac{(97-2x)^3}{2x(3x^2+15)+8x} \\sim \\frac{-8x^3}{6x^3}=-\\frac{4}{3}$"
   ]
  },
  {
   "cell_type": "markdown",
   "metadata": {},
   "source": [
    "## 3. $\\displaystyle \\lim_{x \\to \\infty}\\frac{2x^3 + 13x(x+18)}{(27-x)(2x+19)^2} \\sim\\frac{2x^3}{-4x^3} = -\\frac{1}{2}$"
   ]
  },
  {
   "cell_type": "markdown",
   "metadata": {},
   "source": [
    "## 4. $\\displaystyle \\lim_{x \\to 6}\\frac{x^2-36}{x^2-x-30}=\\lim_{x \\to 6}\\frac{(x-6)(x+6)}{(x-6)(x+5)}=\\lim_{x \\to 6}\\frac{x+6}{x+5}=\\frac{12}{11}$"
   ]
  },
  {
   "cell_type": "markdown",
   "metadata": {},
   "source": [
    "## 5. $\\displaystyle \\lim_{x \\to 7}\\frac{x^2-49}{x^2-13x+42}=\\lim_{x \\to 7}\\frac{(x-7)(x+7)}{(x-7)(x-6)}=\\lim_{x \\to 7}\\frac{x+7}{x-6}=-14$"
   ]
  },
  {
   "cell_type": "markdown",
   "metadata": {},
   "source": [
    "## 6. $\\displaystyle \\lim_{x \\to 7}\\frac{\\sqrt{x+2}-\\sqrt[3]{x+20}}{\\sqrt[4]{x+9}-2}=\\lim_{x \\to 7}\\frac{\\sqrt{x+2}-\\sqrt[3]{x+20}}{\\sqrt[4]{x+9}-2}\\frac{\\sqrt[4]{x+9}+2}{\\sqrt[4]{x+9}+2} = \\lim_{x \\to 7}\\frac{(\\sqrt{x+2}-\\sqrt[3]{x+20})(\\sqrt[4]{x+9}+2)}{\\sqrt{x+9}-4}=$"
   ]
  },
  {
   "cell_type": "markdown",
   "metadata": {},
   "source": [
    "## 7. $\\displaystyle \\lim_{x \\to 0}\\frac{3x\\tan{4x}}{1-\\cos{4x}}=\\Big|\\Big| \\lim_{x \\to 0}\\frac{1-\\cos{x}}{x^2/2}=1, \\tan{x} \\sim x \\Big|\\Big|= \\lim_{x \\to 0}\\frac{3\\frac{4x^2}{2}2}{1-\\cos{4x}}=6\\lim_{x \\to 0}\\frac{\\frac{4x^2}{2}}{1-\\cos{4x}}=6$"
   ]
  },
  {
   "cell_type": "markdown",
   "metadata": {},
   "source": [
    "## 8. $\\displaystyle \\lim_{x \\to 0}\\frac{\\sqrt{2}x^2\\sin{4x}}{(1-\\cos{2x})^{3/2}}=\\Big|\\Big|1-\\cos{x} \\sim \\frac{x^2}{2}\\Big|\\Big|=\\lim_{x \\to 0}\\frac{\\sqrt{2}x^2\\sin{4x}}{\\big(\\frac{4x^2}{2}\\big)^{\\frac{3}{2}}}=\\lim_{x \\to 0}\\frac{\\sqrt{2}x^2\\sin{4x}}{2\\sqrt{2}x^3}=\\lim_{x \\to 0}\\frac{\\sin{4x}}{2x}=\\lim_{x \\to 0}2\\frac{\\sin{4x}}{4x}=2$"
   ]
  },
  {
   "cell_type": "markdown",
   "metadata": {},
   "source": [
    "## 9. $\\displaystyle \\lim_{x \\to \\infty}\\Big(\\frac{4x}{4x+3}\\Big)^{\\frac{5x^2}{7x-1}}=\\lim_{x \\to \\infty}\\Big(1+\\frac{-3}{4x+3}\\Big)^{\\frac{5x^2}{7x-1}\\frac{-3}{4x+3}\\frac{4x+3}{-3}}=e^{\\lim_{x \\to \\infty}\\frac{5x^2}{7x-1}\\frac{-3}{4x+3}}=e^{\\frac{-15}{28}}$"
   ]
  },
  {
   "cell_type": "markdown",
   "metadata": {},
   "source": [
    "## 10. $\\displaystyle \\lim_{x \\to +\\infty}\\frac{\\ln{(x^2-x+1)}}{\\ln{(x^{10}+x+1)}} \\sim \\frac{2}{10}=\\frac{1}{5}$"
   ]
  },
  {
   "cell_type": "markdown",
   "metadata": {},
   "source": [
    "## 11. $\\displaystyle \\lim_{x \\to 0}\\frac{5^x-1}{x}=\\Big|\\Big| y = 5^x-1 \\Rightarrow x = \\frac{\\ln{(1+y)}}{\\ln{5}} \\Big|\\Big|=\\lim_{x \\to 0}\\frac{y\\ln{5}}{\\ln{(1+y)}}=\\ln{5}$"
   ]
  },
  {
   "cell_type": "code",
   "execution_count": null,
   "metadata": {},
   "outputs": [],
   "source": []
  }
 ],
 "metadata": {
  "kernelspec": {
   "display_name": "Python 3",
   "language": "python",
   "name": "python3"
  },
  "language_info": {
   "codemirror_mode": {
    "name": "ipython",
    "version": 3
   },
   "file_extension": ".py",
   "mimetype": "text/x-python",
   "name": "python",
   "nbconvert_exporter": "python",
   "pygments_lexer": "ipython3",
   "version": "3.7.7"
  }
 },
 "nbformat": 4,
 "nbformat_minor": 4
}
