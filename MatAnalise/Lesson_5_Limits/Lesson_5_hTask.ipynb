{
 "cells": [
  {
   "cell_type": "markdown",
   "metadata": {},
   "source": [
    "# Author: Стурейко Игорь\n",
    "## Project: Geekbrains.MatAnalise\n",
    "## Lesson 5 - Предел\n",
    "## Date: 2020-05-28"
   ]
  },
  {
   "cell_type": "markdown",
   "metadata": {},
   "source": [
    "## 1. $\\displaystyle \\lim_{x \\to \\infty}\\frac{(23-2x^2)(3x^2+17)^2}{4x^6+x-1}$"
   ]
  },
  {
   "cell_type": "markdown",
   "metadata": {},
   "source": [
    "## 2. $\\displaystyle \\lim_{x \\to \\infty}\\frac{(97-2x)^3}{2x(3x^2+15)+8x}$"
   ]
  },
  {
   "cell_type": "markdown",
   "metadata": {},
   "source": [
    "## 3. $\\displaystyle \\lim_{x \\to \\infty}\\frac{2x^3 + 13x(x+18)}{(27-x)(2x+19)^2}$"
   ]
  },
  {
   "cell_type": "markdown",
   "metadata": {},
   "source": [
    "## 4. $\\displaystyle \\lim_{x \\to 6}\\frac{x^2-36}{x^2-x-30}$"
   ]
  },
  {
   "cell_type": "markdown",
   "metadata": {},
   "source": [
    "## 5. $\\displaystyle \\lim_{x \\to 7}\\frac{x^2-49}{x^2-13x+42}$"
   ]
  },
  {
   "cell_type": "markdown",
   "metadata": {},
   "source": [
    "## 6. $\\displaystyle \\lim_{x \\to 7}\\frac{\\sqrt{x+2}-\\sqrt[3]{x+20}}{\\sqrt[4]{x+9}-2}$"
   ]
  },
  {
   "cell_type": "markdown",
   "metadata": {},
   "source": [
    "## 7. $\\displaystyle \\lim_{x \\to 0}\\frac{3x\\tan{4x}}{1-\\cos{4x}}$"
   ]
  },
  {
   "cell_type": "markdown",
   "metadata": {},
   "source": [
    "## 8. $\\displaystyle \\lim_{x \\to 0}\\frac{\\sqrt{2}x^2\\sin{4x}}{(1-\\cos{2x})^{3/2}}$"
   ]
  },
  {
   "cell_type": "markdown",
   "metadata": {},
   "source": [
    "## 9. $\\displaystyle \\lim_{x \\to \\infty}\\Big(\\frac{4x}{4x+3}\\Big)^{\\frac{5x^2}{7x-1}}$"
   ]
  },
  {
   "cell_type": "markdown",
   "metadata": {},
   "source": [
    "## 10. $\\displaystyle \\lim_{x \\to +\\infty}\\frac{\\ln{(x^2-x+1)}}{\\ln{(x^{10}+x+1)}}$"
   ]
  },
  {
   "cell_type": "markdown",
   "metadata": {},
   "source": [
    "## 11. $\\displaystyle \\lim_{x \\to 0}\\frac{5^x-1}{x}$"
   ]
  },
  {
   "cell_type": "code",
   "execution_count": null,
   "metadata": {},
   "outputs": [],
   "source": []
  }
 ],
 "metadata": {
  "kernelspec": {
   "display_name": "Python 3",
   "language": "python",
   "name": "python3"
  },
  "language_info": {
   "codemirror_mode": {
    "name": "ipython",
    "version": 3
   },
   "file_extension": ".py",
   "mimetype": "text/x-python",
   "name": "python",
   "nbconvert_exporter": "python",
   "pygments_lexer": "ipython3",
   "version": "3.7.7"
  }
 },
 "nbformat": 4,
 "nbformat_minor": 4
}
