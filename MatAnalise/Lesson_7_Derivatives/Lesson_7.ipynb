{
 "cells": [
  {
   "cell_type": "markdown",
   "metadata": {
    "colab_type": "text",
    "id": "zz7SDkPIkVlM"
   },
   "source": [
    "# Урок 7"
   ]
  },
  {
   "cell_type": "markdown",
   "metadata": {
    "colab_type": "text",
    "id": "p_3vqG5-kVlP"
   },
   "source": [
    "# Производная функции одной переменной. Часть 2"
   ]
  },
  {
   "cell_type": "markdown",
   "metadata": {
    "colab_type": "text",
    "id": "rE35hfWrwQS0"
   },
   "source": [
    "В этой части методички мы продолжим изучать производные функций одного переменно."
   ]
  },
  {
   "cell_type": "markdown",
   "metadata": {
    "colab_type": "text",
    "id": "ec7-LaoQwQS3"
   },
   "source": [
    "### Производная от неявной функции"
   ]
  },
  {
   "cell_type": "markdown",
   "metadata": {
    "colab_type": "text",
    "id": "eVFvILHkwQS4"
   },
   "source": [
    "Неявной функцией называется та, которая зависит от своего аргумента неявно $F(x, y(x))=0$. На __уроке 5__ мы в качестве примера представили уравнение прямой $y=kx+b$ в неявном виде $y-kx-b=0$. В этом случае возможен переход от одного способа задания функции к другому. Но бывают и таких функции, которые имеют только неявный вид, например:\n",
    "\n",
    "$$F(x, y(x))=y\\sin x +x^2y^3-5x-10y+ \\cos y=0$$\n",
    "\n",
    "Искать производную не сложно, достаточно помнить, что $y$ зависит от $x$\n",
    "\n",
    "$$(y\\sin x +x^2y^3-5x-10y+ \\cos y)'=0$$\n",
    "\n",
    "$$y'\\sin x+ y\\cos x+ 2xy^3+3x^2y^2 \\cdot y'-5-10y'- \\sin y \\cdot y'=0$$\n",
    "\n",
    "Осталось выразить $y'$. Слева оставим всё, что с связанно с $y'$, остальное перенесем через знак равенства вправо.\n",
    "\n",
    "$$y'(\\sin x+3x^2y^2-10- \\sin y)=-y\\cos x-2xy^3+5$$\n",
    "\n",
    "$$y'= \\frac{-y\\cos x-2xy^3+5}{\\sin x+3x^2y^2-10- \\sin y}$$\n",
    "\n",
    "__Замечание: производная от неявной функции так же может быть неявной, т.е. зависит как от $x$, так и от $y$.__\n",
    "\n",
    "Есть и другой способ. Из последних действий видно, что слева у нас $y' \\cdot F'_{y}$. Справа вы перенесли $-F'_{х}$. __Индекс снизу означает, по какой переменой мы берем производную.__ Тогда получается:\n",
    "\n",
    "$$y' \\cdot F'_{y}=-F'_{х}$$\n",
    "\n",
    "$$y'=-\\frac {F'_{х}}{F'_{y}}$$\n",
    "\n",
    "\n",
    "\n",
    "Второй способ можно использовать для вычисления производной с помощью библиотеки __sympy__."
   ]
  },
  {
   "cell_type": "code",
   "execution_count": 0,
   "metadata": {
    "colab": {},
    "colab_type": "code",
    "id": "_OkDKozuwQS5"
   },
   "outputs": [],
   "source": [
    "from sympy import *\n",
    "init_printing()"
   ]
  },
  {
   "cell_type": "code",
   "execution_count": 0,
   "metadata": {
    "colab": {},
    "colab_type": "code",
    "id": "1DTwWJI0wQS_",
    "outputId": "960acf1f-8b0c-4152-bf52-e9d7b36be4ba"
   },
   "outputs": [
    {
     "data": {
      "image/png": "[encoded data removed]",
      "text/latex": [
       "$\\displaystyle x^{2} y^{3} - 5 x + y \\sin{\\left(x \\right)} - 10 y + \\cos{\\left(y \\right)}$"
      ],
      "text/plain": [
       " 2  3                                 \n",
       "x ⋅y  - 5⋅x + y⋅sin(x) - 10⋅y + cos(y)"
      ]
     },
     "execution_count": 7,
     "metadata": {
      "tags": []
     },
     "output_type": "execute_result"
    }
   ],
   "source": [
    "x,y=symbols('x y')\n",
    "f=y*sin(x)+x**2*y**3-5*x-10*y+cos(y)\n",
    "f"
   ]
  },
  {
   "cell_type": "code",
   "execution_count": 0,
   "metadata": {
    "colab": {},
    "colab_type": "code",
    "id": "nkuptBBEwQTI",
    "outputId": "7a43faf8-fcae-42fd-fb8c-91f8bcf48af7"
   },
   "outputs": [
    {
     "data": {
      "image/png": "[encoded data removed]",
      "text/latex": [
       "$\\displaystyle \\frac{- 2 x y^{3} - y \\cos{\\left(x \\right)} + 5}{3 x^{2} y^{2} + \\sin{\\left(x \\right)} - \\sin{\\left(y \\right)} - 10}$"
      ],
      "text/plain": [
       "          3                   \n",
       "   - 2⋅x⋅y  - y⋅cos(x) + 5    \n",
       "──────────────────────────────\n",
       "   2  2                       \n",
       "3⋅x ⋅y  + sin(x) - sin(y) - 10"
      ]
     },
     "execution_count": 8,
     "metadata": {
      "tags": []
     },
     "output_type": "execute_result"
    }
   ],
   "source": [
    "-diff(f,x)/diff(f,y)"
   ]
  },
  {
   "cell_type": "markdown",
   "metadata": {
    "colab_type": "text",
    "id": "-e8URP12wQTO"
   },
   "source": [
    "Пример с уравнением окружности с центром в начале координат (0,0), радиусом R=3"
   ]
  },
  {
   "cell_type": "code",
   "execution_count": 0,
   "metadata": {
    "colab": {},
    "colab_type": "code",
    "id": "aHjHd_LLwQTP",
    "outputId": "287c056e-767b-4d1b-df72-46a0c70f5dc6"
   },
   "outputs": [
    {
     "data": {
      "image/png": "[encoded data removed]",
      "text/latex": [
       "$\\displaystyle x^{2} + y^{2} - 9$"
      ],
      "text/plain": [
       " 2    2    \n",
       "x  + y  - 9"
      ]
     },
     "execution_count": 9,
     "metadata": {
      "tags": []
     },
     "output_type": "execute_result"
    }
   ],
   "source": [
    "x,y=symbols('x y') \n",
    "f=x**2+y**2-9 \n",
    "f"
   ]
  },
  {
   "cell_type": "code",
   "execution_count": 0,
   "metadata": {
    "colab": {},
    "colab_type": "code",
    "id": "pvlRFN_3wQTU",
    "outputId": "a37c1684-c76b-46c4-b23e-ac8af50949e9"
   },
   "outputs": [
    {
     "data": {
      "image/png": "[encoded data removed]",
      "text/latex": [
       "$\\displaystyle - \\frac{x}{y}$"
      ],
      "text/plain": [
       "-x \n",
       "───\n",
       " y "
      ]
     },
     "execution_count": 10,
     "metadata": {
      "tags": []
     },
     "output_type": "execute_result"
    }
   ],
   "source": [
    "-diff(f,x)/diff(f,y)"
   ]
  },
  {
   "cell_type": "markdown",
   "metadata": {
    "colab_type": "text",
    "id": "e3XZyBi2wQTa"
   },
   "source": [
    "### Производная от обратной функции"
   ]
  },
  {
   "cell_type": "markdown",
   "metadata": {
    "colab_type": "text",
    "id": "LyjNTiCiwQTb"
   },
   "source": [
    "У большого класса явных функций, существуют обратные. Например у функции $y=x^3$ мы можем выразить $x=\\sqrt[3]y$\n",
    "\n",
    "Оказывается, существует связь между производной функции $y'_{x}$ и ей обратной$x'_{y}$.\n",
    "\n",
    "$$y'_{x}=\\frac{1}{x'_{y}}$$\n",
    "\n",
    "Проверить это не сложно. Давайте найдем $y'_{x}$ и $x'_{y}$.\n",
    "\n",
    "$$y'_{x}=(x^3)'_{x}=3x^2$$\n",
    "\n",
    "$$x'_{y}=(\\sqrt[3]y)'_{y}=\\frac{1}{3\\sqrt[3]{y^2}}$$\n",
    "\n",
    "Подставим полученные производные в равенство\n",
    "\n",
    "$$3x^2=\\frac{1}{\\frac{1}{3\\sqrt[3]{y^2}}}$$\n",
    "\n",
    "$$3x^2=3\\sqrt[3]{y^2}$$\n",
    "\n",
    "$$x^2=\\sqrt[3]{y^2}$$\n",
    "\n",
    "$$x^6=y^2$$\n",
    "\n",
    "$$y=x^3$$"
   ]
  },
  {
   "cell_type": "markdown",
   "metadata": {
    "colab_type": "text",
    "id": "r-k0mdjTwQTc"
   },
   "source": [
    "С помощью этой связи были выведены производные от обратных функций. \n",
    "\n",
    "Давайте выведем производную от $\\arcsin(x)$. Возьмем функцию $y=\\arcsin(x)$, тогда\n",
    "\n",
    "$$y'_{x}=\\frac{1}{x'_{y}}=\\frac{1}{(\\sin y)'_{y}}=\\frac{1}{\\cos y}=\\frac{1}{\\sqrt{1-\\sin^2 y}}=\\frac{1}{\\sqrt{1-\\sin^2 (\\arcsin(x))}}=\\frac{1}{\\sqrt{1-x^2}}$$"
   ]
  },
  {
   "cell_type": "markdown",
   "metadata": {
    "colab_type": "text",
    "id": "hRIk_B3PwQTe"
   },
   "source": [
    "### Производная от функции, заданной параметрически"
   ]
  },
  {
   "cell_type": "markdown",
   "metadata": {
    "colab_type": "text",
    "id": "21O5IjqQwQTg"
   },
   "source": [
    "С помощью обратных функций, так же можно выразить и формулы для производной, заданной параметрически. Пусть:\n",
    "\n",
    "\\begin{cases}\n",
    "   y=\\varphi(t), \\\\\n",
    "   x=\\psi(t) \n",
    " \\end{cases}\n",
    " \n",
    " Из второго уравнения можно выразить $t=\\psi^{-1}(x)$. Подставить в первое и получить сложную функцию $y=\\varphi(\\psi^{-1}(x))$\n",
    " \n",
    " Отсюда следует, что:\n",
    " \n",
    " $$y'_{x}=\\varphi'\\cdot (\\psi^{-1})'=\\frac{y'_{t}}{x'_{t}}$$\n",
    " \n",
    " Правило получается довольно простым. __Чтобы найти $y'_{x}$ для функции, заданной параметрически, необходимо найти две производные  $y'_{t}$ и  $x'_{t}$, далее поделить первое на второе.__\n",
    " "
   ]
  },
  {
   "cell_type": "markdown",
   "metadata": {
    "colab_type": "text",
    "id": "86zL8mK9wQTh"
   },
   "source": [
    "Рассмотрим пример:\n",
    "\n",
    "\\begin{cases}\n",
    "   y=t-t^2, \\\\\n",
    "   x=t^2-t^3 \n",
    " \\end{cases}\n",
    " \n",
    " Найдем производные:\n",
    " \n",
    " \\begin{cases}\n",
    "   y'_{t}=1-2t, \\\\\n",
    "   x'_{t}=2t-3t^2 \n",
    " \\end{cases}\n",
    " \n",
    " Запишем ответ:\n",
    " \n",
    " $$y'_{x}=\\frac{y'_{t}}{x'_{t}}=\\frac{1-2t}{2t-3t^2}$$\n",
    " \n",
    "__Замечание: производная от параметрической функции так же зависит от параметра $t$. В некоторых случаях от параметра можно избавиться и перейти к неявному виду.__"
   ]
  },
  {
   "cell_type": "markdown",
   "metadata": {
    "colab_type": "text",
    "id": "TPfj95HZwQTj"
   },
   "source": [
    "Тоже самое на __sympy__"
   ]
  },
  {
   "cell_type": "code",
   "execution_count": 0,
   "metadata": {
    "colab": {},
    "colab_type": "code",
    "id": "SPfXKCgnwQTl"
   },
   "outputs": [],
   "source": [
    "from sympy import *\n",
    "init_printing()"
   ]
  },
  {
   "cell_type": "code",
   "execution_count": 0,
   "metadata": {
    "colab": {},
    "colab_type": "code",
    "id": "amHTp73HwQTr",
    "outputId": "8efbbf41-7b9d-422c-a331-74a63c0cc4f4"
   },
   "outputs": [
    {
     "data": {
      "image/png": "[encoded data removed]",
      "text/latex": [
       "$\\displaystyle - t^{2} + t$"
      ],
      "text/plain": [
       "   2    \n",
       "- t  + t"
      ]
     },
     "execution_count": 13,
     "metadata": {
      "tags": []
     },
     "output_type": "execute_result"
    }
   ],
   "source": [
    "t=Symbol('t')\n",
    "y=t-t**2\n",
    "y"
   ]
  },
  {
   "cell_type": "code",
   "execution_count": 0,
   "metadata": {
    "colab": {},
    "colab_type": "code",
    "id": "bdoIZ4gkwQTw",
    "outputId": "b2ba5ff1-8032-4cac-b5ce-b1ddb71c2f74"
   },
   "outputs": [
    {
     "data": {
      "image/png": "[encoded data removed]",
      "text/latex": [
       "$\\displaystyle - t^{3} + t^{2}$"
      ],
      "text/plain": [
       "   3    2\n",
       "- t  + t "
      ]
     },
     "execution_count": 14,
     "metadata": {
      "tags": []
     },
     "output_type": "execute_result"
    }
   ],
   "source": [
    "x=t**2-t**3\n",
    "x"
   ]
  },
  {
   "cell_type": "code",
   "execution_count": 0,
   "metadata": {
    "colab": {},
    "colab_type": "code",
    "id": "CJHaG-nrwQT-",
    "outputId": "5e144318-4b3e-4466-d763-d3b3d7eb44a9"
   },
   "outputs": [
    {
     "data": {
      "image/png": "[encoded data removed]",
      "text/latex": [
       "$\\displaystyle \\frac{1 - 2 t}{- 3 t^{2} + 2 t}$"
      ],
      "text/plain": [
       "  1 - 2⋅t   \n",
       "────────────\n",
       "     2      \n",
       "- 3⋅t  + 2⋅t"
      ]
     },
     "execution_count": 16,
     "metadata": {
      "tags": []
     },
     "output_type": "execute_result"
    }
   ],
   "source": [
    "diff(y,t)/diff(x,t)"
   ]
  },
  {
   "cell_type": "markdown",
   "metadata": {
    "colab_type": "text",
    "id": "6tH9Oly0wQUa"
   },
   "source": [
    "Пример с уравнением окружности с центром в начале координат (0,0), радиусом R=3.\n",
    "\n",
    "В параметрическом виде имеем: \n",
    "\n",
    " \\begin{cases}\n",
    "   y=3\\sin t, \\\\\n",
    "   x=3\\cos t \n",
    " \\end{cases}"
   ]
  },
  {
   "cell_type": "code",
   "execution_count": 0,
   "metadata": {
    "colab": {},
    "colab_type": "code",
    "id": "ltX__a6pwQUc",
    "outputId": "b3d1c137-c456-4230-9759-d5d9fa5f0675"
   },
   "outputs": [
    {
     "data": {
      "image/png": "[encoded data removed]",
      "text/latex": [
       "$\\displaystyle 3 \\sin{\\left(t \\right)}$"
      ],
      "text/plain": [
       "3⋅sin(t)"
      ]
     },
     "execution_count": 19,
     "metadata": {
      "tags": []
     },
     "output_type": "execute_result"
    }
   ],
   "source": [
    "y=3*sin(t)\n",
    "y"
   ]
  },
  {
   "cell_type": "code",
   "execution_count": 0,
   "metadata": {
    "colab": {},
    "colab_type": "code",
    "id": "lIS-i6dvwQUy",
    "outputId": "c2597ffe-51b9-4f75-d1cb-a6dc79c32872"
   },
   "outputs": [
    {
     "data": {
      "image/png": "[encoded data removed]",
      "text/latex": [
       "$\\displaystyle 3 \\cos{\\left(t \\right)}$"
      ],
      "text/plain": [
       "3⋅cos(t)"
      ]
     },
     "execution_count": 20,
     "metadata": {
      "tags": []
     },
     "output_type": "execute_result"
    }
   ],
   "source": [
    "x=3*cos(t)\n",
    "x"
   ]
  },
  {
   "cell_type": "code",
   "execution_count": 0,
   "metadata": {
    "colab": {},
    "colab_type": "code",
    "id": "D8ZV9gojwQVC",
    "outputId": "c540e506-0e1f-4d49-81f2-65f350dbac4e"
   },
   "outputs": [
    {
     "data": {
      "image/png": "[encoded data removed]",
      "text/latex": [
       "$\\displaystyle - \\frac{\\cos{\\left(t \\right)}}{\\sin{\\left(t \\right)}}$"
      ],
      "text/plain": [
       "-cos(t) \n",
       "────────\n",
       " sin(t) "
      ]
     },
     "execution_count": 21,
     "metadata": {
      "tags": []
     },
     "output_type": "execute_result"
    }
   ],
   "source": [
    "diff(y,t)/diff(x,t)"
   ]
  },
  {
   "cell_type": "markdown",
   "metadata": {
    "colab_type": "text",
    "id": "zsPjLLtvwQVN"
   },
   "source": [
    "Если из системы \n",
    "\n",
    "\\begin{cases}\n",
    "   y=3\\sin t, \\\\\n",
    "   x=3\\cos t \n",
    " \\end{cases}\n",
    " \n",
    " Выразить $\\sin t$ и  $\\cos t$, то получим\n",
    " \n",
    " $$y'_{x}=-\\frac{\\cos t}{\\sin t}=-\\cos t :\\sin t=-\\frac{x}{3}:\\frac{y}{3}=-\\frac{x}{y}$$\n",
    " \n",
    "__Замечание: это равенство говорит о том, что производная не зависит от способа задания функции. В нашем случае производная от неявной функции совпала с производной от этой же функции, заданной параметрически.__"
   ]
  },
  {
   "cell_type": "markdown",
   "metadata": {
    "colab_type": "text",
    "id": "bPSZCWPCwQVQ"
   },
   "source": [
    "### Производная с помощью логарифмирования"
   ]
  },
  {
   "cell_type": "markdown",
   "metadata": {
    "colab_type": "text",
    "id": "nt7xLwGgwQVR"
   },
   "source": [
    "Класс прикладных задач на нахождение производных от неявных, обратных или параметрических функций очень мал. Вероятность встретить пару задач на собеседовании на эти темы больше, чем вероятность применения их в повседневной работе. Однако есть одна \"замечательная\" формула, которая выводится из данной теории и широко и используется на практике, даже в библиотеке __sympy__.\n",
    "\n",
    "Возьмем явную функцию \n",
    "\n",
    "$$y=f(x)$$\n",
    "\n",
    "Прологарифмируем обе части равенства по натуральному логарифму и найдем производную:\n",
    "\n",
    "$$\\ln y=\\ln f(x)$$\n",
    "\n",
    "\n",
    "$$\\frac {y'}{y}=(\\ln f(x))'$$\n",
    "\n",
    "Выразим $y'$:\n",
    "\n",
    "$$y'=y\\cdot (\\ln f(x))'$$\n",
    "\n",
    "$$y'=f(x)\\cdot (\\ln f(x))'$$\n",
    "\n",
    "\n",
    "Данная формула позволяет найти производную от явной функции. Если функция состоит из более 2-х действий деления или умножения, то с помощью этой формулы вычисления происходят быстрее, чем с помощью формул производная от произведения и производная от частного.\n",
    "\n",
    "По такому же алгоритму работают и все библиотеки, которые понимают символьную алгебру и находят производные аналитически с помощью логарифмирования."
   ]
  },
  {
   "cell_type": "markdown",
   "metadata": {
    "colab_type": "text",
    "id": "Bl6xKyHfwQVS"
   },
   "source": [
    "Рассмотрим пример:\n",
    "\n",
    "$$y=\\frac{(x-1)^2(x-2)^3(x-3)^4}{(x-4)^5 \\sin x}$$\n",
    "\n",
    "Тогда по нашей формуле мы должны переписать функцию, далее разбить ее с помощью логарифмов и найти производную.\n",
    "\n",
    "$$y'=f(x)\\cdot (\\ln f(x))'$$\n",
    "\n",
    "$$y'=\\frac{(x-1)^2(x-2)^3(x-3)^4}{(x-4)^5 \\sin x}\\cdot (\\frac{2}{x-1}+\\frac{3}{x-2}+\\frac{4}{x-3}-\\frac{5}{x-4}-\\frac{\\cos x}{\\sin x} )$$\n",
    "\n",
    "Вот и всё, мы в одно действие нашли производную, от довольно сложного примера. При этом скобки раскрывать не обязательно, т.к. скорее всего наша запись уже имеет наименьшее число операций для дальнейших вычислений.\n",
    "\n",
    "Посмотрим как с этой задачей справится __sympy__."
   ]
  },
  {
   "cell_type": "code",
   "execution_count": 0,
   "metadata": {
    "colab": {},
    "colab_type": "code",
    "id": "IX_y61TQwQVU"
   },
   "outputs": [],
   "source": [
    "from sympy import *\n",
    "init_printing()"
   ]
  },
  {
   "cell_type": "code",
   "execution_count": 0,
   "metadata": {
    "colab": {},
    "colab_type": "code",
    "id": "ZUhGFiGjwQVe",
    "outputId": "eb036c53-3fef-488a-bedf-51d9ff3ad11e"
   },
   "outputs": [
    {
     "data": {
      "image/png": "[encoded data removed]",
      "text/latex": [
       "$\\displaystyle \\frac{\\left(x - 3\\right)^{4} \\left(x - 2\\right)^{3} \\left(x - 1\\right)^{2}}{\\left(x - 4\\right)^{5} \\sin{\\left(x \\right)}}$"
      ],
      "text/plain": [
       "       4        3        2\n",
       "(x - 3) ⋅(x - 2) ⋅(x - 1) \n",
       "──────────────────────────\n",
       "            5             \n",
       "     (x - 4) ⋅sin(x)      "
      ]
     },
     "execution_count": 24,
     "metadata": {
      "tags": []
     },
     "output_type": "execute_result"
    }
   ],
   "source": [
    "x=Symbol('x')\n",
    "y=(x-1)**2*(x-2)**3*(x-3)**4/(x-4)**5/sin(x)\n",
    "y"
   ]
  },
  {
   "cell_type": "code",
   "execution_count": 0,
   "metadata": {
    "colab": {},
    "colab_type": "code",
    "id": "NEIlYrNvwQVn",
    "outputId": "fcc9eb40-dbc6-4041-8c70-6578962ac738"
   },
   "outputs": [
    {
     "data": {
      "image/png": "[encoded data removed]",
      "text/latex": [
       "$\\displaystyle - \\frac{\\left(x - 3\\right)^{4} \\left(x - 2\\right)^{3} \\left(x - 1\\right)^{2} \\cos{\\left(x \\right)}}{\\left(x - 4\\right)^{5} \\sin^{2}{\\left(x \\right)}} + \\frac{\\left(x - 3\\right)^{4} \\left(x - 2\\right)^{3} \\left(2 x - 2\\right)}{\\left(x - 4\\right)^{5} \\sin{\\left(x \\right)}} + \\frac{3 \\left(x - 3\\right)^{4} \\left(x - 2\\right)^{2} \\left(x - 1\\right)^{2}}{\\left(x - 4\\right)^{5} \\sin{\\left(x \\right)}} + \\frac{4 \\left(x - 3\\right)^{3} \\left(x - 2\\right)^{3} \\left(x - 1\\right)^{2}}{\\left(x - 4\\right)^{5} \\sin{\\left(x \\right)}} - \\frac{5 \\left(x - 3\\right)^{4} \\left(x - 2\\right)^{3} \\left(x - 1\\right)^{2}}{\\left(x - 4\\right)^{6} \\sin{\\left(x \\right)}}$"
      ],
      "text/plain": [
       "         4        3        2                 4        3                      4\n",
       "  (x - 3) ⋅(x - 2) ⋅(x - 1) ⋅cos(x)   (x - 3) ⋅(x - 2) ⋅(2⋅x - 2)   3⋅(x - 3) \n",
       "- ───────────────────────────────── + ─────────────────────────── + ──────────\n",
       "                  5    2                           5                          \n",
       "           (x - 4) ⋅sin (x)                 (x - 4) ⋅sin(x)               (x -\n",
       "\n",
       "        2        2            3        3        2            4        3       \n",
       "⋅(x - 2) ⋅(x - 1)    4⋅(x - 3) ⋅(x - 2) ⋅(x - 1)    5⋅(x - 3) ⋅(x - 2) ⋅(x - 1\n",
       "────────────────── + ──────────────────────────── - ──────────────────────────\n",
       "   5                              5                              6            \n",
       " 4) ⋅sin(x)                (x - 4) ⋅sin(x)                (x - 4) ⋅sin(x)     \n",
       "\n",
       " 2\n",
       ") \n",
       "──\n",
       "  \n",
       "  "
      ]
     },
     "execution_count": 25,
     "metadata": {
      "tags": []
     },
     "output_type": "execute_result"
    }
   ],
   "source": [
    "diff(y,x)"
   ]
  },
  {
   "cell_type": "markdown",
   "metadata": {
    "colab_type": "text",
    "id": "y6PzqR2rwQVv"
   },
   "source": [
    "### Уравнение касательной и нормали "
   ]
  },
  {
   "cell_type": "markdown",
   "metadata": {
    "colab_type": "text",
    "id": "1MqKThvuwQVw"
   },
   "source": [
    "Перейдем к более прикладным вещам. Уравнение касательных и нормальных прямых к графикам функций в заданной точке. \n",
    "\n",
    "###### Геометрический смысл производной\n",
    "\n",
    "Оказывается, производная функции в точке $f'(x_{0})$ совпадает с тангенсом угла наклона касательной $\\mbox{tg}(\\alpha)$ в этой точке $x_{0}$. В свою очередь тангенсом угла наклона любой прямой равен угловому коэффициенту $k$.\n",
    "\n",
    "Уравнение касательной в точке $x_{0}$ к явной функции $y=f(x)$ равна:\n",
    "\n",
    "$$y=f(x_{0})+f'(x_{0})\\cdot (x-x_{0})$$\n",
    "\n",
    "Уравнение касательной в точке $(x_{0}, y_{0})$ к неявной функции $F(x, y)=0$ равна:\n",
    "\n",
    "$$y=y_{0}+y'_{x}(x_{0}, y_{0})\\cdot (x-x_{0})$$\n",
    "\n",
    "Уравнение касательной в точке $t_{0}$ к параметрической функции $y=\\varphi(t),x=\\psi(t)$ равна:\n",
    "\n",
    "$$y=\\varphi(t_{0})+y'_{x}(t_{0})\\cdot (x-\\psi(t_{0}))$$\n",
    "\n",
    "Как видно особой разницы нет. Запишем так же уравнения нормали. Нормаль перпендикулярна к касательной. Из школьного курса известно , что у перпендикулярных прямых угловые коэффициенты $k_{1} \\cdot k_{2}=-1$. Тогда получим следующее.\n",
    "\n",
    "Уравнение нормальной прямой в точке $x_{0}$ к явной функции $y=f(x)$ равна:\n",
    "\n",
    "$$y=f(x_{0})-\\frac{1}{f'(x_{0})}\\cdot (x-x_{0})$$\n",
    "\n",
    "Уравнение нормальной прямой в точке $(x_{0}, y_{0})$ к неявной функции $F(x, y)=0$ равна:\n",
    "\n",
    "$$y=y_{0}-\\frac{1}{y'_{x}(x_{0}, y_{0})}\\cdot (x-x_{0})$$\n",
    "\n",
    "Уравнение нормальной прямой в точке $t_{0}$ к параметрической функции $y=\\varphi(t),x=\\psi(t)$ равна:\n",
    "\n",
    "$$y=\\varphi(t_{0})-\\frac{1}{y'_{x}(t_{0})}\\cdot (x-\\psi(t_{0}))$$"
   ]
  },
  {
   "cell_type": "markdown",
   "metadata": {
    "colab_type": "text",
    "id": "O7Ka128WwQV-"
   },
   "source": [
    "#### Примеры\n",
    "__1.__ В качестве первого примера возьмем явную функцию \n",
    "\n",
    "$$y=x^3-x^2$$\n",
    "\n",
    "Найдем уравнения касательной и нормальной прямой в точке $x_{0}=1$:\n",
    "\n",
    "$$f'(x)=3x^2-2x$$\n",
    "\n",
    "Отсюда получаем уравнение касательной:\n",
    "\n",
    "$$y=f(x_{0})+f'(x_{0})\\cdot (x-x_{0})$$\n",
    "\n",
    "$$y=1^3-1^2+(3-2)\\cdot (x-1)$$\n",
    "\n",
    "$$y=x-1$$\n",
    "\n",
    "Уравнение нормали:\n",
    "\n",
    "$$y=f(x_{0})-\\frac{1}{f'(x_{0})}\\cdot (x-x_{0})$$\n",
    "\n",
    "$$y=1^3-1^2-\\frac{1}{3-2}\\cdot (x-1)$$\n",
    "\n",
    "$$y=-x+1$$\n",
    "\n",
    "Построим графики"
   ]
  },
  {
   "cell_type": "code",
   "execution_count": 0,
   "metadata": {
    "colab": {},
    "colab_type": "code",
    "id": "PQ3F6vbDwQWA",
    "outputId": "52673414-2e92-4864-a195-9b823daae59f"
   },
   "outputs": [
    {
     "data": {
      "image/png": "[encoded data removed]",
      "text/plain": [
       "<Figure size 432x432 with 1 Axes>"
      ]
     },
     "metadata": {
      "needs_background": "light",
      "tags": []
     },
     "output_type": "display_data"
    }
   ],
   "source": [
    "from matplotlib import pylab as plt\n",
    "import numpy as np\n",
    "%matplotlib inline\n",
    "\n",
    "plt.figure(figsize=(6,6))\n",
    "plt.axis([-4, 4, -4, 4])\n",
    "\n",
    "x=np.linspace(-4, 4, 200)\n",
    "y=x**3-x**2  #функция\n",
    "y_k=x-1      #касательная\n",
    "y_n=-x+1     #нормаль\n",
    "\n",
    "plt.plot(x,y, c='b')\n",
    "plt.plot(x,y_k, c='r')\n",
    "plt.plot(x,y_n, c='g')\n",
    "plt.show()"
   ]
  },
  {
   "cell_type": "markdown",
   "metadata": {
    "colab_type": "text",
    "id": "kFi1PeMywQWH"
   },
   "source": [
    "__2.__ В качестве второго примера возьмем уже знакомое уравнение окружности в неявном виде\n",
    "\n",
    "$$x^2+y^2=9$$\n",
    "\n",
    "Найдем уравнения касательной и нормальной прямой в точке $(2,\\sqrt5)$:\n",
    "\n",
    "$$y'_{x}=-\\frac {F'_{х}}{F'_{y}}=-\\frac {x}{y}$$\n",
    "\n",
    "Отсюда получаем уравнение касательной:\n",
    "\n",
    "$$y=y_{0}+y'_{x}(x_{0}, y_{0})\\cdot (x-x_{0})$$\n",
    "\n",
    "$$y=\\sqrt5-\\frac {2}{\\sqrt5}\\cdot (x-2)$$\n",
    "\n",
    "$$y=-\\frac{2\\sqrt5}{5}x+\\frac{9\\sqrt5}{5}$$\n",
    "\n",
    "Уравнение нормали:\n",
    "\n",
    "$$y=y_{0}-\\frac{1}{y'_{x}(x_{0}, y_{0})}\\cdot (x-x_{0})$$\n",
    "\n",
    "$$y=\\sqrt5+\\frac{\\sqrt5}{2}\\cdot (x-2)$$\n",
    "\n",
    "$$y=\\frac{\\sqrt5}{2}x$$\n",
    "\n",
    "Построим графики"
   ]
  },
  {
   "cell_type": "code",
   "execution_count": 0,
   "metadata": {
    "colab": {},
    "colab_type": "code",
    "id": "6ZBFjaq8wQWI",
    "outputId": "e8f966d0-c54f-40a9-e388-c68de549d7fb"
   },
   "outputs": [
    {
     "data": {
      "image/png": "[encoded data removed]",
      "text/plain": [
       "<Figure size 432x432 with 1 Axes>"
      ]
     },
     "metadata": {
      "needs_background": "light",
      "tags": []
     },
     "output_type": "display_data"
    }
   ],
   "source": [
    "from matplotlib import pylab as plt\n",
    "import numpy as np\n",
    "%matplotlib inline\n",
    "\n",
    "plt.figure(figsize=(6,6))\n",
    "plt.axis([-4, 4, -4, 4])\n",
    "\n",
    "x=np.linspace(-3, 3, 200)\n",
    "y1=np.sqrt(9-x**2)  #функция\n",
    "y2=-np.sqrt(9-x**2)  #функция\n",
    "plt.plot(x,y1, c='b')\n",
    "plt.plot(x,y2, c='b')\n",
    "\n",
    "\n",
    "x=np.linspace(-4, 4, 200)\n",
    "y_k=(-0.4*x+1.8)*np.sqrt(5)      #касательная\n",
    "y_n=0.4*np.sqrt(5)*x             #нормаль\n",
    "\n",
    "\n",
    "plt.plot(x,y_k, c='r')\n",
    "plt.plot(x,y_n, c='g')\n",
    "plt.show()"
   ]
  },
  {
   "cell_type": "markdown",
   "metadata": {
    "colab_type": "text",
    "id": "6B9tmkUBwQWN"
   },
   "source": [
    "__3.__ В качестве третьего примера возьмем тоже уравнение окружности в параметическом виде\n",
    "\n",
    "\\begin{cases}\n",
    "   y=3\\sin t, \\\\\n",
    "   x=3\\cos t \n",
    " \\end{cases}\n",
    "\n",
    "Найдем уравнения касательной и нормальной прямой в точке $t_{0}=\\frac{\\pi}{2}$:\n",
    "\n",
    "$$y'_{x}=\\frac {y'_{t}}{x'_{t}}=-\\frac {\\cos t}{\\sin t}$$\n",
    "\n",
    "Отсюда получаем уравнение касательной:\n",
    "\n",
    "$$y=\\varphi(t_{0})+y'_{x}(t_{0})\\cdot (x-0)$$\n",
    "\n",
    "$$y=3-\\frac{0}{1}\\cdot (x-0)$$\n",
    "\n",
    "$$y=3$$\n",
    "\n",
    "Уравнение нормали:\n",
    "\n",
    "$$y=\\varphi(t_{0})-\\frac{1}{y'_{x}(t_{0})}\\cdot (x-\\psi(t_{0}))$$\n",
    "\n",
    "$$y=3+\\frac{1}{0}\\cdot (x-0)$$\n",
    "\n",
    "Этот пример имеет особенность, т.к. содержит деление на 0. Пугаться не стоит. Деление появилось вследствие того, что выведенные формулы являются упрошенной записью более сложных, в которых деления на производные не было. из подобной записи следует, что:\n",
    "\n",
    "$$x-0=0$$\n",
    "\n",
    "$$x=0$$\n",
    "\n",
    "Построим графики"
   ]
  },
  {
   "cell_type": "code",
   "execution_count": 0,
   "metadata": {
    "colab": {},
    "colab_type": "code",
    "id": "C6HYJN6GwQWO",
    "outputId": "fae38355-cda4-4abf-a713-a6f40cde679a"
   },
   "outputs": [
    {
     "data": {
      "image/png": "[encoded data removed]",
      "text/plain": [
       "<Figure size 432x432 with 1 Axes>"
      ]
     },
     "metadata": {
      "needs_background": "light",
      "tags": []
     },
     "output_type": "display_data"
    }
   ],
   "source": [
    "from matplotlib import pylab as plt\n",
    "import numpy as np\n",
    "%matplotlib inline\n",
    "\n",
    "plt.figure(figsize=(6,6))\n",
    "plt.axis([-4, 4, -4, 4])\n",
    "\n",
    "x=np.linspace(-3, 3, 200)\n",
    "y1=np.sqrt(9-x**2)   #функция\n",
    "y2=-np.sqrt(9-x**2)  #функция\n",
    "plt.plot(x,y1, c='b')\n",
    "plt.plot(x,y2, c='b')\n",
    "\n",
    "x=np.linspace(-4, 4, 200)\n",
    "y_k=3+0*x      #касательная\n",
    "plt.plot(x,y_k, c='r')\n",
    "\n",
    "y=np.linspace(-4, 4, 200)\n",
    "x=0+0*y       #нормаль\n",
    "plt.plot(x,y, c='g')\n",
    "\n",
    "plt.show()"
   ]
  },
  {
   "cell_type": "markdown",
   "metadata": {
    "colab_type": "text",
    "id": "_QCJasm3wQWT"
   },
   "source": [
    "### Критические точки и экстремум"
   ]
  },
  {
   "cell_type": "markdown",
   "metadata": {
    "colab_type": "text",
    "id": "BSypussCwQWU"
   },
   "source": [
    "Перейдем к рассмотрению __физического смысла производной__, а именно __скорость изменения функции.__ Для начала дадим определение критической точки.\n",
    "\n",
    "__Критическая точка__ - это точка, в которой производная функции __обращается в $0$__ или __не существует__. При этом у этой точки должна быть окрестность.\n",
    "\n",
    "Последнее кстати очень важно. Рассмотрим уже знакомую функцию $y=\\ln x$. Ее производная $y'=\\frac{1}{x}$. Понятно что производная не существует при $x_{0}=0$, но критической она не является, т.к. функция в отрицательной области не определена!\n",
    "\n",
    "__Экстремум__ - это обобщенное понятие локального минимума и максимума функции ( _т.е. один словом сразу два эти противоположных понятия_ ). \n",
    "\n",
    "По определению __экстремум - это критические точки, проходя через которые функция меняет свой знак.__ \n",
    "\n",
    "__Замечание__: т.е. не всем критическим точкам суждено стать экстремумами. Те, что не смогли стать экстремумом, становятся точками перегиба. Но в рамках этого курса  так глубоко заходить не будем!"
   ]
  },
  {
   "cell_type": "markdown",
   "metadata": {
    "colab_type": "text",
    "id": "rIp0fbldwQWU"
   },
   "source": [
    "#### Примеры"
   ]
  },
  {
   "cell_type": "markdown",
   "metadata": {
    "colab_type": "text",
    "id": "SM2DQbYjwQWV"
   },
   "source": [
    "В качестве первого примера возьмем уравнение параболы\n",
    "\n",
    "$$y=x^2$$\n",
    "\n",
    "Ее производная:\n",
    "\n",
    "$$y'=2x$$\n",
    "\n",
    "Производная существует везде, а вот обращается в $0$ при $x=0$ - это и есть критическая точка. Посмотрим на знаки в окрестности $0$:\n",
    "\n",
    "$$f'(-1)=2\\cdot(-1)=-2<0$$\n",
    "\n",
    "$$f'(1)=2\\cdot1=2>0$$\n",
    "\n",
    "Т.е. проходя через $0$ производная функции меняет свой знак, следовательно наша критическая точка является экстремумом. \n",
    "\n",
    "При этом если знак меняется с \"+\" на \"-\", то это точка локального максимума. Если с \"-\" на \"+\", то это точка локального минимума.\n",
    "\n",
    "В нашем случае $x=0$ - это __точка локального минимума__, а само значение функции $y(0)=0^2=0$ - это сам __локальный минимум__.\n",
    "\n",
    "Построим график функции и её производной"
   ]
  },
  {
   "cell_type": "code",
   "execution_count": 0,
   "metadata": {
    "colab": {},
    "colab_type": "code",
    "id": "aVKQc3M4wQWW",
    "outputId": "2711ef5e-0fca-4a8d-a3ba-82bc3e745f17"
   },
   "outputs": [
    {
     "data": {
      "image/png": "[encoded data removed]",
      "text/plain": [
       "<Figure size 432x432 with 1 Axes>"
      ]
     },
     "metadata": {
      "needs_background": "light",
      "tags": []
     },
     "output_type": "display_data"
    }
   ],
   "source": [
    "from matplotlib import pylab as plt\n",
    "import numpy as np\n",
    "%matplotlib inline\n",
    "\n",
    "plt.figure(figsize=(6,6))\n",
    "plt.axis([-4, 4, -4, 4])\n",
    "\n",
    "x=np.linspace(-4, 4, 200)\n",
    "y=x**2   #функция\n",
    "plt.plot(x,y, c='g')\n",
    "\n",
    "g=2*x    #производная\n",
    "plt.plot(x,g, c='b')\n",
    "\n",
    "plt.show()"
   ]
  },
  {
   "cell_type": "markdown",
   "metadata": {
    "colab_type": "text",
    "id": "1ir-EYjhwQWc"
   },
   "source": [
    "В качестве второго примера возьмем уравнение кубической параболы\n",
    "\n",
    "$$y=x^3$$\n",
    "\n",
    "Ее производная:\n",
    "\n",
    "$$y'=3x^2$$\n",
    "\n",
    "Производная так же существует везде, и так же обращается в $0$ при $x=0$ - это и есть критическая точка. Посмотрим на знаки в окрестности $0$:\n",
    "\n",
    "$$f'(-1)=3\\cdot(-1)^2=3>0$$\n",
    "\n",
    "$$f'(1)=3\\cdot1^2=3>0$$\n",
    "\n",
    "Т.е. проходя через $0$ производная функции знак не меняет, следовательно наша критическая точка экстремумом не является. \n",
    "\n",
    "\n",
    "Построим график функции и её производной"
   ]
  },
  {
   "cell_type": "code",
   "execution_count": 0,
   "metadata": {
    "colab": {},
    "colab_type": "code",
    "id": "na2ipUTzwQWd",
    "outputId": "ff06bcba-d990-4c93-d90a-f552647f20c4"
   },
   "outputs": [
    {
     "data": {
      "image/png": "[encoded data removed]",
      "text/plain": [
       "<Figure size 432x432 with 1 Axes>"
      ]
     },
     "metadata": {
      "needs_background": "light",
      "tags": []
     },
     "output_type": "display_data"
    }
   ],
   "source": [
    "from matplotlib import pylab as plt\n",
    "import numpy as np\n",
    "%matplotlib inline\n",
    "\n",
    "plt.figure(figsize=(6,6))\n",
    "plt.axis([-4, 4, -4, 4])\n",
    "\n",
    "x=np.linspace(-4, 4, 200)\n",
    "y=x**3   #функция\n",
    "plt.plot(x,y, c='g')\n",
    "\n",
    "g=3*x**2    #производная\n",
    "plt.plot(x,g, c='b')\n",
    "\n",
    "plt.show()"
   ]
  },
  {
   "cell_type": "markdown",
   "metadata": {
    "colab_type": "text",
    "id": "uKI8HO7EwQWj"
   },
   "source": [
    "В качестве третьего примера возьмем уравнение кубической параболы\n",
    "\n",
    "$$y=x^4+x^3-2x^2-3x+1$$\n",
    "\n",
    "Ее производная:\n",
    "\n",
    "$$y'=4x^3+3x^2-4x-3$$\n",
    "\n",
    "Производная существует везде, поэтому приравняет производную к $0$ и найдем критические точки:\n",
    "\n",
    "$$4x^3+3x^2-4x-3=0$$\n",
    "\n",
    "$$x^2(4x+3)-(4x+3)=0$$\n",
    "\n",
    "\n",
    "$$(4x+3)(x^2-1)=0$$\n",
    "\n",
    "$$(4x+3)(x-1)(x+1)=0$$\n",
    "\n",
    "Т.е. получаем три критические точки $x=-1, x=-\\frac{3}{4}, x=1$. \n",
    "\n",
    "Посмотрим на знаки в окрестности. Оказывается для этого не нужно проверять все окрестности, а достаточно проверить всего одну. Знак же будет меняться только в том случае, если критическая точка входит в производную в нечетной степени. $f(2)=11>0$, при этом все критические точки возводятся в первую степень, т.е. все знаки будут чередоваться.\n",
    "\n",
    "Получаем $x=-1$ и $x=1$ - точка локального минимума, а $x=-\\frac{3}{4}$ - точка локального максимума.\n",
    "\n",
    "\n",
    "Построим график функции и её производной"
   ]
  },
  {
   "cell_type": "code",
   "execution_count": 0,
   "metadata": {
    "colab": {},
    "colab_type": "code",
    "id": "7ISjQUzRwQWl",
    "outputId": "c5c9ec62-72dc-4ed2-8d03-c24c96fc8a26"
   },
   "outputs": [
    {
     "data": {
      "image/png": "[encoded data removed]",
      "text/plain": [
       "<Figure size 432x432 with 1 Axes>"
      ]
     },
     "metadata": {
      "needs_background": "light",
      "tags": []
     },
     "output_type": "display_data"
    }
   ],
   "source": [
    "from matplotlib import pylab as plt\n",
    "import numpy as np\n",
    "%matplotlib inline\n",
    "\n",
    "plt.figure(figsize=(6,6))\n",
    "plt.axis([-3, 4, -4, 3])\n",
    "\n",
    "x=np.linspace(-4, 4, 200)\n",
    "y=x**4+x**3-2*x**2-3*x+1   #функция\n",
    "plt.plot(x,y, c='g')\n",
    "\n",
    "g=4*x**3+3*x**2-4*x-3    #производная\n",
    "plt.plot(x,g, c='b')\n",
    "\n",
    "plt.show()"
   ]
  },
  {
   "cell_type": "markdown",
   "metadata": {
    "colab_type": "text",
    "id": "Q4_3y7yiwQWq"
   },
   "source": [
    "### Задачи оптимизации"
   ]
  },
  {
   "cell_type": "markdown",
   "metadata": {
    "colab_type": "text",
    "id": "dDUPqRH3wQWr"
   },
   "source": [
    "Если какую-то жизненную ситуацию можно представить в виде функции, т.е зависимость одних вещей от каких-то других, то мы может исследовать эту зависимость на экстремум. Т.е посмотреть на крайне благоприятные или наоборот для нас случаи.\n",
    "\n",
    "Представим что мы с Вами устроились на завод по производству консервы. Не важно производство чего, но для глубины погружения возьмем, допустим, оливок. Наша задача как инженера найти идеальную форму цилиндрической тары для оливок, чтобы количество затраченной жести(материал для банки) было минимально. Тем самым мы получаем __задачу оптимизации__."
   ]
  },
  {
   "cell_type": "markdown",
   "metadata": {
    "colab_type": "text",
    "id": "oPJw4KdbwQWt"
   },
   "source": [
    "<img src=\"https://i.ibb.co/s9L5rNq/7-1.png\"  width = 600/>"
   ]
  },
  {
   "cell_type": "markdown",
   "metadata": {
    "colab_type": "text",
    "id": "FlayrMi3wQWu"
   },
   "source": [
    "Введем две переменные $h$ - высота банки, $R$ - радиус основания и крышки банки. \n",
    "\n",
    "Давайте составим функцию площади боковой поверхности цилиндра, которую и будем исследовать.\n",
    "\n",
    "$$S=2\\pi R\\cdot h +\\pi R^2+\\pi R^2=2\\pi R\\cdot h +2\\pi R^2$$\n",
    "\n",
    "К сожалению функция $S$ получилась зависящая сразу от 2-х переменных $h$ и $R$. На помощь придет дополнительное условие. Наши тары будут иметь определенный объём: например 200 мл, 500мл или 1 л. Зададим этот объем в общем виде $V$ и найдем связь между нашими переменными:\n",
    "\n",
    "$$V=\\pi R^2 \\cdot h$$\n",
    "\n",
    "Данная связь позволяет избавиться в функции $S$ от одной из переменных. Т.к. $h$ входит в функцию всего лишь в первой степени, то избавиться от него будет проще.\n",
    "\n",
    "$$h=\\frac{V}{\\pi R^2}$$\n",
    "\n",
    "Получим:\n",
    "\n",
    "$$S=2\\pi R\\cdot \\frac{V}{\\pi R^2} +2\\pi R^2=\\frac{2V}{R} +2\\pi R^2$$\n",
    "\n",
    "Теперь можно найти производную:\n",
    "\n",
    "$$S'=-\\frac{2V}{R^2} +4\\pi R= \\frac{4\\pi R^3-2V}{R^2}$$\n",
    "\n",
    "Производная не существует при $R=0$, но радиус равный нулю в реальной жизни нас мало интересует, поэтому в качестве критической точки рассматривать  его не будем. Приравняем производную к нулю и найдем корни.\n",
    "\n",
    "$$\\frac{4\\pi R^3-2V}{R^2}=0$$\n",
    "\n",
    "$$4\\pi R^3-2V=0$$\n",
    "\n",
    "$$R^3=\\frac{2V}{4\\pi}$$\n",
    "\n",
    "$$R=\\sqrt[3]{\\frac{V}{2\\pi}}$$\n",
    "\n",
    "Это и есть критическая точка. При этом она возводится в третью степень, т.е. она является экстремумом. Проверим окрестность справа, взяв точку в два раза больше.\n",
    "\n",
    "$$S'(2\\sqrt[3]{\\frac{V}{2\\pi}})= \\frac{4\\pi (2\\sqrt[3]{\\frac{V}{2\\pi}})^3-2V}{(2\\sqrt[3]{\\frac{V}{2\\pi}})^2}=\\frac{16V-2V}{(2\\sqrt[3]{\\frac{V}{2\\pi}})^2}>0$$\n",
    "\n",
    "Это значит, что знак производной, проходя через критическую точку, поменялся с \"-\" на \"+\". Т.е. это точка минимума.\n",
    "\n",
    "Осталось найти $h$:\n",
    "\n",
    "$$h=\\frac{V}{\\pi R^2}=\\frac{V}{\\pi (\\sqrt[3]{\\frac{V}{2\\pi}})^2}=\\sqrt[3]{\\frac{V^3 \\cdot (2\\pi)^2}{\\pi^3 \\cdot V^2}}=\\sqrt[3]{\\frac{4V }{\\pi}}=2\\sqrt[3]{\\frac{V }{2\\pi}}=2R$$\n",
    "\n",
    "Оказывается, оптимальные размеры тары не зависят от объема. Чтобы материала на производство уходило как можно меньше, достаточно чтобы $h=2R$. \n",
    "\n",
    "В магазине такие тары найти не сложно. Как правило это банки кукурузы, горошка или сгущёнки. \n",
    "\n",
    "_Почему же всё не делают в одинаковых банках? В одних случаях виновата начинка, которую нельзя хранить в высоких тарах, например рыба. Во вторых случаях безусловно маркетинг. Например: все привыкли к оливкам с вытянутыми банками и они возможно лучше продаются. В остальных случаях - это как правило не знание мат. части!_"
   ]
  },
  {
   "cell_type": "markdown",
   "metadata": {
    "colab_type": "text",
    "id": "r1ZeQxlewQWv"
   },
   "source": [
    "### Интерполяция. Сплайны"
   ]
  },
  {
   "cell_type": "markdown",
   "metadata": {
    "colab_type": "text",
    "id": "Fl5o4Y1HwQWw"
   },
   "source": [
    "__Интерполяция__ - метод нахождения промежуточных значений функции по имеющемуся дискретному набору известных значений.\n",
    "\n",
    "Представим, что у нас на руках имеется набор точек. Мы знаем что они все лежат на графике одной функции, только вот самой функции у нас на руках нет. Функции нет, а исследовать как-то её нужно. \n",
    "\n",
    "Классически в курсе математического анализа в качестве интерполяции применятся кубические сплайны.\n",
    "\n",
    "### $$g_{i}=a_{i}(x-x_{i})^3+b_{i}(x-x_{i})^2+c_{i}(x-x_{i})+y_{i}$$\n",
    "\n",
    "Где $g_{i}$ - это сплайн между $i$ и $(i+1)$ точкой. А коэффициенты $a_{i},b_{i} и c_{i}$ находятся из следующих условий:\n",
    "\n",
    "- прохождение функции через данные точки;\n",
    "- равенство первых и вторых производных функции в данных точках."
   ]
  },
  {
   "cell_type": "code",
   "execution_count": 0,
   "metadata": {
    "colab": {},
    "colab_type": "code",
    "id": "-BG33YERwQWx",
    "outputId": "35a7980b-2323-4fe8-e781-655f95268ef3"
   },
   "outputs": [
    {
     "data": {
      "image/png": "[encoded data removed]",
      "text/plain": [
       "<Figure size 432x288 with 1 Axes>"
      ]
     },
     "metadata": {
      "needs_background": "light",
      "tags": []
     },
     "output_type": "display_data"
    }
   ],
   "source": [
    "import numpy as np\n",
    "import matplotlib.pyplot as plt\n",
    "\n",
    "x = np.linspace(0, 10, 10)\n",
    "y = np.sin(x)\n",
    "plt.plot(x,y, marker=\"o\", ls=\"\")\n",
    "\n",
    "plt.show()"
   ]
  },
  {
   "cell_type": "markdown",
   "metadata": {
    "colab_type": "text",
    "id": "P9fS_oyTwQW1"
   },
   "source": [
    "Рассмотрим библиотеку __scipy.interpolate__, в которой реализованы сплайны"
   ]
  },
  {
   "cell_type": "code",
   "execution_count": 0,
   "metadata": {
    "colab": {},
    "colab_type": "code",
    "id": "BY3EPFE0wQW1",
    "outputId": "265487d3-fafe-4b20-89c1-9ad3a2dd646e"
   },
   "outputs": [
    {
     "data": {
      "image/png": "[encoded data removed]",
      "text/plain": [
       "<Figure size 432x288 with 1 Axes>"
      ]
     },
     "metadata": {
      "needs_background": "light",
      "tags": []
     },
     "output_type": "display_data"
    }
   ],
   "source": [
    "import numpy as np\n",
    "import matplotlib.pyplot as plt\n",
    "from scipy.interpolate import splev, splrep\n",
    "\n",
    "x = np.linspace(0, 10, 10)\n",
    "y = np.sin(x)\n",
    "plt.plot(x,y, marker=\"o\", ls=\"\")\n",
    "\n",
    "spl = splrep(x, y)\n",
    "x2 = np.linspace(0, 10, 200)\n",
    "y2 = splev(x2, spl)\n",
    "plt.plot(x2, y2, label=\"Кубический сплайн\")\n",
    "\n",
    "plt.legend()\n",
    "plt.show()"
   ]
  },
  {
   "cell_type": "markdown",
   "metadata": {
    "colab_type": "text",
    "id": "6ynnhVYjwQW6"
   },
   "source": [
    "С помощью сплайнов можно также строить график производной"
   ]
  },
  {
   "cell_type": "code",
   "execution_count": 0,
   "metadata": {
    "colab": {},
    "colab_type": "code",
    "id": "0iJWJ3YQwQW6",
    "outputId": "edcf869c-ebd5-4b3d-821d-eeba1335aef0"
   },
   "outputs": [
    {
     "data": {
      "image/png": "[encoded data removed]",
      "text/plain": [
       "<Figure size 432x288 with 1 Axes>"
      ]
     },
     "metadata": {
      "needs_background": "light",
      "tags": []
     },
     "output_type": "display_data"
    }
   ],
   "source": [
    "import numpy as np\n",
    "import matplotlib.pyplot as plt\n",
    "from scipy.interpolate import splev, splrep\n",
    "\n",
    "x = np.linspace(0, 10, 10)\n",
    "y = np.sin(x)\n",
    "plt.plot(x,y, marker=\"o\", ls=\"\")\n",
    "\n",
    "spl = splrep(x, y)\n",
    "x2 = np.linspace(0, 10, 200)\n",
    "y2 = splev(x2, spl)\n",
    "plt.plot(x2, y2, label=\"Кубический сплайн\")\n",
    "\n",
    "d1 = np.diff (y2) / np.diff (x2)\n",
    "plt.plot (x2 [1:], d1, label=\"Первая производная\")\n",
    "\n",
    "\n",
    "plt.legend()\n",
    "plt.show()"
   ]
  },
  {
   "cell_type": "code",
   "execution_count": 0,
   "metadata": {
    "colab": {},
    "colab_type": "code",
    "id": "ETRmgfgOwQXB",
    "outputId": "95565e24-a0ac-43d5-956e-09ef6eb1d1bd"
   },
   "outputs": [
    {
     "data": {
      "image/png": "[encoded data removed]",
      "text/plain": [
       "<Figure size 432x288 with 1 Axes>"
      ]
     },
     "metadata": {
      "needs_background": "light",
      "tags": []
     },
     "output_type": "display_data"
    }
   ],
   "source": [
    "import matplotlib.pyplot as plt\n",
    "from scipy.interpolate import splev, splrep\n",
    "import numpy as np\n",
    "\n",
    "x = np.linspace(-8, 8, 10)\n",
    "y = np.sin(x)\n",
    "plt.plot(x,y, marker=\"o\", ls=\"\")\n",
    "\n",
    "spl = splrep(x, y)\n",
    "x2 = np.linspace(-8, 8, 200)\n",
    "y2 = splev(x2, spl)\n",
    "plt.plot(x2, y2, label=\"Кубический сплайн\")\n",
    "\n",
    "d1 = np.diff (y2) / np.diff (x2)\n",
    "plt.plot (x2 [1:], d1, label=\"Первая производная\")\n",
    "\n",
    "d2 = np.diff (d1) / np.diff (x2 [1:])\n",
    "plt.plot (x2 [1:-1], d2, label=\"Вторая производная\")\n",
    "\n",
    "plt.legend()\n",
    "plt.show()"
   ]
  },
  {
   "cell_type": "markdown",
   "metadata": {
    "colab_type": "text",
    "id": "ce8gQGvJwQXF"
   },
   "source": [
    "У кубических сплайнов есть один существенный недостаток в виде осцилляций при резком изменении функции. \n",
    "\n",
    "Но в конце 20 века китайским математиком Хироши Акима были разработанные новые сплайны, названные в его честь. С этого времени применение обычных кубических сплайнов целесообразно только с точки зрения образовательного процесса. "
   ]
  },
  {
   "cell_type": "code",
   "execution_count": 1,
   "metadata": {
    "colab": {},
    "colab_type": "code",
    "id": "jUlXFkCJwQXG",
    "outputId": "4bc10ac7-bcd4-44da-bb5f-ad918d5f12d4"
   },
   "outputs": [
    {
     "name": "stderr",
     "output_type": "stream",
     "text": [
      "\n",
      "Bad key \"text.kerning_factor\" on line 4 in\n",
      "/Users/igor/opt/anaconda3/lib/python3.7/site-packages/matplotlib/mpl-data/stylelib/_classic_test_patch.mplstyle.\n",
      "You probably need to get an updated matplotlibrc file from\n",
      "https://github.com/matplotlib/matplotlib/blob/v3.1.3/matplotlibrc.template\n",
      "or from the matplotlib source distribution\n"
     ]
    },
    {
     "data": {
      "image/png": "[encoded data removed]",
      "text/plain": [
       "<Figure size 432x288 with 1 Axes>"
      ]
     },
     "metadata": {
      "needs_background": "light"
     },
     "output_type": "display_data"
    }
   ],
   "source": [
    "from scipy.interpolate import interp1d, Akima1DInterpolator\n",
    "import numpy as np\n",
    "import matplotlib.pyplot as plt\n",
    "\n",
    "x = np.array([1,2,3,4,5,6,7,8,9,10])\n",
    "y = np.array([0,0,0,1,1,1,0,0,0,0])\n",
    "plt.plot(x,y, marker=\"o\", ls=\"\")\n",
    "\n",
    "sx=np.log10(x)\n",
    "xi_ = np.linspace(sx.min(),sx.max(), num=201)\n",
    "xi = 10**(xi_)\n",
    "\n",
    "# f = interp1d(sx,y, kind=\"cubic\")\n",
    "# yi = f(xi_)\n",
    "# plt.plot(xi,yi, label=\"Кубический сплайн\")\n",
    "\n",
    "f2 = Akima1DInterpolator(sx, y)\n",
    "yi2 = f2(xi_)\n",
    "plt.plot(xi,yi2, label=\"Сплайн Акима\")\n",
    "\n",
    "plt.legend()\n",
    "plt.show()"
   ]
  },
  {
   "cell_type": "markdown",
   "metadata": {
    "colab_type": "text",
    "id": "d1w4Ch1ewQXK"
   },
   "source": [
    "Так без проблем находятся производные"
   ]
  },
  {
   "cell_type": "code",
   "execution_count": 0,
   "metadata": {
    "colab": {},
    "colab_type": "code",
    "id": "998yPezywQXL",
    "outputId": "43e5aeac-281e-4586-a92f-7078475ca11c"
   },
   "outputs": [
    {
     "data": {
      "image/png": "[encoded data removed]",
      "text/plain": [
       "<Figure size 432x288 with 1 Axes>"
      ]
     },
     "metadata": {
      "needs_background": "light",
      "tags": []
     },
     "output_type": "display_data"
    }
   ],
   "source": [
    "from scipy.interpolate import interp1d, Akima1DInterpolator\n",
    "import numpy as np\n",
    "import matplotlib.pyplot as plt\n",
    "\n",
    "x = np.array([1,2,3,4,5,6,7,8,9,10])\n",
    "y = np.array([0,0,0,1,1,1,0,0,0,0])\n",
    "\n",
    "sx=np.log10(x)\n",
    "xi_ = np.linspace(sx.min(),sx.max(), num=201)\n",
    "xi = 10**(xi_)\n",
    "\n",
    "f = interp1d(sx,y, kind=\"cubic\")\n",
    "yi = f(xi_)\n",
    "\n",
    "f2 = Akima1DInterpolator(sx, y)\n",
    "yi2 = f2(xi_)\n",
    "\n",
    "\n",
    "d1 = np.diff (yi) / np.diff (xi)\n",
    "plt.plot (xi [1:], d1, label=\"Первая производная кубического сплайна\")\n",
    "\n",
    "\n",
    "d2 = np.diff (yi2) / np.diff (xi)\n",
    "plt.plot (xi [1:], d2, label=\"Первая производная сплайна Акима\")\n",
    "\n",
    "\n",
    "plt.legend()\n",
    "plt.show()"
   ]
  },
  {
   "cell_type": "code",
   "execution_count": 0,
   "metadata": {
    "colab": {},
    "colab_type": "code",
    "id": "ZQp_bKiEwQXQ",
    "outputId": "b00d9ddf-21d7-4ceb-d4a3-b94ff5bac70f"
   },
   "outputs": [
    {
     "data": {
      "image/png": "[encoded data removed]",
      "text/plain": [
       "<Figure size 432x288 with 1 Axes>"
      ]
     },
     "metadata": {
      "needs_background": "light",
      "tags": []
     },
     "output_type": "display_data"
    }
   ],
   "source": [
    "from scipy.interpolate import interp1d, Akima1DInterpolator\n",
    "import numpy as np\n",
    "import matplotlib.pyplot as plt\n",
    "\n",
    "x = np.array([1,2,3,4,5,6,7,8,9,10])\n",
    "y = np.array([2,2.1,2.4,0,1.5,2,2.3,0,1.5,2])\n",
    "plt.plot(x,y, marker=\"o\", ls=\"\")\n",
    "\n",
    "sx=np.log10(x)\n",
    "xi_ = np.linspace(sx.min(),sx.max(), num=201)\n",
    "xi = 10**(xi_)\n",
    "\n",
    "f = interp1d(sx,y, kind=\"cubic\")\n",
    "yi = f(xi_)\n",
    "plt.plot(xi,yi, label=\"Кубический сплайн\")\n",
    "\n",
    "f2 = Akima1DInterpolator(sx, y)\n",
    "yi2 = f2(xi_)\n",
    "plt.plot(xi,yi2, label=\"Сплайн Акима\")\n",
    "\n",
    "plt.legend()\n",
    "plt.show()"
   ]
  },
  {
   "cell_type": "markdown",
   "metadata": {
    "colab_type": "text",
    "id": "aU5YNMH9kVqP"
   },
   "source": [
    "## Практическое задание"
   ]
  },
  {
   "cell_type": "markdown",
   "metadata": {
    "colab_type": "text",
    "id": "SmdURZ_OkVqQ"
   },
   "source": [
    "__1.__ Найти производную $y'_{x}$ функции:\n",
    "\n",
    "### $$\\mbox{arctg}(\\frac{y}{x})=\\ln \\sqrt{x^2+y^2}$$"
   ]
  },
  {
   "cell_type": "markdown",
   "metadata": {
    "colab_type": "text",
    "id": "cECfCSANkVqR"
   },
   "source": [
    "__2.__ Найти производную $y'_{x}$ функции:\n",
    "\n",
    "### \\begin{cases}\n",
    "   y=\\frac{t^2}{t-1}, \\\\\n",
    "   x=\\frac{t}{t^2-1} \n",
    " \\end{cases}"
   ]
  },
  {
   "cell_type": "markdown",
   "metadata": {
    "colab_type": "text",
    "id": "DFrjdtbHkVqS"
   },
   "source": [
    "__3.__ Найти производную с помощью логарифмирования:\n",
    "\n",
    "### $$y=(x^2+2)^5\\cdot(3x-x^3)^3$$"
   ]
  },
  {
   "cell_type": "markdown",
   "metadata": {
    "colab_type": "text",
    "id": "5la-eVLukVqT"
   },
   "source": [
    "__4.__ Найти производную функции с помощью логарифмирования:\n",
    "\n",
    "### $$y=x^x$$"
   ]
  },
  {
   "cell_type": "markdown",
   "metadata": {
    "colab_type": "text",
    "id": "kQlell_GkVqU"
   },
   "source": [
    "__5.__ Найти производную функции с помощью логарифмирования:\n",
    "\n",
    "### $$y=\\frac{(2-x^2)^3\\cdot(x-1)^2}{(2x^3-3x)\\cdot e^x}$$"
   ]
  },
  {
   "cell_type": "markdown",
   "metadata": {
    "colab_type": "text",
    "id": "_iTHVO2JwQXa"
   },
   "source": [
    "__6*.__ Вывести табличное значение производной для функции\n",
    "\n",
    "### $$\\mbox{arctg}(x)$$"
   ]
  },
  {
   "cell_type": "markdown",
   "metadata": {
    "colab_type": "text",
    "id": "qwXuXAEqwQXb"
   },
   "source": [
    "__7.__ Найти длину $𝑥$ и ширину $𝑦$ прямоугольника при заданном периметре $𝑃=144$ cм, при которых данный прямоугольник имеет наибольшую площадь $𝑆$."
   ]
  },
  {
   "cell_type": "markdown",
   "metadata": {
    "colab_type": "text",
    "id": "QTyLIUYmwQXc"
   },
   "source": [
    "__8*.__ Завод $A$ отстоит от железной дороги, идущей с юга на север и проходящей через $B$, считая по кратчайшему расстоянию на $a$ км. Под каким углом $\\alpha$ к железной дороге следует ппостроить подъезной  путь от завода, чтобы транспортировка грузов из $A$ в $B$ была наиболее экономичной, если стоимость провоза тонны груза на расстоянии $1$ км составляет: по подъезному пути $p$ рублей, по железной дороге $q$ рублей $(p>q)$ и город $B$ расположен на $b$ км севернее завода $A$."
   ]
  },
  {
   "cell_type": "markdown",
   "metadata": {
    "colab_type": "text",
    "id": "Iv-T_NZAkVqZ"
   },
   "source": [
    "## Дополнительные материалы"
   ]
  },
  {
   "cell_type": "markdown",
   "metadata": {
    "colab_type": "text",
    "id": "9o_SiUNxkVqa"
   },
   "source": [
    "1. [SymPy](https://www.sympy.org/en/index.html)\n",
    "\n",
    "2. [Статья Акима](http://www.leg.ufpr.br/lib/exe/fetch.php/wiki:internas:biblioteca:akima.pdf)"
   ]
  }
 ],
 "metadata": {
  "colab": {
   "collapsed_sections": [],
   "name": "Lesson_7.ipynb",
   "provenance": []
  },
  "kernelspec": {
   "display_name": "Python 3",
   "language": "python",
   "name": "python3"
  },
  "language_info": {
   "codemirror_mode": {
    "name": "ipython",
    "version": 3
   },
   "file_extension": ".py",
   "mimetype": "text/x-python",
   "name": "python",
   "nbconvert_exporter": "python",
   "pygments_lexer": "ipython3",
   "version": "3.7.7"
  }
 },
 "nbformat": 4,
 "nbformat_minor": 1
}
