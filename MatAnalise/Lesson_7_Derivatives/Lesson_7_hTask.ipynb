{
 "cells": [
  {
   "cell_type": "markdown",
   "metadata": {},
   "source": [
    "# Author: Стурейко Игорь\n",
    "## Project: Geekbrains.MatAnalise\n",
    "## Lesson 7 - Производная\n",
    "## Date: 2020-06-07"
   ]
  },
  {
   "cell_type": "markdown",
   "metadata": {
    "colab_type": "text",
    "id": "SmdURZ_OkVqQ"
   },
   "source": [
    "__1.__ Найти производную $y'_{x}$ функции:\n",
    "\n",
    "### $$\\mbox{arctg}(\\frac{y}{x})=\\ln \\sqrt{x^2+y^2}$$"
   ]
  },
  {
   "cell_type": "markdown",
   "metadata": {},
   "source": [
    "$\\displaystyle F(x,y)=\\ln{\\sqrt{x^2+y^2}}-\\mbox{arctg}(\\frac{y}{x}), y'_x=-\\frac{F'_x}{F'_y}$"
   ]
  },
  {
   "cell_type": "markdown",
   "metadata": {},
   "source": [
    "$\\displaystyle F'_x=\\frac{1}{\\sqrt{x^2+y^2}}\\frac{1}{2}\\frac{1}{\\sqrt{x^2+y^2}}2x-\\frac{1}{1+\\frac{y^2}{x^2}}(-1)\\frac{1}{x^2}=\\frac{x+1}{x^2+y^2}$"
   ]
  },
  {
   "cell_type": "markdown",
   "metadata": {},
   "source": [
    "$\\displaystyle F'_y=\\frac{1}{\\sqrt{x^2+y^2}}\\frac{1}{2}\\frac{1}{\\sqrt{x^2+y^2}}2y-\\frac{1}{1+\\frac{y^2}{x^2}}\\frac{1}{x}=\\frac{y-x}{x^2+y^2}$"
   ]
  },
  {
   "cell_type": "markdown",
   "metadata": {},
   "source": [
    "$\\displaystyle y'_x=-\\frac{F'_x}{F'_y}=\\frac{x+1}{x-y}$"
   ]
  },
  {
   "cell_type": "markdown",
   "metadata": {
    "colab_type": "text",
    "id": "cECfCSANkVqR"
   },
   "source": [
    "__2.__ Найти производную $y'_{x}$ функции:\n",
    "\n",
    "### \\begin{cases}\n",
    "   y=\\frac{t^2}{t-1}, \\\\\n",
    "   x=\\frac{t}{t^2-1} \n",
    " \\end{cases}"
   ]
  },
  {
   "cell_type": "markdown",
   "metadata": {},
   "source": [
    "$\\displaystyle y'_x=\\frac{y'_t}{x'_t} \\Rightarrow y'_t=\\frac{2t}{t-1}-\\frac{t^2}{(t-1)^2}=\\frac{t^2-2t}{(t-1)^2}, x'_t=\\frac{1}{t^2-1}-\\frac{2t^2}{(t^2-1)^2}=\\frac{-t^2-1}{(t^2-1)^2} \\Rightarrow y'_x=\\frac{(t^2-2t)(t^2-1)^2}{(t-1)^2(-t^2-1)}=\\frac{(2t-t^2)(t+1)^2}{t^2+1}$"
   ]
  },
  {
   "cell_type": "markdown",
   "metadata": {
    "colab_type": "text",
    "id": "DFrjdtbHkVqS"
   },
   "source": [
    "__3.__ Найти производную с помощью логарифмирования:\n",
    "\n",
    "### $$y=(x^2+2)^5\\cdot(3x-x^3)^3$$"
   ]
  },
  {
   "cell_type": "markdown",
   "metadata": {},
   "source": [
    "$y'=(x^2+2)^5\\cdot(3x-x^3)^3\\cdot \\Big(5(x^2+2)+3(3x-x^3)\\Big)'=(x^2+2)^5(3x-x^3)^3(10x+9-9x^2)$"
   ]
  },
  {
   "cell_type": "markdown",
   "metadata": {
    "colab_type": "text",
    "id": "5la-eVLukVqT"
   },
   "source": [
    "__4.__ Найти производную функции с помощью логарифмирования:\n",
    "\n",
    "### $$y=x^x$$"
   ]
  },
  {
   "cell_type": "markdown",
   "metadata": {},
   "source": [
    "$y'=x^x\\big(\\ln{(x^x)}\\big)'=x^x\\big(x\\ln{x}\\big)'=x^x(\\ln{x}+1)$"
   ]
  },
  {
   "cell_type": "markdown",
   "metadata": {
    "colab_type": "text",
    "id": "kQlell_GkVqU"
   },
   "source": [
    "__5.__ Найти производную функции с помощью логарифмирования:\n",
    "\n",
    "### $$y=\\frac{(2-x^2)^3\\cdot(x-1)^2}{(2x^3-3x)\\cdot e^x}$$"
   ]
  },
  {
   "cell_type": "markdown",
   "metadata": {
    "colab_type": "text",
    "id": "_iTHVO2JwQXa"
   },
   "source": [
    "__6*.__ Вывести табличное значение производной для функции\n",
    "\n",
    "### $$\\mbox{arctg}(x)$$"
   ]
  },
  {
   "cell_type": "markdown",
   "metadata": {},
   "source": [
    "$\\displaystyle (\\mbox{tg}(x))'=\\Big(\\frac{\\sin{x}}{\\cos{x}}\\Big)'=\\frac{(\\sin{x})'\\cos{x}-\\sin{x}(\\cos{x})'}{(\\cos{x})^2}=\\frac{(\\cos{x})^2+(\\sin{x})^2}{(\\cos{x})^2}=\\frac{1}{\\cos^2{x}}$"
   ]
  },
  {
   "cell_type": "markdown",
   "metadata": {},
   "source": [
    "$\\displaystyle y=\\mbox{arctg}(x), \\Rightarrow x = \\mbox{tg}(y)$"
   ]
  },
  {
   "cell_type": "markdown",
   "metadata": {},
   "source": [
    "$\\displaystyle x'_y=\\frac{1}{\\cos^2{y}}=\\frac{\\cos^2{y}+\\sin^2{y}}{\\cos^2{y}}=1+\\mbox{tg}^2(y)=1+\\big(\\mbox{tg}(\\mbox{arctg}(x))\\big)^2=1+x^2 \\Rightarrow y'_x=\\frac{1}{x'_y}=\\frac{1}{1+x^2}$"
   ]
  },
  {
   "cell_type": "markdown",
   "metadata": {
    "colab_type": "text",
    "id": "qwXuXAEqwQXb"
   },
   "source": [
    "__7.__ Найти длину $𝑥$ и ширину $𝑦$ прямоугольника при заданном периметре $𝑃=144$ cм, при которых данный прямоугольник имеет наибольшую площадь $𝑆$."
   ]
  },
  {
   "cell_type": "markdown",
   "metadata": {},
   "source": [
    "Периметр прямоугольника $2(x+y)=144$ тогда площадь можно выразить через одну из сторон: $x \\cdot (72-x) = S$, ищем $S'=0 \\Rightarrow 72-2x=0 \\Rightarrow x=36 \\Rightarrow y = 72-x=36$ Решение: это квадрат со стороной 36 см."
   ]
  },
  {
   "cell_type": "markdown",
   "metadata": {
    "colab_type": "text",
    "id": "QTyLIUYmwQXc"
   },
   "source": [
    "__8*.__ Завод $A$ отстоит от железной дороги, идущей с юга на север и проходящей через $B$, считая по кратчайшему расстоянию на $a$ км. Под каким углом $\\alpha$ к железной дороге следует ппостроить подъезной  путь от завода, чтобы транспортировка грузов из $A$ в $B$ была наиболее экономичной, если стоимость провоза тонны груза на расстоянии $1$ км составляет: по подъезному пути $p$ рублей, по железной дороге $q$ рублей $(p>q)$ и город $B$ расположен на $b$ км севернее завода $A$."
   ]
  },
  {
   "cell_type": "code",
   "execution_count": 1,
   "metadata": {},
   "outputs": [
    {
     "data": {
      "image/png": "[encoded data removed]",
      "text/plain": [
       "<IPython.core.display.Image object>"
      ]
     },
     "execution_count": 1,
     "metadata": {},
     "output_type": "execute_result"
    }
   ],
   "source": [
    "from IPython.display import Image\n",
    "Image(\"Shema.png\")"
   ]
  },
  {
   "cell_type": "markdown",
   "metadata": {},
   "source": [
    "Стоимость транспортировки $S = p\\cdot d + q \\cdot f$, тогда $\\displaystyle d = \\frac{a}{\\cos{\\alpha}}, f = b-c=b-a\\cdot\\mbox{tg}(\\alpha) \\Rightarrow S = \\frac{p\\cdot a}{\\cos{\\alpha}}+q\\cdot(b-a\\cdot \\mbox{tg}\\alpha)$"
   ]
  },
  {
   "cell_type": "markdown",
   "metadata": {},
   "source": [
    "$\\displaystyle S'_{\\alpha}=\\frac{pa}{\\cos^2{\\alpha}}\\sin{alpha}-\\frac{aq}{\\cos^2{\\alpha}}=\\frac{a(p\\sin{\\alpha}-q)}{\\cos^2{\\alpha}}=0 \\Rightarrow p\\sin{\\alpha}=q \\Rightarrow \\sin{\\alpha}=\\frac{q}{p}$"
   ]
  },
  {
   "cell_type": "markdown",
   "metadata": {},
   "source": [
    "Решение: угол $\\displaystyle \\beta=\\frac{\\pi}{2}-\\arcsin{\\big(\\frac{q}{p}\\big)}=$"
   ]
  },
  {
   "cell_type": "code",
   "execution_count": null,
   "metadata": {},
   "outputs": [],
   "source": []
  }
 ],
 "metadata": {
  "kernelspec": {
   "display_name": "Python 3",
   "language": "python",
   "name": "python3"
  },
  "language_info": {
   "codemirror_mode": {
    "name": "ipython",
    "version": 3
   },
   "file_extension": ".py",
   "mimetype": "text/x-python",
   "name": "python",
   "nbconvert_exporter": "python",
   "pygments_lexer": "ipython3",
   "version": "3.7.7"
  }
 },
 "nbformat": 4,
 "nbformat_minor": 4
}
