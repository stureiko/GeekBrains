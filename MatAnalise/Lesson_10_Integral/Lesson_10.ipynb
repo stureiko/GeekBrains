{
 "cells": [
  {
   "cell_type": "markdown",
   "metadata": {
    "colab_type": "text",
    "id": "zz7SDkPIkVlM"
   },
   "source": [
    "# Урок 10"
   ]
  },
  {
   "cell_type": "markdown",
   "metadata": {
    "colab_type": "text",
    "id": "p_3vqG5-kVlP"
   },
   "source": [
    "# Интегралы"
   ]
  },
  {
   "cell_type": "markdown",
   "metadata": {
    "colab_type": "text",
    "id": "P1eUs_Pa9IH8"
   },
   "source": [
    "Сегодня на уроке мы познакомимся с новыми темами:\n",
    "\n",
    "- неопределенные интегралы;\n",
    "- определенные интегралы;\n",
    "- несобственные интегралы;"
   ]
  },
  {
   "cell_type": "markdown",
   "metadata": {
    "colab_type": "text",
    "id": "OjCwCz8i9IH-"
   },
   "source": [
    "### Дифференциал и дифференцирование"
   ]
  },
  {
   "cell_type": "markdown",
   "metadata": {
    "colab_type": "text",
    "id": "9bhHbwu_9IIB"
   },
   "source": [
    "Напомню, что на 8 уроке мы ввели понятие дифференциала: \n",
    "\n",
    "$$f'(x)=\\lim_{\\Delta x\\to 0} \\frac{f(x+\\Delta x)-f(x)}{\\Delta x}=\\frac{df(x)}{dx}$$\n",
    "\n",
    "Из последнего равенства как раз мы и получаем значение дифференциала функции:\n",
    "\n",
    "$$df(x)=f'(x) \\cdot dx$$\n",
    "\n",
    "Так же рассмотрели несколько примеров вычисления дифференциала функции:\n",
    "\n",
    "\n",
    "1. \n",
    "$$y=x^2 \\,\\,\\,\\,\\,\\Rightarrow\\,\\,\\,\\,\\,dy=2x \\cdot dx$$\n",
    "\n",
    "\n",
    "2. \n",
    "$$y=3x^2-4x+10 \\,\\,\\,\\,\\,\\Rightarrow\\,\\,\\,\\,\\,dy=(6x-4) \\cdot dx$$\n",
    "\n",
    "\n",
    "3. \n",
    "$$y=\\sin x \\,\\,\\,\\,\\,\\Rightarrow\\,\\,\\,\\,\\,dy=\\cos x \\cdot dx$$\n",
    "\n",
    "\n",
    "4. \n",
    "$$y=\\sin (x^2) \\,\\,\\,\\,\\,\\Rightarrow\\,\\,\\,\\,\\,dy=\\cos (x^2) \\cdot d(x^2)=\\cos (x^2) \\cdot 2x \\cdot dx$$\n",
    "\n",
    "\n",
    "\n",
    "5. \n",
    "$$y=\\arcsin x \\,\\,\\,\\,\\,\\Rightarrow\\,\\,\\,\\,\\,dy= \\frac{dx}{\\sqrt{1-x^2}}$$"
   ]
  },
  {
   "cell_type": "markdown",
   "metadata": {
    "colab_type": "text",
    "id": "eHeDtdVu9III"
   },
   "source": [
    "### Интеграл и интегрирование"
   ]
  },
  {
   "cell_type": "markdown",
   "metadata": {
    "colab_type": "text",
    "id": "-qgL5E_c9IIW"
   },
   "source": [
    "Любому действию в математике существует противодействие. Для дифференцирования таким действием является интегрирование. Для обозначения используется значок интеграла:\n",
    "\n",
    "$$\\int$$\n",
    "\n",
    "Знак интеграла уничтожает знак дифференциала. К сожалению, это происходит с точностью до константы, т.к. найти уничтоженную дифференциалом константу невозможно.\n",
    "\n",
    "$$\\int \\,dx=x+C$$\n",
    "\n",
    "$$\\int x\\,dx=\\int \\,d\\Bigr(\\frac{x^2}{2}\\Bigl)=\\frac{x^2}{2}+C$$\n",
    "\n",
    "$$\\int \\sin x\\,dx=\\int \\,d(-\\cos x)=-\\cos x+C$$\n",
    "\n",
    "$$\\int \\cos x\\,dx=\\int \\,d(\\sin x)=\\sin x+C$$\n",
    "\n",
    "__Замечание: при интегрировании проверить себя довольно просто, достаточно взять производную от ответа - должна получится функция под интегралом.__\n",
    "\n",
    "$$(x+C)'=1$$\n",
    "\n",
    "$$(\\frac{x^2}{2}+C)'=x$$\n",
    "\n",
    "$$(-\\cos x+C)'=\\sin x$$\n",
    "\n",
    "$$(\\sin x+C)'=\\cos x$$"
   ]
  },
  {
   "cell_type": "markdown",
   "metadata": {
    "colab_type": "text",
    "id": "qUz3s5ui9IIm"
   },
   "source": [
    "Так же как и для производных, существует __таблица интегралов__:\n",
    "    \n",
    "### $$\\int x^{n}\\,dx=\\frac{x^{n+1}}{n+1}+C$$ \n",
    "\n",
    "### $$\\int \\frac{\\,dx}{x}=\\ln |x|+C$$ \n",
    "\n",
    "### $$\\int \\frac{\\,dx}{1+x^2}=\n",
    "\\begin{cases}\n",
    "   \\mbox{arctg}x+C \\\\\n",
    "   -\\mbox{arcctg}x+C\n",
    " \\end{cases}$$ \n",
    "\n",
    "### $$\\int \\frac{\\,dx}{\\sqrt{1-x^2}}=\n",
    "\\begin{cases}\n",
    "   \\arcsin x+C \\\\\n",
    "   -\\arccos x+C\n",
    " \\end{cases}$$ \n",
    "\n",
    "### $$\\int \\frac{\\,dx}{1-x^2}=\\frac{1}{2}\\ln\\Bigr|\\frac{1+x}{1-x}\\Bigl|+C$$ \n",
    "\n",
    "### $$\\int \\frac{\\,dx}{\\sqrt{x^2\\pm1}}=\\ln|x+\\sqrt{x^2\\pm1}|+C$$ \n",
    "\n",
    "### $$\\int a^{x}\\,dx=\\frac{a^x}{lna}+C, (a>0, a\\neq1)$$ \n",
    "\n",
    "### $$\\int \\sin x\\,dx=-\\cos x+C$$ \n",
    "\n",
    "### $$\\int \\cos x\\,dx=\\sin x+C$$ \n",
    "\n",
    "### $$\\int \\frac{1}{\\sin^2 x}\\,dx=-\\mbox{ctg} x+C$$ \n",
    "\n",
    "### $$\\int \\frac{1}{\\cos^2 x}\\,dx=\\mbox{tg} x+C$$ "
   ]
  },
  {
   "cell_type": "markdown",
   "metadata": {
    "colab_type": "text",
    "id": "N25tIqNN9IIo"
   },
   "source": [
    "### Неопределенные интегралы"
   ]
  },
  {
   "cell_type": "markdown",
   "metadata": {
    "colab_type": "text",
    "id": "U7sWItUv9IIq"
   },
   "source": [
    "Весь процесс интегрирования сводится к тому, что необходимо привести подынтегральную функцию к табличному виду. \n",
    "\n",
    "__Замечание. Для производных достаточно знать таблицу производных. Для интегралов необходимо знать таблицу интегралов и уметь приводить функции к табличным.__\n",
    "\n",
    "Скорее всего считать интегралы вручную в своей работе Вам не придется. Тем более класс интегралов, которые решаются аналитически не такой и большой. Однако посмотрим основные способы решения интегралов. Это будет полезным опытом в преобразовании выражений. "
   ]
  },
  {
   "cell_type": "markdown",
   "metadata": {
    "colab_type": "text",
    "id": "-U049R2O9IIs"
   },
   "source": [
    "#### Метод внесения под дифференциал\n",
    "\n",
    "Этот метод мы уже использовали чуть выше. Он заключается в последовательном внесении под дифференциал всех функции.\n",
    "\n",
    "\n",
    "1.\n",
    "### $$\\int \\sin(2x)\\,dx=\\frac{1}{2}\\int \\sin(2x)\\,d(2x)=-\\frac{1}{2}\\cos(2x)+C$$ \n",
    "\n",
    "Дифференциал от константы равен нулю, поэтому мы можем смело добавлять любую константу внутри дифференциала \n",
    "\n",
    "2.\n",
    "### $$\\int x(x^2+1)^{50}\\,dx=\\frac{1}{2}\\int (x^2+1)^{50}\\,d(x^2)=\\frac{(x^2+1)^{51}}{2\\cdot 51}+C$$ "
   ]
  },
  {
   "cell_type": "markdown",
   "metadata": {
    "colab_type": "text",
    "id": "R3VKJ0o79IIt"
   },
   "source": [
    "#### Метод замены переменной\n",
    "\n",
    "Данный метод является полным аналогом предыдущего. Просто кому-то удобнее делать замены, а кому-то сразу вносить под дифференциал. \n",
    "\n",
    "\n",
    "1.\n",
    "### $$\\int \\frac{1}{2x-5}\\,dx$$ \n",
    "\n",
    "Сделаем замену:\n",
    "\n",
    "### $$2x-5=t\\,\\,\\,\\,\\,\\Rightarrow\\,\\,\\,\\,\\, x=\\frac{1}{2}t+\\frac{5}{2}\\,\\,\\,\\,\\,\\Rightarrow\\,\\,\\,\\,\\,dx=\\frac{1}{2}dt$$\n",
    "\n",
    "\n",
    "Преобразуем наш интеграл:\n",
    "\n",
    "### $$\\int \\frac{1}{2x-5}\\,dx=\\int \\frac{1}{t}\\cdot\\frac{1}{2}dt=\\frac{1}{2}\\ln|t|+C$$ \n",
    "\n",
    "Недостатком данного метода является то, что приходится возвращаться к замене. В качестве достоинств - более легкий вид записи.\n",
    "\n",
    "### $$\\int \\frac{1}{2x-5}\\,dx=\\frac{1}{2}\\ln|2x-5|+C$$\n",
    "\n",
    "2.\n",
    "### $$\\int \\frac{x^2}{x^3+1}\\,dx$$ \n",
    "\n",
    "$x^2$ и $x^3$ связанны между собой через производную. Сделаем замену:\n",
    "\n",
    "### $$x^3+1=t\\,\\,\\,\\,\\,\\Rightarrow\\,\\,\\,\\,\\, x=(t-1)^{\\frac{1}{3}}\\,\\,\\,\\,\\,\\Rightarrow\\,\\,\\,\\,\\,dx=\\frac{1}{3}(t-1)^{-\\frac{2}{3}}dt$$\n",
    "\n",
    "\n",
    "Преобразуем наш интеграл:\n",
    "\n",
    "### $$\\int \\frac{x^2}{x^3+1}\\,dx=\\int \\frac{(t-1)^{\\frac{2}{3}}}{t}\\cdot \\frac{1}{3}(t-1)^{-\\frac{2}{3}}dt=\\frac{1}{3}\\int \\frac{dt}{t}=$$\n",
    "### $$=\\frac{1}{3}\\ln|t|+C=\\frac{1}{3}\\ln|x^3+1|+C$$ "
   ]
  },
  {
   "cell_type": "markdown",
   "metadata": {
    "colab_type": "text",
    "id": "qxWcoKXa9IIw"
   },
   "source": [
    "#### Интегрирование по частям\n",
    "\n",
    "Вспомним формулу производной от произведения:\n",
    "    \n",
    "### $$(U\\cdot V)'=U'\\cdot V+U\\cdot V'$$\n",
    "\n",
    "Запишем её с помощью дифференциалов:\n",
    "\n",
    "### $$d(U\\cdot V)=V\\cdot dU+U\\cdot dV$$\n",
    "\n",
    "Далее проинтегрируем обе части равенства:\n",
    "\n",
    "### $$\\int d(U\\cdot V)=\\int V\\cdot dU+\\int U\\cdot dV$$\n",
    "\n",
    "\n",
    "### $$U\\cdot V=\\int V\\cdot dU+\\int U\\cdot dV$$\n",
    "\n",
    "Выразим второй интеграл:\n",
    "\n",
    "### $$\\int U\\cdot dV=U\\cdot V-\\int V\\cdot dU$$\n",
    "\n",
    "Данная формула называется интегрированием по частям. Применяется  как правило в двух случаях:\n",
    "\n",
    "- когда под интегралом находятся функции разного;\n",
    "- когда подынтегральная функция получилась максимально простая, пр этом не является табличной.\n",
    "\n",
    "1.\n",
    "### $$\\int \\mbox{arctg} x\\,dx$$ \n",
    "\n",
    "__Что брать в качеству $U$, а что в качестве $dV$?__ Ответ довольно простой. От $U$ будем брать производные, от $dV$ первообразные. В данном случае выбора нет, т.к. первообразной от mbox{arctg} x мы не знаем.\n",
    "\n",
    "### $$U=\\mbox{arctg} x\\,\\,\\,\\,\\,\\Rightarrow\\,\\,\\,\\,\\, dU=\\frac{dx}{1+x^2}$$ \n",
    "### $$dV=dx\\,\\,\\,\\,\\,\\Rightarrow\\,\\,\\,\\,\\, V=x$$ \n",
    "\n",
    "Тогда:\n",
    "\n",
    "### $$\\int \\mbox{arctg} x\\,dx=\\mbox{arctg} x\\cdot x-\\int \\frac{xdx}{1+x^2}=\\mbox{arctg} x\\cdot x-\\frac{1}{2}\\int \\frac{d(1+x^2)}{1+x^2}=$$ \n",
    "\n",
    "### $$=\\mbox{arctg} x\\cdot x-\\frac{1}{2}\\ln(1+x^2)+C$$ \n",
    "\n",
    "2.\n",
    "### $$\\int x\\sin x\\,dx$$ \n",
    "\n",
    "### $$U=x\\,\\,\\,\\,\\,\\Rightarrow\\,\\,\\,\\,\\, dU=dx$$ \n",
    "### $$dV=\\sin xdx\\,\\,\\,\\,\\,\\Rightarrow\\,\\,\\,\\,\\, V=-\\cos x$$ \n",
    "\n",
    "Тогда:\n",
    "\n",
    "### $$\\int x\\sin x\\,dx=x\\cdot (-\\cos x)-\\int (-\\cos x)\\,dx=-x\\cos x+\\int \\cos x\\, dx$$ \n",
    "\n",
    "### $$=-x\\cos x+\\sin x+C$$ \n",
    "\n",
    "\n",
    "3.\n",
    "### $$\\int e^{x}\\sin x\\,dx$$ \n",
    "\n",
    "### $$U=e^{x}\\,\\,\\,\\,\\,\\Rightarrow\\,\\,\\,\\,\\, dU=e^{x}dx$$ \n",
    "### $$dV=\\sin xdx\\,\\,\\,\\,\\,\\Rightarrow\\,\\,\\,\\,\\, V=-\\cos x$$ \n",
    "\n",
    "Тогда:\n",
    "\n",
    "### $$\\int e^{x}\\sin x\\,dx=e^{x}\\cdot (-\\cos x)-\\int e^{x}\\cdot (-\\cos x)\\,dx=-e^{x}\\cos x+\\int e^{x}\\cos x\\, dx$$ \n",
    "\n",
    "Воспользуемся формулой ещё раз\n",
    "\n",
    "### $$U=e^{x}\\,\\,\\,\\,\\,\\Rightarrow\\,\\,\\,\\,\\, dU=e^{x}dx$$ \n",
    "### $$dV=\\cos xdx\\,\\,\\,\\,\\,\\Rightarrow\\,\\,\\,\\,\\, V=\\sin x$$ \n",
    "\n",
    "Тогда:\n",
    "\n",
    "### $$\\int e^{x}\\sin x\\,dx=-e^{x}\\cos x+e^{x}\\sin x-\\int e^{x}\\sin x\\, dx$$\n",
    "\n",
    "Перенесем интеграл из правой части в левую\n",
    "\n",
    "### $$2\\int e^{x}\\sin x\\,dx=-e^{x}\\cos x+e^{x}\\sin x$$\n",
    "\n",
    "### $$\\int e^{x}\\sin x\\,dx=\\frac{e^{x}(\\sin x-\\cos x)}{2}+C$$"
   ]
  },
  {
   "cell_type": "markdown",
   "metadata": {
    "colab_type": "text",
    "id": "5MErU17O9IIy"
   },
   "source": [
    "#### Метод неопределенных коэффициентов\n",
    "\n",
    "Если знаменатель рациональной дроби можно разложить на более простые, то саму дробь можно представить в виде суммы или разности более простых.\n",
    "\n",
    "### $$\\frac{4x^2+8}{x^4-1}=\\frac{4x^2+8}{(x-1)(x+1)(x^2+1)}=\\frac{A}{x-1}+\\frac{B}{x+1}+\\frac{Cx+D}{x^2+1}$$ \n",
    "\n",
    "Многочлен в числителе подбирается на одну степень ниже, чем в знаменателе. Чтобы найти коэффициенты $A,B,C,D$ нужно привести дробь в к общему знаменателю, далее сравнить числитель с изначальной дробью:\n",
    "\n",
    "### $$\\frac{A}{x-1}+\\frac{B}{x+1}+\\frac{Cx+D}{x^2+1}=$$\n",
    "\n",
    "### $$=\\frac{x^3(A+B+C)+x^2(A-B+D)+x(A+B-C)+(A-B-D)}{(x-1)(x+1)(x^2+1)}$$ \n",
    "\n",
    "При сравнении числителей получаем следующую систему линейных уравнений:\n",
    "\n",
    "### $$\\begin{cases}\n",
    "   A+B+C=0 \\\\\n",
    "   A-B+D=4 \\\\\n",
    "   A+B-C=0 \\\\\n",
    "   A-B-D=8 \n",
    " \\end{cases}\\,\\,\\,\\,\\,\\Rightarrow\\,\\,\\,\\,\\, \n",
    " \\begin{cases}\n",
    "   A=3 \\\\\n",
    "   B=-3 \\\\\n",
    "   C=0 \\\\\n",
    "   D=-2 \n",
    " \\end{cases}$$ \n",
    "\n",
    "Тогда:\n",
    "\n",
    "### $$\\frac{4x^2+8}{x^4-1}=\\frac{3}{x-1}-\\frac{3}{x+1}-\\frac{2}{x^2+1}$$\n",
    "\n",
    "Данный метод позволяет интеграл от рациональной дроби сразу привести к табличному виду:\n",
    "\n",
    "### $$\\int\\frac{4x^2+8}{x^4-1}\\,dx=\\int\\frac{3}{x-1}\\,dx-\\int\\frac{3}{x+1}\\,dx-\\int\\frac{2}{x^2+1}\\,dx=$$\n",
    "\n",
    "### $$=3\\ln|x-1|-3\\ln|x+1|-2\\,\\mbox{arctg}\\,x+C=3\\ln\\Bigr|\\frac{x-1}{x+1}\\Bigl|-2\\,\\mbox{arctg}\\,x+C$$"
   ]
  },
  {
   "cell_type": "markdown",
   "metadata": {
    "colab_type": "text",
    "id": "BhQSJJyv9IIz"
   },
   "source": [
    "#### Универсальная тригонометрическая подстановка\n",
    "\n",
    "Самой универсальной функцией в тригонометрии является функция $\\mbox{tg}\\,\\frac{x}{2}$, т.к. через не можно выразить все остальные.\n",
    "\n",
    "### $$\\sin x=\\frac{2\\,\\mbox{tg}\\,\\frac{x}{2}}{1+\\mbox{tg}^2\\,\\frac{x}{2}}$$\n",
    "\n",
    "### $$\\cos x=\\frac{1-\\mbox{tg}^2\\,\\frac{x}{2}}{1+\\mbox{tg}^2\\,\\frac{x}{2}}$$\n",
    "\n",
    "### $$\\mbox{tg}\\,x=\\frac{2\\,\\mbox{tg}\\,\\frac{x}{2}}{1-\\mbox{tg}^2\\,\\frac{x}{2}}$$\n",
    "\n",
    "### $$\\mbox{ctg}\\,x=\\frac{1-\\mbox{tg}^2\\,\\frac{x}{2}}{2\\,\\mbox{tg}\\,\\frac{x}{2}}$$\n",
    "\n",
    "Универсальная тригонометрическая подстановка используется для перехода от функций тригонометрических, к степенным. \n",
    "\n",
    "Пусть \n",
    "### $$\\mbox{tg}\\,\\frac{x}{2}=t$$\n",
    "\n",
    "Тогда \n",
    "\n",
    "### $$x=2\\,\\mbox{arctg}\\,t\\,\\,\\,\\,\\,\\Rightarrow\\,\\,\\,\\,\\,dx=\\frac{2dt}{1+t^2}$$\n",
    "\n",
    "### $$\\sin x=\\frac{2t}{1+t^2}$$\n",
    "\n",
    "### $$\\cos x=\\frac{1-t^2}{1+t^2}$$\n",
    "\n",
    "### $$\\mbox{tg}\\,x=\\frac{2t}{1-t^2}$$\n",
    "\n",
    "### $$\\mbox{ctg}\\,x=\\frac{1-t^2}{2t}$$\n",
    "\n",
    "В качестве примера возьмем \n",
    "\n",
    "### $$\\int \\frac{dx}{4\\sin x-3\\cos x-5}=\\int \\frac{\\frac{2dt}{1+t^2}}{4\\frac{2t}{1+t^2}-3\\frac{1-t^2}{1+t^2}-5}=$$\n",
    "\n",
    "### $$=\\int \\frac{2dt}{8t-3(1-t^2)-5(1+t^2)}=-\\int \\frac{dt}{t^2-4t+4}=$$\n",
    "\n",
    "### $$=-\\int \\frac{dt}{(t-2)^2}=\\frac{1}{t-2}+C=\\frac{1}{\\mbox{tg}\\,\\frac{x}{2}-2}+C$$"
   ]
  },
  {
   "cell_type": "markdown",
   "metadata": {
    "colab_type": "text",
    "id": "74k_3hbj9II1"
   },
   "source": [
    "На python интегралы так же можно находить аналитически с помощью библиотеки __sympy__."
   ]
  },
  {
   "cell_type": "code",
   "execution_count": null,
   "metadata": {
    "colab": {},
    "colab_type": "code",
    "id": "dac3ghZW9II2"
   },
   "outputs": [],
   "source": [
    "from sympy import *\n",
    "init_printing()"
   ]
  },
  {
   "cell_type": "code",
   "execution_count": null,
   "metadata": {
    "colab": {},
    "colab_type": "code",
    "id": "uPFSmtz_9IJA",
    "outputId": "5b2ec62b-af26-4faa-a6db-b55b39abf0ba"
   },
   "outputs": [
    {
     "data": {
      "image/png": "[encoded data removed]",
      "text/latex": [
       "$\\displaystyle \\frac{1}{x}$"
      ],
      "text/plain": [
       "1\n",
       "─\n",
       "x"
      ]
     },
     "execution_count": 7,
     "metadata": {
      "tags": []
     },
     "output_type": "execute_result"
    }
   ],
   "source": [
    "x=Symbol('x')\n",
    "f=1/x\n",
    "f"
   ]
  },
  {
   "cell_type": "code",
   "execution_count": null,
   "metadata": {
    "colab": {},
    "colab_type": "code",
    "id": "9CsbebEW9IJI",
    "outputId": "675e51e6-f004-446d-98dd-6e2d191ff850"
   },
   "outputs": [
    {
     "data": {
      "image/png": "[encoded data removed]",
      "text/latex": [
       "$\\displaystyle \\log{\\left(x \\right)}$"
      ],
      "text/plain": [
       "log(x)"
      ]
     },
     "execution_count": 8,
     "metadata": {
      "tags": []
     },
     "output_type": "execute_result"
    }
   ],
   "source": [
    "integrate(f,x)## в данном случае имеется в виду натуральных логарифм. Так же не учитывается константа."
   ]
  },
  {
   "cell_type": "markdown",
   "metadata": {
    "colab_type": "text",
    "id": "YScSWaWA9IJN"
   },
   "source": [
    "Найдем интеграл от рациональной дроби"
   ]
  },
  {
   "cell_type": "code",
   "execution_count": null,
   "metadata": {
    "colab": {},
    "colab_type": "code",
    "id": "KSQhoKgx9IJP",
    "outputId": "d03202de-1318-4d71-a86f-608349a041ed"
   },
   "outputs": [
    {
     "data": {
      "image/png": "[encoded data removed]",
      "text/latex": [
       "$\\displaystyle \\frac{4 x^{2} + 8}{x^{4} - 1}$"
      ],
      "text/plain": [
       "   2    \n",
       "4⋅x  + 8\n",
       "────────\n",
       "  4     \n",
       " x  - 1 "
      ]
     },
     "execution_count": 3,
     "metadata": {
      "tags": []
     },
     "output_type": "execute_result"
    }
   ],
   "source": [
    "x=Symbol('x')\n",
    "f=(4*x**2+8)/(x**4-1)\n",
    "f"
   ]
  },
  {
   "cell_type": "code",
   "execution_count": null,
   "metadata": {
    "colab": {},
    "colab_type": "code",
    "id": "evDdnVE79IJU",
    "outputId": "33c35407-c6e9-46b1-cebf-301e11ef684a"
   },
   "outputs": [
    {
     "data": {
      "image/png": "[encoded data removed]",
      "text/latex": [
       "$\\displaystyle 3 \\log{\\left(x - 1 \\right)} - 3 \\log{\\left(x + 1 \\right)} - 2 \\operatorname{atan}{\\left(x \\right)}$"
      ],
      "text/plain": [
       "3⋅log(x - 1) - 3⋅log(x + 1) - 2⋅atan(x)"
      ]
     },
     "execution_count": 14,
     "metadata": {
      "tags": []
     },
     "output_type": "execute_result"
    }
   ],
   "source": [
    "integrate(f,x)"
   ]
  },
  {
   "cell_type": "markdown",
   "metadata": {
    "colab_type": "text",
    "id": "r_L29TB59IJZ"
   },
   "source": [
    "В математике существует правило, что интеграл от любой рациональной дроби всегда существует и определен на множестве действительных чисел. \n",
    "\n",
    "Правда класс задач, которые имеют хорошее решение очень мал. И даже библиотека __sympy__ не всегда дает адекватный ответ."
   ]
  },
  {
   "cell_type": "code",
   "execution_count": null,
   "metadata": {
    "colab": {},
    "colab_type": "code",
    "id": "uMVS3dO79IJa",
    "outputId": "34250a6e-1aa9-4d36-e251-c8594ca6b60f"
   },
   "outputs": [
    {
     "data": {
      "image/png": "[encoded data removed]",
      "text/latex": [
       "$\\displaystyle \\frac{1}{x^{16} + 1}$"
      ],
      "text/plain": [
       "   1   \n",
       "───────\n",
       " 16    \n",
       "x   + 1"
      ]
     },
     "execution_count": 4,
     "metadata": {
      "tags": []
     },
     "output_type": "execute_result"
    }
   ],
   "source": [
    "x=Symbol('x')\n",
    "f=1/(x**10+1)\n",
    "f"
   ]
  },
  {
   "cell_type": "code",
   "execution_count": null,
   "metadata": {
    "colab": {},
    "colab_type": "code",
    "id": "m5aKmWZl9IJh",
    "outputId": "5909aa76-9b6f-4d3d-bf10-a877449848ca"
   },
   "outputs": [
    {
     "data": {
      "image/png": "[encoded data removed]",
      "text/latex": [
       "$\\displaystyle \\operatorname{RootSum} {\\left(18446744073709551616 t^{16} + 1, \\left( t \\mapsto t \\log{\\left(16 t + x \\right)} \\right)\\right)}$"
      ],
      "text/plain": [
       "       ⎛                      16                         ⎞\n",
       "RootSum⎝18446744073709551616⋅t   + 1, t ↦ t⋅log(16⋅t + x)⎠"
      ]
     },
     "execution_count": 5,
     "metadata": {
      "tags": []
     },
     "output_type": "execute_result"
    }
   ],
   "source": [
    "integrate(f,x)"
   ]
  },
  {
   "cell_type": "markdown",
   "metadata": {
    "colab_type": "text",
    "id": "zAGB2USp9IJr"
   },
   "source": [
    "### Определенные интегралы"
   ]
  },
  {
   "cell_type": "markdown",
   "metadata": {
    "colab_type": "text",
    "id": "ZBfWaFuh9IJt"
   },
   "source": [
    "Если известно на каком отрезке задано приращение у интеграла, то он автоматически становится определенным.\n",
    "\n",
    "Существует несколько способов задать определенный интеграл:\n",
    "\n",
    "__1. Интеграл Римана.__ Это метод стал классическим, т.к. следует напрямую из неопределенных интегралов. Интегрирование идет по совокупности приращений. Тем самым мы получаем площадь между графиком функции и осью $x$.\n",
    "\n",
    "### $$\\int\\limits_a^b f(x)\\,dx=F(b)-F(a)$$\n",
    "\n",
    "Интеграл Римана находится как разность первообразных: из конца вычитаем начало. При этом константа сокращается.\n",
    "\n",
    "__2. Интеграл Лебега.__ Довольно экзотических интеграл, т.к. теорию по нему даже в учебниках сложно найти. Сложность заключатся в определении нормы.\n",
    "\n",
    "Данный способ определения дается для общего развития, т.к. он обладает хорошими свойствами. Дело в том, что для интеграла Римана функция должна быть непрерывна и дифференцируема во всех точках заданного отрезка $[a,b]$. Для интеграла Лебега таких ограничений нет. \n",
    "\n",
    "Т.е. интеграл Лебега совпадает с интегралов Римана там, где интеграл Римана существует. При этом интеграл Лебега можно брать и от не дифференцируемых в точке функций. Например функцию Дирихле.\n",
    "\n",
    "### $$\\int\\limits_X f(x)\\,\\mu(dx)=\\int\\limits_X f(x)\\,d\\mu=\\mu(F)$$\n",
    "\n",
    "В конце методички приложены ссылки на статьи по интегралу Лебега."
   ]
  },
  {
   "cell_type": "markdown",
   "metadata": {
    "colab_type": "text",
    "id": "0wM8WgUL9IJu"
   },
   "source": [
    "<img src=\"https://i.ibb.co/R4nbqd3/10-1.png\"  width = 400/>"
   ]
  },
  {
   "cell_type": "markdown",
   "metadata": {
    "colab_type": "text",
    "id": "kA3CwtHk9IJv"
   },
   "source": [
    "Найдем с помощью с помощью интеграла Римана следующие определенные интегралы:\n",
    "\n",
    "1. В данном примере интеграл равен площади прямоугольного треугольника с катетами равными $1$\n",
    "### $$\\int\\limits_0^1 x\\,dx=\\Bigr(\\frac{x^2}{2}\\Bigl)\\bigg|_0^1=\\frac{1^2}{2}-\\frac{0^2}{2}=\\frac{1}{2}$$\n",
    "\n",
    "\n",
    "2. Из этого примера нужно понять, что интеграл учитывает с какой стороны находится функция по отношению оси $x$. Мы получаем сразу два треугольника с одинаковыми площадями, при этом у одно площадь отрицательная.\n",
    "### $$\\int\\limits_{-1}^1 x\\,dx=\\Bigr(\\frac{x^2}{2}\\Bigl)\\bigg|_{-1}^1=\\frac{1^2}{2}-\\frac{(-1)^2}{2}=\\frac{1}{2}-\\frac{1}{2}=0$$\n",
    "\n",
    "2. Разберём более сложный пример.\n",
    "### $$\\int\\limits_{0}^\\pi 3x^2\\sin 2x\\,dx$$\n",
    "\n",
    "Найдем его по частям:\n",
    "\n",
    "### $$U=3x^2\\,\\,\\,\\,\\,\\Rightarrow\\,\\,\\,\\,\\, dU=6xdx$$ \n",
    "### $$dV=\\sin 2xdx\\,\\,\\,\\,\\,\\Rightarrow\\,\\,\\,\\,\\, V=-\\frac{1}{2}\\cos 2x$$ \n",
    "\n",
    "Тогда:\n",
    "\n",
    "### $$\\int\\limits_{0}^\\pi 3x^2\\sin 2x\\,dx=\\Bigr(3x^2\\cdot(-\\frac{1}{2}\\cos 2x)\\Bigl)\\bigg|_0^\\pi-\\int\\limits_{0}^\\pi (-\\frac{1}{2}\\cos 2x)\\cdot 6x\\,dx=$$\n",
    "\n",
    "### $$=-\\frac{3}{2}\\pi^2+\\int\\limits_{0}^\\pi 3x\\cos 2x\\,dx=$$\n",
    "\n",
    "Возьмем его еще раз по частям:\n",
    "\n",
    "### $$U=3x\\,\\,\\,\\,\\,\\Rightarrow\\,\\,\\,\\,\\, dU=3dx$$ \n",
    "### $$dV=\\cos 2xdx\\,\\,\\,\\,\\,\\Rightarrow\\,\\,\\,\\,\\, V=\\frac{1}{2}\\sin 2x$$ \n",
    "\n",
    "Тогда получаем:\n",
    "\n",
    "### $$=-\\frac{3}{2}\\pi^2+\\Bigr(3x\\cdot\\frac{1}{2}\\sin 2x\\Bigl)\\bigg|_0^\\pi-\\int\\limits_{0}^\\pi \\frac{1}{2}\\sin 2x\\cdot 3\\,dx=-\\frac{3}{2}\\pi^2$$\n",
    "\n",
    "Тоже самое, с помощью __sympy__"
   ]
  },
  {
   "cell_type": "code",
   "execution_count": null,
   "metadata": {
    "colab": {},
    "colab_type": "code",
    "id": "iy0KZ49B9IJw",
    "outputId": "58b99525-ea45-4305-fe6b-21794924bb40"
   },
   "outputs": [
    {
     "data": {
      "image/png": "[encoded data removed]",
      "text/latex": [
       "$\\displaystyle 3 x^{2} \\sin{\\left(2 x \\right)}$"
      ],
      "text/plain": [
       "   2         \n",
       "3⋅x ⋅sin(2⋅x)"
      ]
     },
     "execution_count": 64,
     "metadata": {
      "tags": []
     },
     "output_type": "execute_result"
    }
   ],
   "source": [
    "from sympy import *\n",
    "init_printing()\n",
    "x=Symbol('x')\n",
    "f=3*x**2*sin(2*x)\n",
    "f"
   ]
  },
  {
   "cell_type": "code",
   "execution_count": null,
   "metadata": {
    "colab": {},
    "colab_type": "code",
    "id": "D53xq1jH9IKd",
    "outputId": "8c006f2d-2216-406a-8237-0d306e80e86b"
   },
   "outputs": [
    {
     "data": {
      "image/png": "[encoded data removed]",
      "text/latex": [
       "$\\displaystyle - \\frac{3 \\pi^{2}}{2}$"
      ],
      "text/plain": [
       "    2 \n",
       "-3⋅π  \n",
       "──────\n",
       "  2   "
      ]
     },
     "execution_count": 65,
     "metadata": {
      "tags": []
     },
     "output_type": "execute_result"
    }
   ],
   "source": [
    "integrate(f,(x, 0, pi))"
   ]
  },
  {
   "cell_type": "markdown",
   "metadata": {
    "colab_type": "text",
    "id": "l1JBaji69IKi"
   },
   "source": [
    "Так же определенные интегралы можно находить и численно с помощью библиотеки __SciPy__"
   ]
  },
  {
   "cell_type": "code",
   "execution_count": null,
   "metadata": {
    "colab": {},
    "colab_type": "code",
    "id": "7Sr_B4lL9IKj",
    "outputId": "56206ee8-f065-454d-ba47-15f8812d98db"
   },
   "outputs": [
    {
     "name": "stdout",
     "output_type": "stream",
     "text": [
      "(-14.804406601634037, 2.1172211973307782e-13) -численное решение\n",
      "-14.804406601634037 -аналитическое решение\n"
     ]
    }
   ],
   "source": [
    "from scipy import integrate\n",
    "from math import *\n",
    "\n",
    "func = lambda x: 3*x**2*sin(2*x)\n",
    " \n",
    "answer = integrate.quad(func, 0, pi)\n",
    "print(answer, \"-численное решение\")\n",
    "print(-3*pi**2/2, \"-аналитическое решение\")"
   ]
  },
  {
   "cell_type": "code",
   "execution_count": null,
   "metadata": {
    "colab": {},
    "colab_type": "code",
    "id": "K72wBeRy9IKw",
    "outputId": "b73ea30d-5f45-4b1c-e4ac-bace1c088d4f"
   },
   "outputs": [
    {
     "name": "stdout",
     "output_type": "stream",
     "text": [
      "(0.9380942870328848, 3.736859212255969e-12) -численное решение\n"
     ]
    }
   ],
   "source": [
    "from scipy import integrate\n",
    "from math import *\n",
    "\n",
    "func = lambda x: 1/(x**10+1)\n",
    " \n",
    "answer = integrate.quad(func, 0, 1)\n",
    "print(answer, \"-численное решение\")"
   ]
  },
  {
   "cell_type": "markdown",
   "metadata": {
    "colab_type": "text",
    "id": "zIS7xdyh9ILp"
   },
   "source": [
    "### Несобственные интегралы\n",
    "\n",
    "Среди определенных интегралов можно выделить два типа интегралов с особенностью на границах.\n",
    "\n",
    "Первый с особенностью на бесконечности. В этом случае от бесконечности отходят и берут произвольную точку. Далее вычисляют интеграл и находят предел\n",
    "\n",
    "### $$\\int\\limits_{a}^{+\\infty}f(x)\\,dx=\\lim_{b\\to +\\infty}\\int\\limits_{a}^b f(x)\\,dx=\\lim_{b\\to +\\infty}F(b)-F(a)$$\n",
    "\n",
    "### $$\\int\\limits_{-\\infty}^{b}f(x)\\,dx=\\lim_{a\\to -\\infty}\\int\\limits_{a}^b f(x)\\,dx=F(b)-\\lim_{a\\to -\\infty}F(a)$$\n",
    "\n",
    "Второй с особенностью в точке. В этом случае мы тоже отступаем от точки на небольшое расстояние $\\varepsilon>0$. Далее вычисляют интеграл и находят предел\n",
    "\n",
    "### $$\\int\\limits_{a}^{b}f(x)\\,dx=\\lim_{\\varepsilon\\to 0}\\int\\limits_{a}^{b-\\varepsilon} f(x)\\,dx=\\lim_{\\varepsilon\\to 0}F(b-\\varepsilon)-F(a)$$\n",
    "\n",
    "### $$\\int\\limits_{a}^{b}f(x)\\,dx=\\lim_{\\varepsilon\\to 0}\\int\\limits_{a+\\varepsilon}^{b} f(x)\\,dx=F(b)-\\lim_{\\varepsilon\\to 0}F(a+\\varepsilon)$$"
   ]
  },
  {
   "cell_type": "markdown",
   "metadata": {
    "colab_type": "text",
    "id": "CeGEzJv_9ILr"
   },
   "source": [
    "#### Рассмотрим несколько примеров:\n",
    "\n",
    "1. \n",
    "### $$\\int\\limits_{1}^{+\\infty}\\frac{dx}{x^2}=\\lim_{b\\to +\\infty}\\int\\limits_{1}^{b}\\frac{dx}{x^2}=\\lim_{b\\to +\\infty}(-\\frac{1}{b})-(-\\frac{1}{1})=0+1=1$$\n",
    "\n",
    "\n",
    "2. \n",
    "### $$\\int\\limits_{-1}^{1}\\frac{dx}{\\sqrt{1-x^2}}=\\lim_{\\varepsilon\\to 0}\\int\\limits_{-1+\\varepsilon}^{1-\\varepsilon} \\frac{dx}{\\sqrt{1-x^2}}=$$\n",
    "\n",
    "### $$=\\lim_{\\varepsilon\\to 0}\\Bigr(\\arcsin(1-\\varepsilon)\\Bigl)-\\lim_{\\varepsilon\\to 0}\\Bigr(\\arcsin(-1+\\varepsilon)\\Bigl)=\\frac{\\pi}{2}-(-\\frac{\\pi}{2})=\\pi$$\n",
    "\n",
    "Как видно, ничего сложно нет. Рассмотрим эти примеры на python:"
   ]
  },
  {
   "cell_type": "code",
   "execution_count": null,
   "metadata": {
    "colab": {},
    "colab_type": "code",
    "id": "1TOcwKai9ILs",
    "outputId": "b7815ff1-5489-4562-b5df-41885a771162"
   },
   "outputs": [
    {
     "data": {
      "image/png": "[encoded data removed]",
      "text/latex": [
       "$\\displaystyle \\frac{1}{x^{2}}$"
      ],
      "text/plain": [
       "1 \n",
       "──\n",
       " 2\n",
       "x "
      ]
     },
     "execution_count": 52,
     "metadata": {
      "tags": []
     },
     "output_type": "execute_result"
    }
   ],
   "source": [
    "from sympy import *\n",
    "init_printing()\n",
    "x=Symbol('x')\n",
    "f=1/x**2\n",
    "f"
   ]
  },
  {
   "cell_type": "code",
   "execution_count": null,
   "metadata": {
    "colab": {},
    "colab_type": "code",
    "id": "2eEu7nOG9IMH",
    "outputId": "54ef78fe-97e2-405f-bdfb-3c7ccbc1fd9d"
   },
   "outputs": [
    {
     "data": {
      "image/png": "[encoded data removed]",
      "text/latex": [
       "$\\displaystyle 1$"
      ],
      "text/plain": [
       "1"
      ]
     },
     "execution_count": 53,
     "metadata": {
      "tags": []
     },
     "output_type": "execute_result"
    }
   ],
   "source": [
    "integrate(f,(x, 1, +oo)) #аналитическое решение"
   ]
  },
  {
   "cell_type": "code",
   "execution_count": null,
   "metadata": {
    "colab": {},
    "colab_type": "code",
    "id": "uq-p4q2L9IML",
    "outputId": "7d511a0a-1428-4912-998a-d72056b56b69"
   },
   "outputs": [
    {
     "name": "stdout",
     "output_type": "stream",
     "text": [
      "(1.0, 1.1102230246251565e-14)\n"
     ]
    }
   ],
   "source": [
    "from scipy import integrate\n",
    "from math import *\n",
    "\n",
    "func = lambda x: 1/x**2\n",
    " \n",
    "answer = integrate.quad(func, 1, inf)\n",
    "print(answer) #численное решение"
   ]
  },
  {
   "cell_type": "markdown",
   "metadata": {
    "colab_type": "text",
    "id": "m12FOQtq9IMR"
   },
   "source": [
    "Второй пример:"
   ]
  },
  {
   "cell_type": "code",
   "execution_count": null,
   "metadata": {
    "colab": {},
    "colab_type": "code",
    "id": "qEJgTpUB9IMS",
    "outputId": "07d4ea0b-3dfe-44ef-a4c4-f61f31d28650"
   },
   "outputs": [
    {
     "data": {
      "image/png": "[encoded data removed]",
      "text/latex": [
       "$\\displaystyle \\frac{1}{\\sqrt{1 - x^{2}}}$"
      ],
      "text/plain": [
       "     1     \n",
       "───────────\n",
       "   ________\n",
       "  ╱      2 \n",
       "╲╱  1 - x  "
      ]
     },
     "execution_count": 61,
     "metadata": {
      "tags": []
     },
     "output_type": "execute_result"
    }
   ],
   "source": [
    "from sympy import *\n",
    "init_printing()\n",
    "x=Symbol('x')\n",
    "f=1/sqrt(1-x**2)\n",
    "f"
   ]
  },
  {
   "cell_type": "code",
   "execution_count": null,
   "metadata": {
    "colab": {},
    "colab_type": "code",
    "id": "P2m874DG9IMe",
    "outputId": "ca587b51-5401-4b30-e6e2-185b195c5f96"
   },
   "outputs": [
    {
     "data": {
      "image/png": "[encoded data removed]",
      "text/latex": [
       "$\\displaystyle \\pi$"
      ],
      "text/plain": [
       "π"
      ]
     },
     "execution_count": 62,
     "metadata": {
      "tags": []
     },
     "output_type": "execute_result"
    }
   ],
   "source": [
    "integrate(f,(x, -1, 1)) #аналитическое решение"
   ]
  },
  {
   "cell_type": "code",
   "execution_count": null,
   "metadata": {
    "colab": {},
    "colab_type": "code",
    "id": "Npb3eD-69IMy",
    "outputId": "d8ac8152-c688-4891-cfec-8b1c8efda986"
   },
   "outputs": [
    {
     "name": "stdout",
     "output_type": "stream",
     "text": [
      "(3.141592653589591, 6.200897573194197e-10)\n"
     ]
    }
   ],
   "source": [
    "from scipy import integrate\n",
    "from math import *\n",
    "\n",
    "func = lambda x: 1/sqrt(1-x**2)\n",
    " \n",
    "answer = integrate.quad(func, -1, 1)\n",
    "print(answer) #численное решение"
   ]
  },
  {
   "cell_type": "markdown",
   "metadata": {
    "colab_type": "text",
    "id": "aU5YNMH9kVqP"
   },
   "source": [
    "## Практическое задание"
   ]
  },
  {
   "cell_type": "markdown",
   "metadata": {
    "colab_type": "text",
    "id": "SmdURZ_OkVqQ"
   },
   "source": [
    "__1.__ Вычислить неопределенный интеграл\n",
    "\n",
    "### $$\\int \\frac{2x+3}{(x-2)(x+5)}\\,dx$$\n"
   ]
  },
  {
   "cell_type": "markdown",
   "metadata": {
    "colab_type": "text",
    "id": "cECfCSANkVqR"
   },
   "source": [
    "__2.__ Вычислить неопределенный интеграл\n",
    "\n",
    "### $$\\int e^{2x}\\cos 3x\\,dx$$"
   ]
  },
  {
   "cell_type": "markdown",
   "metadata": {
    "colab_type": "text",
    "id": "DFrjdtbHkVqS"
   },
   "source": [
    "__3.__ Вычислить определенный интеграл\n",
    "\n",
    "### $$\\int\\limits_0^{\\ln2} xe^{-x}\\,dx$$"
   ]
  },
  {
   "cell_type": "markdown",
   "metadata": {
    "colab_type": "text",
    "id": "OYKiy0uI9IM8"
   },
   "source": [
    "__3.__ Вычислить несобственный интеграл\n",
    "\n",
    "### $$\\int\\limits_2^{+\\infty} \\frac{dx}{x^2+x-2}$$"
   ]
  },
  {
   "cell_type": "markdown",
   "metadata": {
    "colab_type": "text",
    "id": "17Z1GQtd9IM9"
   },
   "source": [
    "__4*.__ Вычислить несобственный интеграл\n",
    "\n",
    "### $$\\int\\limits_0^{1} \\ln x\\,dx$$"
   ]
  },
  {
   "cell_type": "markdown",
   "metadata": {
    "colab_type": "text",
    "id": "Iv-T_NZAkVqZ"
   },
   "source": [
    "## Дополнительные материалы"
   ]
  },
  {
   "cell_type": "markdown",
   "metadata": {
    "colab_type": "text",
    "id": "9o_SiUNxkVqa"
   },
   "source": [
    "1. [пример вычисления интеграла Лебега на WolframAlpfa](https://demonstrations.wolfram.com/LebesgueIntegration/)\n",
    "2. [про интеграл Лебега](https://mathworld.wolfram.com/LebesgueIntegral.html)\n",
    "3. [про меру Лебега](https://mathworld.wolfram.com/Measure.html)"
   ]
  },
  {
   "cell_type": "code",
   "execution_count": null,
   "metadata": {
    "colab": {},
    "colab_type": "code",
    "id": "bjH8L2369INM"
   },
   "outputs": [],
   "source": []
  }
 ],
 "metadata": {
  "colab": {
   "collapsed_sections": [],
   "name": "Lesson_10.ipynb",
   "provenance": []
  },
  "kernelspec": {
   "display_name": "Python 3",
   "language": "python",
   "name": "python3"
  },
  "language_info": {
   "codemirror_mode": {
    "name": "ipython",
    "version": 3
   },
   "file_extension": ".py",
   "mimetype": "text/x-python",
   "name": "python",
   "nbconvert_exporter": "python",
   "pygments_lexer": "ipython3",
   "version": "3.7.7"
  },
  "latex_envs": {
   "LaTeX_envs_menu_present": true,
   "autoclose": false,
   "autocomplete": true,
   "bibliofile": "biblio.bib",
   "cite_by": "apalike",
   "current_citInitial": 1,
   "eqLabelWithNumbers": true,
   "eqNumInitial": 1,
   "hotkeys": {
    "equation": "Ctrl-E",
    "itemize": "Ctrl-I"
   },
   "labels_anchors": false,
   "latex_user_defs": false,
   "report_style_numbering": false,
   "user_envs_cfg": false
  }
 },
 "nbformat": 4,
 "nbformat_minor": 1
}
