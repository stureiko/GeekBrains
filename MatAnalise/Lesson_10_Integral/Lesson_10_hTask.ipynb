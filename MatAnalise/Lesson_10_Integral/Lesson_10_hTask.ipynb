{
 "cells": [
  {
   "cell_type": "markdown",
   "metadata": {},
   "source": [
    "# Author: Стурейко Игорь\n",
    "## Project: Geekbrains.MatAnalise\n",
    "## Lesson 10 - Интеграл\n",
    "## Date: 2020-06-18"
   ]
  },
  {
   "cell_type": "markdown",
   "metadata": {
    "colab_type": "text",
    "id": "SmdURZ_OkVqQ"
   },
   "source": [
    "__1.__ Вычислить неопределенный интеграл\n",
    "\n",
    "### $$\\int \\frac{2x+3}{(x-2)(x+5)}\\,dx$$\n"
   ]
  },
  {
   "cell_type": "markdown",
   "metadata": {},
   "source": [
    "$\\displaystyle \\frac{2x+3}{(x-2)(x+5)}=\\frac{A}{x-2}+\\frac{B}{x+5}=\\frac{A(x+5)+B(x-2)}{(x-2)(x+5)} \\Rightarrow \\begin{cases}\n",
    "A+B=2\\\\\n",
    "5A-2B=3\n",
    "\\end{cases} \\Rightarrow A = 1, B=1$"
   ]
  },
  {
   "cell_type": "markdown",
   "metadata": {},
   "source": [
    "$\\displaystyle \\int\\frac{1}{x-2}\\,dx + \\int\\frac{1}{x+5}\\,dx=\\ln|x-2| + \\ln|x+5| + Const$"
   ]
  },
  {
   "cell_type": "markdown",
   "metadata": {
    "colab_type": "text",
    "id": "cECfCSANkVqR"
   },
   "source": [
    "__2.__ Вычислить неопределенный интеграл\n",
    "\n",
    "### $$\\int e^{2x}\\cos 3x\\,dx$$"
   ]
  },
  {
   "cell_type": "markdown",
   "metadata": {},
   "source": [
    "$\\displaystyle U = e^{2x}, dU = \\frac{1}{2}e^{2x}dx, dV = \\sin{x}dx, V = -\\frac{1}{3}\\cos{3x}$"
   ]
  },
  {
   "cell_type": "markdown",
   "metadata": {},
   "source": [
    "$\\displaystyle \\int e^{2x}\\cos 3x\\,dx = -\\frac{1}{3}e^{2x}\\cos{3x}+\\frac{1}{3}\\int e^{2x}\\cos 3x\\,dx \\Rightarrow \\frac{2}{3}\\int e^{2x}\\cos 3x\\,dx = -\\frac{1}{3}e^{2x}\\cos{3x} \\Rightarrow \\int e^{2x}\\cos 3x\\,dx = -\\frac{1}{2}e^{2x}\\cos{3x}$ "
   ]
  },
  {
   "cell_type": "markdown",
   "metadata": {
    "colab_type": "text",
    "id": "DFrjdtbHkVqS"
   },
   "source": [
    "__3.__ Вычислить определенный интеграл\n",
    "\n",
    "### $$\\int\\limits_0^{\\ln2} xe^{-x}\\,dx$$"
   ]
  },
  {
   "cell_type": "code",
   "execution_count": 2,
   "metadata": {},
   "outputs": [
    {
     "data": {
      "image/png": "[encoded data removed]",
      "text/latex": [
       "$\\displaystyle x e^{- x}$"
      ],
      "text/plain": [
       "   -x\n",
       "x⋅ℯ  "
      ]
     },
     "execution_count": 2,
     "metadata": {},
     "output_type": "execute_result"
    }
   ],
   "source": [
    "from sympy import *\n",
    "init_printing()\n",
    "x=Symbol('x')\n",
    "f=x*exp(-x)\n",
    "f"
   ]
  },
  {
   "cell_type": "code",
   "execution_count": 3,
   "metadata": {},
   "outputs": [
    {
     "data": {
      "image/png": "[encoded data removed]",
      "text/latex": [
       "$\\displaystyle \\frac{1}{2} - \\frac{\\log{\\left(2 \\right)}}{2}$"
      ],
      "text/plain": [
       "1   log(2)\n",
       "─ - ──────\n",
       "2     2   "
      ]
     },
     "execution_count": 3,
     "metadata": {},
     "output_type": "execute_result"
    }
   ],
   "source": [
    "integrate(f,(x, 0, log(2)))"
   ]
  },
  {
   "cell_type": "markdown",
   "metadata": {
    "colab_type": "text",
    "id": "OYKiy0uI9IM8"
   },
   "source": [
    "__3.__ Вычислить несобственный интеграл\n",
    "\n",
    "### $$\\int\\limits_2^{+\\infty} \\frac{dx}{x^2+x-2}$$"
   ]
  },
  {
   "cell_type": "code",
   "execution_count": 4,
   "metadata": {},
   "outputs": [
    {
     "data": {
      "image/png": "[encoded data removed]",
      "text/latex": [
       "$\\displaystyle \\frac{1}{x^{2} + x - 2}$"
      ],
      "text/plain": [
       "    1     \n",
       "──────────\n",
       " 2        \n",
       "x  + x - 2"
      ]
     },
     "execution_count": 4,
     "metadata": {},
     "output_type": "execute_result"
    }
   ],
   "source": [
    "from sympy import *\n",
    "init_printing()\n",
    "x=Symbol('x')\n",
    "f=1/(x**2+x-2)\n",
    "f"
   ]
  },
  {
   "cell_type": "code",
   "execution_count": 6,
   "metadata": {},
   "outputs": [
    {
     "data": {
      "image/png": "[encoded data removed]",
      "text/latex": [
       "$\\displaystyle \\frac{\\log{\\left(4 \\right)}}{3}$"
      ],
      "text/plain": [
       "log(4)\n",
       "──────\n",
       "  3   "
      ]
     },
     "execution_count": 6,
     "metadata": {},
     "output_type": "execute_result"
    }
   ],
   "source": [
    "integrate(f,(x, 2, +oo))"
   ]
  },
  {
   "cell_type": "markdown",
   "metadata": {
    "colab_type": "text",
    "id": "17Z1GQtd9IM9"
   },
   "source": [
    "__4*.__ Вычислить несобственный интеграл\n",
    "\n",
    "### $$\\int\\limits_0^{1} \\ln x\\,dx$$"
   ]
  },
  {
   "cell_type": "code",
   "execution_count": 7,
   "metadata": {},
   "outputs": [
    {
     "data": {
      "image/png": "[encoded data removed]",
      "text/latex": [
       "$\\displaystyle \\log{\\left(x \\right)}$"
      ],
      "text/plain": [
       "log(x)"
      ]
     },
     "execution_count": 7,
     "metadata": {},
     "output_type": "execute_result"
    }
   ],
   "source": [
    "from sympy import *\n",
    "init_printing()\n",
    "x=Symbol('x')\n",
    "f=log(x)\n",
    "f"
   ]
  },
  {
   "cell_type": "code",
   "execution_count": 8,
   "metadata": {},
   "outputs": [
    {
     "data": {
      "image/png": "[encoded data removed]",
      "text/latex": [
       "$\\displaystyle -1$"
      ],
      "text/plain": [
       "-1"
      ]
     },
     "execution_count": 8,
     "metadata": {},
     "output_type": "execute_result"
    }
   ],
   "source": [
    "integrate(f,(x, 0, 1))"
   ]
  },
  {
   "cell_type": "code",
   "execution_count": null,
   "metadata": {},
   "outputs": [],
   "source": []
  }
 ],
 "metadata": {
  "kernelspec": {
   "display_name": "Python 3",
   "language": "python",
   "name": "python3"
  },
  "language_info": {
   "codemirror_mode": {
    "name": "ipython",
    "version": 3
   },
   "file_extension": ".py",
   "mimetype": "text/x-python",
   "name": "python",
   "nbconvert_exporter": "python",
   "pygments_lexer": "ipython3",
   "version": "3.7.7"
  }
 },
 "nbformat": 4,
 "nbformat_minor": 4
}
