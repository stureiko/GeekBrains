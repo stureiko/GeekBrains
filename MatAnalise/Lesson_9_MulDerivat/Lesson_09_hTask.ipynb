{
 "cells": [
  {
   "cell_type": "markdown",
   "metadata": {},
   "source": [
    "# Author: Стурейко Игорь\n",
    "## Project: Geekbrains.MatAnalise\n",
    "## Lesson 9 - Производная функции нескольких переменных\n",
    "## Date: 2020-06-15"
   ]
  },
  {
   "cell_type": "markdown",
   "metadata": {
    "colab_type": "text",
    "id": "SmdURZ_OkVqQ"
   },
   "source": [
    "__1.__ Исследовать на условный экстремум функцию\n",
    "\n",
    "### $$U=3-8x+6y,$$\n",
    "\n",
    "если\n",
    "\n",
    "### $$x^2+y^2=36$$"
   ]
  },
  {
   "cell_type": "markdown",
   "metadata": {},
   "source": [
    "$L(x, y, \\lambda)=3-8x+6y+\\lambda(x^2+y^2-36)$"
   ]
  },
  {
   "cell_type": "code",
   "execution_count": 87,
   "metadata": {},
   "outputs": [
    {
     "data": {
      "text/latex": [
       "$\\displaystyle \\left\\{\\left( - \\frac{24}{5}, \\  \\frac{18}{5}, \\  - \\frac{5}{6}\\right), \\left( \\frac{24}{5}, \\  - \\frac{18}{5}, \\  \\frac{5}{6}\\right)\\right\\}$"
      ],
      "text/plain": [
       "FiniteSet((-24/5, 18/5, -5/6), (24/5, -18/5, 5/6))"
      ]
     },
     "execution_count": 87,
     "metadata": {},
     "output_type": "execute_result"
    }
   ],
   "source": [
    "from sympy import *\n",
    "L, x, y, l = symbols('L x y l')\n",
    "L = 3-8*x+6*y+l*(x**2+y**2-36)\n",
    "L_x = diff(L,x)\n",
    "L_y = diff(L,y)\n",
    "L_l = diff(L, l)\n",
    "nonlinsolve([L_x, L_y, L_l], [x, y, l])"
   ]
  },
  {
   "cell_type": "code",
   "execution_count": 88,
   "metadata": {},
   "outputs": [],
   "source": [
    "L_xx = diff(L,x,x)\n",
    "L_yy = diff(L,y,y)\n",
    "L_ll = diff(L, l,l)\n",
    "L_xy = diff(L,x, y)\n",
    "L_xl = diff(L,x, l)\n",
    "L_yl = diff(L, y, l)"
   ]
  },
  {
   "cell_type": "code",
   "execution_count": 89,
   "metadata": {},
   "outputs": [
    {
     "data": {
      "text/latex": [
       "$\\displaystyle 2 l$"
      ],
      "text/plain": [
       "2*l"
      ]
     },
     "execution_count": 89,
     "metadata": {},
     "output_type": "execute_result"
    }
   ],
   "source": [
    "L_xx"
   ]
  },
  {
   "cell_type": "code",
   "execution_count": 90,
   "metadata": {},
   "outputs": [
    {
     "data": {
      "text/latex": [
       "$\\displaystyle 2 l$"
      ],
      "text/plain": [
       "2*l"
      ]
     },
     "execution_count": 90,
     "metadata": {},
     "output_type": "execute_result"
    }
   ],
   "source": [
    "L_yy"
   ]
  },
  {
   "cell_type": "code",
   "execution_count": 91,
   "metadata": {},
   "outputs": [
    {
     "data": {
      "text/latex": [
       "$\\displaystyle 0$"
      ],
      "text/plain": [
       "0"
      ]
     },
     "execution_count": 91,
     "metadata": {},
     "output_type": "execute_result"
    }
   ],
   "source": [
    "L_ll"
   ]
  },
  {
   "cell_type": "code",
   "execution_count": 92,
   "metadata": {},
   "outputs": [
    {
     "data": {
      "text/latex": [
       "$\\displaystyle 0$"
      ],
      "text/plain": [
       "0"
      ]
     },
     "execution_count": 92,
     "metadata": {},
     "output_type": "execute_result"
    }
   ],
   "source": [
    "L_xy"
   ]
  },
  {
   "cell_type": "code",
   "execution_count": 93,
   "metadata": {},
   "outputs": [
    {
     "data": {
      "text/latex": [
       "$\\displaystyle 2 x$"
      ],
      "text/plain": [
       "2*x"
      ]
     },
     "execution_count": 93,
     "metadata": {},
     "output_type": "execute_result"
    }
   ],
   "source": [
    "L_xl"
   ]
  },
  {
   "cell_type": "code",
   "execution_count": 94,
   "metadata": {},
   "outputs": [
    {
     "data": {
      "text/latex": [
       "$\\displaystyle 2 y$"
      ],
      "text/plain": [
       "2*y"
      ]
     },
     "execution_count": 94,
     "metadata": {},
     "output_type": "execute_result"
    }
   ],
   "source": [
    "L_yl"
   ]
  },
  {
   "cell_type": "markdown",
   "metadata": {},
   "source": [
    "Матрица Гессе $\\begin{pmatrix}\n",
    "0 & 2x & 2y\\\\\n",
    "2x & 2\\lambda & 0\\\\\n",
    "2y & 0 & 2\\lambda\n",
    "\\end{pmatrix} \\Rightarrow \\Delta = -8\\lambda(x^2+y^2)=-288\\lambda$"
   ]
  },
  {
   "cell_type": "markdown",
   "metadata": {},
   "source": [
    "$\\displaystyle \\lambda = -\\frac{5}{6} \\Rightarrow \\Delta > 0 \\Rightarrow \\Big(-\\frac{24}{5}, \\frac{18}{5} \\Big)$ - точка максимума"
   ]
  },
  {
   "cell_type": "markdown",
   "metadata": {},
   "source": [
    "$\\displaystyle \\lambda = \\frac{5}{6} \\Rightarrow \\Delta < 0 \\Rightarrow \\Big(\\frac{24}{5}, -\\frac{18}{5} \\Big)$ - точка минимума"
   ]
  },
  {
   "cell_type": "markdown",
   "metadata": {
    "colab_type": "text",
    "id": "cECfCSANkVqR"
   },
   "source": [
    "__2.__ Исследовать на условный экстремум функцию\n",
    "\n",
    "### $$U=2x^2+12xy+32y^2+15,$$\n",
    "\n",
    "если\n",
    "\n",
    "### $$x^2+16y^2=64$$"
   ]
  },
  {
   "cell_type": "markdown",
   "metadata": {},
   "source": [
    "$L(x, y, \\lambda)=2x^2+12xy+32y^2+15+\\lambda(x^2+16y^2-64)$"
   ]
  },
  {
   "cell_type": "code",
   "execution_count": 127,
   "metadata": {},
   "outputs": [
    {
     "data": {
      "text/latex": [
       "$\\displaystyle \\left\\{\\left( - 4 \\sqrt{2}, \\  - \\sqrt{2}, \\  - \\frac{7}{2}\\right), \\left( - 4 \\sqrt{2}, \\  \\sqrt{2}, \\  - \\frac{1}{2}\\right), \\left( 4 \\sqrt{2}, \\  - \\sqrt{2}, \\  - \\frac{1}{2}\\right), \\left( 4 \\sqrt{2}, \\  \\sqrt{2}, \\  - \\frac{7}{2}\\right)\\right\\}$"
      ],
      "text/plain": [
       "FiniteSet((-4*sqrt(2), sqrt(2), -1/2), (4*sqrt(2), sqrt(2), -7/2), (-4*sqrt(2), -sqrt(2), -7/2), (4*sqrt(2), -sqrt(2), -1/2))"
      ]
     },
     "execution_count": 127,
     "metadata": {},
     "output_type": "execute_result"
    }
   ],
   "source": [
    "L, x, y, l = symbols('L x y l')\n",
    "L = 2*x**2+12*x*y+32*y**2+15+l*(x**2+16*y**2-64)\n",
    "L_x = diff(L,x)\n",
    "L_y = diff(L,y)\n",
    "L_l = diff(L, l)\n",
    "nonlinsolve([L_x, L_y, L_l], [x, y, l])"
   ]
  },
  {
   "cell_type": "code",
   "execution_count": 96,
   "metadata": {},
   "outputs": [],
   "source": [
    "L_xx = diff(L,x,x)\n",
    "L_yy = diff(L,y,y)\n",
    "L_ll = diff(L, l,l)\n",
    "L_xy = diff(L,x, y)\n",
    "L_xl = diff(L,x, l)\n",
    "L_yl = diff(L, y, l)"
   ]
  },
  {
   "cell_type": "code",
   "execution_count": 97,
   "metadata": {},
   "outputs": [
    {
     "data": {
      "text/latex": [
       "$\\displaystyle 2 \\left(l + 2\\right)$"
      ],
      "text/plain": [
       "2*(l + 2)"
      ]
     },
     "execution_count": 97,
     "metadata": {},
     "output_type": "execute_result"
    }
   ],
   "source": [
    "L_xx"
   ]
  },
  {
   "cell_type": "code",
   "execution_count": 98,
   "metadata": {},
   "outputs": [
    {
     "data": {
      "text/latex": [
       "$\\displaystyle 32 \\left(l + 2\\right)$"
      ],
      "text/plain": [
       "32*(l + 2)"
      ]
     },
     "execution_count": 98,
     "metadata": {},
     "output_type": "execute_result"
    }
   ],
   "source": [
    "L_yy"
   ]
  },
  {
   "cell_type": "code",
   "execution_count": 99,
   "metadata": {},
   "outputs": [
    {
     "data": {
      "text/latex": [
       "$\\displaystyle 0$"
      ],
      "text/plain": [
       "0"
      ]
     },
     "execution_count": 99,
     "metadata": {},
     "output_type": "execute_result"
    }
   ],
   "source": [
    "L_ll"
   ]
  },
  {
   "cell_type": "code",
   "execution_count": 100,
   "metadata": {},
   "outputs": [
    {
     "data": {
      "text/latex": [
       "$\\displaystyle 12$"
      ],
      "text/plain": [
       "12"
      ]
     },
     "execution_count": 100,
     "metadata": {},
     "output_type": "execute_result"
    }
   ],
   "source": [
    "L_xy"
   ]
  },
  {
   "cell_type": "code",
   "execution_count": 101,
   "metadata": {},
   "outputs": [
    {
     "data": {
      "text/latex": [
       "$\\displaystyle 2 x$"
      ],
      "text/plain": [
       "2*x"
      ]
     },
     "execution_count": 101,
     "metadata": {},
     "output_type": "execute_result"
    }
   ],
   "source": [
    "L_xl"
   ]
  },
  {
   "cell_type": "code",
   "execution_count": 102,
   "metadata": {},
   "outputs": [
    {
     "data": {
      "text/latex": [
       "$\\displaystyle 32 y$"
      ],
      "text/plain": [
       "32*y"
      ]
     },
     "execution_count": 102,
     "metadata": {},
     "output_type": "execute_result"
    }
   ],
   "source": [
    "L_yl"
   ]
  },
  {
   "cell_type": "markdown",
   "metadata": {},
   "source": [
    "Матрица Гессе $\\begin{pmatrix}\n",
    "0 & 2x & 32y\\\\\n",
    "2x & 2\\lambda+4 & 12\\\\\n",
    "32y & 12 & 32\\lambda+64\n",
    "\\end{pmatrix} \\Rightarrow \\Delta = -2x(2x(32\\lambda+64)-16\\cdot 24y)+32y(24x-32y(2\\lambda+4))=64(2\\lambda+4)(x^2+16y^2)+64\\cdot 24xy=64^2(2\\lambda+4)+64\\cdot 24xy$"
   ]
  },
  {
   "cell_type": "markdown",
   "metadata": {},
   "source": [
    "$\\displaystyle \\Big(-4\\sqrt{2}, -\\sqrt{2}, -\\frac{7}{2}\\Big), \\Delta = 0$"
   ]
  },
  {
   "cell_type": "markdown",
   "metadata": {},
   "source": [
    "$\\displaystyle \\Big(-4\\sqrt{2}, \\sqrt{2}, -\\frac{1}{2}\\Big),  \\Delta=0$ "
   ]
  },
  {
   "cell_type": "markdown",
   "metadata": {},
   "source": [
    "$\\displaystyle \\Big(4\\sqrt{2}, -\\sqrt{2}, -\\frac{1}{2}\\Big), \\Delta=0$"
   ]
  },
  {
   "cell_type": "markdown",
   "metadata": {},
   "source": [
    "$\\displaystyle \\Big(4\\sqrt{2}, \\sqrt{2}, -\\frac{7}{2}\\Big), \\Delta=0$"
   ]
  },
  {
   "cell_type": "markdown",
   "metadata": {
    "colab_type": "text",
    "id": "DFrjdtbHkVqS"
   },
   "source": [
    "__3.__ Численно найти хотя бы один действительный корень системы нелинейных уравнений:\n",
    "### $$\\begin{cases}\n",
    "   x^2-y^2+3xy^3-2x^2y^2+2x-3y-5=0 \\\\\n",
    "   3y^3-2x^2+2x^3y-5x^2y^2+5=0\n",
    " \\end{cases}$$"
   ]
  },
  {
   "cell_type": "code",
   "execution_count": 40,
   "metadata": {},
   "outputs": [
    {
     "name": "stdout",
     "output_type": "stream",
     "text": [
      "1.7183960364691415 -0.31891371900285403 1\n"
     ]
    }
   ],
   "source": [
    "from scipy.optimize import fsolve\n",
    "import math\n",
    "\n",
    "def equations(p):\n",
    "    x, y = p\n",
    "    # Запись системы уравнения вида x+y=2, x-y=0\n",
    "    return (x**2-y**2+3*x*y-2*x**2*y**2+2*x-3*y-5, 3*y**2-2*x**2+2*x**2*y**2+5)\n",
    "\n",
    "# Численное решение системы уравнений\n",
    "(x, y), info, ier, mesg =  fsolve(equations, (0, 0), full_output=True)\n",
    "print (x, y, ier)"
   ]
  },
  {
   "cell_type": "markdown",
   "metadata": {
    "colab_type": "text",
    "id": "5la-eVLukVqT"
   },
   "source": [
    "__4*.__ Численно найти все $5$ действительных корней."
   ]
  },
  {
   "cell_type": "code",
   "execution_count": 58,
   "metadata": {},
   "outputs": [
    {
     "name": "stdout",
     "output_type": "stream",
     "text": [
      "(2.5, 0.9999)\n",
      "(1.7183, -0.3189)\n",
      "(4.4638, 0.9018)\n"
     ]
    }
   ],
   "source": [
    "from scipy.optimize import fsolve, broyden1\n",
    "import math\n",
    "\n",
    "def equations(p):\n",
    "    x, y = p\n",
    "    # Запись системы уравнения вида x+y=2, x-y=0\n",
    "    return (x**2-y**2+3*x*y-2*x**2*y**2+2*x-3*y-5, 3*y**2-2*x**2+2*x**2*y**2+5)\n",
    "\n",
    "# Численное решение системы уравнений\n",
    "solv = set()\n",
    "for n in np.arange(-20, 10, 0.1):\n",
    "    for s in np.arange(-5, 5, 0.1):\n",
    "        (x, y), info, ier, mesg =  fsolve(equations, (n, s), full_output=True)\n",
    "        if (ier == 1): solv.add((int(x*10**4)/10**4, int(y*10**4)/10**4))\n",
    "\n",
    "print(*solv, sep='\\n')"
   ]
  },
  {
   "cell_type": "markdown",
   "metadata": {
    "colab_type": "text",
    "id": "jJT2pGWCxqBZ"
   },
   "source": [
    "__5*.__ Даны две функции $y_{1}=f(x)$ и $y_{2}=g(x)$. Известно, что:\n",
    "\n",
    "### $$f'(x)=\\frac{1}{2}g(x)$$\n",
    "\n",
    "### $$g'(x)=2-2f(x)$$\n",
    "\n",
    "### $$f(0)=0$$\n",
    "\n",
    "### $$g(0)=1$$\n",
    "\n",
    "Восстановить функции $y_{1}=f(x)$ и $y_{2}=g(x)$ с помощью формулы:\n",
    "\n",
    "### $$f(x+\\Delta x) \\approx f(x)+f'(x) \\cdot \\Delta x$$\n",
    "\n",
    "на участке $[0, 20]$\n",
    "\n",
    "В качестве решения построить график этих функций в одной системе координат.\n"
   ]
  },
  {
   "cell_type": "markdown",
   "metadata": {},
   "source": [
    "### Решение:"
   ]
  },
  {
   "cell_type": "markdown",
   "metadata": {},
   "source": [
    "Решим систему уравнений, она выражается через дифференциальное уроавнение 2-го порядка от $f(x)$"
   ]
  },
  {
   "cell_type": "markdown",
   "metadata": {},
   "source": [
    "$ \\begin{cases}\n",
    "\\displaystyle f'(x)=\\frac{1}{2}g(x)\\\\\n",
    "g'(x)=2-2f(x)\n",
    "\\end{cases} \\Rightarrow \\begin{cases}\n",
    "g(x) = 2f'(x)\\\\\n",
    "g'(x)=2f''(x)\n",
    "\\end{cases} \\Rightarrow 2f''(x)+2f(x)-2=0 \\Rightarrow f''(x)+f(x)=1$"
   ]
  },
  {
   "cell_type": "markdown",
   "metadata": {},
   "source": [
    "Решаем сначала однородное уравнение $f''(x)+f(x)=0$ Характеристическое уроавнение будет: $\\lambda^2=-1$, тогда общее решение представимо в виде: $f(x)=C_1\\sin{x}+C_2\\cos{x}$"
   ]
  },
  {
   "cell_type": "markdown",
   "metadata": {},
   "source": [
    "Поскольку в правой части неоднородного уравнения $const$, то общее решение предсавимо в виде: $f(x)=C_1\\sin{x}+C_2\\cos{x}+C_3$"
   ]
  },
  {
   "cell_type": "markdown",
   "metadata": {},
   "source": [
    "Подставляя в исходную систему для условия $g'(x)=2-2f(x)$, а так же условия для $f(0)=0$ и $g(0)=1$ получаем:"
   ]
  },
  {
   "cell_type": "markdown",
   "metadata": {},
   "source": [
    "$\\begin{cases}\n",
    "\\displaystyle f(x)=\\frac{1}{2}\\sin{x}-\\cos{x}+1\\\\\n",
    "g(x)=\\cos{x}+2\\sin{x}\n",
    "\\end{cases}$"
   ]
  },
  {
   "cell_type": "code",
   "execution_count": 2,
   "metadata": {},
   "outputs": [
    {
     "data": {
      "image/png": "[encoded data removed]",
      "text/plain": [
       "<Figure size 432x288 with 1 Axes>"
      ]
     },
     "metadata": {
      "needs_background": "light"
     },
     "output_type": "display_data"
    }
   ],
   "source": [
    "import numpy as np\n",
    "import matplotlib.pyplot as plt\n",
    "x = np.linspace(0,20,100)\n",
    "y1=1/2*np.sin(x)-np.cos(x)+1\n",
    "y2=np.cos(x)+2*np.sin(x)\n",
    "plt.plot(x, y1, x, y2)\n",
    "plt.xlabel('x')\n",
    "plt.ylabel('y')\n",
    "plt.show()"
   ]
  },
  {
   "cell_type": "markdown",
   "metadata": {},
   "source": [
    "### Решение через сплайны"
   ]
  },
  {
   "cell_type": "code",
   "execution_count": 4,
   "metadata": {},
   "outputs": [
    {
     "data": {
      "image/png": "[encoded data removed]",
      "text/plain": [
       "<Figure size 432x288 with 1 Axes>"
      ]
     },
     "metadata": {
      "needs_background": "light"
     },
     "output_type": "display_data"
    }
   ],
   "source": [
    "import matplotlib.pyplot as plt\n",
    "from scipy.interpolate import splev, splrep\n",
    "import numpy as np\n",
    "\n",
    "n=10000\n",
    "l=20\n",
    "h=l/n\n",
    "x = np.arange (0, l, h)\n",
    "x = np.append(x,l)\n",
    "f = np.array([0])\n",
    "g = np.array([1])\n",
    "\n",
    "\n",
    "while(n != 0):\n",
    "    f = np.append(f, f[len(f)-1] + 0.5*g[len(f)-1]*h)\n",
    "    g = np.append(g, g[len(g)-1] + (2-2*f[len(g)-1])*h)\n",
    "    n-=1\n",
    "x2 = np.linspace(0, l, 200)\n",
    "\n",
    "spl_f = splrep(x, f)\n",
    "f2=splev(x2, spl_f)\n",
    "plt.plot(x2, f2, label=\"Функция f(x)\")\n",
    "\n",
    "\n",
    "spl_g = splrep(x, g)\n",
    "g2=splev(x2, spl_g)\n",
    "plt.plot(x2, g2, label=\"Функция g(x)\")\n",
    "\n",
    "\n",
    "plt.legend()\n",
    "plt.show()"
   ]
  },
  {
   "cell_type": "markdown",
   "metadata": {
    "colab_type": "text",
    "id": "9ixsx4-KxqBa"
   },
   "source": [
    "__6**.__ Найти все корни уравнения:\n",
    "    \n",
    "### $$f(x)=g(x)$$\n",
    "\n",
    "на участке $[0, 20]$\n",
    "\n",
    "Где $y_{1}=f(x)$ и $y_{2}=g(x)$ - функции из предыдущего решения."
   ]
  },
  {
   "cell_type": "markdown",
   "metadata": {},
   "source": [
    "### Решение:"
   ]
  },
  {
   "cell_type": "markdown",
   "metadata": {},
   "source": [
    "Уравнение $f(x)=g(x) \\Rightarrow \\displaystyle \\frac{1}{2}\\sin{x}-\\cos{x}+1=\\cos{x}+2\\sin{x}$ можно упростить до вида: $-3\\sin{x} - 4\\cos{x} = 2$"
   ]
  },
  {
   "cell_type": "code",
   "execution_count": 39,
   "metadata": {},
   "outputs": [
    {
     "name": "stdout",
     "output_type": "stream",
     "text": [
      "2.62581428\n",
      "4.94437324\n",
      "8.90899958\n",
      "11.22755855\n",
      "15.19218489\n",
      "17.51074385\n"
     ]
    }
   ],
   "source": [
    "from scipy.optimize import fsolve\n",
    "import math\n",
    "\n",
    "def equations(p):\n",
    "    x = p\n",
    "    # Запись системы уравнений\n",
    "    return (-3*np.sin(x) - 4*np.cos(x) - 2)\n",
    "\n",
    "# Численное решение системы уравнений\n",
    "solv = set()\n",
    "for n in np.arange(0,21):\n",
    "    x, info, ier, mesg =  fsolve(equations, n, full_output=True)\n",
    "    if (ier == 1 and x > 0 and x < 20): solv.add(int(x*10**8)/10**8)\n",
    "\n",
    "print(*solv, sep='\\n')"
   ]
  },
  {
   "cell_type": "code",
   "execution_count": null,
   "metadata": {},
   "outputs": [],
   "source": []
  }
 ],
 "metadata": {
  "kernelspec": {
   "display_name": "Python 3",
   "language": "python",
   "name": "python3"
  },
  "language_info": {
   "codemirror_mode": {
    "name": "ipython",
    "version": 3
   },
   "file_extension": ".py",
   "mimetype": "text/x-python",
   "name": "python",
   "nbconvert_exporter": "python",
   "pygments_lexer": "ipython3",
   "version": "3.7.7"
  }
 },
 "nbformat": 4,
 "nbformat_minor": 4
}
