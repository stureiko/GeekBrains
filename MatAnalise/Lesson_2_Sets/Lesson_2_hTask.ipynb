{
 "cells": [
  {
   "cell_type": "markdown",
   "metadata": {},
   "source": [
    "# Author: Стурейко Игорь\n",
    "## Project: Geekbrains.MatAnalise\n",
    "## Lesson 2 - Множества и последовательности\n",
    "## Date: 2020-05-15"
   ]
  },
  {
   "cell_type": "markdown",
   "metadata": {},
   "source": [
    "## 1 Введение и высказывания"
   ]
  },
  {
   "cell_type": "markdown",
   "metadata": {},
   "source": [
    "## 1.1 Как относятся друг к другу множество и последовательность? (в ответе использовать слова типа: часть, целое, общее, частное, родитель, дочерний субъект и т.д.)"
   ]
  },
  {
   "cell_type": "markdown",
   "metadata": {},
   "source": [
    "## 1.2 Прочитать высказывания математической логики, построить их отрицания и установить истинность:\n",
    "### 1.2.1 $\\forall y \\in [0; 1]: sgn(y) = 1$\n",
    "### 1.2.2 $\\forall n \\in \\mathbb{N} > 2 : \\exists x, y, z \\in \\mathbb{N}: x^n = y^n + z^n$\n",
    "### 1.2.3 $\\forall x \\in \\mathbb{R} \\exists \\mathbf{X} \\in \\mathbb{R} : \\mathbf{X} > x$\n",
    "### 1.2.4 $\\forall x \\in \\mathbb{C} \\nexists y \\in \\mathbb{C} : x > y || x < y$\n",
    "### 1.2.5 $\\forall y \\in [0; \\frac{\\pi}{2}] \\exists \\epsilon > 0: \\sin{y} < \\sin{(y + \\epsilon)}$\n",
    "### 1.2.6 $\\forall y \\in [0; \\pi) \\exists \\epsilon > 0 : \\cos{y} > \\cos{(y + \\epsilon)}$\n",
    "### 1.2.7 $\\exists x : x \\notin \\{\\mathbb{N}, \\mathbb{Z}, \\mathbb{Q}, \\mathbb{R}, \\mathbb{C}\\}$"
   ]
  },
  {
   "cell_type": "markdown",
   "metadata": {},
   "source": [
    "## 2. Множества"
   ]
  },
  {
   "cell_type": "markdown",
   "metadata": {},
   "source": [
    "### 2.1. Даны три множества a, b и с. Необходимо выполнить все изученные виды бинарных операций над всеми комбинациями множеств."
   ]
  },
  {
   "cell_type": "markdown",
   "metadata": {},
   "source": [
    "### 2.2 *Выполнить задание 1 на языке Python"
   ]
  },
  {
   "cell_type": "markdown",
   "metadata": {},
   "source": [
    "## 3 Последовательности"
   ]
  },
  {
   "cell_type": "markdown",
   "metadata": {},
   "source": [
    "### 3.1. Даны 4 последовательности. Необходимо:"
   ]
  },
  {
   "cell_type": "markdown",
   "metadata": {},
   "source": [
    "#### 3.1.1 исследовать их на монотонность;\n",
    "#### 3.1.2 исследовать на ограниченность;\n",
    "#### 3.1.3 найти пятый по счету член."
   ]
  },
  {
   "cell_type": "markdown",
   "metadata": {},
   "source": [
    "### $\\displaystyle \\left\\{ a_n \\right\\}_{n=1}^\\infty = 2^n - n$\n",
    "### $\\displaystyle \\left\\{ b_n \\right\\}_{n=2}^\\infty = \\frac{1}{1-n}$\n",
    "### $\\displaystyle \\left\\{ c_n \\right\\}_{n=1}^\\infty = -1^n + \\sqrt{2n}$\n",
    "### $\\displaystyle \\left\\{ d_n \\right\\}_{n=1}^\\infty = (-1)^{2n} + \\frac{1}{n^2}$"
   ]
  },
  {
   "cell_type": "markdown",
   "metadata": {},
   "source": [
    "### 3.2 Найти 12-й член заданной неявно последовательности.\n",
    "### $a_1 = 128, a_{n+1} - a_n = 6$"
   ]
  },
  {
   "cell_type": "markdown",
   "metadata": {},
   "source": [
    "### 3.3 *На языке Python предложить алгоритм вычисляющий численно предел $\\displaystyle \\lim_{n \\to +\\infty} \\frac{n}{\\sqrt[n]{n!}} $ с точностью $\\epsilon = 10^{-7}$"
   ]
  },
  {
   "cell_type": "markdown",
   "metadata": {},
   "source": [
    "### 3.4 *Предложить оптимизацию алгоритма, полученного в задании 3.3, ускоряющую его сходимость."
   ]
  },
  {
   "cell_type": "markdown",
   "metadata": {},
   "source": [
    "# ****************************"
   ]
  },
  {
   "cell_type": "markdown",
   "metadata": {},
   "source": [
    "# Решение:"
   ]
  },
  {
   "cell_type": "markdown",
   "metadata": {},
   "source": [
    "## 1.1 Как относятся друг к другу множество и последовательность? (в ответе использовать слова типа: часть, целое, общее, частное, родитель, дочерний субъект и т.д.)"
   ]
  },
  {
   "attachments": {},
   "cell_type": "markdown",
   "metadata": {},
   "source": [
    "**Множество** символизирует объект, сам состоящий из других объектов (элементов), объединенных по одному признаку.  \n",
    "**Последовательность** - _бесконечная выборка_ на *упорядоченном множестве* натуральных чисел.  \n",
    "**Выборка** - результат последовательного выбора *элементов множества*."
   ]
  },
  {
   "cell_type": "markdown",
   "metadata": {},
   "source": [
    "## 1.2 Прочитать высказывания математической логики, построить их отрицания и установить истинность:\n",
    "### 1.2.1 $\\forall y \\in [0; 1]: sgn(y) = 1$"
   ]
  },
  {
   "cell_type": "markdown",
   "metadata": {},
   "source": [
    "Для любого $y$ принадлежащего интервалу от 0 включительно до 1 включительно верно, что знак $y$ равен 1.  \n",
    "Высказывание не верно. В соотвествии с определением функции $sgn$ в точке = 0 она имеет значение равное 0.  \n",
    "Отрицание: $\\exists y \\in [0;1]: sgn(y) \\neq 1$"
   ]
  },
  {
   "cell_type": "markdown",
   "metadata": {},
   "source": [
    "### 1.2.2 $\\forall n \\in \\mathbb{N} > 2 : \\exists x, y, z \\in \\mathbb{N}: x^n = y^n + z^n$"
   ]
  },
  {
   "cell_type": "markdown",
   "metadata": {},
   "source": [
    "Для любого $n$ принадлежащего множеству натуральных чисел и строго больше 2-х существуют такие $x, y, z$ принадлежащие множеству натуральных чисел, что верно: $x^n = y^n + z^n$  \n",
    "Высказывание ложно. Данное высказывание представляет собой противоречие теоремы Ферма:\n",
    "Для любого натурального $n > 2$ уравнение $x^n = y^n + z^n$ не имеет решения в натуральных числах.  \n",
    "Отрицание: $\\exists n \\in \\mathbb{N} > 2 : \\forall x, y, z \\in \\mathbb{N}: x^n \\neq y^n + z^n$"
   ]
  },
  {
   "cell_type": "markdown",
   "metadata": {},
   "source": [
    "### 1.2.3 $\\forall x \\in \\mathbb{R} \\exists \\mathbf{X} \\in \\mathbb{R} : \\mathbf{X} > x$"
   ]
  },
  {
   "cell_type": "markdown",
   "metadata": {},
   "source": [
    "Для любого вещественного $x$ существует подмножество $\\mathbf{X}$ вещественных чисел для которого любой элемент больше $x$.  \n",
    "Высказывание верно. Отражает бесконечность множества вещественных чисел.  \n",
    "Отрицание: $\\exists x \\in \\mathbb{R} \\forall \\mathbf{X} \\in \\mathbb{R}: \\mathbf{X} < x$"
   ]
  },
  {
   "cell_type": "markdown",
   "metadata": {},
   "source": [
    "### 1.2.4 $\\forall x \\in \\mathbb{C} \\nexists y \\in \\mathbb{C} : x > y || x < y$"
   ]
  },
  {
   "cell_type": "markdown",
   "metadata": {},
   "source": [
    "Для любого $x$ принадлежащего множеству комплексных чисел не существует такого $y$ принадлежащего множеству комплексных чисел для которого справедливо что $x$ больше $y$ или $x$ меньше $y$.  \n",
    "Высказывание справедливо. Отражает невозможность сравнения комплексных чисел.  \n",
    "Отрицание: $\\nexists x \\in \\mathbb{C} \\forall y \\in \\mathbb{C}: x < y \\& x < y$"
   ]
  },
  {
   "cell_type": "markdown",
   "metadata": {},
   "source": [
    "### 1.2.5 $\\forall y \\in [0; \\frac{\\pi}{2}] \\exists \\epsilon > 0: \\sin{y} < \\sin{(y + \\epsilon)}$"
   ]
  },
  {
   "cell_type": "markdown",
   "metadata": {},
   "source": [
    "Для любого $y$ принадлежащего отрезку от 0 включительно до $\\frac{\\pi}{2}$ включительно существует такое $\\epsilon$ что для него справедливо $\\sin{y} < \\sin{(y + \\epsilon)}$.  \n",
    "Высказывание не верно. Отражает монотонное возрастание $sin$ на отрезке от 0 до $\\frac{\\pi}{2}$. Вместе с тем в точке $\\frac{\\pi}{2}$ существует $\\epsilon > 0$ для которого неравенство не справедливо.  \n",
    "Отрицание: $\\exists y \\in [0; \\frac{\\pi}{2}] \\forall \\epsilon > 0: \\sin{y} > sin{(y + \\epsilon)}$"
   ]
  },
  {
   "cell_type": "markdown",
   "metadata": {},
   "source": [
    "### 1.2.6 $\\forall y \\in [0; \\pi) \\exists \\epsilon > 0 : \\cos{y} > \\cos{(y + \\epsilon)}$"
   ]
  },
  {
   "cell_type": "markdown",
   "metadata": {},
   "source": [
    "Для любого $y$ принадлежащего отрезку от 0 включительно до $\\pi$ не включительно существует такое $\\epsilon$ большее 0, что верно: $\\cos{y} > \\cos{(y + \\epsilon)}$   \n",
    "Высказывание верно. Отражает монотонное убывание $\\cos$ на отрезке от 0 до $\\pi$ не включительно.  \n",
    "Отрицание: $\\exists y \\in [0; \\pi) \\forall \\epsilon > 0 : \\cos{y} < \\cos{(y + \\epsilon)}$"
   ]
  },
  {
   "cell_type": "markdown",
   "metadata": {},
   "source": [
    "### 1.2.7 $\\exists x : x \\notin \\{\\mathbb{N}, \\mathbb{Z}, \\mathbb{Q}, \\mathbb{R}, \\mathbb{C}\\}$"
   ]
  },
  {
   "cell_type": "markdown",
   "metadata": {},
   "source": [
    "Существует $x$ не принадлежащий множеству натуральных, целых, рациональных, вещественных, комплексных чисел.  \n",
    "Высказывание верно. Существуют гиперкомплексные числа.  \n",
    "Отрицание: $\\forall x : x \\in \\{\\mathbb{N}, \\mathbb{Z}, \\mathbb{Q}, \\mathbb{R}, \\mathbb{C}\\}$"
   ]
  },
  {
   "cell_type": "markdown",
   "metadata": {},
   "source": [
    "### 2.1. Даны три множества a, b и с. Необходимо выполнить все изученные виды бинарных операций над всеми комбинациями множеств."
   ]
  },
  {
   "cell_type": "markdown",
   "metadata": {},
   "source": [
    "Бинарные операции над множествами:\n",
    "* объединение $A \\cup B$\n",
    "* пересечение $A \\cap B$\n",
    "* разность $A \\backslash B$\n",
    "* симметрическая разность $A \\bigtriangleup B$\n",
    "* декартово произведение $A \\times B$"
   ]
  },
  {
   "cell_type": "markdown",
   "metadata": {},
   "source": [
    "**Объединение**: $A \\cup B \\cup C, A \\cup B, A \\cup C, B \\cup C$"
   ]
  },
  {
   "cell_type": "markdown",
   "metadata": {},
   "source": [
    "**Пересечение**: $A \\cap B \\cap C, A \\cap B, A \\cap C, B \\cap C$"
   ]
  },
  {
   "cell_type": "markdown",
   "metadata": {},
   "source": [
    "**Разность**: $A \\backslash B \\backslash C, A \\backslash B, A \\backslash C, B \\backslash C$"
   ]
  },
  {
   "cell_type": "markdown",
   "metadata": {},
   "source": [
    "**Симметрическая разность**: $A \\bigtriangleup B \\bigtriangleup C, A \\bigtriangleup B, A \\bigtriangleup C, B \\bigtriangleup C$"
   ]
  },
  {
   "cell_type": "markdown",
   "metadata": {},
   "source": [
    "### 2.2 *Выполнить задание 1 на языке Python"
   ]
  },
  {
   "cell_type": "code",
   "execution_count": 20,
   "metadata": {},
   "outputs": [
    {
     "data": {
      "text/markdown": [
       "a $\\cup$ b"
      ],
      "text/plain": [
       "<IPython.core.display.Markdown object>"
      ]
     },
     "metadata": {},
     "output_type": "display_data"
    },
    {
     "data": {
      "text/markdown": [
       "a $\\cup$ c"
      ],
      "text/plain": [
       "<IPython.core.display.Markdown object>"
      ]
     },
     "metadata": {},
     "output_type": "display_data"
    },
    {
     "data": {
      "text/markdown": [
       "b $\\cup$ a"
      ],
      "text/plain": [
       "<IPython.core.display.Markdown object>"
      ]
     },
     "metadata": {},
     "output_type": "display_data"
    },
    {
     "data": {
      "text/markdown": [
       "b $\\cup$ c"
      ],
      "text/plain": [
       "<IPython.core.display.Markdown object>"
      ]
     },
     "metadata": {},
     "output_type": "display_data"
    },
    {
     "data": {
      "text/markdown": [
       "c $\\cup$ a"
      ],
      "text/plain": [
       "<IPython.core.display.Markdown object>"
      ]
     },
     "metadata": {},
     "output_type": "display_data"
    },
    {
     "data": {
      "text/markdown": [
       "c $\\cup$ b"
      ],
      "text/plain": [
       "<IPython.core.display.Markdown object>"
      ]
     },
     "metadata": {},
     "output_type": "display_data"
    }
   ],
   "source": [
    "from IPython.display import Markdown, display\n",
    "seq = ['a', 'b', 'c']\n",
    "for i in seq:\n",
    "    for j in seq:\n",
    "        if i != j:\n",
    "            display(Markdown(f'{i} $\\cup$ {j}'))"
   ]
  },
  {
   "cell_type": "markdown",
   "metadata": {},
   "source": [
    "### 3.1. Даны 4 последовательности. Необходимо:"
   ]
  },
  {
   "cell_type": "markdown",
   "metadata": {},
   "source": [
    "### $\\displaystyle \\left\\{ a_n \\right\\}_{n=1}^\\infty = 2^n - n$\n",
    "### $\\displaystyle \\left\\{ b_n \\right\\}_{n=2}^\\infty = \\frac{1}{1-n}$\n",
    "### $\\displaystyle \\left\\{ c_n \\right\\}_{n=1}^\\infty = -1^n + \\sqrt{2n}$\n",
    "### $\\displaystyle \\left\\{ d_n \\right\\}_{n=1}^\\infty = (-1)^{2n} + \\frac{1}{n^2}$"
   ]
  },
  {
   "cell_type": "markdown",
   "metadata": {},
   "source": [
    "#### 3.1.1 исследовать их на монотонность;"
   ]
  },
  {
   "cell_type": "markdown",
   "metadata": {},
   "source": [
    "$\\displaystyle \\left\\{ a_n \\right\\}_{n=1}^\\infty = 2^n - n: a_n - a_{n+1} = 2^n - n - (2^{n+1} - (n+1)) = 2^n - n - 2\\cdot2^n + n + 1 = 1 - 2^n < 0, \\forall n > 1 \\Rightarrow$ последовательность монотонно возрастает"
   ]
  },
  {
   "cell_type": "markdown",
   "metadata": {},
   "source": [
    "$\\displaystyle \\left\\{ b_n \\right\\}_{n=2}^\\infty = \\frac{1}{1-n}: b_n - b_{n+1} = \\frac{1}{1-n} - \\frac{1}{1-n+1} = \\frac{1}{1-n} - \\frac{1}{2-n} > 0, \\forall n > 2 \\Rightarrow$ последовательность монотонно убывает"
   ]
  },
  {
   "cell_type": "markdown",
   "metadata": {},
   "source": [
    "$\\displaystyle \\left\\{ c_n \\right\\}_{n=1}^\\infty = (-1)^n + \\sqrt{2n}: c_n - c_{n+1} = (-1)^n + \\sqrt{2n} - ((-1)^{n+1} + \\sqrt{2(n+1)}) = (-1)^n + \\sqrt{2n} + (-1)^n - \\sqrt{2n+2} =2(-1)^n + \\sqrt{2n} - \\sqrt{2n+2}, \\sqrt{2n} - \\sqrt{2n+2} < 0, \\forall n > 1, 2(-1)^n = \\pm 2$ в зависимости от $n \\Rightarrow$ последовательность знакопеременна"
   ]
  },
  {
   "cell_type": "markdown",
   "metadata": {},
   "source": [
    "$\\displaystyle \\left\\{ d_n \\right\\}_{n=1}^\\infty = (-1)^{2n} + \\frac{1}{n^2}: d_n - d_{n+1} = (-1)^{2n} + \\frac{1}{n^2} - \\Big((-1)^{2n+1} + \\frac{1}{(n+1)^2}\\Big) = (-1)^{2n} + \\frac{1}{n^2} + (-1)^{2n} - \\frac{1}{(n+1)^2} = 2(-1)^{2n} + \\frac{1}{n^2} - \\frac{1}{(n+1)^2} > 0, \\forall n > 1 \\Rightarrow $ последовательность монотонно убывающая"
   ]
  },
  {
   "cell_type": "markdown",
   "metadata": {},
   "source": [
    "#### 3.1.2 исследовать на ограниченность;"
   ]
  },
  {
   "cell_type": "markdown",
   "metadata": {},
   "source": [
    "$\\displaystyle \\left\\{ a_n \\right\\}_{n=1}^\\infty = 2^n - n, n \\rightarrow \\infty, a_n \\rightarrow \\infty \\Rightarrow$ последовательност не граничена"
   ]
  },
  {
   "cell_type": "markdown",
   "metadata": {},
   "source": [
    "$\\displaystyle \\left\\{ b_n \\right\\}_{n=2}^\\infty = \\frac{1}{1-n}, n \\rightarrow \\infty, b_n \\rightarrow 0 \\Rightarrow$ последовательнсть ограничена "
   ]
  },
  {
   "cell_type": "markdown",
   "metadata": {},
   "source": [
    "$\\displaystyle \\left\\{ c_n \\right\\}_{n=1}^\\infty = (-1)^n + \\sqrt{2n}, n \\rightarrow \\infty, c_n \\rightarrow \\pm \\infty \\Rightarrow$ последовательность неограничена"
   ]
  },
  {
   "cell_type": "markdown",
   "metadata": {},
   "source": [
    "$\\displaystyle \\left\\{ d_n \\right\\}_{n=1}^\\infty = (-1)^{2n} + \\frac{1}{n^2}, n \\rightarrow \\infty, d_n \\rightarrow 0 \\Rightarrow$ последоваельность ограничена"
   ]
  },
  {
   "cell_type": "markdown",
   "metadata": {},
   "source": [
    "### 3.2 Найти 12-й член заданной неявно последовательности.\n",
    "### $a_1 = 128, a_{n+1} - a_n = 6$"
   ]
  },
  {
   "cell_type": "markdown",
   "metadata": {},
   "source": [
    "$a_1 = 128, a_2 = 128 + 6, \\dots, a_{12} = 128 + 6 \\cdot 11 = 194$"
   ]
  },
  {
   "cell_type": "markdown",
   "metadata": {},
   "source": [
    "### 3.3 *На языке Python предложить алгоритм вычисляющий численно предел $\\displaystyle \\lim_{n \\to +\\infty} \\frac{n}{\\sqrt[n]{n!}} $ с точностью $\\epsilon = 10^{-7}$"
   ]
  },
  {
   "cell_type": "markdown",
   "metadata": {},
   "source": [
    "Сложность прямой оценки - вычисление факориала. Воспользуемся формулой Стирлинга: $\\displaystyle n! \\sim \\sqrt{2\\pi n}\\Big(\\frac{n}{e}\\Big)^n \\Rightarrow \\frac{n}{\\sqrt[n]{n!}} = \\frac{\\not n e}{\\not n\\sqrt[2n]{2\\pi n}}=\\frac{e}{\\sqrt[2n]{2\\pi n}}$"
   ]
  },
  {
   "cell_type": "code",
   "execution_count": 34,
   "metadata": {},
   "outputs": [],
   "source": [
    "import math"
   ]
  },
  {
   "cell_type": "code",
   "execution_count": 49,
   "metadata": {},
   "outputs": [],
   "source": [
    "def get_next(i):\n",
    "    return math.e/math.pow(2*math.pi*i, 1/(2*i))"
   ]
  },
  {
   "cell_type": "code",
   "execution_count": 50,
   "metadata": {},
   "outputs": [
    {
     "data": {
      "text/plain": [
       "1.9256594916164491"
      ]
     },
     "execution_count": 50,
     "metadata": {},
     "output_type": "execute_result"
    }
   ],
   "source": [
    "get_next(5)"
   ]
  },
  {
   "cell_type": "code",
   "execution_count": 53,
   "metadata": {},
   "outputs": [
    {
     "name": "stdout",
     "output_type": "stream",
     "text": [
      "11779 9.999648042935405e-08\n"
     ]
    }
   ],
   "source": [
    "eps = 1e-7\n",
    "i = 2\n",
    "while (get_next(i) - get_next(i-1)) > eps:\n",
    "    i += 1\n",
    "print(i, get_next(i)-get_next(i-1))"
   ]
  },
  {
   "cell_type": "markdown",
   "metadata": {},
   "source": [
    "### 3.4 *Предложить оптимизацию алгоритма, полученного в задании 3.3, ускоряющую его сходимость."
   ]
  },
  {
   "cell_type": "code",
   "execution_count": 54,
   "metadata": {},
   "outputs": [
    {
     "name": "stdout",
     "output_type": "stream",
     "text": [
      "12002 9.64926094582097e-08\n"
     ]
    }
   ],
   "source": [
    "eps = 1e-7\n",
    "i = 2\n",
    "while (get_next(i) - get_next(i-1)) > eps:\n",
    "    i += 1000\n",
    "print(i, get_next(i)-get_next(i-1))"
   ]
  },
  {
   "cell_type": "code",
   "execution_count": null,
   "metadata": {},
   "outputs": [],
   "source": []
  }
 ],
 "metadata": {
  "kernelspec": {
   "display_name": "Python 3",
   "language": "python",
   "name": "python3"
  },
  "language_info": {
   "codemirror_mode": {
    "name": "ipython",
    "version": 3
   },
   "file_extension": ".py",
   "mimetype": "text/x-python",
   "name": "python",
   "nbconvert_exporter": "python",
   "pygments_lexer": "ipython3",
   "version": "3.7.7"
  }
 },
 "nbformat": 4,
 "nbformat_minor": 2
}
