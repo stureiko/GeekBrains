{
 "cells": [
  {
   "cell_type": "markdown",
   "metadata": {
    "colab_type": "text",
    "id": "zz7SDkPIkVlM"
   },
   "source": [
    "# Урок 11"
   ]
  },
  {
   "cell_type": "markdown",
   "metadata": {
    "colab_type": "text",
    "id": "p_3vqG5-kVlP"
   },
   "source": [
    "# Ряды"
   ]
  },
  {
   "cell_type": "markdown",
   "metadata": {
    "colab_type": "text",
    "id": "5G2zskUrErfu"
   },
   "source": [
    "Сегодня на уроке мы познакомимся с новыми темами:\n",
    "\n",
    "- сходимость знакопостоянных рядов;\n",
    "- сходимость знакопеременных рядов;\n",
    "- ряд Тейлора (Маклорена);\n",
    "- ряд Фурье."
   ]
  },
  {
   "cell_type": "markdown",
   "metadata": {
    "colab_type": "text",
    "id": "GXlTDVjkErf5"
   },
   "source": [
    "### Определение "
   ]
  },
  {
   "cell_type": "markdown",
   "metadata": {
    "colab_type": "text",
    "id": "Shjc9GRFErf6"
   },
   "source": [
    "Определение ряда напрямую связано с последовательностями, которые мы проходили на первых уроках. По сути ряд - это бесконечная \"сумма\" элементов последовательности. \n",
    "\n",
    "### $$a_{1}+a_{2}+a_{3}+\\,...\\,+a_{n}+\\,...\\,=\\sum\\limits_{n=1}^{+\\infty}a_{n}$$\n",
    "\n",
    "__Почему сумма в кавычках?__ Потому что разность $2-3$ мы так же можем считать суммой двух чисел $2$ и $-3$. Т.е. $2+(-3)$."
   ]
  },
  {
   "cell_type": "markdown",
   "metadata": {
    "colab_type": "text",
    "id": "Xe7GhWDcErf7"
   },
   "source": [
    "### Сходимость"
   ]
  },
  {
   "cell_type": "markdown",
   "metadata": {
    "colab_type": "text",
    "id": "vkw-wrNdErf8"
   },
   "source": [
    "Что значит сходимость ряда? Это значит что мы можем найти сумму ряда. Т.е. сумма не растет до бесконечности, а собирается в определенное число. \n",
    "\n",
    "Самым простым примером сходящегося ряда является бесконечно убывающая геометрическая прогрессия. Например:\n",
    "\n",
    "### $$\\sum\\limits_{n=1}^{+\\infty}\\frac{1}{2^n}=\\frac{1}{2}+\\frac{1}{4}+\\frac{1}{8}+\\,...\\,=\\frac{a_{1}}{1-q}=\\frac{\\frac{1}{2}}{1-\\frac{1}{2}}=1$$\n",
    "\n",
    "__Необходимым условием__ сходимости любого ряда является стремлению к нулю главного члена ряда. \n",
    "\n",
    "### $$\\lim_{n\\to +\\infty}a_{n}=0$$\n",
    "\n",
    "__Достаточных условий__ довольно много. Чтобы их легче усвоить, разобьём их на две группы:  для знакопостоянных рядов и для знакопеременных рядов.\n",
    "\n",
    "Пример знакопостоянного ряда:\n",
    "\n",
    "### $$1+2+3+4+5+\\,...$$\n",
    "\n",
    "Пример знакопеременного ряда:\n",
    "\n",
    "### $$1-2+3-4+5-\\,...$$\n",
    "\n",
    "Достаточной одной смены знака для того, чтобы ряд считать знакопеременным:\n",
    "\n",
    "### $$1-2+3+4+5+\\,...$$"
   ]
  },
  {
   "cell_type": "markdown",
   "metadata": {
    "colab_type": "text",
    "id": "COUNnTtpErf9"
   },
   "source": [
    "### Сходимость знакопостоянных рядов"
   ]
  },
  {
   "cell_type": "markdown",
   "metadata": {
    "colab_type": "text",
    "id": "M_jI9T-5Erf-"
   },
   "source": [
    "Для знакопостоянных рядов выделим следующие основные признаки, хотя их на самом деле больше:\n",
    "1. Первый признак сравнения.\n",
    "2. Второй признак сравнения.\n",
    "3. Признак д’Аламбера.\n",
    "4. Радикальный признак Коши.\n",
    "5. Интегральный признак Коши.\n",
    "6. Признак Раабе.\n",
    "8. Критерий Коши.\n",
    "\n",
    "Несмотря на такое обилие признаков, как правило пользуются только двумя. Это вторым признаком сравнения и признак д’Аламбера."
   ]
  },
  {
   "cell_type": "markdown",
   "metadata": {
    "colab_type": "text",
    "id": "iw9nCKq3Erf_"
   },
   "source": [
    "#### Второй признак сравнения.\n",
    "\n",
    "Это сравнение со степенным рядом $O\\Bigr(\\frac{1}{n^p}\\Bigl)$. Естественно, если это возможно. \n",
    "\n",
    "- если степень $p>1$, то ряд сходится. \n",
    "- во всех остальных случаях расходится.\n",
    "\n",
    "Рассмотрим примеры:\n",
    "\n",
    "1. \n",
    "### $$\\frac{1}{1001}+\\frac{1}{2001}+\\,...\\,+\\frac{1}{1000n+1}+\\,...\\,\\,\\,\\,\\,\\,\\sim\\,\\,\\,\\,\\,\\,O\\Bigr(\\frac{1}{n^1}\\Bigl)$$\n",
    "т.к. степень равна $1\\leq1$, то ряд расходится.\n",
    "\n",
    "2. \n",
    "### $$1+\\frac{1}{3^2}+\\frac{1}{5^2}+\\,...\\,+\\frac{1}{(2n-1)^2}+\\,...\\,\\,\\,\\,\\,\\,\\sim\\,\\,\\,\\,\\,\\,O\\Bigr(\\frac{1}{n^2}\\Bigl)$$\n",
    "т.к. степень равна $2>1$, то ряд сходится.\n",
    "\n",
    "3. \n",
    "### $$1+\\frac{2}{3}+\\frac{3}{5}+\\,...\\,+\\frac{n}{2n-1}+\\,...\\,\\,\\,\\,\\,\\,\\sim\\,\\,\\,\\,\\,\\,O\\Bigr(\\frac{1}{n^0}\\Bigl)$$\n",
    "т.к. степень равна $0\\leq1$, то ряд расходится. Хотя в данном примере не выполняется даже необходимое условие сходимости:\n",
    "\n",
    "### $$\\lim_{n\\to +\\infty}a_{n}=\\lim_{n\\to +\\infty}\\frac{n}{2n-1}=\\frac{1}{2}\\neq0$$"
   ]
  },
  {
   "cell_type": "markdown",
   "metadata": {
    "colab_type": "text",
    "id": "F2vxLAU9ErgB"
   },
   "source": [
    "#### Первый признак сравнения.\n",
    "\n",
    "Данный признак крайне редко используется на практике. Но изучим его, чтобы не путать со вторым признаком сравнения. Первый признак сравнения - это аналог теоремы о двух милиционерах. \n",
    "\n",
    "Пусть у нас есть сходящийся ряд\n",
    "\n",
    "### $$b_{1}+b_{2}+b_{3}+...+b_{n}+\\,...\\,=\\sum\\limits_{n=1}^{+\\infty}b_{n}$$\n",
    "\n",
    "При этом так же существует ряд \n",
    "\n",
    "### $$a_{1}+a_{2}+a_{3}+...+a_{n}+\\,...\\,=\\sum\\limits_{n=1}^{+\\infty}a_{n}$$\n",
    "\n",
    "для которого: \n",
    "\n",
    "### $$0\\leq a_{n}\\leq b_{n}$$ \n",
    "\n",
    "Этого достаточно , чтобы ряд $\\sum\\limits_{n=1}^{+\\infty}a_{n}$ так же сходился."
   ]
  },
  {
   "cell_type": "markdown",
   "metadata": {
    "colab_type": "text",
    "id": "pJRbPC9DErgC"
   },
   "source": [
    "#### Признак д’Аламбера.\n",
    "\n",
    "Это основной признак для знакопостоянных рядов.\n",
    "\n",
    "Возьмем ряд \n",
    "\n",
    "### $$a_{1}+a_{2}+a_{3}+...+a_{n}+\\,...\\,=\\sum\\limits_{n=1}^{+\\infty}a_{n}$$\n",
    "\n",
    "и расмотрим следущий предел:\n",
    "\n",
    "### $$\\lim_{n\\to +\\infty}\\frac{a_{n+1}}{a_{n}}=q$$\n",
    "\n",
    "- если $q<1$, то ряд сходится;\n",
    "- если $q>1$, то ряд расходится;\n",
    "- если $q=1$, то признак д’Аламбера не работает.\n",
    "\n",
    "Расмотрим примеры:\n",
    "\n",
    "1. \n",
    "### $$\\frac{1}{2}+\\frac{1}{4}+\\,...\\,+\\frac{1}{2^n}+\\,...\\,=\\sum\\limits_{n=1}^{+\\infty}\\frac{1}{2^n}$$\n",
    "\n",
    "Найдем предел:\n",
    "\n",
    "### $$\\lim_{n\\to +\\infty}\\frac{a_{n+1}}{a_{n}}=\\lim_{n\\to +\\infty}\\frac{1}{2^{n+1}}:\\frac{1}{2^{n}}=\\frac{1}{2}$$\n",
    "\n",
    "т.к. предел равен $\\frac{1}{2}<1$, то ряд сходится.\n",
    "\n",
    "2. \n",
    "### $$\\frac{1}{2}+\\frac{3}{2^2}+\\,...\\,+\\frac{2n-1}{2^n}+\\,...\\,=\\sum\\limits_{n=1}^{+\\infty}\\frac{2n-1}{2^n}$$\n",
    "\n",
    "Найдем предел:\n",
    "\n",
    "### $$\\lim_{n\\to +\\infty}\\frac{a_{n+1}}{a_{n}}=\\lim_{n\\to +\\infty}\\frac{2n+1}{2^{n+1}}:\\frac{2n-1}{2^n}=$$\n",
    "\n",
    "### $$=\\lim_{n\\to +\\infty}\\frac{2n+1}{2(2n-1)}=\\frac{1}{2}$$\n",
    "\n",
    "т.к. предел равен $\\frac{1}{2}<1$, то ряд сходится.\n",
    "\n",
    "3. \n",
    "### $$1+\\frac{1}{3^2}+\\frac{1}{5^2}+\\,...\\,+\\frac{1}{(2n-1)^2}+\\,...\\,=\\sum\\limits_{n=1}^{+\\infty}\\frac{1}{(2n-1)^2}$$\n",
    "\n",
    "Мы уже рассматривали этот пример и доказали сходимость этого ряда по второму признаку сравнения.\n",
    "\n",
    "Найдем предел:\n",
    "\n",
    "### $$\\lim_{n\\to +\\infty}\\frac{a_{n+1}}{a_{n}}=\\lim_{n\\to +\\infty}\\frac{1}{(2n+1)^2}:\\frac{1}{(2n-1)^2}=1$$\n",
    "\n",
    "### $$=\\lim_{n\\to +\\infty}\\frac{(2n-1)^2}{(2n+1)^2}=1$$\n",
    "\n",
    "т.к. предел равен $1=1$, то в данном случае признак д’Аламбера не работает. \n",
    "\n",
    "__Второй признак сравнения и признак д’Аламбера хорошо дополняют друг друга. С их помощью можно  доказать сходимость ряда практически всегда.__"
   ]
  },
  {
   "cell_type": "markdown",
   "metadata": {
    "colab_type": "text",
    "id": "4ebk_uqdErgD"
   },
   "source": [
    "#### Радикальный признак Коши\n",
    "\n",
    "Данный признак явдяется аналогом признаком д’Аламбера.\n",
    "\n",
    "Возьмем ряд \n",
    "\n",
    "### $$a_{1}+a_{2}+a_{3}+...+a_{n}+\\,...\\,=\\sum\\limits_{n=1}^{+\\infty}a_{n}$$\n",
    "\n",
    "и рассмотрим следящий предел:\n",
    "\n",
    "### $$\\lim_{n\\to +\\infty}\\sqrt[n]{a_{n}}=q$$\n",
    "\n",
    "- если $q<1$, то ряд сходится;\n",
    "- если $q>1$, то ряд расходится;\n",
    "- если $q=1$, то радикальный признак Коши не работает.\n",
    "\n",
    "Рассмотрим пример:\n",
    "\n",
    "### $$\\frac{1}{2}+\\frac{2}{2^2}+\\,...\\,+\\frac{n}{2^n}+\\,...\\,=\\sum\\limits_{n=1}^{+\\infty}\\frac{n}{2^n}$$\n",
    "\n",
    "Найдем предел:\n",
    "\n",
    "### $$\\lim_{n\\to +\\infty}\\sqrt[n]{a_{n}}=\\lim_{n\\to +\\infty}\\sqrt[n]{\\frac{n}{2^n}}=$$\n",
    "\n",
    "### $$=\\lim_{n\\to +\\infty}\\frac{\\sqrt[n]{n}}{2}=\\frac{1}{2}$$\n",
    "\n",
    "т.к. предел равен $\\frac{1}{2}<1$, то ряд сходится.\n",
    "\n",
    "Давайте покажем, что в данном случае можно обойтись и признаком д’Аламбера.\n",
    "\n",
    "Найдем предел:\n",
    "\n",
    "### $$\\lim_{n\\to +\\infty}\\frac{a_{n+1}}{a_{n}}=\\lim_{n\\to +\\infty}\\frac{n+1}{2^{n+1}}:\\frac{n}{2^{n}}=$$\n",
    "\n",
    "### $$=\\lim_{n\\to +\\infty}\\frac{n+1}{2n}=\\frac{1}{2}$$\n",
    "\n",
    "т.к. предел равен $\\frac{1}{2}<1$, то ряд сходится."
   ]
  },
  {
   "cell_type": "markdown",
   "metadata": {
    "colab_type": "text",
    "id": "9JHgYtWcErgI"
   },
   "source": [
    "#### Интегральный признак Коши.\n",
    "\n",
    "Довольно редко применяющийся признак. \n",
    "\n",
    "Возьмем ряд \n",
    "\n",
    "### $$a_{1}+a_{2}+a_{3}+...+a_{n}+\\,...\\,=\\sum\\limits_{n=1}^{+\\infty}a_{n}$$\n",
    "\n",
    "Тогда этот ряд сходится одновременно с несобственным интегралом\n",
    "\n",
    "### $$\\int\\limits_{1}^{+\\infty}a_{x}\\,dx$$\n",
    "\n",
    "__Другими словами:__ если мы сможем посчитать этот интеграл, то ряд сходится.\n",
    "\n",
    "Рассмотрим примеры:\n",
    "\n",
    "1. \n",
    "### $$\\frac{1}{2\\ln2}+\\frac{1}{3\\ln3}+\\,...\\,+\\frac{1}{(n+1)\\ln(n+1)}+\\,...\\,=\\sum\\limits_{n=1}^{+\\infty}\\frac{1}{(n+1)\\ln(n+1)}$$\n",
    "\n",
    "Докажем расходимость этого ряда найдя интеграл:\n",
    "\n",
    "### $$\\int\\limits_{1}^{+\\infty}\\frac{dx}{(x+1)\\ln(x+1)}$$"
   ]
  },
  {
   "cell_type": "code",
   "execution_count": null,
   "metadata": {
    "colab": {},
    "colab_type": "code",
    "id": "W-bdXQWEErgR",
    "outputId": "4553b2f8-3fcd-4302-bc68-00c823c8249f"
   },
   "outputs": [
    {
     "data": {
      "image/png": "[encoded data removed]",
      "text/latex": [
       "$\\displaystyle \\frac{1}{\\left(x + 1\\right) \\log{\\left(x + 1 \\right)}}$"
      ],
      "text/plain": [
       "        1         \n",
       "──────────────────\n",
       "(x + 1)⋅log(x + 1)"
      ]
     },
     "execution_count": 1,
     "metadata": {
      "tags": []
     },
     "output_type": "execute_result"
    }
   ],
   "source": [
    "from sympy import *\n",
    "init_printing()\n",
    "x=Symbol('x')\n",
    "f=1/(x+1)/ln(x+1)\n",
    "f"
   ]
  },
  {
   "cell_type": "code",
   "execution_count": null,
   "metadata": {
    "colab": {},
    "colab_type": "code",
    "id": "qF8iMAY2Ergi",
    "outputId": "f348a23c-42d9-43cc-e75b-bf987fd1308d"
   },
   "outputs": [
    {
     "data": {
      "image/png": "[encoded data removed]",
      "text/latex": [
       "$\\displaystyle \\infty$"
      ],
      "text/plain": [
       "∞"
      ]
     },
     "execution_count": 30,
     "metadata": {
      "tags": []
     },
     "output_type": "execute_result"
    }
   ],
   "source": [
    "integrate(f,(x, 1, +oo)) #аналитическое решение"
   ]
  },
  {
   "cell_type": "markdown",
   "metadata": {
    "colab_type": "text",
    "id": "cMlaJhlgErgo"
   },
   "source": [
    "Интеграл расходится, следовательно расходится и ряд.\n",
    "\n",
    "2. \n",
    "### $$\\frac{1}{2\\ln^2 2}+\\frac{1}{3\\ln^2 3}+\\,...\\,+\\frac{1}{(n+1)\\ln^2(n+1)}+\\,...\\,=\\sum\\limits_{n=1}^{+\\infty}\\frac{1}{(n+1)\\ln^2(n+1)}$$\n",
    "\n",
    "Докажем сходимость этого ряда найдя интеграл:\n",
    "\n",
    "### $$\\int\\limits_{1}^{+\\infty}\\frac{dx}{(x+1)\\ln^2(x+1)}$$\n"
   ]
  },
  {
   "cell_type": "code",
   "execution_count": null,
   "metadata": {
    "colab": {},
    "colab_type": "code",
    "id": "gjJiJ0mtErgp",
    "outputId": "9e245443-fb35-40d0-fb97-289dc101f5ee"
   },
   "outputs": [
    {
     "data": {
      "image/png": "[encoded data removed]",
      "text/latex": [
       "$\\displaystyle \\frac{1}{\\left(x + 1\\right) \\log{\\left(x + 1 \\right)}^{2}}$"
      ],
      "text/plain": [
       "         1         \n",
       "───────────────────\n",
       "           2       \n",
       "(x + 1)⋅log (x + 1)"
      ]
     },
     "execution_count": 31,
     "metadata": {
      "tags": []
     },
     "output_type": "execute_result"
    }
   ],
   "source": [
    "from sympy import *\n",
    "init_printing()\n",
    "x=Symbol('x')\n",
    "f=1/(x+1)/(ln(x+1))**2\n",
    "f"
   ]
  },
  {
   "cell_type": "code",
   "execution_count": null,
   "metadata": {
    "colab": {},
    "colab_type": "code",
    "id": "dHKEElmuErgu",
    "outputId": "23ba0eee-416a-4fad-948f-15d5faf9f311"
   },
   "outputs": [
    {
     "data": {
      "image/png": "[encoded data removed]",
      "text/latex": [
       "$\\displaystyle \\frac{1}{\\log{\\left(2 \\right)}}$"
      ],
      "text/plain": [
       "  1   \n",
       "──────\n",
       "log(2)"
      ]
     },
     "execution_count": 32,
     "metadata": {
      "tags": []
     },
     "output_type": "execute_result"
    }
   ],
   "source": [
    "integrate(f,(x, 1, +oo)) #аналитическое решение"
   ]
  },
  {
   "cell_type": "markdown",
   "metadata": {
    "colab_type": "text",
    "id": "zqzN2QbcErgy"
   },
   "source": [
    "Интеграл посчитать получилось, следовательно ряд сходится."
   ]
  },
  {
   "cell_type": "markdown",
   "metadata": {
    "colab_type": "text",
    "id": "R2lMn8BWErgz"
   },
   "source": [
    "#### Признак Раабе.\n",
    "\n",
    "Ещё один аналог признака д’Аламбера.\n",
    "\n",
    "Возьмем ряд \n",
    "\n",
    "### $$a_{1}+a_{2}+a_{3}+...+a_{n}+\\,...\\,=\\sum\\limits_{n=1}^{+\\infty}a_{n}$$\n",
    "\n",
    "и рассмотрим следящий предел:\n",
    "\n",
    "### $$\\lim_{n\\to +\\infty}n\\Bigr(\\frac{a_{n}}{a_{n+1}}-1\\Bigl)=q$$\n",
    "\n",
    "- если $q>1$, то ряд сходится;\n",
    "- если $q<1$, то ряд расходится;\n",
    "- если $q=1$, то признак Раабе не работает.\n",
    "\n",
    "Рассмотрим пример:\n",
    "\n",
    "### $$\\frac{3}{2}+\\frac{3^2}{2^2}+\\,...\\,+\\frac{3^n}{2^n}+\\,...\\,=\\sum\\limits_{n=1}^{+\\infty}\\frac{3^n}{2^n}$$\n",
    "\n",
    "Найдем предел:\n",
    "\n",
    "### $$\\lim_{n\\to +\\infty}n\\Bigr(\\frac{a_{n}}{a_{n+1}}-1\\Bigl)=\\lim_{n\\to +\\infty}n\\Bigr(\\frac{3^n}{2^n}:\\frac{3^{n+1}}{2^{n+1}}-1\\Bigl)=$$\n",
    "\n",
    "### $$=\\lim_{n\\to +\\infty}n\\Bigr(\\frac{2}{3}-1\\Bigl)=-\\infty$$\n",
    "\n",
    "т.к. предел равен $-\\infty<1$, то ряд расходится.\n",
    "\n",
    "Давайте покажем, что в данном случае можно обойтись и признаком д’Аламбера.\n",
    "\n",
    "Найдем предел:\n",
    "\n",
    "### $$\\lim_{n\\to +\\infty}\\frac{a_{n+1}}{a_{n}}=\\lim_{n\\to +\\infty}\\frac{3^{n+1}}{2^{n+1}}:\\frac{3^n}{2^{n}}=\\frac{3}{2}$$\n",
    "\n",
    "т.к. предел равен $\\frac{3}{2}>1$, то ряд расходится."
   ]
  },
  {
   "cell_type": "markdown",
   "metadata": {
    "colab_type": "text",
    "id": "lzzTEjD6Ergz"
   },
   "source": [
    "### Сходимость знакопеременных рядов"
   ]
  },
  {
   "cell_type": "markdown",
   "metadata": {
    "colab_type": "text",
    "id": "iEnU7V5iErg0"
   },
   "source": [
    "Для знакопеременных рядов выделим следующие основные признаки:\n",
    "\n",
    "1. Признак Лейбница.\n",
    "2. Признак Абеля.\n",
    "3. Признак Дирихле."
   ]
  },
  {
   "cell_type": "markdown",
   "metadata": {
    "colab_type": "text",
    "id": "xWLuQilDErg0"
   },
   "source": [
    "#### Признак Лейбница.\n",
    "\n",
    "Для сходимости по данному признаку достаточно чтобы члены ряда $|a_n|$ убывали монотонно по модулю. \n",
    "\n",
    "Сложно представить ситуацию, когда выполняется необходимое условие:\n",
    "\n",
    "### $$\\lim_{n\\to +\\infty}a_{n}=0$$\n",
    "\n",
    "при этом $|a_n|$ убывали не монотонно. Поэтому признак Лейбница будет единственным, который мы разберем для знакопеременных рядов.\n",
    "\n",
    "Так же для знакопеременных рядов математики различают скорость сходимости:\n",
    "\n",
    "- если ряд по модулю $\\sum\\limits_{n=1}^{+\\infty}|a_n|$ сходится, то исходный знакопеременный ряд $\\sum\\limits_{n=1}^{+\\infty}a_n$ сходится абсолютно (быстро);\n",
    "\n",
    "- если ряд по модулю $\\sum\\limits_{n=1}^{+\\infty}|a_n|$ расходится, то исходный знакопеременный ряд $\\sum\\limits_{n=1}^{+\\infty}a_n$ сходится условно (медленно);"
   ]
  },
  {
   "cell_type": "markdown",
   "metadata": {
    "colab_type": "text",
    "id": "KKjwhKlZErg1"
   },
   "source": [
    "Рассмотрим примеры:\n",
    "\n",
    "1. \n",
    "### $$\\frac{1}{1}+\\frac{1}{2}+\\,...\\,+\\frac{1}{n}+\\,...\\,=\\sum\\limits_{n=1}^{+\\infty}\\frac{1}{n}$$\n",
    "\n",
    "этот знакопостоянный ряд расходится по второму признаку сходимости. \n",
    "\n",
    "2. \n",
    "### $$-\\frac{1}{1}+\\frac{1}{2}-\\,...\\,+\\frac{(-1)^n}{n}+\\,...\\,=\\sum\\limits_{n=1}^{+\\infty}\\frac{(-1)^n}{n}$$\n",
    "\n",
    "этот знакопеременный ряд сходится, причем условно. Т.к. главный член монотонно стремится к $0$ по модулю.\n",
    "\n",
    "3. \n",
    "### $$\\frac{1}{1}+\\frac{1}{2^2}+\\,...\\,+\\frac{1}{n^2}+\\,...\\,=\\sum\\limits_{n=1}^{+\\infty}\\frac{1}{n^2}$$\n",
    "\n",
    "этот знакопостоянный ряд сходится по второму признаку сходимости.\n",
    "\n",
    "4. \n",
    "### $$-\\frac{1}{1}+\\frac{1}{2^2}-\\,...\\,+\\frac{(-1)^n}{n^2}+\\,...\\,=\\sum\\limits_{n=1}^{+\\infty}\\frac{(-1)^n}{n^2}$$\n",
    "\n",
    "этот знакопеременный ряд сходится, причем абсолютно. Т.к. главный член монотонно стремится к $0$ по модулю.\n"
   ]
  },
  {
   "cell_type": "markdown",
   "metadata": {
    "colab_type": "text",
    "id": "UZxuxSOrErg1"
   },
   "source": [
    "### Ряд Тейлора (Маклорена)\n",
    "\n",
    "__Ряд Тейлора__ - это еще один из способов аппроксимации из курса математического анализа. При этом функцию $f(x)$ мы аппроксимируем гармоническим (степенным) рядом.\n",
    "\n",
    "Разложение функции $f(x)$ происходит в окрестности точки,  будет называть её $a$. Основным требованием является то, функция $f(x)$ имеет бесконечное множество производных в точке $a$.\n",
    "\n",
    "### $$f(x)=\\sum\\limits_{n=0}^{+\\infty}\\frac{f^{(n)}(a)}{n!}(x-a)^n$$\n",
    "\n",
    "где $f^{(n)}(a)$ -это значение производной в точке $a$ $n$-го порядка.\n",
    "\n",
    "Можно говорить как: \"разложить функцию $f(x)$ в ряд Тейлора в окрестности точки $a$\" или \"разложить функцию $f(x)$ в ряд Тейлора по степеням $(x-a)$\", это одно и тоже.\n",
    "\n",
    "Рассмотрим простой пример. Разложим функцию $f(x)=x^2+5x+4$ в окрестности точки $a=2$.\n",
    "\n",
    "Т.к. наша функция уже является степенной, то разложение будет конечным:\n",
    "\n",
    "### $$x^2+5x+4=\\frac{2^2+5\\cdot2+4}{0!}(x-2)^0+\\frac{2\\cdot2+5}{1!}(x-2)^1+$$\n",
    "\n",
    "### $$+\\frac{2}{2!}(x-2)^2=18+9(x-2)+(x-2)^2$$\n",
    "\n",
    "Как бы это странно не выглядело, но \n",
    "\n",
    "### $$x^2+5x+4=18+9(x-2)+(x-2)^2$$\n",
    "\n",
    "__Ряд Маклорена__ - это частный случай ряд Тейлора при $a=0$\n",
    "\n",
    "### $$f(x)=\\sum\\limits_{n=0}^{+\\infty}\\frac{f^{(n)}(0)}{n!}x^n$$\n",
    "\n",
    "Давайте рассмотрим более сложный пример. Разложим  функцию $f(x)=\\sin x$ в ряд Маклорена.\n",
    "\n",
    "### $$\\sin x=\\frac{\\sin 0}{0!}x^0+\\frac{\\cos 0}{1!}x^1-\\frac{\\sin 0}{2!}x^2-\\frac{\\cos 0}{3!}x^3+\\,...\\,=$$\n",
    "\n",
    "### $$=x-\\frac{x^3}{3!}+\\frac{x^5}{5!}-\\frac{x^7}{7!}+\\,...\\,=\\sum\\limits_{n=0}^{+\\infty}(-1)^n\\frac{x^{2n+1}}{(2n+1)!}$$\n",
    "\n",
    "Потребность таких разложений можно связать с определенными методами, которые хорошо работают со степенными функциями и плохо с остальными.\n",
    "\n",
    "__Замечание:__ с помощью разложения $\\sin x$ в нуле, мы может доказать первый замечательный предел\n",
    "\n",
    "### $$\\lim_{x\\to 0}\\frac{\\sin x}{x}=\\lim_{x\\to 0}\\Bigr(1-\\frac{x^2}{3!}+\\frac{x^4}{5!}-\\,...\\,\\Bigl)=1$$"
   ]
  },
  {
   "cell_type": "markdown",
   "metadata": {
    "colab_type": "text",
    "id": "lklWK6ZbErg2"
   },
   "source": [
    "### Ряд Фурье"
   ]
  },
  {
   "cell_type": "markdown",
   "metadata": {
    "colab_type": "text",
    "id": "yXEfEp-KErg2"
   },
   "source": [
    "Ряд Фурье так же является способом аппроксимаций функций, только с помощью синусов и косинусов разных амплитуд.\n",
    "\n",
    "Разложении, в отличии от ряда Тейлора,  происходит на интервале. Для простоты разберем формулу для симметричного интервала $[-\\pi, \\pi]$:\n",
    "\n",
    "### $$f(x)=a_{0}+\\sum\\limits_{n=1}^{+\\infty}(a_n\\cos nx+b_n\\sin nx)$$\n",
    "\n",
    "где\n",
    "\n",
    "### $$a_0=\\frac{1}{2\\pi}\\int\\limits_{-\\pi}^\\pi f(x)\\,dx$$\n",
    "\n",
    "### $$a_n=\\frac{1}{\\pi}\\int\\limits_{-\\pi}^\\pi f(x)\\cos nx\\,dx$$\n",
    "\n",
    "### $$b_n=\\frac{1}{\\pi}\\int\\limits_{-\\pi}^\\pi f(x)\\sin nx\\,dx$$\n",
    "\n",
    "Т.е. чтобы разложить функцию в ряд Фурье, нужно посчитать три интеграла."
   ]
  },
  {
   "cell_type": "markdown",
   "metadata": {
    "colab_type": "text",
    "id": "6R8W9KPnErg3"
   },
   "source": [
    "__Пример.__ Разложим параболу $f(x)=x^2$ в ряд Фурье на интервале $[-\\pi, \\pi]$\n",
    "\n",
    "Найдем $a_0$:\n",
    "\n",
    "### $$a_0=\\frac{1}{2\\pi}\\int\\limits_{-\\pi}^\\pi f(x)\\,dx=\\frac{1}{2\\pi}\\int\\limits_{-\\pi}^\\pi x^2\\,dx=$$\n",
    "\n",
    "### $$=\\frac{1}{2\\pi}\\cdot\\frac{x^3}{3}\\Bigr|_{-\\pi}^\\pi=\\frac{1}{2\\pi}\\cdot\\Bigr(\\frac{\\pi^3}{3}-\\frac{(-\\pi)^3}{3}\\Bigl)=\\frac{\\pi^2}{3}$$"
   ]
  },
  {
   "cell_type": "markdown",
   "metadata": {
    "colab_type": "text",
    "id": "V1Ntg-85Erg3"
   },
   "source": [
    "Найдем $a_n$:\n",
    "\n",
    "### $$a_n=\\frac{1}{\\pi}\\int\\limits_{-\\pi}^\\pi f(x)\\cos nx\\,dx=\\frac{1}{\\pi}\\int\\limits_{-\\pi}^\\pi x^2\\cos nx\\,dx=$$\n",
    "\n",
    "Данный интеграл будем брать по частям:\n",
    "\n",
    "### $$U=x^2\\,\\,\\,\\,\\,\\Rightarrow\\,\\,\\,\\,\\, dU=2x\\,dx$$ \n",
    "### $$dV=\\cos nx\\,dx\\,\\,\\,\\,\\,\\Rightarrow\\,\\,\\,\\,\\, V=\\frac{1}{n}\\sin nx$$ \n",
    "\n",
    "### $$=\\Bigr(\\frac{1}{\\pi n}x^2\\sin nx\\Bigl)\\Bigr|_{-\\pi}^\\pi-\\frac{2}{\\pi n}\\int\\limits_{-\\pi}^\\pi x\\sin nx\\,dx=$$\n",
    "\n",
    "Скобка равно нулю, т.к. $\\sin \\pi n=\\sin (-\\pi n)=0$. Интеграл возьмем еще раз по частям:\n",
    "\n",
    "### $$U=x\\,\\,\\,\\,\\,\\Rightarrow\\,\\,\\,\\,\\, dU=dx$$ \n",
    "### $$dV=\\sin nx\\,dx\\,\\,\\,\\,\\,\\Rightarrow\\,\\,\\,\\,\\, V=-\\frac{1}{n}\\cos nx$$ \n",
    "\n",
    "### $$=\\Bigr(\\frac{2}{\\pi n^2}x\\cos nx\\Bigl)\\Bigr|_{-\\pi}^\\pi-\\frac{2}{\\pi n^2}\\int\\limits_{-\\pi}^\\pi \\cos nx\\,dx=$$\n",
    "\n",
    "### $$=\\frac{2}{\\pi n^2}\\pi\\cos\\pi n-\\frac{2}{\\pi n^2}(-\\pi)\\cos\\pi n=4\\frac{(-1)^n}{n^2}$$"
   ]
  },
  {
   "cell_type": "markdown",
   "metadata": {
    "colab_type": "text",
    "id": "Qd3IBkfMErg4"
   },
   "source": [
    "Найдем $b_n$:\n",
    "\n",
    "### $$b_n=\\frac{1}{\\pi}\\int\\limits_{-\\pi}^\\pi f(x)\\sin nx\\,dx=\\frac{1}{\\pi}\\int\\limits_{-\\pi}^\\pi x^2\\sin nx\\,dx=$$\n",
    "\n",
    "Данный интеграл будем брать по частям:\n",
    "\n",
    "### $$U=x^2\\,\\,\\,\\,\\,\\Rightarrow\\,\\,\\,\\,\\, dU=2x\\,dx$$ \n",
    "### $$dV=\\sin nx\\,dx\\,\\,\\,\\,\\,\\Rightarrow\\,\\,\\,\\,\\, V=-\\frac{1}{n}\\cos nx$$ \n",
    "\n",
    "### $$=\\Bigr(-\\frac{1}{\\pi n}x^2\\cos nx\\Bigl)\\Bigr|_{-\\pi}^\\pi+\\frac{2}{\\pi n}\\int\\limits_{-\\pi}^\\pi x\\cos nx\\,dx=$$\n",
    "\n",
    "Скобка равно нулю, т.к. $(\\pi)^2\\cos \\pi n=(-\\pi)^2\\cos (-\\pi n)$. Интеграл возьмем еще раз по частям:\n",
    "\n",
    "### $$U=x\\,\\,\\,\\,\\,\\Rightarrow\\,\\,\\,\\,\\, dU=dx$$ \n",
    "### $$dV=\\cos nx\\,dx\\,\\,\\,\\,\\,\\Rightarrow\\,\\,\\,\\,\\, V=\\frac{1}{n}\\sin nx$$ \n",
    "\n",
    "### $$=\\Bigr(\\frac{2}{\\pi n^2}x\\sin nx\\Bigl)\\Bigr|_{-\\pi}^\\pi-\\frac{2}{\\pi n^2}\\int\\limits_{-\\pi}^\\pi \\sin nx\\,dx=$$\n",
    "\n",
    "### $$=\\Bigr(\\frac{2}{\\pi n^3}\\cos nx\\Bigl)\\Bigr|_{-\\pi}^\\pi=0$$"
   ]
  },
  {
   "cell_type": "markdown",
   "metadata": {
    "colab_type": "text",
    "id": "3zO7U7edErg4"
   },
   "source": [
    "Получается, что\n",
    "\n",
    "\n",
    "### $$x^2=\\frac{\\pi^2}{3}+4\\sum\\limits_{n=1}^{+\\infty}\\frac{(-1)^n}{n^2}\\cos nx$$\n",
    "\n",
    "на отрезке $[-\\pi, \\pi]$"
   ]
  },
  {
   "cell_type": "markdown",
   "metadata": {
    "colab_type": "text",
    "id": "tCDQrhe2Erg5"
   },
   "source": [
    "В программировании классические разложения Фурье не используются. Но данная тема настолько развилась, что сформировалась отдельная математическая дисциплина: __функциональный анализ__. На её базе построена квантовая механика, теория струн и часть разделов теории вероятности.\n",
    "\n",
    "В функциональной анализе разложение Фурье развились до __быстрых преобразований Фурье (fast Fourier transformation (FFT))__. Одно из первых применений в программировании было в аудио формате .mp3. До этого формата аудио дорожка хранилась в виде массива времени и значения амплитуды звуковой волны. В формате .mp3 хранятся уже коэффициенты FFT. При этом существо сокращается место на хранение звуковой дорожке. Все современные мультимедийные форматы, особенно работающие в интернете как правило построены на FFT.\n",
    "\n",
    "- аудио форматы .mp3\n",
    "- форматы изображений .jpeg, progressive JPEG\n",
    "- видео форматы .mpeg"
   ]
  },
  {
   "cell_type": "markdown",
   "metadata": {
    "colab_type": "text",
    "id": "2acnq3EGErg6"
   },
   "source": [
    "Загрузка .jpeg\n",
    "\n",
    "<img src=\"https://walnut.team/wp-content/uploads/2018/02/jpeg-baseline.gif\"  width = 200/>\n",
    "Загрузка progressive JPEG\n",
    "\n",
    "<img src=\"https://walnut.team/wp-content/uploads/2018/02/jpeg-progressive.gif\"  width = 200/>"
   ]
  },
  {
   "cell_type": "code",
   "execution_count": null,
   "metadata": {
    "colab": {},
    "colab_type": "code",
    "id": "0EwPDPZJErg7",
    "outputId": "169258e1-4790-47ed-c0e8-2e06320f92af"
   },
   "outputs": [
    {
     "data": {
      "image/png": "[encoded data removed]",
      "text/plain": [
       "<Figure size 432x288 with 1 Axes>"
      ]
     },
     "metadata": {
      "needs_background": "light",
      "tags": []
     },
     "output_type": "display_data"
    },
    {
     "data": {
      "image/png": "[encoded data removed]",
      "text/plain": [
       "<Figure size 432x288 with 1 Axes>"
      ]
     },
     "metadata": {
      "needs_background": "light",
      "tags": []
     },
     "output_type": "display_data"
    }
   ],
   "source": [
    "#!/usr/bin/python\n",
    "# -*- coding: utf-8 -*\n",
    "import matplotlib.pyplot as plt \n",
    "import numpy as np\n",
    "from numpy.fft import rfft, irfft\n",
    "from numpy.random import uniform\n",
    "k=np.arange(0,128,1)\n",
    "T=np.pi;z=T/128; m=[t*z for t in k]#задание для дискретизации функции на 128 отсчётов\n",
    "def f(t):#анализируемая функция\n",
    "         if t<np.pi:\n",
    "                  p=np.cos(t)\n",
    "         else:\n",
    "                  p=-np.cos(t)\n",
    "         return p\n",
    "def FH(x):# ступенчатая функция Хэвисайда \n",
    "         if x>=0:\n",
    "                  q=1\n",
    "         else:\n",
    "                  q=0\n",
    "         return q\n",
    "v=[f(t) for t in m]#дискретизация исходной функции\n",
    "vs= [f(t)+np.random.uniform(0,0.5) for t in m]# добавление шума\n",
    "plt.figure()\n",
    "plt.title(\"Фильтрация аналоговых сигналов  \\n Окно исходной и зашумленной функций\")\n",
    "plt.plot(k,v, label='Окно исходной функции шириной pi')\n",
    "plt.plot(k,vs,label='Окно зашумленной функции шириной pi')\n",
    "plt.xlabel(\"Отсчёты -k\")\n",
    "plt.ylabel(\"Амплитуда А\")\n",
    "plt.legend(loc='best')\n",
    "plt.grid(True)\n",
    "al=2# степень фильтрации высших гармоник\n",
    "fs=np. fft.rfft(v)# переход из временной области в частотную с помощью БПФ\n",
    "g=[fs[j]*FH(abs(fs[j])-2) for j in np.arange(0,65,1)]# фильтрация высших гармоник\n",
    "h=np.fft.irfft(g) # возврат во временную область\n",
    "plt.figure()\n",
    "plt.title(\"Фильтрация аналоговых сигналов  \\n Результат фильтрации\")\n",
    "plt.plot(k,v,label='Окно исходной функции шириной pi')\n",
    "plt.plot(k,h, label='Окно результата фильтрации шириной pi')\n",
    "plt.xlabel(\"Отсчёты -k\")\n",
    "plt.ylabel(\"Амплитуда А\")\n",
    "plt.legend(loc='best')\n",
    "plt.grid(True)\n",
    "plt.show()"
   ]
  },
  {
   "cell_type": "markdown",
   "metadata": {
    "colab_type": "text",
    "id": "aU5YNMH9kVqP"
   },
   "source": [
    "## Практическое задание"
   ]
  },
  {
   "cell_type": "markdown",
   "metadata": {
    "colab_type": "text",
    "id": "SmdURZ_OkVqQ"
   },
   "source": [
    "__1.__ Исследовать сходимость ряда. \n",
    "\n",
    "\n",
    "### $$\\frac{1}{2\\sqrt2}+\\frac{1}{3\\sqrt3}+\\,...\\,+\\frac{1}{(n+1)\\sqrt{n+1}}+\\,...\\,=\\sum\\limits_{n=1}^{+\\infty}\\frac{1}{(n+1)\\sqrt{n+1}}$$\n",
    "\n",
    "(*) Двумя различными признаками."
   ]
  },
  {
   "cell_type": "markdown",
   "metadata": {
    "colab_type": "text",
    "id": "cECfCSANkVqR"
   },
   "source": [
    "__2.__ Исследовать сходимость ряда\n",
    "\n",
    "### $$\\frac{1000}{1!}+\\frac{1000^2}{2!}+\\,...\\,+\\frac{1000^n}{n!}+\\,...\\,=\\sum\\limits_{n=1}^{+\\infty}\\frac{1000^n}{n!}$$"
   ]
  },
  {
   "cell_type": "markdown",
   "metadata": {
    "colab_type": "text",
    "id": "DFrjdtbHkVqS"
   },
   "source": [
    "__3*.__ Исследовать сходимость ряда\n",
    "\n",
    "### $$\\frac{2\\cdot1!}{1}+\\frac{2^2\\cdot2!}{2^2}+\\,...\\,+\\frac{2^n\\cdot n!}{n^n}+\\,...\\,=\\sum\\limits_{n=1}^{+\\infty}\\frac{2^n\\cdot n!}{n^n}$$"
   ]
  },
  {
   "cell_type": "markdown",
   "metadata": {
    "colab_type": "text",
    "id": "Bij2BuDsErhL"
   },
   "source": [
    "__4*.__ Исследовать сходимость ряда\n",
    "\n",
    "### $$\\frac{3\\cdot1!}{1}+\\frac{3^2\\cdot2!}{2^2}+\\,...\\,+\\frac{3^n\\cdot n!}{n^n}+\\,...\\,=\\sum\\limits_{n=1}^{+\\infty}\\frac{3^n\\cdot n!}{n^n}$$"
   ]
  },
  {
   "cell_type": "markdown",
   "metadata": {
    "colab_type": "text",
    "id": "Oiby4RrRErhL"
   },
   "source": [
    "__5.__ Исследовать сходимость ряда\n",
    "\n",
    "### $$-\\frac{\\sqrt1}{101}+\\frac{\\sqrt2}{102}-\\,...\\,+\\frac{(-1)^n\\sqrt n}{n+100}+\\,...\\,=\\sum\\limits_{n=1}^{+\\infty}\\frac{(-1)^n\\sqrt n}{n+100}$$"
   ]
  },
  {
   "cell_type": "markdown",
   "metadata": {
    "colab_type": "text",
    "id": "OPOgUbvfErhM"
   },
   "source": [
    "__6*.__ Разложить функцию $y=e^x$ в ряд Маклорена, а так же в ряд Фурье на отрезке $[-\\pi, \\pi]$. Построить график функции и разложений."
   ]
  },
  {
   "cell_type": "markdown",
   "metadata": {
    "colab_type": "text",
    "id": "Iv-T_NZAkVqZ"
   },
   "source": [
    "## Дополнительные материалы"
   ]
  },
  {
   "cell_type": "markdown",
   "metadata": {
    "colab_type": "text",
    "id": "9o_SiUNxkVqa"
   },
   "source": [
    "1. [пример с habr](https://habr.com/ru/post/338704/)"
   ]
  }
 ],
 "metadata": {
  "colab": {
   "collapsed_sections": [],
   "name": "Lesson_11.ipynb",
   "provenance": []
  },
  "kernelspec": {
   "display_name": "Python 3",
   "language": "python",
   "name": "python3"
  },
  "language_info": {
   "codemirror_mode": {
    "name": "ipython",
    "version": 3
   },
   "file_extension": ".py",
   "mimetype": "text/x-python",
   "name": "python",
   "nbconvert_exporter": "python",
   "pygments_lexer": "ipython3",
   "version": "3.7.7"
  },
  "latex_envs": {
   "LaTeX_envs_menu_present": true,
   "autoclose": false,
   "autocomplete": true,
   "bibliofile": "biblio.bib",
   "cite_by": "apalike",
   "current_citInitial": 1,
   "eqLabelWithNumbers": true,
   "eqNumInitial": 1,
   "hotkeys": {
    "equation": "Ctrl-E",
    "itemize": "Ctrl-I"
   },
   "labels_anchors": false,
   "latex_user_defs": false,
   "report_style_numbering": false,
   "user_envs_cfg": false
  }
 },
 "nbformat": 4,
 "nbformat_minor": 1
}
