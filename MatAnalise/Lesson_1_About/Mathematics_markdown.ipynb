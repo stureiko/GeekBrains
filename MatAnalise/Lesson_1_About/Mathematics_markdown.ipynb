{
 "cells": [
  {
   "cell_type": "markdown",
   "metadata": {},
   "source": [
    "$\\int\\limits_a^\\infty\\mathrm{e}^{-x}{d}x$"
   ]
  },
  {
   "cell_type": "markdown",
   "metadata": {},
   "source": [
    "$\\displaystyle \\lim_{x \\to \\infty} f(x)$"
   ]
  },
  {
   "cell_type": "markdown",
   "metadata": {},
   "source": [
    "Любой элемент в множестве S больше 3: $\\displaystyle \\forall s \\in S : 3 < s$"
   ]
  },
  {
   "cell_type": "markdown",
   "metadata": {},
   "source": [
    "Существуют отрицательные элементы в S: $\\exists s \\in S : 0 > s$"
   ]
  },
  {
   "cell_type": "markdown",
   "metadata": {},
   "source": [
    "Существует единственный нулевой элемент в S: $\\exists !s \\in S : s = 0$"
   ]
  },
  {
   "cell_type": "markdown",
   "metadata": {},
   "source": [
    "Все положительные элементы из S - натуральные: $\\forall (s > 0) \\in S : s \\subset \\mathbb{N}$"
   ]
  },
  {
   "cell_type": "markdown",
   "metadata": {},
   "source": [
    "Существует такой элемент в S, что он меньше любого элемента в P: $\\exists s \\in S : (\\forall p \\in P : s < p)$"
   ]
  },
  {
   "cell_type": "markdown",
   "metadata": {},
   "source": [
    "A включено в B тогда и только тогда когда для любого a из А справедливо, что он входит в В: $A \\subseteq B \\Leftrightarrow \\exists a \\in A : a \\in B$"
   ]
  },
  {
   "cell_type": "markdown",
   "metadata": {},
   "source": [
    "А не пересекается с В тогда и только тогда, когда для любого а из А справедливо, что он не входит в В: $A \\not\\cap B \\Leftrightarrow \\exists a \\in A : a \\notin B$"
   ]
  },
  {
   "cell_type": "markdown",
   "metadata": {},
   "source": [
    "А пересекается с В тогда и только тогда, когда существует а из А, для которого справедливо, что он входит в В: $A \\cap B \\Leftrightarrow \\exists a \\in A : a \\in B$"
   ]
  },
  {
   "cell_type": "markdown",
   "metadata": {},
   "source": [
    "## Предел последовательности"
   ]
  },
  {
   "cell_type": "markdown",
   "metadata": {},
   "source": [
    "## $\\displaystyle \\lim_{n \\to \\infty} x_n = A \\Leftrightarrow \\forall \\epsilon > 0 \\exists N(\\epsilon) \\in \\mathbb{N} : \\forall n > N \\Rightarrow |x_n - A| < \\epsilon$"
   ]
  },
  {
   "cell_type": "markdown",
   "metadata": {},
   "source": [
    "## Сходимост по Коши"
   ]
  },
  {
   "cell_type": "markdown",
   "metadata": {},
   "source": [
    "## $\\displaystyle \\lim_{n \\to \\infty} x_n = a \\Leftrightarrow \\forall \\epsilon > 0 \\exists N(\\epsilon): \\forall n, m > N(\\epsilon): |x_n - x_m| < \\epsilon$"
   ]
  },
  {
   "cell_type": "code",
   "execution_count": null,
   "metadata": {},
   "outputs": [],
   "source": []
  }
 ],
 "metadata": {
  "kernelspec": {
   "display_name": "Python 3",
   "language": "python",
   "name": "python3"
  },
  "language_info": {
   "codemirror_mode": {
    "name": "ipython",
    "version": 3
   },
   "file_extension": ".py",
   "mimetype": "text/x-python",
   "name": "python",
   "nbconvert_exporter": "python",
   "pygments_lexer": "ipython3",
   "version": "3.7.7"
  }
 },
 "nbformat": 4,
 "nbformat_minor": 2
}
