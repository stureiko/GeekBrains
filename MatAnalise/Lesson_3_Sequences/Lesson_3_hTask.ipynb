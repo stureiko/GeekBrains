{
 "cells": [
  {
   "cell_type": "markdown",
   "metadata": {},
   "source": [
    "# Author: Стурейко Игорь\n",
    "## Project: Geekbrains.MatAnalise\n",
    "## Lesson 3 - Множества и последовательности\n",
    "## Date: 2020-05-20"
   ]
  },
  {
   "cell_type": "markdown",
   "metadata": {},
   "source": [
    "## Проверить любым способ, является ли данная логическая формула тавтологией"
   ]
  },
  {
   "cell_type": "markdown",
   "metadata": {},
   "source": [
    "### 1. $(A \\vee B) \\rightarrow (B \\vee \\overline{A})$"
   ]
  },
  {
   "cell_type": "markdown",
   "metadata": {},
   "source": [
    "### 2. $A \\rightarrow (A \\vee (\\overline{B} \\wedge A))$"
   ]
  },
  {
   "cell_type": "markdown",
   "metadata": {},
   "source": [
    "## Сформулируйте словесно высказывания:"
   ]
  },
  {
   "cell_type": "markdown",
   "metadata": {},
   "source": [
    "### 3. $(\\overline{A} \\vee B) \\rightarrow \\overline{C}$"
   ]
  },
  {
   "cell_type": "markdown",
   "metadata": {},
   "source": [
    "Если сегодня не всетит солнце или сыро то я не поеду на дачу"
   ]
  },
  {
   "cell_type": "markdown",
   "metadata": {},
   "source": [
    "### 4. $C \\rightarrow (A \\vee \\overline{B})$"
   ]
  },
  {
   "cell_type": "markdown",
   "metadata": {},
   "source": [
    "Я поеду на дачу если сегодня свтит солнце или не сыро"
   ]
  },
  {
   "cell_type": "markdown",
   "metadata": {},
   "source": [
    "### Если А: сегодня светит солнце; В: сегодня сыро; С: я поеду на дачу"
   ]
  },
  {
   "cell_type": "markdown",
   "metadata": {},
   "source": [
    "## Пользуясь правилом построения противоположного высказывания, записать утверждения, противоположные следующим:"
   ]
  },
  {
   "cell_type": "markdown",
   "metadata": {},
   "source": [
    "### 5. На любом курсе каждого факультета есть студенты, сдающие все экзамены на «отлично»."
   ]
  },
  {
   "cell_type": "markdown",
   "metadata": {},
   "source": [
    "Существует курс и сущестует факультет и существует экзамен который все студенты не сдают на отлично"
   ]
  },
  {
   "cell_type": "markdown",
   "metadata": {},
   "source": [
    "### 6. Каждый студент философского факультета имеет друга, который умеет решать все логические задачи."
   ]
  },
  {
   "cell_type": "markdown",
   "metadata": {},
   "source": [
    "Существует студент филосовского факультета который имеет друга который не умеет решат какие-нибудь логические задачи"
   ]
  },
  {
   "cell_type": "markdown",
   "metadata": {},
   "source": [
    "### 7. В любом самолете на рейсе Вашингтон-Москва присутствует хотя бы один сотрудник силовых органов, в каждой пуговице одежды которого вмонтирован микрофон."
   ]
  },
  {
   "cell_type": "markdown",
   "metadata": {},
   "source": [
    "Существует самолет на рейсе Вашингтон-Москва на котором присутствует хотябы один сотрудник силовых органиов у которого есть хотя бы одна пуговица без вмотированного микрофона"
   ]
  },
  {
   "cell_type": "markdown",
   "metadata": {},
   "source": [
    "## Представьте в виде несократимой рациональной дроби:"
   ]
  },
  {
   "cell_type": "markdown",
   "metadata": {},
   "source": [
    "### 8. 0.(216)"
   ]
  },
  {
   "cell_type": "markdown",
   "metadata": {},
   "source": [
    "$ \\displaystyle a = 0.(216) \\Rightarrow 1000 \\cdot a = 216.(216) \\Rightarrow 999 \\cdot a = 216 \\Rightarrow a = \\frac{216}{999} = \\frac{8}{37}$"
   ]
  },
  {
   "cell_type": "markdown",
   "metadata": {},
   "source": [
    "### 9. 1.0(01)"
   ]
  },
  {
   "cell_type": "markdown",
   "metadata": {},
   "source": [
    "$\\displaystyle a = 0.(01) \\Rightarrow 100 \\cdot a = 1 + a \\Rightarrow a = \\frac{1}{99}$"
   ]
  },
  {
   "cell_type": "markdown",
   "metadata": {},
   "source": [
    "$\\displaystyle 1.0(01) = 1 + \\frac{1}{10}\\cdot 0.(01) = 1 + \\frac{1}{10}\\cdot\\frac{1}{99} = 1 + \\frac{1}{990} = \\frac{991}{990}$"
   ]
  },
  {
   "cell_type": "markdown",
   "metadata": {},
   "source": [
    "## 10. Представьте 1 в виде суммы трех рациональных дробей с разными знаменателями и числителем равным 1"
   ]
  },
  {
   "cell_type": "markdown",
   "metadata": {},
   "source": [
    "Задаем 2-а числителя для разложения, ищем наименьшее общее кратное, приводим дроби к одному знаменателю, вычитаем из 1, получаем последнюю дробь."
   ]
  },
  {
   "cell_type": "markdown",
   "metadata": {},
   "source": [
    "Пример, первый знаменатель 2 второй 3: $\\displaystyle \\frac{1}{2} + \\frac{1}{3}$ наименьшее общее кратное 6, тогда $\\displaystyle \\frac{1}{2} + \\frac{1}{3} = \\frac{3}{6} + \\frac{2}{6} \\Rightarrow 1 - \\frac{5}{6} = \\frac{1}{6}$"
   ]
  },
  {
   "cell_type": "markdown",
   "metadata": {},
   "source": [
    "## 11. Тоже задание, только в виде суммы шести дробей"
   ]
  },
  {
   "cell_type": "markdown",
   "metadata": {},
   "source": [
    "Не вижу принципиального отличия, задаем произвольно первые 5 знаменателей, из арифметики ищем последний"
   ]
  },
  {
   "cell_type": "markdown",
   "metadata": {},
   "source": [
    "Пример: возмем знаменатели 13, 8, 15, 4, 20: $\\displaystyle \\frac{1}{13}+\\frac{1}{8}+\\frac{1}{15}+\\frac{1}{4}+\\frac{1}{20} = \\frac{9600}{124800}+\\frac{15600}{124800}+ \\frac{8320}{124800} + \\frac{31200}{124800} + \\frac{6240}{124800} - 1 = \\frac{53846}{124800}$"
   ]
  },
  {
   "cell_type": "markdown",
   "metadata": {},
   "source": [
    "## 12.  Найдите значение предела: $\\displaystyle \\lim_{n \\to \\infty}\\Big( \\frac{1}{1\\cdot 2} + \\frac{1}{2\\cdot 3} + \\frac{1}{3\\cdot 4} + \\dots + \\frac{1}{(n-1) \\cdot n}\\Big)$"
   ]
  },
  {
   "cell_type": "markdown",
   "metadata": {},
   "source": [
    "Упростим: $\\displaystyle \\Big( \\frac{1}{1\\cdot 2} + \\frac{1}{2\\cdot 3} + \\frac{1}{3\\cdot 4} + \\dots + \\frac{1}{(n-1) \\cdot n}\\Big) = \\sum_{n=2}^{\\infty}\\frac{1}{(n-1) \\cdot n}$"
   ]
  },
  {
   "cell_type": "markdown",
   "metadata": {},
   "source": [
    "$\\displaystyle \\frac{1}{(n-1) \\cdot n} = \\frac{1 + n - n}{n(n-1)} = \\frac{n}{n(n-1)} + \\frac{1-n}{n(n-1)} = \\frac{1}{n-1} - \\frac{1}{n}$"
   ]
  },
  {
   "cell_type": "markdown",
   "metadata": {},
   "source": [
    "$\\displaystyle \\sum_{n=2}^{\\infty} \\Big(\\frac{1}{n-1} - \\frac{1}{n} \\Big) = 1 - \\frac{1}{2} + \\frac{1}{2} - \\frac{1}{3} + \\frac{1}{3} - \\dots = 1$"
   ]
  },
  {
   "cell_type": "markdown",
   "metadata": {},
   "source": [
    "## 13. Пользуясь критерием Коши, докажите сходимость последовательности: $\\displaystyle \\lim_{n \\to \\infty}\\sum_{n=1}^{\\infty}\\Big(\\frac{\\sin{n}}{2^n}\\Big)$"
   ]
  },
  {
   "cell_type": "markdown",
   "metadata": {},
   "source": [
    "Рассмотрим: $ \\displaystyle \\frac{\\sin{(n + k)}}{2^{n + k}} - \\frac{\\sin{n}}{2^n} = \\frac{1}{2^k}\\cdot\\frac{\\sin{(n + k)}}{2^n} - \\frac{\\sin{n}}{2^n} = \\frac{1}{2^k} \\cdot \\frac{\\sin{(n + k)} - \\sin{n}}{2^{n + k}} \\leq \\frac{1}{2^n}$"
   ]
  },
  {
   "cell_type": "markdown",
   "metadata": {},
   "source": [
    "Поскольку $\\displaystyle \\frac{1}{2^n}$ сходится, то и $\\displaystyle \\lim_{n \\to \\infty}\\sum_{n=1}^{\\infty}\\Big(\\frac{\\sin{n}}{2^n}\\Big)$ тоже сходится"
   ]
  },
  {
   "cell_type": "markdown",
   "metadata": {},
   "source": [
    "## 13 $^1/_2$ Какой член последовательности можно взять в качестве предела с точностью $𝜀 = 10^{−7}$"
   ]
  },
  {
   "cell_type": "markdown",
   "metadata": {},
   "source": [
    "Согласно полученной оценки $\\displaystyle \\frac{\\sin{n}}{2^n} \\leq \\frac{1}{2^n}$ можно принять оценку: $N(\\epsilon) = -\\log_2{\\epsilon}$, т.е для $\\epsilon = 10^{-7}$ можно принять $ −\\log_2{(10^{−7})}$ "
   ]
  },
  {
   "cell_type": "code",
   "execution_count": 1,
   "metadata": {},
   "outputs": [],
   "source": [
    "import math"
   ]
  },
  {
   "cell_type": "code",
   "execution_count": 3,
   "metadata": {},
   "outputs": [
    {
     "data": {
      "text/plain": [
       "23.25349666421154"
      ]
     },
     "execution_count": 3,
     "metadata": {},
     "output_type": "execute_result"
    }
   ],
   "source": [
    "(-1)*math.log(10**(-7), 2)"
   ]
  },
  {
   "cell_type": "markdown",
   "metadata": {},
   "source": [
    "Т.е примерно 24 член последовательности"
   ]
  },
  {
   "cell_type": "markdown",
   "metadata": {},
   "source": [
    "## 14.Пользуясь критерием Коши, докажите расходимость последовательности: $\\displaystyle \\sum_{n=1}^{\\infty}\\Big(\\frac{1}{n}\\Big)$"
   ]
  },
  {
   "cell_type": "markdown",
   "metadata": {},
   "source": [
    "Рассмотрим $\\displaystyle |a_{n + p} - a_n| = \\sum_{k=1}^{p}\\frac{1}{n+k} \\geq \\sum_{k =1}^{p}\\frac{1}{n + p} = \\frac{p}{n+p}$ пусть $\\displaystyle p = n \\Rightarrow a_{2n}-a_n \\geq \\frac{1}{2} \\Rightarrow$ последовательность расходится  "
   ]
  },
  {
   "cell_type": "code",
   "execution_count": null,
   "metadata": {},
   "outputs": [],
   "source": []
  }
 ],
 "metadata": {
  "kernelspec": {
   "display_name": "Python 3",
   "language": "python",
   "name": "python3"
  },
  "language_info": {
   "codemirror_mode": {
    "name": "ipython",
    "version": 3
   },
   "file_extension": ".py",
   "mimetype": "text/x-python",
   "name": "python",
   "nbconvert_exporter": "python",
   "pygments_lexer": "ipython3",
   "version": "3.7.7"
  }
 },
 "nbformat": 4,
 "nbformat_minor": 2
}
