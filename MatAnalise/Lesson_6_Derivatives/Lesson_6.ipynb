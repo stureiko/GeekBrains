{
 "cells": [
  {
   "cell_type": "markdown",
   "metadata": {
    "colab_type": "text",
    "id": "zz7SDkPIkVlM"
   },
   "source": [
    "# Урок 6"
   ]
  },
  {
   "cell_type": "markdown",
   "metadata": {
    "colab_type": "text",
    "id": "p_3vqG5-kVlP"
   },
   "source": [
    "# Производная функции одной переменной. Часть 1"
   ]
  },
  {
   "cell_type": "markdown",
   "metadata": {
    "colab_type": "text",
    "id": "N3F8RFNNSwTp"
   },
   "source": [
    "### Определение"
   ]
  },
  {
   "cell_type": "markdown",
   "metadata": {
    "colab_type": "text",
    "id": "Yi_3HL4RSwTr"
   },
   "source": [
    "На прошлом уроке мы рассмотрели понятия __образа и прообраза__ из теории множеств, а также несколько случаев отображения одного на другое. Через которые в дальнейшем дали определение функциям. \n",
    "\n",
    "Понятие __производной__, в свою очередь, характеризует степень изменения образа отображения при (бесконечно) малом изменении прообраза. Производные используются во многих математических дисциплинах, но самое широкое распространение получили в курсе математического анализа и дифференциального исчисления.\n",
    "\n",
    "Давайте дадим математическое определение производной __явной__ функции. Возьмем функцию $y=f(x)$. Возьмем точку $x$ и отойдем от нее на расстоянии $\\Delta x$. При этом у нас получится два значения функции $f(x)$ и $f(x+\\Delta x)$. Для определения скорости изменения значения функции от изменения аргумента достаточно найти отношение $\\frac{f(x+\\Delta x)-f(x)}{\\Delta x}$. Но в таком случае мы найдем среднее значение функции на участи от $x$ до $x+\\Delta x$. Для нахождения изменения функции в конкретной точке, нужно перейти к пределам. Если мы устреми $\\Delta x$ к $0$, точка $x+\\Delta x$ устремиться к $x$. Данный предел как раз и является производной __явной__ функции.\n",
    "$$f'(x)=\\lim_{\\Delta x\\to 0} \\frac{f(x+\\Delta x)-f(x)}{\\Delta x}$$"
   ]
  },
  {
   "cell_type": "markdown",
   "metadata": {
    "colab_type": "text",
    "id": "PB7zDfaTSwTs"
   },
   "source": [
    "<img src=\"https://i.ibb.co/S5Czp3J/6-1.png\"  width = 600/>\n"
   ]
  },
  {
   "cell_type": "markdown",
   "metadata": {
    "colab_type": "text",
    "id": "l_HMICfLSwTt"
   },
   "source": [
    "Теперь давайте найдем производную от простой степенной функции $f(x)=x^2$, воспользовавшись определением, которое дали выше\n",
    "\n",
    "$$(x^2)'=\\lim_{\\Delta x\\to 0} \\frac{(x+\\Delta x)^2-x^2}{\\Delta x}\n",
    "=\\lim_{\\Delta x\\to 0} \\frac{x^2+2x\\Delta x+(\\Delta x)^2-x^2}{\\Delta x}\n",
    "=\\lim_{\\Delta x\\to 0} (2x+\\Delta x)=2x$$"
   ]
  },
  {
   "cell_type": "markdown",
   "metadata": {
    "colab_type": "text",
    "id": "KrKfVnBmSwTu"
   },
   "source": [
    "К счастью для нас существует связь между типом функции и ее производной. Поэтому поиск производных не скатывается к рутинному поиску предела. __Для овладения навыком поиска производных явных функций достаточно знать таблицу производных. А так же три дополнительных правила__, которые обсудим чуть позже. "
   ]
  },
  {
   "cell_type": "markdown",
   "metadata": {
    "colab_type": "text",
    "id": "LzBuMzn5SwTv"
   },
   "source": [
    "Итак, таблица производных основных функций.\n",
    "\n",
    "$$a'=0,\\mbox{где }  a - \\mbox{константа}$$\n",
    "\n",
    "$$(x^a)'=ax^{a-1}$$\n",
    "\n",
    "$$(\\sin(x))'=\\cos(x)$$\n",
    "\n",
    "$$(\\cos(x))'=-\\sin(x)$$\n",
    "\n",
    "$$(\\mbox{tg}(x))'= \\frac{1}{\\cos^2(x)}$$\n",
    "\n",
    "$$(\\mbox{ctg}(x))'= -\\frac{1}{\\sin^2(x)}$$\n",
    "\n",
    "$$(\\arcsin(x))'=\\frac{1}{\\sqrt{1-x^2}}$$\n",
    "\n",
    "$$(\\arccos(x))'=-\\frac{1}{\\sqrt{1-x^2}}$$\n",
    "\n",
    "$$(\\mbox{arctg}(x))'=\\frac{1}{1+x^2}$$\n",
    "\n",
    "$$(\\mbox{arcctg}(x))'=-\\frac{1}{1+x^2}$$\n",
    "\n",
    "$$(a^x)'=a^n\\ln{a}$$\n",
    "\n",
    "$$(e^x)'=e^n$$\n",
    "\n",
    "$$(log_a x)'=\\frac{1}{x \\ln a}$$\n",
    "\n",
    "$$(\\ln x)'=\\frac{1}{x}$$"
   ]
  },
  {
   "cell_type": "markdown",
   "metadata": {
    "colab_type": "text",
    "id": "Z_IOhFVCSwTw"
   },
   "source": [
    "### Существование"
   ]
  },
  {
   "cell_type": "markdown",
   "metadata": {
    "colab_type": "text",
    "id": "R0SGoF9TSwTx"
   },
   "source": [
    "Условие существование производной можно понять через условие существования предела. Выделим несколько случаев когда производная  в точке не существует.\n",
    "\n",
    "Например производная не существует, если у предела $$\\lim_{\\Delta x\\to 0} \\frac{f(x+\\Delta x)-f(x)}{\\Delta x}=f'(x) $$ значения односторонних пределов в точке $x$ не совпадает. Обычно сама функция $f(x)$ в этом случае проходит через точку $x$ \"не гладко\". В качестве хорошего примера можно взять функцию $y= |x|$"
   ]
  },
  {
   "cell_type": "code",
   "execution_count": 0,
   "metadata": {
    "colab": {},
    "colab_type": "code",
    "id": "kR6xW4IISwT0",
    "outputId": "8dc4b03c-bab6-404a-8ca6-3f46716996c5"
   },
   "outputs": [
    {
     "data": {
      "text/plain": [
       "[<matplotlib.lines.Line2D at 0x1e9347510b8>]"
      ]
     },
     "execution_count": 16,
     "metadata": {
      "tags": []
     },
     "output_type": "execute_result"
    },
    {
     "data": {
      "image/png": "[encoded data removed]",
      "text/plain": [
       "<Figure size 432x288 with 1 Axes>"
      ]
     },
     "metadata": {
      "needs_background": "light",
      "tags": []
     },
     "output_type": "display_data"
    }
   ],
   "source": [
    "from matplotlib import pylab as plt\n",
    "import numpy as np\n",
    "%matplotlib inline\n",
    "\n",
    "x=np.linspace(-8, 8, 200)\n",
    "y=np.fabs(x)\n",
    "plt.plot(x,y)"
   ]
  },
  {
   "cell_type": "markdown",
   "metadata": {
    "colab_type": "text",
    "id": "JTt8ygLVSwUB"
   },
   "source": [
    "Так же можно выделить случай, когда точка $х$, в которой определена функция $y=f(x)$, является граничной и имеет область только с одной стороны. В качестве примера можно взять функцию $y=\\sqrt x$, определенной в нуле. При этом ноль является пограничной точкой. Производная функции равна $y'=\\frac{1}{2 \\sqrt x}$. При этом в нуле производная уже не существует."
   ]
  },
  {
   "cell_type": "code",
   "execution_count": 0,
   "metadata": {
    "colab": {},
    "colab_type": "code",
    "id": "qKvphVz3SwUD",
    "outputId": "ff39b969-9dba-4835-ab90-27fa9e0f2548"
   },
   "outputs": [
    {
     "data": {
      "text/plain": [
       "[<matplotlib.lines.Line2D at 0x1e934877898>]"
      ]
     },
     "execution_count": 19,
     "metadata": {
      "tags": []
     },
     "output_type": "execute_result"
    },
    {
     "data": {
      "image/png": "[encoded data removed]",
      "text/plain": [
       "<Figure size 432x288 with 1 Axes>"
      ]
     },
     "metadata": {
      "needs_background": "light",
      "tags": []
     },
     "output_type": "display_data"
    }
   ],
   "source": [
    "x=np.linspace(0, 8, 200)\n",
    "y=np.sqrt(x)\n",
    "plt.plot(x,y)"
   ]
  },
  {
   "cell_type": "markdown",
   "metadata": {
    "colab_type": "text",
    "id": "bk0_8f2VSwUN"
   },
   "source": [
    "### Дополнительные правила и свойства"
   ]
  },
  {
   "cell_type": "markdown",
   "metadata": {
    "colab_type": "text",
    "id": "PAlBvyr8SwUO"
   },
   "source": [
    "- __производная от произведения:__\n",
    "\n",
    "$$(U\\cdot V)'=U'\\cdot V+U\\cdot V'$$\n",
    "\n",
    "- __производная от частного:__\n",
    "\n",
    "$$(\\frac{U}{V})'=\\frac{U'\\cdot V-U\\cdot V'}{V^2}$$\n",
    "\n",
    "- __производная от сложной функции:__\n",
    "\n",
    "$$f'(g(x))=f'\\cdot g'$$\n",
    "\n",
    "- __вынесение константы:__\n",
    "\n",
    "$$(af(x))'=af'(x)$$\n",
    "\n",
    "- __производная от суммы:__\n",
    "\n",
    "$$(f(x)+g(x))'=f'(x)+g'(x)$$"
   ]
  },
  {
   "cell_type": "markdown",
   "metadata": {
    "colab_type": "text",
    "id": "wfX2KOluSwUP"
   },
   "source": [
    "### Примеры"
   ]
  },
  {
   "cell_type": "markdown",
   "metadata": {
    "colab_type": "text",
    "id": "wZ9msefuSwUQ"
   },
   "source": [
    "Начнем с производной от произведения\n",
    "\n",
    "$$(x\\cdot \\sin x)'=\\sin x+ x\\cdot \\cos x$$\n",
    "\n",
    "и от частного \n",
    "\n",
    "$$(\\frac{x}{\\sin x})'=\\frac{\\sin x- x\\cdot \\cos x}{\\sin^2x}$$"
   ]
  },
  {
   "cell_type": "markdown",
   "metadata": {
    "colab_type": "text",
    "id": "-8XMcXsaSwUR"
   },
   "source": [
    "Так же разберемся с производными от сложных функций. Наверное, всем знакома сказка про Кашея. Смерь его была в игле, игла в яйце, яйце в утке и т.д.. Так вот со сложными функциями так же. __Нам нужно понять - на сколько \"простых\" функций можно разбить сложную, найти производную от каждой и взять произведение.__ _Сколько функций - столько и производных!_\n",
    "\n",
    "$$(\\sin(2x+1))'=\\cos(2x+1) \\cdot 2 $$\n",
    "\n",
    "$$(\\sin(x^2+2x+1))'=\\cos(x^2+2x+1) \\cdot (2x+2) $$\n",
    "\n",
    "$$(\\sin^3(x^2+2x+1))'=3\\sin^2(x^2+2x+1) \\cdot \\cos(x^2+2x+1) \\cdot (2x+2) $$\n",
    "\n",
    "$$(\\ln (\\sin^3(x^2+2x+1)+1))'=\\frac{1}{\\sin^3(x^2+2x+1)+1} \\cdot 3\\sin^2(x^2+2x+1) \\cdot \\cos(x^2+2x+1) \\cdot (2x+2) $$"
   ]
  },
  {
   "cell_type": "markdown",
   "metadata": {
    "colab_type": "text",
    "id": "68bGv8PcSwUS"
   },
   "source": [
    "Из особенный производных можно выделить производные от натуральных логарифмов.\n",
    "\n",
    "$$(\\ln x)'=\\frac{1}{x} $$\n",
    "\n",
    "$$(\\ln 3x)'=(\\ln 3+\\ln x)'=\\frac{1}{x} $$\n",
    "\n",
    "$$(\\ln x^3)'=(3\\ln x)'=\\frac{3}{x} $$\n",
    "\n",
    "$$(\\ln \\frac{\\sin x \\cdot (x+1)^3}{(x-4)^5})'=\\frac{\\cos x}{\\sin x}+\\frac{3}{x+1}-\\frac{5}{x-4}$$"
   ]
  },
  {
   "cell_type": "markdown",
   "metadata": {
    "colab_type": "text",
    "id": "nBU30M1sSwUU"
   },
   "source": [
    "Для любой функцию, которую можно представить в степенном виде, производную желательно искать именно в степенном виде.\n",
    "\n",
    "$$(x^2)'=2x$$\n",
    "\n",
    "$$(\\frac{1}{x^2})'=(x^{-2})'=-2x^{-3}=-\\frac{2}{x^3}$$\n",
    "\n",
    "$$(\\sqrt x)'=(x^{\\frac{1}{2}})'=\\frac{1}{2}x^{-\\frac{1}{2}}=\\frac{1}{2\\sqrt x}$$\n",
    "\n",
    "$$(\\frac{1}{\\sqrt {x+1}})'=((x+1)^{-\\frac{1}{2}})'=-\\frac{1}{2}(x+1)^{-\\frac{3}{2}}=-\\frac{1}{2\\sqrt {(x+1)^3}}$$"
   ]
  },
  {
   "cell_type": "markdown",
   "metadata": {
    "colab_type": "text",
    "id": "V9mSuMnFSwUW"
   },
   "source": [
    "Провеять найденные производные можно с помощью библиотеки __sympy__, которая поддерживает символьную алгебру. Особого прикладного значения это не имеет, т.к. основные данные, с которыми Вы будете сталкиваться в работе, имеют дискретный вид. На следящем уроке мы с Вами разберем как находить производные численно. Аналитический"
   ]
  },
  {
   "cell_type": "code",
   "execution_count": 0,
   "metadata": {
    "colab": {},
    "colab_type": "code",
    "id": "iOzEf_JmSwUY"
   },
   "outputs": [],
   "source": [
    "from sympy import *\n",
    "init_printing()"
   ]
  },
  {
   "cell_type": "code",
   "execution_count": 0,
   "metadata": {
    "colab": {},
    "colab_type": "code",
    "id": "gkVNFGK_SwUf",
    "outputId": "33a79126-ec99-4d9b-97a1-9bb8f20e5005"
   },
   "outputs": [
    {
     "data": {
      "image/png": "[encoded data removed]",
      "text/latex": [
       "$\\displaystyle a + b$"
      ],
      "text/plain": [
       "a + b"
      ]
     },
     "execution_count": 102,
     "metadata": {
      "tags": []
     },
     "output_type": "execute_result"
    }
   ],
   "source": [
    "a=Symbol('a') # для одной переменной Symbol\n",
    "b=Symbol('b')\n",
    "x=a+b\n",
    "x"
   ]
  },
  {
   "cell_type": "code",
   "execution_count": 0,
   "metadata": {
    "colab": {},
    "colab_type": "code",
    "id": "Hzp66ZGzSwUn",
    "outputId": "abe92fdb-7089-4058-8451-c4e647c58f8e"
   },
   "outputs": [
    {
     "data": {
      "image/png": "[encoded data removed]",
      "text/latex": [
       "$\\displaystyle a + \\left(c + d\\right)^{2}$"
      ],
      "text/plain": [
       "           2\n",
       "a + (c + d) "
      ]
     },
     "execution_count": 103,
     "metadata": {
      "tags": []
     },
     "output_type": "execute_result"
    }
   ],
   "source": [
    "c,d=symbols('c d') # для нескольких переменных symbols\n",
    "y = x.subs(b,(c+d)**2) # подставили значения в х и сохранили в у\n",
    "y"
   ]
  },
  {
   "cell_type": "code",
   "execution_count": 0,
   "metadata": {
    "colab": {},
    "colab_type": "code",
    "id": "GKmK4GWkSwUv",
    "outputId": "79ad77e4-7796-419b-eaae-5dbfab345c7d"
   },
   "outputs": [
    {
     "data": {
      "image/png": "[encoded data removed]",
      "text/latex": [
       "$\\displaystyle a + b$"
      ],
      "text/plain": [
       "a + b"
      ]
     },
     "execution_count": 104,
     "metadata": {
      "tags": []
     },
     "output_type": "execute_result"
    }
   ],
   "source": [
    "x.expand(a) # х не изменился"
   ]
  },
  {
   "cell_type": "code",
   "execution_count": 0,
   "metadata": {
    "colab": {},
    "colab_type": "code",
    "id": "lRSA5znJSwU4",
    "outputId": "dca35556-9c20-4af0-eb7b-9424ea11be9e"
   },
   "outputs": [
    {
     "data": {
      "image/png": "[encoded data removed]",
      "text/latex": [
       "$\\displaystyle a + c^{2} + 2 c d + d^{2}$"
      ],
      "text/plain": [
       "     2            2\n",
       "a + c  + 2⋅c⋅d + d "
      ]
     },
     "execution_count": 105,
     "metadata": {
      "tags": []
     },
     "output_type": "execute_result"
    }
   ],
   "source": [
    "y.expand(a)"
   ]
  },
  {
   "cell_type": "code",
   "execution_count": 0,
   "metadata": {
    "colab": {},
    "colab_type": "code",
    "id": "scpAoungSwVA",
    "outputId": "23b6cefc-a61a-473a-e7a7-1531fa8a66dd"
   },
   "outputs": [
    {
     "data": {
      "image/png": "[encoded data removed]",
      "text/latex": [
       "$\\displaystyle 7$"
      ],
      "text/plain": [
       "7"
      ]
     },
     "execution_count": 108,
     "metadata": {
      "tags": []
     },
     "output_type": "execute_result"
    }
   ],
   "source": [
    "z=y.subs({a:3,c:d, d:1}) # так же можно подставлять числа\n",
    "z"
   ]
  },
  {
   "cell_type": "code",
   "execution_count": 0,
   "metadata": {
    "colab": {},
    "colab_type": "code",
    "id": "92HJQjIvSwVI",
    "outputId": "72ec3c04-61b3-4135-8a98-41e764332314"
   },
   "outputs": [
    {
     "name": "stdout",
     "output_type": "stream",
     "text": [
      "<class 'sympy.core.numbers.Integer'>\n",
      "<class 'sympy.core.numbers.One'>\n",
      "<class 'sympy.core.numbers.Float'>\n",
      "<class 'float'>\n"
     ]
    }
   ],
   "source": [
    "print (type(z))\n",
    "print (type(7/z))\n",
    "print (type(7.0/z))\n",
    "print (type(float(7.0/z)))"
   ]
  },
  {
   "cell_type": "code",
   "execution_count": 0,
   "metadata": {
    "colab": {},
    "colab_type": "code",
    "id": "Nlhffeq1SwVS",
    "outputId": "77f6a464-bfeb-4d12-9002-2ceced3a7dad"
   },
   "outputs": [
    {
     "data": {
      "image/png": "[encoded data removed]",
      "text/latex": [
       "$\\displaystyle x \\cos{\\left(x \\right)} + \\sin{\\left(x \\right)}$"
      ],
      "text/plain": [
       "x⋅cos(x) + sin(x)"
      ]
     },
     "execution_count": 56,
     "metadata": {
      "tags": []
     },
     "output_type": "execute_result"
    }
   ],
   "source": [
    "x=Symbol('x')\n",
    "f=x*sin(x)\n",
    "diff(f,x)"
   ]
  },
  {
   "cell_type": "code",
   "execution_count": 0,
   "metadata": {
    "colab": {},
    "colab_type": "code",
    "id": "U3coRDcySwVY",
    "outputId": "142c8bec-5c7a-4ee8-fa53-9e7549a5855b"
   },
   "outputs": [
    {
     "data": {
      "image/png": "[encoded data removed]",
      "text/latex": [
       "$\\displaystyle - \\frac{x \\cos{\\left(x \\right)}}{\\sin^{2}{\\left(x \\right)}} + \\frac{1}{\\sin{\\left(x \\right)}}$"
      ],
      "text/plain": [
       "  x⋅cos(x)     1   \n",
       "- ──────── + ──────\n",
       "     2       sin(x)\n",
       "  sin (x)          "
      ]
     },
     "execution_count": 3,
     "metadata": {
      "tags": []
     },
     "output_type": "execute_result"
    }
   ],
   "source": [
    "x=Symbol('x')\n",
    "f=x/sin(x)\n",
    "f = diff(f,x)\n",
    "#f = together(f)\n",
    "f"
   ]
  },
  {
   "cell_type": "code",
   "execution_count": 0,
   "metadata": {
    "colab": {},
    "colab_type": "code",
    "id": "KUSS6hNDSwVh",
    "outputId": "030e2ae5-e6f9-401c-cf62-a490808b0bc6"
   },
   "outputs": [
    {
     "data": {
      "image/png": "[encoded data removed]",
      "text/latex": [
       "$\\displaystyle - \\frac{1}{2 \\left(x + 1\\right)^{\\frac{3}{2}}}$"
      ],
      "text/plain": [
       "    -1      \n",
       "────────────\n",
       "         3/2\n",
       "2⋅(x + 1)   "
      ]
     },
     "execution_count": 58,
     "metadata": {
      "tags": []
     },
     "output_type": "execute_result"
    }
   ],
   "source": [
    "x=Symbol('x')\n",
    "f=1/sqrt(x+1)\n",
    "diff(f,x)"
   ]
  },
  {
   "cell_type": "code",
   "execution_count": 0,
   "metadata": {
    "colab": {},
    "colab_type": "code",
    "id": "uScHIquDSwVn",
    "outputId": "d8af1f23-d14f-4034-fd86-67a2dc2632f1"
   },
   "outputs": [
    {
     "data": {
      "image/png": "[encoded data removed]",
      "text/latex": [
       "$\\displaystyle 3 x^{2}$"
      ],
      "text/plain": [
       "   2\n",
       "3⋅x "
      ]
     },
     "execution_count": 8,
     "metadata": {
      "tags": []
     },
     "output_type": "execute_result"
    }
   ],
   "source": [
    "x=Symbol('x')\n",
    "f=x**3\n",
    "diff(f,x)\n",
    "#diff(g,x)\n",
    "#diff(f,x,2)\n",
    "#diff(f,x,3)"
   ]
  },
  {
   "cell_type": "markdown",
   "metadata": {
    "colab_type": "text",
    "id": "FlzndWAjSwVt"
   },
   "source": [
    "### Пределы"
   ]
  },
  {
   "cell_type": "code",
   "execution_count": 0,
   "metadata": {
    "colab": {},
    "colab_type": "code",
    "id": "wpZmEajWSwVw",
    "outputId": "ceadf98e-88aa-4687-ac6d-440b3ceaae9f"
   },
   "outputs": [
    {
     "data": {
      "image/png": "[encoded data removed]",
      "text/latex": [
       "$\\displaystyle \\frac{\\sin{\\left(x \\right)}}{x}$"
      ],
      "text/plain": [
       "sin(x)\n",
       "──────\n",
       "  x   "
      ]
     },
     "execution_count": 82,
     "metadata": {
      "tags": []
     },
     "output_type": "execute_result"
    }
   ],
   "source": [
    "x=Symbol('x')\n",
    "f=sin(x)/x\n",
    "f"
   ]
  },
  {
   "cell_type": "code",
   "execution_count": 0,
   "metadata": {
    "colab": {},
    "colab_type": "code",
    "id": "-gKfNAABSwV5",
    "outputId": "3e437365-8650-496d-bd0d-6f84e5ab912a"
   },
   "outputs": [
    {
     "data": {
      "image/png": "[encoded data removed]",
      "text/latex": [
       "$\\displaystyle 1$"
      ],
      "text/plain": [
       "1"
      ]
     },
     "execution_count": 88,
     "metadata": {
      "tags": []
     },
     "output_type": "execute_result"
    }
   ],
   "source": [
    "limit (f,x,0)"
   ]
  },
  {
   "cell_type": "code",
   "execution_count": 0,
   "metadata": {
    "colab": {},
    "colab_type": "code",
    "id": "OpfWKKyxSwV-",
    "outputId": "2a28279f-9941-40f0-af09-19b0b6d5e986"
   },
   "outputs": [
    {
     "data": {
      "image/png": "[encoded data removed]",
      "text/latex": [
       "$\\displaystyle \\frac{3 x \\tan{\\left(4 x \\right)}}{1 - \\cos{\\left(4 x \\right)}}$"
      ],
      "text/plain": [
       "3⋅x⋅tan(4⋅x)\n",
       "────────────\n",
       "1 - cos(4⋅x)"
      ]
     },
     "execution_count": 91,
     "metadata": {
      "tags": []
     },
     "output_type": "execute_result"
    }
   ],
   "source": [
    "x=Symbol('x')\n",
    "f=(3*x*tan(4*x))/(1-cos(4*x))\n",
    "f"
   ]
  },
  {
   "cell_type": "code",
   "execution_count": 0,
   "metadata": {
    "colab": {},
    "colab_type": "code",
    "id": "MdM1VEhCSwWG",
    "outputId": "6a5e9861-7c40-46a3-bde1-b50ecd050b4c"
   },
   "outputs": [
    {
     "data": {
      "image/png": "[encoded data removed]",
      "text/latex": [
       "$\\displaystyle \\frac{3}{2}$"
      ],
      "text/plain": [
       "3/2"
      ]
     },
     "execution_count": 92,
     "metadata": {
      "tags": []
     },
     "output_type": "execute_result"
    }
   ],
   "source": [
    "limit (f,x,0)"
   ]
  },
  {
   "cell_type": "code",
   "execution_count": 0,
   "metadata": {
    "colab": {},
    "colab_type": "code",
    "id": "5jr-sJEMSwWN",
    "outputId": "7d9de35f-ac46-4a7d-e12f-5f0e6a0ad294"
   },
   "outputs": [
    {
     "data": {
      "image/png": "[encoded data removed]",
      "text/latex": [
       "$\\displaystyle \\frac{\\left(23 - 2 x^{2}\\right) \\left(3 x^{2} + 17\\right)^{2}}{4 x^{6} + x - 1}$"
      ],
      "text/plain": [
       "                       2\n",
       "⎛        2⎞ ⎛   2     ⎞ \n",
       "⎝23 - 2⋅x ⎠⋅⎝3⋅x  + 17⎠ \n",
       "────────────────────────\n",
       "         6              \n",
       "      4⋅x  + x - 1      "
      ]
     },
     "execution_count": 5,
     "metadata": {
      "tags": []
     },
     "output_type": "execute_result"
    }
   ],
   "source": [
    "x=Symbol('x')\n",
    "f=(23-2*x**2)*(3*x**2+17)**2/(4*x**6+x-1)\n",
    "f"
   ]
  },
  {
   "cell_type": "code",
   "execution_count": 0,
   "metadata": {
    "colab": {},
    "colab_type": "code",
    "id": "va1fyWepSwWV",
    "outputId": "48132613-7872-40c2-a214-99adec3704af"
   },
   "outputs": [
    {
     "data": {
      "image/png": "[encoded data removed]",
      "text/latex": [
       "$\\displaystyle - \\frac{9}{2}$"
      ],
      "text/plain": [
       "-9/2"
      ]
     },
     "execution_count": 6,
     "metadata": {
      "tags": []
     },
     "output_type": "execute_result"
    }
   ],
   "source": [
    "limit (f,x,oo)"
   ]
  },
  {
   "cell_type": "code",
   "execution_count": 0,
   "metadata": {
    "colab": {},
    "colab_type": "code",
    "id": "tCqgc_1WSwWc",
    "outputId": "343fad0c-edd7-48a9-c0c3-a238ffae36fb"
   },
   "outputs": [
    {
     "data": {
      "image/png": "[encoded data removed]",
      "text/latex": [
       "$\\displaystyle \\frac{\\sqrt{2} x^{2} \\sin{\\left(4 x \\right)}}{\\left(1 - \\cos{\\left(2 x \\right)}\\right)^{1.5}}$"
      ],
      "text/plain": [
       "    2               -1.5         \n",
       "√2⋅x ⋅(1 - cos(2⋅x))    ⋅sin(4⋅x)"
      ]
     },
     "execution_count": 9,
     "metadata": {
      "tags": []
     },
     "output_type": "execute_result"
    }
   ],
   "source": [
    "x=Symbol('x')\n",
    "f=(sqrt(2)*x**2*sin(4*x))/(1-cos(2*x))**(3/2)\n",
    "f"
   ]
  },
  {
   "cell_type": "code",
   "execution_count": 0,
   "metadata": {
    "colab": {},
    "colab_type": "code",
    "id": "ybSCvHJtSwWi"
   },
   "outputs": [],
   "source": [
    "#limit (f,x,0)"
   ]
  },
  {
   "cell_type": "markdown",
   "metadata": {
    "colab_type": "text",
    "id": "bZMXDsb1SwWn"
   },
   "source": [
    "### Приближенное вычисление с помощью производных"
   ]
  },
  {
   "cell_type": "markdown",
   "metadata": {
    "colab_type": "text",
    "id": "i4IzVHYdSwWo"
   },
   "source": [
    "Мы с Вами дали определение производной явной функции\n",
    "\n",
    "$$f'(x)=\\lim_{\\Delta x\\to 0} \\frac{f(x+\\Delta x)-f(x)}{\\Delta x}$$\n",
    "\n",
    "Если из равенства убрать предел, то значение левой и правой части уже не будут равны. Но при достаточно малом $ \\Delta x$  будут близки. \n",
    "\n",
    "$$f'(x)\\approx \\frac{f(x+\\Delta x)-f(x)}{\\Delta x}$$\n",
    "\n",
    "Если выразить $f(x+\\Delta x)$, то получим следующее выражение:\n",
    "\n",
    "$$f(x+\\Delta x) \\approx f(x)+f'(x) \\cdot \\Delta x$$"
   ]
  },
  {
   "cell_type": "markdown",
   "metadata": {
    "colab_type": "text",
    "id": "tTgva9qhSwWp"
   },
   "source": [
    "Давайте воспользуется этим выражением для приближенного вычисления $\\sqrt 3 \\approx 1.7320508075688772$"
   ]
  },
  {
   "cell_type": "markdown",
   "metadata": {
    "colab_type": "text",
    "id": "Cbu_jMTxSwWq"
   },
   "source": [
    "$$\\sqrt 3 = \\sqrt {4-1} \\approx \\sqrt 4 + \\frac{1}{2 \\sqrt 4} \\cdot (-1) = 2 - 0.25 = 1.75$$"
   ]
  },
  {
   "cell_type": "markdown",
   "metadata": {
    "colab_type": "text",
    "id": "cZXWx7RUSwWr"
   },
   "source": [
    "Как видно, ошибка уже во втором знаке. \n",
    "\n",
    "Чтобы увеличить точность, необходимо уменьшить приращение. для этого достаточно $3=3.00$ и подобрать ближайший хороший корень к $300$\n",
    "\n",
    "$$\\sqrt 3 = \\sqrt {3.00} =\\sqrt {2.89+0.11} \\approx \\sqrt {2.89} + \\frac{1}{2 \\sqrt {2.89}} \\cdot 0.11 = 1.7 + \\frac{0.11}{2 \\cdot 1.7}\\approx 1.73235294117647$$"
   ]
  },
  {
   "cell_type": "markdown",
   "metadata": {
    "colab_type": "text",
    "id": "aU5YNMH9kVqP"
   },
   "source": [
    "## Практическое задание"
   ]
  },
  {
   "cell_type": "markdown",
   "metadata": {
    "colab_type": "text",
    "id": "SmdURZ_OkVqQ"
   },
   "source": [
    "__1.__ Найти производную функции:\n",
    "\n",
    "$$y=\\frac{1}{x}+\\frac{2}{x^2}-\\frac{5}{x^3}+\\sqrt x -\\sqrt[3]x+\\frac{3}{\\sqrt x}$$"
   ]
  },
  {
   "cell_type": "markdown",
   "metadata": {
    "colab_type": "text",
    "id": "cECfCSANkVqR"
   },
   "source": [
    "__2.__ Найти производную функции:\n",
    "\n",
    "$$y=x \\cdot \\sqrt {1+x^2}$$"
   ]
  },
  {
   "cell_type": "markdown",
   "metadata": {
    "colab_type": "text",
    "id": "DFrjdtbHkVqS"
   },
   "source": [
    "__3.__ Найти производную функции:\n",
    "\n",
    "$$y= \\frac{2x}{1-x^2}$$"
   ]
  },
  {
   "cell_type": "markdown",
   "metadata": {
    "colab_type": "text",
    "id": "5la-eVLukVqT"
   },
   "source": [
    "__4*.__ Найти производную функции:\n",
    "\n",
    "$$y=\\sqrt{x+ \\sqrt{x+\\sqrt x}}$$"
   ]
  },
  {
   "cell_type": "markdown",
   "metadata": {
    "colab_type": "text",
    "id": "kQlell_GkVqU"
   },
   "source": [
    "__5.__ Найти производную функции:\n",
    "\n",
    "$$y= \\ln(x+\\sqrt{x^2+1})$$"
   ]
  },
  {
   "cell_type": "markdown",
   "metadata": {
    "colab_type": "text",
    "id": "ysxFbibaSwW0"
   },
   "source": [
    "__6.__ Найти производную функции:\n",
    "\n",
    "$$y=x \\cdot \\ln(x+\\sqrt{x^2+1})-\\sqrt{x^2+1}$$"
   ]
  },
  {
   "cell_type": "markdown",
   "metadata": {
    "colab_type": "text",
    "id": "dxAKR1JPSwW1"
   },
   "source": [
    "__7*.__ Найти производную функции:\n",
    "\n",
    "$$y=\\arcsin (\\sin x)$$"
   ]
  },
  {
   "cell_type": "markdown",
   "metadata": {
    "colab_type": "text",
    "id": "bSc0SAfWSwW2"
   },
   "source": [
    "__8*.__ Вычислить приближенное значение: \n",
    "\n",
    "$$\\sin(1^0)=\\sin(\\frac{\\pi}{180})$$\n"
   ]
  },
  {
   "cell_type": "markdown",
   "metadata": {
    "colab_type": "text",
    "id": "KgrlLI9qSwW3"
   },
   "source": [
    "__9**.__ Написать на python алгоритм, по вычислению значений $\\sin(x)$ для $х \\in[0, 5^0]$\n",
    "\n",
    "Для проверки подойдут данные из таблицы Брадиса\n",
    "\n",
    "$$\\sin(0)=0.0000$$\n",
    "\n",
    "$$\\sin(1^0)=0.0175$$\n",
    "\n",
    "$$\\sin(2^0)=0.0349$$\n",
    "\n",
    "$$\\sin(3^0)=0.0523$$\n",
    "\n",
    "$$\\sin(4^0)=0.0698$$\n",
    "\t\n",
    "$$\\sin(5^0)=0.0872$$\n",
    "\n",
    "\n"
   ]
  },
  {
   "cell_type": "markdown",
   "metadata": {
    "colab_type": "text",
    "id": "Iv-T_NZAkVqZ"
   },
   "source": [
    "## Дополнительные материалы"
   ]
  },
  {
   "cell_type": "markdown",
   "metadata": {
    "colab_type": "text",
    "id": "9o_SiUNxkVqa"
   },
   "source": [
    "1. [SymPy](https://www.sympy.org/en/index.html)"
   ]
  }
 ],
 "metadata": {
  "colab": {
   "collapsed_sections": [],
   "name": "Copy of Lesson_6.ipynb",
   "provenance": []
  },
  "kernelspec": {
   "display_name": "Python 3",
   "language": "python",
   "name": "python3"
  },
  "language_info": {
   "codemirror_mode": {
    "name": "ipython",
    "version": 3
   },
   "file_extension": ".py",
   "mimetype": "text/x-python",
   "name": "python",
   "nbconvert_exporter": "python",
   "pygments_lexer": "ipython3",
   "version": "3.7.7"
  }
 },
 "nbformat": 4,
 "nbformat_minor": 1
}
