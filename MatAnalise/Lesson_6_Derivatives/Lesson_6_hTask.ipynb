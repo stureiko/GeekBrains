{
 "cells": [
  {
   "cell_type": "markdown",
   "metadata": {},
   "source": [
    "# Author: Стурейко Игорь\n",
    "## Project: Geekbrains.MatAnalise\n",
    "## Lesson 6 - Производная\n",
    "## Date: 2020-06-02"
   ]
  },
  {
   "cell_type": "markdown",
   "metadata": {
    "colab_type": "text",
    "id": "SmdURZ_OkVqQ"
   },
   "source": [
    "__1.__ Найти производную функции:\n",
    "\n",
    "$$y=\\frac{1}{x}+\\frac{2}{x^2}-\\frac{5}{x^3}+\\sqrt x -\\sqrt[3]x+\\frac{3}{\\sqrt x}$$"
   ]
  },
  {
   "cell_type": "markdown",
   "metadata": {},
   "source": [
    "$\\displaystyle y' = (x^{-1}+2x^{-2}-5x^{-3}+x^{1/2}-x^{1/3}+3x^{-1/2})'=-x^{-2}-4x^{-3}+15x^{-4}+\\frac{1}{2}x^{-1/2}-\\frac{1}{3}x^{-2/3}-\\frac{3}{2}x^{-3/2}$"
   ]
  },
  {
   "cell_type": "markdown",
   "metadata": {
    "colab_type": "text",
    "id": "cECfCSANkVqR"
   },
   "source": [
    "__2.__ Найти производную функции:\n",
    "\n",
    "$$y=x \\cdot \\sqrt {1+x^2}$$"
   ]
  },
  {
   "cell_type": "markdown",
   "metadata": {},
   "source": [
    "$\\displaystyle y'=(x \\cdot \\sqrt {1+x^2})'=\\sqrt {1+x^2}+x \\cdot \\frac{1}{2}\\frac{1}{\\sqrt{1+x^2}} \\cdot 2x = \\sqrt {1+x^2} + \\frac{x^2}{\\sqrt {1+x^2}}=\\frac{1+2x^2}{\\sqrt {1+x^2}}$"
   ]
  },
  {
   "cell_type": "markdown",
   "metadata": {
    "colab_type": "text",
    "id": "DFrjdtbHkVqS"
   },
   "source": [
    "__3.__ Найти производную функции:\n",
    "\n",
    "$$y= \\frac{2x}{1-x^2}$$"
   ]
  },
  {
   "cell_type": "markdown",
   "metadata": {},
   "source": [
    "$\\displaystyle y' = \\big(\\frac{2x}{1-x^2}\\big)'=\\frac{2-2x^2+4x^2}{(1-x^2)^2}=2\\frac{1+x^2}{(1-x^2)^2}$"
   ]
  },
  {
   "cell_type": "markdown",
   "metadata": {
    "colab_type": "text",
    "id": "5la-eVLukVqT"
   },
   "source": [
    "__4*.__ Найти производную функции:\n",
    "\n",
    "$$y=\\sqrt{x+ \\sqrt{x+\\sqrt x}}$$"
   ]
  },
  {
   "cell_type": "markdown",
   "metadata": {},
   "source": [
    "$\\displaystyle y' = \\big((x+(x+(x)^{1/2})^{1/2})^{1/2}\\big)'=\\frac{1}{2\\sqrt{x+\\sqrt{x+\\sqrt{x}}}}\\Big(x+\\sqrt{x+\\sqrt{x}}\\Big)'=\\frac{1}{2\\sqrt{x+\\sqrt{x+\\sqrt{x}}}}\\Big(1+\\Big(\\sqrt{x+\\sqrt{x}}\\Big)'\\Big)=\\frac{1}{2\\sqrt{x+\\sqrt{x+\\sqrt{x}}}}\\Bigg(1+\\frac{1}{2\\sqrt{x+\\sqrt{x}}}\\Big(1+\\frac{1}{2\\sqrt{x}}\\Big)\\Bigg)$"
   ]
  },
  {
   "cell_type": "markdown",
   "metadata": {
    "colab_type": "text",
    "id": "kQlell_GkVqU"
   },
   "source": [
    "__5.__ Найти производную функции:\n",
    "\n",
    "$$y= \\ln(x+\\sqrt{x^2+1})$$"
   ]
  },
  {
   "cell_type": "markdown",
   "metadata": {},
   "source": [
    "$\\displaystyle y' = (\\ln(x+\\sqrt{x^2+1}))'=\\frac{1}{x+\\sqrt{x^2+1}}\\cdot (x + \\sqrt{x^2+1})'=\\frac{1}{x+\\sqrt{x^2+1}} + \\frac{x}{\\sqrt{x^2+1}}$"
   ]
  },
  {
   "cell_type": "markdown",
   "metadata": {
    "colab_type": "text",
    "id": "ysxFbibaSwW0"
   },
   "source": [
    "__6.__ Найти производную функции:\n",
    "\n",
    "$$y=x \\cdot \\ln(x+\\sqrt{x^2+1})-\\sqrt{x^2+1}$$"
   ]
  },
  {
   "cell_type": "markdown",
   "metadata": {},
   "source": [
    "$\\displaystyle y'= x \\cdot(\\ln(x+\\sqrt{x^2+1}))'+ \\ln(x+\\sqrt{x^2+1})-\\frac{1}{2}\\frac{2x}{\\sqrt{x^2+1}}=\\frac{x}{x+\\sqrt{x^2+1}} + \\frac{x^2}{\\sqrt{x^2+1}}+ \\ln(x+\\sqrt{x^2+1})-\\frac{x}{\\sqrt{x^2+1}}$"
   ]
  },
  {
   "cell_type": "markdown",
   "metadata": {
    "colab_type": "text",
    "id": "dxAKR1JPSwW1"
   },
   "source": [
    "__7*.__ Найти производную функции:\n",
    "\n",
    "$$y=\\arcsin (\\sin x)$$"
   ]
  },
  {
   "cell_type": "markdown",
   "metadata": {},
   "source": [
    "$\\displaystyle y'=(\\arcsin{(\\sin{x})})'=\\frac{1}{\\sqrt{1-\\sin^2{x}}}\\cos{x}=\\frac{\\cos{x}}{|\\cos{x}|}$"
   ]
  },
  {
   "cell_type": "markdown",
   "metadata": {
    "colab_type": "text",
    "id": "bSc0SAfWSwW2"
   },
   "source": [
    "__8*.__ Вычислить приближенное значение: \n",
    "\n",
    "$$\\sin(1^0)=\\sin(\\frac{\\pi}{180})$$\n"
   ]
  },
  {
   "cell_type": "markdown",
   "metadata": {},
   "source": [
    "$\\displaystyle \\sin(1^0)=\\sin{(0+1^0)} = \\sin{0}+\\cos{0}\\cdot \\frac{1^0 \\cdot \\pi}{180} = 0 + 1 \\cdot \\frac{1\\cdot \\pi}{180}=1\\frac{\\pi}{180}$"
   ]
  },
  {
   "cell_type": "code",
   "execution_count": 40,
   "metadata": {},
   "outputs": [],
   "source": [
    "from decimal import Decimal\n",
    "import math\n",
    "def bbp(n):\n",
    "    \"\"\"Функция вычисления пи по алгоритму Бэйли — Боруэйна — Плаффа\"\"\"\n",
    "    pi = Decimal(0)\n",
    "    k = 0\n",
    "    while k < n:\n",
    "        pi += (Decimal(1)/(16**k))*((Decimal(4)/(8*k+1))-(Decimal(2)/(8*k+4))-(Decimal(1)/(8*k+5))-(Decimal(1)/(8*k+6)))\n",
    "        k += 1\n",
    "    return pi"
   ]
  },
  {
   "cell_type": "markdown",
   "metadata": {},
   "source": [
    "Вычислить с точностью в 100 членов ряда разложения $\\pi$"
   ]
  },
  {
   "cell_type": "code",
   "execution_count": 42,
   "metadata": {},
   "outputs": [
    {
     "data": {
      "text/plain": [
       "Decimal('0.01745329251994329576923690767')"
      ]
     },
     "execution_count": 42,
     "metadata": {},
     "output_type": "execute_result"
    }
   ],
   "source": [
    "bbp(100)/180"
   ]
  },
  {
   "cell_type": "markdown",
   "metadata": {},
   "source": [
    "Сравнить с вычислением на встроенной библиотеке"
   ]
  },
  {
   "cell_type": "code",
   "execution_count": 44,
   "metadata": {},
   "outputs": [
    {
     "data": {
      "text/latex": [
       "$\\displaystyle 8.86082659783821 \\cdot 10^{-7}$"
      ],
      "text/plain": [
       "8.86082659783821e-7"
      ]
     },
     "execution_count": 44,
     "metadata": {},
     "output_type": "execute_result"
    }
   ],
   "source": [
    "bbp(100)/180 - sin(math.radians(1))"
   ]
  },
  {
   "cell_type": "markdown",
   "metadata": {
    "colab_type": "text",
    "id": "KgrlLI9qSwW3"
   },
   "source": [
    "__9**.__ Написать на python алгоритм, по вычислению значений $\\sin(x)$ для $х \\in[0, 5^0]$\n",
    "\n",
    "Для проверки подойдут данные из таблицы Брадиса\n",
    "\n",
    "$$\\sin(0)=0.0000$$\n",
    "\n",
    "$$\\sin(1^0)=0.0175$$\n",
    "\n",
    "$$\\sin(2^0)=0.0349$$\n",
    "\n",
    "$$\\sin(3^0)=0.0523$$\n",
    "\n",
    "$$\\sin(4^0)=0.0698$$\n",
    "\t\n",
    "$$\\sin(5^0)=0.0872$$\n",
    "\n",
    "\n"
   ]
  },
  {
   "cell_type": "markdown",
   "metadata": {},
   "source": [
    "Как было показано в предыдущем: $\\displaystyle \\sin{\\alpha}=\\alpha\\frac{\\pi}{180}$, тогда:"
   ]
  },
  {
   "cell_type": "code",
   "execution_count": 50,
   "metadata": {
    "scrolled": true
   },
   "outputs": [
    {
     "name": "stdout",
     "output_type": "stream",
     "text": [
      "sin(1) = 0.017453, точность в сравнении с библиотекой Python 8.860827e-7\n"
     ]
    }
   ],
   "source": [
    "print(f'sin(1) = {bbp(100)/180:2.6f}, точность в сравнении с библиотекой Python {bbp(100)/180 - sin(math.radians(1)):2.6e}')"
   ]
  },
  {
   "cell_type": "code",
   "execution_count": 57,
   "metadata": {},
   "outputs": [],
   "source": [
    "def sin_calc(n):\n",
    "    \"\"\"Выводит вычисленный sin для углов от 1 до n и сравнение точности результата с встроенной библиотекой Python\"\"\"\n",
    "    for i in range(1, n+1):\n",
    "        print(f'sin({i}) = {i*bbp(100)/180:2.6f}, точность в сравнении с библиотекой Python {i*bbp(100)/180 - sin(math.radians(i)):2.6e}')"
   ]
  },
  {
   "cell_type": "code",
   "execution_count": 61,
   "metadata": {},
   "outputs": [
    {
     "name": "stdout",
     "output_type": "stream",
     "text": [
      "sin(1) = 0.017453, точность в сравнении с библиотекой Python 8.860827e-7\n",
      "sin(2) = 0.034907, точность в сравнении с библиотекой Python 7.088337e-6\n",
      "sin(3) = 0.052360, точность в сравнении с библиотекой Python 2.392132e-5\n",
      "sin(4) = 0.069813, точность в сравнении с библиотекой Python 5.669634e-5\n",
      "sin(5) = 0.087266, точность в сравнении с библиотекой Python 1.107199e-4\n"
     ]
    }
   ],
   "source": [
    "sin_calc(5)"
   ]
  },
  {
   "cell_type": "code",
   "execution_count": null,
   "metadata": {},
   "outputs": [],
   "source": []
  }
 ],
 "metadata": {
  "kernelspec": {
   "display_name": "Python 3",
   "language": "python",
   "name": "python3"
  },
  "language_info": {
   "codemirror_mode": {
    "name": "ipython",
    "version": 3
   },
   "file_extension": ".py",
   "mimetype": "text/x-python",
   "name": "python",
   "nbconvert_exporter": "python",
   "pygments_lexer": "ipython3",
   "version": "3.7.7"
  }
 },
 "nbformat": 4,
 "nbformat_minor": 4
}
