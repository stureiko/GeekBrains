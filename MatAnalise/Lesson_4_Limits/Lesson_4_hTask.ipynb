{
 "cells": [
  {
   "cell_type": "markdown",
   "metadata": {},
   "source": [
    "# Author: Стурейко Игорь\n",
    "## Project: Geekbrains.MatAnalise\n",
    "## Lesson 4 - Предел\n",
    "## Date: 2020-05-25"
   ]
  },
  {
   "cell_type": "markdown",
   "metadata": {},
   "source": [
    "## 1. Предложить пример функции, не имеющей предела в нуле и в бесконечностях."
   ]
  },
  {
   "cell_type": "markdown",
   "metadata": {},
   "source": [
    "$\\displaystyle f(x) = x + \\frac{1}{x}$"
   ]
  },
  {
   "cell_type": "markdown",
   "metadata": {},
   "source": [
    "## 2. Привести пример функции, не имеющей предела в точке, но определенной в ней."
   ]
  },
  {
   "cell_type": "markdown",
   "metadata": {},
   "source": [
    "Любая функция имеющая в этой точке разрыв первого рода"
   ]
  },
  {
   "cell_type": "markdown",
   "metadata": {},
   "source": [
    "## 3. Исследовать функцию $\\displaystyle f(x) = x^3-x^2$:"
   ]
  },
  {
   "cell_type": "markdown",
   "metadata": {},
   "source": [
    "### 3.1 Область задания и область значений."
   ]
  },
  {
   "cell_type": "code",
   "execution_count": 19,
   "metadata": {},
   "outputs": [
    {
     "data": {
      "image/png": "[encoded data removed]",
      "text/plain": [
       "<Figure size 432x288 with 1 Axes>"
      ]
     },
     "metadata": {
      "needs_background": "light"
     },
     "output_type": "display_data"
    }
   ],
   "source": [
    "import numpy as np\n",
    "from matplotlib import pyplot as plt\n",
    "%matplotlib inline\n",
    "\n",
    "x = np.arange(-0.5, 1.1, 0.01)\n",
    "y = x**3 - x**2\n",
    "plt.plot(x, y)\n",
    "\n",
    "plt.show()"
   ]
  },
  {
   "cell_type": "markdown",
   "metadata": {},
   "source": [
    "Область определения - $x\\in(-\\infty, \\infty)$, область значений $y \\in (-\\infty, \\infty)$"
   ]
  },
  {
   "cell_type": "markdown",
   "metadata": {},
   "source": [
    "### 3.2 Нули функции и их кратность."
   ]
  },
  {
   "cell_type": "markdown",
   "metadata": {},
   "source": [
    "Решения уравнения $x = 0$ - кратность 3, $x=1$ - кратность 2"
   ]
  },
  {
   "cell_type": "markdown",
   "metadata": {},
   "source": [
    "### 3.3 Отрезки знакопостоянства."
   ]
  },
  {
   "cell_type": "markdown",
   "metadata": {},
   "source": [
    "Найдем точки в которых производная обратиться в 0: $f'=3x^2-2x = 0 \\Rightarrow x = 0, x = 2/3 \\Rightarrow$ тогда\n",
    "$f(-\\infty, 0)<0$ и $f(0, 2/3)<0$, $f(2/3, \\infty)>0$, $f(0)=0$, $f(2/3)=0$"
   ]
  },
  {
   "cell_type": "markdown",
   "metadata": {},
   "source": [
    "### 3.4 Интервалы монотонности."
   ]
  },
  {
   "cell_type": "markdown",
   "metadata": {},
   "source": [
    "$f(-\\infty, 0)$ - монотонно возрастает, $f(0, 2/3)$ - монотонно убывает, $f(2/3, \\infty)$ - монотонно возрастает"
   ]
  },
  {
   "cell_type": "markdown",
   "metadata": {},
   "source": [
    "### 3.5 Четность функции."
   ]
  },
  {
   "cell_type": "markdown",
   "metadata": {},
   "source": [
    "Функция общего вида"
   ]
  },
  {
   "cell_type": "markdown",
   "metadata": {},
   "source": [
    "### 3.6 Ограниченность."
   ]
  },
  {
   "cell_type": "markdown",
   "metadata": {},
   "source": [
    "Функция неограничена"
   ]
  },
  {
   "cell_type": "markdown",
   "metadata": {},
   "source": [
    "### 3.7 Периодичность."
   ]
  },
  {
   "cell_type": "markdown",
   "metadata": {},
   "source": [
    "Функция не периодична"
   ]
  },
  {
   "cell_type": "markdown",
   "metadata": {},
   "source": [
    "## 4. Найти предел:"
   ]
  },
  {
   "cell_type": "markdown",
   "metadata": {},
   "source": [
    "### 4.1 $\\displaystyle \\lim_{x \\to 0}\\frac{3x^3-2x^2}{4x^2} = \\lim_{x \\to 0}\\frac{x^2(3x-2)}{4x^2}=\\lim_{x \\to 0}\\frac{3x-2}{4}=-\\frac{1}{2}$"
   ]
  },
  {
   "cell_type": "markdown",
   "metadata": {},
   "source": [
    "$\\displaystyle \\lim_{x \\to 0}\\frac{3x^3-2x^2}{4x^2} = ||$ предел суммы равен сумме пределов $\\displaystyle || = \\lim_{x \\to 0}\\frac{3x^3}{4x^2} - \\lim_{x \\to 0}\\frac{2x^2}{4x^2} = -\\frac{1}{2}$"
   ]
  },
  {
   "cell_type": "markdown",
   "metadata": {},
   "source": [
    "### 4.2 $\\displaystyle \\lim_{x \\to 0}\\frac{\\sqrt{1+x}-1}{\\sqrt[3]{1+x}-1} = \\lim_{x \\to 0}\\frac{(\\sqrt{1+x}-1)(\\sqrt{1+x}+1)(1+x+2\\sqrt[3]{1+x}+1)}{(\\sqrt[3]{1+x}-1)(\\sqrt{1+x}+1)(1+x+2\\sqrt[3]{1+x}+1)}=\\lim_{x \\to 0}\\frac{(1+x-1)(1+x+s\\sqrt[3]{1+x}+1)}{(1+x-1)(\\sqrt{1+x}+1)}=\\lim_{x \\to 0}\\frac{x+2\\sqrt[3]{1+x}+2}{\\sqrt{1+x}+1}=2$"
   ]
  },
  {
   "cell_type": "markdown",
   "metadata": {},
   "source": [
    "### 4.3 $\\displaystyle \\lim_{x \\to \\infty}\\Big(\\frac{x+3}{x}\\Big)^{4x+1}=\\Big(1+\\frac{3}{x}\\Big)^{\\frac{x}{3}\\frac{3}{x}(4x+1)}=e^{\\lim_{x \\to \\infty}(12+\\frac{1}{x})}=e^{12}$"
   ]
  },
  {
   "cell_type": "markdown",
   "metadata": {},
   "source": [
    "## 5. Найти предел:"
   ]
  },
  {
   "cell_type": "markdown",
   "metadata": {},
   "source": [
    "### 5.1 $\\displaystyle \\lim_{x \\to 0}\\frac{\\sin{(2x)}}{4x}=\\lim_{x \\to 0}\\frac{1}{2}\\frac{\\sin{2x}}{2x}=\\frac{1}{2}$"
   ]
  },
  {
   "cell_type": "markdown",
   "metadata": {},
   "source": [
    "### 5.2 $\\displaystyle \\lim_{x \\to 0}\\frac{x}{\\sin{x}}=||$ следствие их 1-го замечательного предела $||=1$"
   ]
  },
  {
   "cell_type": "markdown",
   "metadata": {},
   "source": [
    "### 5.3 $\\displaystyle \\lim_{x \\to 0}\\frac{x}{\\arcsin{x}}=||$ следствие их 1-го замечательного предела $||=1$"
   ]
  },
  {
   "cell_type": "markdown",
   "metadata": {},
   "source": [
    "### 5.4 $\\displaystyle \\lim_{x \\to \\infty}\\Big(\\frac{4x+3}{4x-3}\\Big)^{6x}=\\lim_{x \\to \\infty}\\Big(1+\\frac{6}{4x-3}\\Big)^{\\frac{4x-3}{6}6x\\frac{6}{4x-3}} = e^{\\lim_{x \\to \\infty}\\frac{36x}{4x-3}}=e^9$"
   ]
  },
  {
   "cell_type": "markdown",
   "metadata": {},
   "source": [
    "### 5.5 $\\displaystyle \\lim_{x \\to \\infty}\\frac{\\sin{x} + \\ln{x}}{x}=\\lim_{x \\to \\infty}\\frac{\\sin{x}}{x} + \\lim_{x \\to \\infty}\\frac{\\ln{x}}{x} = 0 + 0 = 0$"
   ]
  },
  {
   "cell_type": "markdown",
   "metadata": {},
   "source": [
    "### 5.6 $\\displaystyle \\lim_{x \\to 0}\\frac{\\sin{x} + \\ln{x}}{x}=\\lim_{x \\to 0}\\frac{\\sin{x}}{x} + \\lim_{x \\to 0}\\frac{\\ln{x}}{x} = 1 + 0 = 1$"
   ]
  },
  {
   "cell_type": "code",
   "execution_count": null,
   "metadata": {},
   "outputs": [],
   "source": []
  }
 ],
 "metadata": {
  "kernelspec": {
   "display_name": "Python 3",
   "language": "python",
   "name": "python3"
  },
  "language_info": {
   "codemirror_mode": {
    "name": "ipython",
    "version": 3
   },
   "file_extension": ".py",
   "mimetype": "text/x-python",
   "name": "python",
   "nbconvert_exporter": "python",
   "pygments_lexer": "ipython3",
   "version": "3.7.7"
  }
 },
 "nbformat": 4,
 "nbformat_minor": 4
}
