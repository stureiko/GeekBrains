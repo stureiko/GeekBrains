{
 "cells": [
  {
   "cell_type": "markdown",
   "metadata": {},
   "source": [
    "# Author: Стурейко Игорь\n",
    "## Project: Geekbrains.Mathematics\n",
    "## Lesson 2 - Алгебра\n",
    "## Date: 2020-06-06"
   ]
  },
  {
   "cell_type": "markdown",
   "metadata": {},
   "source": [
    "## 1. Напишите уравнение параболы, проходящей через три точки (x,y): (1,2), (3,10), (5,1)"
   ]
  },
  {
   "cell_type": "markdown",
   "metadata": {},
   "source": [
    "### Решение:\n",
    "$\\displaystyle \n",
    "\\begin{matrix}\n",
    "a + b + c = 2\\\\\n",
    "9a + 3b + c = 10\\\\\n",
    "25a + 5b + c = 1\n",
    "\\end{matrix}\n",
    "$"
   ]
  },
  {
   "cell_type": "code",
   "execution_count": 11,
   "metadata": {},
   "outputs": [
    {
     "data": {
      "text/plain": [
       "(array([[ 2],\n",
       "        [10],\n",
       "        [ 1]]),\n",
       " array([[ 1.,  1.,  1.],\n",
       "        [ 9.,  3.,  1.],\n",
       "        [25.,  5.,  1.]]))"
      ]
     },
     "execution_count": 11,
     "metadata": {},
     "output_type": "execute_result"
    }
   ],
   "source": [
    "import numpy as np\n",
    "A = np.array([[1., 1., 1.], [9., 3., 1.], [25., 5., 1.]])\n",
    "v = np.array([[2], [10], [1]])\n",
    "np.linalg.det(A)\n",
    "solv = np.linalg.solve(A, v)\n",
    "v, A"
   ]
  },
  {
   "cell_type": "code",
   "execution_count": 3,
   "metadata": {},
   "outputs": [
    {
     "data": {
      "text/plain": [
       "array([[-2.125],\n",
       "       [12.5  ],\n",
       "       [-8.375]])"
      ]
     },
     "execution_count": 3,
     "metadata": {},
     "output_type": "execute_result"
    }
   ],
   "source": [
    "solv"
   ]
  },
  {
   "cell_type": "markdown",
   "metadata": {},
   "source": [
    "### $\\displaystyle -2.125x^2+12.5x-8.375=y$"
   ]
  },
  {
   "cell_type": "markdown",
   "metadata": {},
   "source": [
    "## 2. Решить задачу:\n",
    "Известно, что свежий огурец на 99% состоит из воды. Месяц назад взвесили мешок со свежими огурцами. Получилось, что огурцов ровно 100 кг. Мешок убрали, а через месяц снова взвесили. Огурцы за это время усохли, и теперь вода составляет уже только 98% их веса. Сколько теперь (в кг) весят огурцы?"
   ]
  },
  {
   "cell_type": "markdown",
   "metadata": {},
   "source": [
    "Огурцы составляли 1%, вода 99%, т.е $0.01+0.99=1$ теперь тоже количество воды составляет 98% при том же количестве огурцов $0.01 + 0.98(0.99)=0.9802$ т.е усохшие огурцы весят 98.02 кг."
   ]
  },
  {
   "cell_type": "markdown",
   "metadata": {},
   "source": [
    "## 3. Решить уравнения:"
   ]
  },
  {
   "cell_type": "markdown",
   "metadata": {},
   "source": [
    "### 3.1 $2^x = 256$"
   ]
  },
  {
   "cell_type": "markdown",
   "metadata": {},
   "source": [
    "$x = \\log_2{256} = \\log_2{2^8}=8$"
   ]
  },
  {
   "cell_type": "markdown",
   "metadata": {},
   "source": [
    "### 3.2 $2^x=300$"
   ]
  },
  {
   "cell_type": "markdown",
   "metadata": {},
   "source": [
    "$x = \\log_2{300}=\\log_22^2+\\log_2{75}=2+\\log_2{5^2 \\cdot 3}=2(1+\\log_25)+\\log_23$"
   ]
  },
  {
   "cell_type": "markdown",
   "metadata": {},
   "source": [
    "### 3.3 $\\log_82^{8x-4}=4$"
   ]
  },
  {
   "cell_type": "markdown",
   "metadata": {},
   "source": [
    "$\\log_8{2^{(8x-4)}}=(8x-4)\\log_8{2}=(8x-4)\\log_{2^3}{2}=(8x-4)\\frac{1}{3}\\log_22=4 \\Rightarrow 8x-4=12 \\Rightarrow x = 2$"
   ]
  },
  {
   "cell_type": "markdown",
   "metadata": {},
   "source": [
    "### 3.4 $3^{\\log_9(5x-5)}=5$"
   ]
  },
  {
   "cell_type": "markdown",
   "metadata": {},
   "source": [
    "$3^{\\log_9{(5x-5)}}=(5x-5)\\log_9{3}=\\sqrt{5x-5}=5 \\Rightarrow 5x-5=25 \\Rightarrow x =6$"
   ]
  },
  {
   "cell_type": "markdown",
   "metadata": {},
   "source": [
    "### 3.5 $x^{\\log_3{(x+1)}}=9$"
   ]
  },
  {
   "cell_type": "markdown",
   "metadata": {},
   "source": [
    "$x^{\\log_3(x+1)}=(x+1)^{\\log_3x}=3^{\\log_33^2} \\Rightarrow x =2$"
   ]
  },
  {
   "cell_type": "markdown",
   "metadata": {},
   "source": [
    "## 4. Вычислить:"
   ]
  },
  {
   "cell_type": "markdown",
   "metadata": {},
   "source": [
    "### 4.1 $\\log_4{16}$"
   ]
  },
  {
   "cell_type": "markdown",
   "metadata": {},
   "source": [
    "$\\log_4{16}=\\log_4{4^2}=2$"
   ]
  },
  {
   "cell_type": "markdown",
   "metadata": {},
   "source": [
    "### 4.2 $\\displaystyle \\log_{5}\\frac{1}{25}$"
   ]
  },
  {
   "cell_type": "markdown",
   "metadata": {},
   "source": [
    "$\\displaystyle \\log_{5}\\frac{1}{25}=\\log_5{5^{-2}}=-2$"
   ]
  },
  {
   "cell_type": "markdown",
   "metadata": {},
   "source": [
    "### 4.3 $\\log_{25}{5}$"
   ]
  },
  {
   "cell_type": "markdown",
   "metadata": {},
   "source": [
    "$\\displaystyle \\log_{25}{5}=\\log_{5^2}5=\\frac{1}{2}$"
   ]
  },
  {
   "cell_type": "markdown",
   "metadata": {},
   "source": [
    "### 4.4 $\\log_3{\\sqrt{27}}$"
   ]
  },
  {
   "cell_type": "markdown",
   "metadata": {},
   "source": [
    "$\\displaystyle \\log_3{\\sqrt{27}}=\\log_3{3^{\\frac{3}{2}}}=\\frac{3}{2}$"
   ]
  },
  {
   "cell_type": "markdown",
   "metadata": {},
   "source": [
    "### 4.5 $\\log_2{12}-\\log_2{3}$"
   ]
  },
  {
   "cell_type": "markdown",
   "metadata": {},
   "source": [
    "$\\displaystyle \\log_2{12}-\\log_2{3} = \\log_2{\\frac{12}{3}}=\\log_24=2$"
   ]
  },
  {
   "cell_type": "markdown",
   "metadata": {},
   "source": [
    "### 4.5 $\\log_6{12}+\\log_6{3}$"
   ]
  },
  {
   "cell_type": "markdown",
   "metadata": {},
   "source": [
    "$\\log_6{12}+\\log_6{3} = \\log_6(12 \\cdot 3) = \\log_636 = \\log_6{6^2}=2$"
   ]
  },
  {
   "cell_type": "markdown",
   "metadata": {},
   "source": [
    "### 4.6 $e^{\\ln5}$"
   ]
  },
  {
   "cell_type": "markdown",
   "metadata": {},
   "source": [
    "$\\displaystyle e^{\\ln5}=5^{\\ln e}=5$"
   ]
  },
  {
   "cell_type": "markdown",
   "metadata": {},
   "source": [
    "### 4.7 $\\displaystyle \\frac{\\log_2{225}}{\\log_2{15}}$"
   ]
  },
  {
   "cell_type": "markdown",
   "metadata": {},
   "source": [
    "$\\displaystyle \\frac{\\log_2{225}}{\\log_2{15}}=\\frac{\\log_2{15^2}}{\\log_2{15}}=\\frac{2\\log_2{15}}{\\log_2{15}}=2$"
   ]
  },
  {
   "cell_type": "markdown",
   "metadata": {},
   "source": [
    "### 4.8 $\\log_4{32}+\\log_{0.1}{10}$"
   ]
  },
  {
   "cell_type": "markdown",
   "metadata": {},
   "source": [
    "$\\displaystyle \\log_4{32}+\\log_{0.1}{10} =\\log_{2^2}{2^4}+\\log_{10^{-1}}{10}=\\frac{4}{2}+\\frac{1}{(-1)}=1$"
   ]
  },
  {
   "cell_type": "markdown",
   "metadata": {},
   "source": [
    "### 4.9 $9^{\\log_3{\\sqrt{5}}}$"
   ]
  },
  {
   "cell_type": "markdown",
   "metadata": {},
   "source": [
    "$9^{\\log_3{\\sqrt{5}}}=\\sqrt{5}^{\\log_3{9}}=5$"
   ]
  },
  {
   "cell_type": "code",
   "execution_count": null,
   "metadata": {},
   "outputs": [],
   "source": []
  }
 ],
 "metadata": {
  "kernelspec": {
   "display_name": "Python 3",
   "language": "python",
   "name": "python3"
  },
  "language_info": {
   "codemirror_mode": {
    "name": "ipython",
    "version": 3
   },
   "file_extension": ".py",
   "mimetype": "text/x-python",
   "name": "python",
   "nbconvert_exporter": "python",
   "pygments_lexer": "ipython3",
   "version": "3.7.7"
  }
 },
 "nbformat": 4,
 "nbformat_minor": 4
}
