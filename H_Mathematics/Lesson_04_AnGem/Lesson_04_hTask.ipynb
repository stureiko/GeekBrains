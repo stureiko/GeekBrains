{
 "cells": [
  {
   "cell_type": "markdown",
   "metadata": {},
   "source": [
    "# Author: Стурейко Игорь\n",
    "## Project: Geekbrains.Mathematics\n",
    "## Lesson 4 - Аналитическая геометрия\n",
    "## Date: 2020-06-15"
   ]
  },
  {
   "cell_type": "markdown",
   "metadata": {},
   "source": [
    "## 1. Решить уравнение $\\displaystyle \\frac{\\sin{(x)}}{x}=0$"
   ]
  },
  {
   "cell_type": "markdown",
   "metadata": {},
   "source": [
    "$x \\neq 0$, $\\sin{x}=0 \\Rightarrow x = \\pi n, n \\in \\mathbb{N}, n \\neq 0$"
   ]
  },
  {
   "cell_type": "markdown",
   "metadata": {},
   "source": [
    "## 2. Даны три прямые $y=k_1\\cdot x+b_1, y=k_2\\cdot x+b_2, y=k_3\\cdot x+b_3$. Как узнать, пересекаются они в одной точке или нет?"
   ]
  },
  {
   "cell_type": "markdown",
   "metadata": {},
   "source": [
    "2.1 Уравнение пучка прямых, проходящих через одну точку: $y-y_1=k(x-x_1)$, если все уравнения удовлетворяют условию - то они проходят через одну точку."
   ]
  },
  {
   "cell_type": "markdown",
   "metadata": {},
   "source": [
    "2.2 Если прямые проходят через одну точку, то система линейных уравнений относительно x и y имеет решение -> координаты той самой точки."
   ]
  },
  {
   "cell_type": "markdown",
   "metadata": {},
   "source": [
    "## 3. На листе тетради «в линейку» (расстояние между линиями равно а) лежит игла (длиной b). Координаты нижней точки иглы $(x_0,y_0)$, игла лежит под углом $\\alpha$. Пересекает ли игла линию или нет?"
   ]
  },
  {
   "cell_type": "markdown",
   "metadata": {},
   "source": [
    "Пересечение иглой линии означает, что нормальная к линиям компонента ее длины больше чем расстояние между линиями, тогда, приняв ось x - параллельно линиям, ось y - перпендикулярно им имеем условие пересечения иглой линии: $x_0+b\\sin{\\alpha}>a$"
   ]
  },
  {
   "cell_type": "markdown",
   "metadata": {},
   "source": [
    "## 4. Решите аналитически и потом численно (в программе) уравнение, зависящее от параметра а: $\\sin{(ax)}=0$\n",
    "при условии: 0.01<a<0.02, 100<х<500.\n",
    "Т.е. надо найти решение х как функцию параметра а - построить график x=x(а).\n",
    "Если численным методом не получается найти все ветви решения x(а), то отыщите хотя бы одну.\n"
   ]
  },
  {
   "cell_type": "markdown",
   "metadata": {},
   "source": [
    "## 5. Найти угол между прямыми: $4y-3x+12=0, 7y+x-14=0$ "
   ]
  },
  {
   "cell_type": "markdown",
   "metadata": {},
   "source": [
    "Угол между прямыми на плоскости заданными в общем виде есть: $\\displaystyle \\cos{\\phi}=\\frac{A_1A_2+B_1B_2}{\\sqrt{A_1^2+B_1^2}\\sqrt{A_2^2+B_2^2}}=\\frac{-3+4\\cdot 7}{\\sqrt{9+16}\\sqrt{1+49}}=\\frac{1}{\\sqrt{2}}$, что соотвествует углу $\\displaystyle \\phi = \\frac{\\pi}{4}$ "
   ]
  },
  {
   "cell_type": "markdown",
   "metadata": {},
   "source": [
    "## 6. Найти угол между прямыми: $x = \\sqrt{2}, x = -\\sqrt{3}$"
   ]
  },
  {
   "cell_type": "markdown",
   "metadata": {},
   "source": [
    "Данные уравнения задают прямые перпендикулярные оси x, т.е постоянный x для любого y. Угол между ними равен 0."
   ]
  },
  {
   "cell_type": "markdown",
   "metadata": {},
   "source": [
    "## 7. Определить тип кривой порожденный следующими уравнениями:"
   ]
  },
  {
   "cell_type": "markdown",
   "metadata": {},
   "source": [
    "### 7.1 $y^2-2x-2y-5=0$"
   ]
  },
  {
   "cell_type": "markdown",
   "metadata": {},
   "source": [
    "$y^2-2x-2y-5=(y^2-2y+1)-2x-6=(y-1)^2-2(x-3)=0 \\Rightarrow$ Парабола."
   ]
  },
  {
   "cell_type": "code",
   "execution_count": 6,
   "metadata": {},
   "outputs": [
    {
     "data": {
      "image/png": "[encoded data removed]",
      "text/plain": [
       "<Figure size 432x288 with 1 Axes>"
      ]
     },
     "metadata": {
      "needs_background": "light"
     },
     "output_type": "display_data"
    }
   ],
   "source": [
    "import warnings\n",
    "warnings.filterwarnings('ignore')\n",
    "from sympy import *\n",
    "import matplotlib.pyplot as plt\n",
    "var('x y')\n",
    "plot_implicit(Eq(y**2 - 2*x-2*y, 5))\n",
    "plt.show()"
   ]
  },
  {
   "cell_type": "markdown",
   "metadata": {},
   "source": [
    "### 7.2 $3x^2+5y^2+12x-30y+42=0$"
   ]
  },
  {
   "cell_type": "markdown",
   "metadata": {},
   "source": [
    "$3x^2+5y^2+12x-30y+42=3x^2+12x+5y^2-30y+42=3(x^2+4x+4)+30+5(y^2-6y+9)-45 =3(x+2)^2+5(y-3)^2-15=0 \\Rightarrow $ $\\displaystyle \\frac{(x+2)^2}{5}+\\frac{(y-3)^2}{3}=1 \\Rightarrow$ Элипс"
   ]
  },
  {
   "cell_type": "code",
   "execution_count": 7,
   "metadata": {},
   "outputs": [
    {
     "data": {
      "image/png": "[encoded data removed]",
      "text/plain": [
       "<Figure size 432x288 with 1 Axes>"
      ]
     },
     "metadata": {
      "needs_background": "light"
     },
     "output_type": "display_data"
    }
   ],
   "source": [
    "var('x y')\n",
    "plot_implicit(Eq(3*x**2 + 5*y**2+12*x-30*y, -42))\n",
    "plt.show()"
   ]
  },
  {
   "cell_type": "markdown",
   "metadata": {},
   "source": [
    "### 7.3 $2x^2-y^2+6y-7=0$"
   ]
  },
  {
   "cell_type": "markdown",
   "metadata": {},
   "source": [
    "$2x^2-y^2+6y-7=-1(y^2-6y+9)+2+2x^2=0 \\Rightarrow \\displaystyle \\frac{(y-3)^2}{2}-(x^2+1)=1 \\Rightarrow$ Гипербола"
   ]
  },
  {
   "cell_type": "code",
   "execution_count": 8,
   "metadata": {},
   "outputs": [
    {
     "data": {
      "image/png": "[encoded data removed]",
      "text/plain": [
       "<Figure size 432x288 with 1 Axes>"
      ]
     },
     "metadata": {
      "needs_background": "light"
     },
     "output_type": "display_data"
    }
   ],
   "source": [
    "var('x y')\n",
    "plot_implicit(Eq(2*x**2 - y**2 + 6*y, 7))\n",
    "plt.show()"
   ]
  },
  {
   "cell_type": "markdown",
   "metadata": {},
   "source": [
    "### 7.4 $2x^2-3y^2-28x-42y-55=0$"
   ]
  },
  {
   "cell_type": "markdown",
   "metadata": {},
   "source": [
    "$2x^2-3y^2-28x-42y-55=(2x^2-2\\cdot 2x \\cdot 7 + 49)-49+(-1)(3y^2+2\\cdot 3y \\cdot 7 + 49)+49-55=(2x-7)^2-(3y+7)^2-55=0$"
   ]
  },
  {
   "cell_type": "markdown",
   "metadata": {},
   "source": [
    "Не понял почему это прямая?"
   ]
  },
  {
   "cell_type": "code",
   "execution_count": 9,
   "metadata": {},
   "outputs": [
    {
     "data": {
      "image/png": "[encoded data removed]",
      "text/plain": [
       "<Figure size 432x288 with 1 Axes>"
      ]
     },
     "metadata": {
      "needs_background": "light"
     },
     "output_type": "display_data"
    }
   ],
   "source": [
    "var('x y')\n",
    "plot_implicit(Eq(2*x**2 - 3*y**2 - 28*x - 42*y, 55))\n",
    "plt.show()"
   ]
  },
  {
   "cell_type": "code",
   "execution_count": null,
   "metadata": {},
   "outputs": [],
   "source": []
  }
 ],
 "metadata": {
  "kernelspec": {
   "display_name": "Python 3",
   "language": "python",
   "name": "python3"
  },
  "language_info": {
   "codemirror_mode": {
    "name": "ipython",
    "version": 3
   },
   "file_extension": ".py",
   "mimetype": "text/x-python",
   "name": "python",
   "nbconvert_exporter": "python",
   "pygments_lexer": "ipython3",
   "version": "3.7.7"
  }
 },
 "nbformat": 4,
 "nbformat_minor": 4
}
