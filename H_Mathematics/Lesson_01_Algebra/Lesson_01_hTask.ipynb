{
 "cells": [
  {
   "cell_type": "markdown",
   "metadata": {},
   "source": [
    "# Author: Стурейко Игорь\n",
    "## Project: Geekbrains.Mathematics\n",
    "## Lesson 1 - Алгебра\n",
    "## Date: 2020-05-31"
   ]
  },
  {
   "cell_type": "markdown",
   "metadata": {},
   "source": [
    "## 1. Вычислить: \n",
    "$\\displaystyle 7 \\cdot \\begin{bmatrix} \n",
    "5 & 10 \\\\\n",
    "7 & 12 \\\\\n",
    "11.3 & 5 \\\\\n",
    "25 & 30\n",
    "\\end{bmatrix} + 2 \\cdot \\begin{bmatrix}\n",
    "5 & 10 \\\\\n",
    "7 & 12 \\\\\n",
    "11.3 & 5 \\\\\n",
    "25 & 30\n",
    "\\end{bmatrix}$"
   ]
  },
  {
   "cell_type": "markdown",
   "metadata": {},
   "source": [
    "### Решение:"
   ]
  },
  {
   "cell_type": "markdown",
   "metadata": {},
   "source": [
    "$\\displaystyle 7 \\cdot \\begin{bmatrix} \n",
    "5 & 10 \\\\\n",
    "7 & 12 \\\\\n",
    "11.3 & 5 \\\\\n",
    "25 & 30\n",
    "\\end{bmatrix} + 2 \\cdot \\begin{bmatrix}\n",
    "5 & 10 \\\\\n",
    "7 & 12 \\\\\n",
    "11.3 & 5 \\\\\n",
    "25 & 30\n",
    "\\end{bmatrix} = (7 + 2) \\cdot \\begin{bmatrix}\n",
    "5 & 10 \\\\\n",
    "7 & 12 \\\\\n",
    "11.3 & 5 \\\\\n",
    "25 & 30\n",
    "\\end{bmatrix} = 9 \\cdot \\begin{bmatrix}\n",
    "5 & 10 \\\\\n",
    "7 & 12 \\\\\n",
    "11.3 & 5 \\\\\n",
    "25 & 30\n",
    "\\end{bmatrix} = \\begin{bmatrix}\n",
    "45 & 90 \\\\\n",
    "63 & 108 \\\\\n",
    "101.7 & 45 \\\\\n",
    "225 & 270\n",
    "\\end{bmatrix}$"
   ]
  },
  {
   "cell_type": "markdown",
   "metadata": {},
   "source": [
    "## 2. Решить систему уравнений:\n",
    "$\\begin{matrix}\n",
    "3x - 2y + 5z = 0\\\\\n",
    "7x + 4y - 8z = 0\\\\\n",
    "5x - 3y - 4z = 0\n",
    "\\end{matrix}$"
   ]
  },
  {
   "cell_type": "markdown",
   "metadata": {},
   "source": [
    "Линейная или нелинейная это система? \n",
    "А каждое уравнение по отдельности?"
   ]
  },
  {
   "cell_type": "code",
   "execution_count": 9,
   "metadata": {},
   "outputs": [
    {
     "data": {
      "text/plain": [
       "array([[ 3., -2.,  5.],\n",
       "       [ 7.,  4., -8.],\n",
       "       [ 5., -3., -4.]])"
      ]
     },
     "execution_count": 9,
     "metadata": {},
     "output_type": "execute_result"
    }
   ],
   "source": [
    "import numpy as np\n",
    "A = np.array([[3., -2., 5.], [7., 4., -8.], [5., -3., -4.]])\n",
    "v = np.zeros(3)\n",
    "np.linalg.det(A)\n",
    "solv = np.linalg.solve(A, v)\n",
    "A"
   ]
  },
  {
   "cell_type": "code",
   "execution_count": 10,
   "metadata": {},
   "outputs": [
    {
     "data": {
      "text/plain": [
       "array([ 0., -0.,  0.])"
      ]
     },
     "execution_count": 10,
     "metadata": {},
     "output_type": "execute_result"
    }
   ],
   "source": [
    "solv"
   ]
  },
  {
   "cell_type": "markdown",
   "metadata": {},
   "source": [
    "Решение: $x = y = z = 0$"
   ]
  },
  {
   "cell_type": "markdown",
   "metadata": {},
   "source": [
    "## 3. Решить систему уравнений:\n",
    "$\\begin{matrix}\n",
    "x^2 + y\\cdot x - 9 = 0\\\\\n",
    "x - y/5 = 0\n",
    "\\end{matrix}$"
   ]
  },
  {
   "cell_type": "markdown",
   "metadata": {},
   "source": [
    "Решение: $\\displaystyle x = \\frac{y}{5} \\Rightarrow \\frac{y^2}{25} + \\frac{y^2}{5} = 9 \\Rightarrow y = \\sqrt{\\frac{9 \\cdot 25}{6}} = 5\\sqrt{\\frac{3}{2}}, x = \\frac{3}{2}$"
   ]
  },
  {
   "cell_type": "markdown",
   "metadata": {},
   "source": [
    "## 4. Решить задачу:\n",
    "Площадь пола прямоугольной комнаты равна 48 м2,а его периметр равен 28 м. Найдите длину и ширину комнаты."
   ]
  },
  {
   "cell_type": "markdown",
   "metadata": {},
   "source": [
    "$\\begin{matrix}\n",
    "2a + 2b = 28\\\\\n",
    "a \\cdot b = 48\n",
    "\\end{matrix}\n",
    "\\Rightarrow a = 14 - b \\Rightarrow b^2 - 14b + 48 = 0 \\Rightarrow b = \\frac{14 \\pm \\sqrt{14^2-4 \\cdot 14}}{2}=\n",
    "\\begin{pmatrix}\n",
    "6\\\\\n",
    "8\n",
    "\\end{pmatrix}$"
   ]
  },
  {
   "cell_type": "markdown",
   "metadata": {},
   "source": [
    "### Размеры комнаты 6 и 8 метров"
   ]
  },
  {
   "cell_type": "markdown",
   "metadata": {},
   "source": [
    "## 5. Постройте на одном графике две кривые y(x) для функции двух переменной y(k,x)=cos(k∙x), взяв для одной кривой значение k=1, а для другой – любое другое k, не равное 1.\n"
   ]
  },
  {
   "cell_type": "code",
   "execution_count": 11,
   "metadata": {},
   "outputs": [
    {
     "name": "stderr",
     "output_type": "stream",
     "text": [
      "\n",
      "Bad key \"text.kerning_factor\" on line 4 in\n",
      "/Users/igor/opt/anaconda3/lib/python3.7/site-packages/matplotlib/mpl-data/stylelib/_classic_test_patch.mplstyle.\n",
      "You probably need to get an updated matplotlibrc file from\n",
      "https://github.com/matplotlib/matplotlib/blob/v3.1.3/matplotlibrc.template\n",
      "or from the matplotlib source distribution\n"
     ]
    }
   ],
   "source": [
    "%matplotlib inline\n",
    "import matplotlib.pyplot as plt"
   ]
  },
  {
   "cell_type": "code",
   "execution_count": 18,
   "metadata": {},
   "outputs": [],
   "source": [
    "k1 = 1\n",
    "k2 = 1.4"
   ]
  },
  {
   "cell_type": "code",
   "execution_count": 20,
   "metadata": {},
   "outputs": [
    {
     "data": {
      "image/png": "[encoded data removed]",
      "text/plain": [
       "<Figure size 432x288 with 1 Axes>"
      ]
     },
     "metadata": {
      "needs_background": "light"
     },
     "output_type": "display_data"
    }
   ],
   "source": [
    "x = np.linspace(-2*np.pi, 2*np.pi, 201)\n",
    "plt.plot(x, np.cos(k1*x), x, np.cos(k2*x))\n",
    "plt.xlabel('x')\n",
    "plt.ylabel('y')\n",
    "plt.axis('tight')\n",
    "plt.show()"
   ]
  },
  {
   "cell_type": "code",
   "execution_count": null,
   "metadata": {},
   "outputs": [],
   "source": []
  }
 ],
 "metadata": {
  "kernelspec": {
   "display_name": "Python 3",
   "language": "python",
   "name": "python3"
  },
  "language_info": {
   "codemirror_mode": {
    "name": "ipython",
    "version": 3
   },
   "file_extension": ".py",
   "mimetype": "text/x-python",
   "name": "python",
   "nbconvert_exporter": "python",
   "pygments_lexer": "ipython3",
   "version": "3.7.7"
  }
 },
 "nbformat": 4,
 "nbformat_minor": 4
}
