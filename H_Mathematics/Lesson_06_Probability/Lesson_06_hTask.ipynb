{
 "cells": [
  {
   "cell_type": "markdown",
   "metadata": {},
   "source": [
    "# Author: Стурейко Игорь\n",
    "## Project: Geekbrains.MatStat\n",
    "## Lesson 06 - Вероятность\n",
    "## Date: 2020-06-23"
   ]
  },
  {
   "cell_type": "markdown",
   "metadata": {},
   "source": [
    "## 1. Найти вероятность выпадения 2 или 5 очков при подбрасывании игральной кости, на гранях которой имеются соответственно 1,2,3,4,5 и 6 очков."
   ]
  },
  {
   "cell_type": "markdown",
   "metadata": {},
   "source": [
    "Вероятность выпадения какой-либо цифры $\\displaystyle P=\\frac{1}{6}$, соответственно выпадение одной из двух цифр - в два раза больше, их вероятности складываются $\\displaystyle \\Rightarrow P=\\frac{1}{6}+\\frac{1}{6}=\\frac{1}{3}$"
   ]
  },
  {
   "cell_type": "markdown",
   "metadata": {},
   "source": [
    "## 2. Найти вероятность того, что при двух подбрасываниях той же самой игральной кости сначала выпадет 2, а затем 5."
   ]
  },
  {
   "cell_type": "markdown",
   "metadata": {},
   "source": [
    "Важен порядок - вероятности перемножаются: $\\displaystyle P = \\frac{1}{6}\\cdot\\frac{1}{6}=\\frac{1}{36}$"
   ]
  },
  {
   "cell_type": "markdown",
   "metadata": {},
   "source": [
    "## 3. Найти вероятность выпадения 2 и 5 очков при двух подбрасываниях той же самой игральной игральной кости."
   ]
  },
  {
   "cell_type": "markdown",
   "metadata": {},
   "source": [
    "Аналогично предыдущему, но условию удовлетворяют два исхода (2, 5) и (5, 2), тогда вероятность в два раза больше чем в предыдущей задаче: $\\displaystyle P = 2\\cdot\\frac{1}{36}=\\frac{1}{18}$"
   ]
  },
  {
   "cell_type": "markdown",
   "metadata": {},
   "source": [
    "## 4. На отрезке AB длиной 20 см наугад отметили точку C. Какова вероятность, что она находится на расстоянии не более 9 см от точки А и не более 15 см от точки В?"
   ]
  },
  {
   "cell_type": "markdown",
   "metadata": {},
   "source": [
    "Совместное событие, вероятности перемножаются. Вероятность оказаться от точки А: $P(A)=9/20$, вероятность оказаться от точки В: $P(B)=15/20$, итоговая вероятность: $\\displaystyle P(AB)=\\frac{9}{20}\\cdot \\frac{15}{20}=\\frac{135}{400}$"
   ]
  },
  {
   "cell_type": "markdown",
   "metadata": {},
   "source": [
    "## 5. Телефонный номер состоит из 7 цифр. Какова вероятность, что это номер 8882227?"
   ]
  },
  {
   "cell_type": "markdown",
   "metadata": {},
   "source": [
    "Число перестановок $P_n=n!$, нам удовлетворяет только одна, тогда $\\displaystyle P=\\frac{1}{7!}=\\frac{1}{5040}$"
   ]
  },
  {
   "cell_type": "markdown",
   "metadata": {},
   "source": [
    "## 6. Набирая номер телефона, абонент забыл 2 последние цифры, и, помня только то, что эти цифры различны и среди них нет нуля, стал набирать их наудачу. Сколько вариантов ему надо перебрать, чтобы наверняка найти нужный номер? Какова вероятность того, что он угадает номер с первого раза?"
   ]
  },
  {
   "cell_type": "markdown",
   "metadata": {},
   "source": [
    "Нужно найти число размещений (порядок важен) 2-х из 9, т.к в этих цифрах нет 0 и вычесть 9 вариантов, т.к цифры различны. Количество варинатов будет: $A_9^2-9=72-9=63$, соответственно вероятность \"попасть\" сразу $P=1/63$ "
   ]
  },
  {
   "cell_type": "markdown",
   "metadata": {},
   "source": [
    "## 7. Чёрный куб покрасили снаружи белой краской, затем разрезали на 27 одинаковых маленьких кубиков и как попало сложили из них большой куб. С какой вероятностью все грани этого куба будут белыми?"
   ]
  },
  {
   "cell_type": "code",
   "execution_count": null,
   "metadata": {},
   "outputs": [],
   "source": []
  }
 ],
 "metadata": {
  "kernelspec": {
   "display_name": "Python 3",
   "language": "python",
   "name": "python3"
  },
  "language_info": {
   "codemirror_mode": {
    "name": "ipython",
    "version": 3
   },
   "file_extension": ".py",
   "mimetype": "text/x-python",
   "name": "python",
   "nbconvert_exporter": "python",
   "pygments_lexer": "ipython3",
   "version": "3.7.7"
  },
  "latex_envs": {
   "LaTeX_envs_menu_present": true,
   "autoclose": false,
   "autocomplete": true,
   "bibliofile": "biblio.bib",
   "cite_by": "apalike",
   "current_citInitial": 1,
   "eqLabelWithNumbers": true,
   "eqNumInitial": 1,
   "hotkeys": {
    "equation": "Ctrl-E",
    "itemize": "Ctrl-I"
   },
   "labels_anchors": false,
   "latex_user_defs": false,
   "report_style_numbering": false,
   "user_envs_cfg": false
  }
 },
 "nbformat": 4,
 "nbformat_minor": 4
}
