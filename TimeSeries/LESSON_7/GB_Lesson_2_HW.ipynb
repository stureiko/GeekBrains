{
  "nbformat": 4,
  "nbformat_minor": 0,
  "metadata": {
    "colab": {
      "name": "GB Lesson 2 HW.ipynb",
      "provenance": [],
      "collapsed_sections": []
    },
    "kernelspec": {
      "name": "python3",
      "display_name": "Python 3"
    }
  },
  "cells": [
    {
      "cell_type": "code",
      "metadata": {
        "id": "eu9I-5AQFGy4",
        "colab_type": "code",
        "outputId": "5bf7b3b7-4ea0-4bb5-df21-f12c1c167ba7",
        "colab": {
          "base_uri": "https://localhost:8080/",
          "height": 34
        }
      },
      "source": [
        "# Подключение к Google drive\n",
        "\n",
        "from google.colab import drive\n",
        "drive.mount('/content/drive')"
      ],
      "execution_count": 0,
      "outputs": [
        {
          "output_type": "stream",
          "text": [
            "Drive already mounted at /content/drive; to attempt to forcibly remount, call drive.mount(\"/content/drive\", force_remount=True).\n"
          ],
          "name": "stdout"
        }
      ]
    },
    {
      "cell_type": "code",
      "metadata": {
        "id": "Fj2E6mVkFR10",
        "colab_type": "code",
        "colab": {}
      },
      "source": [
        "import numpy as np\n",
        "import pandas as pd"
      ],
      "execution_count": 0,
      "outputs": []
    },
    {
      "cell_type": "code",
      "metadata": {
        "id": "_Vs8YR9eFgvy",
        "colab_type": "code",
        "outputId": "1388fea8-3484-471f-daef-470347a64fc7",
        "colab": {
          "base_uri": "https://localhost:8080/",
          "height": 442
        }
      },
      "source": [
        "# Загрузим набор данных\n",
        "\n",
        "df = pd.read_csv('/content/drive/My Drive/Colab Notebooks/freMPL-R.csv', low_memory=False)\n",
        "df = df.loc[df.Dataset.isin([5, 6, 7, 8, 9])]\n",
        "df.drop('Dataset', axis=1, inplace=True)\n",
        "df.dropna(axis=1, how='all', inplace=True)\n",
        "df.drop_duplicates(inplace=True)\n",
        "df.reset_index(drop=True, inplace=True)\n",
        "df.info()"
      ],
      "execution_count": 0,
      "outputs": [
        {
          "output_type": "stream",
          "text": [
            "<class 'pandas.core.frame.DataFrame'>\n",
            "RangeIndex: 115155 entries, 0 to 115154\n",
            "Data columns (total 20 columns):\n",
            "Exposure             115155 non-null float64\n",
            "LicAge               115155 non-null int64\n",
            "RecordBeg            115155 non-null object\n",
            "RecordEnd            59455 non-null object\n",
            "Gender               115155 non-null object\n",
            "MariStat             115155 non-null object\n",
            "SocioCateg           115155 non-null object\n",
            "VehUsage             115155 non-null object\n",
            "DrivAge              115155 non-null int64\n",
            "HasKmLimit           115155 non-null int64\n",
            "BonusMalus           115155 non-null int64\n",
            "ClaimAmount          115155 non-null float64\n",
            "ClaimInd             115155 non-null int64\n",
            "ClaimNbResp          115155 non-null float64\n",
            "ClaimNbNonResp       115155 non-null float64\n",
            "ClaimNbParking       115155 non-null float64\n",
            "ClaimNbFireTheft     115155 non-null float64\n",
            "ClaimNbWindscreen    115155 non-null float64\n",
            "OutUseNb             115155 non-null float64\n",
            "RiskArea             115155 non-null float64\n",
            "dtypes: float64(9), int64(5), object(6)\n",
            "memory usage: 17.6+ MB\n"
          ],
          "name": "stdout"
        }
      ]
    },
    {
      "cell_type": "markdown",
      "metadata": {
        "id": "AtfDb_BWWXqQ",
        "colab_type": "text"
      },
      "source": [
        "В предыдущем уроке мы заметили отрицательную величину убытка для некоторых наблюдений. Заметим, что для всех таких полисов переменная \"ClaimInd\" принимает только значение 0. Поэтому заменим все соответствующие значения \"ClaimAmount\" нулями."
      ]
    },
    {
      "cell_type": "code",
      "metadata": {
        "id": "AklwJWsoWnAV",
        "colab_type": "code",
        "outputId": "4c781ff3-b842-4226-856e-0752bdf7878a",
        "colab": {
          "base_uri": "https://localhost:8080/",
          "height": 221
        }
      },
      "source": [
        "NegClaimAmount = df.loc[df.ClaimAmount < 0, ['ClaimAmount','ClaimInd']]\n",
        "print('Unique values of ClaimInd:', NegClaimAmount.ClaimInd.unique())\n",
        "NegClaimAmount.head()"
      ],
      "execution_count": 0,
      "outputs": [
        {
          "output_type": "stream",
          "text": [
            "Unique values of ClaimInd: [0]\n"
          ],
          "name": "stdout"
        },
        {
          "output_type": "execute_result",
          "data": {
            "text/html": [
              "<div>\n",
              "<style scoped>\n",
              "    .dataframe tbody tr th:only-of-type {\n",
              "        vertical-align: middle;\n",
              "    }\n",
              "\n",
              "    .dataframe tbody tr th {\n",
              "        vertical-align: top;\n",
              "    }\n",
              "\n",
              "    .dataframe thead th {\n",
              "        text-align: right;\n",
              "    }\n",
              "</style>\n",
              "<table border=\"1\" class=\"dataframe\">\n",
              "  <thead>\n",
              "    <tr style=\"text-align: right;\">\n",
              "      <th></th>\n",
              "      <th>ClaimAmount</th>\n",
              "      <th>ClaimInd</th>\n",
              "    </tr>\n",
              "  </thead>\n",
              "  <tbody>\n",
              "    <tr>\n",
              "      <th>82</th>\n",
              "      <td>-74.206042</td>\n",
              "      <td>0</td>\n",
              "    </tr>\n",
              "    <tr>\n",
              "      <th>175</th>\n",
              "      <td>-1222.585196</td>\n",
              "      <td>0</td>\n",
              "    </tr>\n",
              "    <tr>\n",
              "      <th>177</th>\n",
              "      <td>-316.288822</td>\n",
              "      <td>0</td>\n",
              "    </tr>\n",
              "    <tr>\n",
              "      <th>363</th>\n",
              "      <td>-666.758610</td>\n",
              "      <td>0</td>\n",
              "    </tr>\n",
              "    <tr>\n",
              "      <th>375</th>\n",
              "      <td>-1201.600604</td>\n",
              "      <td>0</td>\n",
              "    </tr>\n",
              "  </tbody>\n",
              "</table>\n",
              "</div>"
            ],
            "text/plain": [
              "     ClaimAmount  ClaimInd\n",
              "82    -74.206042         0\n",
              "175 -1222.585196         0\n",
              "177  -316.288822         0\n",
              "363  -666.758610         0\n",
              "375 -1201.600604         0"
            ]
          },
          "metadata": {
            "tags": []
          },
          "execution_count": 4
        }
      ]
    },
    {
      "cell_type": "code",
      "metadata": {
        "id": "R7laRWoCYF4V",
        "colab_type": "code",
        "colab": {}
      },
      "source": [
        "df.loc[df.ClaimAmount < 0, 'ClaimAmount'] = 0"
      ],
      "execution_count": 0,
      "outputs": []
    },
    {
      "cell_type": "markdown",
      "metadata": {
        "id": "6VuWyv7EGONj",
        "colab_type": "text"
      },
      "source": [
        "Перекодируем переменные типа `object` с помощью числовых значений"
      ]
    },
    {
      "cell_type": "code",
      "metadata": {
        "id": "yivIrqGaGbSa",
        "colab_type": "code",
        "colab": {}
      },
      "source": [
        "def SeriesFactorizer(series):\n",
        "    series, unique = pd.factorize(series)\n",
        "    reference = {x: i for x, i in enumerate(unique)}\n",
        "    print(reference)\n",
        "    return series, reference"
      ],
      "execution_count": 0,
      "outputs": []
    },
    {
      "cell_type": "code",
      "metadata": {
        "id": "G3SgrIBXGe3J",
        "colab_type": "code",
        "outputId": "cc1cb971-268d-41b7-d59e-497d0c98cde3",
        "colab": {
          "base_uri": "https://localhost:8080/",
          "height": 34
        }
      },
      "source": [
        "df.Gender, GenderRef = SeriesFactorizer(df.Gender)"
      ],
      "execution_count": 0,
      "outputs": [
        {
          "output_type": "stream",
          "text": [
            "{0: 'Male', 1: 'Female'}\n"
          ],
          "name": "stdout"
        }
      ]
    },
    {
      "cell_type": "code",
      "metadata": {
        "id": "HD6_Ie-2GggO",
        "colab_type": "code",
        "outputId": "67ffd430-a1f0-4f16-9089-fc967361eab5",
        "colab": {
          "base_uri": "https://localhost:8080/",
          "height": 34
        }
      },
      "source": [
        "df.MariStat, MariStatRef = SeriesFactorizer(df.MariStat)"
      ],
      "execution_count": 0,
      "outputs": [
        {
          "output_type": "stream",
          "text": [
            "{0: 'Other', 1: 'Alone'}\n"
          ],
          "name": "stdout"
        }
      ]
    },
    {
      "cell_type": "markdown",
      "metadata": {
        "id": "ZdTe9JpiGvt9",
        "colab_type": "text"
      },
      "source": [
        "Для переменных, содержащих более 2 значений, различия между которыми не могут упорядочены, используем фиктивные переменные (one-hot encoding).\n",
        "\n",
        "**NB**: В H2O не рекомендуется использовать one-hot encoding, поскольку данный фреймворк корректно работает с категориальными признаками, тогда как применение one-hot encoding приводит к неэффективности. Тем не менее, используем здесь фиктивные переменные, чтобы в дальнейшем сохранить возможность сравнения результатов построенных моделей."
      ]
    },
    {
      "cell_type": "code",
      "metadata": {
        "id": "VrN99Iv8Ht-G",
        "colab_type": "code",
        "outputId": "8480c270-479d-4b01-ddfa-cdf03c9dc0f2",
        "colab": {
          "base_uri": "https://localhost:8080/",
          "height": 34
        }
      },
      "source": [
        "list(df.VehUsage.unique())"
      ],
      "execution_count": 0,
      "outputs": [
        {
          "output_type": "execute_result",
          "data": {
            "text/plain": [
              "['Professional', 'Private+trip to office', 'Private', 'Professional run']"
            ]
          },
          "metadata": {
            "tags": []
          },
          "execution_count": 9
        }
      ]
    },
    {
      "cell_type": "code",
      "metadata": {
        "id": "WXfZa7lUH0Jf",
        "colab_type": "code",
        "outputId": "2fe1b647-a0c3-4cbb-fee9-59d2350ef649",
        "colab": {
          "base_uri": "https://localhost:8080/",
          "height": 204
        }
      },
      "source": [
        "VU_dummies = pd.get_dummies(df.VehUsage, prefix='VehUsg', drop_first=False)\n",
        "VU_dummies.head()"
      ],
      "execution_count": 0,
      "outputs": [
        {
          "output_type": "execute_result",
          "data": {
            "text/html": [
              "<div>\n",
              "<style scoped>\n",
              "    .dataframe tbody tr th:only-of-type {\n",
              "        vertical-align: middle;\n",
              "    }\n",
              "\n",
              "    .dataframe tbody tr th {\n",
              "        vertical-align: top;\n",
              "    }\n",
              "\n",
              "    .dataframe thead th {\n",
              "        text-align: right;\n",
              "    }\n",
              "</style>\n",
              "<table border=\"1\" class=\"dataframe\">\n",
              "  <thead>\n",
              "    <tr style=\"text-align: right;\">\n",
              "      <th></th>\n",
              "      <th>VehUsg_Private</th>\n",
              "      <th>VehUsg_Private+trip to office</th>\n",
              "      <th>VehUsg_Professional</th>\n",
              "      <th>VehUsg_Professional run</th>\n",
              "    </tr>\n",
              "  </thead>\n",
              "  <tbody>\n",
              "    <tr>\n",
              "      <th>0</th>\n",
              "      <td>0</td>\n",
              "      <td>0</td>\n",
              "      <td>1</td>\n",
              "      <td>0</td>\n",
              "    </tr>\n",
              "    <tr>\n",
              "      <th>1</th>\n",
              "      <td>0</td>\n",
              "      <td>0</td>\n",
              "      <td>1</td>\n",
              "      <td>0</td>\n",
              "    </tr>\n",
              "    <tr>\n",
              "      <th>2</th>\n",
              "      <td>0</td>\n",
              "      <td>1</td>\n",
              "      <td>0</td>\n",
              "      <td>0</td>\n",
              "    </tr>\n",
              "    <tr>\n",
              "      <th>3</th>\n",
              "      <td>0</td>\n",
              "      <td>1</td>\n",
              "      <td>0</td>\n",
              "      <td>0</td>\n",
              "    </tr>\n",
              "    <tr>\n",
              "      <th>4</th>\n",
              "      <td>1</td>\n",
              "      <td>0</td>\n",
              "      <td>0</td>\n",
              "      <td>0</td>\n",
              "    </tr>\n",
              "  </tbody>\n",
              "</table>\n",
              "</div>"
            ],
            "text/plain": [
              "   VehUsg_Private  ...  VehUsg_Professional run\n",
              "0               0  ...                        0\n",
              "1               0  ...                        0\n",
              "2               0  ...                        0\n",
              "3               0  ...                        0\n",
              "4               1  ...                        0\n",
              "\n",
              "[5 rows x 4 columns]"
            ]
          },
          "metadata": {
            "tags": []
          },
          "execution_count": 10
        }
      ]
    },
    {
      "cell_type": "markdown",
      "metadata": {
        "id": "vSlx8FxWH9P2",
        "colab_type": "text"
      },
      "source": [
        "Фактор \"SocioCateg\" содержит информацию о социальной категории в виде кодов классификации CSP. Агрегируем имеющиеся коды до 1 знака, а затем закодируем их с помощью one-hot encoding.\n",
        "\n",
        "[Wiki](https://fr.wikipedia.org/wiki/Professions_et_cat%C3%A9gories_socioprofessionnelles_en_France#Cr%C3%A9ation_de_la_nomenclature_des_PCS)\n",
        "\n",
        "[Более подробный классификатор](https://www.ast74.fr/upload/administratif/liste-des-codes-csp-copie.pdf)"
      ]
    },
    {
      "cell_type": "code",
      "metadata": {
        "id": "o-JmQOrFLjt1",
        "colab_type": "code",
        "outputId": "e1fb5637-205c-482e-b49a-9d5cc76a0543",
        "colab": {
          "base_uri": "https://localhost:8080/",
          "height": 136
        }
      },
      "source": [
        "df['SocioCateg'].unique()"
      ],
      "execution_count": 0,
      "outputs": [
        {
          "output_type": "execute_result",
          "data": {
            "text/plain": [
              "array(['CSP50', 'CSP55', 'CSP60', 'CSP48', 'CSP6', 'CSP66', 'CSP1',\n",
              "       'CSP46', 'CSP21', 'CSP47', 'CSP42', 'CSP37', 'CSP22', 'CSP3',\n",
              "       'CSP49', 'CSP20', 'CSP2', 'CSP40', 'CSP7', 'CSP26', 'CSP65',\n",
              "       'CSP41', 'CSP17', 'CSP57', 'CSP56', 'CSP38', 'CSP51', 'CSP59',\n",
              "       'CSP30', 'CSP44', 'CSP61', 'CSP63', 'CSP45', 'CSP16', 'CSP43',\n",
              "       'CSP39', 'CSP5', 'CSP32', 'CSP35', 'CSP73', 'CSP62', 'CSP52',\n",
              "       'CSP27', 'CSP24', 'CSP19', 'CSP70'], dtype=object)"
            ]
          },
          "metadata": {
            "tags": []
          },
          "execution_count": 11
        }
      ]
    },
    {
      "cell_type": "code",
      "metadata": {
        "id": "6knnpiia1a-D",
        "colab_type": "code",
        "colab": {}
      },
      "source": [
        "df['SocioCateg'] = df.SocioCateg.str.slice(0,4)"
      ],
      "execution_count": 0,
      "outputs": []
    },
    {
      "cell_type": "code",
      "metadata": {
        "id": "Xa8XgQB306yD",
        "colab_type": "code",
        "outputId": "5ea62226-c7e5-48d0-cf26-a17037b8f35b",
        "colab": {
          "base_uri": "https://localhost:8080/",
          "height": 266
        }
      },
      "source": [
        "pd.DataFrame(df.SocioCateg.value_counts().sort_values()).rename({'SocioCateg': 'Frequency'}, axis=1)"
      ],
      "execution_count": 0,
      "outputs": [
        {
          "output_type": "execute_result",
          "data": {
            "text/html": [
              "<div>\n",
              "<style scoped>\n",
              "    .dataframe tbody tr th:only-of-type {\n",
              "        vertical-align: middle;\n",
              "    }\n",
              "\n",
              "    .dataframe tbody tr th {\n",
              "        vertical-align: top;\n",
              "    }\n",
              "\n",
              "    .dataframe thead th {\n",
              "        text-align: right;\n",
              "    }\n",
              "</style>\n",
              "<table border=\"1\" class=\"dataframe\">\n",
              "  <thead>\n",
              "    <tr style=\"text-align: right;\">\n",
              "      <th></th>\n",
              "      <th>Frequency</th>\n",
              "    </tr>\n",
              "  </thead>\n",
              "  <tbody>\n",
              "    <tr>\n",
              "      <th>CSP7</th>\n",
              "      <td>14</td>\n",
              "    </tr>\n",
              "    <tr>\n",
              "      <th>CSP3</th>\n",
              "      <td>1210</td>\n",
              "    </tr>\n",
              "    <tr>\n",
              "      <th>CSP1</th>\n",
              "      <td>2740</td>\n",
              "    </tr>\n",
              "    <tr>\n",
              "      <th>CSP2</th>\n",
              "      <td>3254</td>\n",
              "    </tr>\n",
              "    <tr>\n",
              "      <th>CSP4</th>\n",
              "      <td>7648</td>\n",
              "    </tr>\n",
              "    <tr>\n",
              "      <th>CSP6</th>\n",
              "      <td>24833</td>\n",
              "    </tr>\n",
              "    <tr>\n",
              "      <th>CSP5</th>\n",
              "      <td>75456</td>\n",
              "    </tr>\n",
              "  </tbody>\n",
              "</table>\n",
              "</div>"
            ],
            "text/plain": [
              "      Frequency\n",
              "CSP7         14\n",
              "CSP3       1210\n",
              "CSP1       2740\n",
              "CSP2       3254\n",
              "CSP4       7648\n",
              "CSP6      24833\n",
              "CSP5      75456"
            ]
          },
          "metadata": {
            "tags": []
          },
          "execution_count": 13
        }
      ]
    },
    {
      "cell_type": "code",
      "metadata": {
        "id": "zPfpFjNiKHtj",
        "colab_type": "code",
        "colab": {}
      },
      "source": [
        "df = pd.get_dummies(df, columns=['VehUsage','SocioCateg'])"
      ],
      "execution_count": 0,
      "outputs": []
    },
    {
      "cell_type": "markdown",
      "metadata": {
        "id": "xuMe7c-wKT3H",
        "colab_type": "text"
      },
      "source": [
        "Теперь, когда большинство переменных типа `object` обработаны, исключим их из набора данных за ненадобностью."
      ]
    },
    {
      "cell_type": "code",
      "metadata": {
        "id": "HBbmRHUFKRql",
        "colab_type": "code",
        "colab": {}
      },
      "source": [
        "df = df.select_dtypes(exclude=['object'])"
      ],
      "execution_count": 0,
      "outputs": []
    },
    {
      "cell_type": "markdown",
      "metadata": {
        "id": "SYrDMnrEAFwG",
        "colab_type": "text"
      },
      "source": [
        "Также создадим такую переменную, как квадрат возраста."
      ]
    },
    {
      "cell_type": "code",
      "metadata": {
        "id": "Sduuts5fAAmK",
        "colab_type": "code",
        "outputId": "c67d5dab-c2e6-4fd8-afa0-004d1a41fe8a",
        "colab": {
          "base_uri": "https://localhost:8080/",
          "height": 241
        }
      },
      "source": [
        "df['DrivAgeSq'] = df.DrivAge.apply(lambda x: x**2)\n",
        "df.head()"
      ],
      "execution_count": 0,
      "outputs": [
        {
          "output_type": "execute_result",
          "data": {
            "text/html": [
              "<div>\n",
              "<style scoped>\n",
              "    .dataframe tbody tr th:only-of-type {\n",
              "        vertical-align: middle;\n",
              "    }\n",
              "\n",
              "    .dataframe tbody tr th {\n",
              "        vertical-align: top;\n",
              "    }\n",
              "\n",
              "    .dataframe thead th {\n",
              "        text-align: right;\n",
              "    }\n",
              "</style>\n",
              "<table border=\"1\" class=\"dataframe\">\n",
              "  <thead>\n",
              "    <tr style=\"text-align: right;\">\n",
              "      <th></th>\n",
              "      <th>Exposure</th>\n",
              "      <th>LicAge</th>\n",
              "      <th>Gender</th>\n",
              "      <th>MariStat</th>\n",
              "      <th>DrivAge</th>\n",
              "      <th>HasKmLimit</th>\n",
              "      <th>BonusMalus</th>\n",
              "      <th>ClaimAmount</th>\n",
              "      <th>ClaimInd</th>\n",
              "      <th>ClaimNbResp</th>\n",
              "      <th>ClaimNbNonResp</th>\n",
              "      <th>ClaimNbParking</th>\n",
              "      <th>ClaimNbFireTheft</th>\n",
              "      <th>ClaimNbWindscreen</th>\n",
              "      <th>OutUseNb</th>\n",
              "      <th>RiskArea</th>\n",
              "      <th>VehUsage_Private</th>\n",
              "      <th>VehUsage_Private+trip to office</th>\n",
              "      <th>VehUsage_Professional</th>\n",
              "      <th>VehUsage_Professional run</th>\n",
              "      <th>SocioCateg_CSP1</th>\n",
              "      <th>SocioCateg_CSP2</th>\n",
              "      <th>SocioCateg_CSP3</th>\n",
              "      <th>SocioCateg_CSP4</th>\n",
              "      <th>SocioCateg_CSP5</th>\n",
              "      <th>SocioCateg_CSP6</th>\n",
              "      <th>SocioCateg_CSP7</th>\n",
              "      <th>DrivAgeSq</th>\n",
              "    </tr>\n",
              "  </thead>\n",
              "  <tbody>\n",
              "    <tr>\n",
              "      <th>0</th>\n",
              "      <td>0.083</td>\n",
              "      <td>332</td>\n",
              "      <td>0</td>\n",
              "      <td>0</td>\n",
              "      <td>46</td>\n",
              "      <td>0</td>\n",
              "      <td>50</td>\n",
              "      <td>0.0</td>\n",
              "      <td>0</td>\n",
              "      <td>0.0</td>\n",
              "      <td>1.0</td>\n",
              "      <td>0.0</td>\n",
              "      <td>0.0</td>\n",
              "      <td>0.0</td>\n",
              "      <td>0.0</td>\n",
              "      <td>9.0</td>\n",
              "      <td>0</td>\n",
              "      <td>0</td>\n",
              "      <td>1</td>\n",
              "      <td>0</td>\n",
              "      <td>0</td>\n",
              "      <td>0</td>\n",
              "      <td>0</td>\n",
              "      <td>0</td>\n",
              "      <td>1</td>\n",
              "      <td>0</td>\n",
              "      <td>0</td>\n",
              "      <td>2116</td>\n",
              "    </tr>\n",
              "    <tr>\n",
              "      <th>1</th>\n",
              "      <td>0.916</td>\n",
              "      <td>333</td>\n",
              "      <td>0</td>\n",
              "      <td>0</td>\n",
              "      <td>46</td>\n",
              "      <td>0</td>\n",
              "      <td>50</td>\n",
              "      <td>0.0</td>\n",
              "      <td>0</td>\n",
              "      <td>0.0</td>\n",
              "      <td>1.0</td>\n",
              "      <td>0.0</td>\n",
              "      <td>0.0</td>\n",
              "      <td>0.0</td>\n",
              "      <td>0.0</td>\n",
              "      <td>9.0</td>\n",
              "      <td>0</td>\n",
              "      <td>0</td>\n",
              "      <td>1</td>\n",
              "      <td>0</td>\n",
              "      <td>0</td>\n",
              "      <td>0</td>\n",
              "      <td>0</td>\n",
              "      <td>0</td>\n",
              "      <td>1</td>\n",
              "      <td>0</td>\n",
              "      <td>0</td>\n",
              "      <td>2116</td>\n",
              "    </tr>\n",
              "    <tr>\n",
              "      <th>2</th>\n",
              "      <td>0.550</td>\n",
              "      <td>173</td>\n",
              "      <td>0</td>\n",
              "      <td>0</td>\n",
              "      <td>32</td>\n",
              "      <td>0</td>\n",
              "      <td>68</td>\n",
              "      <td>0.0</td>\n",
              "      <td>0</td>\n",
              "      <td>0.0</td>\n",
              "      <td>2.0</td>\n",
              "      <td>0.0</td>\n",
              "      <td>0.0</td>\n",
              "      <td>0.0</td>\n",
              "      <td>0.0</td>\n",
              "      <td>7.0</td>\n",
              "      <td>0</td>\n",
              "      <td>1</td>\n",
              "      <td>0</td>\n",
              "      <td>0</td>\n",
              "      <td>0</td>\n",
              "      <td>0</td>\n",
              "      <td>0</td>\n",
              "      <td>0</td>\n",
              "      <td>1</td>\n",
              "      <td>0</td>\n",
              "      <td>0</td>\n",
              "      <td>1024</td>\n",
              "    </tr>\n",
              "    <tr>\n",
              "      <th>3</th>\n",
              "      <td>0.089</td>\n",
              "      <td>364</td>\n",
              "      <td>1</td>\n",
              "      <td>0</td>\n",
              "      <td>52</td>\n",
              "      <td>0</td>\n",
              "      <td>50</td>\n",
              "      <td>0.0</td>\n",
              "      <td>0</td>\n",
              "      <td>0.0</td>\n",
              "      <td>0.0</td>\n",
              "      <td>0.0</td>\n",
              "      <td>0.0</td>\n",
              "      <td>0.0</td>\n",
              "      <td>0.0</td>\n",
              "      <td>8.0</td>\n",
              "      <td>0</td>\n",
              "      <td>1</td>\n",
              "      <td>0</td>\n",
              "      <td>0</td>\n",
              "      <td>0</td>\n",
              "      <td>0</td>\n",
              "      <td>0</td>\n",
              "      <td>0</td>\n",
              "      <td>1</td>\n",
              "      <td>0</td>\n",
              "      <td>0</td>\n",
              "      <td>2704</td>\n",
              "    </tr>\n",
              "    <tr>\n",
              "      <th>4</th>\n",
              "      <td>0.233</td>\n",
              "      <td>426</td>\n",
              "      <td>0</td>\n",
              "      <td>0</td>\n",
              "      <td>57</td>\n",
              "      <td>0</td>\n",
              "      <td>50</td>\n",
              "      <td>0.0</td>\n",
              "      <td>0</td>\n",
              "      <td>0.0</td>\n",
              "      <td>0.0</td>\n",
              "      <td>0.0</td>\n",
              "      <td>0.0</td>\n",
              "      <td>0.0</td>\n",
              "      <td>0.0</td>\n",
              "      <td>7.0</td>\n",
              "      <td>1</td>\n",
              "      <td>0</td>\n",
              "      <td>0</td>\n",
              "      <td>0</td>\n",
              "      <td>0</td>\n",
              "      <td>0</td>\n",
              "      <td>0</td>\n",
              "      <td>0</td>\n",
              "      <td>0</td>\n",
              "      <td>1</td>\n",
              "      <td>0</td>\n",
              "      <td>3249</td>\n",
              "    </tr>\n",
              "  </tbody>\n",
              "</table>\n",
              "</div>"
            ],
            "text/plain": [
              "   Exposure  LicAge  Gender  ...  SocioCateg_CSP6  SocioCateg_CSP7  DrivAgeSq\n",
              "0     0.083     332       0  ...                0                0       2116\n",
              "1     0.916     333       0  ...                0                0       2116\n",
              "2     0.550     173       0  ...                0                0       1024\n",
              "3     0.089     364       1  ...                0                0       2704\n",
              "4     0.233     426       0  ...                1                0       3249\n",
              "\n",
              "[5 rows x 28 columns]"
            ]
          },
          "metadata": {
            "tags": []
          },
          "execution_count": 16
        }
      ]
    },
    {
      "cell_type": "markdown",
      "metadata": {
        "id": "fKCG1lssMNA7",
        "colab_type": "text"
      },
      "source": [
        "### Установка H2O на Google Colaboratory и инициализация"
      ]
    },
    {
      "cell_type": "code",
      "metadata": {
        "id": "XgOdDSP-gXCd",
        "colab_type": "code",
        "outputId": "041f90ad-9b1b-41cf-9f22-82d8d9296489",
        "colab": {
          "base_uri": "https://localhost:8080/",
          "height": 153
        }
      },
      "source": [
        "!apt-get install default-jre"
      ],
      "execution_count": 0,
      "outputs": [
        {
          "output_type": "stream",
          "text": [
            "Reading package lists... Done\n",
            "Building dependency tree       \n",
            "Reading state information... Done\n",
            "default-jre is already the newest version (2:1.11-68ubuntu1~18.04.1).\n",
            "The following package was automatically installed and is no longer required:\n",
            "  libnvidia-common-430\n",
            "Use 'apt autoremove' to remove it.\n",
            "0 upgraded, 0 newly installed, 0 to remove and 25 not upgraded.\n"
          ],
          "name": "stdout"
        }
      ]
    },
    {
      "cell_type": "code",
      "metadata": {
        "colab_type": "code",
        "outputId": "320a097c-af8a-447f-ae09-927ded16f33c",
        "id": "de9IqtsH_jl-",
        "colab": {
          "base_uri": "https://localhost:8080/",
          "height": 68
        }
      },
      "source": [
        "!java -version"
      ],
      "execution_count": 0,
      "outputs": [
        {
          "output_type": "stream",
          "text": [
            "openjdk version \"11.0.6\" 2020-01-14\n",
            "OpenJDK Runtime Environment (build 11.0.6+10-post-Ubuntu-1ubuntu118.04.1)\n",
            "OpenJDK 64-Bit Server VM (build 11.0.6+10-post-Ubuntu-1ubuntu118.04.1, mixed mode, sharing)\n"
          ],
          "name": "stdout"
        }
      ]
    },
    {
      "cell_type": "code",
      "metadata": {
        "id": "oTpLqa_sgJH4",
        "colab_type": "code",
        "outputId": "5e3db859-1687-4142-d4f1-45a8fc76663f",
        "colab": {
          "base_uri": "https://localhost:8080/",
          "height": 170
        }
      },
      "source": [
        "!pip install h2o"
      ],
      "execution_count": 0,
      "outputs": [
        {
          "output_type": "stream",
          "text": [
            "Requirement already satisfied: h2o in /usr/local/lib/python3.6/dist-packages (3.28.0.3)\n",
            "Requirement already satisfied: future in /usr/local/lib/python3.6/dist-packages (from h2o) (0.16.0)\n",
            "Requirement already satisfied: colorama>=0.3.8 in /usr/local/lib/python3.6/dist-packages (from h2o) (0.4.3)\n",
            "Requirement already satisfied: requests in /usr/local/lib/python3.6/dist-packages (from h2o) (2.21.0)\n",
            "Requirement already satisfied: tabulate in /usr/local/lib/python3.6/dist-packages (from h2o) (0.8.6)\n",
            "Requirement already satisfied: idna<2.9,>=2.5 in /usr/local/lib/python3.6/dist-packages (from requests->h2o) (2.8)\n",
            "Requirement already satisfied: urllib3<1.25,>=1.21.1 in /usr/local/lib/python3.6/dist-packages (from requests->h2o) (1.24.3)\n",
            "Requirement already satisfied: certifi>=2017.4.17 in /usr/local/lib/python3.6/dist-packages (from requests->h2o) (2019.11.28)\n",
            "Requirement already satisfied: chardet<3.1.0,>=3.0.2 in /usr/local/lib/python3.6/dist-packages (from requests->h2o) (3.0.4)\n"
          ],
          "name": "stdout"
        }
      ]
    },
    {
      "cell_type": "code",
      "metadata": {
        "id": "KSdsMa-agl-6",
        "colab_type": "code",
        "outputId": "fe99dd7d-c90b-4775-e818-9499b42ae6ac",
        "colab": {
          "base_uri": "https://localhost:8080/",
          "height": 562
        }
      },
      "source": [
        "import h2o\n",
        "from h2o.estimators.glm import H2OGeneralizedLinearEstimator\n",
        "h2o.init()"
      ],
      "execution_count": 0,
      "outputs": [
        {
          "output_type": "stream",
          "text": [
            "Checking whether there is an H2O instance running at http://localhost:54321 ..... not found.\n",
            "Attempting to start a local H2O server...\n",
            "  Java Version: openjdk version \"11.0.6\" 2020-01-14; OpenJDK Runtime Environment (build 11.0.6+10-post-Ubuntu-1ubuntu118.04.1); OpenJDK 64-Bit Server VM (build 11.0.6+10-post-Ubuntu-1ubuntu118.04.1, mixed mode, sharing)\n",
            "  Starting server from /usr/local/lib/python3.6/dist-packages/h2o/backend/bin/h2o.jar\n",
            "  Ice root: /tmp/tmpb1bu9huh\n",
            "  JVM stdout: /tmp/tmpb1bu9huh/h2o_unknownUser_started_from_python.out\n",
            "  JVM stderr: /tmp/tmpb1bu9huh/h2o_unknownUser_started_from_python.err\n",
            "  Server is running at http://127.0.0.1:54321\n",
            "Connecting to H2O server at http://127.0.0.1:54321 ... successful.\n"
          ],
          "name": "stdout"
        },
        {
          "output_type": "display_data",
          "data": {
            "text/html": [
              "<div style=\"overflow:auto\"><table style=\"width:50%\"><tr><td>H2O cluster uptime:</td>\n",
              "<td>02 secs</td></tr>\n",
              "<tr><td>H2O cluster timezone:</td>\n",
              "<td>Etc/UTC</td></tr>\n",
              "<tr><td>H2O data parsing timezone:</td>\n",
              "<td>UTC</td></tr>\n",
              "<tr><td>H2O cluster version:</td>\n",
              "<td>3.28.0.3</td></tr>\n",
              "<tr><td>H2O cluster version age:</td>\n",
              "<td>8 days </td></tr>\n",
              "<tr><td>H2O cluster name:</td>\n",
              "<td>H2O_from_python_unknownUser_po2suk</td></tr>\n",
              "<tr><td>H2O cluster total nodes:</td>\n",
              "<td>1</td></tr>\n",
              "<tr><td>H2O cluster free memory:</td>\n",
              "<td>3 Gb</td></tr>\n",
              "<tr><td>H2O cluster total cores:</td>\n",
              "<td>2</td></tr>\n",
              "<tr><td>H2O cluster allowed cores:</td>\n",
              "<td>2</td></tr>\n",
              "<tr><td>H2O cluster status:</td>\n",
              "<td>accepting new members, healthy</td></tr>\n",
              "<tr><td>H2O connection url:</td>\n",
              "<td>http://127.0.0.1:54321</td></tr>\n",
              "<tr><td>H2O connection proxy:</td>\n",
              "<td>{'http': None, 'https': None}</td></tr>\n",
              "<tr><td>H2O internal security:</td>\n",
              "<td>False</td></tr>\n",
              "<tr><td>H2O API Extensions:</td>\n",
              "<td>Amazon S3, XGBoost, Algos, AutoML, Core V3, TargetEncoder, Core V4</td></tr>\n",
              "<tr><td>Python version:</td>\n",
              "<td>3.6.9 final</td></tr></table></div>"
            ],
            "text/plain": [
              "--------------------------  ------------------------------------------------------------------\n",
              "H2O cluster uptime:         02 secs\n",
              "H2O cluster timezone:       Etc/UTC\n",
              "H2O data parsing timezone:  UTC\n",
              "H2O cluster version:        3.28.0.3\n",
              "H2O cluster version age:    8 days\n",
              "H2O cluster name:           H2O_from_python_unknownUser_po2suk\n",
              "H2O cluster total nodes:    1\n",
              "H2O cluster free memory:    3 Gb\n",
              "H2O cluster total cores:    2\n",
              "H2O cluster allowed cores:  2\n",
              "H2O cluster status:         accepting new members, healthy\n",
              "H2O connection url:         http://127.0.0.1:54321\n",
              "H2O connection proxy:       {'http': None, 'https': None}\n",
              "H2O internal security:      False\n",
              "H2O API Extensions:         Amazon S3, XGBoost, Algos, AutoML, Core V3, TargetEncoder, Core V4\n",
              "Python version:             3.6.9 final\n",
              "--------------------------  ------------------------------------------------------------------"
            ]
          },
          "metadata": {
            "tags": []
          }
        }
      ]
    },
    {
      "cell_type": "markdown",
      "metadata": {
        "colab_type": "text",
        "id": "Xljx8j0-_jXR"
      },
      "source": [
        "## * Домашнее задание: GLM для прогнозирования наступления страхового случая"
      ]
    },
    {
      "cell_type": "code",
      "metadata": {
        "id": "EgD9hvYAIury",
        "colab_type": "code",
        "colab": {}
      },
      "source": [
        "# Разбиение датасета на train/val/test\n",
        "\n",
        "from sklearn.model_selection import train_test_split\n",
        "x_train_ind, x_test_ind, y_train_ind, y_test_ind = train_test_split(df.drop(['ClaimInd', 'ClaimAmount'], axis=1), df.ClaimInd, test_size=0.3, random_state=1) # stratify=df.ClaimInd\n",
        "x_valid_ind, x_test_ind, y_valid_ind, y_test_ind = train_test_split(x_test_ind, y_test_ind, test_size=0.5, random_state=1) # stratify=y_test_ind"
      ],
      "execution_count": 0,
      "outputs": []
    },
    {
      "cell_type": "code",
      "metadata": {
        "id": "Bt_i4clofGFR",
        "colab_type": "code",
        "outputId": "1eec7f4a-075f-4f11-e400-f497a5d8b0c2",
        "colab": {
          "base_uri": "https://localhost:8080/",
          "height": 68
        }
      },
      "source": [
        "# Преобразование в H2O-Frame\n",
        "\n",
        "h2o_train_ind = h2o.H2OFrame(pd.concat([x_train_ind, y_train_ind], axis=1))\n",
        "h2o_valid_ind = h2o.H2OFrame(pd.concat([x_valid_ind, y_valid_ind], axis=1))\n",
        "h2o_test_ind = h2o.H2OFrame(pd.concat([x_test_ind, y_test_ind], axis=1))"
      ],
      "execution_count": 0,
      "outputs": [
        {
          "output_type": "stream",
          "text": [
            "Parse progress: |█████████████████████████████████████████████████████████| 100%\n",
            "Parse progress: |█████████████████████████████████████████████████████████| 100%\n",
            "Parse progress: |█████████████████████████████████████████████████████████| 100%\n"
          ],
          "name": "stdout"
        }
      ]
    },
    {
      "cell_type": "code",
      "metadata": {
        "id": "5ETBVckIjIRC",
        "colab_type": "code",
        "colab": {}
      },
      "source": [
        "# Преобразуем целевую переменную ClaimInd в категориальную при помощи метода asfactor во всех наборах данных\n",
        "\n",
        "for x in [h2o_train_ind, h2o_valid_ind, h2o_test_ind]:\n",
        "    x['ClaimInd'] = x['ClaimInd'].asfactor()"
      ],
      "execution_count": 0,
      "outputs": []
    },
    {
      "cell_type": "code",
      "metadata": {
        "id": "nIxnYLksCCP3",
        "colab_type": "code",
        "outputId": "e827446a-4bf0-43a7-effa-3eac2d6b3b56",
        "colab": {
          "base_uri": "https://localhost:8080/",
          "height": 442
        }
      },
      "source": [
        "h2o_train_ind.names[1:-1]"
      ],
      "execution_count": 0,
      "outputs": [
        {
          "output_type": "execute_result",
          "data": {
            "text/plain": [
              "['LicAge',\n",
              " 'Gender',\n",
              " 'MariStat',\n",
              " 'DrivAge',\n",
              " 'HasKmLimit',\n",
              " 'BonusMalus',\n",
              " 'ClaimNbResp',\n",
              " 'ClaimNbNonResp',\n",
              " 'ClaimNbParking',\n",
              " 'ClaimNbFireTheft',\n",
              " 'ClaimNbWindscreen',\n",
              " 'OutUseNb',\n",
              " 'RiskArea',\n",
              " 'VehUsage_Private',\n",
              " 'VehUsage_Private+trip to office',\n",
              " 'VehUsage_Professional',\n",
              " 'VehUsage_Professional run',\n",
              " 'SocioCateg_CSP1',\n",
              " 'SocioCateg_CSP2',\n",
              " 'SocioCateg_CSP3',\n",
              " 'SocioCateg_CSP4',\n",
              " 'SocioCateg_CSP5',\n",
              " 'SocioCateg_CSP6',\n",
              " 'SocioCateg_CSP7',\n",
              " 'DrivAgeSq']"
            ]
          },
          "metadata": {
            "tags": []
          },
          "execution_count": 24
        }
      ]
    },
    {
      "cell_type": "code",
      "metadata": {
        "id": "xoT7OG9ljwKY",
        "colab_type": "code",
        "outputId": "0f6c0092-9abe-4dc8-ea9d-66ed91307a38",
        "colab": {
          "base_uri": "https://localhost:8080/",
          "height": 34
        }
      },
      "source": [
        "# Инициализируем и обучим GLM модель c кросс-валидацией\n",
        "\n",
        "glm_binomial = H2OGeneralizedLinearEstimator(family = \"binomial\", link = \"Logit\", nfolds=5)\n",
        "glm_binomial.train(y=\"ClaimInd\", x = h2o_train_ind.names[1:-1], training_frame = h2o_train_ind, validation_frame = h2o_valid_ind)"
      ],
      "execution_count": 0,
      "outputs": [
        {
          "output_type": "stream",
          "text": [
            "glm Model Build progress: |███████████████████████████████████████████████| 100%\n"
          ],
          "name": "stdout"
        }
      ]
    },
    {
      "cell_type": "code",
      "metadata": {
        "id": "WXbmbcSDoOXs",
        "colab_type": "code",
        "outputId": "6e7ae4ba-cd6d-4624-df57-4facb4c51272",
        "colab": {
          "base_uri": "https://localhost:8080/",
          "height": 114
        }
      },
      "source": [
        "# Параметры модели: распределение, функция связи, гиперпараметры регуляризации, количество использованных объясняющих переменных\n",
        "\n",
        "glm_binomial.summary()"
      ],
      "execution_count": 0,
      "outputs": [
        {
          "output_type": "stream",
          "text": [
            "\n",
            "GLM Model: summary\n"
          ],
          "name": "stdout"
        },
        {
          "output_type": "display_data",
          "data": {
            "text/html": [
              "<div>\n",
              "<style scoped>\n",
              "    .dataframe tbody tr th:only-of-type {\n",
              "        vertical-align: middle;\n",
              "    }\n",
              "\n",
              "    .dataframe tbody tr th {\n",
              "        vertical-align: top;\n",
              "    }\n",
              "\n",
              "    .dataframe thead th {\n",
              "        text-align: right;\n",
              "    }\n",
              "</style>\n",
              "<table border=\"1\" class=\"dataframe\">\n",
              "  <thead>\n",
              "    <tr style=\"text-align: right;\">\n",
              "      <th></th>\n",
              "      <th></th>\n",
              "      <th>family</th>\n",
              "      <th>link</th>\n",
              "      <th>regularization</th>\n",
              "      <th>number_of_predictors_total</th>\n",
              "      <th>number_of_active_predictors</th>\n",
              "      <th>number_of_iterations</th>\n",
              "      <th>training_frame</th>\n",
              "    </tr>\n",
              "  </thead>\n",
              "  <tbody>\n",
              "    <tr>\n",
              "      <th>0</th>\n",
              "      <td></td>\n",
              "      <td>binomial</td>\n",
              "      <td>logit</td>\n",
              "      <td>Elastic Net (alpha = 0.5, lambda = 2.368E-5 )</td>\n",
              "      <td>25</td>\n",
              "      <td>25</td>\n",
              "      <td>3</td>\n",
              "      <td>py_1_sid_95c8</td>\n",
              "    </tr>\n",
              "  </tbody>\n",
              "</table>\n",
              "</div>"
            ],
            "text/plain": [
              "       family  ... number_of_iterations training_frame\n",
              "0    binomial  ...                    3  py_1_sid_95c8\n",
              "\n",
              "[1 rows x 8 columns]"
            ]
          },
          "metadata": {
            "tags": []
          }
        },
        {
          "output_type": "execute_result",
          "data": {
            "text/plain": [
              ""
            ]
          },
          "metadata": {
            "tags": []
          },
          "execution_count": 26
        }
      ]
    },
    {
      "cell_type": "code",
      "metadata": {
        "id": "mUvoWpAkoRir",
        "colab_type": "code",
        "outputId": "5798121d-8e7f-4442-92c6-9220c45bc1b7",
        "colab": {
          "base_uri": "https://localhost:8080/",
          "height": 762
        }
      },
      "source": [
        "# Метрики качества модели - по всем данным и на кросс-валидации\n",
        "\n",
        "glm_binomial.cross_validation_metrics_summary().as_data_frame()"
      ],
      "execution_count": 0,
      "outputs": [
        {
          "output_type": "execute_result",
          "data": {
            "text/html": [
              "<div>\n",
              "<style scoped>\n",
              "    .dataframe tbody tr th:only-of-type {\n",
              "        vertical-align: middle;\n",
              "    }\n",
              "\n",
              "    .dataframe tbody tr th {\n",
              "        vertical-align: top;\n",
              "    }\n",
              "\n",
              "    .dataframe thead th {\n",
              "        text-align: right;\n",
              "    }\n",
              "</style>\n",
              "<table border=\"1\" class=\"dataframe\">\n",
              "  <thead>\n",
              "    <tr style=\"text-align: right;\">\n",
              "      <th></th>\n",
              "      <th></th>\n",
              "      <th>mean</th>\n",
              "      <th>sd</th>\n",
              "      <th>cv_1_valid</th>\n",
              "      <th>cv_2_valid</th>\n",
              "      <th>cv_3_valid</th>\n",
              "      <th>cv_4_valid</th>\n",
              "      <th>cv_5_valid</th>\n",
              "    </tr>\n",
              "  </thead>\n",
              "  <tbody>\n",
              "    <tr>\n",
              "      <th>0</th>\n",
              "      <td>accuracy</td>\n",
              "      <td>0.5152063</td>\n",
              "      <td>0.053481974</td>\n",
              "      <td>0.4886589</td>\n",
              "      <td>0.5285016</td>\n",
              "      <td>0.50821817</td>\n",
              "      <td>0.59711117</td>\n",
              "      <td>0.45354176</td>\n",
              "    </tr>\n",
              "    <tr>\n",
              "      <th>1</th>\n",
              "      <td>auc</td>\n",
              "      <td>0.57437015</td>\n",
              "      <td>0.0036078044</td>\n",
              "      <td>0.5739018</td>\n",
              "      <td>0.5732919</td>\n",
              "      <td>0.5778384</td>\n",
              "      <td>0.57769924</td>\n",
              "      <td>0.56911933</td>\n",
              "    </tr>\n",
              "    <tr>\n",
              "      <th>2</th>\n",
              "      <td>aucpr</td>\n",
              "      <td>0.1177733</td>\n",
              "      <td>0.002612848</td>\n",
              "      <td>0.116333455</td>\n",
              "      <td>0.118587896</td>\n",
              "      <td>0.12177087</td>\n",
              "      <td>0.11729222</td>\n",
              "      <td>0.11488208</td>\n",
              "    </tr>\n",
              "    <tr>\n",
              "      <th>3</th>\n",
              "      <td>err</td>\n",
              "      <td>0.4847937</td>\n",
              "      <td>0.053481974</td>\n",
              "      <td>0.5113411</td>\n",
              "      <td>0.47149843</td>\n",
              "      <td>0.49178183</td>\n",
              "      <td>0.40288883</td>\n",
              "      <td>0.54645824</td>\n",
              "    </tr>\n",
              "    <tr>\n",
              "      <th>4</th>\n",
              "      <td>err_count</td>\n",
              "      <td>7815.4</td>\n",
              "      <td>859.91876</td>\n",
              "      <td>8251.0</td>\n",
              "      <td>7618.0</td>\n",
              "      <td>7899.0</td>\n",
              "      <td>6499.0</td>\n",
              "      <td>8810.0</td>\n",
              "    </tr>\n",
              "    <tr>\n",
              "      <th>5</th>\n",
              "      <td>f0point5</td>\n",
              "      <td>0.13707864</td>\n",
              "      <td>0.0054911263</td>\n",
              "      <td>0.13113847</td>\n",
              "      <td>0.1412285</td>\n",
              "      <td>0.14280784</td>\n",
              "      <td>0.13881879</td>\n",
              "      <td>0.13139963</td>\n",
              "    </tr>\n",
              "    <tr>\n",
              "      <th>6</th>\n",
              "      <td>f1</td>\n",
              "      <td>0.193083</td>\n",
              "      <td>0.0060628513</td>\n",
              "      <td>0.18685326</td>\n",
              "      <td>0.19776748</td>\n",
              "      <td>0.20091046</td>\n",
              "      <td>0.19156611</td>\n",
              "      <td>0.18831767</td>\n",
              "    </tr>\n",
              "    <tr>\n",
              "      <th>7</th>\n",
              "      <td>f2</td>\n",
              "      <td>0.32691854</td>\n",
              "      <td>0.01120653</td>\n",
              "      <td>0.32488006</td>\n",
              "      <td>0.3297977</td>\n",
              "      <td>0.33872288</td>\n",
              "      <td>0.30896395</td>\n",
              "      <td>0.33222806</td>\n",
              "    </tr>\n",
              "    <tr>\n",
              "      <th>8</th>\n",
              "      <td>lift_top_group</td>\n",
              "      <td>1.584417</td>\n",
              "      <td>0.21699414</td>\n",
              "      <td>1.8158902</td>\n",
              "      <td>1.4518323</td>\n",
              "      <td>1.3795145</td>\n",
              "      <td>1.8239484</td>\n",
              "      <td>1.4508995</td>\n",
              "    </tr>\n",
              "    <tr>\n",
              "      <th>9</th>\n",
              "      <td>logloss</td>\n",
              "      <td>0.31054142</td>\n",
              "      <td>0.008043579</td>\n",
              "      <td>0.303693</td>\n",
              "      <td>0.31754658</td>\n",
              "      <td>0.32035026</td>\n",
              "      <td>0.30264708</td>\n",
              "      <td>0.3084702</td>\n",
              "    </tr>\n",
              "    <tr>\n",
              "      <th>10</th>\n",
              "      <td>max_per_class_error</td>\n",
              "      <td>0.5113953</td>\n",
              "      <td>0.038333718</td>\n",
              "      <td>0.5266462</td>\n",
              "      <td>0.47863072</td>\n",
              "      <td>0.5045263</td>\n",
              "      <td>0.47761193</td>\n",
              "      <td>0.56956136</td>\n",
              "    </tr>\n",
              "    <tr>\n",
              "      <th>11</th>\n",
              "      <td>mcc</td>\n",
              "      <td>0.068796575</td>\n",
              "      <td>0.0043841796</td>\n",
              "      <td>0.06569777</td>\n",
              "      <td>0.068730906</td>\n",
              "      <td>0.071501195</td>\n",
              "      <td>0.07449717</td>\n",
              "      <td>0.06355582</td>\n",
              "    </tr>\n",
              "    <tr>\n",
              "      <th>12</th>\n",
              "      <td>mean_per_class_accuracy</td>\n",
              "      <td>0.5583466</td>\n",
              "      <td>0.003598869</td>\n",
              "      <td>0.5567309</td>\n",
              "      <td>0.55783653</td>\n",
              "      <td>0.55980474</td>\n",
              "      <td>0.5635069</td>\n",
              "      <td>0.55385417</td>\n",
              "    </tr>\n",
              "    <tr>\n",
              "      <th>13</th>\n",
              "      <td>mean_per_class_error</td>\n",
              "      <td>0.44165334</td>\n",
              "      <td>0.003598869</td>\n",
              "      <td>0.44326907</td>\n",
              "      <td>0.44216347</td>\n",
              "      <td>0.44019526</td>\n",
              "      <td>0.43649307</td>\n",
              "      <td>0.4461458</td>\n",
              "    </tr>\n",
              "    <tr>\n",
              "      <th>14</th>\n",
              "      <td>mse</td>\n",
              "      <td>0.08529422</td>\n",
              "      <td>0.002866936</td>\n",
              "      <td>0.082874216</td>\n",
              "      <td>0.087811135</td>\n",
              "      <td>0.08879905</td>\n",
              "      <td>0.08251462</td>\n",
              "      <td>0.084472045</td>\n",
              "    </tr>\n",
              "    <tr>\n",
              "      <th>15</th>\n",
              "      <td>null_deviance</td>\n",
              "      <td>10103.447</td>\n",
              "      <td>246.47105</td>\n",
              "      <td>9898.505</td>\n",
              "      <td>10349.737</td>\n",
              "      <td>10381.466</td>\n",
              "      <td>9866.175</td>\n",
              "      <td>10021.353</td>\n",
              "    </tr>\n",
              "    <tr>\n",
              "      <th>16</th>\n",
              "      <td>pr_auc</td>\n",
              "      <td>0.1177733</td>\n",
              "      <td>0.002612848</td>\n",
              "      <td>0.116333455</td>\n",
              "      <td>0.118587896</td>\n",
              "      <td>0.12177087</td>\n",
              "      <td>0.11729222</td>\n",
              "      <td>0.11488208</td>\n",
              "    </tr>\n",
              "    <tr>\n",
              "      <th>17</th>\n",
              "      <td>precision</td>\n",
              "      <td>0.11487812</td>\n",
              "      <td>0.005094333</td>\n",
              "      <td>0.10939303</td>\n",
              "      <td>0.118620515</td>\n",
              "      <td>0.1197251</td>\n",
              "      <td>0.11728865</td>\n",
              "      <td>0.109363295</td>\n",
              "    </tr>\n",
              "    <tr>\n",
              "      <th>18</th>\n",
              "      <td>r2</td>\n",
              "      <td>0.005195537</td>\n",
              "      <td>7.725083E-4</td>\n",
              "      <td>0.0058078757</td>\n",
              "      <td>0.0047188136</td>\n",
              "      <td>0.004963848</td>\n",
              "      <td>0.006172702</td>\n",
              "      <td>0.004314446</td>\n",
              "    </tr>\n",
              "    <tr>\n",
              "      <th>19</th>\n",
              "      <td>recall</td>\n",
              "      <td>0.61164105</td>\n",
              "      <td>0.058181368</td>\n",
              "      <td>0.64010805</td>\n",
              "      <td>0.5943038</td>\n",
              "      <td>0.6241358</td>\n",
              "      <td>0.52238804</td>\n",
              "      <td>0.6772697</td>\n",
              "    </tr>\n",
              "    <tr>\n",
              "      <th>20</th>\n",
              "      <td>residual_deviance</td>\n",
              "      <td>10012.645</td>\n",
              "      <td>250.16673</td>\n",
              "      <td>9800.78</td>\n",
              "      <td>10261.2</td>\n",
              "      <td>10290.932</td>\n",
              "      <td>9764.001</td>\n",
              "      <td>9946.3125</td>\n",
              "    </tr>\n",
              "    <tr>\n",
              "      <th>21</th>\n",
              "      <td>rmse</td>\n",
              "      <td>0.29201886</td>\n",
              "      <td>0.004899053</td>\n",
              "      <td>0.2878788</td>\n",
              "      <td>0.29632944</td>\n",
              "      <td>0.2979917</td>\n",
              "      <td>0.2872536</td>\n",
              "      <td>0.29064074</td>\n",
              "    </tr>\n",
              "    <tr>\n",
              "      <th>22</th>\n",
              "      <td>specificity</td>\n",
              "      <td>0.50505227</td>\n",
              "      <td>0.06489388</td>\n",
              "      <td>0.4733538</td>\n",
              "      <td>0.5213693</td>\n",
              "      <td>0.4954737</td>\n",
              "      <td>0.60462576</td>\n",
              "      <td>0.43043864</td>\n",
              "    </tr>\n",
              "  </tbody>\n",
              "</table>\n",
              "</div>"
            ],
            "text/plain": [
              "                                    mean  ...   cv_4_valid   cv_5_valid\n",
              "0                  accuracy    0.5152063  ...   0.59711117   0.45354176\n",
              "1                       auc   0.57437015  ...   0.57769924   0.56911933\n",
              "2                     aucpr    0.1177733  ...   0.11729222   0.11488208\n",
              "3                       err    0.4847937  ...   0.40288883   0.54645824\n",
              "4                 err_count       7815.4  ...       6499.0       8810.0\n",
              "5                  f0point5   0.13707864  ...   0.13881879   0.13139963\n",
              "6                        f1     0.193083  ...   0.19156611   0.18831767\n",
              "7                        f2   0.32691854  ...   0.30896395   0.33222806\n",
              "8            lift_top_group     1.584417  ...    1.8239484    1.4508995\n",
              "9                   logloss   0.31054142  ...   0.30264708    0.3084702\n",
              "10      max_per_class_error    0.5113953  ...   0.47761193   0.56956136\n",
              "11                      mcc  0.068796575  ...   0.07449717   0.06355582\n",
              "12  mean_per_class_accuracy    0.5583466  ...    0.5635069   0.55385417\n",
              "13     mean_per_class_error   0.44165334  ...   0.43649307    0.4461458\n",
              "14                      mse   0.08529422  ...   0.08251462  0.084472045\n",
              "15            null_deviance    10103.447  ...     9866.175    10021.353\n",
              "16                   pr_auc    0.1177733  ...   0.11729222   0.11488208\n",
              "17                precision   0.11487812  ...   0.11728865  0.109363295\n",
              "18                       r2  0.005195537  ...  0.006172702  0.004314446\n",
              "19                   recall   0.61164105  ...   0.52238804    0.6772697\n",
              "20        residual_deviance    10012.645  ...     9764.001    9946.3125\n",
              "21                     rmse   0.29201886  ...    0.2872536   0.29064074\n",
              "22              specificity   0.50505227  ...   0.60462576   0.43043864\n",
              "\n",
              "[23 rows x 8 columns]"
            ]
          },
          "metadata": {
            "tags": []
          },
          "execution_count": 27
        }
      ]
    },
    {
      "cell_type": "code",
      "metadata": {
        "id": "D8USRdSmoYy_",
        "colab_type": "code",
        "outputId": "377306cc-b9ff-4231-bfca-c7cc2d88dd05",
        "colab": {
          "base_uri": "https://localhost:8080/",
          "height": 855
        }
      },
      "source": [
        "# Таблица коэффициентов модели (в зависимости от модели могут выводиться также стандартная ошибка, z-score и p-value)\n",
        "\n",
        "glm_binomial._model_json['output']['coefficients_table'].as_data_frame()"
      ],
      "execution_count": 0,
      "outputs": [
        {
          "output_type": "execute_result",
          "data": {
            "text/html": [
              "<div>\n",
              "<style scoped>\n",
              "    .dataframe tbody tr th:only-of-type {\n",
              "        vertical-align: middle;\n",
              "    }\n",
              "\n",
              "    .dataframe tbody tr th {\n",
              "        vertical-align: top;\n",
              "    }\n",
              "\n",
              "    .dataframe thead th {\n",
              "        text-align: right;\n",
              "    }\n",
              "</style>\n",
              "<table border=\"1\" class=\"dataframe\">\n",
              "  <thead>\n",
              "    <tr style=\"text-align: right;\">\n",
              "      <th></th>\n",
              "      <th>names</th>\n",
              "      <th>coefficients</th>\n",
              "      <th>standardized_coefficients</th>\n",
              "    </tr>\n",
              "  </thead>\n",
              "  <tbody>\n",
              "    <tr>\n",
              "      <th>0</th>\n",
              "      <td>Intercept</td>\n",
              "      <td>-2.494727</td>\n",
              "      <td>-2.286852</td>\n",
              "    </tr>\n",
              "    <tr>\n",
              "      <th>1</th>\n",
              "      <td>LicAge</td>\n",
              "      <td>-0.000384</td>\n",
              "      <td>-0.061396</td>\n",
              "    </tr>\n",
              "    <tr>\n",
              "      <th>2</th>\n",
              "      <td>Gender</td>\n",
              "      <td>0.014988</td>\n",
              "      <td>0.007265</td>\n",
              "    </tr>\n",
              "    <tr>\n",
              "      <th>3</th>\n",
              "      <td>MariStat</td>\n",
              "      <td>-0.057466</td>\n",
              "      <td>-0.020702</td>\n",
              "    </tr>\n",
              "    <tr>\n",
              "      <th>4</th>\n",
              "      <td>DrivAge</td>\n",
              "      <td>-0.003957</td>\n",
              "      <td>-0.059336</td>\n",
              "    </tr>\n",
              "    <tr>\n",
              "      <th>5</th>\n",
              "      <td>HasKmLimit</td>\n",
              "      <td>-0.335855</td>\n",
              "      <td>-0.104884</td>\n",
              "    </tr>\n",
              "    <tr>\n",
              "      <th>6</th>\n",
              "      <td>BonusMalus</td>\n",
              "      <td>0.004713</td>\n",
              "      <td>0.072342</td>\n",
              "    </tr>\n",
              "    <tr>\n",
              "      <th>7</th>\n",
              "      <td>ClaimNbResp</td>\n",
              "      <td>0.068884</td>\n",
              "      <td>0.036203</td>\n",
              "    </tr>\n",
              "    <tr>\n",
              "      <th>8</th>\n",
              "      <td>ClaimNbNonResp</td>\n",
              "      <td>0.134218</td>\n",
              "      <td>0.080457</td>\n",
              "    </tr>\n",
              "    <tr>\n",
              "      <th>9</th>\n",
              "      <td>ClaimNbParking</td>\n",
              "      <td>0.172365</td>\n",
              "      <td>0.050834</td>\n",
              "    </tr>\n",
              "    <tr>\n",
              "      <th>10</th>\n",
              "      <td>ClaimNbFireTheft</td>\n",
              "      <td>0.046655</td>\n",
              "      <td>0.013476</td>\n",
              "    </tr>\n",
              "    <tr>\n",
              "      <th>11</th>\n",
              "      <td>ClaimNbWindscreen</td>\n",
              "      <td>0.121849</td>\n",
              "      <td>0.078449</td>\n",
              "    </tr>\n",
              "    <tr>\n",
              "      <th>12</th>\n",
              "      <td>OutUseNb</td>\n",
              "      <td>0.050231</td>\n",
              "      <td>0.034946</td>\n",
              "    </tr>\n",
              "    <tr>\n",
              "      <th>13</th>\n",
              "      <td>RiskArea</td>\n",
              "      <td>0.009097</td>\n",
              "      <td>0.020156</td>\n",
              "    </tr>\n",
              "    <tr>\n",
              "      <th>14</th>\n",
              "      <td>VehUsage_Private</td>\n",
              "      <td>-0.116641</td>\n",
              "      <td>-0.055158</td>\n",
              "    </tr>\n",
              "    <tr>\n",
              "      <th>15</th>\n",
              "      <td>VehUsage_Private+trip to office</td>\n",
              "      <td>-0.003052</td>\n",
              "      <td>-0.001525</td>\n",
              "    </tr>\n",
              "    <tr>\n",
              "      <th>16</th>\n",
              "      <td>VehUsage_Professional</td>\n",
              "      <td>0.215637</td>\n",
              "      <td>0.071267</td>\n",
              "    </tr>\n",
              "    <tr>\n",
              "      <th>17</th>\n",
              "      <td>VehUsage_Professional run</td>\n",
              "      <td>0.258107</td>\n",
              "      <td>0.034628</td>\n",
              "    </tr>\n",
              "    <tr>\n",
              "      <th>18</th>\n",
              "      <td>SocioCateg_CSP1</td>\n",
              "      <td>-0.104710</td>\n",
              "      <td>-0.015865</td>\n",
              "    </tr>\n",
              "    <tr>\n",
              "      <th>19</th>\n",
              "      <td>SocioCateg_CSP2</td>\n",
              "      <td>-0.133971</td>\n",
              "      <td>-0.022319</td>\n",
              "    </tr>\n",
              "    <tr>\n",
              "      <th>20</th>\n",
              "      <td>SocioCateg_CSP3</td>\n",
              "      <td>0.114530</td>\n",
              "      <td>0.011881</td>\n",
              "    </tr>\n",
              "    <tr>\n",
              "      <th>21</th>\n",
              "      <td>SocioCateg_CSP4</td>\n",
              "      <td>0.022759</td>\n",
              "      <td>0.005691</td>\n",
              "    </tr>\n",
              "    <tr>\n",
              "      <th>22</th>\n",
              "      <td>SocioCateg_CSP5</td>\n",
              "      <td>-0.029617</td>\n",
              "      <td>-0.014079</td>\n",
              "    </tr>\n",
              "    <tr>\n",
              "      <th>23</th>\n",
              "      <td>SocioCateg_CSP6</td>\n",
              "      <td>0.037979</td>\n",
              "      <td>0.015599</td>\n",
              "    </tr>\n",
              "    <tr>\n",
              "      <th>24</th>\n",
              "      <td>SocioCateg_CSP7</td>\n",
              "      <td>-0.246385</td>\n",
              "      <td>-0.002603</td>\n",
              "    </tr>\n",
              "    <tr>\n",
              "      <th>25</th>\n",
              "      <td>DrivAgeSq</td>\n",
              "      <td>0.000040</td>\n",
              "      <td>0.062122</td>\n",
              "    </tr>\n",
              "  </tbody>\n",
              "</table>\n",
              "</div>"
            ],
            "text/plain": [
              "                              names  coefficients  standardized_coefficients\n",
              "0                         Intercept     -2.494727                  -2.286852\n",
              "1                            LicAge     -0.000384                  -0.061396\n",
              "2                            Gender      0.014988                   0.007265\n",
              "3                          MariStat     -0.057466                  -0.020702\n",
              "4                           DrivAge     -0.003957                  -0.059336\n",
              "5                        HasKmLimit     -0.335855                  -0.104884\n",
              "6                        BonusMalus      0.004713                   0.072342\n",
              "7                       ClaimNbResp      0.068884                   0.036203\n",
              "8                    ClaimNbNonResp      0.134218                   0.080457\n",
              "9                    ClaimNbParking      0.172365                   0.050834\n",
              "10                 ClaimNbFireTheft      0.046655                   0.013476\n",
              "11                ClaimNbWindscreen      0.121849                   0.078449\n",
              "12                         OutUseNb      0.050231                   0.034946\n",
              "13                         RiskArea      0.009097                   0.020156\n",
              "14                 VehUsage_Private     -0.116641                  -0.055158\n",
              "15  VehUsage_Private+trip to office     -0.003052                  -0.001525\n",
              "16            VehUsage_Professional      0.215637                   0.071267\n",
              "17        VehUsage_Professional run      0.258107                   0.034628\n",
              "18                  SocioCateg_CSP1     -0.104710                  -0.015865\n",
              "19                  SocioCateg_CSP2     -0.133971                  -0.022319\n",
              "20                  SocioCateg_CSP3      0.114530                   0.011881\n",
              "21                  SocioCateg_CSP4      0.022759                   0.005691\n",
              "22                  SocioCateg_CSP5     -0.029617                  -0.014079\n",
              "23                  SocioCateg_CSP6      0.037979                   0.015599\n",
              "24                  SocioCateg_CSP7     -0.246385                  -0.002603\n",
              "25                        DrivAgeSq      0.000040                   0.062122"
            ]
          },
          "metadata": {
            "tags": []
          },
          "execution_count": 28
        }
      ]
    },
    {
      "cell_type": "code",
      "metadata": {
        "id": "KZ_XqTchoiYX",
        "colab_type": "code",
        "outputId": "e3ccc267-5eb0-4088-a5a0-1bdd6dcd83a3",
        "colab": {
          "base_uri": "https://localhost:8080/",
          "height": 855
        }
      },
      "source": [
        "# Таблица нормированных коэффициентов по всем данным и на кросс-валидации\n",
        "\n",
        "pmodels = {}\n",
        "pmodels['overall'] = glm_binomial.coef_norm()\n",
        "for x in range(len(glm_binomial.cross_validation_models())):\n",
        "    pmodels[x] = glm_binomial.cross_validation_models()[x].coef_norm()\n",
        "pd.DataFrame.from_dict(pmodels).round(5)"
      ],
      "execution_count": 0,
      "outputs": [
        {
          "output_type": "execute_result",
          "data": {
            "text/html": [
              "<div>\n",
              "<style scoped>\n",
              "    .dataframe tbody tr th:only-of-type {\n",
              "        vertical-align: middle;\n",
              "    }\n",
              "\n",
              "    .dataframe tbody tr th {\n",
              "        vertical-align: top;\n",
              "    }\n",
              "\n",
              "    .dataframe thead th {\n",
              "        text-align: right;\n",
              "    }\n",
              "</style>\n",
              "<table border=\"1\" class=\"dataframe\">\n",
              "  <thead>\n",
              "    <tr style=\"text-align: right;\">\n",
              "      <th></th>\n",
              "      <th>overall</th>\n",
              "      <th>0</th>\n",
              "      <th>1</th>\n",
              "      <th>2</th>\n",
              "      <th>3</th>\n",
              "      <th>4</th>\n",
              "    </tr>\n",
              "  </thead>\n",
              "  <tbody>\n",
              "    <tr>\n",
              "      <th>Intercept</th>\n",
              "      <td>-2.28685</td>\n",
              "      <td>-2.27834</td>\n",
              "      <td>-2.29631</td>\n",
              "      <td>-2.30032</td>\n",
              "      <td>-2.27639</td>\n",
              "      <td>-2.28445</td>\n",
              "    </tr>\n",
              "    <tr>\n",
              "      <th>LicAge</th>\n",
              "      <td>-0.06140</td>\n",
              "      <td>-0.07443</td>\n",
              "      <td>-0.06655</td>\n",
              "      <td>-0.07359</td>\n",
              "      <td>-0.06387</td>\n",
              "      <td>-0.03073</td>\n",
              "    </tr>\n",
              "    <tr>\n",
              "      <th>Gender</th>\n",
              "      <td>0.00726</td>\n",
              "      <td>0.01108</td>\n",
              "      <td>0.00821</td>\n",
              "      <td>-0.00206</td>\n",
              "      <td>0.01379</td>\n",
              "      <td>0.00449</td>\n",
              "    </tr>\n",
              "    <tr>\n",
              "      <th>MariStat</th>\n",
              "      <td>-0.02070</td>\n",
              "      <td>-0.02182</td>\n",
              "      <td>0.00078</td>\n",
              "      <td>-0.02002</td>\n",
              "      <td>-0.03597</td>\n",
              "      <td>-0.02207</td>\n",
              "    </tr>\n",
              "    <tr>\n",
              "      <th>DrivAge</th>\n",
              "      <td>-0.05934</td>\n",
              "      <td>-0.04319</td>\n",
              "      <td>-0.03625</td>\n",
              "      <td>-0.04087</td>\n",
              "      <td>-0.01621</td>\n",
              "      <td>-0.01822</td>\n",
              "    </tr>\n",
              "    <tr>\n",
              "      <th>HasKmLimit</th>\n",
              "      <td>-0.10488</td>\n",
              "      <td>-0.11648</td>\n",
              "      <td>-0.10373</td>\n",
              "      <td>-0.10426</td>\n",
              "      <td>-0.10177</td>\n",
              "      <td>-0.09626</td>\n",
              "    </tr>\n",
              "    <tr>\n",
              "      <th>BonusMalus</th>\n",
              "      <td>0.07234</td>\n",
              "      <td>0.06479</td>\n",
              "      <td>0.06546</td>\n",
              "      <td>0.06499</td>\n",
              "      <td>0.07752</td>\n",
              "      <td>0.09585</td>\n",
              "    </tr>\n",
              "    <tr>\n",
              "      <th>ClaimNbResp</th>\n",
              "      <td>0.03620</td>\n",
              "      <td>0.03702</td>\n",
              "      <td>0.04548</td>\n",
              "      <td>0.04052</td>\n",
              "      <td>0.03524</td>\n",
              "      <td>0.02059</td>\n",
              "    </tr>\n",
              "    <tr>\n",
              "      <th>ClaimNbNonResp</th>\n",
              "      <td>0.08046</td>\n",
              "      <td>0.08275</td>\n",
              "      <td>0.08097</td>\n",
              "      <td>0.07750</td>\n",
              "      <td>0.07311</td>\n",
              "      <td>0.08762</td>\n",
              "    </tr>\n",
              "    <tr>\n",
              "      <th>ClaimNbParking</th>\n",
              "      <td>0.05083</td>\n",
              "      <td>0.05121</td>\n",
              "      <td>0.05379</td>\n",
              "      <td>0.05150</td>\n",
              "      <td>0.05467</td>\n",
              "      <td>0.04252</td>\n",
              "    </tr>\n",
              "    <tr>\n",
              "      <th>ClaimNbFireTheft</th>\n",
              "      <td>0.01348</td>\n",
              "      <td>0.01170</td>\n",
              "      <td>0.02085</td>\n",
              "      <td>0.00715</td>\n",
              "      <td>0.01335</td>\n",
              "      <td>0.01385</td>\n",
              "    </tr>\n",
              "    <tr>\n",
              "      <th>ClaimNbWindscreen</th>\n",
              "      <td>0.07845</td>\n",
              "      <td>0.07149</td>\n",
              "      <td>0.08169</td>\n",
              "      <td>0.08031</td>\n",
              "      <td>0.07537</td>\n",
              "      <td>0.08267</td>\n",
              "    </tr>\n",
              "    <tr>\n",
              "      <th>OutUseNb</th>\n",
              "      <td>0.03495</td>\n",
              "      <td>0.02851</td>\n",
              "      <td>0.04398</td>\n",
              "      <td>0.03863</td>\n",
              "      <td>0.02977</td>\n",
              "      <td>0.03309</td>\n",
              "    </tr>\n",
              "    <tr>\n",
              "      <th>RiskArea</th>\n",
              "      <td>0.02016</td>\n",
              "      <td>0.02021</td>\n",
              "      <td>0.00743</td>\n",
              "      <td>0.02968</td>\n",
              "      <td>0.01205</td>\n",
              "      <td>0.03005</td>\n",
              "    </tr>\n",
              "    <tr>\n",
              "      <th>VehUsage_Private</th>\n",
              "      <td>-0.05516</td>\n",
              "      <td>-0.06032</td>\n",
              "      <td>-0.05891</td>\n",
              "      <td>-0.06655</td>\n",
              "      <td>-0.05520</td>\n",
              "      <td>-0.05939</td>\n",
              "    </tr>\n",
              "    <tr>\n",
              "      <th>VehUsage_Private+trip to office</th>\n",
              "      <td>-0.00152</td>\n",
              "      <td>-0.00885</td>\n",
              "      <td>-0.00772</td>\n",
              "      <td>-0.00369</td>\n",
              "      <td>-0.00910</td>\n",
              "      <td>-0.00696</td>\n",
              "    </tr>\n",
              "    <tr>\n",
              "      <th>VehUsage_Professional</th>\n",
              "      <td>0.07127</td>\n",
              "      <td>0.06952</td>\n",
              "      <td>0.07227</td>\n",
              "      <td>0.06311</td>\n",
              "      <td>0.06187</td>\n",
              "      <td>0.06755</td>\n",
              "    </tr>\n",
              "    <tr>\n",
              "      <th>VehUsage_Professional run</th>\n",
              "      <td>0.03463</td>\n",
              "      <td>0.03900</td>\n",
              "      <td>0.03295</td>\n",
              "      <td>0.03772</td>\n",
              "      <td>0.03360</td>\n",
              "      <td>0.02021</td>\n",
              "    </tr>\n",
              "    <tr>\n",
              "      <th>SocioCateg_CSP1</th>\n",
              "      <td>-0.01587</td>\n",
              "      <td>-0.01800</td>\n",
              "      <td>-0.00833</td>\n",
              "      <td>-0.01263</td>\n",
              "      <td>-0.00205</td>\n",
              "      <td>-0.02394</td>\n",
              "    </tr>\n",
              "    <tr>\n",
              "      <th>SocioCateg_CSP2</th>\n",
              "      <td>-0.02232</td>\n",
              "      <td>-0.02076</td>\n",
              "      <td>-0.02098</td>\n",
              "      <td>-0.02251</td>\n",
              "      <td>-0.00808</td>\n",
              "      <td>-0.02045</td>\n",
              "    </tr>\n",
              "    <tr>\n",
              "      <th>SocioCateg_CSP3</th>\n",
              "      <td>0.01188</td>\n",
              "      <td>0.00777</td>\n",
              "      <td>0.02269</td>\n",
              "      <td>0.01209</td>\n",
              "      <td>0.01591</td>\n",
              "      <td>0.00795</td>\n",
              "    </tr>\n",
              "    <tr>\n",
              "      <th>SocioCateg_CSP4</th>\n",
              "      <td>0.00569</td>\n",
              "      <td>0.01038</td>\n",
              "      <td>0.00394</td>\n",
              "      <td>0.01437</td>\n",
              "      <td>0.00792</td>\n",
              "      <td>0.01607</td>\n",
              "    </tr>\n",
              "    <tr>\n",
              "      <th>SocioCateg_CSP5</th>\n",
              "      <td>-0.01408</td>\n",
              "      <td>-0.00155</td>\n",
              "      <td>-0.00970</td>\n",
              "      <td>0.00000</td>\n",
              "      <td>-0.01402</td>\n",
              "      <td>0.00000</td>\n",
              "    </tr>\n",
              "    <tr>\n",
              "      <th>SocioCateg_CSP6</th>\n",
              "      <td>0.01560</td>\n",
              "      <td>0.03617</td>\n",
              "      <td>0.02873</td>\n",
              "      <td>0.02427</td>\n",
              "      <td>0.00882</td>\n",
              "      <td>0.02586</td>\n",
              "    </tr>\n",
              "    <tr>\n",
              "      <th>SocioCateg_CSP7</th>\n",
              "      <td>-0.00260</td>\n",
              "      <td>-0.00047</td>\n",
              "      <td>-0.00262</td>\n",
              "      <td>-0.03117</td>\n",
              "      <td>0.00010</td>\n",
              "      <td>0.00181</td>\n",
              "    </tr>\n",
              "    <tr>\n",
              "      <th>DrivAgeSq</th>\n",
              "      <td>0.06212</td>\n",
              "      <td>0.05116</td>\n",
              "      <td>0.05085</td>\n",
              "      <td>0.05495</td>\n",
              "      <td>0.01574</td>\n",
              "      <td>-0.00654</td>\n",
              "    </tr>\n",
              "  </tbody>\n",
              "</table>\n",
              "</div>"
            ],
            "text/plain": [
              "                                 overall        0  ...        3        4\n",
              "Intercept                       -2.28685 -2.27834  ... -2.27639 -2.28445\n",
              "LicAge                          -0.06140 -0.07443  ... -0.06387 -0.03073\n",
              "Gender                           0.00726  0.01108  ...  0.01379  0.00449\n",
              "MariStat                        -0.02070 -0.02182  ... -0.03597 -0.02207\n",
              "DrivAge                         -0.05934 -0.04319  ... -0.01621 -0.01822\n",
              "HasKmLimit                      -0.10488 -0.11648  ... -0.10177 -0.09626\n",
              "BonusMalus                       0.07234  0.06479  ...  0.07752  0.09585\n",
              "ClaimNbResp                      0.03620  0.03702  ...  0.03524  0.02059\n",
              "ClaimNbNonResp                   0.08046  0.08275  ...  0.07311  0.08762\n",
              "ClaimNbParking                   0.05083  0.05121  ...  0.05467  0.04252\n",
              "ClaimNbFireTheft                 0.01348  0.01170  ...  0.01335  0.01385\n",
              "ClaimNbWindscreen                0.07845  0.07149  ...  0.07537  0.08267\n",
              "OutUseNb                         0.03495  0.02851  ...  0.02977  0.03309\n",
              "RiskArea                         0.02016  0.02021  ...  0.01205  0.03005\n",
              "VehUsage_Private                -0.05516 -0.06032  ... -0.05520 -0.05939\n",
              "VehUsage_Private+trip to office -0.00152 -0.00885  ... -0.00910 -0.00696\n",
              "VehUsage_Professional            0.07127  0.06952  ...  0.06187  0.06755\n",
              "VehUsage_Professional run        0.03463  0.03900  ...  0.03360  0.02021\n",
              "SocioCateg_CSP1                 -0.01587 -0.01800  ... -0.00205 -0.02394\n",
              "SocioCateg_CSP2                 -0.02232 -0.02076  ... -0.00808 -0.02045\n",
              "SocioCateg_CSP3                  0.01188  0.00777  ...  0.01591  0.00795\n",
              "SocioCateg_CSP4                  0.00569  0.01038  ...  0.00792  0.01607\n",
              "SocioCateg_CSP5                 -0.01408 -0.00155  ... -0.01402  0.00000\n",
              "SocioCateg_CSP6                  0.01560  0.03617  ...  0.00882  0.02586\n",
              "SocioCateg_CSP7                 -0.00260 -0.00047  ...  0.00010  0.00181\n",
              "DrivAgeSq                        0.06212  0.05116  ...  0.01574 -0.00654\n",
              "\n",
              "[26 rows x 6 columns]"
            ]
          },
          "metadata": {
            "tags": []
          },
          "execution_count": 29
        }
      ]
    },
    {
      "cell_type": "code",
      "metadata": {
        "id": "T9I59UXGpYlh",
        "colab_type": "code",
        "outputId": "1b7e6bc1-322e-4851-afb4-d5fea6e123b2",
        "colab": {
          "base_uri": "https://localhost:8080/",
          "height": 68
        }
      },
      "source": [
        "# Построение прогнозных значений для обучающей, валидационной и тестовой выборок\n",
        "\n",
        "ind_train_pred = glm_binomial.predict(h2o_train_ind).as_data_frame()\n",
        "ind_valid_pred = glm_binomial.predict(h2o_valid_ind).as_data_frame()\n",
        "ind_test_pred = glm_binomial.predict(h2o_test_ind).as_data_frame()"
      ],
      "execution_count": 0,
      "outputs": [
        {
          "output_type": "stream",
          "text": [
            "glm prediction progress: |████████████████████████████████████████████████| 100%\n",
            "glm prediction progress: |████████████████████████████████████████████████| 100%\n",
            "glm prediction progress: |████████████████████████████████████████████████| 100%\n"
          ],
          "name": "stdout"
        }
      ]
    },
    {
      "cell_type": "code",
      "metadata": {
        "id": "g00U1gQBp_Wq",
        "colab_type": "code",
        "colab": {}
      },
      "source": [
        "from sklearn.metrics import accuracy_score, f1_score, confusion_matrix"
      ],
      "execution_count": 0,
      "outputs": []
    },
    {
      "cell_type": "code",
      "metadata": {
        "id": "oVwiMaWlqRCz",
        "colab_type": "code",
        "outputId": "8a18b2f4-cf49-4ed8-f6a9-76b52148d513",
        "colab": {
          "base_uri": "https://localhost:8080/",
          "height": 85
        }
      },
      "source": [
        "# Выведем импортированные выше метрики классификации для обучающей, валидационной и тестовой выборок\n",
        "\n",
        "print(accuracy_score(y_train_ind, (ind_train_pred.predict).astype(np.int64)))\n",
        "print(f1_score(y_train_ind, (ind_train_pred.predict).astype(np.int64)))\n",
        "print(confusion_matrix(y_train_ind, (ind_train_pred.predict).astype(np.int64)))"
      ],
      "execution_count": 0,
      "outputs": [
        {
          "output_type": "stream",
          "text": [
            "0.6114653632393807\n",
            "0.190953475756245\n",
            "[[45593 27380]\n",
            " [ 3939  3696]]\n"
          ],
          "name": "stdout"
        }
      ]
    },
    {
      "cell_type": "markdown",
      "metadata": {
        "id": "2TNOSiKDs-U6",
        "colab_type": "text"
      },
      "source": [
        "Какие проблемы вы здесь видите? Как можно улучшить данный результат?"
      ]
    },
    {
      "cell_type": "markdown",
      "metadata": {
        "id": "gyRgjwUn3vJ0",
        "colab_type": "text"
      },
      "source": [
        "Видим, что классы сильно несбалансированы. Поэтому, можно было бы прибегнуть к процедурам бутстрапа, over- и undersamling, использовать стратифицированную выборку и т.д. \n",
        "\n",
        "Однако, встроенные в h2o методы для GLM не позволяют \"из коробки\" сбалансировать датасет (хотя другие методы в h2o их поддерживают). К тому же, есть большое подозрение, что использование нелинейных алгоритмов могло бы помочь улучшить результат.\n",
        "\n",
        "Также, важно понимать важность такого понятия как feature engineering. Так, если рассмотреть экстремальный случай, если бы мы не исключили переменную `ClaimAmount` из нашего рассмотрения, то мы бы получили практически идеальный классификатор, но стоит заметить, что в таком случае мы бы слили (leak) зависимую переменную, а в реальности подобная задача не имела бы смысла.\n",
        "\n",
        "В качестве эксперимента с обобщенными линейными моделями попробуем задать различные веса для наблюдений каждого из классов при обучении. Вряд ли это может дать прирост качества классификатора, но может помочь снизить количество ложноотрицательных срабатываний. Потенциально, это может быть оправдано в задачах, когда ошибка первого рода ведет к значительно большим потерям, чем ошибка второго рода."
      ]
    },
    {
      "cell_type": "code",
      "metadata": {
        "id": "pRPa5wf55ubU",
        "colab_type": "code",
        "colab": {}
      },
      "source": [
        "df['Weight'] = np.where(df.ClaimInd == 1, 2, 1)"
      ],
      "execution_count": 0,
      "outputs": []
    },
    {
      "cell_type": "code",
      "metadata": {
        "id": "YGEysuXGvSU9",
        "colab_type": "code",
        "colab": {}
      },
      "source": [
        "# Разбиение датасета на train/val/test\n",
        "\n",
        "x_train_ind, x_test_ind, y_train_ind, y_test_ind = train_test_split(df.drop(['ClaimInd', 'ClaimAmount'], axis=1), df.ClaimInd, test_size=0.3, random_state=1)\n",
        "x_valid_ind, x_test_ind, y_valid_ind, y_test_ind = train_test_split(x_test_ind, y_test_ind, test_size=0.5, random_state=1)"
      ],
      "execution_count": 0,
      "outputs": []
    },
    {
      "cell_type": "code",
      "metadata": {
        "id": "BnC1PbEAAQQY",
        "colab_type": "code",
        "outputId": "067017bc-c601-4486-861c-8a3e2da4601e",
        "colab": {
          "base_uri": "https://localhost:8080/",
          "height": 68
        }
      },
      "source": [
        "# Преобразование в H2O-Frame\n",
        "\n",
        "h2o_train_ind = h2o.H2OFrame(pd.concat([x_train_ind, y_train_ind], axis=1))\n",
        "h2o_valid_ind = h2o.H2OFrame(pd.concat([x_valid_ind, y_valid_ind], axis=1))\n",
        "h2o_test_ind = h2o.H2OFrame(pd.concat([x_test_ind, y_test_ind], axis=1))"
      ],
      "execution_count": 0,
      "outputs": [
        {
          "output_type": "stream",
          "text": [
            "Parse progress: |█████████████████████████████████████████████████████████| 100%\n",
            "Parse progress: |█████████████████████████████████████████████████████████| 100%\n",
            "Parse progress: |█████████████████████████████████████████████████████████| 100%\n"
          ],
          "name": "stdout"
        }
      ]
    },
    {
      "cell_type": "code",
      "metadata": {
        "id": "DCRypoCUAYlm",
        "colab_type": "code",
        "colab": {}
      },
      "source": [
        "# Преобразуем целевую переменную ClaimInd в категориальную при помощи метода asfactor во всех наборах данных\n",
        "\n",
        "for x in [h2o_train_ind, h2o_valid_ind, h2o_test_ind]:\n",
        "    x['ClaimInd'] = x['ClaimInd'].asfactor()"
      ],
      "execution_count": 0,
      "outputs": []
    },
    {
      "cell_type": "code",
      "metadata": {
        "id": "2nV2286DAb-2",
        "colab_type": "code",
        "outputId": "ae18fd5a-7196-41ec-bf41-9dfe86a5e038",
        "colab": {
          "base_uri": "https://localhost:8080/",
          "height": 34
        }
      },
      "source": [
        "# Инициализируем и обучим GLM модель c кросс-валидацией\n",
        "\n",
        "glm_binomial = H2OGeneralizedLinearEstimator(family = \"binomial\", link = \"Logit\", nfolds=5)\n",
        "glm_binomial.train(y=\"ClaimInd\", x = h2o_train_ind.names[1:-2], training_frame = h2o_train_ind, validation_frame = h2o_valid_ind, weights_column='Weight')"
      ],
      "execution_count": 0,
      "outputs": [
        {
          "output_type": "stream",
          "text": [
            "glm Model Build progress: |███████████████████████████████████████████████| 100%\n"
          ],
          "name": "stdout"
        }
      ]
    },
    {
      "cell_type": "code",
      "metadata": {
        "id": "LPjSdlcDAe4b",
        "colab_type": "code",
        "outputId": "bcf19949-b8fe-4a79-9dff-ed834a5762fd",
        "colab": {
          "base_uri": "https://localhost:8080/",
          "height": 68
        }
      },
      "source": [
        "# Построение прогнозных значений для обучающей, валидационной и тестовой выборок\n",
        "\n",
        "ind_train_pred = glm_binomial.predict(h2o_train_ind).as_data_frame()\n",
        "ind_valid_pred = glm_binomial.predict(h2o_valid_ind).as_data_frame()\n",
        "ind_test_pred = glm_binomial.predict(h2o_test_ind).as_data_frame()"
      ],
      "execution_count": 0,
      "outputs": [
        {
          "output_type": "stream",
          "text": [
            "glm prediction progress: |████████████████████████████████████████████████| 100%\n",
            "glm prediction progress: |████████████████████████████████████████████████| 100%\n",
            "glm prediction progress: |████████████████████████████████████████████████| 100%\n"
          ],
          "name": "stdout"
        }
      ]
    },
    {
      "cell_type": "code",
      "metadata": {
        "id": "aIxCCyEBAlY4",
        "colab_type": "code",
        "outputId": "a408d6b4-b316-4682-f731-b577aad51408",
        "colab": {
          "base_uri": "https://localhost:8080/",
          "height": 85
        }
      },
      "source": [
        "# Выведем импортированные выше метрики классификации для обучающей, валидационной и тестовой выборок\n",
        "\n",
        "print(accuracy_score(y_train_ind, (ind_train_pred.predict).astype(np.int64)))\n",
        "print(f1_score(y_train_ind, (ind_train_pred.predict).astype(np.int64)))\n",
        "print(confusion_matrix(y_train_ind, (ind_train_pred.predict).astype(np.int64)))"
      ],
      "execution_count": 0,
      "outputs": [
        {
          "output_type": "stream",
          "text": [
            "0.39553146089718144\n",
            "0.19003607227754046\n",
            "[[26167 46806]\n",
            " [ 1919  5716]]\n"
          ],
          "name": "stdout"
        }
      ]
    },
    {
      "cell_type": "markdown",
      "metadata": {
        "id": "lRoWfxjNuct0",
        "colab_type": "text"
      },
      "source": [
        "Видим, что теперь большая часть наблюдений классифицируется как 1, при более низком показателе accuracy score и почти неизменной f-мерой.\n",
        "\n",
        "Отметим, что природа прогнозируемого процесса (наступление страхового случая) имеет стохастический характер. И, в отличие от других показателей (как, например, размер убытка или частота), с высокой точностью не представляется возможным предсказание самого факта свершения страхового случая (иначе и не было бы смысла в страховании в принципе)."
      ]
    },
    {
      "cell_type": "code",
      "metadata": {
        "id": "u9hmliYNA6ZU",
        "colab_type": "code",
        "colab": {}
      },
      "source": [
        ""
      ],
      "execution_count": 0,
      "outputs": []
    }
  ]
}