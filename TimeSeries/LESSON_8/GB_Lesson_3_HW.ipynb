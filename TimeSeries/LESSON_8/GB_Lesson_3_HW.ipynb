{
  "nbformat": 4,
  "nbformat_minor": 0,
  "metadata": {
    "colab": {
      "name": "GB Lesson 3 HW.ipynb",
      "provenance": [],
      "collapsed_sections": []
    },
    "kernelspec": {
      "name": "python3",
      "display_name": "Python 3"
    }
  },
  "cells": [
    {
      "cell_type": "code",
      "metadata": {
        "id": "eu9I-5AQFGy4",
        "colab_type": "code",
        "outputId": "b6b026a4-f97b-4898-ec69-74d910ca1348",
        "colab": {
          "base_uri": "https://localhost:8080/",
          "height": 34
        }
      },
      "source": [
        "# Подключение к Google drive\n",
        "\n",
        "from google.colab import drive\n",
        "drive.mount('/content/drive')"
      ],
      "execution_count": 0,
      "outputs": [
        {
          "output_type": "stream",
          "text": [
            "Drive already mounted at /content/drive; to attempt to forcibly remount, call drive.mount(\"/content/drive\", force_remount=True).\n"
          ],
          "name": "stdout"
        }
      ]
    },
    {
      "cell_type": "markdown",
      "metadata": {
        "colab_type": "text",
        "id": "Xljx8j0-_jXR"
      },
      "source": [
        "### * Домашнее задание: Многоклассовая классификация"
      ]
    },
    {
      "cell_type": "markdown",
      "metadata": {
        "id": "bVx_WNaKwibO",
        "colab_type": "text"
      },
      "source": [
        "В текущем домашнем задание предлагается построить модель многоклассовой классификации для показателя `RiskVar`. Воспользуемся другими частями датасета freMPL (1 и 2)."
      ]
    },
    {
      "cell_type": "code",
      "metadata": {
        "id": "n98J3UNxSLUd",
        "colab_type": "code",
        "colab": {}
      },
      "source": [
        "import pandas as pd\n",
        "import numpy as np\n",
        "import xgboost as xgb\n",
        "import matplotlib.pyplot as plt\n",
        "from sklearn.model_selection import train_test_split\n",
        "from sklearn.metrics import f1_score, accuracy_score, confusion_matrix\n",
        "from hyperopt import hp, tpe, space_eval\n",
        "from hyperopt.fmin import fmin\n",
        "\n",
        "def SeriesFactorizer(series):\n",
        "    series, unique = pd.factorize(series)\n",
        "    reference = {x: i for x, i in enumerate(unique)}\n",
        "    print(reference)\n",
        "    return series, reference"
      ],
      "execution_count": 0,
      "outputs": []
    },
    {
      "cell_type": "code",
      "metadata": {
        "id": "cdgTw4I-7GdC",
        "colab_type": "code",
        "colab": {}
      },
      "source": [
        "df = pd.read_csv('/content/drive/My Drive/Colab Notebooks/freMPL-R.csv', low_memory=False)"
      ],
      "execution_count": 0,
      "outputs": []
    },
    {
      "cell_type": "code",
      "metadata": {
        "id": "v__1kPsuSrVd",
        "colab_type": "code",
        "colab": {}
      },
      "source": [
        "df = df.loc[df.Dataset.isin([1, 2])]\n",
        "df.drop('Dataset', axis=1, inplace=True)\n",
        "df.dropna(axis=1, how='all', inplace=True)\n",
        "df.drop_duplicates(inplace=True)\n",
        "df.reset_index(drop=True, inplace=True)"
      ],
      "execution_count": 0,
      "outputs": []
    },
    {
      "cell_type": "code",
      "metadata": {
        "id": "WdtY7qDp8veM",
        "colab_type": "code",
        "outputId": "45b90e1b-910b-4f13-ea33-62d491e4dd44",
        "colab": {
          "base_uri": "https://localhost:8080/",
          "height": 88
        }
      },
      "source": [
        "df.Gender, GenderRef = SeriesFactorizer(df.Gender)\n",
        "df.MariStat, MariStatRef = SeriesFactorizer(df.MariStat)\n",
        "df['SocioCateg'] = df.SocioCateg.str.slice(0,4)\n",
        "df.VehMaxSpeed, unique = pd.factorize(df.VehMaxSpeed, sort=True)\n",
        "print({x: i for x, i in enumerate(unique)})\n",
        "df.VehAge.replace({'0': 0, '1': 1, '2': 2, '3': 3, '4': 4, '5': 5, '6-7': 6, '8-9': 8, '10+': 10}, inplace=True)\n",
        "df = pd.get_dummies(df, columns=['VehUsage','SocioCateg', 'VehBody', 'VehPrice', 'VehEngine', 'VehEnergy', 'VehClass', 'Garage'])\n",
        "df = df.select_dtypes(exclude=['object'])"
      ],
      "execution_count": 0,
      "outputs": [
        {
          "output_type": "stream",
          "text": [
            "{0: 'Female', 1: 'Male'}\n",
            "{0: 'Other', 1: 'Alone'}\n",
            "{0: '1-130 km/h', 1: '130-140 km/h', 2: '140-150 km/h', 3: '150-160 km/h', 4: '160-170 km/h', 5: '170-180 km/h', 6: '180-190 km/h', 7: '190-200 km/h', 8: '200-220 km/h', 9: '220+ km/h'}\n"
          ],
          "name": "stdout"
        }
      ]
    },
    {
      "cell_type": "code",
      "metadata": {
        "id": "S4g1U0-rdIZq",
        "colab_type": "code",
        "colab": {}
      },
      "source": [
        "# df.info()"
      ],
      "execution_count": 0,
      "outputs": []
    },
    {
      "cell_type": "markdown",
      "metadata": {
        "id": "2m1bibe9nMKp",
        "colab_type": "text"
      },
      "source": [
        "XGBoost для многоклассовой классификации принимает на вход значения меток классов в виде `[0, num_classes]`. Поэтому, вычтем из значений переменной `RiskVar` единицу."
      ]
    },
    {
      "cell_type": "code",
      "metadata": {
        "id": "6VLMcICSn3B7",
        "colab_type": "code",
        "colab": {}
      },
      "source": [
        "df['RiskVar'] = df.RiskVar - 1"
      ],
      "execution_count": 0,
      "outputs": []
    },
    {
      "cell_type": "markdown",
      "metadata": {
        "id": "Nqre5rvZxL-N",
        "colab_type": "text"
      },
      "source": [
        "Данная переменная принимает значения от 1 до 20, которые, возможно, упорядочены. Посмотрим, сколько полисов соответствуют каждому из значений `RiskVar`, используя метод `groupby`. Для полученных значений также посчитаем нормированную частоту."
      ]
    },
    {
      "cell_type": "code",
      "metadata": {
        "id": "nHgg3kZJu8tX",
        "colab_type": "code",
        "colab": {}
      },
      "source": [
        "FreqCount = pd.DataFrame(df.groupby('RiskVar').size(), columns=['Count'])\n",
        "FreqCount['Freq'] = FreqCount.Count / len(df)"
      ],
      "execution_count": 0,
      "outputs": []
    },
    {
      "cell_type": "code",
      "metadata": {
        "id": "UifKccwQYWiT",
        "colab_type": "code",
        "outputId": "c0a2e3b8-17e8-4e34-c915-8b2984ff0981",
        "colab": {
          "base_uri": "https://localhost:8080/",
          "height": 292
        }
      },
      "source": [
        "FreqCount.Freq.plot(kind='bar')\n",
        "plt.ylabel('Frequency')\n",
        "plt.show()"
      ],
      "execution_count": 0,
      "outputs": [
        {
          "output_type": "display_data",
          "data": {
            "image/png": "[encoded data removed]",
            "text/plain": [
              "<Figure size 432x288 with 1 Axes>"
            ]
          },
          "metadata": {
            "tags": []
          }
        }
      ]
    },
    {
      "cell_type": "code",
      "metadata": {
        "id": "UvNUERUiKghD",
        "colab_type": "code",
        "outputId": "fd7bc3ea-c35c-46a0-c46d-6bcbcbfd8b5d",
        "colab": {
          "base_uri": "https://localhost:8080/",
          "height": 700
        }
      },
      "source": [
        "FreqCount"
      ],
      "execution_count": 0,
      "outputs": [
        {
          "output_type": "execute_result",
          "data": {
            "text/html": [
              "<div>\n",
              "<style scoped>\n",
              "    .dataframe tbody tr th:only-of-type {\n",
              "        vertical-align: middle;\n",
              "    }\n",
              "\n",
              "    .dataframe tbody tr th {\n",
              "        vertical-align: top;\n",
              "    }\n",
              "\n",
              "    .dataframe thead th {\n",
              "        text-align: right;\n",
              "    }\n",
              "</style>\n",
              "<table border=\"1\" class=\"dataframe\">\n",
              "  <thead>\n",
              "    <tr style=\"text-align: right;\">\n",
              "      <th></th>\n",
              "      <th>Count</th>\n",
              "      <th>Freq</th>\n",
              "    </tr>\n",
              "    <tr>\n",
              "      <th>RiskVar</th>\n",
              "      <th></th>\n",
              "      <th></th>\n",
              "    </tr>\n",
              "  </thead>\n",
              "  <tbody>\n",
              "    <tr>\n",
              "      <th>0.0</th>\n",
              "      <td>531</td>\n",
              "      <td>0.013036</td>\n",
              "    </tr>\n",
              "    <tr>\n",
              "      <th>1.0</th>\n",
              "      <td>451</td>\n",
              "      <td>0.011072</td>\n",
              "    </tr>\n",
              "    <tr>\n",
              "      <th>2.0</th>\n",
              "      <td>660</td>\n",
              "      <td>0.016203</td>\n",
              "    </tr>\n",
              "    <tr>\n",
              "      <th>3.0</th>\n",
              "      <td>603</td>\n",
              "      <td>0.014804</td>\n",
              "    </tr>\n",
              "    <tr>\n",
              "      <th>4.0</th>\n",
              "      <td>979</td>\n",
              "      <td>0.024035</td>\n",
              "    </tr>\n",
              "    <tr>\n",
              "      <th>5.0</th>\n",
              "      <td>902</td>\n",
              "      <td>0.022145</td>\n",
              "    </tr>\n",
              "    <tr>\n",
              "      <th>6.0</th>\n",
              "      <td>1634</td>\n",
              "      <td>0.040116</td>\n",
              "    </tr>\n",
              "    <tr>\n",
              "      <th>7.0</th>\n",
              "      <td>1439</td>\n",
              "      <td>0.035328</td>\n",
              "    </tr>\n",
              "    <tr>\n",
              "      <th>8.0</th>\n",
              "      <td>1170</td>\n",
              "      <td>0.028724</td>\n",
              "    </tr>\n",
              "    <tr>\n",
              "      <th>9.0</th>\n",
              "      <td>1314</td>\n",
              "      <td>0.032260</td>\n",
              "    </tr>\n",
              "    <tr>\n",
              "      <th>10.0</th>\n",
              "      <td>2533</td>\n",
              "      <td>0.062187</td>\n",
              "    </tr>\n",
              "    <tr>\n",
              "      <th>11.0</th>\n",
              "      <td>2445</td>\n",
              "      <td>0.060027</td>\n",
              "    </tr>\n",
              "    <tr>\n",
              "      <th>12.0</th>\n",
              "      <td>2719</td>\n",
              "      <td>0.066753</td>\n",
              "    </tr>\n",
              "    <tr>\n",
              "      <th>13.0</th>\n",
              "      <td>2096</td>\n",
              "      <td>0.051458</td>\n",
              "    </tr>\n",
              "    <tr>\n",
              "      <th>14.0</th>\n",
              "      <td>4625</td>\n",
              "      <td>0.113547</td>\n",
              "    </tr>\n",
              "    <tr>\n",
              "      <th>15.0</th>\n",
              "      <td>4906</td>\n",
              "      <td>0.120446</td>\n",
              "    </tr>\n",
              "    <tr>\n",
              "      <th>16.0</th>\n",
              "      <td>3444</td>\n",
              "      <td>0.084553</td>\n",
              "    </tr>\n",
              "    <tr>\n",
              "      <th>17.0</th>\n",
              "      <td>2614</td>\n",
              "      <td>0.064176</td>\n",
              "    </tr>\n",
              "    <tr>\n",
              "      <th>18.0</th>\n",
              "      <td>2773</td>\n",
              "      <td>0.068079</td>\n",
              "    </tr>\n",
              "    <tr>\n",
              "      <th>19.0</th>\n",
              "      <td>2894</td>\n",
              "      <td>0.071050</td>\n",
              "    </tr>\n",
              "  </tbody>\n",
              "</table>\n",
              "</div>"
            ],
            "text/plain": [
              "         Count      Freq\n",
              "RiskVar                 \n",
              "0.0        531  0.013036\n",
              "1.0        451  0.011072\n",
              "2.0        660  0.016203\n",
              "3.0        603  0.014804\n",
              "4.0        979  0.024035\n",
              "5.0        902  0.022145\n",
              "6.0       1634  0.040116\n",
              "7.0       1439  0.035328\n",
              "8.0       1170  0.028724\n",
              "9.0       1314  0.032260\n",
              "10.0      2533  0.062187\n",
              "11.0      2445  0.060027\n",
              "12.0      2719  0.066753\n",
              "13.0      2096  0.051458\n",
              "14.0      4625  0.113547\n",
              "15.0      4906  0.120446\n",
              "16.0      3444  0.084553\n",
              "17.0      2614  0.064176\n",
              "18.0      2773  0.068079\n",
              "19.0      2894  0.071050"
            ]
          },
          "metadata": {
            "tags": []
          },
          "execution_count": 23
        }
      ]
    },
    {
      "cell_type": "markdown",
      "metadata": {
        "id": "BzM1998TZDPm",
        "colab_type": "text"
      },
      "source": [
        "Заметим, что в данном случае присутствует проблема несбалансированности классов. Поэтому, для того, чтобы по возможности избежать ее, воспользуемся взвешиванием наблюдений для обучения модели. Для этого в исходном наборе данных создадим столбец `weight`. Присвоим ему значения `0.5` для значений `RiskVar` 14 и 15, а для остальных - 1. Можем использовать функцию `np.where` и метод `isin` для `pandas.Series`."
      ]
    },
    {
      "cell_type": "code",
      "metadata": {
        "id": "dnL5LOi0i2oq",
        "colab_type": "code",
        "colab": {}
      },
      "source": [
        "df['weight'] = np.where(df.RiskVar.isin([14,15]), 0.5, 1)"
      ],
      "execution_count": 0,
      "outputs": []
    },
    {
      "cell_type": "markdown",
      "metadata": {
        "id": "sAlGTL0hBpNv",
        "colab_type": "text"
      },
      "source": [
        "Разобьем имеющийся набор данных на обучающую, валидационную и тестовую выборки в отношениях 70%/15%/15% соответственно. Зададим зерно для случайного разбиения равным 10."
      ]
    },
    {
      "cell_type": "code",
      "metadata": {
        "id": "0u45ocam8HCn",
        "colab_type": "code",
        "colab": {}
      },
      "source": [
        "x_train, x_test, y_train, y_test = train_test_split(df.drop(['RiskVar'], axis=1), df.RiskVar, test_size=0.3, random_state=10)\n",
        "x_valid, x_test, y_valid, y_test = train_test_split(x_test, y_test, test_size=0.5, random_state=10)"
      ],
      "execution_count": 0,
      "outputs": []
    },
    {
      "cell_type": "markdown",
      "metadata": {
        "id": "CAOGSAO-LgMh",
        "colab_type": "text"
      },
      "source": [
        "Далее, создадим объекты `DMatrix` для обучающей, валидационной и тестовой выборок. Для обучающей выборки также укажем параметр `weight` равным полученному ранее столбцу весов. Данный столбец также нужно исключить из объекта передаваемого в параметр `data`."
      ]
    },
    {
      "cell_type": "code",
      "metadata": {
        "id": "_67FrNffDNu-",
        "colab_type": "code",
        "outputId": "4425cfc4-7d70-4532-a338-959cedd05d7c",
        "colab": {
          "base_uri": "https://localhost:8080/",
          "height": 85
        }
      },
      "source": [
        "xgb_train = xgb.DMatrix(x_train.drop('weight', axis=1), y_train, weight=x_train.weight)\n",
        "xgb_valid = xgb.DMatrix(x_valid.drop('weight', axis=1), y_valid)\n",
        "xgb_test = xgb.DMatrix(x_test.drop('weight', axis=1), y_test)"
      ],
      "execution_count": 0,
      "outputs": [
        {
          "output_type": "stream",
          "text": [
            "/usr/local/lib/python3.6/dist-packages/xgboost/core.py:587: FutureWarning: Series.base is deprecated and will be removed in a future version\n",
            "  if getattr(data, 'base', None) is not None and \\\n",
            "/usr/local/lib/python3.6/dist-packages/xgboost/core.py:588: FutureWarning: Series.base is deprecated and will be removed in a future version\n",
            "  data.base is not None and isinstance(data, np.ndarray) \\\n"
          ],
          "name": "stderr"
        }
      ]
    },
    {
      "cell_type": "markdown",
      "metadata": {
        "id": "N__wZRJLaMfs",
        "colab_type": "text"
      },
      "source": [
        "Для оптимизации гиперпараметров можно воспользоваться различными методами. Однако, в случае Hyperopt, на процесс подбора гиперпараметров может уйти немалое количество часов."
      ]
    },
    {
      "cell_type": "code",
      "metadata": {
        "id": "-CaHsl3sDPdx",
        "colab_type": "code",
        "colab": {}
      },
      "source": [
        "def objective(params):\n",
        "    parameters = {\n",
        "        'objective': 'multi:softmax',\n",
        "        'max_depth':  int(params['max_depth']),\n",
        "        'min_child_weight': params['min_child_weight'],\n",
        "        'subsample': params['subsample'],\n",
        "        'colsample_bytree': params['colsample_bytree'],\n",
        "        'eta': params['eta'],\n",
        "        'alpha': params['alpha'],\n",
        "        'lambda': params['lambda'],\n",
        "        'num_class': len(df.RiskVar.unique())\n",
        "    }\n",
        "    \n",
        "    cv_result = xgb.cv(parameters, xgb_train, num_boost_round=int(params['num_boost_round']), nfold=5, seed=0, maximize=False, early_stopping_rounds=10)\n",
        "    score = cv_result['test-merror-mean'][-1:].values[0] # multiclass error rate\n",
        "    return score"
      ],
      "execution_count": 0,
      "outputs": []
    },
    {
      "cell_type": "code",
      "metadata": {
        "id": "0BCHQVdzjQaI",
        "colab_type": "code",
        "colab": {}
      },
      "source": [
        "space = {'num_boost_round': hp.quniform('num_boost_round', 50, 500, 1),\n",
        "         'max_depth': hp.choice('max_depth', [5, 8, 10, 12, 15]),\n",
        "         'min_child_weight': hp.uniform('min_child_weight', 0, 50),\n",
        "         'subsample': hp.uniform('subsample', 0.5, 1),\n",
        "         'colsample_bytree': hp.uniform('colsample_bytree', 0.5, 1),\n",
        "         'alpha': hp.uniform('alpha', 0, 1),\n",
        "         'lambda': hp.uniform('lambda', 0, 1),\n",
        "         'eta': hp.uniform('eta', 0.01, 1)\n",
        "        }"
      ],
      "execution_count": 0,
      "outputs": []
    },
    {
      "cell_type": "code",
      "metadata": {
        "id": "1fep9G99FRW2",
        "colab_type": "code",
        "colab": {}
      },
      "source": [
        "best = fmin(fn=objective, space=space, algo=tpe.suggest, max_evals=5)"
      ],
      "execution_count": 0,
      "outputs": []
    },
    {
      "cell_type": "code",
      "metadata": {
        "id": "2I7t1h2shNUG",
        "colab_type": "code",
        "outputId": "e111ddff-7c2f-4221-b3be-b8f66888ee81",
        "colab": {
          "base_uri": "https://localhost:8080/",
          "height": 187
        }
      },
      "source": [
        "best_params = space_eval(space, best)\n",
        "best_params['objective'] = 'multi:softmax'\n",
        "best_params['num_class'] = len(df.RiskVar.unique())\n",
        "best_params"
      ],
      "execution_count": 0,
      "outputs": [
        {
          "output_type": "execute_result",
          "data": {
            "text/plain": [
              "{'alpha': 0.7806818259909052,\n",
              " 'colsample_bytree': 0.7481970629505451,\n",
              " 'eta': 0.6043342143240166,\n",
              " 'lambda': 0.30530560829286646,\n",
              " 'max_depth': 12,\n",
              " 'min_child_weight': 2.407420043454822,\n",
              " 'num_boost_round': 152.0,\n",
              " 'num_class': 20,\n",
              " 'objective': 'multi:softmax',\n",
              " 'subsample': 0.9502323599399922}"
            ]
          },
          "metadata": {
            "tags": []
          },
          "execution_count": 216
        }
      ]
    },
    {
      "cell_type": "code",
      "metadata": {
        "id": "Pi4ow-K_Wq1m",
        "colab_type": "code",
        "colab": {}
      },
      "source": [
        "best_params  = {'alpha': 0.7806818259909052,\n",
        "                'colsample_bytree': 0.7481970629505451,\n",
        "                'eta': 0.6043342143240166,\n",
        "                'lambda': 0.30530560829286646,\n",
        "                'max_depth': 12,\n",
        "                'min_child_weight': 2.407420043454822,\n",
        "                'num_boost_round': 152.0,\n",
        "                'num_class': 20,\n",
        "                'objective': 'multi:softmax',\n",
        "                'subsample': 0.9502323599399922}"
      ],
      "execution_count": 0,
      "outputs": []
    },
    {
      "cell_type": "code",
      "metadata": {
        "id": "I-m6Ihq6hNJF",
        "colab_type": "code",
        "outputId": "d71b5259-1834-4436-b731-0bb4e7455891",
        "colab": {
          "base_uri": "https://localhost:8080/",
          "height": 1000
        }
      },
      "source": [
        "xgb_multiclass = xgb.train(num_boost_round=int(best_params.pop('num_boost_round')), params=best_params, dtrain=xgb_train,\n",
        "                           maximize=False, evals=[(xgb_train, \"train\"),(xgb_valid, \"valid\")], early_stopping_rounds=20)"
      ],
      "execution_count": 0,
      "outputs": [
        {
          "output_type": "stream",
          "text": [
            "[0]\ttrain-merror:0.759958\tvalid-merror:0.871031\n",
            "Multiple eval metrics have been passed: 'valid-merror' will be used for early stopping.\n",
            "\n",
            "Will train until valid-merror hasn't improved in 20 rounds.\n",
            "[1]\ttrain-merror:0.657273\tvalid-merror:0.836498\n",
            "[2]\ttrain-merror:0.603767\tvalid-merror:0.820458\n",
            "[3]\ttrain-merror:0.540616\tvalid-merror:0.80802\n",
            "[4]\ttrain-merror:0.491416\tvalid-merror:0.801964\n",
            "[5]\ttrain-merror:0.443626\tvalid-merror:0.789853\n",
            "[6]\ttrain-merror:0.400679\tvalid-merror:0.781015\n",
            "[7]\ttrain-merror:0.36825\tvalid-merror:0.776923\n",
            "[8]\ttrain-merror:0.330621\tvalid-merror:0.770049\n",
            "[9]\ttrain-merror:0.308075\tvalid-merror:0.76383\n",
            "[10]\ttrain-merror:0.280787\tvalid-merror:0.756137\n",
            "[11]\ttrain-merror:0.256753\tvalid-merror:0.752373\n",
            "[12]\ttrain-merror:0.233374\tvalid-merror:0.749591\n",
            "[13]\ttrain-merror:0.214023\tvalid-merror:0.745499\n",
            "[14]\ttrain-merror:0.190069\tvalid-merror:0.741244\n",
            "[15]\ttrain-merror:0.173061\tvalid-merror:0.739444\n",
            "[16]\ttrain-merror:0.155854\tvalid-merror:0.738789\n",
            "[17]\ttrain-merror:0.14083\tvalid-merror:0.734697\n",
            "[18]\ttrain-merror:0.128108\tvalid-merror:0.733715\n",
            "[19]\ttrain-merror:0.113859\tvalid-merror:0.734043\n",
            "[20]\ttrain-merror:0.102407\tvalid-merror:0.731915\n",
            "[21]\ttrain-merror:0.091651\tvalid-merror:0.72766\n",
            "[22]\ttrain-merror:0.083216\tvalid-merror:0.723895\n",
            "[23]\ttrain-merror:0.076051\tvalid-merror:0.718167\n",
            "[24]\ttrain-merror:0.066525\tvalid-merror:0.714894\n",
            "[25]\ttrain-merror:0.0594\tvalid-merror:0.712766\n",
            "[26]\ttrain-merror:0.053466\tvalid-merror:0.712602\n",
            "[27]\ttrain-merror:0.04654\tvalid-merror:0.710311\n",
            "[28]\ttrain-merror:0.041479\tvalid-merror:0.706383\n",
            "[29]\ttrain-merror:0.036716\tvalid-merror:0.704255\n",
            "[30]\ttrain-merror:0.033401\tvalid-merror:0.702782\n",
            "[31]\ttrain-merror:0.029611\tvalid-merror:0.697218\n",
            "[32]\ttrain-merror:0.026416\tvalid-merror:0.694926\n",
            "[33]\ttrain-merror:0.023478\tvalid-merror:0.694763\n",
            "[34]\ttrain-merror:0.020739\tvalid-merror:0.690344\n",
            "[35]\ttrain-merror:0.018834\tvalid-merror:0.686088\n",
            "[36]\ttrain-merror:0.016731\tvalid-merror:0.68347\n",
            "[37]\ttrain-merror:0.015381\tvalid-merror:0.682979\n",
            "[38]\ttrain-merror:0.013436\tvalid-merror:0.683797\n",
            "[39]\ttrain-merror:0.012027\tvalid-merror:0.681015\n",
            "[40]\ttrain-merror:0.010975\tvalid-merror:0.680196\n",
            "[41]\ttrain-merror:0.009923\tvalid-merror:0.680196\n",
            "[42]\ttrain-merror:0.009328\tvalid-merror:0.678723\n",
            "[43]\ttrain-merror:0.008058\tvalid-merror:0.675123\n",
            "[44]\ttrain-merror:0.007224\tvalid-merror:0.672668\n",
            "[45]\ttrain-merror:0.006133\tvalid-merror:0.673159\n",
            "[46]\ttrain-merror:0.005636\tvalid-merror:0.674959\n",
            "[47]\ttrain-merror:0.005001\tvalid-merror:0.674959\n",
            "[48]\ttrain-merror:0.004743\tvalid-merror:0.672995\n",
            "[49]\ttrain-merror:0.004128\tvalid-merror:0.672504\n",
            "[50]\ttrain-merror:0.003731\tvalid-merror:0.671358\n",
            "[51]\ttrain-merror:0.003374\tvalid-merror:0.670867\n",
            "[52]\ttrain-merror:0.002997\tvalid-merror:0.671358\n",
            "[53]\ttrain-merror:0.002997\tvalid-merror:0.673977\n",
            "[54]\ttrain-merror:0.002679\tvalid-merror:0.671686\n",
            "[55]\ttrain-merror:0.002223\tvalid-merror:0.671686\n",
            "[56]\ttrain-merror:0.001885\tvalid-merror:0.669558\n",
            "[57]\ttrain-merror:0.001727\tvalid-merror:0.666776\n",
            "[58]\ttrain-merror:0.001469\tvalid-merror:0.666448\n",
            "[59]\ttrain-merror:0.00129\tvalid-merror:0.664321\n",
            "[60]\ttrain-merror:0.00127\tvalid-merror:0.665957\n",
            "[61]\ttrain-merror:0.001151\tvalid-merror:0.664975\n",
            "[62]\ttrain-merror:0.000933\tvalid-merror:0.66743\n",
            "[63]\ttrain-merror:0.000834\tvalid-merror:0.666121\n",
            "[64]\ttrain-merror:0.000734\tvalid-merror:0.665303\n",
            "[65]\ttrain-merror:0.000714\tvalid-merror:0.664975\n",
            "[66]\ttrain-merror:0.000675\tvalid-merror:0.663175\n",
            "[67]\ttrain-merror:0.000536\tvalid-merror:0.663666\n",
            "[68]\ttrain-merror:0.000496\tvalid-merror:0.662684\n",
            "[69]\ttrain-merror:0.000496\tvalid-merror:0.663502\n",
            "[70]\ttrain-merror:0.000437\tvalid-merror:0.662848\n",
            "[71]\ttrain-merror:0.000318\tvalid-merror:0.661047\n",
            "[72]\ttrain-merror:0.000278\tvalid-merror:0.660065\n",
            "[73]\ttrain-merror:0.000238\tvalid-merror:0.660229\n",
            "[74]\ttrain-merror:0.000258\tvalid-merror:0.65892\n",
            "[75]\ttrain-merror:0.000238\tvalid-merror:0.657283\n",
            "[76]\ttrain-merror:0.000238\tvalid-merror:0.657447\n",
            "[77]\ttrain-merror:0.000198\tvalid-merror:0.657283\n",
            "[78]\ttrain-merror:0.000179\tvalid-merror:0.65581\n",
            "[79]\ttrain-merror:0.000179\tvalid-merror:0.655319\n",
            "[80]\ttrain-merror:0.000198\tvalid-merror:0.657283\n",
            "[81]\ttrain-merror:0.000139\tvalid-merror:0.656628\n",
            "[82]\ttrain-merror:0.000119\tvalid-merror:0.656465\n",
            "[83]\ttrain-merror:0.000119\tvalid-merror:0.656301\n",
            "[84]\ttrain-merror:0.000119\tvalid-merror:0.654337\n",
            "[85]\ttrain-merror:0.000119\tvalid-merror:0.655155\n",
            "[86]\ttrain-merror:9.9e-05\tvalid-merror:0.655155\n",
            "[87]\ttrain-merror:7.9e-05\tvalid-merror:0.653846\n",
            "[88]\ttrain-merror:6e-05\tvalid-merror:0.654337\n",
            "[89]\ttrain-merror:7.9e-05\tvalid-merror:0.652537\n",
            "[90]\ttrain-merror:9.9e-05\tvalid-merror:0.65221\n",
            "[91]\ttrain-merror:7.9e-05\tvalid-merror:0.652537\n",
            "[92]\ttrain-merror:6e-05\tvalid-merror:0.652864\n",
            "[93]\ttrain-merror:6e-05\tvalid-merror:0.654828\n",
            "[94]\ttrain-merror:6e-05\tvalid-merror:0.655483\n",
            "[95]\ttrain-merror:6e-05\tvalid-merror:0.655155\n",
            "[96]\ttrain-merror:6e-05\tvalid-merror:0.65401\n",
            "[97]\ttrain-merror:4e-05\tvalid-merror:0.654337\n",
            "[98]\ttrain-merror:4e-05\tvalid-merror:0.65401\n",
            "[99]\ttrain-merror:4e-05\tvalid-merror:0.65401\n",
            "[100]\ttrain-merror:4e-05\tvalid-merror:0.654664\n",
            "[101]\ttrain-merror:4e-05\tvalid-merror:0.654501\n",
            "[102]\ttrain-merror:4e-05\tvalid-merror:0.65401\n",
            "[103]\ttrain-merror:4e-05\tvalid-merror:0.653192\n",
            "[104]\ttrain-merror:4e-05\tvalid-merror:0.654828\n",
            "[105]\ttrain-merror:4e-05\tvalid-merror:0.653192\n",
            "[106]\ttrain-merror:4e-05\tvalid-merror:0.653028\n",
            "[107]\ttrain-merror:4e-05\tvalid-merror:0.653682\n",
            "[108]\ttrain-merror:4e-05\tvalid-merror:0.653355\n",
            "[109]\ttrain-merror:4e-05\tvalid-merror:0.653682\n",
            "[110]\ttrain-merror:4e-05\tvalid-merror:0.654501\n",
            "Stopping. Best iteration:\n",
            "[90]\ttrain-merror:9.9e-05\tvalid-merror:0.65221\n",
            "\n"
          ],
          "name": "stdout"
        }
      ]
    },
    {
      "cell_type": "code",
      "metadata": {
        "id": "6gXq0Ebkxh4R",
        "colab_type": "code",
        "outputId": "3fd6b322-60a3-4bd1-88f0-f47e950bab72",
        "colab": {
          "base_uri": "https://localhost:8080/",
          "height": 68
        }
      },
      "source": [
        "dfsets = [{'set': 'train', 'dmat': xgb_train, 'target': y_train}, {'set': 'valid', 'dmat': xgb_valid, 'target': y_valid}, {'set': 'test', 'dmat': xgb_test, 'target': y_test}]\n",
        "for dfset in dfsets:\n",
        "    class_preds = xgb_multiclass.predict(dfset['dmat'])\n",
        "    print('F1 Score on ' + str(dfset['set'])+':', f1_score(dfset['target'], class_preds, average='micro'))"
      ],
      "execution_count": 0,
      "outputs": [
        {
          "output_type": "stream",
          "text": [
            "F1 Score on train: 0.9999649270482603\n",
            "F1 Score on valid: 0.3454991816693944\n",
            "F1 Score on test: 0.3432078559738134\n"
          ],
          "name": "stdout"
        }
      ]
    },
    {
      "cell_type": "code",
      "metadata": {
        "id": "36_p091I8Www",
        "colab_type": "code",
        "outputId": "b2241fe3-fdd8-4cc0-d760-b2739009f8c7",
        "colab": {
          "base_uri": "https://localhost:8080/",
          "height": 226
        }
      },
      "source": [
        "plt.subplots(1,3, figsize=(15,3))\n",
        "for i in range(len(dfsets)):\n",
        "    confmatrix = confusion_matrix(dfsets[i]['target'], xgb_multiclass.predict(dfsets[i]['dmat']))\n",
        "    plt.subplot(1,3,i+1); plt.imshow(confmatrix, cmap='Greys'); plt.colorbar(); plt.ylabel('True'); plt.xlabel('Predicted')\n",
        "plt.show()"
      ],
      "execution_count": 0,
      "outputs": [
        {
          "output_type": "display_data",
          "data": {
            "image/png": "[encoded data removed]",
            "text/plain": [
              "<Figure size 1080x216 with 6 Axes>"
            ]
          },
          "metadata": {
            "tags": []
          }
        }
      ]
    },
    {
      "cell_type": "markdown",
      "metadata": {
        "id": "Q8EYNg-vQYRt",
        "colab_type": "text"
      },
      "source": [
        "Качество, плохое, проблема дисбаланса классов никуда не ушла, а обучающую выборку мы и вовсе запомнили. А на валидации и тесте имеем F-меру 0.34. Явное переобучение. С другой стороны, у нас имеется какой-никакой бейслайн."
      ]
    },
    {
      "cell_type": "code",
      "metadata": {
        "id": "Z49uyvvETCGg",
        "colab_type": "code",
        "colab": {}
      },
      "source": [
        "df.drop('weight', axis=1, inplace=True)"
      ],
      "execution_count": 0,
      "outputs": []
    },
    {
      "cell_type": "markdown",
      "metadata": {
        "id": "ZDKeOuCcUmr8",
        "colab_type": "text"
      },
      "source": [
        "Создадим укрупненные классы:"
      ]
    },
    {
      "cell_type": "code",
      "metadata": {
        "id": "EnOUKWLATIsG",
        "colab_type": "code",
        "colab": {}
      },
      "source": [
        "df['AggClass'] = np.where(df.RiskVar < 10, 0, np.nan)\n",
        "df['AggClass'] = np.where(df.RiskVar.isin([10,11,12,13]), 1, df.AggClass)\n",
        "df['AggClass'] = np.where(df.RiskVar.isin([14,15]), 2, df.AggClass)\n",
        "df['AggClass'] = np.where(df.RiskVar > 15, 3, df.AggClass)"
      ],
      "execution_count": 0,
      "outputs": []
    },
    {
      "cell_type": "code",
      "metadata": {
        "id": "5LaWYDq3S5AZ",
        "colab_type": "code",
        "colab": {}
      },
      "source": [
        "x_train, x_test, y_train, y_test = train_test_split(df.drop(['RiskVar', 'AggClass'], axis=1), df.AggClass, stratify=df.AggClass, test_size=0.3, random_state=10)\n",
        "x_valid, x_test, y_valid, y_test = train_test_split(x_test, y_test, stratify=y_test, test_size=0.5, random_state=10)"
      ],
      "execution_count": 0,
      "outputs": []
    },
    {
      "cell_type": "code",
      "metadata": {
        "id": "jVrM04pRS6tz",
        "colab_type": "code",
        "outputId": "4037fd47-e6a1-45de-bdcd-f4c7bc7b316c",
        "colab": {
          "base_uri": "https://localhost:8080/",
          "height": 51
        }
      },
      "source": [
        "xgb_train = xgb.DMatrix(x_train, y_train)\n",
        "xgb_valid = xgb.DMatrix(x_valid, y_valid)\n",
        "xgb_test = xgb.DMatrix(x_test, y_test)"
      ],
      "execution_count": 0,
      "outputs": [
        {
          "output_type": "stream",
          "text": [
            "/usr/local/lib/python3.6/dist-packages/xgboost/core.py:587: FutureWarning: Series.base is deprecated and will be removed in a future version\n",
            "  if getattr(data, 'base', None) is not None and \\\n"
          ],
          "name": "stderr"
        }
      ]
    },
    {
      "cell_type": "markdown",
      "metadata": {
        "id": "30IRvE7sWrvC",
        "colab_type": "text"
      },
      "source": [
        "Воспользуемся снова hyperopt."
      ]
    },
    {
      "cell_type": "code",
      "metadata": {
        "id": "xZM_iqXdDMmL",
        "colab_type": "code",
        "colab": {}
      },
      "source": [
        "def objective(params):\n",
        "    parameters = {\n",
        "        'objective': 'multi:softmax',\n",
        "        'max_depth':  int(params['max_depth']),\n",
        "        'min_child_weight': params['min_child_weight'],\n",
        "        'subsample': params['subsample'],\n",
        "        'colsample_bytree': params['colsample_bytree'],\n",
        "        'eta': params['eta'],\n",
        "        'alpha': params['alpha'],\n",
        "        'lambda': params['lambda'],\n",
        "        'num_class': len(df.AggClass.unique())\n",
        "    }\n",
        "    \n",
        "    cv_result = xgb.cv(parameters, xgb_train, num_boost_round=250, nfold=3, stratified=True, seed=0, maximize=False, early_stopping_rounds=10)\n",
        "    score = cv_result['test-merror-mean'][-1:].values[0] # multiclass error rate\n",
        "    return score"
      ],
      "execution_count": 0,
      "outputs": []
    },
    {
      "cell_type": "code",
      "metadata": {
        "id": "xm3rDEseDROR",
        "colab_type": "code",
        "colab": {}
      },
      "source": [
        "space = {'max_depth': hp.choice('max_depth', [5, 8, 10, 12, 15]),\n",
        "         'min_child_weight': hp.uniform('min_child_weight', 0, 50),\n",
        "         'subsample': hp.uniform('subsample', 0.5, 1),\n",
        "         'colsample_bytree': hp.uniform('colsample_bytree', 0.5, 1),\n",
        "         'alpha': hp.uniform('alpha', 0, 1),\n",
        "         'lambda': hp.uniform('lambda', 0, 1),\n",
        "         'eta': hp.uniform('eta', 0.01, 1)\n",
        "        }"
      ],
      "execution_count": 0,
      "outputs": []
    },
    {
      "cell_type": "code",
      "metadata": {
        "id": "ffEPvHmQDVix",
        "colab_type": "code",
        "outputId": "68524811-e759-42d8-a0eb-cc2485002a32",
        "colab": {
          "base_uri": "https://localhost:8080/",
          "height": 34
        }
      },
      "source": [
        "best = fmin(fn=objective, space=space, algo=tpe.suggest, max_evals=50)"
      ],
      "execution_count": 0,
      "outputs": [
        {
          "output_type": "stream",
          "text": [
            "100%|██████████| 50/50 [1:43:48<00:00, 126.59s/it, best loss: 0.520027]\n"
          ],
          "name": "stdout"
        }
      ]
    },
    {
      "cell_type": "code",
      "metadata": {
        "id": "VC5TCglAaEbt",
        "colab_type": "code",
        "outputId": "fdf16c42-06ff-4b6a-bfad-baa1b29aea43",
        "colab": {
          "base_uri": "https://localhost:8080/",
          "height": 170
        }
      },
      "source": [
        "best_params = space_eval(space, best)\n",
        "best_params['objective'] = 'multi:softmax'\n",
        "best_params['num_class'] = len(df.AggClass.unique())\n",
        "best_params"
      ],
      "execution_count": 0,
      "outputs": [
        {
          "output_type": "execute_result",
          "data": {
            "text/plain": [
              "{'alpha': 0.6655837368198422,\n",
              " 'colsample_bytree': 0.504833153699499,\n",
              " 'eta': 0.042528719122902126,\n",
              " 'lambda': 0.4417650957110083,\n",
              " 'max_depth': 15,\n",
              " 'min_child_weight': 0.10297578192998855,\n",
              " 'num_class': 4,\n",
              " 'objective': 'multi:softmax',\n",
              " 'subsample': 0.6317659186200071}"
            ]
          },
          "metadata": {
            "tags": []
          },
          "execution_count": 78
        }
      ]
    },
    {
      "cell_type": "code",
      "metadata": {
        "id": "GHAVlkIeaPPK",
        "colab_type": "code",
        "outputId": "7f86f74f-a15f-43ad-eceb-7796951a0733",
        "colab": {
          "base_uri": "https://localhost:8080/",
          "height": 1000
        }
      },
      "source": [
        "xgb_4classes = xgb.train(num_boost_round=250, params=best_params, dtrain=xgb_train,\n",
        "                           maximize=False, evals=[(xgb_valid, \"valid\")], early_stopping_rounds=20)"
      ],
      "execution_count": 0,
      "outputs": [
        {
          "output_type": "stream",
          "text": [
            "[0]\tvalid-merror:0.647463\n",
            "Will train until valid-merror hasn't improved in 20 rounds.\n",
            "[1]\tvalid-merror:0.618822\n",
            "[2]\tvalid-merror:0.600164\n",
            "[3]\tvalid-merror:0.596563\n",
            "[4]\tvalid-merror:0.591817\n",
            "[5]\tvalid-merror:0.585106\n",
            "[6]\tvalid-merror:0.572177\n",
            "[7]\tvalid-merror:0.564321\n",
            "[8]\tvalid-merror:0.554664\n",
            "[9]\tvalid-merror:0.548609\n",
            "[10]\tvalid-merror:0.546972\n",
            "[11]\tvalid-merror:0.543863\n",
            "[12]\tvalid-merror:0.540753\n",
            "[13]\tvalid-merror:0.534697\n",
            "[14]\tvalid-merror:0.531588\n",
            "[15]\tvalid-merror:0.530933\n",
            "[16]\tvalid-merror:0.523895\n",
            "[17]\tvalid-merror:0.518985\n",
            "[18]\tvalid-merror:0.517676\n",
            "[19]\tvalid-merror:0.512439\n",
            "[20]\tvalid-merror:0.511784\n",
            "[21]\tvalid-merror:0.510966\n",
            "[22]\tvalid-merror:0.507201\n",
            "[23]\tvalid-merror:0.507038\n",
            "[24]\tvalid-merror:0.501964\n",
            "[25]\tvalid-merror:0.502782\n",
            "[26]\tvalid-merror:0.501146\n",
            "[27]\tvalid-merror:0.5\n",
            "[28]\tvalid-merror:0.497054\n",
            "[29]\tvalid-merror:0.49329\n",
            "[30]\tvalid-merror:0.491653\n",
            "[31]\tvalid-merror:0.493126\n",
            "[32]\tvalid-merror:0.490344\n",
            "[33]\tvalid-merror:0.491653\n",
            "[34]\tvalid-merror:0.490835\n",
            "[35]\tvalid-merror:0.491489\n",
            "[36]\tvalid-merror:0.493617\n",
            "[37]\tvalid-merror:0.492799\n",
            "[38]\tvalid-merror:0.495745\n",
            "[39]\tvalid-merror:0.494435\n",
            "[40]\tvalid-merror:0.493126\n",
            "[41]\tvalid-merror:0.496399\n",
            "[42]\tvalid-merror:0.49329\n",
            "[43]\tvalid-merror:0.494272\n",
            "[44]\tvalid-merror:0.496072\n",
            "[45]\tvalid-merror:0.49329\n",
            "[46]\tvalid-merror:0.492144\n",
            "[47]\tvalid-merror:0.489525\n",
            "[48]\tvalid-merror:0.487889\n",
            "[49]\tvalid-merror:0.488707\n",
            "[50]\tvalid-merror:0.485761\n",
            "[51]\tvalid-merror:0.486743\n",
            "[52]\tvalid-merror:0.486416\n",
            "[53]\tvalid-merror:0.489198\n",
            "[54]\tvalid-merror:0.487398\n",
            "[55]\tvalid-merror:0.488707\n",
            "[56]\tvalid-merror:0.487561\n",
            "[57]\tvalid-merror:0.488543\n",
            "[58]\tvalid-merror:0.487234\n",
            "[59]\tvalid-merror:0.484288\n",
            "[60]\tvalid-merror:0.486579\n",
            "[61]\tvalid-merror:0.484943\n",
            "[62]\tvalid-merror:0.484615\n",
            "[63]\tvalid-merror:0.48347\n",
            "[64]\tvalid-merror:0.483797\n",
            "[65]\tvalid-merror:0.484615\n",
            "[66]\tvalid-merror:0.48036\n",
            "[67]\tvalid-merror:0.482488\n",
            "[68]\tvalid-merror:0.481997\n",
            "[69]\tvalid-merror:0.481833\n",
            "[70]\tvalid-merror:0.479705\n",
            "[71]\tvalid-merror:0.478723\n",
            "[72]\tvalid-merror:0.478887\n",
            "[73]\tvalid-merror:0.479378\n",
            "[74]\tvalid-merror:0.47856\n",
            "[75]\tvalid-merror:0.476759\n",
            "[76]\tvalid-merror:0.478723\n",
            "[77]\tvalid-merror:0.476923\n",
            "[78]\tvalid-merror:0.475941\n",
            "[79]\tvalid-merror:0.476923\n",
            "[80]\tvalid-merror:0.47545\n",
            "[81]\tvalid-merror:0.475123\n",
            "[82]\tvalid-merror:0.474468\n",
            "[83]\tvalid-merror:0.475123\n",
            "[84]\tvalid-merror:0.474795\n",
            "[85]\tvalid-merror:0.471358\n",
            "[86]\tvalid-merror:0.469885\n",
            "[87]\tvalid-merror:0.47234\n",
            "[88]\tvalid-merror:0.471849\n",
            "[89]\tvalid-merror:0.472995\n",
            "[90]\tvalid-merror:0.472831\n",
            "[91]\tvalid-merror:0.471849\n",
            "[92]\tvalid-merror:0.47054\n",
            "[93]\tvalid-merror:0.470213\n",
            "[94]\tvalid-merror:0.470704\n",
            "[95]\tvalid-merror:0.472177\n",
            "[96]\tvalid-merror:0.470049\n",
            "[97]\tvalid-merror:0.467758\n",
            "[98]\tvalid-merror:0.466939\n",
            "[99]\tvalid-merror:0.467103\n",
            "[100]\tvalid-merror:0.46743\n",
            "[101]\tvalid-merror:0.466612\n",
            "[102]\tvalid-merror:0.467103\n",
            "[103]\tvalid-merror:0.46383\n",
            "[104]\tvalid-merror:0.465957\n",
            "[105]\tvalid-merror:0.467758\n",
            "[106]\tvalid-merror:0.467921\n",
            "[107]\tvalid-merror:0.466448\n",
            "[108]\tvalid-merror:0.466776\n",
            "[109]\tvalid-merror:0.46563\n",
            "[110]\tvalid-merror:0.466121\n",
            "[111]\tvalid-merror:0.464484\n",
            "[112]\tvalid-merror:0.464648\n",
            "[113]\tvalid-merror:0.463339\n",
            "[114]\tvalid-merror:0.463011\n",
            "[115]\tvalid-merror:0.464157\n",
            "[116]\tvalid-merror:0.462684\n",
            "[117]\tvalid-merror:0.463993\n",
            "[118]\tvalid-merror:0.463175\n",
            "[119]\tvalid-merror:0.461866\n",
            "[120]\tvalid-merror:0.463011\n",
            "[121]\tvalid-merror:0.461538\n",
            "[122]\tvalid-merror:0.461702\n",
            "[123]\tvalid-merror:0.460884\n",
            "[124]\tvalid-merror:0.462029\n",
            "[125]\tvalid-merror:0.461538\n",
            "[126]\tvalid-merror:0.461538\n",
            "[127]\tvalid-merror:0.459902\n",
            "[128]\tvalid-merror:0.461211\n",
            "[129]\tvalid-merror:0.461047\n",
            "[130]\tvalid-merror:0.460393\n",
            "[131]\tvalid-merror:0.459574\n",
            "[132]\tvalid-merror:0.458429\n",
            "[133]\tvalid-merror:0.460065\n",
            "[134]\tvalid-merror:0.458101\n",
            "[135]\tvalid-merror:0.459247\n",
            "[136]\tvalid-merror:0.45892\n",
            "[137]\tvalid-merror:0.457938\n",
            "[138]\tvalid-merror:0.456137\n",
            "[139]\tvalid-merror:0.455974\n",
            "[140]\tvalid-merror:0.456956\n",
            "[141]\tvalid-merror:0.456465\n",
            "[142]\tvalid-merror:0.45581\n",
            "[143]\tvalid-merror:0.455646\n",
            "[144]\tvalid-merror:0.45581\n",
            "[145]\tvalid-merror:0.455483\n",
            "[146]\tvalid-merror:0.456792\n",
            "[147]\tvalid-merror:0.456628\n",
            "[148]\tvalid-merror:0.456956\n",
            "[149]\tvalid-merror:0.455646\n",
            "[150]\tvalid-merror:0.455974\n",
            "[151]\tvalid-merror:0.455646\n",
            "[152]\tvalid-merror:0.455155\n",
            "[153]\tvalid-merror:0.456137\n",
            "[154]\tvalid-merror:0.455483\n",
            "[155]\tvalid-merror:0.454828\n",
            "[156]\tvalid-merror:0.453355\n",
            "[157]\tvalid-merror:0.453682\n",
            "[158]\tvalid-merror:0.454664\n",
            "[159]\tvalid-merror:0.45401\n",
            "[160]\tvalid-merror:0.453846\n",
            "[161]\tvalid-merror:0.452864\n",
            "[162]\tvalid-merror:0.452373\n",
            "[163]\tvalid-merror:0.452373\n",
            "[164]\tvalid-merror:0.453519\n",
            "[165]\tvalid-merror:0.453028\n",
            "[166]\tvalid-merror:0.452373\n",
            "[167]\tvalid-merror:0.451555\n",
            "[168]\tvalid-merror:0.453682\n",
            "[169]\tvalid-merror:0.454992\n",
            "[170]\tvalid-merror:0.452537\n",
            "[171]\tvalid-merror:0.452864\n",
            "[172]\tvalid-merror:0.450573\n",
            "[173]\tvalid-merror:0.450736\n",
            "[174]\tvalid-merror:0.449427\n",
            "[175]\tvalid-merror:0.448445\n",
            "[176]\tvalid-merror:0.450245\n",
            "[177]\tvalid-merror:0.451064\n",
            "[178]\tvalid-merror:0.450245\n",
            "[179]\tvalid-merror:0.449918\n",
            "[180]\tvalid-merror:0.450573\n",
            "[181]\tvalid-merror:0.449918\n",
            "[182]\tvalid-merror:0.450736\n",
            "[183]\tvalid-merror:0.448609\n",
            "[184]\tvalid-merror:0.449264\n",
            "[185]\tvalid-merror:0.448772\n",
            "[186]\tvalid-merror:0.448281\n",
            "[187]\tvalid-merror:0.448609\n",
            "[188]\tvalid-merror:0.4491\n",
            "[189]\tvalid-merror:0.450082\n",
            "[190]\tvalid-merror:0.449264\n",
            "[191]\tvalid-merror:0.448936\n",
            "[192]\tvalid-merror:0.448609\n",
            "[193]\tvalid-merror:0.448772\n",
            "[194]\tvalid-merror:0.448118\n",
            "[195]\tvalid-merror:0.4491\n",
            "[196]\tvalid-merror:0.448772\n",
            "[197]\tvalid-merror:0.449264\n",
            "[198]\tvalid-merror:0.448609\n",
            "[199]\tvalid-merror:0.447954\n",
            "[200]\tvalid-merror:0.447136\n",
            "[201]\tvalid-merror:0.447791\n",
            "[202]\tvalid-merror:0.447627\n",
            "[203]\tvalid-merror:0.447954\n",
            "[204]\tvalid-merror:0.448936\n",
            "[205]\tvalid-merror:0.448445\n",
            "[206]\tvalid-merror:0.448772\n",
            "[207]\tvalid-merror:0.447791\n",
            "[208]\tvalid-merror:0.448445\n",
            "[209]\tvalid-merror:0.448772\n",
            "[210]\tvalid-merror:0.449755\n",
            "[211]\tvalid-merror:0.449427\n",
            "[212]\tvalid-merror:0.448609\n",
            "[213]\tvalid-merror:0.448609\n",
            "[214]\tvalid-merror:0.449264\n",
            "[215]\tvalid-merror:0.449264\n",
            "[216]\tvalid-merror:0.449591\n",
            "[217]\tvalid-merror:0.4491\n",
            "[218]\tvalid-merror:0.448609\n",
            "[219]\tvalid-merror:0.448445\n",
            "[220]\tvalid-merror:0.448445\n",
            "Stopping. Best iteration:\n",
            "[200]\tvalid-merror:0.447136\n",
            "\n"
          ],
          "name": "stdout"
        }
      ]
    },
    {
      "cell_type": "code",
      "metadata": {
        "id": "n41DEDLIaVqg",
        "colab_type": "code",
        "outputId": "ead12c12-73e9-4815-a49f-0aa8bbc58c0f",
        "colab": {
          "base_uri": "https://localhost:8080/",
          "height": 68
        }
      },
      "source": [
        "dfsets = [{'set': 'train', 'dmat': xgb_train, 'target': y_train}, {'set': 'valid', 'dmat': xgb_valid, 'target': y_valid}, {'set': 'test', 'dmat': xgb_test, 'target': y_test}]\n",
        "for dfset in dfsets:\n",
        "    class_preds = xgb_4classes.predict(dfset['dmat'])\n",
        "    print('F1 Score on ' + str(dfset['set'])+':', f1_score(dfset['target'], class_preds, average='micro'))"
      ],
      "execution_count": 0,
      "outputs": [
        {
          "output_type": "stream",
          "text": [
            "F1 Score on train: 0.9952651515151515\n",
            "F1 Score on valid: 0.5515548281505729\n",
            "F1 Score on test: 0.5582651391162029\n"
          ],
          "name": "stdout"
        }
      ]
    },
    {
      "cell_type": "code",
      "metadata": {
        "id": "jMv1wFVyaa98",
        "colab_type": "code",
        "outputId": "536c6366-09df-45cf-c416-3a9e82dbe8c5",
        "colab": {
          "base_uri": "https://localhost:8080/",
          "height": 229
        }
      },
      "source": [
        "plt.subplots(1,3, figsize=(15,3))\n",
        "for i in range(len(dfsets)):\n",
        "    confmatrix = confusion_matrix(dfsets[i]['target'], xgb_4classes.predict(dfsets[i]['dmat']))\n",
        "    plt.subplot(1,3,i+1); plt.imshow(confmatrix, cmap='Greys'); plt.colorbar(); plt.ylabel('True'); plt.xlabel('Predicted')\n",
        "plt.show()"
      ],
      "execution_count": 0,
      "outputs": [
        {
          "output_type": "display_data",
          "data": {
            "image/png": "[encoded data removed]",
            "text/plain": [
              "<Figure size 1080x216 with 6 Axes>"
            ]
          },
          "metadata": {
            "tags": []
          }
        }
      ]
    },
    {
      "cell_type": "markdown",
      "metadata": {
        "id": "qI5cqusu4NyN",
        "colab_type": "text"
      },
      "source": [
        "Заметим, что давже в случае укрупненных классов нам не удалось с высокой точностью классифицировать переменную Riskvar. В задании мы исходили из предположения, что данная переменная может характеризовать степень риска для каждого из представленных полисов. Однако, вероятно, в реальности эта переменная не несет информацию о полисе, из-за чего не удается построить более точный классификатор. Соответственно, при построении моделей необходимо учитывать природу исследуемого показателя или процесса и использовать для этого релевантные данные."
      ]
    },
    {
      "cell_type": "code",
      "metadata": {
        "id": "O3EMU8OnwvcN",
        "colab_type": "code",
        "colab": {}
      },
      "source": [
        ""
      ],
      "execution_count": 0,
      "outputs": []
    }
  ]
}