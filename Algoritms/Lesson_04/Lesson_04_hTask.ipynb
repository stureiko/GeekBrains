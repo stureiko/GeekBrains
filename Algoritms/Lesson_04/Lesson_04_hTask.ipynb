{
 "cells": [
  {
   "cell_type": "markdown",
   "metadata": {},
   "source": [
    "# Author: Стурейко Игорь\n",
    "## Project: Geekbrains.Algorithms\n",
    "## Lesson 04 - Дерево решений\n",
    "## Date: 2020-09-03"
   ]
  },
  {
   "cell_type": "code",
   "execution_count": 2,
   "metadata": {},
   "outputs": [],
   "source": [
    "import numpy as np\n",
    "from matplotlib import pyplot as plt\n",
    "\n",
    "import random\n",
    "\n",
    "from matplotlib.colors import ListedColormap\n",
    "from sklearn import datasets\n",
    "from sklearn import model_selection"
   ]
  },
  {
   "cell_type": "markdown",
   "metadata": {},
   "source": [
    "## ООП Реализация"
   ]
  },
  {
   "cell_type": "code",
   "execution_count": 3,
   "metadata": {},
   "outputs": [],
   "source": [
    "class Node:\n",
    "\n",
    "    INSTANCE = 0\n",
    "    def __init__(self, index, t, true_branch, false_branch):\n",
    "        self.index = index  # индекс признака, по которому ведется сравнение с порогом в этом узле\n",
    "        self.t = t  # значение порога\n",
    "        self.true_branch = true_branch  # поддерево, удовлетворяющее условию в узле\n",
    "        self.false_branch = false_branch  # поддерево, не удовлетворяющее условию в узле\n",
    "        Node.INSTANCE += 1\n",
    "\n",
    "    def __del__(self):\n",
    "        Node.INSTANCE -= 1"
   ]
  },
  {
   "cell_type": "code",
   "execution_count": 4,
   "metadata": {},
   "outputs": [],
   "source": [
    "class Leaf:\n",
    "    INSTANCE = 0\n",
    "\n",
    "    def __init__(self, data, labels):\n",
    "        self.data = data\n",
    "        self.labels = labels\n",
    "        Leaf.INSTANCE += 1\n",
    "        self.prediction = self.predict()\n",
    "\n",
    "    def __del__(self):\n",
    "        Leaf.INSTANCE -= 1\n",
    "\n",
    "    def predict(self):\n",
    "        # подсчет количества объектов разных классов\n",
    "        classes = {}  # сформируем словарь \"класс: количество объектов\"\n",
    "        for label in self.labels:\n",
    "            if label not in classes:\n",
    "                classes[label] = 0\n",
    "            classes[label] += 1\n",
    "        #  найдем класс, количество объектов которого будет максимальным в этом листе и вернем его\n",
    "        prediction = max(classes, key=classes.get)\n",
    "        return prediction"
   ]
  },
  {
   "cell_type": "code",
   "execution_count": 5,
   "metadata": {},
   "outputs": [],
   "source": [
    "class DesisionTree:\n",
    "    def __init__(self, criteria='gini', max_leaf=100):\n",
    "        self.criteria = criteria\n",
    "        self.max_leaf = max_leaf\n",
    "        self.Node = None\n",
    "\n",
    "    def gini(self, labels: np.array) -> float:\n",
    "        #  подсчет количества объектов разных классов\n",
    "        classes = {}\n",
    "        for label in labels:\n",
    "            if label not in classes:\n",
    "                classes[label] = 0\n",
    "            classes[label] += 1\n",
    "\n",
    "        #  расчет критерия\n",
    "        impurity = 1\n",
    "        for label in classes:\n",
    "            p = classes[label] / len(labels)\n",
    "            impurity -= p ** 2\n",
    "\n",
    "        return impurity\n",
    "\n",
    "    def entropia(self, labels: np.array) -> float:\n",
    "        #  подсчет количества объектов разных классов\n",
    "        classes = {}\n",
    "        for label in labels:\n",
    "            if label not in classes:\n",
    "                classes[label] = 0\n",
    "            classes[label] += 1\n",
    "\n",
    "        #  расчет критерия\n",
    "        impurity = 1\n",
    "        for label in classes:\n",
    "            p = classes[label] / len(labels)\n",
    "            impurity -= p * np.log2(p)\n",
    "\n",
    "        return impurity\n",
    "\n",
    "    def quality(self, left_labels, right_labels, current_informations):\n",
    "\n",
    "        # доля выбоки, ушедшая в левое поддерево\n",
    "        p = float(left_labels.shape[0]) / (left_labels.shape[0] + right_labels.shape[0])\n",
    "\n",
    "        if self.criteria == 'entropia':\n",
    "            return current_informations - p * self.entropia(left_labels) - (1 - p) * self.entropia(right_labels)\n",
    "        else:\n",
    "            return current_informations - p * self.gini(left_labels) - (1 - p) * self.gini(right_labels)\n",
    "\n",
    "    def split(self, data, labels, index, t):\n",
    "\n",
    "        left = np.where(data[:, index] <= t)\n",
    "        right = np.where(data[:, index] > t)\n",
    "\n",
    "        true_data = data[left]\n",
    "        false_data = data[right]\n",
    "        true_labels = labels[left]\n",
    "        false_labels = labels[right]\n",
    "\n",
    "        return true_data, false_data, true_labels, false_labels\n",
    "\n",
    "    def find_best_split(self, data, labels):\n",
    "\n",
    "        #  обозначим минимальное количество объектов в узле\n",
    "        min_leaf = 5\n",
    "\n",
    "        if self.criteria == 'entropia':\n",
    "            current_informations = self.entropia(labels)\n",
    "        else:\n",
    "            current_informations = self.gini(labels)\n",
    "\n",
    "        best_quality = 0\n",
    "        best_t = None\n",
    "        best_index = None\n",
    "\n",
    "        n_features = data.shape[1]\n",
    "\n",
    "        for index in range(n_features):\n",
    "            # будем проверять только уникальные значения признака, исключая повторения\n",
    "            t_values = np.unique([row[index] for row in data])\n",
    "\n",
    "            for t in t_values:\n",
    "                true_data, false_data, true_labels, false_labels = self.split(data, labels, index, t)\n",
    "                #  пропускаем разбиения, в которых в узле остается менее 5 объектов\n",
    "                if len(true_data) < min_leaf or len(false_data) < min_leaf:\n",
    "                    continue\n",
    "\n",
    "                current_quality = self.quality(true_labels, false_labels, current_informations)\n",
    "\n",
    "                #  выбираем порог, на котором получается максимальный прирост качества\n",
    "                if current_quality > best_quality:\n",
    "                    best_quality, best_t, best_index = current_quality, t, index\n",
    "\n",
    "        return best_quality, best_t, best_index\n",
    "\n",
    "    def build_tree(self, data, labels):\n",
    "\n",
    "        quality, t, index = self.find_best_split(data, labels)\n",
    "\n",
    "        #  Базовый случай - прекращаем рекурсию, когда нет прироста в качества\n",
    "        if quality == 0:\n",
    "            return Leaf(data, labels)\n",
    "        \n",
    "        # Если достигли ограничения по количеству листьев - прекращаем рекурсию\n",
    "        if Leaf.INSTANCE >= self.max_leaf:\n",
    "            return Leaf(data, labels)\n",
    "\n",
    "        true_data, false_data, true_labels, false_labels = self.split(data, labels, index, t)\n",
    "\n",
    "        # Рекурсивно строим два поддерева\n",
    "        true_branch = self.build_tree(true_data, true_labels)\n",
    "        false_branch = self.build_tree(false_data, false_labels)\n",
    "\n",
    "        # Возвращаем класс узла со всеми поддеревьями, то есть целого дерева\n",
    "        return Node(index, t, true_branch, false_branch)\n",
    "\n",
    "    def classify_object(self, obj, node):\n",
    "\n",
    "        #  Останавливаем рекурсию, если достигли листа\n",
    "        if isinstance(node, Leaf):\n",
    "            answer = node.prediction\n",
    "            return answer\n",
    "\n",
    "        if obj[node.index] <= node.t:\n",
    "            return self.classify_object(obj, node.true_branch)\n",
    "        else:\n",
    "            return self.classify_object(obj, node.false_branch)\n",
    "        \n",
    "        \n",
    "    def predict(self, data):\n",
    "        \"\"\"\n",
    "        Выполнить предсказание\n",
    "        \"\"\"\n",
    "        classes = []\n",
    "        for obj in data:\n",
    "            prediction = self.classify_object(obj, self.Node)\n",
    "            classes.append(prediction)\n",
    "        return np.array(classes)\n",
    "\n",
    "    def fit(self, train_data, train_labels):\n",
    "        self.Node = self.build_tree(train_data, train_labels)"
   ]
  },
  {
   "cell_type": "code",
   "execution_count": 6,
   "metadata": {},
   "outputs": [],
   "source": [
    "def accuracy_metric(actual, predicted):\n",
    "    correct = 0\n",
    "    for i in range(len(actual)):\n",
    "        if actual[i] == predicted[i]:\n",
    "            correct += 1\n",
    "    return correct / float(len(actual)) * 100.0"
   ]
  },
  {
   "cell_type": "code",
   "execution_count": 7,
   "metadata": {},
   "outputs": [
    {
     "data": {
      "image/png": "[encoded data removed]",
      "text/plain": [
       "<Figure size 576x576 with 1 Axes>"
      ]
     },
     "metadata": {
      "needs_background": "light"
     },
     "output_type": "display_data"
    }
   ],
   "source": [
    "# сгенерируем и разобъем данные\n",
    "classification_data, classification_labels = datasets.make_classification(n_features = 2, n_informative = 2, \n",
    "                                                      n_classes = 2, n_redundant=0, \n",
    "                                                      n_clusters_per_class=1, random_state=5)\n",
    "train_data, test_data, train_labels, test_labels = model_selection.train_test_split(classification_data, \n",
    "                                                                                     classification_labels, \n",
    "                                                                                     test_size = 0.3,\n",
    "                                                                                     random_state = 27)\n",
    "# визуализируем сгенерированные данные\n",
    "\n",
    "colors = ListedColormap(['red', 'blue'])\n",
    "light_colors = ListedColormap(['lightcoral', 'lightblue'])\n",
    "\n",
    "plt.figure(figsize=(8,8))\n",
    "plt.scatter(list(map(lambda x: x[0], classification_data)), list(map(lambda x: x[1], classification_data)), \n",
    "              c=classification_labels, cmap=colors)\n",
    "plt.show()"
   ]
  },
  {
   "cell_type": "markdown",
   "metadata": {},
   "source": [
    "### Построение прогноза"
   ]
  },
  {
   "cell_type": "code",
   "execution_count": 8,
   "metadata": {},
   "outputs": [],
   "source": [
    "dTree = DesisionTree(criteria='gini')\n",
    "dTree.fit(train_data, train_labels)\n",
    "train_answers = dTree.predict(train_data)\n",
    "test_answers = dTree.predict(test_data)"
   ]
  },
  {
   "cell_type": "code",
   "execution_count": 9,
   "metadata": {},
   "outputs": [
    {
     "name": "stdout",
     "output_type": "stream",
     "text": [
      " Train data\n",
      " Accurance metric: 97.142857\n",
      " Test data\n",
      " Accurance metric: 86.666667\n"
     ]
    }
   ],
   "source": [
    "print(f' Train data\\n Accurance metric: {accuracy_metric(train_labels, train_answers):.6f}')\n",
    "print(f' Test data\\n Accurance metric: {accuracy_metric(test_labels, test_answers):.6f}')"
   ]
  },
  {
   "cell_type": "markdown",
   "metadata": {},
   "source": [
    "## 1. В коде из методички реализуйте один или несколько из критериев останова (количество листьев, количество используемых признаков, глубина дерева и т.д.)"
   ]
  },
  {
   "cell_type": "code",
   "execution_count": 10,
   "metadata": {},
   "outputs": [
    {
     "name": "stdout",
     "output_type": "stream",
     "text": [
      " Train data\n",
      " Accurance metric: 97.1428571429\n",
      " Test data\n",
      " Accurance metric: 86.6666666667\n"
     ]
    }
   ],
   "source": [
    "dTree = DesisionTree(criteria='gini', max_leaf=2)\n",
    "dTree.fit(train_data, train_labels)\n",
    "train_answers = dTree.predict(train_data)\n",
    "test_answers = dTree.predict(test_data)\n",
    "print(f' Train data\\n Accurance metric: {accuracy_metric(train_labels, train_answers):.10f}')\n",
    "print(f' Test data\\n Accurance metric: {accuracy_metric(test_labels, test_answers):.10f}')"
   ]
  },
  {
   "cell_type": "code",
   "execution_count": 11,
   "metadata": {},
   "outputs": [
    {
     "name": "stdout",
     "output_type": "stream",
     "text": [
      " Train data\n",
      " Accurance metric: 97.1428571429\n",
      " Test data\n",
      " Accurance metric: 86.6666666667\n"
     ]
    }
   ],
   "source": [
    "dTree = DesisionTree(criteria='gini', max_leaf=4)\n",
    "dTree.fit(train_data, train_labels)\n",
    "train_answers = dTree.predict(train_data)\n",
    "test_answers = dTree.predict(test_data)\n",
    "print(f' Train data\\n Accurance metric: {accuracy_metric(train_labels, train_answers):.10f}')\n",
    "print(f' Test data\\n Accurance metric: {accuracy_metric(test_labels, test_answers):.10f}')"
   ]
  },
  {
   "cell_type": "code",
   "execution_count": 12,
   "metadata": {},
   "outputs": [
    {
     "name": "stdout",
     "output_type": "stream",
     "text": [
      " Train data\n",
      " Accurance metric: 97.1428571429\n",
      " Test data\n",
      " Accurance metric: 86.6666666667\n"
     ]
    }
   ],
   "source": [
    "dTree = DesisionTree(criteria='gini', max_leaf=10)\n",
    "dTree.fit(train_data, train_labels)\n",
    "train_answers = dTree.predict(train_data)\n",
    "test_answers = dTree.predict(test_data)\n",
    "print(f' Train data\\n Accurance metric: {accuracy_metric(train_labels, train_answers):.10f}')\n",
    "print(f' Test data\\n Accurance metric: {accuracy_metric(test_labels, test_answers):.10f}')"
   ]
  },
  {
   "cell_type": "code",
   "execution_count": 13,
   "metadata": {},
   "outputs": [
    {
     "name": "stdout",
     "output_type": "stream",
     "text": [
      " Train data\n",
      " Accurance metric: 97.1428571429\n",
      " Test data\n",
      " Accurance metric: 86.6666666667\n"
     ]
    }
   ],
   "source": [
    "dTree = DesisionTree(criteria='gini', max_leaf=100)\n",
    "dTree.fit(train_data, train_labels)\n",
    "train_answers = dTree.predict(train_data)\n",
    "test_answers = dTree.predict(test_data)\n",
    "print(f' Train data\\n Accurance metric: {accuracy_metric(train_labels, train_answers):.10f}')\n",
    "print(f' Test data\\n Accurance metric: {accuracy_metric(test_labels, test_answers):.10f}')"
   ]
  },
  {
   "cell_type": "markdown",
   "metadata": {},
   "source": [
    "## 2. Для задачи классификации обучить дерево решений с использованием критериев разбиения Джини и Энтропия. Сравнить качество классификации, сделать выводы."
   ]
  },
  {
   "cell_type": "code",
   "execution_count": 14,
   "metadata": {},
   "outputs": [],
   "source": [
    "dTree_e = DesisionTree(criteria='entropia')\n",
    "dTree_e.fit(train_data, train_labels)\n",
    "train_answers_e = dTree_e.predict(train_data)\n",
    "test_answers_e = dTree_e.predict(test_data)"
   ]
  },
  {
   "cell_type": "code",
   "execution_count": 15,
   "metadata": {},
   "outputs": [],
   "source": [
    "dTree = DesisionTree(criteria='gini')\n",
    "dTree.fit(train_data, train_labels)\n",
    "train_answers = dTree.predict(train_data)\n",
    "test_answers = dTree.predict(test_data)"
   ]
  },
  {
   "cell_type": "code",
   "execution_count": 16,
   "metadata": {},
   "outputs": [
    {
     "name": "stdout",
     "output_type": "stream",
     "text": [
      "gini\n",
      "========\n",
      " Train data\n",
      " Accurance metric: 97.142857\n",
      " Test data\n",
      " Accurance metric: 86.666667\n",
      "\n",
      "\n",
      "Entropia\n",
      "========\n",
      " Train data\n",
      " Accurance metric: 97.142857\n",
      "\n",
      " Test data\n",
      " Accurance metric: 86.666667\n"
     ]
    }
   ],
   "source": [
    "print('gini')\n",
    "print('='*8)\n",
    "print(f' Train data\\n Accurance metric: {accuracy_metric(train_labels, train_answers):.6f}')\n",
    "print(f' Test data\\n Accurance metric: {accuracy_metric(test_labels, test_answers):.6f}')\n",
    "\n",
    "print('\\n\\nEntropia')\n",
    "print(\"=\"*8)\n",
    "print(f' Train data\\n Accurance metric: {accuracy_metric(train_labels, train_answers_e):.6f}\\n')\n",
    "print(f' Test data\\n Accurance metric: {accuracy_metric(test_labels, test_answers_e):.6f}')\n"
   ]
  },
  {
   "cell_type": "markdown",
   "metadata": {},
   "source": [
    "### Критерий джини и энтропии дают схожие значения"
   ]
  },
  {
   "cell_type": "markdown",
   "metadata": {},
   "source": [
    "## 3*. Реализуйте дерево для задачи регрессии. Возьмите за основу дерево, реализованное в методичке, заменив механизм предсказания в листе на взятие среднего значения по выборке, и критерий Джини на дисперсию значений."
   ]
  },
  {
   "cell_type": "code",
   "execution_count": 17,
   "metadata": {},
   "outputs": [],
   "source": [
    "class RegressionLeaf:\n",
    "    \n",
    "    def __init__(self, data, labels):\n",
    "        self.data = data\n",
    "        self.labels = labels\n",
    "        self.prediction = self.predict()        \n",
    "        \n",
    "    def predict(self):              \n",
    "        prediction = np.mean(self.labels)        \n",
    "        return prediction"
   ]
  },
  {
   "cell_type": "code",
   "execution_count": 18,
   "metadata": {},
   "outputs": [],
   "source": [
    "class RegressionTree:\n",
    "    def __init__(self, max_leaf=100):\n",
    "        self.max_leaf = max_leaf\n",
    "        self.Node = None\n",
    "    \n",
    "    def variance(self, labels: np.array) -> float:\n",
    "        return np.mean((labels - np.mean(labels))**2) \n",
    "\n",
    "    def quality(self, left_labels, right_labels, current_informations):\n",
    "\n",
    "        # доля выбоки, ушедшая в левое поддерево\n",
    "        p = float(left_labels.shape[0]) / (left_labels.shape[0] + right_labels.shape[0])\n",
    "\n",
    "        return current_informations - p * self.variance(left_labels) - (1 - p) * self.variance(right_labels)\n",
    "\n",
    "    def split(self, data, labels, index, t):\n",
    "\n",
    "        left = np.where(data[:, index] <= t)\n",
    "        right = np.where(data[:, index] > t)\n",
    "\n",
    "        true_data = data[left]\n",
    "        false_data = data[right]\n",
    "        true_labels = labels[left]\n",
    "        false_labels = labels[right]\n",
    "\n",
    "        return true_data, false_data, true_labels, false_labels\n",
    "\n",
    "    def find_best_split(self, data, labels):\n",
    "\n",
    "        #  обозначим минимальное количество объектов в узле\n",
    "        min_leaf = 5\n",
    "\n",
    "        current_informations = self.variance(labels)\n",
    "\n",
    "        best_quality = 0\n",
    "        best_t = None\n",
    "        best_index = None\n",
    "\n",
    "        n_features = data.shape[1]\n",
    "\n",
    "        for index in range(n_features):\n",
    "            # будем проверять только уникальные значения признака, исключая повторения\n",
    "            t_values = np.unique([row[index] for row in data])\n",
    "\n",
    "            for t in t_values:\n",
    "                true_data, false_data, true_labels, false_labels = self.split(data, labels, index, t)\n",
    "                #  пропускаем разбиения, в которых в узле остается менее 5 объектов\n",
    "                if len(true_data) < min_leaf or len(false_data) < min_leaf:\n",
    "                    continue\n",
    "\n",
    "                current_quality = self.quality(true_labels, false_labels, current_informations)\n",
    "\n",
    "                #  выбираем порог, на котором получается максимальный прирост качества\n",
    "                if current_quality > best_quality:\n",
    "                    best_quality, best_t, best_index = current_quality, t, index\n",
    "\n",
    "        return best_quality, best_t, best_index\n",
    "\n",
    "    def build_tree(self, data, labels):\n",
    "\n",
    "        quality, t, index = self.find_best_split(data, labels)\n",
    "\n",
    "        #  Базовый случай - прекращаем рекурсию, когда нет прироста в качества\n",
    "        if quality == 0:\n",
    "            return RegressionLeaf(data, labels)\n",
    "        \n",
    "        # Если достигли ограничения по количеству листьев - прекращаем рекурсию\n",
    "        if Leaf.INSTANCE >= self.max_leaf:\n",
    "            return RegressoinLeaf(data, labels)\n",
    "\n",
    "        true_data, false_data, true_labels, false_labels = self.split(data, labels, index, t)\n",
    "\n",
    "        # Рекурсивно строим два поддерева\n",
    "        true_branch = self.build_tree(true_data, true_labels)\n",
    "        false_branch = self.build_tree(false_data, false_labels)\n",
    "\n",
    "        # Возвращаем класс узла со всеми поддеревьями, то есть целого дерева\n",
    "        return Node(index, t, true_branch, false_branch)\n",
    "\n",
    "    def classify_object(self, obj, node):\n",
    "\n",
    "        #  Останавливаем рекурсию, если достигли листа\n",
    "        if isinstance(node, RegressionLeaf):\n",
    "            answer = node.prediction\n",
    "            return answer\n",
    "\n",
    "        if obj[node.index] <= node.t:\n",
    "            return self.classify_object(obj, node.true_branch)\n",
    "        else:\n",
    "            return self.classify_object(obj, node.false_branch)\n",
    "        \n",
    "        \n",
    "    def predict(self, data):\n",
    "        \"\"\"\n",
    "        Выполнить предсказание\n",
    "        \"\"\"\n",
    "        classes = []\n",
    "        for obj in data:\n",
    "            prediction = self.classify_object(obj, self.Node)\n",
    "            classes.append(prediction)\n",
    "        return np.array(classes)\n",
    "\n",
    "    def fit(self, train_data, train_labels):\n",
    "        self.Node = self.build_tree(train_data, train_labels)"
   ]
  },
  {
   "cell_type": "code",
   "execution_count": 20,
   "metadata": {},
   "outputs": [],
   "source": [
    "X, y = datasets.make_regression(n_samples=1000, n_features=2, random_state=42)\n",
    "\n",
    "# Разобьем выборку на обучающую и тестовую\n",
    "X_train, X_test, y_train, y_test = model_selection.train_test_split(X, y, \n",
    "                                                                    test_size = 0.3,\n",
    "                                                                    random_state = 1)"
   ]
  },
  {
   "cell_type": "code",
   "execution_count": 21,
   "metadata": {},
   "outputs": [],
   "source": [
    "def R2(act, pred):\n",
    "    S_total = ((act - np.mean(act))**2).sum()\n",
    "    S_res = ((act - pred)**2).sum()\n",
    "    return 1 - S_res / S_total"
   ]
  },
  {
   "cell_type": "code",
   "execution_count": 22,
   "metadata": {},
   "outputs": [],
   "source": [
    "tree = RegressionTree()\n",
    "tree.fit(X_train, y_train)\n",
    "y_pred_train = tree.predict(X_train)\n",
    "y_pred_test = tree.predict(X_test)"
   ]
  },
  {
   "cell_type": "code",
   "execution_count": 23,
   "metadata": {},
   "outputs": [
    {
     "name": "stdout",
     "output_type": "stream",
     "text": [
      "R2 train: 0.9963\n",
      "R2 test: 0.9856\n"
     ]
    }
   ],
   "source": [
    "# R2 на обучающей выборке\n",
    "R2_train = R2(y_train, y_pred_train)\n",
    "# R2 на тестовой выборке\n",
    "R2_test = R2(y_test, y_pred_test)\n",
    "print(f'R2 train: {R2_train:.4f}')\n",
    "print(f'R2 test: {R2_test:.4f}')"
   ]
  },
  {
   "cell_type": "code",
   "execution_count": null,
   "metadata": {},
   "outputs": [],
   "source": []
  }
 ],
 "metadata": {
  "kernelspec": {
   "display_name": "Python 3",
   "language": "python",
   "name": "python3"
  },
  "language_info": {
   "codemirror_mode": {
    "name": "ipython",
    "version": 3
   },
   "file_extension": ".py",
   "mimetype": "text/x-python",
   "name": "python",
   "nbconvert_exporter": "python",
   "pygments_lexer": "ipython3",
   "version": "3.7.7"
  }
 },
 "nbformat": 4,
 "nbformat_minor": 4
}
