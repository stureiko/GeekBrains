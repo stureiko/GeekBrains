{
 "cells": [
  {
   "cell_type": "markdown",
   "metadata": {},
   "source": [
    "# Author: Стурейко Игорь\n",
    "## Project: Geekbrains.Algorithms\n",
    "## Lesson 04 - Дерево решений\n",
    "## Date: 2020-09-03"
   ]
  },
  {
   "cell_type": "code",
   "execution_count": 1,
   "metadata": {},
   "outputs": [],
   "source": [
    "import numpy as np\n",
    "from matplotlib import pyplot as plt\n",
    "\n",
    "import random\n",
    "\n",
    "from matplotlib.colors import ListedColormap\n",
    "from sklearn import datasets"
   ]
  },
  {
   "cell_type": "markdown",
   "metadata": {},
   "source": [
    "## ООП Реализация"
   ]
  },
  {
   "cell_type": "code",
   "execution_count": 2,
   "metadata": {},
   "outputs": [],
   "source": [
    "class Node:\n",
    "    INSTANCE=0\n",
    "    \n",
    "    def __init__(self, x, y, idxs, min_leaf=5, max_nodes=100, criteria='gini'):\n",
    "        self.x = x \n",
    "        self.y = y\n",
    "        self.idxs = idxs \n",
    "        self.min_leaf = min_leaf\n",
    "        self.row_count = len(idxs)\n",
    "        self.col_count = x.shape[1]\n",
    "        self.val = np.mean(y[idxs])\n",
    "        self.score = float('inf')\n",
    "        self.max_nodes = max_nodes\n",
    "        self.criteria = criteria\n",
    "        self.find_varsplit()\n",
    "        \n",
    "    def find_varsplit(self):\n",
    "        for c in range(self.col_count): \n",
    "            self.find_better_split(c)\n",
    "\n",
    "        if self.is_leaf: return\n",
    "        x = self.split_col\n",
    "        lhs = np.nonzero(x <= self.split)[0]\n",
    "        rhs = np.nonzero(x > self.split)[0]\n",
    "        \n",
    "        self.lhs = Node(self.x, self.y, self.idxs[lhs], self.min_leaf, max_nodes=self.max_nodes, criteria=self.criteria)\n",
    "        self.rhs = Node(self.x, self.y, self.idxs[rhs], self.min_leaf, max_nodes=self.max_nodes, criteria=self.criteria)\n",
    "        \n",
    "    def find_better_split(self, var_idx):\n",
    "        \"\"\"\n",
    "        Нахлждение лучшего разбиения\n",
    "        \"\"\"\n",
    "        x = self.x[self.idxs, var_idx]\n",
    "        \n",
    "        for r in range(self.row_count):\n",
    "            lhs = x <= x[r]\n",
    "            rhs = x > x[r]\n",
    "            if rhs.sum() < self.min_leaf or lhs.sum() < self.min_leaf: continue\n",
    "\n",
    "            curr_score = self.find_score(lhs, rhs, self.criteria)\n",
    "            if curr_score < self.score: \n",
    "                self.var_idx = var_idx\n",
    "                self.score = curr_score\n",
    "                self.split = x[r]\n",
    "                \n",
    "    def find_score(self, lhs, rhs, criteria):\n",
    "        \"\"\"\n",
    "        Оценка информативности разбиения\n",
    "        \"\"\"\n",
    "        y = self.y[self.idxs]\n",
    "        \n",
    "        p = float(y[lhs].shape[0]) / (y[lhs].shape[0] + y[rhs].shape[0])\n",
    "        if criteria == 'gini':\n",
    "            return p * self.gini(lhs) - (1 - p) * self.gini(rhs)\n",
    "        elif criteria == 'enthropy':\n",
    "            return p * self.enthropy(lhs) - (1 - p) * self.enthropy(rhs)\n",
    "        else:\n",
    "            lhs_std = y[lhs].std()\n",
    "            rhs_std = y[rhs].std()\n",
    "            return lhs_std * lhs.sum() + rhs_std * rhs.sum()\n",
    "            \n",
    "    def gini(self, labels):\n",
    "        \"\"\"\n",
    "        Расчет критерия Джини\n",
    "        \"\"\"\n",
    "        #  подсчет количества объектов разных классов\n",
    "        classes = {}\n",
    "        for label in labels:\n",
    "            if label not in classes:\n",
    "                classes[label] = 0\n",
    "            classes[label] += 1\n",
    "\n",
    "        #  расчет критерия\n",
    "        impurity = 1\n",
    "        for label in classes:\n",
    "            p = classes[label] / len(labels)\n",
    "            impurity -= p ** 2\n",
    "\n",
    "        return impurity\n",
    "    \n",
    "    def enthropy(self, labels):\n",
    "        \"\"\"\n",
    "        Расчет энтропии\n",
    "        \"\"\"\n",
    "        #  подсчет количества объектов разных классов\n",
    "        classes = {}\n",
    "        for label in labels:\n",
    "            if label not in classes:\n",
    "                classes[label] = 0\n",
    "            classes[label] += 1\n",
    "\n",
    "        #  расчет критерия\n",
    "        impurity = 1\n",
    "        for label in classes:\n",
    "            p = classes[label] / len(labels)\n",
    "            impurity -= p * np.log2(p)\n",
    "\n",
    "        return impurity\n",
    "    \n",
    "    @property\n",
    "    def split_col(self): return self.x[self.idxs,self.var_idx]\n",
    "                \n",
    "    @property\n",
    "    def is_leaf(self): return self.score == float('inf')                \n",
    "\n",
    "    def predict(self, x):\n",
    "        return np.array([self.predict_row(xi) for xi in x])\n",
    "\n",
    "    def predict_row(self, xi):\n",
    "        if self.is_leaf: return self.val\n",
    "        \n",
    "        # проверяем количество узлов\n",
    "        self.INSTANCE += 1\n",
    "        node = self.lhs if xi[self.var_idx] <= self.split else self.rhs\n",
    "        \n",
    "        if self.INSTANCE <= self.max_nodes:\n",
    "            return node.predict_row(xi)\n",
    "        else:\n",
    "            return node"
   ]
  },
  {
   "cell_type": "code",
   "execution_count": 3,
   "metadata": {},
   "outputs": [],
   "source": [
    "class DecisionTreeRegressor:\n",
    "    def fit(self, X, y, min_leaf = 5, max_nodes=100, criteria='gini'):\n",
    "        self.dtree = Node(X, y, np.array(np.arange(len(y))), min_leaf, max_nodes, criteria)\n",
    "        return self\n",
    "\n",
    "    def predict(self, X):\n",
    "        return self.dtree.predict(X)"
   ]
  },
  {
   "cell_type": "markdown",
   "metadata": {},
   "source": [
    "## 1. В коде из методички реализуйте один или несколько из критериев останова (количество листьев, количество используемых признаков, глубина дерева и т.д.)"
   ]
  },
  {
   "cell_type": "markdown",
   "metadata": {},
   "source": [
    "Реализован критерий по количеству узлов в дереве\n",
    "\n",
    "__Функция predict_row__"
   ]
  },
  {
   "cell_type": "markdown",
   "metadata": {},
   "source": [
    "## 2. Для задачи классификации обучить дерево решений с использованием критериев разбиения Джини и Энтропия. Сравнить качество классификации, сделать выводы."
   ]
  },
  {
   "cell_type": "code",
   "execution_count": 11,
   "metadata": {},
   "outputs": [],
   "source": [
    "# сгенерируем данные\n",
    "classification_data, classification_labels = datasets.make_classification(n_features = 2, n_informative = 2, \n",
    "                                                      n_classes = 2, n_redundant=0, \n",
    "                                                      n_clusters_per_class=1, random_state=5)"
   ]
  },
  {
   "cell_type": "code",
   "execution_count": 12,
   "metadata": {},
   "outputs": [
    {
     "data": {
      "text/plain": [
       "<matplotlib.collections.PathCollection at 0x91bfd30>"
      ]
     },
     "execution_count": 12,
     "metadata": {},
     "output_type": "execute_result"
    },
    {
     "data": {
      "image/png": "[encoded data removed]",
      "text/plain": [
       "<Figure size 576x576 with 1 Axes>"
      ]
     },
     "metadata": {
      "needs_background": "light"
     },
     "output_type": "display_data"
    }
   ],
   "source": [
    "# визуализируем сгенерированные данные\n",
    "\n",
    "colors = ListedColormap(['red', 'blue'])\n",
    "light_colors = ListedColormap(['lightcoral', 'lightblue'])\n",
    "\n",
    "plt.figure(figsize=(8,8))\n",
    "plt.scatter(list(map(lambda x: x[0], classification_data)), list(map(lambda x: x[1], classification_data)), \n",
    "              c=classification_labels, cmap=colors)"
   ]
  },
  {
   "cell_type": "code",
   "execution_count": 13,
   "metadata": {},
   "outputs": [],
   "source": [
    "# Введем функцию подсчета точности как доли правильных ответов\n",
    "def accuracy_metric(actual, predicted):\n",
    "    correct = 0\n",
    "    for i in range(len(actual)):\n",
    "        if actual[i] == predicted[i]:\n",
    "            correct += 1\n",
    "    return correct / float(len(actual)) * 100.0"
   ]
  },
  {
   "cell_type": "code",
   "execution_count": 25,
   "metadata": {
    "scrolled": true
   },
   "outputs": [
    {
     "name": "stdout",
     "output_type": "stream",
     "text": [
      "Точность на тестовой выборке: \t73.3333333333\n",
      "\n"
     ]
    }
   ],
   "source": [
    "regressor = DecisionTreeRegressor().fit(train_data, train_labels, min_leaf=5, max_nodes=100, criteria='enthropy')\n",
    "preds = regressor.predict(test_data)\n",
    "test_accuracy = accuracy_metric(test_labels, preds)\n",
    "print('Точность на тестовой выборке: \\t{:5.10f}\\n'.format(test_accuracy))"
   ]
  },
  {
   "cell_type": "code",
   "execution_count": 24,
   "metadata": {},
   "outputs": [
    {
     "name": "stdout",
     "output_type": "stream",
     "text": [
      "Точность на тестовой выборке: \t40.0000000000\n",
      "\n"
     ]
    }
   ],
   "source": [
    "regressor = DecisionTreeRegressor().fit(train_data, train_labels, min_leaf=5, max_nodes=100, criteria='gini')\n",
    "preds = regressor.predict(test_data)\n",
    "test_accuracy = accuracy_metric(test_labels, preds)\n",
    "print('Точность на тестовой выборке: \\t{:5.10f}\\n'.format(test_accuracy))"
   ]
  },
  {
   "cell_type": "markdown",
   "metadata": {},
   "source": [
    "### Критерий энтропии дает более точные значения"
   ]
  },
  {
   "cell_type": "markdown",
   "metadata": {},
   "source": [
    "## 3*. Реализуйте дерево для задачи регрессии. Возьмите за основу дерево, реализованное в методичке, заменив механизм предсказания в листе на взятие среднего значения по выборке, и критерий Джини на дисперсию значений."
   ]
  },
  {
   "cell_type": "code",
   "execution_count": null,
   "metadata": {},
   "outputs": [],
   "source": []
  },
  {
   "cell_type": "code",
   "execution_count": null,
   "metadata": {},
   "outputs": [],
   "source": []
  }
 ],
 "metadata": {
  "kernelspec": {
   "display_name": "Python 3",
   "language": "python",
   "name": "python3"
  },
  "language_info": {
   "codemirror_mode": {
    "name": "ipython",
    "version": 3
   },
   "file_extension": ".py",
   "mimetype": "text/x-python",
   "name": "python",
   "nbconvert_exporter": "python",
   "pygments_lexer": "ipython3",
   "version": "3.7.0"
  }
 },
 "nbformat": 4,
 "nbformat_minor": 4
}
