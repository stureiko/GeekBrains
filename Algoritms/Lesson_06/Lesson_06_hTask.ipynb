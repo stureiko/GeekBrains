{
 "cells": [
  {
   "cell_type": "markdown",
   "metadata": {},
   "source": [
    "# Author: Стурейко Игорь\n",
    "## Project: Geekbrains.Algorithms\n",
    "## Lesson 05 - Градиентный бустинг\n",
    "## Date: 2020-09-09"
   ]
  },
  {
   "cell_type": "code",
   "execution_count": 62,
   "metadata": {},
   "outputs": [],
   "source": [
    "from sklearn.tree import DecisionTreeRegressor\n",
    "\n",
    "from sklearn import model_selection\n",
    "import numpy as np\n",
    "from matplotlib import pyplot as plt"
   ]
  },
  {
   "cell_type": "code",
   "execution_count": 3,
   "metadata": {},
   "outputs": [],
   "source": [
    "class GradBoost:\n",
    "\n",
    "    def __init__(self, n_trees=10, max_depth=5, eta=0.1):\n",
    "        self.eta = eta\n",
    "        self.n_trees = n_trees\n",
    "        self.max_depth = max_depth\n",
    "        self.coefs = [1] * self.n_trees\n",
    "        self.trees = None\n",
    "        self.train_errors = None\n",
    "        self.test_errors = None\n",
    "\n",
    "    def fit(self, X_train, X_test, y_train, y_test):\n",
    "\n",
    "        # Деревья будем записывать в список\n",
    "        self.trees = []\n",
    "\n",
    "        # Будем записывать ошибки на обучающей и тестовой выборке на каждой итерации в список\n",
    "        self.train_errors = []\n",
    "        self.test_errors = []\n",
    "\n",
    "        for i in range(self.n_trees):\n",
    "            tree = DecisionTreeRegressor(max_depth=self.max_depth, random_state=42)\n",
    "\n",
    "            # инициализируем бустинг начальным алгоритмом, возвращающим ноль,\n",
    "            # поэтому первый алгоритм просто обучаем на выборке и добавляем в список\n",
    "            if len(self.trees) == 0:\n",
    "                # обучаем первое дерево на обучающей выборке\n",
    "                tree.fit(X_train, y_train)\n",
    "\n",
    "                self.train_errors.append(self.mean_squared_error(y_train, self.predict(X_train)))\n",
    "                self.test_errors.append(self.mean_squared_error(y_test, self.predict(X_test)))\n",
    "            else:\n",
    "                # Получим ответы на текущей композиции\n",
    "                target = self.predict(X_train)\n",
    "\n",
    "                # алгоритмы начиная со второго обучаем на сдвиг\n",
    "                tree.fit(X_train, self.bias(y_train, target))\n",
    "\n",
    "                self.train_errors.append(self.mean_squared_error(y_train, self.predict(X_train)))\n",
    "                self.test_errors.append(self.mean_squared_error(y_test, self.predict(X_test)))\n",
    "\n",
    "            self.trees.append(tree)\n",
    "\n",
    "        if self.trees and self.train_errors and self.test_errors:\n",
    "            return 0\n",
    "        else:\n",
    "            return -1\n",
    "\n",
    "    @staticmethod\n",
    "    def mean_squared_error(y_real, prediction):\n",
    "        return (sum((y_real - prediction) ** 2)) / len(y_real)\n",
    "\n",
    "    @staticmethod\n",
    "    def bias(y, z):\n",
    "        return y - z\n",
    "\n",
    "    def predict(self, X):\n",
    "        # Реализуемый алгоритм градиентного бустинга будет инициализироваться нулевыми значениями,\n",
    "        # поэтому все деревья из списка trees_list уже являются дополнительными и при предсказании\n",
    "        # прибавляются с шагом eta\n",
    "        return np.array(\n",
    "            [sum([self.eta * coef * alg.predict([x])[0] for alg, coef in zip(self.trees, self.coefs)]) for x in X])\n"
   ]
  },
  {
   "cell_type": "code",
   "execution_count": 8,
   "metadata": {},
   "outputs": [],
   "source": [
    "def mean_squared_error(y_real, prediction):\n",
    "        return (sum((y_real - prediction) ** 2)) / len(y_real)"
   ]
  },
  {
   "cell_type": "code",
   "execution_count": 6,
   "metadata": {},
   "outputs": [],
   "source": [
    "from sklearn.datasets import load_diabetes\n",
    "X, y = load_diabetes(return_X_y=True)\n",
    "X_train, X_test, y_train, y_test = model_selection.train_test_split(X, y, test_size=0.25)"
   ]
  },
  {
   "cell_type": "code",
   "execution_count": null,
   "metadata": {},
   "outputs": [],
   "source": [
    "def evaluate_alg(X_train, X_test, y_train, y_test, n_trees, max_depth, eta):\n",
    "    gd_boost = GradBoost(n_trees=n_trees, max_depth=max_depth, eta=eta)\n",
    "    gd_boost.fit(X_train, X_test, y_train, y_test)\n",
    "    train_prediction = gd_boost.predict(X_train)\n",
    "    test_prediction = gd_boost.predict(X_test)\n",
    "    train_error = mean_squared_error(y_train, train_prediction)\n",
    "    test_error = mean_squared_error(y_test, test_prediction)\n",
    "\n",
    "    print(f'\\nОшибка алгоритма из {n_trees} деревьев глубиной {max_depth} \\\n",
    "с шагом {eta}\\nна тренировочной выборке:\\t{train_error}\\n\\\n",
    "на тестовой выборке:\\t\\t{test_error}')\n",
    "    return train_error, test_error"
   ]
  },
  {
   "cell_type": "code",
   "execution_count": 55,
   "metadata": {},
   "outputs": [
    {
     "name": "stdout",
     "output_type": "stream",
     "text": [
      "Ошибка алгоритма из 10 деревьев глубиной 5 с шагом 0.1\n",
      "на тренировочной выборке:\t4808.765338313985\n",
      "на тестовой выборке:\t\t6510.765801431719\n"
     ]
    },
    {
     "data": {
      "text/plain": [
       "(4808.765338313985, 6510.765801431719)"
      ]
     },
     "execution_count": 55,
     "metadata": {},
     "output_type": "execute_result"
    }
   ],
   "source": [
    "evaluate_alg(X_train, X_test, y_train, y_test, n_trees=10, max_depth=5, eta=0.1)"
   ]
  },
  {
   "cell_type": "markdown",
   "metadata": {},
   "source": [
    "## Задание 1. Для реализованной в методичке модели градиентного бустинга построить графики зависимости ошибки от количества деревьев в ансамбле и от максимальной глубины деревьев. Сделать выводы о зависимости ошибки от этих параметров."
   ]
  },
  {
   "cell_type": "code",
   "execution_count": 72,
   "metadata": {},
   "outputs": [
    {
     "name": "stdout",
     "output_type": "stream",
     "text": [
      "Ошибка алгоритма из 1 деревьев глубиной 3 с шагом 0.1\n",
      "на тренировочной выборке:\t24039.895528906738\n",
      "на тестовой выборке:\t\t24413.129701802198\n",
      "Ошибка алгоритма из 2 деревьев глубиной 3 с шагом 0.1\n",
      "на тренировочной выборке:\t20015.47851604497\n",
      "на тестовой выборке:\t\t20509.297006888217\n",
      "Ошибка алгоритма из 3 деревьев глубиной 3 с шагом 0.1\n",
      "на тренировочной выборке:\t16727.861969434092\n",
      "на тестовой выборке:\t\t17367.048420743762\n",
      "Ошибка алгоритма из 4 деревьев глубиной 3 с шагом 0.1\n",
      "на тренировочной выборке:\t14068.729146787773\n",
      "на тестовой выборке:\t\t14765.235477734626\n",
      "Ошибка алгоритма из 5 деревьев глубиной 3 с шагом 0.1\n",
      "на тренировочной выборке:\t11880.348070966038\n",
      "на тестовой выборке:\t\t12681.547464178186\n",
      "Ошибка алгоритма из 6 деревьев глубиной 3 с шагом 0.1\n",
      "на тренировочной выборке:\t10120.01876734303\n",
      "на тестовой выборке:\t\t10948.78544992662\n",
      "Ошибка алгоритма из 7 деревьев глубиной 3 с шагом 0.1\n",
      "на тренировочной выборке:\t8655.000710170483\n",
      "на тестовой выборке:\t\t9581.310691455006\n",
      "Ошибка алгоритма из 8 деревьев глубиной 3 с шагом 0.1\n",
      "на тренировочной выборке:\t7480.470318387202\n",
      "на тестовой выборке:\t\t8400.380863843116\n",
      "Ошибка алгоритма из 9 деревьев глубиной 3 с шагом 0.1\n",
      "на тренировочной выборке:\t6500.492388370149\n",
      "на тестовой выборке:\t\t7480.914846784235\n",
      "Ошибка алгоритма из 10 деревьев глубиной 3 с шагом 0.1\n",
      "на тренировочной выборке:\t5697.4279600548925\n",
      "на тестовой выборке:\t\t6635.233394631666\n",
      "Ошибка алгоритма из 11 деревьев глубиной 3 с шагом 0.1\n",
      "на тренировочной выборке:\t5041.92813692529\n",
      "на тестовой выборке:\t\t5959.232982071219\n",
      "Ошибка алгоритма из 12 деревьев глубиной 3 с шагом 0.1\n",
      "на тренировочной выборке:\t4497.323428356472\n",
      "на тестовой выборке:\t\t5390.965307996725\n",
      "Ошибка алгоритма из 13 деревьев глубиной 3 с шагом 0.1\n",
      "на тренировочной выборке:\t4058.220561097228\n",
      "на тестовой выборке:\t\t4928.396665787271\n",
      "Ошибка алгоритма из 14 деревьев глубиной 3 с шагом 0.1\n",
      "на тренировочной выборке:\t3699.5109357941406\n",
      "на тестовой выборке:\t\t4549.366412513399\n",
      "Ошибка алгоритма из 15 деревьев глубиной 3 с шагом 0.1\n",
      "на тренировочной выборке:\t3378.7776393859585\n",
      "на тестовой выборке:\t\t4268.70290304035\n",
      "Ошибка алгоритма из 16 деревьев глубиной 3 с шагом 0.1\n",
      "на тренировочной выборке:\t3120.266533421847\n",
      "на тестовой выборке:\t\t4062.9228087460046\n",
      "Ошибка алгоритма из 17 деревьев глубиной 3 с шагом 0.1\n",
      "на тренировочной выборке:\t2898.9270500259354\n",
      "на тестовой выборке:\t\t3879.80742770945\n",
      "Ошибка алгоритма из 18 деревьев глубиной 3 с шагом 0.1\n",
      "на тренировочной выборке:\t2710.261869129684\n",
      "на тестовой выборке:\t\t3685.7981598330093\n",
      "Ошибка алгоритма из 19 деревьев глубиной 3 с шагом 0.1\n",
      "на тренировочной выборке:\t2561.0869654239004\n",
      "на тестовой выборке:\t\t3546.8378105264183\n",
      "Ошибка алгоритма из 20 деревьев глубиной 3 с шагом 0.1\n",
      "на тренировочной выборке:\t2421.13666150959\n",
      "на тестовой выборке:\t\t3414.4310187913165\n",
      "Ошибка алгоритма из 21 деревьев глубиной 3 с шагом 0.1\n",
      "на тренировочной выборке:\t2313.109020477657\n",
      "на тестовой выборке:\t\t3319.891276275034\n",
      "Ошибка алгоритма из 22 деревьев глубиной 3 с шагом 0.1\n",
      "на тренировочной выборке:\t2209.9228537252\n",
      "на тестовой выборке:\t\t3228.187226563055\n",
      "Ошибка алгоритма из 23 деревьев глубиной 3 с шагом 0.1\n",
      "на тренировочной выборке:\t2125.7516439627616\n",
      "на тестовой выборке:\t\t3159.990204597603\n",
      "Ошибка алгоритма из 24 деревьев глубиной 3 с шагом 0.1\n",
      "на тренировочной выборке:\t2058.2502398414463\n",
      "на тестовой выборке:\t\t3101.9856872347013\n",
      "Ошибка алгоритма из 25 деревьев глубиной 3 с шагом 0.1\n",
      "на тренировочной выборке:\t1993.7900992286986\n",
      "на тестовой выборке:\t\t3048.397955172701\n",
      "Ошибка алгоритма из 26 деревьев глубиной 3 с шагом 0.1\n",
      "на тренировочной выборке:\t1933.1914454285911\n",
      "на тестовой выборке:\t\t3014.7639749327104\n",
      "Ошибка алгоритма из 27 деревьев глубиной 3 с шагом 0.1\n",
      "на тренировочной выборке:\t1882.4031134311945\n",
      "на тестовой выборке:\t\t2976.859293674549\n",
      "Ошибка алгоритма из 28 деревьев глубиной 3 с шагом 0.1\n",
      "на тренировочной выборке:\t1844.4772333351045\n",
      "на тестовой выборке:\t\t2952.8972014220576\n",
      "Ошибка алгоритма из 29 деревьев глубиной 3 с шагом 0.1\n",
      "на тренировочной выборке:\t1805.357674878173\n",
      "на тестовой выборке:\t\t2934.052430828633\n",
      "Ошибка алгоритма из 30 деревьев глубиной 3 с шагом 0.1\n",
      "на тренировочной выборке:\t1764.210060955291\n",
      "на тестовой выборке:\t\t2922.747882480135\n"
     ]
    }
   ],
   "source": [
    "trees_max = 30\n",
    "train_error = np.zeros(trees_max)\n",
    "test_error = np.zeros(trees_max)\n",
    "num_of_trees = np.linspace(1, trees_max, trees_max, dtype=int)\n",
    "for i in num_of_trees:\n",
    "    s1, s2 = evaluate_alg(X_train, X_test, y_train, y_test, n_trees=i, max_depth=3, eta=0.1)\n",
    "    train_error[i-1] = s1\n",
    "    test_error[i-1] = s2"
   ]
  },
  {
   "cell_type": "code",
   "execution_count": 73,
   "metadata": {},
   "outputs": [
    {
     "data": {
      "image/png": "[encoded data removed]",
      "text/plain": [
       "<Figure size 432x288 with 1 Axes>"
      ]
     },
     "metadata": {
      "needs_background": "light"
     },
     "output_type": "display_data"
    }
   ],
   "source": [
    "plt.plot(num_of_trees, train_error, label='Train')\n",
    "plt.plot(num_of_trees, test_error, label=\"Test\")\n",
    "plt.legend()\n",
    "plt.xlabel('Numbers of trees')\n",
    "plt.ylabel('MSE')\n",
    "plt.show()"
   ]
  },
  {
   "cell_type": "code",
   "execution_count": 74,
   "metadata": {},
   "outputs": [
    {
     "name": "stdout",
     "output_type": "stream",
     "text": [
      "Ошибка алгоритма из 15 деревьев глубиной 1 с шагом 0.1\n",
      "на тренировочной выборке:\t4651.288413128997\n",
      "на тестовой выборке:\t\t4537.44005647898\n",
      "Ошибка алгоритма из 15 деревьев глубиной 2 с шагом 0.1\n",
      "на тренировочной выборке:\t3954.9708210055287\n",
      "на тестовой выборке:\t\t4323.315073391774\n",
      "Ошибка алгоритма из 15 деревьев глубиной 3 с шагом 0.1\n",
      "на тренировочной выборке:\t3378.7776393859585\n",
      "на тестовой выборке:\t\t4268.70290304035\n",
      "Ошибка алгоритма из 15 деревьев глубиной 4 с шагом 0.1\n",
      "на тренировочной выборке:\t2848.229333120017\n",
      "на тестовой выборке:\t\t4046.129151289355\n",
      "Ошибка алгоритма из 15 деревьев глубиной 5 с шагом 0.1\n",
      "на тренировочной выборке:\t2398.611961876839\n",
      "на тестовой выборке:\t\t4440.808894807821\n",
      "Ошибка алгоритма из 15 деревьев глубиной 6 с шагом 0.1\n",
      "на тренировочной выборке:\t1890.6566188187185\n",
      "на тестовой выборке:\t\t4518.80412960331\n",
      "Ошибка алгоритма из 15 деревьев глубиной 7 с шагом 0.1\n",
      "на тренировочной выборке:\t1655.4683115050443\n",
      "на тестовой выборке:\t\t4663.164168981887\n",
      "Ошибка алгоритма из 15 деревьев глубиной 8 с шагом 0.1\n",
      "на тренировочной выборке:\t1518.554714483203\n",
      "на тестовой выборке:\t\t4674.383794749563\n",
      "Ошибка алгоритма из 15 деревьев глубиной 9 с шагом 0.1\n",
      "на тренировочной выборке:\t1379.7079987878212\n",
      "на тестовой выборке:\t\t4581.684633119468\n",
      "Ошибка алгоритма из 15 деревьев глубиной 10 с шагом 0.1\n",
      "на тренировочной выборке:\t1299.6882950231857\n",
      "на тестовой выборке:\t\t4521.9679276368815\n"
     ]
    }
   ],
   "source": [
    "max_depth = 10\n",
    "train_error = np.zeros(max_depth)\n",
    "test_error = np.zeros(max_depth)\n",
    "tree_depths = np.linspace(1, max_depth, max_depth, dtype=int)\n",
    "for i in tree_depths:\n",
    "    s1, s2 = evaluate_alg(X_train, X_test, y_train, y_test, n_trees=15, max_depth=i, eta=0.1)\n",
    "    train_error[i-1] = s1\n",
    "    test_error[i-1] = s2"
   ]
  },
  {
   "cell_type": "code",
   "execution_count": 75,
   "metadata": {},
   "outputs": [
    {
     "data": {
      "image/png": "[encoded data removed]",
      "text/plain": [
       "<Figure size 432x288 with 1 Axes>"
      ]
     },
     "metadata": {
      "needs_background": "light"
     },
     "output_type": "display_data"
    }
   ],
   "source": [
    "plt.plot(tree_depths, train_error, label='Train')\n",
    "plt.plot(tree_depths, test_error, label=\"Test\")\n",
    "plt.legend()\n",
    "plt.xlabel('Tree\\'s depth')\n",
    "plt.ylabel('MSE')\n",
    "plt.show()"
   ]
  },
  {
   "cell_type": "markdown",
   "metadata": {},
   "source": [
    "### Для данной выборки оптимальным является глубина дерева = 4 и количество деревьев около 20"
   ]
  },
  {
   "cell_type": "markdown",
   "metadata": {},
   "source": [
    "## Задание 2"
   ]
  },
  {
   "cell_type": "markdown",
   "metadata": {},
   "source": [
    "## Задание 3. "
   ]
  },
  {
   "cell_type": "code",
   "execution_count": 76,
   "metadata": {},
   "outputs": [],
   "source": [
    "class MyGradBoost:\n",
    "\n",
    "    def __init__(self, n_trees=10, max_depth=5, eta=0.1):\n",
    "        self.eta = eta\n",
    "        self.n_trees = n_trees\n",
    "        self.max_depth = max_depth\n",
    "        self.coefs = [1] * self.n_trees\n",
    "        self.trees = None\n",
    "        self.train_errors = None\n",
    "        self.test_errors = None\n",
    "\n",
    "    def fit(self, X_train, X_test, y_train, y_test):\n",
    "\n",
    "        # Деревья будем записывать в список\n",
    "        self.trees = []\n",
    "\n",
    "        # Будем записывать ошибки на обучающей и тестовой выборке на каждой итерации в список\n",
    "        self.train_errors = []\n",
    "        self.test_errors = []\n",
    "\n",
    "        for i in range(self.n_trees):\n",
    "            tree = DecisionTreeRegressor(max_depth=self.max_depth, random_state=42)\n",
    "\n",
    "            # инициализируем бустинг начальным алгоритмом, возвращающим ноль,\n",
    "            # поэтому первый алгоритм просто обучаем на выборке и добавляем в список\n",
    "            if len(self.trees) == 0:\n",
    "                # обучаем первое дерево на обучающей выборке\n",
    "                tree.fit(X_train, y_train)\n",
    "\n",
    "                self.train_errors.append(self.mean_squared_error(y_train, self.predict(X_train)))\n",
    "                self.test_errors.append(self.mean_squared_error(y_test, self.predict(X_test)))\n",
    "            else:\n",
    "                # Получим ответы на текущей композиции\n",
    "                target = self.predict(X_train)\n",
    "\n",
    "                # алгоритмы начиная со второго обучаем на сдвиг\n",
    "                tree.fit(X_train, self.bias(y_train, target))\n",
    "\n",
    "                self.train_errors.append(self.mean_squared_error(y_train, self.predict(X_train)))\n",
    "                self.test_errors.append(self.mean_squared_error(y_test, self.predict(X_test)))\n",
    "\n",
    "            self.trees.append(tree)\n",
    "\n",
    "        if self.trees and self.train_errors and self.test_errors:\n",
    "            return 0\n",
    "        else:\n",
    "            return -1\n",
    "\n",
    "    @staticmethod\n",
    "    def mean_squared_error(y_real, prediction):\n",
    "        return (sum((y_real - prediction) ** 2)) / len(y_real)\n",
    "\n",
    "    @staticmethod\n",
    "    def bias(y, z):\n",
    "        return y - z\n",
    "\n",
    "    def predict(self, X):\n",
    "        # Реализуемый алгоритм градиентного бустинга будет инициализироваться нулевыми значениями,\n",
    "        # поэтому все деревья из списка trees_list уже являются дополнительными и при предсказании\n",
    "        # прибавляются с шагом eta\n",
    "        return np.array(\n",
    "            [sum([self.eta * coef * alg.predict([x])[0] for alg, coef in zip(self.trees, self.coefs)]) for x in X])\n",
    "\n"
   ]
  },
  {
   "cell_type": "code",
   "execution_count": null,
   "metadata": {},
   "outputs": [],
   "source": []
  }
 ],
 "metadata": {
  "kernelspec": {
   "display_name": "Python 3",
   "language": "python",
   "name": "python3"
  },
  "language_info": {
   "codemirror_mode": {
    "name": "ipython",
    "version": 3
   },
   "file_extension": ".py",
   "mimetype": "text/x-python",
   "name": "python",
   "nbconvert_exporter": "python",
   "pygments_lexer": "ipython3",
   "version": "3.7.7"
  }
 },
 "nbformat": 4,
 "nbformat_minor": 4
}
