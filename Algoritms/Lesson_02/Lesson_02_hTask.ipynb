{
 "cells": [
  {
   "cell_type": "markdown",
   "metadata": {},
   "source": [
    "# Author: Стурейко Игорь\n",
    "## Project: Geekbrains.Algorithms\n",
    "## Lesson 02 - Стохастический градиентный спуск, регуляризация\n",
    "## Date: 2020-08-26"
   ]
  },
  {
   "cell_type": "markdown",
   "metadata": {},
   "source": [
    "## Задача 1"
   ]
  },
  {
   "cell_type": "markdown",
   "metadata": {},
   "source": [
    "Сгенерировать датасет при помощи sklearn.datasets.make_regression и обучить линейную модель при помощи градиентного и стохастического градиентного спуска. Нанести среднеквадратичную ошибку для обоих методов на один график, сделать выводы о разнице скорости сходимости каждого из методов."
   ]
  },
  {
   "cell_type": "code",
   "execution_count": 1,
   "metadata": {},
   "outputs": [],
   "source": [
    "# импорт библиотек\n",
    "import numpy as np\n",
    "from matplotlib import pyplot as plt\n",
    "\n",
    "from sklearn import datasets\n",
    "from copy import deepcopy\n",
    "from tqdm import tqdm"
   ]
  },
  {
   "cell_type": "code",
   "execution_count": 2,
   "metadata": {},
   "outputs": [
    {
     "data": {
      "text/plain": [
       "((2, 1000), array(82.19039084))"
      ]
     },
     "execution_count": 2,
     "metadata": {},
     "output_type": "execute_result"
    }
   ],
   "source": [
    "# Подготовка данных\n",
    "X, y, coef = datasets.make_regression(n_samples=1000, n_features=1,\n",
    "                                      n_informative=1, noise=10,\n",
    "                                      coef=True, random_state=0)\n",
    "X = np.vstack([np.ones(X.shape[0]), X.T]) # Добавление единичной строки\n",
    "X.shape, coef"
   ]
  },
  {
   "cell_type": "code",
   "execution_count": 26,
   "metadata": {},
   "outputs": [],
   "source": [
    "def calc_mse(y, y_pred):\n",
    "    \"\"\"расчет mse\"\"\"\n",
    "    err = np.mean((y - y_pred)**2)\n",
    "    return err\n",
    "\n",
    "def eval_model(X, y, iterations=10000, alpha=1e-4):\n",
    "    \"\"\"градиентный спуск\"\"\"\n",
    "    err = np.zeros(iterations)\n",
    "    W = np.random.randn(X.shape[0])\n",
    "    n = X.shape[1]\n",
    "    for i in range(1, iterations+1):\n",
    "        y_pred = np.dot(W, X)\n",
    "        err[i-1] = calc_mse(y, y_pred)\n",
    "        W -= (alpha * (1/n * 2 * np.dot((y_pred - y), X.T)))\n",
    "        if i % (iterations / 10) == 0:\n",
    "            print(i, W, err[i-1])\n",
    "    return W, err\n",
    "\n",
    "def eval_sgd_model(X, y, iterations=1000, qty_in_batch=1, alpha=1e-4):\n",
    "    \"\"\"стохастический градиентный спуск\"\"\"\n",
    "    W = np.random.randn(X.shape[0])\n",
    "    n = X.shape[1]\n",
    "    n_batch = n // qty_in_batch\n",
    "    err = np.zeros(iterations)\n",
    "    if n % qty_in_batch != 0:\n",
    "        n_batch += 1\n",
    "    for i in  tqdm(range(1, iterations+1)):\n",
    "        for b in range(n_batch):\n",
    "            start_ = qty_in_batch*b\n",
    "            end_ = qty_in_batch*(b+1)\n",
    "            X_tmp = X[:, start_ : end_]\n",
    "            y_tmp = y[start_ : end_]\n",
    "            y_pred_tmp = np.dot(W, X_tmp)\n",
    "            err[i-1] = calc_mse(y_tmp, y_pred_tmp)\n",
    "            W -= (alpha * (1/n * 2 * np.dot((y_pred_tmp - y_tmp), X_tmp.T)))\n",
    "\n",
    "    if i % (iterations / 10) == 0:\n",
    "        print(i, W, err[i-1])\n",
    "    return W, err"
   ]
  },
  {
   "cell_type": "code",
   "execution_count": 27,
   "metadata": {},
   "outputs": [],
   "source": [
    "iterations=1000"
   ]
  },
  {
   "cell_type": "code",
   "execution_count": 30,
   "metadata": {
    "scrolled": true
   },
   "outputs": [
    {
     "name": "stdout",
     "output_type": "stream",
     "text": [
      "100 [-0.23690358 14.18005834] 4621.173384935379\n",
      "200 [-0.65265152 26.23771935] 3156.600646058323\n",
      "300 [-0.90325495 36.15205216] 2166.9779190449026\n",
      "400 [-1.03462078 44.3047264 ] 1498.0570915448457\n",
      "500 [-1.08148819 51.0093237 ] 1045.7587902885048\n",
      "600 [-1.06996115 56.52350647] 739.8308623719067\n",
      "700 [-1.01949094 61.05900778] 532.8377521523228\n",
      "800 [-0.94442477 64.78983336] 392.73913863047517\n",
      "900 [-0.8552124  67.85899615] 297.8860503145306\n",
      "1000 [-0.75934375 70.38404654] 233.64579758340145\n"
     ]
    }
   ],
   "source": [
    "W_g, err_g = eval_model(X, y,iterations=iterations, alpha=1e-3)"
   ]
  },
  {
   "cell_type": "code",
   "execution_count": 11,
   "metadata": {},
   "outputs": [
    {
     "name": "stderr",
     "output_type": "stream",
     "text": [
      "100%|██████████| 1000/1000 [00:13<00:00, 74.20it/s]\n"
     ]
    },
    {
     "name": "stdout",
     "output_type": "stream",
     "text": [
      "1000 [-0.83590366 70.32098817] 34.766775492293284\n"
     ]
    }
   ],
   "source": [
    "W_gb, err_gb = eval_sgd_model(X, y, alpha=1e-3)"
   ]
  },
  {
   "cell_type": "code",
   "execution_count": 31,
   "metadata": {},
   "outputs": [
    {
     "data": {
      "image/png": "[encoded data removed]",
      "text/plain": [
       "<Figure size 432x288 with 1 Axes>"
      ]
     },
     "metadata": {
      "needs_background": "light"
     },
     "output_type": "display_data"
    }
   ],
   "source": [
    "x = np.arange(iterations)\n",
    "plt.plot(x, err_g, label=\"Градиентный спуск\")\n",
    "plt.plot(x, err_gb, label=\"Стохастический градиентный спуск\")\n",
    "plt.ylabel(\"mse\")\n",
    "plt.legend()\n",
    "plt.show()"
   ]
  },
  {
   "cell_type": "markdown",
   "metadata": {},
   "source": [
    "## Задача 2"
   ]
  },
  {
   "cell_type": "markdown",
   "metadata": {},
   "source": [
    "Модифицировать решение первого задания путем добавления  $L_2$ -регуляризации (в функцию, считающую MSE, нужно добавить норму вектора весов) и сравнить результаты."
   ]
  },
  {
   "cell_type": "code",
   "execution_count": 38,
   "metadata": {},
   "outputs": [],
   "source": [
    "def calc_mse(y, y_pred):\n",
    "    \"\"\"расчет mse\"\"\"\n",
    "    err = np.mean((y - y_pred)**2)\n",
    "    return err\n",
    "\n",
    "def eval_model_reg2(X, y, iterations, alpha=1e-4, lambda_=1e-8):\n",
    "    np.random.seed(42)\n",
    "    W = np.random.randn(X.shape[0])\n",
    "    n = X.shape[1]\n",
    "    err = np.zeros(iterations)\n",
    "    for i in range(1, iterations+1):\n",
    "        y_pred = np.dot(W, X)\n",
    "        err[i-1] = calc_mse(y, y_pred)\n",
    "        W -= alpha * (1/n * 2 * np.dot((y_pred - y), X.T) + lambda_ * W**2) \n",
    "    if i % (iterations / 10) == 0:\n",
    "        print(i, W, err[i-1])\n",
    "    return W, err"
   ]
  },
  {
   "cell_type": "code",
   "execution_count": 36,
   "metadata": {},
   "outputs": [
    {
     "name": "stdout",
     "output_type": "stream",
     "text": [
      "1000 [-0.74244673 70.43457579] 232.47320897522653\n"
     ]
    }
   ],
   "source": [
    "W_gv, err_gv = eval_model_reg2(X, y,iterations=iterations, alpha=1e-3)"
   ]
  },
  {
   "cell_type": "code",
   "execution_count": 37,
   "metadata": {},
   "outputs": [
    {
     "data": {
      "image/png": "[encoded data removed]",
      "text/plain": [
       "<Figure size 432x288 with 1 Axes>"
      ]
     },
     "metadata": {
      "needs_background": "light"
     },
     "output_type": "display_data"
    }
   ],
   "source": [
    "x = np.arange(iterations)\n",
    "plt.plot(x, err_g, label=\"Градиентный спуск\")\n",
    "plt.plot(x, err_gb, label=\"Стохастический градиентный спуск\")\n",
    "plt.plot(x, err_gv)\n",
    "plt.ylabel(\"mse\")\n",
    "plt.legend()\n",
    "plt.show()"
   ]
  },
  {
   "cell_type": "code",
   "execution_count": null,
   "metadata": {},
   "outputs": [],
   "source": []
  }
 ],
 "metadata": {
  "kernelspec": {
   "display_name": "Python 3",
   "language": "python",
   "name": "python3"
  },
  "language_info": {
   "codemirror_mode": {
    "name": "ipython",
    "version": 3
   },
   "file_extension": ".py",
   "mimetype": "text/x-python",
   "name": "python",
   "nbconvert_exporter": "python",
   "pygments_lexer": "ipython3",
   "version": "3.7.0"
  }
 },
 "nbformat": 4,
 "nbformat_minor": 2
}
