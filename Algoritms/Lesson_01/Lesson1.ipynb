{
 "cells": [
  {
   "cell_type": "markdown",
   "metadata": {},
   "source": [
    "__Машинное обучение:__\n",
    "* Обучение с учителем\n",
    " * Регрессии -> прогнозирование вещественного значения (стоимость недвижимости, цена акций, возраст клиента)\n",
    " * Классификации -> прогнозирование к какой группе относится объект ()\n",
    "  * Алгоритмы: дерево решений, линейная регрессия, логистическая регрессия, ...\n",
    "\n",
    "* Обучение без учителя\n",
    " * Кластеризация -> одинаковые объекты в одной группе, разные объекты - в разных\n",
    " * Снижение размерности -> для обучения модели (n - большая, m - более маленькая)\n",
    " * Визуализация многомерных данных -> двумерное / трехмерное пространство"
   ]
  },
  {
   "cell_type": "code",
   "execution_count": 1,
   "metadata": {
    "colab": {},
    "colab_type": "code",
    "id": "ak8b3KV45kVW"
   },
   "outputs": [],
   "source": [
    "import numpy as np\n",
    "import matplotlib.pyplot as plt"
   ]
  },
  {
   "cell_type": "code",
   "execution_count": 2,
   "metadata": {
    "colab": {},
    "colab_type": "code",
    "id": "VsNrKi1Q6Wmh"
   },
   "outputs": [],
   "source": [
    "y = [45, 55, 50, 59, 65, 35, 75, 80, 50, 60]"
   ]
  },
  {
   "cell_type": "code",
   "execution_count": 3,
   "metadata": {
    "colab": {},
    "colab_type": "code",
    "id": "i77tZbAd5plB"
   },
   "outputs": [
    {
     "data": {
      "text/plain": [
       "(2, 10)"
      ]
     },
     "execution_count": 3,
     "metadata": {},
     "output_type": "execute_result"
    }
   ],
   "source": [
    "# y = k*x + b\n",
    "# y = k_1*x_1 + k_2*x_2 + ... + b\n",
    "\n",
    "X = np.array([[1, 1, 1, 1, 1, 1, 1, 1, 1, 1],\n",
    "              [1, 1, 2, 1, 3, 0, 5, 10, 1, 2]])\n",
    "X.shape"
   ]
  },
  {
   "cell_type": "code",
   "execution_count": 4,
   "metadata": {
    "colab": {
     "base_uri": "https://localhost:8080/",
     "height": 283
    },
    "colab_type": "code",
    "id": "ejifaMBe6VaP",
    "outputId": "94237fe1-8d09-4e23-d7de-dac42b8d13e6"
   },
   "outputs": [
    {
     "data": {
      "text/plain": [
       "<matplotlib.legend.Legend at 0x117e96f10>"
      ]
     },
     "execution_count": 4,
     "metadata": {},
     "output_type": "execute_result"
    },
    {
     "data": {
      "image/png": "[encoded data removed]",
      "text/plain": [
       "<Figure size 432x288 with 1 Axes>"
      ]
     },
     "metadata": {
      "needs_background": "light"
     },
     "output_type": "display_data"
    }
   ],
   "source": [
    "a = 8\n",
    "b = 35\n",
    "plt.scatter(X[1,:], y)\n",
    "# y = a*x + b #\n",
    "plt.plot(X[1, :], a*X[1, :] + b, label=\"model_1\")\n",
    "plt.plot(X[1, :], 4*X[1, :] + 45, label=\"model_2\")\n",
    "plt.legend(loc=\"best\")"
   ]
  },
  {
   "cell_type": "code",
   "execution_count": 5,
   "metadata": {
    "colab": {
     "base_uri": "https://localhost:8080/",
     "height": 283
    },
    "colab_type": "code",
    "id": "OTikrodr6n-i",
    "outputId": "3e8a4b8e-6cfe-49eb-8963-2bf9170f9a49"
   },
   "outputs": [
    {
     "data": {
      "text/plain": [
       "[<matplotlib.lines.Line2D at 0x118901ed0>]"
      ]
     },
     "execution_count": 5,
     "metadata": {},
     "output_type": "execute_result"
    },
    {
     "data": {
      "image/png": "[encoded data removed]",
      "text/plain": [
       "<Figure size 432x288 with 1 Axes>"
      ]
     },
     "metadata": {
      "needs_background": "light"
     },
     "output_type": "display_data"
    }
   ],
   "source": [
    "plt.scatter(X[1], y)\n",
    "plt.plot(X[1], 35*X[0] + X[1]*5)\n",
    "plt.plot(X[1], 40*X[0] + X[1]*7.5)\n",
    "\n",
    "# mse - mean squared error\n",
    "# mae - mean absolute error"
   ]
  },
  {
   "cell_type": "code",
   "execution_count": 6,
   "metadata": {
    "colab": {},
    "colab_type": "code",
    "id": "NntLxvtU7CbH"
   },
   "outputs": [],
   "source": [
    "y_pred1 = 35*np.ones(10) + X[1]*5\n",
    "y_pred2 = 40*np.ones(10) + X[1]*7.5"
   ]
  },
  {
   "cell_type": "code",
   "execution_count": 7,
   "metadata": {
    "colab": {
     "base_uri": "https://localhost:8080/",
     "height": 34
    },
    "colab_type": "code",
    "id": "XsDNASCq9VBe",
    "outputId": "b5350887-7fc5-4cd4-e50c-15b2c7ac0d9e"
   },
   "outputs": [
    {
     "data": {
      "text/plain": [
       "array([40., 40., 45., 40., 50., 35., 60., 85., 40., 45.])"
      ]
     },
     "execution_count": 7,
     "metadata": {},
     "output_type": "execute_result"
    }
   ],
   "source": [
    "y_pred1"
   ]
  },
  {
   "cell_type": "code",
   "execution_count": 8,
   "metadata": {
    "colab": {
     "base_uri": "https://localhost:8080/",
     "height": 52
    },
    "colab_type": "code",
    "id": "R8zyO-Qfs51Z",
    "outputId": "9eb1cff7-fe54-461d-a332-5603259f6377"
   },
   "outputs": [
    {
     "data": {
      "text/plain": [
       "array([ 47.5,  47.5,  55. ,  47.5,  62.5,  40. ,  77.5, 115. ,  47.5,\n",
       "        55. ])"
      ]
     },
     "execution_count": 8,
     "metadata": {},
     "output_type": "execute_result"
    }
   ],
   "source": [
    "y_pred2"
   ]
  },
  {
   "cell_type": "code",
   "execution_count": 9,
   "metadata": {
    "colab": {
     "base_uri": "https://localhost:8080/",
     "height": 283
    },
    "colab_type": "code",
    "id": "kbQbHKlas_3u",
    "outputId": "4a04f1ee-8152-4259-ebf8-991d50f47278"
   },
   "outputs": [
    {
     "data": {
      "text/plain": [
       "[<matplotlib.lines.Line2D at 0x118a86410>]"
      ]
     },
     "execution_count": 9,
     "metadata": {},
     "output_type": "execute_result"
    },
    {
     "data": {
      "image/png": "[encoded data removed]",
      "text/plain": [
       "<Figure size 432x288 with 1 Axes>"
      ]
     },
     "metadata": {
      "needs_background": "light"
     },
     "output_type": "display_data"
    }
   ],
   "source": [
    "plt.scatter(X[1], y)\n",
    "plt.plot(X[1], y_pred1)\n",
    "plt.plot(X[1], y_pred2)"
   ]
  },
  {
   "cell_type": "code",
   "execution_count": 10,
   "metadata": {},
   "outputs": [],
   "source": [
    "from sklearn.metrics import mean_absolute_error as mae\n",
    "from sklearn.metrics import mean_squared_error as mse"
   ]
  },
  {
   "cell_type": "code",
   "execution_count": 11,
   "metadata": {
    "colab": {},
    "colab_type": "code",
    "id": "zbsqjAxH9WqI"
   },
   "outputs": [],
   "source": [
    "err1 = np.mean(y - y_pred1)\n",
    "err2 = np.mean(y - y_pred2)"
   ]
  },
  {
   "cell_type": "code",
   "execution_count": 12,
   "metadata": {},
   "outputs": [
    {
     "data": {
      "text/plain": [
       "0.268"
      ]
     },
     "execution_count": 12,
     "metadata": {},
     "output_type": "execute_result"
    }
   ],
   "source": [
    "y_pred_example = np.array([0.9, 2.5, 2.8, 5, 4.8])\n",
    "y_true_example = np.array([1, 2, 3, 4, 5])\n",
    "\n",
    "np.mean(np.square(y_pred_example - y_true_example))"
   ]
  },
  {
   "cell_type": "code",
   "execution_count": 13,
   "metadata": {
    "colab": {
     "base_uri": "https://localhost:8080/",
     "height": 34
    },
    "colab_type": "code",
    "id": "Axgh3H5y9dgg",
    "outputId": "a8c6f684-c837-4172-b133-9898c83e9422"
   },
   "outputs": [
    {
     "data": {
      "text/plain": [
       "(9.4, -2.1)"
      ]
     },
     "execution_count": 13,
     "metadata": {},
     "output_type": "execute_result"
    }
   ],
   "source": [
    "err1, err2"
   ]
  },
  {
   "cell_type": "code",
   "execution_count": 14,
   "metadata": {
    "colab": {},
    "colab_type": "code",
    "id": "vUqCthPf9eYI"
   },
   "outputs": [],
   "source": [
    "mae_1 = np.mean(np.abs(y - y_pred1))\n",
    "mae_2 = np.mean(np.abs(y - y_pred2))"
   ]
  },
  {
   "cell_type": "code",
   "execution_count": 15,
   "metadata": {
    "colab": {
     "base_uri": "https://localhost:8080/",
     "height": 34
    },
    "colab_type": "code",
    "id": "AmiioF1Y_CUu",
    "outputId": "afdeb841-c205-448a-ccd2-4f92a8325e7e"
   },
   "outputs": [
    {
     "data": {
      "text/plain": [
       "(10.4, 7.9)"
      ]
     },
     "execution_count": 15,
     "metadata": {},
     "output_type": "execute_result"
    }
   ],
   "source": [
    "mae_1, mae_2"
   ]
  },
  {
   "cell_type": "code",
   "execution_count": 16,
   "metadata": {
    "colab": {},
    "colab_type": "code",
    "id": "XTn2bZIg_EBS"
   },
   "outputs": [],
   "source": [
    "mse_1 = np.mean((y - y_pred1)**2)\n",
    "mse_2 = np.mean((y - y_pred2)**2)"
   ]
  },
  {
   "cell_type": "code",
   "execution_count": 17,
   "metadata": {
    "colab": {
     "base_uri": "https://localhost:8080/",
     "height": 34
    },
    "colab_type": "code",
    "id": "IB1ltZNE_gCI",
    "outputId": "38c4c158-6e58-43fd-8186-5ac2e0bd24d9"
   },
   "outputs": [
    {
     "data": {
      "text/plain": [
       "(143.6, 151.35)"
      ]
     },
     "execution_count": 17,
     "metadata": {},
     "output_type": "execute_result"
    }
   ],
   "source": [
    "mse_1, mse_2"
   ]
  },
  {
   "cell_type": "markdown",
   "metadata": {},
   "source": [
    "__Вывод__:\n",
    "* MSE - если есть выбросы, и они для вас важны (важны при использовании модели)\n",
    "* MAE - если выбросы не важны, модель должна работать хорошо на большинстве объектов"
   ]
  },
  {
   "cell_type": "markdown",
   "metadata": {
    "colab_type": "text",
    "id": "R4zHyZ2Da5HV"
   },
   "source": [
    "Метод наименьших квадратов"
   ]
  },
  {
   "cell_type": "code",
   "execution_count": 18,
   "metadata": {
    "colab": {
     "base_uri": "https://localhost:8080/",
     "height": 34
    },
    "colab_type": "code",
    "id": "GEeiext0BR1m",
    "outputId": "0decd1d1-384b-45ab-c63a-87013abc78eb"
   },
   "outputs": [
    {
     "data": {
      "text/plain": [
       "(2, 10)"
      ]
     },
     "execution_count": 18,
     "metadata": {},
     "output_type": "execute_result"
    }
   ],
   "source": [
    "X.shape"
   ]
  },
  {
   "cell_type": "code",
   "execution_count": 19,
   "metadata": {
    "colab": {
     "base_uri": "https://localhost:8080/",
     "height": 34
    },
    "colab_type": "code",
    "id": "j1BN1FZHBVo8",
    "outputId": "00ffcab8-b938-431f-cf87-68ef099c7bc1"
   },
   "outputs": [
    {
     "data": {
      "text/plain": [
       "(10, 2)"
      ]
     },
     "execution_count": 19,
     "metadata": {},
     "output_type": "execute_result"
    }
   ],
   "source": [
    "X.T.shape"
   ]
  },
  {
   "cell_type": "code",
   "execution_count": 20,
   "metadata": {},
   "outputs": [],
   "source": [
    "# X = 1e6 x 1e5"
   ]
  },
  {
   "cell_type": "code",
   "execution_count": 21,
   "metadata": {
    "colab": {
     "base_uri": "https://localhost:8080/",
     "height": 34
    },
    "colab_type": "code",
    "id": "mnyZzkaDBegD",
    "outputId": "368800a6-deef-46d0-b27f-d6eb5e46a743"
   },
   "outputs": [
    {
     "data": {
      "text/plain": [
       "array([47.23214286,  3.91071429])"
      ]
     },
     "execution_count": 21,
     "metadata": {},
     "output_type": "execute_result"
    }
   ],
   "source": [
    "# только для MSE\n",
    "# ~ d**3\n",
    "W = np.linalg.inv(X @ X.T) @ X @ y\n",
    "W"
   ]
  },
  {
   "cell_type": "code",
   "execution_count": 22,
   "metadata": {},
   "outputs": [],
   "source": [
    "# наблюдения, параметры, МНК: наблюдений >> параметров\n",
    "# наблюдений << параметров. Пример: "
   ]
  },
  {
   "cell_type": "code",
   "execution_count": 23,
   "metadata": {
    "colab": {
     "base_uri": "https://localhost:8080/",
     "height": 282
    },
    "colab_type": "code",
    "id": "Lyg-J3H7Bnv5",
    "outputId": "7701dd28-d123-4773-cd1f-1439abfb6d90"
   },
   "outputs": [
    {
     "data": {
      "text/plain": [
       "<matplotlib.legend.Legend at 0x1a1b41da50>"
      ]
     },
     "execution_count": 23,
     "metadata": {},
     "output_type": "execute_result"
    },
    {
     "data": {
      "image/png": "[encoded data removed]",
      "text/plain": [
       "<Figure size 432x288 with 1 Axes>"
      ]
     },
     "metadata": {
      "needs_background": "light"
     },
     "output_type": "display_data"
    }
   ],
   "source": [
    "plt.scatter(X[1], y)\n",
    "plt.plot(X[1], 35*np.ones(10) + X[1]*8, label=\"model_1\")\n",
    "plt.plot(X[1], 40*np.ones(10) + X[1]*7.5, label=\"model_2\")\n",
    "plt.plot(X[1], W[0] + W[1] * X[1], label=\"norm\")\n",
    "plt.legend()"
   ]
  },
  {
   "cell_type": "code",
   "execution_count": 24,
   "metadata": {
    "colab": {},
    "colab_type": "code",
    "id": "JTSC2cFnCd8T"
   },
   "outputs": [],
   "source": [
    "def calc_mse(y, y_pred):\n",
    "    err = np.mean((y - y_pred)**2)\n",
    "    return err"
   ]
  },
  {
   "cell_type": "code",
   "execution_count": 25,
   "metadata": {
    "colab": {
     "base_uri": "https://localhost:8080/",
     "height": 34
    },
    "colab_type": "code",
    "id": "MYSrwISJDGfS",
    "outputId": "891bfd3a-142c-466c-a9d9-7ebfb303e86c"
   },
   "outputs": [
    {
     "data": {
      "text/plain": [
       "143.6"
      ]
     },
     "execution_count": 25,
     "metadata": {},
     "output_type": "execute_result"
    }
   ],
   "source": [
    "calc_mse(y, y_pred1)"
   ]
  },
  {
   "cell_type": "code",
   "execution_count": 26,
   "metadata": {
    "colab": {},
    "colab_type": "code",
    "id": "BoU7Rm_1DPQq"
   },
   "outputs": [],
   "source": [
    "def calc_mae(y, y_pred):\n",
    "    err = np.mean(np.abs(y - y_pred))\n",
    "    return err"
   ]
  },
  {
   "cell_type": "code",
   "execution_count": 27,
   "metadata": {
    "colab": {
     "base_uri": "https://localhost:8080/",
     "height": 34
    },
    "colab_type": "code",
    "id": "AaE_x_nCDW3x",
    "outputId": "74189131-5508-4ba0-a346-42b2ba6ef418"
   },
   "outputs": [
    {
     "data": {
      "text/plain": [
       "10.4"
      ]
     },
     "execution_count": 27,
     "metadata": {},
     "output_type": "execute_result"
    }
   ],
   "source": [
    "calc_mae(y, y_pred1)"
   ]
  },
  {
   "cell_type": "code",
   "execution_count": 28,
   "metadata": {
    "colab": {
     "base_uri": "https://localhost:8080/",
     "height": 50
    },
    "colab_type": "code",
    "id": "Yxo6vu3NDaTC",
    "outputId": "7e152226-fe88-4e14-ebee-1501abb61966"
   },
   "outputs": [
    {
     "data": {
      "text/plain": [
       "array([51.14285714, 51.14285714, 55.05357143, 51.14285714, 58.96428571,\n",
       "       47.23214286, 66.78571429, 86.33928571, 51.14285714, 55.05357143])"
      ]
     },
     "execution_count": 28,
     "metadata": {},
     "output_type": "execute_result"
    }
   ],
   "source": [
    "y_pred3 = W[0] + W[1] * X[1]\n",
    "y_pred3"
   ]
  },
  {
   "cell_type": "code",
   "execution_count": 29,
   "metadata": {
    "colab": {
     "base_uri": "https://localhost:8080/",
     "height": 34
    },
    "colab_type": "code",
    "id": "_WtO6lvhDmQ6",
    "outputId": "8de8b895-85d8-448e-f565-b70e93a5dd25"
   },
   "outputs": [
    {
     "data": {
      "text/plain": [
       "6.777720855862979"
      ]
     },
     "execution_count": 29,
     "metadata": {},
     "output_type": "execute_result"
    }
   ],
   "source": [
    "# RMSE - root mean squared error\n",
    "np.sqrt(calc_mse(y, y_pred3))"
   ]
  },
  {
   "cell_type": "code",
   "execution_count": 30,
   "metadata": {
    "colab": {
     "base_uri": "https://localhost:8080/",
     "height": 34
    },
    "colab_type": "code",
    "id": "ul3IEwWlDp-e",
    "outputId": "7567da7c-ce56-4eaa-8c90-9979ca755b4d"
   },
   "outputs": [
    {
     "data": {
      "text/plain": [
       "6.182142857142858"
      ]
     },
     "execution_count": 30,
     "metadata": {},
     "output_type": "execute_result"
    }
   ],
   "source": [
    "calc_mae(y, y_pred3)"
   ]
  },
  {
   "cell_type": "code",
   "execution_count": 31,
   "metadata": {},
   "outputs": [],
   "source": [
    "mse_old = 10.32\n",
    "mse_new = 10.3199999\n",
    "\n",
    "delta = 0.1"
   ]
  },
  {
   "cell_type": "markdown",
   "metadata": {
    "colab_type": "text",
    "id": "JAOgIXLRa--g"
   },
   "source": [
    "Градиентный спуск"
   ]
  },
  {
   "cell_type": "code",
   "execution_count": 34,
   "metadata": {
    "colab": {},
    "colab_type": "code",
    "id": "m4knIDey0s5q"
   },
   "outputs": [],
   "source": [
    "# np.mean(y_pred - y)**2\n",
    "# np.mean(w*x - y)**2\n",
    "# np.sum(w*x - y)**2 / n\n",
    "# 1/n * np.sum((w*x - y)**2)\n",
    "# (w*x - y)**2\n",
    "\n",
    "# 2*z\n",
    "\n",
    "# 2*x*(w*x - y)\n",
    "# 2*(w*x - y)"
   ]
  },
  {
   "cell_type": "code",
   "execution_count": 35,
   "metadata": {
    "colab": {},
    "colab_type": "code",
    "id": "DNebwUP7Fd8F"
   },
   "outputs": [],
   "source": [
    "n = 10\n",
    "f = 1/n * np.sum((W[0] * X[0] - y)**2)"
   ]
  },
  {
   "cell_type": "code",
   "execution_count": 36,
   "metadata": {
    "colab": {},
    "colab_type": "code",
    "id": "5DKkvmkwHdOx"
   },
   "outputs": [],
   "source": [
    "alpha = 1e-8\n",
    "g = alpha * (1/n * 2 * np.sum(X[0] * (W[0] * X[0] - y)))"
   ]
  },
  {
   "cell_type": "code",
   "execution_count": 37,
   "metadata": {
    "colab": {
     "base_uri": "https://localhost:8080/",
     "height": 34
    },
    "colab_type": "code",
    "id": "ZVRCF5P2MYI6",
    "outputId": "0b0e2f05-a23c-4bf8-f37d-b4240d2e0af0"
   },
   "outputs": [
    {
     "data": {
      "text/plain": [
       "47.232143060499986"
      ]
     },
     "execution_count": 37,
     "metadata": {},
     "output_type": "execute_result"
    }
   ],
   "source": [
    "W[0] - g"
   ]
  },
  {
   "cell_type": "markdown",
   "metadata": {
    "colab_type": "text",
    "id": "huXrhXQsZTMt"
   },
   "source": [
    "1. Подберите скорость обучения (alpha) и количество итераций:"
   ]
  },
  {
   "cell_type": "code",
   "execution_count": 38,
   "metadata": {
    "colab": {
     "base_uri": "https://localhost:8080/",
     "height": 34
    },
    "colab_type": "code",
    "id": "VEXjDozNHdAo",
    "outputId": "7d12bb79-21b7-43fb-fd8e-d116a2af3bb7"
   },
   "outputs": [
    {
     "data": {
      "text/plain": [
       "(array([1. , 0.5]), 0.0001)"
      ]
     },
     "execution_count": 38,
     "metadata": {},
     "output_type": "execute_result"
    }
   ],
   "source": [
    "n = X.shape[1]\n",
    "alpha = 1e-4\n",
    "W = np.array([1, 0.5])\n",
    "W, alpha"
   ]
  },
  {
   "cell_type": "code",
   "execution_count": 39,
   "metadata": {
    "colab": {
     "base_uri": "https://localhost:8080/",
     "height": 185
    },
    "colab_type": "code",
    "id": "IDB22MQKMYaJ",
    "outputId": "4c03219e-a57c-4583-f439-6699fd0619bb"
   },
   "outputs": [
    {
     "name": "stdout",
     "output_type": "stream",
     "text": [
      "0 [1.01102 0.5    ] 3173.15\n",
      "0 [1.01102 0.534  ] 3173.15\n",
      "100 [2.02168794 3.42791095] 2207.6942101483005\n",
      "100 [2.02168794 3.452835  ] 2207.6942101483005\n",
      "200 [2.88306663 5.57141207] 1670.7027004086372\n",
      "200 [2.88306663 5.58962851] 1670.7027004086372\n",
      "300 [3.63289519 7.1352209 ] 1368.0832412796256\n",
      "300 [3.63289519 7.14848061] 1368.0832412796256\n",
      "400 [4.29908617 8.27068189] 1193.7493344933293\n",
      "400 [4.29908617 8.28027926] 1193.7493344933293\n",
      "500 [4.90228732 9.08968104] 1089.714750358689\n",
      "500 [4.90228732 9.09657298] 1089.714750358689\n",
      "600 [5.45777535 9.6749329 ] 1024.2828984889416\n",
      "600 [5.45777535 9.67982684] 1024.2828984889416\n",
      "700 [ 5.97685612 10.08758579] 980.1260644155933\n",
      "700 [ 5.97685612 10.0910047 ] 980.1260644155933\n",
      "800 [ 6.46789973 10.37284419] 947.770026039189\n",
      "800 [ 6.46789973 10.37517467] 947.770026039189\n",
      "900 [ 6.93710574 10.56412541] 922.0330206910179\n",
      "900 [ 6.93710574 10.56565326] 922.0330206910179\n"
     ]
    }
   ],
   "source": [
    "for i in range(1000):\n",
    "    y_pred = np.dot(W, X)\n",
    "    err = calc_mse(y, y_pred)\n",
    "    for ii in range(W.shape[0]):\n",
    "        W[ii] -= alpha * (1/n * 2 * np.sum(X[ii] * (y_pred - y)))\n",
    "        if i % 100 == 0:\n",
    "            print(i, W, err)"
   ]
  },
  {
   "cell_type": "markdown",
   "metadata": {
    "colab_type": "text",
    "id": "5Qu1o4JhZYwI"
   },
   "source": [
    "*2. В этом коде мы избавляемся от итераций по весам, но тут есть ошибка, исправьте ее:"
   ]
  },
  {
   "cell_type": "code",
   "execution_count": 41,
   "metadata": {},
   "outputs": [],
   "source": [
    "alpha = 1e-3"
   ]
  },
  {
   "cell_type": "code",
   "execution_count": 43,
   "metadata": {
    "colab": {
     "base_uri": "https://localhost:8080/",
     "height": 185
    },
    "colab_type": "code",
    "id": "WZZzDCQLY4pA",
    "outputId": "28f58ade-72f2-4381-809d-2417752d56e4"
   },
   "outputs": [
    {
     "name": "stdout",
     "output_type": "stream",
     "text": [
      "0 [ 8.67855909 11.98006903] 865.2545875405398\n",
      "100 [ 8.67855909 11.98006903] 865.2545875405398\n",
      "200 [ 8.67855909 11.98006903] 865.2545875405398\n",
      "300 [ 8.67855909 11.98006903] 865.2545875405398\n",
      "400 [ 8.67855909 11.98006903] 865.2545875405398\n",
      "500 [ 8.67855909 11.98006903] 865.2545875405398\n",
      "600 [ 8.67855909 11.98006903] 865.2545875405398\n",
      "700 [ 8.67855909 11.98006903] 865.2545875405398\n",
      "800 [ 8.67855909 11.98006903] 865.2545875405398\n",
      "900 [ 8.67855909 11.98006903] 865.2545875405398\n",
      "1000 [ 8.67855909 11.98006903] 865.2545875405398\n",
      "1100 [ 8.67855909 11.98006903] 865.2545875405398\n",
      "1200 [ 8.67855909 11.98006903] 865.2545875405398\n",
      "1300 [ 8.67855909 11.98006903] 865.2545875405398\n",
      "1400 [ 8.67855909 11.98006903] 865.2545875405398\n",
      "1500 [ 8.67855909 11.98006903] 865.2545875405398\n",
      "1600 [ 8.67855909 11.98006903] 865.2545875405398\n",
      "1700 [ 8.67855909 11.98006903] 865.2545875405398\n",
      "1800 [ 8.67855909 11.98006903] 865.2545875405398\n",
      "1900 [ 8.67855909 11.98006903] 865.2545875405398\n",
      "2000 [ 8.67855909 11.98006903] 865.2545875405398\n",
      "2100 [ 8.67855909 11.98006903] 865.2545875405398\n",
      "2200 [ 8.67855909 11.98006903] 865.2545875405398\n",
      "2300 [ 8.67855909 11.98006903] 865.2545875405398\n",
      "2400 [ 8.67855909 11.98006903] 865.2545875405398\n",
      "2500 [ 8.67855909 11.98006903] 865.2545875405398\n",
      "2600 [ 8.67855909 11.98006903] 865.2545875405398\n",
      "2700 [ 8.67855909 11.98006903] 865.2545875405398\n",
      "2800 [ 8.67855909 11.98006903] 865.2545875405398\n",
      "2900 [ 8.67855909 11.98006903] 865.2545875405398\n",
      "3000 [ 8.67855909 11.98006903] 865.2545875405398\n",
      "3100 [ 8.67855909 11.98006903] 865.2545875405398\n",
      "3200 [ 8.67855909 11.98006903] 865.2545875405398\n",
      "3300 [ 8.67855909 11.98006903] 865.2545875405398\n",
      "3400 [ 8.67855909 11.98006903] 865.2545875405398\n",
      "3500 [ 8.67855909 11.98006903] 865.2545875405398\n",
      "3600 [ 8.67855909 11.98006903] 865.2545875405398\n",
      "3700 [ 8.67855909 11.98006903] 865.2545875405398\n",
      "3800 [ 8.67855909 11.98006903] 865.2545875405398\n",
      "3900 [ 8.67855909 11.98006903] 865.2545875405398\n",
      "4000 [ 8.67855909 11.98006903] 865.2545875405398\n",
      "4100 [ 8.67855909 11.98006903] 865.2545875405398\n",
      "4200 [ 8.67855909 11.98006903] 865.2545875405398\n",
      "4300 [ 8.67855909 11.98006903] 865.2545875405398\n",
      "4400 [ 8.67855909 11.98006903] 865.2545875405398\n",
      "4500 [ 8.67855909 11.98006903] 865.2545875405398\n",
      "4600 [ 8.67855909 11.98006903] 865.2545875405398\n",
      "4700 [ 8.67855909 11.98006903] 865.2545875405398\n",
      "4800 [ 8.67855909 11.98006903] 865.2545875405398\n",
      "4900 [ 8.67855909 11.98006903] 865.2545875405398\n",
      "5000 [ 8.67855909 11.98006903] 865.2545875405398\n",
      "5100 [ 8.67855909 11.98006903] 865.2545875405398\n",
      "5200 [ 8.67855909 11.98006903] 865.2545875405398\n",
      "5300 [ 8.67855909 11.98006903] 865.2545875405398\n",
      "5400 [ 8.67855909 11.98006903] 865.2545875405398\n",
      "5500 [ 8.67855909 11.98006903] 865.2545875405398\n",
      "5600 [ 8.67855909 11.98006903] 865.2545875405398\n",
      "5700 [ 8.67855909 11.98006903] 865.2545875405398\n",
      "5800 [ 8.67855909 11.98006903] 865.2545875405398\n",
      "5900 [ 8.67855909 11.98006903] 865.2545875405398\n",
      "6000 [ 8.67855909 11.98006903] 865.2545875405398\n",
      "6100 [ 8.67855909 11.98006903] 865.2545875405398\n",
      "6200 [ 8.67855909 11.98006903] 865.2545875405398\n",
      "6300 [ 8.67855909 11.98006903] 865.2545875405398\n",
      "6400 [ 8.67855909 11.98006903] 865.2545875405398\n",
      "6500 [ 8.67855909 11.98006903] 865.2545875405398\n",
      "6600 [ 8.67855909 11.98006903] 865.2545875405398\n",
      "6700 [ 8.67855909 11.98006903] 865.2545875405398\n",
      "6800 [ 8.67855909 11.98006903] 865.2545875405398\n",
      "6900 [ 8.67855909 11.98006903] 865.2545875405398\n",
      "7000 [ 8.67855909 11.98006903] 865.2545875405398\n",
      "7100 [ 8.67855909 11.98006903] 865.2545875405398\n",
      "7200 [ 8.67855909 11.98006903] 865.2545875405398\n",
      "7300 [ 8.67855909 11.98006903] 865.2545875405398\n",
      "7400 [ 8.67855909 11.98006903] 865.2545875405398\n",
      "7500 [ 8.67855909 11.98006903] 865.2545875405398\n",
      "7600 [ 8.67855909 11.98006903] 865.2545875405398\n",
      "7700 [ 8.67855909 11.98006903] 865.2545875405398\n",
      "7800 [ 8.67855909 11.98006903] 865.2545875405398\n",
      "7900 [ 8.67855909 11.98006903] 865.2545875405398\n",
      "8000 [ 8.67855909 11.98006903] 865.2545875405398\n",
      "8100 [ 8.67855909 11.98006903] 865.2545875405398\n",
      "8200 [ 8.67855909 11.98006903] 865.2545875405398\n",
      "8300 [ 8.67855909 11.98006903] 865.2545875405398\n",
      "8400 [ 8.67855909 11.98006903] 865.2545875405398\n",
      "8500 [ 8.67855909 11.98006903] 865.2545875405398\n",
      "8600 [ 8.67855909 11.98006903] 865.2545875405398\n",
      "8700 [ 8.67855909 11.98006903] 865.2545875405398\n",
      "8800 [ 8.67855909 11.98006903] 865.2545875405398\n",
      "8900 [ 8.67855909 11.98006903] 865.2545875405398\n",
      "9000 [ 8.67855909 11.98006903] 865.2545875405398\n",
      "9100 [ 8.67855909 11.98006903] 865.2545875405398\n",
      "9200 [ 8.67855909 11.98006903] 865.2545875405398\n",
      "9300 [ 8.67855909 11.98006903] 865.2545875405398\n",
      "9400 [ 8.67855909 11.98006903] 865.2545875405398\n",
      "9500 [ 8.67855909 11.98006903] 865.2545875405398\n",
      "9600 [ 8.67855909 11.98006903] 865.2545875405398\n",
      "9700 [ 8.67855909 11.98006903] 865.2545875405398\n",
      "9800 [ 8.67855909 11.98006903] 865.2545875405398\n",
      "9900 [ 8.67855909 11.98006903] 865.2545875405398\n"
     ]
    }
   ],
   "source": [
    "for i in range(10000):\n",
    "    y_pred = np.dot(W, X)\n",
    "    err = calc_mse(y, y_pred)\n",
    "    '''for ii in range(W.shape[0]):\n",
    "    W[ii] -= alpha * (1/n * 2 * np.sum(X[ii] * (y_pred - y)))'''\n",
    "    W -= (alpha * (1/n * 2 * np.sum(X * (y_pred - y))))\n",
    "    if i % 100 == 0:\n",
    "        print(i, W, err)"
   ]
  },
  {
   "cell_type": "code",
   "execution_count": null,
   "metadata": {
    "colab": {},
    "colab_type": "code",
    "id": "kGLyytFgHdco"
   },
   "outputs": [],
   "source": []
  }
 ],
 "metadata": {
  "colab": {
   "collapsed_sections": [],
   "name": "Lesson1.ipynb",
   "provenance": []
  },
  "kernelspec": {
   "display_name": "Python 3",
   "language": "python",
   "name": "python3"
  },
  "language_info": {
   "codemirror_mode": {
    "name": "ipython",
    "version": 3
   },
   "file_extension": ".py",
   "mimetype": "text/x-python",
   "name": "python",
   "nbconvert_exporter": "python",
   "pygments_lexer": "ipython3",
   "version": "3.7.7"
  }
 },
 "nbformat": 4,
 "nbformat_minor": 1
}
