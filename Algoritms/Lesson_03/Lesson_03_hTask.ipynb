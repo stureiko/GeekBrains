{
 "cells": [
  {
   "cell_type": "markdown",
   "metadata": {},
   "source": [
    "# Author: Стурейко Игорь\n",
    "## Project: Geekbrains.Algorithms\n",
    "## Lesson 03 - Логистическая регрессия\n",
    "## Date: 2020-08-31"
   ]
  },
  {
   "cell_type": "code",
   "execution_count": 1,
   "metadata": {},
   "outputs": [],
   "source": [
    "import numpy as np\n",
    "from matplotlib import pyplot as plt\n",
    "from tqdm import tqdm"
   ]
  },
  {
   "cell_type": "markdown",
   "metadata": {},
   "source": [
    "## 1. Измените функцию calc_logloss так, чтобы нули по возможности не попадали в np.log."
   ]
  },
  {
   "cell_type": "code",
   "execution_count": 2,
   "metadata": {},
   "outputs": [],
   "source": [
    "def calc_logloss(y_true: np.array, y_pred: np.array, bound=1e-5)->float:\n",
    "    \"\"\"\n",
    "    Вычисление log-loss\n",
    "    \n",
    "    Parameters\n",
    "    ==============\n",
    "    y_true - вектор правильных ответов\n",
    "    y_pred - вектор прогноза\n",
    "    bound=1e-5 - граница отсечения\n",
    "    \"\"\"\n",
    "    y_pred = y_pred.copy()\n",
    "    y_pred = np.clip(y_pred, a_min=bound, a_max=1-bound)\n",
    "    err = - np.mean(y * np.log(y_pred) + (1.0 - y_true) * np.log(1.0 - y_pred))\n",
    "    return err"
   ]
  },
  {
   "cell_type": "markdown",
   "metadata": {},
   "source": [
    "## 2. Подберите аргументы функции eval_model для логистической регрессии таким образом, чтобы log loss был минимальным."
   ]
  },
  {
   "cell_type": "code",
   "execution_count": 100,
   "metadata": {},
   "outputs": [],
   "source": [
    "def eval_model(X: np.array, y: np.array, iterations=1000, alpha=1e-4, tol=1e-5):\n",
    "    \"\"\"\n",
    "    Вычисление модели логистической регрессии\n",
    "    Parameters:\n",
    "    ------------\n",
    "        X: np.array \n",
    "            Матрица признаков\n",
    "        y: np.array\n",
    "            Вектор ответов\n",
    "        iterations=1000\n",
    "            Количество итераций\n",
    "        alpha=1e-4\n",
    "            Скорость обучения\n",
    "        tol=1e-5\n",
    "            Выход из цикле, если ошибка меняется менее tol\n",
    "    \n",
    "    Returns:\n",
    "    -----------\n",
    "        weights:np.array\n",
    "            Вектор весов модели\n",
    "        errors: np.array\n",
    "            Вектор ошибок по признакам\n",
    "    \"\"\"\n",
    "    np.random.seed(42)\n",
    "    W = np.random.randn(X.shape[0])\n",
    "    n = X.shape[1]\n",
    "    \n",
    "    errors, weights = [], []\n",
    "\n",
    "    for n_iter in range(1, iterations+1):\n",
    "        z = np.dot(W, X)\n",
    "        y_pred = sigmoid(z)\n",
    "        current_error = calc_logloss(y, y_pred)\n",
    "        W -= alpha * (1/n * np.dot((y_pred - y), X.T))\n",
    "        \n",
    "        errors.append(current_error)\n",
    "        weights.append(W)\n",
    "        \n",
    "        # проверяем выход по условию tol\n",
    "        if n_iter > 2 and np.abs(current_error - errors[-2]) < tol:\n",
    "            break\n",
    "    errors = np.array(errors)\n",
    "    weights = np.array(weights[-1])\n",
    "    return weights, errors"
   ]
  },
  {
   "cell_type": "code",
   "execution_count": 101,
   "metadata": {},
   "outputs": [],
   "source": [
    "def calc_std_feat(X: np.array)->np.array:\n",
    "    \"\"\"\n",
    "    Scaling features using standardization\n",
    "    The first sign is const = 1, so does not scale\n",
    "    Parameters:\n",
    "    ----------------\n",
    "    X: np.array \n",
    "        Feature matrix\n",
    "        \n",
    "    Returns:\n",
    "    ----------------\n",
    "        X_trasformed: np.array\n",
    "            Scaled feature matrix\n",
    "    ================================================\n",
    "    \n",
    "    Масштабирование признаков методом стандартизации\n",
    "    Первый признак const=1, поэтому не масштабируется\n",
    "    \n",
    "    Parameters:\n",
    "    ----------------\n",
    "    X: np.array \n",
    "        Матрица признаков\n",
    "        \n",
    "    Returns:\n",
    "    ----------------\n",
    "        X_trasformed: np.array\n",
    "            Масштабированная матрица признаков    \n",
    "    \"\"\"\n",
    "    X_transformed = X[1:,].copy()\n",
    "    X_mean, X_std = X_transformed.mean(axis=1), X_transformed.std(axis=1)\n",
    "    X_mean, X_std = X_mean.reshape(X_transformed.shape[0], 1), X_std.reshape(X_transformed.shape[0], 1)\n",
    "    \n",
    "    X_transformed = (X_transformed - X_mean) / X_std\n",
    "    X_transformed = np.vstack((np.ones(X_transformed.shape[1]), X_transformed))\n",
    "    return X_transformed"
   ]
  },
  {
   "cell_type": "code",
   "execution_count": 102,
   "metadata": {},
   "outputs": [],
   "source": [
    "def sigmoid(z:float)->float:\n",
    "    \"\"\"\n",
    "    Вычисление сигмоид преобразования\n",
    "    \n",
    "    Parameters:\n",
    "    -----------\n",
    "    z: float\n",
    "        вещественное число\n",
    "        \n",
    "    Returns:\n",
    "    -----------\n",
    "        res:float = 1 / (1 + np.exp(-z))\n",
    "    \"\"\"\n",
    "    res = 1 / (1 + np.exp(-z))\n",
    "    return res"
   ]
  },
  {
   "cell_type": "code",
   "execution_count": 103,
   "metadata": {},
   "outputs": [],
   "source": [
    "X = np.array([[1, 1, 1, 1, 1, 1, 1, 1, 1, 1],\n",
    "              [1, 1, 2, 1, 3, 0, 5, 10, 1, 2],\n",
    "              [500, 700, 750, 600, 1450,\n",
    "               800, 1500, 2000, 450, 1000],\n",
    "              [1, 1, 2, 1, 2, \n",
    "               1, 3, 3, 1, 2]], dtype = np.float64)\n",
    "\n",
    "y = np.array([0, 0, 1, 0, 1, 0, 1, 0, 1, 1], dtype = np.float64)"
   ]
  },
  {
   "cell_type": "code",
   "execution_count": 104,
   "metadata": {
    "scrolled": true
   },
   "outputs": [
    {
     "name": "stderr",
     "output_type": "stream",
     "text": [
      "1000it [00:27, 36.18it/s]\n"
     ]
    },
    {
     "data": {
      "image/png": "[encoded data removed]",
      "text/plain": [
       "<Figure size 432x288 with 1 Axes>"
      ]
     },
     "metadata": {
      "needs_background": "light"
     },
     "output_type": "display_data"
    }
   ],
   "source": [
    "X_st = X.copy()\n",
    "X_st = calc_std_feat(X)\n",
    "steps = 1000\n",
    "err = np.ones(steps)\n",
    "a1 = 1e-5\n",
    "a2 = 3.5\n",
    "for step, alpha in tqdm(enumerate(np.linspace(a1, a2, steps))):\n",
    "    W, err_ = eval_model(X_st, y, iterations=1000, alpha=alpha)\n",
    "    err[step] = err_[-1]\n",
    "\n",
    "s = np.linspace(a1, a2, steps)\n",
    "plt.plot(s, err)\n",
    "plt.xlabel(r'$\\alpha$')\n",
    "plt.ylabel('Error (Log loss)')\n",
    "plt.show()"
   ]
  },
  {
   "cell_type": "code",
   "execution_count": 130,
   "metadata": {},
   "outputs": [
    {
     "name": "stderr",
     "output_type": "stream",
     "text": [
      "100it [00:27,  3.58it/s]\n"
     ]
    },
    {
     "data": {
      "image/png": "[encoded data removed]",
      "text/plain": [
       "<Figure size 432x288 with 1 Axes>"
      ]
     },
     "metadata": {
      "needs_background": "light"
     },
     "output_type": "display_data"
    }
   ],
   "source": [
    "X_st = X.copy()\n",
    "X_st = calc_std_feat(X)\n",
    "steps = 100\n",
    "err = np.ones(steps)\n",
    "for step, iterations in tqdm(enumerate(np.linspace(1e2, 1e4, steps, dtype=int))):\n",
    "    W, err_ = eval_model(X_st, y, iterations=iterations, alpha=1e-2)\n",
    "    err[step] = err_[-1]\n",
    "\n",
    "s = np.linspace(1e2, 1e4, steps)\n",
    "plt.plot(s, err)\n",
    "plt.xlabel('Number of steps')\n",
    "plt.ylabel('Error (Log loss)')\n",
    "plt.show()"
   ]
  },
  {
   "cell_type": "markdown",
   "metadata": {},
   "source": [
    "## 3. Создайте функцию calc_pred_proba, возвращающую предсказанную вероятность класса 1 (на вход подаются W, который уже посчитан функцией eval_model и X, на выходе - массив y_pred_proba)."
   ]
  },
  {
   "cell_type": "code",
   "execution_count": 105,
   "metadata": {},
   "outputs": [],
   "source": [
    "def calc_pred_proba(W:np.array, X:np.array)->np.array:\n",
    "    \"\"\"\n",
    "    Функция вычисления предсказанной вероятности\n",
    "    \n",
    "    Parameters:\n",
    "    ------------\n",
    "    W:np.array\n",
    "        вектор весов обученной модели\n",
    "    X:np.array\n",
    "        матрица признаков\n",
    "    \n",
    "    Returns:\n",
    "    ------------\n",
    "    y_pred:np.array\n",
    "        вектор прогнозов\n",
    "    \"\"\"\n",
    "    return sigmoid(W @ X)"
   ]
  },
  {
   "cell_type": "code",
   "execution_count": 106,
   "metadata": {},
   "outputs": [
    {
     "data": {
      "text/plain": [
       "(10,)"
      ]
     },
     "execution_count": 106,
     "metadata": {},
     "output_type": "execute_result"
    }
   ],
   "source": [
    "y_pred_proba = calc_pred_proba(eval_model(X_st, y, iterations=1000, alpha=1e-2)[0], X)\n",
    "y_pred_proba.shape"
   ]
  },
  {
   "cell_type": "markdown",
   "metadata": {},
   "source": [
    "## 4. Создайте функцию calc_pred, возвращающую предсказанный класс (на вход подаются W, который уже посчитан функцией eval_model и X, на выходе - массив y_pred)."
   ]
  },
  {
   "cell_type": "code",
   "execution_count": 65,
   "metadata": {},
   "outputs": [],
   "source": [
    "def calc_pred(W: np.array, X:np.array, bound:float=0.5)->np.array:\n",
    "    \"\"\"\n",
    "    Функция вычисления предсказанной вероятности (лейблов признаков) на\n",
    "    основе сигмоид преобразования по полученному вектору прогнозов\n",
    "    \n",
    "    Parameters:\n",
    "    ------------\n",
    "    W - вектор весов\n",
    "    X - матрица признаков\n",
    "    bound=0.5 - порог вероятности\n",
    "    \n",
    "    returns:\n",
    "    y_pred - вектор предсказаний\n",
    "    \"\"\"\n",
    "    y_pred = sigmoid(W @ X)\n",
    "    y_pred = np.where(y_pred > bound, 1, 0)\n",
    "\n",
    "    return y_pred"
   ]
  },
  {
   "cell_type": "code",
   "execution_count": 66,
   "metadata": {},
   "outputs": [
    {
     "data": {
      "text/plain": [
       "(10,)"
      ]
     },
     "execution_count": 66,
     "metadata": {},
     "output_type": "execute_result"
    }
   ],
   "source": [
    "y_pred = calc_pred(eval_model(X_st, y, iterations=1000, alpha=1e-6)[0], X)\n",
    "y_pred.shape"
   ]
  },
  {
   "cell_type": "markdown",
   "metadata": {},
   "source": [
    "## 5. Посчитайте Accuracy, матрицу ошибок, точность и полноту, а также F1 score."
   ]
  },
  {
   "cell_type": "code",
   "execution_count": 93,
   "metadata": {},
   "outputs": [],
   "source": [
    "def accurency_score(y_true:np.array, y_pred:np.array)->float:\n",
    "    \"\"\"\n",
    "    Вычисление метрики Acurancy\n",
    "    \n",
    "    Parameters:\n",
    "    ------------\n",
    "    y_true: np.array\n",
    "        вектор правильных ответов\n",
    "    y_pred: np.array\n",
    "        вектор предсказаний\n",
    "        \n",
    "    Returns:\n",
    "    ------------\n",
    "    acur: float\n",
    "        Значение метрики Acurancy\n",
    "    \"\"\"\n",
    "    return (y_true == y_pred).sum() / y_true.shape[0]"
   ]
  },
  {
   "cell_type": "code",
   "execution_count": 94,
   "metadata": {},
   "outputs": [
    {
     "name": "stdout",
     "output_type": "stream",
     "text": [
      "0.5\n"
     ]
    }
   ],
   "source": [
    "print(accurency_score(y, y_pred))"
   ]
  },
  {
   "cell_type": "code",
   "execution_count": 87,
   "metadata": {},
   "outputs": [],
   "source": [
    "def err_matrix(y_true:np.array, y_pred:np.array):\n",
    "    \"\"\"\n",
    "    Вычисление матрицы ошибок\n",
    "    \n",
    "    Parameters:\n",
    "    ------------\n",
    "    y_true: np.array\n",
    "        вектор правильных ответов\n",
    "    y_pred: np.array\n",
    "        вектор предсказаний\n",
    "        \n",
    "    Returns:\n",
    "    ------------\n",
    "    TP: int - TruePositive,\n",
    "    FP: int - FalsePositive,\n",
    "    TN: int - TrueNegative,\n",
    "    FN: int - FalseNegative\n",
    "        Значения матрицы ошибок\n",
    "    \n",
    "    \"\"\"\n",
    "    TP = y_true[(y_true - y_pred) == 0].sum().astype(int)\n",
    "    FP = ((y_true - y_pred) == -1).sum().astype(int)\n",
    "    TN = (y_true[(y_true - y_pred) == 0]==0).sum().astype(int)\n",
    "    FN = ((y_true - y_pred) == 1).sum().astype(int)\n",
    "    return TP, FP, TN, FN"
   ]
  },
  {
   "cell_type": "code",
   "execution_count": 83,
   "metadata": {},
   "outputs": [
    {
     "name": "stdout",
     "output_type": "stream",
     "text": [
      "(5, 5, 0, 0)\n"
     ]
    }
   ],
   "source": [
    "print(err_matrix(y, y_pred))"
   ]
  },
  {
   "cell_type": "code",
   "execution_count": 89,
   "metadata": {},
   "outputs": [],
   "source": [
    "def precision_score(y_true:np.array, y_pred:np.array)->float:\n",
    "    \"\"\"\n",
    "    Вычсление метрики precision\n",
    "    конверсия = TP / (TP + FP)\n",
    "    \n",
    "    Parameters:\n",
    "    ------------\n",
    "    y_true: np.array\n",
    "        вектор правильных ответов\n",
    "    y_pred: np.array\n",
    "        вектор предсказаний\n",
    "        \n",
    "    Returns:\n",
    "    ------------\n",
    "    precision: float\n",
    "        значение метрики precision\n",
    "    \"\"\"\n",
    "    TP, FP, _, _ = err_matrix(y_true, y_pred)\n",
    "    return TP / (TP + FP)"
   ]
  },
  {
   "cell_type": "code",
   "execution_count": 90,
   "metadata": {},
   "outputs": [
    {
     "data": {
      "text/plain": [
       "0.5"
      ]
     },
     "execution_count": 90,
     "metadata": {},
     "output_type": "execute_result"
    }
   ],
   "source": [
    "precision_score(y, y_pred)"
   ]
  },
  {
   "cell_type": "code",
   "execution_count": 95,
   "metadata": {},
   "outputs": [],
   "source": [
    "def recall_score(y_true:np.array, y_pred:np.array)->float:\n",
    "    \"\"\"\n",
    "    Вычисление метрики recall = TP / (TP + FN)\n",
    "    \n",
    "    Parameters:\n",
    "    ------------\n",
    "    y_true: np.array\n",
    "        вектор правильных ответов\n",
    "    y_pred: np.array\n",
    "        вектор предсказаний\n",
    "        \n",
    "    Returns:\n",
    "    ------------\n",
    "    recall: float\n",
    "        значение метрики precision\n",
    "    \"\"\"\n",
    "    TP, _, _, FN = err_matrix(y_true, y_pred)\n",
    "    return TP / (TP + FN)"
   ]
  },
  {
   "cell_type": "code",
   "execution_count": 96,
   "metadata": {},
   "outputs": [
    {
     "data": {
      "text/plain": [
       "1.0"
      ]
     },
     "execution_count": 96,
     "metadata": {},
     "output_type": "execute_result"
    }
   ],
   "source": [
    "recall_score(y, y_pred)"
   ]
  },
  {
   "cell_type": "code",
   "execution_count": 97,
   "metadata": {},
   "outputs": [],
   "source": [
    "def f1_score(y_true:np.array, y_pred:np.array)->float:\n",
    "    \"\"\"\n",
    "    Вычисление метрики F1:\n",
    "    \n",
    "    Parameters:\n",
    "    ------------\n",
    "    y_true: np.array\n",
    "        вектор правильных ответов\n",
    "    y_pred: np.array\n",
    "        вектор предсказаний\n",
    "        \n",
    "    Returns:\n",
    "    ------------\n",
    "    F1: float\n",
    "        значение метрики F1\n",
    "    \"\"\"\n",
    "    \n",
    "    return round(2 * precision(y_true, y_pred) * recall(y_true, y_pred) / (precision(y_true, y_pred) + recall(y_true, y_pred)), 4)"
   ]
  },
  {
   "cell_type": "code",
   "execution_count": 98,
   "metadata": {},
   "outputs": [
    {
     "data": {
      "text/plain": [
       "0.6667"
      ]
     },
     "execution_count": 98,
     "metadata": {},
     "output_type": "execute_result"
    }
   ],
   "source": [
    "f1_score(y, y_pred)"
   ]
  },
  {
   "cell_type": "markdown",
   "metadata": {},
   "source": [
    "## 6. Могла ли модель переобучиться? Почему?"
   ]
  },
  {
   "cell_type": "markdown",
   "metadata": {},
   "source": [
    "В примере использована маленькая выборка - модель могла переобучится."
   ]
  },
  {
   "cell_type": "markdown",
   "metadata": {},
   "source": [
    "## 7*. Создайте функции eval_model_l1 и eval_model_l2 с применением L1 и L2 регуляризаций соответственно."
   ]
  },
  {
   "cell_type": "code",
   "execution_count": null,
   "metadata": {},
   "outputs": [],
   "source": [
    "def eval_model_l2(X, y, iterations=1000, alpha=1e-4, lambda_):\n",
    "    \"\"\"\n",
    "    Функция модели логистической регрессии\n",
    "    \n",
    "    Params:\n",
    "    =======\n",
    "    X - матрица признаков\n",
    "    y - вектор ответов\n",
    "    iterations=1000 - количество итераций\n",
    "    alpha = 1e-4 - скорость обучения\n",
    "    lambda_ - коэффициент регуляризации\n",
    "    \"\"\"\n",
    "    np.random.seed(42)\n",
    "    W = np.random.randn(X.shape[0])\n",
    "    n = X.shape[1]\n",
    "    err = np.ones(iterations)\n",
    "    for i in range(1, iterations+1):\n",
    "        z = np.dot(W, X)\n",
    "        y_pred = sigmoid(z)\n",
    "        err[i-1] = calc_logloss(y, y_pred)\n",
    "        W -= alpha * (1/n * np.dot((y_pred - y), X.T)+ 2 * lambda_ * W)\n",
    "    if i % (iterations / 10) == 0:\n",
    "        print(i, W, err)\n",
    "    return W, err"
   ]
  },
  {
   "cell_type": "code",
   "execution_count": 107,
   "metadata": {},
   "outputs": [],
   "source": [
    "def eval_model_regularization(X:np.array,\n",
    "                              y:np.array,\n",
    "                              iterations: int = 1000,\n",
    "                              alpha: float = 1e-2,\n",
    "                              tol: float = 1e-5,\n",
    "                              c1: float = 0.,\n",
    "                              c2: float = 0.):\n",
    "    \"\"\"\n",
    "    Функция модели логистической регрессии c L1 и L2 регуляризацией\n",
    "    \n",
    "    Params:\n",
    "    =======\n",
    "    X:np.array\n",
    "        Матрица признаков\n",
    "    y:np.array\n",
    "        Вектор ответов\n",
    "    iterations: int = 1000\n",
    "        Количество итераций\n",
    "    alpha: float = 1e-2\n",
    "        Скорость обучения\n",
    "    tol: float\n",
    "        Порог точности расчета ошибки\n",
    "    c1: float\n",
    "        Коэффициент L1 регуляризации\n",
    "    c2: float\n",
    "        Коэффициент L2 регуляризации\n",
    "    \n",
    "     Returns:\n",
    "    -----------\n",
    "        weights:np.array\n",
    "            Вектор весов модели\n",
    "        errors: np.array\n",
    "            Вектор ошибок по признакам\n",
    "    \"\"\"\n",
    "    np.random.seed(42)\n",
    "    W = np.random.randn(X.shape[0])\n",
    "    n = X.shape[1]\n",
    "    \n",
    "    errors, weights = [], []\n",
    "    \n",
    "    for n_iter in range(1, iterations+1):\n",
    "        z = np.dot(W, X)\n",
    "        y_pred = sigmoid(z)\n",
    "        current_error = calc_logloss(y, y_pred)\n",
    "        W -= alpha * (1/n * np.dot((y_pred - y), X.T)) + 2*c2*W + 0.5*c1*W/np.abs(W)\n",
    "        \n",
    "        errors.append(current_error)\n",
    "        weights.append(W)\n",
    "        \n",
    "        # проверяем выход по условию tol\n",
    "        if n_iter > 2 and np.abs(current_error - errors[-2]) < tol:\n",
    "            break\n",
    "    errors = np.array(errors)\n",
    "    weights = np.array(weights[-1])\n",
    "    return weights, errors"
   ]
  },
  {
   "cell_type": "code",
   "execution_count": null,
   "metadata": {},
   "outputs": [],
   "source": []
  }
 ],
 "metadata": {
  "kernelspec": {
   "display_name": "Python 3",
   "language": "python",
   "name": "python3"
  },
  "language_info": {
   "codemirror_mode": {
    "name": "ipython",
    "version": 3
   },
   "file_extension": ".py",
   "mimetype": "text/x-python",
   "name": "python",
   "nbconvert_exporter": "python",
   "pygments_lexer": "ipython3",
   "version": "3.7.0"
  }
 },
 "nbformat": 4,
 "nbformat_minor": 4
}
