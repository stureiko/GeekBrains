{
 "cells": [
  {
   "cell_type": "markdown",
   "metadata": {},
   "source": [
    "# Урок 4\n",
    "\n",
    "## Непрерывные случайные величины. Функция распределения и плотность распределения вероятностей. Равномерное и нормальное распределение. Центральная предельная теорема"
   ]
  },
  {
   "cell_type": "markdown",
   "metadata": {},
   "source": [
    "### Непрерывные случайные величины\n",
    "\n",
    "Ранее мы познакомились с дискретными случайными величинами. Такие величины принимают дискретные, т.е. разделимые значения. Например, это может быть конечное или счётное множество значений.\n",
    "\n",
    "__Непрерывные случайные величины__ принимают все значения, содержащиеся в заданном промежутке. Промежуток может быть конечным или бесконечным.\n",
    "\n",
    "Например, рост или вес человека — непрерывные случайные величины: они могут принимать любое значение в некоторых пределах."
   ]
  },
  {
   "cell_type": "markdown",
   "metadata": {},
   "source": [
    "Закон распределения вероятностей дискретной случайной величины мы задавали как соответствие между значениями $a_i$ случайной величины и соответствующими вероятностями $P(X = a_i)$. \n",
    "\n",
    "Для непрерывных случайных величин аналогичный подход невозможен, поскольку вероятность $P(X = a)$ для непрерывной случайной величины $X$ равна $0$ для любого $a$. Поэтому распределение вероятностей непрерывных случайных величин характеризуют с помощью __функции распределения__:\n",
    "$$F(x) = P(X < x)$$\n",
    "\n",
    "Функция распределения показывает, какова для каждого $x$ вероятность того, что случайная величина $X$ принимает значение меньше $x$. (Для дискретных распределений эта функция ступенчатая.) \n",
    "\n",
    "Эта функция монотонно возрастает на отрезке, на котором определена случайная величина. Кроме того, $F(-\\infty) = 0$ и $F(\\infty) = 1$."
   ]
  },
  {
   "cell_type": "markdown",
   "metadata": {
    "colab_type": "text",
    "id": "BtMkTMxui6Ut"
   },
   "source": [
    "__Пример 1__\n",
    "\n",
    "Рассмотрим опять данные по хоккеистам и построим по ним _эмпирическую_ (т.е. полученную опытным путём) функцию распределения возраста хоккеистов."
   ]
  },
  {
   "cell_type": "code",
   "execution_count": 3,
   "metadata": {},
   "outputs": [],
   "source": [
    "import pandas as pd\n",
    "import numpy as np\n",
    "from matplotlib import pyplot as plt\n",
    "plt.style.use('seaborn-whitegrid')"
   ]
  },
  {
   "cell_type": "code",
   "execution_count": 4,
   "metadata": {},
   "outputs": [
    {
     "data": {
      "text/html": [
       "<div>\n",
       "<style scoped>\n",
       "    .dataframe tbody tr th:only-of-type {\n",
       "        vertical-align: middle;\n",
       "    }\n",
       "\n",
       "    .dataframe tbody tr th {\n",
       "        vertical-align: top;\n",
       "    }\n",
       "\n",
       "    .dataframe thead th {\n",
       "        text-align: right;\n",
       "    }\n",
       "</style>\n",
       "<table border=\"1\" class=\"dataframe\">\n",
       "  <thead>\n",
       "    <tr style=\"text-align: right;\">\n",
       "      <th></th>\n",
       "      <th>year</th>\n",
       "      <th>country</th>\n",
       "      <th>no</th>\n",
       "      <th>name</th>\n",
       "      <th>position</th>\n",
       "      <th>side</th>\n",
       "      <th>height</th>\n",
       "      <th>weight</th>\n",
       "      <th>birth</th>\n",
       "      <th>club</th>\n",
       "      <th>age</th>\n",
       "      <th>cohort</th>\n",
       "      <th>bmi</th>\n",
       "    </tr>\n",
       "  </thead>\n",
       "  <tbody>\n",
       "    <tr>\n",
       "      <th>0</th>\n",
       "      <td>2001</td>\n",
       "      <td>RUS</td>\n",
       "      <td>10</td>\n",
       "      <td>tverdovsky oleg</td>\n",
       "      <td>D</td>\n",
       "      <td>L</td>\n",
       "      <td>185</td>\n",
       "      <td>84.0</td>\n",
       "      <td>1976-05-18</td>\n",
       "      <td>anaheim mighty ducks</td>\n",
       "      <td>24.952772</td>\n",
       "      <td>1976</td>\n",
       "      <td>24.543462</td>\n",
       "    </tr>\n",
       "    <tr>\n",
       "      <th>1</th>\n",
       "      <td>2001</td>\n",
       "      <td>RUS</td>\n",
       "      <td>2</td>\n",
       "      <td>vichnevsky vitali</td>\n",
       "      <td>D</td>\n",
       "      <td>L</td>\n",
       "      <td>188</td>\n",
       "      <td>86.0</td>\n",
       "      <td>1980-03-18</td>\n",
       "      <td>anaheim mighty ducks</td>\n",
       "      <td>21.119781</td>\n",
       "      <td>1980</td>\n",
       "      <td>24.332277</td>\n",
       "    </tr>\n",
       "    <tr>\n",
       "      <th>2</th>\n",
       "      <td>2001</td>\n",
       "      <td>RUS</td>\n",
       "      <td>26</td>\n",
       "      <td>petrochinin evgeni</td>\n",
       "      <td>D</td>\n",
       "      <td>L</td>\n",
       "      <td>182</td>\n",
       "      <td>95.0</td>\n",
       "      <td>1976-02-07</td>\n",
       "      <td>severstal cherepovetal</td>\n",
       "      <td>25.229295</td>\n",
       "      <td>1976</td>\n",
       "      <td>28.680111</td>\n",
       "    </tr>\n",
       "    <tr>\n",
       "      <th>3</th>\n",
       "      <td>2001</td>\n",
       "      <td>RUS</td>\n",
       "      <td>28</td>\n",
       "      <td>zhdan alexander</td>\n",
       "      <td>D</td>\n",
       "      <td>R</td>\n",
       "      <td>178</td>\n",
       "      <td>85.0</td>\n",
       "      <td>1971-08-28</td>\n",
       "      <td>ak bars kazan</td>\n",
       "      <td>29.675565</td>\n",
       "      <td>1971</td>\n",
       "      <td>26.827421</td>\n",
       "    </tr>\n",
       "    <tr>\n",
       "      <th>4</th>\n",
       "      <td>2001</td>\n",
       "      <td>RUS</td>\n",
       "      <td>32</td>\n",
       "      <td>orekhovsky oleg</td>\n",
       "      <td>D</td>\n",
       "      <td>R</td>\n",
       "      <td>175</td>\n",
       "      <td>88.0</td>\n",
       "      <td>1977-11-03</td>\n",
       "      <td>dynamo moscow</td>\n",
       "      <td>23.490760</td>\n",
       "      <td>1977</td>\n",
       "      <td>28.734694</td>\n",
       "    </tr>\n",
       "  </tbody>\n",
       "</table>\n",
       "</div>"
      ],
      "text/plain": [
       "   year country  no                 name position side  height  weight  \\\n",
       "0  2001     RUS  10     tverdovsky oleg         D    L     185    84.0   \n",
       "1  2001     RUS   2   vichnevsky vitali         D    L     188    86.0   \n",
       "2  2001     RUS  26  petrochinin evgeni         D    L     182    95.0   \n",
       "3  2001     RUS  28     zhdan alexander         D    R     178    85.0   \n",
       "4  2001     RUS  32     orekhovsky oleg         D    R     175    88.0   \n",
       "\n",
       "        birth                     club        age  cohort        bmi  \n",
       "0  1976-05-18    anaheim mighty ducks   24.952772    1976  24.543462  \n",
       "1  1980-03-18    anaheim mighty ducks   21.119781    1980  24.332277  \n",
       "2  1976-02-07  severstal cherepovetal   25.229295    1976  28.680111  \n",
       "3  1971-08-28           ak bars kazan   29.675565    1971  26.827421  \n",
       "4  1977-11-03           dynamo moscow   23.490760    1977  28.734694  "
      ]
     },
     "execution_count": 4,
     "metadata": {},
     "output_type": "execute_result"
    }
   ],
   "source": [
    "df = pd.read_csv('hockey_players.csv')\n",
    "df.head()"
   ]
  },
  {
   "cell_type": "code",
   "execution_count": 5,
   "metadata": {},
   "outputs": [],
   "source": [
    "def edf(samples, x: float) -> float:\n",
    "    \"\"\"Эмпирическая функция распределения (empirical distribution\n",
    "    function).\n",
    "    \"\"\"\n",
    "    \n",
    "    return samples[samples < x].shape[0] / samples.shape[0]"
   ]
  },
  {
   "cell_type": "markdown",
   "metadata": {},
   "source": [
    "С помощью `matplotlib` построим график данной функции в пределах от $10$ до $50$."
   ]
  },
  {
   "cell_type": "code",
   "execution_count": 6,
   "metadata": {},
   "outputs": [
    {
     "data": {
      "text/plain": [
       "[<matplotlib.lines.Line2D at 0x120310c50>]"
      ]
     },
     "execution_count": 6,
     "metadata": {},
     "output_type": "execute_result"
    },
    {
     "data": {
      "image/png": "[encoded data removed]",
      "text/plain": [
       "<Figure size 432x288 with 1 Axes>"
      ]
     },
     "metadata": {},
     "output_type": "display_data"
    }
   ],
   "source": [
    "ox = np.linspace(10, 50, 1000)\n",
    "oy = np.array([edf(df['age'], x) for x in ox])\n",
    "\n",
    "plt.plot(ox, oy)"
   ]
  },
  {
   "cell_type": "markdown",
   "metadata": {},
   "source": [
    "Всё же функция распределения не даёт представления о распределении, аналогичного тому, что даёт закон распределения дискретных случайных величин. Хотелось бы понять, какие значения случайной величины более «вероятно» наблюдать, чем другие. \n",
    "\n",
    "Для таких целей удобно использовать __функцию плотности__:\n",
    "$$f(x) = F'(x)$$\n",
    "\n",
    "Геометрический смысл функции плотности таков: вероятность того, что случайная величина $X$ будет лежать в отрезке $(a, b)$, равна площади под графиком функции плотности $f(x)$ в пределах от $a$ до $b$.\n",
    "\n",
    "Общая площадь под графиком функции $f(x)$ равна $1$, аналогично тому, что сумма вероятностей значений дискретной случайной величины равна $1$.\n",
    "\n",
    "Однако, стоит помнить, что _значение $f(x)$ не является вероятностью $P(X = x)$_. Оно лишь отражает _плотность_ случайной величины в окрестности точки $x$.\n",
    "\n",
    "Плотность распределения можно визуализировать с помощью гистограммы, передав в неё значение параметра `density=True`."
   ]
  },
  {
   "cell_type": "markdown",
   "metadata": {},
   "source": [
    "__Пример 2__\n",
    "\n",
    "Построим гистограмму значений возраста хоккеистов, чтобы примерно представить, как выглядит соответствующая функция плотности распределения."
   ]
  },
  {
   "cell_type": "code",
   "execution_count": 7,
   "metadata": {},
   "outputs": [
    {
     "data": {
      "image/png": "[encoded data removed]",
      "text/plain": [
       "<Figure size 432x288 with 1 Axes>"
      ]
     },
     "metadata": {},
     "output_type": "display_data"
    }
   ],
   "source": [
    "plt.hist(df['age'], density=True, bins=15);"
   ]
  },
  {
   "cell_type": "markdown",
   "metadata": {},
   "source": [
    "Математическое ожидание и дисперсия для непрерывной случайной величины также считаются иначе, чем для дискретной. \n",
    "\n",
    "Формула для математического ожидания:\n",
    "\n",
    "$$M(X) = \\displaystyle\\int_{-\\infty}^\\infty x \\cdot f(x) \\: dx$$\n",
    "\n",
    "Формула для дисперсии:\n",
    "\n",
    "$$D(X) = \\displaystyle\\int_{-\\infty}^\\infty (x - M(X))^2 \\cdot f(x) \\: dx$$"
   ]
  },
  {
   "cell_type": "markdown",
   "metadata": {},
   "source": [
    "### Примеры непрерывных распределений\n",
    "\n",
    "Непрерывная случайная величина $X$ имеет __равномерное распределение__ на отрезке $[a, b]$, если её плотность внутри этого отрезка постоянна, а вне этого отрезка равна 0. Другими словами:\n",
    "$$\n",
    "f(x) = \\begin{cases}\n",
    "\\dfrac{1}{b - a}, & x \\in [a, b], \\\\\n",
    "0, & x \\not\\in [a, b].\n",
    "\\end{cases}\n",
    "$$\n",
    "\n",
    "Не путать с _дискретным равномерным_ распределением.\n",
    "\n",
    "Математическое ожидание и дисперсия равномерного распределения:\n",
    "$$M(X) = \\dfrac{a + b}{2}, \\:\\: D(X) = \\dfrac{(b - a)^2}{12}.$$"
   ]
  },
  {
   "cell_type": "markdown",
   "metadata": {},
   "source": [
    "__Пример 3__\n",
    "\n",
    "Выборку из равномерного распределения можно получить с помощью функции `uniform` из модуля `numpy.random`. Построим выборку из равномерного распределения с параметрами $a = -1.5$, $b = 2.5$."
   ]
  },
  {
   "cell_type": "code",
   "execution_count": 8,
   "metadata": {},
   "outputs": [
    {
     "name": "stdout",
     "output_type": "stream",
     "text": [
      "[-0.3558947  -0.51611555  2.17341616 ...  1.89071304 -1.49923711\n",
      "  0.09301507]\n"
     ]
    }
   ],
   "source": [
    "a = -1.5\n",
    "b = 2.5\n",
    "\n",
    "samples = np.random.uniform(a, b, size=10000)\n",
    "\n",
    "print(samples)"
   ]
  },
  {
   "cell_type": "markdown",
   "metadata": {},
   "source": [
    "Убедимся, что каждый элемент в этой выборке встречается лишь однажды:"
   ]
  },
  {
   "cell_type": "code",
   "execution_count": 9,
   "metadata": {},
   "outputs": [
    {
     "data": {
      "text/plain": [
       "0"
      ]
     },
     "execution_count": 9,
     "metadata": {},
     "output_type": "execute_result"
    }
   ],
   "source": [
    "len(samples) - len(set(samples))"
   ]
  },
  {
   "cell_type": "markdown",
   "metadata": {},
   "source": [
    "Математическое ожидание:\n",
    "$$M(X) = \\dfrac{a + b}{2} = \\dfrac{-1.5 + 2.5}{2} = \\dfrac{1}{2}.$$\n",
    "\n",
    "Выборочное среднее:"
   ]
  },
  {
   "cell_type": "code",
   "execution_count": 10,
   "metadata": {},
   "outputs": [
    {
     "data": {
      "text/plain": [
       "0.4991537241874835"
      ]
     },
     "execution_count": 10,
     "metadata": {},
     "output_type": "execute_result"
    }
   ],
   "source": [
    "samples.mean()"
   ]
  },
  {
   "cell_type": "markdown",
   "metadata": {},
   "source": [
    "Дисперсия:\n",
    "$$D(X) = \\dfrac{(b - a)^2}{12} = \\dfrac{4^2}{12} = \\dfrac{4}{3} \\approx 1.333.$$\n",
    "\n",
    "Выборочная дисперсия (несмещённая) от выборки:"
   ]
  },
  {
   "cell_type": "code",
   "execution_count": 11,
   "metadata": {},
   "outputs": [
    {
     "data": {
      "text/plain": [
       "1.3277644262178445"
      ]
     },
     "execution_count": 11,
     "metadata": {},
     "output_type": "execute_result"
    }
   ],
   "source": [
    "samples.var(ddof=1)"
   ]
  },
  {
   "cell_type": "markdown",
   "metadata": {},
   "source": [
    "Формула функции равномерного распределения:\n",
    "$$\n",
    "F(x) = \\begin{cases}\n",
    "0, & x < a, \\\\\n",
    "\\dfrac{x - a}{b - a}, & x \\in [a, b], \\\\\n",
    "1, & x > b.\n",
    "\\end{cases}\n",
    "$$\n",
    "\n",
    "__Пример 4__\n",
    "\n",
    "Построим эмпирическую и теоретическую функции распределения."
   ]
  },
  {
   "cell_type": "code",
   "execution_count": 12,
   "metadata": {},
   "outputs": [],
   "source": [
    "def cdf_uniform(a: float, b: float, x: float) -> float:\n",
    "    \"\"\"Функция распределения (cumulative distribution function)\n",
    "    для равномерного распределения.\n",
    "    \"\"\"\n",
    "    \n",
    "    if x < a:\n",
    "        return 0\n",
    "    if x > b:\n",
    "        return 1\n",
    "    else:\n",
    "        return (x - a) / (b - a)"
   ]
  },
  {
   "cell_type": "code",
   "execution_count": 13,
   "metadata": {},
   "outputs": [
    {
     "data": {
      "text/plain": [
       "<matplotlib.legend.Legend at 0x1204e5550>"
      ]
     },
     "execution_count": 13,
     "metadata": {},
     "output_type": "execute_result"
    },
    {
     "data": {
      "image/png": "[encoded data removed]",
      "text/plain": [
       "<Figure size 432x288 with 1 Axes>"
      ]
     },
     "metadata": {},
     "output_type": "display_data"
    }
   ],
   "source": [
    "ox = np.linspace(-4, 4, 1000)\n",
    "oy1 = np.array([edf(samples=samples, x=x) for x in ox])\n",
    "oy2 = np.array([cdf_uniform(a=a, b=b, x=x) for x in ox])\n",
    "\n",
    "plt.plot(ox, oy1, label='edf')\n",
    "plt.plot(ox, oy2, linestyle='dashed', label='cdf')\n",
    "\n",
    "plt.legend()"
   ]
  },
  {
   "cell_type": "markdown",
   "metadata": {},
   "source": [
    "__Пример 5__\n",
    "\n",
    "Построим гистограмму, чтобы визуализировать функцию плотности. Вместе с ней построим теоретическую функцию плотности."
   ]
  },
  {
   "cell_type": "code",
   "execution_count": 14,
   "metadata": {},
   "outputs": [],
   "source": [
    "def pdf_uniform(a: float, b: float, x: float) -> float:\n",
    "    \"\"\"Функция плотности (probability density function)\n",
    "    для равномерного распределения.\n",
    "    \"\"\"\n",
    "    \n",
    "    return 1 / (b - a) if a <= x <= b else 0"
   ]
  },
  {
   "cell_type": "code",
   "execution_count": 15,
   "metadata": {},
   "outputs": [
    {
     "data": {
      "text/plain": [
       "[<matplotlib.lines.Line2D at 0x120496290>]"
      ]
     },
     "execution_count": 15,
     "metadata": {},
     "output_type": "execute_result"
    },
    {
     "data": {
      "image/png": "[encoded data removed]",
      "text/plain": [
       "<Figure size 432x288 with 1 Axes>"
      ]
     },
     "metadata": {},
     "output_type": "display_data"
    }
   ],
   "source": [
    "oy = np.array([pdf_uniform(a, b, x) for x in ox])\n",
    "\n",
    "plt.hist(samples, density=True)\n",
    "plt.plot(ox, oy, linestyle='dashed')"
   ]
  },
  {
   "cell_type": "markdown",
   "metadata": {},
   "source": [
    "Непрерывная случайная величина $X$ имеет __нормальное распределение__ с параметрами $a$ и $\\sigma > 0$, если её плотность распределения задаётся формулой\n",
    "$$f(x) = \\dfrac{1}{\\sqrt{2 \\pi \\sigma^2}} \\cdot \\exp \\left(- \\frac{(x - \\mu)^2}{2 \\sigma^2} \\right)$$\n",
    "\n",
    "Параметры $\\mu$ и $\\sigma$ задают, соответственно, математическое ожидание и среднее квадратическое отклонение случайной величины:\n",
    "$$M(X) = \\mu, \\:\\: D(X) = \\sigma^2$$\n",
    "\n",
    "Нормальное распределение с параметрами $\\mu = 0$ и $\\sigma = 1$ называется __стандартным нормальным распределением__.\n",
    "\n",
    "Нормальное распределение является одним из наиболее распространённых на практике. Например, нормально распределены:\n",
    "* рост, вес людей\n",
    "* показатели IQ\n",
    "* время прихода на работу\n",
    "* скорость движения молекул в жидкостях и газах\n",
    "\n",
    "Как правило, нормально распределёнными являются случайные величины, описывающие события, которые зависят от большого числа слабо связанных случайных факторов."
   ]
  },
  {
   "cell_type": "markdown",
   "metadata": {},
   "source": [
    "__Пример 6__\n",
    "\n",
    "Выборку из нормального распределения можно получить с помощью функции `normal` из модуля `numpy.random`. Построим такую выборку с параметрами $\\mu = 8$ (аргумент `loc`), $\\sigma = 2$ (аргумент `scale`)."
   ]
  },
  {
   "cell_type": "code",
   "execution_count": 29,
   "metadata": {},
   "outputs": [],
   "source": [
    "loc = 0\n",
    "scale = 2"
   ]
  },
  {
   "cell_type": "code",
   "execution_count": 30,
   "metadata": {},
   "outputs": [
    {
     "name": "stdout",
     "output_type": "stream",
     "text": [
      "[-0.32014555  0.71772818  1.14960955 ... -1.4415404   2.98123677\n",
      " -0.31177074]\n"
     ]
    }
   ],
   "source": [
    "samples = np.random.normal(loc, scale, size=10000)\n",
    "\n",
    "print(samples)"
   ]
  },
  {
   "cell_type": "markdown",
   "metadata": {},
   "source": [
    "Выборочные мат. ожидание и дисперсия:"
   ]
  },
  {
   "cell_type": "code",
   "execution_count": 31,
   "metadata": {},
   "outputs": [
    {
     "data": {
      "text/plain": [
       "(0.023159285193829766, 4.081443537896388)"
      ]
     },
     "execution_count": 31,
     "metadata": {},
     "output_type": "execute_result"
    }
   ],
   "source": [
    "samples.mean(), samples.var(ddof=1)"
   ]
  },
  {
   "cell_type": "markdown",
   "metadata": {},
   "source": [
    "Функция нормального распределения:\n",
    "$$F(x) = \\dfrac{1}{2} \\left[ 1 + \\operatorname{erf} \\left( \\dfrac{x - \\mu}{\\sigma \\sqrt{2}} \\right) \\right],$$\n",
    "где $\\operatorname{erf}$ — __функция ошибок__. \n",
    "\n",
    "Функция ошибок представляет собой интеграл\n",
    "$$\\operatorname{erf}(x) = \\dfrac{2}{\\pi}\\displaystyle\\int_0^x e^{- t^2} dt,$$\n",
    "который аналитически не считается. Численная реализация этой функции доступна как функция `erf` из модуля `scipy.special`."
   ]
  },
  {
   "cell_type": "markdown",
   "metadata": {},
   "source": [
    "__Пример 7__\n",
    "\n",
    "Эмпирическая и теоретическая функции распределения:"
   ]
  },
  {
   "cell_type": "code",
   "execution_count": 32,
   "metadata": {},
   "outputs": [],
   "source": [
    "from scipy.special import erf"
   ]
  },
  {
   "cell_type": "code",
   "execution_count": 33,
   "metadata": {},
   "outputs": [],
   "source": [
    "def cdf_normal(loc: float, scale: float, x: float) -> float:\n",
    "    \"\"\"Функция распределения для нормального распределения.\n",
    "    \"\"\"\n",
    "    \n",
    "    return (1 + erf((x - loc) / (scale * np.sqrt(2)))) / 2"
   ]
  },
  {
   "cell_type": "code",
   "execution_count": 43,
   "metadata": {},
   "outputs": [],
   "source": [
    "loc = 0\n",
    "scale = 1"
   ]
  },
  {
   "cell_type": "code",
   "execution_count": 44,
   "metadata": {},
   "outputs": [
    {
     "data": {
      "image/png": "[encoded data removed]",
      "text/plain": [
       "<Figure size 432x288 with 1 Axes>"
      ]
     },
     "metadata": {},
     "output_type": "display_data"
    }
   ],
   "source": [
    "ox = np.linspace(-10, 10, 1000)\n",
    "oy1 = np.array([edf(samples, x) for x in ox])\n",
    "oy2 = np.array([cdf_normal(loc, scale, x) for x in ox])\n",
    "\n",
    "plt.plot(ox, oy1, label='edf')\n",
    "plt.plot(ox, oy2, label='cdf', linestyle='dashed')\n",
    "\n",
    "plt.legend()\n",
    "plt.show()"
   ]
  },
  {
   "cell_type": "markdown",
   "metadata": {},
   "source": [
    "__Пример 8__\n",
    "\n",
    "Гистограмма выборки и теоретическая функция плотности:"
   ]
  },
  {
   "cell_type": "code",
   "execution_count": 45,
   "metadata": {},
   "outputs": [],
   "source": [
    "def pdf_normal(loc: float, scale: float, x: float) -> float:\n",
    "    \"\"\"Функция плотности для нормального распределения.\n",
    "    \"\"\"\n",
    "    \n",
    "    return np.exp(- ((x - loc) ** 2) / (2 * scale ** 2)) / (scale * np.sqrt(2 * np.pi))"
   ]
  },
  {
   "cell_type": "code",
   "execution_count": 47,
   "metadata": {},
   "outputs": [
    {
     "data": {
      "image/png": "[encoded data removed]",
      "text/plain": [
       "<Figure size 432x288 with 1 Axes>"
      ]
     },
     "metadata": {},
     "output_type": "display_data"
    }
   ],
   "source": [
    "oy = np.array([pdf_normal(loc, scale, x) for x in ox])\n",
    "\n",
    "plt.hist(samples, density=True, bins=15)\n",
    "plt.plot(ox, oy, linestyle='dashed')\n",
    "plt.show()"
   ]
  },
  {
   "cell_type": "markdown",
   "metadata": {},
   "source": [
    "Кстати, в модуле `scipy.stats` есть готовые функции распределения и плотности для многих известных распределений.\n",
    "\n",
    "### `scipy.stats`\n",
    "\n",
    "В модуле `scipy.stats` содержатся реализации основных функций для различных распределений:\n",
    "* `binom` — биномиальное,\n",
    "* `poisson` — Пуассоновское,\n",
    "* `geom` — геометрическое,\n",
    "* `norm` — нормальное,\n",
    "* `uniform` — непрерывное равномерное,\n",
    "\n",
    "и др. \n",
    "\n",
    "Доступные функции:\n",
    "* `pmf` — закон распределения для дискретных величин,\n",
    "* `pdf` — функция плотности для непрерывных величин,\n",
    "* `cdf` — функция распределения,\n",
    "* `ppf` — квантильная функция (обратная к функции распределения).\n",
    "\n",
    "и др. Например, с помощью этого модуля можно получить значения функции нормального распределения, которая не вычисляется аналитически и доступна лишь численно."
   ]
  },
  {
   "cell_type": "code",
   "execution_count": 25,
   "metadata": {},
   "outputs": [],
   "source": [
    "from scipy import stats"
   ]
  },
  {
   "cell_type": "code",
   "execution_count": 54,
   "metadata": {},
   "outputs": [
    {
     "data": {
      "image/png": "[encoded data removed]",
      "text/plain": [
       "<Figure size 432x288 with 1 Axes>"
      ]
     },
     "metadata": {},
     "output_type": "display_data"
    }
   ],
   "source": [
    "ox = np.linspace(0, 16, 1000)\n",
    "oy = stats.norm.pdf(ox, loc=8, scale=2)\n",
    "# oy = np.array([stats.norm.cdf(x, loc=8, scale=2) for x in ox])\n",
    "\n",
    "plt.plot(ox, oy)\n",
    "plt.show()"
   ]
  },
  {
   "cell_type": "markdown",
   "metadata": {},
   "source": [
    "При многократном использовании функций одного и того же распределения удобнее сразу зафиксировать объект:"
   ]
  },
  {
   "cell_type": "code",
   "execution_count": 55,
   "metadata": {},
   "outputs": [
    {
     "data": {
      "text/plain": [
       "(0.12098536225957168, 0.15865525393145707, 6.011084233580494)"
      ]
     },
     "execution_count": 55,
     "metadata": {},
     "output_type": "execute_result"
    }
   ],
   "source": [
    "norm = stats.norm(loc=8, scale=2)\n",
    "\n",
    "norm.pdf(6), norm.cdf(6), norm.ppf(0.16)"
   ]
  },
  {
   "cell_type": "markdown",
   "metadata": {},
   "source": [
    "Для вычисления разброса значений нормально распределённой случайной величины можно использовать следующие правила:\n",
    "\n",
    "* Интервал от $\\mu - \\sigma$ до $\\mu + \\sigma$ (__стандартное отклонение__) содержит около $68\\%$ вероятностной массы (т.е. с вероятностью $68\\%$ данная величина попадает в этот интервал).\n",
    "* От $\\mu - 2\\sigma$ до $\\mu + 2\\sigma$ — около $95\\%$ массы (__правило двух сигм__).\n",
    "* От $\\mu - 3\\sigma$ до $\\mu + 3\\sigma$ — около $99.7\\%$ массы (__правило трёх сигм__).\n",
    "\n",
    "Посчитаем точные значения для этих интервалов. Поскольку эти правила не зависят от конкретных параметров, посчитаем интервалы для стандартного нормального распределения. (Оно используется по умолчанию в `scipy.stats.norm`.)\n",
    "\n",
    "Стандартное отклонение:"
   ]
  },
  {
   "cell_type": "code",
   "execution_count": 56,
   "metadata": {},
   "outputs": [
    {
     "data": {
      "text/plain": [
       "0.6826894921370859"
      ]
     },
     "execution_count": 56,
     "metadata": {},
     "output_type": "execute_result"
    }
   ],
   "source": [
    "stats.norm.cdf(1) - stats.norm.cdf(-1)"
   ]
  },
  {
   "cell_type": "markdown",
   "metadata": {},
   "source": [
    "Правило двух сигм:"
   ]
  },
  {
   "cell_type": "code",
   "execution_count": 57,
   "metadata": {},
   "outputs": [
    {
     "data": {
      "text/plain": [
       "0.9544997361036416"
      ]
     },
     "execution_count": 57,
     "metadata": {},
     "output_type": "execute_result"
    }
   ],
   "source": [
    "stats.norm.cdf(2) - stats.norm.cdf(-2)"
   ]
  },
  {
   "cell_type": "markdown",
   "metadata": {},
   "source": [
    "Правило трёх сигм:"
   ]
  },
  {
   "cell_type": "code",
   "execution_count": 58,
   "metadata": {},
   "outputs": [
    {
     "data": {
      "text/plain": [
       "0.9973002039367398"
      ]
     },
     "execution_count": 58,
     "metadata": {},
     "output_type": "execute_result"
    }
   ],
   "source": [
    "stats.norm.cdf(3) - stats.norm.cdf(-3)"
   ]
  },
  {
   "cell_type": "markdown",
   "metadata": {},
   "source": [
    "__Пример 9__\n",
    "\n",
    "Вернёмся к данным о хоккеистах и рассмотрим столбец с ростом. Построим его гистограмму."
   ]
  },
  {
   "cell_type": "code",
   "execution_count": 59,
   "metadata": {},
   "outputs": [
    {
     "data": {
      "image/png": "[encoded data removed]",
      "text/plain": [
       "<Figure size 432x288 with 1 Axes>"
      ]
     },
     "metadata": {},
     "output_type": "display_data"
    }
   ],
   "source": [
    "plt.hist(df['height'], bins=20);"
   ]
  },
  {
   "cell_type": "markdown",
   "metadata": {},
   "source": [
    "Мы знаем, что рост — одна из величин, которая может распределяться нормально. Восстановим по выборке значения $\\mu$ и $\\sigma$ и построим поверх гистограммы теоретическую функцию плотности соответствующего нормального распределения."
   ]
  },
  {
   "cell_type": "code",
   "execution_count": 60,
   "metadata": {},
   "outputs": [
    {
     "data": {
      "text/plain": [
       "(183.829386763813, 5.467628706191668)"
      ]
     },
     "execution_count": 60,
     "metadata": {},
     "output_type": "execute_result"
    }
   ],
   "source": [
    "loc = df['height'].mean()\n",
    "scale = df['height'].std(ddof=1)\n",
    "\n",
    "loc, scale"
   ]
  },
  {
   "cell_type": "code",
   "execution_count": 62,
   "metadata": {},
   "outputs": [
    {
     "data": {
      "image/png": "[encoded data removed]",
      "text/plain": [
       "<Figure size 432x288 with 1 Axes>"
      ]
     },
     "metadata": {},
     "output_type": "display_data"
    }
   ],
   "source": [
    "ox = np.linspace(165, 205, 1000)\n",
    "oy = np.array([pdf_normal(loc, scale, x) for x in ox])\n",
    "\n",
    "plt.hist(df['height'], density=True, bins=20)\n",
    "plt.plot(ox, oy, linestyle='dashed')\n",
    "plt.show()"
   ]
  },
  {
   "cell_type": "markdown",
   "metadata": {},
   "source": [
    "Проверим на этих данных правило двух сигм. В отрезке `(loc - 2 * scale, loc + 2 * scale)` должно содержаться $95\\%$ значений."
   ]
  },
  {
   "cell_type": "code",
   "execution_count": 63,
   "metadata": {},
   "outputs": [
    {
     "data": {
      "text/plain": [
       "0.9556769884638737"
      ]
     },
     "execution_count": 63,
     "metadata": {},
     "output_type": "execute_result"
    }
   ],
   "source": [
    "two_sigmas_condition = (df['height'] > loc - 2 * scale) & (df['height'] < loc + 2 * scale)\n",
    "\n",
    "df[two_sigmas_condition].shape[0] / df.shape[0]"
   ]
  },
  {
   "cell_type": "markdown",
   "metadata": {},
   "source": [
    "__Другие непрерывные распределения__\n",
    "\n",
    "* __Экспоненциальное__ (или __показательное__) распределение (`scipy.stats.expon`): время между последовательными свершениями одного и того же события. Является непрерывным аналогом геометрического распределения. Функция плотности:\n",
    "$$\n",
    "F(x) = \\begin{cases}\n",
    "1 - e^{- \\lambda x}, & x \\geq 0, \\\\\n",
    "0, & x < 0.\n",
    "\\end{cases}\n",
    "$$\n",
    "* t-распределение Стьюдента (`scipy.stats.t`).\n",
    "* Распределение Фишера (`scipy.stats.f`).\n",
    "* Распределение $\\chi^2$ (хи-квадрат, `scipy.stats.chi2`).\n",
    "* Распределение Колмогорова (`scipy.stats.ksone`).\n",
    "* Распределение Парето («Правило 20 к 80», `scipy.stats.pareto`)."
   ]
  },
  {
   "cell_type": "markdown",
   "metadata": {},
   "source": [
    "### Центральная предельная теорема\n",
    "\n",
    "Одно из практически уникальных свойств нормального распределения — __устойчивость__ — означает, что если $X$ и $Y$ — _независимые нормально распределённые_ случайные величины, то их комбинация $Z = a \\cdot X + b \\cdot Y$ ($a$, $b$ — числа) также имеет нормальное распределение. Более того, для распределения $Z$ верны следующие равенства. Математическое ожидание:\n",
    "$$M(Z) = a \\cdot M(X) + b \\cdot M(Y)$$\n",
    "Дисперсия:\n",
    "$$D(Z) = |a| \\cdot D(X) + |b| \\cdot D(Y)$$\n",
    "\n",
    "Большинство других распределений не являются устойчивыми. Например, сумма двух равномерно распределённых случайных величин не является равномерно распределённой. Вместо этого неустойчивые распределения «стремятся» к нормальному. Это хорошо иллюстрирует центральная предельная теорема."
   ]
  },
  {
   "cell_type": "markdown",
   "metadata": {},
   "source": [
    "Рассмотрим выборку из $n$ значений случайной величины $X$, имеющей произвольное распределение, и пусть $Y$ — случайная величина, равная сумме этих значений. \n",
    "\n",
    "__Центральная предельная теорема__ утверждает: чем больше $n$, тем _ближе_ распределение величины $Y$ к нормальному распределению с параметрами\n",
    "$$\\mu = n \\cdot M(X), \\:\\: \\sigma^2 = n \\cdot D(X)$$\n",
    "\n",
    "_Другая версия_ этой теоремы: пусть $Z$ — случайная величина, равная среднему арифметическому значений из выборки. Тогда с увеличением $n$ распределение этой величины становится всё ближе к нормальному распределению с параметрами\n",
    "$$\\mu = M(X), \\:\\: \\sigma^2 = \\dfrac{D(X)}{n}$$\n",
    "\n",
    "Центральная предельная теорема согласуется со сделанным ранее наблюдением, что, как правило, случайные величины, описывающие события, которые зависят от большого числа слабо связанных случайных факторов, являются нормально распределёнными.\n",
    "\n",
    "Отметим, что центральная предельная теорема работает не только для непрерывных случайных величин, но и для дискретных."
   ]
  },
  {
   "cell_type": "markdown",
   "metadata": {},
   "source": [
    "__Пример 8__\n",
    "\n",
    "Проверим утверждение центральной предельной теоремы на равномерном распределении $X$ с параметрами $a = -1.5$,\n",
    "$b = 2.5$. Для этого при различных $n$ сформируем $10^4$ выборок размера $n$, а затем посчитаем от них поэлементно среднее. Таким образом, мы получим одну выборку размера $10^4$. Теорема утверждает, что чем больше $n$, тем больше эта выборка похожа на выборку из некоторого нормального распределения $Y$.\n",
    "\n",
    "Математическое ожидание величины $X$ равно $\\dfrac{a + b}{2} = \\dfrac{1}{2}$. Дисперсия: \n",
    "$\\dfrac{(b - a)^2}{12} = \\dfrac{4^2}{12} = \\dfrac{4}{3}$. Это означает, что нормальное распределение $Y$ имеет параметры $\\mu = \\dfrac{1}{2}$, $\\sigma^2 = \\dfrac{4}{3n}$."
   ]
  },
  {
   "cell_type": "code",
   "execution_count": 32,
   "metadata": {},
   "outputs": [],
   "source": [
    "a = -1.5\n",
    "b = 2.5\n",
    "\n",
    "m = (a + b) / 2\n",
    "d = ((b - a) ** 2) / 12\n",
    "\n",
    "n_samples = 10 ** 4"
   ]
  },
  {
   "cell_type": "code",
   "execution_count": 33,
   "metadata": {},
   "outputs": [],
   "source": [
    "def get_mean_samples_uniform(n: int) -> np.ndarray:\n",
    "    \"\"\"Возвращает выборку из значений среднего от `n` равномерно распределённых\n",
    "    случайных величин.\n",
    "    \"\"\"\n",
    "    \n",
    "    samples = np.random.uniform(a, b, size=(n, n_samples))\n",
    "    \n",
    "    return samples.mean(axis=0)"
   ]
  },
  {
   "cell_type": "code",
   "execution_count": 34,
   "metadata": {},
   "outputs": [
    {
     "data": {
      "text/plain": [
       "[<matplotlib.lines.Line2D at 0x11dfe9390>]"
      ]
     },
     "execution_count": 34,
     "metadata": {},
     "output_type": "execute_result"
    },
    {
     "data": {
      "image/png": "[encoded data removed]",
      "text/plain": [
       "<Figure size 432x288 with 1 Axes>"
      ]
     },
     "metadata": {},
     "output_type": "display_data"
    }
   ],
   "source": [
    "n = 1000\n",
    "\n",
    "loc = m\n",
    "scale = np.sqrt(d / n)\n",
    "\n",
    "samples = get_mean_samples_uniform(n)\n",
    "\n",
    "ox = np.linspace(loc - 4 * scale, loc + 4 * scale, 1000)\n",
    "oy = np.array([pdf_normal(loc, scale, x) for x in ox])\n",
    "\n",
    "plt.hist(samples, density=True, bins=20)\n",
    "plt.plot(ox, oy, linestyle='dashed')"
   ]
  },
  {
   "cell_type": "markdown",
   "metadata": {},
   "source": [
    "__Пример 9__\n",
    "\n",
    "Аналогично продемонстрируем центральную предельную теорему на примере дискретного распределения, а именно биномиального с параметрами $n = 30$, $p = 0.2$. Параметр $n$ обозначим переменной `n_`, чтобы не конфликтовать с переменной `n`, отвечающей за число случайных величин, от которых берётся среднее.\n",
    "\n",
    "Математическое ожидание в данном случае равно $np = 6$, дисперсия: $np(1 - p) = 4.8$."
   ]
  },
  {
   "cell_type": "code",
   "execution_count": 35,
   "metadata": {},
   "outputs": [
    {
     "data": {
      "text/plain": [
       "4.800000000000001"
      ]
     },
     "execution_count": 35,
     "metadata": {},
     "output_type": "execute_result"
    }
   ],
   "source": [
    "30 * 0.2 * 0.8"
   ]
  },
  {
   "cell_type": "code",
   "execution_count": 36,
   "metadata": {},
   "outputs": [],
   "source": [
    "n_ = 30\n",
    "p = 0.2\n",
    "\n",
    "m = n_ * p\n",
    "d = n_ * p * (1 - p)\n",
    "\n",
    "n_samples = 10 ** 4"
   ]
  },
  {
   "cell_type": "code",
   "execution_count": 37,
   "metadata": {},
   "outputs": [],
   "source": [
    "def get_mean_samples_binomial(n: int) -> np.ndarray:\n",
    "    \"\"\"Возвращает выборку из значений среднего от `n` биномиально распределённых\n",
    "    случайных величин.\n",
    "    \"\"\"\n",
    "\n",
    "    samples = np.random.binomial(n_, p, size=(n, n_samples))\n",
    "    \n",
    "    return samples.mean(axis=0)"
   ]
  },
  {
   "cell_type": "code",
   "execution_count": 38,
   "metadata": {},
   "outputs": [
    {
     "data": {
      "text/plain": [
       "[<matplotlib.lines.Line2D at 0x11e192d90>]"
      ]
     },
     "execution_count": 38,
     "metadata": {},
     "output_type": "execute_result"
    },
    {
     "data": {
      "image/png": "[encoded data removed]",
      "text/plain": [
       "<Figure size 432x288 with 1 Axes>"
      ]
     },
     "metadata": {},
     "output_type": "display_data"
    }
   ],
   "source": [
    "n = 1000\n",
    "\n",
    "loc = m\n",
    "scale = np.sqrt(d / n)\n",
    "\n",
    "samples = get_mean_samples_binomial(n)\n",
    "\n",
    "ox = np.linspace(loc - 4 * scale, loc + 4 * scale, 1000)\n",
    "oy = np.array([pdf_normal(loc, scale, x) for x in ox])\n",
    "\n",
    "plt.hist(samples, density=True, bins=20)\n",
    "plt.plot(ox, oy, linestyle='dashed')"
   ]
  },
  {
   "cell_type": "markdown",
   "metadata": {},
   "source": [
    "### Упражнения"
   ]
  },
  {
   "cell_type": "markdown",
   "metadata": {},
   "source": [
    "__Задача 1__\n",
    "\n",
    "О непрерывной равномерно распределённой случайной величине `B` известно, что её дисперсия равна 0.2. Можно ли найти правую границу величины `B` и её среднее значение зная, что левая граница равна 0.5? Если да, найдите их.\n",
    "\n",
    "__Задача 2__\n",
    "\n",
    "Коробки с шоколадом упаковываются автоматически. Их средняя масса равна 1.06 кг. Известно, что 5% коробок имеют массу, меньшую 1 кг. Найдите: а) среднее квадратическое отклонение массы коробки, б) процент коробок, имеющих массу больше 1.1 кг.\n",
    "\n",
    "_Подсказка_. Найдите такое значение `scale`, для которого значение `cdf(x=1, loc=1.06, scale=scale)` близко к 0.05. Точности 0.0001 будет достаточно.\n",
    "\n",
    "__Задача 3__\n",
    "\n",
    "Коробка содержит 30 конфет. Известно, что масса каждой конфеты распределена равномерно в промежутке от 12 до 14 граммов. Используя центральную предельную теорему, найти вероятность, что масса всей коробки будет: а) меньше 390 граммов, б) больше 395 граммов, в) от 380 до 400 граммов.\n",
    "\n",
    "Массой самой коробки можно пренебречь."
   ]
  }
 ],
 "metadata": {
  "colab": {
   "name": "Матстат - Урок 4.ipynb",
   "provenance": [],
   "version": "0.3.2"
  },
  "kernelspec": {
   "display_name": "Python 3",
   "language": "python",
   "name": "python3"
  },
  "language_info": {
   "codemirror_mode": {
    "name": "ipython",
    "version": 3
   },
   "file_extension": ".py",
   "mimetype": "text/x-python",
   "name": "python",
   "nbconvert_exporter": "python",
   "pygments_lexer": "ipython3",
   "version": "3.7.7"
  }
 },
 "nbformat": 4,
 "nbformat_minor": 4
}
