{
 "cells": [
  {
   "cell_type": "markdown",
   "metadata": {},
   "source": [
    "# Урок 8\n",
    "\n",
    "## Двухфакторный дисперсионный анализ. Факторный анализ. Логистическая регрессия"
   ]
  },
  {
   "cell_type": "markdown",
   "metadata": {},
   "source": [
    "В _однофакторном дисперсионном анализе_ исследуется влияние одной категориальной переменной $x$, имеющей $k$ уровней, на количественную переменную $y$. Проверяется нулевая гипотеза о том, что среднее значение переменной $y$ на всех уровнях фактора $x$ совпадает.\n",
    "\n",
    "В __двухфакторном дисперсионном анализе__ имеются два фактора $a$, $b$, каждый из которых является категориальным. Проверяются гипотезы о влиянии каждого фактора на значение переменной $y$. \n",
    "\n",
    "_Замечание_. Почему здесь нельзя просто использовать два однофакторных дисперсионных анализа? Потому что в таком случае мы не учитываем тот факт, что два фактора могут зависеть друг от друга.\n",
    "\n",
    "Если мы уверены, что два фактора независимы, то разницы нет. В противном случае применение двух однофакторных дисперсионных анализов будет менее точным, чем использование одного двухфакторного.    \n",
    "\n",
    "Рассмотрим схему двухфакторного дисперсионного анализа __с однократными наблюдениями__. При таком подходе для каждой пары уровней факторов $a$ и $b$ выполняется только одно измерение переменной $y$.\n",
    "\n",
    "Пусть фактор $a$ имеет $m$ уровней, а фактор $b$ имеет $k$ уровней. Тогда исходные данные можно представить в виде таблицы\n",
    "$$Y = \\left(\n",
    "\\begin{array}{ccc}\n",
    "y_{11} & \\dots & y_{1k} \\\\\n",
    "y_{21} & \\dots & y_{2k} \\\\\n",
    "\\vdots & \\ddots & \\vdots \\\\\n",
    "y_{m1} & \\dots & y_{mk}\n",
    "\\end{array}\n",
    "\\right)$$\n",
    "где $y_{ij}$ — наблюдение на $i$-м уровне фактора $a$ и $j$-м уровне фактора $b$.\n",
    "\n",
    "_Замечание_. В двухфакторном дисперсионном анализе _с многократными наблюдениями_ каждый $y_{ij}$ представлял бы собой какой-то массив из значений."
   ]
  },
  {
   "cell_type": "markdown",
   "metadata": {},
   "source": [
    "По каждому фактору проверяется нулевая гипотеза о равенстве средних значений на каждом уровне. Пусть \n",
    "* $Y_{i \\ast}$ — $i$-я строка, т.е. значения переменной $y$ на $i$-м уровне фактора $a$ и $k$ уровнях фактора $b$,\n",
    "* $Y_{\\ast j}$ — $j$-й столбец, т.е. значения переменной $y$ на $m$ уровнях фактора $a$ и $j$-м уровне фактора $b$.\n",
    "\n",
    "Нулевые гипотезы:\n",
    "$$H_{0a}: \\:\\: \\overline{Y_{1 \\ast}} = \\dots = \\overline{Y_{m \\ast}}, \\:\\:\n",
    "H_{0b}: \\:\\: \\overline{Y_{\\ast 1}} = \\dots = \\overline{Y_{\\ast k}}$$\n",
    "\n",
    "Для вычисления значений статистик нам вновь понадобятся оценки дисперсий. Они вычисляются похожим образом. Суммы квадратов отклонений:\n",
    "$$S_a^2 = k \\cdot \\displaystyle\\sum_{i=1}^m \\left( \\overline{Y_{i \\ast}} - \\overline{Y} \\right)^2, \\:\\:\n",
    "S_b^2 = m \\cdot \\displaystyle\\sum_{j=1}^k \\left( \\overline{Y_{\\ast j}} - \\overline{Y} \\right)^2, \\:\\:\n",
    "S_w^2 = \\displaystyle\\sum_{i=1}^m \\displaystyle\\sum_{j=1}^k \\left( y_{ij} - \\overline{Y_{i \\ast}} - \\overline{Y_{\\ast j}} + \\overline{Y} \\right)^2$$\n",
    "\n",
    "_Замечание_. Первая сумма — отклонения между уровнями фактора $a$, вторая — между уровнями фактора $b$, третья — внутригрупповые отклонения.\n",
    "\n",
    "Оценки дисперсий:\n",
    "$$\\sigma_a^2 = \\dfrac{S_a^2}{m - 1}, \\:\\: \\sigma_b^2 = \\dfrac{S_b^2}{k - 1}, \\:\\:\n",
    "\\sigma_w^2 = \\dfrac{S_w^2}{(k - 1) (m - 1)}$$\n",
    "\n",
    "Напомним, что в двухфакторном дисперсионном анализе мы проверяем две гипотезы (отдельная гипотеза о влиянии каждого из факторов). Итак, статистика для гипотезы о влиянии фактора $a$:\n",
    "$$F_a = \\dfrac{\\sigma_a^2}{\\sigma_w^2}$$\n",
    "\n",
    "В предположении верности гипотезы $H_{0a}$ эта статистика имеет распределение Фишера с параметрами $k_{1a} = m - 1$, $k_{2a} = n - m$. Далее, как обычно, строится критическая область (правосторонняя, поскольку распределение Фишера имеет один хвост), и проводится тест.\n",
    "\n",
    "Аналогично, для гипотезы о влиянии фактора $b$ статистика:\n",
    "$$F_b = \\dfrac{\\sigma_b^2}{\\sigma_w^2}$$\n",
    "\n",
    "Она также имеет распределение Фишера, теперь с параметрами $k_{1b} = k - 1$, $k_{2b} = n - k$."
   ]
  },
  {
   "cell_type": "markdown",
   "metadata": {},
   "source": [
    "### Факторный анализ\n",
    "\n",
    "__Факторный анализ__ — это способ приведения множества непосредственно наблюдаемых факторов $x_j$, $j = 1, \\dots, m$, к меньшему числу новых линейно независимых факторов $y_j$, $j = 1, \\dots, q$, $q < m$.\n",
    "\n",
    "Рассмотрим __метод главных компонент__. Этот метод заключается в вычислении собственных значений и собственных векторов для ковариационной матрицы:\n",
    "$$\\operatorname{cov} = \\left(\n",
    "\\begin{array}{cccc}\n",
    "\\sigma_1^2 & \\sigma_{12} & \\dots & \\sigma_{1m} \\\\\n",
    "\\sigma_{12} & \\sigma_2^2 & \\dots & \\sigma_{2m} \\\\\n",
    "\\vdots & \\vdots & \\ddots & \\vdots \\\\\n",
    "\\sigma_{1m} & \\sigma_{2m} & \\dots & \\sigma_m^2\n",
    "\\end{array}\n",
    "\\right)\n",
    "$$"
   ]
  },
  {
   "cell_type": "markdown",
   "metadata": {},
   "source": [
    "__Краткий экскурс в линейную алгебру__\n",
    "\n",
    "Давайте разберёмся, что такое собственные векторы и собственные значения матрицы. Рассмотрим матрицу $X$:"
   ]
  },
  {
   "cell_type": "code",
   "execution_count": 1,
   "metadata": {},
   "outputs": [],
   "source": [
    "import numpy as np"
   ]
  },
  {
   "cell_type": "code",
   "execution_count": 2,
   "metadata": {},
   "outputs": [
    {
     "name": "stdout",
     "output_type": "stream",
     "text": [
      "[[ 1.   1.5]\n",
      " [ 1.5 -0.5]]\n"
     ]
    }
   ],
   "source": [
    "X = np.array([[1,    1.5],\n",
    "              [1.5, -0.5]])\n",
    "\n",
    "print(X)"
   ]
  },
  {
   "cell_type": "markdown",
   "metadata": {},
   "source": [
    "Любая квадратная матрица _действует_ на соответствующих векторах, переставляя их в пространстве. Например, возьмём произвольный вектор:"
   ]
  },
  {
   "cell_type": "code",
   "execution_count": 3,
   "metadata": {},
   "outputs": [],
   "source": [
    "v = np.array([1.1, -0.9])"
   ]
  },
  {
   "cell_type": "markdown",
   "metadata": {},
   "source": [
    "Действие матрицы $X$ на этом векторе происходит с помощью операции _умножения матриц_. Подробнее про умножение матриц: \n",
    "* [статья в википедии](https://ru.wikipedia.org/wiki/%D0%A3%D0%BC%D0%BD%D0%BE%D0%B6%D0%B5%D0%BD%D0%B8%D0%B5_%D0%BC%D0%B0%D1%82%D1%80%D0%B8%D1%86)\n",
    "* [документация по `numpy.dot`](https://docs.scipy.org/doc/numpy/reference/generated/numpy.dot.html)\n",
    "* [мой вебинар про это](https://geekbrains.ru/events/1248)\n",
    "\n",
    "Например, умножим матрицу $X$ на выбранный вектор $v$. В результате, получим какой-то новый вектор:"
   ]
  },
  {
   "cell_type": "code",
   "execution_count": 4,
   "metadata": {},
   "outputs": [
    {
     "data": {
      "text/plain": [
       "array([-0.25,  2.1 ])"
      ]
     },
     "execution_count": 4,
     "metadata": {},
     "output_type": "execute_result"
    }
   ],
   "source": [
    "X.dot(v)"
   ]
  },
  {
   "cell_type": "markdown",
   "metadata": {},
   "source": [
    "Визуализируем этот процесс на картинке. Здесь синим обозначен вектор $v$, а оранжевым — его образ $X \\cdot v$."
   ]
  },
  {
   "cell_type": "code",
   "execution_count": 5,
   "metadata": {},
   "outputs": [],
   "source": [
    "from matplotlib import pyplot as plt\n",
    "plt.style.use('seaborn-whitegrid')"
   ]
  },
  {
   "cell_type": "code",
   "execution_count": 6,
   "metadata": {},
   "outputs": [
    {
     "data": {
      "text/plain": [
       "(-1.5, 2.5)"
      ]
     },
     "execution_count": 6,
     "metadata": {},
     "output_type": "execute_result"
    },
    {
     "data": {
      "image/png": "[encoded data removed]",
      "text/plain": [
       "<Figure size 432x288 with 1 Axes>"
      ]
     },
     "metadata": {},
     "output_type": "display_data"
    }
   ],
   "source": [
    "plt.arrow(0, 0, v[0], v[1], color='C0', width=0.02)\n",
    "plt.arrow(0, 0, X.dot(v)[0], X.dot(v)[1], color='C1', width=0.01)\n",
    "\n",
    "plt.xlim(-0.5, 1.5)\n",
    "plt.ylim(-1.5, 2.5)"
   ]
  },
  {
   "cell_type": "markdown",
   "metadata": {},
   "source": [
    "Вектор $v$ и его _образ_ под действием $X$ не имеют между собой ничего особенно общего. \n",
    "\n",
    "Оказывается, для любой матрицы существуют особые векторы, которые под действием этой матрицы либо растягиваются, либо сжимаются. Такие векторы называются __собственными__. Вычислим собственные векторы и собственные значения (о них чуть позже) для матрицы $X$:"
   ]
  },
  {
   "cell_type": "code",
   "execution_count": 7,
   "metadata": {},
   "outputs": [
    {
     "name": "stdout",
     "output_type": "stream",
     "text": [
      "собственные значения:\n",
      "[ 1.92705098 -1.42705098]\n",
      "\n",
      "собственные векторы:\n",
      "[[ 0.85065081 -0.52573111]\n",
      " [ 0.52573111  0.85065081]]\n"
     ]
    }
   ],
   "source": [
    "eigenvalues, eigenvectors = np.linalg.eig(X)\n",
    "\n",
    "print(f'собственные значения:\\n{eigenvalues}\\n')\n",
    "print(f'собственные векторы:\\n{eigenvectors}')"
   ]
  },
  {
   "cell_type": "markdown",
   "metadata": {},
   "source": [
    "_Замечание_. Векторы тут записаны именно _в столбцах_.\n",
    "\n",
    "Итак, возьмём, например, первый из этих векторов и попробуем подействовать матрицей на него."
   ]
  },
  {
   "cell_type": "code",
   "execution_count": 8,
   "metadata": {},
   "outputs": [
    {
     "data": {
      "text/plain": [
       "array([0.85065081, 0.52573111])"
      ]
     },
     "execution_count": 8,
     "metadata": {},
     "output_type": "execute_result"
    }
   ],
   "source": [
    "v = eigenvectors[:, 0]\n",
    "v"
   ]
  },
  {
   "cell_type": "code",
   "execution_count": 9,
   "metadata": {},
   "outputs": [
    {
     "data": {
      "text/plain": [
       "array([1.63924748, 1.01311066])"
      ]
     },
     "execution_count": 9,
     "metadata": {},
     "output_type": "execute_result"
    }
   ],
   "source": [
    "X.dot(v)"
   ]
  },
  {
   "cell_type": "code",
   "execution_count": 10,
   "metadata": {},
   "outputs": [
    {
     "data": {
      "text/plain": [
       "(0.0, 1.5)"
      ]
     },
     "execution_count": 10,
     "metadata": {},
     "output_type": "execute_result"
    },
    {
     "data": {
      "image/png": "[encoded data removed]",
      "text/plain": [
       "<Figure size 432x288 with 1 Axes>"
      ]
     },
     "metadata": {},
     "output_type": "display_data"
    }
   ],
   "source": [
    "plt.arrow(0, 0, v[0], v[1], color='C0', width=0.02)\n",
    "plt.arrow(0, 0, X.dot(v)[0], X.dot(v)[1], color='C1', width=0.01)\n",
    "\n",
    "plt.xlim(0, 2)\n",
    "plt.ylim(0, 1.5)"
   ]
  },
  {
   "cell_type": "markdown",
   "metadata": {},
   "source": [
    "Как мы видим, вектор $v$ (синий) под действием матрицы $X$ растянулся (оранжевый). Давайте проверим, во сколько раз он растянулся."
   ]
  },
  {
   "cell_type": "code",
   "execution_count": 11,
   "metadata": {},
   "outputs": [
    {
     "data": {
      "text/plain": [
       "array([1.92705098, 1.92705098])"
      ]
     },
     "execution_count": 11,
     "metadata": {},
     "output_type": "execute_result"
    }
   ],
   "source": [
    "X.dot(v) / v"
   ]
  },
  {
   "cell_type": "markdown",
   "metadata": {},
   "source": [
    "Если покомпонентно разделить образ $X \\cdot v$ на оригинальный вектор $v$, мы увидим, что значения получились одинаковыми. Это согласуется с тем, что векторы $X \\cdot v$ и $v$ параллельны друг другу."
   ]
  },
  {
   "cell_type": "code",
   "execution_count": 12,
   "metadata": {},
   "outputs": [
    {
     "data": {
      "text/plain": [
       "array([1.63924747, 1.01311065])"
      ]
     },
     "execution_count": 12,
     "metadata": {},
     "output_type": "execute_result"
    }
   ],
   "source": [
    "v * 1.92705098"
   ]
  },
  {
   "cell_type": "code",
   "execution_count": 13,
   "metadata": {},
   "outputs": [
    {
     "data": {
      "text/plain": [
       "array([1.63924748, 1.01311066])"
      ]
     },
     "execution_count": 13,
     "metadata": {},
     "output_type": "execute_result"
    }
   ],
   "source": [
    "X.dot(v)"
   ]
  },
  {
   "cell_type": "markdown",
   "metadata": {},
   "source": [
    "Отметим, что этот множитель мы уже где-то видели. Он является собственным значением, соответствующим этому вектору:"
   ]
  },
  {
   "cell_type": "code",
   "execution_count": 14,
   "metadata": {},
   "outputs": [
    {
     "data": {
      "text/plain": [
       "array([ 1.92705098, -1.42705098])"
      ]
     },
     "execution_count": 14,
     "metadata": {},
     "output_type": "execute_result"
    }
   ],
   "source": [
    "eigenvalues"
   ]
  },
  {
   "cell_type": "markdown",
   "metadata": {},
   "source": [
    "Итак, для матрицы $X$ __собственный вектор__ — это такой вектор, который под действием $X$ не меняет направление, а лишь растягивается или сжимается. __Собственное значение__, соответствующее этому собственному вектору — это тот коэффициент, на который он растягивается/сжимается."
   ]
  },
  {
   "cell_type": "markdown",
   "metadata": {},
   "source": [
    "__Назад к методу главных компонент__\n",
    "\n",
    "Допустим, имеется матрица объект-признак: $X = \\left( x_{ij} \\right)_{n \\times m}$ (т.е. $n$ объектов, $m$ признаков).\n",
    "\n",
    "__Метод главных компонент__:\n",
    "\n",
    "1. _Центрировать_ матрицу $X$, т.е. вычесть из каждого столбца среднее по этому столбцу. В результате получится матрица $X^\\ast = \\left( x_{ij}^\\ast \\right)_{n \\times m}$, в которой средние по столбцам равны $0$.\n",
    "2. Вычислить матрицу несмещённых оценок ковариаций $\\operatorname{cov} = \\left( \\sigma_{ij} \\right)_{m \\times m}$.\n",
    "3. Вычислить собственные векторы и собственные значения матрицы $\\operatorname{cov}$.\n",
    "4. Пусть $T$ — матрица, составленная из $q$ собственных векторов (столбцов), соответствующих $q$ наибольшим собственным значениям. Новая матрица объект-признак: $Y = X^\\ast \\cdot T$."
   ]
  },
  {
   "cell_type": "markdown",
   "metadata": {},
   "source": [
    "__Пример 2__\n",
    "\n",
    "Рассмотрим матрицу объект признак:"
   ]
  },
  {
   "cell_type": "code",
   "execution_count": 82,
   "metadata": {},
   "outputs": [],
   "source": [
    "samples = np.array([[ 2.36499331, -0.57978654],\n",
    "                    [ 5.70144948,  3.54257542],\n",
    "                    [ 5.27028536,  2.1560189 ],\n",
    "                    [ 4.14275078,  0.39188923],\n",
    "                    [ 3.93109011,  0.87195848],\n",
    "                    [ 4.59408573,  2.17496773],\n",
    "                    [ 3.53666882,  0.84484304],\n",
    "                    [ 5.13601245,  2.74557671],\n",
    "                    [ 4.40989037,  1.7030094 ],\n",
    "                    [ 5.05796456,  1.86949263]])"
   ]
  },
  {
   "cell_type": "markdown",
   "metadata": {},
   "source": [
    "Поскольку признаков всего $2$, соответствующие объекты можно расположить на плоскости:"
   ]
  },
  {
   "cell_type": "code",
   "execution_count": 83,
   "metadata": {},
   "outputs": [
    {
     "data": {
      "text/plain": [
       "<matplotlib.collections.PathCollection at 0x1198ce690>"
      ]
     },
     "execution_count": 83,
     "metadata": {},
     "output_type": "execute_result"
    },
    {
     "data": {
      "image/png": "[encoded data removed]",
      "text/plain": [
       "<Figure size 432x288 with 1 Axes>"
      ]
     },
     "metadata": {},
     "output_type": "display_data"
    }
   ],
   "source": [
    "plt.scatter(samples[:, 0], samples[:, 1])"
   ]
  },
  {
   "cell_type": "markdown",
   "metadata": {},
   "source": [
    "Как мы видим, объекты более-менее лежат на одной прямой. Это означает, что мы можем попытаться заменить два признака на один, при этом не потеряв слишком много информации. Для этого воспользуемся методом главных компонент. Сначала центрируем наши данные:"
   ]
  },
  {
   "cell_type": "code",
   "execution_count": 84,
   "metadata": {},
   "outputs": [
    {
     "data": {
      "text/plain": [
       "array([4.4145191, 1.5720545])"
      ]
     },
     "execution_count": 84,
     "metadata": {},
     "output_type": "execute_result"
    }
   ],
   "source": [
    "samples.mean(axis=0)"
   ]
  },
  {
   "cell_type": "code",
   "execution_count": 85,
   "metadata": {},
   "outputs": [
    {
     "name": "stdout",
     "output_type": "stream",
     "text": [
      "[[-2.04952579 -2.15184104]\n",
      " [ 1.28693038  1.97052092]\n",
      " [ 0.85576626  0.5839644 ]\n",
      " [-0.27176832 -1.18016527]\n",
      " [-0.48342899 -0.70009602]\n",
      " [ 0.17956663  0.60291323]\n",
      " [-0.87785028 -0.72721146]\n",
      " [ 0.72149335  1.17352221]\n",
      " [-0.00462873  0.1309549 ]\n",
      " [ 0.64344546  0.29743813]]\n"
     ]
    }
   ],
   "source": [
    "samples_centered = samples - samples.mean(axis=0)\n",
    "\n",
    "print(samples_centered)"
   ]
  },
  {
   "cell_type": "code",
   "execution_count": 86,
   "metadata": {},
   "outputs": [
    {
     "data": {
      "text/plain": [
       "array([-3.10862447e-16, -1.33226763e-16])"
      ]
     },
     "execution_count": 86,
     "metadata": {},
     "output_type": "execute_result"
    }
   ],
   "source": [
    "samples_centered.mean(axis=0)"
   ]
  },
  {
   "cell_type": "code",
   "execution_count": 87,
   "metadata": {},
   "outputs": [
    {
     "data": {
      "text/plain": [
       "<matplotlib.collections.PathCollection at 0x119a18bd0>"
      ]
     },
     "execution_count": 87,
     "metadata": {},
     "output_type": "execute_result"
    },
    {
     "data": {
      "image/png": "[encoded data removed]",
      "text/plain": [
       "<Figure size 432x288 with 1 Axes>"
      ]
     },
     "metadata": {},
     "output_type": "display_data"
    }
   ],
   "source": [
    "plt.scatter(samples_centered[:, 0], samples_centered[:, 1])"
   ]
  },
  {
   "cell_type": "markdown",
   "metadata": {},
   "source": [
    "Теперь посчитаем матрицу ковариаций. Отметим, что если функция `numpy.cov` получает на вход двумерный массив, а не несколько одномерных массивов, то ожидается, что значения каждого признака будут расположены в строках (а не в столбцах, как у нас). Поэтому в эту функцию мы подаём транспонированную матрицу `samples_centered.T`."
   ]
  },
  {
   "cell_type": "code",
   "execution_count": 88,
   "metadata": {},
   "outputs": [
    {
     "name": "stdout",
     "output_type": "stream",
     "text": [
      "[[0.95934497 1.09880063]\n",
      " [1.09880063 1.45693615]]\n"
     ]
    }
   ],
   "source": [
    "cov = np.cov(samples_centered.T, ddof=1)\n",
    "\n",
    "print(cov)"
   ]
  },
  {
   "cell_type": "code",
   "execution_count": 89,
   "metadata": {},
   "outputs": [
    {
     "data": {
      "text/plain": [
       "array([0.95934497, 1.45693615])"
      ]
     },
     "execution_count": 89,
     "metadata": {},
     "output_type": "execute_result"
    }
   ],
   "source": [
    "np.var(samples_centered, axis=0, ddof=1)"
   ]
  },
  {
   "cell_type": "markdown",
   "metadata": {},
   "source": [
    "Собственные значения и собственные векторы можно теперь получить с помощью функции `numpy.linalg.eig`."
   ]
  },
  {
   "cell_type": "code",
   "execution_count": 90,
   "metadata": {},
   "outputs": [
    {
     "name": "stdout",
     "output_type": "stream",
     "text": [
      "eigenvalues:\n",
      "[0.08152525 2.33475587]\n",
      "\n",
      "eivenvectors:\n",
      "[[-0.78129206 -0.62416562]\n",
      " [ 0.62416562 -0.78129206]]\n"
     ]
    }
   ],
   "source": [
    "eigenvalues, eigenvectors = np.linalg.eig(cov)\n",
    "\n",
    "print(f'eigenvalues:\\n{eigenvalues}\\n')\n",
    "print(f'eivenvectors:\\n{eigenvectors}')"
   ]
  },
  {
   "cell_type": "markdown",
   "metadata": {},
   "source": [
    "Ещё раз напомним, что в массиве `eigenvectors` векторы записаны именно в столбцах."
   ]
  },
  {
   "cell_type": "markdown",
   "metadata": {},
   "source": [
    "Итак, мы хотим получить один признак, поэтому возьмём второй вектор (он соответствует второму собственному значению, которое сильно больше первого). Домножим матрицу `samples_centered` на этот вектор, чтобы получить новую матрицу объект-признак."
   ]
  },
  {
   "cell_type": "code",
   "execution_count": 91,
   "metadata": {},
   "outputs": [
    {
     "data": {
      "text/plain": [
       "array([[-2.04952579, -2.15184104],\n",
       "       [ 1.28693038,  1.97052092],\n",
       "       [ 0.85576626,  0.5839644 ],\n",
       "       [-0.27176832, -1.18016527],\n",
       "       [-0.48342899, -0.70009602],\n",
       "       [ 0.17956663,  0.60291323],\n",
       "       [-0.87785028, -0.72721146],\n",
       "       [ 0.72149335,  1.17352221],\n",
       "       [-0.00462873,  0.1309549 ],\n",
       "       [ 0.64344546,  0.29743813]])"
      ]
     },
     "execution_count": 91,
     "metadata": {},
     "output_type": "execute_result"
    }
   ],
   "source": [
    "samples_centered"
   ]
  },
  {
   "cell_type": "code",
   "execution_count": 92,
   "metadata": {},
   "outputs": [
    {
     "data": {
      "text/plain": [
       "array([[-0.62416562],\n",
       "       [-0.78129206]])"
      ]
     },
     "execution_count": 92,
     "metadata": {},
     "output_type": "execute_result"
    }
   ],
   "source": [
    "eigenvectors[:, [1]]"
   ]
  },
  {
   "cell_type": "code",
   "execution_count": 93,
   "metadata": {},
   "outputs": [
    {
     "name": "stdout",
     "output_type": "stream",
     "text": [
      "[[ 2.96045985]\n",
      " [-2.34281004]\n",
      " [-0.99038663]\n",
      " [ 1.09168219]\n",
      " [ 0.84871921]\n",
      " [-0.58313064]\n",
      " [ 1.1160885 ]\n",
      " [-1.36719493]\n",
      " [-0.09942493]\n",
      " [-0.63400259]]\n"
     ]
    }
   ],
   "source": [
    "new_samples = samples_centered.dot(eigenvectors[:, [1]])\n",
    "\n",
    "print(new_samples)"
   ]
  },
  {
   "cell_type": "markdown",
   "metadata": {},
   "source": [
    "Качество метода главных компонент можно оценить, сравнивая дисперсии признаков до и после применения метода. \n",
    "    \n",
    "Пусть $\\sigma_X^2$ — сумма дисперсий признаков до применения метода, а $\\sigma_Y^2$ — сумма дисперсий после применения метода. Тогда __доля объяснённой дисперсии__ равна отношению \n",
    "$$\\dfrac{\\sigma_Y^2}{\\sigma_X^2}$$\n",
    "\n",
    "_Замечание_. Поскольку мы в некотором смысле «отсеиваем» признаки, сумма дисперсий после применения метода не может быть больше, чем до.\n",
    "\n",
    "Долю объяснённой дисперсии можно интерпретировать как процент сохранённой информации."
   ]
  },
  {
   "cell_type": "markdown",
   "metadata": {},
   "source": [
    "Посчитаем долю объяснённой дисперсии этого нового признака. Общая дисперсия до применения метода:"
   ]
  },
  {
   "cell_type": "code",
   "execution_count": 94,
   "metadata": {},
   "outputs": [
    {
     "data": {
      "text/plain": [
       "2.416281116587471"
      ]
     },
     "execution_count": 94,
     "metadata": {},
     "output_type": "execute_result"
    }
   ],
   "source": [
    "variance_before = np.var(samples, axis=0, ddof=1).sum()\n",
    "variance_before"
   ]
  },
  {
   "cell_type": "markdown",
   "metadata": {},
   "source": [
    "Посчитаем несмещённую оценку дисперсии нового признака и найдём его долю от общей дисперсии:"
   ]
  },
  {
   "cell_type": "code",
   "execution_count": 95,
   "metadata": {},
   "outputs": [
    {
     "data": {
      "text/plain": [
       "0.966260032546749"
      ]
     },
     "execution_count": 95,
     "metadata": {},
     "output_type": "execute_result"
    }
   ],
   "source": [
    "variance_after = new_samples.var(ddof=1)\n",
    "\n",
    "variance_after / variance_before"
   ]
  },
  {
   "cell_type": "markdown",
   "metadata": {},
   "source": [
    "Такое значение доли объяснённой дисперсии можно интерпретировать так: используя новые данные вместо старых, мы сохраним около $96.6\\%$ информации, т.е. потеряем лишь $3.4 \\%$, что довольно неплохо."
   ]
  },
  {
   "cell_type": "markdown",
   "metadata": {},
   "source": [
    "### Логистическая регрессия\n",
    "\n",
    "Логистическая регрессия возникает в задачах __бинарной классификации__: исследуется некоторый набор объектов, и каждому объекту приписана бинарная метка ($0$ или $1$).\n",
    "\n",
    "В модели __логистической регрессии__ вероятность объекта $x = (x_0, x_1, \\dots, x_m)$ принадлежать классу $1$ моделируется следующим образом:\n",
    "$$P(y = 1 | x) = \\sigma(b_0 x_0  + b_1 x_1 + \\dots + b_m x_m) = \\sigma(x \\cdot b),$$\n",
    "где $\\sigma(z)$ — __логистическая функция__ или __сигмоида__:\n",
    "$$\\sigma(z) = \\dfrac{1}{1 + e^{-z}}$$\n",
    "Сигмоида принимает в качестве аргумента вещественное число, а отдаёт число из промежутка $[0, 1]$.\n",
    "\n",
    "_Замечание_. Как и ранее в линейной регрессии, мы под $x_0$ понимаем «фиктивный» фактор (равный $1$ для каждого объекта), который нужен просто чтобы записать выражение в векторном виде $x \\cdot b$."
   ]
  },
  {
   "cell_type": "markdown",
   "metadata": {},
   "source": [
    "Для оптимизации параметров модели используется __метод максимального правдоподобия__. Его схему можно изобразить следующим образом:\n",
    "$$\\hat{b} = \\displaystyle\\arg\\max_b \\displaystyle\\prod_{i = 1}^n P(y = y_i | x = x_i)$$\n",
    "По сути мы подбираем набор параметров $\\hat{b}$ так, чтобы _максимизировать вероятность наблюдать ту выборку, которая у нас есть_.\n",
    "\n",
    "Тут кроме формулы для $P(y = 1 | x)$ нам понадобится также формула вероятности принадлежности объекта к нулевому классу:\n",
    "$$P(y = 0 | x) = 1 - \\sigma(x \\cdot b)$$\n",
    "\n",
    "Отсюда запишем общую вероятность:\n",
    "$$P(y | x) = \\sigma(x \\cdot b)^y \\cdot \\left( 1 - \\sigma(x \\cdot b) \\right)^{1 - y}$$\n",
    "\n",
    "Эти вероятности и используются в методе максимального правдоподобия.\n",
    "\n",
    "В практическом смысле удобнее максимизировать не саму функцию, а её логарифм (поскольку в этом случае множители превращаются в слагаемые). Итак, __максимизируется функционал__:\n",
    "$$Q(b) = \\displaystyle\\sum_{i = 1}^n \\Big[ y_i \\cdot \\ln \\big( \\sigma(x_i \\cdot b) \\big) + (1 - y_i) \\cdot \\ln \\big( 1 - \\sigma(x_i \\cdot b) \\big) \\Big],$$\n",
    "где $x_i$ — набор признаков $i$-го объекта, $y_i$ — его метка ($0$ или $1$)."
   ]
  },
  {
   "cell_type": "markdown",
   "metadata": {},
   "source": [
    "Для нахождения оптимального решения используют оптимизационные методы, например, __градиентный спуск__. \n",
    "\n",
    "Здесь нам понадобится вектор __градиента__, который состоит из частных производных функционала $Q(b)$ по переменным $b_j$:\n",
    "\n",
    "$$\\nabla Q = \\left( \\dfrac{\\partial Q}{\\partial b_0}, \\dots, \\dfrac{\\partial Q}{\\partial b_m} \\right)$$\n",
    "Результат взятия каждой частной производной вычисляется по формуле:\n",
    "$$\\dfrac{\\partial Q}{\\partial b_j} = \\displaystyle\\sum_{i=1}^n \\big( y_i - \\sigma(b_0 x_{i0} + \\dots + b_m x_{im}) \\big) x_{ij},$$\n",
    "где $x_{ij}$ — $j$-й признак $i$-го объекта из выборки.\n",
    "\n",
    "Вектор градиента указывает направление __наискорейшего роста__.\n",
    "\n",
    "Непосредственно метод градиентного спуска заключается в следующем. Сначала выбираются начальные значения параметров $b_0, \\dots, b_m$, т.е. вектор $b^{[0]}$. Затем итеративно повторяется вычисление:\n",
    "$$b^{[k + 1]} = b^{[k]} + \\lambda_k \\nabla Q \\left( b^{[k]} \\right)$$\n",
    "\n",
    "_Замечание_. Перед вектором градиента стоит знак «$+$», поскольку мы хотим двигаться в направлении роста функционала.\n",
    "\n",
    "Параметр $\\lambda_k$ отвечает за скорость спуска. Он может быть\n",
    "* обратно пропорциональным к $k$,\n",
    "* иным (см. [метод наискорейшего спуска](http://www.machinelearning.ru/wiki/index.php?title=%D0%9C%D0%B5%D1%82%D0%BE%D0%B4_%D0%B3%D1%80%D0%B0%D0%B4%D0%B8%D0%B5%D0%BD%D1%82%D0%BD%D0%BE%D0%B3%D0%BE_%D1%81%D0%BF%D1%83%D1%81%D0%BA%D0%B0#.D0.9C.D0.B5.D1.82.D0.BE.D0.B4_.D0.BD.D0.B0.D0.B8.D1.81.D0.BA.D0.BE.D1.80.D0.B5.D0.B9.D1.88.D0.B5.D0.B3.D0.BE_.D1.81.D0.BF.D1.83.D1.81.D0.BA.D0.B0_2)).\n",
    "\n",
    "Описанный выше процесс повторяется, пока соседние векторы $b^{[k + 1]}$, $b^{[k]}$ не перестанут сильно отличаться друг от друга."
   ]
  },
  {
   "cell_type": "code",
   "execution_count": 96,
   "metadata": {},
   "outputs": [],
   "source": [
    "def sigmoid(x: float) -> float:\n",
    "    \"\"\"Сигмоида.\n",
    "    \"\"\"\n",
    "    \n",
    "    return 1 / (1 + np.exp(-x))"
   ]
  },
  {
   "cell_type": "code",
   "execution_count": 97,
   "metadata": {},
   "outputs": [],
   "source": [
    "def partial_derivative(j: int, b: np.ndarray, x: np.ndarray, y: np.ndarray) -> float:\n",
    "    \"\"\"Частная производная функционала Q по переменной b_j.\n",
    "    \"\"\"\n",
    "    \n",
    "    return sum(\n",
    "        x[i, j] * (y[i] - sigmoid(b.dot(x[i])))\n",
    "        for i in range(x.shape[0])\n",
    "    )"
   ]
  },
  {
   "cell_type": "code",
   "execution_count": 98,
   "metadata": {},
   "outputs": [],
   "source": [
    "def gradient(b: np.ndarray, x: np.ndarray, y: np.ndarray) -> np.ndarray:\n",
    "    \"\"\"Вектор градиента.\n",
    "    \"\"\"\n",
    "    \n",
    "    return np.array([\n",
    "        partial_derivative(j, b, x, y)\n",
    "        for j in range(b.shape[0])\n",
    "    ])"
   ]
  },
  {
   "cell_type": "code",
   "execution_count": 99,
   "metadata": {},
   "outputs": [],
   "source": [
    "def gradient_descent_step(\n",
    "        lambda_: float,\n",
    "        b: np.ndarray,\n",
    "        x: np.ndarray,\n",
    "        y: np.ndarray,\n",
    ") -> np.ndarray:\n",
    "    \"\"\"Один шаг градиентного спуска.\n",
    "    \"\"\"\n",
    "    \n",
    "    return b + lambda_ * gradient(b, x, y)"
   ]
  },
  {
   "cell_type": "markdown",
   "metadata": {},
   "source": [
    "__Пример 3__\n",
    "\n",
    "Рассмотрим массив `samples` из примера 2."
   ]
  },
  {
   "cell_type": "code",
   "execution_count": 100,
   "metadata": {},
   "outputs": [
    {
     "name": "stdout",
     "output_type": "stream",
     "text": [
      "[[ 2.36499331 -0.57978654]\n",
      " [ 5.70144948  3.54257542]\n",
      " [ 5.27028536  2.1560189 ]\n",
      " [ 4.14275078  0.39188923]\n",
      " [ 3.93109011  0.87195848]\n",
      " [ 4.59408573  2.17496773]\n",
      " [ 3.53666882  0.84484304]\n",
      " [ 5.13601245  2.74557671]\n",
      " [ 4.40989037  1.7030094 ]\n",
      " [ 5.05796456  1.86949263]]\n"
     ]
    },
    {
     "data": {
      "text/plain": [
       "<matplotlib.collections.PathCollection at 0x119aeb490>"
      ]
     },
     "execution_count": 100,
     "metadata": {},
     "output_type": "execute_result"
    },
    {
     "data": {
      "image/png": "[encoded data removed]",
      "text/plain": [
       "<Figure size 432x288 with 1 Axes>"
      ]
     },
     "metadata": {},
     "output_type": "display_data"
    }
   ],
   "source": [
    "print(samples)\n",
    "\n",
    "plt.scatter(samples[:, 0], samples[:, 1])"
   ]
  },
  {
   "cell_type": "markdown",
   "metadata": {},
   "source": [
    "Рассмотрим набор меток к этим объектам:"
   ]
  },
  {
   "cell_type": "code",
   "execution_count": 101,
   "metadata": {},
   "outputs": [
    {
     "data": {
      "text/plain": [
       "<matplotlib.collections.PathCollection at 0x11990b450>"
      ]
     },
     "execution_count": 101,
     "metadata": {},
     "output_type": "execute_result"
    },
    {
     "data": {
      "image/png": "[encoded data removed]",
      "text/plain": [
       "<Figure size 432x288 with 1 Axes>"
      ]
     },
     "metadata": {},
     "output_type": "display_data"
    }
   ],
   "source": [
    "y = np.array([0, 1, 0, 0, 0, 1, 1, 1, 1, 1])\n",
    "\n",
    "color = {0: 'C0', 1: 'C3'}\n",
    "color = [color[i] for i in y]\n",
    "\n",
    "plt.scatter(samples[:, 0], samples[:, 1], color=color)"
   ]
  },
  {
   "cell_type": "markdown",
   "metadata": {},
   "source": [
    "Построим для данной задачи модель логистической регрессии методом градиентного спуска.\n",
    "\n",
    "Для начала отмасштабируем наши данные, чтобы значения каждого признака попадали в интервал $[0, 1]$. Это немного упростит процесс оптимизации."
   ]
  },
  {
   "cell_type": "code",
   "execution_count": 102,
   "metadata": {},
   "outputs": [
    {
     "data": {
      "text/plain": [
       "array([[0.        , 0.        ],\n",
       "       [1.        , 1.        ],\n",
       "       [0.87077183, 0.66364998],\n",
       "       [0.53282806, 0.2357085 ],\n",
       "       [0.46938929, 0.3521634 ],\n",
       "       [0.66810181, 0.66824658],\n",
       "       [0.35117366, 0.34558576],\n",
       "       [0.83052766, 0.80666455],\n",
       "       [0.61289493, 0.55375922],\n",
       "       [0.80713521, 0.59414462]])"
      ]
     },
     "execution_count": 102,
     "metadata": {},
     "output_type": "execute_result"
    }
   ],
   "source": [
    "samples = (samples - samples.min(axis=0)) / (samples.max(axis=0) - samples.min(axis=0))\n",
    "\n",
    "samples"
   ]
  },
  {
   "cell_type": "code",
   "execution_count": 103,
   "metadata": {},
   "outputs": [
    {
     "data": {
      "text/plain": [
       "<matplotlib.collections.PathCollection at 0x118fa1a50>"
      ]
     },
     "execution_count": 103,
     "metadata": {},
     "output_type": "execute_result"
    },
    {
     "data": {
      "image/png": "[encoded data removed]",
      "text/plain": [
       "<Figure size 432x288 with 1 Axes>"
      ]
     },
     "metadata": {},
     "output_type": "display_data"
    }
   ],
   "source": [
    "plt.scatter(samples[:, 0], samples[:, 1], color=color)"
   ]
  },
  {
   "cell_type": "markdown",
   "metadata": {},
   "source": [
    "Добавим столбец «фиктивного» фактора:"
   ]
  },
  {
   "cell_type": "code",
   "execution_count": 104,
   "metadata": {},
   "outputs": [
    {
     "data": {
      "text/plain": [
       "array([[1.        , 0.        , 0.        ],\n",
       "       [1.        , 1.        , 1.        ],\n",
       "       [1.        , 0.87077183, 0.66364998],\n",
       "       [1.        , 0.53282806, 0.2357085 ],\n",
       "       [1.        , 0.46938929, 0.3521634 ],\n",
       "       [1.        , 0.66810181, 0.66824658],\n",
       "       [1.        , 0.35117366, 0.34558576],\n",
       "       [1.        , 0.83052766, 0.80666455],\n",
       "       [1.        , 0.61289493, 0.55375922],\n",
       "       [1.        , 0.80713521, 0.59414462]])"
      ]
     },
     "execution_count": 104,
     "metadata": {},
     "output_type": "execute_result"
    }
   ],
   "source": [
    "ones = np.ones((samples.shape[0], 1))\n",
    "\n",
    "x = np.hstack([ones, samples])\n",
    "\n",
    "x"
   ]
  },
  {
   "cell_type": "markdown",
   "metadata": {},
   "source": [
    "Нам понадобится метрика чтобы вычислять расстояние между соседними векторами параметров. Будем использовать евклидово расстояние."
   ]
  },
  {
   "cell_type": "code",
   "execution_count": 105,
   "metadata": {},
   "outputs": [],
   "source": [
    "from scipy.spatial.distance import euclidean"
   ]
  },
  {
   "cell_type": "markdown",
   "metadata": {},
   "source": [
    "Начальное приближение $b^{[0]}$ можно выбирать нулевым или произвольным. Будем также использовать коэффициент $\\lambda_k = \\dfrac{0.1}{k}$."
   ]
  },
  {
   "cell_type": "code",
   "execution_count": 106,
   "metadata": {},
   "outputs": [],
   "source": [
    "from tqdm.notebook import trange"
   ]
  },
  {
   "cell_type": "code",
   "execution_count": 107,
   "metadata": {},
   "outputs": [
    {
     "data": {
      "application/vnd.jupyter.widget-view+json": {
       "model_id": "fe871ea1f04649d58b1d2ba10c9204e8",
       "version_major": 2,
       "version_minor": 0
      },
      "text/plain": [
       "HBox(children=(FloatProgress(value=0.0, max=999999.0), HTML(value='')))"
      ]
     },
     "metadata": {},
     "output_type": "display_data"
    },
    {
     "name": "stdout",
     "output_type": "stream",
     "text": [
      "success on step 6136\n",
      "\n",
      "\n",
      "[-0.03670051  0.41548189  0.65301927]\n"
     ]
    }
   ],
   "source": [
    "b_0 = np.zeros(x.shape[1])\n",
    "\n",
    "b = b_0\n",
    "\n",
    "for k in trange(1, 10 ** 6):\n",
    "    lambda_ = 0.1 / k\n",
    "    \n",
    "    b_new = gradient_descent_step(lambda_, b, x, y)\n",
    "        \n",
    "    if euclidean(b, b_new) < 10 ** (-5):\n",
    "        print(f'success on step {k}\\n')\n",
    "        \n",
    "        break\n",
    "    \n",
    "    b = b_new\n",
    "\n",
    "b = b_new\n",
    "\n",
    "print(b)"
   ]
  },
  {
   "cell_type": "markdown",
   "metadata": {},
   "source": [
    "Для сравнения также построим модель логистической регрессии из библиотеки `sklearn`."
   ]
  },
  {
   "cell_type": "code",
   "execution_count": 108,
   "metadata": {},
   "outputs": [],
   "source": [
    "from sklearn.linear_model import LogisticRegression"
   ]
  },
  {
   "cell_type": "code",
   "execution_count": 109,
   "metadata": {},
   "outputs": [
    {
     "name": "stdout",
     "output_type": "stream",
     "text": [
      "Коэффициенты: [-0.09047654  0.35720772  0.61585617]\n",
      "Число итераций: [3]\n"
     ]
    }
   ],
   "source": [
    "model = LogisticRegression(solver='liblinear', fit_intercept=False)\n",
    "\n",
    "model.fit(x, y)\n",
    "b_sklearn = model.coef_.flatten()\n",
    "\n",
    "print(f'Коэффициенты: {b_sklearn}')\n",
    "print(f'Число итераций: {model.n_iter_}')"
   ]
  },
  {
   "cell_type": "markdown",
   "metadata": {},
   "source": [
    "Видим, что коэффициенты достаточно близки, но модели из `sklearn` понадобилось ощутимо меньше итераций."
   ]
  },
  {
   "cell_type": "markdown",
   "metadata": {},
   "source": [
    "__Логистическая регрессия. Принятие решения__\n",
    "\n",
    "Напомним, что модель логистической регрессии можно записать в следующем виде:\n",
    "$$P(y = 1 | x) = \\sigma(x \\cdot b)$$\n",
    "\n",
    "Такая модель на выходе даёт значение из интервала $[0, 1]$, которое интерпретируется как вероятность объекта $x$ принадлежать классу $1$. Как правило, дальше по некоторому пороговому значению $t$ принимается решение о том, к какому классу причислять объект:\n",
    "$$y = \\begin{cases} 1, & P(y = 1|x) \\geq t, \\\\ 0 & \\text{иначе.} \\end{cases}$$\n",
    "\n",
    "В силу своей линейной природы модель логистической регрессии вместе с пороговым значением $t$ представляет собой __разделяющую гиперплоскость__, т.е. $(m-1)$-мерную плоскость (в $m$-мерном пространстве признаков). Такие гиперплоскости _делят пространство пополам_, т.е. любой объект оказывается либо с одной, либо с другой стороны от этой плоскости. В зависимости от того, в какую половину пространства попадает объект, ему приписывается метка класса $0$ или $1$.\n",
    "\n",
    "Посчитаем, как именно это делается. Для порогового значения $t$ уравнение разделяющей гиперплоскости имеет вид:\n",
    "$$t = \\sigma(b_0 + b_1 x_1 + \\dots + b_m x_m),$$\n",
    "откуда, избавляясь от сигмоиды, получаем:\n",
    "$$b_0 + b_1 x_1 + \\dots + b_m x_m = C,$$\n",
    "где $C = \\ln t - \\ln (1 - t)$. Такое уравнение и задаёт плоскость. Принятие решения о метке класса для объекта $x$ выглядит теперь следующим образом:\n",
    "$$y = \\begin{cases} 1, & b_0 + b_1 x_1 + \\dots + b_m x_m \\geq C, \\\\ 0 & \\text{иначе.} \\end{cases}$$"
   ]
  },
  {
   "cell_type": "markdown",
   "metadata": {},
   "source": [
    "__Пример 4__\n",
    "\n",
    "Продолжая пример 3, для подобранных нами параметров получим вектор из предсказанных значений $z = \\sigma(X \\cdot b)$."
   ]
  },
  {
   "cell_type": "code",
   "execution_count": 110,
   "metadata": {},
   "outputs": [
    {
     "name": "stdout",
     "output_type": "stream",
     "text": [
      "[0.4908259  0.73726484 0.68102051 0.58385091 0.5958714  0.66312724\n",
      " 0.58294627 0.69743985 0.64096654 0.66521849]\n"
     ]
    }
   ],
   "source": [
    "z = x.dot(b)\n",
    "\n",
    "z = np.array([sigmoid(z_i) for z_i in z])\n",
    "\n",
    "print(z)"
   ]
  },
  {
   "cell_type": "code",
   "execution_count": 111,
   "metadata": {},
   "outputs": [
    {
     "data": {
      "text/plain": [
       "array([0, 1, 0, 0, 0, 1, 1, 1, 1, 1])"
      ]
     },
     "execution_count": 111,
     "metadata": {},
     "output_type": "execute_result"
    }
   ],
   "source": [
    "y"
   ]
  },
  {
   "cell_type": "markdown",
   "metadata": {},
   "source": [
    "Для нескольких значений $t$ построим разделяющую гиперплоскость и посмотрим, насколько она хорошо разделяет объекты. Набор параметров модели у нас получился такой:"
   ]
  },
  {
   "cell_type": "code",
   "execution_count": 112,
   "metadata": {},
   "outputs": [
    {
     "data": {
      "text/plain": [
       "array([-0.03670051,  0.41548189,  0.65301927])"
      ]
     },
     "execution_count": 112,
     "metadata": {},
     "output_type": "execute_result"
    }
   ],
   "source": [
    "b"
   ]
  },
  {
   "cell_type": "markdown",
   "metadata": {},
   "source": [
    "Первый параметр здесь свободный, второй отвечает за ось $Ox$, третий — за ось $Oy$. Для конкретного порогового значения $t$ уравнение разделяющей гиперплоскости (в нашем случае это прямая) будет иметь следующий вид:\n",
    "$$b_0 + b_1 x + b_2 y = C,$$\n",
    "где $C = \\ln t - \\ln (1 - t)$. Отсюда получаем в более привычном виде функцию:\n",
    "$$y = \\dfrac{C - b_0 - b_1 x}{b_2}$$\n",
    "Эта функция задаёт прямую. Точки $(x, y)$, для которых $y \\geq \\dfrac{C - b_0 - b_1 x}{b_2}$, причисляем к классу $1$ (красный), остальные — к классу $0$ (синий)."
   ]
  },
  {
   "cell_type": "code",
   "execution_count": 119,
   "metadata": {},
   "outputs": [
    {
     "data": {
      "text/plain": [
       "array([0.58685604, 0.65204689, 0.67707001])"
      ]
     },
     "execution_count": 119,
     "metadata": {},
     "output_type": "execute_result"
    }
   ],
   "source": []
  },
  {
   "cell_type": "code",
   "execution_count": 122,
   "metadata": {},
   "outputs": [
    {
     "data": {
      "image/png": "[encoded data removed]",
      "text/plain": [
       "<Figure size 864x288 with 3 Axes>"
      ]
     },
     "metadata": {},
     "output_type": "display_data"
    }
   ],
   "source": [
    "ts = np.quantile(z, [0.25, 0.5, 0.75])\n",
    "\n",
    "fig, axes = plt.subplots(ncols=len(ts))\n",
    "fig.set_size_inches(4 * len(ts), 4)\n",
    "axes = axes.flatten()\n",
    "\n",
    "fig.suptitle('Разделяющие прямые для наших коэффициентов')\n",
    "\n",
    "for t, ax in zip(ts, axes):\n",
    "    c = np.log(t) - np.log(1 - t)\n",
    "    \n",
    "    ox = np.linspace(-2, 2, 100)\n",
    "    oy = (c - b[0] - b[1] * ox) / b[2]\n",
    "    \n",
    "    ax.fill_between(ox, oy, oy + 10, color='C3', alpha=0.25)\n",
    "    ax.fill_between(ox, oy, oy - 10, color='C0', alpha=0.25)\n",
    "    \n",
    "    ax.scatter(samples[:, 0], samples[:, 1], color=color)\n",
    "    \n",
    "    ax.set_title(f't = {round(t, 2)}')\n",
    "    ax.set_xlim(-0.1, 1.1)\n",
    "    ax.set_ylim(-0.1, 1.1)"
   ]
  },
  {
   "cell_type": "markdown",
   "metadata": {},
   "source": [
    "Кстати, давайте сделаем то же самое для коэффициентов, полученных с помощью `sklearn`."
   ]
  },
  {
   "cell_type": "code",
   "execution_count": 123,
   "metadata": {},
   "outputs": [
    {
     "data": {
      "image/png": "[encoded data removed]",
      "text/plain": [
       "<Figure size 864x288 with 3 Axes>"
      ]
     },
     "metadata": {},
     "output_type": "display_data"
    }
   ],
   "source": [
    "fig, axes = plt.subplots(ncols=len(ts))\n",
    "fig.set_size_inches(4 * len(ts), 4)\n",
    "axes = axes.flatten()\n",
    "\n",
    "fig.suptitle('Разделяющие прямые для коэффициентов из sklearn')\n",
    "\n",
    "for t, ax in zip(ts, axes):\n",
    "    c = np.log(t) - np.log(1 - t)\n",
    "    \n",
    "    ox = np.linspace(-2, 2, 100)\n",
    "    oy = (c - b_sklearn[0] - b_sklearn[1] * ox) / b_sklearn[2]\n",
    "    \n",
    "    ax.fill_between(ox, oy, oy + 10, color='C3', alpha=0.25)\n",
    "    ax.fill_between(ox, oy, oy - 10, color='C0', alpha=0.25)\n",
    "    \n",
    "    ax.scatter(samples[:, 0], samples[:, 1], color=color)\n",
    "    \n",
    "    ax.set_title(f't = {round(t, 2)}')\n",
    "    ax.set_xlim(-0.1, 1.1)\n",
    "    ax.set_ylim(-0.1, 1.1)"
   ]
  },
  {
   "cell_type": "markdown",
   "metadata": {},
   "source": [
    "__Оценка модели логистической регрессии__\n",
    "\n",
    "Для оценки качества классификации (как бинарной, так и многоклассовой) чаще всего используется метрика __accuracy__ (__точность__), которая равна доле верных классификаций.\n",
    "\n",
    "Пусть $y$ — массив из реальных меток объектов, а $z$ — предсказанные моделью метки. Тогда значение метрики accuracy можно записать следующим образом:\n",
    "$$accuracy = \\dfrac{1}{n} \\displaystyle\\sum_{i = 1}^n I_{y_i = z_i},$$\n",
    "где $I_A$ — _индикатор_:\n",
    "$$I_A = \\begin{cases} 1, & \\text{$A$ истинно,} \\\\ 0 & \\text{иначе.} \\end{cases}$$"
   ]
  },
  {
   "cell_type": "markdown",
   "metadata": {},
   "source": [
    "Например, вычислим точность построенной нами модели при использовании порогового значения $t = 0.6$."
   ]
  },
  {
   "cell_type": "code",
   "execution_count": 136,
   "metadata": {},
   "outputs": [
    {
     "data": {
      "text/plain": [
       "array([0, 1, 1, 0, 0, 1, 0, 1, 1, 1])"
      ]
     },
     "execution_count": 136,
     "metadata": {},
     "output_type": "execute_result"
    }
   ],
   "source": [
    "z_ = (z >= 0.6).astype(int)\n",
    "z_"
   ]
  },
  {
   "cell_type": "code",
   "execution_count": 137,
   "metadata": {},
   "outputs": [
    {
     "data": {
      "text/plain": [
       "array([ True,  True, False,  True,  True,  True, False,  True,  True,\n",
       "        True])"
      ]
     },
     "execution_count": 137,
     "metadata": {},
     "output_type": "execute_result"
    }
   ],
   "source": [
    "y == z_"
   ]
  },
  {
   "cell_type": "code",
   "execution_count": 138,
   "metadata": {},
   "outputs": [
    {
     "data": {
      "text/plain": [
       "0.8"
      ]
     },
     "execution_count": 138,
     "metadata": {},
     "output_type": "execute_result"
    }
   ],
   "source": [
    "(y == z_).sum() / y.shape[0]"
   ]
  },
  {
   "cell_type": "markdown",
   "metadata": {},
   "source": [
    "### Упражнения"
   ]
  },
  {
   "cell_type": "markdown",
   "metadata": {},
   "source": [
    "__Задача 1__\n",
    "\n",
    "Объясняемая переменная `y` зависит от двух категориальных факторов `A` и `B`, причём фактор `A` имеет 3 уровня, а фактор `B` - 4 уровня. Результаты наблюдений приведены в таблице:\n",
    "\n",
    "```\n",
    "y = [[2.68, 3.29, 2.88, 4.45],\n",
    "     [4.12, 4.96, 5.09, 5.22],\n",
    "     [5.52, 4.50, 5.42, 5.29]]\n",
    "```\n",
    "\n",
    "С помощью двухфакторного дисперсионного анализа проверьте влияние каждого из факторов на переменную `y`.\n",
    "\n",
    "__Задача 2__\n",
    "\n",
    "Дана матрица объект-признак\n",
    "```\n",
    "X = [[ 2.09308159,  0.71380573],\n",
    "     [ 0.66525232,  0.8770613 ],\n",
    "     [-0.21359114, -0.03137365],\n",
    "     [ 0.91578743,  1.88102872],\n",
    "     [ 0.58755909, -0.98166375],\n",
    "     [-0.0339878 , -0.14076542],\n",
    "     [ 0.4782407 ,  0.12930087],\n",
    "     [ 2.27648069,  1.72403913],\n",
    "     [ 1.39338613,  1.35664585],\n",
    "     [ 0.55780653,  1.73872387],\n",
    "     [-0.08619675, -0.11511676],\n",
    "     [ 1.24724523,  0.89182385],\n",
    "     [ 0.51416195,  2.42679632],\n",
    "     [ 1.4153073 ,  0.41169349],\n",
    "     [ 2.47365973,  1.64289268]]\n",
    "```\n",
    "и столбец с метками классов этих объектов\n",
    "```\n",
    "y = [0, 1, 2, 1, 2, 2, 2, 0, 0, 1, 2, 1, 1, 0, 0]\n",
    "```\n",
    "\n",
    "В случае, когда классов больше двух, построить модель логистической регрессии в её обычном виде не получается. Для таких ситуаций существуют различные подходы, один из которых мы и рассмотрим, а именно подход _One vs. rest_. В нашей ситуации его можно описать так:\n",
    "1. Поскольку у нас имеется 3 класса, построим 3 модели логистической регрессии, причём `i`-ю модель будем обучать на \"бинаризированных данных\", в которой метку 1 получают объекты из `i`-го класса, а остальные получают метку 0.\n",
    "2. Теперь, имея некоторый объект `x`, на выходе каждой модели мы получим вероятность этого объекта принадлежать к `i`-му классу. Будем причислять этот объект к тому классу, для которого такая вероятность максимальна.\n",
    "\n",
    "Итак, реализуйте на имеющихся данных подход One vs. rest. Оцените качество получившейся модели с помощью метрики accuracy.\n",
    "\n",
    "__Задача 3__\n",
    "\n",
    "Прикрепите ссылку на курсовой проект на `github` (см. выбор темы в ДЗ к Уроку 6)."
   ]
  },
  {
   "cell_type": "code",
   "execution_count": null,
   "metadata": {},
   "outputs": [],
   "source": []
  }
 ],
 "metadata": {
  "colab": {
   "name": "Матстат - Урок 8.ipynb",
   "provenance": [],
   "version": "0.3.2"
  },
  "kernelspec": {
   "display_name": "Python 3",
   "language": "python",
   "name": "python3"
  },
  "language_info": {
   "codemirror_mode": {
    "name": "ipython",
    "version": 3
   },
   "file_extension": ".py",
   "mimetype": "text/x-python",
   "name": "python",
   "nbconvert_exporter": "python",
   "pygments_lexer": "ipython3",
   "version": "3.7.7"
  }
 },
 "nbformat": 4,
 "nbformat_minor": 4
}
