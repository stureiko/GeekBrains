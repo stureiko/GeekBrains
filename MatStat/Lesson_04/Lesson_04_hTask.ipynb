{
 "cells": [
  {
   "cell_type": "markdown",
   "metadata": {},
   "source": [
    "# Author: Стурейко Игорь\n",
    "## Project: Geekbrains.MatStat\n",
    "## Lesson 04 - Непрерывное распределение\n",
    "## Date: 2020-07-03"
   ]
  },
  {
   "cell_type": "code",
   "execution_count": 3,
   "metadata": {},
   "outputs": [],
   "source": [
    "import numpy as np\n",
    "from scipy import stats\n",
    "from matplotlib import pyplot as plt"
   ]
  },
  {
   "cell_type": "markdown",
   "metadata": {},
   "source": [
    "## 1. О непрерывной равномерно распределённой случайной величине B известно, что её дисперсия равна 0.2. Можно ли найти правую границу величины B и её среднее значение зная, что левая граница равна 0.5? Если да, найдите их."
   ]
  },
  {
   "cell_type": "markdown",
   "metadata": {},
   "source": [
    "### Решение:"
   ]
  },
  {
   "cell_type": "markdown",
   "metadata": {},
   "source": [
    "Решить систему уравнений относительно М и b:"
   ]
  },
  {
   "cell_type": "markdown",
   "metadata": {},
   "source": [
    "$$\\begin{cases}\n",
    "\\displaystyle M=\\frac{0.5+b}{2}\\\\\n",
    "\\displaystyle 0.2=\\frac{(b-0.5)^2}{12}\n",
    "\\end{cases} \\Rightarrow \n",
    "\\begin{cases}\n",
    "M = 1 \\pm \\sqrt{0.6}\\\\\n",
    "b = 2(1 \\pm \\sqrt{0.6}) - 12\n",
    "\\end{cases}$$"
   ]
  },
  {
   "cell_type": "markdown",
   "metadata": {},
   "source": [
    "Поскольку $b > a, \\Rightarrow \\begin{cases}\n",
    "M = 1 + \\sqrt{0.6}\\\\\n",
    "b = 2(1 + \\sqrt{0.6}) - 12\n",
    "\\end{cases}$"
   ]
  },
  {
   "cell_type": "markdown",
   "metadata": {},
   "source": [
    "## 2. Коробки с шоколадом упаковываются автоматически. Их средняя масса равна 1.06 кг. Известно, что 5% коробок имеют массу, меньшую 1 кг. Найдите: а) среднее квадратическое отклонение массы коробки, б) процент коробок, имеющих массу больше 1.1 кг.\n",
    "Подсказка. Найдите такое значение scale, для которого значение cdf(x=1, loc=1.06, scale=scale) близко к 0.05. Точности 0.0001 будет достаточно."
   ]
  },
  {
   "cell_type": "markdown",
   "metadata": {},
   "source": [
    "### а) Среднеквадратичное отклонение"
   ]
  },
  {
   "cell_type": "code",
   "execution_count": 34,
   "metadata": {},
   "outputs": [
    {
     "name": "stdout",
     "output_type": "stream",
     "text": [
      "scale = 0.03647764776477648\n"
     ]
    }
   ],
   "source": [
    "for i in np.linspace(0.02, 0.05, 10000):\n",
    "    s = stats.norm.cdf(1, loc=1.06, scale=i)\n",
    "    if s > 0.05:\n",
    "#         print(f'cdf = {s}')\n",
    "        print(f'scale = {i}')\n",
    "        break"
   ]
  },
  {
   "cell_type": "markdown",
   "metadata": {},
   "source": [
    "### b) Процент коробок имеющих массу больше 1.1"
   ]
  },
  {
   "cell_type": "code",
   "execution_count": 47,
   "metadata": {},
   "outputs": [
    {
     "name": "stdout",
     "output_type": "stream",
     "text": [
      "Процент коробок имеющих массу больше 1.1: 13.64%\n"
     ]
    }
   ],
   "source": [
    "p = 1-stats.norm.cdf(1.1, loc=1.06, scale=0.03647764776477648)\n",
    "print(f'Процент коробок имеющих массу больше 1.1: {round(p*100, 2)}%')"
   ]
  },
  {
   "cell_type": "markdown",
   "metadata": {},
   "source": [
    "## 3. Коробка содержит 30 конфет. Известно, что масса каждой конфеты распределена равномерно в промежутке от 12 до 14 граммов. Используя центральную предельную теорему, найти вероятность, что масса всей коробки будет: а) меньше 390 граммов, б) больше 395 граммов, в) от 380 до 400 граммов.\n",
    "Массой самой коробки можно пренебречь."
   ]
  },
  {
   "cell_type": "code",
   "execution_count": 4,
   "metadata": {},
   "outputs": [
    {
     "name": "stdout",
     "output_type": "stream",
     "text": [
      "Мат ожидание для одной конфеты = 13\n",
      "Дисперсия для одной конфеты = 0.3333\n"
     ]
    }
   ],
   "source": [
    "m = 13\n",
    "s = 1/3\n",
    "print(f'Мат ожидание для одной конфеты = {m}')\n",
    "print(f'Дисперсия для одной конфеты = {round(s, 4)}')"
   ]
  },
  {
   "cell_type": "code",
   "execution_count": 6,
   "metadata": {},
   "outputs": [
    {
     "data": {
      "image/png": "[encoded data removed]",
      "text/plain": [
       "<Figure size 432x288 with 1 Axes>"
      ]
     },
     "metadata": {
      "needs_background": "light"
     },
     "output_type": "display_data"
    }
   ],
   "source": [
    "ox = np.linspace(300, 500, 1000)\n",
    "oy = stats.norm.pdf(ox, loc=m*30, scale=np.math.sqrt(30*s))\n",
    "\n",
    "plt.plot(ox, oy)\n",
    "plt.show()"
   ]
  },
  {
   "cell_type": "code",
   "execution_count": 8,
   "metadata": {},
   "outputs": [
    {
     "data": {
      "image/png": "[encoded data removed]",
      "text/plain": [
       "<Figure size 432x288 with 1 Axes>"
      ]
     },
     "metadata": {
      "needs_background": "light"
     },
     "output_type": "display_data"
    }
   ],
   "source": [
    "ox = np.linspace(300, 500, 1000)\n",
    "oy = stats.norm.cdf(ox, loc=m*30, scale=np.math.sqrt(30*s))\n",
    "\n",
    "plt.plot(ox, oy)\n",
    "plt.show()"
   ]
  },
  {
   "cell_type": "code",
   "execution_count": 10,
   "metadata": {},
   "outputs": [
    {
     "name": "stdout",
     "output_type": "stream",
     "text": [
      "а) Вероятность, что масса коробки меньше 390 гр = 50.0%\n",
      "б) Вероятность, что масса коробки больше 390 гр = 5.6899999999999995%\n",
      "в) Вероятность, что масса коробки больше 390 гр = 99.83999999999999%\n"
     ]
    }
   ],
   "source": [
    "print(f'а) Вероятность, что масса коробки меньше 390 гр = {stats.norm.cdf(390, loc=m*30, scale=np.math.sqrt(30*s))*100}%')\n",
    "print(f'б) Вероятность, что масса коробки больше 390 гр = {round(1-stats.norm.cdf(395, loc=m*30, scale=np.math.sqrt(30*s)), 4)*100}%')\n",
    "print(f'в) Вероятность, что масса коробки больше 390 гр = {round(stats.norm.cdf(400, loc=m*30, scale=np.math.sqrt(30*s)) - stats.norm.cdf(380, loc=m*30, scale=np.math.sqrt(30*s)), 4)*100}%')"
   ]
  },
  {
   "cell_type": "code",
   "execution_count": null,
   "metadata": {},
   "outputs": [],
   "source": []
  }
 ],
 "metadata": {
  "kernelspec": {
   "display_name": "Python 3",
   "language": "python",
   "name": "python3"
  },
  "language_info": {
   "codemirror_mode": {
    "name": "ipython",
    "version": 3
   },
   "file_extension": ".py",
   "mimetype": "text/x-python",
   "name": "python",
   "nbconvert_exporter": "python",
   "pygments_lexer": "ipython3",
   "version": "3.7.7"
  }
 },
 "nbformat": 4,
 "nbformat_minor": 4
}
