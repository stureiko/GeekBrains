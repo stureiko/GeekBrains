{
 "cells": [
  {
   "cell_type": "markdown",
   "metadata": {},
   "source": [
    "# Author: Стурейко Игорь\n",
    "## Project: Geekbrains.MatStat\n",
    "## Lesson 06 - Взаимосвязь величин. Показатели корреляции. Корреляционный анализ. Проверка на нормальность\n",
    "## Date: 2020-07-08"
   ]
  },
  {
   "cell_type": "code",
   "execution_count": 17,
   "metadata": {},
   "outputs": [],
   "source": [
    "import numpy as np\n",
    "import pandas as pd\n",
    "from matplotlib import pyplot as plt"
   ]
  },
  {
   "cell_type": "markdown",
   "metadata": {},
   "source": [
    "## 1. Даны значения величины заработной платы заемщиков банка (`salary`) и значения их поведенческого кредитного скоринга (`scoring`):\n",
    "```\n",
    "salary = [35, 45, 190, 200, 40, 70, 54, 150, 120, 110]\n",
    "scoring = [401, 574, 874, 919, 459, 739, 653, 902, 746, 832]\n",
    "```\n",
    "Используя только встроенные питоновские функции и структуры данных (т.е. без библиотек `numpy`, `pandas` и др.) найдите:\n",
    "1. ковариацию (смещённую и несмещённую) этих двух величин,\n",
    "2. коэффициент корреляции Пирсона.\n",
    "\n",
    "Можно затем посчитать те же значения с использованием библиотек, чтобы проверить себя."
   ]
  },
  {
   "cell_type": "code",
   "execution_count": 18,
   "metadata": {},
   "outputs": [
    {
     "name": "stdout",
     "output_type": "stream",
     "text": [
      "Смещенная совариация 9157.84\n",
      "Несмещенная ковариация 10175.37777777778\n",
      "Несмещенная ковариация (библиотека) 10175.377777777776\n",
      "Коэффициент корреляции Пирсона 0.8874900920739164\n",
      "Коэффициент корреляции Пирсона (библиотека) 0.8874900920739162\n"
     ]
    }
   ],
   "source": [
    "salary = np.array([35, 45, 190, 200, 40, 70, 54, 150, 120, 110])\n",
    "scoring = np.array([401, 574, 874, 919, 459, 739, 653, 902, 746, 832])\n",
    "M_sal = salary.mean()\n",
    "M_score = scoring.mean()\n",
    "\n",
    "cov_unbiased = ((salary - M_sal) * (scoring - M_score)).sum() / (salary.shape[0] - 1) # несмещенная ковариация\n",
    "cov_biased = ((salary - M_sal) * (scoring - M_score)).sum() / (salary.shape[0]) # смещенная ковариация\n",
    "cov_np = np.cov(salary, scoring, ddof=1) # матрица ковариаций\n",
    "corr = cov_unbiased / (salary.std(ddof=1) * scoring.std(ddof=1)) # коэффициент корреляции Пирсона\n",
    "\n",
    "print(f'Смещенная совариация {cov_biased}')\n",
    "print(f'Несмещенная ковариация {cov_unbiased}')\n",
    "print(f'Несмещенная ковариация (библиотека) {cov_np[0, 1]}')\n",
    "print(f'Коэффициент корреляции Пирсона {corr}')\n",
    "print(f'Коэффициент корреляции Пирсона (библиотека) {np.corrcoef(salary, scoring)[0, 1]}')"
   ]
  },
  {
   "cell_type": "markdown",
   "metadata": {},
   "source": [
    "## 2. Проведите тест на значимость коэффициента корреляции Пирсона, найденного в предыдущей задаче. \n",
    "Что для этого нужно знать:\n",
    "* Нулевая гипотеза: реальный коэффициент корреляции равен 0. Альтернативная гипотеза двухсторонняя.\n",
    "* Статистика: `t = r * sqrt(n - 2) / sqrt(1 - r ** 2)`, где `r` - коэффициент корреляции Пирсона, посчитанный по выборке.\n",
    "* В предположении верности нулевой гипотезы эта статистика имеет распределение Стьюдента с параметром `df = n - 2`."
   ]
  },
  {
   "cell_type": "code",
   "execution_count": 24,
   "metadata": {},
   "outputs": [],
   "source": [
    "from scipy import stats"
   ]
  },
  {
   "cell_type": "code",
   "execution_count": 42,
   "metadata": {},
   "outputs": [
    {
     "name": "stdout",
     "output_type": "stream",
     "text": [
      "5.447168150485581 -2.262157162740992 2.2621571627409915\n",
      "Значение статистики попадает в критическую область. Нулевая гипотеза отвергается\n",
      "р-значение: 0.0006107546587257318\n"
     ]
    }
   ],
   "source": [
    "n = salary.shape[0]\n",
    "t = corr * np.sqrt(n - 2) / np.sqrt(1 - corr ** 2)\n",
    "a = 0.05\n",
    "print(t, t1, t2)\n",
    "t1 = stats.t.ppf(a / 2, df = n - 1)\n",
    "t2 = stats.t.ppf(1 - a / 2, df = n - 1)\n",
    "if t < t1 or t > t2:\n",
    "    print('Значение статистики попадает в критическую область. Нулевая гипотеза отвергается')\n",
    "else:\n",
    "    print('Значение статистики не попадает в критическую область. Нулевая гипотеза принимается')\n",
    "\n",
    "p_left = stats.t.cdf(t, df = n - 2)\n",
    "p_right = 1 - stats.t.cdf(t, df=n - 2)\n",
    "\n",
    "p_val = 2 * min(p_left, p_right)\n",
    "print(f'р-значение: {p_val}')"
   ]
  },
  {
   "cell_type": "markdown",
   "metadata": {},
   "source": [
    "## 3. Измерены значения IQ выборки студентов, обучающихся в местных технических вузах:\n",
    "```\n",
    "131, 125, 115, 122, 131, 115, 107, 99, 125, 111\n",
    "```\n",
    "Известно, что в генеральной совокупности IQ распределен нормально. Найдите доверительный интервал для математического ожидания с надежностью 0.95."
   ]
  },
  {
   "cell_type": "code",
   "execution_count": 51,
   "metadata": {},
   "outputs": [
    {
     "name": "stdout",
     "output_type": "stream",
     "text": [
      "Выборочное среднее: 118.1\n",
      "Доверительный интервал c надежностью 0.95: (111.89926122656924, 124.30073877343075)\n"
     ]
    }
   ],
   "source": [
    "Stud_iq = np.array([131, 125, 115, 122, 131, 115, 107, 99, 125, 111])\n",
    "n = Stud_iq.shape[0]\n",
    "p = 0.95\n",
    "a = 1-p\n",
    "\n",
    "t1 = stats.norm.ppf(a/2)\n",
    "t2 = stats.norm.ppf(1 - a/2)\n",
    "\n",
    "s1 = (Stud_iq.mean() + t1 * Stud_iq.std() / np.sqrt(n))\n",
    "s2 = (Stud_iq.mean() + t2 * Stud_iq.std() / np.sqrt(n))\n",
    "print(f'Выборочное среднее: {Stud_iq.mean()}')\n",
    "print(f'Доверительный интервал c надежностью {p}: {s1, s2}')"
   ]
  },
  {
   "cell_type": "markdown",
   "metadata": {},
   "source": [
    "## 4. Выберите тему для проектной работы по курсу Теории вероятностей и математической статистики и напишите ее в комментарии к Практическому заданию."
   ]
  },
  {
   "cell_type": "markdown",
   "metadata": {},
   "source": [
    "Проект оценки финансовой устойчивости компании на основании ряда обезличенных показателей.\n",
    "\n",
    "Данные https://www.kaggle.com/shebrahimi/financial-distress?select=Financial+Distress.csv"
   ]
  },
  {
   "cell_type": "code",
   "execution_count": null,
   "metadata": {},
   "outputs": [],
   "source": []
  }
 ],
 "metadata": {
  "kernelspec": {
   "display_name": "Python 3",
   "language": "python",
   "name": "python3"
  },
  "language_info": {
   "codemirror_mode": {
    "name": "ipython",
    "version": 3
   },
   "file_extension": ".py",
   "mimetype": "text/x-python",
   "name": "python",
   "nbconvert_exporter": "python",
   "pygments_lexer": "ipython3",
   "version": "3.7.7"
  }
 },
 "nbformat": 4,
 "nbformat_minor": 4
}
