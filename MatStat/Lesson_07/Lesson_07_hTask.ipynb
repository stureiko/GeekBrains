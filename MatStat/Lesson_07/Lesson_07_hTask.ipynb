{
 "cells": [
  {
   "cell_type": "markdown",
   "metadata": {},
   "source": [
    "# Author: Стурейко Игорь\n",
    "## Project: Geekbrains.MatStat\n",
    "## Lesson 07 - Линейная регрессия. Однофакторный дисперсионный анализ\n",
    "## Date: 2020-07-14"
   ]
  },
  {
   "cell_type": "code",
   "execution_count": 100,
   "metadata": {},
   "outputs": [],
   "source": [
    "import numpy as np\n",
    "import itertools\n",
    "from scipy import stats\n",
    "from matplotlib import pyplot as plt"
   ]
  },
  {
   "cell_type": "markdown",
   "metadata": {},
   "source": [
    "## 1. Дана матрица объект-признак\n",
    "\n",
    "X = [[ 1.22401313, 2.30868478, 3.03636353, 2.69287214],\n",
    "[-0.18757272, 1.30337355, 5.12093014, 3.46363202],\n",
    "[-0.81094525, 1.82463398, 5.79686488, 1.86159445],\n",
    "[ 0.75129018, 2.67392052, 3.65529809, 1.66746094],\n",
    "[ 0.00972362, 1.97367255, 2.50594319, 1.69755173],\n",
    "[-0.62972637, 0.77750764, 2.84124027, 4.54410559],\n",
    "[ 2.29536229, 1.81206697, 1.95026215, 1.51874636],\n",
    "[ 0.0920418 , 2.26971361, 7.47708735, 2.61081203],\n",
    "[ 2.39252799, 3.17563985, 3.61420599, 5.10773362],\n",
    "[ 0.54983815, 2.87988651, 1.65752765, 1.59635987]]\n",
    "\n",
    "и значения целевой переменной\n",
    "\n",
    "y = [ 9.26193358, 9.700363 , 8.67214805, 8.74796974, 6.18689108,\n",
    "7.53312713, 7.57643777, 12.44965478, 14.29010746, 6.68361218]\n",
    "\n",
    "1. Подберите два признака (из четырёх) так, чтобы уровень линейной зависимости целевой переменной от значений этих признаков был максимальным. Другими словами, модель линейной регрессии на этих признаках должна давать наилучший результат.\n",
    "2. Является ли значимым получившееся уравнение регрессии?"
   ]
  },
  {
   "cell_type": "code",
   "execution_count": 6,
   "metadata": {},
   "outputs": [],
   "source": [
    "X = np.array([[ 1.22401313, 2.30868478, 3.03636353, 2.69287214], [-0.18757272, 1.30337355, 5.12093014, 3.46363202], [-0.81094525, 1.82463398, 5.79686488, 1.86159445], [ 0.75129018, 2.67392052, 3.65529809, 1.66746094], [ 0.00972362, 1.97367255, 2.50594319, 1.69755173], [-0.62972637, 0.77750764, 2.84124027, 4.54410559], [ 2.29536229, 1.81206697, 1.95026215, 1.51874636], [ 0.0920418 , 2.26971361, 7.47708735, 2.61081203], [ 2.39252799, 3.17563985, 3.61420599, 5.10773362], [ 0.54983815, 2.87988651, 1.65752765, 1.59635987]])\n",
    "y = np.array([ 9.26193358, 9.700363 , 8.67214805, 8.74796974, 6.18689108, 7.53312713, 7.57643777, 12.44965478, 14.29010746, 6.68361218])"
   ]
  },
  {
   "cell_type": "code",
   "execution_count": 71,
   "metadata": {},
   "outputs": [
    {
     "name": "stdout",
     "output_type": "stream",
     "text": [
      "Максимальный коэффициент детерминации: 0.7634 при сочетании признаков (0, 2)\n"
     ]
    }
   ],
   "source": [
    "a = np.array(range(X.shape[1])) # массив индексов\n",
    "Res = [(0,0), 0] # результат\n",
    "for s in list(itertools.combinations(a, 2)): #перебираем все комбинации признаков\n",
    "    x1 = X[:, s] # выбираем два признака\n",
    "    x1 = np.hstack((np.ones((x1.shape[0], 1)), x1)) # дополняем единицами\n",
    "    XTX = x1.T.dot(x1) # считаем ХТХ\n",
    "    XTX_inv = np.linalg.inv(XTX) # обращаем \n",
    "    b = XTX_inv.dot(x1.T).dot(y) #считаем коэффициенты\n",
    "    z1 = x1.dot(b) # считаем предсказанные значения\n",
    "    e1 = y - z1 # считаем ошибки\n",
    "    R1 = 1 - e1.var() / y.var() # коэффицент детерминации\n",
    "    if R1 > Res[1]:\n",
    "        Res[0] = s\n",
    "        Res[1] = R1\n",
    "print(f'Максимальный коэффициент детерминации: {round(Res[1], 4)} при сочетании признаков {Res[0]}')"
   ]
  },
  {
   "cell_type": "code",
   "execution_count": 132,
   "metadata": {},
   "outputs": [
    {
     "name": "stdout",
     "output_type": "stream",
     "text": [
      "Статистика попала в критическую область, уравнение регрессии не признаётся значимым.\n"
     ]
    }
   ],
   "source": [
    "n = x1.shape[0] # параметры распределения Фишера\n",
    "m = 1\n",
    "k1 = m \n",
    "k2 = n - m - 1\n",
    "alpha = 0.05 # уровень занчимости по умолчанию\n",
    "t = stats.f.ppf(1 - alpha, k1, k2) # критическая обоасть\n",
    "F = (R1 / k1) / ((1 - R1) / k2) # значение статистики\n",
    "if F > t: \n",
    "    print('Статистика попала в критическую область, уравнение регрессии не признаётся значимым.')\n",
    "else:\n",
    "    print('Статистика не попала в критическую область, уравнение регрессии описывает зависимость данных.')"
   ]
  },
  {
   "cell_type": "markdown",
   "metadata": {},
   "source": [
    "## 2. Для проведения A/B-тестирования сайта интернет-магазина были получены следующие данные: страница A была посещена 2509 раз, из них 77 закончились совершением покупки, страница B была посещена 1465 раз, 60 из них закончились совершением покупки. Является ли значимым отличие конверсии на страницах A и B?"
   ]
  },
  {
   "cell_type": "markdown",
   "metadata": {},
   "source": [
    "Предполагаю, что нужно посчитать попадание статистики в критическую область определенной по конверсии. НО прошу Вас на разборе обсудить этот момент подробнее."
   ]
  },
  {
   "cell_type": "code",
   "execution_count": 140,
   "metadata": {},
   "outputs": [
    {
     "name": "stdout",
     "output_type": "stream",
     "text": [
      "con_A:0.0307, con_B:0.041, con_AB:0.0345\n",
      "Нулевая гипотеза подтвердилась, конверсия не является значимой\n"
     ]
    }
   ],
   "source": [
    "alpha = 0.05 # уровень занчимости по умолчанию\n",
    "A = 2509\n",
    "a = 77\n",
    "B = 1465\n",
    "b=60\n",
    "\n",
    "# Конверсия\n",
    "con_aA = a / A\n",
    "con_bB = b / B\n",
    "con_AB = (a + b) / (A + B)\n",
    "print(f'con_A:{round(con_A, 4)}, con_B:{round(con_B, 4)}, con_AB:{round(con_AB, 4)}')\n",
    "\n",
    "F = con_AB / con_aA    # Статистика\n",
    "\n",
    "# Критическая область\n",
    "t1 = stats.norm.ppf(alpha/2)\n",
    "t2 = stats.norm.ppf(1 - alpha/2)\n",
    "\n",
    "if F < t1 or F > t2:\n",
    "    print('Отличие является значимым')\n",
    "else:\n",
    "    print('Нулевая гипотеза подтвердилась, конверсия не является значимой')"
   ]
  },
  {
   "cell_type": "markdown",
   "metadata": {},
   "source": [
    "## 3. Квартет Энскомба — популярный в области анализа данных пример наборов данных, у которых практически совпадают все статистические свойства (средние, дисперсии, коэффициенты корреляции, регрессионные линии), однако, существенно отличаются графики. Данный пример призван показать, насколько важна визуализация данных. Датасет представляет собой 4 пары выборок:\n",
    "{\n",
    "    \"x1\": [10.0, 8.0, 13.0, 9.0, 11.0, 14.0, 6.0, 4.0, 12.0, 7.0, 5.0],\n",
    "    \"y1\": [8.04, 6.95, 7.58, 8.81, 8.33, 9.96, 7.24, 4.26, 10.84, 4.82, 5.68],\n",
    "    \"x2\": [10.0, 8.0, 13.0, 9.0, 11.0, 14.0, 6.0, 4.0, 12.0, 7.0, 5.0],\n",
    "    \"y2\": [9.14, 8.14, 8.74, 8.77, 9.26, 8.1, 6.13, 3.1, 9.13, 7.26, 4.74],\n",
    "    \"x3\": [10.0, 8.0, 13.0, 9.0, 11.0, 14.0, 6.0, 4.0, 12.0, 7.0, 5.0],\n",
    "    \"y3\": [7.46, 6.77, 12.74, 7.11, 7.81, 8.84, 6.08, 5.39, 8.15, 6.42, 5.73],\n",
    "    \"x4\": [8.0, 8.0, 8.0, 8.0, 8.0, 8.0, 8.0, 19.0, 8.0, 8.0, 8.0],\n",
    "    \"y4\": [6.58, 5.76, 7.71, 8.84, 8.47, 7.04, 5.25, 12.5, 5.56, 7.91, 6.89]\n",
    "}\n",
    "\n",
    "По каждой паре выборок посчитайте:\n",
    "* выборочное среднее и дисперсию каждой выборки,\n",
    "* коэффициент корреляции Пирсона и прямую линейной регрессии.\n",
    "\n",
    "Убедившись в том, что они не практически не отличаются, постройте scatter plot по каждой паре выборок."
   ]
  },
  {
   "cell_type": "code",
   "execution_count": 75,
   "metadata": {},
   "outputs": [],
   "source": [
    "s = { \"x1\": [10.0, 8.0, 13.0, 9.0, 11.0, 14.0, 6.0, 4.0, 12.0, 7.0, 5.0], \"y1\": [8.04, 6.95, 7.58, 8.81, 8.33, 9.96, 7.24, 4.26, 10.84, 4.82, 5.68], \"x2\": [10.0, 8.0, 13.0, 9.0, 11.0, 14.0, 6.0, 4.0, 12.0, 7.0, 5.0], \"y2\": [9.14, 8.14, 8.74, 8.77, 9.26, 8.1, 6.13, 3.1, 9.13, 7.26, 4.74], \"x3\": [10.0, 8.0, 13.0, 9.0, 11.0, 14.0, 6.0, 4.0, 12.0, 7.0, 5.0], \"y3\": [7.46, 6.77, 12.74, 7.11, 7.81, 8.84, 6.08, 5.39, 8.15, 6.42, 5.73], \"x4\": [8.0, 8.0, 8.0, 8.0, 8.0, 8.0, 8.0, 19.0, 8.0, 8.0, 8.0], \"y4\": [6.58, 5.76, 7.71, 8.84, 8.47, 7.04, 5.25, 12.5, 5.56, 7.91, 6.89] }"
   ]
  },
  {
   "cell_type": "code",
   "execution_count": 98,
   "metadata": {},
   "outputs": [
    {
     "name": "stdout",
     "output_type": "stream",
     "text": [
      "Среднее x1: 9.0, среднее y1: 7.5\n",
      "Дисперсия x1: 9.0, дисперсия y1: 7.5\n",
      "Коэффициент корреляции Пирсона: 0.8164\n",
      "Коэффициенты линейной регрессии: b0 = 3.0001, b1 = 0.5001\n",
      "\n",
      "Среднее x2: 9.0, среднее y2: 7.5\n",
      "Дисперсия x2: 9.0, дисперсия y2: 7.5\n",
      "Коэффициент корреляции Пирсона: 0.8162\n",
      "Коэффициенты линейной регрессии: b0 = 3.0009, b1 = 0.5\n",
      "\n",
      "Среднее x3: 9.0, среднее y3: 7.5\n",
      "Дисперсия x3: 9.0, дисперсия y3: 7.5\n",
      "Коэффициент корреляции Пирсона: 0.8163\n",
      "Коэффициенты линейной регрессии: b0 = 3.0025, b1 = 0.4997\n",
      "\n",
      "Среднее x4: 9.0, среднее y4: 7.5\n",
      "Дисперсия x4: 9.0, дисперсия y4: 7.5\n",
      "Коэффициент корреляции Пирсона: 0.8165\n",
      "Коэффициенты линейной регрессии: b0 = 3.0017, b1 = 0.4999\n",
      "\n"
     ]
    }
   ],
   "source": [
    "for i in range(1, 5):\n",
    "    x = np.array(s[\"x\"+str(i)])\n",
    "    y = np.array(s[\"y\"+str(i)])\n",
    "    print(f'Среднее x{i}: {x.mean()}, среднее y{i}: {round(y.mean(), 2)}')\n",
    "    print(f'Дисперсия x{i}: {x.mean()}, дисперсия y{i}: {round(y.mean(), 2)}')\n",
    "    print(f'Коэффициент корреляции Пирсона: {round(np.corrcoef(x, y)[0, 1], 4)}')\n",
    "    b1 = np.cov(x, y, ddof=0)[0, 1] / np.var(x, ddof=0)\n",
    "    b0 = y.mean() - b1 * x.mean()\n",
    "    print(f'Коэффициенты линейной регрессии: b0 = {round(b0, 4)}, b1 = {round(b1, 4)}\\n')"
   ]
  },
  {
   "cell_type": "code",
   "execution_count": 123,
   "metadata": {},
   "outputs": [
    {
     "data": {
      "image/png": "[encoded data removed]",
      "text/plain": [
       "<Figure size 432x288 with 1 Axes>"
      ]
     },
     "metadata": {
      "needs_background": "light"
     },
     "output_type": "display_data"
    }
   ],
   "source": [
    "fig = plt.figure()\n",
    "col = ['r', 'b', 'g', 'y']\n",
    "for i in range(1, 5):\n",
    "    x = np.array(s[\"x\"+str(i)])\n",
    "    y = np.array(s[\"y\"+str(i)])\n",
    "    plt.scatter(x, y, c=col[i-1])\n",
    "plt.show()"
   ]
  },
  {
   "cell_type": "code",
   "execution_count": 124,
   "metadata": {},
   "outputs": [
    {
     "data": {
      "image/png": "[encoded data removed]",
      "text/plain": [
       "<Figure size 648x1728 with 4 Axes>"
      ]
     },
     "metadata": {
      "needs_background": "light"
     },
     "output_type": "display_data"
    }
   ],
   "source": [
    "fig = plt.figure()\n",
    "fig.set_size_inches(9, 24)\n",
    "col = ['r', 'b', 'g', 'y']\n",
    "for i in range(1, 5):\n",
    "    ax = fig.add_subplot(4, 1, i)\n",
    "    x = np.array(s[\"x\"+str(i)])\n",
    "    y = np.array(s[\"y\"+str(i)])\n",
    "    ax.scatter(x, y, c=col[i-1])\n",
    "    ax.set(title = \"y\"+str(i))\n",
    "    ax.set(xlabel = \"x\"+str(i))\n",
    "    ax.set(ylabel = \"y\"+str(i))\n",
    "plt.show()"
   ]
  },
  {
   "cell_type": "code",
   "execution_count": null,
   "metadata": {},
   "outputs": [],
   "source": []
  }
 ],
 "metadata": {
  "kernelspec": {
   "display_name": "Python 3",
   "language": "python",
   "name": "python3"
  },
  "language_info": {
   "codemirror_mode": {
    "name": "ipython",
    "version": 3
   },
   "file_extension": ".py",
   "mimetype": "text/x-python",
   "name": "python",
   "nbconvert_exporter": "python",
   "pygments_lexer": "ipython3",
   "version": "3.7.7"
  }
 },
 "nbformat": 4,
 "nbformat_minor": 4
}
