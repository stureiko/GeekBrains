{
 "cells": [
  {
   "cell_type": "markdown",
   "metadata": {},
   "source": [
    "# Author: Стурейко Игорь\n",
    "## Project: Geekbrains.MatStat\n",
    "## Lesson 02 - Закон распределения вероятностей. Биномиальный закон распределения. Распределение Пуассона\n",
    "## Date: 2020-06-25"
   ]
  },
  {
   "cell_type": "markdown",
   "metadata": {},
   "source": [
    "## 1. Контрольная работа состоит из пяти вопросов. На каждый вопрос приведено четыре варианта ответа, один из которых правильный. Составьте закон распределения числа правильных ответов при простом угадывании. Найдите M(X), D(X)."
   ]
  },
  {
   "cell_type": "markdown",
   "metadata": {},
   "source": [
    "Испытание - ответ на вопрос. Вероятность угадать р = 1/4. Итоговое распределение биноминальное с параметрами $n=5$ и $p=0.25$ $P(X)=C_n^kp^k(1-p)^{n-k}$, тогда $M=np=5\\cdot 0.25=1\\frac{1}{4}$, $D=np(1-p)=5\\cdot \\frac{1}{4} \\cdot \\frac{3}{4}=\\frac{15}{16}$"
   ]
  },
  {
   "cell_type": "markdown",
   "metadata": {},
   "source": [
    "## 2. Пользователь получает в среднем 10 писем со спамом на свой почтовый ящик за сутки. Найти число N, такое, что с вероятностью 0.95 пользователь получит не более N писем со спамом за текущий день."
   ]
  },
  {
   "cell_type": "markdown",
   "metadata": {},
   "source": [
    "Поскольку пользователь получает 10 писем за сутки то будем искать вероятность в виде:"
   ]
  },
  {
   "cell_type": "markdown",
   "metadata": {},
   "source": [
    "$$P_t(k)=\\frac{(\\lambda t)^k }{k!}e^{-10t}$$"
   ]
  },
  {
   "cell_type": "markdown",
   "metadata": {},
   "source": [
    "где $t$ время от суток, в данном случае день = 1/2 суток. Вероятность составляет 0.95, т.е нужно решить уравнение относительно $k$, при $\\lambda=10$"
   ]
  },
  {
   "cell_type": "markdown",
   "metadata": {},
   "source": [
    "$$\\frac{5^{k}}{k!}e^{-5}=0.95$$"
   ]
  },
  {
   "cell_type": "markdown",
   "metadata": {},
   "source": [
    "\"не более\" означает, что мы должны сложить вероятности получит одно письмо, два письма и т.д до достижения 0.95"
   ]
  },
  {
   "cell_type": "code",
   "execution_count": 9,
   "metadata": {},
   "outputs": [
    {
     "name": "stdout",
     "output_type": "stream",
     "text": [
      "Число писем: 9\n"
     ]
    }
   ],
   "source": [
    "import numpy as np\n",
    "from matplotlib import pyplot as plt\n",
    "\n",
    "k = np.arange(0, 20)\n",
    "p = []\n",
    "res = 0\n",
    "for i in k:\n",
    "    y = (5**i)*np.exp(-5)/np.math.factorial(i)\n",
    "    res += y\n",
    "    p.append(res)\n",
    "    if res > 0.95: \n",
    "        print(f'Число писем: {i}')\n",
    "        break"
   ]
  },
  {
   "cell_type": "markdown",
   "metadata": {},
   "source": [
    "## 3. Производятся выстрелы по мишени. Вероятность попадания в мишень при одном выстреле равна 0.01. Сколько выстрелов нужно сделать чтобы быть уверенным с вероятностью 0.9, что хотя бы 6 раз будет совершено попадание?\n",
    "Подсказка. 1) \"Вероятность попасть k раз при n выстрелах\" - на какое распределение это похоже? 2) А если нам нужна вероятность P(X >= k), а не P(X = k)? 3) Здесь предстоит немножко покодить."
   ]
  },
  {
   "cell_type": "markdown",
   "metadata": {},
   "source": [
    "Вероятность попасть k раз при n выстрелах: распределение Бернулли. Нам нужно не менее 6, т.е достаточно 6 и все где больше, т.е найти сумму вероятностей: $P(X=6)+P(X=7)+ ... + P(X=n)$"
   ]
  },
  {
   "cell_type": "code",
   "execution_count": 2,
   "metadata": {},
   "outputs": [],
   "source": [
    "import numpy as np\n",
    "def combinations(n: int, k: int) -> int:\n",
    "    \"\"\"Число сочетаний.\n",
    "    \"\"\"\n",
    "    \n",
    "    return np.math.factorial(n) // (np.math.factorial(k) * np.math.factorial(n - k))"
   ]
  },
  {
   "cell_type": "code",
   "execution_count": 10,
   "metadata": {},
   "outputs": [
    {
     "name": "stdout",
     "output_type": "stream",
     "text": [
      "i = 926, j = 21, p = 0.9001270270721216\n"
     ]
    }
   ],
   "source": [
    "p = 0.01\n",
    "for i in range(6, 1000):\n",
    "    res = 0\n",
    "    for j in range(6, i):\n",
    "        res += combinations(i, j)*p**j*(1-p)**(i-j)\n",
    "        if res > 0.90:\n",
    "            print(f'i = {i}, j = {j}, p = {res}')\n",
    "            break\n",
    "    if res > 0.9: break"
   ]
  },
  {
   "cell_type": "code",
   "execution_count": null,
   "metadata": {},
   "outputs": [],
   "source": []
  }
 ],
 "metadata": {
  "kernelspec": {
   "display_name": "Python 3",
   "language": "python",
   "name": "python3"
  },
  "language_info": {
   "codemirror_mode": {
    "name": "ipython",
    "version": 3
   },
   "file_extension": ".py",
   "mimetype": "text/x-python",
   "name": "python",
   "nbconvert_exporter": "python",
   "pygments_lexer": "ipython3",
   "version": "3.7.7"
  },
  "latex_envs": {
   "LaTeX_envs_menu_present": true,
   "autoclose": false,
   "autocomplete": true,
   "bibliofile": "biblio.bib",
   "cite_by": "apalike",
   "current_citInitial": 1,
   "eqLabelWithNumbers": true,
   "eqNumInitial": 1,
   "hotkeys": {
    "equation": "Ctrl-E",
    "itemize": "Ctrl-I"
   },
   "labels_anchors": false,
   "latex_user_defs": false,
   "report_style_numbering": false,
   "user_envs_cfg": false
  }
 },
 "nbformat": 4,
 "nbformat_minor": 4
}
